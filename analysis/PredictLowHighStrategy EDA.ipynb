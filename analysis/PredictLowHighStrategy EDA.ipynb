{
 "cells": [
  {
   "cell_type": "markdown",
   "metadata": {},
   "source": [
    "# Predict low, high strategy  EDA"
   ]
  },
  {
   "cell_type": "markdown",
   "metadata": {},
   "source": [
    "To install conda and binance packages to this notebook uncomment the code below"
   ]
  },
  {
   "cell_type": "code",
   "execution_count": 1,
   "metadata": {
    "scrolled": false
   },
   "outputs": [],
   "source": [
    "%%capture\n",
    "#%conda install -c plotly plotly=5.9.0\n",
    "#%conda install pip\n",
    "#%conda install twisted\n",
    "%pip install plotly==5.9.0\n",
    "%pip install twisted\n",
    "%pip install binance-connector==1.13.0\n",
    "%pip install pandas\n",
    "import pandas as pd\n",
    "pd.set_option('display.max_columns', None)\n",
    "pd.set_option('display.expand_frame_repr', False)\n",
    "pd.set_option('max_colwidth', None)"
   ]
  },
  {
   "cell_type": "code",
   "execution_count": 2,
   "metadata": {},
   "outputs": [],
   "source": [
    "#mode=\"dev\"\n",
    "symbol=\"BTCUSDT\"\n",
    "mode=\"yc\"\n",
    "exchange=\"huobi\"\n",
    "#strategy=\"SimpleKerasStrategy\"\n",
    "strategy=\"LSTMStrategy2\""
   ]
  },
  {
   "cell_type": "code",
   "execution_count": 3,
   "metadata": {
    "scrolled": false
   },
   "outputs": [
    {
     "name": "stdout",
     "output_type": "stream",
     "text": [
      "Downloading pytrade2 data from 158.160.51.213 to /home/dima/projects/pytrade2/deploy/yandex_cloud/../../data/yandex-cloud\n",
      "receiving incremental file list\n",
      "LSTMStrategy/LSTMStrategy.db\n",
      "LSTMStrategy/Xy/2023-06-23_BTC-USDT_X.csv\n",
      "LSTMStrategy/Xy/2023-06-23_BTC-USDT_data.csv\n",
      "LSTMStrategy/Xy/2023-06-23_BTC-USDT_y.csv\n",
      "LSTMStrategy/account/2023-06-23_balance.csv\n",
      "LSTMStrategy/weights/2023-06-23T07:49:05.342896.data-00000-of-00001\n",
      "LSTMStrategy/weights/2023-06-23T07:49:05.342896.index\n",
      "LSTMStrategy/weights/checkpoint\n",
      "LSTMStrategy2/LSTMStrategy2.db\n",
      "LSTMStrategy2/Xy/2023-06-22_BTC-USDT_X.csv\n",
      "LSTMStrategy2/Xy/2023-06-22_BTC-USDT_data.csv\n",
      "LSTMStrategy2/Xy/2023-06-22_BTC-USDT_y.csv\n",
      "LSTMStrategy2/account/2023-06-22_balance.csv\n",
      "LSTMStrategy2/account/2023-06-23_balance.csv\n",
      "LSTMStrategy2/weights/2023-06-22T18:18:53.972783.data-00000-of-00001\n",
      "LSTMStrategy2/weights/2023-06-22T18:18:53.972783.index\n",
      "LSTMStrategy2/weights/2023-06-22T19:34:51.221881.data-00000-of-00001\n",
      "LSTMStrategy2/weights/2023-06-22T19:34:51.221881.index\n",
      "LSTMStrategy2/weights/checkpoint\n",
      "LSTMStrategy2/weights/2023-06-22T18:19:51.815805_temp/part-00000-of-00001.data-00000-of-00001\n",
      "LSTMStrategy2/weights/2023-06-22T18:19:51.815805_temp/part-00000-of-00001.index\n",
      "SimpleKerasStrategy/SimpleKerasStrategy.db\n",
      "SimpleKerasStrategy/Xy/2023-06-22_BTC-USDT_X.csv\n",
      "SimpleKerasStrategy/Xy/2023-06-22_BTC-USDT_data.csv\n",
      "SimpleKerasStrategy/Xy/2023-06-22_BTC-USDT_y.csv\n",
      "SimpleKerasStrategy/account/2023-06-22_balance.csv\n",
      "SimpleKerasStrategy/weights/2023-06-22T19:49:17.713466.data-00000-of-00001\n",
      "SimpleKerasStrategy/weights/2023-06-22T19:49:17.713466.index\n",
      "SimpleKerasStrategy/weights/checkpoint\n",
      "\n",
      "sent 161,896 bytes  received 110,327 bytes  181,482.00 bytes/sec\n",
      "total size is 67,026,664  speedup is 246.22\n",
      "LSTMStrategy last opened: 2023-06-19 17:21:13.289000, closed: 2023-06-19 18:53:14.330000\n",
      "LSTMStrategy2 last opened: 2023-06-22 16:51:40.621000, closed: 2023-06-22 16:55:26.923000\n",
      "SimpleKerasStrategy last opened: 2023-06-20 17:45:39.118000, closed: 2023-06-20 17:45:47.380000\n",
      "Current time Пт 23 июн 2023 07:53:05 UTC\n",
      "Download completed. Local data dir: ../data/yandex-cloud\n"
     ]
    }
   ],
   "source": [
    "\n",
    "import os\n",
    "\n",
    "# Downloading latest pytrade2 data\n",
    "if mode == \"yc\":\n",
    "    os.system(\"cd ./../deploy/yandex_cloud; ./download_data.sh\")\n",
    "    data_dir=f\"../data/yandex-cloud\"\n",
    "else:\n",
    "    data_dir=f\"../data/dev\"\n",
    "    \n",
    "print(f\"Download completed. Local data dir: {data_dir}\")\n",
    "\n",
    "    "
   ]
  },
  {
   "cell_type": "markdown",
   "metadata": {},
   "source": [
    "## Init Huobi or Binance client"
   ]
  },
  {
   "cell_type": "code",
   "execution_count": 5,
   "metadata": {},
   "outputs": [
    {
     "name": "stdout",
     "output_type": "stream",
     "text": [
      "Reading yc config\n",
      "Reading local config\n",
      "Reading config from ./../pytrade2/cfg/app-defaults.yaml\n",
      "Reading config from ./../pytrade2/cfg/app.yaml\n",
      "Reading config from ./../deploy/yandex_cloud/secret//app.yaml\n",
      "Reading config from ./../deploy/yandex_cloud/secret//lstmstrategy2.yaml\n"
     ]
    }
   ],
   "source": [
    "import os\n",
    "import sys\n",
    "import yaml\n",
    "from binance.spot import Spot as Client\n",
    "from huobi.client.account import AccountClient\n",
    "from huobi.client.algo import AlgoClient\n",
    "from huobi.client.market import MarketClient\n",
    "from huobi.client.trade import TradeClient\n",
    "\n",
    "\n",
    "def load_config_files(cfg_dir:str, paths:{})->{}:\n",
    "    config={}\n",
    "    for path in paths:\n",
    "        fullpath=f\"{cfg_dir}/{path}\"\n",
    "        with open(fullpath) as file:\n",
    "            print(\"Reading config from \"+fullpath)\n",
    "            config.update(yaml.safe_load(file))\n",
    "    return config\n",
    "\n",
    "def load_config_local(strategy:str):\n",
    "    \"\"\"\n",
    "    Load config from cfg folder respecting the order: defaults, app.yaml, environment vars\n",
    "    \"\"\"\n",
    "    print(\"Reading local config\")\n",
    "    # Defaults\n",
    "    cfg_dir=\"./../pytrade2/cfg\"\n",
    "    paths=[\"app-defaults.yaml\", \"app.yaml\"]\n",
    "    return load_config_files(cfg_dir, paths)\n",
    "\n",
    "def load_config_yc(strategy):\n",
    "    \"\"\"\n",
    "    Load config from cfg folder respecting the order: defaults, app.yaml, environment vars\n",
    "    \"\"\"\n",
    "    strategy=strategy.lower()\n",
    "    print(\"Reading yc config\")\n",
    "    project_dir=\"./..\"\n",
    "    cfg_dir=f\"{project_dir}/deploy/yandex_cloud/secret/\"\n",
    "    paths=[\"app.yaml\", f\"{strategy}.yaml\"]\n",
    "\n",
    "    # Load yc config\n",
    "    config = load_config_local(strategy)\n",
    "    config.update(load_config_files(cfg_dir, paths))\n",
    "    return config\n",
    "\n",
    "def load_config(strategy):\n",
    "    \"\"\" Read yc or dev config\"\"\"\n",
    "    strategy = strategy.lower()\n",
    "    return load_config_yc(strategy) if mode == \"yc\" else load_config_local(strategy)\n",
    "\n",
    "\n",
    "def create_binance_client(strategy: str, mode: str):\n",
    "        \"\"\" Binance client creation \"\"\"\n",
    "        print(mode)\n",
    "        # Read configs to get keys from there\n",
    "        strategy=strategy.lower()\n",
    "        config = load_config(strategy)\n",
    "        key,secret=config[f\"pytrade2.exchange.{exchange}.connector.key\"],config[f\"pytrade2.exchange.{exchange}.connector.secret\"],config[f\"pytrade2.exchange.{exchange}.spot.url\"]\n",
    "        return Client(key=key, secret=secret, base_url=url, timeout=10)\n",
    "#         key,secret,url=config[f\"pytrade2.exchange.{exchange}.connector.key\"],config[f\"pytrade2.exchange.{exchange}.connector.secret\"],config[f\"pytrade2.exchange.{exchange}.spot.url\"]\n",
    "#         return Client(key=key, secret=secret, base_url=url, timeout=10)\n",
    "\n",
    "def create_huobi_clients(config, strategy: str, mode: str):\n",
    "    \"\"\" Huobi client creation \"\"\"\n",
    "    strategy=strategy.lower()\n",
    "    key,secret=config[f\"pytrade2.exchange.huobi.connector.key\"],config[f\"pytrade2.exchange.huobi.connector.secret\"]\n",
    "    return  MarketClient(api_key=key, secret_key=secret), \\\n",
    "            AccountClient(api_key=key, secret_key=secret), \\\n",
    "            TradeClient(api_key=key, secret_key=secret)\n",
    "\n",
    "\n",
    "if exchange == \"binance\":\n",
    "    binance_client = create_binance_client(strategy, mode)\n",
    "    print(\"Created Binance client\")\n",
    "elif exchange == \"huobi\":\n",
    "    config=load_config(strategy.lower())\n",
    "    huobi_market_client, huobi_account_client, huobi_trade_client = create_huobi_clients(config, strategy, mode)\n",
    "    huobi_account_id = config.get(\"pytrade2.broker.huobi.account.id\")\n",
    "    symbol=symbol.lower()"
   ]
  },
  {
   "cell_type": "code",
   "execution_count": null,
   "metadata": {},
   "outputs": [],
   "source": []
  },
  {
   "cell_type": "code",
   "execution_count": null,
   "metadata": {},
   "outputs": [],
   "source": [
    "\n"
   ]
  },
  {
   "cell_type": "markdown",
   "metadata": {},
   "source": [
    "## Account and orders"
   ]
  },
  {
   "cell_type": "markdown",
   "metadata": {},
   "source": [
    "### Account info"
   ]
  },
  {
   "cell_type": "code",
   "execution_count": 6,
   "metadata": {},
   "outputs": [
    {
     "name": "stdout",
     "output_type": "stream",
     "text": [
      "Balance:\n"
     ]
    },
    {
     "ename": "HuobiApiException",
     "evalue": "('InputError', '[Input] account-id should not be null')",
     "output_type": "error",
     "traceback": [
      "\u001b[0;31m---------------------------------------------------------------------------\u001b[0m",
      "\u001b[0;31mHuobiApiException\u001b[0m                         Traceback (most recent call last)",
      "Cell \u001b[0;32mIn[6], line 40\u001b[0m\n\u001b[1;32m     38\u001b[0m     print_binance_account()\n\u001b[1;32m     39\u001b[0m \u001b[38;5;28;01melif\u001b[39;00m exchange \u001b[38;5;241m==\u001b[39m \u001b[38;5;124m\"\u001b[39m\u001b[38;5;124mhuobi\u001b[39m\u001b[38;5;124m\"\u001b[39m:\n\u001b[0;32m---> 40\u001b[0m     \u001b[43mprint_huobi_account\u001b[49m\u001b[43m(\u001b[49m\u001b[43m)\u001b[49m\n",
      "Cell \u001b[0;32mIn[6], line 33\u001b[0m, in \u001b[0;36mprint_huobi_account\u001b[0;34m()\u001b[0m\n\u001b[1;32m     31\u001b[0m \u001b[38;5;28;01mdef\u001b[39;00m \u001b[38;5;21mprint_huobi_account\u001b[39m():\n\u001b[1;32m     32\u001b[0m     \u001b[38;5;28mprint\u001b[39m(\u001b[38;5;124m\"\u001b[39m\u001b[38;5;124mBalance:\u001b[39m\u001b[38;5;124m\"\u001b[39m)\n\u001b[0;32m---> 33\u001b[0m     balances \u001b[38;5;241m=\u001b[39m \u001b[43mhuobi_account_client\u001b[49m\u001b[38;5;241;43m.\u001b[39;49m\u001b[43mget_balance\u001b[49m\u001b[43m(\u001b[49m\u001b[43maccount_id\u001b[49m\u001b[38;5;241;43m=\u001b[39;49m\u001b[43mhuobi_account_id\u001b[49m\u001b[43m)\u001b[49m\n\u001b[1;32m     34\u001b[0m     \u001b[38;5;28;01mfor\u001b[39;00m b \u001b[38;5;129;01min\u001b[39;00m \u001b[38;5;28mfilter\u001b[39m(\u001b[38;5;28;01mlambda\u001b[39;00m b: b\u001b[38;5;241m.\u001b[39mbalance \u001b[38;5;241m!=\u001b[39m \u001b[38;5;124m\"\u001b[39m\u001b[38;5;124m0\u001b[39m\u001b[38;5;124m\"\u001b[39m, balances):\n\u001b[1;32m     35\u001b[0m         \u001b[38;5;28mprint\u001b[39m(\u001b[38;5;28mvars\u001b[39m(b))\n",
      "File \u001b[0;32m~/.local/lib/python3.8/site-packages/huobi/client/account.py:36\u001b[0m, in \u001b[0;36mAccountClient.get_balance\u001b[0;34m(self, account_id)\u001b[0m\n\u001b[1;32m     31\u001b[0m \u001b[38;5;28;01mdef\u001b[39;00m \u001b[38;5;21mget_balance\u001b[39m(\u001b[38;5;28mself\u001b[39m, account_id: \u001b[38;5;124m'\u001b[39m\u001b[38;5;124mint\u001b[39m\u001b[38;5;124m'\u001b[39m):\n\u001b[1;32m     32\u001b[0m \u001b[38;5;250m    \u001b[39m\u001b[38;5;124;03m\"\"\"\u001b[39;00m\n\u001b[1;32m     33\u001b[0m \u001b[38;5;124;03m    Get the account list.\u001b[39;00m\n\u001b[1;32m     34\u001b[0m \u001b[38;5;124;03m    :return: The list of accounts data.\u001b[39;00m\n\u001b[1;32m     35\u001b[0m \u001b[38;5;124;03m    \"\"\"\u001b[39;00m\n\u001b[0;32m---> 36\u001b[0m     \u001b[43mcheck_should_not_none\u001b[49m\u001b[43m(\u001b[49m\u001b[43maccount_id\u001b[49m\u001b[43m,\u001b[49m\u001b[43m \u001b[49m\u001b[38;5;124;43m\"\u001b[39;49m\u001b[38;5;124;43maccount-id\u001b[39;49m\u001b[38;5;124;43m\"\u001b[39;49m\u001b[43m)\u001b[49m\n\u001b[1;32m     37\u001b[0m     params \u001b[38;5;241m=\u001b[39m {\n\u001b[1;32m     38\u001b[0m         \u001b[38;5;124m\"\u001b[39m\u001b[38;5;124maccount-id\u001b[39m\u001b[38;5;124m\"\u001b[39m: account_id\n\u001b[1;32m     39\u001b[0m     }\n\u001b[1;32m     40\u001b[0m     \u001b[38;5;28;01mfrom\u001b[39;00m \u001b[38;5;21;01mhuobi\u001b[39;00m\u001b[38;5;21;01m.\u001b[39;00m\u001b[38;5;21;01mservice\u001b[39;00m\u001b[38;5;21;01m.\u001b[39;00m\u001b[38;5;21;01maccount\u001b[39;00m\u001b[38;5;21;01m.\u001b[39;00m\u001b[38;5;21;01mget_balance\u001b[39;00m \u001b[38;5;28;01mimport\u001b[39;00m GetBalanceService\n",
      "File \u001b[0;32m~/.local/lib/python3.8/site-packages/huobi/utils/input_checker.py:50\u001b[0m, in \u001b[0;36mcheck_should_not_none\u001b[0;34m(value, name)\u001b[0m\n\u001b[1;32m     48\u001b[0m \u001b[38;5;28;01mdef\u001b[39;00m \u001b[38;5;21mcheck_should_not_none\u001b[39m(value, name):\n\u001b[1;32m     49\u001b[0m     \u001b[38;5;28;01mif\u001b[39;00m value \u001b[38;5;129;01mis\u001b[39;00m \u001b[38;5;28;01mNone\u001b[39;00m:\n\u001b[0;32m---> 50\u001b[0m         \u001b[38;5;28;01mraise\u001b[39;00m HuobiApiException(HuobiApiException\u001b[38;5;241m.\u001b[39mINPUT_ERROR, \u001b[38;5;124m\"\u001b[39m\u001b[38;5;124m[Input] \u001b[39m\u001b[38;5;124m\"\u001b[39m \u001b[38;5;241m+\u001b[39m name \u001b[38;5;241m+\u001b[39m \u001b[38;5;124m\"\u001b[39m\u001b[38;5;124m should not be null\u001b[39m\u001b[38;5;124m\"\u001b[39m)\n",
      "\u001b[0;31mHuobiApiException\u001b[0m: ('InputError', '[Input] account-id should not be null')"
     ]
    }
   ],
   "source": [
    "def print_binance_account():\n",
    "    account=client.account()\n",
    "    usdt_free=[a[\"free\"] for a in account[\"balances\"] if a[\"asset\"]==\"USDT\"]\n",
    "    # update_time=account[\"update_time\"]\n",
    "    # print(f\"account update time:{update_time}\")\n",
    "    print(f\"My USDT amount({strategy}): {usdt_free}\")\n",
    "\n",
    "    print(account)\n",
    "    print(str(pd.to_datetime(account[\"updateTime\"], unit=\"ms\")))\n",
    "# btc 1.15798200\n",
    "#usdt 5134.30859706 26.04.2023 14:26\n",
    "# usdt amount \n",
    "# 14.05.2023 9602.27USDT\n",
    "# 14.05.2023 9613.27USDT\n",
    "# 15.05.2023 12:11 10851.4496USDT\n",
    "# 15.05.2023 15:26 USDT 10824.09131356, BTC 0.97100000\n",
    "# 16.05.2023 19:12 USDT 10824.13392356 BTC 0.97100000\n",
    "# 16.05.2023 22:09 USDT 10824.13237356, BTC 0.971\n",
    "# 17.05.2023 0:47  USDT 10824.08461448 BTC 0.971\n",
    "# 17.05.2023 9:44 USDT 10824.05857448 BTC 0.971\n",
    "# 17.05.2023 17:22 USDT 10824.00134797 BTC 0.971\n",
    "# 18.05.2023 08:25:81 USDT 10823.33222738 BTC 0.971\n",
    "# 18.05.2023 23:09 USDT 10821.81933906 BTC 0.971\n",
    "# 18.05.2023 07:22 USDT 10821.70723260 BTC 0.971 \n",
    "# 19.05.2023 15:20 USDT 10820.82563494 locked 27.12356000 BTC 9.970\n",
    "# 19.95.2023 15:25 USDT 10821.09770494 BTC 0.971\n",
    "\n",
    "# Set sharp ratio=4\n",
    "# 19.05.2023 19:36 USDT 10794.27474497 BTC 0.971\n",
    "# 20.05.2023 15:35 USDT 10821.28357494 BTC 0.971\n",
    "def print_huobi_account():\n",
    "    print(\"Balance:\")\n",
    "    balances = huobi_account_client.get_balance(account_id=huobi_account_id)\n",
    "    for b in filter(lambda b: b.balance != \"0\", balances):\n",
    "        print(vars(b))\n",
    "    \n",
    "if exchange == \"binance\":\n",
    "    print_binance_account()\n",
    "elif exchange == \"huobi\":\n",
    "    print_huobi_account()\n"
   ]
  },
  {
   "cell_type": "markdown",
   "metadata": {},
   "source": [
    "### Orders from Exchange"
   ]
  },
  {
   "cell_type": "code",
   "execution_count": null,
   "metadata": {},
   "outputs": [],
   "source": [
    "def huobi_order_vars(order):\n",
    "    \"\"\" Convert huobi order to it's attributes \"\"\"\n",
    "    order.created_at = pd.to_datetime(order.created_at, unit='ms')\n",
    "    if order.finished_at: order.finished_at = pd.to_datetime(order.finished_at, unit='ms')\n",
    "    if order.canceled_at: order.canceled_at = pd.to_datetime(order.canceled_at, unit='ms')\n",
    "    return vars(order)"
   ]
  },
  {
   "cell_type": "code",
   "execution_count": null,
   "metadata": {},
   "outputs": [],
   "source": [
    "def get_binance_orders():\n",
    "    orders = pd.DataFrame(client.get_orders(symbol))\n",
    "    for timecol in [\"time\", \"updateTime\", \"workingTime\"]:\n",
    "        orders[timecol] = pd.to_datetime(orders[timecol], unit='ms')\n",
    "    return orders.set_index(\"time\", drop=False)\n",
    "\n",
    "def get_huobi_orders():\n",
    "    orders = huobi_trade_client.get_orders(symbol=symbol, order_state=\"filled\")\n",
    "    orders = pd.DataFrame([huobi_order_vars(o) for o in orders]).set_index(\"finished_at\", drop=False)\n",
    "    return orders\n",
    "\n",
    "if exchange == \"binance\":\n",
    "    get_binance_orders().tail()\n",
    "elif exchange == \"huobi\":\n",
    "    orders = get_huobi_orders()\n",
    "\n",
    "if exchange == \"binance\":\n",
    "    orders = get_binance_orders()\n",
    "elif exchange == \"huobi\"    :\n",
    "    orders = get_huobi_orders()\n",
    "\n",
    "orders.tail()\n"
   ]
  },
  {
   "cell_type": "markdown",
   "metadata": {},
   "source": [
    "### Opened orders from Exchange"
   ]
  },
  {
   "cell_type": "code",
   "execution_count": null,
   "metadata": {},
   "outputs": [],
   "source": [
    "def get_binance_opened_orders():\n",
    "    orders=pd.DataFrame(client.get_open_orders(symbol))\n",
    "\n",
    "    for timecol in [\"time\", \"updateTime\", \"workingTime\"]:\n",
    "        if timecol in orders.columns:\n",
    "            orders[timecol] = pd.to_datetime(orders[timecol], unit='ms')\n",
    "    if \"time\" in orders.columns:\n",
    "        orders.set_index(\"time\", drop=False, inplace=True)\n",
    "    return order\n",
    "\n",
    "\n",
    "    \n",
    "def get_huobi_opened_orders():\n",
    "    opened_orders = huobi_trade_client.get_open_orders(symbol=symbol, account_id = huobi_account_id)\n",
    "    opened_orders = pd.DataFrame([huobi_order_vars(o) for o in opened_orders])\n",
    "    if not opened_orders.empty: opened_orders = opened.orders.set_index(\"created_at\").round(2)\n",
    "    return opened_orders\n",
    "\n",
    "\n",
    "\n",
    "if exchange == \"binance\":\n",
    "    opened_orders = get_binance_opened_orders()\n",
    "elif exchange == \"huobi\"    :\n",
    "    opened_orders = get_huobi_opened_orders()\n",
    "\n",
    "print(\"Opened orders\")    \n",
    "opened_orders.tail()\n"
   ]
  },
  {
   "cell_type": "markdown",
   "metadata": {},
   "source": [
    "### My trades from binance"
   ]
  },
  {
   "cell_type": "code",
   "execution_count": null,
   "metadata": {},
   "outputs": [],
   "source": [
    "def print_binance_trades():\n",
    "    mytrades=pd.DataFrame(client.my_trades(symbol))\n",
    "    mytrades[\"time\"] = pd.to_datetime(mytrades[\"time\"], unit='ms')\n",
    "    mytrades.tail()\n",
    "\n",
    "if exchange == \"binance\":\n",
    "    print_binance_trades()"
   ]
  },
  {
   "cell_type": "markdown",
   "metadata": {},
   "source": [
    "### Trades from bot database"
   ]
  },
  {
   "cell_type": "code",
   "execution_count": null,
   "metadata": {},
   "outputs": [],
   "source": [
    "import pandas as pd\n",
    "import numpy as np\n",
    "\n",
    "def get_trades(data_dir: str, strategy: str, mode: str):\n",
    "    import sqlite3\n",
    "    db_path=f\"{data_dir}/{strategy}/{strategy}.db\"\n",
    "    fee=0.0012\n",
    "    print(f\"Get trades from {db_path}\")\n",
    "\n",
    "    with sqlite3.connect(db_path) as conn:\n",
    "        trades=pd.read_sql_query(\"SELECT * FROM trade ORDER BY open_time\",conn,\n",
    "                                 parse_dates=[\"open_time\", \"close_time\"])#.set_index(\"open_time\", drop=False)\n",
    "    trades[\"profit\"] = np.where(trades[\"side\"] == \"BUY\", \n",
    "                                (trades[\"close_price\"]-trades[\"open_price\"])*trades[\"quantity\"],\n",
    "                                (trades[\"open_price\"]-trades[\"close_price\"])*trades[\"quantity\"],\n",
    "                               )\n",
    "    trades[\"profit\"] = trades[\"profit\"] - fee*(trades[\"open_price\"] + trades[\"close_price\"])*trades[\"quantity\"]\n",
    "    trades[\"cum_profit\"] = trades[\"profit\"].cumsum()\n",
    "    \n",
    "    return trades\n",
    "\n",
    "trades=get_trades(data_dir, strategy, mode)\n",
    "trades.tail()"
   ]
  },
  {
   "cell_type": "code",
   "execution_count": null,
   "metadata": {},
   "outputs": [],
   "source": [
    "print(f\"Total profit: {trades['profit'].sum()}\")\n"
   ]
  },
  {
   "cell_type": "markdown",
   "metadata": {},
   "source": [
    "### Opened trades from trade bot database"
   ]
  },
  {
   "cell_type": "code",
   "execution_count": null,
   "metadata": {},
   "outputs": [],
   "source": [
    "trades[trades.close_time.isna()].tail()"
   ]
  },
  {
   "cell_type": "markdown",
   "metadata": {},
   "source": [
    "## Profit"
   ]
  },
  {
   "cell_type": "code",
   "execution_count": null,
   "metadata": {
    "scrolled": false
   },
   "outputs": [],
   "source": [
    "import matplotlib.pyplot as plt\n",
    "import plotly.express as px\n",
    "import seaborn as sns\n",
    "sns.set_theme()\n",
    "#paper, notebook, talk, poster\n",
    "\n",
    "import plotly.graph_objs as go\n",
    "import plotly.io as pio\n",
    "from plotly.subplots import make_subplots\n",
    "pio.renderers.default = \"plotly_mimetype+notebook\"\n",
    "import plotly.graph_objects as go\n",
    "\n",
    "    \n",
    "plot_figsize=(10,5)\n",
    "\n",
    "\n",
    "def plot_profits_plotly(trades):\n",
    "    \"\"\" Plot profit charts using plotly\"\"\"\n",
    "    px.line(trades, x=\"open_time\", y=\"profit\", title=f\"{strategy} profit\").update_traces(mode='lines+markers').show()\n",
    "    px.line(trades, x=\"open_time\", y=\"cum_profit\", title=f\"{strategy} cumulative profit\").update_traces(mode='lines+markers').show()\n",
    "\n",
    "def plot_profits_sns(trades):\n",
    "    \"\"\" Plot profit charts using sns\"\"\"\n",
    "    plt.figure(figsize=plot_figsize)\n",
    "    sns.set_style(\"darkgrid\")\n",
    "    sns.lineplot(data=trades, x=\"open_time\", y=\"profit\").set_title(f\"{strategy} profit\")\n",
    "    plt.show()\n",
    "\n",
    "    #sns.set_palette(\"deep\")\n",
    "    sns.set_style(\"whitegrid\")\n",
    "    plt.figure(figsize=plot_figsize)\n",
    "    sns.lineplot(data=trades, x=\"open_time\", y=\"cum_profit\").set_title( f\"{strategy} cumulative profit\")\n",
    "    plt.show()\n",
    "    \n",
    "    # Cumulative profit w/o outliers\n",
    "    profit=trades[[\"open_time\",\"profit\"]].set_index(\"open_time\")\n",
    "    q_low = profit[\"profit\"].quantile(0.1)\n",
    "    q_hi  = profit[\"profit\"].quantile(0.9)\n",
    "    profit_filtered = profit[(profit[\"profit\"] < q_hi) & (profit[\"profit\"] > q_low)]\n",
    "    cumsum_filtered = profit_filtered.cumsum()\n",
    "    plt.figure(figsize=plot_figsize)\n",
    "    sns.set_style(\"darkgrid\")\n",
    "    sns.lineplot(data=cumsum_filtered).set_title(f\"{strategy} profit w/o outliers\")\n",
    "    plt.show()\n",
    "\n",
    "def plot_profits_plt(trades):\n",
    "    \"\"\" Plot profits using matplotlib \"\"\"\n",
    "    plt.figure(figsize=(10,5))\n",
    "    sns.set_style(\"whitegrid\")\n",
    "    plt.plot(\"open_time\", \"profit\", data=trades)\n",
    "    plt.title(f\"{strategy} profit\")\n",
    "    plt.show()\n",
    "    \n",
    "    sns.set_style(\"darkgrid\")\n",
    "    plt.figure(figsize=(10,5))\n",
    "    plt.plot(\"open_time\", \"cum_profit\", data=trades)\n",
    "    plt.title(f\"{strategy} cumulative profit\")\n",
    "    plt.show()\n",
    "\n",
    "plot_profits_plotly(trades)\n",
    "#plot_profits_sns(trades[:-1:])\n",
    "#plot_profits_plt(trades)\n"
   ]
  },
  {
   "cell_type": "code",
   "execution_count": null,
   "metadata": {
    "scrolled": false
   },
   "outputs": [],
   "source": []
  },
  {
   "cell_type": "code",
   "execution_count": null,
   "metadata": {},
   "outputs": [],
   "source": []
  },
  {
   "cell_type": "code",
   "execution_count": null,
   "metadata": {},
   "outputs": [],
   "source": [
    "from matplotlib import pyplot as plt\n",
    "import seaborn as sns\n",
    "\n",
    "\n",
    "def plot_trade_counts(trades):\n",
    "    buy_sell_counts = trades[\"side\"].value_counts()\n",
    "    total=len(trades)\n",
    "    colors = sns.color_palette('pastel')[0:5]\n",
    "    fig, (ax1, ax2, ax3) = plt.subplots(1, 3)\n",
    "    fig.set_size_inches(plot_figsize)\n",
    "    fig.suptitle('Profit/loss trade counts')\n",
    "    # Buy/sell counts\n",
    "    ax1.pie([len(trades[trades[\"side\"]==\"BUY\"]),len(trades[trades[\"side\"]==\"SELL\"])], \n",
    "            labels=[\"BUY\",\"SELL\"], \\\n",
    "            autopct=lambda p: '{:.0f}'.format(p * total / 100))\n",
    "    # Buy profit/loss counts\n",
    "    ax2.pie([len(trades[(trades[\"side\"]==\"BUY\") &  (trades[\"profit\"]>0)].index),\\\n",
    "            len(trades[(trades[\"side\"]==\"BUY\") &  (trades[\"profit\"]<0)].index) \\\n",
    "            ],\n",
    "            labels=[\"buy profit\", \" buy loss\"], autopct=\"%.0f%%\", colors=colors)\n",
    "    # Sell profit/loss counts\n",
    "    ax3.pie([len(trades[(trades[\"side\"]==\"SELL\") &  (trades[\"profit\"]>0)].index),\\\n",
    "            len(trades[(trades[\"side\"]==\"SELL\") &  (trades[\"profit\"]<0)].index) \\\n",
    "            ],\n",
    "            labels=[\"sell profit\", \" sell loss\"], autopct=\"%.0f%%\", colors=colors)\n",
    "\n",
    "    \n",
    "plot_trade_counts(trades)\n",
    "\n"
   ]
  },
  {
   "cell_type": "code",
   "execution_count": null,
   "metadata": {
    "scrolled": false
   },
   "outputs": [],
   "source": [
    "import plotly.express as px\n",
    "\n",
    "def plot_profit_stat_plotly(trades):\n",
    "    \"\"\" Profit statistics: summary, average \"\"\"\n",
    "    buy_profit = trades.loc[trades[\"side\"]==\"BUY\",\"profit\"]\n",
    "    sell_profit = trades.loc[trades[\"side\"]==\"SELL\",\"profit\"]\n",
    "    px.bar(x=[\"buy_profit_sum\", \"sell_profit_sum\"], y=[buy_profit.sum(), sell_profit.sum()], title=\"Buy/sell profit sum\").show()\n",
    "    px.bar(x=[\"buy_profit_mean\", \"sell_profit_mean\"], y=[buy_profit.mean(), sell_profit.mean()], title=\"Buy/sell mean profit\").show()\n",
    "\n",
    "def plot_profit_stat_sns(trades):\n",
    "    \"\"\" Profit statistics: summary, average \"\"\"\n",
    "    buy_profit = trades.loc[trades[\"side\"]==\"BUY\",\"profit\"]\n",
    "    sell_profit = trades.loc[trades[\"side\"]==\"SELL\",\"profit\"]\n",
    "    buy_profit_mean, sell_profit_mean = buy_profit.mean(), sell_profit.mean()\n",
    "    buy_profit_mdn, sell_profit_mdn = buy_profit.median(), sell_profit.median()\n",
    "    \n",
    "    sns.barplot(x=[\"buy profit sum\", \"sell profit sum\"], y = [buy_profit.sum(), sell_profit.sum()])\n",
    "    plt.title(\"Profit sum\")\n",
    "    plt.show()\n",
    "    #sns.set_style(\"whitegrid\")\n",
    "    \n",
    "#     fig, (ax1, ax2) = plt.subplots(1, 2)\n",
    "#     fig.set_size_inches(plot_figsize)\n",
    "#     fig.align_ylabels(ax2)    \n",
    "\n",
    "    data={\"val\": [buy_profit.mean(), sell_profit.mean(), buy_profit.median(), sell_profit.median()],\n",
    "          \"type\": [\"buy\", \"sell\", \"buy\", \"sell\"],\n",
    "          \"agg\": [\"mean\", \"mean\", \"median\", \"median\"]\n",
    "         }\n",
    "    sns.barplot(data=data, x=\"type\", y=\"val\", hue=\"agg\")\n",
    "    #sns.barplot(x=[\"buy profit median\", \"sell profit median\"], y = [buy_profit.median(), sell_profit.median()],ax=ax2)\n",
    "    #fig.show()\n",
    "    \n",
    "#     px.bar(x=[\"buy_profit_sum\", \"sell_profit_sum\"], y=[buy_profit.sum(), sell_profit.sum()], title=\"Buy/sell profit sum\").show()\n",
    "#     px.bar(x=[\"buy_profit_mean\", \"sell_profit_mean\"], y=[buy_profit.mean(), sell_profit.mean()], title=\"Buy/sell mean profit\").show()\n",
    "    \n",
    "plot_profit_stat_sns(trades)"
   ]
  },
  {
   "cell_type": "code",
   "execution_count": null,
   "metadata": {},
   "outputs": [],
   "source": []
  },
  {
   "cell_type": "markdown",
   "metadata": {},
   "source": [
    "## Trades on candlestick chart"
   ]
  },
  {
   "cell_type": "code",
   "execution_count": null,
   "metadata": {},
   "outputs": [],
   "source": [
    "from datetime import datetime\n",
    "from huobi.model.market.candlestick import Candlestick\n",
    "\n",
    "def get_last_candles_binance():\n",
    "    candle_columns = [\"open_time\", \"open\", \"high\", \"low\", \"close\", \"vol\", \"close_time\", \"quote_asset_volume\",\n",
    "                      \"number_of_trades\", \" taker_buy_base_asset_volume\", \"taker_buy_quote_asset_volume\",\n",
    "                      \"ignore\"]    \n",
    "    end_date=trades.open_time.max() if not trades.empty else datetime.utcnow()\n",
    "    \n",
    "    #end_time_millis=end_date.value//1000000\n",
    "    cnt=24*60 # Number of last candles to read\n",
    "    raw_candles = client.klines(symbol=symbol,\n",
    "                                    interval=\"1m\",\n",
    "                                    #limit=10,\n",
    "                                    limit=cnt,\n",
    "                                    #endTime=end_time_millis\n",
    "                               )\n",
    "    df = pd.DataFrame(raw_candles, columns=candle_columns)\n",
    "    df[\"open_time\"] = pd.to_datetime(df[\"open_time\"], unit='ms')\n",
    "    df[\"close_time\"] = pd.to_datetime(df[\"close_time\"], unit='ms')\n",
    "    df.set_index(\"open_time\", drop=False, inplace=True)\n",
    "        # Convert strings to float prices\n",
    "    df[[\"open\", \"high\", \"low\", \"close\"]] = df[[\"open\", \"high\", \"low\", \"close\"]].astype(float)\n",
    "    return df\n",
    "\n",
    "def clean_candles_binance(df):\n",
    "    \"\"\" Remove outliers \"\"\"\n",
    "    q_low = df[\"low\"].diff().quantile(0.1)\n",
    "    q_high  = df[\"high\"].diff().quantile(0.9)\n",
    "    df=df[df[\"high\"].diff()< q_high]\n",
    "    df=df[df[\"low\"].diff() > q_low ]\n",
    "    return df\n",
    "\n",
    "def get_last_candles_huobi():\n",
    "        \"\"\" Read candles from Huobi \"\"\"\n",
    "        # Get candles\n",
    "        interval=\"1m\"\n",
    "        size=2000\n",
    "        candles = huobi_market_client.get_candlestick(symbol=symbol, period=\"1min\", size=size)\n",
    "        candles = [vars(c) for c in candles]\n",
    "\n",
    "        # Huobi candles don't have time, so generate times for last candles\n",
    "        deltatime = pd.Timedelta(interval+\"in\")\n",
    "        times = [datetime.utcnow() - deltatime * i for i in range(len(candles))]\n",
    "        candles = pd.DataFrame(candles, index=times)\n",
    "        candles[\"close_time\"] = candles.index\n",
    "        candles[\"open_time\"] = candles[\"close_time\"] - deltatime\n",
    "\n",
    "        return candles.sort_index()\n",
    "\n",
    "if exchange == \"binance\":\n",
    "    candles = get_last_candles_binance()\n",
    "    candles = clean_candles_binance(candles)\n",
    "elif exchange == \"huobi\":\n",
    "    candles = get_last_candles_huobi()\n",
    "\n",
    "candles.tail()"
   ]
  },
  {
   "cell_type": "code",
   "execution_count": null,
   "metadata": {},
   "outputs": [],
   "source": []
  },
  {
   "cell_type": "markdown",
   "metadata": {},
   "source": []
  },
  {
   "cell_type": "markdown",
   "metadata": {},
   "source": []
  },
  {
   "cell_type": "code",
   "execution_count": null,
   "metadata": {
    "scrolled": false
   },
   "outputs": [],
   "source": [
    "# Install a conda package in the current Jupyter kernel\n",
    "#%conda install -c plotly plotly=5.9.0\n",
    "# Draw candlechart\n",
    "import plotly as py\n",
    "from plotly import graph_objects as go\n",
    "import pandas as pd\n",
    "import numpy as np\n",
    "import datetime\n",
    "\n",
    "def get_chart_figure(candles: pd.DataFrame, trades: pd.DataFrame)->pd.DataFrame:\n",
    "    \"\"\"\n",
    "    Form plotly candlestick chart with buy/sell marks on it\n",
    "    \"\"\"\n",
    "    \n",
    "    df=candles.copy()\n",
    "    #df=clean_candles(df)\n",
    "    fig = go.Figure(data=[ \\\n",
    "                        go.Candlestick(\\\n",
    "                            x=df.index,\\\n",
    "                            open=df['open'],\\\n",
    "                            high=df['high'],\\\n",
    "                            low=df['low'],\\\n",
    "                            close=df['close'])\n",
    "                         ])\n",
    "\n",
    "    # Customize ay to distribute captions by y so they do not overlap by x\n",
    "    ay,aymax,aystep=0,50,10\n",
    "    #start_time=df.open_time.min()\n",
    "    # Annotate buy, sell on the chart\n",
    "    for i,trade in trades[(~trades[\"open_time\"].isna()) & (trades[\"open_time\"] > df.open_time.min())].iterrows():\n",
    "        ay=(ay+aystep)%aymax\n",
    "        color='green' if trade['side']==\"BUY\" else 'red'\n",
    "\n",
    "        # Draw open order\n",
    "        open_text='buy' if trade['side']==\"BUY\"  else 'sell'\n",
    "        open_hover=f\"{trade['open_time']} {open_text} at {str(trade['open_price'])}, sl={trade['stop_loss_price']}, tp={trade['take_profit_price']}\"\n",
    "        fig.add_annotation(x=trade['open_time'], \\\n",
    "                           y=trade['open_price'],\\\n",
    "                           text=open_text,\\\n",
    "                           hovertext=open_hover,\\\n",
    "                           showarrow=True,arrowhead=5,arrowcolor=color,ay=-ay,arrowwidth=2,\n",
    "                           font={'color':color}\n",
    "                          )\n",
    "    for i,trade in trades[(~trades.close_time.isna()) & (trades.close_time > df.close_time.min())].iterrows():\n",
    "        color='green' if trade['side']==\"BUY\" else 'red'\n",
    "\n",
    "        # Draw close order\n",
    "        #profit = trade[\"close_price\"]-trade[\"open_price\"] if trade[\"close_price\"] else None\n",
    "        status= f\", profit: {round(trade.profit, 10)}\" if trade.profit else \"\"\n",
    "        close_text=f\"close {trade['side'].lower()}\"\n",
    "        close_hover=f\"{trade['close_time']} {close_text} at {str(trade['close_price'])}{status}\"\n",
    "        fig.add_annotation(x=trade['close_time'], \\\n",
    "                           y=trade['close_price'],\\\n",
    "                           text=close_text,\\\n",
    "                           hovertext=close_hover,\\\n",
    "                           showarrow=True,arrowhead=5,arrowcolor=color,ay=-ay,arrowwidth=2,\\\n",
    "                           font={'color':color}\n",
    "                          )\n",
    "    return fig\n",
    "\n",
    "get_chart_figure(candles, trades).show()\n",
    "\n"
   ]
  },
  {
   "cell_type": "markdown",
   "metadata": {},
   "source": []
  },
  {
   "cell_type": "code",
   "execution_count": null,
   "metadata": {},
   "outputs": [],
   "source": []
  },
  {
   "cell_type": "code",
   "execution_count": null,
   "metadata": {},
   "outputs": [],
   "source": [
    "\n",
    "\n"
   ]
  },
  {
   "cell_type": "code",
   "execution_count": null,
   "metadata": {},
   "outputs": [],
   "source": []
  },
  {
   "cell_type": "markdown",
   "metadata": {},
   "source": [
    "## Predicted and actual low/high"
   ]
  },
  {
   "cell_type": "code",
   "execution_count": null,
   "metadata": {},
   "outputs": [],
   "source": [
    "import os\n",
    "import glob\n",
    "import pandas as pd\n",
    "from datetime import timedelta,date\n",
    "import matplotlib.pyplot as plt\n",
    "import plotly.express as px\n",
    "\n",
    "def read_last_data(data_dir, strategy):\n",
    "    \"\"\" Read days from start to end from local predictions history\"\"\"\n",
    "    \n",
    "    def read_last(symbol: str, name: str, n: int):\n",
    "        xy_dir=f\"{data_dir}/{strategy}/Xy\"\n",
    "        file_path = sorted([f for f in os.listdir(xy_dir) if f.endswith(f\"{symbol}_{name}.csv\")])[-1]\n",
    "        file_path = f\"{xy_dir}/{file_path}\"\n",
    "        print(f\"Read from {file_path}\")\n",
    "        return pd.read_csv(file_path, parse_dates=True, index_col=\"datetime\").tail(n)\n",
    "    n=1000\n",
    "    data=read_last(\"BTCUSDT\", \"data\", n)\n",
    "    X=read_last(\"BTCUSDT\", \"X\", n)\n",
    "    y=read_last(\"BTCUSDT\", \"y\", n)\n",
    "    data=pd.merge(data[[\"symbol\"]],y, left_index=True, right_index=True) \n",
    "    #y=pd.concat([data,y])\n",
    "    return data,X,y\n",
    "\n",
    "\n",
    "# Read candles for last 3 days\n",
    "data,x,y = read_last_data(data_dir, strategy)\n",
    "data.tail(100)"
   ]
  },
  {
   "cell_type": "code",
   "execution_count": null,
   "metadata": {},
   "outputs": [],
   "source": [
    "\n",
    "def get_predictions(data):\n",
    "    \"\"\" \n",
    "    Merge predicted and real prices for analysis \n",
    "    \"\"\"\n",
    "    \n",
    "    # Prediction window is constant, get it from last row\n",
    "    predicted=data[[\"bid\",\"ask\",\"bid_min_fut\", \"bid_max_fut\", \"ask_min_fut\", \"ask_max_fut\"]]\n",
    "    predicted.columns=[c.replace(\"_fut\", \"_predicted\") for c in predicted.columns]\n",
    "    predict_window=data[\"predict_window\"].tail(1).values[0]\n",
    "    real_min=data[[\"bid\", \"ask\"]].rolling(predict_window).min().rename(columns={\"bid\":\"bid_min_real\", \"ask\":\"ask_min_real\"})\n",
    "    real_max=data[[\"bid\", \"ask\"]].rolling(predict_window).max().rename(columns={\"bid\":\"bid_max_real\", \"ask\":\"ask_max_real\"})\n",
    "    real=pd.concat([real_min, real_max], axis=1)\n",
    "    real[\"prediction_datetime\"]=real.index.to_series()-pd.to_timedelta(predict_window)\n",
    "    merged=pd.merge_asof(real, predicted, left_on=\"prediction_datetime\", right_index=True, direction='forward')\n",
    "    return merged[[\"bid\", \"ask\", \"bid_min_real\", \"bid_min_predicted\", \"bid_max_real\", \"bid_max_predicted\", \\\n",
    "                   \"ask_min_real\", \"ask_min_predicted\", \"ask_max_real\", \"ask_max_predicted\"]]\n",
    "\n",
    "\n",
    "# predicted=data[[\"bid\",\"ask\",\"bid_min_fut\", \"bid_max_fut\", \"ask_min_fut\", \"ask_max_fut\"]]\n",
    "# predicted.columns=[c.replace(\"_fut\", \"_predicted\") for c in predicted.columns]\n",
    "# predict_window=data[\"predict_window\"].tail(1).values[0]\n",
    "# real_min=data[[\"bid\", \"ask\"]].rolling(predict_window).min().rename(columns={\"bid\":\"bid_min_real\", \"ask\":\"ask_min_real\"})\n",
    "# real_max=data[[\"bid\", \"ask\"]].rolling(predict_window).max().rename(columns={\"bid\":\"bid_max_real\", \"ask\":\"ask_max_real\"})\n",
    "# real=pd.concat([real_min, real_max], axis=1)\n",
    "# real[\"prediction_datetime\"]=real.index.to_series()-pd.to_timedelta(predict_window)\n",
    "\n",
    "# pd.merge_asof(real, predicted, left_on=\"prediction_datetime\", right_index=True, direction='backward')\n",
    "\n",
    "\n",
    "predictions = get_predictions(data)\n",
    "predictions.info()\n",
    "print(f\"predict_window={data['predict_window'].values[-1]}\")"
   ]
  },
  {
   "cell_type": "markdown",
   "metadata": {},
   "source": [
    "## Prediction errors"
   ]
  },
  {
   "cell_type": "code",
   "execution_count": null,
   "metadata": {},
   "outputs": [],
   "source": [
    "def plot_prediction_err(predictions):\n",
    "    df = pd.DataFrame(index=predictions.index)\n",
    "    for bidask in [\"bid\", \"ask\"]:\n",
    "        for maxmin in [\"max\", \"min\"]:\n",
    "            prefix = f\"{bidask}_{maxmin}\"\n",
    "            df[f\"{prefix}_error\"] = predictions[f\"{prefix}_predicted\"] - predictions[f\"{prefix}_real\"]\n",
    "    \n",
    "    px.line(df, title=\"Errors\", markers=True).show()\n",
    "    px.line(df.sum(axis=1).abs().rename(\"error sum\"), title=\"Error summary\", markers=True).show()\n",
    "    \n",
    "plot_prediction_err(predictions)"
   ]
  },
  {
   "cell_type": "code",
   "execution_count": null,
   "metadata": {
    "scrolled": false
   },
   "outputs": [],
   "source": []
  },
  {
   "cell_type": "code",
   "execution_count": null,
   "metadata": {},
   "outputs": [],
   "source": [
    "\n"
   ]
  },
  {
   "cell_type": "code",
   "execution_count": null,
   "metadata": {},
   "outputs": [],
   "source": []
  },
  {
   "cell_type": "code",
   "execution_count": null,
   "metadata": {},
   "outputs": [],
   "source": []
  },
  {
   "cell_type": "code",
   "execution_count": null,
   "metadata": {},
   "outputs": [],
   "source": [
    "import pandas as pd\n",
    "\n",
    "def get_profits(predictions: pd.DataFrame)->pd.DataFrame:\n",
    "    \"\"\"\n",
    "    Buy, sell profit, real and predicted, for each time moment\n",
    "    \"\"\"\n",
    "    \n",
    "    profits = pd.DataFrame()\n",
    "    # Profit/loss ratio to consider buy or sell\n",
    "    min_ratio=1\n",
    "\n",
    "    # Calculate possible profits for buy or sell\n",
    "    profits[\"buy_profit_predicted\"] = predictions[\"bid_max_predicted\"] - predictions[\"ask\"]\n",
    "    profits[\"buy_loss_predicted\"] = predictions[\"ask\"]-predictions[\"bid_min_predicted\"]\n",
    "    profits['buy_ratio_predicted'] = np.where(profits['buy_loss_predicted'] > 0, profits['buy_profit_predicted'] / profits['buy_loss_predicted'],float('inf'))\n",
    "\n",
    "    profits[\"buy_profit_real\"] = predictions[\"bid_max_real\"] - predictions[\"ask\"]\n",
    "    profits[\"buy_loss_real\"] = predictions[\"ask\"]-predictions[\"bid_min_real\"]\n",
    "    profits['buy_ratio_real'] = np.where(profits['buy_loss_real'] > 0, profits['buy_profit_real'] / profits['buy_loss_real'],float('inf'))\n",
    "\n",
    "\n",
    "    profits[\"sell_profit_predicted\"] = predictions[\"bid\"] - predictions[\"ask_min_predicted\"]\n",
    "    profits[\"sell_loss_predicted\"] = predictions[\"ask_max_predicted\"] - predictions[\"bid\"]\n",
    "    profits['sell_ratio_predicted'] = np.where(profits['sell_loss_predicted'] > 0, profits['sell_profit_predicted'] / profits['sell_loss_predicted'],float('inf'))\n",
    "\n",
    "    profits[\"sell_profit_real\"] = predictions[\"bid\"] - predictions[\"ask_min_real\"]\n",
    "    profits[\"sell_loss_real\"] = predictions[\"ask_max_real\"] - predictions[\"bid\"]\n",
    "    profits['sell_ratio_real'] = np.where(profits['sell_loss_real'] > 0, profits['sell_profit_real'] / profits['sell_loss_real'],float('inf'))\n",
    "\n",
    "\n",
    "    profits[\"signal\"] = np.where(profits['buy_ratio_predicted'] >= min_ratio, 1,\n",
    "                                 np.where(profits[\"sell_ratio_predicted\"]>=min_ratio, -1,0 ))\n",
    "\n",
    "    # Calculate real profit or loss\n",
    "    profits[\"profit_real\"] = np.where(\n",
    "        # If buy                             \n",
    "        profits[\"signal\"]==1,\n",
    "        np.where(\n",
    "            # Real movement down was inside what we predicted\n",
    "            (predictions[\"bid_min_real\"] < predictions[\"bid_min_predicted\"]) \n",
    "            & (predictions[\"bid_max_real\"] <= predictions[\"bid_max_predicted\"]),\n",
    "            # Take the profit\n",
    "            profits[\"buy_profit_predicted\"],\n",
    "            # Or fix the loss\n",
    "            -profits[\"buy_loss_predicted\"]\n",
    "        ),\n",
    "        # If Sell                     \n",
    "        np.where(profits[\"signal\"] == -1,\n",
    "            np.where(\n",
    "                # Real movement down was inside what we predicted\n",
    "                (predictions[\"ask_max_real\"] > predictions[\"ask_max_predicted\"]) \n",
    "                & (predictions[\"ask_min_real\"] >= predictions[\"ask_max_predicted\"]),\n",
    "                # Take the profit\n",
    "                profits[\"sell_profit_predicted\"],\n",
    "                # Or fix the loss\n",
    "                -profits[\"sell_loss_predicted\"]\n",
    "            ),\n",
    "            # If neither buy nor sell, return NaN\n",
    "            np.nan\n",
    "        )\n",
    "    )\n",
    "\n",
    "    # Fill in predicted profit\n",
    "    profits[\"profit_predicted\"]=np.where(profits[\"signal\"] == 1, \n",
    "                                         # If buy\n",
    "                                         profits[\"buy_profit_predicted\"], \n",
    "                                        np.where(profits[\"signal\"]==-1,\n",
    "                                                # If sell\n",
    "                                                profits[\"sell_profit_predicted\"],\n",
    "                                                # If neither buy not sell\n",
    "                                                 np.nan))\n",
    "    return profits\n",
    "\n",
    "profits = get_profits(predictions)\n",
    "pd.set_option('display.max_rows', 1000)\n",
    "pd.concat([predictions,profits],axis=1).tail()\n",
    "#profits.dropna().tail(100)\n",
    "\n",
    "\n"
   ]
  },
  {
   "cell_type": "code",
   "execution_count": null,
   "metadata": {},
   "outputs": [],
   "source": [
    "print(f\"Total prediction profit sum: {profits['profit_real'].sum()}\")\n",
    "\n"
   ]
  },
  {
   "cell_type": "code",
   "execution_count": null,
   "metadata": {},
   "outputs": [],
   "source": [
    "#px.line(profits[[\"profit_predicted\", \"profit_real\"]], markers=True)\n",
    "px.line(profits[\"profit_predicted\"]-profits[\"profit_real\"])"
   ]
  },
  {
   "cell_type": "markdown",
   "metadata": {},
   "source": [
    "## Sharp ratio"
   ]
  },
  {
   "cell_type": "code",
   "execution_count": null,
   "metadata": {},
   "outputs": [],
   "source": [
    "sharp_ratio_df=profits[[\"buy_ratio_predicted\", \"buy_ratio_real\", \"sell_ratio_predicted\", \"sell_ratio_real\"]]\n",
    "sharp_ratio_df.tail()\n"
   ]
  },
  {
   "cell_type": "code",
   "execution_count": null,
   "metadata": {},
   "outputs": [],
   "source": [
    "px.line(sharp_ratio_df[[\"buy_ratio_predicted\", \"buy_ratio_real\"]], title=\"Buy sharp ratio\")"
   ]
  },
  {
   "cell_type": "code",
   "execution_count": null,
   "metadata": {},
   "outputs": [],
   "source": [
    "px.line(sharp_ratio_df[[\"sell_ratio_predicted\", \"sell_ratio_real\"]], title=\"Sell sharp ratio\")"
   ]
  },
  {
   "cell_type": "markdown",
   "metadata": {},
   "source": [
    "## Signal analysis"
   ]
  },
  {
   "cell_type": "code",
   "execution_count": null,
   "metadata": {},
   "outputs": [],
   "source": [
    "y.tail()\n",
    "y.plot(y= \"open_signal\", title=\"open signal\")\n",
    "plt.show()"
   ]
  }
 ],
 "metadata": {
  "kernelspec": {
   "display_name": "Python 3 (ipykernel)",
   "language": "python",
   "name": "python3"
  },
  "language_info": {
   "codemirror_mode": {
    "name": "ipython",
    "version": 3
   },
   "file_extension": ".py",
   "mimetype": "text/x-python",
   "name": "python",
   "nbconvert_exporter": "python",
   "pygments_lexer": "ipython3",
   "version": "3.8.10"
  }
 },
 "nbformat": 4,
 "nbformat_minor": 4
}
