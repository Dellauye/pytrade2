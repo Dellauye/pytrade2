{
 "cells": [
  {
   "cell_type": "markdown",
   "metadata": {},
   "source": [
    "# Predict low, high strategy  EDA"
   ]
  },
  {
   "cell_type": "markdown",
   "metadata": {},
   "source": [
    "To install conda and binance packages to this notebook uncomment the code below"
   ]
  },
  {
   "cell_type": "code",
   "execution_count": 1,
   "metadata": {},
   "outputs": [
    {
     "name": "stdout",
     "output_type": "stream",
     "text": [
      "Defaulting to user installation because normal site-packages is not writeable\n",
      "Requirement already satisfied: plotly==5.9.0 in /home/dima/.local/lib/python3.8/site-packages (5.9.0)\n",
      "Requirement already satisfied: tenacity>=6.2.0 in /home/dima/.local/lib/python3.8/site-packages (from plotly==5.9.0) (8.0.1)\n",
      "Note: you may need to restart the kernel to use updated packages.\n",
      "Defaulting to user installation because normal site-packages is not writeable\n",
      "Requirement already satisfied: twisted in /home/dima/.local/lib/python3.8/site-packages (22.10.0)\n",
      "Requirement already satisfied: zope.interface>=4.4.2 in /home/dima/.local/lib/python3.8/site-packages (from twisted) (6.0)\n",
      "Requirement already satisfied: constantly>=15.1 in /home/dima/.local/lib/python3.8/site-packages (from twisted) (15.1.0)\n",
      "Requirement already satisfied: incremental>=21.3.0 in /home/dima/.local/lib/python3.8/site-packages (from twisted) (22.10.0)\n",
      "Requirement already satisfied: Automat>=0.8.0 in /home/dima/.local/lib/python3.8/site-packages (from twisted) (22.10.0)\n",
      "Requirement already satisfied: hyperlink>=17.1.1 in /home/dima/.local/lib/python3.8/site-packages (from twisted) (21.0.0)\n",
      "Requirement already satisfied: attrs>=19.2.0 in /home/dima/.local/lib/python3.8/site-packages (from twisted) (23.1.0)\n",
      "Requirement already satisfied: typing-extensions>=3.6.5 in /home/dima/.local/lib/python3.8/site-packages (from twisted) (4.0.1)\n",
      "Requirement already satisfied: six in /usr/lib/python3/dist-packages (from Automat>=0.8.0->twisted) (1.14.0)\n",
      "Requirement already satisfied: idna>=2.5 in /usr/lib/python3/dist-packages (from hyperlink>=17.1.1->twisted) (2.8)\n",
      "Requirement already satisfied: setuptools in /usr/lib/python3/dist-packages (from zope.interface>=4.4.2->twisted) (45.2.0)\n",
      "Note: you may need to restart the kernel to use updated packages.\n",
      "Defaulting to user installation because normal site-packages is not writeable\n",
      "Requirement already satisfied: binance-connector==1.13.0 in /home/dima/.local/lib/python3.8/site-packages (1.13.0)\n",
      "Requirement already satisfied: autobahn>=21.2.1 in /home/dima/.local/lib/python3.8/site-packages (from binance-connector==1.13.0) (23.1.2)\n",
      "Requirement already satisfied: Twisted>=21.2.0 in /home/dima/.local/lib/python3.8/site-packages (from binance-connector==1.13.0) (22.10.0)\n",
      "Requirement already satisfied: requests>=2.25.1 in /home/dima/.local/lib/python3.8/site-packages (from binance-connector==1.13.0) (2.30.0)\n",
      "Requirement already satisfied: pyOpenSSL>=19.0.0 in /home/dima/.local/lib/python3.8/site-packages (from binance-connector==1.13.0) (23.1.1)\n",
      "Requirement already satisfied: service-identity>=21.1.0 in /home/dima/.local/lib/python3.8/site-packages (from binance-connector==1.13.0) (21.1.0)\n",
      "Requirement already satisfied: cryptography>=3.4.6 in /home/dima/.local/lib/python3.8/site-packages (from autobahn>=21.2.1->binance-connector==1.13.0) (40.0.2)\n",
      "Requirement already satisfied: hyperlink>=21.0.0 in /home/dima/.local/lib/python3.8/site-packages (from autobahn>=21.2.1->binance-connector==1.13.0) (21.0.0)\n",
      "Requirement already satisfied: setuptools in /usr/lib/python3/dist-packages (from autobahn>=21.2.1->binance-connector==1.13.0) (45.2.0)\n",
      "Requirement already satisfied: txaio>=21.2.1 in /home/dima/.local/lib/python3.8/site-packages (from autobahn>=21.2.1->binance-connector==1.13.0) (23.1.1)\n",
      "Requirement already satisfied: charset-normalizer<4,>=2 in /home/dima/.local/lib/python3.8/site-packages (from requests>=2.25.1->binance-connector==1.13.0) (3.1.0)\n",
      "Requirement already satisfied: idna<4,>=2.5 in /usr/lib/python3/dist-packages (from requests>=2.25.1->binance-connector==1.13.0) (2.8)\n",
      "Requirement already satisfied: urllib3<3,>=1.21.1 in /usr/lib/python3/dist-packages (from requests>=2.25.1->binance-connector==1.13.0) (1.25.8)\n",
      "Requirement already satisfied: certifi>=2017.4.17 in /usr/lib/python3/dist-packages (from requests>=2.25.1->binance-connector==1.13.0) (2019.11.28)\n",
      "Requirement already satisfied: attrs>=19.1.0 in /home/dima/.local/lib/python3.8/site-packages (from service-identity>=21.1.0->binance-connector==1.13.0) (23.1.0)\n",
      "Requirement already satisfied: pyasn1-modules in /home/dima/.local/lib/python3.8/site-packages (from service-identity>=21.1.0->binance-connector==1.13.0) (0.2.8)\n",
      "Requirement already satisfied: pyasn1 in /home/dima/.local/lib/python3.8/site-packages (from service-identity>=21.1.0->binance-connector==1.13.0) (0.4.8)\n",
      "Requirement already satisfied: six in /usr/lib/python3/dist-packages (from service-identity>=21.1.0->binance-connector==1.13.0) (1.14.0)\n",
      "Requirement already satisfied: zope.interface>=4.4.2 in /home/dima/.local/lib/python3.8/site-packages (from Twisted>=21.2.0->binance-connector==1.13.0) (6.0)\n",
      "Requirement already satisfied: constantly>=15.1 in /home/dima/.local/lib/python3.8/site-packages (from Twisted>=21.2.0->binance-connector==1.13.0) (15.1.0)\n",
      "Requirement already satisfied: incremental>=21.3.0 in /home/dima/.local/lib/python3.8/site-packages (from Twisted>=21.2.0->binance-connector==1.13.0) (22.10.0)\n",
      "Requirement already satisfied: Automat>=0.8.0 in /home/dima/.local/lib/python3.8/site-packages (from Twisted>=21.2.0->binance-connector==1.13.0) (22.10.0)\n",
      "Requirement already satisfied: typing-extensions>=3.6.5 in /home/dima/.local/lib/python3.8/site-packages (from Twisted>=21.2.0->binance-connector==1.13.0) (4.0.1)\n",
      "Requirement already satisfied: cffi>=1.12 in /home/dima/.local/lib/python3.8/site-packages (from cryptography>=3.4.6->autobahn>=21.2.1->binance-connector==1.13.0) (1.15.1)\n",
      "Requirement already satisfied: pycparser in /home/dima/.local/lib/python3.8/site-packages (from cffi>=1.12->cryptography>=3.4.6->autobahn>=21.2.1->binance-connector==1.13.0) (2.21)\n",
      "Note: you may need to restart the kernel to use updated packages.\n",
      "Defaulting to user installation because normal site-packages is not writeable\n",
      "Requirement already satisfied: pandas in /home/dima/.local/lib/python3.8/site-packages (1.4.2)\n",
      "Requirement already satisfied: python-dateutil>=2.8.1 in /home/dima/.local/lib/python3.8/site-packages (from pandas) (2.8.2)\n",
      "Requirement already satisfied: pytz>=2020.1 in /home/dima/.local/lib/python3.8/site-packages (from pandas) (2022.1)\n",
      "Requirement already satisfied: numpy>=1.18.5 in /home/dima/.local/lib/python3.8/site-packages (from pandas) (1.21.5)\n",
      "Requirement already satisfied: six>=1.5 in /usr/lib/python3/dist-packages (from python-dateutil>=2.8.1->pandas) (1.14.0)\n",
      "Note: you may need to restart the kernel to use updated packages.\n"
     ]
    }
   ],
   "source": [
    "#%conda install -c plotly plotly=5.9.0\n",
    "#%conda install pip\n",
    "#%conda install twisted\n",
    "%pip install plotly==5.9.0\n",
    "%pip install twisted\n",
    "%pip install binance-connector==1.13.0\n",
    "%pip install pandas\n",
    "import pandas as pd\n",
    "pd.set_option('display.max_columns', None)\n",
    "pd.set_option('display.expand_frame_repr', False)\n",
    "pd.set_option('max_colwidth', None)"
   ]
  },
  {
   "cell_type": "code",
   "execution_count": 2,
   "metadata": {},
   "outputs": [
    {
     "name": "stdout",
     "output_type": "stream",
     "text": [
      "Downloading bots data from 84.201.128.116 to /home/dima/projects/biml/deploy/yandex_cloud/../../data/yandex-cloud\n",
      "rsync -v -r yc-user@84.201.128.116:/home/yc-user/biml/data/ /home/dima/projects/biml/deploy/yandex_cloud/../../data/yandex-cloud\n",
      "receiving incremental file list\n",
      "LSTMStrategy/LSTMStrategy.db\n",
      "LSTMStrategy/Xy/2023-05-10_BTCUSDT_X.csv\n",
      "LSTMStrategy/Xy/2023-05-10_BTCUSDT_data.csv\n",
      "LSTMStrategy/Xy/2023-05-10_BTCUSDT_y.csv\n",
      "LSTMStrategy/weights/2023-05-10T20:59:47.450672.data-00000-of-00001\n",
      "LSTMStrategy/weights/2023-05-10T20:59:47.450672.index\n",
      "LSTMStrategy/weights/checkpoint\n",
      "\n",
      "sent 33,774 bytes  received 2,385,875 bytes  967,859.60 bytes/sec\n",
      "total size is 16,580,059  speedup is 6.85\n"
     ]
    },
    {
     "data": {
      "text/plain": [
       "0"
      ]
     },
     "execution_count": 2,
     "metadata": {},
     "output_type": "execute_result"
    }
   ],
   "source": [
    "\n",
    "import os\n",
    "# Downloading latest bots data\n",
    "os.system(\"cd ./../deploy/yandex_cloud; ./bots_get_data.sh\")"
   ]
  },
  {
   "cell_type": "markdown",
   "metadata": {},
   "source": [
    "Init binance client"
   ]
  },
  {
   "cell_type": "code",
   "execution_count": 3,
   "metadata": {},
   "outputs": [],
   "source": [
    "from binance.spot import Spot as Client\n",
    "import os\n",
    "import sys\n",
    "import yaml\n",
    "\n",
    "# Load \n",
    "def load_config():\n",
    "    \"\"\"\n",
    "    Load config from cfg folder respecting the order: defaults, app.yaml, environment vars\n",
    "    \"\"\"\n",
    "    # Defaults\n",
    "    cfg_dir=\"./../biml/cfg\"\n",
    "    default_cfg_path = f\"{cfg_dir}/app-defaults.yaml\"\n",
    "    with open(default_cfg_path, \"r\") as appdefaults:\n",
    "        config = yaml.safe_load(appdefaults)\n",
    "\n",
    "    # Custom config, should contain custom information,\n",
    "    cfg_path = f\"{cfg_dir}/app.yaml\"\n",
    "    if os.path.exists(cfg_path):\n",
    "        with open(cfg_path) as app:\n",
    "            config.update(yaml.safe_load(app))\n",
    "    else:\n",
    "        sys.exit(\n",
    "            f\"Config {cfg_path} not found. Please copy cfg/app-defaults.yaml to {cfg_path} \"\n",
    "            f\"and update connection info there.\")\n",
    "\n",
    "    # Enviroment variabless\n",
    "    config.update(os.environ)\n",
    "    return config\n",
    "\n",
    "def load_config_yc():\n",
    "    \"\"\"\n",
    "    Load config from cfg folder respecting the order: defaults, app.yaml, environment vars\n",
    "    \"\"\"\n",
    "    project_dir=\"./..\"\n",
    "    # Defaults\n",
    "    cfg_path = f\"{project_dir}/deploy/yandex_cloud/secret/app.yaml\"\n",
    "    with open(cfg_path, \"r\") as appdefaults:\n",
    "        config = yaml.safe_load(appdefaults)\n",
    "    return config\n",
    "\n",
    "def create_client(strategy: str):\n",
    "        # Create binance client\n",
    "        config=load_config()\n",
    "        # Uncomment if we are analysing bot from yandex cloud\n",
    "        config.update(load_config_yc())\n",
    "        \n",
    "        strategy=strategy.lower()\n",
    "        key,secret,url=config[f\"biml.connector.{strategy}.key\"],config[f\"biml.connector.{strategy}.secret\"],config[\"biml.connector.url\"]\n",
    "        return Client(key=key, secret=secret, base_url=url, timeout=10)\n",
    "\n",
    "#strategy=\"SimpleKerasStrategy\"\n",
    "strategy=\"LSTMStrategy\"\n",
    "\n",
    "client = create_client(strategy)\n",
    "\n"
   ]
  },
  {
   "cell_type": "markdown",
   "metadata": {},
   "source": [
    "## Account and orders"
   ]
  },
  {
   "cell_type": "code",
   "execution_count": 4,
   "metadata": {},
   "outputs": [
    {
     "name": "stdout",
     "output_type": "stream",
     "text": [
      "My USDT amount: ['9999.82493648']\n",
      "{'makerCommission': 0, 'takerCommission': 0, 'buyerCommission': 0, 'sellerCommission': 0, 'commissionRates': {'maker': '0.00000000', 'taker': '0.00000000', 'buyer': '0.00000000', 'seller': '0.00000000'}, 'canTrade': True, 'canWithdraw': False, 'canDeposit': False, 'brokered': False, 'requireSelfTradePrevention': False, 'updateTime': 1683752338846, 'accountType': 'SPOT', 'balances': [{'asset': 'BNB', 'free': '1000.00000000', 'locked': '0.00000000'}, {'asset': 'BTC', 'free': '1.00000000', 'locked': '0.00000000'}, {'asset': 'BUSD', 'free': '10000.00000000', 'locked': '0.00000000'}, {'asset': 'ETH', 'free': '100.00000000', 'locked': '0.00000000'}, {'asset': 'LTC', 'free': '500.00000000', 'locked': '0.00000000'}, {'asset': 'TRX', 'free': '500000.00000000', 'locked': '0.00000000'}, {'asset': 'USDT', 'free': '9999.82493648', 'locked': '0.00000000'}, {'asset': 'XRP', 'free': '50000.00000000', 'locked': '0.00000000'}], 'permissions': ['SPOT']}\n",
      "2023-05-10 20:58:58.846000\n"
     ]
    }
   ],
   "source": [
    "account=client.account()\n",
    "usdt_free=[a[\"free\"] for a in account[\"balances\"] if a[\"asset\"]==\"USDT\"]\n",
    "# update_time=account[\"update_time\"]\n",
    "# print(f\"account update time:{update_time}\")\n",
    "print(f\"My USDT amount: {usdt_free}\")\n",
    "\n",
    "print(account)\n",
    "print(str(pd.to_datetime(account[\"updateTime\"], unit=\"ms\")))\n",
    "# btc 1.15798200\n",
    "#usdt 5134.30859706 26.04.2023 14:26\n",
    "\n"
   ]
  },
  {
   "cell_type": "markdown",
   "metadata": {},
   "source": [
    "My trades from Binance"
   ]
  },
  {
   "cell_type": "code",
   "execution_count": 5,
   "metadata": {},
   "outputs": [
    {
     "data": {
      "text/html": [
       "<div>\n",
       "<style scoped>\n",
       "    .dataframe tbody tr th:only-of-type {\n",
       "        vertical-align: middle;\n",
       "    }\n",
       "\n",
       "    .dataframe tbody tr th {\n",
       "        vertical-align: top;\n",
       "    }\n",
       "\n",
       "    .dataframe thead th {\n",
       "        text-align: right;\n",
       "    }\n",
       "</style>\n",
       "<table border=\"1\" class=\"dataframe\">\n",
       "  <thead>\n",
       "    <tr style=\"text-align: right;\">\n",
       "      <th></th>\n",
       "      <th>symbol</th>\n",
       "      <th>id</th>\n",
       "      <th>orderId</th>\n",
       "      <th>orderListId</th>\n",
       "      <th>price</th>\n",
       "      <th>qty</th>\n",
       "      <th>quoteQty</th>\n",
       "      <th>commission</th>\n",
       "      <th>commissionAsset</th>\n",
       "      <th>time</th>\n",
       "      <th>isBuyer</th>\n",
       "      <th>isMaker</th>\n",
       "      <th>isBestMatch</th>\n",
       "    </tr>\n",
       "  </thead>\n",
       "  <tbody>\n",
       "    <tr>\n",
       "      <th>400</th>\n",
       "      <td>BTCUSDT</td>\n",
       "      <td>1100410</td>\n",
       "      <td>3055850</td>\n",
       "      <td>6188</td>\n",
       "      <td>28120.57000000</td>\n",
       "      <td>0.00100000</td>\n",
       "      <td>28.12057000</td>\n",
       "      <td>0.00000000</td>\n",
       "      <td>BTC</td>\n",
       "      <td>2023-05-10 15:04:38.774</td>\n",
       "      <td>True</td>\n",
       "      <td>False</td>\n",
       "      <td>True</td>\n",
       "    </tr>\n",
       "    <tr>\n",
       "      <th>401</th>\n",
       "      <td>BTCUSDT</td>\n",
       "      <td>1100434</td>\n",
       "      <td>3055902</td>\n",
       "      <td>-1</td>\n",
       "      <td>28124.99000000</td>\n",
       "      <td>0.00100000</td>\n",
       "      <td>28.12499000</td>\n",
       "      <td>0.00000000</td>\n",
       "      <td>USDT</td>\n",
       "      <td>2023-05-10 15:04:49.750</td>\n",
       "      <td>False</td>\n",
       "      <td>False</td>\n",
       "      <td>True</td>\n",
       "    </tr>\n",
       "    <tr>\n",
       "      <th>402</th>\n",
       "      <td>BTCUSDT</td>\n",
       "      <td>1100488</td>\n",
       "      <td>3055907</td>\n",
       "      <td>6189</td>\n",
       "      <td>28132.53000000</td>\n",
       "      <td>0.00100000</td>\n",
       "      <td>28.13253000</td>\n",
       "      <td>0.00000000</td>\n",
       "      <td>BTC</td>\n",
       "      <td>2023-05-10 15:05:20.758</td>\n",
       "      <td>True</td>\n",
       "      <td>False</td>\n",
       "      <td>True</td>\n",
       "    </tr>\n",
       "    <tr>\n",
       "      <th>403</th>\n",
       "      <td>BTCUSDT</td>\n",
       "      <td>1105782</td>\n",
       "      <td>3071231</td>\n",
       "      <td>-1</td>\n",
       "      <td>28149.34000000</td>\n",
       "      <td>0.00100000</td>\n",
       "      <td>28.14934000</td>\n",
       "      <td>0.00000000</td>\n",
       "      <td>BTC</td>\n",
       "      <td>2023-05-10 15:58:59.386</td>\n",
       "      <td>True</td>\n",
       "      <td>False</td>\n",
       "      <td>True</td>\n",
       "    </tr>\n",
       "    <tr>\n",
       "      <th>404</th>\n",
       "      <td>BTCUSDT</td>\n",
       "      <td>1106301</td>\n",
       "      <td>3071238</td>\n",
       "      <td>6204</td>\n",
       "      <td>28178.42000000</td>\n",
       "      <td>0.00100000</td>\n",
       "      <td>28.17842000</td>\n",
       "      <td>0.00000000</td>\n",
       "      <td>USDT</td>\n",
       "      <td>2023-05-10 16:03:46.941</td>\n",
       "      <td>False</td>\n",
       "      <td>True</td>\n",
       "      <td>True</td>\n",
       "    </tr>\n",
       "    <tr>\n",
       "      <th>...</th>\n",
       "      <td>...</td>\n",
       "      <td>...</td>\n",
       "      <td>...</td>\n",
       "      <td>...</td>\n",
       "      <td>...</td>\n",
       "      <td>...</td>\n",
       "      <td>...</td>\n",
       "      <td>...</td>\n",
       "      <td>...</td>\n",
       "      <td>...</td>\n",
       "      <td>...</td>\n",
       "      <td>...</td>\n",
       "      <td>...</td>\n",
       "    </tr>\n",
       "    <tr>\n",
       "      <th>495</th>\n",
       "      <td>BTCUSDT</td>\n",
       "      <td>1147024</td>\n",
       "      <td>3167688</td>\n",
       "      <td>6357</td>\n",
       "      <td>27863.05000000</td>\n",
       "      <td>0.00100000</td>\n",
       "      <td>27.86305000</td>\n",
       "      <td>0.00000000</td>\n",
       "      <td>USDT</td>\n",
       "      <td>2023-05-10 20:53:23.796</td>\n",
       "      <td>False</td>\n",
       "      <td>True</td>\n",
       "      <td>True</td>\n",
       "    </tr>\n",
       "    <tr>\n",
       "      <th>496</th>\n",
       "      <td>BTCUSDT</td>\n",
       "      <td>1147031</td>\n",
       "      <td>3167750</td>\n",
       "      <td>-1</td>\n",
       "      <td>27863.07000000</td>\n",
       "      <td>0.00100000</td>\n",
       "      <td>27.86307000</td>\n",
       "      <td>0.00000000</td>\n",
       "      <td>BTC</td>\n",
       "      <td>2023-05-10 20:53:32.146</td>\n",
       "      <td>True</td>\n",
       "      <td>False</td>\n",
       "      <td>True</td>\n",
       "    </tr>\n",
       "    <tr>\n",
       "      <th>497</th>\n",
       "      <td>BTCUSDT</td>\n",
       "      <td>1147042</td>\n",
       "      <td>3167755</td>\n",
       "      <td>6358</td>\n",
       "      <td>27860.99000000</td>\n",
       "      <td>0.00100000</td>\n",
       "      <td>27.86099000</td>\n",
       "      <td>0.00000000</td>\n",
       "      <td>USDT</td>\n",
       "      <td>2023-05-10 20:53:44.819</td>\n",
       "      <td>False</td>\n",
       "      <td>False</td>\n",
       "      <td>True</td>\n",
       "    </tr>\n",
       "    <tr>\n",
       "      <th>498</th>\n",
       "      <td>BTCUSDT</td>\n",
       "      <td>1147190</td>\n",
       "      <td>3168314</td>\n",
       "      <td>-1</td>\n",
       "      <td>27867.42000000</td>\n",
       "      <td>0.00100000</td>\n",
       "      <td>27.86742000</td>\n",
       "      <td>0.00000000</td>\n",
       "      <td>BTC</td>\n",
       "      <td>2023-05-10 20:55:29.247</td>\n",
       "      <td>True</td>\n",
       "      <td>False</td>\n",
       "      <td>True</td>\n",
       "    </tr>\n",
       "    <tr>\n",
       "      <th>499</th>\n",
       "      <td>BTCUSDT</td>\n",
       "      <td>1147363</td>\n",
       "      <td>3168321</td>\n",
       "      <td>6360</td>\n",
       "      <td>27865.43000000</td>\n",
       "      <td>0.00100000</td>\n",
       "      <td>27.86543000</td>\n",
       "      <td>0.00000000</td>\n",
       "      <td>USDT</td>\n",
       "      <td>2023-05-10 20:58:58.846</td>\n",
       "      <td>False</td>\n",
       "      <td>False</td>\n",
       "      <td>True</td>\n",
       "    </tr>\n",
       "  </tbody>\n",
       "</table>\n",
       "<p>100 rows × 13 columns</p>\n",
       "</div>"
      ],
      "text/plain": [
       "      symbol       id  orderId  orderListId           price         qty     quoteQty  commission commissionAsset                    time  isBuyer  isMaker  isBestMatch\n",
       "400  BTCUSDT  1100410  3055850         6188  28120.57000000  0.00100000  28.12057000  0.00000000             BTC 2023-05-10 15:04:38.774     True    False         True\n",
       "401  BTCUSDT  1100434  3055902           -1  28124.99000000  0.00100000  28.12499000  0.00000000            USDT 2023-05-10 15:04:49.750    False    False         True\n",
       "402  BTCUSDT  1100488  3055907         6189  28132.53000000  0.00100000  28.13253000  0.00000000             BTC 2023-05-10 15:05:20.758     True    False         True\n",
       "403  BTCUSDT  1105782  3071231           -1  28149.34000000  0.00100000  28.14934000  0.00000000             BTC 2023-05-10 15:58:59.386     True    False         True\n",
       "404  BTCUSDT  1106301  3071238         6204  28178.42000000  0.00100000  28.17842000  0.00000000            USDT 2023-05-10 16:03:46.941    False     True         True\n",
       "..       ...      ...      ...          ...             ...         ...          ...         ...             ...                     ...      ...      ...          ...\n",
       "495  BTCUSDT  1147024  3167688         6357  27863.05000000  0.00100000  27.86305000  0.00000000            USDT 2023-05-10 20:53:23.796    False     True         True\n",
       "496  BTCUSDT  1147031  3167750           -1  27863.07000000  0.00100000  27.86307000  0.00000000             BTC 2023-05-10 20:53:32.146     True    False         True\n",
       "497  BTCUSDT  1147042  3167755         6358  27860.99000000  0.00100000  27.86099000  0.00000000            USDT 2023-05-10 20:53:44.819    False    False         True\n",
       "498  BTCUSDT  1147190  3168314           -1  27867.42000000  0.00100000  27.86742000  0.00000000             BTC 2023-05-10 20:55:29.247     True    False         True\n",
       "499  BTCUSDT  1147363  3168321         6360  27865.43000000  0.00100000  27.86543000  0.00000000            USDT 2023-05-10 20:58:58.846    False    False         True\n",
       "\n",
       "[100 rows x 13 columns]"
      ]
     },
     "execution_count": 5,
     "metadata": {},
     "output_type": "execute_result"
    }
   ],
   "source": [
    "symbol=\"BTCUSDT\"\n",
    "mytrades=pd.DataFrame(client.my_trades(symbol))\n",
    "mytrades[\"time\"] = pd.to_datetime(mytrades[\"time\"], unit='ms')\n",
    "mytrades.tail(100)\n"
   ]
  },
  {
   "cell_type": "markdown",
   "metadata": {},
   "source": [
    "Trades from bot database"
   ]
  },
  {
   "cell_type": "code",
   "execution_count": 6,
   "metadata": {},
   "outputs": [
    {
     "data": {
      "text/html": [
       "<div>\n",
       "<style scoped>\n",
       "    .dataframe tbody tr th:only-of-type {\n",
       "        vertical-align: middle;\n",
       "    }\n",
       "\n",
       "    .dataframe tbody tr th {\n",
       "        vertical-align: top;\n",
       "    }\n",
       "\n",
       "    .dataframe thead th {\n",
       "        text-align: right;\n",
       "    }\n",
       "</style>\n",
       "<table border=\"1\" class=\"dataframe\">\n",
       "  <thead>\n",
       "    <tr style=\"text-align: right;\">\n",
       "      <th></th>\n",
       "      <th>id</th>\n",
       "      <th>ticker</th>\n",
       "      <th>side</th>\n",
       "      <th>open_time</th>\n",
       "      <th>open_price</th>\n",
       "      <th>open_order_id</th>\n",
       "      <th>stop_loss_price</th>\n",
       "      <th>take_profit_price</th>\n",
       "      <th>stop_loss_order_id</th>\n",
       "      <th>trailing_delta</th>\n",
       "      <th>quantity</th>\n",
       "      <th>close_time</th>\n",
       "      <th>close_price</th>\n",
       "      <th>close_order_id</th>\n",
       "      <th>profit</th>\n",
       "    </tr>\n",
       "  </thead>\n",
       "  <tbody>\n",
       "    <tr>\n",
       "      <th>1</th>\n",
       "      <td>2</td>\n",
       "      <td>BTCUSDT</td>\n",
       "      <td>BUY</td>\n",
       "      <td>2023-05-10 20:50:49.296963</td>\n",
       "      <td>27873.16</td>\n",
       "      <td>3166963</td>\n",
       "      <td>27870.917392</td>\n",
       "      <td>27878.480435</td>\n",
       "      <td>6355</td>\n",
       "      <td>None</td>\n",
       "      <td>0.001</td>\n",
       "      <td>2023-05-10 20:50:49.904</td>\n",
       "      <td>27870.48</td>\n",
       "      <td>3166968</td>\n",
       "      <td>-0.00268</td>\n",
       "    </tr>\n",
       "    <tr>\n",
       "      <th>2</th>\n",
       "      <td>3</td>\n",
       "      <td>BTCUSDT</td>\n",
       "      <td>BUY</td>\n",
       "      <td>2023-05-10 20:51:16.902684</td>\n",
       "      <td>27871.46</td>\n",
       "      <td>3167105</td>\n",
       "      <td>27869.061869</td>\n",
       "      <td>27886.352091</td>\n",
       "      <td>6356</td>\n",
       "      <td>None</td>\n",
       "      <td>0.001</td>\n",
       "      <td>2023-05-10 20:51:56.824</td>\n",
       "      <td>27869.01</td>\n",
       "      <td>3167107</td>\n",
       "      <td>-0.00245</td>\n",
       "    </tr>\n",
       "    <tr>\n",
       "      <th>3</th>\n",
       "      <td>4</td>\n",
       "      <td>BTCUSDT</td>\n",
       "      <td>BUY</td>\n",
       "      <td>2023-05-10 20:53:20.182227</td>\n",
       "      <td>27860.19</td>\n",
       "      <td>3167681</td>\n",
       "      <td>27858.411961</td>\n",
       "      <td>27863.050215</td>\n",
       "      <td>6357</td>\n",
       "      <td>None</td>\n",
       "      <td>0.001</td>\n",
       "      <td>2023-05-10 20:53:23.796</td>\n",
       "      <td>27863.05</td>\n",
       "      <td>3167688</td>\n",
       "      <td>0.00286</td>\n",
       "    </tr>\n",
       "    <tr>\n",
       "      <th>4</th>\n",
       "      <td>5</td>\n",
       "      <td>BTCUSDT</td>\n",
       "      <td>BUY</td>\n",
       "      <td>2023-05-10 20:53:33.039178</td>\n",
       "      <td>27863.07</td>\n",
       "      <td>3167750</td>\n",
       "      <td>27860.991782</td>\n",
       "      <td>27868.245192</td>\n",
       "      <td>6358</td>\n",
       "      <td>None</td>\n",
       "      <td>0.001</td>\n",
       "      <td>2023-05-10 20:53:44.819</td>\n",
       "      <td>27860.99</td>\n",
       "      <td>3167755</td>\n",
       "      <td>-0.00208</td>\n",
       "    </tr>\n",
       "    <tr>\n",
       "      <th>5</th>\n",
       "      <td>6</td>\n",
       "      <td>BTCUSDT</td>\n",
       "      <td>BUY</td>\n",
       "      <td>2023-05-10 20:55:30.137882</td>\n",
       "      <td>27867.42</td>\n",
       "      <td>3168314</td>\n",
       "      <td>27865.485582</td>\n",
       "      <td>27873.716332</td>\n",
       "      <td>6360</td>\n",
       "      <td>None</td>\n",
       "      <td>0.001</td>\n",
       "      <td>2023-05-10 20:58:58.846</td>\n",
       "      <td>27865.43</td>\n",
       "      <td>3168321</td>\n",
       "      <td>-0.00199</td>\n",
       "    </tr>\n",
       "  </tbody>\n",
       "</table>\n",
       "</div>"
      ],
      "text/plain": [
       "   id   ticker side                  open_time  open_price open_order_id  stop_loss_price  take_profit_price stop_loss_order_id trailing_delta  quantity              close_time  close_price close_order_id   profit\n",
       "1   2  BTCUSDT  BUY 2023-05-10 20:50:49.296963    27873.16       3166963     27870.917392       27878.480435               6355           None     0.001 2023-05-10 20:50:49.904     27870.48        3166968 -0.00268\n",
       "2   3  BTCUSDT  BUY 2023-05-10 20:51:16.902684    27871.46       3167105     27869.061869       27886.352091               6356           None     0.001 2023-05-10 20:51:56.824     27869.01        3167107 -0.00245\n",
       "3   4  BTCUSDT  BUY 2023-05-10 20:53:20.182227    27860.19       3167681     27858.411961       27863.050215               6357           None     0.001 2023-05-10 20:53:23.796     27863.05        3167688  0.00286\n",
       "4   5  BTCUSDT  BUY 2023-05-10 20:53:33.039178    27863.07       3167750     27860.991782       27868.245192               6358           None     0.001 2023-05-10 20:53:44.819     27860.99        3167755 -0.00208\n",
       "5   6  BTCUSDT  BUY 2023-05-10 20:55:30.137882    27867.42       3168314     27865.485582       27873.716332               6360           None     0.001 2023-05-10 20:58:58.846     27865.43        3168321 -0.00199"
      ]
     },
     "execution_count": 6,
     "metadata": {},
     "output_type": "execute_result"
    }
   ],
   "source": [
    "import pandas as pd\n",
    "import numpy as np\n",
    "\n",
    "def get_trades(strategy: str):\n",
    "    import sqlite3\n",
    "    db_path=f\"../data/yandex-cloud/{strategy}/{strategy}.db\"\n",
    "\n",
    "    with sqlite3.connect(db_path) as conn:\n",
    "        trades=pd.read_sql_query(\"SELECT * FROM trade ORDER BY open_time\",conn,\n",
    "                                 parse_dates=[\"open_time\", \"close_time\"])#.set_index(\"open_time\", drop=False)\n",
    "    trades[\"profit\"] = np.where(trades[\"side\"] == \"BUY\", \n",
    "                                (trades[\"close_price\"]-trades[\"open_price\"])*trades[\"quantity\"],\n",
    "                                (trades[\"open_price\"]-trades[\"close_price\"])*trades[\"quantity\"],\n",
    "                               )\n",
    "    return trades\n",
    "\n",
    "trades=get_trades(strategy)\n",
    "trades.tail()"
   ]
  },
  {
   "cell_type": "code",
   "execution_count": 7,
   "metadata": {},
   "outputs": [
    {
     "name": "stdout",
     "output_type": "stream",
     "text": [
      "Total profit: 0.0016700000000018913\n"
     ]
    }
   ],
   "source": [
    "print(f\"Total profit: {trades['profit'].sum()}\")"
   ]
  },
  {
   "cell_type": "markdown",
   "metadata": {},
   "source": [
    "Opened trades from trade bot database"
   ]
  },
  {
   "cell_type": "code",
   "execution_count": 8,
   "metadata": {},
   "outputs": [
    {
     "data": {
      "text/html": [
       "<div>\n",
       "<style scoped>\n",
       "    .dataframe tbody tr th:only-of-type {\n",
       "        vertical-align: middle;\n",
       "    }\n",
       "\n",
       "    .dataframe tbody tr th {\n",
       "        vertical-align: top;\n",
       "    }\n",
       "\n",
       "    .dataframe thead th {\n",
       "        text-align: right;\n",
       "    }\n",
       "</style>\n",
       "<table border=\"1\" class=\"dataframe\">\n",
       "  <thead>\n",
       "    <tr style=\"text-align: right;\">\n",
       "      <th></th>\n",
       "      <th>id</th>\n",
       "      <th>ticker</th>\n",
       "      <th>side</th>\n",
       "      <th>open_time</th>\n",
       "      <th>open_price</th>\n",
       "      <th>open_order_id</th>\n",
       "      <th>stop_loss_price</th>\n",
       "      <th>take_profit_price</th>\n",
       "      <th>stop_loss_order_id</th>\n",
       "      <th>trailing_delta</th>\n",
       "      <th>quantity</th>\n",
       "      <th>close_time</th>\n",
       "      <th>close_price</th>\n",
       "      <th>close_order_id</th>\n",
       "      <th>profit</th>\n",
       "    </tr>\n",
       "  </thead>\n",
       "  <tbody>\n",
       "  </tbody>\n",
       "</table>\n",
       "</div>"
      ],
      "text/plain": [
       "Empty DataFrame\n",
       "Columns: [id, ticker, side, open_time, open_price, open_order_id, stop_loss_price, take_profit_price, stop_loss_order_id, trailing_delta, quantity, close_time, close_price, close_order_id, profit]\n",
       "Index: []"
      ]
     },
     "execution_count": 8,
     "metadata": {},
     "output_type": "execute_result"
    }
   ],
   "source": [
    "trades[trades.close_time.isna()].tail()"
   ]
  },
  {
   "cell_type": "code",
   "execution_count": 9,
   "metadata": {},
   "outputs": [],
   "source": [
    "#trades[[\"open_price\", \"close_price\"]].tail()\n",
    "#(trades[\"open_price\"] - trades[\"take_profit_price\"]).abs().max()\n",
    "#trades[[\"open_price\", \"stop_loss_price\"]].info()\n",
    "#df[\"stop_loss\"] = df[\"open_price\"].astype(float) - df[\"stop_loss_price\"].astype(float)\n",
    "#df[\"stop_loss\"] = df[\"stop_loss\"].abs()\n",
    "\n",
    "\n",
    "#df.info()"
   ]
  },
  {
   "cell_type": "markdown",
   "metadata": {},
   "source": [
    "Last orders, provided by Binance"
   ]
  },
  {
   "cell_type": "code",
   "execution_count": 10,
   "metadata": {},
   "outputs": [
    {
     "data": {
      "text/html": [
       "<div>\n",
       "<style scoped>\n",
       "    .dataframe tbody tr th:only-of-type {\n",
       "        vertical-align: middle;\n",
       "    }\n",
       "\n",
       "    .dataframe tbody tr th {\n",
       "        vertical-align: top;\n",
       "    }\n",
       "\n",
       "    .dataframe thead th {\n",
       "        text-align: right;\n",
       "    }\n",
       "</style>\n",
       "<table border=\"1\" class=\"dataframe\">\n",
       "  <thead>\n",
       "    <tr style=\"text-align: right;\">\n",
       "      <th></th>\n",
       "      <th>symbol</th>\n",
       "      <th>orderId</th>\n",
       "      <th>orderListId</th>\n",
       "      <th>clientOrderId</th>\n",
       "      <th>price</th>\n",
       "      <th>origQty</th>\n",
       "      <th>executedQty</th>\n",
       "      <th>cummulativeQuoteQty</th>\n",
       "      <th>status</th>\n",
       "      <th>timeInForce</th>\n",
       "      <th>type</th>\n",
       "      <th>side</th>\n",
       "      <th>stopPrice</th>\n",
       "      <th>icebergQty</th>\n",
       "      <th>time</th>\n",
       "      <th>updateTime</th>\n",
       "      <th>isWorking</th>\n",
       "      <th>workingTime</th>\n",
       "      <th>origQuoteOrderQty</th>\n",
       "      <th>selfTradePreventionMode</th>\n",
       "    </tr>\n",
       "  </thead>\n",
       "  <tbody>\n",
       "    <tr>\n",
       "      <th>495</th>\n",
       "      <td>BTCUSDT</td>\n",
       "      <td>3167755</td>\n",
       "      <td>6358</td>\n",
       "      <td>znbbbN39jX8jI46DO1zgoA</td>\n",
       "      <td>27582.36000000</td>\n",
       "      <td>0.00100000</td>\n",
       "      <td>0.00100000</td>\n",
       "      <td>27.86099000</td>\n",
       "      <td>FILLED</td>\n",
       "      <td>GTC</td>\n",
       "      <td>STOP_LOSS_LIMIT</td>\n",
       "      <td>SELL</td>\n",
       "      <td>27860.99000000</td>\n",
       "      <td>0.00000000</td>\n",
       "      <td>2023-05-10 20:53:32.910</td>\n",
       "      <td>2023-05-10 20:53:44.819</td>\n",
       "      <td>True</td>\n",
       "      <td>2023-05-10 20:53:44.819</td>\n",
       "      <td>0.00000000</td>\n",
       "      <td>NONE</td>\n",
       "    </tr>\n",
       "    <tr>\n",
       "      <th>496</th>\n",
       "      <td>BTCUSDT</td>\n",
       "      <td>3167756</td>\n",
       "      <td>6358</td>\n",
       "      <td>yWW9CmNt2oqLppgysks4xY</td>\n",
       "      <td>27868.25000000</td>\n",
       "      <td>0.00100000</td>\n",
       "      <td>0.00000000</td>\n",
       "      <td>0.00000000</td>\n",
       "      <td>EXPIRED</td>\n",
       "      <td>GTC</td>\n",
       "      <td>LIMIT_MAKER</td>\n",
       "      <td>SELL</td>\n",
       "      <td>0.00000000</td>\n",
       "      <td>0.00000000</td>\n",
       "      <td>2023-05-10 20:53:32.910</td>\n",
       "      <td>2023-05-10 20:53:44.819</td>\n",
       "      <td>True</td>\n",
       "      <td>2023-05-10 20:53:32.910</td>\n",
       "      <td>0.00000000</td>\n",
       "      <td>NONE</td>\n",
       "    </tr>\n",
       "    <tr>\n",
       "      <th>497</th>\n",
       "      <td>BTCUSDT</td>\n",
       "      <td>3168314</td>\n",
       "      <td>-1</td>\n",
       "      <td>eCX9oVy5h8ENIesumMLL88</td>\n",
       "      <td>27895.06000000</td>\n",
       "      <td>0.00100000</td>\n",
       "      <td>0.00100000</td>\n",
       "      <td>27.86742000</td>\n",
       "      <td>FILLED</td>\n",
       "      <td>FOK</td>\n",
       "      <td>LIMIT</td>\n",
       "      <td>BUY</td>\n",
       "      <td>0.00000000</td>\n",
       "      <td>0.00000000</td>\n",
       "      <td>2023-05-10 20:55:29.247</td>\n",
       "      <td>2023-05-10 20:55:29.247</td>\n",
       "      <td>True</td>\n",
       "      <td>2023-05-10 20:55:29.247</td>\n",
       "      <td>0.00000000</td>\n",
       "      <td>NONE</td>\n",
       "    </tr>\n",
       "    <tr>\n",
       "      <th>498</th>\n",
       "      <td>BTCUSDT</td>\n",
       "      <td>3168321</td>\n",
       "      <td>6360</td>\n",
       "      <td>cp72OfLVvRJiVKaV7iBGvb</td>\n",
       "      <td>27586.82000000</td>\n",
       "      <td>0.00100000</td>\n",
       "      <td>0.00100000</td>\n",
       "      <td>27.86543000</td>\n",
       "      <td>FILLED</td>\n",
       "      <td>GTC</td>\n",
       "      <td>STOP_LOSS_LIMIT</td>\n",
       "      <td>SELL</td>\n",
       "      <td>27865.49000000</td>\n",
       "      <td>0.00000000</td>\n",
       "      <td>2023-05-10 20:55:30.009</td>\n",
       "      <td>2023-05-10 20:58:58.846</td>\n",
       "      <td>True</td>\n",
       "      <td>2023-05-10 20:58:58.846</td>\n",
       "      <td>0.00000000</td>\n",
       "      <td>NONE</td>\n",
       "    </tr>\n",
       "    <tr>\n",
       "      <th>499</th>\n",
       "      <td>BTCUSDT</td>\n",
       "      <td>3168322</td>\n",
       "      <td>6360</td>\n",
       "      <td>TjL08zBAuVozloQ0Ns69Bm</td>\n",
       "      <td>27873.72000000</td>\n",
       "      <td>0.00100000</td>\n",
       "      <td>0.00000000</td>\n",
       "      <td>0.00000000</td>\n",
       "      <td>EXPIRED</td>\n",
       "      <td>GTC</td>\n",
       "      <td>LIMIT_MAKER</td>\n",
       "      <td>SELL</td>\n",
       "      <td>0.00000000</td>\n",
       "      <td>0.00000000</td>\n",
       "      <td>2023-05-10 20:55:30.009</td>\n",
       "      <td>2023-05-10 20:58:58.846</td>\n",
       "      <td>True</td>\n",
       "      <td>2023-05-10 20:55:30.009</td>\n",
       "      <td>0.00000000</td>\n",
       "      <td>NONE</td>\n",
       "    </tr>\n",
       "  </tbody>\n",
       "</table>\n",
       "</div>"
      ],
      "text/plain": [
       "      symbol  orderId  orderListId           clientOrderId           price     origQty executedQty cummulativeQuoteQty   status timeInForce             type  side       stopPrice  icebergQty                    time              updateTime  isWorking             workingTime origQuoteOrderQty selfTradePreventionMode\n",
       "495  BTCUSDT  3167755         6358  znbbbN39jX8jI46DO1zgoA  27582.36000000  0.00100000  0.00100000         27.86099000   FILLED         GTC  STOP_LOSS_LIMIT  SELL  27860.99000000  0.00000000 2023-05-10 20:53:32.910 2023-05-10 20:53:44.819       True 2023-05-10 20:53:44.819        0.00000000                    NONE\n",
       "496  BTCUSDT  3167756         6358  yWW9CmNt2oqLppgysks4xY  27868.25000000  0.00100000  0.00000000          0.00000000  EXPIRED         GTC      LIMIT_MAKER  SELL      0.00000000  0.00000000 2023-05-10 20:53:32.910 2023-05-10 20:53:44.819       True 2023-05-10 20:53:32.910        0.00000000                    NONE\n",
       "497  BTCUSDT  3168314           -1  eCX9oVy5h8ENIesumMLL88  27895.06000000  0.00100000  0.00100000         27.86742000   FILLED         FOK            LIMIT   BUY      0.00000000  0.00000000 2023-05-10 20:55:29.247 2023-05-10 20:55:29.247       True 2023-05-10 20:55:29.247        0.00000000                    NONE\n",
       "498  BTCUSDT  3168321         6360  cp72OfLVvRJiVKaV7iBGvb  27586.82000000  0.00100000  0.00100000         27.86543000   FILLED         GTC  STOP_LOSS_LIMIT  SELL  27865.49000000  0.00000000 2023-05-10 20:55:30.009 2023-05-10 20:58:58.846       True 2023-05-10 20:58:58.846        0.00000000                    NONE\n",
       "499  BTCUSDT  3168322         6360  TjL08zBAuVozloQ0Ns69Bm  27873.72000000  0.00100000  0.00000000          0.00000000  EXPIRED         GTC      LIMIT_MAKER  SELL      0.00000000  0.00000000 2023-05-10 20:55:30.009 2023-05-10 20:58:58.846       True 2023-05-10 20:55:30.009        0.00000000                    NONE"
      ]
     },
     "execution_count": 10,
     "metadata": {},
     "output_type": "execute_result"
    }
   ],
   "source": [
    "orders = pd.DataFrame(client.get_orders(symbol))\n",
    "for timecol in [\"time\", \"updateTime\", \"workingTime\"]:\n",
    "    orders[timecol] = pd.to_datetime(orders[timecol], unit='ms')\n",
    "orders.tail()"
   ]
  },
  {
   "cell_type": "code",
   "execution_count": 11,
   "metadata": {},
   "outputs": [
    {
     "data": {
      "image/png": "[encoded data removed]",
      "text/plain": [
       "<Figure size 640x480 with 1 Axes>"
      ]
     },
     "metadata": {},
     "output_type": "display_data"
    }
   ],
   "source": [
    "from matplotlib import pyplot as plt\n",
    "buy_sell_counts = trades[\"side\"].value_counts()\n",
    "#px.bar(trades[\"side\"].value_counts(), title=\"Trade counts\")\n",
    "plt.pie([len(trades[trades[\"side\"]==\"BUY\"]),len(trades[trades[\"side\"]==\"SELL\"])], \n",
    "        labels=[\"BUY\",\"SELL\"],\n",
    "        autopct=\"%.0f\")\n",
    "plt.title(\"Buy and sell order counts\")\n",
    "plt.show()\n"
   ]
  },
  {
   "cell_type": "code",
   "execution_count": null,
   "metadata": {},
   "outputs": [],
   "source": [
    "import plotly.express as px\n",
    "buy_profit = trades.loc[trades[\"side\"]==\"BUY\",\"profit\"]\n",
    "sell_profit = trades.loc[trades[\"side\"]==\"SELL\",\"profit\"]\n",
    "buy_profit = trades.loc[trades[\"side\"]==\"BUY\",\"profit\"]\n",
    "\n",
    "#     q_low = df[\"low\"].diff().quantile(0.01)\n",
    "#     q_high  = df[\"high\"].diff().quantile(0.99)\n",
    "#     df=df[df[\"high\"].diff()< q_high]\n",
    "#     df=df[df[\"low\"].diff() > q_low ]\n",
    "px.bar(x=[\"buy_profit_sum\", \"sell_profit_sum\"], y=[buy_profit.sum(), sell_profit.sum()], title=\"Buy or sell profit sum\")"
   ]
  },
  {
   "cell_type": "code",
   "execution_count": null,
   "metadata": {},
   "outputs": [],
   "source": [
    "import plotly.express as px\n",
    "buy_profit = trades.loc[trades[\"side\"]==\"BUY\",\"profit\"].mean()\n",
    "sell_profit = trades.loc[trades[\"side\"]==\"SELL\",\"profit\"].mean()\n",
    "px.bar(x=[\"buy_profit\", \"sell_profit\"], y=[buy_profit, sell_profit], title=\"Buy or sell average trade profit\")"
   ]
  },
  {
   "cell_type": "markdown",
   "metadata": {},
   "source": [
    "## Trades on candlestick chart"
   ]
  },
  {
   "cell_type": "code",
   "execution_count": 14,
   "metadata": {},
   "outputs": [
    {
     "data": {
      "text/html": [
       "<div>\n",
       "<style scoped>\n",
       "    .dataframe tbody tr th:only-of-type {\n",
       "        vertical-align: middle;\n",
       "    }\n",
       "\n",
       "    .dataframe tbody tr th {\n",
       "        vertical-align: top;\n",
       "    }\n",
       "\n",
       "    .dataframe thead th {\n",
       "        text-align: right;\n",
       "    }\n",
       "</style>\n",
       "<table border=\"1\" class=\"dataframe\">\n",
       "  <thead>\n",
       "    <tr style=\"text-align: right;\">\n",
       "      <th></th>\n",
       "      <th>open_time</th>\n",
       "      <th>open</th>\n",
       "      <th>high</th>\n",
       "      <th>low</th>\n",
       "      <th>close</th>\n",
       "      <th>vol</th>\n",
       "      <th>close_time</th>\n",
       "      <th>quote_asset_volume</th>\n",
       "      <th>number_of_trades</th>\n",
       "      <th>taker_buy_base_asset_volume</th>\n",
       "      <th>taker_buy_quote_asset_volume</th>\n",
       "      <th>ignore</th>\n",
       "    </tr>\n",
       "    <tr>\n",
       "      <th>open_time</th>\n",
       "      <th></th>\n",
       "      <th></th>\n",
       "      <th></th>\n",
       "      <th></th>\n",
       "      <th></th>\n",
       "      <th></th>\n",
       "      <th></th>\n",
       "      <th></th>\n",
       "      <th></th>\n",
       "      <th></th>\n",
       "      <th></th>\n",
       "      <th></th>\n",
       "    </tr>\n",
       "  </thead>\n",
       "  <tbody>\n",
       "    <tr>\n",
       "      <th>2023-05-10 20:55:00</th>\n",
       "      <td>2023-05-10 20:55:00</td>\n",
       "      <td>27867.42</td>\n",
       "      <td>27872.21</td>\n",
       "      <td>27866.76</td>\n",
       "      <td>27872.20</td>\n",
       "      <td>3.14691300</td>\n",
       "      <td>2023-05-10 20:55:59.999</td>\n",
       "      <td>87698.85750212</td>\n",
       "      <td>102</td>\n",
       "      <td>1.10437500</td>\n",
       "      <td>30778.69038616</td>\n",
       "      <td>0</td>\n",
       "    </tr>\n",
       "    <tr>\n",
       "      <th>2023-05-10 20:56:00</th>\n",
       "      <td>2023-05-10 20:56:00</td>\n",
       "      <td>27872.21</td>\n",
       "      <td>27872.21</td>\n",
       "      <td>27866.56</td>\n",
       "      <td>27867.40</td>\n",
       "      <td>0.95735200</td>\n",
       "      <td>2023-05-10 20:56:59.999</td>\n",
       "      <td>26679.14054314</td>\n",
       "      <td>30</td>\n",
       "      <td>0.18642000</td>\n",
       "      <td>5194.89113800</td>\n",
       "      <td>0</td>\n",
       "    </tr>\n",
       "    <tr>\n",
       "      <th>2023-05-10 20:57:00</th>\n",
       "      <td>2023-05-10 20:57:00</td>\n",
       "      <td>27867.41</td>\n",
       "      <td>27867.41</td>\n",
       "      <td>27866.56</td>\n",
       "      <td>27867.09</td>\n",
       "      <td>0.48837000</td>\n",
       "      <td>2023-05-10 20:57:59.999</td>\n",
       "      <td>13609.30625499</td>\n",
       "      <td>18</td>\n",
       "      <td>0.44783200</td>\n",
       "      <td>12479.65164571</td>\n",
       "      <td>0</td>\n",
       "    </tr>\n",
       "    <tr>\n",
       "      <th>2023-05-10 20:58:00</th>\n",
       "      <td>2023-05-10 20:58:00</td>\n",
       "      <td>27867.41</td>\n",
       "      <td>27871.73</td>\n",
       "      <td>27865.23</td>\n",
       "      <td>27865.23</td>\n",
       "      <td>2.03168000</td>\n",
       "      <td>2023-05-10 20:58:59.999</td>\n",
       "      <td>56618.46515937</td>\n",
       "      <td>67</td>\n",
       "      <td>1.14468500</td>\n",
       "      <td>31901.15235763</td>\n",
       "      <td>0</td>\n",
       "    </tr>\n",
       "    <tr>\n",
       "      <th>2023-05-10 21:00:00</th>\n",
       "      <td>2023-05-10 21:00:00</td>\n",
       "      <td>27857.23</td>\n",
       "      <td>27863.82</td>\n",
       "      <td>27857.11</td>\n",
       "      <td>27863.82</td>\n",
       "      <td>1.20821000</td>\n",
       "      <td>2023-05-10 21:00:59.999</td>\n",
       "      <td>33658.59919812</td>\n",
       "      <td>48</td>\n",
       "      <td>1.06781400</td>\n",
       "      <td>29747.56412970</td>\n",
       "      <td>0</td>\n",
       "    </tr>\n",
       "  </tbody>\n",
       "</table>\n",
       "</div>"
      ],
      "text/plain": [
       "                              open_time      open      high       low     close         vol              close_time quote_asset_volume  number_of_trades  taker_buy_base_asset_volume taker_buy_quote_asset_volume ignore\n",
       "open_time                                                                                                                                                                                                                \n",
       "2023-05-10 20:55:00 2023-05-10 20:55:00  27867.42  27872.21  27866.76  27872.20  3.14691300 2023-05-10 20:55:59.999     87698.85750212               102                   1.10437500               30778.69038616      0\n",
       "2023-05-10 20:56:00 2023-05-10 20:56:00  27872.21  27872.21  27866.56  27867.40  0.95735200 2023-05-10 20:56:59.999     26679.14054314                30                   0.18642000                5194.89113800      0\n",
       "2023-05-10 20:57:00 2023-05-10 20:57:00  27867.41  27867.41  27866.56  27867.09  0.48837000 2023-05-10 20:57:59.999     13609.30625499                18                   0.44783200               12479.65164571      0\n",
       "2023-05-10 20:58:00 2023-05-10 20:58:00  27867.41  27871.73  27865.23  27865.23  2.03168000 2023-05-10 20:58:59.999     56618.46515937                67                   1.14468500               31901.15235763      0\n",
       "2023-05-10 21:00:00 2023-05-10 21:00:00  27857.23  27863.82  27857.11  27863.82  1.20821000 2023-05-10 21:00:59.999     33658.59919812                48                   1.06781400               29747.56412970      0"
      ]
     },
     "execution_count": 14,
     "metadata": {},
     "output_type": "execute_result"
    }
   ],
   "source": [
    "from datetime import datetime\n",
    "def get_last_candles():\n",
    "    candle_columns = [\"open_time\", \"open\", \"high\", \"low\", \"close\", \"vol\", \"close_time\", \"quote_asset_volume\",\n",
    "                      \"number_of_trades\", \" taker_buy_base_asset_volume\", \"taker_buy_quote_asset_volume\",\n",
    "                      \"ignore\"]    \n",
    "    end_date=trades.open_time.max() if not trades.empty else datetime.utcnow()\n",
    "    \n",
    "    #end_time_millis=end_date.value//1000000\n",
    "    cnt=24*60 # Number of last candles to read\n",
    "    raw_candles = client.klines(symbol=symbol,\n",
    "                                    interval=\"1m\",\n",
    "                                    #limit=10,\n",
    "                                    limit=cnt,\n",
    "                                    #endTime=end_time_millis\n",
    "                               )\n",
    "    df = pd.DataFrame(raw_candles, columns=candle_columns)\n",
    "    df[\"open_time\"] = pd.to_datetime(df[\"open_time\"], unit='ms')\n",
    "    df[\"close_time\"] = pd.to_datetime(df[\"close_time\"], unit='ms')\n",
    "    df.set_index(\"open_time\", drop=False, inplace=True)\n",
    "        # Convert strings to float prices\n",
    "    df[[\"open\", \"high\", \"low\", \"close\"]] = df[[\"open\", \"high\", \"low\", \"close\"]].astype(float)\n",
    "    return df\n",
    "\n",
    "def clean_candles(df):\n",
    "    \"\"\" Remove outliers \"\"\"\n",
    "    q_low = df[\"low\"].diff().quantile(0.1)\n",
    "    q_high  = df[\"high\"].diff().quantile(0.9)\n",
    "    df=df[df[\"high\"].diff()< q_high]\n",
    "    df=df[df[\"low\"].diff() > q_low ]\n",
    "    return df\n",
    "\n",
    "candles = get_last_candles()\n",
    "candles = clean_candles(candles)\n",
    "candles.tail()"
   ]
  },
  {
   "cell_type": "code",
   "execution_count": null,
   "metadata": {},
   "outputs": [],
   "source": []
  },
  {
   "cell_type": "markdown",
   "metadata": {},
   "source": []
  },
  {
   "cell_type": "markdown",
   "metadata": {},
   "source": []
  },
  {
   "cell_type": "code",
   "execution_count": 15,
   "metadata": {},
   "outputs": [
    {
     "data": {
      "application/vnd.plotly.v1+json": {
       "config": {
        "plotlyServerURL": "https://plot.ly"
       },
       "data": [
        {
         "close": [
          27654.64,
          27650.99,
          27655.49,
          27647.56,
          27647.56,
          27662.75,
          27667.51,
          27667.47,
          27669.64,
          27670.92,
          27667.3,
          27658.17,
          27665.68,
          27667.31,
          27661.2,
          27665.13,
          27666.69,
          27673.6,
          27680.97,
          27674.29,
          27683.44,
          27685.96,
          27687.33,
          27685.98,
          27687.13,
          27682.09,
          27682.32,
          27687.85,
          27691.54,
          27684.57,
          27685.26,
          27683.83,
          27686.17,
          27688.02,
          27689.8,
          27689.79,
          27689.79,
          27697.65,
          27701.07,
          27705.64,
          27718.16,
          27715.01,
          27714.25,
          27713.96,
          27710.47,
          27703.99,
          27686.44,
          27685.86,
          27686.25,
          27698.02,
          27700.29,
          27698.65,
          27697.57,
          27691.98,
          27691.95,
          27681.6,
          27682.11,
          27683,
          27672.49,
          27670.55,
          27664.05,
          27671.29,
          27671.48,
          27673.64,
          27672.46,
          27679.95,
          27675.06,
          27677.13,
          27664.48,
          27664.48,
          27672.08,
          27670.09,
          27663.32,
          27670.58,
          27675.47,
          27677.13,
          27671.8,
          27670.05,
          27671.42,
          27671.41,
          27663.64,
          27664.97,
          27669.47,
          27664.87,
          27675.99,
          27666.79,
          27663.71,
          27660.73,
          27656.02,
          27663.88,
          27663.87,
          27656.94,
          27655.56,
          27655.56,
          27653.55,
          27643.55,
          27613.73,
          27608.67,
          27600.51,
          27593.81,
          27614.81,
          27613.66,
          27613.28,
          27614.32,
          27611.95,
          27610.15,
          27596.11,
          27595.07,
          27610.78,
          27614.6,
          27609.47,
          27612.65,
          27615.53,
          27616.66,
          27616.69,
          27612.23,
          27616.39,
          27601.21,
          27600.44,
          27603.98,
          27604.39,
          27604.39,
          27614.27,
          27616.75,
          27631.8,
          27627.14,
          27625.51,
          27614.66,
          27609.52,
          27607.35,
          27598.27,
          27607.82,
          27609.32,
          27610.3,
          27613.36,
          27613.75,
          27612.81,
          27600.51,
          27593.53,
          27597.05,
          27584.85,
          27583.3,
          27604.67,
          27604.67,
          27602.13,
          27618.54,
          27613.5,
          27625.78,
          27627.45,
          27595.7,
          27591.73,
          27586.19,
          27592.38,
          27595.63,
          27599.46,
          27607.49,
          27605.98,
          27602.77,
          27595.35,
          27597.97,
          27595.35,
          27590.62,
          27601.19,
          27604.18,
          27602.24,
          27631.39,
          27613.3,
          27607.03,
          27607.77,
          27594.66,
          27566.89,
          27566.62,
          27548.29,
          27544.9,
          27538.52,
          27542.94,
          27539.01,
          27550.01,
          27553.35,
          27558.14,
          27550.04,
          27560.65,
          27559.98,
          27551.34,
          27553.32,
          27548.26,
          27538.73,
          27542.25,
          27544.14,
          27541.63,
          27542.58,
          27562.52,
          27568.6,
          27570.81,
          27571.56,
          27573.57,
          27575.7,
          27565.36,
          27570.13,
          27564.01,
          27562.93,
          27558.09,
          27545.75,
          27542.19,
          27553.81,
          27548.5,
          27541.48,
          27540.31,
          27537.96,
          27503.74,
          27489.46,
          27521.77,
          27540.97,
          27556.8,
          27531.87,
          27555.67,
          27565.53,
          27568.17,
          27582.65,
          27579.65,
          27590.51,
          27581.49,
          27576.79,
          27564.88,
          27567.24,
          27558.94,
          27565.63,
          27571.68,
          27570.59,
          27563.21,
          27563.22,
          27571.93,
          27573.48,
          27583.66,
          27575.22,
          27570.01,
          27578.82,
          27569.36,
          27559.23,
          27558.11,
          27553.76,
          27542.49,
          27558.11,
          27559.74,
          27547.97,
          27554.31,
          27554.99,
          27547.58,
          27545.87,
          27550.9,
          27551.9,
          27551.42,
          27564.64,
          27589.81,
          27585.6,
          27575.86,
          27571.86,
          27572.47,
          27571.53,
          27580.3,
          27567.97,
          27567.86,
          27555.31,
          27562.11,
          27562.07,
          27564.51,
          27554.77,
          27552.8,
          27548.73,
          27541.79,
          27544.99,
          27551.84,
          27551.84,
          27550.29,
          27557.53,
          27557.54,
          27557.54,
          27555.18,
          27569.74,
          27577.43,
          27570,
          27561.03,
          27564.59,
          27562.19,
          27566.84,
          27564.97,
          27564.97,
          27556.58,
          27566.32,
          27574.68,
          27579.25,
          27577.61,
          27585.52,
          27579.31,
          27583.21,
          27576.01,
          27576.05,
          27576.05,
          27588.57,
          27582.39,
          27588.7,
          27592.24,
          27589.11,
          27596.02,
          27590.76,
          27590.76,
          27582.95,
          27592.29,
          27575.06,
          27588.57,
          27601.09,
          27589.01,
          27581.69,
          27567,
          27571.52,
          27577.58,
          27570.71,
          27574.28,
          27574.29,
          27578.35,
          27582.55,
          27584.99,
          27585.88,
          27585.87,
          27595.54,
          27596.55,
          27605.14,
          27608.32,
          27610.35,
          27606.7,
          27608.95,
          27603.19,
          27603.62,
          27594.02,
          27594.02,
          27603.97,
          27595.26,
          27596.11,
          27594.26,
          27595.13,
          27591.62,
          27555.57,
          27542.09,
          27542.43,
          27550.99,
          27564.45,
          27559.56,
          27562.56,
          27565.22,
          27565.22,
          27562.1,
          27558.29,
          27563.47,
          27565.93,
          27571.77,
          27559.95,
          27560.01,
          27566.15,
          27566.98,
          27572.45,
          27574.99,
          27572.97,
          27575.01,
          27582.5,
          27584.87,
          27576.44,
          27581.5,
          27590,
          27599.53,
          27594.34,
          27593.69,
          27590.1,
          27590.09,
          27602.49,
          27600.84,
          27600.23,
          27597.59,
          27599.18,
          27594.09,
          27594.46,
          27594.46,
          27590.46,
          27593.34,
          27602.2,
          27605.98,
          27612.26,
          27606.74,
          27609.45,
          27611.96,
          27615.65,
          27634.54,
          27634.58,
          27635.39,
          27632.89,
          27620.2,
          27624.61,
          27630.09,
          27619.63,
          27623.12,
          27615.57,
          27610.74,
          27608.63,
          27606.65,
          27603.85,
          27601.5,
          27610.84,
          27604.09,
          27606.17,
          27605.01,
          27610.73,
          27616.98,
          27613.51,
          27607.44,
          27607.44,
          27611.71,
          27614.92,
          27610.82,
          27645.85,
          27642.95,
          27653.3,
          27654.03,
          27658.04,
          27665,
          27658.99,
          27665.18,
          27671.04,
          27674.19,
          27669.69,
          27669.94,
          27661.55,
          27677.27,
          27658,
          27648.15,
          27648.34,
          27637.33,
          27645.97,
          27646.44,
          27655.14,
          27649.68,
          27654.42,
          27657.21,
          27658.44,
          27656.57,
          27704.46,
          27721.45,
          27716.03,
          27731.15,
          27754.3,
          27704.03,
          27702.87,
          27716.93,
          27704.73,
          27956.11,
          27977.94,
          27971.66,
          27918.76,
          27930.61,
          27923.38,
          27937.03,
          27957.63,
          28040.84,
          28053.61,
          28116.49,
          28096.03,
          28117.24,
          28107.34,
          28160.44,
          28157.1,
          28167.14,
          28281.11,
          28268.02,
          28300.23,
          28193.39,
          28176.78,
          28145.54,
          28138.34,
          28094.14,
          28121.37,
          28120.56,
          28117.71,
          28138.2,
          28119.06,
          28110.01,
          28104.2,
          28154.52,
          28162.88,
          28221.84,
          28198.95,
          28163.29,
          28093.81,
          28102.64,
          28095.59,
          28172.66,
          28134.32,
          28126.5,
          28136.4,
          28111.01,
          28102.55,
          28099.25,
          28171.1,
          28171.89,
          28170.81,
          28200.98,
          28197.3,
          28173.99,
          28237.12,
          28237.09,
          28216.72,
          28212.31,
          28211.02,
          28195.09,
          28182.53,
          28179.88,
          28128.15,
          28156.59,
          28170,
          28159.1,
          28166.4,
          28187.35,
          28208.5,
          28212.76,
          28197.27,
          28203.28,
          28212.91,
          28202.51,
          28213.72,
          28224.99,
          28223.9,
          28213.43,
          28184.28,
          28178.86,
          28190.28,
          28139.19,
          28117.27,
          28070.06,
          28097.2,
          28081.09,
          28065.89,
          28069.12,
          28072.51,
          28093.63,
          28085.38,
          28081.38,
          28080.73,
          28061.82,
          28085.38,
          28098.96,
          28084.68,
          28123.29,
          28117.46,
          28130.09,
          28130.09,
          28126.03,
          28116.17,
          28129.74,
          28125.49,
          28127.81,
          28099.03,
          28095.02,
          28090,
          28090,
          28085.12,
          28096.39,
          28088.03,
          28088.41,
          28099.35,
          28106.41,
          28101.44,
          28090.16,
          28099.91,
          28103.48,
          28112.16,
          28112.49,
          28122.25,
          28127.07,
          28148.67,
          28157.14,
          28154.04,
          28183.07,
          28170.76,
          28192.59,
          28202.3,
          28199.16,
          28190.24,
          28196.51,
          28195.83,
          28207.35,
          28211.44,
          28197.49,
          28154.35,
          28153.93,
          28156.75,
          28179.83,
          28150.01,
          28158.18,
          28149.84,
          28153.02,
          28162.22,
          28158.81,
          28166.51,
          28171.4,
          28151.98,
          28165.68,
          28152.36,
          28161.37,
          28157.17,
          28167.55,
          28229.3,
          28230.79,
          28273.44,
          28269.52,
          28256.16,
          28236.53,
          28245.28,
          28244.54,
          28245.81,
          28267.28,
          28287.97,
          28285.01,
          28259.53,
          28237.72,
          28277.03,
          28237.24,
          28238.26,
          28238.98,
          28200.1,
          28203.55,
          28209.9,
          28198.38,
          28194.67,
          28186.77,
          28208.72,
          28212,
          28199.38,
          28196.68,
          28188.2,
          28180,
          28199.85,
          28185.87,
          28188.59,
          28185.05,
          28188.36,
          28180.03,
          28182.17,
          28208.54,
          28205.67,
          28201.86,
          28202.23,
          28217.71,
          28208.03,
          28155.41,
          27229.73,
          27211.27,
          27045.93,
          27009.37,
          27002.04,
          27193.17,
          27258.13,
          27260.72,
          27331.66,
          27324.34,
          27326.18,
          27279.59,
          27335.19,
          27329.27,
          27391.58,
          27401.98,
          27350.17,
          27326.88,
          27351.69,
          27338.87,
          27498.73,
          27481.61,
          27467.64,
          27433.48,
          27417,
          27403.79,
          27441.58,
          27457.67,
          27439.53,
          27406.48,
          27427.39,
          27441.01,
          27469.83,
          27501.38,
          27482.58,
          27476.9,
          27461.73,
          27460.84,
          27462.92,
          27468.58,
          27466.4,
          27476.21,
          27427.02,
          27435.71,
          27454.65,
          27448.33,
          27434.03,
          27432.53,
          27440.85,
          27434.01,
          27440.1,
          27448.2,
          27450,
          27433.16,
          27392.01,
          27411.92,
          27438.3,
          27433.44,
          27433.44,
          27437.02,
          27434.31,
          27441.6,
          27437.69,
          27432.98,
          27442.53,
          27680.1,
          27676.42,
          27687.51,
          27694.46,
          27677.69,
          27680.03,
          27666.5,
          27651.13,
          27682.12,
          27694.25,
          27711.53,
          27706.98,
          27723.89,
          27717.22,
          27709.04,
          27724.4,
          27730.42,
          27726.87,
          27732.95,
          27714.02,
          27718.74,
          27706.97,
          27702.42,
          27708.7,
          27709.43,
          27709.77,
          27709.76,
          27710.29,
          27706.05,
          27703.24,
          27693.5,
          27682.56,
          27685.52,
          27684.48,
          27686.65,
          27694.38,
          27685.61,
          27679.14,
          27689.93,
          27693.12,
          27674.59,
          27664.84,
          27664.84,
          27690.29,
          27696.03,
          27707.05,
          27739.6,
          27731.17,
          27710.7,
          27714.77,
          27708.97,
          27719.49,
          27730.17,
          27897.81,
          27876.73,
          27909.57,
          27873.12,
          27848.85,
          27872.74,
          27853.97,
          27856.91,
          27868.31,
          27871.2,
          27851.83,
          27856.99,
          27859.23,
          27866.77,
          27877.84,
          27891.77,
          27894,
          27875.34,
          27876.86,
          27862.85,
          27864.47,
          27886.15,
          27869.33,
          27865.89,
          27872.47,
          27867.77,
          27857.12,
          27854.71,
          27867.42,
          27872.2,
          27867.4,
          27867.09,
          27865.23,
          27863.82
         ],
         "high": [
          27655.55,
          27655.42,
          27655.49,
          27655.48,
          27649.5,
          27662.88,
          27667.51,
          27667.51,
          27670.93,
          27670.92,
          27669.65,
          27666.51,
          27665.68,
          27667.32,
          27667.32,
          27665.13,
          27666.7,
          27673.6,
          27680.97,
          27681.07,
          27683.44,
          27688.2,
          27688.19,
          27687.04,
          27687.14,
          27689.49,
          27682.32,
          27687.85,
          27691.54,
          27691.89,
          27685.26,
          27685.91,
          27686.17,
          27688.02,
          27689.8,
          27689.8,
          27689.96,
          27697.65,
          27701.08,
          27705.64,
          27720.96,
          27718.17,
          27717.47,
          27715.93,
          27717.21,
          27710.27,
          27688.05,
          27686.44,
          27686.25,
          27702.01,
          27700.29,
          27699.33,
          27700.94,
          27697.34,
          27692.01,
          27691.96,
          27682.11,
          27685.58,
          27682.53,
          27672.6,
          27671.15,
          27671.47,
          27671.48,
          27674.94,
          27673.71,
          27679.95,
          27683.44,
          27680.83,
          27676.57,
          27665.54,
          27675.4,
          27676.91,
          27670.09,
          27670.6,
          27675.47,
          27677.89,
          27679.99,
          27671.44,
          27671.42,
          27671.43,
          27671.4,
          27664.97,
          27669.47,
          27669.39,
          27676,
          27676,
          27666.71,
          27663.75,
          27660.73,
          27663.88,
          27663.89,
          27663.87,
          27656.95,
          27655.56,
          27655.57,
          27655.16,
          27629.99,
          27609.99,
          27610,
          27603.44,
          27626.51,
          27619.25,
          27615.63,
          27616.28,
          27614.2,
          27614.24,
          27610.17,
          27602.04,
          27610.78,
          27617.63,
          27614.61,
          27612.65,
          27615.53,
          27616.66,
          27619.79,
          27616.84,
          27616.39,
          27604.43,
          27601.22,
          27603.98,
          27604.39,
          27604.39,
          27616.37,
          27616.75,
          27631.8,
          27631.81,
          27627.14,
          27625.51,
          27615.63,
          27609.52,
          27605.92,
          27607.82,
          27609.32,
          27610.3,
          27613.36,
          27614.56,
          27620.2,
          27612.64,
          27600.56,
          27597.05,
          27597.06,
          27588.05,
          27604.67,
          27604.67,
          27604.67,
          27618.54,
          27618.54,
          27625.78,
          27627.45,
          27604.39,
          27597.38,
          27591.57,
          27595.64,
          27595.63,
          27599.65,
          27607.49,
          27607.6,
          27606.2,
          27603.01,
          27597.97,
          27598.81,
          27596.51,
          27601.19,
          27609.98,
          27607.72,
          27631.39,
          27631.39,
          27613.5,
          27607.81,
          27607.19,
          27566.89,
          27573.21,
          27565.73,
          27554.49,
          27545.71,
          27543.78,
          27543.11,
          27554.01,
          27553.35,
          27558.14,
          27558.13,
          27560.65,
          27561.37,
          27560.67,
          27553.32,
          27553.35,
          27550.44,
          27542.25,
          27544.15,
          27544.15,
          27542.58,
          27562.52,
          27568.61,
          27570.81,
          27571.56,
          27573.57,
          27575.7,
          27575.31,
          27572.58,
          27570.15,
          27564.18,
          27562.91,
          27558.08,
          27548.58,
          27553.81,
          27553.8,
          27550.78,
          27541.49,
          27541.08,
          27510.15,
          27515.43,
          27521.77,
          27550.36,
          27556.8,
          27556.8,
          27555.67,
          27566.36,
          27568.17,
          27582.65,
          27582.68,
          27590.51,
          27589.01,
          27581.5,
          27576.66,
          27567.24,
          27567.31,
          27565.63,
          27571.68,
          27573.24,
          27570.47,
          27563.22,
          27571.93,
          27576.96,
          27583.66,
          27584.12,
          27575.18,
          27578.82,
          27578.84,
          27559.23,
          27559.24,
          27558.12,
          27552.25,
          27558.11,
          27562.92,
          27558.94,
          27554.31,
          27557.75,
          27547.59,
          27547.59,
          27555.25,
          27551.9,
          27553.19,
          27564.64,
          27589.81,
          27596.51,
          27585.45,
          27581.11,
          27572.48,
          27572.48,
          27580.3,
          27580.29,
          27567.87,
          27567.87,
          27562.5,
          27562.49,
          27564.52,
          27564.51,
          27554.78,
          27556.4,
          27548.73,
          27545.63,
          27551.84,
          27551.85,
          27551.85,
          27557.53,
          27557.54,
          27557.54,
          27557.54,
          27569.74,
          27577.43,
          27575.7,
          27570,
          27564.59,
          27564.6,
          27567.65,
          27566.84,
          27564.99,
          27564.24,
          27568.6,
          27574.68,
          27579.26,
          27579.29,
          27585.52,
          27585.54,
          27583.21,
          27583.77,
          27576.06,
          27576.06,
          27588.92,
          27588.94,
          27588.7,
          27593.62,
          27592.21,
          27596.02,
          27596.01,
          27590.76,
          27590.77,
          27592.29,
          27592.44,
          27588.57,
          27604.75,
          27601.1,
          27589.01,
          27581.14,
          27571.53,
          27577.58,
          27577.77,
          27577.63,
          27574.29,
          27579.25,
          27582.56,
          27585,
          27585.88,
          27585.88,
          27595.54,
          27598.58,
          27607.68,
          27608.32,
          27610.35,
          27613.07,
          27608.97,
          27608.95,
          27604.79,
          27603.62,
          27594.12,
          27603.97,
          27603.98,
          27596.18,
          27596.1,
          27595.13,
          27595.14,
          27556.55,
          27555.57,
          27542.43,
          27554.73,
          27564.45,
          27564.72,
          27562.56,
          27565.23,
          27565.23,
          27565.22,
          27562.11,
          27563.47,
          27565.94,
          27571.77,
          27571.77,
          27560.01,
          27566.15,
          27568.95,
          27572.45,
          27574.99,
          27575.03,
          27575.01,
          27582.5,
          27584.87,
          27584.87,
          27581.5,
          27590,
          27599.87,
          27600.96,
          27597.04,
          27593.68,
          27590.1,
          27602.49,
          27603.35,
          27600.85,
          27600.24,
          27600.85,
          27599.17,
          27594.98,
          27594.47,
          27594.47,
          27593.34,
          27602.2,
          27605.98,
          27612.26,
          27612.35,
          27609.68,
          27613.79,
          27615.65,
          27637.77,
          27635.19,
          27636.34,
          27645.43,
          27632.72,
          27624.61,
          27630.09,
          27630.09,
          27623.12,
          27628.18,
          27615.57,
          27610.74,
          27609.36,
          27608.61,
          27603.76,
          27610.85,
          27610.83,
          27606.17,
          27606.17,
          27618.34,
          27616.99,
          27616.99,
          27613.92,
          27607.45,
          27611.71,
          27614.92,
          27614.93,
          27645.85,
          27647.11,
          27656.79,
          27657.14,
          27658.04,
          27665,
          27666.39,
          27665.18,
          27671.33,
          27674.19,
          27674.55,
          27672.78,
          27669.94,
          27678.84,
          27677.68,
          27658.01,
          27649.63,
          27651.65,
          27645.98,
          27648.71,
          27655.14,
          27655.21,
          27654.42,
          27657.21,
          27658.44,
          27658.53,
          27704.46,
          27721.68,
          27721.32,
          27731.15,
          27756.83,
          27714.25,
          27710.58,
          27719.24,
          27716.09,
          27956.11,
          28027.24,
          28010,
          27943.15,
          27965.62,
          27937.98,
          27938.82,
          27975,
          28082.55,
          28053.61,
          28150.39,
          28123.13,
          28136.69,
          28125.52,
          28161.66,
          28173.52,
          28174.57,
          28289.28,
          28304.28,
          28310.34,
          28215.47,
          28199.88,
          28164.16,
          28164.76,
          28100.95,
          28121.37,
          28131.49,
          28127.97,
          28138.2,
          28131.37,
          28125.59,
          28109.99,
          28172.6,
          28171.27,
          28228.22,
          28226.13,
          28192.03,
          28113.28,
          28102.64,
          28102.65,
          28185.64,
          28186.98,
          28134.56,
          28136.72,
          28125.73,
          28114.96,
          28107.9,
          28172.58,
          28181.85,
          28172.19,
          28200.98,
          28215.53,
          28181.58,
          28245.6,
          28254.45,
          28218.67,
          28216.56,
          28213.11,
          28198.4,
          28195.57,
          28188.24,
          28150.08,
          28163.74,
          28184.78,
          28172.63,
          28175.19,
          28189.27,
          28209.9,
          28219.73,
          28212.76,
          28220,
          28225.9,
          28213.01,
          28213.72,
          28225,
          28230.89,
          28223.9,
          28199.77,
          28184.28,
          28195.28,
          28140.04,
          28139.19,
          28098.45,
          28097.2,
          28096.69,
          28082.37,
          28075.65,
          28073.97,
          28117.93,
          28093.62,
          28089.43,
          28089.61,
          28080.75,
          28086.33,
          28098.96,
          28102.59,
          28124.99,
          28138.01,
          28130.09,
          28130.09,
          28130.09,
          28126.08,
          28137.13,
          28141.38,
          28128.2,
          28112.75,
          28099.63,
          28095.78,
          28090.02,
          28095.27,
          28096.39,
          28099.9,
          28113.55,
          28100.56,
          28130.03,
          28106.24,
          28101.44,
          28099.91,
          28103.48,
          28112.16,
          28119.99,
          28122.25,
          28129.47,
          28150.6,
          28159.87,
          28163.01,
          28192.33,
          28183.07,
          28192.59,
          28202.3,
          28202.7,
          28201.26,
          28200,
          28206,
          28207.35,
          28211.44,
          28213.63,
          28154.66,
          28165.02,
          28169.12,
          28179.83,
          28182.62,
          28160.02,
          28162.13,
          28154.18,
          28163.04,
          28164.77,
          28166.52,
          28185.08,
          28171.4,
          28165.68,
          28168.67,
          28161.37,
          28162.03,
          28167.55,
          28241.99,
          28230.79,
          28278.97,
          28286.17,
          28268.05,
          28254.44,
          28247.37,
          28245.3,
          28247.85,
          28273.39,
          28287.97,
          28299.07,
          28259.53,
          28259.59,
          28285.66,
          28277.03,
          28244.44,
          28238.99,
          28216.23,
          28203.55,
          28209.9,
          28212.01,
          28200.98,
          28194.86,
          28208.72,
          28212,
          28210.55,
          28203.22,
          28196.67,
          28198.58,
          28199.85,
          28199.86,
          28188.64,
          28188.65,
          28188.36,
          28195.11,
          28182.18,
          28212.96,
          28212.95,
          28206.41,
          28210.9,
          28218.88,
          28218.31,
          28166.84,
          27293.15,
          27278.17,
          27097.76,
          27072.81,
          27016.92,
          27216.42,
          27330.46,
          27305,
          27340.25,
          27346.06,
          27330.64,
          27315.84,
          27335.19,
          27334.79,
          27441.28,
          27434.82,
          27350.17,
          27357.67,
          27367.26,
          27352.63,
          27501.08,
          27516.38,
          27483.62,
          27439.53,
          27435.03,
          27414.19,
          27465.5,
          27462.33,
          27456.86,
          27422.54,
          27430.51,
          27441.01,
          27490.7,
          27503,
          27499.45,
          27489.9,
          27464.92,
          27460.84,
          27469.61,
          27468.58,
          27469.68,
          27476.21,
          27474.38,
          27442.72,
          27479.35,
          27463.74,
          27447.62,
          27435.11,
          27440.85,
          27449.81,
          27455.45,
          27455.42,
          27461.69,
          27440.05,
          27415.5,
          27411.93,
          27438.3,
          27441.14,
          27435.92,
          27438.73,
          27442.55,
          27441.6,
          27441.75,
          27439.64,
          27442.53,
          27751.81,
          27713.21,
          27711.21,
          27697.51,
          27683.53,
          27682.6,
          27684.61,
          27664.94,
          27682.12,
          27700.1,
          27712.2,
          27711.67,
          27745.33,
          27726.47,
          27711.97,
          27724.4,
          27737.61,
          27739.62,
          27737.68,
          27738.43,
          27729.07,
          27718.73,
          27716.53,
          27708.7,
          27711.34,
          27712.4,
          27709.89,
          27721.32,
          27710.1,
          27706.05,
          27703.49,
          27688.77,
          27687.36,
          27700.03,
          27691.73,
          27694.38,
          27693.8,
          27689.07,
          27689.98,
          27696.42,
          27674.59,
          27683.52,
          27664.94,
          27691.92,
          27696.03,
          27707.05,
          27739.61,
          27739.61,
          27735.52,
          27717.77,
          27712.96,
          27721.96,
          27733.03,
          27929.99,
          27911.45,
          27911.45,
          27906.66,
          27860.47,
          27872.88,
          27869.9,
          27878.29,
          27888.57,
          27879.9,
          27872.98,
          27870,
          27864.98,
          27873.23,
          27886.8,
          27891.78,
          27894,
          27881.86,
          27876.86,
          27876.86,
          27867.43,
          27894.48,
          27886.16,
          27869.48,
          27873.16,
          27874.78,
          27867.77,
          27863.07,
          27867.42,
          27872.21,
          27872.21,
          27867.41,
          27871.73,
          27863.82
         ],
         "low": [
          27648.64,
          27650.99,
          27649.36,
          27647.56,
          27647.56,
          27647.55,
          27662.18,
          27665,
          27666.34,
          27669.64,
          27667.29,
          27658.17,
          27658.17,
          27665.4,
          27661.2,
          27661.21,
          27665.34,
          27666.71,
          27679,
          27674.29,
          27674.29,
          27683.19,
          27685.96,
          27684.97,
          27685.97,
          27682.09,
          27680.04,
          27682.36,
          27687.85,
          27684.57,
          27683.01,
          27682.69,
          27681.9,
          27686.17,
          27687.57,
          27689.79,
          27689.77,
          27689.77,
          27697.64,
          27701.08,
          27716.87,
          27714.86,
          27714.25,
          27709.43,
          27710.47,
          27703.99,
          27683.81,
          27685.75,
          27683,
          27698.02,
          27696.85,
          27698.65,
          27696.93,
          27691.98,
          27691.95,
          27681.6,
          27681.19,
          27682.09,
          27672.49,
          27670.55,
          27664.04,
          27662.63,
          27670.93,
          27671.41,
          27672.45,
          27672.45,
          27675.06,
          27675.07,
          27664.48,
          27655.01,
          27664.88,
          27670.09,
          27663.32,
          27663.31,
          27670.58,
          27673.1,
          27671.8,
          27670.05,
          27669.67,
          27670.22,
          27663.64,
          27661.23,
          27664.83,
          27664.85,
          27664.88,
          27666.79,
          27663.71,
          27660.72,
          27656.02,
          27652.54,
          27662.77,
          27655.42,
          27654.58,
          27655.51,
          27649.29,
          27643.55,
          27613.73,
          27587.9,
          27593.89,
          27590.14,
          27610.02,
          27613.66,
          27612.49,
          27613.08,
          27609.02,
          27610.15,
          27595.01,
          27595.07,
          27592.84,
          27610.77,
          27609.47,
          27609.44,
          27612.59,
          27615.53,
          27616.66,
          27612.23,
          27612.23,
          27601.21,
          27599.24,
          27601.2,
          27604.38,
          27604.31,
          27604.38,
          27611.77,
          27618.37,
          27627.14,
          27625.42,
          27614.66,
          27609.52,
          27607.35,
          27598.27,
          27596.13,
          27607.81,
          27609.31,
          27610.26,
          27610.28,
          27612.81,
          27599.62,
          27593.53,
          27592.98,
          27584.85,
          27581.76,
          27604.63,
          27600.71,
          27602.13,
          27602.13,
          27613.48,
          27610.96,
          27622.46,
          27586.42,
          27580.98,
          27583.72,
          27581.95,
          27592.05,
          27595.62,
          27595.92,
          27605.98,
          27602.28,
          27595.34,
          27595.34,
          27595.33,
          27590.62,
          27590.09,
          27601.18,
          27602.24,
          27624.31,
          27613.3,
          27607.02,
          27607.02,
          27594.66,
          27540.63,
          27560.8,
          27547.89,
          27540.02,
          27530.8,
          27538.55,
          27534.74,
          27539.01,
          27549.88,
          27553.33,
          27550.04,
          27550.01,
          27559.4,
          27551.3,
          27550,
          27538.2,
          27535.61,
          27537.5,
          27544.1,
          27536.84,
          27541.98,
          27558.92,
          27562.39,
          27564.23,
          27569.99,
          27571.57,
          27574.33,
          27565.36,
          27562.55,
          27564.01,
          27561.9,
          27555.26,
          27542.11,
          27541.4,
          27540.45,
          27548.5,
          27540.02,
          27537.05,
          27536.85,
          27491.42,
          27487.24,
          27489.46,
          27540.97,
          27540.98,
          27525.63,
          27531.87,
          27555.66,
          27563.15,
          27566.09,
          27578.28,
          27574.75,
          27580.65,
          27576.79,
          27564.76,
          27564.96,
          27558.94,
          27558.93,
          27560.42,
          27570.59,
          27562.12,
          27563.22,
          27555.48,
          27563.21,
          27573.48,
          27575.22,
          27570.01,
          27570,
          27569.36,
          27555.84,
          27552.67,
          27553.76,
          27542.49,
          27542.02,
          27558.56,
          27546.54,
          27549.6,
          27554.79,
          27538.89,
          27543.86,
          27543.84,
          27550.19,
          27550.81,
          27551.42,
          27575.93,
          27584.93,
          27575.54,
          27571.86,
          27572.47,
          27560.01,
          27571.53,
          27567.97,
          27567.86,
          27555.31,
          27553.45,
          27557.83,
          27562.03,
          27554.77,
          27550.18,
          27548.73,
          27541.79,
          27541.79,
          27544.99,
          27551.84,
          27549.62,
          27550.31,
          27557.53,
          27557.53,
          27553.09,
          27555.48,
          27569.99,
          27570,
          27561.03,
          27561.03,
          27562.19,
          27562.19,
          27564.97,
          27564.35,
          27556.57,
          27556.27,
          27566.3,
          27574.65,
          27574.84,
          27577.81,
          27579.31,
          27579.21,
          27574.86,
          27576.05,
          27572.99,
          27576.05,
          27582.38,
          27582.37,
          27588.69,
          27586.04,
          27589.11,
          27590.75,
          27590.7,
          27582.94,
          27582.94,
          27575.05,
          27568.34,
          27601.09,
          27589.01,
          27580.36,
          27567,
          27566.99,
          27571.36,
          27570.6,
          27570.59,
          27574.28,
          27574.27,
          27579.24,
          27582.55,
          27584.99,
          27585.87,
          27585.88,
          27595.53,
          27596.55,
          27603.19,
          27608.32,
          27606.7,
          27606.62,
          27599.92,
          27602.78,
          27594.01,
          27594.01,
          27594.01,
          27595.26,
          27595.25,
          27594.26,
          27589.66,
          27591.57,
          27551.55,
          27539.44,
          27540.01,
          27542.43,
          27548.38,
          27559.56,
          27555.13,
          27562.55,
          27565.22,
          27557.56,
          27558.29,
          27558.29,
          27563.47,
          27565.92,
          27557.89,
          27559.92,
          27559.94,
          27566.15,
          27566.98,
          27572.53,
          27571.88,
          27568.38,
          27574.02,
          27581.62,
          27576.43,
          27576.42,
          27578.86,
          27579.28,
          27594.33,
          27593.6,
          27590.09,
          27590.09,
          27590.09,
          27600.84,
          27600.23,
          27597.59,
          27597.58,
          27593.38,
          27594.09,
          27594.42,
          27590.45,
          27590.45,
          27593.28,
          27602.16,
          27603.33,
          27603.8,
          27605.76,
          27609.46,
          27611.59,
          27622.62,
          27632.24,
          27630.36,
          27632.89,
          27620.2,
          27620.19,
          27624.59,
          27616.54,
          27619.62,
          27615.57,
          27610.74,
          27608.29,
          27606.18,
          27603.85,
          27601.5,
          27601.46,
          27604.09,
          27604.09,
          27604.79,
          27604.98,
          27610.73,
          27613.46,
          27607.44,
          27607.44,
          27607.44,
          27611.7,
          27610.82,
          27638.5,
          27642.94,
          27642.94,
          27652.71,
          27654.02,
          27657.7,
          27658.99,
          27643.48,
          27665.41,
          27668.79,
          27669.69,
          27669.69,
          27656.11,
          27661.55,
          27657.98,
          27648.15,
          27647.91,
          27637.33,
          27637.57,
          27645.56,
          27646.42,
          27649.68,
          27648.84,
          27652.82,
          27656.93,
          27654.99,
          27687.06,
          27708.68,
          27713.37,
          27716.14,
          27745.46,
          27688.22,
          27699.31,
          27699.28,
          27696.59,
          27903.33,
          27971.51,
          27960.37,
          27897.54,
          27923.02,
          27900.02,
          27916.16,
          27951.79,
          28023.38,
          28007.74,
          28102.34,
          28093.49,
          28095.27,
          28102.15,
          28139.91,
          28150,
          28156.57,
          28250.46,
          28267.16,
          28261.53,
          28186.96,
          28170.19,
          28129.74,
          28137.05,
          28089.35,
          28098.89,
          28117.43,
          28117.71,
          28116.37,
          28099.7,
          28110.01,
          28095.34,
          28146.21,
          28154.52,
          28204.98,
          28198.95,
          28163.29,
          28084.2,
          28089.95,
          28092.17,
          28161.99,
          28132.43,
          28123.78,
          28126.52,
          28102.77,
          28102.55,
          28099.25,
          28151.48,
          28168.88,
          28153.91,
          28194.53,
          28197.3,
          28172.35,
          28214.21,
          28232.53,
          28187.14,
          28208.89,
          28208.14,
          28173.75,
          28164.15,
          28179.29,
          28119.78,
          28128.15,
          28170,
          28159.1,
          28159.11,
          28163.65,
          28201.54,
          28208.5,
          28196.88,
          28197.28,
          28202.86,
          28202.51,
          28202.5,
          28213.43,
          28213.46,
          28213.43,
          28177.46,
          28170.14,
          28169.32,
          28126.54,
          28117.27,
          28070.01,
          28070.01,
          28071.03,
          28065.89,
          28061.48,
          28055.94,
          28093.62,
          28079.89,
          28079.9,
          28071.43,
          28058.69,
          28061.82,
          28089.98,
          28084.68,
          28118.14,
          28117.46,
          28110,
          28125.29,
          28125.01,
          28116.17,
          28115.03,
          28125.49,
          28123.39,
          28099.03,
          28088.13,
          28090,
          28077.29,
          28085.12,
          28084.72,
          28088.03,
          28087.98,
          28089.14,
          28106.4,
          28098.14,
          28089.14,
          28090.48,
          28099.9,
          28100.04,
          28112.49,
          28105.8,
          28122.68,
          28137.49,
          28145.43,
          28150.31,
          28180.84,
          28166.56,
          28170.77,
          28192.51,
          28190.13,
          28190.24,
          28190.25,
          28192.97,
          28196.17,
          28207.35,
          28197.49,
          28149.96,
          28140.73,
          28153.08,
          28156.75,
          28147.57,
          28149,
          28149.17,
          28149.16,
          28153.2,
          28158.81,
          28148.58,
          28162.19,
          28150.02,
          28150.02,
          28152.36,
          28147.87,
          28156.95,
          28150.01,
          28226.38,
          28206.29,
          28238.37,
          28269.52,
          28254.71,
          28234.4,
          28236.53,
          28238.88,
          28241.61,
          28267.2,
          28265.84,
          28285,
          28250.01,
          28236.29,
          28250.53,
          28236.78,
          28235.52,
          28238.98,
          28200.1,
          28193.85,
          28195.98,
          28194.72,
          28194.16,
          28186.77,
          28186.69,
          28206.7,
          28195.3,
          28196.67,
          28188.2,
          28180,
          28180.01,
          28182.63,
          28182.06,
          28185.03,
          28182.91,
          28176.03,
          28176.53,
          28200.26,
          28201.4,
          28192.94,
          28201.85,
          28197.33,
          28201.98,
          28155.41,
          27150.1,
          27190.73,
          26829.24,
          26942.22,
          26976.74,
          27129.19,
          27247.76,
          27234.5,
          27253.61,
          27321.04,
          27295.18,
          27276.73,
          27299.76,
          27273.76,
          27386.71,
          27387.88,
          27308.68,
          27326.71,
          27326.88,
          27328.78,
          27460.94,
          27481.61,
          27467.64,
          27415.9,
          27409.41,
          27375.02,
          27436.77,
          27439.95,
          27439.53,
          27355.09,
          27402.05,
          27420.94,
          27464.18,
          27469.84,
          27478.3,
          27476.9,
          27458.19,
          27430.6,
          27450.75,
          27461.25,
          27464.53,
          27464.97,
          27416.61,
          27417.66,
          27433.24,
          27437.36,
          27434.03,
          27430,
          27431.27,
          27434.01,
          27435.08,
          27439.71,
          27450,
          27430.01,
          27392,
          27389.18,
          27408.53,
          27430.93,
          27431.72,
          27433.43,
          27434.31,
          27433.01,
          27436.83,
          27432.98,
          27430.69,
          27680.1,
          27676.42,
          27685.88,
          27684.47,
          27655.47,
          27670.02,
          27666.5,
          27637.01,
          27670,
          27674.8,
          27688.88,
          27703.19,
          27707.39,
          27707.07,
          27690.4,
          27707.72,
          27724.41,
          27711.53,
          27718.77,
          27714.02,
          27714.02,
          27706.97,
          27702.42,
          27701.74,
          27705.08,
          27709.42,
          27705.42,
          27705.61,
          27706.05,
          27699.22,
          27693.5,
          27679.14,
          27680.38,
          27684.48,
          27667.8,
          27686.64,
          27683.26,
          27679.14,
          27678.99,
          27674.08,
          27652.68,
          27664.84,
          27664.83,
          27685.7,
          27686.85,
          27696.43,
          27727.7,
          27721.53,
          27710.7,
          27710,
          27702.87,
          27709.12,
          27719.49,
          27873.58,
          27876.73,
          27881.98,
          27872.88,
          27846.14,
          27857.5,
          27852.91,
          27854.53,
          27868.31,
          27866.96,
          27851.82,
          27851.83,
          27856.99,
          27859.2,
          27865.5,
          27873,
          27891.78,
          27875.26,
          27875.34,
          27862.85,
          27862.86,
          27881.94,
          27867.74,
          27865.89,
          27865.78,
          27867.77,
          27853.68,
          27854.71,
          27854.68,
          27866.76,
          27866.56,
          27866.56,
          27865.23,
          27857.11
         ],
         "open": [
          27655.55,
          27654.64,
          27650.99,
          27655.48,
          27647.57,
          27647.56,
          27662.75,
          27667.51,
          27666.39,
          27669.64,
          27669.64,
          27666.51,
          27658.18,
          27665.51,
          27667.32,
          27661.21,
          27665.37,
          27666.71,
          27679.02,
          27681.07,
          27674.29,
          27683.19,
          27685.96,
          27687.04,
          27685.97,
          27687.14,
          27680.05,
          27682.37,
          27687.86,
          27690.94,
          27683.01,
          27685.26,
          27683.83,
          27686.17,
          27687.62,
          27689.8,
          27689.8,
          27689.78,
          27697.64,
          27701.08,
          27720.96,
          27718.16,
          27715.01,
          27714.25,
          27713.96,
          27710.27,
          27685.86,
          27686.43,
          27685.86,
          27702,
          27698.03,
          27698.96,
          27698.66,
          27697.34,
          27691.99,
          27691.95,
          27681.6,
          27682.1,
          27682.53,
          27672.34,
          27670.55,
          27664.06,
          27671.48,
          27671.45,
          27673.66,
          27672.46,
          27679.77,
          27675.07,
          27676.57,
          27664.48,
          27665.49,
          27672.08,
          27670.09,
          27663.32,
          27670.58,
          27675.47,
          27677.89,
          27671.44,
          27669.68,
          27670.81,
          27671.4,
          27663.3,
          27664.97,
          27669.39,
          27664.88,
          27675.99,
          27666.7,
          27663.71,
          27660.72,
          27655.85,
          27663.87,
          27663.87,
          27656.94,
          27655.55,
          27655.56,
          27653.55,
          27625.16,
          27606.3,
          27608.31,
          27600.51,
          27623.61,
          27615.63,
          27613.66,
          27613.28,
          27614.2,
          27614.23,
          27610.15,
          27596.11,
          27594.93,
          27610.78,
          27614.6,
          27609.47,
          27612.59,
          27615.53,
          27616.68,
          27616.84,
          27612.24,
          27604.39,
          27601.21,
          27601.21,
          27604.38,
          27604.38,
          27604.38,
          27614.26,
          27618.37,
          27631.8,
          27627.14,
          27625.51,
          27614.67,
          27609.35,
          27605.92,
          27598.26,
          27607.81,
          27609.33,
          27610.29,
          27613.36,
          27613.78,
          27612.61,
          27600.51,
          27593.53,
          27597.05,
          27584.85,
          27604.66,
          27604.67,
          27604.67,
          27602.13,
          27618.53,
          27613.5,
          27625.77,
          27599.59,
          27595.69,
          27591.57,
          27586.19,
          27592.38,
          27595.63,
          27598.63,
          27607.48,
          27605.98,
          27602.77,
          27595.35,
          27598.8,
          27595.35,
          27590.6,
          27601.18,
          27604.18,
          27624.31,
          27631.38,
          27611.98,
          27607.02,
          27607.19,
          27559.26,
          27562.69,
          27565.73,
          27548.29,
          27545,
          27538.56,
          27542.93,
          27539.01,
          27550,
          27553.35,
          27558.13,
          27550.04,
          27560.65,
          27560.67,
          27551.3,
          27553.33,
          27549.12,
          27538.74,
          27544.14,
          27544.14,
          27541.99,
          27558.92,
          27562.52,
          27567.35,
          27570.84,
          27571.57,
          27574.33,
          27575.31,
          27565.37,
          27570.13,
          27564,
          27555.26,
          27558.08,
          27545.75,
          27542.19,
          27553.8,
          27548.32,
          27541.48,
          27540.31,
          27491.43,
          27503.74,
          27489.46,
          27544.39,
          27540.98,
          27556.21,
          27531.88,
          27555.66,
          27565.01,
          27580.86,
          27582.68,
          27579.25,
          27589.01,
          27581.5,
          27576.66,
          27564.96,
          27567.3,
          27558.95,
          27566.49,
          27572.75,
          27570.46,
          27563.22,
          27563.21,
          27563.21,
          27573.48,
          27584.12,
          27575.18,
          27570,
          27578.82,
          27557.85,
          27559.23,
          27558.12,
          27552.25,
          27542.03,
          27558.56,
          27558.93,
          27549.6,
          27554.79,
          27538.9,
          27547.58,
          27545.87,
          27550.9,
          27551.9,
          27551.43,
          27580.24,
          27589.81,
          27585.44,
          27575.86,
          27572.48,
          27572.47,
          27571.53,
          27580.29,
          27567.87,
          27567.86,
          27555.31,
          27562.1,
          27562.07,
          27564.51,
          27554.78,
          27552.82,
          27548.72,
          27541.79,
          27544.99,
          27551.84,
          27551.84,
          27550.31,
          27557.53,
          27557.53,
          27557.53,
          27555.48,
          27569.99,
          27575.7,
          27569.99,
          27561.03,
          27564.59,
          27562.19,
          27566.83,
          27564.62,
          27564.24,
          27556.62,
          27566.32,
          27574.68,
          27579.26,
          27577.82,
          27585.54,
          27579.24,
          27583.77,
          27576.05,
          27576.06,
          27576.06,
          27588.93,
          27582.39,
          27588.69,
          27592.21,
          27589.11,
          27596.01,
          27590.75,
          27589.99,
          27582.95,
          27592.28,
          27575.05,
          27604.75,
          27600.64,
          27589.01,
          27581.14,
          27567,
          27571.52,
          27577.58,
          27571.18,
          27574.29,
          27574.29,
          27579.24,
          27582.56,
          27584.99,
          27585.87,
          27585.88,
          27595.54,
          27596.55,
          27605.13,
          27608.32,
          27610.35,
          27606.62,
          27608.95,
          27603.2,
          27603.62,
          27594.02,
          27594.01,
          27603.98,
          27595.25,
          27596.1,
          27594,
          27595.13,
          27553.06,
          27555.57,
          27542.09,
          27542.43,
          27550.99,
          27564.71,
          27559.46,
          27562.55,
          27565.23,
          27565.22,
          27562.11,
          27558.3,
          27563.47,
          27565.94,
          27571.76,
          27559.95,
          27560.47,
          27566.15,
          27566.98,
          27572.53,
          27575.02,
          27572.97,
          27575.01,
          27582.5,
          27584.87,
          27576.43,
          27581.5,
          27579.28,
          27599.52,
          27594.34,
          27593.68,
          27590.1,
          27590.1,
          27602.49,
          27600.84,
          27600.23,
          27597.59,
          27599.17,
          27594.1,
          27594.46,
          27594.47,
          27590.46,
          27593.28,
          27602.2,
          27606.22,
          27612.35,
          27606.86,
          27609.46,
          27611.97,
          27622.62,
          27634.53,
          27634.8,
          27635.49,
          27632.71,
          27620.21,
          27624.61,
          27630.09,
          27619.63,
          27623.12,
          27615.57,
          27610.74,
          27609.36,
          27606.18,
          27603.76,
          27601.47,
          27610.83,
          27604.1,
          27606.17,
          27605.01,
          27610.73,
          27616.99,
          27613.51,
          27607.45,
          27607.45,
          27611.71,
          27614.93,
          27638.5,
          27645.83,
          27642.94,
          27653.3,
          27654.03,
          27658.2,
          27664.99,
          27658.99,
          27665.42,
          27671.04,
          27674.19,
          27669.69,
          27669.94,
          27661.55,
          27677.27,
          27658,
          27648.15,
          27648.33,
          27639.04,
          27645.97,
          27646.43,
          27655.16,
          27648.84,
          27652.84,
          27657.98,
          27658.53,
          27687.07,
          27708.68,
          27721.32,
          27716.35,
          27752.93,
          27688.45,
          27704.03,
          27702.87,
          27715.57,
          27906.19,
          28027.24,
          27977.94,
          27916.47,
          27939.65,
          27901.56,
          27923.39,
          27959.46,
          28082.18,
          28037.69,
          28150.31,
          28116.07,
          28095.27,
          28112.3,
          28151.11,
          28169.08,
          28162.37,
          28277.11,
          28300.6,
          28267.35,
          28205.42,
          28172.81,
          28129.74,
          28143.51,
          28095.42,
          28108.41,
          28121.97,
          28120.56,
          28117.71,
          28099.7,
          28119.16,
          28109.99,
          28146.24,
          28154.52,
          28204.99,
          28221.84,
          28173.18,
          28093.82,
          28091.43,
          28102.64,
          28162,
          28168.74,
          28132.41,
          28126.52,
          28125.73,
          28111.06,
          28102.55,
          28163.6,
          28171.09,
          28170.47,
          28194.54,
          28197.58,
          28181.58,
          28235.83,
          28237.12,
          28195.44,
          28216.56,
          28212.32,
          28176.16,
          28193.42,
          28182.54,
          28137.14,
          28128.15,
          28184.78,
          28170,
          28159.11,
          28163.65,
          28208.01,
          28208.5,
          28212.75,
          28197.28,
          28203.27,
          28212.99,
          28202.5,
          28213.43,
          28225,
          28223.89,
          28199.75,
          28184.28,
          28178.86,
          28137.34,
          28139.19,
          28070.58,
          28070.74,
          28096.69,
          28081.8,
          28065.89,
          28069.12,
          28113.82,
          28093.62,
          28085.38,
          28081.38,
          28080.73,
          28061.82,
          28097.89,
          28098.62,
          28119.27,
          28123.29,
          28110.68,
          28126.88,
          28130.09,
          28126.02,
          28115.27,
          28130.39,
          28125.5,
          28110.61,
          28099,
          28095.03,
          28090,
          28090,
          28084.99,
          28096.39,
          28088.03,
          28089.14,
          28130.03,
          28106.23,
          28101.44,
          28090.48,
          28099.92,
          28102.33,
          28112.62,
          28112.49,
          28122.68,
          28150.6,
          28148.71,
          28157.13,
          28192.33,
          28183.07,
          28170.77,
          28192.59,
          28202.7,
          28198.94,
          28190.25,
          28196.51,
          28196.18,
          28207.35,
          28211.44,
          28154.66,
          28154.35,
          28153.83,
          28156.75,
          28182.62,
          28149,
          28158.18,
          28149.16,
          28153.2,
          28162.23,
          28158.81,
          28182.75,
          28171.4,
          28151.38,
          28166.69,
          28154.41,
          28162.03,
          28157.17,
          28235.71,
          28212.3,
          28238.37,
          28273.44,
          28268.05,
          28244.61,
          28236.53,
          28245.28,
          28244.75,
          28270,
          28267.34,
          28287.97,
          28255.47,
          28259.53,
          28285.54,
          28277.03,
          28237.24,
          28238.99,
          28208.22,
          28197.72,
          28202.07,
          28212,
          28198.39,
          28194.86,
          28186.71,
          28208.72,
          28210.55,
          28203.22,
          28196.46,
          28188.2,
          28180.01,
          28198.68,
          28185.88,
          28188.59,
          28185.05,
          28194.92,
          28180.03,
          28200.26,
          28208.54,
          28205.87,
          28201.86,
          28202.24,
          28216.82,
          28158.83,
          27230.1,
          27232.91,
          27038.82,
          27045.93,
          27000.1,
          27160.1,
          27307.29,
          27257.09,
          27321.92,
          27334.73,
          27322.26,
          27300,
          27301.72,
          27275.57,
          27428.38,
          27391.58,
          27325.04,
          27353.97,
          27326.88,
          27350.28,
          27491.51,
          27498.72,
          27475.35,
          27431.89,
          27431.86,
          27375.03,
          27465.5,
          27440.1,
          27456.86,
          27360.55,
          27402.05,
          27426.14,
          27476.15,
          27469.84,
          27499.45,
          27482.59,
          27460.01,
          27433.89,
          27458.84,
          27462.92,
          27467.6,
          27464.97,
          27416.61,
          27427.02,
          27479.35,
          27450.82,
          27447.62,
          27433.95,
          27432.53,
          27449.5,
          27435.08,
          27439.85,
          27461.68,
          27439.92,
          27403.26,
          27392,
          27408.53,
          27431.18,
          27433.44,
          27433.44,
          27437.02,
          27434.31,
          27440,
          27437.7,
          27439.66,
          27732.59,
          27682.26,
          27711.2,
          27689.42,
          27670.22,
          27679.12,
          27680.03,
          27664.91,
          27673.38,
          27674.8,
          27692.92,
          27711.53,
          27736.05,
          27724.95,
          27692.98,
          27709.05,
          27724.41,
          27712.56,
          27727.68,
          27732.95,
          27714.26,
          27718.73,
          27707.86,
          27702.42,
          27708.7,
          27709.43,
          27709.77,
          27709.77,
          27710.1,
          27706.05,
          27703.24,
          27687.04,
          27680.38,
          27685.55,
          27668.18,
          27686.65,
          27693.8,
          27685.61,
          27679.14,
          27689.93,
          27652.68,
          27674.59,
          27664.84,
          27685.7,
          27690.29,
          27696.43,
          27732.89,
          27739.6,
          27731.17,
          27711.86,
          27712.83,
          27709.12,
          27719.49,
          27914.24,
          27891.61,
          27882.2,
          27903.07,
          27854.66,
          27865.11,
          27868.42,
          27854.53,
          27887.59,
          27868.31,
          27872.98,
          27851.83,
          27856.99,
          27859.23,
          27866.77,
          27877.84,
          27891.78,
          27876.94,
          27875.34,
          27876.86,
          27862.86,
          27886.8,
          27886.16,
          27869.48,
          27865.78,
          27872.64,
          27867.77,
          27857.35,
          27854.71,
          27867.42,
          27872.21,
          27867.41,
          27867.41,
          27857.23
         ],
         "type": "candlestick",
         "x": [
          "2023-05-10T04:23:00",
          "2023-05-10T04:24:00",
          "2023-05-10T04:25:00",
          "2023-05-10T04:26:00",
          "2023-05-10T04:27:00",
          "2023-05-10T04:28:00",
          "2023-05-10T04:29:00",
          "2023-05-10T04:30:00",
          "2023-05-10T04:31:00",
          "2023-05-10T04:32:00",
          "2023-05-10T04:33:00",
          "2023-05-10T04:34:00",
          "2023-05-10T04:35:00",
          "2023-05-10T04:36:00",
          "2023-05-10T04:37:00",
          "2023-05-10T04:38:00",
          "2023-05-10T04:39:00",
          "2023-05-10T04:40:00",
          "2023-05-10T04:41:00",
          "2023-05-10T04:42:00",
          "2023-05-10T04:43:00",
          "2023-05-10T04:44:00",
          "2023-05-10T04:45:00",
          "2023-05-10T04:46:00",
          "2023-05-10T04:47:00",
          "2023-05-10T04:48:00",
          "2023-05-10T04:49:00",
          "2023-05-10T04:50:00",
          "2023-05-10T04:51:00",
          "2023-05-10T04:52:00",
          "2023-05-10T04:53:00",
          "2023-05-10T04:54:00",
          "2023-05-10T04:55:00",
          "2023-05-10T04:56:00",
          "2023-05-10T04:57:00",
          "2023-05-10T04:58:00",
          "2023-05-10T04:59:00",
          "2023-05-10T05:00:00",
          "2023-05-10T05:01:00",
          "2023-05-10T05:02:00",
          "2023-05-10T05:04:00",
          "2023-05-10T05:05:00",
          "2023-05-10T05:06:00",
          "2023-05-10T05:07:00",
          "2023-05-10T05:08:00",
          "2023-05-10T05:09:00",
          "2023-05-10T05:11:00",
          "2023-05-10T05:12:00",
          "2023-05-10T05:13:00",
          "2023-05-10T05:15:00",
          "2023-05-10T05:16:00",
          "2023-05-10T05:17:00",
          "2023-05-10T05:18:00",
          "2023-05-10T05:19:00",
          "2023-05-10T05:20:00",
          "2023-05-10T05:21:00",
          "2023-05-10T05:22:00",
          "2023-05-10T05:23:00",
          "2023-05-10T05:24:00",
          "2023-05-10T05:25:00",
          "2023-05-10T05:26:00",
          "2023-05-10T05:27:00",
          "2023-05-10T05:28:00",
          "2023-05-10T05:29:00",
          "2023-05-10T05:30:00",
          "2023-05-10T05:31:00",
          "2023-05-10T05:32:00",
          "2023-05-10T05:33:00",
          "2023-05-10T05:34:00",
          "2023-05-10T05:35:00",
          "2023-05-10T05:36:00",
          "2023-05-10T05:37:00",
          "2023-05-10T05:38:00",
          "2023-05-10T05:39:00",
          "2023-05-10T05:40:00",
          "2023-05-10T05:41:00",
          "2023-05-10T05:42:00",
          "2023-05-10T05:43:00",
          "2023-05-10T05:44:00",
          "2023-05-10T05:45:00",
          "2023-05-10T05:46:00",
          "2023-05-10T05:47:00",
          "2023-05-10T05:48:00",
          "2023-05-10T05:49:00",
          "2023-05-10T05:50:00",
          "2023-05-10T05:51:00",
          "2023-05-10T05:52:00",
          "2023-05-10T05:53:00",
          "2023-05-10T05:54:00",
          "2023-05-10T05:55:00",
          "2023-05-10T05:56:00",
          "2023-05-10T05:57:00",
          "2023-05-10T05:58:00",
          "2023-05-10T05:59:00",
          "2023-05-10T06:00:00",
          "2023-05-10T06:01:00",
          "2023-05-10T06:03:00",
          "2023-05-10T06:05:00",
          "2023-05-10T06:06:00",
          "2023-05-10T06:07:00",
          "2023-05-10T06:09:00",
          "2023-05-10T06:10:00",
          "2023-05-10T06:11:00",
          "2023-05-10T06:12:00",
          "2023-05-10T06:13:00",
          "2023-05-10T06:14:00",
          "2023-05-10T06:15:00",
          "2023-05-10T06:16:00",
          "2023-05-10T06:17:00",
          "2023-05-10T06:18:00",
          "2023-05-10T06:19:00",
          "2023-05-10T06:20:00",
          "2023-05-10T06:21:00",
          "2023-05-10T06:22:00",
          "2023-05-10T06:23:00",
          "2023-05-10T06:24:00",
          "2023-05-10T06:25:00",
          "2023-05-10T06:27:00",
          "2023-05-10T06:28:00",
          "2023-05-10T06:29:00",
          "2023-05-10T06:30:00",
          "2023-05-10T06:31:00",
          "2023-05-10T06:32:00",
          "2023-05-10T06:33:00",
          "2023-05-10T06:34:00",
          "2023-05-10T06:35:00",
          "2023-05-10T06:36:00",
          "2023-05-10T06:37:00",
          "2023-05-10T06:38:00",
          "2023-05-10T06:39:00",
          "2023-05-10T06:40:00",
          "2023-05-10T06:41:00",
          "2023-05-10T06:42:00",
          "2023-05-10T06:43:00",
          "2023-05-10T06:44:00",
          "2023-05-10T06:45:00",
          "2023-05-10T06:46:00",
          "2023-05-10T06:47:00",
          "2023-05-10T06:48:00",
          "2023-05-10T06:49:00",
          "2023-05-10T06:50:00",
          "2023-05-10T06:51:00",
          "2023-05-10T06:53:00",
          "2023-05-10T06:54:00",
          "2023-05-10T06:55:00",
          "2023-05-10T06:56:00",
          "2023-05-10T06:57:00",
          "2023-05-10T06:58:00",
          "2023-05-10T06:59:00",
          "2023-05-10T07:01:00",
          "2023-05-10T07:02:00",
          "2023-05-10T07:03:00",
          "2023-05-10T07:04:00",
          "2023-05-10T07:05:00",
          "2023-05-10T07:06:00",
          "2023-05-10T07:07:00",
          "2023-05-10T07:08:00",
          "2023-05-10T07:09:00",
          "2023-05-10T07:10:00",
          "2023-05-10T07:11:00",
          "2023-05-10T07:12:00",
          "2023-05-10T07:13:00",
          "2023-05-10T07:14:00",
          "2023-05-10T07:15:00",
          "2023-05-10T07:16:00",
          "2023-05-10T07:18:00",
          "2023-05-10T07:19:00",
          "2023-05-10T07:20:00",
          "2023-05-10T07:21:00",
          "2023-05-10T07:22:00",
          "2023-05-10T07:24:00",
          "2023-05-10T07:25:00",
          "2023-05-10T07:26:00",
          "2023-05-10T07:27:00",
          "2023-05-10T07:28:00",
          "2023-05-10T07:29:00",
          "2023-05-10T07:30:00",
          "2023-05-10T07:31:00",
          "2023-05-10T07:32:00",
          "2023-05-10T07:33:00",
          "2023-05-10T07:34:00",
          "2023-05-10T07:35:00",
          "2023-05-10T07:36:00",
          "2023-05-10T07:37:00",
          "2023-05-10T07:38:00",
          "2023-05-10T07:39:00",
          "2023-05-10T07:40:00",
          "2023-05-10T07:41:00",
          "2023-05-10T07:42:00",
          "2023-05-10T07:43:00",
          "2023-05-10T07:44:00",
          "2023-05-10T07:46:00",
          "2023-05-10T07:47:00",
          "2023-05-10T07:48:00",
          "2023-05-10T07:49:00",
          "2023-05-10T07:50:00",
          "2023-05-10T07:51:00",
          "2023-05-10T07:52:00",
          "2023-05-10T07:53:00",
          "2023-05-10T07:54:00",
          "2023-05-10T07:55:00",
          "2023-05-10T07:57:00",
          "2023-05-10T07:58:00",
          "2023-05-10T07:59:00",
          "2023-05-10T08:00:00",
          "2023-05-10T08:01:00",
          "2023-05-10T08:02:00",
          "2023-05-10T08:03:00",
          "2023-05-10T08:04:00",
          "2023-05-10T08:06:00",
          "2023-05-10T08:07:00",
          "2023-05-10T08:08:00",
          "2023-05-10T08:10:00",
          "2023-05-10T08:11:00",
          "2023-05-10T08:12:00",
          "2023-05-10T08:13:00",
          "2023-05-10T08:14:00",
          "2023-05-10T08:15:00",
          "2023-05-10T08:17:00",
          "2023-05-10T08:18:00",
          "2023-05-10T08:19:00",
          "2023-05-10T08:20:00",
          "2023-05-10T08:21:00",
          "2023-05-10T08:22:00",
          "2023-05-10T08:23:00",
          "2023-05-10T08:24:00",
          "2023-05-10T08:25:00",
          "2023-05-10T08:26:00",
          "2023-05-10T08:27:00",
          "2023-05-10T08:28:00",
          "2023-05-10T08:29:00",
          "2023-05-10T08:30:00",
          "2023-05-10T08:31:00",
          "2023-05-10T08:32:00",
          "2023-05-10T08:33:00",
          "2023-05-10T08:34:00",
          "2023-05-10T08:35:00",
          "2023-05-10T08:36:00",
          "2023-05-10T08:38:00",
          "2023-05-10T08:39:00",
          "2023-05-10T08:40:00",
          "2023-05-10T08:41:00",
          "2023-05-10T08:42:00",
          "2023-05-10T08:43:00",
          "2023-05-10T08:44:00",
          "2023-05-10T08:45:00",
          "2023-05-10T08:46:00",
          "2023-05-10T08:48:00",
          "2023-05-10T08:49:00",
          "2023-05-10T08:50:00",
          "2023-05-10T08:51:00",
          "2023-05-10T08:52:00",
          "2023-05-10T08:53:00",
          "2023-05-10T08:55:00",
          "2023-05-10T08:56:00",
          "2023-05-10T08:57:00",
          "2023-05-10T08:58:00",
          "2023-05-10T08:59:00",
          "2023-05-10T09:00:00",
          "2023-05-10T09:01:00",
          "2023-05-10T09:02:00",
          "2023-05-10T09:03:00",
          "2023-05-10T09:04:00",
          "2023-05-10T09:05:00",
          "2023-05-10T09:06:00",
          "2023-05-10T09:07:00",
          "2023-05-10T09:08:00",
          "2023-05-10T09:09:00",
          "2023-05-10T09:10:00",
          "2023-05-10T09:11:00",
          "2023-05-10T09:12:00",
          "2023-05-10T09:13:00",
          "2023-05-10T09:14:00",
          "2023-05-10T09:15:00",
          "2023-05-10T09:16:00",
          "2023-05-10T09:17:00",
          "2023-05-10T09:18:00",
          "2023-05-10T09:19:00",
          "2023-05-10T09:20:00",
          "2023-05-10T09:21:00",
          "2023-05-10T09:22:00",
          "2023-05-10T09:23:00",
          "2023-05-10T09:24:00",
          "2023-05-10T09:25:00",
          "2023-05-10T09:26:00",
          "2023-05-10T09:27:00",
          "2023-05-10T09:28:00",
          "2023-05-10T09:29:00",
          "2023-05-10T09:31:00",
          "2023-05-10T09:32:00",
          "2023-05-10T09:33:00",
          "2023-05-10T09:34:00",
          "2023-05-10T09:35:00",
          "2023-05-10T09:36:00",
          "2023-05-10T09:37:00",
          "2023-05-10T09:38:00",
          "2023-05-10T09:39:00",
          "2023-05-10T09:40:00",
          "2023-05-10T09:41:00",
          "2023-05-10T09:42:00",
          "2023-05-10T09:43:00",
          "2023-05-10T09:44:00",
          "2023-05-10T09:45:00",
          "2023-05-10T09:46:00",
          "2023-05-10T09:47:00",
          "2023-05-10T09:48:00",
          "2023-05-10T09:49:00",
          "2023-05-10T09:50:00",
          "2023-05-10T09:51:00",
          "2023-05-10T09:52:00",
          "2023-05-10T09:54:00",
          "2023-05-10T09:55:00",
          "2023-05-10T09:56:00",
          "2023-05-10T09:57:00",
          "2023-05-10T09:58:00",
          "2023-05-10T09:59:00",
          "2023-05-10T10:00:00",
          "2023-05-10T10:01:00",
          "2023-05-10T10:02:00",
          "2023-05-10T10:03:00",
          "2023-05-10T10:04:00",
          "2023-05-10T10:05:00",
          "2023-05-10T10:06:00",
          "2023-05-10T10:07:00",
          "2023-05-10T10:08:00",
          "2023-05-10T10:09:00",
          "2023-05-10T10:10:00",
          "2023-05-10T10:11:00",
          "2023-05-10T10:12:00",
          "2023-05-10T10:13:00",
          "2023-05-10T10:14:00",
          "2023-05-10T10:15:00",
          "2023-05-10T10:16:00",
          "2023-05-10T10:17:00",
          "2023-05-10T10:18:00",
          "2023-05-10T10:19:00",
          "2023-05-10T10:20:00",
          "2023-05-10T10:21:00",
          "2023-05-10T10:22:00",
          "2023-05-10T10:23:00",
          "2023-05-10T10:24:00",
          "2023-05-10T10:27:00",
          "2023-05-10T10:28:00",
          "2023-05-10T10:29:00",
          "2023-05-10T10:30:00",
          "2023-05-10T10:31:00",
          "2023-05-10T10:32:00",
          "2023-05-10T10:33:00",
          "2023-05-10T10:34:00",
          "2023-05-10T10:35:00",
          "2023-05-10T10:36:00",
          "2023-05-10T10:37:00",
          "2023-05-10T10:38:00",
          "2023-05-10T10:39:00",
          "2023-05-10T10:40:00",
          "2023-05-10T10:41:00",
          "2023-05-10T10:42:00",
          "2023-05-10T10:43:00",
          "2023-05-10T10:44:00",
          "2023-05-10T10:45:00",
          "2023-05-10T10:46:00",
          "2023-05-10T10:47:00",
          "2023-05-10T10:48:00",
          "2023-05-10T10:49:00",
          "2023-05-10T10:50:00",
          "2023-05-10T10:51:00",
          "2023-05-10T10:52:00",
          "2023-05-10T10:53:00",
          "2023-05-10T10:55:00",
          "2023-05-10T10:56:00",
          "2023-05-10T10:57:00",
          "2023-05-10T10:58:00",
          "2023-05-10T10:59:00",
          "2023-05-10T11:00:00",
          "2023-05-10T11:01:00",
          "2023-05-10T11:02:00",
          "2023-05-10T11:03:00",
          "2023-05-10T11:04:00",
          "2023-05-10T11:05:00",
          "2023-05-10T11:06:00",
          "2023-05-10T11:07:00",
          "2023-05-10T11:08:00",
          "2023-05-10T11:09:00",
          "2023-05-10T11:10:00",
          "2023-05-10T11:11:00",
          "2023-05-10T11:12:00",
          "2023-05-10T11:13:00",
          "2023-05-10T11:14:00",
          "2023-05-10T11:15:00",
          "2023-05-10T11:16:00",
          "2023-05-10T11:18:00",
          "2023-05-10T11:19:00",
          "2023-05-10T11:20:00",
          "2023-05-10T11:21:00",
          "2023-05-10T11:22:00",
          "2023-05-10T11:23:00",
          "2023-05-10T11:24:00",
          "2023-05-10T11:25:00",
          "2023-05-10T11:26:00",
          "2023-05-10T11:27:00",
          "2023-05-10T11:28:00",
          "2023-05-10T11:29:00",
          "2023-05-10T11:30:00",
          "2023-05-10T11:31:00",
          "2023-05-10T11:32:00",
          "2023-05-10T11:33:00",
          "2023-05-10T11:34:00",
          "2023-05-10T11:35:00",
          "2023-05-10T11:36:00",
          "2023-05-10T11:37:00",
          "2023-05-10T11:38:00",
          "2023-05-10T11:39:00",
          "2023-05-10T11:40:00",
          "2023-05-10T11:41:00",
          "2023-05-10T11:42:00",
          "2023-05-10T11:43:00",
          "2023-05-10T11:44:00",
          "2023-05-10T11:46:00",
          "2023-05-10T11:47:00",
          "2023-05-10T11:48:00",
          "2023-05-10T11:49:00",
          "2023-05-10T11:50:00",
          "2023-05-10T11:51:00",
          "2023-05-10T11:52:00",
          "2023-05-10T11:53:00",
          "2023-05-10T11:54:00",
          "2023-05-10T11:55:00",
          "2023-05-10T11:56:00",
          "2023-05-10T11:57:00",
          "2023-05-10T11:58:00",
          "2023-05-10T11:59:00",
          "2023-05-10T12:00:00",
          "2023-05-10T12:01:00",
          "2023-05-10T12:02:00",
          "2023-05-10T12:03:00",
          "2023-05-10T12:04:00",
          "2023-05-10T12:05:00",
          "2023-05-10T12:06:00",
          "2023-05-10T12:07:00",
          "2023-05-10T12:08:00",
          "2023-05-10T12:10:00",
          "2023-05-10T12:11:00",
          "2023-05-10T12:12:00",
          "2023-05-10T12:15:00",
          "2023-05-10T12:17:00",
          "2023-05-10T12:18:00",
          "2023-05-10T12:19:00",
          "2023-05-10T12:21:00",
          "2023-05-10T12:24:00",
          "2023-05-10T12:25:00",
          "2023-05-10T12:26:00",
          "2023-05-10T12:27:00",
          "2023-05-10T12:31:00",
          "2023-05-10T12:33:00",
          "2023-05-10T12:34:00",
          "2023-05-10T12:36:00",
          "2023-05-10T12:38:00",
          "2023-05-10T12:40:00",
          "2023-05-10T12:41:00",
          "2023-05-10T12:43:00",
          "2023-05-10T12:47:00",
          "2023-05-10T12:48:00",
          "2023-05-10T12:51:00",
          "2023-05-10T12:52:00",
          "2023-05-10T12:53:00",
          "2023-05-10T12:54:00",
          "2023-05-10T12:56:00",
          "2023-05-10T12:58:00",
          "2023-05-10T12:59:00",
          "2023-05-10T13:02:00",
          "2023-05-10T13:04:00",
          "2023-05-10T13:05:00",
          "2023-05-10T13:08:00",
          "2023-05-10T13:10:00",
          "2023-05-10T13:13:00",
          "2023-05-10T13:14:00",
          "2023-05-10T13:17:00",
          "2023-05-10T13:22:00",
          "2023-05-10T13:23:00",
          "2023-05-10T13:24:00",
          "2023-05-10T13:25:00",
          "2023-05-10T13:27:00",
          "2023-05-10T13:28:00",
          "2023-05-10T13:29:00",
          "2023-05-10T13:33:00",
          "2023-05-10T13:34:00",
          "2023-05-10T13:36:00",
          "2023-05-10T13:37:00",
          "2023-05-10T13:39:00",
          "2023-05-10T13:41:00",
          "2023-05-10T13:42:00",
          "2023-05-10T13:43:00",
          "2023-05-10T13:46:00",
          "2023-05-10T13:48:00",
          "2023-05-10T13:49:00",
          "2023-05-10T13:50:00",
          "2023-05-10T13:52:00",
          "2023-05-10T13:53:00",
          "2023-05-10T13:54:00",
          "2023-05-10T13:57:00",
          "2023-05-10T13:58:00",
          "2023-05-10T13:59:00",
          "2023-05-10T14:01:00",
          "2023-05-10T14:03:00",
          "2023-05-10T14:05:00",
          "2023-05-10T14:07:00",
          "2023-05-10T14:08:00",
          "2023-05-10T14:10:00",
          "2023-05-10T14:11:00",
          "2023-05-10T14:12:00",
          "2023-05-10T14:15:00",
          "2023-05-10T14:16:00",
          "2023-05-10T14:17:00",
          "2023-05-10T14:19:00",
          "2023-05-10T14:20:00",
          "2023-05-10T14:22:00",
          "2023-05-10T14:23:00",
          "2023-05-10T14:24:00",
          "2023-05-10T14:25:00",
          "2023-05-10T14:27:00",
          "2023-05-10T14:28:00",
          "2023-05-10T14:29:00",
          "2023-05-10T14:30:00",
          "2023-05-10T14:31:00",
          "2023-05-10T14:32:00",
          "2023-05-10T14:33:00",
          "2023-05-10T14:34:00",
          "2023-05-10T14:35:00",
          "2023-05-10T14:36:00",
          "2023-05-10T14:38:00",
          "2023-05-10T14:39:00",
          "2023-05-10T14:40:00",
          "2023-05-10T14:43:00",
          "2023-05-10T14:44:00",
          "2023-05-10T14:47:00",
          "2023-05-10T14:48:00",
          "2023-05-10T14:49:00",
          "2023-05-10T14:50:00",
          "2023-05-10T14:51:00",
          "2023-05-10T14:52:00",
          "2023-05-10T14:54:00",
          "2023-05-10T14:55:00",
          "2023-05-10T14:56:00",
          "2023-05-10T14:57:00",
          "2023-05-10T14:58:00",
          "2023-05-10T14:59:00",
          "2023-05-10T15:01:00",
          "2023-05-10T15:02:00",
          "2023-05-10T15:04:00",
          "2023-05-10T15:05:00",
          "2023-05-10T15:07:00",
          "2023-05-10T15:08:00",
          "2023-05-10T15:09:00",
          "2023-05-10T15:10:00",
          "2023-05-10T15:11:00",
          "2023-05-10T15:12:00",
          "2023-05-10T15:13:00",
          "2023-05-10T15:15:00",
          "2023-05-10T15:16:00",
          "2023-05-10T15:17:00",
          "2023-05-10T15:18:00",
          "2023-05-10T15:19:00",
          "2023-05-10T15:20:00",
          "2023-05-10T15:21:00",
          "2023-05-10T15:22:00",
          "2023-05-10T15:23:00",
          "2023-05-10T15:25:00",
          "2023-05-10T15:26:00",
          "2023-05-10T15:27:00",
          "2023-05-10T15:28:00",
          "2023-05-10T15:29:00",
          "2023-05-10T15:30:00",
          "2023-05-10T15:31:00",
          "2023-05-10T15:32:00",
          "2023-05-10T15:33:00",
          "2023-05-10T15:35:00",
          "2023-05-10T15:36:00",
          "2023-05-10T15:37:00",
          "2023-05-10T15:39:00",
          "2023-05-10T15:40:00",
          "2023-05-10T15:41:00",
          "2023-05-10T15:42:00",
          "2023-05-10T15:43:00",
          "2023-05-10T15:44:00",
          "2023-05-10T15:45:00",
          "2023-05-10T15:46:00",
          "2023-05-10T15:47:00",
          "2023-05-10T15:48:00",
          "2023-05-10T15:49:00",
          "2023-05-10T15:52:00",
          "2023-05-10T15:53:00",
          "2023-05-10T15:54:00",
          "2023-05-10T15:55:00",
          "2023-05-10T15:56:00",
          "2023-05-10T15:57:00",
          "2023-05-10T15:58:00",
          "2023-05-10T15:59:00",
          "2023-05-10T16:00:00",
          "2023-05-10T16:01:00",
          "2023-05-10T16:02:00",
          "2023-05-10T16:04:00",
          "2023-05-10T16:05:00",
          "2023-05-10T16:06:00",
          "2023-05-10T16:07:00",
          "2023-05-10T16:08:00",
          "2023-05-10T16:09:00",
          "2023-05-10T16:10:00",
          "2023-05-10T16:14:00",
          "2023-05-10T16:16:00",
          "2023-05-10T16:18:00",
          "2023-05-10T16:19:00",
          "2023-05-10T16:20:00",
          "2023-05-10T16:23:00",
          "2023-05-10T16:24:00",
          "2023-05-10T16:25:00",
          "2023-05-10T16:26:00",
          "2023-05-10T16:28:00",
          "2023-05-10T16:29:00",
          "2023-05-10T16:30:00",
          "2023-05-10T16:32:00",
          "2023-05-10T16:33:00",
          "2023-05-10T16:35:00",
          "2023-05-10T16:36:00",
          "2023-05-10T16:37:00",
          "2023-05-10T16:38:00",
          "2023-05-10T16:40:00",
          "2023-05-10T16:41:00",
          "2023-05-10T16:42:00",
          "2023-05-10T16:43:00",
          "2023-05-10T16:44:00",
          "2023-05-10T16:45:00",
          "2023-05-10T16:46:00",
          "2023-05-10T16:47:00",
          "2023-05-10T16:48:00",
          "2023-05-10T16:49:00",
          "2023-05-10T16:50:00",
          "2023-05-10T16:51:00",
          "2023-05-10T16:52:00",
          "2023-05-10T16:53:00",
          "2023-05-10T16:54:00",
          "2023-05-10T16:55:00",
          "2023-05-10T16:56:00",
          "2023-05-10T16:58:00",
          "2023-05-10T16:59:00",
          "2023-05-10T17:01:00",
          "2023-05-10T17:02:00",
          "2023-05-10T17:03:00",
          "2023-05-10T17:04:00",
          "2023-05-10T17:05:00",
          "2023-05-10T17:06:00",
          "2023-05-10T17:08:00",
          "2023-05-10T17:18:00",
          "2023-05-10T17:19:00",
          "2023-05-10T17:23:00",
          "2023-05-10T17:24:00",
          "2023-05-10T17:25:00",
          "2023-05-10T17:30:00",
          "2023-05-10T17:33:00",
          "2023-05-10T17:34:00",
          "2023-05-10T17:36:00",
          "2023-05-10T17:37:00",
          "2023-05-10T17:40:00",
          "2023-05-10T17:42:00",
          "2023-05-10T17:44:00",
          "2023-05-10T17:46:00",
          "2023-05-10T17:48:00",
          "2023-05-10T17:49:00",
          "2023-05-10T17:52:00",
          "2023-05-10T17:53:00",
          "2023-05-10T17:54:00",
          "2023-05-10T17:55:00",
          "2023-05-10T17:59:00",
          "2023-05-10T18:00:00",
          "2023-05-10T18:02:00",
          "2023-05-10T18:05:00",
          "2023-05-10T18:06:00",
          "2023-05-10T18:09:00",
          "2023-05-10T18:11:00",
          "2023-05-10T18:12:00",
          "2023-05-10T18:13:00",
          "2023-05-10T18:15:00",
          "2023-05-10T18:16:00",
          "2023-05-10T18:17:00",
          "2023-05-10T18:19:00",
          "2023-05-10T18:20:00",
          "2023-05-10T18:21:00",
          "2023-05-10T18:22:00",
          "2023-05-10T18:24:00",
          "2023-05-10T18:26:00",
          "2023-05-10T18:27:00",
          "2023-05-10T18:28:00",
          "2023-05-10T18:29:00",
          "2023-05-10T18:30:00",
          "2023-05-10T18:32:00",
          "2023-05-10T18:33:00",
          "2023-05-10T18:35:00",
          "2023-05-10T18:36:00",
          "2023-05-10T18:37:00",
          "2023-05-10T18:38:00",
          "2023-05-10T18:39:00",
          "2023-05-10T18:41:00",
          "2023-05-10T18:42:00",
          "2023-05-10T18:43:00",
          "2023-05-10T18:45:00",
          "2023-05-10T18:47:00",
          "2023-05-10T18:49:00",
          "2023-05-10T18:50:00",
          "2023-05-10T18:52:00",
          "2023-05-10T18:53:00",
          "2023-05-10T18:54:00",
          "2023-05-10T18:55:00",
          "2023-05-10T18:56:00",
          "2023-05-10T18:57:00",
          "2023-05-10T18:58:00",
          "2023-05-10T18:59:00",
          "2023-05-10T19:01:00",
          "2023-05-10T19:05:00",
          "2023-05-10T19:08:00",
          "2023-05-10T19:12:00",
          "2023-05-10T19:13:00",
          "2023-05-10T19:15:00",
          "2023-05-10T19:16:00",
          "2023-05-10T19:17:00",
          "2023-05-10T19:19:00",
          "2023-05-10T19:21:00",
          "2023-05-10T19:23:00",
          "2023-05-10T19:24:00",
          "2023-05-10T19:25:00",
          "2023-05-10T19:27:00",
          "2023-05-10T19:28:00",
          "2023-05-10T19:30:00",
          "2023-05-10T19:31:00",
          "2023-05-10T19:32:00",
          "2023-05-10T19:34:00",
          "2023-05-10T19:35:00",
          "2023-05-10T19:36:00",
          "2023-05-10T19:37:00",
          "2023-05-10T19:38:00",
          "2023-05-10T19:39:00",
          "2023-05-10T19:40:00",
          "2023-05-10T19:41:00",
          "2023-05-10T19:42:00",
          "2023-05-10T19:43:00",
          "2023-05-10T19:44:00",
          "2023-05-10T19:45:00",
          "2023-05-10T19:46:00",
          "2023-05-10T19:47:00",
          "2023-05-10T19:51:00",
          "2023-05-10T19:52:00",
          "2023-05-10T19:53:00",
          "2023-05-10T19:55:00",
          "2023-05-10T19:56:00",
          "2023-05-10T19:57:00",
          "2023-05-10T19:58:00",
          "2023-05-10T19:59:00",
          "2023-05-10T20:00:00",
          "2023-05-10T20:02:00",
          "2023-05-10T20:03:00",
          "2023-05-10T20:04:00",
          "2023-05-10T20:06:00",
          "2023-05-10T20:07:00",
          "2023-05-10T20:08:00",
          "2023-05-10T20:10:00",
          "2023-05-10T20:11:00",
          "2023-05-10T20:12:00",
          "2023-05-10T20:13:00",
          "2023-05-10T20:14:00",
          "2023-05-10T20:15:00",
          "2023-05-10T20:16:00",
          "2023-05-10T20:20:00",
          "2023-05-10T20:21:00",
          "2023-05-10T20:22:00",
          "2023-05-10T20:23:00",
          "2023-05-10T20:25:00",
          "2023-05-10T20:27:00",
          "2023-05-10T20:28:00",
          "2023-05-10T20:29:00",
          "2023-05-10T20:31:00",
          "2023-05-10T20:32:00",
          "2023-05-10T20:33:00",
          "2023-05-10T20:34:00",
          "2023-05-10T20:35:00",
          "2023-05-10T20:36:00",
          "2023-05-10T20:37:00",
          "2023-05-10T20:38:00",
          "2023-05-10T20:39:00",
          "2023-05-10T20:41:00",
          "2023-05-10T20:42:00",
          "2023-05-10T20:43:00",
          "2023-05-10T20:44:00",
          "2023-05-10T20:47:00",
          "2023-05-10T20:48:00",
          "2023-05-10T20:49:00",
          "2023-05-10T20:50:00",
          "2023-05-10T20:51:00",
          "2023-05-10T20:52:00",
          "2023-05-10T20:53:00",
          "2023-05-10T20:54:00",
          "2023-05-10T20:55:00",
          "2023-05-10T20:56:00",
          "2023-05-10T20:57:00",
          "2023-05-10T20:58:00",
          "2023-05-10T21:00:00"
         ]
        }
       ],
       "layout": {
        "annotations": [
         {
          "arrowcolor": "green",
          "arrowhead": 5,
          "arrowwidth": 2,
          "ay": -10,
          "font": {
           "color": "green"
          },
          "hovertext": "2023-05-10 20:16:40.544196 buy at 27730.18, sl=27727.738082628246, tp=27738.193372650145",
          "showarrow": true,
          "text": "buy",
          "x": "2023-05-10T20:16:40.544196",
          "y": 27730.18
         },
         {
          "arrowcolor": "green",
          "arrowhead": 5,
          "arrowwidth": 2,
          "ay": -20,
          "font": {
           "color": "green"
          },
          "hovertext": "2023-05-10 20:50:49.296963 buy at 27873.16, sl=27870.917392215728, tp=27878.48043527603",
          "showarrow": true,
          "text": "buy",
          "x": "2023-05-10T20:50:49.296963",
          "y": 27873.16
         },
         {
          "arrowcolor": "green",
          "arrowhead": 5,
          "arrowwidth": 2,
          "ay": -30,
          "font": {
           "color": "green"
          },
          "hovertext": "2023-05-10 20:51:16.902684 buy at 27871.46, sl=27869.061868724824, tp=27886.352091445922",
          "showarrow": true,
          "text": "buy",
          "x": "2023-05-10T20:51:16.902684",
          "y": 27871.46
         },
         {
          "arrowcolor": "green",
          "arrowhead": 5,
          "arrowwidth": 2,
          "ay": -40,
          "font": {
           "color": "green"
          },
          "hovertext": "2023-05-10 20:53:20.182227 buy at 27860.19, sl=27858.41196122408, tp=27863.050214681625",
          "showarrow": true,
          "text": "buy",
          "x": "2023-05-10T20:53:20.182227",
          "y": 27860.19
         },
         {
          "arrowcolor": "green",
          "arrowhead": 5,
          "arrowwidth": 2,
          "ay": 0,
          "font": {
           "color": "green"
          },
          "hovertext": "2023-05-10 20:53:33.039178 buy at 27863.07, sl=27860.991781826015, tp=27868.245191631315",
          "showarrow": true,
          "text": "buy",
          "x": "2023-05-10T20:53:33.039178",
          "y": 27863.07
         },
         {
          "arrowcolor": "green",
          "arrowhead": 5,
          "arrowwidth": 2,
          "ay": -10,
          "font": {
           "color": "green"
          },
          "hovertext": "2023-05-10 20:55:30.137882 buy at 27867.42, sl=27865.485581536293, tp=27873.7163315773",
          "showarrow": true,
          "text": "buy",
          "x": "2023-05-10T20:55:30.137882",
          "y": 27867.42
         },
         {
          "arrowcolor": "green",
          "arrowhead": 5,
          "arrowwidth": 2,
          "ay": -10,
          "font": {
           "color": "green"
          },
          "hovertext": "2023-05-10 20:17:22.690000 close buy at 27738.19, profit: 0.00801",
          "showarrow": true,
          "text": "close buy",
          "x": "2023-05-10T20:17:22.690000",
          "y": 27738.19
         },
         {
          "arrowcolor": "green",
          "arrowhead": 5,
          "arrowwidth": 2,
          "ay": -10,
          "font": {
           "color": "green"
          },
          "hovertext": "2023-05-10 20:50:49.904000 close buy at 27870.48, profit: -0.00268",
          "showarrow": true,
          "text": "close buy",
          "x": "2023-05-10T20:50:49.904000",
          "y": 27870.48
         },
         {
          "arrowcolor": "green",
          "arrowhead": 5,
          "arrowwidth": 2,
          "ay": -10,
          "font": {
           "color": "green"
          },
          "hovertext": "2023-05-10 20:51:56.824000 close buy at 27869.01, profit: -0.00245",
          "showarrow": true,
          "text": "close buy",
          "x": "2023-05-10T20:51:56.824000",
          "y": 27869.01
         },
         {
          "arrowcolor": "green",
          "arrowhead": 5,
          "arrowwidth": 2,
          "ay": -10,
          "font": {
           "color": "green"
          },
          "hovertext": "2023-05-10 20:53:23.796000 close buy at 27863.05, profit: 0.00286",
          "showarrow": true,
          "text": "close buy",
          "x": "2023-05-10T20:53:23.796000",
          "y": 27863.05
         },
         {
          "arrowcolor": "green",
          "arrowhead": 5,
          "arrowwidth": 2,
          "ay": -10,
          "font": {
           "color": "green"
          },
          "hovertext": "2023-05-10 20:53:44.819000 close buy at 27860.99, profit: -0.00208",
          "showarrow": true,
          "text": "close buy",
          "x": "2023-05-10T20:53:44.819000",
          "y": 27860.99
         },
         {
          "arrowcolor": "green",
          "arrowhead": 5,
          "arrowwidth": 2,
          "ay": -10,
          "font": {
           "color": "green"
          },
          "hovertext": "2023-05-10 20:58:58.846000 close buy at 27865.43, profit: -0.00199",
          "showarrow": true,
          "text": "close buy",
          "x": "2023-05-10T20:58:58.846000",
          "y": 27865.43
         }
        ],
        "template": {
         "data": {
          "bar": [
           {
            "error_x": {
             "color": "#2a3f5f"
            },
            "error_y": {
             "color": "#2a3f5f"
            },
            "marker": {
             "line": {
              "color": "#E5ECF6",
              "width": 0.5
             },
             "pattern": {
              "fillmode": "overlay",
              "size": 10,
              "solidity": 0.2
             }
            },
            "type": "bar"
           }
          ],
          "barpolar": [
           {
            "marker": {
             "line": {
              "color": "#E5ECF6",
              "width": 0.5
             },
             "pattern": {
              "fillmode": "overlay",
              "size": 10,
              "solidity": 0.2
             }
            },
            "type": "barpolar"
           }
          ],
          "carpet": [
           {
            "aaxis": {
             "endlinecolor": "#2a3f5f",
             "gridcolor": "white",
             "linecolor": "white",
             "minorgridcolor": "white",
             "startlinecolor": "#2a3f5f"
            },
            "baxis": {
             "endlinecolor": "#2a3f5f",
             "gridcolor": "white",
             "linecolor": "white",
             "minorgridcolor": "white",
             "startlinecolor": "#2a3f5f"
            },
            "type": "carpet"
           }
          ],
          "choropleth": [
           {
            "colorbar": {
             "outlinewidth": 0,
             "ticks": ""
            },
            "type": "choropleth"
           }
          ],
          "contour": [
           {
            "colorbar": {
             "outlinewidth": 0,
             "ticks": ""
            },
            "colorscale": [
             [
              0,
              "#0d0887"
             ],
             [
              0.1111111111111111,
              "#46039f"
             ],
             [
              0.2222222222222222,
              "#7201a8"
             ],
             [
              0.3333333333333333,
              "#9c179e"
             ],
             [
              0.4444444444444444,
              "#bd3786"
             ],
             [
              0.5555555555555556,
              "#d8576b"
             ],
             [
              0.6666666666666666,
              "#ed7953"
             ],
             [
              0.7777777777777778,
              "#fb9f3a"
             ],
             [
              0.8888888888888888,
              "#fdca26"
             ],
             [
              1,
              "#f0f921"
             ]
            ],
            "type": "contour"
           }
          ],
          "contourcarpet": [
           {
            "colorbar": {
             "outlinewidth": 0,
             "ticks": ""
            },
            "type": "contourcarpet"
           }
          ],
          "heatmap": [
           {
            "colorbar": {
             "outlinewidth": 0,
             "ticks": ""
            },
            "colorscale": [
             [
              0,
              "#0d0887"
             ],
             [
              0.1111111111111111,
              "#46039f"
             ],
             [
              0.2222222222222222,
              "#7201a8"
             ],
             [
              0.3333333333333333,
              "#9c179e"
             ],
             [
              0.4444444444444444,
              "#bd3786"
             ],
             [
              0.5555555555555556,
              "#d8576b"
             ],
             [
              0.6666666666666666,
              "#ed7953"
             ],
             [
              0.7777777777777778,
              "#fb9f3a"
             ],
             [
              0.8888888888888888,
              "#fdca26"
             ],
             [
              1,
              "#f0f921"
             ]
            ],
            "type": "heatmap"
           }
          ],
          "heatmapgl": [
           {
            "colorbar": {
             "outlinewidth": 0,
             "ticks": ""
            },
            "colorscale": [
             [
              0,
              "#0d0887"
             ],
             [
              0.1111111111111111,
              "#46039f"
             ],
             [
              0.2222222222222222,
              "#7201a8"
             ],
             [
              0.3333333333333333,
              "#9c179e"
             ],
             [
              0.4444444444444444,
              "#bd3786"
             ],
             [
              0.5555555555555556,
              "#d8576b"
             ],
             [
              0.6666666666666666,
              "#ed7953"
             ],
             [
              0.7777777777777778,
              "#fb9f3a"
             ],
             [
              0.8888888888888888,
              "#fdca26"
             ],
             [
              1,
              "#f0f921"
             ]
            ],
            "type": "heatmapgl"
           }
          ],
          "histogram": [
           {
            "marker": {
             "pattern": {
              "fillmode": "overlay",
              "size": 10,
              "solidity": 0.2
             }
            },
            "type": "histogram"
           }
          ],
          "histogram2d": [
           {
            "colorbar": {
             "outlinewidth": 0,
             "ticks": ""
            },
            "colorscale": [
             [
              0,
              "#0d0887"
             ],
             [
              0.1111111111111111,
              "#46039f"
             ],
             [
              0.2222222222222222,
              "#7201a8"
             ],
             [
              0.3333333333333333,
              "#9c179e"
             ],
             [
              0.4444444444444444,
              "#bd3786"
             ],
             [
              0.5555555555555556,
              "#d8576b"
             ],
             [
              0.6666666666666666,
              "#ed7953"
             ],
             [
              0.7777777777777778,
              "#fb9f3a"
             ],
             [
              0.8888888888888888,
              "#fdca26"
             ],
             [
              1,
              "#f0f921"
             ]
            ],
            "type": "histogram2d"
           }
          ],
          "histogram2dcontour": [
           {
            "colorbar": {
             "outlinewidth": 0,
             "ticks": ""
            },
            "colorscale": [
             [
              0,
              "#0d0887"
             ],
             [
              0.1111111111111111,
              "#46039f"
             ],
             [
              0.2222222222222222,
              "#7201a8"
             ],
             [
              0.3333333333333333,
              "#9c179e"
             ],
             [
              0.4444444444444444,
              "#bd3786"
             ],
             [
              0.5555555555555556,
              "#d8576b"
             ],
             [
              0.6666666666666666,
              "#ed7953"
             ],
             [
              0.7777777777777778,
              "#fb9f3a"
             ],
             [
              0.8888888888888888,
              "#fdca26"
             ],
             [
              1,
              "#f0f921"
             ]
            ],
            "type": "histogram2dcontour"
           }
          ],
          "mesh3d": [
           {
            "colorbar": {
             "outlinewidth": 0,
             "ticks": ""
            },
            "type": "mesh3d"
           }
          ],
          "parcoords": [
           {
            "line": {
             "colorbar": {
              "outlinewidth": 0,
              "ticks": ""
             }
            },
            "type": "parcoords"
           }
          ],
          "pie": [
           {
            "automargin": true,
            "type": "pie"
           }
          ],
          "scatter": [
           {
            "fillpattern": {
             "fillmode": "overlay",
             "size": 10,
             "solidity": 0.2
            },
            "type": "scatter"
           }
          ],
          "scatter3d": [
           {
            "line": {
             "colorbar": {
              "outlinewidth": 0,
              "ticks": ""
             }
            },
            "marker": {
             "colorbar": {
              "outlinewidth": 0,
              "ticks": ""
             }
            },
            "type": "scatter3d"
           }
          ],
          "scattercarpet": [
           {
            "marker": {
             "colorbar": {
              "outlinewidth": 0,
              "ticks": ""
             }
            },
            "type": "scattercarpet"
           }
          ],
          "scattergeo": [
           {
            "marker": {
             "colorbar": {
              "outlinewidth": 0,
              "ticks": ""
             }
            },
            "type": "scattergeo"
           }
          ],
          "scattergl": [
           {
            "marker": {
             "colorbar": {
              "outlinewidth": 0,
              "ticks": ""
             }
            },
            "type": "scattergl"
           }
          ],
          "scattermapbox": [
           {
            "marker": {
             "colorbar": {
              "outlinewidth": 0,
              "ticks": ""
             }
            },
            "type": "scattermapbox"
           }
          ],
          "scatterpolar": [
           {
            "marker": {
             "colorbar": {
              "outlinewidth": 0,
              "ticks": ""
             }
            },
            "type": "scatterpolar"
           }
          ],
          "scatterpolargl": [
           {
            "marker": {
             "colorbar": {
              "outlinewidth": 0,
              "ticks": ""
             }
            },
            "type": "scatterpolargl"
           }
          ],
          "scatterternary": [
           {
            "marker": {
             "colorbar": {
              "outlinewidth": 0,
              "ticks": ""
             }
            },
            "type": "scatterternary"
           }
          ],
          "surface": [
           {
            "colorbar": {
             "outlinewidth": 0,
             "ticks": ""
            },
            "colorscale": [
             [
              0,
              "#0d0887"
             ],
             [
              0.1111111111111111,
              "#46039f"
             ],
             [
              0.2222222222222222,
              "#7201a8"
             ],
             [
              0.3333333333333333,
              "#9c179e"
             ],
             [
              0.4444444444444444,
              "#bd3786"
             ],
             [
              0.5555555555555556,
              "#d8576b"
             ],
             [
              0.6666666666666666,
              "#ed7953"
             ],
             [
              0.7777777777777778,
              "#fb9f3a"
             ],
             [
              0.8888888888888888,
              "#fdca26"
             ],
             [
              1,
              "#f0f921"
             ]
            ],
            "type": "surface"
           }
          ],
          "table": [
           {
            "cells": {
             "fill": {
              "color": "#EBF0F8"
             },
             "line": {
              "color": "white"
             }
            },
            "header": {
             "fill": {
              "color": "#C8D4E3"
             },
             "line": {
              "color": "white"
             }
            },
            "type": "table"
           }
          ]
         },
         "layout": {
          "annotationdefaults": {
           "arrowcolor": "#2a3f5f",
           "arrowhead": 0,
           "arrowwidth": 1
          },
          "autotypenumbers": "strict",
          "coloraxis": {
           "colorbar": {
            "outlinewidth": 0,
            "ticks": ""
           }
          },
          "colorscale": {
           "diverging": [
            [
             0,
             "#8e0152"
            ],
            [
             0.1,
             "#c51b7d"
            ],
            [
             0.2,
             "#de77ae"
            ],
            [
             0.3,
             "#f1b6da"
            ],
            [
             0.4,
             "#fde0ef"
            ],
            [
             0.5,
             "#f7f7f7"
            ],
            [
             0.6,
             "#e6f5d0"
            ],
            [
             0.7,
             "#b8e186"
            ],
            [
             0.8,
             "#7fbc41"
            ],
            [
             0.9,
             "#4d9221"
            ],
            [
             1,
             "#276419"
            ]
           ],
           "sequential": [
            [
             0,
             "#0d0887"
            ],
            [
             0.1111111111111111,
             "#46039f"
            ],
            [
             0.2222222222222222,
             "#7201a8"
            ],
            [
             0.3333333333333333,
             "#9c179e"
            ],
            [
             0.4444444444444444,
             "#bd3786"
            ],
            [
             0.5555555555555556,
             "#d8576b"
            ],
            [
             0.6666666666666666,
             "#ed7953"
            ],
            [
             0.7777777777777778,
             "#fb9f3a"
            ],
            [
             0.8888888888888888,
             "#fdca26"
            ],
            [
             1,
             "#f0f921"
            ]
           ],
           "sequentialminus": [
            [
             0,
             "#0d0887"
            ],
            [
             0.1111111111111111,
             "#46039f"
            ],
            [
             0.2222222222222222,
             "#7201a8"
            ],
            [
             0.3333333333333333,
             "#9c179e"
            ],
            [
             0.4444444444444444,
             "#bd3786"
            ],
            [
             0.5555555555555556,
             "#d8576b"
            ],
            [
             0.6666666666666666,
             "#ed7953"
            ],
            [
             0.7777777777777778,
             "#fb9f3a"
            ],
            [
             0.8888888888888888,
             "#fdca26"
            ],
            [
             1,
             "#f0f921"
            ]
           ]
          },
          "colorway": [
           "#636efa",
           "#EF553B",
           "#00cc96",
           "#ab63fa",
           "#FFA15A",
           "#19d3f3",
           "#FF6692",
           "#B6E880",
           "#FF97FF",
           "#FECB52"
          ],
          "font": {
           "color": "#2a3f5f"
          },
          "geo": {
           "bgcolor": "white",
           "lakecolor": "white",
           "landcolor": "#E5ECF6",
           "showlakes": true,
           "showland": true,
           "subunitcolor": "white"
          },
          "hoverlabel": {
           "align": "left"
          },
          "hovermode": "closest",
          "mapbox": {
           "style": "light"
          },
          "paper_bgcolor": "white",
          "plot_bgcolor": "#E5ECF6",
          "polar": {
           "angularaxis": {
            "gridcolor": "white",
            "linecolor": "white",
            "ticks": ""
           },
           "bgcolor": "#E5ECF6",
           "radialaxis": {
            "gridcolor": "white",
            "linecolor": "white",
            "ticks": ""
           }
          },
          "scene": {
           "xaxis": {
            "backgroundcolor": "#E5ECF6",
            "gridcolor": "white",
            "gridwidth": 2,
            "linecolor": "white",
            "showbackground": true,
            "ticks": "",
            "zerolinecolor": "white"
           },
           "yaxis": {
            "backgroundcolor": "#E5ECF6",
            "gridcolor": "white",
            "gridwidth": 2,
            "linecolor": "white",
            "showbackground": true,
            "ticks": "",
            "zerolinecolor": "white"
           },
           "zaxis": {
            "backgroundcolor": "#E5ECF6",
            "gridcolor": "white",
            "gridwidth": 2,
            "linecolor": "white",
            "showbackground": true,
            "ticks": "",
            "zerolinecolor": "white"
           }
          },
          "shapedefaults": {
           "line": {
            "color": "#2a3f5f"
           }
          },
          "ternary": {
           "aaxis": {
            "gridcolor": "white",
            "linecolor": "white",
            "ticks": ""
           },
           "baxis": {
            "gridcolor": "white",
            "linecolor": "white",
            "ticks": ""
           },
           "bgcolor": "#E5ECF6",
           "caxis": {
            "gridcolor": "white",
            "linecolor": "white",
            "ticks": ""
           }
          },
          "title": {
           "x": 0.05
          },
          "xaxis": {
           "automargin": true,
           "gridcolor": "white",
           "linecolor": "white",
           "ticks": "",
           "title": {
            "standoff": 15
           },
           "zerolinecolor": "white",
           "zerolinewidth": 2
          },
          "yaxis": {
           "automargin": true,
           "gridcolor": "white",
           "linecolor": "white",
           "ticks": "",
           "title": {
            "standoff": 15
           },
           "zerolinecolor": "white",
           "zerolinewidth": 2
          }
         }
        }
       }
      },
      "text/html": [
       "<div>                            <div id=\"b178adae-d14f-4c9c-8749-8bbc157ab6ff\" class=\"plotly-graph-div\" style=\"height:525px; width:100%;\"></div>            <script type=\"text/javascript\">                require([\"plotly\"], function(Plotly) {                    window.PLOTLYENV=window.PLOTLYENV || {};                                    if (document.getElementById(\"b178adae-d14f-4c9c-8749-8bbc157ab6ff\")) {                    Plotly.newPlot(                        \"b178adae-d14f-4c9c-8749-8bbc157ab6ff\",                        [{\"close\":[27654.64,27650.99,27655.49,27647.56,27647.56,27662.75,27667.51,27667.47,27669.64,27670.92,27667.3,27658.17,27665.68,27667.31,27661.2,27665.13,27666.69,27673.6,27680.97,27674.29,27683.44,27685.96,27687.33,27685.98,27687.13,27682.09,27682.32,27687.85,27691.54,27684.57,27685.26,27683.83,27686.17,27688.02,27689.8,27689.79,27689.79,27697.65,27701.07,27705.64,27718.16,27715.01,27714.25,27713.96,27710.47,27703.99,27686.44,27685.86,27686.25,27698.02,27700.29,27698.65,27697.57,27691.98,27691.95,27681.6,27682.11,27683.0,27672.49,27670.55,27664.05,27671.29,27671.48,27673.64,27672.46,27679.95,27675.06,27677.13,27664.48,27664.48,27672.08,27670.09,27663.32,27670.58,27675.47,27677.13,27671.8,27670.05,27671.42,27671.41,27663.64,27664.97,27669.47,27664.87,27675.99,27666.79,27663.71,27660.73,27656.02,27663.88,27663.87,27656.94,27655.56,27655.56,27653.55,27643.55,27613.73,27608.67,27600.51,27593.81,27614.81,27613.66,27613.28,27614.32,27611.95,27610.15,27596.11,27595.07,27610.78,27614.6,27609.47,27612.65,27615.53,27616.66,27616.69,27612.23,27616.39,27601.21,27600.44,27603.98,27604.39,27604.39,27614.27,27616.75,27631.8,27627.14,27625.51,27614.66,27609.52,27607.35,27598.27,27607.82,27609.32,27610.3,27613.36,27613.75,27612.81,27600.51,27593.53,27597.05,27584.85,27583.3,27604.67,27604.67,27602.13,27618.54,27613.5,27625.78,27627.45,27595.7,27591.73,27586.19,27592.38,27595.63,27599.46,27607.49,27605.98,27602.77,27595.35,27597.97,27595.35,27590.62,27601.19,27604.18,27602.24,27631.39,27613.3,27607.03,27607.77,27594.66,27566.89,27566.62,27548.29,27544.9,27538.52,27542.94,27539.01,27550.01,27553.35,27558.14,27550.04,27560.65,27559.98,27551.34,27553.32,27548.26,27538.73,27542.25,27544.14,27541.63,27542.58,27562.52,27568.6,27570.81,27571.56,27573.57,27575.7,27565.36,27570.13,27564.01,27562.93,27558.09,27545.75,27542.19,27553.81,27548.5,27541.48,27540.31,27537.96,27503.74,27489.46,27521.77,27540.97,27556.8,27531.87,27555.67,27565.53,27568.17,27582.65,27579.65,27590.51,27581.49,27576.79,27564.88,27567.24,27558.94,27565.63,27571.68,27570.59,27563.21,27563.22,27571.93,27573.48,27583.66,27575.22,27570.01,27578.82,27569.36,27559.23,27558.11,27553.76,27542.49,27558.11,27559.74,27547.97,27554.31,27554.99,27547.58,27545.87,27550.9,27551.9,27551.42,27564.64,27589.81,27585.6,27575.86,27571.86,27572.47,27571.53,27580.3,27567.97,27567.86,27555.31,27562.11,27562.07,27564.51,27554.77,27552.8,27548.73,27541.79,27544.99,27551.84,27551.84,27550.29,27557.53,27557.54,27557.54,27555.18,27569.74,27577.43,27570.0,27561.03,27564.59,27562.19,27566.84,27564.97,27564.97,27556.58,27566.32,27574.68,27579.25,27577.61,27585.52,27579.31,27583.21,27576.01,27576.05,27576.05,27588.57,27582.39,27588.7,27592.24,27589.11,27596.02,27590.76,27590.76,27582.95,27592.29,27575.06,27588.57,27601.09,27589.01,27581.69,27567.0,27571.52,27577.58,27570.71,27574.28,27574.29,27578.35,27582.55,27584.99,27585.88,27585.87,27595.54,27596.55,27605.14,27608.32,27610.35,27606.7,27608.95,27603.19,27603.62,27594.02,27594.02,27603.97,27595.26,27596.11,27594.26,27595.13,27591.62,27555.57,27542.09,27542.43,27550.99,27564.45,27559.56,27562.56,27565.22,27565.22,27562.1,27558.29,27563.47,27565.93,27571.77,27559.95,27560.01,27566.15,27566.98,27572.45,27574.99,27572.97,27575.01,27582.5,27584.87,27576.44,27581.5,27590.0,27599.53,27594.34,27593.69,27590.1,27590.09,27602.49,27600.84,27600.23,27597.59,27599.18,27594.09,27594.46,27594.46,27590.46,27593.34,27602.2,27605.98,27612.26,27606.74,27609.45,27611.96,27615.65,27634.54,27634.58,27635.39,27632.89,27620.2,27624.61,27630.09,27619.63,27623.12,27615.57,27610.74,27608.63,27606.65,27603.85,27601.5,27610.84,27604.09,27606.17,27605.01,27610.73,27616.98,27613.51,27607.44,27607.44,27611.71,27614.92,27610.82,27645.85,27642.95,27653.3,27654.03,27658.04,27665.0,27658.99,27665.18,27671.04,27674.19,27669.69,27669.94,27661.55,27677.27,27658.0,27648.15,27648.34,27637.33,27645.97,27646.44,27655.14,27649.68,27654.42,27657.21,27658.44,27656.57,27704.46,27721.45,27716.03,27731.15,27754.3,27704.03,27702.87,27716.93,27704.73,27956.11,27977.94,27971.66,27918.76,27930.61,27923.38,27937.03,27957.63,28040.84,28053.61,28116.49,28096.03,28117.24,28107.34,28160.44,28157.1,28167.14,28281.11,28268.02,28300.23,28193.39,28176.78,28145.54,28138.34,28094.14,28121.37,28120.56,28117.71,28138.2,28119.06,28110.01,28104.2,28154.52,28162.88,28221.84,28198.95,28163.29,28093.81,28102.64,28095.59,28172.66,28134.32,28126.5,28136.4,28111.01,28102.55,28099.25,28171.1,28171.89,28170.81,28200.98,28197.3,28173.99,28237.12,28237.09,28216.72,28212.31,28211.02,28195.09,28182.53,28179.88,28128.15,28156.59,28170.0,28159.1,28166.4,28187.35,28208.5,28212.76,28197.27,28203.28,28212.91,28202.51,28213.72,28224.99,28223.9,28213.43,28184.28,28178.86,28190.28,28139.19,28117.27,28070.06,28097.2,28081.09,28065.89,28069.12,28072.51,28093.63,28085.38,28081.38,28080.73,28061.82,28085.38,28098.96,28084.68,28123.29,28117.46,28130.09,28130.09,28126.03,28116.17,28129.74,28125.49,28127.81,28099.03,28095.02,28090.0,28090.0,28085.12,28096.39,28088.03,28088.41,28099.35,28106.41,28101.44,28090.16,28099.91,28103.48,28112.16,28112.49,28122.25,28127.07,28148.67,28157.14,28154.04,28183.07,28170.76,28192.59,28202.3,28199.16,28190.24,28196.51,28195.83,28207.35,28211.44,28197.49,28154.35,28153.93,28156.75,28179.83,28150.01,28158.18,28149.84,28153.02,28162.22,28158.81,28166.51,28171.4,28151.98,28165.68,28152.36,28161.37,28157.17,28167.55,28229.3,28230.79,28273.44,28269.52,28256.16,28236.53,28245.28,28244.54,28245.81,28267.28,28287.97,28285.01,28259.53,28237.72,28277.03,28237.24,28238.26,28238.98,28200.1,28203.55,28209.9,28198.38,28194.67,28186.77,28208.72,28212.0,28199.38,28196.68,28188.2,28180.0,28199.85,28185.87,28188.59,28185.05,28188.36,28180.03,28182.17,28208.54,28205.67,28201.86,28202.23,28217.71,28208.03,28155.41,27229.73,27211.27,27045.93,27009.37,27002.04,27193.17,27258.13,27260.72,27331.66,27324.34,27326.18,27279.59,27335.19,27329.27,27391.58,27401.98,27350.17,27326.88,27351.69,27338.87,27498.73,27481.61,27467.64,27433.48,27417.0,27403.79,27441.58,27457.67,27439.53,27406.48,27427.39,27441.01,27469.83,27501.38,27482.58,27476.9,27461.73,27460.84,27462.92,27468.58,27466.4,27476.21,27427.02,27435.71,27454.65,27448.33,27434.03,27432.53,27440.85,27434.01,27440.1,27448.2,27450.0,27433.16,27392.01,27411.92,27438.3,27433.44,27433.44,27437.02,27434.31,27441.6,27437.69,27432.98,27442.53,27680.1,27676.42,27687.51,27694.46,27677.69,27680.03,27666.5,27651.13,27682.12,27694.25,27711.53,27706.98,27723.89,27717.22,27709.04,27724.4,27730.42,27726.87,27732.95,27714.02,27718.74,27706.97,27702.42,27708.7,27709.43,27709.77,27709.76,27710.29,27706.05,27703.24,27693.5,27682.56,27685.52,27684.48,27686.65,27694.38,27685.61,27679.14,27689.93,27693.12,27674.59,27664.84,27664.84,27690.29,27696.03,27707.05,27739.6,27731.17,27710.7,27714.77,27708.97,27719.49,27730.17,27897.81,27876.73,27909.57,27873.12,27848.85,27872.74,27853.97,27856.91,27868.31,27871.2,27851.83,27856.99,27859.23,27866.77,27877.84,27891.77,27894.0,27875.34,27876.86,27862.85,27864.47,27886.15,27869.33,27865.89,27872.47,27867.77,27857.12,27854.71,27867.42,27872.2,27867.4,27867.09,27865.23,27863.82],\"high\":[27655.55,27655.42,27655.49,27655.48,27649.5,27662.88,27667.51,27667.51,27670.93,27670.92,27669.65,27666.51,27665.68,27667.32,27667.32,27665.13,27666.7,27673.6,27680.97,27681.07,27683.44,27688.2,27688.19,27687.04,27687.14,27689.49,27682.32,27687.85,27691.54,27691.89,27685.26,27685.91,27686.17,27688.02,27689.8,27689.8,27689.96,27697.65,27701.08,27705.64,27720.96,27718.17,27717.47,27715.93,27717.21,27710.27,27688.05,27686.44,27686.25,27702.01,27700.29,27699.33,27700.94,27697.34,27692.01,27691.96,27682.11,27685.58,27682.53,27672.6,27671.15,27671.47,27671.48,27674.94,27673.71,27679.95,27683.44,27680.83,27676.57,27665.54,27675.4,27676.91,27670.09,27670.6,27675.47,27677.89,27679.99,27671.44,27671.42,27671.43,27671.4,27664.97,27669.47,27669.39,27676.0,27676.0,27666.71,27663.75,27660.73,27663.88,27663.89,27663.87,27656.95,27655.56,27655.57,27655.16,27629.99,27609.99,27610.0,27603.44,27626.51,27619.25,27615.63,27616.28,27614.2,27614.24,27610.17,27602.04,27610.78,27617.63,27614.61,27612.65,27615.53,27616.66,27619.79,27616.84,27616.39,27604.43,27601.22,27603.98,27604.39,27604.39,27616.37,27616.75,27631.8,27631.81,27627.14,27625.51,27615.63,27609.52,27605.92,27607.82,27609.32,27610.3,27613.36,27614.56,27620.2,27612.64,27600.56,27597.05,27597.06,27588.05,27604.67,27604.67,27604.67,27618.54,27618.54,27625.78,27627.45,27604.39,27597.38,27591.57,27595.64,27595.63,27599.65,27607.49,27607.6,27606.2,27603.01,27597.97,27598.81,27596.51,27601.19,27609.98,27607.72,27631.39,27631.39,27613.5,27607.81,27607.19,27566.89,27573.21,27565.73,27554.49,27545.71,27543.78,27543.11,27554.01,27553.35,27558.14,27558.13,27560.65,27561.37,27560.67,27553.32,27553.35,27550.44,27542.25,27544.15,27544.15,27542.58,27562.52,27568.61,27570.81,27571.56,27573.57,27575.7,27575.31,27572.58,27570.15,27564.18,27562.91,27558.08,27548.58,27553.81,27553.8,27550.78,27541.49,27541.08,27510.15,27515.43,27521.77,27550.36,27556.8,27556.8,27555.67,27566.36,27568.17,27582.65,27582.68,27590.51,27589.01,27581.5,27576.66,27567.24,27567.31,27565.63,27571.68,27573.24,27570.47,27563.22,27571.93,27576.96,27583.66,27584.12,27575.18,27578.82,27578.84,27559.23,27559.24,27558.12,27552.25,27558.11,27562.92,27558.94,27554.31,27557.75,27547.59,27547.59,27555.25,27551.9,27553.19,27564.64,27589.81,27596.51,27585.45,27581.11,27572.48,27572.48,27580.3,27580.29,27567.87,27567.87,27562.5,27562.49,27564.52,27564.51,27554.78,27556.4,27548.73,27545.63,27551.84,27551.85,27551.85,27557.53,27557.54,27557.54,27557.54,27569.74,27577.43,27575.7,27570.0,27564.59,27564.6,27567.65,27566.84,27564.99,27564.24,27568.6,27574.68,27579.26,27579.29,27585.52,27585.54,27583.21,27583.77,27576.06,27576.06,27588.92,27588.94,27588.7,27593.62,27592.21,27596.02,27596.01,27590.76,27590.77,27592.29,27592.44,27588.57,27604.75,27601.1,27589.01,27581.14,27571.53,27577.58,27577.77,27577.63,27574.29,27579.25,27582.56,27585.0,27585.88,27585.88,27595.54,27598.58,27607.68,27608.32,27610.35,27613.07,27608.97,27608.95,27604.79,27603.62,27594.12,27603.97,27603.98,27596.18,27596.1,27595.13,27595.14,27556.55,27555.57,27542.43,27554.73,27564.45,27564.72,27562.56,27565.23,27565.23,27565.22,27562.11,27563.47,27565.94,27571.77,27571.77,27560.01,27566.15,27568.95,27572.45,27574.99,27575.03,27575.01,27582.5,27584.87,27584.87,27581.5,27590.0,27599.87,27600.96,27597.04,27593.68,27590.1,27602.49,27603.35,27600.85,27600.24,27600.85,27599.17,27594.98,27594.47,27594.47,27593.34,27602.2,27605.98,27612.26,27612.35,27609.68,27613.79,27615.65,27637.77,27635.19,27636.34,27645.43,27632.72,27624.61,27630.09,27630.09,27623.12,27628.18,27615.57,27610.74,27609.36,27608.61,27603.76,27610.85,27610.83,27606.17,27606.17,27618.34,27616.99,27616.99,27613.92,27607.45,27611.71,27614.92,27614.93,27645.85,27647.11,27656.79,27657.14,27658.04,27665.0,27666.39,27665.18,27671.33,27674.19,27674.55,27672.78,27669.94,27678.84,27677.68,27658.01,27649.63,27651.65,27645.98,27648.71,27655.14,27655.21,27654.42,27657.21,27658.44,27658.53,27704.46,27721.68,27721.32,27731.15,27756.83,27714.25,27710.58,27719.24,27716.09,27956.11,28027.24,28010.0,27943.15,27965.62,27937.98,27938.82,27975.0,28082.55,28053.61,28150.39,28123.13,28136.69,28125.52,28161.66,28173.52,28174.57,28289.28,28304.28,28310.34,28215.47,28199.88,28164.16,28164.76,28100.95,28121.37,28131.49,28127.97,28138.2,28131.37,28125.59,28109.99,28172.6,28171.27,28228.22,28226.13,28192.03,28113.28,28102.64,28102.65,28185.64,28186.98,28134.56,28136.72,28125.73,28114.96,28107.9,28172.58,28181.85,28172.19,28200.98,28215.53,28181.58,28245.6,28254.45,28218.67,28216.56,28213.11,28198.4,28195.57,28188.24,28150.08,28163.74,28184.78,28172.63,28175.19,28189.27,28209.9,28219.73,28212.76,28220.0,28225.9,28213.01,28213.72,28225.0,28230.89,28223.9,28199.77,28184.28,28195.28,28140.04,28139.19,28098.45,28097.2,28096.69,28082.37,28075.65,28073.97,28117.93,28093.62,28089.43,28089.61,28080.75,28086.33,28098.96,28102.59,28124.99,28138.01,28130.09,28130.09,28130.09,28126.08,28137.13,28141.38,28128.2,28112.75,28099.63,28095.78,28090.02,28095.27,28096.39,28099.9,28113.55,28100.56,28130.03,28106.24,28101.44,28099.91,28103.48,28112.16,28119.99,28122.25,28129.47,28150.6,28159.87,28163.01,28192.33,28183.07,28192.59,28202.3,28202.7,28201.26,28200.0,28206.0,28207.35,28211.44,28213.63,28154.66,28165.02,28169.12,28179.83,28182.62,28160.02,28162.13,28154.18,28163.04,28164.77,28166.52,28185.08,28171.4,28165.68,28168.67,28161.37,28162.03,28167.55,28241.99,28230.79,28278.97,28286.17,28268.05,28254.44,28247.37,28245.3,28247.85,28273.39,28287.97,28299.07,28259.53,28259.59,28285.66,28277.03,28244.44,28238.99,28216.23,28203.55,28209.9,28212.01,28200.98,28194.86,28208.72,28212.0,28210.55,28203.22,28196.67,28198.58,28199.85,28199.86,28188.64,28188.65,28188.36,28195.11,28182.18,28212.96,28212.95,28206.41,28210.9,28218.88,28218.31,28166.84,27293.15,27278.17,27097.76,27072.81,27016.92,27216.42,27330.46,27305.0,27340.25,27346.06,27330.64,27315.84,27335.19,27334.79,27441.28,27434.82,27350.17,27357.67,27367.26,27352.63,27501.08,27516.38,27483.62,27439.53,27435.03,27414.19,27465.5,27462.33,27456.86,27422.54,27430.51,27441.01,27490.7,27503.0,27499.45,27489.9,27464.92,27460.84,27469.61,27468.58,27469.68,27476.21,27474.38,27442.72,27479.35,27463.74,27447.62,27435.11,27440.85,27449.81,27455.45,27455.42,27461.69,27440.05,27415.5,27411.93,27438.3,27441.14,27435.92,27438.73,27442.55,27441.6,27441.75,27439.64,27442.53,27751.81,27713.21,27711.21,27697.51,27683.53,27682.6,27684.61,27664.94,27682.12,27700.1,27712.2,27711.67,27745.33,27726.47,27711.97,27724.4,27737.61,27739.62,27737.68,27738.43,27729.07,27718.73,27716.53,27708.7,27711.34,27712.4,27709.89,27721.32,27710.1,27706.05,27703.49,27688.77,27687.36,27700.03,27691.73,27694.38,27693.8,27689.07,27689.98,27696.42,27674.59,27683.52,27664.94,27691.92,27696.03,27707.05,27739.61,27739.61,27735.52,27717.77,27712.96,27721.96,27733.03,27929.99,27911.45,27911.45,27906.66,27860.47,27872.88,27869.9,27878.29,27888.57,27879.9,27872.98,27870.0,27864.98,27873.23,27886.8,27891.78,27894.0,27881.86,27876.86,27876.86,27867.43,27894.48,27886.16,27869.48,27873.16,27874.78,27867.77,27863.07,27867.42,27872.21,27872.21,27867.41,27871.73,27863.82],\"low\":[27648.64,27650.99,27649.36,27647.56,27647.56,27647.55,27662.18,27665.0,27666.34,27669.64,27667.29,27658.17,27658.17,27665.4,27661.2,27661.21,27665.34,27666.71,27679.0,27674.29,27674.29,27683.19,27685.96,27684.97,27685.97,27682.09,27680.04,27682.36,27687.85,27684.57,27683.01,27682.69,27681.9,27686.17,27687.57,27689.79,27689.77,27689.77,27697.64,27701.08,27716.87,27714.86,27714.25,27709.43,27710.47,27703.99,27683.81,27685.75,27683.0,27698.02,27696.85,27698.65,27696.93,27691.98,27691.95,27681.6,27681.19,27682.09,27672.49,27670.55,27664.04,27662.63,27670.93,27671.41,27672.45,27672.45,27675.06,27675.07,27664.48,27655.01,27664.88,27670.09,27663.32,27663.31,27670.58,27673.1,27671.8,27670.05,27669.67,27670.22,27663.64,27661.23,27664.83,27664.85,27664.88,27666.79,27663.71,27660.72,27656.02,27652.54,27662.77,27655.42,27654.58,27655.51,27649.29,27643.55,27613.73,27587.9,27593.89,27590.14,27610.02,27613.66,27612.49,27613.08,27609.02,27610.15,27595.01,27595.07,27592.84,27610.77,27609.47,27609.44,27612.59,27615.53,27616.66,27612.23,27612.23,27601.21,27599.24,27601.2,27604.38,27604.31,27604.38,27611.77,27618.37,27627.14,27625.42,27614.66,27609.52,27607.35,27598.27,27596.13,27607.81,27609.31,27610.26,27610.28,27612.81,27599.62,27593.53,27592.98,27584.85,27581.76,27604.63,27600.71,27602.13,27602.13,27613.48,27610.96,27622.46,27586.42,27580.98,27583.72,27581.95,27592.05,27595.62,27595.92,27605.98,27602.28,27595.34,27595.34,27595.33,27590.62,27590.09,27601.18,27602.24,27624.31,27613.3,27607.02,27607.02,27594.66,27540.63,27560.8,27547.89,27540.02,27530.8,27538.55,27534.74,27539.01,27549.88,27553.33,27550.04,27550.01,27559.4,27551.3,27550.0,27538.2,27535.61,27537.5,27544.1,27536.84,27541.98,27558.92,27562.39,27564.23,27569.99,27571.57,27574.33,27565.36,27562.55,27564.01,27561.9,27555.26,27542.11,27541.4,27540.45,27548.5,27540.02,27537.05,27536.85,27491.42,27487.24,27489.46,27540.97,27540.98,27525.63,27531.87,27555.66,27563.15,27566.09,27578.28,27574.75,27580.65,27576.79,27564.76,27564.96,27558.94,27558.93,27560.42,27570.59,27562.12,27563.22,27555.48,27563.21,27573.48,27575.22,27570.01,27570.0,27569.36,27555.84,27552.67,27553.76,27542.49,27542.02,27558.56,27546.54,27549.6,27554.79,27538.89,27543.86,27543.84,27550.19,27550.81,27551.42,27575.93,27584.93,27575.54,27571.86,27572.47,27560.01,27571.53,27567.97,27567.86,27555.31,27553.45,27557.83,27562.03,27554.77,27550.18,27548.73,27541.79,27541.79,27544.99,27551.84,27549.62,27550.31,27557.53,27557.53,27553.09,27555.48,27569.99,27570.0,27561.03,27561.03,27562.19,27562.19,27564.97,27564.35,27556.57,27556.27,27566.3,27574.65,27574.84,27577.81,27579.31,27579.21,27574.86,27576.05,27572.99,27576.05,27582.38,27582.37,27588.69,27586.04,27589.11,27590.75,27590.7,27582.94,27582.94,27575.05,27568.34,27601.09,27589.01,27580.36,27567.0,27566.99,27571.36,27570.6,27570.59,27574.28,27574.27,27579.24,27582.55,27584.99,27585.87,27585.88,27595.53,27596.55,27603.19,27608.32,27606.7,27606.62,27599.92,27602.78,27594.01,27594.01,27594.01,27595.26,27595.25,27594.26,27589.66,27591.57,27551.55,27539.44,27540.01,27542.43,27548.38,27559.56,27555.13,27562.55,27565.22,27557.56,27558.29,27558.29,27563.47,27565.92,27557.89,27559.92,27559.94,27566.15,27566.98,27572.53,27571.88,27568.38,27574.02,27581.62,27576.43,27576.42,27578.86,27579.28,27594.33,27593.6,27590.09,27590.09,27590.09,27600.84,27600.23,27597.59,27597.58,27593.38,27594.09,27594.42,27590.45,27590.45,27593.28,27602.16,27603.33,27603.8,27605.76,27609.46,27611.59,27622.62,27632.24,27630.36,27632.89,27620.2,27620.19,27624.59,27616.54,27619.62,27615.57,27610.74,27608.29,27606.18,27603.85,27601.5,27601.46,27604.09,27604.09,27604.79,27604.98,27610.73,27613.46,27607.44,27607.44,27607.44,27611.7,27610.82,27638.5,27642.94,27642.94,27652.71,27654.02,27657.7,27658.99,27643.48,27665.41,27668.79,27669.69,27669.69,27656.11,27661.55,27657.98,27648.15,27647.91,27637.33,27637.57,27645.56,27646.42,27649.68,27648.84,27652.82,27656.93,27654.99,27687.06,27708.68,27713.37,27716.14,27745.46,27688.22,27699.31,27699.28,27696.59,27903.33,27971.51,27960.37,27897.54,27923.02,27900.02,27916.16,27951.79,28023.38,28007.74,28102.34,28093.49,28095.27,28102.15,28139.91,28150.0,28156.57,28250.46,28267.16,28261.53,28186.96,28170.19,28129.74,28137.05,28089.35,28098.89,28117.43,28117.71,28116.37,28099.7,28110.01,28095.34,28146.21,28154.52,28204.98,28198.95,28163.29,28084.2,28089.95,28092.17,28161.99,28132.43,28123.78,28126.52,28102.77,28102.55,28099.25,28151.48,28168.88,28153.91,28194.53,28197.3,28172.35,28214.21,28232.53,28187.14,28208.89,28208.14,28173.75,28164.15,28179.29,28119.78,28128.15,28170.0,28159.1,28159.11,28163.65,28201.54,28208.5,28196.88,28197.28,28202.86,28202.51,28202.5,28213.43,28213.46,28213.43,28177.46,28170.14,28169.32,28126.54,28117.27,28070.01,28070.01,28071.03,28065.89,28061.48,28055.94,28093.62,28079.89,28079.9,28071.43,28058.69,28061.82,28089.98,28084.68,28118.14,28117.46,28110.0,28125.29,28125.01,28116.17,28115.03,28125.49,28123.39,28099.03,28088.13,28090.0,28077.29,28085.12,28084.72,28088.03,28087.98,28089.14,28106.4,28098.14,28089.14,28090.48,28099.9,28100.04,28112.49,28105.8,28122.68,28137.49,28145.43,28150.31,28180.84,28166.56,28170.77,28192.51,28190.13,28190.24,28190.25,28192.97,28196.17,28207.35,28197.49,28149.96,28140.73,28153.08,28156.75,28147.57,28149.0,28149.17,28149.16,28153.2,28158.81,28148.58,28162.19,28150.02,28150.02,28152.36,28147.87,28156.95,28150.01,28226.38,28206.29,28238.37,28269.52,28254.71,28234.4,28236.53,28238.88,28241.61,28267.2,28265.84,28285.0,28250.01,28236.29,28250.53,28236.78,28235.52,28238.98,28200.1,28193.85,28195.98,28194.72,28194.16,28186.77,28186.69,28206.7,28195.3,28196.67,28188.2,28180.0,28180.01,28182.63,28182.06,28185.03,28182.91,28176.03,28176.53,28200.26,28201.4,28192.94,28201.85,28197.33,28201.98,28155.41,27150.1,27190.73,26829.24,26942.22,26976.74,27129.19,27247.76,27234.5,27253.61,27321.04,27295.18,27276.73,27299.76,27273.76,27386.71,27387.88,27308.68,27326.71,27326.88,27328.78,27460.94,27481.61,27467.64,27415.9,27409.41,27375.02,27436.77,27439.95,27439.53,27355.09,27402.05,27420.94,27464.18,27469.84,27478.3,27476.9,27458.19,27430.6,27450.75,27461.25,27464.53,27464.97,27416.61,27417.66,27433.24,27437.36,27434.03,27430.0,27431.27,27434.01,27435.08,27439.71,27450.0,27430.01,27392.0,27389.18,27408.53,27430.93,27431.72,27433.43,27434.31,27433.01,27436.83,27432.98,27430.69,27680.1,27676.42,27685.88,27684.47,27655.47,27670.02,27666.5,27637.01,27670.0,27674.8,27688.88,27703.19,27707.39,27707.07,27690.4,27707.72,27724.41,27711.53,27718.77,27714.02,27714.02,27706.97,27702.42,27701.74,27705.08,27709.42,27705.42,27705.61,27706.05,27699.22,27693.5,27679.14,27680.38,27684.48,27667.8,27686.64,27683.26,27679.14,27678.99,27674.08,27652.68,27664.84,27664.83,27685.7,27686.85,27696.43,27727.7,27721.53,27710.7,27710.0,27702.87,27709.12,27719.49,27873.58,27876.73,27881.98,27872.88,27846.14,27857.5,27852.91,27854.53,27868.31,27866.96,27851.82,27851.83,27856.99,27859.2,27865.5,27873.0,27891.78,27875.26,27875.34,27862.85,27862.86,27881.94,27867.74,27865.89,27865.78,27867.77,27853.68,27854.71,27854.68,27866.76,27866.56,27866.56,27865.23,27857.11],\"open\":[27655.55,27654.64,27650.99,27655.48,27647.57,27647.56,27662.75,27667.51,27666.39,27669.64,27669.64,27666.51,27658.18,27665.51,27667.32,27661.21,27665.37,27666.71,27679.02,27681.07,27674.29,27683.19,27685.96,27687.04,27685.97,27687.14,27680.05,27682.37,27687.86,27690.94,27683.01,27685.26,27683.83,27686.17,27687.62,27689.8,27689.8,27689.78,27697.64,27701.08,27720.96,27718.16,27715.01,27714.25,27713.96,27710.27,27685.86,27686.43,27685.86,27702.0,27698.03,27698.96,27698.66,27697.34,27691.99,27691.95,27681.6,27682.1,27682.53,27672.34,27670.55,27664.06,27671.48,27671.45,27673.66,27672.46,27679.77,27675.07,27676.57,27664.48,27665.49,27672.08,27670.09,27663.32,27670.58,27675.47,27677.89,27671.44,27669.68,27670.81,27671.4,27663.3,27664.97,27669.39,27664.88,27675.99,27666.7,27663.71,27660.72,27655.85,27663.87,27663.87,27656.94,27655.55,27655.56,27653.55,27625.16,27606.3,27608.31,27600.51,27623.61,27615.63,27613.66,27613.28,27614.2,27614.23,27610.15,27596.11,27594.93,27610.78,27614.6,27609.47,27612.59,27615.53,27616.68,27616.84,27612.24,27604.39,27601.21,27601.21,27604.38,27604.38,27604.38,27614.26,27618.37,27631.8,27627.14,27625.51,27614.67,27609.35,27605.92,27598.26,27607.81,27609.33,27610.29,27613.36,27613.78,27612.61,27600.51,27593.53,27597.05,27584.85,27604.66,27604.67,27604.67,27602.13,27618.53,27613.5,27625.77,27599.59,27595.69,27591.57,27586.19,27592.38,27595.63,27598.63,27607.48,27605.98,27602.77,27595.35,27598.8,27595.35,27590.6,27601.18,27604.18,27624.31,27631.38,27611.98,27607.02,27607.19,27559.26,27562.69,27565.73,27548.29,27545.0,27538.56,27542.93,27539.01,27550.0,27553.35,27558.13,27550.04,27560.65,27560.67,27551.3,27553.33,27549.12,27538.74,27544.14,27544.14,27541.99,27558.92,27562.52,27567.35,27570.84,27571.57,27574.33,27575.31,27565.37,27570.13,27564.0,27555.26,27558.08,27545.75,27542.19,27553.8,27548.32,27541.48,27540.31,27491.43,27503.74,27489.46,27544.39,27540.98,27556.21,27531.88,27555.66,27565.01,27580.86,27582.68,27579.25,27589.01,27581.5,27576.66,27564.96,27567.3,27558.95,27566.49,27572.75,27570.46,27563.22,27563.21,27563.21,27573.48,27584.12,27575.18,27570.0,27578.82,27557.85,27559.23,27558.12,27552.25,27542.03,27558.56,27558.93,27549.6,27554.79,27538.9,27547.58,27545.87,27550.9,27551.9,27551.43,27580.24,27589.81,27585.44,27575.86,27572.48,27572.47,27571.53,27580.29,27567.87,27567.86,27555.31,27562.1,27562.07,27564.51,27554.78,27552.82,27548.72,27541.79,27544.99,27551.84,27551.84,27550.31,27557.53,27557.53,27557.53,27555.48,27569.99,27575.7,27569.99,27561.03,27564.59,27562.19,27566.83,27564.62,27564.24,27556.62,27566.32,27574.68,27579.26,27577.82,27585.54,27579.24,27583.77,27576.05,27576.06,27576.06,27588.93,27582.39,27588.69,27592.21,27589.11,27596.01,27590.75,27589.99,27582.95,27592.28,27575.05,27604.75,27600.64,27589.01,27581.14,27567.0,27571.52,27577.58,27571.18,27574.29,27574.29,27579.24,27582.56,27584.99,27585.87,27585.88,27595.54,27596.55,27605.13,27608.32,27610.35,27606.62,27608.95,27603.2,27603.62,27594.02,27594.01,27603.98,27595.25,27596.1,27594.0,27595.13,27553.06,27555.57,27542.09,27542.43,27550.99,27564.71,27559.46,27562.55,27565.23,27565.22,27562.11,27558.3,27563.47,27565.94,27571.76,27559.95,27560.47,27566.15,27566.98,27572.53,27575.02,27572.97,27575.01,27582.5,27584.87,27576.43,27581.5,27579.28,27599.52,27594.34,27593.68,27590.1,27590.1,27602.49,27600.84,27600.23,27597.59,27599.17,27594.1,27594.46,27594.47,27590.46,27593.28,27602.2,27606.22,27612.35,27606.86,27609.46,27611.97,27622.62,27634.53,27634.8,27635.49,27632.71,27620.21,27624.61,27630.09,27619.63,27623.12,27615.57,27610.74,27609.36,27606.18,27603.76,27601.47,27610.83,27604.1,27606.17,27605.01,27610.73,27616.99,27613.51,27607.45,27607.45,27611.71,27614.93,27638.5,27645.83,27642.94,27653.3,27654.03,27658.2,27664.99,27658.99,27665.42,27671.04,27674.19,27669.69,27669.94,27661.55,27677.27,27658.0,27648.15,27648.33,27639.04,27645.97,27646.43,27655.16,27648.84,27652.84,27657.98,27658.53,27687.07,27708.68,27721.32,27716.35,27752.93,27688.45,27704.03,27702.87,27715.57,27906.19,28027.24,27977.94,27916.47,27939.65,27901.56,27923.39,27959.46,28082.18,28037.69,28150.31,28116.07,28095.27,28112.3,28151.11,28169.08,28162.37,28277.11,28300.6,28267.35,28205.42,28172.81,28129.74,28143.51,28095.42,28108.41,28121.97,28120.56,28117.71,28099.7,28119.16,28109.99,28146.24,28154.52,28204.99,28221.84,28173.18,28093.82,28091.43,28102.64,28162.0,28168.74,28132.41,28126.52,28125.73,28111.06,28102.55,28163.6,28171.09,28170.47,28194.54,28197.58,28181.58,28235.83,28237.12,28195.44,28216.56,28212.32,28176.16,28193.42,28182.54,28137.14,28128.15,28184.78,28170.0,28159.11,28163.65,28208.01,28208.5,28212.75,28197.28,28203.27,28212.99,28202.5,28213.43,28225.0,28223.89,28199.75,28184.28,28178.86,28137.34,28139.19,28070.58,28070.74,28096.69,28081.8,28065.89,28069.12,28113.82,28093.62,28085.38,28081.38,28080.73,28061.82,28097.89,28098.62,28119.27,28123.29,28110.68,28126.88,28130.09,28126.02,28115.27,28130.39,28125.5,28110.61,28099.0,28095.03,28090.0,28090.0,28084.99,28096.39,28088.03,28089.14,28130.03,28106.23,28101.44,28090.48,28099.92,28102.33,28112.62,28112.49,28122.68,28150.6,28148.71,28157.13,28192.33,28183.07,28170.77,28192.59,28202.7,28198.94,28190.25,28196.51,28196.18,28207.35,28211.44,28154.66,28154.35,28153.83,28156.75,28182.62,28149.0,28158.18,28149.16,28153.2,28162.23,28158.81,28182.75,28171.4,28151.38,28166.69,28154.41,28162.03,28157.17,28235.71,28212.3,28238.37,28273.44,28268.05,28244.61,28236.53,28245.28,28244.75,28270.0,28267.34,28287.97,28255.47,28259.53,28285.54,28277.03,28237.24,28238.99,28208.22,28197.72,28202.07,28212.0,28198.39,28194.86,28186.71,28208.72,28210.55,28203.22,28196.46,28188.2,28180.01,28198.68,28185.88,28188.59,28185.05,28194.92,28180.03,28200.26,28208.54,28205.87,28201.86,28202.24,28216.82,28158.83,27230.1,27232.91,27038.82,27045.93,27000.1,27160.1,27307.29,27257.09,27321.92,27334.73,27322.26,27300.0,27301.72,27275.57,27428.38,27391.58,27325.04,27353.97,27326.88,27350.28,27491.51,27498.72,27475.35,27431.89,27431.86,27375.03,27465.5,27440.1,27456.86,27360.55,27402.05,27426.14,27476.15,27469.84,27499.45,27482.59,27460.01,27433.89,27458.84,27462.92,27467.6,27464.97,27416.61,27427.02,27479.35,27450.82,27447.62,27433.95,27432.53,27449.5,27435.08,27439.85,27461.68,27439.92,27403.26,27392.0,27408.53,27431.18,27433.44,27433.44,27437.02,27434.31,27440.0,27437.7,27439.66,27732.59,27682.26,27711.2,27689.42,27670.22,27679.12,27680.03,27664.91,27673.38,27674.8,27692.92,27711.53,27736.05,27724.95,27692.98,27709.05,27724.41,27712.56,27727.68,27732.95,27714.26,27718.73,27707.86,27702.42,27708.7,27709.43,27709.77,27709.77,27710.1,27706.05,27703.24,27687.04,27680.38,27685.55,27668.18,27686.65,27693.8,27685.61,27679.14,27689.93,27652.68,27674.59,27664.84,27685.7,27690.29,27696.43,27732.89,27739.6,27731.17,27711.86,27712.83,27709.12,27719.49,27914.24,27891.61,27882.2,27903.07,27854.66,27865.11,27868.42,27854.53,27887.59,27868.31,27872.98,27851.83,27856.99,27859.23,27866.77,27877.84,27891.78,27876.94,27875.34,27876.86,27862.86,27886.8,27886.16,27869.48,27865.78,27872.64,27867.77,27857.35,27854.71,27867.42,27872.21,27867.41,27867.41,27857.23],\"x\":[\"2023-05-10T04:23:00\",\"2023-05-10T04:24:00\",\"2023-05-10T04:25:00\",\"2023-05-10T04:26:00\",\"2023-05-10T04:27:00\",\"2023-05-10T04:28:00\",\"2023-05-10T04:29:00\",\"2023-05-10T04:30:00\",\"2023-05-10T04:31:00\",\"2023-05-10T04:32:00\",\"2023-05-10T04:33:00\",\"2023-05-10T04:34:00\",\"2023-05-10T04:35:00\",\"2023-05-10T04:36:00\",\"2023-05-10T04:37:00\",\"2023-05-10T04:38:00\",\"2023-05-10T04:39:00\",\"2023-05-10T04:40:00\",\"2023-05-10T04:41:00\",\"2023-05-10T04:42:00\",\"2023-05-10T04:43:00\",\"2023-05-10T04:44:00\",\"2023-05-10T04:45:00\",\"2023-05-10T04:46:00\",\"2023-05-10T04:47:00\",\"2023-05-10T04:48:00\",\"2023-05-10T04:49:00\",\"2023-05-10T04:50:00\",\"2023-05-10T04:51:00\",\"2023-05-10T04:52:00\",\"2023-05-10T04:53:00\",\"2023-05-10T04:54:00\",\"2023-05-10T04:55:00\",\"2023-05-10T04:56:00\",\"2023-05-10T04:57:00\",\"2023-05-10T04:58:00\",\"2023-05-10T04:59:00\",\"2023-05-10T05:00:00\",\"2023-05-10T05:01:00\",\"2023-05-10T05:02:00\",\"2023-05-10T05:04:00\",\"2023-05-10T05:05:00\",\"2023-05-10T05:06:00\",\"2023-05-10T05:07:00\",\"2023-05-10T05:08:00\",\"2023-05-10T05:09:00\",\"2023-05-10T05:11:00\",\"2023-05-10T05:12:00\",\"2023-05-10T05:13:00\",\"2023-05-10T05:15:00\",\"2023-05-10T05:16:00\",\"2023-05-10T05:17:00\",\"2023-05-10T05:18:00\",\"2023-05-10T05:19:00\",\"2023-05-10T05:20:00\",\"2023-05-10T05:21:00\",\"2023-05-10T05:22:00\",\"2023-05-10T05:23:00\",\"2023-05-10T05:24:00\",\"2023-05-10T05:25:00\",\"2023-05-10T05:26:00\",\"2023-05-10T05:27:00\",\"2023-05-10T05:28:00\",\"2023-05-10T05:29:00\",\"2023-05-10T05:30:00\",\"2023-05-10T05:31:00\",\"2023-05-10T05:32:00\",\"2023-05-10T05:33:00\",\"2023-05-10T05:34:00\",\"2023-05-10T05:35:00\",\"2023-05-10T05:36:00\",\"2023-05-10T05:37:00\",\"2023-05-10T05:38:00\",\"2023-05-10T05:39:00\",\"2023-05-10T05:40:00\",\"2023-05-10T05:41:00\",\"2023-05-10T05:42:00\",\"2023-05-10T05:43:00\",\"2023-05-10T05:44:00\",\"2023-05-10T05:45:00\",\"2023-05-10T05:46:00\",\"2023-05-10T05:47:00\",\"2023-05-10T05:48:00\",\"2023-05-10T05:49:00\",\"2023-05-10T05:50:00\",\"2023-05-10T05:51:00\",\"2023-05-10T05:52:00\",\"2023-05-10T05:53:00\",\"2023-05-10T05:54:00\",\"2023-05-10T05:55:00\",\"2023-05-10T05:56:00\",\"2023-05-10T05:57:00\",\"2023-05-10T05:58:00\",\"2023-05-10T05:59:00\",\"2023-05-10T06:00:00\",\"2023-05-10T06:01:00\",\"2023-05-10T06:03:00\",\"2023-05-10T06:05:00\",\"2023-05-10T06:06:00\",\"2023-05-10T06:07:00\",\"2023-05-10T06:09:00\",\"2023-05-10T06:10:00\",\"2023-05-10T06:11:00\",\"2023-05-10T06:12:00\",\"2023-05-10T06:13:00\",\"2023-05-10T06:14:00\",\"2023-05-10T06:15:00\",\"2023-05-10T06:16:00\",\"2023-05-10T06:17:00\",\"2023-05-10T06:18:00\",\"2023-05-10T06:19:00\",\"2023-05-10T06:20:00\",\"2023-05-10T06:21:00\",\"2023-05-10T06:22:00\",\"2023-05-10T06:23:00\",\"2023-05-10T06:24:00\",\"2023-05-10T06:25:00\",\"2023-05-10T06:27:00\",\"2023-05-10T06:28:00\",\"2023-05-10T06:29:00\",\"2023-05-10T06:30:00\",\"2023-05-10T06:31:00\",\"2023-05-10T06:32:00\",\"2023-05-10T06:33:00\",\"2023-05-10T06:34:00\",\"2023-05-10T06:35:00\",\"2023-05-10T06:36:00\",\"2023-05-10T06:37:00\",\"2023-05-10T06:38:00\",\"2023-05-10T06:39:00\",\"2023-05-10T06:40:00\",\"2023-05-10T06:41:00\",\"2023-05-10T06:42:00\",\"2023-05-10T06:43:00\",\"2023-05-10T06:44:00\",\"2023-05-10T06:45:00\",\"2023-05-10T06:46:00\",\"2023-05-10T06:47:00\",\"2023-05-10T06:48:00\",\"2023-05-10T06:49:00\",\"2023-05-10T06:50:00\",\"2023-05-10T06:51:00\",\"2023-05-10T06:53:00\",\"2023-05-10T06:54:00\",\"2023-05-10T06:55:00\",\"2023-05-10T06:56:00\",\"2023-05-10T06:57:00\",\"2023-05-10T06:58:00\",\"2023-05-10T06:59:00\",\"2023-05-10T07:01:00\",\"2023-05-10T07:02:00\",\"2023-05-10T07:03:00\",\"2023-05-10T07:04:00\",\"2023-05-10T07:05:00\",\"2023-05-10T07:06:00\",\"2023-05-10T07:07:00\",\"2023-05-10T07:08:00\",\"2023-05-10T07:09:00\",\"2023-05-10T07:10:00\",\"2023-05-10T07:11:00\",\"2023-05-10T07:12:00\",\"2023-05-10T07:13:00\",\"2023-05-10T07:14:00\",\"2023-05-10T07:15:00\",\"2023-05-10T07:16:00\",\"2023-05-10T07:18:00\",\"2023-05-10T07:19:00\",\"2023-05-10T07:20:00\",\"2023-05-10T07:21:00\",\"2023-05-10T07:22:00\",\"2023-05-10T07:24:00\",\"2023-05-10T07:25:00\",\"2023-05-10T07:26:00\",\"2023-05-10T07:27:00\",\"2023-05-10T07:28:00\",\"2023-05-10T07:29:00\",\"2023-05-10T07:30:00\",\"2023-05-10T07:31:00\",\"2023-05-10T07:32:00\",\"2023-05-10T07:33:00\",\"2023-05-10T07:34:00\",\"2023-05-10T07:35:00\",\"2023-05-10T07:36:00\",\"2023-05-10T07:37:00\",\"2023-05-10T07:38:00\",\"2023-05-10T07:39:00\",\"2023-05-10T07:40:00\",\"2023-05-10T07:41:00\",\"2023-05-10T07:42:00\",\"2023-05-10T07:43:00\",\"2023-05-10T07:44:00\",\"2023-05-10T07:46:00\",\"2023-05-10T07:47:00\",\"2023-05-10T07:48:00\",\"2023-05-10T07:49:00\",\"2023-05-10T07:50:00\",\"2023-05-10T07:51:00\",\"2023-05-10T07:52:00\",\"2023-05-10T07:53:00\",\"2023-05-10T07:54:00\",\"2023-05-10T07:55:00\",\"2023-05-10T07:57:00\",\"2023-05-10T07:58:00\",\"2023-05-10T07:59:00\",\"2023-05-10T08:00:00\",\"2023-05-10T08:01:00\",\"2023-05-10T08:02:00\",\"2023-05-10T08:03:00\",\"2023-05-10T08:04:00\",\"2023-05-10T08:06:00\",\"2023-05-10T08:07:00\",\"2023-05-10T08:08:00\",\"2023-05-10T08:10:00\",\"2023-05-10T08:11:00\",\"2023-05-10T08:12:00\",\"2023-05-10T08:13:00\",\"2023-05-10T08:14:00\",\"2023-05-10T08:15:00\",\"2023-05-10T08:17:00\",\"2023-05-10T08:18:00\",\"2023-05-10T08:19:00\",\"2023-05-10T08:20:00\",\"2023-05-10T08:21:00\",\"2023-05-10T08:22:00\",\"2023-05-10T08:23:00\",\"2023-05-10T08:24:00\",\"2023-05-10T08:25:00\",\"2023-05-10T08:26:00\",\"2023-05-10T08:27:00\",\"2023-05-10T08:28:00\",\"2023-05-10T08:29:00\",\"2023-05-10T08:30:00\",\"2023-05-10T08:31:00\",\"2023-05-10T08:32:00\",\"2023-05-10T08:33:00\",\"2023-05-10T08:34:00\",\"2023-05-10T08:35:00\",\"2023-05-10T08:36:00\",\"2023-05-10T08:38:00\",\"2023-05-10T08:39:00\",\"2023-05-10T08:40:00\",\"2023-05-10T08:41:00\",\"2023-05-10T08:42:00\",\"2023-05-10T08:43:00\",\"2023-05-10T08:44:00\",\"2023-05-10T08:45:00\",\"2023-05-10T08:46:00\",\"2023-05-10T08:48:00\",\"2023-05-10T08:49:00\",\"2023-05-10T08:50:00\",\"2023-05-10T08:51:00\",\"2023-05-10T08:52:00\",\"2023-05-10T08:53:00\",\"2023-05-10T08:55:00\",\"2023-05-10T08:56:00\",\"2023-05-10T08:57:00\",\"2023-05-10T08:58:00\",\"2023-05-10T08:59:00\",\"2023-05-10T09:00:00\",\"2023-05-10T09:01:00\",\"2023-05-10T09:02:00\",\"2023-05-10T09:03:00\",\"2023-05-10T09:04:00\",\"2023-05-10T09:05:00\",\"2023-05-10T09:06:00\",\"2023-05-10T09:07:00\",\"2023-05-10T09:08:00\",\"2023-05-10T09:09:00\",\"2023-05-10T09:10:00\",\"2023-05-10T09:11:00\",\"2023-05-10T09:12:00\",\"2023-05-10T09:13:00\",\"2023-05-10T09:14:00\",\"2023-05-10T09:15:00\",\"2023-05-10T09:16:00\",\"2023-05-10T09:17:00\",\"2023-05-10T09:18:00\",\"2023-05-10T09:19:00\",\"2023-05-10T09:20:00\",\"2023-05-10T09:21:00\",\"2023-05-10T09:22:00\",\"2023-05-10T09:23:00\",\"2023-05-10T09:24:00\",\"2023-05-10T09:25:00\",\"2023-05-10T09:26:00\",\"2023-05-10T09:27:00\",\"2023-05-10T09:28:00\",\"2023-05-10T09:29:00\",\"2023-05-10T09:31:00\",\"2023-05-10T09:32:00\",\"2023-05-10T09:33:00\",\"2023-05-10T09:34:00\",\"2023-05-10T09:35:00\",\"2023-05-10T09:36:00\",\"2023-05-10T09:37:00\",\"2023-05-10T09:38:00\",\"2023-05-10T09:39:00\",\"2023-05-10T09:40:00\",\"2023-05-10T09:41:00\",\"2023-05-10T09:42:00\",\"2023-05-10T09:43:00\",\"2023-05-10T09:44:00\",\"2023-05-10T09:45:00\",\"2023-05-10T09:46:00\",\"2023-05-10T09:47:00\",\"2023-05-10T09:48:00\",\"2023-05-10T09:49:00\",\"2023-05-10T09:50:00\",\"2023-05-10T09:51:00\",\"2023-05-10T09:52:00\",\"2023-05-10T09:54:00\",\"2023-05-10T09:55:00\",\"2023-05-10T09:56:00\",\"2023-05-10T09:57:00\",\"2023-05-10T09:58:00\",\"2023-05-10T09:59:00\",\"2023-05-10T10:00:00\",\"2023-05-10T10:01:00\",\"2023-05-10T10:02:00\",\"2023-05-10T10:03:00\",\"2023-05-10T10:04:00\",\"2023-05-10T10:05:00\",\"2023-05-10T10:06:00\",\"2023-05-10T10:07:00\",\"2023-05-10T10:08:00\",\"2023-05-10T10:09:00\",\"2023-05-10T10:10:00\",\"2023-05-10T10:11:00\",\"2023-05-10T10:12:00\",\"2023-05-10T10:13:00\",\"2023-05-10T10:14:00\",\"2023-05-10T10:15:00\",\"2023-05-10T10:16:00\",\"2023-05-10T10:17:00\",\"2023-05-10T10:18:00\",\"2023-05-10T10:19:00\",\"2023-05-10T10:20:00\",\"2023-05-10T10:21:00\",\"2023-05-10T10:22:00\",\"2023-05-10T10:23:00\",\"2023-05-10T10:24:00\",\"2023-05-10T10:27:00\",\"2023-05-10T10:28:00\",\"2023-05-10T10:29:00\",\"2023-05-10T10:30:00\",\"2023-05-10T10:31:00\",\"2023-05-10T10:32:00\",\"2023-05-10T10:33:00\",\"2023-05-10T10:34:00\",\"2023-05-10T10:35:00\",\"2023-05-10T10:36:00\",\"2023-05-10T10:37:00\",\"2023-05-10T10:38:00\",\"2023-05-10T10:39:00\",\"2023-05-10T10:40:00\",\"2023-05-10T10:41:00\",\"2023-05-10T10:42:00\",\"2023-05-10T10:43:00\",\"2023-05-10T10:44:00\",\"2023-05-10T10:45:00\",\"2023-05-10T10:46:00\",\"2023-05-10T10:47:00\",\"2023-05-10T10:48:00\",\"2023-05-10T10:49:00\",\"2023-05-10T10:50:00\",\"2023-05-10T10:51:00\",\"2023-05-10T10:52:00\",\"2023-05-10T10:53:00\",\"2023-05-10T10:55:00\",\"2023-05-10T10:56:00\",\"2023-05-10T10:57:00\",\"2023-05-10T10:58:00\",\"2023-05-10T10:59:00\",\"2023-05-10T11:00:00\",\"2023-05-10T11:01:00\",\"2023-05-10T11:02:00\",\"2023-05-10T11:03:00\",\"2023-05-10T11:04:00\",\"2023-05-10T11:05:00\",\"2023-05-10T11:06:00\",\"2023-05-10T11:07:00\",\"2023-05-10T11:08:00\",\"2023-05-10T11:09:00\",\"2023-05-10T11:10:00\",\"2023-05-10T11:11:00\",\"2023-05-10T11:12:00\",\"2023-05-10T11:13:00\",\"2023-05-10T11:14:00\",\"2023-05-10T11:15:00\",\"2023-05-10T11:16:00\",\"2023-05-10T11:18:00\",\"2023-05-10T11:19:00\",\"2023-05-10T11:20:00\",\"2023-05-10T11:21:00\",\"2023-05-10T11:22:00\",\"2023-05-10T11:23:00\",\"2023-05-10T11:24:00\",\"2023-05-10T11:25:00\",\"2023-05-10T11:26:00\",\"2023-05-10T11:27:00\",\"2023-05-10T11:28:00\",\"2023-05-10T11:29:00\",\"2023-05-10T11:30:00\",\"2023-05-10T11:31:00\",\"2023-05-10T11:32:00\",\"2023-05-10T11:33:00\",\"2023-05-10T11:34:00\",\"2023-05-10T11:35:00\",\"2023-05-10T11:36:00\",\"2023-05-10T11:37:00\",\"2023-05-10T11:38:00\",\"2023-05-10T11:39:00\",\"2023-05-10T11:40:00\",\"2023-05-10T11:41:00\",\"2023-05-10T11:42:00\",\"2023-05-10T11:43:00\",\"2023-05-10T11:44:00\",\"2023-05-10T11:46:00\",\"2023-05-10T11:47:00\",\"2023-05-10T11:48:00\",\"2023-05-10T11:49:00\",\"2023-05-10T11:50:00\",\"2023-05-10T11:51:00\",\"2023-05-10T11:52:00\",\"2023-05-10T11:53:00\",\"2023-05-10T11:54:00\",\"2023-05-10T11:55:00\",\"2023-05-10T11:56:00\",\"2023-05-10T11:57:00\",\"2023-05-10T11:58:00\",\"2023-05-10T11:59:00\",\"2023-05-10T12:00:00\",\"2023-05-10T12:01:00\",\"2023-05-10T12:02:00\",\"2023-05-10T12:03:00\",\"2023-05-10T12:04:00\",\"2023-05-10T12:05:00\",\"2023-05-10T12:06:00\",\"2023-05-10T12:07:00\",\"2023-05-10T12:08:00\",\"2023-05-10T12:10:00\",\"2023-05-10T12:11:00\",\"2023-05-10T12:12:00\",\"2023-05-10T12:15:00\",\"2023-05-10T12:17:00\",\"2023-05-10T12:18:00\",\"2023-05-10T12:19:00\",\"2023-05-10T12:21:00\",\"2023-05-10T12:24:00\",\"2023-05-10T12:25:00\",\"2023-05-10T12:26:00\",\"2023-05-10T12:27:00\",\"2023-05-10T12:31:00\",\"2023-05-10T12:33:00\",\"2023-05-10T12:34:00\",\"2023-05-10T12:36:00\",\"2023-05-10T12:38:00\",\"2023-05-10T12:40:00\",\"2023-05-10T12:41:00\",\"2023-05-10T12:43:00\",\"2023-05-10T12:47:00\",\"2023-05-10T12:48:00\",\"2023-05-10T12:51:00\",\"2023-05-10T12:52:00\",\"2023-05-10T12:53:00\",\"2023-05-10T12:54:00\",\"2023-05-10T12:56:00\",\"2023-05-10T12:58:00\",\"2023-05-10T12:59:00\",\"2023-05-10T13:02:00\",\"2023-05-10T13:04:00\",\"2023-05-10T13:05:00\",\"2023-05-10T13:08:00\",\"2023-05-10T13:10:00\",\"2023-05-10T13:13:00\",\"2023-05-10T13:14:00\",\"2023-05-10T13:17:00\",\"2023-05-10T13:22:00\",\"2023-05-10T13:23:00\",\"2023-05-10T13:24:00\",\"2023-05-10T13:25:00\",\"2023-05-10T13:27:00\",\"2023-05-10T13:28:00\",\"2023-05-10T13:29:00\",\"2023-05-10T13:33:00\",\"2023-05-10T13:34:00\",\"2023-05-10T13:36:00\",\"2023-05-10T13:37:00\",\"2023-05-10T13:39:00\",\"2023-05-10T13:41:00\",\"2023-05-10T13:42:00\",\"2023-05-10T13:43:00\",\"2023-05-10T13:46:00\",\"2023-05-10T13:48:00\",\"2023-05-10T13:49:00\",\"2023-05-10T13:50:00\",\"2023-05-10T13:52:00\",\"2023-05-10T13:53:00\",\"2023-05-10T13:54:00\",\"2023-05-10T13:57:00\",\"2023-05-10T13:58:00\",\"2023-05-10T13:59:00\",\"2023-05-10T14:01:00\",\"2023-05-10T14:03:00\",\"2023-05-10T14:05:00\",\"2023-05-10T14:07:00\",\"2023-05-10T14:08:00\",\"2023-05-10T14:10:00\",\"2023-05-10T14:11:00\",\"2023-05-10T14:12:00\",\"2023-05-10T14:15:00\",\"2023-05-10T14:16:00\",\"2023-05-10T14:17:00\",\"2023-05-10T14:19:00\",\"2023-05-10T14:20:00\",\"2023-05-10T14:22:00\",\"2023-05-10T14:23:00\",\"2023-05-10T14:24:00\",\"2023-05-10T14:25:00\",\"2023-05-10T14:27:00\",\"2023-05-10T14:28:00\",\"2023-05-10T14:29:00\",\"2023-05-10T14:30:00\",\"2023-05-10T14:31:00\",\"2023-05-10T14:32:00\",\"2023-05-10T14:33:00\",\"2023-05-10T14:34:00\",\"2023-05-10T14:35:00\",\"2023-05-10T14:36:00\",\"2023-05-10T14:38:00\",\"2023-05-10T14:39:00\",\"2023-05-10T14:40:00\",\"2023-05-10T14:43:00\",\"2023-05-10T14:44:00\",\"2023-05-10T14:47:00\",\"2023-05-10T14:48:00\",\"2023-05-10T14:49:00\",\"2023-05-10T14:50:00\",\"2023-05-10T14:51:00\",\"2023-05-10T14:52:00\",\"2023-05-10T14:54:00\",\"2023-05-10T14:55:00\",\"2023-05-10T14:56:00\",\"2023-05-10T14:57:00\",\"2023-05-10T14:58:00\",\"2023-05-10T14:59:00\",\"2023-05-10T15:01:00\",\"2023-05-10T15:02:00\",\"2023-05-10T15:04:00\",\"2023-05-10T15:05:00\",\"2023-05-10T15:07:00\",\"2023-05-10T15:08:00\",\"2023-05-10T15:09:00\",\"2023-05-10T15:10:00\",\"2023-05-10T15:11:00\",\"2023-05-10T15:12:00\",\"2023-05-10T15:13:00\",\"2023-05-10T15:15:00\",\"2023-05-10T15:16:00\",\"2023-05-10T15:17:00\",\"2023-05-10T15:18:00\",\"2023-05-10T15:19:00\",\"2023-05-10T15:20:00\",\"2023-05-10T15:21:00\",\"2023-05-10T15:22:00\",\"2023-05-10T15:23:00\",\"2023-05-10T15:25:00\",\"2023-05-10T15:26:00\",\"2023-05-10T15:27:00\",\"2023-05-10T15:28:00\",\"2023-05-10T15:29:00\",\"2023-05-10T15:30:00\",\"2023-05-10T15:31:00\",\"2023-05-10T15:32:00\",\"2023-05-10T15:33:00\",\"2023-05-10T15:35:00\",\"2023-05-10T15:36:00\",\"2023-05-10T15:37:00\",\"2023-05-10T15:39:00\",\"2023-05-10T15:40:00\",\"2023-05-10T15:41:00\",\"2023-05-10T15:42:00\",\"2023-05-10T15:43:00\",\"2023-05-10T15:44:00\",\"2023-05-10T15:45:00\",\"2023-05-10T15:46:00\",\"2023-05-10T15:47:00\",\"2023-05-10T15:48:00\",\"2023-05-10T15:49:00\",\"2023-05-10T15:52:00\",\"2023-05-10T15:53:00\",\"2023-05-10T15:54:00\",\"2023-05-10T15:55:00\",\"2023-05-10T15:56:00\",\"2023-05-10T15:57:00\",\"2023-05-10T15:58:00\",\"2023-05-10T15:59:00\",\"2023-05-10T16:00:00\",\"2023-05-10T16:01:00\",\"2023-05-10T16:02:00\",\"2023-05-10T16:04:00\",\"2023-05-10T16:05:00\",\"2023-05-10T16:06:00\",\"2023-05-10T16:07:00\",\"2023-05-10T16:08:00\",\"2023-05-10T16:09:00\",\"2023-05-10T16:10:00\",\"2023-05-10T16:14:00\",\"2023-05-10T16:16:00\",\"2023-05-10T16:18:00\",\"2023-05-10T16:19:00\",\"2023-05-10T16:20:00\",\"2023-05-10T16:23:00\",\"2023-05-10T16:24:00\",\"2023-05-10T16:25:00\",\"2023-05-10T16:26:00\",\"2023-05-10T16:28:00\",\"2023-05-10T16:29:00\",\"2023-05-10T16:30:00\",\"2023-05-10T16:32:00\",\"2023-05-10T16:33:00\",\"2023-05-10T16:35:00\",\"2023-05-10T16:36:00\",\"2023-05-10T16:37:00\",\"2023-05-10T16:38:00\",\"2023-05-10T16:40:00\",\"2023-05-10T16:41:00\",\"2023-05-10T16:42:00\",\"2023-05-10T16:43:00\",\"2023-05-10T16:44:00\",\"2023-05-10T16:45:00\",\"2023-05-10T16:46:00\",\"2023-05-10T16:47:00\",\"2023-05-10T16:48:00\",\"2023-05-10T16:49:00\",\"2023-05-10T16:50:00\",\"2023-05-10T16:51:00\",\"2023-05-10T16:52:00\",\"2023-05-10T16:53:00\",\"2023-05-10T16:54:00\",\"2023-05-10T16:55:00\",\"2023-05-10T16:56:00\",\"2023-05-10T16:58:00\",\"2023-05-10T16:59:00\",\"2023-05-10T17:01:00\",\"2023-05-10T17:02:00\",\"2023-05-10T17:03:00\",\"2023-05-10T17:04:00\",\"2023-05-10T17:05:00\",\"2023-05-10T17:06:00\",\"2023-05-10T17:08:00\",\"2023-05-10T17:18:00\",\"2023-05-10T17:19:00\",\"2023-05-10T17:23:00\",\"2023-05-10T17:24:00\",\"2023-05-10T17:25:00\",\"2023-05-10T17:30:00\",\"2023-05-10T17:33:00\",\"2023-05-10T17:34:00\",\"2023-05-10T17:36:00\",\"2023-05-10T17:37:00\",\"2023-05-10T17:40:00\",\"2023-05-10T17:42:00\",\"2023-05-10T17:44:00\",\"2023-05-10T17:46:00\",\"2023-05-10T17:48:00\",\"2023-05-10T17:49:00\",\"2023-05-10T17:52:00\",\"2023-05-10T17:53:00\",\"2023-05-10T17:54:00\",\"2023-05-10T17:55:00\",\"2023-05-10T17:59:00\",\"2023-05-10T18:00:00\",\"2023-05-10T18:02:00\",\"2023-05-10T18:05:00\",\"2023-05-10T18:06:00\",\"2023-05-10T18:09:00\",\"2023-05-10T18:11:00\",\"2023-05-10T18:12:00\",\"2023-05-10T18:13:00\",\"2023-05-10T18:15:00\",\"2023-05-10T18:16:00\",\"2023-05-10T18:17:00\",\"2023-05-10T18:19:00\",\"2023-05-10T18:20:00\",\"2023-05-10T18:21:00\",\"2023-05-10T18:22:00\",\"2023-05-10T18:24:00\",\"2023-05-10T18:26:00\",\"2023-05-10T18:27:00\",\"2023-05-10T18:28:00\",\"2023-05-10T18:29:00\",\"2023-05-10T18:30:00\",\"2023-05-10T18:32:00\",\"2023-05-10T18:33:00\",\"2023-05-10T18:35:00\",\"2023-05-10T18:36:00\",\"2023-05-10T18:37:00\",\"2023-05-10T18:38:00\",\"2023-05-10T18:39:00\",\"2023-05-10T18:41:00\",\"2023-05-10T18:42:00\",\"2023-05-10T18:43:00\",\"2023-05-10T18:45:00\",\"2023-05-10T18:47:00\",\"2023-05-10T18:49:00\",\"2023-05-10T18:50:00\",\"2023-05-10T18:52:00\",\"2023-05-10T18:53:00\",\"2023-05-10T18:54:00\",\"2023-05-10T18:55:00\",\"2023-05-10T18:56:00\",\"2023-05-10T18:57:00\",\"2023-05-10T18:58:00\",\"2023-05-10T18:59:00\",\"2023-05-10T19:01:00\",\"2023-05-10T19:05:00\",\"2023-05-10T19:08:00\",\"2023-05-10T19:12:00\",\"2023-05-10T19:13:00\",\"2023-05-10T19:15:00\",\"2023-05-10T19:16:00\",\"2023-05-10T19:17:00\",\"2023-05-10T19:19:00\",\"2023-05-10T19:21:00\",\"2023-05-10T19:23:00\",\"2023-05-10T19:24:00\",\"2023-05-10T19:25:00\",\"2023-05-10T19:27:00\",\"2023-05-10T19:28:00\",\"2023-05-10T19:30:00\",\"2023-05-10T19:31:00\",\"2023-05-10T19:32:00\",\"2023-05-10T19:34:00\",\"2023-05-10T19:35:00\",\"2023-05-10T19:36:00\",\"2023-05-10T19:37:00\",\"2023-05-10T19:38:00\",\"2023-05-10T19:39:00\",\"2023-05-10T19:40:00\",\"2023-05-10T19:41:00\",\"2023-05-10T19:42:00\",\"2023-05-10T19:43:00\",\"2023-05-10T19:44:00\",\"2023-05-10T19:45:00\",\"2023-05-10T19:46:00\",\"2023-05-10T19:47:00\",\"2023-05-10T19:51:00\",\"2023-05-10T19:52:00\",\"2023-05-10T19:53:00\",\"2023-05-10T19:55:00\",\"2023-05-10T19:56:00\",\"2023-05-10T19:57:00\",\"2023-05-10T19:58:00\",\"2023-05-10T19:59:00\",\"2023-05-10T20:00:00\",\"2023-05-10T20:02:00\",\"2023-05-10T20:03:00\",\"2023-05-10T20:04:00\",\"2023-05-10T20:06:00\",\"2023-05-10T20:07:00\",\"2023-05-10T20:08:00\",\"2023-05-10T20:10:00\",\"2023-05-10T20:11:00\",\"2023-05-10T20:12:00\",\"2023-05-10T20:13:00\",\"2023-05-10T20:14:00\",\"2023-05-10T20:15:00\",\"2023-05-10T20:16:00\",\"2023-05-10T20:20:00\",\"2023-05-10T20:21:00\",\"2023-05-10T20:22:00\",\"2023-05-10T20:23:00\",\"2023-05-10T20:25:00\",\"2023-05-10T20:27:00\",\"2023-05-10T20:28:00\",\"2023-05-10T20:29:00\",\"2023-05-10T20:31:00\",\"2023-05-10T20:32:00\",\"2023-05-10T20:33:00\",\"2023-05-10T20:34:00\",\"2023-05-10T20:35:00\",\"2023-05-10T20:36:00\",\"2023-05-10T20:37:00\",\"2023-05-10T20:38:00\",\"2023-05-10T20:39:00\",\"2023-05-10T20:41:00\",\"2023-05-10T20:42:00\",\"2023-05-10T20:43:00\",\"2023-05-10T20:44:00\",\"2023-05-10T20:47:00\",\"2023-05-10T20:48:00\",\"2023-05-10T20:49:00\",\"2023-05-10T20:50:00\",\"2023-05-10T20:51:00\",\"2023-05-10T20:52:00\",\"2023-05-10T20:53:00\",\"2023-05-10T20:54:00\",\"2023-05-10T20:55:00\",\"2023-05-10T20:56:00\",\"2023-05-10T20:57:00\",\"2023-05-10T20:58:00\",\"2023-05-10T21:00:00\"],\"type\":\"candlestick\"}],                        {\"template\":{\"data\":{\"histogram2dcontour\":[{\"type\":\"histogram2dcontour\",\"colorbar\":{\"outlinewidth\":0,\"ticks\":\"\"},\"colorscale\":[[0.0,\"#0d0887\"],[0.1111111111111111,\"#46039f\"],[0.2222222222222222,\"#7201a8\"],[0.3333333333333333,\"#9c179e\"],[0.4444444444444444,\"#bd3786\"],[0.5555555555555556,\"#d8576b\"],[0.6666666666666666,\"#ed7953\"],[0.7777777777777778,\"#fb9f3a\"],[0.8888888888888888,\"#fdca26\"],[1.0,\"#f0f921\"]]}],\"choropleth\":[{\"type\":\"choropleth\",\"colorbar\":{\"outlinewidth\":0,\"ticks\":\"\"}}],\"histogram2d\":[{\"type\":\"histogram2d\",\"colorbar\":{\"outlinewidth\":0,\"ticks\":\"\"},\"colorscale\":[[0.0,\"#0d0887\"],[0.1111111111111111,\"#46039f\"],[0.2222222222222222,\"#7201a8\"],[0.3333333333333333,\"#9c179e\"],[0.4444444444444444,\"#bd3786\"],[0.5555555555555556,\"#d8576b\"],[0.6666666666666666,\"#ed7953\"],[0.7777777777777778,\"#fb9f3a\"],[0.8888888888888888,\"#fdca26\"],[1.0,\"#f0f921\"]]}],\"heatmap\":[{\"type\":\"heatmap\",\"colorbar\":{\"outlinewidth\":0,\"ticks\":\"\"},\"colorscale\":[[0.0,\"#0d0887\"],[0.1111111111111111,\"#46039f\"],[0.2222222222222222,\"#7201a8\"],[0.3333333333333333,\"#9c179e\"],[0.4444444444444444,\"#bd3786\"],[0.5555555555555556,\"#d8576b\"],[0.6666666666666666,\"#ed7953\"],[0.7777777777777778,\"#fb9f3a\"],[0.8888888888888888,\"#fdca26\"],[1.0,\"#f0f921\"]]}],\"heatmapgl\":[{\"type\":\"heatmapgl\",\"colorbar\":{\"outlinewidth\":0,\"ticks\":\"\"},\"colorscale\":[[0.0,\"#0d0887\"],[0.1111111111111111,\"#46039f\"],[0.2222222222222222,\"#7201a8\"],[0.3333333333333333,\"#9c179e\"],[0.4444444444444444,\"#bd3786\"],[0.5555555555555556,\"#d8576b\"],[0.6666666666666666,\"#ed7953\"],[0.7777777777777778,\"#fb9f3a\"],[0.8888888888888888,\"#fdca26\"],[1.0,\"#f0f921\"]]}],\"contourcarpet\":[{\"type\":\"contourcarpet\",\"colorbar\":{\"outlinewidth\":0,\"ticks\":\"\"}}],\"contour\":[{\"type\":\"contour\",\"colorbar\":{\"outlinewidth\":0,\"ticks\":\"\"},\"colorscale\":[[0.0,\"#0d0887\"],[0.1111111111111111,\"#46039f\"],[0.2222222222222222,\"#7201a8\"],[0.3333333333333333,\"#9c179e\"],[0.4444444444444444,\"#bd3786\"],[0.5555555555555556,\"#d8576b\"],[0.6666666666666666,\"#ed7953\"],[0.7777777777777778,\"#fb9f3a\"],[0.8888888888888888,\"#fdca26\"],[1.0,\"#f0f921\"]]}],\"surface\":[{\"type\":\"surface\",\"colorbar\":{\"outlinewidth\":0,\"ticks\":\"\"},\"colorscale\":[[0.0,\"#0d0887\"],[0.1111111111111111,\"#46039f\"],[0.2222222222222222,\"#7201a8\"],[0.3333333333333333,\"#9c179e\"],[0.4444444444444444,\"#bd3786\"],[0.5555555555555556,\"#d8576b\"],[0.6666666666666666,\"#ed7953\"],[0.7777777777777778,\"#fb9f3a\"],[0.8888888888888888,\"#fdca26\"],[1.0,\"#f0f921\"]]}],\"mesh3d\":[{\"type\":\"mesh3d\",\"colorbar\":{\"outlinewidth\":0,\"ticks\":\"\"}}],\"scatter\":[{\"fillpattern\":{\"fillmode\":\"overlay\",\"size\":10,\"solidity\":0.2},\"type\":\"scatter\"}],\"parcoords\":[{\"type\":\"parcoords\",\"line\":{\"colorbar\":{\"outlinewidth\":0,\"ticks\":\"\"}}}],\"scatterpolargl\":[{\"type\":\"scatterpolargl\",\"marker\":{\"colorbar\":{\"outlinewidth\":0,\"ticks\":\"\"}}}],\"bar\":[{\"error_x\":{\"color\":\"#2a3f5f\"},\"error_y\":{\"color\":\"#2a3f5f\"},\"marker\":{\"line\":{\"color\":\"#E5ECF6\",\"width\":0.5},\"pattern\":{\"fillmode\":\"overlay\",\"size\":10,\"solidity\":0.2}},\"type\":\"bar\"}],\"scattergeo\":[{\"type\":\"scattergeo\",\"marker\":{\"colorbar\":{\"outlinewidth\":0,\"ticks\":\"\"}}}],\"scatterpolar\":[{\"type\":\"scatterpolar\",\"marker\":{\"colorbar\":{\"outlinewidth\":0,\"ticks\":\"\"}}}],\"histogram\":[{\"marker\":{\"pattern\":{\"fillmode\":\"overlay\",\"size\":10,\"solidity\":0.2}},\"type\":\"histogram\"}],\"scattergl\":[{\"type\":\"scattergl\",\"marker\":{\"colorbar\":{\"outlinewidth\":0,\"ticks\":\"\"}}}],\"scatter3d\":[{\"type\":\"scatter3d\",\"line\":{\"colorbar\":{\"outlinewidth\":0,\"ticks\":\"\"}},\"marker\":{\"colorbar\":{\"outlinewidth\":0,\"ticks\":\"\"}}}],\"scattermapbox\":[{\"type\":\"scattermapbox\",\"marker\":{\"colorbar\":{\"outlinewidth\":0,\"ticks\":\"\"}}}],\"scatterternary\":[{\"type\":\"scatterternary\",\"marker\":{\"colorbar\":{\"outlinewidth\":0,\"ticks\":\"\"}}}],\"scattercarpet\":[{\"type\":\"scattercarpet\",\"marker\":{\"colorbar\":{\"outlinewidth\":0,\"ticks\":\"\"}}}],\"carpet\":[{\"aaxis\":{\"endlinecolor\":\"#2a3f5f\",\"gridcolor\":\"white\",\"linecolor\":\"white\",\"minorgridcolor\":\"white\",\"startlinecolor\":\"#2a3f5f\"},\"baxis\":{\"endlinecolor\":\"#2a3f5f\",\"gridcolor\":\"white\",\"linecolor\":\"white\",\"minorgridcolor\":\"white\",\"startlinecolor\":\"#2a3f5f\"},\"type\":\"carpet\"}],\"table\":[{\"cells\":{\"fill\":{\"color\":\"#EBF0F8\"},\"line\":{\"color\":\"white\"}},\"header\":{\"fill\":{\"color\":\"#C8D4E3\"},\"line\":{\"color\":\"white\"}},\"type\":\"table\"}],\"barpolar\":[{\"marker\":{\"line\":{\"color\":\"#E5ECF6\",\"width\":0.5},\"pattern\":{\"fillmode\":\"overlay\",\"size\":10,\"solidity\":0.2}},\"type\":\"barpolar\"}],\"pie\":[{\"automargin\":true,\"type\":\"pie\"}]},\"layout\":{\"autotypenumbers\":\"strict\",\"colorway\":[\"#636efa\",\"#EF553B\",\"#00cc96\",\"#ab63fa\",\"#FFA15A\",\"#19d3f3\",\"#FF6692\",\"#B6E880\",\"#FF97FF\",\"#FECB52\"],\"font\":{\"color\":\"#2a3f5f\"},\"hovermode\":\"closest\",\"hoverlabel\":{\"align\":\"left\"},\"paper_bgcolor\":\"white\",\"plot_bgcolor\":\"#E5ECF6\",\"polar\":{\"bgcolor\":\"#E5ECF6\",\"angularaxis\":{\"gridcolor\":\"white\",\"linecolor\":\"white\",\"ticks\":\"\"},\"radialaxis\":{\"gridcolor\":\"white\",\"linecolor\":\"white\",\"ticks\":\"\"}},\"ternary\":{\"bgcolor\":\"#E5ECF6\",\"aaxis\":{\"gridcolor\":\"white\",\"linecolor\":\"white\",\"ticks\":\"\"},\"baxis\":{\"gridcolor\":\"white\",\"linecolor\":\"white\",\"ticks\":\"\"},\"caxis\":{\"gridcolor\":\"white\",\"linecolor\":\"white\",\"ticks\":\"\"}},\"coloraxis\":{\"colorbar\":{\"outlinewidth\":0,\"ticks\":\"\"}},\"colorscale\":{\"sequential\":[[0.0,\"#0d0887\"],[0.1111111111111111,\"#46039f\"],[0.2222222222222222,\"#7201a8\"],[0.3333333333333333,\"#9c179e\"],[0.4444444444444444,\"#bd3786\"],[0.5555555555555556,\"#d8576b\"],[0.6666666666666666,\"#ed7953\"],[0.7777777777777778,\"#fb9f3a\"],[0.8888888888888888,\"#fdca26\"],[1.0,\"#f0f921\"]],\"sequentialminus\":[[0.0,\"#0d0887\"],[0.1111111111111111,\"#46039f\"],[0.2222222222222222,\"#7201a8\"],[0.3333333333333333,\"#9c179e\"],[0.4444444444444444,\"#bd3786\"],[0.5555555555555556,\"#d8576b\"],[0.6666666666666666,\"#ed7953\"],[0.7777777777777778,\"#fb9f3a\"],[0.8888888888888888,\"#fdca26\"],[1.0,\"#f0f921\"]],\"diverging\":[[0,\"#8e0152\"],[0.1,\"#c51b7d\"],[0.2,\"#de77ae\"],[0.3,\"#f1b6da\"],[0.4,\"#fde0ef\"],[0.5,\"#f7f7f7\"],[0.6,\"#e6f5d0\"],[0.7,\"#b8e186\"],[0.8,\"#7fbc41\"],[0.9,\"#4d9221\"],[1,\"#276419\"]]},\"xaxis\":{\"gridcolor\":\"white\",\"linecolor\":\"white\",\"ticks\":\"\",\"title\":{\"standoff\":15},\"zerolinecolor\":\"white\",\"automargin\":true,\"zerolinewidth\":2},\"yaxis\":{\"gridcolor\":\"white\",\"linecolor\":\"white\",\"ticks\":\"\",\"title\":{\"standoff\":15},\"zerolinecolor\":\"white\",\"automargin\":true,\"zerolinewidth\":2},\"scene\":{\"xaxis\":{\"backgroundcolor\":\"#E5ECF6\",\"gridcolor\":\"white\",\"linecolor\":\"white\",\"showbackground\":true,\"ticks\":\"\",\"zerolinecolor\":\"white\",\"gridwidth\":2},\"yaxis\":{\"backgroundcolor\":\"#E5ECF6\",\"gridcolor\":\"white\",\"linecolor\":\"white\",\"showbackground\":true,\"ticks\":\"\",\"zerolinecolor\":\"white\",\"gridwidth\":2},\"zaxis\":{\"backgroundcolor\":\"#E5ECF6\",\"gridcolor\":\"white\",\"linecolor\":\"white\",\"showbackground\":true,\"ticks\":\"\",\"zerolinecolor\":\"white\",\"gridwidth\":2}},\"shapedefaults\":{\"line\":{\"color\":\"#2a3f5f\"}},\"annotationdefaults\":{\"arrowcolor\":\"#2a3f5f\",\"arrowhead\":0,\"arrowwidth\":1},\"geo\":{\"bgcolor\":\"white\",\"landcolor\":\"#E5ECF6\",\"subunitcolor\":\"white\",\"showland\":true,\"showlakes\":true,\"lakecolor\":\"white\"},\"title\":{\"x\":0.05},\"mapbox\":{\"style\":\"light\"}}},\"annotations\":[{\"arrowcolor\":\"green\",\"arrowhead\":5,\"arrowwidth\":2,\"ay\":-10,\"font\":{\"color\":\"green\"},\"hovertext\":\"2023-05-10 20:16:40.544196 buy at 27730.18, sl=27727.738082628246, tp=27738.193372650145\",\"showarrow\":true,\"text\":\"buy\",\"x\":\"2023-05-10T20:16:40.544196\",\"y\":27730.18},{\"arrowcolor\":\"green\",\"arrowhead\":5,\"arrowwidth\":2,\"ay\":-20,\"font\":{\"color\":\"green\"},\"hovertext\":\"2023-05-10 20:50:49.296963 buy at 27873.16, sl=27870.917392215728, tp=27878.48043527603\",\"showarrow\":true,\"text\":\"buy\",\"x\":\"2023-05-10T20:50:49.296963\",\"y\":27873.16},{\"arrowcolor\":\"green\",\"arrowhead\":5,\"arrowwidth\":2,\"ay\":-30,\"font\":{\"color\":\"green\"},\"hovertext\":\"2023-05-10 20:51:16.902684 buy at 27871.46, sl=27869.061868724824, tp=27886.352091445922\",\"showarrow\":true,\"text\":\"buy\",\"x\":\"2023-05-10T20:51:16.902684\",\"y\":27871.46},{\"arrowcolor\":\"green\",\"arrowhead\":5,\"arrowwidth\":2,\"ay\":-40,\"font\":{\"color\":\"green\"},\"hovertext\":\"2023-05-10 20:53:20.182227 buy at 27860.19, sl=27858.41196122408, tp=27863.050214681625\",\"showarrow\":true,\"text\":\"buy\",\"x\":\"2023-05-10T20:53:20.182227\",\"y\":27860.19},{\"arrowcolor\":\"green\",\"arrowhead\":5,\"arrowwidth\":2,\"ay\":0,\"font\":{\"color\":\"green\"},\"hovertext\":\"2023-05-10 20:53:33.039178 buy at 27863.07, sl=27860.991781826015, tp=27868.245191631315\",\"showarrow\":true,\"text\":\"buy\",\"x\":\"2023-05-10T20:53:33.039178\",\"y\":27863.07},{\"arrowcolor\":\"green\",\"arrowhead\":5,\"arrowwidth\":2,\"ay\":-10,\"font\":{\"color\":\"green\"},\"hovertext\":\"2023-05-10 20:55:30.137882 buy at 27867.42, sl=27865.485581536293, tp=27873.7163315773\",\"showarrow\":true,\"text\":\"buy\",\"x\":\"2023-05-10T20:55:30.137882\",\"y\":27867.42},{\"arrowcolor\":\"green\",\"arrowhead\":5,\"arrowwidth\":2,\"ay\":-10,\"font\":{\"color\":\"green\"},\"hovertext\":\"2023-05-10 20:17:22.690000 close buy at 27738.19, profit: 0.00801\",\"showarrow\":true,\"text\":\"close buy\",\"x\":\"2023-05-10T20:17:22.690000\",\"y\":27738.19},{\"arrowcolor\":\"green\",\"arrowhead\":5,\"arrowwidth\":2,\"ay\":-10,\"font\":{\"color\":\"green\"},\"hovertext\":\"2023-05-10 20:50:49.904000 close buy at 27870.48, profit: -0.00268\",\"showarrow\":true,\"text\":\"close buy\",\"x\":\"2023-05-10T20:50:49.904000\",\"y\":27870.48},{\"arrowcolor\":\"green\",\"arrowhead\":5,\"arrowwidth\":2,\"ay\":-10,\"font\":{\"color\":\"green\"},\"hovertext\":\"2023-05-10 20:51:56.824000 close buy at 27869.01, profit: -0.00245\",\"showarrow\":true,\"text\":\"close buy\",\"x\":\"2023-05-10T20:51:56.824000\",\"y\":27869.01},{\"arrowcolor\":\"green\",\"arrowhead\":5,\"arrowwidth\":2,\"ay\":-10,\"font\":{\"color\":\"green\"},\"hovertext\":\"2023-05-10 20:53:23.796000 close buy at 27863.05, profit: 0.00286\",\"showarrow\":true,\"text\":\"close buy\",\"x\":\"2023-05-10T20:53:23.796000\",\"y\":27863.05},{\"arrowcolor\":\"green\",\"arrowhead\":5,\"arrowwidth\":2,\"ay\":-10,\"font\":{\"color\":\"green\"},\"hovertext\":\"2023-05-10 20:53:44.819000 close buy at 27860.99, profit: -0.00208\",\"showarrow\":true,\"text\":\"close buy\",\"x\":\"2023-05-10T20:53:44.819000\",\"y\":27860.99},{\"arrowcolor\":\"green\",\"arrowhead\":5,\"arrowwidth\":2,\"ay\":-10,\"font\":{\"color\":\"green\"},\"hovertext\":\"2023-05-10 20:58:58.846000 close buy at 27865.43, profit: -0.00199\",\"showarrow\":true,\"text\":\"close buy\",\"x\":\"2023-05-10T20:58:58.846000\",\"y\":27865.43}]},                        {\"responsive\": true}                    ).then(function(){\n",
       "                            \n",
       "var gd = document.getElementById('b178adae-d14f-4c9c-8749-8bbc157ab6ff');\n",
       "var x = new MutationObserver(function (mutations, observer) {{\n",
       "        var display = window.getComputedStyle(gd).display;\n",
       "        if (!display || display === 'none') {{\n",
       "            console.log([gd, 'removed!']);\n",
       "            Plotly.purge(gd);\n",
       "            observer.disconnect();\n",
       "        }}\n",
       "}});\n",
       "\n",
       "// Listen for the removal of the full notebook cells\n",
       "var notebookContainer = gd.closest('#notebook-container');\n",
       "if (notebookContainer) {{\n",
       "    x.observe(notebookContainer, {childList: true});\n",
       "}}\n",
       "\n",
       "// Listen for the clearing of the current output cell\n",
       "var outputEl = gd.closest('.output');\n",
       "if (outputEl) {{\n",
       "    x.observe(outputEl, {childList: true});\n",
       "}}\n",
       "\n",
       "                        })                };                });            </script>        </div>"
      ]
     },
     "metadata": {},
     "output_type": "display_data"
    }
   ],
   "source": [
    "# Install a conda package in the current Jupyter kernel\n",
    "#%conda install -c plotly plotly=5.9.0\n",
    "# Draw candlechart\n",
    "import plotly as py\n",
    "from plotly import graph_objects as go\n",
    "import pandas as pd\n",
    "import numpy as np\n",
    "import datetime\n",
    "\n",
    "def get_chart_figure(candles: pd.DataFrame, trades: pd.DataFrame)->pd.DataFrame:\n",
    "    \"\"\"\n",
    "    Form plotly candlestick chart with buy/sell marks on it\n",
    "    \"\"\"\n",
    "    \n",
    "    df=candles.copy()\n",
    "    #df=clean_candles(df)\n",
    "    fig = go.Figure(data=[ \\\n",
    "                        go.Candlestick(\\\n",
    "                            x=df.index,\\\n",
    "                            open=df['open'],\\\n",
    "                            high=df['high'],\\\n",
    "                            low=df['low'],\\\n",
    "                            close=df['close'])\n",
    "                         ])\n",
    "\n",
    "    # Customize ay to distribute captions by y so they do not overlap by x\n",
    "    ay,aymax,aystep=0,50,10\n",
    "    #start_time=df.open_time.min()\n",
    "    # Annotate buy, sell on the chart\n",
    "    for i,trade in trades[(~trades.open_time.isna()) & (trades.open_time > df.open_time.min())].iterrows():\n",
    "        ay=(ay+aystep)%aymax\n",
    "        color='green' if trade['side']==\"BUY\" else 'red'\n",
    "\n",
    "        # Draw open order\n",
    "        open_text='buy' if trade['side']==\"BUY\"  else 'sell'\n",
    "        open_hover=f\"{trade['open_time']} {open_text} at {str(trade['open_price'])}, sl={trade['stop_loss_price']}, tp={trade['take_profit_price']}\"\n",
    "        fig.add_annotation(x=trade['open_time'], \\\n",
    "                           y=trade['open_price'],\\\n",
    "                           text=open_text,\\\n",
    "                           hovertext=open_hover,\\\n",
    "                           showarrow=True,arrowhead=5,arrowcolor=color,ay=-ay,arrowwidth=2,\n",
    "                           font={'color':color}\n",
    "                          )\n",
    "    for i,trade in trades[(~trades.close_time.isna()) & (trades.close_time > df.close_time.min())].iterrows():\n",
    "        color='green' if trade['side']==\"BUY\" else 'red'\n",
    "\n",
    "        # Draw close order\n",
    "        #profit = trade[\"close_price\"]-trade[\"open_price\"] if trade[\"close_price\"] else None\n",
    "        status= f\", profit: {round(trade.profit, 10)}\" if trade.profit else \"\"\n",
    "        close_text='close buy' if trade['side']==\"BUY\"  else 'close sell'\n",
    "        close_hover=f\"{trade['close_time']} {close_text} at {str(trade['close_price'])}{status}\"\n",
    "        fig.add_annotation(x=trade['close_time'], \\\n",
    "                           y=trade['close_price'],\\\n",
    "                           text=close_text,\\\n",
    "                           hovertext=close_hover,\\\n",
    "                           showarrow=True,arrowhead=5,arrowcolor=color,ay=-ay,arrowwidth=2,\n",
    "                           font={'color':color}\n",
    "                          )\n",
    "    return fig\n",
    "\n",
    "get_chart_figure(candles, trades).show()\n",
    "\n"
   ]
  },
  {
   "cell_type": "markdown",
   "metadata": {},
   "source": [
    "## Profit"
   ]
  },
  {
   "cell_type": "markdown",
   "metadata": {},
   "source": []
  },
  {
   "cell_type": "code",
   "execution_count": 16,
   "metadata": {},
   "outputs": [],
   "source": [
    "import matplotlib.pyplot as plt\n",
    "import plotly.express as px\n",
    "\n",
    "profit=trades[[\"open_time\", \"profit\"]].copy()\n",
    "\n",
    "\n",
    "# mean = profit[\"profit\"].mean()\n",
    "# sd = profit[\"profit\"].std()\n",
    "# n_std=2\n",
    "        \n",
    "# profit = profit[(profit[\"profit\"].abs() <= mean+(n_std*sd))]\n",
    "profit[\"cum_profit\"] = profit[\"profit\"].cumsum()"
   ]
  },
  {
   "cell_type": "code",
   "execution_count": 17,
   "metadata": {},
   "outputs": [
    {
     "data": {
      "application/vnd.plotly.v1+json": {
       "config": {
        "plotlyServerURL": "https://plot.ly"
       },
       "data": [
        {
         "hovertemplate": "open_time=%{x}<br>profit=%{y}<extra></extra>",
         "legendgroup": "",
         "line": {
          "color": "#636efa",
          "dash": "solid"
         },
         "marker": {
          "symbol": "circle"
         },
         "mode": "lines",
         "name": "",
         "orientation": "v",
         "showlegend": false,
         "type": "scatter",
         "x": [
          "2023-05-10T20:16:40.544196",
          "2023-05-10T20:50:49.296963",
          "2023-05-10T20:51:16.902684",
          "2023-05-10T20:53:20.182227",
          "2023-05-10T20:53:33.039178",
          "2023-05-10T20:55:30.137882"
         ],
         "xaxis": "x",
         "y": [
          0.008009999999998399,
          -0.002680000000000291,
          -0.0024500000000007276,
          0.002860000000000582,
          -0.002079999999998108,
          -0.0019899999999979626
         ],
         "yaxis": "y"
        }
       ],
       "layout": {
        "legend": {
         "tracegroupgap": 0
        },
        "margin": {
         "t": 60
        },
        "template": {
         "data": {
          "bar": [
           {
            "error_x": {
             "color": "#2a3f5f"
            },
            "error_y": {
             "color": "#2a3f5f"
            },
            "marker": {
             "line": {
              "color": "#E5ECF6",
              "width": 0.5
             },
             "pattern": {
              "fillmode": "overlay",
              "size": 10,
              "solidity": 0.2
             }
            },
            "type": "bar"
           }
          ],
          "barpolar": [
           {
            "marker": {
             "line": {
              "color": "#E5ECF6",
              "width": 0.5
             },
             "pattern": {
              "fillmode": "overlay",
              "size": 10,
              "solidity": 0.2
             }
            },
            "type": "barpolar"
           }
          ],
          "carpet": [
           {
            "aaxis": {
             "endlinecolor": "#2a3f5f",
             "gridcolor": "white",
             "linecolor": "white",
             "minorgridcolor": "white",
             "startlinecolor": "#2a3f5f"
            },
            "baxis": {
             "endlinecolor": "#2a3f5f",
             "gridcolor": "white",
             "linecolor": "white",
             "minorgridcolor": "white",
             "startlinecolor": "#2a3f5f"
            },
            "type": "carpet"
           }
          ],
          "choropleth": [
           {
            "colorbar": {
             "outlinewidth": 0,
             "ticks": ""
            },
            "type": "choropleth"
           }
          ],
          "contour": [
           {
            "colorbar": {
             "outlinewidth": 0,
             "ticks": ""
            },
            "colorscale": [
             [
              0,
              "#0d0887"
             ],
             [
              0.1111111111111111,
              "#46039f"
             ],
             [
              0.2222222222222222,
              "#7201a8"
             ],
             [
              0.3333333333333333,
              "#9c179e"
             ],
             [
              0.4444444444444444,
              "#bd3786"
             ],
             [
              0.5555555555555556,
              "#d8576b"
             ],
             [
              0.6666666666666666,
              "#ed7953"
             ],
             [
              0.7777777777777778,
              "#fb9f3a"
             ],
             [
              0.8888888888888888,
              "#fdca26"
             ],
             [
              1,
              "#f0f921"
             ]
            ],
            "type": "contour"
           }
          ],
          "contourcarpet": [
           {
            "colorbar": {
             "outlinewidth": 0,
             "ticks": ""
            },
            "type": "contourcarpet"
           }
          ],
          "heatmap": [
           {
            "colorbar": {
             "outlinewidth": 0,
             "ticks": ""
            },
            "colorscale": [
             [
              0,
              "#0d0887"
             ],
             [
              0.1111111111111111,
              "#46039f"
             ],
             [
              0.2222222222222222,
              "#7201a8"
             ],
             [
              0.3333333333333333,
              "#9c179e"
             ],
             [
              0.4444444444444444,
              "#bd3786"
             ],
             [
              0.5555555555555556,
              "#d8576b"
             ],
             [
              0.6666666666666666,
              "#ed7953"
             ],
             [
              0.7777777777777778,
              "#fb9f3a"
             ],
             [
              0.8888888888888888,
              "#fdca26"
             ],
             [
              1,
              "#f0f921"
             ]
            ],
            "type": "heatmap"
           }
          ],
          "heatmapgl": [
           {
            "colorbar": {
             "outlinewidth": 0,
             "ticks": ""
            },
            "colorscale": [
             [
              0,
              "#0d0887"
             ],
             [
              0.1111111111111111,
              "#46039f"
             ],
             [
              0.2222222222222222,
              "#7201a8"
             ],
             [
              0.3333333333333333,
              "#9c179e"
             ],
             [
              0.4444444444444444,
              "#bd3786"
             ],
             [
              0.5555555555555556,
              "#d8576b"
             ],
             [
              0.6666666666666666,
              "#ed7953"
             ],
             [
              0.7777777777777778,
              "#fb9f3a"
             ],
             [
              0.8888888888888888,
              "#fdca26"
             ],
             [
              1,
              "#f0f921"
             ]
            ],
            "type": "heatmapgl"
           }
          ],
          "histogram": [
           {
            "marker": {
             "pattern": {
              "fillmode": "overlay",
              "size": 10,
              "solidity": 0.2
             }
            },
            "type": "histogram"
           }
          ],
          "histogram2d": [
           {
            "colorbar": {
             "outlinewidth": 0,
             "ticks": ""
            },
            "colorscale": [
             [
              0,
              "#0d0887"
             ],
             [
              0.1111111111111111,
              "#46039f"
             ],
             [
              0.2222222222222222,
              "#7201a8"
             ],
             [
              0.3333333333333333,
              "#9c179e"
             ],
             [
              0.4444444444444444,
              "#bd3786"
             ],
             [
              0.5555555555555556,
              "#d8576b"
             ],
             [
              0.6666666666666666,
              "#ed7953"
             ],
             [
              0.7777777777777778,
              "#fb9f3a"
             ],
             [
              0.8888888888888888,
              "#fdca26"
             ],
             [
              1,
              "#f0f921"
             ]
            ],
            "type": "histogram2d"
           }
          ],
          "histogram2dcontour": [
           {
            "colorbar": {
             "outlinewidth": 0,
             "ticks": ""
            },
            "colorscale": [
             [
              0,
              "#0d0887"
             ],
             [
              0.1111111111111111,
              "#46039f"
             ],
             [
              0.2222222222222222,
              "#7201a8"
             ],
             [
              0.3333333333333333,
              "#9c179e"
             ],
             [
              0.4444444444444444,
              "#bd3786"
             ],
             [
              0.5555555555555556,
              "#d8576b"
             ],
             [
              0.6666666666666666,
              "#ed7953"
             ],
             [
              0.7777777777777778,
              "#fb9f3a"
             ],
             [
              0.8888888888888888,
              "#fdca26"
             ],
             [
              1,
              "#f0f921"
             ]
            ],
            "type": "histogram2dcontour"
           }
          ],
          "mesh3d": [
           {
            "colorbar": {
             "outlinewidth": 0,
             "ticks": ""
            },
            "type": "mesh3d"
           }
          ],
          "parcoords": [
           {
            "line": {
             "colorbar": {
              "outlinewidth": 0,
              "ticks": ""
             }
            },
            "type": "parcoords"
           }
          ],
          "pie": [
           {
            "automargin": true,
            "type": "pie"
           }
          ],
          "scatter": [
           {
            "fillpattern": {
             "fillmode": "overlay",
             "size": 10,
             "solidity": 0.2
            },
            "type": "scatter"
           }
          ],
          "scatter3d": [
           {
            "line": {
             "colorbar": {
              "outlinewidth": 0,
              "ticks": ""
             }
            },
            "marker": {
             "colorbar": {
              "outlinewidth": 0,
              "ticks": ""
             }
            },
            "type": "scatter3d"
           }
          ],
          "scattercarpet": [
           {
            "marker": {
             "colorbar": {
              "outlinewidth": 0,
              "ticks": ""
             }
            },
            "type": "scattercarpet"
           }
          ],
          "scattergeo": [
           {
            "marker": {
             "colorbar": {
              "outlinewidth": 0,
              "ticks": ""
             }
            },
            "type": "scattergeo"
           }
          ],
          "scattergl": [
           {
            "marker": {
             "colorbar": {
              "outlinewidth": 0,
              "ticks": ""
             }
            },
            "type": "scattergl"
           }
          ],
          "scattermapbox": [
           {
            "marker": {
             "colorbar": {
              "outlinewidth": 0,
              "ticks": ""
             }
            },
            "type": "scattermapbox"
           }
          ],
          "scatterpolar": [
           {
            "marker": {
             "colorbar": {
              "outlinewidth": 0,
              "ticks": ""
             }
            },
            "type": "scatterpolar"
           }
          ],
          "scatterpolargl": [
           {
            "marker": {
             "colorbar": {
              "outlinewidth": 0,
              "ticks": ""
             }
            },
            "type": "scatterpolargl"
           }
          ],
          "scatterternary": [
           {
            "marker": {
             "colorbar": {
              "outlinewidth": 0,
              "ticks": ""
             }
            },
            "type": "scatterternary"
           }
          ],
          "surface": [
           {
            "colorbar": {
             "outlinewidth": 0,
             "ticks": ""
            },
            "colorscale": [
             [
              0,
              "#0d0887"
             ],
             [
              0.1111111111111111,
              "#46039f"
             ],
             [
              0.2222222222222222,
              "#7201a8"
             ],
             [
              0.3333333333333333,
              "#9c179e"
             ],
             [
              0.4444444444444444,
              "#bd3786"
             ],
             [
              0.5555555555555556,
              "#d8576b"
             ],
             [
              0.6666666666666666,
              "#ed7953"
             ],
             [
              0.7777777777777778,
              "#fb9f3a"
             ],
             [
              0.8888888888888888,
              "#fdca26"
             ],
             [
              1,
              "#f0f921"
             ]
            ],
            "type": "surface"
           }
          ],
          "table": [
           {
            "cells": {
             "fill": {
              "color": "#EBF0F8"
             },
             "line": {
              "color": "white"
             }
            },
            "header": {
             "fill": {
              "color": "#C8D4E3"
             },
             "line": {
              "color": "white"
             }
            },
            "type": "table"
           }
          ]
         },
         "layout": {
          "annotationdefaults": {
           "arrowcolor": "#2a3f5f",
           "arrowhead": 0,
           "arrowwidth": 1
          },
          "autotypenumbers": "strict",
          "coloraxis": {
           "colorbar": {
            "outlinewidth": 0,
            "ticks": ""
           }
          },
          "colorscale": {
           "diverging": [
            [
             0,
             "#8e0152"
            ],
            [
             0.1,
             "#c51b7d"
            ],
            [
             0.2,
             "#de77ae"
            ],
            [
             0.3,
             "#f1b6da"
            ],
            [
             0.4,
             "#fde0ef"
            ],
            [
             0.5,
             "#f7f7f7"
            ],
            [
             0.6,
             "#e6f5d0"
            ],
            [
             0.7,
             "#b8e186"
            ],
            [
             0.8,
             "#7fbc41"
            ],
            [
             0.9,
             "#4d9221"
            ],
            [
             1,
             "#276419"
            ]
           ],
           "sequential": [
            [
             0,
             "#0d0887"
            ],
            [
             0.1111111111111111,
             "#46039f"
            ],
            [
             0.2222222222222222,
             "#7201a8"
            ],
            [
             0.3333333333333333,
             "#9c179e"
            ],
            [
             0.4444444444444444,
             "#bd3786"
            ],
            [
             0.5555555555555556,
             "#d8576b"
            ],
            [
             0.6666666666666666,
             "#ed7953"
            ],
            [
             0.7777777777777778,
             "#fb9f3a"
            ],
            [
             0.8888888888888888,
             "#fdca26"
            ],
            [
             1,
             "#f0f921"
            ]
           ],
           "sequentialminus": [
            [
             0,
             "#0d0887"
            ],
            [
             0.1111111111111111,
             "#46039f"
            ],
            [
             0.2222222222222222,
             "#7201a8"
            ],
            [
             0.3333333333333333,
             "#9c179e"
            ],
            [
             0.4444444444444444,
             "#bd3786"
            ],
            [
             0.5555555555555556,
             "#d8576b"
            ],
            [
             0.6666666666666666,
             "#ed7953"
            ],
            [
             0.7777777777777778,
             "#fb9f3a"
            ],
            [
             0.8888888888888888,
             "#fdca26"
            ],
            [
             1,
             "#f0f921"
            ]
           ]
          },
          "colorway": [
           "#636efa",
           "#EF553B",
           "#00cc96",
           "#ab63fa",
           "#FFA15A",
           "#19d3f3",
           "#FF6692",
           "#B6E880",
           "#FF97FF",
           "#FECB52"
          ],
          "font": {
           "color": "#2a3f5f"
          },
          "geo": {
           "bgcolor": "white",
           "lakecolor": "white",
           "landcolor": "#E5ECF6",
           "showlakes": true,
           "showland": true,
           "subunitcolor": "white"
          },
          "hoverlabel": {
           "align": "left"
          },
          "hovermode": "closest",
          "mapbox": {
           "style": "light"
          },
          "paper_bgcolor": "white",
          "plot_bgcolor": "#E5ECF6",
          "polar": {
           "angularaxis": {
            "gridcolor": "white",
            "linecolor": "white",
            "ticks": ""
           },
           "bgcolor": "#E5ECF6",
           "radialaxis": {
            "gridcolor": "white",
            "linecolor": "white",
            "ticks": ""
           }
          },
          "scene": {
           "xaxis": {
            "backgroundcolor": "#E5ECF6",
            "gridcolor": "white",
            "gridwidth": 2,
            "linecolor": "white",
            "showbackground": true,
            "ticks": "",
            "zerolinecolor": "white"
           },
           "yaxis": {
            "backgroundcolor": "#E5ECF6",
            "gridcolor": "white",
            "gridwidth": 2,
            "linecolor": "white",
            "showbackground": true,
            "ticks": "",
            "zerolinecolor": "white"
           },
           "zaxis": {
            "backgroundcolor": "#E5ECF6",
            "gridcolor": "white",
            "gridwidth": 2,
            "linecolor": "white",
            "showbackground": true,
            "ticks": "",
            "zerolinecolor": "white"
           }
          },
          "shapedefaults": {
           "line": {
            "color": "#2a3f5f"
           }
          },
          "ternary": {
           "aaxis": {
            "gridcolor": "white",
            "linecolor": "white",
            "ticks": ""
           },
           "baxis": {
            "gridcolor": "white",
            "linecolor": "white",
            "ticks": ""
           },
           "bgcolor": "#E5ECF6",
           "caxis": {
            "gridcolor": "white",
            "linecolor": "white",
            "ticks": ""
           }
          },
          "title": {
           "x": 0.05
          },
          "xaxis": {
           "automargin": true,
           "gridcolor": "white",
           "linecolor": "white",
           "ticks": "",
           "title": {
            "standoff": 15
           },
           "zerolinecolor": "white",
           "zerolinewidth": 2
          },
          "yaxis": {
           "automargin": true,
           "gridcolor": "white",
           "linecolor": "white",
           "ticks": "",
           "title": {
            "standoff": 15
           },
           "zerolinecolor": "white",
           "zerolinewidth": 2
          }
         }
        },
        "xaxis": {
         "anchor": "y",
         "domain": [
          0,
          1
         ],
         "title": {
          "text": "open_time"
         }
        },
        "yaxis": {
         "anchor": "x",
         "domain": [
          0,
          1
         ],
         "title": {
          "text": "profit"
         }
        }
       }
      },
      "text/html": [
       "<div>                            <div id=\"a6584511-5aa4-4eca-8964-2abb24ce7d41\" class=\"plotly-graph-div\" style=\"height:525px; width:100%;\"></div>            <script type=\"text/javascript\">                require([\"plotly\"], function(Plotly) {                    window.PLOTLYENV=window.PLOTLYENV || {};                                    if (document.getElementById(\"a6584511-5aa4-4eca-8964-2abb24ce7d41\")) {                    Plotly.newPlot(                        \"a6584511-5aa4-4eca-8964-2abb24ce7d41\",                        [{\"hovertemplate\":\"open_time=%{x}<br>profit=%{y}<extra></extra>\",\"legendgroup\":\"\",\"line\":{\"color\":\"#636efa\",\"dash\":\"solid\"},\"marker\":{\"symbol\":\"circle\"},\"mode\":\"lines\",\"name\":\"\",\"orientation\":\"v\",\"showlegend\":false,\"x\":[\"2023-05-10T20:16:40.544196\",\"2023-05-10T20:50:49.296963\",\"2023-05-10T20:51:16.902684\",\"2023-05-10T20:53:20.182227\",\"2023-05-10T20:53:33.039178\",\"2023-05-10T20:55:30.137882\"],\"xaxis\":\"x\",\"y\":[0.008009999999998399,-0.002680000000000291,-0.0024500000000007276,0.002860000000000582,-0.002079999999998108,-0.0019899999999979626],\"yaxis\":\"y\",\"type\":\"scatter\"}],                        {\"template\":{\"data\":{\"histogram2dcontour\":[{\"type\":\"histogram2dcontour\",\"colorbar\":{\"outlinewidth\":0,\"ticks\":\"\"},\"colorscale\":[[0.0,\"#0d0887\"],[0.1111111111111111,\"#46039f\"],[0.2222222222222222,\"#7201a8\"],[0.3333333333333333,\"#9c179e\"],[0.4444444444444444,\"#bd3786\"],[0.5555555555555556,\"#d8576b\"],[0.6666666666666666,\"#ed7953\"],[0.7777777777777778,\"#fb9f3a\"],[0.8888888888888888,\"#fdca26\"],[1.0,\"#f0f921\"]]}],\"choropleth\":[{\"type\":\"choropleth\",\"colorbar\":{\"outlinewidth\":0,\"ticks\":\"\"}}],\"histogram2d\":[{\"type\":\"histogram2d\",\"colorbar\":{\"outlinewidth\":0,\"ticks\":\"\"},\"colorscale\":[[0.0,\"#0d0887\"],[0.1111111111111111,\"#46039f\"],[0.2222222222222222,\"#7201a8\"],[0.3333333333333333,\"#9c179e\"],[0.4444444444444444,\"#bd3786\"],[0.5555555555555556,\"#d8576b\"],[0.6666666666666666,\"#ed7953\"],[0.7777777777777778,\"#fb9f3a\"],[0.8888888888888888,\"#fdca26\"],[1.0,\"#f0f921\"]]}],\"heatmap\":[{\"type\":\"heatmap\",\"colorbar\":{\"outlinewidth\":0,\"ticks\":\"\"},\"colorscale\":[[0.0,\"#0d0887\"],[0.1111111111111111,\"#46039f\"],[0.2222222222222222,\"#7201a8\"],[0.3333333333333333,\"#9c179e\"],[0.4444444444444444,\"#bd3786\"],[0.5555555555555556,\"#d8576b\"],[0.6666666666666666,\"#ed7953\"],[0.7777777777777778,\"#fb9f3a\"],[0.8888888888888888,\"#fdca26\"],[1.0,\"#f0f921\"]]}],\"heatmapgl\":[{\"type\":\"heatmapgl\",\"colorbar\":{\"outlinewidth\":0,\"ticks\":\"\"},\"colorscale\":[[0.0,\"#0d0887\"],[0.1111111111111111,\"#46039f\"],[0.2222222222222222,\"#7201a8\"],[0.3333333333333333,\"#9c179e\"],[0.4444444444444444,\"#bd3786\"],[0.5555555555555556,\"#d8576b\"],[0.6666666666666666,\"#ed7953\"],[0.7777777777777778,\"#fb9f3a\"],[0.8888888888888888,\"#fdca26\"],[1.0,\"#f0f921\"]]}],\"contourcarpet\":[{\"type\":\"contourcarpet\",\"colorbar\":{\"outlinewidth\":0,\"ticks\":\"\"}}],\"contour\":[{\"type\":\"contour\",\"colorbar\":{\"outlinewidth\":0,\"ticks\":\"\"},\"colorscale\":[[0.0,\"#0d0887\"],[0.1111111111111111,\"#46039f\"],[0.2222222222222222,\"#7201a8\"],[0.3333333333333333,\"#9c179e\"],[0.4444444444444444,\"#bd3786\"],[0.5555555555555556,\"#d8576b\"],[0.6666666666666666,\"#ed7953\"],[0.7777777777777778,\"#fb9f3a\"],[0.8888888888888888,\"#fdca26\"],[1.0,\"#f0f921\"]]}],\"surface\":[{\"type\":\"surface\",\"colorbar\":{\"outlinewidth\":0,\"ticks\":\"\"},\"colorscale\":[[0.0,\"#0d0887\"],[0.1111111111111111,\"#46039f\"],[0.2222222222222222,\"#7201a8\"],[0.3333333333333333,\"#9c179e\"],[0.4444444444444444,\"#bd3786\"],[0.5555555555555556,\"#d8576b\"],[0.6666666666666666,\"#ed7953\"],[0.7777777777777778,\"#fb9f3a\"],[0.8888888888888888,\"#fdca26\"],[1.0,\"#f0f921\"]]}],\"mesh3d\":[{\"type\":\"mesh3d\",\"colorbar\":{\"outlinewidth\":0,\"ticks\":\"\"}}],\"scatter\":[{\"fillpattern\":{\"fillmode\":\"overlay\",\"size\":10,\"solidity\":0.2},\"type\":\"scatter\"}],\"parcoords\":[{\"type\":\"parcoords\",\"line\":{\"colorbar\":{\"outlinewidth\":0,\"ticks\":\"\"}}}],\"scatterpolargl\":[{\"type\":\"scatterpolargl\",\"marker\":{\"colorbar\":{\"outlinewidth\":0,\"ticks\":\"\"}}}],\"bar\":[{\"error_x\":{\"color\":\"#2a3f5f\"},\"error_y\":{\"color\":\"#2a3f5f\"},\"marker\":{\"line\":{\"color\":\"#E5ECF6\",\"width\":0.5},\"pattern\":{\"fillmode\":\"overlay\",\"size\":10,\"solidity\":0.2}},\"type\":\"bar\"}],\"scattergeo\":[{\"type\":\"scattergeo\",\"marker\":{\"colorbar\":{\"outlinewidth\":0,\"ticks\":\"\"}}}],\"scatterpolar\":[{\"type\":\"scatterpolar\",\"marker\":{\"colorbar\":{\"outlinewidth\":0,\"ticks\":\"\"}}}],\"histogram\":[{\"marker\":{\"pattern\":{\"fillmode\":\"overlay\",\"size\":10,\"solidity\":0.2}},\"type\":\"histogram\"}],\"scattergl\":[{\"type\":\"scattergl\",\"marker\":{\"colorbar\":{\"outlinewidth\":0,\"ticks\":\"\"}}}],\"scatter3d\":[{\"type\":\"scatter3d\",\"line\":{\"colorbar\":{\"outlinewidth\":0,\"ticks\":\"\"}},\"marker\":{\"colorbar\":{\"outlinewidth\":0,\"ticks\":\"\"}}}],\"scattermapbox\":[{\"type\":\"scattermapbox\",\"marker\":{\"colorbar\":{\"outlinewidth\":0,\"ticks\":\"\"}}}],\"scatterternary\":[{\"type\":\"scatterternary\",\"marker\":{\"colorbar\":{\"outlinewidth\":0,\"ticks\":\"\"}}}],\"scattercarpet\":[{\"type\":\"scattercarpet\",\"marker\":{\"colorbar\":{\"outlinewidth\":0,\"ticks\":\"\"}}}],\"carpet\":[{\"aaxis\":{\"endlinecolor\":\"#2a3f5f\",\"gridcolor\":\"white\",\"linecolor\":\"white\",\"minorgridcolor\":\"white\",\"startlinecolor\":\"#2a3f5f\"},\"baxis\":{\"endlinecolor\":\"#2a3f5f\",\"gridcolor\":\"white\",\"linecolor\":\"white\",\"minorgridcolor\":\"white\",\"startlinecolor\":\"#2a3f5f\"},\"type\":\"carpet\"}],\"table\":[{\"cells\":{\"fill\":{\"color\":\"#EBF0F8\"},\"line\":{\"color\":\"white\"}},\"header\":{\"fill\":{\"color\":\"#C8D4E3\"},\"line\":{\"color\":\"white\"}},\"type\":\"table\"}],\"barpolar\":[{\"marker\":{\"line\":{\"color\":\"#E5ECF6\",\"width\":0.5},\"pattern\":{\"fillmode\":\"overlay\",\"size\":10,\"solidity\":0.2}},\"type\":\"barpolar\"}],\"pie\":[{\"automargin\":true,\"type\":\"pie\"}]},\"layout\":{\"autotypenumbers\":\"strict\",\"colorway\":[\"#636efa\",\"#EF553B\",\"#00cc96\",\"#ab63fa\",\"#FFA15A\",\"#19d3f3\",\"#FF6692\",\"#B6E880\",\"#FF97FF\",\"#FECB52\"],\"font\":{\"color\":\"#2a3f5f\"},\"hovermode\":\"closest\",\"hoverlabel\":{\"align\":\"left\"},\"paper_bgcolor\":\"white\",\"plot_bgcolor\":\"#E5ECF6\",\"polar\":{\"bgcolor\":\"#E5ECF6\",\"angularaxis\":{\"gridcolor\":\"white\",\"linecolor\":\"white\",\"ticks\":\"\"},\"radialaxis\":{\"gridcolor\":\"white\",\"linecolor\":\"white\",\"ticks\":\"\"}},\"ternary\":{\"bgcolor\":\"#E5ECF6\",\"aaxis\":{\"gridcolor\":\"white\",\"linecolor\":\"white\",\"ticks\":\"\"},\"baxis\":{\"gridcolor\":\"white\",\"linecolor\":\"white\",\"ticks\":\"\"},\"caxis\":{\"gridcolor\":\"white\",\"linecolor\":\"white\",\"ticks\":\"\"}},\"coloraxis\":{\"colorbar\":{\"outlinewidth\":0,\"ticks\":\"\"}},\"colorscale\":{\"sequential\":[[0.0,\"#0d0887\"],[0.1111111111111111,\"#46039f\"],[0.2222222222222222,\"#7201a8\"],[0.3333333333333333,\"#9c179e\"],[0.4444444444444444,\"#bd3786\"],[0.5555555555555556,\"#d8576b\"],[0.6666666666666666,\"#ed7953\"],[0.7777777777777778,\"#fb9f3a\"],[0.8888888888888888,\"#fdca26\"],[1.0,\"#f0f921\"]],\"sequentialminus\":[[0.0,\"#0d0887\"],[0.1111111111111111,\"#46039f\"],[0.2222222222222222,\"#7201a8\"],[0.3333333333333333,\"#9c179e\"],[0.4444444444444444,\"#bd3786\"],[0.5555555555555556,\"#d8576b\"],[0.6666666666666666,\"#ed7953\"],[0.7777777777777778,\"#fb9f3a\"],[0.8888888888888888,\"#fdca26\"],[1.0,\"#f0f921\"]],\"diverging\":[[0,\"#8e0152\"],[0.1,\"#c51b7d\"],[0.2,\"#de77ae\"],[0.3,\"#f1b6da\"],[0.4,\"#fde0ef\"],[0.5,\"#f7f7f7\"],[0.6,\"#e6f5d0\"],[0.7,\"#b8e186\"],[0.8,\"#7fbc41\"],[0.9,\"#4d9221\"],[1,\"#276419\"]]},\"xaxis\":{\"gridcolor\":\"white\",\"linecolor\":\"white\",\"ticks\":\"\",\"title\":{\"standoff\":15},\"zerolinecolor\":\"white\",\"automargin\":true,\"zerolinewidth\":2},\"yaxis\":{\"gridcolor\":\"white\",\"linecolor\":\"white\",\"ticks\":\"\",\"title\":{\"standoff\":15},\"zerolinecolor\":\"white\",\"automargin\":true,\"zerolinewidth\":2},\"scene\":{\"xaxis\":{\"backgroundcolor\":\"#E5ECF6\",\"gridcolor\":\"white\",\"linecolor\":\"white\",\"showbackground\":true,\"ticks\":\"\",\"zerolinecolor\":\"white\",\"gridwidth\":2},\"yaxis\":{\"backgroundcolor\":\"#E5ECF6\",\"gridcolor\":\"white\",\"linecolor\":\"white\",\"showbackground\":true,\"ticks\":\"\",\"zerolinecolor\":\"white\",\"gridwidth\":2},\"zaxis\":{\"backgroundcolor\":\"#E5ECF6\",\"gridcolor\":\"white\",\"linecolor\":\"white\",\"showbackground\":true,\"ticks\":\"\",\"zerolinecolor\":\"white\",\"gridwidth\":2}},\"shapedefaults\":{\"line\":{\"color\":\"#2a3f5f\"}},\"annotationdefaults\":{\"arrowcolor\":\"#2a3f5f\",\"arrowhead\":0,\"arrowwidth\":1},\"geo\":{\"bgcolor\":\"white\",\"landcolor\":\"#E5ECF6\",\"subunitcolor\":\"white\",\"showland\":true,\"showlakes\":true,\"lakecolor\":\"white\"},\"title\":{\"x\":0.05},\"mapbox\":{\"style\":\"light\"}}},\"xaxis\":{\"anchor\":\"y\",\"domain\":[0.0,1.0],\"title\":{\"text\":\"open_time\"}},\"yaxis\":{\"anchor\":\"x\",\"domain\":[0.0,1.0],\"title\":{\"text\":\"profit\"}},\"legend\":{\"tracegroupgap\":0},\"margin\":{\"t\":60}},                        {\"responsive\": true}                    ).then(function(){\n",
       "                            \n",
       "var gd = document.getElementById('a6584511-5aa4-4eca-8964-2abb24ce7d41');\n",
       "var x = new MutationObserver(function (mutations, observer) {{\n",
       "        var display = window.getComputedStyle(gd).display;\n",
       "        if (!display || display === 'none') {{\n",
       "            console.log([gd, 'removed!']);\n",
       "            Plotly.purge(gd);\n",
       "            observer.disconnect();\n",
       "        }}\n",
       "}});\n",
       "\n",
       "// Listen for the removal of the full notebook cells\n",
       "var notebookContainer = gd.closest('#notebook-container');\n",
       "if (notebookContainer) {{\n",
       "    x.observe(notebookContainer, {childList: true});\n",
       "}}\n",
       "\n",
       "// Listen for the clearing of the current output cell\n",
       "var outputEl = gd.closest('.output');\n",
       "if (outputEl) {{\n",
       "    x.observe(outputEl, {childList: true});\n",
       "}}\n",
       "\n",
       "                        })                };                });            </script>        </div>"
      ]
     },
     "metadata": {},
     "output_type": "display_data"
    }
   ],
   "source": [
    "px.line(trades, x=\"open_time\", y=\"profit\")\n"
   ]
  },
  {
   "cell_type": "code",
   "execution_count": 18,
   "metadata": {},
   "outputs": [
    {
     "data": {
      "application/vnd.plotly.v1+json": {
       "config": {
        "plotlyServerURL": "https://plot.ly"
       },
       "data": [
        {
         "hovertemplate": "open_time=%{x}<br>cum_profit=%{y}<extra></extra>",
         "legendgroup": "",
         "line": {
          "color": "#636efa",
          "dash": "solid"
         },
         "marker": {
          "symbol": "circle"
         },
         "mode": "lines",
         "name": "",
         "orientation": "v",
         "showlegend": false,
         "type": "scatter",
         "x": [
          "2023-05-10T20:16:40.544196",
          "2023-05-10T20:50:49.296963",
          "2023-05-10T20:51:16.902684",
          "2023-05-10T20:53:20.182227",
          "2023-05-10T20:53:33.039178",
          "2023-05-10T20:55:30.137882"
         ],
         "xaxis": "x",
         "y": [
          0.008009999999998399,
          0.005329999999998107,
          0.0028799999999973794,
          0.005739999999997962,
          0.003659999999999854,
          0.0016700000000018913
         ],
         "yaxis": "y"
        }
       ],
       "layout": {
        "legend": {
         "tracegroupgap": 0
        },
        "margin": {
         "t": 60
        },
        "template": {
         "data": {
          "bar": [
           {
            "error_x": {
             "color": "#2a3f5f"
            },
            "error_y": {
             "color": "#2a3f5f"
            },
            "marker": {
             "line": {
              "color": "#E5ECF6",
              "width": 0.5
             },
             "pattern": {
              "fillmode": "overlay",
              "size": 10,
              "solidity": 0.2
             }
            },
            "type": "bar"
           }
          ],
          "barpolar": [
           {
            "marker": {
             "line": {
              "color": "#E5ECF6",
              "width": 0.5
             },
             "pattern": {
              "fillmode": "overlay",
              "size": 10,
              "solidity": 0.2
             }
            },
            "type": "barpolar"
           }
          ],
          "carpet": [
           {
            "aaxis": {
             "endlinecolor": "#2a3f5f",
             "gridcolor": "white",
             "linecolor": "white",
             "minorgridcolor": "white",
             "startlinecolor": "#2a3f5f"
            },
            "baxis": {
             "endlinecolor": "#2a3f5f",
             "gridcolor": "white",
             "linecolor": "white",
             "minorgridcolor": "white",
             "startlinecolor": "#2a3f5f"
            },
            "type": "carpet"
           }
          ],
          "choropleth": [
           {
            "colorbar": {
             "outlinewidth": 0,
             "ticks": ""
            },
            "type": "choropleth"
           }
          ],
          "contour": [
           {
            "colorbar": {
             "outlinewidth": 0,
             "ticks": ""
            },
            "colorscale": [
             [
              0,
              "#0d0887"
             ],
             [
              0.1111111111111111,
              "#46039f"
             ],
             [
              0.2222222222222222,
              "#7201a8"
             ],
             [
              0.3333333333333333,
              "#9c179e"
             ],
             [
              0.4444444444444444,
              "#bd3786"
             ],
             [
              0.5555555555555556,
              "#d8576b"
             ],
             [
              0.6666666666666666,
              "#ed7953"
             ],
             [
              0.7777777777777778,
              "#fb9f3a"
             ],
             [
              0.8888888888888888,
              "#fdca26"
             ],
             [
              1,
              "#f0f921"
             ]
            ],
            "type": "contour"
           }
          ],
          "contourcarpet": [
           {
            "colorbar": {
             "outlinewidth": 0,
             "ticks": ""
            },
            "type": "contourcarpet"
           }
          ],
          "heatmap": [
           {
            "colorbar": {
             "outlinewidth": 0,
             "ticks": ""
            },
            "colorscale": [
             [
              0,
              "#0d0887"
             ],
             [
              0.1111111111111111,
              "#46039f"
             ],
             [
              0.2222222222222222,
              "#7201a8"
             ],
             [
              0.3333333333333333,
              "#9c179e"
             ],
             [
              0.4444444444444444,
              "#bd3786"
             ],
             [
              0.5555555555555556,
              "#d8576b"
             ],
             [
              0.6666666666666666,
              "#ed7953"
             ],
             [
              0.7777777777777778,
              "#fb9f3a"
             ],
             [
              0.8888888888888888,
              "#fdca26"
             ],
             [
              1,
              "#f0f921"
             ]
            ],
            "type": "heatmap"
           }
          ],
          "heatmapgl": [
           {
            "colorbar": {
             "outlinewidth": 0,
             "ticks": ""
            },
            "colorscale": [
             [
              0,
              "#0d0887"
             ],
             [
              0.1111111111111111,
              "#46039f"
             ],
             [
              0.2222222222222222,
              "#7201a8"
             ],
             [
              0.3333333333333333,
              "#9c179e"
             ],
             [
              0.4444444444444444,
              "#bd3786"
             ],
             [
              0.5555555555555556,
              "#d8576b"
             ],
             [
              0.6666666666666666,
              "#ed7953"
             ],
             [
              0.7777777777777778,
              "#fb9f3a"
             ],
             [
              0.8888888888888888,
              "#fdca26"
             ],
             [
              1,
              "#f0f921"
             ]
            ],
            "type": "heatmapgl"
           }
          ],
          "histogram": [
           {
            "marker": {
             "pattern": {
              "fillmode": "overlay",
              "size": 10,
              "solidity": 0.2
             }
            },
            "type": "histogram"
           }
          ],
          "histogram2d": [
           {
            "colorbar": {
             "outlinewidth": 0,
             "ticks": ""
            },
            "colorscale": [
             [
              0,
              "#0d0887"
             ],
             [
              0.1111111111111111,
              "#46039f"
             ],
             [
              0.2222222222222222,
              "#7201a8"
             ],
             [
              0.3333333333333333,
              "#9c179e"
             ],
             [
              0.4444444444444444,
              "#bd3786"
             ],
             [
              0.5555555555555556,
              "#d8576b"
             ],
             [
              0.6666666666666666,
              "#ed7953"
             ],
             [
              0.7777777777777778,
              "#fb9f3a"
             ],
             [
              0.8888888888888888,
              "#fdca26"
             ],
             [
              1,
              "#f0f921"
             ]
            ],
            "type": "histogram2d"
           }
          ],
          "histogram2dcontour": [
           {
            "colorbar": {
             "outlinewidth": 0,
             "ticks": ""
            },
            "colorscale": [
             [
              0,
              "#0d0887"
             ],
             [
              0.1111111111111111,
              "#46039f"
             ],
             [
              0.2222222222222222,
              "#7201a8"
             ],
             [
              0.3333333333333333,
              "#9c179e"
             ],
             [
              0.4444444444444444,
              "#bd3786"
             ],
             [
              0.5555555555555556,
              "#d8576b"
             ],
             [
              0.6666666666666666,
              "#ed7953"
             ],
             [
              0.7777777777777778,
              "#fb9f3a"
             ],
             [
              0.8888888888888888,
              "#fdca26"
             ],
             [
              1,
              "#f0f921"
             ]
            ],
            "type": "histogram2dcontour"
           }
          ],
          "mesh3d": [
           {
            "colorbar": {
             "outlinewidth": 0,
             "ticks": ""
            },
            "type": "mesh3d"
           }
          ],
          "parcoords": [
           {
            "line": {
             "colorbar": {
              "outlinewidth": 0,
              "ticks": ""
             }
            },
            "type": "parcoords"
           }
          ],
          "pie": [
           {
            "automargin": true,
            "type": "pie"
           }
          ],
          "scatter": [
           {
            "fillpattern": {
             "fillmode": "overlay",
             "size": 10,
             "solidity": 0.2
            },
            "type": "scatter"
           }
          ],
          "scatter3d": [
           {
            "line": {
             "colorbar": {
              "outlinewidth": 0,
              "ticks": ""
             }
            },
            "marker": {
             "colorbar": {
              "outlinewidth": 0,
              "ticks": ""
             }
            },
            "type": "scatter3d"
           }
          ],
          "scattercarpet": [
           {
            "marker": {
             "colorbar": {
              "outlinewidth": 0,
              "ticks": ""
             }
            },
            "type": "scattercarpet"
           }
          ],
          "scattergeo": [
           {
            "marker": {
             "colorbar": {
              "outlinewidth": 0,
              "ticks": ""
             }
            },
            "type": "scattergeo"
           }
          ],
          "scattergl": [
           {
            "marker": {
             "colorbar": {
              "outlinewidth": 0,
              "ticks": ""
             }
            },
            "type": "scattergl"
           }
          ],
          "scattermapbox": [
           {
            "marker": {
             "colorbar": {
              "outlinewidth": 0,
              "ticks": ""
             }
            },
            "type": "scattermapbox"
           }
          ],
          "scatterpolar": [
           {
            "marker": {
             "colorbar": {
              "outlinewidth": 0,
              "ticks": ""
             }
            },
            "type": "scatterpolar"
           }
          ],
          "scatterpolargl": [
           {
            "marker": {
             "colorbar": {
              "outlinewidth": 0,
              "ticks": ""
             }
            },
            "type": "scatterpolargl"
           }
          ],
          "scatterternary": [
           {
            "marker": {
             "colorbar": {
              "outlinewidth": 0,
              "ticks": ""
             }
            },
            "type": "scatterternary"
           }
          ],
          "surface": [
           {
            "colorbar": {
             "outlinewidth": 0,
             "ticks": ""
            },
            "colorscale": [
             [
              0,
              "#0d0887"
             ],
             [
              0.1111111111111111,
              "#46039f"
             ],
             [
              0.2222222222222222,
              "#7201a8"
             ],
             [
              0.3333333333333333,
              "#9c179e"
             ],
             [
              0.4444444444444444,
              "#bd3786"
             ],
             [
              0.5555555555555556,
              "#d8576b"
             ],
             [
              0.6666666666666666,
              "#ed7953"
             ],
             [
              0.7777777777777778,
              "#fb9f3a"
             ],
             [
              0.8888888888888888,
              "#fdca26"
             ],
             [
              1,
              "#f0f921"
             ]
            ],
            "type": "surface"
           }
          ],
          "table": [
           {
            "cells": {
             "fill": {
              "color": "#EBF0F8"
             },
             "line": {
              "color": "white"
             }
            },
            "header": {
             "fill": {
              "color": "#C8D4E3"
             },
             "line": {
              "color": "white"
             }
            },
            "type": "table"
           }
          ]
         },
         "layout": {
          "annotationdefaults": {
           "arrowcolor": "#2a3f5f",
           "arrowhead": 0,
           "arrowwidth": 1
          },
          "autotypenumbers": "strict",
          "coloraxis": {
           "colorbar": {
            "outlinewidth": 0,
            "ticks": ""
           }
          },
          "colorscale": {
           "diverging": [
            [
             0,
             "#8e0152"
            ],
            [
             0.1,
             "#c51b7d"
            ],
            [
             0.2,
             "#de77ae"
            ],
            [
             0.3,
             "#f1b6da"
            ],
            [
             0.4,
             "#fde0ef"
            ],
            [
             0.5,
             "#f7f7f7"
            ],
            [
             0.6,
             "#e6f5d0"
            ],
            [
             0.7,
             "#b8e186"
            ],
            [
             0.8,
             "#7fbc41"
            ],
            [
             0.9,
             "#4d9221"
            ],
            [
             1,
             "#276419"
            ]
           ],
           "sequential": [
            [
             0,
             "#0d0887"
            ],
            [
             0.1111111111111111,
             "#46039f"
            ],
            [
             0.2222222222222222,
             "#7201a8"
            ],
            [
             0.3333333333333333,
             "#9c179e"
            ],
            [
             0.4444444444444444,
             "#bd3786"
            ],
            [
             0.5555555555555556,
             "#d8576b"
            ],
            [
             0.6666666666666666,
             "#ed7953"
            ],
            [
             0.7777777777777778,
             "#fb9f3a"
            ],
            [
             0.8888888888888888,
             "#fdca26"
            ],
            [
             1,
             "#f0f921"
            ]
           ],
           "sequentialminus": [
            [
             0,
             "#0d0887"
            ],
            [
             0.1111111111111111,
             "#46039f"
            ],
            [
             0.2222222222222222,
             "#7201a8"
            ],
            [
             0.3333333333333333,
             "#9c179e"
            ],
            [
             0.4444444444444444,
             "#bd3786"
            ],
            [
             0.5555555555555556,
             "#d8576b"
            ],
            [
             0.6666666666666666,
             "#ed7953"
            ],
            [
             0.7777777777777778,
             "#fb9f3a"
            ],
            [
             0.8888888888888888,
             "#fdca26"
            ],
            [
             1,
             "#f0f921"
            ]
           ]
          },
          "colorway": [
           "#636efa",
           "#EF553B",
           "#00cc96",
           "#ab63fa",
           "#FFA15A",
           "#19d3f3",
           "#FF6692",
           "#B6E880",
           "#FF97FF",
           "#FECB52"
          ],
          "font": {
           "color": "#2a3f5f"
          },
          "geo": {
           "bgcolor": "white",
           "lakecolor": "white",
           "landcolor": "#E5ECF6",
           "showlakes": true,
           "showland": true,
           "subunitcolor": "white"
          },
          "hoverlabel": {
           "align": "left"
          },
          "hovermode": "closest",
          "mapbox": {
           "style": "light"
          },
          "paper_bgcolor": "white",
          "plot_bgcolor": "#E5ECF6",
          "polar": {
           "angularaxis": {
            "gridcolor": "white",
            "linecolor": "white",
            "ticks": ""
           },
           "bgcolor": "#E5ECF6",
           "radialaxis": {
            "gridcolor": "white",
            "linecolor": "white",
            "ticks": ""
           }
          },
          "scene": {
           "xaxis": {
            "backgroundcolor": "#E5ECF6",
            "gridcolor": "white",
            "gridwidth": 2,
            "linecolor": "white",
            "showbackground": true,
            "ticks": "",
            "zerolinecolor": "white"
           },
           "yaxis": {
            "backgroundcolor": "#E5ECF6",
            "gridcolor": "white",
            "gridwidth": 2,
            "linecolor": "white",
            "showbackground": true,
            "ticks": "",
            "zerolinecolor": "white"
           },
           "zaxis": {
            "backgroundcolor": "#E5ECF6",
            "gridcolor": "white",
            "gridwidth": 2,
            "linecolor": "white",
            "showbackground": true,
            "ticks": "",
            "zerolinecolor": "white"
           }
          },
          "shapedefaults": {
           "line": {
            "color": "#2a3f5f"
           }
          },
          "ternary": {
           "aaxis": {
            "gridcolor": "white",
            "linecolor": "white",
            "ticks": ""
           },
           "baxis": {
            "gridcolor": "white",
            "linecolor": "white",
            "ticks": ""
           },
           "bgcolor": "#E5ECF6",
           "caxis": {
            "gridcolor": "white",
            "linecolor": "white",
            "ticks": ""
           }
          },
          "title": {
           "x": 0.05
          },
          "xaxis": {
           "automargin": true,
           "gridcolor": "white",
           "linecolor": "white",
           "ticks": "",
           "title": {
            "standoff": 15
           },
           "zerolinecolor": "white",
           "zerolinewidth": 2
          },
          "yaxis": {
           "automargin": true,
           "gridcolor": "white",
           "linecolor": "white",
           "ticks": "",
           "title": {
            "standoff": 15
           },
           "zerolinecolor": "white",
           "zerolinewidth": 2
          }
         }
        },
        "xaxis": {
         "anchor": "y",
         "domain": [
          0,
          1
         ],
         "title": {
          "text": "open_time"
         }
        },
        "yaxis": {
         "anchor": "x",
         "domain": [
          0,
          1
         ],
         "title": {
          "text": "cum_profit"
         }
        }
       }
      },
      "text/html": [
       "<div>                            <div id=\"aa412192-582e-4045-9bb3-197280d1a2ee\" class=\"plotly-graph-div\" style=\"height:525px; width:100%;\"></div>            <script type=\"text/javascript\">                require([\"plotly\"], function(Plotly) {                    window.PLOTLYENV=window.PLOTLYENV || {};                                    if (document.getElementById(\"aa412192-582e-4045-9bb3-197280d1a2ee\")) {                    Plotly.newPlot(                        \"aa412192-582e-4045-9bb3-197280d1a2ee\",                        [{\"hovertemplate\":\"open_time=%{x}<br>cum_profit=%{y}<extra></extra>\",\"legendgroup\":\"\",\"line\":{\"color\":\"#636efa\",\"dash\":\"solid\"},\"marker\":{\"symbol\":\"circle\"},\"mode\":\"lines\",\"name\":\"\",\"orientation\":\"v\",\"showlegend\":false,\"x\":[\"2023-05-10T20:16:40.544196\",\"2023-05-10T20:50:49.296963\",\"2023-05-10T20:51:16.902684\",\"2023-05-10T20:53:20.182227\",\"2023-05-10T20:53:33.039178\",\"2023-05-10T20:55:30.137882\"],\"xaxis\":\"x\",\"y\":[0.008009999999998399,0.005329999999998107,0.0028799999999973794,0.005739999999997962,0.003659999999999854,0.0016700000000018913],\"yaxis\":\"y\",\"type\":\"scatter\"}],                        {\"template\":{\"data\":{\"histogram2dcontour\":[{\"type\":\"histogram2dcontour\",\"colorbar\":{\"outlinewidth\":0,\"ticks\":\"\"},\"colorscale\":[[0.0,\"#0d0887\"],[0.1111111111111111,\"#46039f\"],[0.2222222222222222,\"#7201a8\"],[0.3333333333333333,\"#9c179e\"],[0.4444444444444444,\"#bd3786\"],[0.5555555555555556,\"#d8576b\"],[0.6666666666666666,\"#ed7953\"],[0.7777777777777778,\"#fb9f3a\"],[0.8888888888888888,\"#fdca26\"],[1.0,\"#f0f921\"]]}],\"choropleth\":[{\"type\":\"choropleth\",\"colorbar\":{\"outlinewidth\":0,\"ticks\":\"\"}}],\"histogram2d\":[{\"type\":\"histogram2d\",\"colorbar\":{\"outlinewidth\":0,\"ticks\":\"\"},\"colorscale\":[[0.0,\"#0d0887\"],[0.1111111111111111,\"#46039f\"],[0.2222222222222222,\"#7201a8\"],[0.3333333333333333,\"#9c179e\"],[0.4444444444444444,\"#bd3786\"],[0.5555555555555556,\"#d8576b\"],[0.6666666666666666,\"#ed7953\"],[0.7777777777777778,\"#fb9f3a\"],[0.8888888888888888,\"#fdca26\"],[1.0,\"#f0f921\"]]}],\"heatmap\":[{\"type\":\"heatmap\",\"colorbar\":{\"outlinewidth\":0,\"ticks\":\"\"},\"colorscale\":[[0.0,\"#0d0887\"],[0.1111111111111111,\"#46039f\"],[0.2222222222222222,\"#7201a8\"],[0.3333333333333333,\"#9c179e\"],[0.4444444444444444,\"#bd3786\"],[0.5555555555555556,\"#d8576b\"],[0.6666666666666666,\"#ed7953\"],[0.7777777777777778,\"#fb9f3a\"],[0.8888888888888888,\"#fdca26\"],[1.0,\"#f0f921\"]]}],\"heatmapgl\":[{\"type\":\"heatmapgl\",\"colorbar\":{\"outlinewidth\":0,\"ticks\":\"\"},\"colorscale\":[[0.0,\"#0d0887\"],[0.1111111111111111,\"#46039f\"],[0.2222222222222222,\"#7201a8\"],[0.3333333333333333,\"#9c179e\"],[0.4444444444444444,\"#bd3786\"],[0.5555555555555556,\"#d8576b\"],[0.6666666666666666,\"#ed7953\"],[0.7777777777777778,\"#fb9f3a\"],[0.8888888888888888,\"#fdca26\"],[1.0,\"#f0f921\"]]}],\"contourcarpet\":[{\"type\":\"contourcarpet\",\"colorbar\":{\"outlinewidth\":0,\"ticks\":\"\"}}],\"contour\":[{\"type\":\"contour\",\"colorbar\":{\"outlinewidth\":0,\"ticks\":\"\"},\"colorscale\":[[0.0,\"#0d0887\"],[0.1111111111111111,\"#46039f\"],[0.2222222222222222,\"#7201a8\"],[0.3333333333333333,\"#9c179e\"],[0.4444444444444444,\"#bd3786\"],[0.5555555555555556,\"#d8576b\"],[0.6666666666666666,\"#ed7953\"],[0.7777777777777778,\"#fb9f3a\"],[0.8888888888888888,\"#fdca26\"],[1.0,\"#f0f921\"]]}],\"surface\":[{\"type\":\"surface\",\"colorbar\":{\"outlinewidth\":0,\"ticks\":\"\"},\"colorscale\":[[0.0,\"#0d0887\"],[0.1111111111111111,\"#46039f\"],[0.2222222222222222,\"#7201a8\"],[0.3333333333333333,\"#9c179e\"],[0.4444444444444444,\"#bd3786\"],[0.5555555555555556,\"#d8576b\"],[0.6666666666666666,\"#ed7953\"],[0.7777777777777778,\"#fb9f3a\"],[0.8888888888888888,\"#fdca26\"],[1.0,\"#f0f921\"]]}],\"mesh3d\":[{\"type\":\"mesh3d\",\"colorbar\":{\"outlinewidth\":0,\"ticks\":\"\"}}],\"scatter\":[{\"fillpattern\":{\"fillmode\":\"overlay\",\"size\":10,\"solidity\":0.2},\"type\":\"scatter\"}],\"parcoords\":[{\"type\":\"parcoords\",\"line\":{\"colorbar\":{\"outlinewidth\":0,\"ticks\":\"\"}}}],\"scatterpolargl\":[{\"type\":\"scatterpolargl\",\"marker\":{\"colorbar\":{\"outlinewidth\":0,\"ticks\":\"\"}}}],\"bar\":[{\"error_x\":{\"color\":\"#2a3f5f\"},\"error_y\":{\"color\":\"#2a3f5f\"},\"marker\":{\"line\":{\"color\":\"#E5ECF6\",\"width\":0.5},\"pattern\":{\"fillmode\":\"overlay\",\"size\":10,\"solidity\":0.2}},\"type\":\"bar\"}],\"scattergeo\":[{\"type\":\"scattergeo\",\"marker\":{\"colorbar\":{\"outlinewidth\":0,\"ticks\":\"\"}}}],\"scatterpolar\":[{\"type\":\"scatterpolar\",\"marker\":{\"colorbar\":{\"outlinewidth\":0,\"ticks\":\"\"}}}],\"histogram\":[{\"marker\":{\"pattern\":{\"fillmode\":\"overlay\",\"size\":10,\"solidity\":0.2}},\"type\":\"histogram\"}],\"scattergl\":[{\"type\":\"scattergl\",\"marker\":{\"colorbar\":{\"outlinewidth\":0,\"ticks\":\"\"}}}],\"scatter3d\":[{\"type\":\"scatter3d\",\"line\":{\"colorbar\":{\"outlinewidth\":0,\"ticks\":\"\"}},\"marker\":{\"colorbar\":{\"outlinewidth\":0,\"ticks\":\"\"}}}],\"scattermapbox\":[{\"type\":\"scattermapbox\",\"marker\":{\"colorbar\":{\"outlinewidth\":0,\"ticks\":\"\"}}}],\"scatterternary\":[{\"type\":\"scatterternary\",\"marker\":{\"colorbar\":{\"outlinewidth\":0,\"ticks\":\"\"}}}],\"scattercarpet\":[{\"type\":\"scattercarpet\",\"marker\":{\"colorbar\":{\"outlinewidth\":0,\"ticks\":\"\"}}}],\"carpet\":[{\"aaxis\":{\"endlinecolor\":\"#2a3f5f\",\"gridcolor\":\"white\",\"linecolor\":\"white\",\"minorgridcolor\":\"white\",\"startlinecolor\":\"#2a3f5f\"},\"baxis\":{\"endlinecolor\":\"#2a3f5f\",\"gridcolor\":\"white\",\"linecolor\":\"white\",\"minorgridcolor\":\"white\",\"startlinecolor\":\"#2a3f5f\"},\"type\":\"carpet\"}],\"table\":[{\"cells\":{\"fill\":{\"color\":\"#EBF0F8\"},\"line\":{\"color\":\"white\"}},\"header\":{\"fill\":{\"color\":\"#C8D4E3\"},\"line\":{\"color\":\"white\"}},\"type\":\"table\"}],\"barpolar\":[{\"marker\":{\"line\":{\"color\":\"#E5ECF6\",\"width\":0.5},\"pattern\":{\"fillmode\":\"overlay\",\"size\":10,\"solidity\":0.2}},\"type\":\"barpolar\"}],\"pie\":[{\"automargin\":true,\"type\":\"pie\"}]},\"layout\":{\"autotypenumbers\":\"strict\",\"colorway\":[\"#636efa\",\"#EF553B\",\"#00cc96\",\"#ab63fa\",\"#FFA15A\",\"#19d3f3\",\"#FF6692\",\"#B6E880\",\"#FF97FF\",\"#FECB52\"],\"font\":{\"color\":\"#2a3f5f\"},\"hovermode\":\"closest\",\"hoverlabel\":{\"align\":\"left\"},\"paper_bgcolor\":\"white\",\"plot_bgcolor\":\"#E5ECF6\",\"polar\":{\"bgcolor\":\"#E5ECF6\",\"angularaxis\":{\"gridcolor\":\"white\",\"linecolor\":\"white\",\"ticks\":\"\"},\"radialaxis\":{\"gridcolor\":\"white\",\"linecolor\":\"white\",\"ticks\":\"\"}},\"ternary\":{\"bgcolor\":\"#E5ECF6\",\"aaxis\":{\"gridcolor\":\"white\",\"linecolor\":\"white\",\"ticks\":\"\"},\"baxis\":{\"gridcolor\":\"white\",\"linecolor\":\"white\",\"ticks\":\"\"},\"caxis\":{\"gridcolor\":\"white\",\"linecolor\":\"white\",\"ticks\":\"\"}},\"coloraxis\":{\"colorbar\":{\"outlinewidth\":0,\"ticks\":\"\"}},\"colorscale\":{\"sequential\":[[0.0,\"#0d0887\"],[0.1111111111111111,\"#46039f\"],[0.2222222222222222,\"#7201a8\"],[0.3333333333333333,\"#9c179e\"],[0.4444444444444444,\"#bd3786\"],[0.5555555555555556,\"#d8576b\"],[0.6666666666666666,\"#ed7953\"],[0.7777777777777778,\"#fb9f3a\"],[0.8888888888888888,\"#fdca26\"],[1.0,\"#f0f921\"]],\"sequentialminus\":[[0.0,\"#0d0887\"],[0.1111111111111111,\"#46039f\"],[0.2222222222222222,\"#7201a8\"],[0.3333333333333333,\"#9c179e\"],[0.4444444444444444,\"#bd3786\"],[0.5555555555555556,\"#d8576b\"],[0.6666666666666666,\"#ed7953\"],[0.7777777777777778,\"#fb9f3a\"],[0.8888888888888888,\"#fdca26\"],[1.0,\"#f0f921\"]],\"diverging\":[[0,\"#8e0152\"],[0.1,\"#c51b7d\"],[0.2,\"#de77ae\"],[0.3,\"#f1b6da\"],[0.4,\"#fde0ef\"],[0.5,\"#f7f7f7\"],[0.6,\"#e6f5d0\"],[0.7,\"#b8e186\"],[0.8,\"#7fbc41\"],[0.9,\"#4d9221\"],[1,\"#276419\"]]},\"xaxis\":{\"gridcolor\":\"white\",\"linecolor\":\"white\",\"ticks\":\"\",\"title\":{\"standoff\":15},\"zerolinecolor\":\"white\",\"automargin\":true,\"zerolinewidth\":2},\"yaxis\":{\"gridcolor\":\"white\",\"linecolor\":\"white\",\"ticks\":\"\",\"title\":{\"standoff\":15},\"zerolinecolor\":\"white\",\"automargin\":true,\"zerolinewidth\":2},\"scene\":{\"xaxis\":{\"backgroundcolor\":\"#E5ECF6\",\"gridcolor\":\"white\",\"linecolor\":\"white\",\"showbackground\":true,\"ticks\":\"\",\"zerolinecolor\":\"white\",\"gridwidth\":2},\"yaxis\":{\"backgroundcolor\":\"#E5ECF6\",\"gridcolor\":\"white\",\"linecolor\":\"white\",\"showbackground\":true,\"ticks\":\"\",\"zerolinecolor\":\"white\",\"gridwidth\":2},\"zaxis\":{\"backgroundcolor\":\"#E5ECF6\",\"gridcolor\":\"white\",\"linecolor\":\"white\",\"showbackground\":true,\"ticks\":\"\",\"zerolinecolor\":\"white\",\"gridwidth\":2}},\"shapedefaults\":{\"line\":{\"color\":\"#2a3f5f\"}},\"annotationdefaults\":{\"arrowcolor\":\"#2a3f5f\",\"arrowhead\":0,\"arrowwidth\":1},\"geo\":{\"bgcolor\":\"white\",\"landcolor\":\"#E5ECF6\",\"subunitcolor\":\"white\",\"showland\":true,\"showlakes\":true,\"lakecolor\":\"white\"},\"title\":{\"x\":0.05},\"mapbox\":{\"style\":\"light\"}}},\"xaxis\":{\"anchor\":\"y\",\"domain\":[0.0,1.0],\"title\":{\"text\":\"open_time\"}},\"yaxis\":{\"anchor\":\"x\",\"domain\":[0.0,1.0],\"title\":{\"text\":\"cum_profit\"}},\"legend\":{\"tracegroupgap\":0},\"margin\":{\"t\":60}},                        {\"responsive\": true}                    ).then(function(){\n",
       "                            \n",
       "var gd = document.getElementById('aa412192-582e-4045-9bb3-197280d1a2ee');\n",
       "var x = new MutationObserver(function (mutations, observer) {{\n",
       "        var display = window.getComputedStyle(gd).display;\n",
       "        if (!display || display === 'none') {{\n",
       "            console.log([gd, 'removed!']);\n",
       "            Plotly.purge(gd);\n",
       "            observer.disconnect();\n",
       "        }}\n",
       "}});\n",
       "\n",
       "// Listen for the removal of the full notebook cells\n",
       "var notebookContainer = gd.closest('#notebook-container');\n",
       "if (notebookContainer) {{\n",
       "    x.observe(notebookContainer, {childList: true});\n",
       "}}\n",
       "\n",
       "// Listen for the clearing of the current output cell\n",
       "var outputEl = gd.closest('.output');\n",
       "if (outputEl) {{\n",
       "    x.observe(outputEl, {childList: true});\n",
       "}}\n",
       "\n",
       "                        })                };                });            </script>        </div>"
      ]
     },
     "metadata": {},
     "output_type": "display_data"
    }
   ],
   "source": [
    "\n",
    "px.line(profit, x=\"open_time\", y= \"cum_profit\")"
   ]
  },
  {
   "cell_type": "code",
   "execution_count": null,
   "metadata": {},
   "outputs": [],
   "source": []
  },
  {
   "cell_type": "code",
   "execution_count": 19,
   "metadata": {},
   "outputs": [
    {
     "name": "stderr",
     "output_type": "stream",
     "text": [
      "/home/dima/.local/lib/python3.8/site-packages/matplotlib/axes/_axes.py:3050: RuntimeWarning:\n",
      "\n",
      "invalid value encountered in true_divide\n",
      "\n"
     ]
    },
    {
     "ename": "ValueError",
     "evalue": "cannot convert float NaN to integer",
     "output_type": "error",
     "traceback": [
      "\u001b[0;31m---------------------------------------------------------------------------\u001b[0m",
      "\u001b[0;31mValueError\u001b[0m                                Traceback (most recent call last)",
      "Cell \u001b[0;32mIn[19], line 11\u001b[0m\n\u001b[1;32m      6\u001b[0m fig\u001b[38;5;241m.\u001b[39msuptitle(\u001b[38;5;124m'\u001b[39m\u001b[38;5;124mProfit/loss trade counts\u001b[39m\u001b[38;5;124m'\u001b[39m)\n\u001b[1;32m      7\u001b[0m ax1\u001b[38;5;241m.\u001b[39mpie([\u001b[38;5;28mlen\u001b[39m(trades[(trades[\u001b[38;5;124m\"\u001b[39m\u001b[38;5;124mside\u001b[39m\u001b[38;5;124m\"\u001b[39m]\u001b[38;5;241m==\u001b[39m\u001b[38;5;124m\"\u001b[39m\u001b[38;5;124mBUY\u001b[39m\u001b[38;5;124m\"\u001b[39m) \u001b[38;5;241m&\u001b[39m  (trades[\u001b[38;5;124m\"\u001b[39m\u001b[38;5;124mprofit\u001b[39m\u001b[38;5;124m\"\u001b[39m]\u001b[38;5;241m>\u001b[39m\u001b[38;5;241m0\u001b[39m)]\u001b[38;5;241m.\u001b[39mindex),\\\n\u001b[1;32m      8\u001b[0m         \u001b[38;5;28mlen\u001b[39m(trades[(trades[\u001b[38;5;124m\"\u001b[39m\u001b[38;5;124mside\u001b[39m\u001b[38;5;124m\"\u001b[39m]\u001b[38;5;241m==\u001b[39m\u001b[38;5;124m\"\u001b[39m\u001b[38;5;124mBUY\u001b[39m\u001b[38;5;124m\"\u001b[39m) \u001b[38;5;241m&\u001b[39m  (trades[\u001b[38;5;124m\"\u001b[39m\u001b[38;5;124mprofit\u001b[39m\u001b[38;5;124m\"\u001b[39m]\u001b[38;5;241m<\u001b[39m\u001b[38;5;241m0\u001b[39m)]\u001b[38;5;241m.\u001b[39mindex) \\\n\u001b[1;32m      9\u001b[0m         ],\n\u001b[1;32m     10\u001b[0m         labels\u001b[38;5;241m=\u001b[39m[\u001b[38;5;124m\"\u001b[39m\u001b[38;5;124mbuy profit\u001b[39m\u001b[38;5;124m\"\u001b[39m, \u001b[38;5;124m\"\u001b[39m\u001b[38;5;124m buy loss\u001b[39m\u001b[38;5;124m\"\u001b[39m], autopct\u001b[38;5;241m=\u001b[39m\u001b[38;5;124m\"\u001b[39m\u001b[38;5;132;01m%.0f\u001b[39;00m\u001b[38;5;132;01m%%\u001b[39;00m\u001b[38;5;124m\"\u001b[39m, colors\u001b[38;5;241m=\u001b[39mcolors)\n\u001b[0;32m---> 11\u001b[0m \u001b[43max2\u001b[49m\u001b[38;5;241;43m.\u001b[39;49m\u001b[43mpie\u001b[49m\u001b[43m(\u001b[49m\u001b[43m[\u001b[49m\u001b[38;5;28;43mlen\u001b[39;49m\u001b[43m(\u001b[49m\u001b[43mtrades\u001b[49m\u001b[43m[\u001b[49m\u001b[43m(\u001b[49m\u001b[43mtrades\u001b[49m\u001b[43m[\u001b[49m\u001b[38;5;124;43m\"\u001b[39;49m\u001b[38;5;124;43mside\u001b[39;49m\u001b[38;5;124;43m\"\u001b[39;49m\u001b[43m]\u001b[49m\u001b[38;5;241;43m==\u001b[39;49m\u001b[38;5;124;43m\"\u001b[39;49m\u001b[38;5;124;43mSELL\u001b[39;49m\u001b[38;5;124;43m\"\u001b[39;49m\u001b[43m)\u001b[49m\u001b[43m \u001b[49m\u001b[38;5;241;43m&\u001b[39;49m\u001b[43m  \u001b[49m\u001b[43m(\u001b[49m\u001b[43mtrades\u001b[49m\u001b[43m[\u001b[49m\u001b[38;5;124;43m\"\u001b[39;49m\u001b[38;5;124;43mprofit\u001b[39;49m\u001b[38;5;124;43m\"\u001b[39;49m\u001b[43m]\u001b[49m\u001b[38;5;241;43m>\u001b[39;49m\u001b[38;5;241;43m0\u001b[39;49m\u001b[43m)\u001b[49m\u001b[43m]\u001b[49m\u001b[38;5;241;43m.\u001b[39;49m\u001b[43mindex\u001b[49m\u001b[43m)\u001b[49m\u001b[43m,\u001b[49m\u001b[43m\\\u001b[49m\n\u001b[1;32m     12\u001b[0m \u001b[43m        \u001b[49m\u001b[38;5;28;43mlen\u001b[39;49m\u001b[43m(\u001b[49m\u001b[43mtrades\u001b[49m\u001b[43m[\u001b[49m\u001b[43m(\u001b[49m\u001b[43mtrades\u001b[49m\u001b[43m[\u001b[49m\u001b[38;5;124;43m\"\u001b[39;49m\u001b[38;5;124;43mside\u001b[39;49m\u001b[38;5;124;43m\"\u001b[39;49m\u001b[43m]\u001b[49m\u001b[38;5;241;43m==\u001b[39;49m\u001b[38;5;124;43m\"\u001b[39;49m\u001b[38;5;124;43mSELL\u001b[39;49m\u001b[38;5;124;43m\"\u001b[39;49m\u001b[43m)\u001b[49m\u001b[43m \u001b[49m\u001b[38;5;241;43m&\u001b[39;49m\u001b[43m  \u001b[49m\u001b[43m(\u001b[49m\u001b[43mtrades\u001b[49m\u001b[43m[\u001b[49m\u001b[38;5;124;43m\"\u001b[39;49m\u001b[38;5;124;43mprofit\u001b[39;49m\u001b[38;5;124;43m\"\u001b[39;49m\u001b[43m]\u001b[49m\u001b[38;5;241;43m<\u001b[39;49m\u001b[38;5;241;43m0\u001b[39;49m\u001b[43m)\u001b[49m\u001b[43m]\u001b[49m\u001b[38;5;241;43m.\u001b[39;49m\u001b[43mindex\u001b[49m\u001b[43m)\u001b[49m\u001b[43m \u001b[49m\u001b[43m\\\u001b[49m\n\u001b[1;32m     13\u001b[0m \u001b[43m        \u001b[49m\u001b[43m]\u001b[49m\u001b[43m,\u001b[49m\n\u001b[1;32m     14\u001b[0m \u001b[43m        \u001b[49m\u001b[43mlabels\u001b[49m\u001b[38;5;241;43m=\u001b[39;49m\u001b[43m[\u001b[49m\u001b[38;5;124;43m\"\u001b[39;49m\u001b[38;5;124;43msell profit\u001b[39;49m\u001b[38;5;124;43m\"\u001b[39;49m\u001b[43m,\u001b[49m\u001b[43m \u001b[49m\u001b[38;5;124;43m\"\u001b[39;49m\u001b[38;5;124;43m sell loss\u001b[39;49m\u001b[38;5;124;43m\"\u001b[39;49m\u001b[43m]\u001b[49m\u001b[43m,\u001b[49m\u001b[43m \u001b[49m\u001b[43mautopct\u001b[49m\u001b[38;5;241;43m=\u001b[39;49m\u001b[38;5;124;43m\"\u001b[39;49m\u001b[38;5;132;43;01m%.0f\u001b[39;49;00m\u001b[38;5;132;43;01m%%\u001b[39;49;00m\u001b[38;5;124;43m\"\u001b[39;49m\u001b[43m,\u001b[49m\u001b[43m \u001b[49m\u001b[43mcolors\u001b[49m\u001b[38;5;241;43m=\u001b[39;49m\u001b[43mcolors\u001b[49m\u001b[43m)\u001b[49m\n\u001b[1;32m     17\u001b[0m plt\u001b[38;5;241m.\u001b[39mshow()\n\u001b[1;32m     18\u001b[0m \u001b[38;5;66;03m#trades[trades[\"profit\"]>0].count()\u001b[39;00m\n",
      "File \u001b[0;32m~/.local/lib/python3.8/site-packages/matplotlib/__init__.py:1412\u001b[0m, in \u001b[0;36m_preprocess_data.<locals>.inner\u001b[0;34m(ax, data, *args, **kwargs)\u001b[0m\n\u001b[1;32m   1409\u001b[0m \u001b[38;5;129m@functools\u001b[39m\u001b[38;5;241m.\u001b[39mwraps(func)\n\u001b[1;32m   1410\u001b[0m \u001b[38;5;28;01mdef\u001b[39;00m \u001b[38;5;21minner\u001b[39m(ax, \u001b[38;5;241m*\u001b[39margs, data\u001b[38;5;241m=\u001b[39m\u001b[38;5;28;01mNone\u001b[39;00m, \u001b[38;5;241m*\u001b[39m\u001b[38;5;241m*\u001b[39mkwargs):\n\u001b[1;32m   1411\u001b[0m     \u001b[38;5;28;01mif\u001b[39;00m data \u001b[38;5;129;01mis\u001b[39;00m \u001b[38;5;28;01mNone\u001b[39;00m:\n\u001b[0;32m-> 1412\u001b[0m         \u001b[38;5;28;01mreturn\u001b[39;00m \u001b[43mfunc\u001b[49m\u001b[43m(\u001b[49m\u001b[43max\u001b[49m\u001b[43m,\u001b[49m\u001b[43m \u001b[49m\u001b[38;5;241;43m*\u001b[39;49m\u001b[38;5;28;43mmap\u001b[39;49m\u001b[43m(\u001b[49m\u001b[43msanitize_sequence\u001b[49m\u001b[43m,\u001b[49m\u001b[43m \u001b[49m\u001b[43margs\u001b[49m\u001b[43m)\u001b[49m\u001b[43m,\u001b[49m\u001b[43m \u001b[49m\u001b[38;5;241;43m*\u001b[39;49m\u001b[38;5;241;43m*\u001b[39;49m\u001b[43mkwargs\u001b[49m\u001b[43m)\u001b[49m\n\u001b[1;32m   1414\u001b[0m     bound \u001b[38;5;241m=\u001b[39m new_sig\u001b[38;5;241m.\u001b[39mbind(ax, \u001b[38;5;241m*\u001b[39margs, \u001b[38;5;241m*\u001b[39m\u001b[38;5;241m*\u001b[39mkwargs)\n\u001b[1;32m   1415\u001b[0m     auto_label \u001b[38;5;241m=\u001b[39m (bound\u001b[38;5;241m.\u001b[39marguments\u001b[38;5;241m.\u001b[39mget(label_namer)\n\u001b[1;32m   1416\u001b[0m                   \u001b[38;5;129;01mor\u001b[39;00m bound\u001b[38;5;241m.\u001b[39mkwargs\u001b[38;5;241m.\u001b[39mget(label_namer))\n",
      "File \u001b[0;32m~/.local/lib/python3.8/site-packages/matplotlib/axes/_axes.py:3092\u001b[0m, in \u001b[0;36mAxes.pie\u001b[0;34m(self, x, explode, labels, colors, autopct, pctdistance, shadow, labeldistance, startangle, radius, counterclock, wedgeprops, textprops, center, frame, rotatelabels, normalize)\u001b[0m\n\u001b[1;32m   3089\u001b[0m x \u001b[38;5;241m+\u001b[39m\u001b[38;5;241m=\u001b[39m expl \u001b[38;5;241m*\u001b[39m math\u001b[38;5;241m.\u001b[39mcos(thetam)\n\u001b[1;32m   3090\u001b[0m y \u001b[38;5;241m+\u001b[39m\u001b[38;5;241m=\u001b[39m expl \u001b[38;5;241m*\u001b[39m math\u001b[38;5;241m.\u001b[39msin(thetam)\n\u001b[0;32m-> 3092\u001b[0m w \u001b[38;5;241m=\u001b[39m \u001b[43mmpatches\u001b[49m\u001b[38;5;241;43m.\u001b[39;49m\u001b[43mWedge\u001b[49m\u001b[43m(\u001b[49m\u001b[43m(\u001b[49m\u001b[43mx\u001b[49m\u001b[43m,\u001b[49m\u001b[43m \u001b[49m\u001b[43my\u001b[49m\u001b[43m)\u001b[49m\u001b[43m,\u001b[49m\u001b[43m \u001b[49m\u001b[43mradius\u001b[49m\u001b[43m,\u001b[49m\u001b[43m \u001b[49m\u001b[38;5;241;43m360.\u001b[39;49m\u001b[43m \u001b[49m\u001b[38;5;241;43m*\u001b[39;49m\u001b[43m \u001b[49m\u001b[38;5;28;43mmin\u001b[39;49m\u001b[43m(\u001b[49m\u001b[43mtheta1\u001b[49m\u001b[43m,\u001b[49m\u001b[43m \u001b[49m\u001b[43mtheta2\u001b[49m\u001b[43m)\u001b[49m\u001b[43m,\u001b[49m\n\u001b[1;32m   3093\u001b[0m \u001b[43m                   \u001b[49m\u001b[38;5;241;43m360.\u001b[39;49m\u001b[43m \u001b[49m\u001b[38;5;241;43m*\u001b[39;49m\u001b[43m \u001b[49m\u001b[38;5;28;43mmax\u001b[39;49m\u001b[43m(\u001b[49m\u001b[43mtheta1\u001b[49m\u001b[43m,\u001b[49m\u001b[43m \u001b[49m\u001b[43mtheta2\u001b[49m\u001b[43m)\u001b[49m\u001b[43m,\u001b[49m\n\u001b[1;32m   3094\u001b[0m \u001b[43m                   \u001b[49m\u001b[43mfacecolor\u001b[49m\u001b[38;5;241;43m=\u001b[39;49m\u001b[43mget_next_color\u001b[49m\u001b[43m(\u001b[49m\u001b[43m)\u001b[49m\u001b[43m,\u001b[49m\n\u001b[1;32m   3095\u001b[0m \u001b[43m                   \u001b[49m\u001b[43mclip_on\u001b[49m\u001b[38;5;241;43m=\u001b[39;49m\u001b[38;5;28;43;01mFalse\u001b[39;49;00m\u001b[43m,\u001b[49m\n\u001b[1;32m   3096\u001b[0m \u001b[43m                   \u001b[49m\u001b[43mlabel\u001b[49m\u001b[38;5;241;43m=\u001b[39;49m\u001b[43mlabel\u001b[49m\u001b[43m)\u001b[49m\n\u001b[1;32m   3097\u001b[0m w\u001b[38;5;241m.\u001b[39mset(\u001b[38;5;241m*\u001b[39m\u001b[38;5;241m*\u001b[39mwedgeprops)\n\u001b[1;32m   3098\u001b[0m slices\u001b[38;5;241m.\u001b[39mappend(w)\n",
      "File \u001b[0;32m~/.local/lib/python3.8/site-packages/matplotlib/patches.py:1164\u001b[0m, in \u001b[0;36mWedge.__init__\u001b[0;34m(self, center, r, theta1, theta2, width, **kwargs)\u001b[0m\n\u001b[1;32m   1162\u001b[0m \u001b[38;5;28mself\u001b[39m\u001b[38;5;241m.\u001b[39mtheta1, \u001b[38;5;28mself\u001b[39m\u001b[38;5;241m.\u001b[39mtheta2 \u001b[38;5;241m=\u001b[39m theta1, theta2\n\u001b[1;32m   1163\u001b[0m \u001b[38;5;28mself\u001b[39m\u001b[38;5;241m.\u001b[39m_patch_transform \u001b[38;5;241m=\u001b[39m transforms\u001b[38;5;241m.\u001b[39mIdentityTransform()\n\u001b[0;32m-> 1164\u001b[0m \u001b[38;5;28;43mself\u001b[39;49m\u001b[38;5;241;43m.\u001b[39;49m\u001b[43m_recompute_path\u001b[49m\u001b[43m(\u001b[49m\u001b[43m)\u001b[49m\n",
      "File \u001b[0;32m~/.local/lib/python3.8/site-packages/matplotlib/patches.py:1176\u001b[0m, in \u001b[0;36mWedge._recompute_path\u001b[0;34m(self)\u001b[0m\n\u001b[1;32m   1173\u001b[0m     connector \u001b[38;5;241m=\u001b[39m Path\u001b[38;5;241m.\u001b[39mLINETO\n\u001b[1;32m   1175\u001b[0m \u001b[38;5;66;03m# Form the outer ring\u001b[39;00m\n\u001b[0;32m-> 1176\u001b[0m arc \u001b[38;5;241m=\u001b[39m \u001b[43mPath\u001b[49m\u001b[38;5;241;43m.\u001b[39;49m\u001b[43marc\u001b[49m\u001b[43m(\u001b[49m\u001b[43mtheta1\u001b[49m\u001b[43m,\u001b[49m\u001b[43m \u001b[49m\u001b[43mtheta2\u001b[49m\u001b[43m)\u001b[49m\n\u001b[1;32m   1178\u001b[0m \u001b[38;5;28;01mif\u001b[39;00m \u001b[38;5;28mself\u001b[39m\u001b[38;5;241m.\u001b[39mwidth \u001b[38;5;129;01mis\u001b[39;00m \u001b[38;5;129;01mnot\u001b[39;00m \u001b[38;5;28;01mNone\u001b[39;00m:\n\u001b[1;32m   1179\u001b[0m     \u001b[38;5;66;03m# Partial annulus needs to draw the outer ring\u001b[39;00m\n\u001b[1;32m   1180\u001b[0m     \u001b[38;5;66;03m# followed by a reversed and scaled inner ring\u001b[39;00m\n\u001b[1;32m   1181\u001b[0m     v1 \u001b[38;5;241m=\u001b[39m arc\u001b[38;5;241m.\u001b[39mvertices\n",
      "File \u001b[0;32m~/.local/lib/python3.8/site-packages/matplotlib/path.py:947\u001b[0m, in \u001b[0;36mPath.arc\u001b[0;34m(cls, theta1, theta2, n, is_wedge)\u001b[0m\n\u001b[1;32m    945\u001b[0m \u001b[38;5;66;03m# number of curve segments to make\u001b[39;00m\n\u001b[1;32m    946\u001b[0m \u001b[38;5;28;01mif\u001b[39;00m n \u001b[38;5;129;01mis\u001b[39;00m \u001b[38;5;28;01mNone\u001b[39;00m:\n\u001b[0;32m--> 947\u001b[0m     n \u001b[38;5;241m=\u001b[39m \u001b[38;5;28;43mint\u001b[39;49m\u001b[43m(\u001b[49m\u001b[38;5;241;43m2\u001b[39;49m\u001b[43m \u001b[49m\u001b[38;5;241;43m*\u001b[39;49m\u001b[38;5;241;43m*\u001b[39;49m\u001b[43m \u001b[49m\u001b[43mnp\u001b[49m\u001b[38;5;241;43m.\u001b[39;49m\u001b[43mceil\u001b[49m\u001b[43m(\u001b[49m\u001b[43m(\u001b[49m\u001b[43meta2\u001b[49m\u001b[43m \u001b[49m\u001b[38;5;241;43m-\u001b[39;49m\u001b[43m \u001b[49m\u001b[43meta1\u001b[49m\u001b[43m)\u001b[49m\u001b[43m \u001b[49m\u001b[38;5;241;43m/\u001b[39;49m\u001b[43m \u001b[49m\u001b[43mhalfpi\u001b[49m\u001b[43m)\u001b[49m\u001b[43m)\u001b[49m\n\u001b[1;32m    948\u001b[0m \u001b[38;5;28;01mif\u001b[39;00m n \u001b[38;5;241m<\u001b[39m \u001b[38;5;241m1\u001b[39m:\n\u001b[1;32m    949\u001b[0m     \u001b[38;5;28;01mraise\u001b[39;00m \u001b[38;5;167;01mValueError\u001b[39;00m(\u001b[38;5;124m\"\u001b[39m\u001b[38;5;124mn must be >= 1 or None\u001b[39m\u001b[38;5;124m\"\u001b[39m)\n",
      "\u001b[0;31mValueError\u001b[0m: cannot convert float NaN to integer"
     ]
    },
    {
     "name": "stderr",
     "output_type": "stream",
     "text": [
      "posx and posy should be finite values\n",
      "posx and posy should be finite values\n"
     ]
    },
    {
     "ename": "ValueError",
     "evalue": "need at least one array to concatenate",
     "output_type": "error",
     "traceback": [
      "\u001b[0;31m---------------------------------------------------------------------------\u001b[0m",
      "\u001b[0;31mValueError\u001b[0m                                Traceback (most recent call last)",
      "File \u001b[0;32m~/.local/lib/python3.8/site-packages/IPython/core/formatters.py:340\u001b[0m, in \u001b[0;36mBaseFormatter.__call__\u001b[0;34m(self, obj)\u001b[0m\n\u001b[1;32m    338\u001b[0m     \u001b[38;5;28;01mpass\u001b[39;00m\n\u001b[1;32m    339\u001b[0m \u001b[38;5;28;01melse\u001b[39;00m:\n\u001b[0;32m--> 340\u001b[0m     \u001b[38;5;28;01mreturn\u001b[39;00m \u001b[43mprinter\u001b[49m\u001b[43m(\u001b[49m\u001b[43mobj\u001b[49m\u001b[43m)\u001b[49m\n\u001b[1;32m    341\u001b[0m \u001b[38;5;66;03m# Finally look for special method names\u001b[39;00m\n\u001b[1;32m    342\u001b[0m method \u001b[38;5;241m=\u001b[39m get_real_method(obj, \u001b[38;5;28mself\u001b[39m\u001b[38;5;241m.\u001b[39mprint_method)\n",
      "File \u001b[0;32m~/.local/lib/python3.8/site-packages/IPython/core/pylabtools.py:152\u001b[0m, in \u001b[0;36mprint_figure\u001b[0;34m(fig, fmt, bbox_inches, base64, **kwargs)\u001b[0m\n\u001b[1;32m    149\u001b[0m     \u001b[38;5;28;01mfrom\u001b[39;00m \u001b[38;5;21;01mmatplotlib\u001b[39;00m\u001b[38;5;21;01m.\u001b[39;00m\u001b[38;5;21;01mbackend_bases\u001b[39;00m \u001b[38;5;28;01mimport\u001b[39;00m FigureCanvasBase\n\u001b[1;32m    150\u001b[0m     FigureCanvasBase(fig)\n\u001b[0;32m--> 152\u001b[0m \u001b[43mfig\u001b[49m\u001b[38;5;241;43m.\u001b[39;49m\u001b[43mcanvas\u001b[49m\u001b[38;5;241;43m.\u001b[39;49m\u001b[43mprint_figure\u001b[49m\u001b[43m(\u001b[49m\u001b[43mbytes_io\u001b[49m\u001b[43m,\u001b[49m\u001b[43m \u001b[49m\u001b[38;5;241;43m*\u001b[39;49m\u001b[38;5;241;43m*\u001b[39;49m\u001b[43mkw\u001b[49m\u001b[43m)\u001b[49m\n\u001b[1;32m    153\u001b[0m data \u001b[38;5;241m=\u001b[39m bytes_io\u001b[38;5;241m.\u001b[39mgetvalue()\n\u001b[1;32m    154\u001b[0m \u001b[38;5;28;01mif\u001b[39;00m fmt \u001b[38;5;241m==\u001b[39m \u001b[38;5;124m'\u001b[39m\u001b[38;5;124msvg\u001b[39m\u001b[38;5;124m'\u001b[39m:\n",
      "File \u001b[0;32m~/.local/lib/python3.8/site-packages/matplotlib/backend_bases.py:2299\u001b[0m, in \u001b[0;36mFigureCanvasBase.print_figure\u001b[0;34m(self, filename, dpi, facecolor, edgecolor, orientation, format, bbox_inches, pad_inches, bbox_extra_artists, backend, **kwargs)\u001b[0m\n\u001b[1;32m   2297\u001b[0m \u001b[38;5;28;01mif\u001b[39;00m bbox_inches:\n\u001b[1;32m   2298\u001b[0m     \u001b[38;5;28;01mif\u001b[39;00m bbox_inches \u001b[38;5;241m==\u001b[39m \u001b[38;5;124m\"\u001b[39m\u001b[38;5;124mtight\u001b[39m\u001b[38;5;124m\"\u001b[39m:\n\u001b[0;32m-> 2299\u001b[0m         bbox_inches \u001b[38;5;241m=\u001b[39m \u001b[38;5;28;43mself\u001b[39;49m\u001b[38;5;241;43m.\u001b[39;49m\u001b[43mfigure\u001b[49m\u001b[38;5;241;43m.\u001b[39;49m\u001b[43mget_tightbbox\u001b[49m\u001b[43m(\u001b[49m\n\u001b[1;32m   2300\u001b[0m \u001b[43m            \u001b[49m\u001b[43mrenderer\u001b[49m\u001b[43m,\u001b[49m\u001b[43m \u001b[49m\u001b[43mbbox_extra_artists\u001b[49m\u001b[38;5;241;43m=\u001b[39;49m\u001b[43mbbox_extra_artists\u001b[49m\u001b[43m)\u001b[49m\n\u001b[1;32m   2301\u001b[0m         \u001b[38;5;28;01mif\u001b[39;00m pad_inches \u001b[38;5;129;01mis\u001b[39;00m \u001b[38;5;28;01mNone\u001b[39;00m:\n\u001b[1;32m   2302\u001b[0m             pad_inches \u001b[38;5;241m=\u001b[39m rcParams[\u001b[38;5;124m'\u001b[39m\u001b[38;5;124msavefig.pad_inches\u001b[39m\u001b[38;5;124m'\u001b[39m]\n",
      "File \u001b[0;32m~/.local/lib/python3.8/site-packages/matplotlib/figure.py:1684\u001b[0m, in \u001b[0;36mFigureBase.get_tightbbox\u001b[0;34m(self, renderer, bbox_extra_artists)\u001b[0m\n\u001b[1;32m   1681\u001b[0m     artists \u001b[38;5;241m=\u001b[39m bbox_extra_artists\n\u001b[1;32m   1683\u001b[0m \u001b[38;5;28;01mfor\u001b[39;00m a \u001b[38;5;129;01min\u001b[39;00m artists:\n\u001b[0;32m-> 1684\u001b[0m     bbox \u001b[38;5;241m=\u001b[39m \u001b[43ma\u001b[49m\u001b[38;5;241;43m.\u001b[39;49m\u001b[43mget_tightbbox\u001b[49m\u001b[43m(\u001b[49m\u001b[43mrenderer\u001b[49m\u001b[43m)\u001b[49m\n\u001b[1;32m   1685\u001b[0m     \u001b[38;5;28;01mif\u001b[39;00m bbox \u001b[38;5;129;01mis\u001b[39;00m \u001b[38;5;129;01mnot\u001b[39;00m \u001b[38;5;28;01mNone\u001b[39;00m \u001b[38;5;129;01mand\u001b[39;00m (bbox\u001b[38;5;241m.\u001b[39mwidth \u001b[38;5;241m!=\u001b[39m \u001b[38;5;241m0\u001b[39m \u001b[38;5;129;01mor\u001b[39;00m bbox\u001b[38;5;241m.\u001b[39mheight \u001b[38;5;241m!=\u001b[39m \u001b[38;5;241m0\u001b[39m):\n\u001b[1;32m   1686\u001b[0m         bb\u001b[38;5;241m.\u001b[39mappend(bbox)\n",
      "File \u001b[0;32m~/.local/lib/python3.8/site-packages/matplotlib/axes/_base.py:4675\u001b[0m, in \u001b[0;36m_AxesBase.get_tightbbox\u001b[0;34m(self, renderer, call_axes_locator, bbox_extra_artists, for_layout_only)\u001b[0m\n\u001b[1;32m   4671\u001b[0m     \u001b[38;5;28;01mif\u001b[39;00m np\u001b[38;5;241m.\u001b[39mall(clip_extent\u001b[38;5;241m.\u001b[39mextents \u001b[38;5;241m==\u001b[39m axbbox\u001b[38;5;241m.\u001b[39mextents):\n\u001b[1;32m   4672\u001b[0m         \u001b[38;5;66;03m# clip extent is inside the Axes bbox so don't check\u001b[39;00m\n\u001b[1;32m   4673\u001b[0m         \u001b[38;5;66;03m# this artist\u001b[39;00m\n\u001b[1;32m   4674\u001b[0m         \u001b[38;5;28;01mcontinue\u001b[39;00m\n\u001b[0;32m-> 4675\u001b[0m bbox \u001b[38;5;241m=\u001b[39m \u001b[43ma\u001b[49m\u001b[38;5;241;43m.\u001b[39;49m\u001b[43mget_tightbbox\u001b[49m\u001b[43m(\u001b[49m\u001b[43mrenderer\u001b[49m\u001b[43m)\u001b[49m\n\u001b[1;32m   4676\u001b[0m \u001b[38;5;28;01mif\u001b[39;00m (bbox \u001b[38;5;129;01mis\u001b[39;00m \u001b[38;5;129;01mnot\u001b[39;00m \u001b[38;5;28;01mNone\u001b[39;00m\n\u001b[1;32m   4677\u001b[0m         \u001b[38;5;129;01mand\u001b[39;00m \u001b[38;5;241m0\u001b[39m \u001b[38;5;241m<\u001b[39m bbox\u001b[38;5;241m.\u001b[39mwidth \u001b[38;5;241m<\u001b[39m np\u001b[38;5;241m.\u001b[39minf\n\u001b[1;32m   4678\u001b[0m         \u001b[38;5;129;01mand\u001b[39;00m \u001b[38;5;241m0\u001b[39m \u001b[38;5;241m<\u001b[39m bbox\u001b[38;5;241m.\u001b[39mheight \u001b[38;5;241m<\u001b[39m np\u001b[38;5;241m.\u001b[39minf):\n\u001b[1;32m   4679\u001b[0m     bb\u001b[38;5;241m.\u001b[39mappend(bbox)\n",
      "File \u001b[0;32m~/.local/lib/python3.8/site-packages/matplotlib/artist.py:355\u001b[0m, in \u001b[0;36mArtist.get_tightbbox\u001b[0;34m(self, renderer)\u001b[0m\n\u001b[1;32m    340\u001b[0m \u001b[38;5;28;01mdef\u001b[39;00m \u001b[38;5;21mget_tightbbox\u001b[39m(\u001b[38;5;28mself\u001b[39m, renderer):\n\u001b[1;32m    341\u001b[0m \u001b[38;5;250m    \u001b[39m\u001b[38;5;124;03m\"\"\"\u001b[39;00m\n\u001b[1;32m    342\u001b[0m \u001b[38;5;124;03m    Like `.Artist.get_window_extent`, but includes any clipping.\u001b[39;00m\n\u001b[1;32m    343\u001b[0m \n\u001b[0;32m   (...)\u001b[0m\n\u001b[1;32m    353\u001b[0m \u001b[38;5;124;03m        The enclosing bounding box (in figure pixel coordinates).\u001b[39;00m\n\u001b[1;32m    354\u001b[0m \u001b[38;5;124;03m    \"\"\"\u001b[39;00m\n\u001b[0;32m--> 355\u001b[0m     bbox \u001b[38;5;241m=\u001b[39m \u001b[38;5;28;43mself\u001b[39;49m\u001b[38;5;241;43m.\u001b[39;49m\u001b[43mget_window_extent\u001b[49m\u001b[43m(\u001b[49m\u001b[43mrenderer\u001b[49m\u001b[43m)\u001b[49m\n\u001b[1;32m    356\u001b[0m     \u001b[38;5;28;01mif\u001b[39;00m \u001b[38;5;28mself\u001b[39m\u001b[38;5;241m.\u001b[39mget_clip_on():\n\u001b[1;32m    357\u001b[0m         clip_box \u001b[38;5;241m=\u001b[39m \u001b[38;5;28mself\u001b[39m\u001b[38;5;241m.\u001b[39mget_clip_box()\n",
      "File \u001b[0;32m~/.local/lib/python3.8/site-packages/matplotlib/patches.py:629\u001b[0m, in \u001b[0;36mPatch.get_window_extent\u001b[0;34m(self, renderer)\u001b[0m\n\u001b[1;32m    628\u001b[0m \u001b[38;5;28;01mdef\u001b[39;00m \u001b[38;5;21mget_window_extent\u001b[39m(\u001b[38;5;28mself\u001b[39m, renderer\u001b[38;5;241m=\u001b[39m\u001b[38;5;28;01mNone\u001b[39;00m):\n\u001b[0;32m--> 629\u001b[0m     \u001b[38;5;28;01mreturn\u001b[39;00m \u001b[38;5;28;43mself\u001b[39;49m\u001b[38;5;241;43m.\u001b[39;49m\u001b[43mget_path\u001b[49m\u001b[43m(\u001b[49m\u001b[43m)\u001b[49m\u001b[38;5;241;43m.\u001b[39;49m\u001b[43mget_extents\u001b[49m\u001b[43m(\u001b[49m\u001b[38;5;28;43mself\u001b[39;49m\u001b[38;5;241;43m.\u001b[39;49m\u001b[43mget_transform\u001b[49m\u001b[43m(\u001b[49m\u001b[43m)\u001b[49m\u001b[43m)\u001b[49m\n",
      "File \u001b[0;32m~/.local/lib/python3.8/site-packages/matplotlib/path.py:631\u001b[0m, in \u001b[0;36mPath.get_extents\u001b[0;34m(self, transform, **kwargs)\u001b[0m\n\u001b[1;32m    629\u001b[0m         \u001b[38;5;66;03m# as can the ends of the curve\u001b[39;00m\n\u001b[1;32m    630\u001b[0m         xys\u001b[38;5;241m.\u001b[39mappend(curve([\u001b[38;5;241m0\u001b[39m, \u001b[38;5;241m*\u001b[39mdzeros, \u001b[38;5;241m1\u001b[39m]))\n\u001b[0;32m--> 631\u001b[0m     xys \u001b[38;5;241m=\u001b[39m \u001b[43mnp\u001b[49m\u001b[38;5;241;43m.\u001b[39;49m\u001b[43mconcatenate\u001b[49m\u001b[43m(\u001b[49m\u001b[43mxys\u001b[49m\u001b[43m)\u001b[49m\n\u001b[1;32m    632\u001b[0m \u001b[38;5;28;01mif\u001b[39;00m \u001b[38;5;28mlen\u001b[39m(xys):\n\u001b[1;32m    633\u001b[0m     \u001b[38;5;28;01mreturn\u001b[39;00m Bbox([xys\u001b[38;5;241m.\u001b[39mmin(axis\u001b[38;5;241m=\u001b[39m\u001b[38;5;241m0\u001b[39m), xys\u001b[38;5;241m.\u001b[39mmax(axis\u001b[38;5;241m=\u001b[39m\u001b[38;5;241m0\u001b[39m)])\n",
      "File \u001b[0;32m<__array_function__ internals>:5\u001b[0m, in \u001b[0;36mconcatenate\u001b[0;34m(*args, **kwargs)\u001b[0m\n",
      "\u001b[0;31mValueError\u001b[0m: need at least one array to concatenate"
     ]
    },
    {
     "data": {
      "text/plain": [
       "<Figure size 640x480 with 2 Axes>"
      ]
     },
     "metadata": {},
     "output_type": "display_data"
    }
   ],
   "source": [
    "import seaborn as sns\n",
    "\n",
    "\n",
    "colors = sns.color_palette('pastel')[0:5]\n",
    "fig, (ax1, ax2) = plt.subplots(1, 2)\n",
    "fig.suptitle('Profit/loss trade counts')\n",
    "ax1.pie([len(trades[(trades[\"side\"]==\"BUY\") &  (trades[\"profit\"]>0)].index),\\\n",
    "        len(trades[(trades[\"side\"]==\"BUY\") &  (trades[\"profit\"]<0)].index) \\\n",
    "        ],\n",
    "        labels=[\"buy profit\", \" buy loss\"], autopct=\"%.0f%%\", colors=colors)\n",
    "ax2.pie([len(trades[(trades[\"side\"]==\"SELL\") &  (trades[\"profit\"]>0)].index),\\\n",
    "        len(trades[(trades[\"side\"]==\"SELL\") &  (trades[\"profit\"]<0)].index) \\\n",
    "        ],\n",
    "        labels=[\"sell profit\", \" sell loss\"], autopct=\"%.0f%%\", colors=colors)\n",
    "\n",
    "\n",
    "plt.show()\n",
    "#trades[trades[\"profit\"]>0].count()\n"
   ]
  },
  {
   "cell_type": "code",
   "execution_count": null,
   "metadata": {},
   "outputs": [],
   "source": [
    "trades[trades[\"profit\"]>0][\"profit\"].median()\n",
    "#trades[trades[\"profit\"]<0][\"profit\"].median()"
   ]
  },
  {
   "cell_type": "markdown",
   "metadata": {},
   "source": [
    "## Predicted and actual low/high"
   ]
  },
  {
   "cell_type": "code",
   "execution_count": null,
   "metadata": {},
   "outputs": [],
   "source": [
    "import os\n",
    "import glob\n",
    "import pandas as pd\n",
    "from datetime import timedelta,date\n",
    "import matplotlib.pyplot as plt\n",
    "import plotly.express as px\n",
    "\n",
    "def read_last_data(strategy):\n",
    "    \"\"\" Read days from start to end from local predictions history\"\"\"\n",
    "    \n",
    "    def read_last(symbol: str, name: str, n: int):\n",
    "        data_dir=f\"./../data/{strategy}/Xy\"\n",
    "        file_path = sorted([f for f in os.listdir(data_dir) if f.endswith(f\"{symbol}_{name}.csv\")])[-1]\n",
    "        return pd.read_csv(f\"{data_dir}/{file_path}\", parse_dates=True, index_col=\"datetime\").tail(n)\n",
    "    n=1000\n",
    "    data=read_last(\"BTCUSDT\", \"data\", n)\n",
    "    X=read_last(\"BTCUSDT\", \"X\", n)\n",
    "    y=read_last(\"BTCUSDT\", \"y\", n)\n",
    "    data=pd.merge(data[[\"symbol\"]],y, left_index=True, right_index=True) \n",
    "    #y=pd.concat([data,y])\n",
    "    return data,X,y\n",
    "\n",
    "\n",
    "# Read candles for last 3 days\n",
    "data,_,_ = read_last_data(strategy)\n",
    "data.tail(100)"
   ]
  },
  {
   "cell_type": "code",
   "execution_count": null,
   "metadata": {},
   "outputs": [],
   "source": [
    "\n",
    "def get_predictions(data):\n",
    "    \"\"\" \n",
    "    Merge predicted and real prices for analysis \n",
    "    \"\"\"\n",
    "    \n",
    "    # Prediction window is constant, get it from last row\n",
    "    predicted=data[[\"bid\",\"ask\",\"bid_min_fut\", \"bid_max_fut\", \"ask_min_fut\", \"ask_max_fut\"]]\n",
    "    predicted.columns=[c.replace(\"_fut\", \"_predicted\") for c in predicted.columns]\n",
    "    predict_window=data[\"predict_window\"].tail(1).values[0]\n",
    "    real_min=data[[\"bid\", \"ask\"]].rolling(predict_window).min().rename(columns={\"bid\":\"bid_min_real\", \"ask\":\"ask_min_real\"})\n",
    "    real_max=data[[\"bid\", \"ask\"]].rolling(predict_window).max().rename(columns={\"bid\":\"bid_max_real\", \"ask\":\"ask_max_real\"})\n",
    "    real=pd.concat([real_min, real_max], axis=1)\n",
    "    real[\"prediction_datetime\"]=real.index.to_series()-pd.to_timedelta(predict_window)\n",
    "    merged=pd.merge_asof(real, predicted, left_on=\"prediction_datetime\", right_index=True, direction='forward')\n",
    "    return merged[[\"bid\", \"ask\", \"bid_min_real\", \"bid_min_predicted\", \"bid_max_real\", \"bid_max_predicted\", \\\n",
    "                   \"ask_min_real\", \"ask_min_predicted\", \"ask_max_real\", \"ask_max_predicted\"]]\n",
    "\n",
    "\n",
    "# predicted=data[[\"bid\",\"ask\",\"bid_min_fut\", \"bid_max_fut\", \"ask_min_fut\", \"ask_max_fut\"]]\n",
    "# predicted.columns=[c.replace(\"_fut\", \"_predicted\") for c in predicted.columns]\n",
    "# predict_window=data[\"predict_window\"].tail(1).values[0]\n",
    "# real_min=data[[\"bid\", \"ask\"]].rolling(predict_window).min().rename(columns={\"bid\":\"bid_min_real\", \"ask\":\"ask_min_real\"})\n",
    "# real_max=data[[\"bid\", \"ask\"]].rolling(predict_window).max().rename(columns={\"bid\":\"bid_max_real\", \"ask\":\"ask_max_real\"})\n",
    "# real=pd.concat([real_min, real_max], axis=1)\n",
    "# real[\"prediction_datetime\"]=real.index.to_series()-pd.to_timedelta(predict_window)\n",
    "\n",
    "# pd.merge_asof(real, predicted, left_on=\"prediction_datetime\", right_index=True, direction='backward')\n",
    "\n",
    "\n",
    "predictions = get_predictions(data)\n",
    "predictions.info()\n"
   ]
  },
  {
   "cell_type": "markdown",
   "metadata": {},
   "source": [
    "## Prediction errors"
   ]
  },
  {
   "cell_type": "code",
   "execution_count": null,
   "metadata": {},
   "outputs": [],
   "source": [
    "def plot_prediction_err(predictions):\n",
    "    df = pd.DataFrame(index=predictions.index)\n",
    "    for bidask in [\"bid\", \"ask\"]:\n",
    "        for maxmin in [\"max\", \"min\"]:\n",
    "            prefix = f\"{bidask}_{maxmin}\"\n",
    "            df[f\"{prefix}_error\"] = predictions[f\"{prefix}_predicted\"] - predictions[f\"{prefix}_real\"]\n",
    "    \n",
    "    px.line(df, title=\"Errors\", markers=True).show()\n",
    "    px.line(df.sum(axis=1).abs().rename(\"error sum\"), title=\"Error summary\", markers=True).show()\n",
    "    \n",
    "plot_prediction_err(predictions)"
   ]
  },
  {
   "cell_type": "code",
   "execution_count": null,
   "metadata": {
    "scrolled": false
   },
   "outputs": [],
   "source": []
  },
  {
   "cell_type": "code",
   "execution_count": null,
   "metadata": {},
   "outputs": [],
   "source": [
    "\n"
   ]
  },
  {
   "cell_type": "code",
   "execution_count": null,
   "metadata": {},
   "outputs": [],
   "source": []
  },
  {
   "cell_type": "code",
   "execution_count": null,
   "metadata": {},
   "outputs": [],
   "source": []
  },
  {
   "cell_type": "code",
   "execution_count": null,
   "metadata": {},
   "outputs": [],
   "source": [
    "import pandas as pd\n",
    "\n",
    "def get_profits(predictions: pd.DataFrame)->pd.DataFrame:\n",
    "    \"\"\"\n",
    "    Buy, sell profit, real and predicted, for each time moment\n",
    "    \"\"\"\n",
    "    \n",
    "    profits = pd.DataFrame()\n",
    "    # Profit/loss ratio to consider buy or sell\n",
    "    min_ratio=2\n",
    "\n",
    "    # Calculate possible profits for buy or sell\n",
    "    profits[\"buy_profit_predicted\"] = predictions[\"bid_max_predicted\"] - predictions[\"ask\"]\n",
    "    profits[\"buy_loss_predicted\"] = predictions[\"ask\"]-predictions[\"bid_min_predicted\"]\n",
    "    profits['buy_ratio_predicted'] = np.where(profits['buy_loss_predicted'] > 0, profits['buy_profit_predicted'] / profits['buy_loss_predicted'],float('inf'))\n",
    "\n",
    "    profits[\"buy_profit_real\"] = predictions[\"bid_max_real\"] - predictions[\"ask\"]\n",
    "    profits[\"buy_loss_real\"] = predictions[\"ask\"]-predictions[\"bid_min_real\"]\n",
    "    profits['buy_ratio_real'] = np.where(profits['buy_loss_real'] > 0, profits['buy_profit_real'] / profits['buy_loss_real'],float('inf'))\n",
    "\n",
    "\n",
    "    profits[\"sell_profit_predicted\"] = predictions[\"bid\"] - predictions[\"ask_min_predicted\"]\n",
    "    profits[\"sell_loss_predicted\"] = predictions[\"ask_max_predicted\"] - predictions[\"bid\"]\n",
    "    profits['sell_ratio_predicted'] = np.where(profits['sell_loss_predicted'] > 0, profits['sell_profit_predicted'] / profits['sell_loss_predicted'],float('inf'))\n",
    "\n",
    "    profits[\"sell_profit_real\"] = predictions[\"bid\"] - predictions[\"ask_min_real\"]\n",
    "    profits[\"sell_loss_real\"] = predictions[\"ask_max_real\"] - predictions[\"bid\"]\n",
    "    profits['sell_ratio_real'] = np.where(profits['sell_loss_real'] > 0, profits['sell_profit_real'] / profits['sell_loss_real'],float('inf'))\n",
    "\n",
    "\n",
    "    profits[\"signal\"] = np.where(profits['buy_ratio_predicted'] >= min_ratio, 1,\n",
    "                                 np.where(profits[\"sell_ratio_predicted\"]>=min_ratio, -1,0 ))\n",
    "\n",
    "    # Calculate real profit or loss\n",
    "    profits[\"profit_real\"] = np.where(\n",
    "        # If buy                             \n",
    "        profits[\"signal\"]==1,\n",
    "        np.where(\n",
    "            # Real movement down was inside what we predicted\n",
    "            (predictions[\"bid_min_real\"] < predictions[\"bid_min_predicted\"]) \n",
    "            & (predictions[\"bid_max_real\"] <= predictions[\"bid_max_predicted\"]),\n",
    "            # Take the profit\n",
    "            profits[\"buy_profit_predicted\"],\n",
    "            # Or fix the loss\n",
    "            -profits[\"buy_loss_predicted\"]\n",
    "        ),\n",
    "        # If Sell                     \n",
    "        np.where(profits[\"signal\"] == -1,\n",
    "            np.where(\n",
    "                # Real movement down was inside what we predicted\n",
    "                (predictions[\"ask_max_real\"] > predictions[\"ask_max_predicted\"]) \n",
    "                & (predictions[\"ask_min_real\"] >= predictions[\"ask_max_predicted\"]),\n",
    "                # Take the profit\n",
    "                profits[\"sell_profit_predicted\"],\n",
    "                # Or fix the loss\n",
    "                -profits[\"sell_loss_predicted\"]\n",
    "            ),\n",
    "            # If neither buy nor sell, return NaN\n",
    "            np.nan\n",
    "        )\n",
    "    )\n",
    "\n",
    "    # Fill in predicted profit\n",
    "    profits[\"profit_predicted\"]=np.where(profits[\"signal\"] == 1, \n",
    "                                         # If buy\n",
    "                                         profits[\"buy_profit_predicted\"], \n",
    "                                        np.where(profits[\"signal\"]==-1,\n",
    "                                                # If sell\n",
    "                                                profits[\"sell_profit_predicted\"],\n",
    "                                                # If neither buy not sell\n",
    "                                                 np.nan))\n",
    "    return profits\n",
    "\n",
    "profits = get_profits(predictions)\n",
    "pd.set_option('display.max_rows', 1000)\n",
    "pd.concat([predictions,profits],axis=1).tail()\n",
    "#profits.dropna().tail(100)\n",
    "\n",
    "\n"
   ]
  },
  {
   "cell_type": "code",
   "execution_count": null,
   "metadata": {},
   "outputs": [],
   "source": [
    "print(f\"Total prediction profit sum: {profits['profit_real'].sum()}\")\n",
    "\n"
   ]
  },
  {
   "cell_type": "code",
   "execution_count": null,
   "metadata": {},
   "outputs": [],
   "source": [
    "#px.line(profits[[\"profit_predicted\", \"profit_real\"]], markers=True)\n",
    "px.line(profits[\"profit_predicted\"]-profits[\"profit_real\"])"
   ]
  },
  {
   "cell_type": "markdown",
   "metadata": {},
   "source": [
    "## Sharp ratio"
   ]
  },
  {
   "cell_type": "code",
   "execution_count": null,
   "metadata": {},
   "outputs": [],
   "source": [
    "sharp_ratio_df=profits[[\"buy_ratio_predicted\", \"buy_ratio_real\", \"sell_ratio_predicted\", \"sell_ratio_real\"]]\n",
    "sharp_ratio_df.tail()\n"
   ]
  },
  {
   "cell_type": "code",
   "execution_count": null,
   "metadata": {},
   "outputs": [],
   "source": [
    "px.line(sharp_ratio_df[[\"buy_ratio_predicted\", \"buy_ratio_real\"]], title=\"Buy sharp ratio\")"
   ]
  },
  {
   "cell_type": "code",
   "execution_count": null,
   "metadata": {},
   "outputs": [],
   "source": [
    "px.line(sharp_ratio_df[[\"sell_ratio_predicted\", \"sell_ratio_real\"]], title=\"Sell sharp ratio\")"
   ]
  },
  {
   "cell_type": "code",
   "execution_count": null,
   "metadata": {},
   "outputs": [],
   "source": []
  },
  {
   "cell_type": "code",
   "execution_count": null,
   "metadata": {},
   "outputs": [],
   "source": []
  }
 ],
 "metadata": {
  "kernelspec": {
   "display_name": "Python 3 (ipykernel)",
   "language": "python",
   "name": "python3"
  },
  "language_info": {
   "codemirror_mode": {
    "name": "ipython",
    "version": 3
   },
   "file_extension": ".py",
   "mimetype": "text/x-python",
   "name": "python",
   "nbconvert_exporter": "python",
   "pygments_lexer": "ipython3",
   "version": "3.8.10"
  }
 },
 "nbformat": 4,
 "nbformat_minor": 4
}
