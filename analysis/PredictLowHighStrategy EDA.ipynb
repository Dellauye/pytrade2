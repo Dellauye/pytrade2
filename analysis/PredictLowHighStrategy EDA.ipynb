{
 "cells": [
  {
   "cell_type": "markdown",
   "metadata": {},
   "source": [
    "# Predict low, high strategy  EDA"
   ]
  },
  {
   "cell_type": "markdown",
   "metadata": {},
   "source": [
    "To install conda and binance packages to this notebook uncomment the code below"
   ]
  },
  {
   "cell_type": "code",
   "execution_count": 1,
   "metadata": {
    "scrolled": false
   },
   "outputs": [],
   "source": [
    "%%capture\n",
    "#%conda install -c plotly plotly=5.9.0\n",
    "#%conda install pip\n",
    "#%conda install twisted\n",
    "%pip install plotly==5.9.0\n",
    "%pip install twisted\n",
    "%pip install binance-connector==1.13.0\n",
    "%pip install pandas\n",
    "import pandas as pd\n",
    "pd.set_option('display.max_columns', None)\n",
    "pd.set_option('display.expand_frame_repr', False)\n",
    "pd.set_option('max_colwidth', None)"
   ]
  },
  {
   "cell_type": "code",
   "execution_count": 2,
   "metadata": {},
   "outputs": [],
   "source": [
    "#mode=\"dev\"\n",
    "symbol=\"BTC-USDT\"\n",
    "mode=\"yc\"\n",
    "exchange=\"huobi-hbdm\"\n",
    "#strategy=\"SimpleKerasStrategy\"\n",
    "strategy=\"LSTMStrategy\""
   ]
  },
  {
   "cell_type": "code",
   "execution_count": 3,
   "metadata": {
    "scrolled": false
   },
   "outputs": [
    {
     "name": "stdout",
     "output_type": "stream",
     "text": [
      "Downloading pytrade2 data from 158.160.36.149 to /home/dima/projects/pytrade2/deploy/yandex_cloud/../../data/yandex-cloud\n",
      "receiving incremental file list\n",
      "LSTMStrategy/LSTMStrategy.db\n",
      "LSTMStrategy/Xy/2023-06-30_BTC-USDT_X.csv\n",
      "LSTMStrategy/Xy/2023-06-30_BTC-USDT_data.csv\n",
      "LSTMStrategy/Xy/2023-06-30_BTC-USDT_y.csv\n",
      "LSTMStrategy/account/2023-06-30_balance.csv\n",
      "LSTMStrategy/weights/2023-06-30T13:47:55.488684.data-00000-of-00001\n",
      "LSTMStrategy/weights/2023-06-30T13:47:55.488684.index\n",
      "LSTMStrategy/weights/checkpoint\n",
      "\n",
      "sent 40,564 bytes  received 27,667 bytes  27,292.40 bytes/sec\n",
      "total size is 13,833,300  speedup is 202.74\n",
      "LSTMStrategy last opened: 2023-06-30 13:46:39.715000, closed: 2023-06-30 13:44:14.229000\n",
      "LSTMStrategy2 last opened: 2023-06-25 07:27:09.888000, closed: 2023-06-25 09:23:03.172000\n",
      "SimpleKerasStrategy last opened: 2023-06-20 17:45:39.118000, closed: 2023-06-20 17:45:47.380000\n",
      "Current time Пт 30 июн 2023 13:48:28 UTC\n",
      "Download completed. Local data dir: ../data/yandex-cloud\n"
     ]
    }
   ],
   "source": [
    "\n",
    "import os\n",
    "\n",
    "# Downloading latest pytrade2 data\n",
    "if mode == \"yc\":\n",
    "    os.system(\"cd ./../deploy/yandex_cloud; ./download_data.sh\")\n",
    "    data_dir=f\"../data/yandex-cloud\"\n",
    "else:\n",
    "    data_dir=f\"../data/dev\"\n",
    "    \n",
    "print(f\"Download completed. Local data dir: {data_dir}\")\n",
    "\n",
    "    "
   ]
  },
  {
   "cell_type": "markdown",
   "metadata": {},
   "source": [
    "## Init Huobi or Binance client"
   ]
  },
  {
   "cell_type": "code",
   "execution_count": 4,
   "metadata": {},
   "outputs": [
    {
     "name": "stdout",
     "output_type": "stream",
     "text": [
      "Reading yc config\n",
      "Reading local config\n",
      "Reading config from ./../pytrade2/cfg/app-defaults.yaml\n",
      "Reading config from ./../pytrade2/cfg/app.yaml\n",
      "Reading config from ./../deploy/yandex_cloud/secret//app.yaml\n",
      "Reading config from ./../deploy/yandex_cloud/secret//lstmstrategy.yaml\n",
      "Created huobi hddm rest client\n"
     ]
    }
   ],
   "source": [
    "import os\n",
    "import sys\n",
    "import yaml\n",
    "from binance.spot import Spot as Client\n",
    "from huobi.client.account import AccountClient\n",
    "from huobi.client.algo import AlgoClient\n",
    "from huobi.client.market import MarketClient\n",
    "from huobi.client.trade import TradeClient\n",
    "\n",
    "\n",
    "def load_config_files(cfg_dir:str, paths:{})->{}:\n",
    "    config={}\n",
    "    for path in paths:\n",
    "        fullpath=f\"{cfg_dir}/{path}\"\n",
    "        with open(fullpath) as file:\n",
    "            print(\"Reading config from \"+fullpath)\n",
    "            config.update(yaml.safe_load(file))\n",
    "    return config\n",
    "\n",
    "def load_config_local(strategy:str):\n",
    "    \"\"\"\n",
    "    Load config from cfg folder respecting the order: defaults, app.yaml, environment vars\n",
    "    \"\"\"\n",
    "    print(\"Reading local config\")\n",
    "    # Defaults\n",
    "    cfg_dir=\"./../pytrade2/cfg\"\n",
    "    paths=[\"app-defaults.yaml\", \"app.yaml\"]\n",
    "    return load_config_files(cfg_dir, paths)\n",
    "\n",
    "def load_config_yc(strategy):\n",
    "    \"\"\"\n",
    "    Load config from cfg folder respecting the order: defaults, app.yaml, environment vars\n",
    "    \"\"\"\n",
    "    strategy=strategy.lower()\n",
    "    print(\"Reading yc config\")\n",
    "    project_dir=\"./..\"\n",
    "    cfg_dir=f\"{project_dir}/deploy/yandex_cloud/secret/\"\n",
    "    paths=[\"app.yaml\", f\"{strategy}.yaml\"]\n",
    "\n",
    "    # Load yc config\n",
    "    config = load_config_local(strategy)\n",
    "    config.update(load_config_files(cfg_dir, paths))\n",
    "    return config\n",
    "\n",
    "def load_config(strategy):\n",
    "    \"\"\" Read yc or dev config\"\"\"\n",
    "    strategy = strategy.lower()\n",
    "    return load_config_yc(strategy) if mode == \"yc\" else load_config_local(strategy)\n",
    "\n",
    "\n",
    "def create_binance_client(strategy: str, mode: str):\n",
    "        \"\"\" Binance client creation \"\"\"\n",
    "        print(mode)\n",
    "        # Read configs to get keys from there\n",
    "        strategy=strategy.lower()\n",
    "        config = load_config(strategy)\n",
    "        key,secret=config[f\"pytrade2.exchange.{exchange}.connector.key\"],config[f\"pytrade2.exchange.{exchange}.connector.secret\"],config[f\"pytrade2.exchange.{exchange}.spot.url\"]\n",
    "        return Client(key=key, secret=secret, base_url=url, timeout=10)\n",
    "#         key,secret,url=config[f\"pytrade2.exchange.{exchange}.connector.key\"],config[f\"pytrade2.exchange.{exchange}.connector.secret\"],config[f\"pytrade2.exchange.{exchange}.spot.url\"]\n",
    "#         return Client(key=key, secret=secret, base_url=url, timeout=10)\n",
    "\n",
    "def create_huobi_spot_clients(config, strategy: str, mode: str):\n",
    "    \"\"\" Huobi client creation \"\"\"\n",
    "    strategy=strategy.lower()\n",
    "    key,secret=config[f\"pytrade2.exchange.huobi.connector.key\"],config[f\"pytrade2.exchange.huobi.connector.secret\"]\n",
    "    return  MarketClient(api_key=key, secret_key=secret), \\\n",
    "            AccountClient(api_key=key, secret_key=secret), \\\n",
    "            TradeClient(api_key=key, secret_key=secret)\n",
    "\n",
    "def create_huobi_hbdm_client(config, strategy):\n",
    "    \"\"\" Huobi derivatives market clients\"\"\"\n",
    "    sys.path.insert(0, os.path.abspath(os.path.join(os.path.dirname(\".\"), \"./../pytrade2/exch/huobi/hbdm\")))\n",
    "    from HuobiRestClient import HuobiRestClient\n",
    "    strategy=strategy.lower()\n",
    "    key,secret=config[f\"pytrade2.exchange.huobi.connector.key\"],config[f\"pytrade2.exchange.huobi.connector.secret\"]\n",
    "    return HuobiRestClient(key, secret)\n",
    "    \n",
    "\n",
    "if exchange == \"binance\":\n",
    "    binance_client = create_binance_client(strategy, mode)\n",
    "    quantity_coeff=1\n",
    "    print(\"Created Binance client\")\n",
    "elif exchange == \"huobi-spot\":\n",
    "    config=load_config(strategy.lower())\n",
    "    huobi_market_client, huobi_account_client, huobi_trade_client = create_huobi_spot_clients(config, strategy, mode)\n",
    "    huobi_account_id = config.get(\"pytrade2.broker.huobi.account.id\")\n",
    "    symbol=symbol.lower()\n",
    "    quantity_coeff=1\n",
    "    print(\"Created huobi spot clients\")\n",
    "elif exchange == \"huobi-hbdm\":\n",
    "    config=load_config(strategy.lower())\n",
    "    symbol=symbol.lower()\n",
    "    hbdm_client = create_huobi_hbdm_client(config, strategy)\n",
    "    quantity_coeff=0.001\n",
    "    print(\"Created huobi hddm rest client\")\n",
    "\n",
    "#print(hbdm_client.post(\"/linear-swap-api/v1/swap_balance_valuation\", {\"valuation_asset\": \"USDT\"}))\n",
    "    "
   ]
  },
  {
   "cell_type": "markdown",
   "metadata": {},
   "source": [
    "## Balance plot"
   ]
  },
  {
   "cell_type": "code",
   "execution_count": 29,
   "metadata": {
    "scrolled": false
   },
   "outputs": [
    {
     "data": {
      "application/vnd.plotly.v1+json": {
       "config": {
        "plotlyServerURL": "https://plot.ly"
       },
       "data": [
        {
         "hovertemplate": "datetime=%{x}<br>balance=%{y}<extra></extra>",
         "legendgroup": "",
         "line": {
          "color": "#636efa",
          "dash": "solid"
         },
         "marker": {
          "symbol": "circle"
         },
         "mode": "lines+markers",
         "name": "",
         "orientation": "v",
         "showlegend": false,
         "type": "scatter",
         "x": [
          "2023-06-21T05:30:43.078518",
          "2023-06-21T05:54:50.055837",
          "2023-06-21T06:37:48.027522",
          "2023-06-21T06:41:32.807285",
          "2023-06-21T06:57:40.956940",
          "2023-06-21T07:14:03.460746",
          "2023-06-21T07:36:02.006779",
          "2023-06-21T08:01:09.104494",
          "2023-06-21T08:24:52.419888",
          "2023-06-21T08:54:21.061072",
          "2023-06-21T09:41:43.728367",
          "2023-06-21T10:07:00.418084",
          "2023-06-21T11:02:18.556877",
          "2023-06-21T11:17:22.786849",
          "2023-06-21T12:05:05.233711",
          "2023-06-21T12:23:13.931783",
          "2023-06-21T12:52:06.178119",
          "2023-06-21T13:23:19.170492",
          "2023-06-21T14:06:29.564632",
          "2023-06-21T14:23:34.792410",
          "2023-06-21T14:54:08.269835",
          "2023-06-21T15:13:40.793498",
          "2023-06-21T15:48:20.207781",
          "2023-06-21T16:08:25.507936",
          "2023-06-21T16:38:20.819467",
          "2023-06-21T17:07:00.742455",
          "2023-06-21T17:19:06.318773",
          "2023-06-21T17:36:18.312523",
          "2023-06-21T17:58:04.029247",
          "2023-06-21T18:20:03.055985",
          "2023-06-21T18:38:47.353270",
          "2023-06-21T19:10:17.692678",
          "2023-06-21T19:31:34.488220",
          "2023-06-21T20:12:44.333076",
          "2023-06-21T20:29:37.557094",
          "2023-06-21T20:48:43.528361",
          "2023-06-21T21:09:46.950505",
          "2023-06-21T21:28:29.047242",
          "2023-06-21T21:58:02.754345",
          "2023-06-21T22:39:09.487174",
          "2023-06-21T22:54:15.021050",
          "2023-06-21T23:13:21.664314",
          "2023-06-21T23:33:25.303620",
          "2023-06-22T00:01:33.650181",
          "2023-06-22T00:26:09.501563",
          "2023-06-22T00:54:22.746548",
          "2023-06-22T02:16:57.946637",
          "2023-06-22T02:28:03.631035",
          "2023-06-22T02:48:59.052361",
          "2023-06-22T03:05:22.570000",
          "2023-06-22T03:32:39.076648",
          "2023-06-22T03:55:12.339136",
          "2023-06-22T04:20:31.359312",
          "2023-06-22T04:30:20.894932",
          "2023-06-22T05:08:59.840097",
          "2023-06-22T05:30:22.433785",
          "2023-06-22T05:58:55.423603",
          "2023-06-22T06:20:00.886519",
          "2023-06-22T06:39:47.225412",
          "2023-06-22T07:01:26.127121",
          "2023-06-22T07:23:42.722306",
          "2023-06-22T07:43:51.462982",
          "2023-06-22T08:23:41.122089",
          "2023-06-22T08:34:49.611367",
          "2023-06-22T08:51:12.523156",
          "2023-06-22T09:26:04.774335",
          "2023-06-22T09:55:24.662948",
          "2023-06-22T10:14:31.035511",
          "2023-06-22T10:44:19.666129",
          "2023-06-22T11:10:25.754485",
          "2023-06-22T11:36:37.631330",
          "2023-06-22T12:02:28.053340",
          "2023-06-22T12:30:47.702349",
          "2023-06-22T12:54:41.435318",
          "2023-06-22T13:25:52.624200",
          "2023-06-22T13:50:05.682467",
          "2023-06-22T14:18:43.788942",
          "2023-06-22T15:17:53.249253",
          "2023-06-22T15:46:59.620123",
          "2023-06-22T16:12:36.072599",
          "2023-06-22T16:39:41.198060",
          "2023-06-22T17:03:46.995873",
          "2023-06-22T17:29:04.014993",
          "2023-06-22T17:50:39.835305",
          "2023-06-22T18:01:44.646033",
          "2023-06-22T18:10:49.360938",
          "2023-06-22T19:05:41.275455",
          "2023-06-22T19:49:51.549751",
          "2023-06-22T21:02:57.339835",
          "2023-06-22T22:07:01.963084",
          "2023-06-23T00:30:07.508359",
          "2023-06-23T00:49:11.505895",
          "2023-06-23T02:03:16.632491",
          "2023-06-23T02:26:20.690921",
          "2023-06-23T06:23:27.039811",
          "2023-06-23T06:43:45.546986",
          "2023-06-25T10:06:51.621605",
          "2023-06-25T11:15:18.624033",
          "2023-06-25T13:43:52.474074",
          "2023-06-25T15:04:09.589467",
          "2023-06-25T15:05:33.129263",
          "2023-06-25T16:17:48.923549",
          "2023-06-25T16:53:33.072882",
          "2023-06-25T18:16:35.800936",
          "2023-06-25T18:17:15.985733",
          "2023-06-25T18:22:04.366303",
          "2023-06-25T18:26:40.019902",
          "2023-06-25T21:04:38.982540",
          "2023-06-26T00:20:42.934070",
          "2023-06-26T00:34:02.609079",
          "2023-06-26T01:15:13.836004",
          "2023-06-26T01:20:55.609893",
          "2023-06-26T01:23:25.160975",
          "2023-06-26T01:24:35.413103",
          "2023-06-26T01:27:38.300456",
          "2023-06-26T02:23:07.530976",
          "2023-06-26T06:52:24.860464",
          "2023-06-26T07:21:26.039140",
          "2023-06-26T10:09:38.906665",
          "2023-06-26T13:48:43.579167",
          "2023-06-26T14:01:12.512777",
          "2023-06-26T14:02:03.018163",
          "2023-06-26T14:04:23.642684",
          "2023-06-26T14:20:25.123382",
          "2023-06-26T14:24:13.324722",
          "2023-06-26T14:41:48.089331",
          "2023-06-26T14:45:37.437356",
          "2023-06-26T14:47:05.139325",
          "2023-06-26T14:56:13.825185",
          "2023-06-26T15:01:58.208680",
          "2023-06-26T16:45:25.116204",
          "2023-06-27T06:03:12.950968",
          "2023-06-27T08:05:21.412257",
          "2023-06-27T10:13:20.897077",
          "2023-06-27T10:16:58.519754",
          "2023-06-27T10:28:52.670203",
          "2023-06-27T10:31:41.894060",
          "2023-06-27T10:33:20.338698",
          "2023-06-27T10:46:45.032995",
          "2023-06-27T12:01:22.914134",
          "2023-06-27T13:52:08.982856",
          "2023-06-27T14:04:36.762515",
          "2023-06-27T14:07:57.505578",
          "2023-06-27T14:10:38.781444",
          "2023-06-27T14:10:50.444460",
          "2023-06-27T18:59:13.697656",
          "2023-06-27T19:19:57.649068",
          "2023-06-28T00:55:28.229992",
          "2023-06-28T01:17:18.150867",
          "2023-06-29T11:21:30.990719",
          "2023-06-29T12:43:34.994978",
          "2023-06-29T13:22:40.722139",
          "2023-06-29T13:59:09.140161",
          "2023-06-29T14:01:22.199644",
          "2023-06-29T14:51:40.451518",
          "2023-06-29T17:11:00.277812",
          "2023-06-29T17:14:15.522618",
          "2023-06-29T17:17:34.433264",
          "2023-06-29T20:16:06.459655",
          "2023-06-29T21:34:00.397073",
          "2023-06-30T02:43:08.602976",
          "2023-06-30T03:30:52.857590",
          "2023-06-30T03:44:51.825658",
          "2023-06-30T04:40:46.982561",
          "2023-06-30T04:43:37.723536",
          "2023-06-30T04:58:22.822194",
          "2023-06-30T05:02:18.664664",
          "2023-06-30T12:06:42.512170",
          "2023-06-30T12:10:51.714642",
          "2023-06-30T12:13:34.653899",
          "2023-06-30T12:18:05.684094",
          "2023-06-30T12:27:52.812811",
          "2023-06-30T13:39:10.943335",
          "2023-06-30T13:42:28.147922",
          "2023-06-30T13:46:23.936343"
         ],
         "xaxis": "x",
         "y": [
          30.119396175,
          30.119396175,
          30.119396175,
          30.119396175,
          30.119396175,
          30.119396175,
          30.119396175,
          30.119396175,
          30.119396175,
          30.119396175,
          30.119396175,
          30.119396175,
          30.119396175,
          30.119396175,
          30.119396175,
          30.119396175,
          30.119396175,
          30.119396175,
          30.119396175,
          30.119396175,
          30.119396175,
          30.119396175,
          30.119396175,
          30.119396175,
          30.119396175,
          30.119396175,
          30.119396175,
          30.119396175,
          30.119396175,
          30.119396175,
          30.119396175,
          30.119396175,
          30.119396175,
          30.119396175,
          30.119396175,
          30.119396175,
          30.119396175,
          30.119396175,
          30.119396175,
          30.119396175,
          30.119396175,
          30.119396175,
          30.119396175,
          30.119396175,
          30.119396175,
          30.119396175,
          30.119396175,
          30.119396175,
          30.119396175,
          30.119396175,
          30.119396175,
          30.119396175,
          30.119396175,
          30.119396175,
          30.119396175,
          30.119396175,
          30.119396175,
          30.119396175,
          30.119396175,
          30.119396175,
          30.119396175,
          30.119396175,
          30.119396175,
          30.119396175,
          30.119396175,
          30.119396175,
          30.119396175,
          30.119396175,
          30.119396175,
          30.119396175,
          30.119396175,
          30.119396175,
          30.119396175,
          30.119396175,
          30.119396175,
          30.119396175,
          30.119396175,
          30.119396175,
          30.119396175,
          30.119396175,
          30.119396175,
          30.119396175,
          30.119396175,
          30.119396175,
          30.119396175,
          30.119396175,
          30.119396175,
          30.119396175,
          30.119396175,
          30.119396175,
          30.119396175,
          30.119396175,
          30.119396175,
          30.119396175,
          30.119396175,
          30.119396175,
          33.909396175,
          33.909396175,
          33.863202695,
          33.804684095,
          33.737046255,
          33.681818095,
          33.625165215,
          33.568839695,
          33.513391335,
          33.577774975,
          33.577774975,
          33.512587415,
          33.451727375,
          33.451727375,
          33.352230655,
          33.442138175,
          33.395459695,
          33.313559775,
          33.264510295,
          33.147477615,
          33.147477615,
          33.090495615,
          33.168230615,
          33.108162415,
          33.042183175,
          32.986729175,
          32.944213615,
          32.852332295,
          32.795329975,
          32.934269775,
          32.872029455,
          32.811457655,
          32.759265935,
          32.705673415,
          32.787909335,
          32.787909335,
          32.729178615,
          32.812292375,
          32.714689455,
          32.668231855,
          32.602207455,
          32.552355855,
          32.501080335,
          32.451415415,
          32.392759255,
          32.466751895,
          32.542936575,
          32.489084935,
          32.456714255,
          32.407664095,
          32.407664095,
          32.407664095,
          32.407664095,
          32.501467895,
          32.501467895,
          32.394540975,
          32.442052055,
          32.356100415,
          32.487284335,
          32.379347495,
          32.295979095,
          32.413974775,
          32.535243695,
          32.451424295,
          32.370191455,
          32.506605535,
          32.433677575,
          32.558817855,
          32.656930975,
          32.582326615,
          32.673344535,
          32.590264725,
          32.501161885,
          32.414921525,
          32.317271405,
          32.220165365,
          32.469805805,
          32.289626365,
          32.173674045
         ],
         "yaxis": "y"
        }
       ],
       "layout": {
        "legend": {
         "tracegroupgap": 0
        },
        "template": {
         "data": {
          "bar": [
           {
            "error_x": {
             "color": "#2a3f5f"
            },
            "error_y": {
             "color": "#2a3f5f"
            },
            "marker": {
             "line": {
              "color": "#E5ECF6",
              "width": 0.5
             },
             "pattern": {
              "fillmode": "overlay",
              "size": 10,
              "solidity": 0.2
             }
            },
            "type": "bar"
           }
          ],
          "barpolar": [
           {
            "marker": {
             "line": {
              "color": "#E5ECF6",
              "width": 0.5
             },
             "pattern": {
              "fillmode": "overlay",
              "size": 10,
              "solidity": 0.2
             }
            },
            "type": "barpolar"
           }
          ],
          "carpet": [
           {
            "aaxis": {
             "endlinecolor": "#2a3f5f",
             "gridcolor": "white",
             "linecolor": "white",
             "minorgridcolor": "white",
             "startlinecolor": "#2a3f5f"
            },
            "baxis": {
             "endlinecolor": "#2a3f5f",
             "gridcolor": "white",
             "linecolor": "white",
             "minorgridcolor": "white",
             "startlinecolor": "#2a3f5f"
            },
            "type": "carpet"
           }
          ],
          "choropleth": [
           {
            "colorbar": {
             "outlinewidth": 0,
             "ticks": ""
            },
            "type": "choropleth"
           }
          ],
          "contour": [
           {
            "colorbar": {
             "outlinewidth": 0,
             "ticks": ""
            },
            "colorscale": [
             [
              0,
              "#0d0887"
             ],
             [
              0.1111111111111111,
              "#46039f"
             ],
             [
              0.2222222222222222,
              "#7201a8"
             ],
             [
              0.3333333333333333,
              "#9c179e"
             ],
             [
              0.4444444444444444,
              "#bd3786"
             ],
             [
              0.5555555555555556,
              "#d8576b"
             ],
             [
              0.6666666666666666,
              "#ed7953"
             ],
             [
              0.7777777777777778,
              "#fb9f3a"
             ],
             [
              0.8888888888888888,
              "#fdca26"
             ],
             [
              1,
              "#f0f921"
             ]
            ],
            "type": "contour"
           }
          ],
          "contourcarpet": [
           {
            "colorbar": {
             "outlinewidth": 0,
             "ticks": ""
            },
            "type": "contourcarpet"
           }
          ],
          "heatmap": [
           {
            "colorbar": {
             "outlinewidth": 0,
             "ticks": ""
            },
            "colorscale": [
             [
              0,
              "#0d0887"
             ],
             [
              0.1111111111111111,
              "#46039f"
             ],
             [
              0.2222222222222222,
              "#7201a8"
             ],
             [
              0.3333333333333333,
              "#9c179e"
             ],
             [
              0.4444444444444444,
              "#bd3786"
             ],
             [
              0.5555555555555556,
              "#d8576b"
             ],
             [
              0.6666666666666666,
              "#ed7953"
             ],
             [
              0.7777777777777778,
              "#fb9f3a"
             ],
             [
              0.8888888888888888,
              "#fdca26"
             ],
             [
              1,
              "#f0f921"
             ]
            ],
            "type": "heatmap"
           }
          ],
          "heatmapgl": [
           {
            "colorbar": {
             "outlinewidth": 0,
             "ticks": ""
            },
            "colorscale": [
             [
              0,
              "#0d0887"
             ],
             [
              0.1111111111111111,
              "#46039f"
             ],
             [
              0.2222222222222222,
              "#7201a8"
             ],
             [
              0.3333333333333333,
              "#9c179e"
             ],
             [
              0.4444444444444444,
              "#bd3786"
             ],
             [
              0.5555555555555556,
              "#d8576b"
             ],
             [
              0.6666666666666666,
              "#ed7953"
             ],
             [
              0.7777777777777778,
              "#fb9f3a"
             ],
             [
              0.8888888888888888,
              "#fdca26"
             ],
             [
              1,
              "#f0f921"
             ]
            ],
            "type": "heatmapgl"
           }
          ],
          "histogram": [
           {
            "marker": {
             "pattern": {
              "fillmode": "overlay",
              "size": 10,
              "solidity": 0.2
             }
            },
            "type": "histogram"
           }
          ],
          "histogram2d": [
           {
            "colorbar": {
             "outlinewidth": 0,
             "ticks": ""
            },
            "colorscale": [
             [
              0,
              "#0d0887"
             ],
             [
              0.1111111111111111,
              "#46039f"
             ],
             [
              0.2222222222222222,
              "#7201a8"
             ],
             [
              0.3333333333333333,
              "#9c179e"
             ],
             [
              0.4444444444444444,
              "#bd3786"
             ],
             [
              0.5555555555555556,
              "#d8576b"
             ],
             [
              0.6666666666666666,
              "#ed7953"
             ],
             [
              0.7777777777777778,
              "#fb9f3a"
             ],
             [
              0.8888888888888888,
              "#fdca26"
             ],
             [
              1,
              "#f0f921"
             ]
            ],
            "type": "histogram2d"
           }
          ],
          "histogram2dcontour": [
           {
            "colorbar": {
             "outlinewidth": 0,
             "ticks": ""
            },
            "colorscale": [
             [
              0,
              "#0d0887"
             ],
             [
              0.1111111111111111,
              "#46039f"
             ],
             [
              0.2222222222222222,
              "#7201a8"
             ],
             [
              0.3333333333333333,
              "#9c179e"
             ],
             [
              0.4444444444444444,
              "#bd3786"
             ],
             [
              0.5555555555555556,
              "#d8576b"
             ],
             [
              0.6666666666666666,
              "#ed7953"
             ],
             [
              0.7777777777777778,
              "#fb9f3a"
             ],
             [
              0.8888888888888888,
              "#fdca26"
             ],
             [
              1,
              "#f0f921"
             ]
            ],
            "type": "histogram2dcontour"
           }
          ],
          "mesh3d": [
           {
            "colorbar": {
             "outlinewidth": 0,
             "ticks": ""
            },
            "type": "mesh3d"
           }
          ],
          "parcoords": [
           {
            "line": {
             "colorbar": {
              "outlinewidth": 0,
              "ticks": ""
             }
            },
            "type": "parcoords"
           }
          ],
          "pie": [
           {
            "automargin": true,
            "type": "pie"
           }
          ],
          "scatter": [
           {
            "fillpattern": {
             "fillmode": "overlay",
             "size": 10,
             "solidity": 0.2
            },
            "type": "scatter"
           }
          ],
          "scatter3d": [
           {
            "line": {
             "colorbar": {
              "outlinewidth": 0,
              "ticks": ""
             }
            },
            "marker": {
             "colorbar": {
              "outlinewidth": 0,
              "ticks": ""
             }
            },
            "type": "scatter3d"
           }
          ],
          "scattercarpet": [
           {
            "marker": {
             "colorbar": {
              "outlinewidth": 0,
              "ticks": ""
             }
            },
            "type": "scattercarpet"
           }
          ],
          "scattergeo": [
           {
            "marker": {
             "colorbar": {
              "outlinewidth": 0,
              "ticks": ""
             }
            },
            "type": "scattergeo"
           }
          ],
          "scattergl": [
           {
            "marker": {
             "colorbar": {
              "outlinewidth": 0,
              "ticks": ""
             }
            },
            "type": "scattergl"
           }
          ],
          "scattermapbox": [
           {
            "marker": {
             "colorbar": {
              "outlinewidth": 0,
              "ticks": ""
             }
            },
            "type": "scattermapbox"
           }
          ],
          "scatterpolar": [
           {
            "marker": {
             "colorbar": {
              "outlinewidth": 0,
              "ticks": ""
             }
            },
            "type": "scatterpolar"
           }
          ],
          "scatterpolargl": [
           {
            "marker": {
             "colorbar": {
              "outlinewidth": 0,
              "ticks": ""
             }
            },
            "type": "scatterpolargl"
           }
          ],
          "scatterternary": [
           {
            "marker": {
             "colorbar": {
              "outlinewidth": 0,
              "ticks": ""
             }
            },
            "type": "scatterternary"
           }
          ],
          "surface": [
           {
            "colorbar": {
             "outlinewidth": 0,
             "ticks": ""
            },
            "colorscale": [
             [
              0,
              "#0d0887"
             ],
             [
              0.1111111111111111,
              "#46039f"
             ],
             [
              0.2222222222222222,
              "#7201a8"
             ],
             [
              0.3333333333333333,
              "#9c179e"
             ],
             [
              0.4444444444444444,
              "#bd3786"
             ],
             [
              0.5555555555555556,
              "#d8576b"
             ],
             [
              0.6666666666666666,
              "#ed7953"
             ],
             [
              0.7777777777777778,
              "#fb9f3a"
             ],
             [
              0.8888888888888888,
              "#fdca26"
             ],
             [
              1,
              "#f0f921"
             ]
            ],
            "type": "surface"
           }
          ],
          "table": [
           {
            "cells": {
             "fill": {
              "color": "#EBF0F8"
             },
             "line": {
              "color": "white"
             }
            },
            "header": {
             "fill": {
              "color": "#C8D4E3"
             },
             "line": {
              "color": "white"
             }
            },
            "type": "table"
           }
          ]
         },
         "layout": {
          "annotationdefaults": {
           "arrowcolor": "#2a3f5f",
           "arrowhead": 0,
           "arrowwidth": 1
          },
          "autotypenumbers": "strict",
          "coloraxis": {
           "colorbar": {
            "outlinewidth": 0,
            "ticks": ""
           }
          },
          "colorscale": {
           "diverging": [
            [
             0,
             "#8e0152"
            ],
            [
             0.1,
             "#c51b7d"
            ],
            [
             0.2,
             "#de77ae"
            ],
            [
             0.3,
             "#f1b6da"
            ],
            [
             0.4,
             "#fde0ef"
            ],
            [
             0.5,
             "#f7f7f7"
            ],
            [
             0.6,
             "#e6f5d0"
            ],
            [
             0.7,
             "#b8e186"
            ],
            [
             0.8,
             "#7fbc41"
            ],
            [
             0.9,
             "#4d9221"
            ],
            [
             1,
             "#276419"
            ]
           ],
           "sequential": [
            [
             0,
             "#0d0887"
            ],
            [
             0.1111111111111111,
             "#46039f"
            ],
            [
             0.2222222222222222,
             "#7201a8"
            ],
            [
             0.3333333333333333,
             "#9c179e"
            ],
            [
             0.4444444444444444,
             "#bd3786"
            ],
            [
             0.5555555555555556,
             "#d8576b"
            ],
            [
             0.6666666666666666,
             "#ed7953"
            ],
            [
             0.7777777777777778,
             "#fb9f3a"
            ],
            [
             0.8888888888888888,
             "#fdca26"
            ],
            [
             1,
             "#f0f921"
            ]
           ],
           "sequentialminus": [
            [
             0,
             "#0d0887"
            ],
            [
             0.1111111111111111,
             "#46039f"
            ],
            [
             0.2222222222222222,
             "#7201a8"
            ],
            [
             0.3333333333333333,
             "#9c179e"
            ],
            [
             0.4444444444444444,
             "#bd3786"
            ],
            [
             0.5555555555555556,
             "#d8576b"
            ],
            [
             0.6666666666666666,
             "#ed7953"
            ],
            [
             0.7777777777777778,
             "#fb9f3a"
            ],
            [
             0.8888888888888888,
             "#fdca26"
            ],
            [
             1,
             "#f0f921"
            ]
           ]
          },
          "colorway": [
           "#636efa",
           "#EF553B",
           "#00cc96",
           "#ab63fa",
           "#FFA15A",
           "#19d3f3",
           "#FF6692",
           "#B6E880",
           "#FF97FF",
           "#FECB52"
          ],
          "font": {
           "color": "#2a3f5f"
          },
          "geo": {
           "bgcolor": "white",
           "lakecolor": "white",
           "landcolor": "#E5ECF6",
           "showlakes": true,
           "showland": true,
           "subunitcolor": "white"
          },
          "hoverlabel": {
           "align": "left"
          },
          "hovermode": "closest",
          "mapbox": {
           "style": "light"
          },
          "paper_bgcolor": "white",
          "plot_bgcolor": "#E5ECF6",
          "polar": {
           "angularaxis": {
            "gridcolor": "white",
            "linecolor": "white",
            "ticks": ""
           },
           "bgcolor": "#E5ECF6",
           "radialaxis": {
            "gridcolor": "white",
            "linecolor": "white",
            "ticks": ""
           }
          },
          "scene": {
           "xaxis": {
            "backgroundcolor": "#E5ECF6",
            "gridcolor": "white",
            "gridwidth": 2,
            "linecolor": "white",
            "showbackground": true,
            "ticks": "",
            "zerolinecolor": "white"
           },
           "yaxis": {
            "backgroundcolor": "#E5ECF6",
            "gridcolor": "white",
            "gridwidth": 2,
            "linecolor": "white",
            "showbackground": true,
            "ticks": "",
            "zerolinecolor": "white"
           },
           "zaxis": {
            "backgroundcolor": "#E5ECF6",
            "gridcolor": "white",
            "gridwidth": 2,
            "linecolor": "white",
            "showbackground": true,
            "ticks": "",
            "zerolinecolor": "white"
           }
          },
          "shapedefaults": {
           "line": {
            "color": "#2a3f5f"
           }
          },
          "ternary": {
           "aaxis": {
            "gridcolor": "white",
            "linecolor": "white",
            "ticks": ""
           },
           "baxis": {
            "gridcolor": "white",
            "linecolor": "white",
            "ticks": ""
           },
           "bgcolor": "#E5ECF6",
           "caxis": {
            "gridcolor": "white",
            "linecolor": "white",
            "ticks": ""
           }
          },
          "title": {
           "x": 0.05
          },
          "xaxis": {
           "automargin": true,
           "gridcolor": "white",
           "linecolor": "white",
           "ticks": "",
           "title": {
            "standoff": 15
           },
           "zerolinecolor": "white",
           "zerolinewidth": 2
          },
          "yaxis": {
           "automargin": true,
           "gridcolor": "white",
           "linecolor": "white",
           "ticks": "",
           "title": {
            "standoff": 15
           },
           "zerolinecolor": "white",
           "zerolinewidth": 2
          }
         }
        },
        "title": {
         "text": "LSTMStrategy balance USDT"
        },
        "xaxis": {
         "anchor": "y",
         "domain": [
          0,
          1
         ],
         "title": {
          "text": "datetime"
         }
        },
        "yaxis": {
         "anchor": "x",
         "domain": [
          0,
          1
         ],
         "title": {
          "text": "balance"
         }
        }
       }
      },
      "text/html": [
       "<div>                            <div id=\"a4364f86-976d-4081-9fee-ba32b7e3a45f\" class=\"plotly-graph-div\" style=\"height:525px; width:100%;\"></div>            <script type=\"text/javascript\">                require([\"plotly\"], function(Plotly) {                    window.PLOTLYENV=window.PLOTLYENV || {};                                    if (document.getElementById(\"a4364f86-976d-4081-9fee-ba32b7e3a45f\")) {                    Plotly.newPlot(                        \"a4364f86-976d-4081-9fee-ba32b7e3a45f\",                        [{\"hovertemplate\":\"datetime=%{x}<br>balance=%{y}<extra></extra>\",\"legendgroup\":\"\",\"line\":{\"color\":\"#636efa\",\"dash\":\"solid\"},\"marker\":{\"symbol\":\"circle\"},\"mode\":\"lines+markers\",\"name\":\"\",\"orientation\":\"v\",\"showlegend\":false,\"x\":[\"2023-06-21T05:30:43.078518\",\"2023-06-21T05:54:50.055837\",\"2023-06-21T06:37:48.027522\",\"2023-06-21T06:41:32.807285\",\"2023-06-21T06:57:40.956940\",\"2023-06-21T07:14:03.460746\",\"2023-06-21T07:36:02.006779\",\"2023-06-21T08:01:09.104494\",\"2023-06-21T08:24:52.419888\",\"2023-06-21T08:54:21.061072\",\"2023-06-21T09:41:43.728367\",\"2023-06-21T10:07:00.418084\",\"2023-06-21T11:02:18.556877\",\"2023-06-21T11:17:22.786849\",\"2023-06-21T12:05:05.233711\",\"2023-06-21T12:23:13.931783\",\"2023-06-21T12:52:06.178119\",\"2023-06-21T13:23:19.170492\",\"2023-06-21T14:06:29.564632\",\"2023-06-21T14:23:34.792410\",\"2023-06-21T14:54:08.269835\",\"2023-06-21T15:13:40.793498\",\"2023-06-21T15:48:20.207781\",\"2023-06-21T16:08:25.507936\",\"2023-06-21T16:38:20.819467\",\"2023-06-21T17:07:00.742455\",\"2023-06-21T17:19:06.318773\",\"2023-06-21T17:36:18.312523\",\"2023-06-21T17:58:04.029247\",\"2023-06-21T18:20:03.055985\",\"2023-06-21T18:38:47.353270\",\"2023-06-21T19:10:17.692678\",\"2023-06-21T19:31:34.488220\",\"2023-06-21T20:12:44.333076\",\"2023-06-21T20:29:37.557094\",\"2023-06-21T20:48:43.528361\",\"2023-06-21T21:09:46.950505\",\"2023-06-21T21:28:29.047242\",\"2023-06-21T21:58:02.754345\",\"2023-06-21T22:39:09.487174\",\"2023-06-21T22:54:15.021050\",\"2023-06-21T23:13:21.664314\",\"2023-06-21T23:33:25.303620\",\"2023-06-22T00:01:33.650181\",\"2023-06-22T00:26:09.501563\",\"2023-06-22T00:54:22.746548\",\"2023-06-22T02:16:57.946637\",\"2023-06-22T02:28:03.631035\",\"2023-06-22T02:48:59.052361\",\"2023-06-22T03:05:22.570000\",\"2023-06-22T03:32:39.076648\",\"2023-06-22T03:55:12.339136\",\"2023-06-22T04:20:31.359312\",\"2023-06-22T04:30:20.894932\",\"2023-06-22T05:08:59.840097\",\"2023-06-22T05:30:22.433785\",\"2023-06-22T05:58:55.423603\",\"2023-06-22T06:20:00.886519\",\"2023-06-22T06:39:47.225412\",\"2023-06-22T07:01:26.127121\",\"2023-06-22T07:23:42.722306\",\"2023-06-22T07:43:51.462982\",\"2023-06-22T08:23:41.122089\",\"2023-06-22T08:34:49.611367\",\"2023-06-22T08:51:12.523156\",\"2023-06-22T09:26:04.774335\",\"2023-06-22T09:55:24.662948\",\"2023-06-22T10:14:31.035511\",\"2023-06-22T10:44:19.666129\",\"2023-06-22T11:10:25.754485\",\"2023-06-22T11:36:37.631330\",\"2023-06-22T12:02:28.053340\",\"2023-06-22T12:30:47.702349\",\"2023-06-22T12:54:41.435318\",\"2023-06-22T13:25:52.624200\",\"2023-06-22T13:50:05.682467\",\"2023-06-22T14:18:43.788942\",\"2023-06-22T15:17:53.249253\",\"2023-06-22T15:46:59.620123\",\"2023-06-22T16:12:36.072599\",\"2023-06-22T16:39:41.198060\",\"2023-06-22T17:03:46.995873\",\"2023-06-22T17:29:04.014993\",\"2023-06-22T17:50:39.835305\",\"2023-06-22T18:01:44.646033\",\"2023-06-22T18:10:49.360938\",\"2023-06-22T19:05:41.275455\",\"2023-06-22T19:49:51.549751\",\"2023-06-22T21:02:57.339835\",\"2023-06-22T22:07:01.963084\",\"2023-06-23T00:30:07.508359\",\"2023-06-23T00:49:11.505895\",\"2023-06-23T02:03:16.632491\",\"2023-06-23T02:26:20.690921\",\"2023-06-23T06:23:27.039811\",\"2023-06-23T06:43:45.546986\",\"2023-06-25T10:06:51.621605\",\"2023-06-25T11:15:18.624033\",\"2023-06-25T13:43:52.474074\",\"2023-06-25T15:04:09.589467\",\"2023-06-25T15:05:33.129263\",\"2023-06-25T16:17:48.923549\",\"2023-06-25T16:53:33.072882\",\"2023-06-25T18:16:35.800936\",\"2023-06-25T18:17:15.985733\",\"2023-06-25T18:22:04.366303\",\"2023-06-25T18:26:40.019902\",\"2023-06-25T21:04:38.982540\",\"2023-06-26T00:20:42.934070\",\"2023-06-26T00:34:02.609079\",\"2023-06-26T01:15:13.836004\",\"2023-06-26T01:20:55.609893\",\"2023-06-26T01:23:25.160975\",\"2023-06-26T01:24:35.413103\",\"2023-06-26T01:27:38.300456\",\"2023-06-26T02:23:07.530976\",\"2023-06-26T06:52:24.860464\",\"2023-06-26T07:21:26.039140\",\"2023-06-26T10:09:38.906665\",\"2023-06-26T13:48:43.579167\",\"2023-06-26T14:01:12.512777\",\"2023-06-26T14:02:03.018163\",\"2023-06-26T14:04:23.642684\",\"2023-06-26T14:20:25.123382\",\"2023-06-26T14:24:13.324722\",\"2023-06-26T14:41:48.089331\",\"2023-06-26T14:45:37.437356\",\"2023-06-26T14:47:05.139325\",\"2023-06-26T14:56:13.825185\",\"2023-06-26T15:01:58.208680\",\"2023-06-26T16:45:25.116204\",\"2023-06-27T06:03:12.950968\",\"2023-06-27T08:05:21.412257\",\"2023-06-27T10:13:20.897077\",\"2023-06-27T10:16:58.519754\",\"2023-06-27T10:28:52.670203\",\"2023-06-27T10:31:41.894060\",\"2023-06-27T10:33:20.338698\",\"2023-06-27T10:46:45.032995\",\"2023-06-27T12:01:22.914134\",\"2023-06-27T13:52:08.982856\",\"2023-06-27T14:04:36.762515\",\"2023-06-27T14:07:57.505578\",\"2023-06-27T14:10:38.781444\",\"2023-06-27T14:10:50.444460\",\"2023-06-27T18:59:13.697656\",\"2023-06-27T19:19:57.649068\",\"2023-06-28T00:55:28.229992\",\"2023-06-28T01:17:18.150867\",\"2023-06-29T11:21:30.990719\",\"2023-06-29T12:43:34.994978\",\"2023-06-29T13:22:40.722139\",\"2023-06-29T13:59:09.140161\",\"2023-06-29T14:01:22.199644\",\"2023-06-29T14:51:40.451518\",\"2023-06-29T17:11:00.277812\",\"2023-06-29T17:14:15.522618\",\"2023-06-29T17:17:34.433264\",\"2023-06-29T20:16:06.459655\",\"2023-06-29T21:34:00.397073\",\"2023-06-30T02:43:08.602976\",\"2023-06-30T03:30:52.857590\",\"2023-06-30T03:44:51.825658\",\"2023-06-30T04:40:46.982561\",\"2023-06-30T04:43:37.723536\",\"2023-06-30T04:58:22.822194\",\"2023-06-30T05:02:18.664664\",\"2023-06-30T12:06:42.512170\",\"2023-06-30T12:10:51.714642\",\"2023-06-30T12:13:34.653899\",\"2023-06-30T12:18:05.684094\",\"2023-06-30T12:27:52.812811\",\"2023-06-30T13:39:10.943335\",\"2023-06-30T13:42:28.147922\",\"2023-06-30T13:46:23.936343\"],\"xaxis\":\"x\",\"y\":[30.119396175,30.119396175,30.119396175,30.119396175,30.119396175,30.119396175,30.119396175,30.119396175,30.119396175,30.119396175,30.119396175,30.119396175,30.119396175,30.119396175,30.119396175,30.119396175,30.119396175,30.119396175,30.119396175,30.119396175,30.119396175,30.119396175,30.119396175,30.119396175,30.119396175,30.119396175,30.119396175,30.119396175,30.119396175,30.119396175,30.119396175,30.119396175,30.119396175,30.119396175,30.119396175,30.119396175,30.119396175,30.119396175,30.119396175,30.119396175,30.119396175,30.119396175,30.119396175,30.119396175,30.119396175,30.119396175,30.119396175,30.119396175,30.119396175,30.119396175,30.119396175,30.119396175,30.119396175,30.119396175,30.119396175,30.119396175,30.119396175,30.119396175,30.119396175,30.119396175,30.119396175,30.119396175,30.119396175,30.119396175,30.119396175,30.119396175,30.119396175,30.119396175,30.119396175,30.119396175,30.119396175,30.119396175,30.119396175,30.119396175,30.119396175,30.119396175,30.119396175,30.119396175,30.119396175,30.119396175,30.119396175,30.119396175,30.119396175,30.119396175,30.119396175,30.119396175,30.119396175,30.119396175,30.119396175,30.119396175,30.119396175,30.119396175,30.119396175,30.119396175,30.119396175,30.119396175,33.909396175,33.909396175,33.863202695,33.804684095,33.737046255,33.681818095,33.625165215,33.568839695,33.513391335,33.577774975,33.577774975,33.512587415,33.451727375,33.451727375,33.352230655,33.442138175,33.395459695,33.313559775,33.264510295,33.147477615,33.147477615,33.090495615,33.168230615,33.108162415,33.042183175,32.986729175,32.944213615,32.852332295,32.795329975,32.934269775,32.872029455,32.811457655,32.759265935,32.705673415,32.787909335,32.787909335,32.729178615,32.812292375,32.714689455,32.668231855,32.602207455,32.552355855,32.501080335,32.451415415,32.392759255,32.466751895,32.542936575,32.489084935,32.456714255,32.407664095,32.407664095,32.407664095,32.407664095,32.501467895,32.501467895,32.394540975,32.442052055,32.356100415,32.487284335,32.379347495,32.295979095,32.413974775,32.535243695,32.451424295,32.370191455,32.506605535,32.433677575,32.558817855,32.656930975,32.582326615,32.673344535,32.590264725,32.501161885,32.414921525,32.317271405,32.220165365,32.469805805,32.289626365,32.173674045],\"yaxis\":\"y\",\"type\":\"scatter\"}],                        {\"template\":{\"data\":{\"histogram2dcontour\":[{\"type\":\"histogram2dcontour\",\"colorbar\":{\"outlinewidth\":0,\"ticks\":\"\"},\"colorscale\":[[0.0,\"#0d0887\"],[0.1111111111111111,\"#46039f\"],[0.2222222222222222,\"#7201a8\"],[0.3333333333333333,\"#9c179e\"],[0.4444444444444444,\"#bd3786\"],[0.5555555555555556,\"#d8576b\"],[0.6666666666666666,\"#ed7953\"],[0.7777777777777778,\"#fb9f3a\"],[0.8888888888888888,\"#fdca26\"],[1.0,\"#f0f921\"]]}],\"choropleth\":[{\"type\":\"choropleth\",\"colorbar\":{\"outlinewidth\":0,\"ticks\":\"\"}}],\"histogram2d\":[{\"type\":\"histogram2d\",\"colorbar\":{\"outlinewidth\":0,\"ticks\":\"\"},\"colorscale\":[[0.0,\"#0d0887\"],[0.1111111111111111,\"#46039f\"],[0.2222222222222222,\"#7201a8\"],[0.3333333333333333,\"#9c179e\"],[0.4444444444444444,\"#bd3786\"],[0.5555555555555556,\"#d8576b\"],[0.6666666666666666,\"#ed7953\"],[0.7777777777777778,\"#fb9f3a\"],[0.8888888888888888,\"#fdca26\"],[1.0,\"#f0f921\"]]}],\"heatmap\":[{\"type\":\"heatmap\",\"colorbar\":{\"outlinewidth\":0,\"ticks\":\"\"},\"colorscale\":[[0.0,\"#0d0887\"],[0.1111111111111111,\"#46039f\"],[0.2222222222222222,\"#7201a8\"],[0.3333333333333333,\"#9c179e\"],[0.4444444444444444,\"#bd3786\"],[0.5555555555555556,\"#d8576b\"],[0.6666666666666666,\"#ed7953\"],[0.7777777777777778,\"#fb9f3a\"],[0.8888888888888888,\"#fdca26\"],[1.0,\"#f0f921\"]]}],\"heatmapgl\":[{\"type\":\"heatmapgl\",\"colorbar\":{\"outlinewidth\":0,\"ticks\":\"\"},\"colorscale\":[[0.0,\"#0d0887\"],[0.1111111111111111,\"#46039f\"],[0.2222222222222222,\"#7201a8\"],[0.3333333333333333,\"#9c179e\"],[0.4444444444444444,\"#bd3786\"],[0.5555555555555556,\"#d8576b\"],[0.6666666666666666,\"#ed7953\"],[0.7777777777777778,\"#fb9f3a\"],[0.8888888888888888,\"#fdca26\"],[1.0,\"#f0f921\"]]}],\"contourcarpet\":[{\"type\":\"contourcarpet\",\"colorbar\":{\"outlinewidth\":0,\"ticks\":\"\"}}],\"contour\":[{\"type\":\"contour\",\"colorbar\":{\"outlinewidth\":0,\"ticks\":\"\"},\"colorscale\":[[0.0,\"#0d0887\"],[0.1111111111111111,\"#46039f\"],[0.2222222222222222,\"#7201a8\"],[0.3333333333333333,\"#9c179e\"],[0.4444444444444444,\"#bd3786\"],[0.5555555555555556,\"#d8576b\"],[0.6666666666666666,\"#ed7953\"],[0.7777777777777778,\"#fb9f3a\"],[0.8888888888888888,\"#fdca26\"],[1.0,\"#f0f921\"]]}],\"surface\":[{\"type\":\"surface\",\"colorbar\":{\"outlinewidth\":0,\"ticks\":\"\"},\"colorscale\":[[0.0,\"#0d0887\"],[0.1111111111111111,\"#46039f\"],[0.2222222222222222,\"#7201a8\"],[0.3333333333333333,\"#9c179e\"],[0.4444444444444444,\"#bd3786\"],[0.5555555555555556,\"#d8576b\"],[0.6666666666666666,\"#ed7953\"],[0.7777777777777778,\"#fb9f3a\"],[0.8888888888888888,\"#fdca26\"],[1.0,\"#f0f921\"]]}],\"mesh3d\":[{\"type\":\"mesh3d\",\"colorbar\":{\"outlinewidth\":0,\"ticks\":\"\"}}],\"scatter\":[{\"fillpattern\":{\"fillmode\":\"overlay\",\"size\":10,\"solidity\":0.2},\"type\":\"scatter\"}],\"parcoords\":[{\"type\":\"parcoords\",\"line\":{\"colorbar\":{\"outlinewidth\":0,\"ticks\":\"\"}}}],\"scatterpolargl\":[{\"type\":\"scatterpolargl\",\"marker\":{\"colorbar\":{\"outlinewidth\":0,\"ticks\":\"\"}}}],\"bar\":[{\"error_x\":{\"color\":\"#2a3f5f\"},\"error_y\":{\"color\":\"#2a3f5f\"},\"marker\":{\"line\":{\"color\":\"#E5ECF6\",\"width\":0.5},\"pattern\":{\"fillmode\":\"overlay\",\"size\":10,\"solidity\":0.2}},\"type\":\"bar\"}],\"scattergeo\":[{\"type\":\"scattergeo\",\"marker\":{\"colorbar\":{\"outlinewidth\":0,\"ticks\":\"\"}}}],\"scatterpolar\":[{\"type\":\"scatterpolar\",\"marker\":{\"colorbar\":{\"outlinewidth\":0,\"ticks\":\"\"}}}],\"histogram\":[{\"marker\":{\"pattern\":{\"fillmode\":\"overlay\",\"size\":10,\"solidity\":0.2}},\"type\":\"histogram\"}],\"scattergl\":[{\"type\":\"scattergl\",\"marker\":{\"colorbar\":{\"outlinewidth\":0,\"ticks\":\"\"}}}],\"scatter3d\":[{\"type\":\"scatter3d\",\"line\":{\"colorbar\":{\"outlinewidth\":0,\"ticks\":\"\"}},\"marker\":{\"colorbar\":{\"outlinewidth\":0,\"ticks\":\"\"}}}],\"scattermapbox\":[{\"type\":\"scattermapbox\",\"marker\":{\"colorbar\":{\"outlinewidth\":0,\"ticks\":\"\"}}}],\"scatterternary\":[{\"type\":\"scatterternary\",\"marker\":{\"colorbar\":{\"outlinewidth\":0,\"ticks\":\"\"}}}],\"scattercarpet\":[{\"type\":\"scattercarpet\",\"marker\":{\"colorbar\":{\"outlinewidth\":0,\"ticks\":\"\"}}}],\"carpet\":[{\"aaxis\":{\"endlinecolor\":\"#2a3f5f\",\"gridcolor\":\"white\",\"linecolor\":\"white\",\"minorgridcolor\":\"white\",\"startlinecolor\":\"#2a3f5f\"},\"baxis\":{\"endlinecolor\":\"#2a3f5f\",\"gridcolor\":\"white\",\"linecolor\":\"white\",\"minorgridcolor\":\"white\",\"startlinecolor\":\"#2a3f5f\"},\"type\":\"carpet\"}],\"table\":[{\"cells\":{\"fill\":{\"color\":\"#EBF0F8\"},\"line\":{\"color\":\"white\"}},\"header\":{\"fill\":{\"color\":\"#C8D4E3\"},\"line\":{\"color\":\"white\"}},\"type\":\"table\"}],\"barpolar\":[{\"marker\":{\"line\":{\"color\":\"#E5ECF6\",\"width\":0.5},\"pattern\":{\"fillmode\":\"overlay\",\"size\":10,\"solidity\":0.2}},\"type\":\"barpolar\"}],\"pie\":[{\"automargin\":true,\"type\":\"pie\"}]},\"layout\":{\"autotypenumbers\":\"strict\",\"colorway\":[\"#636efa\",\"#EF553B\",\"#00cc96\",\"#ab63fa\",\"#FFA15A\",\"#19d3f3\",\"#FF6692\",\"#B6E880\",\"#FF97FF\",\"#FECB52\"],\"font\":{\"color\":\"#2a3f5f\"},\"hovermode\":\"closest\",\"hoverlabel\":{\"align\":\"left\"},\"paper_bgcolor\":\"white\",\"plot_bgcolor\":\"#E5ECF6\",\"polar\":{\"bgcolor\":\"#E5ECF6\",\"angularaxis\":{\"gridcolor\":\"white\",\"linecolor\":\"white\",\"ticks\":\"\"},\"radialaxis\":{\"gridcolor\":\"white\",\"linecolor\":\"white\",\"ticks\":\"\"}},\"ternary\":{\"bgcolor\":\"#E5ECF6\",\"aaxis\":{\"gridcolor\":\"white\",\"linecolor\":\"white\",\"ticks\":\"\"},\"baxis\":{\"gridcolor\":\"white\",\"linecolor\":\"white\",\"ticks\":\"\"},\"caxis\":{\"gridcolor\":\"white\",\"linecolor\":\"white\",\"ticks\":\"\"}},\"coloraxis\":{\"colorbar\":{\"outlinewidth\":0,\"ticks\":\"\"}},\"colorscale\":{\"sequential\":[[0.0,\"#0d0887\"],[0.1111111111111111,\"#46039f\"],[0.2222222222222222,\"#7201a8\"],[0.3333333333333333,\"#9c179e\"],[0.4444444444444444,\"#bd3786\"],[0.5555555555555556,\"#d8576b\"],[0.6666666666666666,\"#ed7953\"],[0.7777777777777778,\"#fb9f3a\"],[0.8888888888888888,\"#fdca26\"],[1.0,\"#f0f921\"]],\"sequentialminus\":[[0.0,\"#0d0887\"],[0.1111111111111111,\"#46039f\"],[0.2222222222222222,\"#7201a8\"],[0.3333333333333333,\"#9c179e\"],[0.4444444444444444,\"#bd3786\"],[0.5555555555555556,\"#d8576b\"],[0.6666666666666666,\"#ed7953\"],[0.7777777777777778,\"#fb9f3a\"],[0.8888888888888888,\"#fdca26\"],[1.0,\"#f0f921\"]],\"diverging\":[[0,\"#8e0152\"],[0.1,\"#c51b7d\"],[0.2,\"#de77ae\"],[0.3,\"#f1b6da\"],[0.4,\"#fde0ef\"],[0.5,\"#f7f7f7\"],[0.6,\"#e6f5d0\"],[0.7,\"#b8e186\"],[0.8,\"#7fbc41\"],[0.9,\"#4d9221\"],[1,\"#276419\"]]},\"xaxis\":{\"gridcolor\":\"white\",\"linecolor\":\"white\",\"ticks\":\"\",\"title\":{\"standoff\":15},\"zerolinecolor\":\"white\",\"automargin\":true,\"zerolinewidth\":2},\"yaxis\":{\"gridcolor\":\"white\",\"linecolor\":\"white\",\"ticks\":\"\",\"title\":{\"standoff\":15},\"zerolinecolor\":\"white\",\"automargin\":true,\"zerolinewidth\":2},\"scene\":{\"xaxis\":{\"backgroundcolor\":\"#E5ECF6\",\"gridcolor\":\"white\",\"linecolor\":\"white\",\"showbackground\":true,\"ticks\":\"\",\"zerolinecolor\":\"white\",\"gridwidth\":2},\"yaxis\":{\"backgroundcolor\":\"#E5ECF6\",\"gridcolor\":\"white\",\"linecolor\":\"white\",\"showbackground\":true,\"ticks\":\"\",\"zerolinecolor\":\"white\",\"gridwidth\":2},\"zaxis\":{\"backgroundcolor\":\"#E5ECF6\",\"gridcolor\":\"white\",\"linecolor\":\"white\",\"showbackground\":true,\"ticks\":\"\",\"zerolinecolor\":\"white\",\"gridwidth\":2}},\"shapedefaults\":{\"line\":{\"color\":\"#2a3f5f\"}},\"annotationdefaults\":{\"arrowcolor\":\"#2a3f5f\",\"arrowhead\":0,\"arrowwidth\":1},\"geo\":{\"bgcolor\":\"white\",\"landcolor\":\"#E5ECF6\",\"subunitcolor\":\"white\",\"showland\":true,\"showlakes\":true,\"lakecolor\":\"white\"},\"title\":{\"x\":0.05},\"mapbox\":{\"style\":\"light\"}}},\"xaxis\":{\"anchor\":\"y\",\"domain\":[0.0,1.0],\"title\":{\"text\":\"datetime\"}},\"yaxis\":{\"anchor\":\"x\",\"domain\":[0.0,1.0],\"title\":{\"text\":\"balance\"}},\"legend\":{\"tracegroupgap\":0},\"title\":{\"text\":\"LSTMStrategy balance USDT\"}},                        {\"responsive\": true}                    ).then(function(){\n",
       "                            \n",
       "var gd = document.getElementById('a4364f86-976d-4081-9fee-ba32b7e3a45f');\n",
       "var x = new MutationObserver(function (mutations, observer) {{\n",
       "        var display = window.getComputedStyle(gd).display;\n",
       "        if (!display || display === 'none') {{\n",
       "            console.log([gd, 'removed!']);\n",
       "            Plotly.purge(gd);\n",
       "            observer.disconnect();\n",
       "        }}\n",
       "}});\n",
       "\n",
       "// Listen for the removal of the full notebook cells\n",
       "var notebookContainer = gd.closest('#notebook-container');\n",
       "if (notebookContainer) {{\n",
       "    x.observe(notebookContainer, {childList: true});\n",
       "}}\n",
       "\n",
       "// Listen for the clearing of the current output cell\n",
       "var outputEl = gd.closest('.output');\n",
       "if (outputEl) {{\n",
       "    x.observe(outputEl, {childList: true});\n",
       "}}\n",
       "\n",
       "                        })                };                });            </script>        </div>"
      ]
     },
     "metadata": {},
     "output_type": "display_data"
    }
   ],
   "source": [
    "import plotly.express as px\n",
    "\n",
    "def get_balance(strategy: str):\n",
    "    \"\"\" Read balance history from data\"\"\"\n",
    "    \n",
    "    data_dir=f\"../data\"\n",
    "    env_dir=\"yandex-cloud\" if mode == \"yc\" else \"dev\"\n",
    "    account_dir=f\"{data_dir}/{env_dir}/{strategy}/account\"\n",
    "    #file_path = sorted([f for f in os.listdir(account_dir) if f.endswith(f\"{symbol}_{name}.csv\")])[-1]\n",
    "    files = sorted([f for f in os.listdir(account_dir) if f.endswith(f\".csv\")])\n",
    "    df = pd.concat([pd.read_csv(f\"{account_dir}/{f}\", parse_dates=True, index_col=\"time\") for f in files]).sort_index()\n",
    "    df[\"datetime\"] = df.index\n",
    "    return df\n",
    "\n",
    "balance = get_balance(strategy)\n",
    "px.line(balance, \"datetime\", \"balance\", title=f\"{strategy} balance USDT\").update_traces(mode='lines+markers').show()\n",
    "\n"
   ]
  },
  {
   "cell_type": "markdown",
   "metadata": {},
   "source": [
    "## Account and orders"
   ]
  },
  {
   "cell_type": "markdown",
   "metadata": {},
   "source": [
    "### Account info"
   ]
  },
  {
   "cell_type": "code",
   "execution_count": 5,
   "metadata": {},
   "outputs": [
    {
     "name": "stdout",
     "output_type": "stream",
     "text": [
      "Balance for 2023-06-30 16:48:29.210000\n",
      "USDT: 32.173674045000000000\n"
     ]
    }
   ],
   "source": [
    "from datetime import datetime\n",
    "\n",
    "def print_binance_account():\n",
    "    account=client.account()\n",
    "    usdt_free=[a[\"free\"] for a in account[\"balances\"] if a[\"asset\"]==\"USDT\"]\n",
    "    # update_time=account[\"update_time\"]\n",
    "    # print(f\"account update time:{update_time}\")\n",
    "    print(f\"My USDT amount({strategy}): {usdt_free}\")\n",
    "\n",
    "    print(account)\n",
    "    print(str(pd.to_datetime(account[\"updateTime\"], unit=\"ms\")))\n",
    "# btc 1.15798200\n",
    "#usdt 5134.30859706 26.04.2023 14:26\n",
    "# usdt amount \n",
    "# 14.05.2023 9602.27USDT\n",
    "# 14.05.2023 9613.27USDT\n",
    "# 15.05.2023 12:11 10851.4496USDT\n",
    "# 15.05.2023 15:26 USDT 10824.09131356, BTC 0.97100000\n",
    "# 16.05.2023 19:12 USDT 10824.13392356 BTC 0.97100000\n",
    "# 16.05.2023 22:09 USDT 10824.13237356, BTC 0.971\n",
    "# 17.05.2023 0:47  USDT 10824.08461448 BTC 0.971\n",
    "# 17.05.2023 9:44 USDT 10824.05857448 BTC 0.971\n",
    "# 17.05.2023 17:22 USDT 10824.00134797 BTC 0.971\n",
    "# 18.05.2023 08:25:81 USDT 10823.33222738 BTC 0.971\n",
    "# 18.05.2023 23:09 USDT 10821.81933906 BTC 0.971\n",
    "# 18.05.2023 07:22 USDT 10821.70723260 BTC 0.971 \n",
    "# 19.05.2023 15:20 USDT 10820.82563494 locked 27.12356000 BTC 9.970\n",
    "# 19.95.2023 15:25 USDT 10821.09770494 BTC 0.971\n",
    "\n",
    "# Set sharp ratio=4\n",
    "# 19.05.2023 19:36 USDT 10794.27474497 BTC 0.971\n",
    "# 20.05.2023 15:35 USDT 10821.28357494 BTC 0.971\n",
    "def print_huobi_spot_account():\n",
    "    print(\"Balance:\")\n",
    "    balances = huobi_account_client.get_balance(account_id=huobi_account_id)\n",
    "    for b in filter(lambda b: b.balance != \"0\", balances):\n",
    "        print(vars(b))\n",
    "def print_huobi_hbdm_account():\n",
    "    res = hbdm_client.post(\"/linear-swap-api/v1/swap_balance_valuation\", {\"valuation_asset\": \"USDT\"})\n",
    "    \n",
    "    dt=datetime.fromtimestamp(res[\"ts\"]/1000)\n",
    "    balances=\"\\n\".join([f\"{b['valuation_asset']}: {b['balance']}\" for b in res[\"data\"]])\n",
    "    print(f\"Balance for {dt}\")\n",
    "    print(balances)\n",
    "    \n",
    "if exchange == \"binance\":\n",
    "    print_binance_account()\n",
    "elif exchange == \"huobi-spot\":\n",
    "    print_huobi_spot_account()\n",
    "elif exchange == \"huobi-hbdm\":\n",
    "    print_huobi_hbdm_account()\n"
   ]
  },
  {
   "cell_type": "markdown",
   "metadata": {},
   "source": [
    "### Orders from Exchange"
   ]
  },
  {
   "cell_type": "code",
   "execution_count": 6,
   "metadata": {},
   "outputs": [],
   "source": [
    "def huobi_order_vars(order):\n",
    "    \"\"\" Convert huobi order to it's attributes \"\"\"\n",
    "    order.created_at = pd.to_datetime(order.created_at, unit='ms')\n",
    "    if order.finished_at: order.finished_at = pd.to_datetime(order.finished_at, unit='ms')\n",
    "    if order.canceled_at: order.canceled_at = pd.to_datetime(order.canceled_at, unit='ms')\n",
    "    return vars(order)"
   ]
  },
  {
   "cell_type": "code",
   "execution_count": 7,
   "metadata": {},
   "outputs": [
    {
     "data": {
      "text/html": [
       "<div>\n",
       "<style scoped>\n",
       "    .dataframe tbody tr th:only-of-type {\n",
       "        vertical-align: middle;\n",
       "    }\n",
       "\n",
       "    .dataframe tbody tr th {\n",
       "        vertical-align: top;\n",
       "    }\n",
       "\n",
       "    .dataframe thead th {\n",
       "        text-align: right;\n",
       "    }\n",
       "</style>\n",
       "<table border=\"1\" class=\"dataframe\">\n",
       "  <thead>\n",
       "    <tr style=\"text-align: right;\">\n",
       "      <th></th>\n",
       "      <th>direction</th>\n",
       "      <th>offset</th>\n",
       "      <th>volume</th>\n",
       "      <th>price</th>\n",
       "      <th>profit</th>\n",
       "      <th>pair</th>\n",
       "      <th>query_id</th>\n",
       "      <th>order_id</th>\n",
       "      <th>contract_code</th>\n",
       "      <th>symbol</th>\n",
       "      <th>lever_rate</th>\n",
       "      <th>create_date</th>\n",
       "      <th>order_source</th>\n",
       "      <th>canceled_source</th>\n",
       "      <th>order_price_type</th>\n",
       "      <th>order_type</th>\n",
       "      <th>margin_frozen</th>\n",
       "      <th>trade_volume</th>\n",
       "      <th>trade_turnover</th>\n",
       "      <th>fee</th>\n",
       "      <th>trade_avg_price</th>\n",
       "      <th>status</th>\n",
       "      <th>order_id_str</th>\n",
       "      <th>fee_asset</th>\n",
       "      <th>fee_amount</th>\n",
       "      <th>fee_quote_amount</th>\n",
       "      <th>liquidation_type</th>\n",
       "      <th>margin_asset</th>\n",
       "      <th>margin_mode</th>\n",
       "      <th>margin_account</th>\n",
       "      <th>update_time</th>\n",
       "      <th>is_tpsl</th>\n",
       "      <th>real_profit</th>\n",
       "      <th>trade_partition</th>\n",
       "      <th>reduce_only</th>\n",
       "      <th>contract_type</th>\n",
       "      <th>business_type</th>\n",
       "    </tr>\n",
       "    <tr>\n",
       "      <th>update_time</th>\n",
       "      <th></th>\n",
       "      <th></th>\n",
       "      <th></th>\n",
       "      <th></th>\n",
       "      <th></th>\n",
       "      <th></th>\n",
       "      <th></th>\n",
       "      <th></th>\n",
       "      <th></th>\n",
       "      <th></th>\n",
       "      <th></th>\n",
       "      <th></th>\n",
       "      <th></th>\n",
       "      <th></th>\n",
       "      <th></th>\n",
       "      <th></th>\n",
       "      <th></th>\n",
       "      <th></th>\n",
       "      <th></th>\n",
       "      <th></th>\n",
       "      <th></th>\n",
       "      <th></th>\n",
       "      <th></th>\n",
       "      <th></th>\n",
       "      <th></th>\n",
       "      <th></th>\n",
       "      <th></th>\n",
       "      <th></th>\n",
       "      <th></th>\n",
       "      <th></th>\n",
       "      <th></th>\n",
       "      <th></th>\n",
       "      <th></th>\n",
       "      <th></th>\n",
       "      <th></th>\n",
       "      <th></th>\n",
       "      <th></th>\n",
       "    </tr>\n",
       "  </thead>\n",
       "  <tbody>\n",
       "    <tr>\n",
       "      <th>2023-06-30 13:39:11.785</th>\n",
       "      <td>sell</td>\n",
       "      <td>both</td>\n",
       "      <td>1.0</td>\n",
       "      <td>30140.4</td>\n",
       "      <td>0.0000</td>\n",
       "      <td>BTC-USDT</td>\n",
       "      <td>48722565873</td>\n",
       "      <td>1124454110627250177</td>\n",
       "      <td>BTC-USDT</td>\n",
       "      <td>BTC</td>\n",
       "      <td>1</td>\n",
       "      <td>2023-06-30 13:39:11.312</td>\n",
       "      <td>api</td>\n",
       "      <td></td>\n",
       "      <td>19</td>\n",
       "      <td>1</td>\n",
       "      <td>0.0</td>\n",
       "      <td>1.0</td>\n",
       "      <td>30.1463</td>\n",
       "      <td>-0.012059</td>\n",
       "      <td>30146.3</td>\n",
       "      <td>6</td>\n",
       "      <td>1124454110627250177</td>\n",
       "      <td>USDT</td>\n",
       "      <td>0</td>\n",
       "      <td>0.012059</td>\n",
       "      <td>0</td>\n",
       "      <td>USDT</td>\n",
       "      <td>cross</td>\n",
       "      <td>USDT</td>\n",
       "      <td>2023-06-30 13:39:11.785</td>\n",
       "      <td>1</td>\n",
       "      <td>0.0000</td>\n",
       "      <td>USDT</td>\n",
       "      <td>0</td>\n",
       "      <td>swap</td>\n",
       "      <td>swap</td>\n",
       "    </tr>\n",
       "    <tr>\n",
       "      <th>2023-06-30 13:40:38.211</th>\n",
       "      <td>buy</td>\n",
       "      <td>both</td>\n",
       "      <td>1.0</td>\n",
       "      <td>30604.7</td>\n",
       "      <td>-0.1560</td>\n",
       "      <td>BTC-USDT</td>\n",
       "      <td>48722614642</td>\n",
       "      <td>1124454472690450432</td>\n",
       "      <td>BTC-USDT</td>\n",
       "      <td>BTC</td>\n",
       "      <td>1</td>\n",
       "      <td>2023-06-30 13:40:37.637</td>\n",
       "      <td>tpsl</td>\n",
       "      <td></td>\n",
       "      <td>1</td>\n",
       "      <td>1</td>\n",
       "      <td>0.0</td>\n",
       "      <td>1.0</td>\n",
       "      <td>30.3023</td>\n",
       "      <td>-0.012121</td>\n",
       "      <td>30302.3</td>\n",
       "      <td>6</td>\n",
       "      <td>1124454472690450432</td>\n",
       "      <td>USDT</td>\n",
       "      <td>0</td>\n",
       "      <td>0.012121</td>\n",
       "      <td>0</td>\n",
       "      <td>USDT</td>\n",
       "      <td>cross</td>\n",
       "      <td>USDT</td>\n",
       "      <td>2023-06-30 13:40:38.211</td>\n",
       "      <td>0</td>\n",
       "      <td>-0.1560</td>\n",
       "      <td>USDT</td>\n",
       "      <td>1</td>\n",
       "      <td>swap</td>\n",
       "      <td>swap</td>\n",
       "    </tr>\n",
       "    <tr>\n",
       "      <th>2023-06-30 13:42:42.496</th>\n",
       "      <td>sell</td>\n",
       "      <td>both</td>\n",
       "      <td>1.0</td>\n",
       "      <td>30128.0</td>\n",
       "      <td>0.0000</td>\n",
       "      <td>BTC-USDT</td>\n",
       "      <td>48722689615</td>\n",
       "      <td>1124454991487574017</td>\n",
       "      <td>BTC-USDT</td>\n",
       "      <td>BTC</td>\n",
       "      <td>1</td>\n",
       "      <td>2023-06-30 13:42:41.326</td>\n",
       "      <td>api</td>\n",
       "      <td></td>\n",
       "      <td>19</td>\n",
       "      <td>1</td>\n",
       "      <td>0.0</td>\n",
       "      <td>1.0</td>\n",
       "      <td>30.1445</td>\n",
       "      <td>-0.012058</td>\n",
       "      <td>30144.5</td>\n",
       "      <td>6</td>\n",
       "      <td>1124454991487574017</td>\n",
       "      <td>USDT</td>\n",
       "      <td>0</td>\n",
       "      <td>0.012058</td>\n",
       "      <td>0</td>\n",
       "      <td>USDT</td>\n",
       "      <td>cross</td>\n",
       "      <td>USDT</td>\n",
       "      <td>2023-06-30 13:42:42.496</td>\n",
       "      <td>1</td>\n",
       "      <td>0.0000</td>\n",
       "      <td>USDT</td>\n",
       "      <td>0</td>\n",
       "      <td>swap</td>\n",
       "      <td>swap</td>\n",
       "    </tr>\n",
       "    <tr>\n",
       "      <th>2023-06-30 13:44:14.229</th>\n",
       "      <td>buy</td>\n",
       "      <td>both</td>\n",
       "      <td>1.0</td>\n",
       "      <td>30454.0</td>\n",
       "      <td>-0.0918</td>\n",
       "      <td>BTC-USDT</td>\n",
       "      <td>48722735735</td>\n",
       "      <td>1124455376562962432</td>\n",
       "      <td>BTC-USDT</td>\n",
       "      <td>BTC</td>\n",
       "      <td>1</td>\n",
       "      <td>2023-06-30 13:44:13.137</td>\n",
       "      <td>tpsl</td>\n",
       "      <td></td>\n",
       "      <td>1</td>\n",
       "      <td>1</td>\n",
       "      <td>0.0</td>\n",
       "      <td>1.0</td>\n",
       "      <td>30.2363</td>\n",
       "      <td>-0.012095</td>\n",
       "      <td>30236.3</td>\n",
       "      <td>6</td>\n",
       "      <td>1124455376562962432</td>\n",
       "      <td>USDT</td>\n",
       "      <td>0</td>\n",
       "      <td>0.012095</td>\n",
       "      <td>0</td>\n",
       "      <td>USDT</td>\n",
       "      <td>cross</td>\n",
       "      <td>USDT</td>\n",
       "      <td>2023-06-30 13:44:14.229</td>\n",
       "      <td>0</td>\n",
       "      <td>-0.0918</td>\n",
       "      <td>USDT</td>\n",
       "      <td>1</td>\n",
       "      <td>swap</td>\n",
       "      <td>swap</td>\n",
       "    </tr>\n",
       "    <tr>\n",
       "      <th>2023-06-30 13:46:41.138</th>\n",
       "      <td>sell</td>\n",
       "      <td>both</td>\n",
       "      <td>1.0</td>\n",
       "      <td>30024.5</td>\n",
       "      <td>0.0000</td>\n",
       "      <td>BTC-USDT</td>\n",
       "      <td>48722822501</td>\n",
       "      <td>1124455991366623232</td>\n",
       "      <td>BTC-USDT</td>\n",
       "      <td>BTC</td>\n",
       "      <td>1</td>\n",
       "      <td>2023-06-30 13:46:39.715</td>\n",
       "      <td>api</td>\n",
       "      <td>api</td>\n",
       "      <td>19</td>\n",
       "      <td>1</td>\n",
       "      <td>0.0</td>\n",
       "      <td>0.0</td>\n",
       "      <td>0.0000</td>\n",
       "      <td>0.000000</td>\n",
       "      <td>0.0</td>\n",
       "      <td>7</td>\n",
       "      <td>1124455991366623232</td>\n",
       "      <td>USDT</td>\n",
       "      <td>0</td>\n",
       "      <td>0.000000</td>\n",
       "      <td>0</td>\n",
       "      <td>USDT</td>\n",
       "      <td>cross</td>\n",
       "      <td>USDT</td>\n",
       "      <td>2023-06-30 13:46:41.138</td>\n",
       "      <td>1</td>\n",
       "      <td>0.0000</td>\n",
       "      <td>USDT</td>\n",
       "      <td>0</td>\n",
       "      <td>swap</td>\n",
       "      <td>swap</td>\n",
       "    </tr>\n",
       "  </tbody>\n",
       "</table>\n",
       "</div>"
      ],
      "text/plain": [
       "                        direction offset  volume    price  profit      pair     query_id             order_id contract_code symbol  lever_rate             create_date order_source canceled_source  order_price_type  order_type  margin_frozen  trade_volume  trade_turnover       fee  trade_avg_price  status         order_id_str fee_asset  fee_amount  fee_quote_amount liquidation_type margin_asset margin_mode margin_account             update_time  is_tpsl  real_profit trade_partition  reduce_only contract_type business_type\n",
       "update_time                                                                                                                                                                                                                                                                                                                                                                                                                                                                                                                                   \n",
       "2023-06-30 13:39:11.785      sell   both     1.0  30140.4  0.0000  BTC-USDT  48722565873  1124454110627250177      BTC-USDT    BTC           1 2023-06-30 13:39:11.312          api                                19           1            0.0           1.0         30.1463 -0.012059          30146.3       6  1124454110627250177      USDT           0          0.012059                0         USDT       cross           USDT 2023-06-30 13:39:11.785        1       0.0000            USDT            0          swap          swap\n",
       "2023-06-30 13:40:38.211       buy   both     1.0  30604.7 -0.1560  BTC-USDT  48722614642  1124454472690450432      BTC-USDT    BTC           1 2023-06-30 13:40:37.637         tpsl                                 1           1            0.0           1.0         30.3023 -0.012121          30302.3       6  1124454472690450432      USDT           0          0.012121                0         USDT       cross           USDT 2023-06-30 13:40:38.211        0      -0.1560            USDT            1          swap          swap\n",
       "2023-06-30 13:42:42.496      sell   both     1.0  30128.0  0.0000  BTC-USDT  48722689615  1124454991487574017      BTC-USDT    BTC           1 2023-06-30 13:42:41.326          api                                19           1            0.0           1.0         30.1445 -0.012058          30144.5       6  1124454991487574017      USDT           0          0.012058                0         USDT       cross           USDT 2023-06-30 13:42:42.496        1       0.0000            USDT            0          swap          swap\n",
       "2023-06-30 13:44:14.229       buy   both     1.0  30454.0 -0.0918  BTC-USDT  48722735735  1124455376562962432      BTC-USDT    BTC           1 2023-06-30 13:44:13.137         tpsl                                 1           1            0.0           1.0         30.2363 -0.012095          30236.3       6  1124455376562962432      USDT           0          0.012095                0         USDT       cross           USDT 2023-06-30 13:44:14.229        0      -0.0918            USDT            1          swap          swap\n",
       "2023-06-30 13:46:41.138      sell   both     1.0  30024.5  0.0000  BTC-USDT  48722822501  1124455991366623232      BTC-USDT    BTC           1 2023-06-30 13:46:39.715          api             api                19           1            0.0           0.0          0.0000  0.000000              0.0       7  1124455991366623232      USDT           0          0.000000                0         USDT       cross           USDT 2023-06-30 13:46:41.138        1       0.0000            USDT            0          swap          swap"
      ]
     },
     "execution_count": 7,
     "metadata": {},
     "output_type": "execute_result"
    }
   ],
   "source": [
    "import pandas as pd\n",
    "\n",
    "def get_binance_orders():\n",
    "    orders = pd.DataFrame(client.get_orders(symbol))\n",
    "    for timecol in [\"time\", \"updateTime\", \"workingTime\"]:\n",
    "        orders[timecol] = pd.to_datetime(orders[timecol], unit='ms')\n",
    "    return orders.set_index(\"time\", drop=False)\n",
    "\n",
    "def get_huobi_spot_orders():\n",
    "    orders = huobi_trade_client.get_orders(symbol=symbol, order_state=\"filled\")\n",
    "    orders = pd.DataFrame([huobi_order_vars(o) for o in orders]).set_index(\"finished_at\", drop=False)\n",
    "    return orders\n",
    "\n",
    "def get_huobi_hbdm_orders():\n",
    "    res = hbdm_client.post(\"/linear-swap-api/v3/swap_cross_hisorders\",\n",
    "                           {\"pair\": symbol, \"type\":1, \"trade_type\": 0, \"status\": 0})\n",
    "\n",
    "    orders=pd.DataFrame(res[\"data\"])\n",
    "    for timecol in [\"create_date\", \"update_time\"]:\n",
    "        orders[timecol] = pd.to_datetime(orders[timecol], unit='ms')\n",
    "    orders = orders.set_index(\"update_time\", drop=False).sort_index()        \n",
    "    return orders\n",
    "\n",
    "\n",
    "if exchange == \"binance\":\n",
    "    orders = get_binance_orders()\n",
    "elif exchange == \"huobi-spot\":\n",
    "    orders = get_huobi_spot_orders()\n",
    "elif exchange == \"huobi-hbdm\":\n",
    "    orders = get_huobi_hbdm_orders()\n",
    "\n",
    "orders.tail()\n"
   ]
  },
  {
   "cell_type": "markdown",
   "metadata": {},
   "source": [
    "### Opened orders from Exchange"
   ]
  },
  {
   "cell_type": "code",
   "execution_count": 8,
   "metadata": {},
   "outputs": [
    {
     "name": "stdout",
     "output_type": "stream",
     "text": [
      "Opened orders\n"
     ]
    },
    {
     "data": {
      "text/html": [
       "<div>\n",
       "<style scoped>\n",
       "    .dataframe tbody tr th:only-of-type {\n",
       "        vertical-align: middle;\n",
       "    }\n",
       "\n",
       "    .dataframe tbody tr th {\n",
       "        vertical-align: top;\n",
       "    }\n",
       "\n",
       "    .dataframe thead th {\n",
       "        text-align: right;\n",
       "    }\n",
       "</style>\n",
       "<table border=\"1\" class=\"dataframe\">\n",
       "  <thead>\n",
       "    <tr style=\"text-align: right;\">\n",
       "      <th></th>\n",
       "    </tr>\n",
       "  </thead>\n",
       "  <tbody>\n",
       "  </tbody>\n",
       "</table>\n",
       "</div>"
      ],
      "text/plain": [
       "Empty DataFrame\n",
       "Columns: []\n",
       "Index: []"
      ]
     },
     "execution_count": 8,
     "metadata": {},
     "output_type": "execute_result"
    }
   ],
   "source": [
    "def get_binance_opened_orders():\n",
    "    orders=pd.DataFrame(client.get_open_orders(symbol))\n",
    "\n",
    "    for timecol in [\"time\", \"updateTime\", \"workingTime\"]:\n",
    "        if timecol in orders.columns:\n",
    "            orders[timecol] = pd.to_datetime(orders[timecol], unit='ms')\n",
    "    if \"time\" in orders.columns:\n",
    "        orders.set_index(\"time\", drop=False, inplace=True)\n",
    "    return order\n",
    "    \n",
    "def get_huobi_spot_opened_orders():\n",
    "    opened_orders = huobi_trade_client.get_open_orders(symbol=symbol, account_id = huobi_account_id)\n",
    "    opened_orders = pd.DataFrame([huobi_order_vars(o) for o in opened_orders])\n",
    "    if not opened_orders.empty: opened_orders = opened.orders.set_index(\"created_at\").round(2)\n",
    "    return opened_orders\n",
    "\n",
    "def get_huobi_hbdm_opened_orders():\n",
    "    res = hbdm_client.post(\"/linear-swap-api/v1/swap_cross_openorders\",\n",
    "                           {\"pair\": symbol, \"type\":1, \"trade_type\": 0})\n",
    "\n",
    "    orders=pd.DataFrame(res[\"data\"][\"orders\"])\n",
    "    return orders\n",
    "\n",
    "if exchange == \"binance\":\n",
    "    opened_orders = get_binance_opened_orders()\n",
    "elif exchange == \"huobi-spot\":\n",
    "    opened_orders = get_huobi_spot_opened_orders()\n",
    "elif exchange == \"huobi-hbdm\":\n",
    "    opened_orders = get_huobi_hbdm_opened_orders()\n",
    "\n",
    "print(\"Opened orders\")    \n",
    "opened_orders.tail()\n"
   ]
  },
  {
   "cell_type": "markdown",
   "metadata": {},
   "source": [
    "### My trades from Exchange"
   ]
  },
  {
   "cell_type": "code",
   "execution_count": 9,
   "metadata": {},
   "outputs": [
    {
     "data": {
      "text/html": [
       "<div>\n",
       "<style scoped>\n",
       "    .dataframe tbody tr th:only-of-type {\n",
       "        vertical-align: middle;\n",
       "    }\n",
       "\n",
       "    .dataframe tbody tr th {\n",
       "        vertical-align: top;\n",
       "    }\n",
       "\n",
       "    .dataframe thead th {\n",
       "        text-align: right;\n",
       "    }\n",
       "</style>\n",
       "<table border=\"1\" class=\"dataframe\">\n",
       "  <thead>\n",
       "    <tr style=\"text-align: right;\">\n",
       "      <th></th>\n",
       "      <th>direction</th>\n",
       "      <th>offset</th>\n",
       "      <th>volume</th>\n",
       "      <th>price</th>\n",
       "      <th>profit</th>\n",
       "      <th>pair</th>\n",
       "      <th>query_id</th>\n",
       "      <th>order_id</th>\n",
       "      <th>contract_code</th>\n",
       "      <th>symbol</th>\n",
       "      <th>lever_rate</th>\n",
       "      <th>create_date</th>\n",
       "      <th>order_source</th>\n",
       "      <th>canceled_source</th>\n",
       "      <th>order_price_type</th>\n",
       "      <th>order_type</th>\n",
       "      <th>margin_frozen</th>\n",
       "      <th>trade_volume</th>\n",
       "      <th>trade_turnover</th>\n",
       "      <th>fee</th>\n",
       "      <th>trade_avg_price</th>\n",
       "      <th>status</th>\n",
       "      <th>order_id_str</th>\n",
       "      <th>fee_asset</th>\n",
       "      <th>fee_amount</th>\n",
       "      <th>fee_quote_amount</th>\n",
       "      <th>liquidation_type</th>\n",
       "      <th>margin_asset</th>\n",
       "      <th>margin_mode</th>\n",
       "      <th>margin_account</th>\n",
       "      <th>update_time</th>\n",
       "      <th>is_tpsl</th>\n",
       "      <th>real_profit</th>\n",
       "      <th>trade_partition</th>\n",
       "      <th>reduce_only</th>\n",
       "      <th>contract_type</th>\n",
       "      <th>business_type</th>\n",
       "    </tr>\n",
       "    <tr>\n",
       "      <th>update_time</th>\n",
       "      <th></th>\n",
       "      <th></th>\n",
       "      <th></th>\n",
       "      <th></th>\n",
       "      <th></th>\n",
       "      <th></th>\n",
       "      <th></th>\n",
       "      <th></th>\n",
       "      <th></th>\n",
       "      <th></th>\n",
       "      <th></th>\n",
       "      <th></th>\n",
       "      <th></th>\n",
       "      <th></th>\n",
       "      <th></th>\n",
       "      <th></th>\n",
       "      <th></th>\n",
       "      <th></th>\n",
       "      <th></th>\n",
       "      <th></th>\n",
       "      <th></th>\n",
       "      <th></th>\n",
       "      <th></th>\n",
       "      <th></th>\n",
       "      <th></th>\n",
       "      <th></th>\n",
       "      <th></th>\n",
       "      <th></th>\n",
       "      <th></th>\n",
       "      <th></th>\n",
       "      <th></th>\n",
       "      <th></th>\n",
       "      <th></th>\n",
       "      <th></th>\n",
       "      <th></th>\n",
       "      <th></th>\n",
       "      <th></th>\n",
       "    </tr>\n",
       "  </thead>\n",
       "  <tbody>\n",
       "    <tr>\n",
       "      <th>2023-06-30 13:37:33.362</th>\n",
       "      <td>buy</td>\n",
       "      <td>both</td>\n",
       "      <td>1.0</td>\n",
       "      <td>30444.5</td>\n",
       "      <td>0.2741</td>\n",
       "      <td>BTC-USDT</td>\n",
       "      <td>48722508457</td>\n",
       "      <td>1124453696077316096</td>\n",
       "      <td>BTC-USDT</td>\n",
       "      <td>BTC</td>\n",
       "      <td>1</td>\n",
       "      <td>2023-06-30 13:37:32.478</td>\n",
       "      <td>tpsl</td>\n",
       "      <td></td>\n",
       "      <td>7</td>\n",
       "      <td>1</td>\n",
       "      <td>0.0</td>\n",
       "      <td>1.0</td>\n",
       "      <td>30.4374</td>\n",
       "      <td>-0.012175</td>\n",
       "      <td>30437.4</td>\n",
       "      <td>6</td>\n",
       "      <td>1124453696077316096</td>\n",
       "      <td>USDT</td>\n",
       "      <td>0</td>\n",
       "      <td>0.012175</td>\n",
       "      <td>0</td>\n",
       "      <td>USDT</td>\n",
       "      <td>cross</td>\n",
       "      <td>USDT</td>\n",
       "      <td>2023-06-30 13:37:33.362</td>\n",
       "      <td>0</td>\n",
       "      <td>0.2741</td>\n",
       "      <td>USDT</td>\n",
       "      <td>1</td>\n",
       "      <td>swap</td>\n",
       "      <td>swap</td>\n",
       "    </tr>\n",
       "    <tr>\n",
       "      <th>2023-06-30 13:39:11.785</th>\n",
       "      <td>sell</td>\n",
       "      <td>both</td>\n",
       "      <td>1.0</td>\n",
       "      <td>30140.4</td>\n",
       "      <td>0.0000</td>\n",
       "      <td>BTC-USDT</td>\n",
       "      <td>48722565873</td>\n",
       "      <td>1124454110627250177</td>\n",
       "      <td>BTC-USDT</td>\n",
       "      <td>BTC</td>\n",
       "      <td>1</td>\n",
       "      <td>2023-06-30 13:39:11.312</td>\n",
       "      <td>api</td>\n",
       "      <td></td>\n",
       "      <td>19</td>\n",
       "      <td>1</td>\n",
       "      <td>0.0</td>\n",
       "      <td>1.0</td>\n",
       "      <td>30.1463</td>\n",
       "      <td>-0.012059</td>\n",
       "      <td>30146.3</td>\n",
       "      <td>6</td>\n",
       "      <td>1124454110627250177</td>\n",
       "      <td>USDT</td>\n",
       "      <td>0</td>\n",
       "      <td>0.012059</td>\n",
       "      <td>0</td>\n",
       "      <td>USDT</td>\n",
       "      <td>cross</td>\n",
       "      <td>USDT</td>\n",
       "      <td>2023-06-30 13:39:11.785</td>\n",
       "      <td>1</td>\n",
       "      <td>0.0000</td>\n",
       "      <td>USDT</td>\n",
       "      <td>0</td>\n",
       "      <td>swap</td>\n",
       "      <td>swap</td>\n",
       "    </tr>\n",
       "    <tr>\n",
       "      <th>2023-06-30 13:40:38.211</th>\n",
       "      <td>buy</td>\n",
       "      <td>both</td>\n",
       "      <td>1.0</td>\n",
       "      <td>30604.7</td>\n",
       "      <td>-0.1560</td>\n",
       "      <td>BTC-USDT</td>\n",
       "      <td>48722614642</td>\n",
       "      <td>1124454472690450432</td>\n",
       "      <td>BTC-USDT</td>\n",
       "      <td>BTC</td>\n",
       "      <td>1</td>\n",
       "      <td>2023-06-30 13:40:37.637</td>\n",
       "      <td>tpsl</td>\n",
       "      <td></td>\n",
       "      <td>1</td>\n",
       "      <td>1</td>\n",
       "      <td>0.0</td>\n",
       "      <td>1.0</td>\n",
       "      <td>30.3023</td>\n",
       "      <td>-0.012121</td>\n",
       "      <td>30302.3</td>\n",
       "      <td>6</td>\n",
       "      <td>1124454472690450432</td>\n",
       "      <td>USDT</td>\n",
       "      <td>0</td>\n",
       "      <td>0.012121</td>\n",
       "      <td>0</td>\n",
       "      <td>USDT</td>\n",
       "      <td>cross</td>\n",
       "      <td>USDT</td>\n",
       "      <td>2023-06-30 13:40:38.211</td>\n",
       "      <td>0</td>\n",
       "      <td>-0.1560</td>\n",
       "      <td>USDT</td>\n",
       "      <td>1</td>\n",
       "      <td>swap</td>\n",
       "      <td>swap</td>\n",
       "    </tr>\n",
       "    <tr>\n",
       "      <th>2023-06-30 13:42:42.496</th>\n",
       "      <td>sell</td>\n",
       "      <td>both</td>\n",
       "      <td>1.0</td>\n",
       "      <td>30128.0</td>\n",
       "      <td>0.0000</td>\n",
       "      <td>BTC-USDT</td>\n",
       "      <td>48722689615</td>\n",
       "      <td>1124454991487574017</td>\n",
       "      <td>BTC-USDT</td>\n",
       "      <td>BTC</td>\n",
       "      <td>1</td>\n",
       "      <td>2023-06-30 13:42:41.326</td>\n",
       "      <td>api</td>\n",
       "      <td></td>\n",
       "      <td>19</td>\n",
       "      <td>1</td>\n",
       "      <td>0.0</td>\n",
       "      <td>1.0</td>\n",
       "      <td>30.1445</td>\n",
       "      <td>-0.012058</td>\n",
       "      <td>30144.5</td>\n",
       "      <td>6</td>\n",
       "      <td>1124454991487574017</td>\n",
       "      <td>USDT</td>\n",
       "      <td>0</td>\n",
       "      <td>0.012058</td>\n",
       "      <td>0</td>\n",
       "      <td>USDT</td>\n",
       "      <td>cross</td>\n",
       "      <td>USDT</td>\n",
       "      <td>2023-06-30 13:42:42.496</td>\n",
       "      <td>1</td>\n",
       "      <td>0.0000</td>\n",
       "      <td>USDT</td>\n",
       "      <td>0</td>\n",
       "      <td>swap</td>\n",
       "      <td>swap</td>\n",
       "    </tr>\n",
       "    <tr>\n",
       "      <th>2023-06-30 13:44:14.229</th>\n",
       "      <td>buy</td>\n",
       "      <td>both</td>\n",
       "      <td>1.0</td>\n",
       "      <td>30454.0</td>\n",
       "      <td>-0.0918</td>\n",
       "      <td>BTC-USDT</td>\n",
       "      <td>48722735735</td>\n",
       "      <td>1124455376562962432</td>\n",
       "      <td>BTC-USDT</td>\n",
       "      <td>BTC</td>\n",
       "      <td>1</td>\n",
       "      <td>2023-06-30 13:44:13.137</td>\n",
       "      <td>tpsl</td>\n",
       "      <td></td>\n",
       "      <td>1</td>\n",
       "      <td>1</td>\n",
       "      <td>0.0</td>\n",
       "      <td>1.0</td>\n",
       "      <td>30.2363</td>\n",
       "      <td>-0.012095</td>\n",
       "      <td>30236.3</td>\n",
       "      <td>6</td>\n",
       "      <td>1124455376562962432</td>\n",
       "      <td>USDT</td>\n",
       "      <td>0</td>\n",
       "      <td>0.012095</td>\n",
       "      <td>0</td>\n",
       "      <td>USDT</td>\n",
       "      <td>cross</td>\n",
       "      <td>USDT</td>\n",
       "      <td>2023-06-30 13:44:14.229</td>\n",
       "      <td>0</td>\n",
       "      <td>-0.0918</td>\n",
       "      <td>USDT</td>\n",
       "      <td>1</td>\n",
       "      <td>swap</td>\n",
       "      <td>swap</td>\n",
       "    </tr>\n",
       "  </tbody>\n",
       "</table>\n",
       "</div>"
      ],
      "text/plain": [
       "                        direction offset  volume    price  profit      pair     query_id             order_id contract_code symbol  lever_rate             create_date order_source canceled_source  order_price_type  order_type  margin_frozen  trade_volume  trade_turnover       fee  trade_avg_price  status         order_id_str fee_asset  fee_amount  fee_quote_amount liquidation_type margin_asset margin_mode margin_account             update_time  is_tpsl  real_profit trade_partition  reduce_only contract_type business_type\n",
       "update_time                                                                                                                                                                                                                                                                                                                                                                                                                                                                                                                                   \n",
       "2023-06-30 13:37:33.362       buy   both     1.0  30444.5  0.2741  BTC-USDT  48722508457  1124453696077316096      BTC-USDT    BTC           1 2023-06-30 13:37:32.478         tpsl                                 7           1            0.0           1.0         30.4374 -0.012175          30437.4       6  1124453696077316096      USDT           0          0.012175                0         USDT       cross           USDT 2023-06-30 13:37:33.362        0       0.2741            USDT            1          swap          swap\n",
       "2023-06-30 13:39:11.785      sell   both     1.0  30140.4  0.0000  BTC-USDT  48722565873  1124454110627250177      BTC-USDT    BTC           1 2023-06-30 13:39:11.312          api                                19           1            0.0           1.0         30.1463 -0.012059          30146.3       6  1124454110627250177      USDT           0          0.012059                0         USDT       cross           USDT 2023-06-30 13:39:11.785        1       0.0000            USDT            0          swap          swap\n",
       "2023-06-30 13:40:38.211       buy   both     1.0  30604.7 -0.1560  BTC-USDT  48722614642  1124454472690450432      BTC-USDT    BTC           1 2023-06-30 13:40:37.637         tpsl                                 1           1            0.0           1.0         30.3023 -0.012121          30302.3       6  1124454472690450432      USDT           0          0.012121                0         USDT       cross           USDT 2023-06-30 13:40:38.211        0      -0.1560            USDT            1          swap          swap\n",
       "2023-06-30 13:42:42.496      sell   both     1.0  30128.0  0.0000  BTC-USDT  48722689615  1124454991487574017      BTC-USDT    BTC           1 2023-06-30 13:42:41.326          api                                19           1            0.0           1.0         30.1445 -0.012058          30144.5       6  1124454991487574017      USDT           0          0.012058                0         USDT       cross           USDT 2023-06-30 13:42:42.496        1       0.0000            USDT            0          swap          swap\n",
       "2023-06-30 13:44:14.229       buy   both     1.0  30454.0 -0.0918  BTC-USDT  48722735735  1124455376562962432      BTC-USDT    BTC           1 2023-06-30 13:44:13.137         tpsl                                 1           1            0.0           1.0         30.2363 -0.012095          30236.3       6  1124455376562962432      USDT           0          0.012095                0         USDT       cross           USDT 2023-06-30 13:44:14.229        0      -0.0918            USDT            1          swap          swap"
      ]
     },
     "execution_count": 9,
     "metadata": {},
     "output_type": "execute_result"
    }
   ],
   "source": [
    "def get_binance_trades():\n",
    "    mytrades=pd.DataFrame(client.my_trades(symbol))\n",
    "    mytrades[\"time\"] = pd.to_datetime(mytrades[\"time\"], unit='ms')\n",
    "    mytrades.tail()\n",
    "\n",
    "def get_huobi_hbdm_trades():\n",
    "    res = hbdm_client.post(\"/linear-swap-api/v3/swap_cross_hisorders\",\n",
    "                           {\"pair\": symbol, \"type\":1, \"trade_type\": 0, \"status\": 6})\n",
    "\n",
    "    orders=pd.DataFrame(res[\"data\"])\n",
    "    for timecol in [\"create_date\", \"update_time\"]:\n",
    "        orders[timecol] = pd.to_datetime(orders[timecol], unit='ms')\n",
    "    orders = orders.set_index(\"update_time\", drop=False).sort_index()        \n",
    "    return orders\n",
    "\n",
    "if exchange == \"binance\":\n",
    "    exch_trades = get_binance_trades().tail()\n",
    "elif exchange == \"huobi-hbdm\":\n",
    "    exch_trades = get_huobi_hbdm_trades()\n",
    "    \n",
    "exch_trades.tail()\n",
    "    "
   ]
  },
  {
   "cell_type": "markdown",
   "metadata": {},
   "source": [
    "### Trades from bot database"
   ]
  },
  {
   "cell_type": "code",
   "execution_count": 10,
   "metadata": {},
   "outputs": [
    {
     "name": "stdout",
     "output_type": "stream",
     "text": [
      "Get trades from ../data/yandex-cloud/LSTMStrategy/LSTMStrategy.db\n"
     ]
    },
    {
     "data": {
      "text/html": [
       "<div>\n",
       "<style scoped>\n",
       "    .dataframe tbody tr th:only-of-type {\n",
       "        vertical-align: middle;\n",
       "    }\n",
       "\n",
       "    .dataframe tbody tr th {\n",
       "        vertical-align: top;\n",
       "    }\n",
       "\n",
       "    .dataframe thead th {\n",
       "        text-align: right;\n",
       "    }\n",
       "</style>\n",
       "<table border=\"1\" class=\"dataframe\">\n",
       "  <thead>\n",
       "    <tr style=\"text-align: right;\">\n",
       "      <th></th>\n",
       "      <th>id</th>\n",
       "      <th>ticker</th>\n",
       "      <th>side</th>\n",
       "      <th>open_time</th>\n",
       "      <th>open_price</th>\n",
       "      <th>open_order_id</th>\n",
       "      <th>stop_loss_price</th>\n",
       "      <th>take_profit_price</th>\n",
       "      <th>stop_loss_order_id</th>\n",
       "      <th>trailing_delta</th>\n",
       "      <th>quantity</th>\n",
       "      <th>close_time</th>\n",
       "      <th>close_price</th>\n",
       "      <th>close_order_id</th>\n",
       "      <th>status</th>\n",
       "      <th>profit</th>\n",
       "      <th>cum_profit</th>\n",
       "    </tr>\n",
       "  </thead>\n",
       "  <tbody>\n",
       "    <tr>\n",
       "      <th>20</th>\n",
       "      <td>21</td>\n",
       "      <td>BTC-USDT</td>\n",
       "      <td>SELL</td>\n",
       "      <td>2023-06-30 12:18:20.970</td>\n",
       "      <td>30971.4</td>\n",
       "      <td>1124433766818045952</td>\n",
       "      <td>31343.6</td>\n",
       "      <td>0.0</td>\n",
       "      <td>1124433766834823169,1124433766834823168</td>\n",
       "      <td>None</td>\n",
       "      <td>1.0</td>\n",
       "      <td>2023-06-30 12:27:36.559</td>\n",
       "      <td>31043.7</td>\n",
       "      <td>1124436091325136896</td>\n",
       "      <td>closed</td>\n",
       "      <td>-0.079742</td>\n",
       "      <td>0.077366</td>\n",
       "    </tr>\n",
       "    <tr>\n",
       "      <th>21</th>\n",
       "      <td>22</td>\n",
       "      <td>BTC-USDT</td>\n",
       "      <td>SELL</td>\n",
       "      <td>2023-06-30 13:36:12.218</td>\n",
       "      <td>30711.5</td>\n",
       "      <td>1124453359450341376</td>\n",
       "      <td>31190.3</td>\n",
       "      <td>0.0</td>\n",
       "      <td>1124453359475507201,1124453359475507200</td>\n",
       "      <td>None</td>\n",
       "      <td>1.0</td>\n",
       "      <td>2023-06-30 13:37:33.362</td>\n",
       "      <td>30437.4</td>\n",
       "      <td>1124453696077316096</td>\n",
       "      <td>closed</td>\n",
       "      <td>0.266762</td>\n",
       "      <td>0.344128</td>\n",
       "    </tr>\n",
       "    <tr>\n",
       "      <th>22</th>\n",
       "      <td>23</td>\n",
       "      <td>BTC-USDT</td>\n",
       "      <td>SELL</td>\n",
       "      <td>2023-06-30 13:39:11.312</td>\n",
       "      <td>30146.3</td>\n",
       "      <td>1124454110627250177</td>\n",
       "      <td>30604.7</td>\n",
       "      <td>0.0</td>\n",
       "      <td>1124454110648221697,1124454110648221696</td>\n",
       "      <td>None</td>\n",
       "      <td>1.0</td>\n",
       "      <td>2023-06-30 13:40:38.211</td>\n",
       "      <td>30302.3</td>\n",
       "      <td>1124454472690450432</td>\n",
       "      <td>closed</td>\n",
       "      <td>-0.163254</td>\n",
       "      <td>0.180874</td>\n",
       "    </tr>\n",
       "    <tr>\n",
       "      <th>23</th>\n",
       "      <td>24</td>\n",
       "      <td>BTC-USDT</td>\n",
       "      <td>SELL</td>\n",
       "      <td>2023-06-30 13:42:41.326</td>\n",
       "      <td>30144.5</td>\n",
       "      <td>1124454991487574017</td>\n",
       "      <td>30454.0</td>\n",
       "      <td>0.0</td>\n",
       "      <td>1124454991508545539,1124454991508545538</td>\n",
       "      <td>None</td>\n",
       "      <td>1.0</td>\n",
       "      <td>2023-06-30 13:44:14.229</td>\n",
       "      <td>30236.3</td>\n",
       "      <td>1124455376562962432</td>\n",
       "      <td>closed</td>\n",
       "      <td>-0.099046</td>\n",
       "      <td>0.081829</td>\n",
       "    </tr>\n",
       "    <tr>\n",
       "      <th>24</th>\n",
       "      <td>25</td>\n",
       "      <td>BTC-USDT</td>\n",
       "      <td>SELL</td>\n",
       "      <td>2023-06-30 13:46:39.715</td>\n",
       "      <td>NaN</td>\n",
       "      <td>1124455991366623232</td>\n",
       "      <td>30443.9</td>\n",
       "      <td>0.0</td>\n",
       "      <td>1124455991383400449,1124455991383400448</td>\n",
       "      <td>None</td>\n",
       "      <td>1.0</td>\n",
       "      <td>NaT</td>\n",
       "      <td>NaN</td>\n",
       "      <td>None</td>\n",
       "      <td>opening</td>\n",
       "      <td>NaN</td>\n",
       "      <td>NaN</td>\n",
       "    </tr>\n",
       "  </tbody>\n",
       "</table>\n",
       "</div>"
      ],
      "text/plain": [
       "    id    ticker  side               open_time  open_price        open_order_id  stop_loss_price  take_profit_price                       stop_loss_order_id trailing_delta  quantity              close_time  close_price       close_order_id   status    profit  cum_profit\n",
       "20  21  BTC-USDT  SELL 2023-06-30 12:18:20.970     30971.4  1124433766818045952          31343.6                0.0  1124433766834823169,1124433766834823168           None       1.0 2023-06-30 12:27:36.559      31043.7  1124436091325136896   closed -0.079742    0.077366\n",
       "21  22  BTC-USDT  SELL 2023-06-30 13:36:12.218     30711.5  1124453359450341376          31190.3                0.0  1124453359475507201,1124453359475507200           None       1.0 2023-06-30 13:37:33.362      30437.4  1124453696077316096   closed  0.266762    0.344128\n",
       "22  23  BTC-USDT  SELL 2023-06-30 13:39:11.312     30146.3  1124454110627250177          30604.7                0.0  1124454110648221697,1124454110648221696           None       1.0 2023-06-30 13:40:38.211      30302.3  1124454472690450432   closed -0.163254    0.180874\n",
       "23  24  BTC-USDT  SELL 2023-06-30 13:42:41.326     30144.5  1124454991487574017          30454.0                0.0  1124454991508545539,1124454991508545538           None       1.0 2023-06-30 13:44:14.229      30236.3  1124455376562962432   closed -0.099046    0.081829\n",
       "24  25  BTC-USDT  SELL 2023-06-30 13:46:39.715         NaN  1124455991366623232          30443.9                0.0  1124455991383400449,1124455991383400448           None       1.0                     NaT          NaN                 None  opening       NaN         NaN"
      ]
     },
     "execution_count": 10,
     "metadata": {},
     "output_type": "execute_result"
    }
   ],
   "source": [
    "import pandas as pd\n",
    "import numpy as np\n",
    "\n",
    "def get_trades(data_dir: str, strategy: str, mode: str):\n",
    "    import sqlite3\n",
    "    db_path=f\"{data_dir}/{strategy}/{strategy}.db\"\n",
    "    fee=0.00012\n",
    "    print(f\"Get trades from {db_path}\")\n",
    "\n",
    "    with sqlite3.connect(db_path) as conn:\n",
    "        trades=pd.read_sql_query(\"SELECT * FROM trade ORDER BY open_time\",conn,\n",
    "                                 parse_dates=[\"open_time\", \"close_time\"])#.set_index(\"open_time\", drop=False)\n",
    "    trades[\"profit\"] = np.where(trades[\"side\"] == \"BUY\", \n",
    "                                (trades[\"close_price\"]-trades[\"open_price\"])*trades[\"quantity\"]*quantity_coeff,\n",
    "                                (trades[\"open_price\"]-trades[\"close_price\"])*trades[\"quantity\"]*quantity_coeff,\n",
    "                               )\n",
    "    trades[\"profit\"] = trades[\"profit\"] - fee*(trades[\"open_price\"] + trades[\"close_price\"])*trades[\"quantity\"]*quantity_coeff\n",
    "    trades[\"cum_profit\"] = trades[\"profit\"].cumsum()\n",
    "    \n",
    "    return trades\n",
    "\n",
    "trades=get_trades(data_dir, strategy, mode)\n",
    "trades.tail()"
   ]
  },
  {
   "cell_type": "code",
   "execution_count": 11,
   "metadata": {},
   "outputs": [
    {
     "name": "stdout",
     "output_type": "stream",
     "text": [
      "Total profit: 0.08182865200000072\n"
     ]
    }
   ],
   "source": [
    "print(f\"Total profit: {trades['profit'].sum()}\")\n"
   ]
  },
  {
   "cell_type": "markdown",
   "metadata": {},
   "source": [
    "### Opened trades from trade bot database"
   ]
  },
  {
   "cell_type": "code",
   "execution_count": 12,
   "metadata": {},
   "outputs": [
    {
     "data": {
      "text/html": [
       "<div>\n",
       "<style scoped>\n",
       "    .dataframe tbody tr th:only-of-type {\n",
       "        vertical-align: middle;\n",
       "    }\n",
       "\n",
       "    .dataframe tbody tr th {\n",
       "        vertical-align: top;\n",
       "    }\n",
       "\n",
       "    .dataframe thead th {\n",
       "        text-align: right;\n",
       "    }\n",
       "</style>\n",
       "<table border=\"1\" class=\"dataframe\">\n",
       "  <thead>\n",
       "    <tr style=\"text-align: right;\">\n",
       "      <th></th>\n",
       "      <th>id</th>\n",
       "      <th>ticker</th>\n",
       "      <th>side</th>\n",
       "      <th>open_time</th>\n",
       "      <th>open_price</th>\n",
       "      <th>open_order_id</th>\n",
       "      <th>stop_loss_price</th>\n",
       "      <th>take_profit_price</th>\n",
       "      <th>stop_loss_order_id</th>\n",
       "      <th>trailing_delta</th>\n",
       "      <th>quantity</th>\n",
       "      <th>close_time</th>\n",
       "      <th>close_price</th>\n",
       "      <th>close_order_id</th>\n",
       "      <th>status</th>\n",
       "      <th>profit</th>\n",
       "      <th>cum_profit</th>\n",
       "    </tr>\n",
       "  </thead>\n",
       "  <tbody>\n",
       "    <tr>\n",
       "      <th>24</th>\n",
       "      <td>25</td>\n",
       "      <td>BTC-USDT</td>\n",
       "      <td>SELL</td>\n",
       "      <td>2023-06-30 13:46:39.715</td>\n",
       "      <td>NaN</td>\n",
       "      <td>1124455991366623232</td>\n",
       "      <td>30443.9</td>\n",
       "      <td>0.0</td>\n",
       "      <td>1124455991383400449,1124455991383400448</td>\n",
       "      <td>None</td>\n",
       "      <td>1.0</td>\n",
       "      <td>NaT</td>\n",
       "      <td>NaN</td>\n",
       "      <td>None</td>\n",
       "      <td>opening</td>\n",
       "      <td>NaN</td>\n",
       "      <td>NaN</td>\n",
       "    </tr>\n",
       "  </tbody>\n",
       "</table>\n",
       "</div>"
      ],
      "text/plain": [
       "    id    ticker  side               open_time  open_price        open_order_id  stop_loss_price  take_profit_price                       stop_loss_order_id trailing_delta  quantity close_time  close_price close_order_id   status  profit  cum_profit\n",
       "24  25  BTC-USDT  SELL 2023-06-30 13:46:39.715         NaN  1124455991366623232          30443.9                0.0  1124455991383400449,1124455991383400448           None       1.0        NaT          NaN           None  opening     NaN         NaN"
      ]
     },
     "execution_count": 12,
     "metadata": {},
     "output_type": "execute_result"
    }
   ],
   "source": [
    "trades[trades.close_time.isna()].tail()"
   ]
  },
  {
   "cell_type": "markdown",
   "metadata": {},
   "source": [
    "## Profit"
   ]
  },
  {
   "cell_type": "code",
   "execution_count": 13,
   "metadata": {
    "scrolled": false
   },
   "outputs": [
    {
     "data": {
      "application/vnd.plotly.v1+json": {
       "config": {
        "plotlyServerURL": "https://plot.ly"
       },
       "data": [
        {
         "hovertemplate": "open_time=%{x}<br>cum_profit=%{y}<extra></extra>",
         "legendgroup": "",
         "line": {
          "color": "#636efa",
          "dash": "solid"
         },
         "marker": {
          "symbol": "circle"
         },
         "mode": "lines+markers",
         "name": "",
         "orientation": "v",
         "showlegend": false,
         "type": "scatter",
         "x": [
          "2023-06-29T13:18:07.001000",
          "2023-06-29T13:58:28.003000",
          "2023-06-29T13:59:33.287000",
          "2023-06-29T14:02:19.861000",
          "2023-06-29T17:08:43.187000",
          "2023-06-29T17:11:01.128000",
          "2023-06-29T17:14:15.741000",
          "2023-06-29T17:17:34.735000",
          "2023-06-29T20:24:11.409000",
          "2023-06-30T02:39:45.029000",
          "2023-06-30T02:43:09.382000",
          "2023-06-30T03:32:10.513000",
          "2023-06-30T04:35:44.424000",
          "2023-06-30T04:41:02.033000",
          "2023-06-30T04:43:38.614000",
          "2023-06-30T04:59:22.895000",
          "2023-06-30T05:02:18.944000",
          "2023-06-30T12:08:04.402000",
          "2023-06-30T12:11:19.275000",
          "2023-06-30T12:14:14.027000",
          "2023-06-30T12:18:20.970000",
          "2023-06-30T13:36:12.218000",
          "2023-06-30T13:39:11.312000",
          "2023-06-30T13:42:41.326000",
          "2023-06-30T13:46:39.715000"
         ],
         "xaxis": "x",
         "y": [
          -0.08968807599999928,
          -0.025104752000001465,
          -0.09394024400000146,
          0.05433493200000071,
          -0.0364961199999993,
          -0.10280663999999931,
          0.03227206399999852,
          0.17064273999999924,
          0.10384691999999923,
          0.039787067999998496,
          0.1934112919999985,
          0.13772290399999926,
          0.2801949879999971,
          0.3957289239999971,
          0.33855761599999634,
          0.44692299199999563,
          0.37809585599999784,
          0.3063550039999986,
          0.23743289599999862,
          0.15710786000000082,
          0.07736604800000155,
          0.3441281800000001,
          0.18087434800000013,
          0.08182865200000086,
          null
         ],
         "yaxis": "y"
        }
       ],
       "layout": {
        "legend": {
         "tracegroupgap": 0
        },
        "template": {
         "data": {
          "bar": [
           {
            "error_x": {
             "color": "#2a3f5f"
            },
            "error_y": {
             "color": "#2a3f5f"
            },
            "marker": {
             "line": {
              "color": "#E5ECF6",
              "width": 0.5
             },
             "pattern": {
              "fillmode": "overlay",
              "size": 10,
              "solidity": 0.2
             }
            },
            "type": "bar"
           }
          ],
          "barpolar": [
           {
            "marker": {
             "line": {
              "color": "#E5ECF6",
              "width": 0.5
             },
             "pattern": {
              "fillmode": "overlay",
              "size": 10,
              "solidity": 0.2
             }
            },
            "type": "barpolar"
           }
          ],
          "carpet": [
           {
            "aaxis": {
             "endlinecolor": "#2a3f5f",
             "gridcolor": "white",
             "linecolor": "white",
             "minorgridcolor": "white",
             "startlinecolor": "#2a3f5f"
            },
            "baxis": {
             "endlinecolor": "#2a3f5f",
             "gridcolor": "white",
             "linecolor": "white",
             "minorgridcolor": "white",
             "startlinecolor": "#2a3f5f"
            },
            "type": "carpet"
           }
          ],
          "choropleth": [
           {
            "colorbar": {
             "outlinewidth": 0,
             "ticks": ""
            },
            "type": "choropleth"
           }
          ],
          "contour": [
           {
            "colorbar": {
             "outlinewidth": 0,
             "ticks": ""
            },
            "colorscale": [
             [
              0,
              "#0d0887"
             ],
             [
              0.1111111111111111,
              "#46039f"
             ],
             [
              0.2222222222222222,
              "#7201a8"
             ],
             [
              0.3333333333333333,
              "#9c179e"
             ],
             [
              0.4444444444444444,
              "#bd3786"
             ],
             [
              0.5555555555555556,
              "#d8576b"
             ],
             [
              0.6666666666666666,
              "#ed7953"
             ],
             [
              0.7777777777777778,
              "#fb9f3a"
             ],
             [
              0.8888888888888888,
              "#fdca26"
             ],
             [
              1,
              "#f0f921"
             ]
            ],
            "type": "contour"
           }
          ],
          "contourcarpet": [
           {
            "colorbar": {
             "outlinewidth": 0,
             "ticks": ""
            },
            "type": "contourcarpet"
           }
          ],
          "heatmap": [
           {
            "colorbar": {
             "outlinewidth": 0,
             "ticks": ""
            },
            "colorscale": [
             [
              0,
              "#0d0887"
             ],
             [
              0.1111111111111111,
              "#46039f"
             ],
             [
              0.2222222222222222,
              "#7201a8"
             ],
             [
              0.3333333333333333,
              "#9c179e"
             ],
             [
              0.4444444444444444,
              "#bd3786"
             ],
             [
              0.5555555555555556,
              "#d8576b"
             ],
             [
              0.6666666666666666,
              "#ed7953"
             ],
             [
              0.7777777777777778,
              "#fb9f3a"
             ],
             [
              0.8888888888888888,
              "#fdca26"
             ],
             [
              1,
              "#f0f921"
             ]
            ],
            "type": "heatmap"
           }
          ],
          "heatmapgl": [
           {
            "colorbar": {
             "outlinewidth": 0,
             "ticks": ""
            },
            "colorscale": [
             [
              0,
              "#0d0887"
             ],
             [
              0.1111111111111111,
              "#46039f"
             ],
             [
              0.2222222222222222,
              "#7201a8"
             ],
             [
              0.3333333333333333,
              "#9c179e"
             ],
             [
              0.4444444444444444,
              "#bd3786"
             ],
             [
              0.5555555555555556,
              "#d8576b"
             ],
             [
              0.6666666666666666,
              "#ed7953"
             ],
             [
              0.7777777777777778,
              "#fb9f3a"
             ],
             [
              0.8888888888888888,
              "#fdca26"
             ],
             [
              1,
              "#f0f921"
             ]
            ],
            "type": "heatmapgl"
           }
          ],
          "histogram": [
           {
            "marker": {
             "pattern": {
              "fillmode": "overlay",
              "size": 10,
              "solidity": 0.2
             }
            },
            "type": "histogram"
           }
          ],
          "histogram2d": [
           {
            "colorbar": {
             "outlinewidth": 0,
             "ticks": ""
            },
            "colorscale": [
             [
              0,
              "#0d0887"
             ],
             [
              0.1111111111111111,
              "#46039f"
             ],
             [
              0.2222222222222222,
              "#7201a8"
             ],
             [
              0.3333333333333333,
              "#9c179e"
             ],
             [
              0.4444444444444444,
              "#bd3786"
             ],
             [
              0.5555555555555556,
              "#d8576b"
             ],
             [
              0.6666666666666666,
              "#ed7953"
             ],
             [
              0.7777777777777778,
              "#fb9f3a"
             ],
             [
              0.8888888888888888,
              "#fdca26"
             ],
             [
              1,
              "#f0f921"
             ]
            ],
            "type": "histogram2d"
           }
          ],
          "histogram2dcontour": [
           {
            "colorbar": {
             "outlinewidth": 0,
             "ticks": ""
            },
            "colorscale": [
             [
              0,
              "#0d0887"
             ],
             [
              0.1111111111111111,
              "#46039f"
             ],
             [
              0.2222222222222222,
              "#7201a8"
             ],
             [
              0.3333333333333333,
              "#9c179e"
             ],
             [
              0.4444444444444444,
              "#bd3786"
             ],
             [
              0.5555555555555556,
              "#d8576b"
             ],
             [
              0.6666666666666666,
              "#ed7953"
             ],
             [
              0.7777777777777778,
              "#fb9f3a"
             ],
             [
              0.8888888888888888,
              "#fdca26"
             ],
             [
              1,
              "#f0f921"
             ]
            ],
            "type": "histogram2dcontour"
           }
          ],
          "mesh3d": [
           {
            "colorbar": {
             "outlinewidth": 0,
             "ticks": ""
            },
            "type": "mesh3d"
           }
          ],
          "parcoords": [
           {
            "line": {
             "colorbar": {
              "outlinewidth": 0,
              "ticks": ""
             }
            },
            "type": "parcoords"
           }
          ],
          "pie": [
           {
            "automargin": true,
            "type": "pie"
           }
          ],
          "scatter": [
           {
            "fillpattern": {
             "fillmode": "overlay",
             "size": 10,
             "solidity": 0.2
            },
            "type": "scatter"
           }
          ],
          "scatter3d": [
           {
            "line": {
             "colorbar": {
              "outlinewidth": 0,
              "ticks": ""
             }
            },
            "marker": {
             "colorbar": {
              "outlinewidth": 0,
              "ticks": ""
             }
            },
            "type": "scatter3d"
           }
          ],
          "scattercarpet": [
           {
            "marker": {
             "colorbar": {
              "outlinewidth": 0,
              "ticks": ""
             }
            },
            "type": "scattercarpet"
           }
          ],
          "scattergeo": [
           {
            "marker": {
             "colorbar": {
              "outlinewidth": 0,
              "ticks": ""
             }
            },
            "type": "scattergeo"
           }
          ],
          "scattergl": [
           {
            "marker": {
             "colorbar": {
              "outlinewidth": 0,
              "ticks": ""
             }
            },
            "type": "scattergl"
           }
          ],
          "scattermapbox": [
           {
            "marker": {
             "colorbar": {
              "outlinewidth": 0,
              "ticks": ""
             }
            },
            "type": "scattermapbox"
           }
          ],
          "scatterpolar": [
           {
            "marker": {
             "colorbar": {
              "outlinewidth": 0,
              "ticks": ""
             }
            },
            "type": "scatterpolar"
           }
          ],
          "scatterpolargl": [
           {
            "marker": {
             "colorbar": {
              "outlinewidth": 0,
              "ticks": ""
             }
            },
            "type": "scatterpolargl"
           }
          ],
          "scatterternary": [
           {
            "marker": {
             "colorbar": {
              "outlinewidth": 0,
              "ticks": ""
             }
            },
            "type": "scatterternary"
           }
          ],
          "surface": [
           {
            "colorbar": {
             "outlinewidth": 0,
             "ticks": ""
            },
            "colorscale": [
             [
              0,
              "#0d0887"
             ],
             [
              0.1111111111111111,
              "#46039f"
             ],
             [
              0.2222222222222222,
              "#7201a8"
             ],
             [
              0.3333333333333333,
              "#9c179e"
             ],
             [
              0.4444444444444444,
              "#bd3786"
             ],
             [
              0.5555555555555556,
              "#d8576b"
             ],
             [
              0.6666666666666666,
              "#ed7953"
             ],
             [
              0.7777777777777778,
              "#fb9f3a"
             ],
             [
              0.8888888888888888,
              "#fdca26"
             ],
             [
              1,
              "#f0f921"
             ]
            ],
            "type": "surface"
           }
          ],
          "table": [
           {
            "cells": {
             "fill": {
              "color": "#EBF0F8"
             },
             "line": {
              "color": "white"
             }
            },
            "header": {
             "fill": {
              "color": "#C8D4E3"
             },
             "line": {
              "color": "white"
             }
            },
            "type": "table"
           }
          ]
         },
         "layout": {
          "annotationdefaults": {
           "arrowcolor": "#2a3f5f",
           "arrowhead": 0,
           "arrowwidth": 1
          },
          "autotypenumbers": "strict",
          "coloraxis": {
           "colorbar": {
            "outlinewidth": 0,
            "ticks": ""
           }
          },
          "colorscale": {
           "diverging": [
            [
             0,
             "#8e0152"
            ],
            [
             0.1,
             "#c51b7d"
            ],
            [
             0.2,
             "#de77ae"
            ],
            [
             0.3,
             "#f1b6da"
            ],
            [
             0.4,
             "#fde0ef"
            ],
            [
             0.5,
             "#f7f7f7"
            ],
            [
             0.6,
             "#e6f5d0"
            ],
            [
             0.7,
             "#b8e186"
            ],
            [
             0.8,
             "#7fbc41"
            ],
            [
             0.9,
             "#4d9221"
            ],
            [
             1,
             "#276419"
            ]
           ],
           "sequential": [
            [
             0,
             "#0d0887"
            ],
            [
             0.1111111111111111,
             "#46039f"
            ],
            [
             0.2222222222222222,
             "#7201a8"
            ],
            [
             0.3333333333333333,
             "#9c179e"
            ],
            [
             0.4444444444444444,
             "#bd3786"
            ],
            [
             0.5555555555555556,
             "#d8576b"
            ],
            [
             0.6666666666666666,
             "#ed7953"
            ],
            [
             0.7777777777777778,
             "#fb9f3a"
            ],
            [
             0.8888888888888888,
             "#fdca26"
            ],
            [
             1,
             "#f0f921"
            ]
           ],
           "sequentialminus": [
            [
             0,
             "#0d0887"
            ],
            [
             0.1111111111111111,
             "#46039f"
            ],
            [
             0.2222222222222222,
             "#7201a8"
            ],
            [
             0.3333333333333333,
             "#9c179e"
            ],
            [
             0.4444444444444444,
             "#bd3786"
            ],
            [
             0.5555555555555556,
             "#d8576b"
            ],
            [
             0.6666666666666666,
             "#ed7953"
            ],
            [
             0.7777777777777778,
             "#fb9f3a"
            ],
            [
             0.8888888888888888,
             "#fdca26"
            ],
            [
             1,
             "#f0f921"
            ]
           ]
          },
          "colorway": [
           "#636efa",
           "#EF553B",
           "#00cc96",
           "#ab63fa",
           "#FFA15A",
           "#19d3f3",
           "#FF6692",
           "#B6E880",
           "#FF97FF",
           "#FECB52"
          ],
          "font": {
           "color": "#2a3f5f"
          },
          "geo": {
           "bgcolor": "white",
           "lakecolor": "white",
           "landcolor": "#E5ECF6",
           "showlakes": true,
           "showland": true,
           "subunitcolor": "white"
          },
          "hoverlabel": {
           "align": "left"
          },
          "hovermode": "closest",
          "mapbox": {
           "style": "light"
          },
          "paper_bgcolor": "white",
          "plot_bgcolor": "#E5ECF6",
          "polar": {
           "angularaxis": {
            "gridcolor": "white",
            "linecolor": "white",
            "ticks": ""
           },
           "bgcolor": "#E5ECF6",
           "radialaxis": {
            "gridcolor": "white",
            "linecolor": "white",
            "ticks": ""
           }
          },
          "scene": {
           "xaxis": {
            "backgroundcolor": "#E5ECF6",
            "gridcolor": "white",
            "gridwidth": 2,
            "linecolor": "white",
            "showbackground": true,
            "ticks": "",
            "zerolinecolor": "white"
           },
           "yaxis": {
            "backgroundcolor": "#E5ECF6",
            "gridcolor": "white",
            "gridwidth": 2,
            "linecolor": "white",
            "showbackground": true,
            "ticks": "",
            "zerolinecolor": "white"
           },
           "zaxis": {
            "backgroundcolor": "#E5ECF6",
            "gridcolor": "white",
            "gridwidth": 2,
            "linecolor": "white",
            "showbackground": true,
            "ticks": "",
            "zerolinecolor": "white"
           }
          },
          "shapedefaults": {
           "line": {
            "color": "#2a3f5f"
           }
          },
          "ternary": {
           "aaxis": {
            "gridcolor": "white",
            "linecolor": "white",
            "ticks": ""
           },
           "baxis": {
            "gridcolor": "white",
            "linecolor": "white",
            "ticks": ""
           },
           "bgcolor": "#E5ECF6",
           "caxis": {
            "gridcolor": "white",
            "linecolor": "white",
            "ticks": ""
           }
          },
          "title": {
           "x": 0.05
          },
          "xaxis": {
           "automargin": true,
           "gridcolor": "white",
           "linecolor": "white",
           "ticks": "",
           "title": {
            "standoff": 15
           },
           "zerolinecolor": "white",
           "zerolinewidth": 2
          },
          "yaxis": {
           "automargin": true,
           "gridcolor": "white",
           "linecolor": "white",
           "ticks": "",
           "title": {
            "standoff": 15
           },
           "zerolinecolor": "white",
           "zerolinewidth": 2
          }
         }
        },
        "title": {
         "text": "LSTMStrategy cumulative profit"
        },
        "xaxis": {
         "anchor": "y",
         "domain": [
          0,
          1
         ],
         "title": {
          "text": "open_time"
         }
        },
        "yaxis": {
         "anchor": "x",
         "domain": [
          0,
          1
         ],
         "title": {
          "text": "cum_profit"
         }
        }
       }
      },
      "text/html": [
       "<div>                            <div id=\"f8921d66-5305-478f-91a5-c3dbb502455b\" class=\"plotly-graph-div\" style=\"height:525px; width:100%;\"></div>            <script type=\"text/javascript\">                require([\"plotly\"], function(Plotly) {                    window.PLOTLYENV=window.PLOTLYENV || {};                                    if (document.getElementById(\"f8921d66-5305-478f-91a5-c3dbb502455b\")) {                    Plotly.newPlot(                        \"f8921d66-5305-478f-91a5-c3dbb502455b\",                        [{\"hovertemplate\":\"open_time=%{x}<br>cum_profit=%{y}<extra></extra>\",\"legendgroup\":\"\",\"line\":{\"color\":\"#636efa\",\"dash\":\"solid\"},\"marker\":{\"symbol\":\"circle\"},\"mode\":\"lines+markers\",\"name\":\"\",\"orientation\":\"v\",\"showlegend\":false,\"x\":[\"2023-06-29T13:18:07.001000\",\"2023-06-29T13:58:28.003000\",\"2023-06-29T13:59:33.287000\",\"2023-06-29T14:02:19.861000\",\"2023-06-29T17:08:43.187000\",\"2023-06-29T17:11:01.128000\",\"2023-06-29T17:14:15.741000\",\"2023-06-29T17:17:34.735000\",\"2023-06-29T20:24:11.409000\",\"2023-06-30T02:39:45.029000\",\"2023-06-30T02:43:09.382000\",\"2023-06-30T03:32:10.513000\",\"2023-06-30T04:35:44.424000\",\"2023-06-30T04:41:02.033000\",\"2023-06-30T04:43:38.614000\",\"2023-06-30T04:59:22.895000\",\"2023-06-30T05:02:18.944000\",\"2023-06-30T12:08:04.402000\",\"2023-06-30T12:11:19.275000\",\"2023-06-30T12:14:14.027000\",\"2023-06-30T12:18:20.970000\",\"2023-06-30T13:36:12.218000\",\"2023-06-30T13:39:11.312000\",\"2023-06-30T13:42:41.326000\",\"2023-06-30T13:46:39.715000\"],\"xaxis\":\"x\",\"y\":[-0.08968807599999928,-0.025104752000001465,-0.09394024400000146,0.05433493200000071,-0.0364961199999993,-0.10280663999999931,0.03227206399999852,0.17064273999999924,0.10384691999999923,0.039787067999998496,0.1934112919999985,0.13772290399999926,0.2801949879999971,0.3957289239999971,0.33855761599999634,0.44692299199999563,0.37809585599999784,0.3063550039999986,0.23743289599999862,0.15710786000000082,0.07736604800000155,0.3441281800000001,0.18087434800000013,0.08182865200000086,null],\"yaxis\":\"y\",\"type\":\"scatter\"}],                        {\"template\":{\"data\":{\"histogram2dcontour\":[{\"type\":\"histogram2dcontour\",\"colorbar\":{\"outlinewidth\":0,\"ticks\":\"\"},\"colorscale\":[[0.0,\"#0d0887\"],[0.1111111111111111,\"#46039f\"],[0.2222222222222222,\"#7201a8\"],[0.3333333333333333,\"#9c179e\"],[0.4444444444444444,\"#bd3786\"],[0.5555555555555556,\"#d8576b\"],[0.6666666666666666,\"#ed7953\"],[0.7777777777777778,\"#fb9f3a\"],[0.8888888888888888,\"#fdca26\"],[1.0,\"#f0f921\"]]}],\"choropleth\":[{\"type\":\"choropleth\",\"colorbar\":{\"outlinewidth\":0,\"ticks\":\"\"}}],\"histogram2d\":[{\"type\":\"histogram2d\",\"colorbar\":{\"outlinewidth\":0,\"ticks\":\"\"},\"colorscale\":[[0.0,\"#0d0887\"],[0.1111111111111111,\"#46039f\"],[0.2222222222222222,\"#7201a8\"],[0.3333333333333333,\"#9c179e\"],[0.4444444444444444,\"#bd3786\"],[0.5555555555555556,\"#d8576b\"],[0.6666666666666666,\"#ed7953\"],[0.7777777777777778,\"#fb9f3a\"],[0.8888888888888888,\"#fdca26\"],[1.0,\"#f0f921\"]]}],\"heatmap\":[{\"type\":\"heatmap\",\"colorbar\":{\"outlinewidth\":0,\"ticks\":\"\"},\"colorscale\":[[0.0,\"#0d0887\"],[0.1111111111111111,\"#46039f\"],[0.2222222222222222,\"#7201a8\"],[0.3333333333333333,\"#9c179e\"],[0.4444444444444444,\"#bd3786\"],[0.5555555555555556,\"#d8576b\"],[0.6666666666666666,\"#ed7953\"],[0.7777777777777778,\"#fb9f3a\"],[0.8888888888888888,\"#fdca26\"],[1.0,\"#f0f921\"]]}],\"heatmapgl\":[{\"type\":\"heatmapgl\",\"colorbar\":{\"outlinewidth\":0,\"ticks\":\"\"},\"colorscale\":[[0.0,\"#0d0887\"],[0.1111111111111111,\"#46039f\"],[0.2222222222222222,\"#7201a8\"],[0.3333333333333333,\"#9c179e\"],[0.4444444444444444,\"#bd3786\"],[0.5555555555555556,\"#d8576b\"],[0.6666666666666666,\"#ed7953\"],[0.7777777777777778,\"#fb9f3a\"],[0.8888888888888888,\"#fdca26\"],[1.0,\"#f0f921\"]]}],\"contourcarpet\":[{\"type\":\"contourcarpet\",\"colorbar\":{\"outlinewidth\":0,\"ticks\":\"\"}}],\"contour\":[{\"type\":\"contour\",\"colorbar\":{\"outlinewidth\":0,\"ticks\":\"\"},\"colorscale\":[[0.0,\"#0d0887\"],[0.1111111111111111,\"#46039f\"],[0.2222222222222222,\"#7201a8\"],[0.3333333333333333,\"#9c179e\"],[0.4444444444444444,\"#bd3786\"],[0.5555555555555556,\"#d8576b\"],[0.6666666666666666,\"#ed7953\"],[0.7777777777777778,\"#fb9f3a\"],[0.8888888888888888,\"#fdca26\"],[1.0,\"#f0f921\"]]}],\"surface\":[{\"type\":\"surface\",\"colorbar\":{\"outlinewidth\":0,\"ticks\":\"\"},\"colorscale\":[[0.0,\"#0d0887\"],[0.1111111111111111,\"#46039f\"],[0.2222222222222222,\"#7201a8\"],[0.3333333333333333,\"#9c179e\"],[0.4444444444444444,\"#bd3786\"],[0.5555555555555556,\"#d8576b\"],[0.6666666666666666,\"#ed7953\"],[0.7777777777777778,\"#fb9f3a\"],[0.8888888888888888,\"#fdca26\"],[1.0,\"#f0f921\"]]}],\"mesh3d\":[{\"type\":\"mesh3d\",\"colorbar\":{\"outlinewidth\":0,\"ticks\":\"\"}}],\"scatter\":[{\"fillpattern\":{\"fillmode\":\"overlay\",\"size\":10,\"solidity\":0.2},\"type\":\"scatter\"}],\"parcoords\":[{\"type\":\"parcoords\",\"line\":{\"colorbar\":{\"outlinewidth\":0,\"ticks\":\"\"}}}],\"scatterpolargl\":[{\"type\":\"scatterpolargl\",\"marker\":{\"colorbar\":{\"outlinewidth\":0,\"ticks\":\"\"}}}],\"bar\":[{\"error_x\":{\"color\":\"#2a3f5f\"},\"error_y\":{\"color\":\"#2a3f5f\"},\"marker\":{\"line\":{\"color\":\"#E5ECF6\",\"width\":0.5},\"pattern\":{\"fillmode\":\"overlay\",\"size\":10,\"solidity\":0.2}},\"type\":\"bar\"}],\"scattergeo\":[{\"type\":\"scattergeo\",\"marker\":{\"colorbar\":{\"outlinewidth\":0,\"ticks\":\"\"}}}],\"scatterpolar\":[{\"type\":\"scatterpolar\",\"marker\":{\"colorbar\":{\"outlinewidth\":0,\"ticks\":\"\"}}}],\"histogram\":[{\"marker\":{\"pattern\":{\"fillmode\":\"overlay\",\"size\":10,\"solidity\":0.2}},\"type\":\"histogram\"}],\"scattergl\":[{\"type\":\"scattergl\",\"marker\":{\"colorbar\":{\"outlinewidth\":0,\"ticks\":\"\"}}}],\"scatter3d\":[{\"type\":\"scatter3d\",\"line\":{\"colorbar\":{\"outlinewidth\":0,\"ticks\":\"\"}},\"marker\":{\"colorbar\":{\"outlinewidth\":0,\"ticks\":\"\"}}}],\"scattermapbox\":[{\"type\":\"scattermapbox\",\"marker\":{\"colorbar\":{\"outlinewidth\":0,\"ticks\":\"\"}}}],\"scatterternary\":[{\"type\":\"scatterternary\",\"marker\":{\"colorbar\":{\"outlinewidth\":0,\"ticks\":\"\"}}}],\"scattercarpet\":[{\"type\":\"scattercarpet\",\"marker\":{\"colorbar\":{\"outlinewidth\":0,\"ticks\":\"\"}}}],\"carpet\":[{\"aaxis\":{\"endlinecolor\":\"#2a3f5f\",\"gridcolor\":\"white\",\"linecolor\":\"white\",\"minorgridcolor\":\"white\",\"startlinecolor\":\"#2a3f5f\"},\"baxis\":{\"endlinecolor\":\"#2a3f5f\",\"gridcolor\":\"white\",\"linecolor\":\"white\",\"minorgridcolor\":\"white\",\"startlinecolor\":\"#2a3f5f\"},\"type\":\"carpet\"}],\"table\":[{\"cells\":{\"fill\":{\"color\":\"#EBF0F8\"},\"line\":{\"color\":\"white\"}},\"header\":{\"fill\":{\"color\":\"#C8D4E3\"},\"line\":{\"color\":\"white\"}},\"type\":\"table\"}],\"barpolar\":[{\"marker\":{\"line\":{\"color\":\"#E5ECF6\",\"width\":0.5},\"pattern\":{\"fillmode\":\"overlay\",\"size\":10,\"solidity\":0.2}},\"type\":\"barpolar\"}],\"pie\":[{\"automargin\":true,\"type\":\"pie\"}]},\"layout\":{\"autotypenumbers\":\"strict\",\"colorway\":[\"#636efa\",\"#EF553B\",\"#00cc96\",\"#ab63fa\",\"#FFA15A\",\"#19d3f3\",\"#FF6692\",\"#B6E880\",\"#FF97FF\",\"#FECB52\"],\"font\":{\"color\":\"#2a3f5f\"},\"hovermode\":\"closest\",\"hoverlabel\":{\"align\":\"left\"},\"paper_bgcolor\":\"white\",\"plot_bgcolor\":\"#E5ECF6\",\"polar\":{\"bgcolor\":\"#E5ECF6\",\"angularaxis\":{\"gridcolor\":\"white\",\"linecolor\":\"white\",\"ticks\":\"\"},\"radialaxis\":{\"gridcolor\":\"white\",\"linecolor\":\"white\",\"ticks\":\"\"}},\"ternary\":{\"bgcolor\":\"#E5ECF6\",\"aaxis\":{\"gridcolor\":\"white\",\"linecolor\":\"white\",\"ticks\":\"\"},\"baxis\":{\"gridcolor\":\"white\",\"linecolor\":\"white\",\"ticks\":\"\"},\"caxis\":{\"gridcolor\":\"white\",\"linecolor\":\"white\",\"ticks\":\"\"}},\"coloraxis\":{\"colorbar\":{\"outlinewidth\":0,\"ticks\":\"\"}},\"colorscale\":{\"sequential\":[[0.0,\"#0d0887\"],[0.1111111111111111,\"#46039f\"],[0.2222222222222222,\"#7201a8\"],[0.3333333333333333,\"#9c179e\"],[0.4444444444444444,\"#bd3786\"],[0.5555555555555556,\"#d8576b\"],[0.6666666666666666,\"#ed7953\"],[0.7777777777777778,\"#fb9f3a\"],[0.8888888888888888,\"#fdca26\"],[1.0,\"#f0f921\"]],\"sequentialminus\":[[0.0,\"#0d0887\"],[0.1111111111111111,\"#46039f\"],[0.2222222222222222,\"#7201a8\"],[0.3333333333333333,\"#9c179e\"],[0.4444444444444444,\"#bd3786\"],[0.5555555555555556,\"#d8576b\"],[0.6666666666666666,\"#ed7953\"],[0.7777777777777778,\"#fb9f3a\"],[0.8888888888888888,\"#fdca26\"],[1.0,\"#f0f921\"]],\"diverging\":[[0,\"#8e0152\"],[0.1,\"#c51b7d\"],[0.2,\"#de77ae\"],[0.3,\"#f1b6da\"],[0.4,\"#fde0ef\"],[0.5,\"#f7f7f7\"],[0.6,\"#e6f5d0\"],[0.7,\"#b8e186\"],[0.8,\"#7fbc41\"],[0.9,\"#4d9221\"],[1,\"#276419\"]]},\"xaxis\":{\"gridcolor\":\"white\",\"linecolor\":\"white\",\"ticks\":\"\",\"title\":{\"standoff\":15},\"zerolinecolor\":\"white\",\"automargin\":true,\"zerolinewidth\":2},\"yaxis\":{\"gridcolor\":\"white\",\"linecolor\":\"white\",\"ticks\":\"\",\"title\":{\"standoff\":15},\"zerolinecolor\":\"white\",\"automargin\":true,\"zerolinewidth\":2},\"scene\":{\"xaxis\":{\"backgroundcolor\":\"#E5ECF6\",\"gridcolor\":\"white\",\"linecolor\":\"white\",\"showbackground\":true,\"ticks\":\"\",\"zerolinecolor\":\"white\",\"gridwidth\":2},\"yaxis\":{\"backgroundcolor\":\"#E5ECF6\",\"gridcolor\":\"white\",\"linecolor\":\"white\",\"showbackground\":true,\"ticks\":\"\",\"zerolinecolor\":\"white\",\"gridwidth\":2},\"zaxis\":{\"backgroundcolor\":\"#E5ECF6\",\"gridcolor\":\"white\",\"linecolor\":\"white\",\"showbackground\":true,\"ticks\":\"\",\"zerolinecolor\":\"white\",\"gridwidth\":2}},\"shapedefaults\":{\"line\":{\"color\":\"#2a3f5f\"}},\"annotationdefaults\":{\"arrowcolor\":\"#2a3f5f\",\"arrowhead\":0,\"arrowwidth\":1},\"geo\":{\"bgcolor\":\"white\",\"landcolor\":\"#E5ECF6\",\"subunitcolor\":\"white\",\"showland\":true,\"showlakes\":true,\"lakecolor\":\"white\"},\"title\":{\"x\":0.05},\"mapbox\":{\"style\":\"light\"}}},\"xaxis\":{\"anchor\":\"y\",\"domain\":[0.0,1.0],\"title\":{\"text\":\"open_time\"}},\"yaxis\":{\"anchor\":\"x\",\"domain\":[0.0,1.0],\"title\":{\"text\":\"cum_profit\"}},\"legend\":{\"tracegroupgap\":0},\"title\":{\"text\":\"LSTMStrategy cumulative profit\"}},                        {\"responsive\": true}                    ).then(function(){\n",
       "                            \n",
       "var gd = document.getElementById('f8921d66-5305-478f-91a5-c3dbb502455b');\n",
       "var x = new MutationObserver(function (mutations, observer) {{\n",
       "        var display = window.getComputedStyle(gd).display;\n",
       "        if (!display || display === 'none') {{\n",
       "            console.log([gd, 'removed!']);\n",
       "            Plotly.purge(gd);\n",
       "            observer.disconnect();\n",
       "        }}\n",
       "}});\n",
       "\n",
       "// Listen for the removal of the full notebook cells\n",
       "var notebookContainer = gd.closest('#notebook-container');\n",
       "if (notebookContainer) {{\n",
       "    x.observe(notebookContainer, {childList: true});\n",
       "}}\n",
       "\n",
       "// Listen for the clearing of the current output cell\n",
       "var outputEl = gd.closest('.output');\n",
       "if (outputEl) {{\n",
       "    x.observe(outputEl, {childList: true});\n",
       "}}\n",
       "\n",
       "                        })                };                });            </script>        </div>"
      ]
     },
     "metadata": {},
     "output_type": "display_data"
    }
   ],
   "source": [
    "import matplotlib.pyplot as plt\n",
    "import plotly.express as px\n",
    "import seaborn as sns\n",
    "sns.set_theme()\n",
    "#paper, notebook, talk, poster\n",
    "\n",
    "import plotly.graph_objs as go\n",
    "import plotly.io as pio\n",
    "from plotly.subplots import make_subplots\n",
    "pio.renderers.default = \"plotly_mimetype+notebook\"\n",
    "import plotly.graph_objects as go\n",
    "\n",
    "    \n",
    "plot_figsize=(10,5)\n",
    "\n",
    "\n",
    "def plot_profits_plotly(trades):\n",
    "    \"\"\" Plot profit charts using plotly\"\"\"\n",
    "    px.line(trades, x=\"open_time\", y=\"profit\", title=f\"{strategy} profit\").update_traces(mode='lines+markers').show()\n",
    "    px.line(trades, x=\"open_time\", y=\"cum_profit\", title=f\"{strategy} cumulative profit\").update_traces(mode='lines+markers').show()\n",
    "\n",
    "def plot_profits_sns(trades):\n",
    "    \"\"\" Plot profit charts using sns\"\"\"\n",
    "    plt.figure(figsize=plot_figsize)\n",
    "    sns.set_style(\"darkgrid\")\n",
    "    sns.lineplot(data=trades, x=\"open_time\", y=\"profit\").set_title(f\"{strategy} profit\")\n",
    "    plt.show()\n",
    "\n",
    "    #sns.set_palette(\"deep\")\n",
    "    sns.set_style(\"whitegrid\")\n",
    "    plt.figure(figsize=plot_figsize)\n",
    "    sns.lineplot(data=trades, x=\"open_time\", y=\"cum_profit\").set_title( f\"{strategy} cumulative profit\")\n",
    "    plt.show()\n",
    "    \n",
    "    # Cumulative profit w/o outliers\n",
    "    profit=trades[[\"open_time\",\"profit\"]].set_index(\"open_time\")\n",
    "    q_low = profit[\"profit\"].quantile(0.1)\n",
    "    q_hi  = profit[\"profit\"].quantile(0.9)\n",
    "    profit_filtered = profit[(profit[\"profit\"] < q_hi) & (profit[\"profit\"] > q_low)]\n",
    "    cumsum_filtered = profit_filtered.cumsum()\n",
    "    plt.figure(figsize=plot_figsize)\n",
    "    sns.set_style(\"darkgrid\")\n",
    "    sns.lineplot(data=cumsum_filtered).set_title(f\"{strategy} profit w/o outliers\")\n",
    "    plt.show()\n",
    "\n",
    "def plot_profits_plt(trades):\n",
    "    \"\"\" Plot profits using matplotlib \"\"\"\n",
    "    plt.figure(figsize=(10,5))\n",
    "    sns.set_style(\"whitegrid\")\n",
    "    plt.plot(\"open_time\", \"profit\", data=trades)\n",
    "    plt.title(f\"{strategy} profit\")\n",
    "    plt.show()\n",
    "    \n",
    "    sns.set_style(\"darkgrid\")\n",
    "    plt.figure(figsize=(10,5))\n",
    "    plt.plot(\"open_time\", \"cum_profit\", data=trades)\n",
    "    plt.title(f\"{strategy} cumulative profit\")\n",
    "    plt.show()\n",
    "\n",
    "plot_profits_plotly(trades)\n",
    "#plot_profits_sns(trades[:-1:])\n",
    "#plot_profits_plt(trades)\n"
   ]
  },
  {
   "cell_type": "code",
   "execution_count": null,
   "metadata": {
    "scrolled": false
   },
   "outputs": [],
   "source": []
  },
  {
   "cell_type": "code",
   "execution_count": null,
   "metadata": {},
   "outputs": [],
   "source": []
  },
  {
   "cell_type": "code",
   "execution_count": 14,
   "metadata": {},
   "outputs": [
    {
     "data": {
      "image/png": "[encoded data removed]",
      "text/plain": [
       "<Figure size 1000x500 with 3 Axes>"
      ]
     },
     "metadata": {},
     "output_type": "display_data"
    }
   ],
   "source": [
    "from matplotlib import pyplot as plt\n",
    "import seaborn as sns\n",
    "\n",
    "\n",
    "def plot_trade_counts(trades):\n",
    "    buy_sell_counts = trades[\"side\"].value_counts()\n",
    "    total=len(trades)\n",
    "    colors = sns.color_palette('pastel')[0:5]\n",
    "    fig, (ax1, ax2, ax3) = plt.subplots(1, 3)\n",
    "    fig.set_size_inches(plot_figsize)\n",
    "    fig.suptitle('Profit/loss trade counts')\n",
    "    # Buy/sell counts\n",
    "    ax1.pie([len(trades[trades[\"side\"]==\"BUY\"]),len(trades[trades[\"side\"]==\"SELL\"])], \n",
    "            labels=[\"BUY\",\"SELL\"], \\\n",
    "            autopct=lambda p: '{:.0f}'.format(p * total / 100))\n",
    "    # Buy profit/loss counts\n",
    "    ax2.pie([len(trades[(trades[\"side\"]==\"BUY\") &  (trades[\"profit\"]>0)].index),\\\n",
    "            len(trades[(trades[\"side\"]==\"BUY\") &  (trades[\"profit\"]<0)].index) \\\n",
    "            ],\n",
    "            labels=[\"buy profit\", \" buy loss\"], autopct=\"%.0f%%\", colors=colors)\n",
    "    # Sell profit/loss counts\n",
    "    ax3.pie([len(trades[(trades[\"side\"]==\"SELL\") &  (trades[\"profit\"]>0)].index),\\\n",
    "            len(trades[(trades[\"side\"]==\"SELL\") &  (trades[\"profit\"]<0)].index) \\\n",
    "            ],\n",
    "            labels=[\"sell profit\", \" sell loss\"], autopct=\"%.0f%%\", colors=colors)\n",
    "\n",
    "    \n",
    "plot_trade_counts(trades)\n",
    "\n"
   ]
  },
  {
   "cell_type": "code",
   "execution_count": 15,
   "metadata": {
    "scrolled": false
   },
   "outputs": [
    {
     "data": {
      "image/png": "[encoded data removed]",
      "text/plain": [
       "<Figure size 640x480 with 1 Axes>"
      ]
     },
     "metadata": {},
     "output_type": "display_data"
    },
    {
     "data": {
      "image/png": "[encoded data removed]",
      "text/plain": [
       "<Figure size 640x480 with 1 Axes>"
      ]
     },
     "metadata": {},
     "output_type": "display_data"
    }
   ],
   "source": [
    "import plotly.express as px\n",
    "\n",
    "def plot_profit_stat_plotly(trades):\n",
    "    \"\"\" Profit statistics: summary, average \"\"\"\n",
    "    buy_profit = trades.loc[trades[\"side\"]==\"BUY\",\"profit\"]\n",
    "    sell_profit = trades.loc[trades[\"side\"]==\"SELL\",\"profit\"]\n",
    "    px.bar(x=[\"buy_profit_sum\", \"sell_profit_sum\"], y=[buy_profit.sum(), sell_profit.sum()], title=\"Buy/sell profit sum\").show()\n",
    "    px.bar(x=[\"buy_profit_mean\", \"sell_profit_mean\"], y=[buy_profit.mean(), sell_profit.mean()], title=\"Buy/sell mean profit\").show()\n",
    "\n",
    "def plot_profit_stat_sns(trades):\n",
    "    \"\"\" Profit statistics: summary, average \"\"\"\n",
    "    buy_profit = trades.loc[trades[\"side\"]==\"BUY\",\"profit\"]\n",
    "    sell_profit = trades.loc[trades[\"side\"]==\"SELL\",\"profit\"]\n",
    "    buy_profit_mean, sell_profit_mean = buy_profit.mean(), sell_profit.mean()\n",
    "    buy_profit_mdn, sell_profit_mdn = buy_profit.median(), sell_profit.median()\n",
    "    \n",
    "    sns.barplot(x=[\"buy profit sum\", \"sell profit sum\"], y = [buy_profit.sum(), sell_profit.sum()])\n",
    "    plt.title(\"Profit sum\")\n",
    "    plt.show()\n",
    "    #sns.set_style(\"whitegrid\")\n",
    "    \n",
    "#     fig, (ax1, ax2) = plt.subplots(1, 2)\n",
    "#     fig.set_size_inches(plot_figsize)\n",
    "#     fig.align_ylabels(ax2)    \n",
    "\n",
    "    data={\"val\": [buy_profit.mean(), sell_profit.mean(), buy_profit.median(), sell_profit.median()],\n",
    "          \"type\": [\"buy\", \"sell\", \"buy\", \"sell\"],\n",
    "          \"agg\": [\"mean\", \"mean\", \"median\", \"median\"]\n",
    "         }\n",
    "    sns.barplot(data=data, x=\"type\", y=\"val\", hue=\"agg\")\n",
    "    #sns.barplot(x=[\"buy profit median\", \"sell profit median\"], y = [buy_profit.median(), sell_profit.median()],ax=ax2)\n",
    "    #fig.show()\n",
    "    \n",
    "#     px.bar(x=[\"buy_profit_sum\", \"sell_profit_sum\"], y=[buy_profit.sum(), sell_profit.sum()], title=\"Buy/sell profit sum\").show()\n",
    "#     px.bar(x=[\"buy_profit_mean\", \"sell_profit_mean\"], y=[buy_profit.mean(), sell_profit.mean()], title=\"Buy/sell mean profit\").show()\n",
    "    \n",
    "plot_profit_stat_sns(trades)"
   ]
  },
  {
   "cell_type": "code",
   "execution_count": null,
   "metadata": {},
   "outputs": [],
   "source": []
  },
  {
   "cell_type": "markdown",
   "metadata": {},
   "source": [
    "## Trades on candlestick chart"
   ]
  },
  {
   "cell_type": "code",
   "execution_count": 16,
   "metadata": {},
   "outputs": [
    {
     "ename": "NameError",
     "evalue": "name 'candles' is not defined",
     "output_type": "error",
     "traceback": [
      "\u001b[0;31m---------------------------------------------------------------------------\u001b[0m",
      "\u001b[0;31mNameError\u001b[0m                                 Traceback (most recent call last)",
      "Cell \u001b[0;32mIn[16], line 57\u001b[0m\n\u001b[1;32m     54\u001b[0m \u001b[38;5;28;01melif\u001b[39;00m exchange \u001b[38;5;241m==\u001b[39m \u001b[38;5;124m\"\u001b[39m\u001b[38;5;124mhuobi\u001b[39m\u001b[38;5;124m\"\u001b[39m:\n\u001b[1;32m     55\u001b[0m     candles \u001b[38;5;241m=\u001b[39m get_last_candles_huobi()\n\u001b[0;32m---> 57\u001b[0m \u001b[43mcandles\u001b[49m\u001b[38;5;241m.\u001b[39mtail()\n",
      "\u001b[0;31mNameError\u001b[0m: name 'candles' is not defined"
     ]
    }
   ],
   "source": [
    "from datetime import datetime\n",
    "from huobi.model.market.candlestick import Candlestick\n",
    "\n",
    "def get_last_candles_binance():\n",
    "    candle_columns = [\"open_time\", \"open\", \"high\", \"low\", \"close\", \"vol\", \"close_time\", \"quote_asset_volume\",\n",
    "                      \"number_of_trades\", \" taker_buy_base_asset_volume\", \"taker_buy_quote_asset_volume\",\n",
    "                      \"ignore\"]    \n",
    "    end_date=trades.open_time.max() if not trades.empty else datetime.utcnow()\n",
    "    \n",
    "    #end_time_millis=end_date.value//1000000\n",
    "    cnt=24*60 # Number of last candles to read\n",
    "    raw_candles = client.klines(symbol=symbol,\n",
    "                                    interval=\"1m\",\n",
    "                                    #limit=10,\n",
    "                                    limit=cnt,\n",
    "                                    #endTime=end_time_millis\n",
    "                               )\n",
    "    df = pd.DataFrame(raw_candles, columns=candle_columns)\n",
    "    df[\"open_time\"] = pd.to_datetime(df[\"open_time\"], unit='ms')\n",
    "    df[\"close_time\"] = pd.to_datetime(df[\"close_time\"], unit='ms')\n",
    "    df.set_index(\"open_time\", drop=False, inplace=True)\n",
    "        # Convert strings to float prices\n",
    "    df[[\"open\", \"high\", \"low\", \"close\"]] = df[[\"open\", \"high\", \"low\", \"close\"]].astype(float)\n",
    "    return df\n",
    "\n",
    "def clean_candles_binance(df):\n",
    "    \"\"\" Remove outliers \"\"\"\n",
    "    q_low = df[\"low\"].diff().quantile(0.1)\n",
    "    q_high  = df[\"high\"].diff().quantile(0.9)\n",
    "    df=df[df[\"high\"].diff()< q_high]\n",
    "    df=df[df[\"low\"].diff() > q_low ]\n",
    "    return df\n",
    "\n",
    "def get_last_candles_huobi():\n",
    "        \"\"\" Read candles from Huobi \"\"\"\n",
    "        # Get candles\n",
    "        interval=\"1m\"\n",
    "        size=2000\n",
    "        candles = huobi_market_client.get_candlestick(symbol=symbol, period=\"1min\", size=size)\n",
    "        candles = [vars(c) for c in candles]\n",
    "\n",
    "        # Huobi candles don't have time, so generate times for last candles\n",
    "        deltatime = pd.Timedelta(interval+\"in\")\n",
    "        times = [datetime.utcnow() - deltatime * i for i in range(len(candles))]\n",
    "        candles = pd.DataFrame(candles, index=times)\n",
    "        candles[\"close_time\"] = candles.index\n",
    "        candles[\"open_time\"] = candles[\"close_time\"] - deltatime\n",
    "\n",
    "        return candles.sort_index()\n",
    "\n",
    "if exchange == \"binance\":\n",
    "    candles = get_last_candles_binance()\n",
    "    candles = clean_candles_binance(candles)\n",
    "elif exchange == \"huobi\":\n",
    "    candles = get_last_candles_huobi()\n",
    "\n",
    "candles.tail()"
   ]
  },
  {
   "cell_type": "code",
   "execution_count": null,
   "metadata": {},
   "outputs": [],
   "source": []
  },
  {
   "cell_type": "markdown",
   "metadata": {},
   "source": []
  },
  {
   "cell_type": "markdown",
   "metadata": {},
   "source": []
  },
  {
   "cell_type": "code",
   "execution_count": null,
   "metadata": {
    "scrolled": false
   },
   "outputs": [],
   "source": [
    "# Install a conda package in the current Jupyter kernel\n",
    "#%conda install -c plotly plotly=5.9.0\n",
    "# Draw candlechart\n",
    "import plotly as py\n",
    "from plotly import graph_objects as go\n",
    "import pandas as pd\n",
    "import numpy as np\n",
    "import datetime\n",
    "\n",
    "def get_chart_figure(candles: pd.DataFrame, trades: pd.DataFrame)->pd.DataFrame:\n",
    "    \"\"\"\n",
    "    Form plotly candlestick chart with buy/sell marks on it\n",
    "    \"\"\"\n",
    "    \n",
    "    df=candles.copy()\n",
    "    #df=clean_candles(df)\n",
    "    fig = go.Figure(data=[ \\\n",
    "                        go.Candlestick(\\\n",
    "                            x=df.index,\\\n",
    "                            open=df['open'],\\\n",
    "                            high=df['high'],\\\n",
    "                            low=df['low'],\\\n",
    "                            close=df['close'])\n",
    "                         ])\n",
    "\n",
    "    # Customize ay to distribute captions by y so they do not overlap by x\n",
    "    ay,aymax,aystep=0,50,10\n",
    "    #start_time=df.open_time.min()\n",
    "    # Annotate buy, sell on the chart\n",
    "    for i,trade in trades[(~trades[\"open_time\"].isna()) & (trades[\"open_time\"] > df.open_time.min())].iterrows():\n",
    "        ay=(ay+aystep)%aymax\n",
    "        color='green' if trade['side']==\"BUY\" else 'red'\n",
    "\n",
    "        # Draw open order\n",
    "        open_text='buy' if trade['side']==\"BUY\"  else 'sell'\n",
    "        open_hover=f\"{trade['open_time']} {open_text} at {str(trade['open_price'])}, sl={trade['stop_loss_price']}, tp={trade['take_profit_price']}\"\n",
    "        fig.add_annotation(x=trade['open_time'], \\\n",
    "                           y=trade['open_price'],\\\n",
    "                           text=open_text,\\\n",
    "                           hovertext=open_hover,\\\n",
    "                           showarrow=True,arrowhead=5,arrowcolor=color,ay=-ay,arrowwidth=2,\n",
    "                           font={'color':color}\n",
    "                          )\n",
    "    for i,trade in trades[(~trades.close_time.isna()) & (trades.close_time > df.close_time.min())].iterrows():\n",
    "        color='green' if trade['side']==\"BUY\" else 'red'\n",
    "\n",
    "        # Draw close order\n",
    "        #profit = trade[\"close_price\"]-trade[\"open_price\"] if trade[\"close_price\"] else None\n",
    "        status= f\", profit: {round(trade.profit, 10)}\" if trade.profit else \"\"\n",
    "        close_text=f\"close {trade['side'].lower()}\"\n",
    "        close_hover=f\"{trade['close_time']} {close_text} at {str(trade['close_price'])}{status}\"\n",
    "        fig.add_annotation(x=trade['close_time'], \\\n",
    "                           y=trade['close_price'],\\\n",
    "                           text=close_text,\\\n",
    "                           hovertext=close_hover,\\\n",
    "                           showarrow=True,arrowhead=5,arrowcolor=color,ay=-ay,arrowwidth=2,\\\n",
    "                           font={'color':color}\n",
    "                          )\n",
    "    return fig\n",
    "\n",
    "get_chart_figure(candles, trades).show()\n",
    "\n"
   ]
  },
  {
   "cell_type": "markdown",
   "metadata": {},
   "source": []
  },
  {
   "cell_type": "code",
   "execution_count": null,
   "metadata": {},
   "outputs": [],
   "source": []
  },
  {
   "cell_type": "code",
   "execution_count": null,
   "metadata": {},
   "outputs": [],
   "source": [
    "\n",
    "\n"
   ]
  },
  {
   "cell_type": "code",
   "execution_count": null,
   "metadata": {},
   "outputs": [],
   "source": []
  },
  {
   "cell_type": "markdown",
   "metadata": {},
   "source": [
    "## Predicted and actual low/high"
   ]
  },
  {
   "cell_type": "code",
   "execution_count": null,
   "metadata": {},
   "outputs": [],
   "source": [
    "import os\n",
    "import glob\n",
    "import pandas as pd\n",
    "from datetime import timedelta,date\n",
    "import matplotlib.pyplot as plt\n",
    "import plotly.express as px\n",
    "\n",
    "def read_last_data(data_dir, strategy):\n",
    "    \"\"\" Read days from start to end from local predictions history\"\"\"\n",
    "    \n",
    "    def read_last(symbol: str, name: str, n: int):\n",
    "        xy_dir=f\"{data_dir}/{strategy}/Xy\"\n",
    "        file_path = sorted([f for f in os.listdir(xy_dir) if f.endswith(f\"{symbol}_{name}.csv\")])[-1]\n",
    "        file_path = f\"{xy_dir}/{file_path}\"\n",
    "        print(f\"Read from {file_path}\")\n",
    "        return pd.read_csv(file_path, parse_dates=True, index_col=\"datetime\").tail(n)\n",
    "    n=1000\n",
    "    data=read_last(\"BTCUSDT\", \"data\", n)\n",
    "    X=read_last(\"BTCUSDT\", \"X\", n)\n",
    "    y=read_last(\"BTCUSDT\", \"y\", n)\n",
    "    data=pd.merge(data[[\"symbol\"]],y, left_index=True, right_index=True) \n",
    "    #y=pd.concat([data,y])\n",
    "    return data,X,y\n",
    "\n",
    "\n",
    "# Read candles for last 3 days\n",
    "data,x,y = read_last_data(data_dir, strategy)\n",
    "data.tail(100)"
   ]
  },
  {
   "cell_type": "code",
   "execution_count": null,
   "metadata": {},
   "outputs": [],
   "source": [
    "\n",
    "def get_predictions(data):\n",
    "    \"\"\" \n",
    "    Merge predicted and real prices for analysis \n",
    "    \"\"\"\n",
    "    \n",
    "    # Prediction window is constant, get it from last row\n",
    "    predicted=data[[\"bid\",\"ask\",\"bid_min_fut\", \"bid_max_fut\", \"ask_min_fut\", \"ask_max_fut\"]]\n",
    "    predicted.columns=[c.replace(\"_fut\", \"_predicted\") for c in predicted.columns]\n",
    "    predict_window=data[\"predict_window\"].tail(1).values[0]\n",
    "    real_min=data[[\"bid\", \"ask\"]].rolling(predict_window).min().rename(columns={\"bid\":\"bid_min_real\", \"ask\":\"ask_min_real\"})\n",
    "    real_max=data[[\"bid\", \"ask\"]].rolling(predict_window).max().rename(columns={\"bid\":\"bid_max_real\", \"ask\":\"ask_max_real\"})\n",
    "    real=pd.concat([real_min, real_max], axis=1)\n",
    "    real[\"prediction_datetime\"]=real.index.to_series()-pd.to_timedelta(predict_window)\n",
    "    merged=pd.merge_asof(real, predicted, left_on=\"prediction_datetime\", right_index=True, direction='forward')\n",
    "    return merged[[\"bid\", \"ask\", \"bid_min_real\", \"bid_min_predicted\", \"bid_max_real\", \"bid_max_predicted\", \\\n",
    "                   \"ask_min_real\", \"ask_min_predicted\", \"ask_max_real\", \"ask_max_predicted\"]]\n",
    "\n",
    "\n",
    "# predicted=data[[\"bid\",\"ask\",\"bid_min_fut\", \"bid_max_fut\", \"ask_min_fut\", \"ask_max_fut\"]]\n",
    "# predicted.columns=[c.replace(\"_fut\", \"_predicted\") for c in predicted.columns]\n",
    "# predict_window=data[\"predict_window\"].tail(1).values[0]\n",
    "# real_min=data[[\"bid\", \"ask\"]].rolling(predict_window).min().rename(columns={\"bid\":\"bid_min_real\", \"ask\":\"ask_min_real\"})\n",
    "# real_max=data[[\"bid\", \"ask\"]].rolling(predict_window).max().rename(columns={\"bid\":\"bid_max_real\", \"ask\":\"ask_max_real\"})\n",
    "# real=pd.concat([real_min, real_max], axis=1)\n",
    "# real[\"prediction_datetime\"]=real.index.to_series()-pd.to_timedelta(predict_window)\n",
    "\n",
    "# pd.merge_asof(real, predicted, left_on=\"prediction_datetime\", right_index=True, direction='backward')\n",
    "\n",
    "\n",
    "predictions = get_predictions(data)\n",
    "predictions.info()\n",
    "print(f\"predict_window={data['predict_window'].values[-1]}\")"
   ]
  },
  {
   "cell_type": "markdown",
   "metadata": {},
   "source": [
    "## Prediction errors"
   ]
  },
  {
   "cell_type": "code",
   "execution_count": null,
   "metadata": {},
   "outputs": [],
   "source": [
    "def plot_prediction_err(predictions):\n",
    "    df = pd.DataFrame(index=predictions.index)\n",
    "    for bidask in [\"bid\", \"ask\"]:\n",
    "        for maxmin in [\"max\", \"min\"]:\n",
    "            prefix = f\"{bidask}_{maxmin}\"\n",
    "            df[f\"{prefix}_error\"] = predictions[f\"{prefix}_predicted\"] - predictions[f\"{prefix}_real\"]\n",
    "    \n",
    "    px.line(df, title=\"Errors\", markers=True).show()\n",
    "    px.line(df.sum(axis=1).abs().rename(\"error sum\"), title=\"Error summary\", markers=True).show()\n",
    "    \n",
    "plot_prediction_err(predictions)"
   ]
  },
  {
   "cell_type": "code",
   "execution_count": null,
   "metadata": {
    "scrolled": false
   },
   "outputs": [],
   "source": []
  },
  {
   "cell_type": "code",
   "execution_count": null,
   "metadata": {},
   "outputs": [],
   "source": [
    "\n"
   ]
  },
  {
   "cell_type": "code",
   "execution_count": null,
   "metadata": {},
   "outputs": [],
   "source": []
  },
  {
   "cell_type": "code",
   "execution_count": null,
   "metadata": {},
   "outputs": [],
   "source": []
  },
  {
   "cell_type": "code",
   "execution_count": null,
   "metadata": {},
   "outputs": [],
   "source": [
    "import pandas as pd\n",
    "\n",
    "def get_profits(predictions: pd.DataFrame)->pd.DataFrame:\n",
    "    \"\"\"\n",
    "    Buy, sell profit, real and predicted, for each time moment\n",
    "    \"\"\"\n",
    "    \n",
    "    profits = pd.DataFrame()\n",
    "    # Profit/loss ratio to consider buy or sell\n",
    "    min_ratio=1\n",
    "\n",
    "    # Calculate possible profits for buy or sell\n",
    "    profits[\"buy_profit_predicted\"] = predictions[\"bid_max_predicted\"] - predictions[\"ask\"]\n",
    "    profits[\"buy_loss_predicted\"] = predictions[\"ask\"]-predictions[\"bid_min_predicted\"]\n",
    "    profits['buy_ratio_predicted'] = np.where(profits['buy_loss_predicted'] > 0, profits['buy_profit_predicted'] / profits['buy_loss_predicted'],float('inf'))\n",
    "\n",
    "    profits[\"buy_profit_real\"] = predictions[\"bid_max_real\"] - predictions[\"ask\"]\n",
    "    profits[\"buy_loss_real\"] = predictions[\"ask\"]-predictions[\"bid_min_real\"]\n",
    "    profits['buy_ratio_real'] = np.where(profits['buy_loss_real'] > 0, profits['buy_profit_real'] / profits['buy_loss_real'],float('inf'))\n",
    "\n",
    "\n",
    "    profits[\"sell_profit_predicted\"] = predictions[\"bid\"] - predictions[\"ask_min_predicted\"]\n",
    "    profits[\"sell_loss_predicted\"] = predictions[\"ask_max_predicted\"] - predictions[\"bid\"]\n",
    "    profits['sell_ratio_predicted'] = np.where(profits['sell_loss_predicted'] > 0, profits['sell_profit_predicted'] / profits['sell_loss_predicted'],float('inf'))\n",
    "\n",
    "    profits[\"sell_profit_real\"] = predictions[\"bid\"] - predictions[\"ask_min_real\"]\n",
    "    profits[\"sell_loss_real\"] = predictions[\"ask_max_real\"] - predictions[\"bid\"]\n",
    "    profits['sell_ratio_real'] = np.where(profits['sell_loss_real'] > 0, profits['sell_profit_real'] / profits['sell_loss_real'],float('inf'))\n",
    "\n",
    "\n",
    "    profits[\"signal\"] = np.where(profits['buy_ratio_predicted'] >= min_ratio, 1,\n",
    "                                 np.where(profits[\"sell_ratio_predicted\"]>=min_ratio, -1,0 ))\n",
    "\n",
    "    # Calculate real profit or loss\n",
    "    profits[\"profit_real\"] = np.where(\n",
    "        # If buy                             \n",
    "        profits[\"signal\"]==1,\n",
    "        np.where(\n",
    "            # Real movement down was inside what we predicted\n",
    "            (predictions[\"bid_min_real\"] < predictions[\"bid_min_predicted\"]) \n",
    "            & (predictions[\"bid_max_real\"] <= predictions[\"bid_max_predicted\"]),\n",
    "            # Take the profit\n",
    "            profits[\"buy_profit_predicted\"],\n",
    "            # Or fix the loss\n",
    "            -profits[\"buy_loss_predicted\"]\n",
    "        ),\n",
    "        # If Sell                     \n",
    "        np.where(profits[\"signal\"] == -1,\n",
    "            np.where(\n",
    "                # Real movement down was inside what we predicted\n",
    "                (predictions[\"ask_max_real\"] > predictions[\"ask_max_predicted\"]) \n",
    "                & (predictions[\"ask_min_real\"] >= predictions[\"ask_max_predicted\"]),\n",
    "                # Take the profit\n",
    "                profits[\"sell_profit_predicted\"],\n",
    "                # Or fix the loss\n",
    "                -profits[\"sell_loss_predicted\"]\n",
    "            ),\n",
    "            # If neither buy nor sell, return NaN\n",
    "            np.nan\n",
    "        )\n",
    "    )\n",
    "\n",
    "    # Fill in predicted profit\n",
    "    profits[\"profit_predicted\"]=np.where(profits[\"signal\"] == 1, \n",
    "                                         # If buy\n",
    "                                         profits[\"buy_profit_predicted\"], \n",
    "                                        np.where(profits[\"signal\"]==-1,\n",
    "                                                # If sell\n",
    "                                                profits[\"sell_profit_predicted\"],\n",
    "                                                # If neither buy not sell\n",
    "                                                 np.nan))\n",
    "    return profits\n",
    "\n",
    "profits = get_profits(predictions)\n",
    "pd.set_option('display.max_rows', 1000)\n",
    "pd.concat([predictions,profits],axis=1).tail()\n",
    "#profits.dropna().tail(100)\n",
    "\n",
    "\n"
   ]
  },
  {
   "cell_type": "code",
   "execution_count": null,
   "metadata": {},
   "outputs": [],
   "source": [
    "print(f\"Total prediction profit sum: {profits['profit_real'].sum()}\")\n",
    "\n"
   ]
  },
  {
   "cell_type": "code",
   "execution_count": null,
   "metadata": {},
   "outputs": [],
   "source": [
    "#px.line(profits[[\"profit_predicted\", \"profit_real\"]], markers=True)\n",
    "px.line(profits[\"profit_predicted\"]-profits[\"profit_real\"])"
   ]
  },
  {
   "cell_type": "markdown",
   "metadata": {},
   "source": [
    "## Sharp ratio"
   ]
  },
  {
   "cell_type": "code",
   "execution_count": null,
   "metadata": {},
   "outputs": [],
   "source": [
    "sharp_ratio_df=profits[[\"buy_ratio_predicted\", \"buy_ratio_real\", \"sell_ratio_predicted\", \"sell_ratio_real\"]]\n",
    "sharp_ratio_df.tail()\n"
   ]
  },
  {
   "cell_type": "code",
   "execution_count": null,
   "metadata": {},
   "outputs": [],
   "source": [
    "px.line(sharp_ratio_df[[\"buy_ratio_predicted\", \"buy_ratio_real\"]], title=\"Buy sharp ratio\")"
   ]
  },
  {
   "cell_type": "code",
   "execution_count": null,
   "metadata": {},
   "outputs": [],
   "source": [
    "px.line(sharp_ratio_df[[\"sell_ratio_predicted\", \"sell_ratio_real\"]], title=\"Sell sharp ratio\")"
   ]
  },
  {
   "cell_type": "markdown",
   "metadata": {},
   "source": [
    "## Signal analysis"
   ]
  },
  {
   "cell_type": "code",
   "execution_count": null,
   "metadata": {},
   "outputs": [],
   "source": [
    "y.tail()\n",
    "y.plot(y= \"open_signal\", title=\"open signal\")\n",
    "plt.show()"
   ]
  }
 ],
 "metadata": {
  "kernelspec": {
   "display_name": "Python 3 (ipykernel)",
   "language": "python",
   "name": "python3"
  },
  "language_info": {
   "codemirror_mode": {
    "name": "ipython",
    "version": 3
   },
   "file_extension": ".py",
   "mimetype": "text/x-python",
   "name": "python",
   "nbconvert_exporter": "python",
   "pygments_lexer": "ipython3",
   "version": "3.8.10"
  }
 },
 "nbformat": 4,
 "nbformat_minor": 4
}
