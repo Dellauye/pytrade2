{
 "cells": [
  {
   "cell_type": "markdown",
   "metadata": {},
   "source": [
    "# Predict low, high strategy  EDA"
   ]
  },
  {
   "cell_type": "markdown",
   "metadata": {},
   "source": [
    "To install conda and binance packages to this notebook uncomment the code below"
   ]
  },
  {
   "cell_type": "code",
   "execution_count": 1,
   "metadata": {},
   "outputs": [
    {
     "name": "stdout",
     "output_type": "stream",
     "text": [
      "Defaulting to user installation because normal site-packages is not writeable\n",
      "Requirement already satisfied: plotly==5.9.0 in /home/dima/.local/lib/python3.8/site-packages (5.9.0)\n",
      "Requirement already satisfied: tenacity>=6.2.0 in /home/dima/.local/lib/python3.8/site-packages (from plotly==5.9.0) (8.0.1)\n",
      "Note: you may need to restart the kernel to use updated packages.\n",
      "Defaulting to user installation because normal site-packages is not writeable\n",
      "Requirement already satisfied: twisted in /home/dima/.local/lib/python3.8/site-packages (22.10.0)\n",
      "Requirement already satisfied: zope.interface>=4.4.2 in /home/dima/.local/lib/python3.8/site-packages (from twisted) (6.0)\n",
      "Requirement already satisfied: constantly>=15.1 in /home/dima/.local/lib/python3.8/site-packages (from twisted) (15.1.0)\n",
      "Requirement already satisfied: incremental>=21.3.0 in /home/dima/.local/lib/python3.8/site-packages (from twisted) (22.10.0)\n",
      "Requirement already satisfied: Automat>=0.8.0 in /home/dima/.local/lib/python3.8/site-packages (from twisted) (22.10.0)\n",
      "Requirement already satisfied: hyperlink>=17.1.1 in /home/dima/.local/lib/python3.8/site-packages (from twisted) (21.0.0)\n",
      "Requirement already satisfied: attrs>=19.2.0 in /home/dima/.local/lib/python3.8/site-packages (from twisted) (23.1.0)\n",
      "Requirement already satisfied: typing-extensions>=3.6.5 in /home/dima/.local/lib/python3.8/site-packages (from twisted) (4.0.1)\n",
      "Requirement already satisfied: six in /usr/lib/python3/dist-packages (from Automat>=0.8.0->twisted) (1.14.0)\n",
      "Requirement already satisfied: idna>=2.5 in /usr/lib/python3/dist-packages (from hyperlink>=17.1.1->twisted) (2.8)\n",
      "Requirement already satisfied: setuptools in /usr/lib/python3/dist-packages (from zope.interface>=4.4.2->twisted) (45.2.0)\n",
      "Note: you may need to restart the kernel to use updated packages.\n",
      "Defaulting to user installation because normal site-packages is not writeable\n",
      "Requirement already satisfied: binance-connector==1.13.0 in /home/dima/.local/lib/python3.8/site-packages (1.13.0)\n",
      "Requirement already satisfied: autobahn>=21.2.1 in /home/dima/.local/lib/python3.8/site-packages (from binance-connector==1.13.0) (23.1.2)\n",
      "Requirement already satisfied: Twisted>=21.2.0 in /home/dima/.local/lib/python3.8/site-packages (from binance-connector==1.13.0) (22.10.0)\n",
      "Requirement already satisfied: requests>=2.25.1 in /home/dima/.local/lib/python3.8/site-packages (from binance-connector==1.13.0) (2.30.0)\n",
      "Requirement already satisfied: pyOpenSSL>=19.0.0 in /home/dima/.local/lib/python3.8/site-packages (from binance-connector==1.13.0) (23.1.1)\n",
      "Requirement already satisfied: service-identity>=21.1.0 in /home/dima/.local/lib/python3.8/site-packages (from binance-connector==1.13.0) (21.1.0)\n",
      "Requirement already satisfied: cryptography>=3.4.6 in /home/dima/.local/lib/python3.8/site-packages (from autobahn>=21.2.1->binance-connector==1.13.0) (40.0.2)\n",
      "Requirement already satisfied: hyperlink>=21.0.0 in /home/dima/.local/lib/python3.8/site-packages (from autobahn>=21.2.1->binance-connector==1.13.0) (21.0.0)\n",
      "Requirement already satisfied: setuptools in /usr/lib/python3/dist-packages (from autobahn>=21.2.1->binance-connector==1.13.0) (45.2.0)\n",
      "Requirement already satisfied: txaio>=21.2.1 in /home/dima/.local/lib/python3.8/site-packages (from autobahn>=21.2.1->binance-connector==1.13.0) (23.1.1)\n",
      "Requirement already satisfied: charset-normalizer<4,>=2 in /home/dima/.local/lib/python3.8/site-packages (from requests>=2.25.1->binance-connector==1.13.0) (3.1.0)\n",
      "Requirement already satisfied: idna<4,>=2.5 in /usr/lib/python3/dist-packages (from requests>=2.25.1->binance-connector==1.13.0) (2.8)\n",
      "Requirement already satisfied: urllib3<3,>=1.21.1 in /usr/lib/python3/dist-packages (from requests>=2.25.1->binance-connector==1.13.0) (1.25.8)\n",
      "Requirement already satisfied: certifi>=2017.4.17 in /usr/lib/python3/dist-packages (from requests>=2.25.1->binance-connector==1.13.0) (2019.11.28)\n",
      "Requirement already satisfied: attrs>=19.1.0 in /home/dima/.local/lib/python3.8/site-packages (from service-identity>=21.1.0->binance-connector==1.13.0) (23.1.0)\n",
      "Requirement already satisfied: pyasn1-modules in /home/dima/.local/lib/python3.8/site-packages (from service-identity>=21.1.0->binance-connector==1.13.0) (0.2.8)\n",
      "Requirement already satisfied: pyasn1 in /home/dima/.local/lib/python3.8/site-packages (from service-identity>=21.1.0->binance-connector==1.13.0) (0.4.8)\n",
      "Requirement already satisfied: six in /usr/lib/python3/dist-packages (from service-identity>=21.1.0->binance-connector==1.13.0) (1.14.0)\n",
      "Requirement already satisfied: zope.interface>=4.4.2 in /home/dima/.local/lib/python3.8/site-packages (from Twisted>=21.2.0->binance-connector==1.13.0) (6.0)\n",
      "Requirement already satisfied: constantly>=15.1 in /home/dima/.local/lib/python3.8/site-packages (from Twisted>=21.2.0->binance-connector==1.13.0) (15.1.0)\n",
      "Requirement already satisfied: incremental>=21.3.0 in /home/dima/.local/lib/python3.8/site-packages (from Twisted>=21.2.0->binance-connector==1.13.0) (22.10.0)\n",
      "Requirement already satisfied: Automat>=0.8.0 in /home/dima/.local/lib/python3.8/site-packages (from Twisted>=21.2.0->binance-connector==1.13.0) (22.10.0)\n",
      "Requirement already satisfied: typing-extensions>=3.6.5 in /home/dima/.local/lib/python3.8/site-packages (from Twisted>=21.2.0->binance-connector==1.13.0) (4.0.1)\n",
      "Requirement already satisfied: cffi>=1.12 in /home/dima/.local/lib/python3.8/site-packages (from cryptography>=3.4.6->autobahn>=21.2.1->binance-connector==1.13.0) (1.15.1)\n",
      "Requirement already satisfied: pycparser in /home/dima/.local/lib/python3.8/site-packages (from cffi>=1.12->cryptography>=3.4.6->autobahn>=21.2.1->binance-connector==1.13.0) (2.21)\n",
      "Note: you may need to restart the kernel to use updated packages.\n",
      "Defaulting to user installation because normal site-packages is not writeable\n",
      "Requirement already satisfied: pandas in /home/dima/.local/lib/python3.8/site-packages (1.4.2)\n",
      "Requirement already satisfied: python-dateutil>=2.8.1 in /home/dima/.local/lib/python3.8/site-packages (from pandas) (2.8.2)\n",
      "Requirement already satisfied: pytz>=2020.1 in /home/dima/.local/lib/python3.8/site-packages (from pandas) (2022.1)\n",
      "Requirement already satisfied: numpy>=1.18.5 in /home/dima/.local/lib/python3.8/site-packages (from pandas) (1.21.5)\n",
      "Requirement already satisfied: six>=1.5 in /usr/lib/python3/dist-packages (from python-dateutil>=2.8.1->pandas) (1.14.0)\n",
      "Note: you may need to restart the kernel to use updated packages.\n"
     ]
    }
   ],
   "source": [
    "#%conda install -c plotly plotly=5.9.0\n",
    "#%conda install pip\n",
    "#%conda install twisted\n",
    "%pip install plotly==5.9.0\n",
    "%pip install twisted\n",
    "%pip install binance-connector==1.13.0\n",
    "%pip install pandas\n",
    "import pandas as pd\n",
    "pd.set_option('display.max_columns', None)\n",
    "pd.set_option('display.expand_frame_repr', False)\n",
    "pd.set_option('max_colwidth', None)"
   ]
  },
  {
   "cell_type": "markdown",
   "metadata": {},
   "source": [
    "Init binance client"
   ]
  },
  {
   "cell_type": "code",
   "execution_count": 2,
   "metadata": {},
   "outputs": [],
   "source": [
    "from binance.spot import Spot as Client\n",
    "import os\n",
    "import sys\n",
    "import yaml\n",
    "\n",
    "# Load \n",
    "def load_config():\n",
    "    \"\"\"\n",
    "    Load config from cfg folder respecting the order: defaults, app.yaml, environment vars\n",
    "    \"\"\"\n",
    "    # Defaults\n",
    "    cfg_dir=\"./../biml/cfg\"\n",
    "    default_cfg_path = f\"{cfg_dir}/app-defaults.yaml\"\n",
    "    with open(default_cfg_path, \"r\") as appdefaults:\n",
    "        config = yaml.safe_load(appdefaults)\n",
    "\n",
    "    # Custom config, should contain custom information,\n",
    "    cfg_path = f\"{cfg_dir}/app.yaml\"\n",
    "    if os.path.exists(cfg_path):\n",
    "        with open(cfg_path) as app:\n",
    "            config.update(yaml.safe_load(app))\n",
    "    else:\n",
    "        sys.exit(\n",
    "            f\"Config {cfg_path} not found. Please copy cfg/app-defaults.yaml to {cfg_path} \"\n",
    "            f\"and update connection info there.\")\n",
    "\n",
    "    # Enviroment variabless\n",
    "    config.update(os.environ)\n",
    "    return config\n",
    "\n",
    "def create_client(strategy: str):\n",
    "        # Create binance client\n",
    "        config=load_config()\n",
    "        strategy=strategy.lower()\n",
    "        key,secret,url=config[f\"biml.connector.{strategy}.key\"],config[f\"biml.connector.{strategy}.secret\"],config[\"biml.connector.url\"]\n",
    "        return Client(key=key, secret=secret, base_url=url, timeout=10)\n",
    "\n",
    "#strategy=\"SimpleKerasStrategy\"\n",
    "strategy=\"LSTMStrategy\"\n",
    "\n",
    "client = create_client(strategy)\n",
    "\n"
   ]
  },
  {
   "cell_type": "markdown",
   "metadata": {},
   "source": [
    "## Account and orders"
   ]
  },
  {
   "cell_type": "code",
   "execution_count": 3,
   "metadata": {},
   "outputs": [
    {
     "name": "stdout",
     "output_type": "stream",
     "text": [
      "My USDT amount: ['10000.00000000']\n",
      "{'makerCommission': 0, 'takerCommission': 0, 'buyerCommission': 0, 'sellerCommission': 0, 'commissionRates': {'maker': '0.00000000', 'taker': '0.00000000', 'buyer': '0.00000000', 'seller': '0.00000000'}, 'canTrade': True, 'canWithdraw': False, 'canDeposit': False, 'brokered': False, 'requireSelfTradePrevention': False, 'updateTime': 1683107358494, 'accountType': 'SPOT', 'balances': [{'asset': 'BNB', 'free': '1000.00000000', 'locked': '0.00000000'}, {'asset': 'BTC', 'free': '1.00000000', 'locked': '0.00000000'}, {'asset': 'BUSD', 'free': '10000.00000000', 'locked': '0.00000000'}, {'asset': 'ETH', 'free': '100.00000000', 'locked': '0.00000000'}, {'asset': 'LTC', 'free': '500.00000000', 'locked': '0.00000000'}, {'asset': 'TRX', 'free': '500000.00000000', 'locked': '0.00000000'}, {'asset': 'USDT', 'free': '10000.00000000', 'locked': '0.00000000'}, {'asset': 'XRP', 'free': '50000.00000000', 'locked': '0.00000000'}], 'permissions': ['SPOT']}\n",
      "2023-05-03 09:49:18.494000\n"
     ]
    }
   ],
   "source": [
    "account=client.account()\n",
    "usdt_free=[a[\"free\"] for a in account[\"balances\"] if a[\"asset\"]==\"USDT\"]\n",
    "# update_time=account[\"update_time\"]\n",
    "# print(f\"account update time:{update_time}\")\n",
    "print(f\"My USDT amount: {usdt_free}\")\n",
    "\n",
    "print(account)\n",
    "print(str(pd.to_datetime(account[\"updateTime\"], unit=\"ms\")))\n",
    "# btc 1.15798200\n",
    "#usdt 5134.30859706 26.04.2023 14:26\n",
    "\n"
   ]
  },
  {
   "cell_type": "markdown",
   "metadata": {},
   "source": [
    "My trades from Binance"
   ]
  },
  {
   "cell_type": "code",
   "execution_count": 6,
   "metadata": {},
   "outputs": [
    {
     "data": {
      "text/html": [
       "<div>\n",
       "<style scoped>\n",
       "    .dataframe tbody tr th:only-of-type {\n",
       "        vertical-align: middle;\n",
       "    }\n",
       "\n",
       "    .dataframe tbody tr th {\n",
       "        vertical-align: top;\n",
       "    }\n",
       "\n",
       "    .dataframe thead th {\n",
       "        text-align: right;\n",
       "    }\n",
       "</style>\n",
       "<table border=\"1\" class=\"dataframe\">\n",
       "  <thead>\n",
       "    <tr style=\"text-align: right;\">\n",
       "      <th></th>\n",
       "    </tr>\n",
       "  </thead>\n",
       "  <tbody>\n",
       "  </tbody>\n",
       "</table>\n",
       "</div>"
      ],
      "text/plain": [
       "Empty DataFrame\n",
       "Columns: []\n",
       "Index: []"
      ]
     },
     "execution_count": 6,
     "metadata": {},
     "output_type": "execute_result"
    }
   ],
   "source": [
    "symbol=\"BTCUSDT\"\n",
    "mytrades=pd.DataFrame(client.my_trades(symbol))\n",
    "mytrades[\"time\"] = pd.to_datetime(mytrades[\"time\"], unit='ms')\n",
    "mytrades.tail(100)\n"
   ]
  },
  {
   "cell_type": "markdown",
   "metadata": {},
   "source": [
    "Trades from bot database"
   ]
  },
  {
   "cell_type": "code",
   "execution_count": 7,
   "metadata": {},
   "outputs": [
    {
     "data": {
      "text/html": [
       "<div>\n",
       "<style scoped>\n",
       "    .dataframe tbody tr th:only-of-type {\n",
       "        vertical-align: middle;\n",
       "    }\n",
       "\n",
       "    .dataframe tbody tr th {\n",
       "        vertical-align: top;\n",
       "    }\n",
       "\n",
       "    .dataframe thead th {\n",
       "        text-align: right;\n",
       "    }\n",
       "</style>\n",
       "<table border=\"1\" class=\"dataframe\">\n",
       "  <thead>\n",
       "    <tr style=\"text-align: right;\">\n",
       "      <th></th>\n",
       "      <th>id</th>\n",
       "      <th>ticker</th>\n",
       "      <th>side</th>\n",
       "      <th>open_time</th>\n",
       "      <th>open_price</th>\n",
       "      <th>open_order_id</th>\n",
       "      <th>stop_loss_price</th>\n",
       "      <th>take_profit_price</th>\n",
       "      <th>stop_loss_order_id</th>\n",
       "      <th>trailing_delta</th>\n",
       "      <th>quantity</th>\n",
       "      <th>close_time</th>\n",
       "      <th>close_price</th>\n",
       "      <th>close_order_id</th>\n",
       "      <th>profit</th>\n",
       "    </tr>\n",
       "  </thead>\n",
       "  <tbody>\n",
       "    <tr>\n",
       "      <th>210</th>\n",
       "      <td>211</td>\n",
       "      <td>BTCUSDT</td>\n",
       "      <td>BUY</td>\n",
       "      <td>2023-04-27 03:45:52.644522</td>\n",
       "      <td>28920.01</td>\n",
       "      <td>11606496</td>\n",
       "      <td>28918.484015</td>\n",
       "      <td>28924.389002</td>\n",
       "      <td>11271</td>\n",
       "      <td>None</td>\n",
       "      <td>0.001</td>\n",
       "      <td>2023-04-27 03:45:59.248</td>\n",
       "      <td>28924.39</td>\n",
       "      <td>11606502</td>\n",
       "      <td>4.38</td>\n",
       "    </tr>\n",
       "    <tr>\n",
       "      <th>211</th>\n",
       "      <td>212</td>\n",
       "      <td>BTCUSDT</td>\n",
       "      <td>BUY</td>\n",
       "      <td>2023-04-27 03:51:33.841492</td>\n",
       "      <td>29014.04</td>\n",
       "      <td>11608587</td>\n",
       "      <td>29011.748237</td>\n",
       "      <td>29022.040375</td>\n",
       "      <td>11272</td>\n",
       "      <td>None</td>\n",
       "      <td>0.001</td>\n",
       "      <td>2023-04-27 03:51:34.313</td>\n",
       "      <td>29006.84</td>\n",
       "      <td>11608588</td>\n",
       "      <td>-7.20</td>\n",
       "    </tr>\n",
       "    <tr>\n",
       "      <th>212</th>\n",
       "      <td>213</td>\n",
       "      <td>BTCUSDT</td>\n",
       "      <td>BUY</td>\n",
       "      <td>2023-04-27 03:54:34.036033</td>\n",
       "      <td>29003.38</td>\n",
       "      <td>11609618</td>\n",
       "      <td>29001.885940</td>\n",
       "      <td>29011.590538</td>\n",
       "      <td>11273</td>\n",
       "      <td>None</td>\n",
       "      <td>0.001</td>\n",
       "      <td>2023-04-27 03:55:44.315</td>\n",
       "      <td>29001.23</td>\n",
       "      <td>11609625</td>\n",
       "      <td>-2.15</td>\n",
       "    </tr>\n",
       "    <tr>\n",
       "      <th>213</th>\n",
       "      <td>214</td>\n",
       "      <td>BTCUSDT</td>\n",
       "      <td>BUY</td>\n",
       "      <td>2023-04-27 03:58:20.758029</td>\n",
       "      <td>28854.39</td>\n",
       "      <td>11611143</td>\n",
       "      <td>28852.519743</td>\n",
       "      <td>28858.854886</td>\n",
       "      <td>11274</td>\n",
       "      <td>None</td>\n",
       "      <td>0.001</td>\n",
       "      <td>2023-04-27 03:58:24.291</td>\n",
       "      <td>28858.85</td>\n",
       "      <td>11611147</td>\n",
       "      <td>4.46</td>\n",
       "    </tr>\n",
       "    <tr>\n",
       "      <th>214</th>\n",
       "      <td>215</td>\n",
       "      <td>BTCUSDT</td>\n",
       "      <td>BUY</td>\n",
       "      <td>2023-04-27 04:17:23.159605</td>\n",
       "      <td>28972.90</td>\n",
       "      <td>11617003</td>\n",
       "      <td>28969.813397</td>\n",
       "      <td>28991.619364</td>\n",
       "      <td>11275</td>\n",
       "      <td>None</td>\n",
       "      <td>0.001</td>\n",
       "      <td>2023-04-27 04:18:21.407</td>\n",
       "      <td>28969.24</td>\n",
       "      <td>11617004</td>\n",
       "      <td>-3.66</td>\n",
       "    </tr>\n",
       "  </tbody>\n",
       "</table>\n",
       "</div>"
      ],
      "text/plain": [
       "      id   ticker side                  open_time  open_price open_order_id  stop_loss_price  take_profit_price stop_loss_order_id trailing_delta  quantity              close_time  close_price close_order_id  profit\n",
       "210  211  BTCUSDT  BUY 2023-04-27 03:45:52.644522    28920.01      11606496     28918.484015       28924.389002              11271           None     0.001 2023-04-27 03:45:59.248     28924.39       11606502    4.38\n",
       "211  212  BTCUSDT  BUY 2023-04-27 03:51:33.841492    29014.04      11608587     29011.748237       29022.040375              11272           None     0.001 2023-04-27 03:51:34.313     29006.84       11608588   -7.20\n",
       "212  213  BTCUSDT  BUY 2023-04-27 03:54:34.036033    29003.38      11609618     29001.885940       29011.590538              11273           None     0.001 2023-04-27 03:55:44.315     29001.23       11609625   -2.15\n",
       "213  214  BTCUSDT  BUY 2023-04-27 03:58:20.758029    28854.39      11611143     28852.519743       28858.854886              11274           None     0.001 2023-04-27 03:58:24.291     28858.85       11611147    4.46\n",
       "214  215  BTCUSDT  BUY 2023-04-27 04:17:23.159605    28972.90      11617003     28969.813397       28991.619364              11275           None     0.001 2023-04-27 04:18:21.407     28969.24       11617004   -3.66"
      ]
     },
     "execution_count": 7,
     "metadata": {},
     "output_type": "execute_result"
    }
   ],
   "source": [
    "import pandas as pd\n",
    "import numpy as np\n",
    "\n",
    "def get_trades(strategy: str):\n",
    "    import sqlite3\n",
    "    db_path=f\"../data/{strategy}/{strategy}.db\"\n",
    "\n",
    "    with sqlite3.connect(db_path) as conn:\n",
    "        trades=pd.read_sql_query(\"SELECT * FROM trade ORDER BY open_time\",conn,\n",
    "                                 parse_dates=[\"open_time\", \"close_time\"])#.set_index(\"open_time\", drop=False)\n",
    "    trades[\"profit\"] = np.where(trades[\"side\"] == \"BUY\", \n",
    "                                trades[\"close_price\"]-trades[\"open_price\"],\n",
    "                                trades[\"open_price\"]-trades[\"close_price\"],\n",
    "                               )\n",
    "    return trades\n",
    "\n",
    "trades=get_trades(strategy)\n",
    "trades.tail()"
   ]
  },
  {
   "cell_type": "code",
   "execution_count": 8,
   "metadata": {},
   "outputs": [
    {
     "name": "stdout",
     "output_type": "stream",
     "text": [
      "Total profit: -284.0600000000195\n"
     ]
    }
   ],
   "source": [
    "print(f\"Total profit: {trades['profit'].sum()}\")"
   ]
  },
  {
   "cell_type": "markdown",
   "metadata": {},
   "source": [
    "Opened trades from trade bot database"
   ]
  },
  {
   "cell_type": "code",
   "execution_count": null,
   "metadata": {},
   "outputs": [],
   "source": [
    "trades[trades.close_time.isna()].tail()"
   ]
  },
  {
   "cell_type": "code",
   "execution_count": null,
   "metadata": {},
   "outputs": [],
   "source": [
    "#trades[[\"open_price\", \"close_price\"]].tail()\n",
    "#(trades[\"open_price\"] - trades[\"take_profit_price\"]).abs().max()\n",
    "#trades[[\"open_price\", \"stop_loss_price\"]].info()\n",
    "#df[\"stop_loss\"] = df[\"open_price\"].astype(float) - df[\"stop_loss_price\"].astype(float)\n",
    "#df[\"stop_loss\"] = df[\"stop_loss\"].abs()\n",
    "\n",
    "\n",
    "#df.info()"
   ]
  },
  {
   "cell_type": "markdown",
   "metadata": {},
   "source": [
    "Last orders, provided by Binance"
   ]
  },
  {
   "cell_type": "code",
   "execution_count": null,
   "metadata": {},
   "outputs": [],
   "source": [
    "orders = pd.DataFrame(client.get_orders(symbol))\n",
    "for timecol in [\"time\", \"updateTime\", \"workingTime\"]:\n",
    "    orders[timecol] = pd.to_datetime(orders[timecol], unit='ms')\n",
    "orders.tail()"
   ]
  },
  {
   "cell_type": "code",
   "execution_count": null,
   "metadata": {},
   "outputs": [],
   "source": [
    "from matplotlib import pyplot as plt\n",
    "buy_sell_counts = trades[\"side\"].value_counts()\n",
    "#px.bar(trades[\"side\"].value_counts(), title=\"Trade counts\")\n",
    "plt.pie([len(trades[trades[\"side\"]==\"BUY\"]),len(trades[trades[\"side\"]==\"SELL\"])], \n",
    "        labels=[\"BUY\",\"SELL\"],\n",
    "        autopct=\"%.0f\")\n",
    "plt.title(\"Buy and sell order counts\")\n",
    "plt.show()\n"
   ]
  },
  {
   "cell_type": "code",
   "execution_count": null,
   "metadata": {},
   "outputs": [],
   "source": [
    "import plotly.express as px\n",
    "buy_profit = trades.loc[trades[\"side\"]==\"BUY\",\"profit\"]\n",
    "sell_profit = trades.loc[trades[\"side\"]==\"SELL\",\"profit\"]\n",
    "buy_profit = trades.loc[trades[\"side\"]==\"BUY\",\"profit\"]\n",
    "\n",
    "#     q_low = df[\"low\"].diff().quantile(0.01)\n",
    "#     q_high  = df[\"high\"].diff().quantile(0.99)\n",
    "#     df=df[df[\"high\"].diff()< q_high]\n",
    "#     df=df[df[\"low\"].diff() > q_low ]\n",
    "px.bar(x=[\"buy_profit_sum\", \"sell_profit_sum\"], y=[buy_profit.sum(), sell_profit.sum()], title=\"Buy or sell profit sum\")"
   ]
  },
  {
   "cell_type": "code",
   "execution_count": null,
   "metadata": {},
   "outputs": [],
   "source": [
    "import plotly.express as px\n",
    "buy_profit = trades.loc[trades[\"side\"]==\"BUY\",\"profit\"].mean()\n",
    "sell_profit = trades.loc[trades[\"side\"]==\"SELL\",\"profit\"].mean()\n",
    "px.bar(x=[\"buy_profit\", \"sell_profit\"], y=[buy_profit, sell_profit], title=\"Buy or sell average trade profit\")"
   ]
  },
  {
   "cell_type": "markdown",
   "metadata": {},
   "source": [
    "## Trades on candlestick chart"
   ]
  },
  {
   "cell_type": "code",
   "execution_count": null,
   "metadata": {},
   "outputs": [],
   "source": [
    "from datetime import datetime\n",
    "def get_last_candles():\n",
    "    candle_columns = [\"open_time\", \"open\", \"high\", \"low\", \"close\", \"vol\", \"close_time\", \"quote_asset_volume\",\n",
    "                      \"number_of_trades\", \" taker_buy_base_asset_volume\", \"taker_buy_quote_asset_volume\",\n",
    "                      \"ignore\"]    \n",
    "    end_date=trades.open_time.max() if not trades.empty else datetime.utcnow()\n",
    "    \n",
    "    #end_time_millis=end_date.value//1000000\n",
    "    cnt=24*60 # Number of last candles to read\n",
    "    raw_candles = client.klines(symbol=symbol,\n",
    "                                    interval=\"1m\",\n",
    "                                    #limit=10,\n",
    "                                    limit=cnt,\n",
    "                                    #endTime=end_time_millis\n",
    "                               )\n",
    "    df = pd.DataFrame(raw_candles, columns=candle_columns)\n",
    "    df[\"open_time\"] = pd.to_datetime(df[\"open_time\"], unit='ms')\n",
    "    df[\"close_time\"] = pd.to_datetime(df[\"close_time\"], unit='ms')\n",
    "    df.set_index(\"open_time\", drop=False, inplace=True)\n",
    "        # Convert strings to float prices\n",
    "    df[[\"open\", \"high\", \"low\", \"close\"]] = df[[\"open\", \"high\", \"low\", \"close\"]].astype(float)\n",
    "    return df\n",
    "\n",
    "def clean_candles(df):\n",
    "    \"\"\" Remove outliers \"\"\"\n",
    "    q_low = df[\"low\"].diff().quantile(0.01)\n",
    "    q_high  = df[\"high\"].diff().quantile(0.99)\n",
    "    df=df[df[\"high\"].diff()< q_high]\n",
    "    df=df[df[\"low\"].diff() > q_low ]\n",
    "    return df\n",
    "\n",
    "candles = get_last_candles()\n",
    "candles = clean_candles(candles)\n",
    "candles.tail()"
   ]
  },
  {
   "cell_type": "code",
   "execution_count": null,
   "metadata": {},
   "outputs": [],
   "source": []
  },
  {
   "cell_type": "markdown",
   "metadata": {},
   "source": []
  },
  {
   "cell_type": "markdown",
   "metadata": {},
   "source": []
  },
  {
   "cell_type": "code",
   "execution_count": null,
   "metadata": {},
   "outputs": [],
   "source": [
    "# Install a conda package in the current Jupyter kernel\n",
    "#%conda install -c plotly plotly=5.9.0\n",
    "# Draw candlechart\n",
    "import plotly as py\n",
    "from plotly import graph_objects as go\n",
    "import pandas as pd\n",
    "import numpy as np\n",
    "import datetime\n",
    "\n",
    "def get_chart_figure(candles: pd.DataFrame, trades: pd.DataFrame)->pd.DataFrame:\n",
    "    \"\"\"\n",
    "    Form plotly candlestick chart with buy/sell marks on it\n",
    "    \"\"\"\n",
    "    \n",
    "    df=candles.copy()\n",
    "    #df=clean_candles(df)\n",
    "    fig = go.Figure(data=[ \\\n",
    "                        go.Candlestick(\\\n",
    "                            x=df.index,\\\n",
    "                            open=df['open'],\\\n",
    "                            high=df['high'],\\\n",
    "                            low=df['low'],\\\n",
    "                            close=df['close'])\n",
    "                         ])\n",
    "\n",
    "    # Customize ay to distribute captions by y so they do not overlap by x\n",
    "    ay,aymax,aystep=0,50,10\n",
    "    #start_time=df.open_time.min()\n",
    "    # Annotate buy, sell on the chart\n",
    "    for i,trade in trades[(~trades.open_time.isna()) & (trades.open_time > df.open_time.min())].iterrows():\n",
    "        ay=(ay+aystep)%aymax\n",
    "        color='green' if trade['side']==\"BUY\" else 'red'\n",
    "\n",
    "        # Draw open order\n",
    "        open_text='buy' if trade['side']==\"BUY\"  else 'sell'\n",
    "        open_hover=f\"{trade['open_time']} {open_text} at {str(trade['open_price'])}\"\n",
    "        fig.add_annotation(x=trade['open_time'], \\\n",
    "                           y=trade['open_price'],\\\n",
    "                           text=open_text,\\\n",
    "                           hovertext=open_hover,\\\n",
    "                           showarrow=True,arrowhead=5,arrowcolor=color,ay=-ay,arrowwidth=2,\n",
    "                           font={'color':color}\n",
    "                          )\n",
    "    for i,trade in trades[(~trades.close_time.isna()) & (trades.close_time > df.close_time.min())].iterrows():\n",
    "        color='green' if trade['side']==\"BUY\" else 'red'\n",
    "\n",
    "        # Draw close order\n",
    "        #profit = trade[\"close_price\"]-trade[\"open_price\"] if trade[\"close_price\"] else None\n",
    "        status= f\", profit: {round(trade.profit, 10)}\" if trade.profit else \"\"\n",
    "        close_text='close buy' if trade['side']==\"BUY\"  else 'close sell'\n",
    "        close_hover=f\"{trade['close_time']} {close_text} at {str(trade['close_price'])}{status}\"\n",
    "        fig.add_annotation(x=trade['close_time'], \\\n",
    "                           y=trade['close_price'],\\\n",
    "                           text=close_text,\\\n",
    "                           hovertext=close_hover,\\\n",
    "                           showarrow=True,arrowhead=5,arrowcolor=color,ay=-ay,arrowwidth=2,\n",
    "                           font={'color':color}\n",
    "                          )\n",
    "    return fig\n",
    "\n",
    "get_chart_figure(candles, trades).show()\n",
    "\n"
   ]
  },
  {
   "cell_type": "markdown",
   "metadata": {},
   "source": [
    "## Profit"
   ]
  },
  {
   "cell_type": "markdown",
   "metadata": {},
   "source": []
  },
  {
   "cell_type": "code",
   "execution_count": null,
   "metadata": {},
   "outputs": [],
   "source": [
    "import matplotlib.pyplot as plt\n",
    "import plotly.express as px\n",
    "\n",
    "profit=trades[[\"open_time\", \"profit\"]].copy()\n",
    "\n",
    "\n",
    "# mean = profit[\"profit\"].mean()\n",
    "# sd = profit[\"profit\"].std()\n",
    "# n_std=2\n",
    "        \n",
    "# profit = profit[(profit[\"profit\"].abs() <= mean+(n_std*sd))]\n",
    "profit[\"cum_profit\"] = profit[\"profit\"].cumsum()"
   ]
  },
  {
   "cell_type": "code",
   "execution_count": null,
   "metadata": {},
   "outputs": [],
   "source": [
    "px.line(trades, x=\"open_time\", y=\"profit\")\n"
   ]
  },
  {
   "cell_type": "code",
   "execution_count": null,
   "metadata": {},
   "outputs": [],
   "source": [
    "\n",
    "px.line(profit, x=\"open_time\", y= \"cum_profit\")"
   ]
  },
  {
   "cell_type": "code",
   "execution_count": null,
   "metadata": {},
   "outputs": [],
   "source": []
  },
  {
   "cell_type": "code",
   "execution_count": null,
   "metadata": {},
   "outputs": [],
   "source": [
    "import seaborn as sns\n",
    "\n",
    "\n",
    "colors = sns.color_palette('pastel')[0:5]\n",
    "fig, (ax1, ax2) = plt.subplots(1, 2)\n",
    "fig.suptitle('Profit/loss trade counts')\n",
    "ax1.pie([len(trades[(trades[\"side\"]==\"BUY\") &  (trades[\"profit\"]>0)].index),\\\n",
    "        len(trades[(trades[\"side\"]==\"BUY\") &  (trades[\"profit\"]<0)].index) \\\n",
    "        ],\n",
    "        labels=[\"buy profit\", \" buy loss\"], autopct=\"%.0f%%\", colors=colors)\n",
    "ax2.pie([len(trades[(trades[\"side\"]==\"SELL\") &  (trades[\"profit\"]>0)].index),\\\n",
    "        len(trades[(trades[\"side\"]==\"SELL\") &  (trades[\"profit\"]<0)].index) \\\n",
    "        ],\n",
    "        labels=[\"sell profit\", \" sell loss\"], autopct=\"%.0f%%\", colors=colors)\n",
    "\n",
    "\n",
    "plt.show()\n",
    "#trades[trades[\"profit\"]>0].count()\n"
   ]
  },
  {
   "cell_type": "code",
   "execution_count": null,
   "metadata": {},
   "outputs": [],
   "source": [
    "trades[trades[\"profit\"]>0][\"profit\"].median()\n",
    "#trades[trades[\"profit\"]<0][\"profit\"].median()"
   ]
  },
  {
   "cell_type": "markdown",
   "metadata": {},
   "source": [
    "## Predicted and actual low/high"
   ]
  },
  {
   "cell_type": "code",
   "execution_count": null,
   "metadata": {},
   "outputs": [],
   "source": [
    "import os\n",
    "import glob\n",
    "import pandas as pd\n",
    "from datetime import timedelta,date\n",
    "import matplotlib.pyplot as plt\n",
    "import plotly.express as px\n",
    "\n",
    "def read_last_data(strategy):\n",
    "    \"\"\" Read days from start to end from local predictions history\"\"\"\n",
    "    \n",
    "    def read_last(symbol: str, name: str, n: int):\n",
    "        data_dir=f\"./../data/{strategy}/Xy\"\n",
    "        file_path = sorted([f for f in os.listdir(data_dir) if f.endswith(f\"{symbol}_{name}.csv\")])[-1]\n",
    "        return pd.read_csv(f\"{data_dir}/{file_path}\", parse_dates=True, index_col=\"datetime\").tail(n)\n",
    "    n=1000\n",
    "    data=read_last(\"BTCUSDT\", \"data\", n)\n",
    "    X=read_last(\"BTCUSDT\", \"X\", n)\n",
    "    y=read_last(\"BTCUSDT\", \"y\", n)\n",
    "    data=pd.merge(data[[\"symbol\"]],y, left_index=True, right_index=True) \n",
    "    #y=pd.concat([data,y])\n",
    "    return data,X,y\n",
    "\n",
    "\n",
    "# Read candles for last 3 days\n",
    "data,_,_ = read_last_data(strategy)\n",
    "data.tail()"
   ]
  },
  {
   "cell_type": "code",
   "execution_count": null,
   "metadata": {},
   "outputs": [],
   "source": [
    "\n",
    "def get_predictions(data):\n",
    "    \"\"\" \n",
    "    Merge predicted and real prices for analysis \n",
    "    \"\"\"\n",
    "    \n",
    "    # Prediction window is constant, get it from last row\n",
    "    predicted=data[[\"bid\",\"ask\",\"bid_min_fut\", \"bid_max_fut\", \"ask_min_fut\", \"ask_max_fut\"]]\n",
    "    predicted.columns=[c.replace(\"_fut\", \"_predicted\") for c in predicted.columns]\n",
    "    predict_window=data[\"predict_window\"].tail(1).values[0]\n",
    "    real_min=data[[\"bid\", \"ask\"]].rolling(predict_window).min().rename(columns={\"bid\":\"bid_min_real\", \"ask\":\"ask_min_real\"})\n",
    "    real_max=data[[\"bid\", \"ask\"]].rolling(predict_window).max().rename(columns={\"bid\":\"bid_max_real\", \"ask\":\"ask_max_real\"})\n",
    "    real=pd.concat([real_min, real_max], axis=1)\n",
    "    real[\"prediction_datetime\"]=real.index.to_series()-pd.to_timedelta(predict_window)\n",
    "    merged=pd.merge_asof(real, predicted, left_on=\"prediction_datetime\", right_index=True)\n",
    "    return merged[[\"bid\", \"ask\", \"bid_min_real\", \"bid_min_predicted\", \"bid_max_real\", \"bid_max_predicted\", \\\n",
    "                   \"ask_min_real\", \"ask_min_predicted\", \"ask_max_real\", \"ask_max_predicted\"]]\n",
    "\n",
    "\n",
    "predictions = get_predictions(data)\n",
    "predictions.tail()    \n"
   ]
  },
  {
   "cell_type": "markdown",
   "metadata": {},
   "source": [
    "## Prediction errors"
   ]
  },
  {
   "cell_type": "code",
   "execution_count": null,
   "metadata": {
    "scrolled": false
   },
   "outputs": [],
   "source": [
    "px.line(predictions[[\"ask_max_real\", \"ask_max_predicted\", \"ask_min_real\", \"ask_min_predicted\", \\\n",
    "                     \"bid_max_real\", \"bid_max_predicted\", \"bid_min_real\", \"bid_min_predicted\"]], \\\n",
    "        markers=True,title=\"Actual and predicted. Absolute values\").show()\n"
   ]
  },
  {
   "cell_type": "code",
   "execution_count": null,
   "metadata": {},
   "outputs": [],
   "source": [
    "px.line(predictions[[\"ask_max_real\", \"ask_max_predicted\", \"ask_min_real\", \"ask_min_predicted\", \\\n",
    "                     \"bid_max_real\", \"bid_max_predicted\", \"bid_min_real\", \"bid_min_predicted\"]]\\\n",
    "        .diff().add_suffix(\"_diff\"), \\\n",
    "        markers=True,title=\"Actual and predicted. Absolute values\").show()"
   ]
  },
  {
   "cell_type": "code",
   "execution_count": null,
   "metadata": {},
   "outputs": [],
   "source": [
    "errors=pd.DataFrame({\\\n",
    "                    \"bid_min_error\": predictions[\"bid_min_predicted\"] - predictions[\"bid_min_real\"], \\\n",
    "                    \"bid_max_error\": predictions[\"bid_max_predicted\"] - predictions[\"bid_max_real\"], \\\n",
    "                    \"ask_min_error\": predictions[\"ask_min_predicted\"] - predictions[\"ask_min_real\"], \\\n",
    "                    \"ask_max_error\": predictions[\"ask_max_predicted\"] - predictions[\"ask_max_real\"], \\\n",
    "                    })\n",
    "px.line(errors, \\\n",
    "        title=\"Bid, ask prediction errors\")\n"
   ]
  },
  {
   "cell_type": "code",
   "execution_count": null,
   "metadata": {},
   "outputs": [],
   "source": [
    "\n",
    "px.bar(errors.abs().sum(axis=1).rename(\"Error sum\"), title=\"Prediction error total\")"
   ]
  },
  {
   "cell_type": "code",
   "execution_count": null,
   "metadata": {},
   "outputs": [],
   "source": [
    "import pandas as pd\n",
    "\n",
    "def get_profits(predictions: pd.DataFrame)->pd.DataFrame:\n",
    "    \"\"\"\n",
    "    Buy, sell profit, real and predicted, for each time moment\n",
    "    \"\"\"\n",
    "    \n",
    "    profits = pd.DataFrame()\n",
    "    # Profit/loss ratio to consider buy or sell\n",
    "    min_ratio=2\n",
    "\n",
    "    # Calculate possible profits for buy or sell\n",
    "    profits[\"buy_profit_predicted\"] = predictions[\"bid_max_predicted\"] - predictions[\"ask\"]\n",
    "    profits[\"buy_loss_predicted\"] = predictions[\"ask\"]-predictions[\"bid_min_predicted\"]\n",
    "    profits['buy_ratio_predicted'] = np.where(profits['buy_loss_predicted'] > 0, profits['buy_profit_predicted'] / profits['buy_loss_predicted'],float('inf'))\n",
    "\n",
    "    profits[\"buy_profit_real\"] = predictions[\"bid_max_real\"] - predictions[\"ask\"]\n",
    "    profits[\"buy_loss_real\"] = predictions[\"ask\"]-predictions[\"bid_min_real\"]\n",
    "    profits['buy_ratio_real'] = np.where(profits['buy_loss_real'] > 0, profits['buy_profit_real'] / profits['buy_loss_real'],float('inf'))\n",
    "\n",
    "\n",
    "    profits[\"sell_profit_predicted\"] = predictions[\"bid\"] - predictions[\"ask_min_predicted\"]\n",
    "    profits[\"sell_loss_predicted\"] = predictions[\"ask_max_predicted\"] - predictions[\"bid\"]\n",
    "    profits['sell_ratio_predicted'] = np.where(profits['sell_loss_predicted'] > 0, profits['sell_profit_predicted'] / profits['sell_loss_predicted'],float('inf'))\n",
    "\n",
    "    profits[\"sell_profit_real\"] = predictions[\"bid\"] - predictions[\"ask_min_real\"]\n",
    "    profits[\"sell_loss_real\"] = predictions[\"ask_max_real\"] - predictions[\"bid\"]\n",
    "    profits['sell_ratio_real'] = np.where(profits['sell_loss_real'] > 0, profits['sell_profit_real'] / profits['sell_loss_real'],float('inf'))\n",
    "\n",
    "\n",
    "    profits[\"signal\"] = np.where(profits['buy_ratio_predicted'] >= min_ratio, 1,\n",
    "                                 np.where(profits[\"sell_ratio_predicted\"]>=min_ratio, -1,0 ))\n",
    "\n",
    "    # Calculate real profit or loss\n",
    "    profits[\"profit_real\"] = np.where(\n",
    "        # If buy                             \n",
    "        profits[\"signal\"]==1,\n",
    "        np.where(\n",
    "            # Real movement down was inside what we predicted\n",
    "            (predictions[\"bid_min_real\"] < predictions[\"bid_min_predicted\"]) \n",
    "            & (predictions[\"bid_max_real\"] <= predictions[\"bid_max_predicted\"]),\n",
    "            # Take the profit\n",
    "            profits[\"buy_profit_predicted\"],\n",
    "            # Or fix the loss\n",
    "            -profits[\"buy_loss_predicted\"]\n",
    "        ),\n",
    "        # If Sell                     \n",
    "        np.where(profits[\"signal\"] == -1,\n",
    "            np.where(\n",
    "                # Real movement down was inside what we predicted\n",
    "                (predictions[\"ask_max_real\"] > predictions[\"ask_max_predicted\"]) \n",
    "                & (predictions[\"ask_min_real\"] >= predictions[\"ask_max_predicted\"]),\n",
    "                # Take the profit\n",
    "                profits[\"sell_profit_predicted\"],\n",
    "                # Or fix the loss\n",
    "                -profits[\"sell_loss_predicted\"]\n",
    "            ),\n",
    "            # If neither buy nor sell, return NaN\n",
    "            np.nan\n",
    "        )\n",
    "    )\n",
    "\n",
    "    # Fill in predicted profit\n",
    "    profits[\"profit_predicted\"]=np.where(profits[\"signal\"] == 1, \n",
    "                                         # If buy\n",
    "                                         profits[\"buy_profit_predicted\"], \n",
    "                                        np.where(profits[\"signal\"]==-1,\n",
    "                                                # If sell\n",
    "                                                profits[\"sell_profit_predicted\"],\n",
    "                                                # If neither buy not sell\n",
    "                                                 np.nan))\n",
    "    return profits\n",
    "\n",
    "profits = get_profits(predictions)\n",
    "pd.set_option('display.max_rows', 1000)\n",
    "pd.concat([predictions,profits],axis=1).tail()\n",
    "#profits.dropna().tail(100)\n",
    "\n",
    "\n"
   ]
  },
  {
   "cell_type": "code",
   "execution_count": null,
   "metadata": {},
   "outputs": [],
   "source": [
    "print(f\"Total prediction profit sum: {profits['profit_real'].sum()}\")\n",
    "\n"
   ]
  },
  {
   "cell_type": "code",
   "execution_count": null,
   "metadata": {},
   "outputs": [],
   "source": [
    "#px.line(profits[[\"profit_predicted\", \"profit_real\"]], markers=True)\n",
    "px.line(profits[\"profit_predicted\"]-profits[\"profit_real\"])"
   ]
  },
  {
   "cell_type": "markdown",
   "metadata": {},
   "source": [
    "## Sharp ratio"
   ]
  },
  {
   "cell_type": "code",
   "execution_count": null,
   "metadata": {},
   "outputs": [],
   "source": [
    "sharp_ratio_df=profits[[\"buy_ratio_predicted\", \"buy_ratio_real\", \"sell_ratio_predicted\", \"sell_ratio_real\"]]\n",
    "sharp_ratio_df.tail()\n"
   ]
  },
  {
   "cell_type": "code",
   "execution_count": null,
   "metadata": {},
   "outputs": [],
   "source": [
    "px.line(sharp_ratio_df[[\"buy_ratio_predicted\", \"buy_ratio_real\"]], title=\"Buy sharp ratio\")"
   ]
  },
  {
   "cell_type": "code",
   "execution_count": null,
   "metadata": {},
   "outputs": [],
   "source": [
    "px.line(sharp_ratio_df[[\"sell_ratio_predicted\", \"sell_ratio_real\"]], title=\"Sell sharp ratio\")"
   ]
  },
  {
   "cell_type": "code",
   "execution_count": null,
   "metadata": {},
   "outputs": [],
   "source": []
  },
  {
   "cell_type": "code",
   "execution_count": null,
   "metadata": {},
   "outputs": [],
   "source": []
  }
 ],
 "metadata": {
  "kernelspec": {
   "display_name": "Python 3 (ipykernel)",
   "language": "python",
   "name": "python3"
  },
  "language_info": {
   "codemirror_mode": {
    "name": "ipython",
    "version": 3
   },
   "file_extension": ".py",
   "mimetype": "text/x-python",
   "name": "python",
   "nbconvert_exporter": "python",
   "pygments_lexer": "ipython3",
   "version": "3.8.10"
  }
 },
 "nbformat": 4,
 "nbformat_minor": 4
}
