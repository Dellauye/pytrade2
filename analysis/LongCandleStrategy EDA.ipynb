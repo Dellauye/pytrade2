{
 "cells": [
  {
   "cell_type": "markdown",
   "metadata": {},
   "source": [
    "# Long candle strategy  EDA\n",
    "\n",
    "Long candle strategy is classification model.\n",
    "Features: prices\n",
    "Targets: -1,0,1 signal"
   ]
  },
  {
   "cell_type": "markdown",
   "metadata": {},
   "source": [
    "To install conda and binance packages to this notebook uncomment the code below"
   ]
  },
  {
   "cell_type": "code",
   "execution_count": 1,
   "metadata": {
    "scrolled": false
   },
   "outputs": [],
   "source": [
    "%%capture\n",
    "#%conda install -c plotly plotly=5.9.0\n",
    "#%conda install pip\n",
    "#%conda install twisted\n",
    "%pip install plotly==5.9.0\n",
    "%pip install twisted\n",
    "%pip install pandas\n",
    "#%pip install huobi-sdk==2.3.3\n",
    "\n",
    "import pandas as pd\n",
    "pd.set_option('display.max_columns', None)\n",
    "pd.set_option('display.expand_frame_repr', False)\n",
    "pd.set_option('max_colwidth', None)"
   ]
  },
  {
   "cell_type": "code",
   "execution_count": 2,
   "metadata": {},
   "outputs": [],
   "source": [
    "#mode=\"dev\" # dev - work with local dev data\n",
    "mode=\"yc\" # yc - work with data from yandex cloud bots\n",
    "\n",
    "symbol=\"BTC-USDT\"\n",
    "strategy=\"LongCandleDenseStrategy\""
   ]
  },
  {
   "cell_type": "code",
   "execution_count": 3,
   "metadata": {
    "scrolled": false
   },
   "outputs": [
    {
     "name": "stderr",
     "output_type": "stream",
     "text": [
      "deploy_lib.sh: line 4: yc: command not found\n",
      "INFO: Retrieving list of remote files for s3://pytrade2/data/ ...\n"
     ]
    },
    {
     "name": "stdout",
     "output_type": "stream",
     "text": [
      "Sync pytrade2 data from s3://pytrade2/data to /home/dima/projects/pytrade2/deploy/yandex_cloud/../../data/yandex-cloud\n"
     ]
    },
    {
     "name": "stderr",
     "output_type": "stream",
     "text": [
      "INFO: No cache file found, creating it.\n",
      "INFO: Compiling list of local files...\n",
      "INFO: Running stat() and reading/calculating MD5 values on 1702 files, this may take some time...\n",
      "INFO: [1000/1702]\n",
      "INFO: Found 32 remote files, 1702 local files\n",
      "INFO: Verifying attributes...\n",
      "INFO: disabled md5 check for LongCandleDenseStrategy/Xy/2023-10-07_BTC-USDT_x.csv\n",
      "INFO: disabled md5 check for LongCandleDenseStrategy/Xy/2023-10-08_BTC-USDT_x.csv\n",
      "INFO: disabled md5 check for LongCandleDenseStrategy/Xy/2023-10-09_BTC-USDT_x.csv\n",
      "INFO: Summary: 10 remote files to download, 1675 local files to delete, 0 local files to hardlink\n"
     ]
    },
    {
     "name": "stdout",
     "output_type": "stream",
     "text": [
      "download: 's3://pytrade2/data/LongCandleDenseStrategy/Xy/2023-10-14_BTC-USDT_learn_x.csv' -> '/home/dima/projects/pytrade2/deploy/yandex_cloud/../../data/yandex-cloud/LongCandleDenseStrategy/Xy/2023-10-14_BTC-USDT_learn_x.csv'  [1 of 10]\n",
      " 938969 of 938969   100% in    0s     2.61 MB/s  done\n",
      "download: 's3://pytrade2/data/LongCandleDenseStrategy/Xy/2023-10-14_BTC-USDT_learn_y.csv' -> '/home/dima/projects/pytrade2/deploy/yandex_cloud/../../data/yandex-cloud/LongCandleDenseStrategy/Xy/2023-10-14_BTC-USDT_learn_y.csv'  [2 of 10]\n",
      " 37065 of 37065   100% in    0s   573.42 kB/s  done\n",
      "download: 's3://pytrade2/data/LongCandleDenseStrategy/Xy/2023-10-14_BTC-USDT_x.csv' -> '/home/dima/projects/pytrade2/deploy/yandex_cloud/../../data/yandex-cloud/LongCandleDenseStrategy/Xy/2023-10-14_BTC-USDT_x.csv'  [3 of 10]\n",
      " 5456657 of 5456657   100% in    1s     5.13 MB/s  done\n",
      "download: 's3://pytrade2/data/LongCandleDenseStrategy/Xy/2023-10-14_BTC-USDT_y.csv' -> '/home/dima/projects/pytrade2/deploy/yandex_cloud/../../data/yandex-cloud/LongCandleDenseStrategy/Xy/2023-10-14_BTC-USDT_y.csv'  [4 of 10]\n",
      " 235471 of 235471   100% in    0s  2008.91 kB/s  done\n",
      "download: 's3://pytrade2/data/LongCandleDenseStrategy/Xy/2023-10-14_BTC-USDT_y_pred.csv' -> '/home/dima/projects/pytrade2/deploy/yandex_cloud/../../data/yandex-cloud/LongCandleDenseStrategy/Xy/2023-10-14_BTC-USDT_y_pred.csv'  [5 of 10]\n",
      " 343702 of 343702   100% in    0s     2.69 MB/s  done\n",
      "download: 's3://pytrade2/data/LongCandleDenseStrategy/Xy/2023-10-13_BTC-USDT_learn_x.csv' -> '/home/dima/projects/pytrade2/deploy/yandex_cloud/../../data/yandex-cloud/LongCandleDenseStrategy/Xy/2023-10-13_BTC-USDT_learn_x.csv'  [6 of 10]\n",
      " 1375 of 1375   100% in    0s    18.90 kB/s  done\n",
      "download: 's3://pytrade2/data/LongCandleDenseStrategy/Xy/2023-10-13_BTC-USDT_learn_y.csv' -> '/home/dima/projects/pytrade2/deploy/yandex_cloud/../../data/yandex-cloud/LongCandleDenseStrategy/Xy/2023-10-13_BTC-USDT_learn_y.csv'  [7 of 10]\n",
      " 26 of 26   100% in    0s    92.47 B/s  done\n",
      "download: 's3://pytrade2/data/LongCandleDenseStrategy/Xy/2023-10-13_BTC-USDT_x.csv' -> '/home/dima/projects/pytrade2/deploy/yandex_cloud/../../data/yandex-cloud/LongCandleDenseStrategy/Xy/2023-10-13_BTC-USDT_x.csv'  [8 of 10]\n",
      " 4257 of 4257   100% in    0s    53.86 kB/s  done\n",
      "download: 's3://pytrade2/data/LongCandleDenseStrategy/Xy/2023-10-13_BTC-USDT_y.csv' -> '/home/dima/projects/pytrade2/deploy/yandex_cloud/../../data/yandex-cloud/LongCandleDenseStrategy/Xy/2023-10-13_BTC-USDT_y.csv'  [9 of 10]\n",
      " 167 of 167   100% in    0s  1640.73 B/s  done\n",
      "download: 's3://pytrade2/data/LongCandleDenseStrategy/Xy/2023-10-13_BTC-USDT_y_pred.csv' -> '/home/dima/projects/pytrade2/deploy/yandex_cloud/../../data/yandex-cloud/LongCandleDenseStrategy/Xy/2023-10-13_BTC-USDT_y_pred.csv'  [10 of 10]\n",
      " 540106 of 540106   100% in    0s  1468.93 kB/s  done\n",
      "Done. Downloaded 7557795 bytes in 2.6 seconds, 2.82 MB/s.\n",
      "LongCandleDenseStrategy last opened: , closed: \n",
      "LSTMStrategy last opened: 2023-08-01 15:34:15.711000, closed: 2023-08-01 15:43:49.187000\n",
      "LSTMStrategy2 last opened: , closed: \n",
      "SimpleKerasStrategy last opened: 2023-07-07 17:06:28.241000, closed: 2023-07-07 17:11:10.986000\n",
      "Current time Сб 14 окт 2023 23:46:16 UTC\n",
      "Download completed. Local data dir: ../data/yandex-cloud\n"
     ]
    }
   ],
   "source": [
    "\n",
    "import os\n",
    "\n",
    "# Downloading latest pytrade2 data\n",
    "if mode == \"yc\":\n",
    "    os.system(\"cd ./../deploy/yandex_cloud; ./download_data.sh\")\n",
    "    data_dir=f\"../data/yandex-cloud\"\n",
    "else:\n",
    "    data_dir=f\"../data/dev\"\n",
    "    \n",
    "print(f\"Download completed. Local data dir: {data_dir}\")\n",
    "\n",
    "    "
   ]
  },
  {
   "cell_type": "markdown",
   "metadata": {},
   "source": [
    "## Predicted and actual low/high"
   ]
  },
  {
   "cell_type": "code",
   "execution_count": 11,
   "metadata": {},
   "outputs": [
    {
     "name": "stdout",
     "output_type": "stream",
     "text": [
      "BTC-USDT\n",
      "Read from ../data/yandex-cloud/LongCandleDenseStrategy/Xy/2023-10-14_BTC-USDT_x.csv\n",
      "Read from ../data/yandex-cloud/LongCandleDenseStrategy/Xy/2023-10-14_BTC-USDT_y.csv\n"
     ]
    },
    {
     "data": {
      "text/html": [
       "<div>\n",
       "<style scoped>\n",
       "    .dataframe tbody tr th:only-of-type {\n",
       "        vertical-align: middle;\n",
       "    }\n",
       "\n",
       "    .dataframe tbody tr th {\n",
       "        vertical-align: top;\n",
       "    }\n",
       "\n",
       "    .dataframe thead th {\n",
       "        text-align: right;\n",
       "    }\n",
       "</style>\n",
       "<table border=\"1\" class=\"dataframe\">\n",
       "  <thead>\n",
       "    <tr style=\"text-align: right;\">\n",
       "      <th></th>\n",
       "      <th>Unnamed: 0</th>\n",
       "      <th>signal_pred</th>\n",
       "      <th>signal_target</th>\n",
       "    </tr>\n",
       "  </thead>\n",
       "  <tbody>\n",
       "    <tr>\n",
       "      <th>8396</th>\n",
       "      <td>2023-10-14 23:41:00.006</td>\n",
       "      <td>0</td>\n",
       "      <td>0</td>\n",
       "    </tr>\n",
       "    <tr>\n",
       "      <th>8397</th>\n",
       "      <td>2023-10-14 23:41:29.258</td>\n",
       "      <td>0</td>\n",
       "      <td>0</td>\n",
       "    </tr>\n",
       "    <tr>\n",
       "      <th>8398</th>\n",
       "      <td>2023-10-14 23:42:00.028</td>\n",
       "      <td>0</td>\n",
       "      <td>0</td>\n",
       "    </tr>\n",
       "    <tr>\n",
       "      <th>8399</th>\n",
       "      <td>2023-10-14 23:43:00.004</td>\n",
       "      <td>0</td>\n",
       "      <td>0</td>\n",
       "    </tr>\n",
       "    <tr>\n",
       "      <th>8400</th>\n",
       "      <td>2023-10-14 23:43:02.421</td>\n",
       "      <td>0</td>\n",
       "      <td>0</td>\n",
       "    </tr>\n",
       "  </tbody>\n",
       "</table>\n",
       "</div>"
      ],
      "text/plain": [
       "                   Unnamed: 0  signal_pred  signal_target\n",
       "8396  2023-10-14 23:41:00.006            0              0\n",
       "8397  2023-10-14 23:41:29.258            0              0\n",
       "8398  2023-10-14 23:42:00.028            0              0\n",
       "8399  2023-10-14 23:43:00.004            0              0\n",
       "8400  2023-10-14 23:43:02.421            0              0"
      ]
     },
     "execution_count": 11,
     "metadata": {},
     "output_type": "execute_result"
    }
   ],
   "source": [
    "import os\n",
    "import glob\n",
    "import pandas as pd\n",
    "from datetime import timedelta,date\n",
    "import matplotlib.pyplot as plt\n",
    "import plotly.express as px\n",
    "\n",
    "def read_last(symbol: str, name: str, n=1000):\n",
    "    xy_dir=f\"{data_dir}/{strategy}/Xy\"\n",
    "\n",
    "    file_path = sorted([f for f in os.listdir(xy_dir) if f.endswith(f\"{symbol}_{name}.csv\")])[-1]\n",
    "    file_path = f\"{xy_dir}/{file_path}\"\n",
    "    print(f\"Read from {file_path}\")\n",
    "    return pd.read_csv(file_path, parse_dates=True).tail(n)\n",
    "\n",
    "\n",
    "def read_last_xy(data_dir):\n",
    "    \"\"\" Read days from start to end from local predictions history\"\"\"\n",
    "    \n",
    "    #data=read_last(symbol, \"data\", n)\n",
    "    X=read_last(symbol, \"x\")\n",
    "    y=read_last(symbol, \"y\")\n",
    "    data=pd.merge(X,y, left_index=True, right_index=True) \n",
    "    #y=pd.concat([data,y])\n",
    "    return data,X,y\n",
    "\n",
    "\n",
    "# Read candles for last 3 days\n",
    "print(symbol)\n",
    "data,x,y = read_last_xy(data_dir)\n",
    "y.tail()\n"
   ]
  },
  {
   "cell_type": "code",
   "execution_count": 18,
   "metadata": {
    "scrolled": false
   },
   "outputs": [
    {
     "name": "stdout",
     "output_type": "stream",
     "text": [
      "Read from ../data/yandex-cloud/LongCandleDenseStrategy/Xy/2023-10-14_BTC-USDT_learn_y.csv\n",
      "Index(['2023-10-14 00:00:05.812', '0'], dtype='object')\n"
     ]
    }
   ],
   "source": [
    "print(read_last(symbol, 'learn_y').columns)"
   ]
  },
  {
   "cell_type": "code",
   "execution_count": 10,
   "metadata": {},
   "outputs": [
    {
     "data": {
      "text/plain": [
       "signal_pred\n",
       "0    1000\n",
       "Name: count, dtype: int64"
      ]
     },
     "execution_count": 10,
     "metadata": {},
     "output_type": "execute_result"
    }
   ],
   "source": []
  },
  {
   "cell_type": "code",
   "execution_count": null,
   "metadata": {},
   "outputs": [],
   "source": []
  },
  {
   "cell_type": "code",
   "execution_count": null,
   "metadata": {},
   "outputs": [],
   "source": []
  }
 ],
 "metadata": {
  "kernelspec": {
   "display_name": "Python 3 (ipykernel)",
   "language": "python",
   "name": "python3"
  },
  "language_info": {
   "codemirror_mode": {
    "name": "ipython",
    "version": 3
   },
   "file_extension": ".py",
   "mimetype": "text/x-python",
   "name": "python",
   "nbconvert_exporter": "python",
   "pygments_lexer": "ipython3",
   "version": "3.8.10"
  }
 },
 "nbformat": 4,
 "nbformat_minor": 4
}
