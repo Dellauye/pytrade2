{
 "cells": [
  {
   "cell_type": "markdown",
   "metadata": {},
   "source": [
    "# Trading EDA"
   ]
  },
  {
   "cell_type": "markdown",
   "metadata": {},
   "source": [
    "To install conda and binance packages to this notebook uncomment the code below"
   ]
  },
  {
   "cell_type": "code",
   "execution_count": 1,
   "metadata": {},
   "outputs": [
    {
     "name": "stdout",
     "output_type": "stream",
     "text": [
      "Requirement already satisfied: plotly==5.9.0 in /home/dima/anaconda3/lib/python3.7/site-packages (5.9.0)\n",
      "Requirement already satisfied: tenacity>=6.2.0 in /home/dima/anaconda3/lib/python3.7/site-packages (from plotly==5.9.0) (8.0.1)\n",
      "Note: you may need to restart the kernel to use updated packages.\n",
      "Requirement already satisfied: twisted in /home/dima/anaconda3/lib/python3.7/site-packages (22.2.0)\n",
      "Requirement already satisfied: hyperlink>=17.1.1 in /home/dima/anaconda3/lib/python3.7/site-packages (from twisted) (21.0.0)\n",
      "Requirement already satisfied: attrs>=19.2.0 in /home/dima/anaconda3/lib/python3.7/site-packages (from twisted) (20.3.0)\n",
      "Requirement already satisfied: constantly>=15.1 in /home/dima/anaconda3/lib/python3.7/site-packages (from twisted) (15.1.0)\n",
      "Requirement already satisfied: incremental>=21.3.0 in /home/dima/anaconda3/lib/python3.7/site-packages (from twisted) (21.3.0)\n",
      "Requirement already satisfied: Automat>=0.8.0 in /home/dima/anaconda3/lib/python3.7/site-packages (from twisted) (20.2.0)\n",
      "Requirement already satisfied: zope.interface>=4.4.2 in /home/dima/anaconda3/lib/python3.7/site-packages (from twisted) (5.4.0)\n",
      "Requirement already satisfied: typing-extensions>=3.6.5 in /home/dima/anaconda3/lib/python3.7/site-packages (from twisted) (4.1.1)\n",
      "Requirement already satisfied: idna>=2.5 in /home/dima/anaconda3/lib/python3.7/site-packages (from hyperlink>=17.1.1->twisted) (2.8)\n",
      "Requirement already satisfied: six in /home/dima/anaconda3/lib/python3.7/site-packages (from Automat>=0.8.0->twisted) (1.14.0)\n",
      "Requirement already satisfied: setuptools in /home/dima/anaconda3/lib/python3.7/site-packages (from zope.interface>=4.4.2->twisted) (45.2.0.post20200210)\n",
      "Note: you may need to restart the kernel to use updated packages.\n",
      "Requirement already satisfied: binance-connector==1.13.0 in /home/dima/anaconda3/lib/python3.7/site-packages (1.13.0)\n",
      "Requirement already satisfied: requests>=2.25.1 in /home/dima/anaconda3/lib/python3.7/site-packages (from binance-connector==1.13.0) (2.28.1)\n",
      "Requirement already satisfied: pyOpenSSL>=19.0.0 in /home/dima/anaconda3/lib/python3.7/site-packages (from binance-connector==1.13.0) (19.1.0)\n",
      "Requirement already satisfied: autobahn>=21.2.1 in /home/dima/anaconda3/lib/python3.7/site-packages (from binance-connector==1.13.0) (22.5.1)\n",
      "Requirement already satisfied: service-identity>=21.1.0 in /home/dima/anaconda3/lib/python3.7/site-packages (from binance-connector==1.13.0) (21.1.0)\n",
      "Requirement already satisfied: Twisted>=21.2.0 in /home/dima/anaconda3/lib/python3.7/site-packages (from binance-connector==1.13.0) (22.2.0)\n",
      "Requirement already satisfied: charset-normalizer<3,>=2 in /home/dima/anaconda3/lib/python3.7/site-packages (from requests>=2.25.1->binance-connector==1.13.0) (2.1.0)\n",
      "Requirement already satisfied: idna<4,>=2.5 in /home/dima/anaconda3/lib/python3.7/site-packages (from requests>=2.25.1->binance-connector==1.13.0) (2.8)\n",
      "Requirement already satisfied: urllib3<1.27,>=1.21.1 in /home/dima/anaconda3/lib/python3.7/site-packages (from requests>=2.25.1->binance-connector==1.13.0) (1.25.8)\n",
      "Requirement already satisfied: certifi>=2017.4.17 in /home/dima/anaconda3/lib/python3.7/site-packages (from requests>=2.25.1->binance-connector==1.13.0) (2019.11.28)\n",
      "Requirement already satisfied: six>=1.5.2 in /home/dima/anaconda3/lib/python3.7/site-packages (from pyOpenSSL>=19.0.0->binance-connector==1.13.0) (1.14.0)\n",
      "Requirement already satisfied: cryptography>=2.8 in /home/dima/anaconda3/lib/python3.7/site-packages (from pyOpenSSL>=19.0.0->binance-connector==1.13.0) (37.0.2)\n",
      "Requirement already satisfied: txaio>=21.2.1 in /home/dima/anaconda3/lib/python3.7/site-packages (from autobahn>=21.2.1->binance-connector==1.13.0) (22.2.1)\n",
      "Requirement already satisfied: setuptools in /home/dima/anaconda3/lib/python3.7/site-packages (from autobahn>=21.2.1->binance-connector==1.13.0) (45.2.0.post20200210)\n",
      "Requirement already satisfied: hyperlink>=21.0.0 in /home/dima/anaconda3/lib/python3.7/site-packages (from autobahn>=21.2.1->binance-connector==1.13.0) (21.0.0)\n",
      "Requirement already satisfied: attrs>=19.1.0 in /home/dima/anaconda3/lib/python3.7/site-packages (from service-identity>=21.1.0->binance-connector==1.13.0) (20.3.0)\n",
      "Requirement already satisfied: pyasn1 in /home/dima/anaconda3/lib/python3.7/site-packages (from service-identity>=21.1.0->binance-connector==1.13.0) (0.4.8)\n",
      "Requirement already satisfied: pyasn1-modules in /home/dima/anaconda3/lib/python3.7/site-packages (from service-identity>=21.1.0->binance-connector==1.13.0) (0.2.8)\n",
      "Requirement already satisfied: typing-extensions>=3.6.5 in /home/dima/anaconda3/lib/python3.7/site-packages (from Twisted>=21.2.0->binance-connector==1.13.0) (4.1.1)\n",
      "Requirement already satisfied: constantly>=15.1 in /home/dima/anaconda3/lib/python3.7/site-packages (from Twisted>=21.2.0->binance-connector==1.13.0) (15.1.0)\n",
      "Requirement already satisfied: incremental>=21.3.0 in /home/dima/anaconda3/lib/python3.7/site-packages (from Twisted>=21.2.0->binance-connector==1.13.0) (21.3.0)\n",
      "Requirement already satisfied: Automat>=0.8.0 in /home/dima/anaconda3/lib/python3.7/site-packages (from Twisted>=21.2.0->binance-connector==1.13.0) (20.2.0)\n",
      "Requirement already satisfied: zope.interface>=4.4.2 in /home/dima/anaconda3/lib/python3.7/site-packages (from Twisted>=21.2.0->binance-connector==1.13.0) (5.4.0)\n",
      "Requirement already satisfied: cffi>=1.12 in /home/dima/anaconda3/lib/python3.7/site-packages (from cryptography>=2.8->pyOpenSSL>=19.0.0->binance-connector==1.13.0) (1.14.0)\n",
      "Requirement already satisfied: pycparser in /home/dima/anaconda3/lib/python3.7/site-packages (from cffi>=1.12->cryptography>=2.8->pyOpenSSL>=19.0.0->binance-connector==1.13.0) (2.19)\n",
      "Note: you may need to restart the kernel to use updated packages.\n",
      "Requirement already satisfied: pandas in /home/dima/anaconda3/lib/python3.7/site-packages (1.0.1)\n",
      "Requirement already satisfied: python-dateutil>=2.6.1 in /home/dima/anaconda3/lib/python3.7/site-packages (from pandas) (2.8.1)\n",
      "Requirement already satisfied: numpy>=1.13.3 in /home/dima/anaconda3/lib/python3.7/site-packages (from pandas) (1.18.1)\n",
      "Requirement already satisfied: pytz>=2017.2 in /home/dima/anaconda3/lib/python3.7/site-packages (from pandas) (2019.3)\n",
      "Requirement already satisfied: six>=1.5 in /home/dima/anaconda3/lib/python3.7/site-packages (from python-dateutil>=2.6.1->pandas) (1.14.0)\n",
      "Note: you may need to restart the kernel to use updated packages.\n"
     ]
    }
   ],
   "source": [
    "#%conda install -c plotly plotly=5.9.0\n",
    "#%conda install pip\n",
    "#%conda install twisted\n",
    "%pip install plotly==5.9.0\n",
    "%pip install twisted\n",
    "%pip install binance-connector==1.13.0\n",
    "%pip install pandas\n",
    "import pandas as pd\n",
    "pd.set_option('display.max_columns', None)\n",
    "pd.set_option('display.expand_frame_repr', False)\n",
    "pd.set_option('max_colwidth', None)"
   ]
  },
  {
   "cell_type": "markdown",
   "metadata": {},
   "source": [
    "Init binance client"
   ]
  },
  {
   "cell_type": "code",
   "execution_count": 2,
   "metadata": {},
   "outputs": [],
   "source": [
    "from binance.spot import Spot as Client\n",
    "import os\n",
    "import sys\n",
    "import yaml\n",
    "\n",
    "# Load \n",
    "def load_config():\n",
    "    \"\"\"\n",
    "    Load config from cfg folder respecting the order: defaults, app.yaml, environment vars\n",
    "    \"\"\"\n",
    "    # Defaults\n",
    "    cfg_dir=\"./../biml/cfg\"\n",
    "    default_cfg_path = f\"{cfg_dir}/app-defaults.yaml\"\n",
    "    with open(default_cfg_path, \"r\") as appdefaults:\n",
    "        config = yaml.safe_load(appdefaults)\n",
    "\n",
    "    # Custom config, should contain custom information,\n",
    "    cfg_path = f\"{cfg_dir}/app.yaml\"\n",
    "    if os.path.exists(cfg_path):\n",
    "        with open(cfg_path) as app:\n",
    "            config.update(yaml.safe_load(app))\n",
    "    else:\n",
    "        sys.exit(\n",
    "            f\"Config {cfg_path} not found. Please copy cfg/app-defaults.yaml to {cfg_path} \"\n",
    "            f\"and update connection info there.\")\n",
    "\n",
    "    # Enviroment variabless\n",
    "    config.update(os.environ)\n",
    "    return config\n",
    "\n",
    "\n",
    "# Create binance client\n",
    "config=load_config()\n",
    "key,secret,url=config[\"biml.connector.key\"],config[\"biml.connector.secret\"],config[\"biml.connector.url\"]\n",
    "client = Client(key=key, secret=secret, base_url=url, timeout=10)\n"
   ]
  },
  {
   "cell_type": "markdown",
   "metadata": {},
   "source": [
    "Get account info"
   ]
  },
  {
   "cell_type": "code",
   "execution_count": 3,
   "metadata": {},
   "outputs": [
    {
     "name": "stdout",
     "output_type": "stream",
     "text": [
      "{'makerCommission': 0, 'takerCommission': 0, 'buyerCommission': 0, 'sellerCommission': 0, 'canTrade': True, 'canWithdraw': False, 'canDeposit': False, 'brokered': False, 'updateTime': 1664137479985, 'accountType': 'SPOT', 'balances': [{'asset': 'BNB', 'free': '1000.00000000', 'locked': '0.00000000'}, {'asset': 'BTC', 'free': '1.00500000', 'locked': '0.00100000'}, {'asset': 'BUSD', 'free': '10000.00000000', 'locked': '0.00000000'}, {'asset': 'ETH', 'free': '100.00000000', 'locked': '0.00000000'}, {'asset': 'LTC', 'free': '500.00000000', 'locked': '0.00000000'}, {'asset': 'TRX', 'free': '500000.00000000', 'locked': '0.00000000'}, {'asset': 'USDT', 'free': '9885.14828000', 'locked': '0.00000000'}, {'asset': 'XRP', 'free': '50000.00000000', 'locked': '0.00000000'}], 'permissions': ['SPOT']}\n"
     ]
    }
   ],
   "source": [
    "account=client.account()\n",
    "print(account)\n"
   ]
  },
  {
   "cell_type": "markdown",
   "metadata": {},
   "source": [
    "Get orders from binance"
   ]
  },
  {
   "cell_type": "code",
   "execution_count": 13,
   "metadata": {},
   "outputs": [
    {
     "data": {
      "text/html": [
       "<div>\n",
       "<style scoped>\n",
       "    .dataframe tbody tr th:only-of-type {\n",
       "        vertical-align: middle;\n",
       "    }\n",
       "\n",
       "    .dataframe tbody tr th {\n",
       "        vertical-align: top;\n",
       "    }\n",
       "\n",
       "    .dataframe thead th {\n",
       "        text-align: right;\n",
       "    }\n",
       "</style>\n",
       "<table border=\"1\" class=\"dataframe\">\n",
       "  <thead>\n",
       "    <tr style=\"text-align: right;\">\n",
       "      <th></th>\n",
       "      <th>symbol</th>\n",
       "      <th>orderId</th>\n",
       "      <th>orderListId</th>\n",
       "      <th>clientOrderId</th>\n",
       "      <th>origQty</th>\n",
       "      <th>executedQty</th>\n",
       "      <th>cummulativeQuoteQty</th>\n",
       "      <th>status</th>\n",
       "      <th>timeInForce</th>\n",
       "      <th>type</th>\n",
       "      <th>side</th>\n",
       "      <th>stopPrice</th>\n",
       "      <th>icebergQty</th>\n",
       "      <th>time</th>\n",
       "      <th>updateTime</th>\n",
       "      <th>isWorking</th>\n",
       "      <th>origQuoteOrderQty</th>\n",
       "      <th>price</th>\n",
       "      <th>delta_price</th>\n",
       "      <th>profit</th>\n",
       "    </tr>\n",
       "    <tr>\n",
       "      <th>time</th>\n",
       "      <th></th>\n",
       "      <th></th>\n",
       "      <th></th>\n",
       "      <th></th>\n",
       "      <th></th>\n",
       "      <th></th>\n",
       "      <th></th>\n",
       "      <th></th>\n",
       "      <th></th>\n",
       "      <th></th>\n",
       "      <th></th>\n",
       "      <th></th>\n",
       "      <th></th>\n",
       "      <th></th>\n",
       "      <th></th>\n",
       "      <th></th>\n",
       "      <th></th>\n",
       "      <th></th>\n",
       "      <th></th>\n",
       "      <th></th>\n",
       "    </tr>\n",
       "  </thead>\n",
       "  <tbody>\n",
       "    <tr>\n",
       "      <th>2022-09-25 19:44:26.321</th>\n",
       "      <td>BTCUSDT</td>\n",
       "      <td>7364400</td>\n",
       "      <td>-1</td>\n",
       "      <td>HvmWIkpkh4a2AaoA5M6XCv</td>\n",
       "      <td>0.001</td>\n",
       "      <td>0.00100000</td>\n",
       "      <td>18.89678000</td>\n",
       "      <td>FILLED</td>\n",
       "      <td>GTC</td>\n",
       "      <td>MARKET</td>\n",
       "      <td>BUY</td>\n",
       "      <td>0.00000000</td>\n",
       "      <td>0.00000000</td>\n",
       "      <td>2022-09-25 19:44:26.321</td>\n",
       "      <td>2022-09-25 19:44:26.321</td>\n",
       "      <td>True</td>\n",
       "      <td>0.00000000</td>\n",
       "      <td>18896.78</td>\n",
       "      <td>-4.05</td>\n",
       "      <td>NaN</td>\n",
       "    </tr>\n",
       "    <tr>\n",
       "      <th>2022-09-25 19:46:40.144</th>\n",
       "      <td>BTCUSDT</td>\n",
       "      <td>7364405</td>\n",
       "      <td>14924</td>\n",
       "      <td>LItZNO02NJHTwlfnZYZbTK</td>\n",
       "      <td>0.001</td>\n",
       "      <td>0.00100000</td>\n",
       "      <td>18.87690000</td>\n",
       "      <td>FILLED</td>\n",
       "      <td>GTC</td>\n",
       "      <td>STOP_LOSS_LIMIT</td>\n",
       "      <td>SELL</td>\n",
       "      <td>18876.90000000</td>\n",
       "      <td>0.00000000</td>\n",
       "      <td>2022-09-25 19:46:40.144</td>\n",
       "      <td>2022-09-25 19:46:40.144</td>\n",
       "      <td>True</td>\n",
       "      <td>0.00000000</td>\n",
       "      <td>18876.90</td>\n",
       "      <td>-19.88</td>\n",
       "      <td>-0.01988</td>\n",
       "    </tr>\n",
       "    <tr>\n",
       "      <th>2022-09-25 19:50:47.153</th>\n",
       "      <td>BTCUSDT</td>\n",
       "      <td>7366225</td>\n",
       "      <td>-1</td>\n",
       "      <td>TUP3vNhMzN0IDf6vepgfgx</td>\n",
       "      <td>0.001</td>\n",
       "      <td>0.00100000</td>\n",
       "      <td>18.89208000</td>\n",
       "      <td>FILLED</td>\n",
       "      <td>GTC</td>\n",
       "      <td>MARKET</td>\n",
       "      <td>BUY</td>\n",
       "      <td>0.00000000</td>\n",
       "      <td>0.00000000</td>\n",
       "      <td>2022-09-25 19:50:47.153</td>\n",
       "      <td>2022-09-25 19:50:47.153</td>\n",
       "      <td>True</td>\n",
       "      <td>0.00000000</td>\n",
       "      <td>18892.08</td>\n",
       "      <td>15.18</td>\n",
       "      <td>NaN</td>\n",
       "    </tr>\n",
       "    <tr>\n",
       "      <th>2022-09-25 20:17:18.824</th>\n",
       "      <td>BTCUSDT</td>\n",
       "      <td>7366228</td>\n",
       "      <td>14925</td>\n",
       "      <td>miWBnZNSlos9Tf3ttkHKaf</td>\n",
       "      <td>0.001</td>\n",
       "      <td>0.00100000</td>\n",
       "      <td>18.86727000</td>\n",
       "      <td>FILLED</td>\n",
       "      <td>GTC</td>\n",
       "      <td>STOP_LOSS_LIMIT</td>\n",
       "      <td>SELL</td>\n",
       "      <td>18867.27000000</td>\n",
       "      <td>0.00000000</td>\n",
       "      <td>2022-09-25 20:17:18.824</td>\n",
       "      <td>2022-09-25 20:17:18.824</td>\n",
       "      <td>True</td>\n",
       "      <td>0.00000000</td>\n",
       "      <td>18867.27</td>\n",
       "      <td>-24.81</td>\n",
       "      <td>-0.02481</td>\n",
       "    </tr>\n",
       "    <tr>\n",
       "      <th>2022-09-25 20:24:39.191</th>\n",
       "      <td>BTCUSDT</td>\n",
       "      <td>7376054</td>\n",
       "      <td>-1</td>\n",
       "      <td>ax6njL61iPB3cNEBlbsIaR</td>\n",
       "      <td>0.001</td>\n",
       "      <td>0.00100000</td>\n",
       "      <td>18.89527000</td>\n",
       "      <td>FILLED</td>\n",
       "      <td>GTC</td>\n",
       "      <td>MARKET</td>\n",
       "      <td>BUY</td>\n",
       "      <td>0.00000000</td>\n",
       "      <td>0.00000000</td>\n",
       "      <td>2022-09-25 20:24:39.191</td>\n",
       "      <td>2022-09-25 20:24:39.191</td>\n",
       "      <td>True</td>\n",
       "      <td>0.00000000</td>\n",
       "      <td>18895.27</td>\n",
       "      <td>28.00</td>\n",
       "      <td>NaN</td>\n",
       "    </tr>\n",
       "  </tbody>\n",
       "</table>\n",
       "</div>"
      ],
      "text/plain": [
       "                          symbol  orderId  orderListId           clientOrderId  origQty executedQty cummulativeQuoteQty  status timeInForce             type  side       stopPrice  icebergQty                    time              updateTime  isWorking origQuoteOrderQty     price  delta_price   profit\n",
       "time                                                                                                                                                                                                                                                                                                       \n",
       "2022-09-25 19:44:26.321  BTCUSDT  7364400           -1  HvmWIkpkh4a2AaoA5M6XCv    0.001  0.00100000         18.89678000  FILLED         GTC           MARKET   BUY      0.00000000  0.00000000 2022-09-25 19:44:26.321 2022-09-25 19:44:26.321       True        0.00000000  18896.78        -4.05      NaN\n",
       "2022-09-25 19:46:40.144  BTCUSDT  7364405        14924  LItZNO02NJHTwlfnZYZbTK    0.001  0.00100000         18.87690000  FILLED         GTC  STOP_LOSS_LIMIT  SELL  18876.90000000  0.00000000 2022-09-25 19:46:40.144 2022-09-25 19:46:40.144       True        0.00000000  18876.90       -19.88 -0.01988\n",
       "2022-09-25 19:50:47.153  BTCUSDT  7366225           -1  TUP3vNhMzN0IDf6vepgfgx    0.001  0.00100000         18.89208000  FILLED         GTC           MARKET   BUY      0.00000000  0.00000000 2022-09-25 19:50:47.153 2022-09-25 19:50:47.153       True        0.00000000  18892.08        15.18      NaN\n",
       "2022-09-25 20:17:18.824  BTCUSDT  7366228        14925  miWBnZNSlos9Tf3ttkHKaf    0.001  0.00100000         18.86727000  FILLED         GTC  STOP_LOSS_LIMIT  SELL  18867.27000000  0.00000000 2022-09-25 20:17:18.824 2022-09-25 20:17:18.824       True        0.00000000  18867.27       -24.81 -0.02481\n",
       "2022-09-25 20:24:39.191  BTCUSDT  7376054           -1  ax6njL61iPB3cNEBlbsIaR    0.001  0.00100000         18.89527000  FILLED         GTC           MARKET   BUY      0.00000000  0.00000000 2022-09-25 20:24:39.191 2022-09-25 20:24:39.191       True        0.00000000  18895.27        28.00      NaN"
      ]
     },
     "execution_count": 13,
     "metadata": {},
     "output_type": "execute_result"
    }
   ],
   "source": [
    "# Get orders\n",
    "import pandas as pd\n",
    "import numpy as np\n",
    "symbol=\"BTCUSDT\"\n",
    "\n",
    "# Get orders, but market orders have price=0\n",
    "orders=pd.DataFrame(client.get_orders(symbol))\n",
    "if not orders.empty: orders=orders.astype({'time': 'datetime64[ms]','updateTime':'datetime64[ms]','price':'float64','origQty':'float64'}).set_index('time',drop=False)\n",
    "\n",
    "# Get trades and pull orders' prices from there\n",
    "trades=pd.DataFrame( client.my_trades(symbol))\n",
    "if not trades.empty: trades=trades.astype({'time': 'datetime64[ms]', 'price':'float64'}).set_index('time',drop=False)    \n",
    "orders=orders.drop(\"price\",axis=1).merge(trades[[\"orderId\",\"price\"]],on=\"orderId\")\n",
    "\n",
    "# Calculate profit of closing orders\n",
    "orders[\"delta_price\"]=orders[\"price\"].diff()\n",
    "orders[\"profit\"] = orders[\"delta_price\"]*orders[\"origQty\"]\n",
    "orders.loc[~orders[\"type\"].isin([\"LIMIT_MAKER\", \"STOP_LOSS_LIMIT\"]),[\"profit\"]]=np.nan\n",
    "\n",
    "orders[\"time\"] = orders[\"updateTime\"]\n",
    "orders.set_index(\"time\", drop=False, inplace=True)\n",
    "orders.tail()\n"
   ]
  },
  {
   "cell_type": "code",
   "execution_count": null,
   "metadata": {},
   "outputs": [],
   "source": []
  },
  {
   "cell_type": "markdown",
   "metadata": {},
   "source": [
    "Look at opened orders"
   ]
  },
  {
   "cell_type": "code",
   "execution_count": 5,
   "metadata": {},
   "outputs": [
    {
     "name": "stdout",
     "output_type": "stream",
     "text": [
      "[{'symbol': 'BTCUSDT', 'orderId': 7376058, 'orderListId': 14936, 'clientOrderId': 'bj7L66TGMwpbVeyscRYis0', 'price': '18867.93000000', 'origQty': '0.00100000', 'executedQty': '0.00000000', 'cummulativeQuoteQty': '0.00000000', 'status': 'NEW', 'timeInForce': 'GTC', 'type': 'STOP_LOSS_LIMIT', 'side': 'SELL', 'stopPrice': '18867.93000000', 'icebergQty': '0.00000000', 'time': 1664137479985, 'updateTime': 1664137479985, 'isWorking': False, 'origQuoteOrderQty': '0.00000000'}, {'symbol': 'BTCUSDT', 'orderId': 7376059, 'orderListId': 14936, 'clientOrderId': 'rBFRYRe4j5w3fZkhwM0I2a', 'price': '19377.01000000', 'origQty': '0.00100000', 'executedQty': '0.00000000', 'cummulativeQuoteQty': '0.00000000', 'status': 'NEW', 'timeInForce': 'GTC', 'type': 'LIMIT_MAKER', 'side': 'SELL', 'stopPrice': '0.00000000', 'icebergQty': '0.00000000', 'time': 1664137479985, 'updateTime': 1664137479985, 'isWorking': True, 'origQuoteOrderQty': '0.00000000'}]\n"
     ]
    }
   ],
   "source": [
    "orders_opened=client.get_open_orders(symbol)\n",
    "print(orders_opened)"
   ]
  },
  {
   "cell_type": "markdown",
   "metadata": {},
   "source": [
    "Get candles from local history starting from earliest trade date ending by latest trade date."
   ]
  },
  {
   "cell_type": "code",
   "execution_count": 6,
   "metadata": {},
   "outputs": [
    {
     "name": "stdout",
     "output_type": "stream",
     "text": [
      "start date:2022-09-25, end date:2022-09-25, all inclusive\n"
     ]
    },
    {
     "data": {
      "text/html": [
       "<div>\n",
       "<style scoped>\n",
       "    .dataframe tbody tr th:only-of-type {\n",
       "        vertical-align: middle;\n",
       "    }\n",
       "\n",
       "    .dataframe tbody tr th {\n",
       "        vertical-align: top;\n",
       "    }\n",
       "\n",
       "    .dataframe thead th {\n",
       "        text-align: right;\n",
       "    }\n",
       "</style>\n",
       "<table border=\"1\" class=\"dataframe\">\n",
       "  <thead>\n",
       "    <tr style=\"text-align: right;\">\n",
       "      <th></th>\n",
       "      <th>open</th>\n",
       "      <th>high</th>\n",
       "      <th>low</th>\n",
       "      <th>close</th>\n",
       "      <th>vol</th>\n",
       "    </tr>\n",
       "    <tr>\n",
       "      <th>close_time</th>\n",
       "      <th></th>\n",
       "      <th></th>\n",
       "      <th></th>\n",
       "      <th></th>\n",
       "      <th></th>\n",
       "    </tr>\n",
       "  </thead>\n",
       "  <tbody>\n",
       "    <tr>\n",
       "      <th>2022-09-25 20:36:59.999</th>\n",
       "      <td>18945.82</td>\n",
       "      <td>18946.45</td>\n",
       "      <td>18945.82</td>\n",
       "      <td>18946.45</td>\n",
       "      <td>0.100000</td>\n",
       "    </tr>\n",
       "    <tr>\n",
       "      <th>2022-09-25 20:37:59.999</th>\n",
       "      <td>18947.53</td>\n",
       "      <td>18947.67</td>\n",
       "      <td>18942.57</td>\n",
       "      <td>18942.57</td>\n",
       "      <td>4.020076</td>\n",
       "    </tr>\n",
       "    <tr>\n",
       "      <th>2022-09-25 20:38:59.999</th>\n",
       "      <td>18942.76</td>\n",
       "      <td>18942.76</td>\n",
       "      <td>18942.76</td>\n",
       "      <td>18942.76</td>\n",
       "      <td>0.082882</td>\n",
       "    </tr>\n",
       "    <tr>\n",
       "      <th>2022-09-25 20:39:59.999</th>\n",
       "      <td>18941.31</td>\n",
       "      <td>18943.77</td>\n",
       "      <td>18941.31</td>\n",
       "      <td>18943.57</td>\n",
       "      <td>4.006930</td>\n",
       "    </tr>\n",
       "    <tr>\n",
       "      <th>2022-09-25 20:40:59.999</th>\n",
       "      <td>18943.03</td>\n",
       "      <td>18943.10</td>\n",
       "      <td>18943.03</td>\n",
       "      <td>18943.10</td>\n",
       "      <td>0.027394</td>\n",
       "    </tr>\n",
       "  </tbody>\n",
       "</table>\n",
       "</div>"
      ],
      "text/plain": [
       "                             open      high       low     close       vol\n",
       "close_time                                                               \n",
       "2022-09-25 20:36:59.999  18945.82  18946.45  18945.82  18946.45  0.100000\n",
       "2022-09-25 20:37:59.999  18947.53  18947.67  18942.57  18942.57  4.020076\n",
       "2022-09-25 20:38:59.999  18942.76  18942.76  18942.76  18942.76  0.082882\n",
       "2022-09-25 20:39:59.999  18941.31  18943.77  18941.31  18943.57  4.006930\n",
       "2022-09-25 20:40:59.999  18943.03  18943.10  18943.03  18943.10  0.027394"
      ]
     },
     "execution_count": 6,
     "metadata": {},
     "output_type": "execute_result"
    }
   ],
   "source": [
    "import os\n",
    "import glob\n",
    "import pandas as pd\n",
    "from datetime import timedelta,date\n",
    "\n",
    "\n",
    "def read_candles(start_date_inc, end_date_inc):\n",
    "    \"\"\" Read days from start to end from local history\"\"\"\n",
    "    symbol=\"BTCUSDT\"    \n",
    "    data_dir=f\"./../data/{symbol}\"\n",
    "    print(f\"start date:{start_date_inc}, end date:{end_date_inc}, all inclusive\")\n",
    "    candles = pd.DataFrame()\n",
    "    cur_candles_list=[]\n",
    "    for n in range(int ((end_date_inc - start_date_inc).days)+1):\n",
    "        cur_date = start_date_inc + timedelta(n)    \n",
    "        csv_path=f\"{data_dir}/{cur_date}_{symbol}_1m.csv\"     \n",
    "        if not os.path.exists(csv_path): continue\n",
    "        #print(f\"Read {cur_date} candles from {csv_path}\")\n",
    "        cur_candles=pd.read_csv(csv_path,index_col=\"close_time\")[[\"open\",\"high\",\"low\",\"close\",\"vol\"]]\n",
    "        cur_candles_list.append(cur_candles)\n",
    "    candles = pd.concat(cur_candles_list)\n",
    "    return candles\n",
    "\n",
    "def clean_candles(df):\n",
    "    \"\"\" Remove outliers \"\"\"\n",
    "    q_low = df[\"low\"].quantile(0.01)\n",
    "    q_high  = df[\"high\"].quantile(0.99)\n",
    "    df=df[df[\"high\"]< q_high]\n",
    "    df=df[df[\"low\"] > q_low ]\n",
    "    return df\n",
    "\n",
    "# Read candles for last 3 days\n",
    "last_date=orders.index.max().date()\n",
    "first_date=last_date - timedelta(days=0)\n",
    "\n",
    "candles = read_candles(first_date, last_date)\n",
    "candles = clean_candles(candles)\n",
    "candles.tail()\n"
   ]
  },
  {
   "cell_type": "code",
   "execution_count": null,
   "metadata": {},
   "outputs": [],
   "source": []
  },
  {
   "cell_type": "markdown",
   "metadata": {},
   "source": [
    "## EDA\n",
    "\n",
    "### Look at trades quantity cumulative sum"
   ]
  },
  {
   "cell_type": "markdown",
   "metadata": {},
   "source": [
    "## Look at trades on candlestick chart"
   ]
  },
  {
   "cell_type": "code",
   "execution_count": 14,
   "metadata": {},
   "outputs": [
    {
     "data": {
      "application/vnd.plotly.v1+json": {
       "config": {
        "plotlyServerURL": "https://plot.ly"
       },
       "data": [
        {
         "close": [
          18924.7,
          18943.49,
          18940.2,
          18920.8,
          18947.54,
          18925.77,
          18936.36,
          18931.05,
          18949.07,
          18977.78,
          18963.42,
          18972.59,
          18980.97,
          18974.71,
          18974.71,
          18963.38,
          18962.34,
          18963.39,
          18964.15,
          18941.75,
          18942.05,
          18933.66,
          18932.41,
          18927.46,
          18922.55,
          18932.28,
          18931.15,
          18942.65,
          18942.8,
          18952.22,
          18951.49,
          18962.12,
          18965.8,
          18958.48,
          18958.31,
          18964.41,
          18961.72,
          18960.19,
          18957.8,
          18962.96,
          18956.95,
          18955.78,
          18958.64,
          18962.5,
          18952.6,
          18953.94,
          18960.7,
          18960.3,
          18947.73,
          18962.95,
          18963.2,
          18955.23,
          18955.67,
          18960.75,
          18959.4,
          18965.98,
          18959.16,
          18962.03,
          18959.68,
          18955.19,
          18949.28,
          18955.38,
          18949.14,
          18939.72,
          18942.83,
          18941.36,
          18952.34,
          18941.98,
          18941.28,
          18951.9,
          18950.9,
          18949.98,
          18945.89,
          18936.81,
          18936.76,
          18935.89,
          18935.02,
          18923.49,
          18923.91,
          18931.58,
          18935.7,
          18950.68,
          18950.47,
          18950,
          18951.24,
          18954.67,
          18953.46,
          18965.48,
          18973.8,
          18978.07,
          18988.59,
          18990.21,
          18975.47,
          18967.91,
          18974.78,
          18974.76,
          18973.22,
          18972.15,
          18971.05,
          18973.79,
          18983.6,
          18980.4,
          18984.04,
          18982.74,
          18977.55,
          18985.42,
          18985.42,
          18981.1,
          18976.62,
          18978.06,
          18977.39,
          18965.47,
          18968.67,
          18969.03,
          18968.58,
          18970.43,
          18978.68,
          18978.01,
          18964.85,
          18963.52,
          18962.71,
          18964.83,
          18947.19,
          18949.29,
          18955.19,
          18952.63,
          18945.11,
          18941.87,
          18953.58,
          18949.36,
          18947.38,
          18953.61,
          18938.87,
          18929.58,
          18947.02,
          18952.5,
          18939.43,
          18938,
          18938,
          18947.95,
          18947.42,
          18935.91,
          18938.41,
          18957.33,
          18957.59,
          18959.08,
          18947.27,
          18944.44,
          18947.52,
          18949.51,
          18953.07,
          18960.38,
          18964.85,
          18965.82,
          18970.47,
          18966.33,
          18965.97,
          18966.98,
          18968.14,
          18960.44,
          18949.98,
          18937.1,
          18957.76,
          18958.72,
          18956.16,
          18950.03,
          18954.57,
          18957.06,
          18952.78,
          18947.41,
          18950.05,
          18952.16,
          18948.8,
          18947.87,
          18947.93,
          18952.33,
          18947.06,
          18942.75,
          18939.16,
          18939.04,
          18969.97,
          18971.63,
          18976.57,
          18981.89,
          18984.54,
          18982.1,
          18980.06,
          18983.71,
          18985.4,
          18982.06,
          18982.14,
          18987.77,
          18990.78,
          19033.96,
          19032.21,
          19001.02,
          19018.83,
          19026.59,
          19034.4,
          19032.4,
          19025.27,
          19021.95,
          19026.95,
          19020.88,
          19019.91,
          19028.31,
          19027.61,
          19027.15,
          19026.74,
          19033.86,
          19023.47,
          19022.32,
          19027.57,
          19030.43,
          19028.48,
          19024.61,
          19027.83,
          19033.76,
          19037.13,
          19047.94,
          19046.44,
          19046.46,
          19044.79,
          19043.27,
          19047.39,
          19042.11,
          19044.14,
          19045.56,
          19038.45,
          19041.63,
          19037.43,
          19046.79,
          19053.39,
          19056.29,
          19052.96,
          19053.64,
          19055.89,
          19058.35,
          19047.57,
          19047.28,
          19045.49,
          19034.41,
          19037.34,
          19039.18,
          19038.7,
          19038.65,
          19031.97,
          19028.64,
          19039.11,
          19034.84,
          19037.33,
          19036.06,
          19033.8,
          19036.75,
          19036.42,
          19028.77,
          19026.23,
          19023.42,
          19024.53,
          19032.98,
          19031.87,
          19029.11,
          19027.78,
          19017.42,
          19031.41,
          19028.27,
          19023.19,
          19019.22,
          19024.23,
          19023.12,
          19018.45,
          19020.14,
          19017.55,
          19018.91,
          19010.88,
          19014.52,
          19014.19,
          19016.21,
          19015.92,
          19014.53,
          19013.1,
          19014.13,
          19017.54,
          19012.2,
          19007.96,
          19007.14,
          19007.52,
          19005.29,
          19006.79,
          19007.7,
          19011.15,
          19007.26,
          19010.39,
          19005.88,
          19008.09,
          19010.42,
          19003.24,
          19000.37,
          19004.66,
          19005.46,
          19002.61,
          19004.08,
          19004.17,
          19013.13,
          19011.58,
          19020.76,
          19030.24,
          19030.42,
          19031.42,
          19029.39,
          19027.77,
          19028.12,
          19028.01,
          19018.92,
          19021.72,
          19023.79,
          18994,
          18965.55,
          18974.01,
          18960.8,
          18951.89,
          18949.67,
          18956.77,
          18953.87,
          18953.11,
          18962.59,
          18974.85,
          18970.63,
          18962.03,
          18972.13,
          18991.92,
          18977.13,
          18970.4,
          18973.14,
          18986.62,
          18993.96,
          18987.41,
          18987.87,
          18979.65,
          18976.92,
          19002.79,
          18998.32,
          19000.43,
          18995.2,
          18992.86,
          18992.13,
          19010.51,
          19000.47,
          18999.97,
          19005.19,
          19001.98,
          19001.12,
          18999.89,
          18991.32,
          18996.55,
          18990.33,
          18985.59,
          18992.08,
          18988.13,
          18998.68,
          18998.13,
          18988.6,
          18995.91,
          19003.52,
          19002.01,
          19005.55,
          19002.96,
          19006.98,
          19013.85,
          19027.84,
          19027.39,
          19027.82,
          19024.71,
          19027.97,
          19023.6,
          19023.6,
          19057.07,
          19057.37,
          19048.5,
          19049.17,
          19048.98,
          19048.67,
          19041.12,
          19040.52,
          19033.74,
          19033.1,
          19032.45,
          19034.68,
          19029.47,
          19027.38,
          19022.66,
          19022.57,
          19028.69,
          19029.12,
          19020.45,
          19022.98,
          19023.33,
          19025.65,
          19034.47,
          19029.96,
          19025.28,
          19024.72,
          19026.89,
          19027.5,
          19025.84,
          19029.51,
          19036.29,
          19032.98,
          19032.44,
          19032.92,
          19033.45,
          19028.18,
          19022.07,
          19026.13,
          19022.77,
          19022.29,
          19016.59,
          19017.73,
          19016.84,
          19020.27,
          19022.19,
          19011.33,
          19014.21,
          19027.83,
          19040.2,
          19043.35,
          19041.89,
          19043.33,
          19043.33,
          19054,
          19054,
          19079.95,
          19081.88,
          19118.41,
          19118.66,
          19110.88,
          19110.33,
          19116.19,
          19115.31,
          19096.65,
          19093.19,
          19095.01,
          19096.13,
          19097.86,
          19097.95,
          19081.47,
          19079.44,
          19081.87,
          19082.33,
          19087.17,
          19087.06,
          19084.23,
          19086.58,
          19084.51,
          19088.17,
          19084.29,
          19084.42,
          19057.82,
          19056.91,
          19057.53,
          19055.31,
          19069.98,
          19071.37,
          19081.2,
          19083.67,
          19082.83,
          19084.85,
          19098.62,
          19100.42,
          19099.59,
          19098.73,
          19098.46,
          19100.08,
          19103.39,
          19108.25,
          19118.07,
          19117.64,
          19114.52,
          19114.83,
          19109.98,
          19112.53,
          19107.3,
          19103.9,
          19094.23,
          19102.89,
          19101.82,
          19101.17,
          19094.8,
          19095.37,
          19094.92,
          19091.42,
          19078.47,
          19078.47,
          19087.52,
          19086.44,
          19080.72,
          19079.7,
          19088.81,
          19092.17,
          19088.41,
          19092.34,
          19090.9,
          19091.75,
          19092.3,
          19093.04,
          19091.46,
          19090.34,
          19092.49,
          19090.97,
          19093.23,
          19089.87,
          19086.32,
          19088.55,
          19093.47,
          19093.07,
          19082.99,
          19081.14,
          19079.68,
          19083.33,
          19096.8,
          19095.89,
          19100.09,
          19095.05,
          19086.72,
          19083.86,
          19085.74,
          19084.48,
          19080.86,
          19081.59,
          19084.91,
          19085.52,
          19082.24,
          19083.07,
          19088.72,
          19084.89,
          19084.73,
          19084.02,
          19083.77,
          19083.94,
          19086.19,
          19086.22,
          19080.14,
          19082.33,
          19085.12,
          19081.56,
          19079.91,
          19079.49,
          19077.92,
          19079.54,
          19078.77,
          19067.47,
          19067.81,
          19069.34,
          19070.2,
          19067.13,
          19069.59,
          19074.19,
          19073.85,
          19072.94,
          19072.19,
          19067.28,
          19068.54,
          19071.27,
          19076.6,
          19080.02,
          19078.3,
          19074.79,
          19070.57,
          19068.9,
          19068.72,
          19067.14,
          19068.75,
          19057.83,
          19059.88,
          19054.04,
          19044.13,
          19042.86,
          19033.99,
          19031.47,
          19034.85,
          19032.35,
          19036.91,
          19036.97,
          19046.66,
          19044.27,
          19052.3,
          19049.87,
          19049.21,
          19042.22,
          19044.83,
          19041.9,
          19041.02,
          19046.31,
          19046.49,
          19054.47,
          19054.89,
          19046.11,
          19046.59,
          19058.3,
          19058.62,
          19057.44,
          19060.42,
          19059.19,
          19061.99,
          19044.9,
          19020.13,
          19033.85,
          19020.92,
          19021.4,
          19019.29,
          19018.54,
          19032.21,
          19032.48,
          19040.86,
          19039.03,
          19051.66,
          19054,
          19051.8,
          19051.16,
          19052.47,
          19054.86,
          19069.17,
          19074.47,
          19070.99,
          19072.89,
          19073.86,
          19079.08,
          19077.98,
          19080.05,
          19085.96,
          19086.58,
          19087.53,
          19078.05,
          19084.61,
          19090.68,
          19094.23,
          19092.22,
          19079.29,
          19078.31,
          19080.65,
          19082.28,
          19082.27,
          19080.51,
          19082.21,
          19079.05,
          19079.27,
          19073.42,
          19073.52,
          19072.51,
          19070.22,
          19082.77,
          19077.46,
          19077.79,
          19074.81,
          19076.74,
          19074.23,
          19081.39,
          19085.5,
          19077.83,
          19076.86,
          19087.47,
          19088,
          19091.5,
          19095.46,
          19095.59,
          19104.45,
          19104.43,
          19104.17,
          19107.99,
          19100.56,
          19100.56,
          19091.59,
          19091.82,
          19092.03,
          19092.2,
          19091.58,
          19093.07,
          19093.89,
          19095.63,
          19101.24,
          19100.66,
          19084.46,
          19085.25,
          19081.26,
          19081.86,
          19091.51,
          19092.35,
          19088.23,
          19088.16,
          19082.16,
          19082.77,
          19091.72,
          19092.43,
          19087.74,
          19084.82,
          19092.85,
          19093.46,
          19116.71,
          19120.22,
          19138.62,
          19133.64,
          19133.79,
          19122.76,
          19125.97,
          19117.12,
          19112.37,
          19108.68,
          19096.92,
          19110.63,
          19116.56,
          19117.32,
          19105.9,
          19106.82,
          19117.01,
          19126.27,
          19138.63,
          19121.99,
          19125.57,
          19132.95,
          19134.06,
          19138.33,
          19130.87,
          19131.33,
          19123.08,
          19120.88,
          19121.63,
          19115.49,
          19111.36,
          19107.58,
          19092.25,
          19092.25,
          19073.01,
          19073,
          19059.45,
          19063.91,
          19071.74,
          19070.06,
          19065.47,
          19065.98,
          19070.64,
          19073.65,
          19094.26,
          19098.54,
          19112.82,
          19112.07,
          19101.31,
          19095.9,
          19100.17,
          19100.99,
          19102.77,
          19102.08,
          19092.69,
          19094.27,
          19099.11,
          19096.06,
          19093.22,
          19093.75,
          19066.37,
          19068.05,
          19088.25,
          19081.12,
          19071.35,
          19071.94,
          19071.61,
          19073.31,
          19067.2,
          19068.52,
          19060.05,
          19060.58,
          19059.66,
          19059.96,
          19057.3,
          19051.02,
          19060.63,
          19058.1,
          19072.63,
          19070.27,
          19071.66,
          19081.76,
          19071.06,
          19072.26,
          19057.08,
          19062.01,
          19046.99,
          19043.21,
          19037.88,
          18960.62,
          18966.99,
          18966.38,
          18959.69,
          18963.95,
          18966.59,
          18953.49,
          18956.66,
          18956.03,
          18972.68,
          18965.96,
          18966.63,
          18966.66,
          18884.27,
          18906.18,
          18906.1,
          18920.23,
          18913.27,
          18895.08,
          18890.12,
          18891.09,
          18886.59,
          18905.32,
          18907.28,
          18928.61,
          18926.96,
          18930.65,
          18924.5,
          18927.75,
          18923.01,
          18927.67,
          18928.08,
          18934.7,
          18926.81,
          18930.93,
          18930.5,
          18928.36,
          18930.93,
          18935.43,
          18927.22,
          18925.78,
          18925.2,
          18897.57,
          18886.3,
          18880.41,
          18873.97,
          18905.58,
          18894.89,
          18861.83,
          18864.4,
          18875.87,
          18873.56,
          18895.35,
          18883.72,
          18887.77,
          18900.45,
          18910.75,
          18914.53,
          18890.78,
          18884.55,
          18874.62,
          18882.82,
          18885.26,
          18896.65,
          18895.4,
          18905.93,
          18907.77,
          18916.87,
          18909.86,
          18896.48,
          18903.28,
          18908.75,
          18907.84,
          18909.85,
          18909.85,
          18921.33,
          18919.87,
          18927.08,
          18925.18,
          18929.13,
          18928.19,
          18949.94,
          18956.1,
          18941.94,
          18931.83,
          18917.26,
          18919.85,
          18913.26,
          18916.38,
          18914.95,
          18926.95,
          18921.77,
          18916.17,
          18921.06,
          18919.59,
          18923.42,
          18923,
          18938.98,
          18941.15,
          18925.09,
          18927.16,
          18926.53,
          18928.03,
          18924.58,
          18925.72,
          18935.33,
          18944.83,
          18947.77,
          18942.6,
          18957.26,
          18951.92,
          18959.52,
          18960.11,
          18955.19,
          18962.86,
          18991.83,
          18997.04,
          19006.19,
          18997.54,
          18995.99,
          18999.41,
          19004.18,
          19002.28,
          18982.83,
          18984.42,
          18988.8,
          18984.81,
          18990.19,
          18995.97,
          18999.39,
          18995.49,
          18988.59,
          18977.23,
          18987.7,
          18993.7,
          18987.08,
          18993.29,
          18991.95,
          18987.53,
          18986.94,
          19003.35,
          19004.12,
          19000.21,
          19000.48,
          18999.01,
          19000.94,
          19004.65,
          19004.55,
          19003.32,
          19001.61,
          18987.8,
          18987.87,
          18988.24,
          18978.84,
          19010.21,
          18997.03,
          19008.11,
          19008.97,
          19023.88,
          19027.7,
          19031.17,
          19037.15,
          19038.45,
          19039.21,
          19046.5,
          19047.11,
          19065.53,
          19061.6,
          19076.18,
          19085.64,
          19109.4,
          19090.81,
          19073.29,
          19088.29,
          19065.14,
          19048.27,
          19047.57,
          19037.69,
          19013.01,
          19037.06,
          19041.28,
          19042.13,
          19041.56,
          19032.05,
          19043.59,
          19050.25,
          19047.27,
          19046.12,
          19045.54,
          19047.69,
          19048.22,
          19057.13,
          19046.62,
          19050.2,
          19059.55,
          19045.75,
          19050.3,
          19057.17,
          19053.65,
          19043.46,
          19037.57,
          19033.07,
          19012.73,
          19012.74,
          19034.81,
          19033.59,
          19028.03,
          19025.38,
          19025.88,
          19029.26,
          18992.78,
          18987.37,
          18947.91,
          18928.98,
          18892.29,
          18911.46,
          18896.13,
          18907.49,
          18895.64,
          18896.23,
          18916.61,
          18922.37,
          18934.38,
          18941.35,
          18957.4,
          18945.77,
          18939.54,
          18934.79,
          18937.98,
          18931.1,
          18943.91,
          18955.79,
          18967.44,
          18971.23,
          18961.72,
          18954.98,
          18946.47,
          18933.4,
          18913.82,
          18926.9,
          18918.5,
          18928.62,
          18941.7,
          18937.84,
          18934.69,
          18940.59,
          18919.9,
          18921.37,
          18914.37,
          18915.37,
          18919.57,
          18926.79,
          18933.17,
          18908.99,
          18907.5,
          18919.18,
          18921.64,
          18930.88,
          18965.99,
          18973.99,
          18970.4,
          18990.19,
          18992.25,
          18987.11,
          18978.65,
          18992.57,
          19024.45,
          19015.3,
          19003.02,
          19004.12,
          19001.79,
          18996.33,
          19007.56,
          19006.21,
          19011.47,
          19003.15,
          18984.25,
          18994.78,
          18979.66,
          18991.41,
          18975.19,
          18972.68,
          18980.5,
          18978.89,
          18983.29,
          18970.51,
          18971.65,
          18970.02,
          18969.91,
          18965.03,
          18965.94,
          18950.13,
          18950.83,
          18964.18,
          18963.56,
          18962.29,
          18964.17,
          18966.74,
          18967.31,
          18981.07,
          18978.38,
          18974.4,
          18974.58,
          18979.54,
          18977.17,
          18980.37,
          18977.21,
          18953.98,
          18955.2,
          18956.21,
          18915.64,
          18895.64,
          18907.07,
          18911.78,
          18901.64,
          18910.94,
          18910.88,
          18874.93,
          18887.8,
          18888.83,
          18902.85,
          18913.6,
          18929.55,
          18945.04,
          18961.37,
          18954.71,
          18944.78,
          18941.16,
          18933.71,
          18934.18,
          18929.43,
          18931.67,
          18928.8,
          18928.06,
          18922.27,
          18927.5,
          18942.95,
          18941.4,
          18943.41,
          18941.45,
          18943.58,
          18943.64,
          18958.95,
          18956.23,
          18952.66,
          18952.85,
          18954.51,
          18950.22,
          18953.52,
          18956.66,
          18960.43,
          18966.6,
          18980.64,
          18987.54,
          18981.15,
          18970.59,
          18975.66,
          18976.85,
          18973.85,
          18973.59,
          18971.56,
          18972.51,
          18969.98,
          18971.85,
          18936.94,
          18933.74,
          18935.38,
          18940.76,
          18927.72,
          18928.33,
          18928.94,
          18927.34,
          18903.02,
          18900.96,
          18889.34,
          18885.42,
          18892.74,
          18891.64,
          18884.48,
          18883.34,
          18895.39,
          18895.29,
          18914.91,
          18912.17,
          18910.81,
          18907.06,
          18916.56,
          18916.96,
          18915.5,
          18915.76,
          18919.42,
          18919.18,
          18921.44,
          18921.99,
          18917.34,
          18910.46,
          18914.68,
          18917.14,
          18924.08,
          18918.59,
          18921.55,
          18921.23,
          18922.77,
          18923.57,
          18924.16,
          18924.98,
          18892,
          18899.31,
          18904.4,
          18909.42,
          18910.57,
          18909.95,
          18897.67,
          18916.22,
          18931.29,
          18928.43,
          18927.54,
          18927.07,
          18925.8,
          18932.85,
          18943.73,
          18942.06,
          18942.73,
          18946.27,
          18946.45,
          18942.57,
          18942.76,
          18943.57,
          18943.1
         ],
         "high": [
          18924.7,
          18952.62,
          18944.41,
          18939.73,
          18953.96,
          18948.19,
          18942.08,
          18939.51,
          18949.07,
          18981.34,
          18981.42,
          18972.59,
          18981.38,
          18980.1,
          18974.71,
          18974.7,
          18963.04,
          18966.99,
          18964.38,
          18954.84,
          18942.28,
          18943.51,
          18933.74,
          18929.35,
          18926.87,
          18935.44,
          18932.46,
          18944.26,
          18943.22,
          18960.08,
          18953.09,
          18962.53,
          18967.47,
          18959.22,
          18958.99,
          18964.41,
          18964.4,
          18962.58,
          18959.97,
          18962.96,
          18964.22,
          18955.84,
          18963.61,
          18964.54,
          18966.25,
          18953.94,
          18960.7,
          18966.17,
          18962.67,
          18964.76,
          18964.34,
          18957.48,
          18957.79,
          18961.72,
          18962.37,
          18965.98,
          18968.2,
          18967.3,
          18964.23,
          18960.22,
          18959.82,
          18956.17,
          18954.45,
          18949.38,
          18942.83,
          18941.6,
          18952.34,
          18952.55,
          18942.66,
          18952.43,
          18952.63,
          18950.74,
          18952.14,
          18946.35,
          18936.9,
          18936.85,
          18935.89,
          18929.86,
          18923.91,
          18931.58,
          18936.27,
          18958.26,
          18950.47,
          18954.42,
          18951.24,
          18955.04,
          18954.66,
          18967.2,
          18973.8,
          18978.45,
          18993.4,
          18990.31,
          18978.23,
          18975.21,
          18978.04,
          18975.75,
          18978.43,
          18972.37,
          18972.91,
          18973.79,
          18983.6,
          18984.33,
          18986.07,
          18983.72,
          18988.82,
          18985.42,
          18986.74,
          18985.93,
          18977.09,
          18981.77,
          18977.59,
          18977.02,
          18980.68,
          18969.03,
          18974.25,
          18973.89,
          18979.28,
          18978.01,
          18976.68,
          18964.85,
          18963.35,
          18966.61,
          18961.06,
          18950.27,
          18956.36,
          18958.23,
          18951.22,
          18945.35,
          18957.33,
          18950.61,
          18947.65,
          18953.98,
          18949.81,
          18945.89,
          18947.02,
          18956.33,
          18950.58,
          18941,
          18938,
          18950.67,
          18947.95,
          18935.91,
          18938.41,
          18959.2,
          18957.59,
          18959.81,
          18961.42,
          18952.82,
          18947.52,
          18955.22,
          18953.07,
          18960.38,
          18964.85,
          18965.82,
          18970.47,
          18966.33,
          18967.25,
          18969.16,
          18968.14,
          18962.23,
          18960.17,
          18941.55,
          18957.76,
          18958.92,
          18959.5,
          18955.98,
          18957.37,
          18958.39,
          18956.86,
          18952.43,
          18951.81,
          18952.16,
          18950.74,
          18948.5,
          18948.99,
          18953.62,
          18953.27,
          18946.72,
          18947.46,
          18939.04,
          18977.69,
          18976.55,
          18976.57,
          18981.89,
          18985.31,
          18985.81,
          18984.92,
          18984.25,
          18985.92,
          18990.26,
          18982.33,
          18989.06,
          19023,
          19033.96,
          19035.51,
          19036.86,
          19023.32,
          19027.48,
          19035.49,
          19035.82,
          19035.49,
          19024.64,
          19026.95,
          19026.01,
          19021.21,
          19028.31,
          19028.01,
          19027.15,
          19026.74,
          19033.86,
          19039.24,
          19023.47,
          19038.12,
          19031.72,
          19031.88,
          19030.1,
          19027.83,
          19033.76,
          19049.83,
          19048.42,
          19049.29,
          19052.12,
          19048.01,
          19046.82,
          19047.57,
          19047.12,
          19046.79,
          19045.56,
          19046.43,
          19043.83,
          19041.63,
          19046.79,
          19054.15,
          19058.38,
          19058.93,
          19054.68,
          19056.87,
          19060.75,
          19059.32,
          19051.17,
          19048.46,
          19045.78,
          19038.37,
          19041.86,
          19039.32,
          19040.28,
          19039.09,
          19035.29,
          19039.11,
          19041.8,
          19037.33,
          19037.6,
          19035.95,
          19036.75,
          19037.09,
          19039.11,
          19027.98,
          19026.64,
          19025.74,
          19033,
          19033.93,
          19031.33,
          19029.12,
          19027.79,
          19031.41,
          19032.09,
          19028.41,
          19023.2,
          19025.15,
          19024.63,
          19023.18,
          19025.34,
          19021.72,
          19019.52,
          19019.16,
          19019.71,
          19020.59,
          19016.27,
          19016.59,
          19016.06,
          19015.25,
          19014.84,
          19019.01,
          19017.66,
          19012.64,
          19007.86,
          19007.9,
          19008,
          19007.25,
          19007.7,
          19013.64,
          19011.75,
          19011.89,
          19009.6,
          19010.46,
          19010.63,
          19010.09,
          19003.27,
          19006.33,
          19006.53,
          19007.34,
          19005.99,
          19004.77,
          19013.77,
          19013.83,
          19021.36,
          19033.71,
          19031.19,
          19033.06,
          19031.42,
          19029.55,
          19028.89,
          19028.77,
          19028.21,
          19021.92,
          19024.92,
          19004.66,
          18994,
          18977.72,
          18974.24,
          18962.63,
          18953.9,
          18956.77,
          18960.1,
          18955.29,
          18963.14,
          18974.85,
          18976.46,
          18970.74,
          18972.54,
          18994.01,
          18994.6,
          18981.06,
          18973.14,
          18986.62,
          18995.04,
          18993.21,
          18990.56,
          18988.1,
          18982.84,
          19007.26,
          19003.27,
          19003.56,
          19000.43,
          18996.08,
          19000.53,
          19010.51,
          19010.9,
          18999.97,
          19005.99,
          19001.98,
          19002.47,
          19003.72,
          19000.8,
          18996.58,
          18996.38,
          18990.84,
          18992.08,
          18991.59,
          19000.29,
          18999.09,
          18997.81,
          18996.67,
          19003.52,
          19004.33,
          19005.55,
          19004.69,
          19007.72,
          19015.38,
          19028.45,
          19029.14,
          19029.25,
          19028.77,
          19028.91,
          19029.22,
          19023.6,
          19067.21,
          19057.37,
          19054.49,
          19049.17,
          19051.25,
          19048.67,
          19045.75,
          19040.52,
          19037.2,
          19034.35,
          19032.62,
          19034.68,
          19031.03,
          19029.46,
          19028.51,
          19022.57,
          19028.69,
          19029.52,
          19026.42,
          19022.98,
          19024.47,
          19025.65,
          19034.47,
          19035.06,
          19028.53,
          19025.84,
          19028.62,
          19028.26,
          19027.9,
          19029.51,
          19036.29,
          19036.4,
          19036.17,
          19033.06,
          19033.45,
          19033.45,
          19022.07,
          19026.13,
          19024.8,
          19023.12,
          19017.81,
          19017.9,
          19018.33,
          19021.08,
          19022.51,
          19022.68,
          19014.21,
          19027.83,
          19052.76,
          19046.53,
          19046.52,
          19045.39,
          19043.33,
          19054.1,
          19054,
          19092.42,
          19081.88,
          19126.02,
          19120.32,
          19123.7,
          19113.36,
          19118.54,
          19116.88,
          19103.95,
          19096.92,
          19104.49,
          19096.13,
          19102.81,
          19097.95,
          19092.11,
          19081.97,
          19083.05,
          19082.63,
          19090.65,
          19088.45,
          19084.23,
          19089.29,
          19088.06,
          19088.17,
          19089.86,
          19084.42,
          19070.59,
          19057.72,
          19060.72,
          19057.55,
          19074.79,
          19073.34,
          19083.89,
          19083.67,
          19082.83,
          19087.02,
          19102.54,
          19100.42,
          19106.26,
          19099.59,
          19099.85,
          19100.21,
          19105.18,
          19108.25,
          19118.07,
          19117.87,
          19119.16,
          19115.72,
          19111.67,
          19112.53,
          19112.52,
          19108.08,
          19103.24,
          19102.89,
          19105.19,
          19101.59,
          19100.66,
          19095.41,
          19096.42,
          19093.79,
          19091.35,
          19078.47,
          19090.99,
          19086.97,
          19081.72,
          19079.7,
          19088.81,
          19092.17,
          19093.44,
          19092.34,
          19090.9,
          19091.75,
          19093.63,
          19093.34,
          19092.43,
          19091.54,
          19094.5,
          19092.53,
          19095.1,
          19092.96,
          19087.29,
          19088.55,
          19099.27,
          19093.46,
          19085.11,
          19082.99,
          19081.4,
          19083.33,
          19097.09,
          19097.52,
          19100.09,
          19102.57,
          19092.96,
          19086.59,
          19086.11,
          19086.3,
          19085.17,
          19085.67,
          19088.13,
          19085.52,
          19084.92,
          19083.07,
          19088.72,
          19089.05,
          19085.54,
          19085.01,
          19085.76,
          19086.24,
          19090.5,
          19087.33,
          19087.93,
          19083.81,
          19085.61,
          19085.72,
          19080.36,
          19080.3,
          19079.49,
          19080.86,
          19079.15,
          19076.6,
          19068.35,
          19073.49,
          19070.2,
          19069.01,
          19069.59,
          19074.19,
          19074.35,
          19077.2,
          19072.91,
          19072.46,
          19068.54,
          19073.5,
          19076.6,
          19080.93,
          19080.38,
          19076.91,
          19074.61,
          19070.8,
          19068.9,
          19073.57,
          19068.75,
          19063.45,
          19060.02,
          19054.04,
          19052.09,
          19045.25,
          19045.1,
          19034.59,
          19034.85,
          19034.89,
          19038.9,
          19036.97,
          19053.49,
          19047.35,
          19052.3,
          19055.81,
          19052.56,
          19042.23,
          19044.83,
          19043.92,
          19043.32,
          19047.97,
          19047.59,
          19055.23,
          19055.54,
          19052.06,
          19048.37,
          19058.3,
          19059.75,
          19058.19,
          19062.86,
          19062.94,
          19061.99,
          19061.87,
          19059.46,
          19037.63,
          19033.75,
          19021.4,
          19027.35,
          19018.76,
          19032.21,
          19101.65,
          19040.86,
          19040.9,
          19074.9,
          19054,
          19052.39,
          19052.09,
          19052.47,
          19054.86,
          19069.32,
          19074.47,
          19071.88,
          19072.89,
          19073.86,
          19079.08,
          19077.98,
          19081.48,
          19085.96,
          19087.3,
          19087.53,
          19087.78,
          19085.6,
          19091.36,
          19094.23,
          19100.34,
          19086.58,
          19080.94,
          19080.65,
          19082.95,
          19082.92,
          19081.45,
          19082.21,
          19080.99,
          19080.58,
          19078.81,
          19075.06,
          19073.96,
          19072.48,
          19083.02,
          19083.48,
          19081.33,
          19079.18,
          19078.14,
          19077.58,
          19081.82,
          19087.38,
          19088.32,
          19078.17,
          19089.74,
          19088.85,
          19091.5,
          19096.39,
          19097.21,
          19106.47,
          19106.78,
          19105.88,
          19107.99,
          19107.91,
          19100.56,
          19102.99,
          19091.82,
          19092.68,
          19092.2,
          19091.58,
          19093.07,
          19095.08,
          19095.63,
          19107.56,
          19101.15,
          19093.87,
          19085.25,
          19081.26,
          19081.86,
          19097.82,
          19092.35,
          19091.71,
          19088.25,
          19086.68,
          19082.77,
          19093.1,
          19094.08,
          19090.3,
          19088.33,
          19093.89,
          19093.68,
          19118.6,
          19124.24,
          19138.62,
          19133.64,
          19136.99,
          19130.83,
          19127.42,
          19125.51,
          19124.9,
          19112.57,
          19102.75,
          19111.11,
          19117.83,
          19118.41,
          19116.6,
          19111.48,
          19117.42,
          19126.27,
          19138.63,
          19137.37,
          19125.97,
          19135.51,
          19135.91,
          19138.37,
          19136.21,
          19132.78,
          19132.17,
          19122.05,
          19126.54,
          19121.64,
          19114.11,
          19114.97,
          19107.32,
          19092.25,
          19101.85,
          19073.01,
          19074.75,
          19064.59,
          19074.11,
          19071.55,
          19078.18,
          19066.7,
          19071.44,
          19073.65,
          19094.42,
          19100.26,
          19113.1,
          19113.62,
          19113.7,
          19100.48,
          19101.06,
          19100.99,
          19105.39,
          19103.5,
          19096.68,
          19094.27,
          19099.11,
          19099,
          19093.99,
          19093.75,
          19094.3,
          19068.72,
          19088.42,
          19088.39,
          19078.9,
          19071.94,
          19076.24,
          19073.82,
          19072.98,
          19068.52,
          19065.38,
          19060.58,
          19063.2,
          19061.15,
          19060.2,
          19057.46,
          19061.68,
          19061.35,
          19072.63,
          19072.83,
          19073.39,
          19081.76,
          19078.74,
          19072.68,
          19071.88,
          19063.23,
          19059.63,
          19047.87,
          19045.59,
          19005.41,
          18981.61,
          18981.3,
          18975.65,
          18968.92,
          18967.87,
          18967.49,
          18956.92,
          18956.21,
          18978.95,
          18972.44,
          18971.76,
          18966.66,
          18904.11,
          18920.93,
          18906.84,
          18923.78,
          18920.49,
          18917.87,
          18895.08,
          18898.53,
          18892.94,
          18906.13,
          18915.07,
          18928.61,
          18928.83,
          18939.38,
          18930.48,
          18938.76,
          18927.11,
          18928.34,
          18928.08,
          18934.7,
          18934.72,
          18931.25,
          18930.93,
          18929.55,
          18930.93,
          18938.22,
          18934.13,
          18928.55,
          18926.93,
          18931.28,
          18901.35,
          18882.31,
          18884.05,
          18905.58,
          18906.31,
          18897.07,
          18864.4,
          18879.42,
          18876.55,
          18895.35,
          18894.98,
          18889.81,
          18900.45,
          18910.75,
          18914.53,
          18918.4,
          18891.33,
          18884.23,
          18884.25,
          18885.26,
          18896.65,
          18897.87,
          18905.93,
          18908.72,
          18917.48,
          18918.06,
          18910.46,
          18906.17,
          18911.75,
          18907.85,
          18912.55,
          18909.85,
          18923.81,
          18920.79,
          18928.2,
          18927.08,
          18929.13,
          18929.55,
          18949.94,
          18957.36,
          18953.1,
          18943.33,
          18920.3,
          18920.94,
          18925.02,
          18917.22,
          18922.55,
          18926.95,
          18924.37,
          18923.03,
          18921.1,
          18920.59,
          18923.42,
          18923.42,
          18957.26,
          18943.49,
          18935.68,
          18928.33,
          18927.72,
          18928.03,
          18930.49,
          18925.72,
          18935.33,
          18944.83,
          18947.94,
          18947.99,
          18957.26,
          18957.98,
          18960.3,
          18960.11,
          18959.63,
          18969.23,
          18991.83,
          18997.11,
          19009.67,
          19006.42,
          19002.52,
          18999.7,
          19004.21,
          19004.59,
          19002.68,
          18989.97,
          18988.8,
          18984.81,
          18990.19,
          19000.49,
          19002.38,
          18999.49,
          18997.59,
          18988.78,
          18987.7,
          18994,
          18993.6,
          18993.29,
          18992.41,
          18989.14,
          18987.2,
          19003.35,
          19004.12,
          19001.63,
          19000.48,
          18999.01,
          19000.94,
          19006.02,
          19005.37,
          19008.86,
          19003.85,
          18998.01,
          18987.88,
          18999.09,
          18988.87,
          19010.21,
          19010.03,
          19008.29,
          19008.97,
          19023.88,
          19031.39,
          19043.78,
          19038.38,
          19042.84,
          19039.21,
          19046.64,
          19047.11,
          19070.46,
          19069.05,
          19076.18,
          19096.01,
          19118.16,
          19114.01,
          19089.58,
          19088.29,
          19086.86,
          19068.16,
          19055.78,
          19052.05,
          19038.95,
          19037.7,
          19053.17,
          19042.4,
          19043.26,
          19046.71,
          19046.21,
          19050.25,
          19050.93,
          19048.25,
          19052.25,
          19049.12,
          19049.29,
          19063.76,
          19057.16,
          19053.64,
          19061.19,
          19058.83,
          19051.33,
          19058.85,
          19056.42,
          19053.45,
          19042.51,
          19041.03,
          19032.5,
          19012.74,
          19042.56,
          19034.81,
          19038.54,
          19027.67,
          19029.22,
          19029.26,
          19011.16,
          18987.37,
          18973.95,
          18950.59,
          18930.85,
          18911.46,
          18913.15,
          18907.49,
          18900.75,
          18897.49,
          18922.12,
          18922.37,
          18947.71,
          18942,
          18969.53,
          18958.44,
          18940.75,
          18940.92,
          18942.1,
          18944.18,
          18944.46,
          18957.89,
          18969.03,
          18971.23,
          18971.99,
          18963.09,
          18948.58,
          18937.87,
          18933.29,
          18929.85,
          18926.06,
          18929.37,
          18941.7,
          18941.09,
          18941.48,
          18943.88,
          18943.41,
          18925.67,
          18923.16,
          18918.35,
          18919.57,
          18926.79,
          18936.96,
          18937.63,
          18910.54,
          18923.79,
          18930.19,
          18930.88,
          18966.95,
          18973.99,
          18977.06,
          18990.19,
          18992.25,
          18995.24,
          18988.35,
          18992.57,
          19032.2,
          19025.89,
          19015.61,
          19006.17,
          19003.86,
          19003.19,
          19007.56,
          19007.56,
          19012.86,
          19011.47,
          18988.93,
          18998.42,
          18990.62,
          18991.41,
          18992.28,
          18974.32,
          18981.56,
          18982.27,
          18983.84,
          18983.12,
          18973.24,
          18971.04,
          18970.39,
          18970.62,
          18965.94,
          18962.72,
          18950.83,
          18964.65,
          18963.82,
          18970.92,
          18964.17,
          18968.67,
          18967.31,
          18981.31,
          18981.15,
          18977.85,
          18974.58,
          18979.73,
          18980.65,
          18980.49,
          18979.97,
          18954.1,
          18956.81,
          18956.98,
          18955.86,
          18912.37,
          18907.07,
          18911.78,
          18902.9,
          18912.61,
          18922.33,
          18914.52,
          18890.96,
          18890.21,
          18902.85,
          18914.78,
          18930.21,
          18946.63,
          18962.03,
          18968.4,
          18951.28,
          18947.85,
          18940.7,
          18937.47,
          18934.87,
          18935.38,
          18928.92,
          18928.54,
          18930.71,
          18927.5,
          18945.58,
          18946.51,
          18945.97,
          18943.18,
          18945.57,
          18947.55,
          18961.01,
          18961.17,
          18961.32,
          18954.48,
          18957.46,
          18961.36,
          18953.6,
          18958.17,
          18962.07,
          18972.11,
          18982.64,
          18993.08,
          18985.98,
          18977.99,
          18977.99,
          18980.27,
          18978.24,
          18973.85,
          18973.2,
          18972.51,
          18972.1,
          18971.85,
          18988.13,
          18935.64,
          18935.38,
          18940.76,
          18928.46,
          18928.33,
          18930.06,
          18929.58,
          18905.64,
          18905.79,
          18898.78,
          18889.91,
          18893.73,
          18892.91,
          18891.32,
          18884.29,
          18900.99,
          18895.8,
          18915.63,
          18914.98,
          18915.39,
          18911.26,
          18918.84,
          18918.17,
          18919.31,
          18916.3,
          18925.64,
          18919.42,
          18921.44,
          18924.31,
          18920.25,
          18917.82,
          18915.38,
          18919.09,
          18925.2,
          18925.13,
          18923.57,
          18921.96,
          18924.4,
          19033.28,
          18924.82,
          18925.01,
          18894.41,
          18902.66,
          18904.4,
          18911.6,
          18911.98,
          18912.18,
          18911.79,
          18918.84,
          18932.85,
          18929.87,
          18929.1,
          18928.36,
          18929.75,
          18932.85,
          18945.51,
          18943.86,
          18944.47,
          18946.7,
          18946.45,
          18947.67,
          18942.76,
          18943.77,
          18943.1
         ],
         "low": [
          18914.35,
          18937.59,
          18933.07,
          18916.22,
          18920.7,
          18920.94,
          18926,
          18929.34,
          18930.77,
          18956.3,
          18943.95,
          18957.56,
          18973.08,
          18968.36,
          18974.71,
          18957.13,
          18962.34,
          18960.38,
          18962.91,
          17564.41,
          18941.74,
          18920.83,
          18932.41,
          18919.89,
          18922.55,
          18927.39,
          18930.46,
          18936.4,
          18941.97,
          18952.22,
          18951.49,
          18951.23,
          18962.94,
          18952.71,
          18958.07,
          18952.91,
          18960.94,
          18955.39,
          18955.64,
          18957.97,
          18956.95,
          18946.39,
          18952.54,
          18958.37,
          18950.97,
          18951.34,
          18956.55,
          18958.57,
          18945.89,
          18950.17,
          18958.69,
          18951.15,
          18953.79,
          18953.95,
          18959.4,
          18961.57,
          18959.16,
          18960.61,
          18957.57,
          18953.03,
          18947.66,
          18947.22,
          18948.24,
          18938.35,
          18937.98,
          18935.65,
          18937.83,
          18941.19,
          18941.28,
          18941.66,
          18944.86,
          18947.91,
          18943.67,
          18935.12,
          18936.76,
          18933,
          18935.02,
          18922.33,
          18923.46,
          18928.38,
          18931.58,
          18949.42,
          18949.84,
          18949.68,
          18950,
          18949.52,
          18953.46,
          18963.79,
          18969.23,
          18973.77,
          18983.71,
          18985.15,
          18965.87,
          18967.67,
          18968.15,
          18974.67,
          18968.08,
          18971.24,
          18968.23,
          18970.68,
          18977.83,
          18980.36,
          18981.43,
          18982.65,
          18972.39,
          18976.98,
          18984.97,
          18980.83,
          18973.27,
          18971.12,
          18965.65,
          18965.07,
          18966.22,
          18965.79,
          18967.42,
          18968.58,
          18975.82,
          18976.08,
          18964.85,
          18959.68,
          18961.1,
          18961.61,
          18946.05,
          18947.46,
          18946.58,
          18952.32,
          18945.11,
          18938.78,
          18942.89,
          18948.34,
          18941.57,
          18946.62,
          18938.87,
          18919.79,
          18936.45,
          18948.29,
          18936.46,
          18934.83,
          18938,
          18947.95,
          18947.42,
          18932.58,
          18935.91,
          18944.77,
          18956.87,
          18955.14,
          18947.27,
          18944.44,
          18943.99,
          18949.51,
          18948.97,
          18956,
          18960.83,
          18957.53,
          18965.34,
          18963.45,
          18965.08,
          18964.45,
          18963.36,
          18960.21,
          18949.98,
          18937.1,
          18936.7,
          18958.67,
          18955.7,
          18950.03,
          18952.16,
          18954.57,
          18952.78,
          18946,
          18948.88,
          18947.93,
          18948.11,
          18946.96,
          18939.99,
          18948.82,
          18947.06,
          18942.75,
          18939.16,
          18931.33,
          18968.92,
          18967.73,
          18964.21,
          18975.78,
          18982.24,
          18982.1,
          18980.06,
          18979.12,
          18981.94,
          18982.04,
          18973.47,
          18982.02,
          18988.81,
          18992.56,
          19007.03,
          18999.06,
          19008.2,
          19018.02,
          19025.85,
          19031.13,
          19025.27,
          19021.73,
          19011.16,
          19020.31,
          19019.91,
          19020.75,
          19027.61,
          19021.56,
          19026.57,
          19022.88,
          19020.19,
          19020.13,
          19021.98,
          19025.94,
          19027,
          19020.84,
          19021.45,
          19023.47,
          19033.78,
          19037.81,
          19045.17,
          19044.09,
          19044.79,
          19043.27,
          19043.11,
          19042.11,
          19041.54,
          19043.13,
          19038.17,
          19039.25,
          19034.69,
          19034.68,
          19046.66,
          19049.32,
          19050.82,
          19047.42,
          19053.68,
          19054.4,
          19046.19,
          19045.53,
          19045.49,
          19031.21,
          19033.99,
          19036.91,
          19033.42,
          19037.43,
          19031.12,
          19024.34,
          19027.41,
          19034.06,
          19035.01,
          19032.53,
          19033.79,
          19032.38,
          19035.94,
          19028.61,
          19021.28,
          19018.07,
          19023.62,
          19024.15,
          19031.87,
          19029.11,
          19026.04,
          19016.17,
          19017.42,
          19026.99,
          19021.43,
          19019.16,
          19019.03,
          19020.01,
          19018.45,
          19018.6,
          19017.55,
          19017.75,
          19008.16,
          19010.88,
          19014.19,
          19013.82,
          19015.52,
          19010.91,
          19013.05,
          19012.55,
          19012.97,
          19008.35,
          19007.96,
          19006.6,
          19004.58,
          19005.25,
          19004.8,
          19004.34,
          19007.62,
          19007.26,
          19006.65,
          19005.42,
          19005.41,
          19006.36,
          19002.3,
          18999.29,
          18999.37,
          19004.86,
          19002.61,
          19002.48,
          19002.79,
          19002.95,
          19010.94,
          19011.65,
          19020.76,
          19029.66,
          19029.65,
          19026.89,
          19027.77,
          19026.32,
          19027.2,
          19018.92,
          19018.43,
          19020.78,
          18892.8,
          18715.27,
          18966.88,
          18960.8,
          18951.49,
          18941.89,
          18950.23,
          18949.24,
          18952.71,
          18953.06,
          18960.64,
          18970.63,
          18959.22,
          18955.23,
          18971.48,
          18975.81,
          18969.25,
          18970.06,
          18971.95,
          18981.77,
          18984.77,
          18987.28,
          18976.71,
          18976.2,
          18976.79,
          18997.52,
          18998.31,
          18993.02,
          18992.45,
          18991.35,
          18991.71,
          19000.19,
          18997.04,
          18998.37,
          18998.41,
          19000.71,
          18999.46,
          18989.71,
          18990.98,
          18990.27,
          18985.48,
          18984.77,
          18986.22,
          18986.47,
          18995.51,
          18988.18,
          18988.24,
          18995.98,
          18999.7,
          19002.78,
          18999.89,
          19002.68,
          19007.32,
          19012.88,
          19024.24,
          19024.54,
          19024.71,
          19026.27,
          19021.41,
          19023.6,
          19052.56,
          19057.33,
          19047.05,
          19048.5,
          19043.59,
          19047.85,
          19037,
          19039.71,
          19025.29,
          19033.1,
          19029.24,
          19031.46,
          19015.46,
          19025.79,
          19022.66,
          19020.23,
          19025.86,
          19028.61,
          19019.26,
          19020.05,
          19020.56,
          19023.07,
          19030.01,
          19029.96,
          19024.7,
          19024.72,
          19020.9,
          19026.58,
          19021.99,
          19025.41,
          19028.44,
          19032.97,
          19032.44,
          19031.72,
          19024.43,
          19028.1,
          19019,
          19021.75,
          19021.52,
          19021.6,
          19016.52,
          19015.83,
          19016.37,
          19016.26,
          19019.17,
          19008.15,
          19010.45,
          19014.21,
          19039.5,
          19040.23,
          19039.74,
          19041.63,
          19043.33,
          19043.66,
          19054,
          19078.82,
          19080.34,
          19108.85,
          19114.05,
          19078.74,
          19110.33,
          19106.13,
          19115.31,
          19090.11,
          19093.19,
          19094.46,
          19094.39,
          19096.86,
          19093.06,
          19078.26,
          19076.95,
          19079.32,
          19081.81,
          19083.86,
          19087.06,
          19077.26,
          19079.54,
          19081.26,
          19084.51,
          19083.39,
          19080.25,
          19054.78,
          19050.41,
          19053.67,
          19055.31,
          19056.54,
          19069.27,
          19069.56,
          19079.56,
          19079.12,
          19082.55,
          19098.62,
          19098.48,
          19099.59,
          19097.88,
          19097.92,
          19098.57,
          19098.05,
          19101.95,
          19104.31,
          19104.35,
          19103.34,
          19113.49,
          19104.88,
          19108.51,
          19105.48,
          19102.93,
          19091.75,
          19093.29,
          19095.24,
          19099.94,
          19093.07,
          19092.2,
          19091.66,
          19090.33,
          19078.01,
          19078.47,
          19081.11,
          19086.44,
          19077.12,
          19079.52,
          19084.81,
          19088.06,
          19087.79,
          19088.41,
          19086.88,
          19090.38,
          19088.65,
          19090.27,
          19091.02,
          19090.34,
          19091.88,
          19090.97,
          19090.81,
          19089.87,
          19082.83,
          19085.77,
          19087.69,
          19092.3,
          19082.99,
          19080.24,
          19079.27,
          19079.66,
          19087.99,
          19095.89,
          19094.05,
          19095.05,
          19083.27,
          19083.86,
          19080.25,
          19084.27,
          19079.47,
          19080.15,
          19081.65,
          19084.52,
          19081.52,
          19080.89,
          19082.6,
          19084.89,
          19082.27,
          19084.02,
          19082.68,
          19082.7,
          19075.21,
          19085.01,
          19079.9,
          19079.86,
          19082.77,
          19081.56,
          19077.24,
          19076.01,
          19077.92,
          19076.56,
          19078.77,
          19066.64,
          19067.81,
          19069.34,
          19068.98,
          19065.25,
          19067.12,
          19072.26,
          19073.85,
          19070.96,
          19072.19,
          19067.28,
          19066.13,
          19067.45,
          19072.26,
          19078.07,
          19078.3,
          19074.79,
          19067.06,
          19067.09,
          19067.11,
          19067.14,
          19066.89,
          19057.63,
          19058.06,
          19048.08,
          19038.47,
          19042.64,
          19033.73,
          19028.63,
          19030.29,
          19031.22,
          19035.71,
          19033.21,
          19041.33,
          19044.22,
          19043.28,
          19049.6,
          19049.21,
          19038.89,
          19041.84,
          19040.85,
          19037.72,
          19044.53,
          19044.9,
          19045.7,
          19052.7,
          19046.11,
          19044.9,
          19046.57,
          19055.95,
          19055.87,
          19057.33,
          19057.93,
          19059.06,
          19044.9,
          19017.14,
          19019.23,
          19013.77,
          19021.22,
          19019.29,
          19018.38,
          18994.4,
          19026.26,
          19031.74,
          19034.41,
          19051.66,
          19050.39,
          19041.93,
          19049.84,
          19048.32,
          19051.24,
          19057.1,
          19068.6,
          19068.23,
          19070,
          19063.84,
          19073.3,
          19067.06,
          19076.48,
          19079.09,
          19085.42,
          19077.73,
          19078.05,
          19080.4,
          19084.75,
          19089.74,
          19092.22,
          19079.14,
          19077.4,
          19077.64,
          19078.48,
          19082.06,
          19079.36,
          19079.76,
          19078.06,
          19078.3,
          19072.27,
          19071.38,
          19068.73,
          19069.87,
          19069.92,
          19076.24,
          19077.38,
          19074.81,
          19073.52,
          19072.31,
          19073.24,
          19078.9,
          19075.71,
          19076.42,
          19076.12,
          19077.8,
          19085.72,
          19092.55,
          19094.4,
          19094.74,
          19103.07,
          19103.59,
          19103.55,
          19099.27,
          19100.56,
          19091.59,
          19091.79,
          19088.46,
          19090.21,
          19089.16,
          19090.02,
          19089.48,
          19093.63,
          19100.68,
          19100.34,
          19084.46,
          19084.23,
          19069.94,
          19080.31,
          19089.56,
          19090.8,
          19087.82,
          19088.06,
          19078.73,
          19081.41,
          19081.28,
          19091.02,
          19086.99,
          19084.82,
          19082.57,
          19091.82,
          19092.93,
          19116.57,
          19134.61,
          19127,
          19132.33,
          19122.7,
          19122.3,
          19086.43,
          19111.06,
          19108.68,
          19093.56,
          19096.15,
          19106.04,
          19113.15,
          19105.9,
          19106.41,
          19097.17,
          19115.11,
          19130.85,
          19120.81,
          19121.58,
          19125.96,
          19123.98,
          19132.37,
          19127.66,
          19127.85,
          19123.08,
          19111.57,
          19120.94,
          19111.83,
          19108.07,
          19107.58,
          19087.2,
          19092.25,
          19073.01,
          19073,
          19056.4,
          19062.61,
          19061.82,
          19070.06,
          19063.94,
          19065.98,
          19069.19,
          19070.64,
          19089.14,
          19093.66,
          19102.57,
          19111.64,
          19101.31,
          19095.9,
          19098.61,
          19098.65,
          19101.51,
          19102.03,
          19091.78,
          19090.79,
          19094.54,
          19096.06,
          19092.53,
          19092.72,
          19066.37,
          19063.34,
          19074.67,
          19079.04,
          19068.42,
          19068.97,
          19069.66,
          19071.1,
          19066.51,
          19064.95,
          19058.41,
          19049.61,
          19055.3,
          19054.88,
          19055.84,
          19050.58,
          19039.85,
          19041.16,
          19058.97,
          19067.7,
          19071.42,
          19071.63,
          19071.06,
          19066.52,
          19052.74,
          19056.93,
          19046.99,
          19039.29,
          19037.88,
          18958.13,
          18959.31,
          18965.3,
          18954.9,
          18941.79,
          18961.66,
          18947.94,
          18931.11,
          18956.03,
          18967.77,
          18965.96,
          18958.17,
          18965.46,
          18883.13,
          18904.28,
          18905.05,
          18917.08,
          18913.27,
          18895.08,
          18889.72,
          18885.1,
          18886.59,
          18884.92,
          18904.41,
          18916.8,
          18926.59,
          18927.65,
          18924.46,
          18924.78,
          18923.01,
          18917.87,
          18923.33,
          18927.96,
          18925.61,
          18924.82,
          18930.5,
          18917.12,
          18928.77,
          18928.73,
          18926.63,
          18923.72,
          18924.57,
          18897.57,
          18880.7,
          18853.91,
          18868.5,
          18881.19,
          18893.43,
          18861.83,
          18860.4,
          18866.44,
          18872.4,
          18883.71,
          18883.7,
          18884.76,
          18886.84,
          18902.4,
          18906.92,
          18890.77,
          18884.55,
          18861.76,
          18868.56,
          18878.52,
          18878.22,
          18891.93,
          18894.68,
          18901.98,
          18904.45,
          18907.67,
          18893.72,
          18894.35,
          18900.91,
          18907.84,
          18908.04,
          18909.38,
          18915.03,
          18919.87,
          18918.21,
          18925.18,
          18915.58,
          18927.28,
          18929.26,
          18947.51,
          18939.88,
          18929.19,
          18914.06,
          18916.53,
          18912.8,
          18912.22,
          18907.66,
          18912.81,
          18920.39,
          18915.54,
          18912.9,
          18918.25,
          18919.73,
          18922.4,
          18922.55,
          18937.5,
          18918.79,
          18925.09,
          18920.67,
          18925.12,
          18923.4,
          18924.58,
          18927.07,
          18932.5,
          18941.52,
          18942.43,
          18948.67,
          18951.92,
          18950.09,
          18956.89,
          18950.64,
          18955.4,
          18966.83,
          18981.23,
          18989.12,
          18989.94,
          18995.75,
          18994.81,
          18995.38,
          19002.28,
          18979.51,
          18983.67,
          18973.27,
          18979.29,
          18984.65,
          18988.87,
          18998.07,
          18992.11,
          18988.59,
          18977.15,
          18977.85,
          18986.89,
          18983.94,
          18986.1,
          18991.95,
          18986.7,
          18986.94,
          18991.58,
          19003.36,
          18995.71,
          18999.97,
          18995.93,
          18998.26,
          19002.4,
          19004.55,
          19000.56,
          19001.35,
          18986.04,
          18986.93,
          18986.67,
          18978.84,
          18994.48,
          18993.6,
          18994.93,
          19006.9,
          19004.94,
          19023.38,
          19029.86,
          19031.31,
          19037.81,
          19033.04,
          19037.65,
          19042.64,
          19051.16,
          19061.6,
          19062.78,
          19073.34,
          19082.63,
          19090.81,
          19073.29,
          19073.34,
          19063.36,
          19039.5,
          19046.16,
          19036.97,
          19012.06,
          19002.89,
          19035.62,
          19040.23,
          19034.32,
          19031.62,
          19034.75,
          19039.96,
          19047.27,
          19042.82,
          19044.72,
          19045.54,
          19044.97,
          19055.86,
          19045.15,
          19048.27,
          19049.59,
          19044.42,
          19047.36,
          19050.17,
          19048.39,
          19043.46,
          19034.57,
          19033.07,
          19004.32,
          19012.68,
          19033.98,
          19033.59,
          19024.2,
          19025.38,
          19025.27,
          19026.72,
          18986.1,
          18984.37,
          18947.91,
          18928.91,
          18876.67,
          18892.07,
          18885.72,
          18894.1,
          18883.76,
          18895.08,
          18911.44,
          18911.11,
          18924.64,
          18934.38,
          18957.4,
          18945.77,
          18932.5,
          18933.04,
          18928.05,
          18929.13,
          18938.75,
          18943.34,
          18957.7,
          18965.83,
          18961.72,
          18954.98,
          18056.78,
          18933.4,
          18903.52,
          18917.02,
          18912.28,
          18918.2,
          18926.32,
          18932.85,
          18925.57,
          18934.66,
          18909.79,
          18915.91,
          18912.98,
          18913.52,
          18914.25,
          18913.7,
          18914.05,
          18907.09,
          18901.79,
          18913.33,
          18916.31,
          18921.44,
          18928.13,
          18960.58,
          18969.82,
          18970.75,
          18982.9,
          18984.17,
          18975.04,
          18971.39,
          18978.48,
          19009.32,
          19000.66,
          19001.69,
          18995.43,
          18995.43,
          18998.22,
          19003.9,
          19004.23,
          19002.73,
          18975.22,
          18983.03,
          18979.66,
          18977.18,
          18975.19,
          18969.92,
          18975.08,
          18977.09,
          18978.23,
          18968.6,
          18966.16,
          18966.26,
          18966.86,
          18962.46,
          18965.52,
          18950.13,
          18950.28,
          18962.71,
          18963.56,
          18959.85,
          18963.06,
          18965.52,
          18966.07,
          18972.84,
          18978.38,
          18974.4,
          18973.17,
          18976.22,
          18977.17,
          18973.48,
          18977.04,
          18951.05,
          18946.65,
          18954.18,
          18915.64,
          18895.64,
          18893.09,
          18905.06,
          18883.71,
          18901.28,
          18910.88,
          18873.15,
          18878.37,
          18885.7,
          18888.71,
          18901.12,
          18917.84,
          18925,
          18941.53,
          18948.3,
          18943.07,
          18941.16,
          18933.71,
          18930.98,
          18925.64,
          18928.89,
          18923.24,
          18925.51,
          18922.27,
          18911.85,
          18933.59,
          18941.04,
          18941.09,
          18938.06,
          18938.45,
          18943.64,
          18944.13,
          18956.23,
          18952.12,
          18952.85,
          18949.77,
          18949.76,
          18949.32,
          18952.95,
          18954.67,
          18958.48,
          18970.54,
          18976.6,
          18978.83,
          18968.31,
          18968.77,
          18970.58,
          18972.73,
          18973.59,
          18967.93,
          18971.74,
          18969.44,
          18970.07,
          18936.94,
          18924.6,
          18928.49,
          18935.38,
          18922.9,
          18926.93,
          18926.91,
          18926.07,
          18893.93,
          18900.96,
          18885.94,
          18885.42,
          18880.89,
          18890.7,
          18880.56,
          18882.27,
          18894.27,
          18895.02,
          18902.15,
          18912.17,
          18907.82,
          18907.06,
          18906.94,
          18915.51,
          18915.28,
          18911.58,
          18918.79,
          18914.12,
          18910.14,
          18915.42,
          18916.51,
          18909.93,
          18909.1,
          18913.51,
          18918.2,
          18918.59,
          18917.23,
          18918.87,
          18919.2,
          18915.61,
          18922.07,
          18922.81,
          18888.81,
          18889.79,
          18899.37,
          18906.03,
          18907.15,
          18908.45,
          18892.32,
          18897.41,
          18916.37,
          18921.02,
          18922.52,
          18922.68,
          18923.65,
          18926.8,
          18933.1,
          18936.55,
          18941.67,
          18941.31,
          18945.82,
          18942.57,
          18942.76,
          18941.31,
          18943.03
         ],
         "open": [
          18921.95,
          18938.62,
          18943.7,
          18939.18,
          18921.78,
          18947.4,
          18926,
          18937.25,
          18930.77,
          18956.3,
          18974.92,
          18962.61,
          18973.68,
          18980.1,
          18974.71,
          18973.65,
          18963.04,
          18962.19,
          18964.3,
          18954.51,
          18941.74,
          18942.98,
          18933.66,
          18920.53,
          18926.87,
          18933.97,
          18932.28,
          18936.51,
          18942.65,
          18956.32,
          18951.76,
          18958.35,
          18962.94,
          18959.22,
          18958.25,
          18952.91,
          18964.4,
          18962.58,
          18959.97,
          18959.22,
          18962.96,
          18946.78,
          18953.37,
          18958.64,
          18966.25,
          18952.63,
          18956.55,
          18960.7,
          18961.5,
          18950.17,
          18962.95,
          18951.15,
          18955.71,
          18955.43,
          18960.36,
          18963.13,
          18966.75,
          18965.02,
          18963.53,
          18957.76,
          18955.19,
          18947.59,
          18954.45,
          18949.16,
          18941.82,
          18941.6,
          18939.06,
          18951.58,
          18942.48,
          18942.18,
          18952.1,
          18949.95,
          18950.69,
          18945.89,
          18936.9,
          18933,
          18935.89,
          18929.3,
          18923.46,
          18929.16,
          18931.58,
          18953.09,
          18950.36,
          18954.03,
          18950,
          18950.91,
          18954.66,
          18966.26,
          18970.52,
          18973.85,
          18983.71,
          18988.95,
          18978.23,
          18975.21,
          18968.7,
          18975.1,
          18974.29,
          18971.24,
          18971.18,
          18971.1,
          18977.83,
          18983.77,
          18981.54,
          18983.55,
          18987.27,
          18976.98,
          18985.05,
          18985.57,
          18974.34,
          18976.35,
          18965.87,
          18977.02,
          18966.22,
          18968.67,
          18969.84,
          18968.58,
          18976.6,
          18977.07,
          18976.68,
          18964.85,
          18962.68,
          18962.71,
          18960.98,
          18947.46,
          18950.56,
          18955.19,
          18951.22,
          18945.11,
          18946.25,
          18949.1,
          18947.65,
          18946.77,
          18949.81,
          18936.92,
          18936.45,
          18948.29,
          18950.58,
          18939.74,
          18938,
          18948.85,
          18947.95,
          18935.34,
          18935.91,
          18944.77,
          18957.33,
          18959.03,
          18959.08,
          18951.63,
          18944.64,
          18955.22,
          18948.97,
          18956.02,
          18960.83,
          18963.97,
          18965.82,
          18964.97,
          18966.24,
          18967.96,
          18966.44,
          18962.23,
          18960.17,
          18941.55,
          18936.76,
          18958.87,
          18955.7,
          18955.98,
          18955.88,
          18954.57,
          18953.01,
          18952.43,
          18951.81,
          18949.35,
          18949.63,
          18947.62,
          18948.41,
          18948.82,
          18952.72,
          18946.59,
          18946.01,
          18938.37,
          18977.3,
          18969.6,
          18971.91,
          18976.57,
          18985.31,
          18983.65,
          18983.47,
          18980.06,
          18984.78,
          18984.42,
          18981.71,
          18982.02,
          18988.81,
          18992.56,
          19031.78,
          19036.86,
          19008.2,
          19018.2,
          19026.02,
          19034.36,
          19033.38,
          19024.64,
          19021.87,
          19026.01,
          19020.88,
          19021.09,
          19028.01,
          19021.85,
          19026.57,
          19022.88,
          19033.86,
          19023.47,
          19021.98,
          19027.57,
          19031.17,
          19028.71,
          19024.47,
          19027.36,
          19033.78,
          19042.36,
          19047.94,
          19046.22,
          19046.46,
          19044.29,
          19043.28,
          19047.12,
          19042.03,
          19044.28,
          19045.66,
          19039.25,
          19040.95,
          19037.5,
          19046.79,
          19053.5,
          19056.08,
          19053.09,
          19053.68,
          19055.63,
          19058.46,
          19046.91,
          19047.06,
          19045.49,
          19034.26,
          19037.61,
          19038.54,
          19038.7,
          19039.08,
          19032.41,
          19029.12,
          19039.11,
          19035.27,
          19037.41,
          19035.95,
          19034.08,
          19036.75,
          19036.34,
          19027.98,
          19026.64,
          19023.62,
          19024.23,
          19032.65,
          19031.33,
          19029.11,
          19027.5,
          19017.42,
          19031.14,
          19028.06,
          19023.2,
          19019.37,
          19024.23,
          19022.68,
          19018.6,
          19020.27,
          19018.15,
          19018.66,
          19010.88,
          19014.52,
          19014.13,
          19016.45,
          19015.41,
          19014.61,
          19013.1,
          19014.2,
          19017.66,
          19012.64,
          19007.25,
          19007.06,
          19006.88,
          19005.49,
          19006.86,
          19007.62,
          19011.33,
          19006.91,
          19009.6,
          19005.83,
          19008.51,
          19010.09,
          19003.27,
          18999.42,
          19005.25,
          19005.87,
          19002.61,
          19004.65,
          19004.17,
          19013.48,
          19011.95,
          19020.76,
          19029.88,
          19030.42,
          19031.42,
          19028.75,
          19027.77,
          19028.05,
          19028.01,
          19018.43,
          19020.78,
          19004.22,
          18994,
          18966.88,
          18973.74,
          18960.8,
          18951.3,
          18950.23,
          18958.67,
          18953.87,
          18953.06,
          18962.1,
          18973.73,
          18970.46,
          18961.79,
          18971.6,
          18991.88,
          18977.13,
          18970.76,
          18972.41,
          18984.94,
          18993.21,
          18987.28,
          18988.1,
          18979.88,
          18976.92,
          19002.22,
          18998.36,
          19000.43,
          18995.66,
          18992.26,
          18992.29,
          19010.51,
          18999.84,
          18999.21,
          19001.88,
          19001.96,
          19000.83,
          19000.06,
          18991.97,
          18996.38,
          18990.45,
          18985.48,
          18991.33,
          18988.13,
          18998.53,
          18997.81,
          18988.31,
          18996.26,
          19003.54,
          19003.04,
          19004.31,
          19002.69,
          19008.01,
          19013.25,
          19024.25,
          19028.37,
          19028.27,
          19026.27,
          19028.25,
          19023.6,
          19053.78,
          19057.33,
          19049.9,
          19048.5,
          19051.07,
          19047.85,
          19042.72,
          19040.06,
          19025.97,
          19033.84,
          19029.47,
          19031.95,
          19016.23,
          19029.46,
          19028.51,
          19020.6,
          19027.82,
          19028.69,
          19023.54,
          19020.05,
          19023.83,
          19023.13,
          19030.78,
          19034.03,
          19028.53,
          19025.28,
          19025.36,
          19026.76,
          19024.28,
          19026.14,
          19028.51,
          19036.28,
          19035.22,
          19032.07,
          19024.99,
          19033.41,
          19020.95,
          19021.89,
          19024.8,
          19021.6,
          19016.52,
          19016.59,
          19017.14,
          19016.26,
          19019.47,
          19022.19,
          19011.19,
          19014.21,
          19048.52,
          19041.12,
          19043.19,
          19041.63,
          19043.33,
          19047.54,
          19054,
          19089.8,
          19080.34,
          19109.76,
          19115.55,
          19120.32,
          19110.98,
          19113.15,
          19116.19,
          19103.93,
          19096.13,
          19099.29,
          19094.39,
          19096.86,
          19097.87,
          19091.34,
          19081.17,
          19081.03,
          19081.88,
          19083.86,
          19087.17,
          19082.4,
          19081.03,
          19088.06,
          19084.51,
          19089.85,
          19084.16,
          19070.58,
          19057.72,
          19058.85,
          19057.44,
          19070.92,
          19069.27,
          19072.54,
          19080.98,
          19080.35,
          19082.82,
          19100.45,
          19099.11,
          19102.32,
          19099.59,
          19098.69,
          19098.57,
          19098.59,
          19102.15,
          19105.02,
          19116.9,
          19119.16,
          19114.94,
          19111.67,
          19110.08,
          19109.44,
          19106.93,
          19103.24,
          19094.23,
          19104.91,
          19100.32,
          19100.66,
          19095.41,
          19095.18,
          19093.79,
          19091.35,
          19078.47,
          19084.8,
          19086.97,
          19077.23,
          19079.54,
          19086.25,
          19088.08,
          19091.65,
          19088.41,
          19090.12,
          19090.9,
          19088.65,
          19092.3,
          19091.39,
          19090.97,
          19094.5,
          19092.49,
          19090.81,
          19091.77,
          19084.05,
          19086.04,
          19087.95,
          19092.49,
          19083.67,
          19082.99,
          19080.45,
          19079.68,
          19089.56,
          19097.19,
          19094.56,
          19099.49,
          19092.5,
          19085.63,
          19082.73,
          19085.04,
          19084.77,
          19080.86,
          19085.13,
          19084.84,
          19084.92,
          19082.27,
          19083.21,
          19088.13,
          19085.54,
          19084.65,
          19085.32,
          19083.77,
          19081.09,
          19085.13,
          19085.96,
          19079.86,
          19082.87,
          19084.27,
          19077.58,
          19079.35,
          19079.23,
          19076.69,
          19079.15,
          19076.6,
          19068.35,
          19069.34,
          19069.34,
          19069.01,
          19067.12,
          19072.47,
          19073.92,
          19074.2,
          19072.91,
          19072.12,
          19066.67,
          19073.24,
          19072.26,
          19078.07,
          19079.67,
          19076.91,
          19074.28,
          19067.62,
          19068.9,
          19072.15,
          19067.11,
          19062.61,
          19058.06,
          19049.85,
          19052.09,
          19043.87,
          19045.1,
          19034.56,
          19032.3,
          19034.89,
          19036.3,
          19036.16,
          19049.14,
          19046.62,
          19043.87,
          19049.97,
          19049.92,
          19041.94,
          19042.32,
          19041.96,
          19041.95,
          19044.75,
          19044.9,
          19045.7,
          19054.47,
          19052.06,
          19046.11,
          19046.63,
          19058.2,
          19057.2,
          19057.4,
          19062.15,
          19059.7,
          19061.87,
          19044.9,
          19019.42,
          19033.75,
          19021.22,
          19026.32,
          19018.76,
          18997.03,
          19029.79,
          19031.76,
          19040.28,
          19055.09,
          19051.66,
          19041.93,
          19050.36,
          19051.41,
          19051.25,
          19057.49,
          19068.86,
          19068.23,
          19070.83,
          19063.84,
          19073.34,
          19070.74,
          19077.17,
          19079.32,
          19085.64,
          19077.9,
          19087.24,
          19085.6,
          19084.75,
          19090.03,
          19094.2,
          19086.5,
          19078.23,
          19078.31,
          19082.14,
          19082.28,
          19079.8,
          19079.95,
          19080.6,
          19078.6,
          19078.67,
          19073.42,
          19072.32,
          19072.24,
          19069.92,
          19081.82,
          19079.72,
          19077.79,
          19074.54,
          19076.1,
          19073.71,
          19079.1,
          19086.85,
          19077.85,
          19076.38,
          19087.52,
          19088.11,
          19092.67,
          19096.06,
          19094.74,
          19103.65,
          19105.18,
          19104.58,
          19107.91,
          19100.56,
          19102.99,
          19091.79,
          19091.59,
          19091.02,
          19089.34,
          19091.07,
          19089.78,
          19093.89,
          19107.26,
          19101.08,
          19092.8,
          19084.33,
          19069.94,
          19080.57,
          19095.23,
          19090.8,
          19089.91,
          19088.06,
          19086.4,
          19082.21,
          19081.28,
          19091.03,
          19089.83,
          19087.82,
          19082.58,
          19091.83,
          19094.03,
          19116.58,
          19136.06,
          19128.62,
          19136.52,
          19130.83,
          19122.53,
          19123,
          19122.32,
          19109.57,
          19101.68,
          19096.15,
          19106.99,
          19115.01,
          19114.03,
          19106.41,
          19102.2,
          19116.32,
          19131.2,
          19137.1,
          19122.03,
          19126.64,
          19135.22,
          19133.08,
          19132.96,
          19130.27,
          19131.43,
          19120.8,
          19121.02,
          19120.86,
          19114.11,
          19111.61,
          19107.32,
          19092.25,
          19090.59,
          19073.01,
          19072.45,
          19062.61,
          19061.95,
          19071.36,
          19078.18,
          19066.11,
          19070.15,
          19070.64,
          19090.39,
          19093.9,
          19107.74,
          19112.07,
          19108.38,
          19100.48,
          19100.81,
          19099.78,
          19102.05,
          19102.77,
          19095.98,
          19091.75,
          19094.58,
          19098.5,
          19092.53,
          19093.04,
          19093.17,
          19067.7,
          19074.68,
          19087.9,
          19078.9,
          19068.97,
          19071.04,
          19071.15,
          19072.33,
          19066.2,
          19065.22,
          19060.05,
          19063.2,
          19059.66,
          19060,
          19057.3,
          19049.77,
          19060.36,
          19059.12,
          19072,
          19071.8,
          19071.63,
          19074.1,
          19072.4,
          19068.72,
          19056.93,
          19059.63,
          19047.87,
          19044.24,
          19005.41,
          18960.76,
          18980.2,
          18967.14,
          18958.88,
          18964.74,
          18966.37,
          18953.11,
          18956.21,
          18968.48,
          18972.44,
          18959.28,
          18965.92,
          18903.76,
          18917.74,
          18905.05,
          18920.68,
          18920.41,
          18908.59,
          18895.08,
          18891.46,
          18891.09,
          18884.92,
          18905.2,
          18918.37,
          18927.88,
          18927.65,
          18930.48,
          18936.46,
          18927.11,
          18920.22,
          18927.67,
          18929.12,
          18934.7,
          18931.25,
          18930.93,
          18928.22,
          18928.77,
          18931.83,
          18934.13,
          18926.44,
          18925.78,
          18927.28,
          18896.87,
          18860.36,
          18879.84,
          18881.19,
          18900.05,
          18893.54,
          18862.26,
          18868.09,
          18875.72,
          18884.94,
          18894.31,
          18884.84,
          18887.77,
          18904.25,
          18910.24,
          18917.04,
          18890.78,
          18884.02,
          18874.62,
          18884.29,
          18885.68,
          18892.54,
          18895.34,
          18905.73,
          18906.07,
          18916.86,
          18910.46,
          18895.38,
          18903.75,
          18907.85,
          18911.97,
          18909.38,
          18915.15,
          18920.01,
          18923.31,
          18926.72,
          18915.58,
          18928.82,
          18929.91,
          18949.94,
          18940.8,
          18941.97,
          18919.73,
          18917.29,
          18925.02,
          18912.65,
          18908.24,
          18912.81,
          18920.5,
          18921.63,
          18915.89,
          18920.42,
          18920.2,
          18923.02,
          18927.27,
          18938.25,
          18935.68,
          18925.09,
          18920.67,
          18925.72,
          18929.87,
          18924.58,
          18927.66,
          18932.51,
          18944.17,
          18944.85,
          18950.09,
          18955.1,
          18951.39,
          18956.9,
          18959.63,
          18956.09,
          18967.76,
          18991.24,
          18993.55,
          19005.52,
          18997.64,
          18995.09,
          18998.32,
          19003.67,
          19002.18,
          18984.45,
          18982.64,
          18984.59,
          18985.59,
          18988.9,
          18998.36,
          18997.87,
          18994.9,
          18988.78,
          18979.18,
          18987.79,
          18993.6,
          18987.47,
          18992.41,
          18987.35,
          18987.2,
          18991.64,
          19003.51,
          19000.75,
          19000.21,
          18997.09,
          18998.28,
          19004.96,
          19005,
          19007.35,
          19002.95,
          18997.69,
          18987.88,
          18986.97,
          18987.81,
          18995.03,
          19009.16,
          18997.33,
          19007.62,
          19007.36,
          19023.41,
          19042.67,
          19031.31,
          19039.24,
          19038.28,
          19039.19,
          19046.35,
          19051.75,
          19065.53,
          19066.16,
          19073.77,
          19084.62,
          19109.4,
          19088.79,
          19073.34,
          19082.82,
          19065.32,
          19055.04,
          19047.57,
          19037.14,
          19012.06,
          19035.63,
          19040.66,
          19036.53,
          19040.48,
          19034.75,
          19043.34,
          19048.6,
          19047.47,
          19048.14,
          19045.54,
          19046.2,
          19062.47,
          19056.33,
          19048.27,
          19050.04,
          19058.57,
          19047.51,
          19050.44,
          19055.44,
          19052.99,
          19042.51,
          19038.11,
          19031.42,
          19012.68,
          19034.2,
          19034.81,
          19033.43,
          19027.67,
          19025.27,
          19026.72,
          19004.29,
          18986.1,
          18973.06,
          18947.92,
          18878.89,
          18892.24,
          18913.15,
          18899.7,
          18883.76,
          18895.68,
          18916.75,
          18916.61,
          18942.98,
          18934.38,
          18962.34,
          18957.46,
          18939.9,
          18938.95,
          18935.32,
          18937.73,
          18940.38,
          18943.73,
          18967.92,
          18966.38,
          18969.55,
          18960.41,
          18056.78,
          18935.16,
          18933.29,
          18918.62,
          18926.06,
          18919.04,
          18928.47,
          18941.09,
          18939.38,
          18934.66,
          18940.59,
          18919.78,
          18921.37,
          18914.18,
          18914.26,
          18919.5,
          18914.09,
          18933.17,
          18908.99,
          18913.63,
          18918.03,
          18921.6,
          18929.19,
          18966.42,
          18971.75,
          18971.18,
          18987.74,
          18991.31,
          18987.67,
          18978.32,
          18978.51,
          19024.45,
          19015.61,
          19002.23,
          19003.17,
          19000.16,
          18998.22,
          19006.66,
          19005.89,
          19011.47,
          18988.08,
          18984.14,
          18987.34,
          18979.08,
          18991.81,
          18973.44,
          18975.37,
          18979.07,
          18978.31,
          18982.32,
          18972.85,
          18971.04,
          18969.73,
          18969.47,
          18965.52,
          18957.9,
          18950.28,
          18964.37,
          18963.82,
          18963.72,
          18963.91,
          18967.13,
          18966.82,
          18975.49,
          18980.37,
          18976.69,
          18973.67,
          18979.32,
          18979.54,
          18973.9,
          18979.65,
          18951.05,
          18947.97,
          18955.05,
          18955.45,
          18912.37,
          18893.09,
          18905.54,
          18902.9,
          18901.28,
          18919.93,
          18910.88,
          18882.22,
          18887.14,
          18888.75,
          18902.57,
          18925.83,
          18926.14,
          18946.48,
          18960.75,
          18945.48,
          18944.78,
          18940.53,
          18933.84,
          18929.3,
          18929.11,
          18927.91,
          18928.14,
          18926.56,
          18922.27,
          18933.65,
          18942.95,
          18942.26,
          18941.83,
          18944.39,
          18944.05,
          18944.13,
          18960.13,
          18954.04,
          18953.75,
          18950.17,
          18953.87,
          18949.32,
          18953.55,
          18954.98,
          18959.95,
          18970.54,
          18981.82,
          18985.18,
          18977,
          18969.74,
          18977,
          18977.02,
          18973.85,
          18973.04,
          18971.96,
          18971.03,
          18970.07,
          18983.18,
          18935.64,
          18931.5,
          18935.38,
          18926.51,
          18927.64,
          18926.91,
          18929.58,
          18897.99,
          18903.45,
          18898.41,
          18889.91,
          18881.41,
          18892.73,
          18890.94,
          18884.01,
          18900.11,
          18895.74,
          18903.48,
          18914.56,
          18908.45,
          18911,
          18907.43,
          18916.16,
          18919.31,
          18916.3,
          18919,
          18919.42,
          18915.34,
          18922.39,
          18919.59,
          18917.3,
          18915.38,
          18914.64,
          18919.09,
          18925.13,
          18917.98,
          18921.53,
          18922.3,
          18922.58,
          18923.29,
          18923.58,
          18888.97,
          18894.41,
          18899.37,
          18907.9,
          18909.27,
          18909.13,
          18909.95,
          18897.84,
          18916.37,
          18929.86,
          18926.43,
          18928.36,
          18928.8,
          18928.28,
          18933.1,
          18942.95,
          18942.41,
          18943.12,
          18945.82,
          18947.53,
          18942.76,
          18941.31,
          18943.03
         ],
         "type": "candlestick",
         "x": [
          "2022-09-25 00:00:59.999",
          "2022-09-25 00:01:59.999",
          "2022-09-25 00:02:59.999",
          "2022-09-25 00:03:59.999",
          "2022-09-25 00:04:59.999",
          "2022-09-25 00:05:59.999",
          "2022-09-25 00:06:59.999",
          "2022-09-25 00:07:59.999",
          "2022-09-25 00:08:59.999",
          "2022-09-25 00:09:59.999",
          "2022-09-25 00:10:59.999",
          "2022-09-25 00:11:59.999",
          "2022-09-25 00:12:59.999",
          "2022-09-25 00:13:59.999",
          "2022-09-25 00:14:59.999",
          "2022-09-25 00:15:59.999",
          "2022-09-25 00:16:59.999",
          "2022-09-25 00:17:59.999",
          "2022-09-25 00:18:59.999",
          "2022-09-25 00:19:59.999",
          "2022-09-25 00:20:59.999",
          "2022-09-25 00:21:59.999",
          "2022-09-25 00:22:59.999",
          "2022-09-25 00:23:59.999",
          "2022-09-25 00:24:59.999",
          "2022-09-25 00:25:59.999",
          "2022-09-25 00:26:59.999",
          "2022-09-25 00:27:59.999",
          "2022-09-25 00:28:59.999",
          "2022-09-25 00:29:59.999",
          "2022-09-25 00:30:59.999",
          "2022-09-25 00:31:59.999",
          "2022-09-25 00:32:59.999",
          "2022-09-25 00:33:59.999",
          "2022-09-25 00:34:59.999",
          "2022-09-25 00:35:59.999",
          "2022-09-25 00:36:59.999",
          "2022-09-25 00:37:59.999",
          "2022-09-25 00:38:59.999",
          "2022-09-25 00:39:59.999",
          "2022-09-25 00:40:59.999",
          "2022-09-25 00:42:59.999",
          "2022-09-25 00:43:59.999",
          "2022-09-25 00:44:59.999",
          "2022-09-25 00:45:59.999",
          "2022-09-25 00:46:59.999",
          "2022-09-25 00:47:59.999",
          "2022-09-25 00:48:59.999",
          "2022-09-25 00:49:59.999",
          "2022-09-25 00:51:59.999",
          "2022-09-25 00:52:59.999",
          "2022-09-25 00:53:59.999",
          "2022-09-25 00:54:59.999",
          "2022-09-25 00:55:59.999",
          "2022-09-25 00:56:59.999",
          "2022-09-25 00:57:59.999",
          "2022-09-25 00:58:59.999",
          "2022-09-25 00:59:59.999",
          "2022-09-25 01:00:59.999",
          "2022-09-25 01:01:59.999",
          "2022-09-25 01:02:59.999",
          "2022-09-25 01:04:59.999",
          "2022-09-25 01:05:59.999",
          "2022-09-25 01:06:59.999",
          "2022-09-25 01:07:59.999",
          "2022-09-25 01:08:59.999",
          "2022-09-25 01:09:59.999",
          "2022-09-25 01:10:59.999",
          "2022-09-25 01:11:59.999",
          "2022-09-25 01:12:59.999",
          "2022-09-25 01:13:59.999",
          "2022-09-25 01:14:59.999",
          "2022-09-25 01:15:59.999",
          "2022-09-25 01:16:59.999",
          "2022-09-25 01:17:59.999",
          "2022-09-25 01:18:59.999",
          "2022-09-25 01:19:59.999",
          "2022-09-25 01:20:59.999",
          "2022-09-25 01:21:59.999",
          "2022-09-25 01:22:59.999",
          "2022-09-25 01:23:59.999",
          "2022-09-25 01:24:59.999",
          "2022-09-25 01:25:59.999",
          "2022-09-25 01:26:59.999",
          "2022-09-25 01:27:59.999",
          "2022-09-25 01:28:59.999",
          "2022-09-25 01:29:59.999",
          "2022-09-25 01:31:59.999",
          "2022-09-25 01:32:59.999",
          "2022-09-25 01:33:59.999",
          "2022-09-25 01:34:59.999",
          "2022-09-25 01:35:59.999",
          "2022-09-25 01:36:59.999",
          "2022-09-25 01:37:59.999",
          "2022-09-25 01:38:59.999",
          "2022-09-25 01:39:59.999",
          "2022-09-25 01:40:59.999",
          "2022-09-25 01:41:59.999",
          "2022-09-25 01:42:59.999",
          "2022-09-25 01:43:59.999",
          "2022-09-25 01:44:59.999",
          "2022-09-25 01:45:59.999",
          "2022-09-25 01:46:59.999",
          "2022-09-25 01:47:59.999",
          "2022-09-25 01:48:59.999",
          "2022-09-25 01:49:59.999",
          "2022-09-25 01:50:59.999",
          "2022-09-25 01:51:59.999",
          "2022-09-25 01:52:59.999",
          "2022-09-25 01:53:59.999",
          "2022-09-25 01:54:59.999",
          "2022-09-25 01:55:59.999",
          "2022-09-25 01:56:59.999",
          "2022-09-25 01:57:59.999",
          "2022-09-25 01:58:59.999",
          "2022-09-25 01:59:59.999",
          "2022-09-25 02:00:59.999",
          "2022-09-25 02:01:59.999",
          "2022-09-25 02:02:59.999",
          "2022-09-25 02:03:59.999",
          "2022-09-25 02:04:59.999",
          "2022-09-25 02:05:59.999",
          "2022-09-25 02:06:59.999",
          "2022-09-25 02:07:59.999",
          "2022-09-25 02:08:59.999",
          "2022-09-25 02:09:59.999",
          "2022-09-25 02:10:59.999",
          "2022-09-25 02:11:59.999",
          "2022-09-25 02:12:59.999",
          "2022-09-25 02:13:59.999",
          "2022-09-25 02:14:59.999",
          "2022-09-25 02:15:59.999",
          "2022-09-25 02:16:59.999",
          "2022-09-25 02:17:59.999",
          "2022-09-25 02:18:59.999",
          "2022-09-25 02:19:59.999",
          "2022-09-25 02:20:59.999",
          "2022-09-25 02:21:59.999",
          "2022-09-25 02:22:59.999",
          "2022-09-25 02:23:59.999",
          "2022-09-25 02:24:59.999",
          "2022-09-25 02:25:59.999",
          "2022-09-25 02:26:59.999",
          "2022-09-25 02:27:59.999",
          "2022-09-25 02:28:59.999",
          "2022-09-25 02:29:59.999",
          "2022-09-25 02:30:59.999",
          "2022-09-25 02:31:59.999",
          "2022-09-25 02:32:59.999",
          "2022-09-25 02:33:59.999",
          "2022-09-25 02:34:59.999",
          "2022-09-25 02:35:59.999",
          "2022-09-25 02:36:59.999",
          "2022-09-25 02:37:59.999",
          "2022-09-25 02:38:59.999",
          "2022-09-25 02:39:59.999",
          "2022-09-25 02:40:59.999",
          "2022-09-25 02:41:59.999",
          "2022-09-25 02:42:59.999",
          "2022-09-25 02:43:59.999",
          "2022-09-25 02:44:59.999",
          "2022-09-25 02:46:59.999",
          "2022-09-25 02:47:59.999",
          "2022-09-25 02:48:59.999",
          "2022-09-25 02:49:59.999",
          "2022-09-25 02:50:59.999",
          "2022-09-25 02:51:59.999",
          "2022-09-25 02:52:59.999",
          "2022-09-25 02:53:59.999",
          "2022-09-25 02:54:59.999",
          "2022-09-25 02:55:59.999",
          "2022-09-25 02:56:59.999",
          "2022-09-25 02:57:59.999",
          "2022-09-25 02:58:59.999",
          "2022-09-25 02:59:59.999",
          "2022-09-25 03:00:59.999",
          "2022-09-25 03:01:59.999",
          "2022-09-25 03:02:59.999",
          "2022-09-25 03:03:59.999",
          "2022-09-25 03:04:59.999",
          "2022-09-25 03:05:59.999",
          "2022-09-25 03:06:59.999",
          "2022-09-25 03:07:59.999",
          "2022-09-25 03:08:59.999",
          "2022-09-25 03:09:59.999",
          "2022-09-25 03:10:59.999",
          "2022-09-25 03:11:59.999",
          "2022-09-25 03:12:59.999",
          "2022-09-25 03:13:59.999",
          "2022-09-25 03:14:59.999",
          "2022-09-25 03:15:59.999",
          "2022-09-25 03:16:59.999",
          "2022-09-25 03:17:59.999",
          "2022-09-25 03:18:59.999",
          "2022-09-25 03:19:59.999",
          "2022-09-25 03:20:59.999",
          "2022-09-25 03:21:59.999",
          "2022-09-25 03:22:59.999",
          "2022-09-25 03:23:59.999",
          "2022-09-25 03:24:59.999",
          "2022-09-25 03:25:59.999",
          "2022-09-25 03:26:59.999",
          "2022-09-25 03:27:59.999",
          "2022-09-25 03:28:59.999",
          "2022-09-25 03:29:59.999",
          "2022-09-25 03:30:59.999",
          "2022-09-25 03:31:59.999",
          "2022-09-25 03:32:59.999",
          "2022-09-25 03:33:59.999",
          "2022-09-25 03:34:59.999",
          "2022-09-25 03:35:59.999",
          "2022-09-25 03:36:59.999",
          "2022-09-25 03:37:59.999",
          "2022-09-25 03:38:59.999",
          "2022-09-25 03:39:59.999",
          "2022-09-25 03:40:59.999",
          "2022-09-25 03:41:59.999",
          "2022-09-25 03:42:59.999",
          "2022-09-25 03:43:59.999",
          "2022-09-25 03:44:59.999",
          "2022-09-25 03:45:59.999",
          "2022-09-25 03:46:59.999",
          "2022-09-25 03:47:59.999",
          "2022-09-25 03:48:59.999",
          "2022-09-25 03:49:59.999",
          "2022-09-25 03:50:59.999",
          "2022-09-25 03:51:59.999",
          "2022-09-25 03:52:59.999",
          "2022-09-25 03:53:59.999",
          "2022-09-25 03:54:59.999",
          "2022-09-25 03:55:59.999",
          "2022-09-25 03:56:59.999",
          "2022-09-25 03:57:59.999",
          "2022-09-25 03:58:59.999",
          "2022-09-25 03:59:59.999",
          "2022-09-25 04:00:59.999",
          "2022-09-25 04:01:59.999",
          "2022-09-25 04:02:59.999",
          "2022-09-25 04:03:59.999",
          "2022-09-25 04:04:59.999",
          "2022-09-25 04:05:59.999",
          "2022-09-25 04:06:59.999",
          "2022-09-25 04:07:59.999",
          "2022-09-25 04:08:59.999",
          "2022-09-25 04:09:59.999",
          "2022-09-25 04:10:59.999",
          "2022-09-25 04:11:59.999",
          "2022-09-25 04:12:59.999",
          "2022-09-25 04:13:59.999",
          "2022-09-25 04:14:59.999",
          "2022-09-25 04:15:59.999",
          "2022-09-25 04:16:59.999",
          "2022-09-25 04:17:59.999",
          "2022-09-25 04:18:59.999",
          "2022-09-25 04:19:59.999",
          "2022-09-25 04:20:59.999",
          "2022-09-25 04:21:59.999",
          "2022-09-25 04:22:59.999",
          "2022-09-25 04:23:59.999",
          "2022-09-25 04:24:59.999",
          "2022-09-25 04:25:59.999",
          "2022-09-25 04:26:59.999",
          "2022-09-25 04:27:59.999",
          "2022-09-25 04:28:59.999",
          "2022-09-25 04:29:59.999",
          "2022-09-25 04:30:59.999",
          "2022-09-25 04:31:59.999",
          "2022-09-25 04:32:59.999",
          "2022-09-25 04:33:59.999",
          "2022-09-25 04:34:59.999",
          "2022-09-25 04:35:59.999",
          "2022-09-25 04:36:59.999",
          "2022-09-25 04:37:59.999",
          "2022-09-25 04:38:59.999",
          "2022-09-25 04:39:59.999",
          "2022-09-25 04:40:59.999",
          "2022-09-25 04:41:59.999",
          "2022-09-25 04:42:59.999",
          "2022-09-25 04:43:59.999",
          "2022-09-25 04:44:59.999",
          "2022-09-25 04:45:59.999",
          "2022-09-25 04:46:59.999",
          "2022-09-25 04:47:59.999",
          "2022-09-25 04:48:59.999",
          "2022-09-25 04:49:59.999",
          "2022-09-25 04:50:59.999",
          "2022-09-25 04:51:59.999",
          "2022-09-25 04:52:59.999",
          "2022-09-25 04:53:59.999",
          "2022-09-25 04:54:59.999",
          "2022-09-25 04:55:59.999",
          "2022-09-25 04:56:59.999",
          "2022-09-25 04:57:59.999",
          "2022-09-25 04:58:59.999",
          "2022-09-25 04:59:59.999",
          "2022-09-25 05:00:59.999",
          "2022-09-25 05:01:59.999",
          "2022-09-25 05:02:59.999",
          "2022-09-25 05:03:59.999",
          "2022-09-25 05:04:59.999",
          "2022-09-25 05:05:59.999",
          "2022-09-25 05:06:59.999",
          "2022-09-25 05:07:59.999",
          "2022-09-25 05:08:59.999",
          "2022-09-25 05:09:59.999",
          "2022-09-25 05:10:59.999",
          "2022-09-25 05:11:59.999",
          "2022-09-25 05:12:59.999",
          "2022-09-25 05:13:59.999",
          "2022-09-25 05:14:59.999",
          "2022-09-25 05:15:59.999",
          "2022-09-25 05:16:59.999",
          "2022-09-25 05:17:59.999",
          "2022-09-25 05:18:59.999",
          "2022-09-25 05:19:59.999",
          "2022-09-25 05:20:59.999",
          "2022-09-25 05:22:59.999",
          "2022-09-25 05:23:59.999",
          "2022-09-25 05:24:59.999",
          "2022-09-25 05:25:59.999",
          "2022-09-25 05:26:59.999",
          "2022-09-25 05:27:59.999",
          "2022-09-25 05:28:59.999",
          "2022-09-25 05:29:59.999",
          "2022-09-25 05:30:59.999",
          "2022-09-25 05:31:59.999",
          "2022-09-25 05:32:59.999",
          "2022-09-25 05:33:59.999",
          "2022-09-25 05:34:59.999",
          "2022-09-25 05:35:59.999",
          "2022-09-25 05:36:59.999",
          "2022-09-25 05:37:59.999",
          "2022-09-25 05:38:59.999",
          "2022-09-25 05:39:59.999",
          "2022-09-25 05:40:59.999",
          "2022-09-25 05:41:59.999",
          "2022-09-25 05:42:59.999",
          "2022-09-25 05:43:59.999",
          "2022-09-25 05:44:59.999",
          "2022-09-25 05:45:59.999",
          "2022-09-25 05:46:59.999",
          "2022-09-25 05:47:59.999",
          "2022-09-25 05:48:59.999",
          "2022-09-25 05:49:59.999",
          "2022-09-25 05:50:59.999",
          "2022-09-25 05:51:59.999",
          "2022-09-25 05:52:59.999",
          "2022-09-25 05:53:59.999",
          "2022-09-25 05:54:59.999",
          "2022-09-25 05:55:59.999",
          "2022-09-25 05:56:59.999",
          "2022-09-25 05:57:59.999",
          "2022-09-25 05:58:59.999",
          "2022-09-25 05:59:59.999",
          "2022-09-25 06:00:59.999",
          "2022-09-25 06:01:59.999",
          "2022-09-25 06:02:59.999",
          "2022-09-25 06:03:59.999",
          "2022-09-25 06:04:59.999",
          "2022-09-25 06:05:59.999",
          "2022-09-25 06:06:59.999",
          "2022-09-25 06:07:59.999",
          "2022-09-25 06:08:59.999",
          "2022-09-25 06:09:59.999",
          "2022-09-25 06:10:59.999",
          "2022-09-25 06:11:59.999",
          "2022-09-25 06:12:59.999",
          "2022-09-25 06:13:59.999",
          "2022-09-25 06:14:59.999",
          "2022-09-25 06:15:59.999",
          "2022-09-25 06:16:59.999",
          "2022-09-25 06:17:59.999",
          "2022-09-25 06:18:59.999",
          "2022-09-25 06:19:59.999",
          "2022-09-25 06:20:59.999",
          "2022-09-25 06:21:59.999",
          "2022-09-25 06:22:59.999",
          "2022-09-25 06:23:59.999",
          "2022-09-25 06:24:59.999",
          "2022-09-25 06:25:59.999",
          "2022-09-25 06:26:59.999",
          "2022-09-25 06:27:59.999",
          "2022-09-25 06:28:59.999",
          "2022-09-25 06:29:59.999",
          "2022-09-25 06:30:59.999",
          "2022-09-25 06:31:59.999",
          "2022-09-25 06:32:59.999",
          "2022-09-25 06:33:59.999",
          "2022-09-25 06:34:59.999",
          "2022-09-25 06:35:59.999",
          "2022-09-25 06:36:59.999",
          "2022-09-25 06:37:59.999",
          "2022-09-25 06:38:59.999",
          "2022-09-25 06:39:59.999",
          "2022-09-25 06:40:59.999",
          "2022-09-25 06:41:59.999",
          "2022-09-25 06:42:59.999",
          "2022-09-25 06:43:59.999",
          "2022-09-25 06:44:59.999",
          "2022-09-25 06:45:59.999",
          "2022-09-25 06:46:59.999",
          "2022-09-25 06:47:59.999",
          "2022-09-25 06:48:59.999",
          "2022-09-25 06:49:59.999",
          "2022-09-25 06:50:59.999",
          "2022-09-25 06:51:59.999",
          "2022-09-25 06:52:59.999",
          "2022-09-25 06:53:59.999",
          "2022-09-25 06:54:59.999",
          "2022-09-25 06:55:59.999",
          "2022-09-25 06:56:59.999",
          "2022-09-25 06:57:59.999",
          "2022-09-25 06:58:59.999",
          "2022-09-25 06:59:59.999",
          "2022-09-25 07:00:59.999",
          "2022-09-25 07:01:59.999",
          "2022-09-25 07:02:59.999",
          "2022-09-25 07:03:59.999",
          "2022-09-25 07:04:59.999",
          "2022-09-25 07:05:59.999",
          "2022-09-25 07:06:59.999",
          "2022-09-25 07:07:59.999",
          "2022-09-25 07:08:59.999",
          "2022-09-25 07:09:59.999",
          "2022-09-25 07:11:59.999",
          "2022-09-25 07:12:59.999",
          "2022-09-25 07:13:59.999",
          "2022-09-25 07:14:59.999",
          "2022-09-25 07:15:59.999",
          "2022-09-25 07:16:59.999",
          "2022-09-25 07:17:59.999",
          "2022-09-25 07:18:59.999",
          "2022-09-25 07:19:59.999",
          "2022-09-25 07:20:59.999",
          "2022-09-25 07:21:59.999",
          "2022-09-25 07:22:59.999",
          "2022-09-25 07:23:59.999",
          "2022-09-25 07:24:59.999",
          "2022-09-25 07:25:59.999",
          "2022-09-25 07:26:59.999",
          "2022-09-25 07:27:59.999",
          "2022-09-25 07:28:59.999",
          "2022-09-25 07:29:59.999",
          "2022-09-25 07:30:59.999",
          "2022-09-25 07:31:59.999",
          "2022-09-25 07:32:59.999",
          "2022-09-25 07:33:59.999",
          "2022-09-25 07:34:59.999",
          "2022-09-25 07:35:59.999",
          "2022-09-25 07:36:59.999",
          "2022-09-25 07:37:59.999",
          "2022-09-25 07:38:59.999",
          "2022-09-25 07:39:59.999",
          "2022-09-25 07:40:59.999",
          "2022-09-25 07:41:59.999",
          "2022-09-25 07:42:59.999",
          "2022-09-25 07:43:59.999",
          "2022-09-25 07:44:59.999",
          "2022-09-25 07:45:59.999",
          "2022-09-25 07:46:59.999",
          "2022-09-25 07:47:59.999",
          "2022-09-25 07:48:59.999",
          "2022-09-25 07:49:59.999",
          "2022-09-25 07:50:59.999",
          "2022-09-25 07:51:59.999",
          "2022-09-25 07:52:59.999",
          "2022-09-25 07:53:59.999",
          "2022-09-25 07:54:59.999",
          "2022-09-25 07:55:59.999",
          "2022-09-25 07:56:59.999",
          "2022-09-25 07:57:59.999",
          "2022-09-25 07:58:59.999",
          "2022-09-25 07:59:59.999",
          "2022-09-25 08:00:59.999",
          "2022-09-25 08:01:59.999",
          "2022-09-25 08:02:59.999",
          "2022-09-25 08:03:59.999",
          "2022-09-25 08:04:59.999",
          "2022-09-25 08:05:59.999",
          "2022-09-25 08:06:59.999",
          "2022-09-25 08:07:59.999",
          "2022-09-25 08:08:59.999",
          "2022-09-25 08:09:59.999",
          "2022-09-25 08:10:59.999",
          "2022-09-25 08:11:59.999",
          "2022-09-25 08:12:59.999",
          "2022-09-25 08:13:59.999",
          "2022-09-25 08:14:59.999",
          "2022-09-25 08:15:59.999",
          "2022-09-25 08:16:59.999",
          "2022-09-25 08:17:59.999",
          "2022-09-25 08:18:59.999",
          "2022-09-25 08:19:59.999",
          "2022-09-25 08:20:59.999",
          "2022-09-25 08:21:59.999",
          "2022-09-25 08:22:59.999",
          "2022-09-25 08:23:59.999",
          "2022-09-25 08:24:59.999",
          "2022-09-25 08:25:59.999",
          "2022-09-25 08:26:59.999",
          "2022-09-25 08:27:59.999",
          "2022-09-25 08:28:59.999",
          "2022-09-25 08:29:59.999",
          "2022-09-25 08:30:59.999",
          "2022-09-25 08:31:59.999",
          "2022-09-25 08:32:59.999",
          "2022-09-25 08:33:59.999",
          "2022-09-25 08:34:59.999",
          "2022-09-25 08:35:59.999",
          "2022-09-25 08:36:59.999",
          "2022-09-25 08:37:59.999",
          "2022-09-25 08:38:59.999",
          "2022-09-25 08:39:59.999",
          "2022-09-25 08:40:59.999",
          "2022-09-25 08:41:59.999",
          "2022-09-25 08:42:59.999",
          "2022-09-25 08:43:59.999",
          "2022-09-25 08:44:59.999",
          "2022-09-25 08:45:59.999",
          "2022-09-25 08:46:59.999",
          "2022-09-25 08:47:59.999",
          "2022-09-25 08:48:59.999",
          "2022-09-25 08:49:59.999",
          "2022-09-25 08:50:59.999",
          "2022-09-25 08:51:59.999",
          "2022-09-25 08:52:59.999",
          "2022-09-25 08:53:59.999",
          "2022-09-25 08:54:59.999",
          "2022-09-25 08:55:59.999",
          "2022-09-25 08:56:59.999",
          "2022-09-25 08:57:59.999",
          "2022-09-25 08:58:59.999",
          "2022-09-25 08:59:59.999",
          "2022-09-25 09:00:59.999",
          "2022-09-25 09:01:59.999",
          "2022-09-25 09:02:59.999",
          "2022-09-25 09:03:59.999",
          "2022-09-25 09:04:59.999",
          "2022-09-25 09:05:59.999",
          "2022-09-25 09:06:59.999",
          "2022-09-25 09:07:59.999",
          "2022-09-25 09:08:59.999",
          "2022-09-25 09:09:59.999",
          "2022-09-25 09:10:59.999",
          "2022-09-25 09:11:59.999",
          "2022-09-25 09:12:59.999",
          "2022-09-25 09:13:59.999",
          "2022-09-25 09:14:59.999",
          "2022-09-25 09:15:59.999",
          "2022-09-25 09:16:59.999",
          "2022-09-25 09:17:59.999",
          "2022-09-25 09:18:59.999",
          "2022-09-25 09:19:59.999",
          "2022-09-25 09:20:59.999",
          "2022-09-25 09:21:59.999",
          "2022-09-25 09:22:59.999",
          "2022-09-25 09:23:59.999",
          "2022-09-25 09:24:59.999",
          "2022-09-25 09:25:59.999",
          "2022-09-25 09:26:59.999",
          "2022-09-25 09:27:59.999",
          "2022-09-25 09:28:59.999",
          "2022-09-25 09:29:59.999",
          "2022-09-25 09:30:59.999",
          "2022-09-25 09:31:59.999",
          "2022-09-25 09:32:59.999",
          "2022-09-25 09:33:59.999",
          "2022-09-25 09:34:59.999",
          "2022-09-25 09:35:59.999",
          "2022-09-25 09:36:59.999",
          "2022-09-25 09:37:59.999",
          "2022-09-25 09:38:59.999",
          "2022-09-25 09:39:59.999",
          "2022-09-25 09:40:59.999",
          "2022-09-25 09:42:59.999",
          "2022-09-25 09:43:59.999",
          "2022-09-25 09:44:59.999",
          "2022-09-25 09:45:59.999",
          "2022-09-25 09:46:59.999",
          "2022-09-25 09:47:59.999",
          "2022-09-25 09:48:59.999",
          "2022-09-25 09:49:59.999",
          "2022-09-25 09:50:59.999",
          "2022-09-25 09:51:59.999",
          "2022-09-25 09:52:59.999",
          "2022-09-25 09:53:59.999",
          "2022-09-25 09:55:59.999",
          "2022-09-25 09:56:59.999",
          "2022-09-25 09:57:59.999",
          "2022-09-25 09:58:59.999",
          "2022-09-25 09:59:59.999",
          "2022-09-25 10:00:59.999",
          "2022-09-25 10:01:59.999",
          "2022-09-25 10:02:59.999",
          "2022-09-25 10:03:59.999",
          "2022-09-25 10:04:59.999",
          "2022-09-25 10:05:59.999",
          "2022-09-25 10:06:59.999",
          "2022-09-25 10:07:59.999",
          "2022-09-25 10:08:59.999",
          "2022-09-25 10:09:59.999",
          "2022-09-25 10:10:59.999",
          "2022-09-25 10:11:59.999",
          "2022-09-25 10:12:59.999",
          "2022-09-25 10:13:59.999",
          "2022-09-25 10:14:59.999",
          "2022-09-25 10:15:59.999",
          "2022-09-25 10:16:59.999",
          "2022-09-25 10:17:59.999",
          "2022-09-25 10:18:59.999",
          "2022-09-25 10:19:59.999",
          "2022-09-25 10:20:59.999",
          "2022-09-25 10:21:59.999",
          "2022-09-25 10:22:59.999",
          "2022-09-25 10:23:59.999",
          "2022-09-25 10:24:59.999",
          "2022-09-25 10:25:59.999",
          "2022-09-25 10:26:59.999",
          "2022-09-25 10:27:59.999",
          "2022-09-25 10:28:59.999",
          "2022-09-25 10:29:59.999",
          "2022-09-25 10:30:59.999",
          "2022-09-25 10:31:59.999",
          "2022-09-25 10:32:59.999",
          "2022-09-25 10:33:59.999",
          "2022-09-25 10:34:59.999",
          "2022-09-25 10:35:59.999",
          "2022-09-25 10:36:59.999",
          "2022-09-25 10:37:59.999",
          "2022-09-25 10:38:59.999",
          "2022-09-25 10:39:59.999",
          "2022-09-25 10:40:59.999",
          "2022-09-25 10:41:59.999",
          "2022-09-25 10:42:59.999",
          "2022-09-25 10:43:59.999",
          "2022-09-25 10:44:59.999",
          "2022-09-25 10:45:59.999",
          "2022-09-25 10:47:59.999",
          "2022-09-25 10:48:59.999",
          "2022-09-25 10:49:59.999",
          "2022-09-25 10:50:59.999",
          "2022-09-25 10:51:59.999",
          "2022-09-25 10:52:59.999",
          "2022-09-25 10:53:59.999",
          "2022-09-25 10:54:59.999",
          "2022-09-25 10:55:59.999",
          "2022-09-25 10:56:59.999",
          "2022-09-25 10:57:59.999",
          "2022-09-25 10:58:59.999",
          "2022-09-25 10:59:59.999",
          "2022-09-25 11:00:59.999",
          "2022-09-25 11:01:59.999",
          "2022-09-25 11:02:59.999",
          "2022-09-25 11:03:59.999",
          "2022-09-25 11:04:59.999",
          "2022-09-25 11:05:59.999",
          "2022-09-25 11:06:59.999",
          "2022-09-25 11:07:59.999",
          "2022-09-25 11:08:59.999",
          "2022-09-25 11:09:59.999",
          "2022-09-25 11:10:59.999",
          "2022-09-25 11:11:59.999",
          "2022-09-25 11:12:59.999",
          "2022-09-25 11:13:59.999",
          "2022-09-25 11:14:59.999",
          "2022-09-25 11:15:59.999",
          "2022-09-25 11:16:59.999",
          "2022-09-25 11:17:59.999",
          "2022-09-25 11:18:59.999",
          "2022-09-25 11:19:59.999",
          "2022-09-25 11:20:59.999",
          "2022-09-25 11:21:59.999",
          "2022-09-25 11:22:59.999",
          "2022-09-25 11:23:59.999",
          "2022-09-25 11:24:59.999",
          "2022-09-25 11:25:59.999",
          "2022-09-25 11:26:59.999",
          "2022-09-25 11:27:59.999",
          "2022-09-25 11:28:59.999",
          "2022-09-25 11:29:59.999",
          "2022-09-25 11:30:59.999",
          "2022-09-25 11:31:59.999",
          "2022-09-25 11:32:59.999",
          "2022-09-25 11:33:59.999",
          "2022-09-25 11:34:59.999",
          "2022-09-25 11:35:59.999",
          "2022-09-25 11:36:59.999",
          "2022-09-25 11:37:59.999",
          "2022-09-25 11:38:59.999",
          "2022-09-25 11:39:59.999",
          "2022-09-25 11:40:59.999",
          "2022-09-25 11:41:59.999",
          "2022-09-25 11:42:59.999",
          "2022-09-25 11:43:59.999",
          "2022-09-25 11:44:59.999",
          "2022-09-25 11:45:59.999",
          "2022-09-25 11:46:59.999",
          "2022-09-25 11:47:59.999",
          "2022-09-25 11:48:59.999",
          "2022-09-25 11:52:59.999",
          "2022-09-25 11:54:59.999",
          "2022-09-25 11:56:59.999",
          "2022-09-25 11:57:59.999",
          "2022-09-25 11:58:59.999",
          "2022-09-25 11:59:59.999",
          "2022-09-25 12:01:59.999",
          "2022-09-25 12:02:59.999",
          "2022-09-25 12:03:59.999",
          "2022-09-25 12:04:59.999",
          "2022-09-25 12:05:59.999",
          "2022-09-25 12:06:59.999",
          "2022-09-25 12:07:59.999",
          "2022-09-25 12:08:59.999",
          "2022-09-25 12:09:59.999",
          "2022-09-25 12:10:59.999",
          "2022-09-25 12:11:59.999",
          "2022-09-25 12:13:59.999",
          "2022-09-25 12:14:59.999",
          "2022-09-25 12:15:59.999",
          "2022-09-25 12:17:59.999",
          "2022-09-25 12:18:59.999",
          "2022-09-25 12:21:59.999",
          "2022-09-25 12:22:59.999",
          "2022-09-25 12:23:59.999",
          "2022-09-25 12:24:59.999",
          "2022-09-25 12:25:59.999",
          "2022-09-25 12:26:59.999",
          "2022-09-25 12:27:59.999",
          "2022-09-25 12:28:59.999",
          "2022-09-25 12:29:59.999",
          "2022-09-25 12:30:59.999",
          "2022-09-25 12:31:59.999",
          "2022-09-25 12:32:59.999",
          "2022-09-25 12:33:59.999",
          "2022-09-25 12:34:59.999",
          "2022-09-25 12:35:59.999",
          "2022-09-25 12:36:59.999",
          "2022-09-25 12:37:59.999",
          "2022-09-25 12:38:59.999",
          "2022-09-25 12:39:59.999",
          "2022-09-25 12:40:59.999",
          "2022-09-25 12:41:59.999",
          "2022-09-25 12:42:59.999",
          "2022-09-25 12:43:59.999",
          "2022-09-25 12:44:59.999",
          "2022-09-25 12:45:59.999",
          "2022-09-25 12:46:59.999",
          "2022-09-25 12:47:59.999",
          "2022-09-25 12:48:59.999",
          "2022-09-25 12:49:59.999",
          "2022-09-25 12:50:59.999",
          "2022-09-25 12:51:59.999",
          "2022-09-25 12:52:59.999",
          "2022-09-25 12:53:59.999",
          "2022-09-25 12:54:59.999",
          "2022-09-25 12:55:59.999",
          "2022-09-25 12:56:59.999",
          "2022-09-25 12:57:59.999",
          "2022-09-25 12:58:59.999",
          "2022-09-25 12:59:59.999",
          "2022-09-25 13:00:59.999",
          "2022-09-25 13:01:59.999",
          "2022-09-25 13:02:59.999",
          "2022-09-25 13:03:59.999",
          "2022-09-25 13:04:59.999",
          "2022-09-25 13:05:59.999",
          "2022-09-25 13:06:59.999",
          "2022-09-25 13:07:59.999",
          "2022-09-25 13:08:59.999",
          "2022-09-25 13:09:59.999",
          "2022-09-25 13:10:59.999",
          "2022-09-25 13:11:59.999",
          "2022-09-25 13:12:59.999",
          "2022-09-25 13:13:59.999",
          "2022-09-25 13:14:59.999",
          "2022-09-25 13:15:59.999",
          "2022-09-25 13:16:59.999",
          "2022-09-25 13:17:59.999",
          "2022-09-25 13:18:59.999",
          "2022-09-25 13:19:59.999",
          "2022-09-25 13:20:59.999",
          "2022-09-25 13:21:59.999",
          "2022-09-25 13:22:59.999",
          "2022-09-25 13:23:59.999",
          "2022-09-25 13:24:59.999",
          "2022-09-25 13:25:59.999",
          "2022-09-25 13:26:59.999",
          "2022-09-25 13:27:59.999",
          "2022-09-25 13:28:59.999",
          "2022-09-25 13:29:59.999",
          "2022-09-25 13:30:59.999",
          "2022-09-25 13:31:59.999",
          "2022-09-25 13:32:59.999",
          "2022-09-25 13:33:59.999",
          "2022-09-25 13:34:59.999",
          "2022-09-25 13:35:59.999",
          "2022-09-25 13:36:59.999",
          "2022-09-25 13:37:59.999",
          "2022-09-25 13:38:59.999",
          "2022-09-25 13:40:59.999",
          "2022-09-25 13:41:59.999",
          "2022-09-25 13:42:59.999",
          "2022-09-25 13:43:59.999",
          "2022-09-25 13:44:59.999",
          "2022-09-25 13:45:59.999",
          "2022-09-25 13:46:59.999",
          "2022-09-25 13:47:59.999",
          "2022-09-25 13:48:59.999",
          "2022-09-25 13:49:59.999",
          "2022-09-25 13:50:59.999",
          "2022-09-25 13:51:59.999",
          "2022-09-25 13:52:59.999",
          "2022-09-25 13:53:59.999",
          "2022-09-25 13:54:59.999",
          "2022-09-25 13:55:59.999",
          "2022-09-25 13:56:59.999",
          "2022-09-25 13:57:59.999",
          "2022-09-25 13:58:59.999",
          "2022-09-25 13:59:59.999",
          "2022-09-25 14:00:59.999",
          "2022-09-25 14:01:59.999",
          "2022-09-25 14:02:59.999",
          "2022-09-25 14:03:59.999",
          "2022-09-25 14:04:59.999",
          "2022-09-25 14:05:59.999",
          "2022-09-25 14:06:59.999",
          "2022-09-25 14:07:59.999",
          "2022-09-25 14:08:59.999",
          "2022-09-25 14:09:59.999",
          "2022-09-25 14:10:59.999",
          "2022-09-25 14:11:59.999",
          "2022-09-25 14:12:59.999",
          "2022-09-25 14:13:59.999",
          "2022-09-25 14:14:59.999",
          "2022-09-25 14:15:59.999",
          "2022-09-25 14:16:59.999",
          "2022-09-25 14:17:59.999",
          "2022-09-25 14:18:59.999",
          "2022-09-25 14:19:59.999",
          "2022-09-25 14:20:59.999",
          "2022-09-25 14:21:59.999",
          "2022-09-25 14:22:59.999",
          "2022-09-25 14:23:59.999",
          "2022-09-25 14:24:59.999",
          "2022-09-25 14:25:59.999",
          "2022-09-25 14:26:59.999",
          "2022-09-25 14:27:59.999",
          "2022-09-25 14:28:59.999",
          "2022-09-25 14:29:59.999",
          "2022-09-25 14:30:59.999",
          "2022-09-25 14:31:59.999",
          "2022-09-25 14:32:59.999",
          "2022-09-25 14:33:59.999",
          "2022-09-25 14:34:59.999",
          "2022-09-25 14:35:59.999",
          "2022-09-25 14:36:59.999",
          "2022-09-25 14:37:59.999",
          "2022-09-25 14:38:59.999",
          "2022-09-25 14:39:59.999",
          "2022-09-25 14:40:59.999",
          "2022-09-25 14:41:59.999",
          "2022-09-25 14:42:59.999",
          "2022-09-25 14:43:59.999",
          "2022-09-25 14:44:59.999",
          "2022-09-25 14:45:59.999",
          "2022-09-25 14:46:59.999",
          "2022-09-25 14:47:59.999",
          "2022-09-25 14:48:59.999",
          "2022-09-25 14:49:59.999",
          "2022-09-25 14:50:59.999",
          "2022-09-25 14:51:59.999",
          "2022-09-25 14:52:59.999",
          "2022-09-25 14:53:59.999",
          "2022-09-25 14:54:59.999",
          "2022-09-25 14:55:59.999",
          "2022-09-25 14:56:59.999",
          "2022-09-25 14:57:59.999",
          "2022-09-25 14:58:59.999",
          "2022-09-25 14:59:59.999",
          "2022-09-25 15:00:59.999",
          "2022-09-25 15:01:59.999",
          "2022-09-25 15:02:59.999",
          "2022-09-25 15:03:59.999",
          "2022-09-25 15:04:59.999",
          "2022-09-25 15:05:59.999",
          "2022-09-25 15:06:59.999",
          "2022-09-25 15:07:59.999",
          "2022-09-25 15:08:59.999",
          "2022-09-25 15:09:59.999",
          "2022-09-25 15:10:59.999",
          "2022-09-25 15:11:59.999",
          "2022-09-25 15:12:59.999",
          "2022-09-25 15:13:59.999",
          "2022-09-25 15:14:59.999",
          "2022-09-25 15:15:59.999",
          "2022-09-25 15:16:59.999",
          "2022-09-25 15:17:59.999",
          "2022-09-25 15:18:59.999",
          "2022-09-25 15:19:59.999",
          "2022-09-25 15:20:59.999",
          "2022-09-25 15:21:59.999",
          "2022-09-25 15:22:59.999",
          "2022-09-25 15:23:59.999",
          "2022-09-25 15:24:59.999",
          "2022-09-25 15:25:59.999",
          "2022-09-25 15:26:59.999",
          "2022-09-25 15:27:59.999",
          "2022-09-25 15:28:59.999",
          "2022-09-25 15:29:59.999",
          "2022-09-25 15:30:59.999",
          "2022-09-25 15:31:59.999",
          "2022-09-25 15:32:59.999",
          "2022-09-25 15:33:59.999",
          "2022-09-25 15:34:59.999",
          "2022-09-25 15:35:59.999",
          "2022-09-25 15:36:59.999",
          "2022-09-25 15:37:59.999",
          "2022-09-25 15:38:59.999",
          "2022-09-25 15:39:59.999",
          "2022-09-25 15:40:59.999",
          "2022-09-25 15:41:59.999",
          "2022-09-25 15:42:59.999",
          "2022-09-25 15:43:59.999",
          "2022-09-25 15:44:59.999",
          "2022-09-25 15:45:59.999",
          "2022-09-25 15:46:59.999",
          "2022-09-25 15:47:59.999",
          "2022-09-25 15:48:59.999",
          "2022-09-25 15:49:59.999",
          "2022-09-25 15:50:59.999",
          "2022-09-25 15:51:59.999",
          "2022-09-25 15:52:59.999",
          "2022-09-25 15:53:59.999",
          "2022-09-25 15:54:59.999",
          "2022-09-25 15:55:59.999",
          "2022-09-25 15:56:59.999",
          "2022-09-25 15:57:59.999",
          "2022-09-25 15:58:59.999",
          "2022-09-25 15:59:59.999",
          "2022-09-25 16:00:59.999",
          "2022-09-25 16:01:59.999",
          "2022-09-25 16:02:59.999",
          "2022-09-25 16:03:59.999",
          "2022-09-25 16:04:59.999",
          "2022-09-25 16:05:59.999",
          "2022-09-25 16:06:59.999",
          "2022-09-25 16:07:59.999",
          "2022-09-25 16:08:59.999",
          "2022-09-25 16:09:59.999",
          "2022-09-25 16:10:59.999",
          "2022-09-25 16:11:59.999",
          "2022-09-25 16:12:59.999",
          "2022-09-25 16:13:59.999",
          "2022-09-25 16:14:59.999",
          "2022-09-25 16:15:59.999",
          "2022-09-25 16:16:59.999",
          "2022-09-25 16:17:59.999",
          "2022-09-25 16:18:59.999",
          "2022-09-25 16:19:59.999",
          "2022-09-25 16:20:59.999",
          "2022-09-25 16:21:59.999",
          "2022-09-25 16:22:59.999",
          "2022-09-25 16:23:59.999",
          "2022-09-25 16:24:59.999",
          "2022-09-25 16:25:59.999",
          "2022-09-25 16:26:59.999",
          "2022-09-25 16:27:59.999",
          "2022-09-25 16:28:59.999",
          "2022-09-25 16:29:59.999",
          "2022-09-25 16:30:59.999",
          "2022-09-25 16:31:59.999",
          "2022-09-25 16:32:59.999",
          "2022-09-25 16:33:59.999",
          "2022-09-25 16:34:59.999",
          "2022-09-25 16:35:59.999",
          "2022-09-25 16:36:59.999",
          "2022-09-25 16:37:59.999",
          "2022-09-25 16:39:59.999",
          "2022-09-25 16:40:59.999",
          "2022-09-25 16:41:59.999",
          "2022-09-25 16:42:59.999",
          "2022-09-25 16:43:59.999",
          "2022-09-25 16:44:59.999",
          "2022-09-25 16:45:59.999",
          "2022-09-25 16:46:59.999",
          "2022-09-25 16:47:59.999",
          "2022-09-25 16:48:59.999",
          "2022-09-25 16:49:59.999",
          "2022-09-25 16:50:59.999",
          "2022-09-25 16:51:59.999",
          "2022-09-25 16:52:59.999",
          "2022-09-25 16:53:59.999",
          "2022-09-25 16:54:59.999",
          "2022-09-25 16:55:59.999",
          "2022-09-25 16:56:59.999",
          "2022-09-25 16:57:59.999",
          "2022-09-25 16:58:59.999",
          "2022-09-25 16:59:59.999",
          "2022-09-25 17:00:59.999",
          "2022-09-25 17:01:59.999",
          "2022-09-25 17:02:59.999",
          "2022-09-25 17:03:59.999",
          "2022-09-25 17:04:59.999",
          "2022-09-25 17:05:59.999",
          "2022-09-25 17:06:59.999",
          "2022-09-25 17:07:59.999",
          "2022-09-25 17:08:59.999",
          "2022-09-25 17:09:59.999",
          "2022-09-25 17:10:59.999",
          "2022-09-25 17:11:59.999",
          "2022-09-25 17:12:59.999",
          "2022-09-25 17:13:59.999",
          "2022-09-25 17:14:59.999",
          "2022-09-25 17:15:59.999",
          "2022-09-25 17:16:59.999",
          "2022-09-25 17:17:59.999",
          "2022-09-25 17:18:59.999",
          "2022-09-25 17:19:59.999",
          "2022-09-25 17:20:59.999",
          "2022-09-25 17:21:59.999",
          "2022-09-25 17:22:59.999",
          "2022-09-25 17:23:59.999",
          "2022-09-25 17:25:59.999",
          "2022-09-25 17:26:59.999",
          "2022-09-25 17:27:59.999",
          "2022-09-25 17:28:59.999",
          "2022-09-25 17:29:59.999",
          "2022-09-25 17:30:59.999",
          "2022-09-25 17:31:59.999",
          "2022-09-25 17:32:59.999",
          "2022-09-25 17:33:59.999",
          "2022-09-25 17:34:59.999",
          "2022-09-25 17:35:59.999",
          "2022-09-25 17:36:59.999",
          "2022-09-25 17:37:59.999",
          "2022-09-25 17:38:59.999",
          "2022-09-25 17:39:59.999",
          "2022-09-25 17:40:59.999",
          "2022-09-25 17:41:59.999",
          "2022-09-25 17:42:59.999",
          "2022-09-25 17:43:59.999",
          "2022-09-25 17:45:59.999",
          "2022-09-25 17:46:59.999",
          "2022-09-25 17:47:59.999",
          "2022-09-25 17:48:59.999",
          "2022-09-25 17:49:59.999",
          "2022-09-25 17:50:59.999",
          "2022-09-25 17:51:59.999",
          "2022-09-25 17:52:59.999",
          "2022-09-25 17:53:59.999",
          "2022-09-25 17:54:59.999",
          "2022-09-25 17:55:59.999",
          "2022-09-25 17:56:59.999",
          "2022-09-25 17:57:59.999",
          "2022-09-25 17:58:59.999",
          "2022-09-25 17:59:59.999",
          "2022-09-25 18:00:59.999",
          "2022-09-25 18:01:59.999",
          "2022-09-25 18:02:59.999",
          "2022-09-25 18:03:59.999",
          "2022-09-25 18:04:59.999",
          "2022-09-25 18:05:59.999",
          "2022-09-25 18:06:59.999",
          "2022-09-25 18:07:59.999",
          "2022-09-25 18:08:59.999",
          "2022-09-25 18:09:59.999",
          "2022-09-25 18:10:59.999",
          "2022-09-25 18:11:59.999",
          "2022-09-25 18:12:59.999",
          "2022-09-25 18:13:59.999",
          "2022-09-25 18:14:59.999",
          "2022-09-25 18:15:59.999",
          "2022-09-25 18:16:59.999",
          "2022-09-25 18:17:59.999",
          "2022-09-25 18:18:59.999",
          "2022-09-25 18:19:59.999",
          "2022-09-25 18:20:59.999",
          "2022-09-25 18:21:59.999",
          "2022-09-25 18:22:59.999",
          "2022-09-25 18:23:59.999",
          "2022-09-25 18:24:59.999",
          "2022-09-25 18:25:59.999",
          "2022-09-25 18:26:59.999",
          "2022-09-25 18:27:59.999",
          "2022-09-25 18:28:59.999",
          "2022-09-25 18:29:59.999",
          "2022-09-25 18:30:59.999",
          "2022-09-25 18:31:59.999",
          "2022-09-25 18:32:59.999",
          "2022-09-25 18:33:59.999",
          "2022-09-25 18:34:59.999",
          "2022-09-25 18:35:59.999",
          "2022-09-25 18:36:59.999",
          "2022-09-25 18:38:59.999",
          "2022-09-25 18:39:59.999",
          "2022-09-25 18:40:59.999",
          "2022-09-25 18:41:59.999",
          "2022-09-25 18:42:59.999",
          "2022-09-25 18:43:59.999",
          "2022-09-25 18:44:59.999",
          "2022-09-25 18:45:59.999",
          "2022-09-25 18:46:59.999",
          "2022-09-25 18:47:59.999",
          "2022-09-25 18:48:59.999",
          "2022-09-25 18:49:59.999",
          "2022-09-25 18:50:59.999",
          "2022-09-25 18:51:59.999",
          "2022-09-25 18:52:59.999",
          "2022-09-25 18:53:59.999",
          "2022-09-25 18:54:59.999",
          "2022-09-25 18:55:59.999",
          "2022-09-25 18:56:59.999",
          "2022-09-25 18:57:59.999",
          "2022-09-25 18:58:59.999",
          "2022-09-25 18:59:59.999",
          "2022-09-25 19:00:59.999",
          "2022-09-25 19:01:59.999",
          "2022-09-25 19:02:59.999",
          "2022-09-25 19:03:59.999",
          "2022-09-25 19:04:59.999",
          "2022-09-25 19:05:59.999",
          "2022-09-25 19:06:59.999",
          "2022-09-25 19:07:59.999",
          "2022-09-25 19:08:59.999",
          "2022-09-25 19:09:59.999",
          "2022-09-25 19:10:59.999",
          "2022-09-25 19:11:59.999",
          "2022-09-25 19:12:59.999",
          "2022-09-25 19:13:59.999",
          "2022-09-25 19:14:59.999",
          "2022-09-25 19:15:59.999",
          "2022-09-25 19:16:59.999",
          "2022-09-25 19:17:59.999",
          "2022-09-25 19:18:59.999",
          "2022-09-25 19:19:59.999",
          "2022-09-25 19:20:59.999",
          "2022-09-25 19:21:59.999",
          "2022-09-25 19:22:59.999",
          "2022-09-25 19:23:59.999",
          "2022-09-25 19:24:59.999",
          "2022-09-25 19:25:59.999",
          "2022-09-25 19:26:59.999",
          "2022-09-25 19:27:59.999",
          "2022-09-25 19:28:59.999",
          "2022-09-25 19:29:59.999",
          "2022-09-25 19:30:59.999",
          "2022-09-25 19:31:59.999",
          "2022-09-25 19:32:59.999",
          "2022-09-25 19:33:59.999",
          "2022-09-25 19:34:59.999",
          "2022-09-25 19:35:59.999",
          "2022-09-25 19:36:59.999",
          "2022-09-25 19:37:59.999",
          "2022-09-25 19:38:59.999",
          "2022-09-25 19:39:59.999",
          "2022-09-25 19:40:59.999",
          "2022-09-25 19:41:59.999",
          "2022-09-25 19:42:59.999",
          "2022-09-25 19:43:59.999",
          "2022-09-25 19:44:59.999",
          "2022-09-25 19:45:59.999",
          "2022-09-25 19:46:59.999",
          "2022-09-25 19:47:59.999",
          "2022-09-25 19:48:59.999",
          "2022-09-25 19:49:59.999",
          "2022-09-25 19:50:59.999",
          "2022-09-25 19:51:59.999",
          "2022-09-25 19:52:59.999",
          "2022-09-25 19:53:59.999",
          "2022-09-25 19:54:59.999",
          "2022-09-25 19:55:59.999",
          "2022-09-25 19:56:59.999",
          "2022-09-25 19:57:59.999",
          "2022-09-25 19:58:59.999",
          "2022-09-25 19:59:59.999",
          "2022-09-25 20:00:59.999",
          "2022-09-25 20:01:59.999",
          "2022-09-25 20:02:59.999",
          "2022-09-25 20:03:59.999",
          "2022-09-25 20:04:59.999",
          "2022-09-25 20:05:59.999",
          "2022-09-25 20:06:59.999",
          "2022-09-25 20:07:59.999",
          "2022-09-25 20:08:59.999",
          "2022-09-25 20:09:59.999",
          "2022-09-25 20:10:59.999",
          "2022-09-25 20:11:59.999",
          "2022-09-25 20:12:59.999",
          "2022-09-25 20:13:59.999",
          "2022-09-25 20:14:59.999",
          "2022-09-25 20:15:59.999",
          "2022-09-25 20:16:59.999",
          "2022-09-25 20:18:59.999",
          "2022-09-25 20:19:59.999",
          "2022-09-25 20:20:59.999",
          "2022-09-25 20:21:59.999",
          "2022-09-25 20:22:59.999",
          "2022-09-25 20:23:59.999",
          "2022-09-25 20:24:59.999",
          "2022-09-25 20:25:59.999",
          "2022-09-25 20:26:59.999",
          "2022-09-25 20:27:59.999",
          "2022-09-25 20:28:59.999",
          "2022-09-25 20:29:59.999",
          "2022-09-25 20:30:59.999",
          "2022-09-25 20:31:59.999",
          "2022-09-25 20:32:59.999",
          "2022-09-25 20:33:59.999",
          "2022-09-25 20:34:59.999",
          "2022-09-25 20:35:59.999",
          "2022-09-25 20:36:59.999",
          "2022-09-25 20:37:59.999",
          "2022-09-25 20:38:59.999",
          "2022-09-25 20:39:59.999",
          "2022-09-25 20:40:59.999"
         ]
        }
       ],
       "layout": {
        "annotations": [
         {
          "arrowcolor": "green",
          "arrowhead": 5,
          "arrowwidth": 2,
          "ay": -10,
          "font": {
           "color": "green"
          },
          "hovertext": "2022-09-25 06:59:47.118000 buy at 19025.1 ",
          "showarrow": true,
          "text": "buy",
          "x": "2022-09-25T06:59:47.118000",
          "y": 19025.1
         },
         {
          "arrowcolor": "red",
          "arrowhead": 5,
          "arrowwidth": 2,
          "ay": -20,
          "font": {
           "color": "red"
          },
          "hovertext": "2022-09-25 09:41:30.259000 sell at 19006.17 , profit: -0.01893",
          "showarrow": true,
          "text": "sell",
          "x": "2022-09-25T09:41:30.259000",
          "y": 19006.17
         },
         {
          "arrowcolor": "green",
          "arrowhead": 5,
          "arrowwidth": 2,
          "ay": -30,
          "font": {
           "color": "green"
          },
          "hovertext": "2022-09-25 09:50:04.559000 buy at 19035.8 ",
          "showarrow": true,
          "text": "buy",
          "x": "2022-09-25T09:50:04.559000",
          "y": 19035.8
         },
         {
          "arrowcolor": "red",
          "arrowhead": 5,
          "arrowwidth": 2,
          "ay": -40,
          "font": {
           "color": "red"
          },
          "hovertext": "2022-09-25 10:14:15.073000 sell at 19017.87 , profit: -0.01793",
          "showarrow": true,
          "text": "sell",
          "x": "2022-09-25T10:14:15.073000",
          "y": 19017.87
         },
         {
          "arrowcolor": "green",
          "arrowhead": 5,
          "arrowwidth": 2,
          "ay": 0,
          "font": {
           "color": "green"
          },
          "hovertext": "2022-09-25 10:17:30.947000 buy at 19018.4 ",
          "showarrow": true,
          "text": "buy",
          "x": "2022-09-25T10:17:30.947000",
          "y": 19018.4
         },
         {
          "arrowcolor": "red",
          "arrowhead": 5,
          "arrowwidth": 2,
          "ay": -10,
          "font": {
           "color": "red"
          },
          "hovertext": "2022-09-25 10:20:12.349000 sell at 18999.72 , profit: -0.01868",
          "showarrow": true,
          "text": "sell",
          "x": "2022-09-25T10:20:12.349000",
          "y": 18999.72
         },
         {
          "arrowcolor": "green",
          "arrowhead": 5,
          "arrowwidth": 2,
          "ay": -20,
          "font": {
           "color": "green"
          },
          "hovertext": "2022-09-25 10:21:43.044000 buy at 19042.34 ",
          "showarrow": true,
          "text": "buy",
          "x": "2022-09-25T10:21:43.044000",
          "y": 19042.34
         },
         {
          "arrowcolor": "red",
          "arrowhead": 5,
          "arrowwidth": 2,
          "ay": -30,
          "font": {
           "color": "red"
          },
          "hovertext": "2022-09-25 10:46:52.193000 sell at 19022.96 , profit: -0.01938",
          "showarrow": true,
          "text": "sell",
          "x": "2022-09-25T10:46:52.193000",
          "y": 19022.96
         },
         {
          "arrowcolor": "green",
          "arrowhead": 5,
          "arrowwidth": 2,
          "ay": -40,
          "font": {
           "color": "green"
          },
          "hovertext": "2022-09-25 10:57:31.486000 buy at 19073.79 ",
          "showarrow": true,
          "text": "buy",
          "x": "2022-09-25T10:57:31.486000",
          "y": 19073.79
         },
         {
          "arrowcolor": "red",
          "arrowhead": 5,
          "arrowwidth": 2,
          "ay": 0,
          "font": {
           "color": "red"
          },
          "hovertext": "2022-09-25 12:00:01.933000 sell at 19055.39 , profit: -0.0184",
          "showarrow": true,
          "text": "sell",
          "x": "2022-09-25T12:00:01.933000",
          "y": 19055.39
         },
         {
          "arrowcolor": "green",
          "arrowhead": 5,
          "arrowwidth": 2,
          "ay": -10,
          "font": {
           "color": "green"
          },
          "hovertext": "2022-09-25 12:00:56.292000 buy at 19123.12 ",
          "showarrow": true,
          "text": "buy",
          "x": "2022-09-25T12:00:56.292000",
          "y": 19123.12
         },
         {
          "arrowcolor": "red",
          "arrowhead": 5,
          "arrowwidth": 2,
          "ay": -20,
          "font": {
           "color": "red"
          },
          "hovertext": "2022-09-25 12:03:02.954000 sell at 19102.69 , profit: -0.02043",
          "showarrow": true,
          "text": "sell",
          "x": "2022-09-25T12:03:02.954000",
          "y": 19102.69
         },
         {
          "arrowcolor": "green",
          "arrowhead": 5,
          "arrowwidth": 2,
          "ay": -30,
          "font": {
           "color": "green"
          },
          "hovertext": "2022-09-25 12:11:31.126000 buy at 19137.22 ",
          "showarrow": true,
          "text": "buy",
          "x": "2022-09-25T12:11:31.126000",
          "y": 19137.22
         },
         {
          "arrowcolor": "red",
          "arrowhead": 5,
          "arrowwidth": 2,
          "ay": -40,
          "font": {
           "color": "red"
          },
          "hovertext": "2022-09-25 12:24:19.763000 sell at 19114.39 , profit: -0.02283",
          "showarrow": true,
          "text": "sell",
          "x": "2022-09-25T12:24:19.763000",
          "y": 19114.39
         },
         {
          "arrowcolor": "green",
          "arrowhead": 5,
          "arrowwidth": 2,
          "ay": 0,
          "font": {
           "color": "green"
          },
          "hovertext": "2022-09-25 17:20:14.538000 buy at 18961.7 ",
          "showarrow": true,
          "text": "buy",
          "x": "2022-09-25T17:20:14.538000",
          "y": 18961.7
         },
         {
          "arrowcolor": "red",
          "arrowhead": 5,
          "arrowwidth": 2,
          "ay": -10,
          "font": {
           "color": "red"
          },
          "hovertext": "2022-09-25 17:21:33.619000 sell at 18968.16 ",
          "showarrow": true,
          "text": "sell",
          "x": "2022-09-25T17:21:33.619000",
          "y": 18968.16
         },
         {
          "arrowcolor": "green",
          "arrowhead": 5,
          "arrowwidth": 2,
          "ay": -20,
          "font": {
           "color": "green"
          },
          "hovertext": "2022-09-25 18:00:57.761000 buy at 19003.65 ",
          "showarrow": true,
          "text": "buy",
          "x": "2022-09-25T18:00:57.761000",
          "y": 19003.65
         },
         {
          "arrowcolor": "red",
          "arrowhead": 5,
          "arrowwidth": 2,
          "ay": -30,
          "font": {
           "color": "red"
          },
          "hovertext": "2022-09-25 18:06:39.726000 sell at 18982.7 , profit: -0.02095",
          "showarrow": true,
          "text": "sell",
          "x": "2022-09-25T18:06:39.726000",
          "y": 18982.7
         },
         {
          "arrowcolor": "green",
          "arrowhead": 5,
          "arrowwidth": 2,
          "ay": -40,
          "font": {
           "color": "green"
          },
          "hovertext": "2022-09-25 18:35:44.477000 buy at 18980.24 ",
          "showarrow": true,
          "text": "buy",
          "x": "2022-09-25T18:35:44.477000",
          "y": 18980.24
         },
         {
          "arrowcolor": "red",
          "arrowhead": 5,
          "arrowwidth": 2,
          "ay": 0,
          "font": {
           "color": "red"
          },
          "hovertext": "2022-09-25 18:37:19.580000 sell at 18961.25 , profit: -0.01899",
          "showarrow": true,
          "text": "sell",
          "x": "2022-09-25T18:37:19.580000",
          "y": 18961.25
         },
         {
          "arrowcolor": "green",
          "arrowhead": 5,
          "arrowwidth": 2,
          "ay": -10,
          "font": {
           "color": "green"
          },
          "hovertext": "2022-09-25 18:37:52.312000 buy at 18952.16 ",
          "showarrow": true,
          "text": "buy",
          "x": "2022-09-25T18:37:52.312000",
          "y": 18952.16
         },
         {
          "arrowcolor": "red",
          "arrowhead": 5,
          "arrowwidth": 2,
          "ay": -20,
          "font": {
           "color": "red"
          },
          "hovertext": "2022-09-25 18:44:16.802000 sell at 18911.19 , profit: -0.04097",
          "showarrow": true,
          "text": "sell",
          "x": "2022-09-25T18:44:16.802000",
          "y": 18911.19
         },
         {
          "arrowcolor": "green",
          "arrowhead": 5,
          "arrowwidth": 2,
          "ay": -30,
          "font": {
           "color": "green"
          },
          "hovertext": "2022-09-25 18:47:25.424000 buy at 18916.15 ",
          "showarrow": true,
          "text": "buy",
          "x": "2022-09-25T18:47:25.424000",
          "y": 18916.15
         },
         {
          "arrowcolor": "red",
          "arrowhead": 5,
          "arrowwidth": 2,
          "ay": -40,
          "font": {
           "color": "red"
          },
          "hovertext": "2022-09-25 18:48:06.019000 sell at 18900.83 , profit: -0.01532",
          "showarrow": true,
          "text": "sell",
          "x": "2022-09-25T18:48:06.019000",
          "y": 18900.83
         },
         {
          "arrowcolor": "green",
          "arrowhead": 5,
          "arrowwidth": 2,
          "ay": 0,
          "font": {
           "color": "green"
          },
          "hovertext": "2022-09-25 19:44:26.321000 buy at 18896.78 ",
          "showarrow": true,
          "text": "buy",
          "x": "2022-09-25T19:44:26.321000",
          "y": 18896.78
         },
         {
          "arrowcolor": "red",
          "arrowhead": 5,
          "arrowwidth": 2,
          "ay": -10,
          "font": {
           "color": "red"
          },
          "hovertext": "2022-09-25 19:46:40.144000 sell at 18876.9 , profit: -0.01988",
          "showarrow": true,
          "text": "sell",
          "x": "2022-09-25T19:46:40.144000",
          "y": 18876.9
         },
         {
          "arrowcolor": "green",
          "arrowhead": 5,
          "arrowwidth": 2,
          "ay": -20,
          "font": {
           "color": "green"
          },
          "hovertext": "2022-09-25 19:50:47.153000 buy at 18892.08 ",
          "showarrow": true,
          "text": "buy",
          "x": "2022-09-25T19:50:47.153000",
          "y": 18892.08
         },
         {
          "arrowcolor": "red",
          "arrowhead": 5,
          "arrowwidth": 2,
          "ay": -30,
          "font": {
           "color": "red"
          },
          "hovertext": "2022-09-25 20:17:18.824000 sell at 18867.27 , profit: -0.02481",
          "showarrow": true,
          "text": "sell",
          "x": "2022-09-25T20:17:18.824000",
          "y": 18867.27
         },
         {
          "arrowcolor": "green",
          "arrowhead": 5,
          "arrowwidth": 2,
          "ay": -40,
          "font": {
           "color": "green"
          },
          "hovertext": "2022-09-25 20:24:39.191000 buy at 18895.27 ",
          "showarrow": true,
          "text": "buy",
          "x": "2022-09-25T20:24:39.191000",
          "y": 18895.27
         }
        ],
        "template": {
         "data": {
          "bar": [
           {
            "error_x": {
             "color": "#2a3f5f"
            },
            "error_y": {
             "color": "#2a3f5f"
            },
            "marker": {
             "line": {
              "color": "#E5ECF6",
              "width": 0.5
             },
             "pattern": {
              "fillmode": "overlay",
              "size": 10,
              "solidity": 0.2
             }
            },
            "type": "bar"
           }
          ],
          "barpolar": [
           {
            "marker": {
             "line": {
              "color": "#E5ECF6",
              "width": 0.5
             },
             "pattern": {
              "fillmode": "overlay",
              "size": 10,
              "solidity": 0.2
             }
            },
            "type": "barpolar"
           }
          ],
          "carpet": [
           {
            "aaxis": {
             "endlinecolor": "#2a3f5f",
             "gridcolor": "white",
             "linecolor": "white",
             "minorgridcolor": "white",
             "startlinecolor": "#2a3f5f"
            },
            "baxis": {
             "endlinecolor": "#2a3f5f",
             "gridcolor": "white",
             "linecolor": "white",
             "minorgridcolor": "white",
             "startlinecolor": "#2a3f5f"
            },
            "type": "carpet"
           }
          ],
          "choropleth": [
           {
            "colorbar": {
             "outlinewidth": 0,
             "ticks": ""
            },
            "type": "choropleth"
           }
          ],
          "contour": [
           {
            "colorbar": {
             "outlinewidth": 0,
             "ticks": ""
            },
            "colorscale": [
             [
              0,
              "#0d0887"
             ],
             [
              0.1111111111111111,
              "#46039f"
             ],
             [
              0.2222222222222222,
              "#7201a8"
             ],
             [
              0.3333333333333333,
              "#9c179e"
             ],
             [
              0.4444444444444444,
              "#bd3786"
             ],
             [
              0.5555555555555556,
              "#d8576b"
             ],
             [
              0.6666666666666666,
              "#ed7953"
             ],
             [
              0.7777777777777778,
              "#fb9f3a"
             ],
             [
              0.8888888888888888,
              "#fdca26"
             ],
             [
              1,
              "#f0f921"
             ]
            ],
            "type": "contour"
           }
          ],
          "contourcarpet": [
           {
            "colorbar": {
             "outlinewidth": 0,
             "ticks": ""
            },
            "type": "contourcarpet"
           }
          ],
          "heatmap": [
           {
            "colorbar": {
             "outlinewidth": 0,
             "ticks": ""
            },
            "colorscale": [
             [
              0,
              "#0d0887"
             ],
             [
              0.1111111111111111,
              "#46039f"
             ],
             [
              0.2222222222222222,
              "#7201a8"
             ],
             [
              0.3333333333333333,
              "#9c179e"
             ],
             [
              0.4444444444444444,
              "#bd3786"
             ],
             [
              0.5555555555555556,
              "#d8576b"
             ],
             [
              0.6666666666666666,
              "#ed7953"
             ],
             [
              0.7777777777777778,
              "#fb9f3a"
             ],
             [
              0.8888888888888888,
              "#fdca26"
             ],
             [
              1,
              "#f0f921"
             ]
            ],
            "type": "heatmap"
           }
          ],
          "heatmapgl": [
           {
            "colorbar": {
             "outlinewidth": 0,
             "ticks": ""
            },
            "colorscale": [
             [
              0,
              "#0d0887"
             ],
             [
              0.1111111111111111,
              "#46039f"
             ],
             [
              0.2222222222222222,
              "#7201a8"
             ],
             [
              0.3333333333333333,
              "#9c179e"
             ],
             [
              0.4444444444444444,
              "#bd3786"
             ],
             [
              0.5555555555555556,
              "#d8576b"
             ],
             [
              0.6666666666666666,
              "#ed7953"
             ],
             [
              0.7777777777777778,
              "#fb9f3a"
             ],
             [
              0.8888888888888888,
              "#fdca26"
             ],
             [
              1,
              "#f0f921"
             ]
            ],
            "type": "heatmapgl"
           }
          ],
          "histogram": [
           {
            "marker": {
             "pattern": {
              "fillmode": "overlay",
              "size": 10,
              "solidity": 0.2
             }
            },
            "type": "histogram"
           }
          ],
          "histogram2d": [
           {
            "colorbar": {
             "outlinewidth": 0,
             "ticks": ""
            },
            "colorscale": [
             [
              0,
              "#0d0887"
             ],
             [
              0.1111111111111111,
              "#46039f"
             ],
             [
              0.2222222222222222,
              "#7201a8"
             ],
             [
              0.3333333333333333,
              "#9c179e"
             ],
             [
              0.4444444444444444,
              "#bd3786"
             ],
             [
              0.5555555555555556,
              "#d8576b"
             ],
             [
              0.6666666666666666,
              "#ed7953"
             ],
             [
              0.7777777777777778,
              "#fb9f3a"
             ],
             [
              0.8888888888888888,
              "#fdca26"
             ],
             [
              1,
              "#f0f921"
             ]
            ],
            "type": "histogram2d"
           }
          ],
          "histogram2dcontour": [
           {
            "colorbar": {
             "outlinewidth": 0,
             "ticks": ""
            },
            "colorscale": [
             [
              0,
              "#0d0887"
             ],
             [
              0.1111111111111111,
              "#46039f"
             ],
             [
              0.2222222222222222,
              "#7201a8"
             ],
             [
              0.3333333333333333,
              "#9c179e"
             ],
             [
              0.4444444444444444,
              "#bd3786"
             ],
             [
              0.5555555555555556,
              "#d8576b"
             ],
             [
              0.6666666666666666,
              "#ed7953"
             ],
             [
              0.7777777777777778,
              "#fb9f3a"
             ],
             [
              0.8888888888888888,
              "#fdca26"
             ],
             [
              1,
              "#f0f921"
             ]
            ],
            "type": "histogram2dcontour"
           }
          ],
          "mesh3d": [
           {
            "colorbar": {
             "outlinewidth": 0,
             "ticks": ""
            },
            "type": "mesh3d"
           }
          ],
          "parcoords": [
           {
            "line": {
             "colorbar": {
              "outlinewidth": 0,
              "ticks": ""
             }
            },
            "type": "parcoords"
           }
          ],
          "pie": [
           {
            "automargin": true,
            "type": "pie"
           }
          ],
          "scatter": [
           {
            "fillpattern": {
             "fillmode": "overlay",
             "size": 10,
             "solidity": 0.2
            },
            "type": "scatter"
           }
          ],
          "scatter3d": [
           {
            "line": {
             "colorbar": {
              "outlinewidth": 0,
              "ticks": ""
             }
            },
            "marker": {
             "colorbar": {
              "outlinewidth": 0,
              "ticks": ""
             }
            },
            "type": "scatter3d"
           }
          ],
          "scattercarpet": [
           {
            "marker": {
             "colorbar": {
              "outlinewidth": 0,
              "ticks": ""
             }
            },
            "type": "scattercarpet"
           }
          ],
          "scattergeo": [
           {
            "marker": {
             "colorbar": {
              "outlinewidth": 0,
              "ticks": ""
             }
            },
            "type": "scattergeo"
           }
          ],
          "scattergl": [
           {
            "marker": {
             "colorbar": {
              "outlinewidth": 0,
              "ticks": ""
             }
            },
            "type": "scattergl"
           }
          ],
          "scattermapbox": [
           {
            "marker": {
             "colorbar": {
              "outlinewidth": 0,
              "ticks": ""
             }
            },
            "type": "scattermapbox"
           }
          ],
          "scatterpolar": [
           {
            "marker": {
             "colorbar": {
              "outlinewidth": 0,
              "ticks": ""
             }
            },
            "type": "scatterpolar"
           }
          ],
          "scatterpolargl": [
           {
            "marker": {
             "colorbar": {
              "outlinewidth": 0,
              "ticks": ""
             }
            },
            "type": "scatterpolargl"
           }
          ],
          "scatterternary": [
           {
            "marker": {
             "colorbar": {
              "outlinewidth": 0,
              "ticks": ""
             }
            },
            "type": "scatterternary"
           }
          ],
          "surface": [
           {
            "colorbar": {
             "outlinewidth": 0,
             "ticks": ""
            },
            "colorscale": [
             [
              0,
              "#0d0887"
             ],
             [
              0.1111111111111111,
              "#46039f"
             ],
             [
              0.2222222222222222,
              "#7201a8"
             ],
             [
              0.3333333333333333,
              "#9c179e"
             ],
             [
              0.4444444444444444,
              "#bd3786"
             ],
             [
              0.5555555555555556,
              "#d8576b"
             ],
             [
              0.6666666666666666,
              "#ed7953"
             ],
             [
              0.7777777777777778,
              "#fb9f3a"
             ],
             [
              0.8888888888888888,
              "#fdca26"
             ],
             [
              1,
              "#f0f921"
             ]
            ],
            "type": "surface"
           }
          ],
          "table": [
           {
            "cells": {
             "fill": {
              "color": "#EBF0F8"
             },
             "line": {
              "color": "white"
             }
            },
            "header": {
             "fill": {
              "color": "#C8D4E3"
             },
             "line": {
              "color": "white"
             }
            },
            "type": "table"
           }
          ]
         },
         "layout": {
          "annotationdefaults": {
           "arrowcolor": "#2a3f5f",
           "arrowhead": 0,
           "arrowwidth": 1
          },
          "autotypenumbers": "strict",
          "coloraxis": {
           "colorbar": {
            "outlinewidth": 0,
            "ticks": ""
           }
          },
          "colorscale": {
           "diverging": [
            [
             0,
             "#8e0152"
            ],
            [
             0.1,
             "#c51b7d"
            ],
            [
             0.2,
             "#de77ae"
            ],
            [
             0.3,
             "#f1b6da"
            ],
            [
             0.4,
             "#fde0ef"
            ],
            [
             0.5,
             "#f7f7f7"
            ],
            [
             0.6,
             "#e6f5d0"
            ],
            [
             0.7,
             "#b8e186"
            ],
            [
             0.8,
             "#7fbc41"
            ],
            [
             0.9,
             "#4d9221"
            ],
            [
             1,
             "#276419"
            ]
           ],
           "sequential": [
            [
             0,
             "#0d0887"
            ],
            [
             0.1111111111111111,
             "#46039f"
            ],
            [
             0.2222222222222222,
             "#7201a8"
            ],
            [
             0.3333333333333333,
             "#9c179e"
            ],
            [
             0.4444444444444444,
             "#bd3786"
            ],
            [
             0.5555555555555556,
             "#d8576b"
            ],
            [
             0.6666666666666666,
             "#ed7953"
            ],
            [
             0.7777777777777778,
             "#fb9f3a"
            ],
            [
             0.8888888888888888,
             "#fdca26"
            ],
            [
             1,
             "#f0f921"
            ]
           ],
           "sequentialminus": [
            [
             0,
             "#0d0887"
            ],
            [
             0.1111111111111111,
             "#46039f"
            ],
            [
             0.2222222222222222,
             "#7201a8"
            ],
            [
             0.3333333333333333,
             "#9c179e"
            ],
            [
             0.4444444444444444,
             "#bd3786"
            ],
            [
             0.5555555555555556,
             "#d8576b"
            ],
            [
             0.6666666666666666,
             "#ed7953"
            ],
            [
             0.7777777777777778,
             "#fb9f3a"
            ],
            [
             0.8888888888888888,
             "#fdca26"
            ],
            [
             1,
             "#f0f921"
            ]
           ]
          },
          "colorway": [
           "#636efa",
           "#EF553B",
           "#00cc96",
           "#ab63fa",
           "#FFA15A",
           "#19d3f3",
           "#FF6692",
           "#B6E880",
           "#FF97FF",
           "#FECB52"
          ],
          "font": {
           "color": "#2a3f5f"
          },
          "geo": {
           "bgcolor": "white",
           "lakecolor": "white",
           "landcolor": "#E5ECF6",
           "showlakes": true,
           "showland": true,
           "subunitcolor": "white"
          },
          "hoverlabel": {
           "align": "left"
          },
          "hovermode": "closest",
          "mapbox": {
           "style": "light"
          },
          "paper_bgcolor": "white",
          "plot_bgcolor": "#E5ECF6",
          "polar": {
           "angularaxis": {
            "gridcolor": "white",
            "linecolor": "white",
            "ticks": ""
           },
           "bgcolor": "#E5ECF6",
           "radialaxis": {
            "gridcolor": "white",
            "linecolor": "white",
            "ticks": ""
           }
          },
          "scene": {
           "xaxis": {
            "backgroundcolor": "#E5ECF6",
            "gridcolor": "white",
            "gridwidth": 2,
            "linecolor": "white",
            "showbackground": true,
            "ticks": "",
            "zerolinecolor": "white"
           },
           "yaxis": {
            "backgroundcolor": "#E5ECF6",
            "gridcolor": "white",
            "gridwidth": 2,
            "linecolor": "white",
            "showbackground": true,
            "ticks": "",
            "zerolinecolor": "white"
           },
           "zaxis": {
            "backgroundcolor": "#E5ECF6",
            "gridcolor": "white",
            "gridwidth": 2,
            "linecolor": "white",
            "showbackground": true,
            "ticks": "",
            "zerolinecolor": "white"
           }
          },
          "shapedefaults": {
           "line": {
            "color": "#2a3f5f"
           }
          },
          "ternary": {
           "aaxis": {
            "gridcolor": "white",
            "linecolor": "white",
            "ticks": ""
           },
           "baxis": {
            "gridcolor": "white",
            "linecolor": "white",
            "ticks": ""
           },
           "bgcolor": "#E5ECF6",
           "caxis": {
            "gridcolor": "white",
            "linecolor": "white",
            "ticks": ""
           }
          },
          "title": {
           "x": 0.05
          },
          "xaxis": {
           "automargin": true,
           "gridcolor": "white",
           "linecolor": "white",
           "ticks": "",
           "title": {
            "standoff": 15
           },
           "zerolinecolor": "white",
           "zerolinewidth": 2
          },
          "yaxis": {
           "automargin": true,
           "gridcolor": "white",
           "linecolor": "white",
           "ticks": "",
           "title": {
            "standoff": 15
           },
           "zerolinecolor": "white",
           "zerolinewidth": 2
          }
         }
        }
       }
      },
      "text/html": [
       "<div>                            <div id=\"34fdf3ec-fec3-4466-8187-dd78f5371c88\" class=\"plotly-graph-div\" style=\"height:525px; width:100%;\"></div>            <script type=\"text/javascript\">                require([\"plotly\"], function(Plotly) {                    window.PLOTLYENV=window.PLOTLYENV || {};                                    if (document.getElementById(\"34fdf3ec-fec3-4466-8187-dd78f5371c88\")) {                    Plotly.newPlot(                        \"34fdf3ec-fec3-4466-8187-dd78f5371c88\",                        [{\"close\":[18924.7,18943.49,18940.2,18920.8,18947.54,18925.77,18936.36,18931.05,18949.07,18977.78,18963.42,18972.59,18980.97,18974.71,18974.71,18963.38,18962.34,18963.39,18964.15,18941.75,18942.05,18933.66,18932.41,18927.46,18922.55,18932.28,18931.15,18942.65,18942.8,18952.22,18951.49,18962.12,18965.8,18958.48,18958.31,18964.41,18961.72,18960.19,18957.8,18962.96,18956.95,18955.78,18958.64,18962.5,18952.6,18953.94,18960.7,18960.3,18947.73,18962.95,18963.2,18955.23,18955.67,18960.75,18959.4,18965.98,18959.16,18962.03,18959.68,18955.19,18949.28,18955.38,18949.14,18939.72,18942.83,18941.36,18952.34,18941.98,18941.28,18951.9,18950.9,18949.98,18945.89,18936.81,18936.76,18935.89,18935.02,18923.49,18923.91,18931.58,18935.7,18950.68,18950.47,18950.0,18951.24,18954.67,18953.46,18965.48,18973.8,18978.07,18988.59,18990.21,18975.47,18967.91,18974.78,18974.76,18973.22,18972.15,18971.05,18973.79,18983.6,18980.4,18984.04,18982.74,18977.55,18985.42,18985.42,18981.1,18976.62,18978.06,18977.39,18965.47,18968.67,18969.03,18968.58,18970.43,18978.68,18978.01,18964.85,18963.52,18962.71,18964.83,18947.19,18949.29,18955.19,18952.63,18945.11,18941.87,18953.58,18949.36,18947.38,18953.61,18938.87,18929.58,18947.02,18952.5,18939.43,18938.0,18938.0,18947.95,18947.42,18935.91,18938.41,18957.33,18957.59,18959.08,18947.27,18944.44,18947.52,18949.51,18953.07,18960.38,18964.85,18965.82,18970.47,18966.33,18965.97,18966.98,18968.14,18960.44,18949.98,18937.1,18957.76,18958.72,18956.16,18950.03,18954.57,18957.06,18952.78,18947.41,18950.05,18952.16,18948.8,18947.87,18947.93,18952.33,18947.06,18942.75,18939.16,18939.04,18969.97,18971.63,18976.57,18981.89,18984.54,18982.1,18980.06,18983.71,18985.4,18982.06,18982.14,18987.77,18990.78,19033.96,19032.21,19001.02,19018.83,19026.59,19034.4,19032.4,19025.27,19021.95,19026.95,19020.88,19019.91,19028.31,19027.61,19027.15,19026.74,19033.86,19023.47,19022.32,19027.57,19030.43,19028.48,19024.61,19027.83,19033.76,19037.13,19047.94,19046.44,19046.46,19044.79,19043.27,19047.39,19042.11,19044.14,19045.56,19038.45,19041.63,19037.43,19046.79,19053.39,19056.29,19052.96,19053.64,19055.89,19058.35,19047.57,19047.28,19045.49,19034.41,19037.34,19039.18,19038.7,19038.65,19031.97,19028.64,19039.11,19034.84,19037.33,19036.06,19033.8,19036.75,19036.42,19028.77,19026.23,19023.42,19024.53,19032.98,19031.87,19029.11,19027.78,19017.42,19031.41,19028.27,19023.19,19019.22,19024.23,19023.12,19018.45,19020.14,19017.55,19018.91,19010.88,19014.52,19014.19,19016.21,19015.92,19014.53,19013.1,19014.13,19017.54,19012.2,19007.96,19007.14,19007.52,19005.29,19006.79,19007.7,19011.15,19007.26,19010.39,19005.88,19008.09,19010.42,19003.24,19000.37,19004.66,19005.46,19002.61,19004.08,19004.17,19013.13,19011.58,19020.76,19030.24,19030.42,19031.42,19029.39,19027.77,19028.12,19028.01,19018.92,19021.72,19023.79,18994.0,18965.55,18974.01,18960.8,18951.89,18949.67,18956.77,18953.87,18953.11,18962.59,18974.85,18970.63,18962.03,18972.13,18991.92,18977.13,18970.4,18973.14,18986.62,18993.96,18987.41,18987.87,18979.65,18976.92,19002.79,18998.32,19000.43,18995.2,18992.86,18992.13,19010.51,19000.47,18999.97,19005.19,19001.98,19001.12,18999.89,18991.32,18996.55,18990.33,18985.59,18992.08,18988.13,18998.68,18998.13,18988.6,18995.91,19003.52,19002.01,19005.55,19002.96,19006.98,19013.85,19027.84,19027.39,19027.82,19024.71,19027.97,19023.6,19023.6,19057.07,19057.37,19048.5,19049.17,19048.98,19048.67,19041.12,19040.52,19033.74,19033.1,19032.45,19034.68,19029.47,19027.38,19022.66,19022.57,19028.69,19029.12,19020.45,19022.98,19023.33,19025.65,19034.47,19029.96,19025.28,19024.72,19026.89,19027.5,19025.84,19029.51,19036.29,19032.98,19032.44,19032.92,19033.45,19028.18,19022.07,19026.13,19022.77,19022.29,19016.59,19017.73,19016.84,19020.27,19022.19,19011.33,19014.21,19027.83,19040.2,19043.35,19041.89,19043.33,19043.33,19054.0,19054.0,19079.95,19081.88,19118.41,19118.66,19110.88,19110.33,19116.19,19115.31,19096.65,19093.19,19095.01,19096.13,19097.86,19097.95,19081.47,19079.44,19081.87,19082.33,19087.17,19087.06,19084.23,19086.58,19084.51,19088.17,19084.29,19084.42,19057.82,19056.91,19057.53,19055.31,19069.98,19071.37,19081.2,19083.67,19082.83,19084.85,19098.62,19100.42,19099.59,19098.73,19098.46,19100.08,19103.39,19108.25,19118.07,19117.64,19114.52,19114.83,19109.98,19112.53,19107.3,19103.9,19094.23,19102.89,19101.82,19101.17,19094.8,19095.37,19094.92,19091.42,19078.47,19078.47,19087.52,19086.44,19080.72,19079.7,19088.81,19092.17,19088.41,19092.34,19090.9,19091.75,19092.3,19093.04,19091.46,19090.34,19092.49,19090.97,19093.23,19089.87,19086.32,19088.55,19093.47,19093.07,19082.99,19081.14,19079.68,19083.33,19096.8,19095.89,19100.09,19095.05,19086.72,19083.86,19085.74,19084.48,19080.86,19081.59,19084.91,19085.52,19082.24,19083.07,19088.72,19084.89,19084.73,19084.02,19083.77,19083.94,19086.19,19086.22,19080.14,19082.33,19085.12,19081.56,19079.91,19079.49,19077.92,19079.54,19078.77,19067.47,19067.81,19069.34,19070.2,19067.13,19069.59,19074.19,19073.85,19072.94,19072.19,19067.28,19068.54,19071.27,19076.6,19080.02,19078.3,19074.79,19070.57,19068.9,19068.72,19067.14,19068.75,19057.83,19059.88,19054.04,19044.13,19042.86,19033.99,19031.47,19034.85,19032.35,19036.91,19036.97,19046.66,19044.27,19052.3,19049.87,19049.21,19042.22,19044.83,19041.9,19041.02,19046.31,19046.49,19054.47,19054.89,19046.11,19046.59,19058.3,19058.62,19057.44,19060.42,19059.19,19061.99,19044.9,19020.13,19033.85,19020.92,19021.4,19019.29,19018.54,19032.21,19032.48,19040.86,19039.03,19051.66,19054.0,19051.8,19051.16,19052.47,19054.86,19069.17,19074.47,19070.99,19072.89,19073.86,19079.08,19077.98,19080.05,19085.96,19086.58,19087.53,19078.05,19084.61,19090.68,19094.23,19092.22,19079.29,19078.31,19080.65,19082.28,19082.27,19080.51,19082.21,19079.05,19079.27,19073.42,19073.52,19072.51,19070.22,19082.77,19077.46,19077.79,19074.81,19076.74,19074.23,19081.39,19085.5,19077.83,19076.86,19087.47,19088.0,19091.5,19095.46,19095.59,19104.45,19104.43,19104.17,19107.99,19100.56,19100.56,19091.59,19091.82,19092.03,19092.2,19091.58,19093.07,19093.89,19095.63,19101.24,19100.66,19084.46,19085.25,19081.26,19081.86,19091.51,19092.35,19088.23,19088.16,19082.16,19082.77,19091.72,19092.43,19087.74,19084.82,19092.85,19093.46,19116.71,19120.22,19138.62,19133.64,19133.79,19122.76,19125.97,19117.12,19112.37,19108.68,19096.92,19110.63,19116.56,19117.32,19105.9,19106.82,19117.01,19126.27,19138.63,19121.99,19125.57,19132.95,19134.06,19138.33,19130.87,19131.33,19123.08,19120.88,19121.63,19115.49,19111.36,19107.58,19092.25,19092.25,19073.01,19073.0,19059.45,19063.91,19071.74,19070.06,19065.47,19065.98,19070.64,19073.65,19094.26,19098.54,19112.82,19112.07,19101.31,19095.9,19100.17,19100.99,19102.77,19102.08,19092.69,19094.27,19099.11,19096.06,19093.22,19093.75,19066.37,19068.05,19088.25,19081.12,19071.35,19071.94,19071.61,19073.31,19067.2,19068.52,19060.05,19060.58,19059.66,19059.96,19057.3,19051.02,19060.63,19058.1,19072.63,19070.27,19071.66,19081.76,19071.06,19072.26,19057.08,19062.01,19046.99,19043.21,19037.88,18960.62,18966.99,18966.38,18959.69,18963.95,18966.59,18953.49,18956.66,18956.03,18972.68,18965.96,18966.63,18966.66,18884.27,18906.18,18906.1,18920.23,18913.27,18895.08,18890.12,18891.09,18886.59,18905.32,18907.28,18928.61,18926.96,18930.65,18924.5,18927.75,18923.01,18927.67,18928.08,18934.7,18926.81,18930.93,18930.5,18928.36,18930.93,18935.43,18927.22,18925.78,18925.2,18897.57,18886.3,18880.41,18873.97,18905.58,18894.89,18861.83,18864.4,18875.87,18873.56,18895.35,18883.72,18887.77,18900.45,18910.75,18914.53,18890.78,18884.55,18874.62,18882.82,18885.26,18896.65,18895.4,18905.93,18907.77,18916.87,18909.86,18896.48,18903.28,18908.75,18907.84,18909.85,18909.85,18921.33,18919.87,18927.08,18925.18,18929.13,18928.19,18949.94,18956.1,18941.94,18931.83,18917.26,18919.85,18913.26,18916.38,18914.95,18926.95,18921.77,18916.17,18921.06,18919.59,18923.42,18923.0,18938.98,18941.15,18925.09,18927.16,18926.53,18928.03,18924.58,18925.72,18935.33,18944.83,18947.77,18942.6,18957.26,18951.92,18959.52,18960.11,18955.19,18962.86,18991.83,18997.04,19006.19,18997.54,18995.99,18999.41,19004.18,19002.28,18982.83,18984.42,18988.8,18984.81,18990.19,18995.97,18999.39,18995.49,18988.59,18977.23,18987.7,18993.7,18987.08,18993.29,18991.95,18987.53,18986.94,19003.35,19004.12,19000.21,19000.48,18999.01,19000.94,19004.65,19004.55,19003.32,19001.61,18987.8,18987.87,18988.24,18978.84,19010.21,18997.03,19008.11,19008.97,19023.88,19027.7,19031.17,19037.15,19038.45,19039.21,19046.5,19047.11,19065.53,19061.6,19076.18,19085.64,19109.4,19090.81,19073.29,19088.29,19065.14,19048.27,19047.57,19037.69,19013.01,19037.06,19041.28,19042.13,19041.56,19032.05,19043.59,19050.25,19047.27,19046.12,19045.54,19047.69,19048.22,19057.13,19046.62,19050.2,19059.55,19045.75,19050.3,19057.17,19053.65,19043.46,19037.57,19033.07,19012.73,19012.74,19034.81,19033.59,19028.03,19025.38,19025.88,19029.26,18992.78,18987.37,18947.91,18928.98,18892.29,18911.46,18896.13,18907.49,18895.64,18896.23,18916.61,18922.37,18934.38,18941.35,18957.4,18945.77,18939.54,18934.79,18937.98,18931.1,18943.91,18955.79,18967.44,18971.23,18961.72,18954.98,18946.47,18933.4,18913.82,18926.9,18918.5,18928.62,18941.7,18937.84,18934.69,18940.59,18919.9,18921.37,18914.37,18915.37,18919.57,18926.79,18933.17,18908.99,18907.5,18919.18,18921.64,18930.88,18965.99,18973.99,18970.4,18990.19,18992.25,18987.11,18978.65,18992.57,19024.45,19015.3,19003.02,19004.12,19001.79,18996.33,19007.56,19006.21,19011.47,19003.15,18984.25,18994.78,18979.66,18991.41,18975.19,18972.68,18980.5,18978.89,18983.29,18970.51,18971.65,18970.02,18969.91,18965.03,18965.94,18950.13,18950.83,18964.18,18963.56,18962.29,18964.17,18966.74,18967.31,18981.07,18978.38,18974.4,18974.58,18979.54,18977.17,18980.37,18977.21,18953.98,18955.2,18956.21,18915.64,18895.64,18907.07,18911.78,18901.64,18910.94,18910.88,18874.93,18887.8,18888.83,18902.85,18913.6,18929.55,18945.04,18961.37,18954.71,18944.78,18941.16,18933.71,18934.18,18929.43,18931.67,18928.8,18928.06,18922.27,18927.5,18942.95,18941.4,18943.41,18941.45,18943.58,18943.64,18958.95,18956.23,18952.66,18952.85,18954.51,18950.22,18953.52,18956.66,18960.43,18966.6,18980.64,18987.54,18981.15,18970.59,18975.66,18976.85,18973.85,18973.59,18971.56,18972.51,18969.98,18971.85,18936.94,18933.74,18935.38,18940.76,18927.72,18928.33,18928.94,18927.34,18903.02,18900.96,18889.34,18885.42,18892.74,18891.64,18884.48,18883.34,18895.39,18895.29,18914.91,18912.17,18910.81,18907.06,18916.56,18916.96,18915.5,18915.76,18919.42,18919.18,18921.44,18921.99,18917.34,18910.46,18914.68,18917.14,18924.08,18918.59,18921.55,18921.23,18922.77,18923.57,18924.16,18924.98,18892.0,18899.31,18904.4,18909.42,18910.57,18909.95,18897.67,18916.22,18931.29,18928.43,18927.54,18927.07,18925.8,18932.85,18943.73,18942.06,18942.73,18946.27,18946.45,18942.57,18942.76,18943.57,18943.1],\"high\":[18924.7,18952.62,18944.41,18939.73,18953.96,18948.19,18942.08,18939.51,18949.07,18981.34,18981.42,18972.59,18981.38,18980.1,18974.71,18974.7,18963.04,18966.99,18964.38,18954.84,18942.28,18943.51,18933.74,18929.35,18926.87,18935.44,18932.46,18944.26,18943.22,18960.08,18953.09,18962.53,18967.47,18959.22,18958.99,18964.41,18964.4,18962.58,18959.97,18962.96,18964.22,18955.84,18963.61,18964.54,18966.25,18953.94,18960.7,18966.17,18962.67,18964.76,18964.34,18957.48,18957.79,18961.72,18962.37,18965.98,18968.2,18967.3,18964.23,18960.22,18959.82,18956.17,18954.45,18949.38,18942.83,18941.6,18952.34,18952.55,18942.66,18952.43,18952.63,18950.74,18952.14,18946.35,18936.9,18936.85,18935.89,18929.86,18923.91,18931.58,18936.27,18958.26,18950.47,18954.42,18951.24,18955.04,18954.66,18967.2,18973.8,18978.45,18993.4,18990.31,18978.23,18975.21,18978.04,18975.75,18978.43,18972.37,18972.91,18973.79,18983.6,18984.33,18986.07,18983.72,18988.82,18985.42,18986.74,18985.93,18977.09,18981.77,18977.59,18977.02,18980.68,18969.03,18974.25,18973.89,18979.28,18978.01,18976.68,18964.85,18963.35,18966.61,18961.06,18950.27,18956.36,18958.23,18951.22,18945.35,18957.33,18950.61,18947.65,18953.98,18949.81,18945.89,18947.02,18956.33,18950.58,18941.0,18938.0,18950.67,18947.95,18935.91,18938.41,18959.2,18957.59,18959.81,18961.42,18952.82,18947.52,18955.22,18953.07,18960.38,18964.85,18965.82,18970.47,18966.33,18967.25,18969.16,18968.14,18962.23,18960.17,18941.55,18957.76,18958.92,18959.5,18955.98,18957.37,18958.39,18956.86,18952.43,18951.81,18952.16,18950.74,18948.5,18948.99,18953.62,18953.27,18946.72,18947.46,18939.04,18977.69,18976.55,18976.57,18981.89,18985.31,18985.81,18984.92,18984.25,18985.92,18990.26,18982.33,18989.06,19023.0,19033.96,19035.51,19036.86,19023.32,19027.48,19035.49,19035.82,19035.49,19024.64,19026.95,19026.01,19021.21,19028.31,19028.01,19027.15,19026.74,19033.86,19039.24,19023.47,19038.12,19031.72,19031.88,19030.1,19027.83,19033.76,19049.83,19048.42,19049.29,19052.12,19048.01,19046.82,19047.57,19047.12,19046.79,19045.56,19046.43,19043.83,19041.63,19046.79,19054.15,19058.38,19058.93,19054.68,19056.87,19060.75,19059.32,19051.17,19048.46,19045.78,19038.37,19041.86,19039.32,19040.28,19039.09,19035.29,19039.11,19041.8,19037.33,19037.6,19035.95,19036.75,19037.09,19039.11,19027.98,19026.64,19025.74,19033.0,19033.93,19031.33,19029.12,19027.79,19031.41,19032.09,19028.41,19023.2,19025.15,19024.63,19023.18,19025.34,19021.72,19019.52,19019.16,19019.71,19020.59,19016.27,19016.59,19016.06,19015.25,19014.84,19019.01,19017.66,19012.64,19007.86,19007.9,19008.0,19007.25,19007.7,19013.64,19011.75,19011.89,19009.6,19010.46,19010.63,19010.09,19003.27,19006.33,19006.53,19007.34,19005.99,19004.77,19013.77,19013.83,19021.36,19033.71,19031.19,19033.06,19031.42,19029.55,19028.89,19028.77,19028.21,19021.92,19024.92,19004.66,18994.0,18977.72,18974.24,18962.63,18953.9,18956.77,18960.1,18955.29,18963.14,18974.85,18976.46,18970.74,18972.54,18994.01,18994.6,18981.06,18973.14,18986.62,18995.04,18993.21,18990.56,18988.1,18982.84,19007.26,19003.27,19003.56,19000.43,18996.08,19000.53,19010.51,19010.9,18999.97,19005.99,19001.98,19002.47,19003.72,19000.8,18996.58,18996.38,18990.84,18992.08,18991.59,19000.29,18999.09,18997.81,18996.67,19003.52,19004.33,19005.55,19004.69,19007.72,19015.38,19028.45,19029.14,19029.25,19028.77,19028.91,19029.22,19023.6,19067.21,19057.37,19054.49,19049.17,19051.25,19048.67,19045.75,19040.52,19037.2,19034.35,19032.62,19034.68,19031.03,19029.46,19028.51,19022.57,19028.69,19029.52,19026.42,19022.98,19024.47,19025.65,19034.47,19035.06,19028.53,19025.84,19028.62,19028.26,19027.9,19029.51,19036.29,19036.4,19036.17,19033.06,19033.45,19033.45,19022.07,19026.13,19024.8,19023.12,19017.81,19017.9,19018.33,19021.08,19022.51,19022.68,19014.21,19027.83,19052.76,19046.53,19046.52,19045.39,19043.33,19054.1,19054.0,19092.42,19081.88,19126.02,19120.32,19123.7,19113.36,19118.54,19116.88,19103.95,19096.92,19104.49,19096.13,19102.81,19097.95,19092.11,19081.97,19083.05,19082.63,19090.65,19088.45,19084.23,19089.29,19088.06,19088.17,19089.86,19084.42,19070.59,19057.72,19060.72,19057.55,19074.79,19073.34,19083.89,19083.67,19082.83,19087.02,19102.54,19100.42,19106.26,19099.59,19099.85,19100.21,19105.18,19108.25,19118.07,19117.87,19119.16,19115.72,19111.67,19112.53,19112.52,19108.08,19103.24,19102.89,19105.19,19101.59,19100.66,19095.41,19096.42,19093.79,19091.35,19078.47,19090.99,19086.97,19081.72,19079.7,19088.81,19092.17,19093.44,19092.34,19090.9,19091.75,19093.63,19093.34,19092.43,19091.54,19094.5,19092.53,19095.1,19092.96,19087.29,19088.55,19099.27,19093.46,19085.11,19082.99,19081.4,19083.33,19097.09,19097.52,19100.09,19102.57,19092.96,19086.59,19086.11,19086.3,19085.17,19085.67,19088.13,19085.52,19084.92,19083.07,19088.72,19089.05,19085.54,19085.01,19085.76,19086.24,19090.5,19087.33,19087.93,19083.81,19085.61,19085.72,19080.36,19080.3,19079.49,19080.86,19079.15,19076.6,19068.35,19073.49,19070.2,19069.01,19069.59,19074.19,19074.35,19077.2,19072.91,19072.46,19068.54,19073.5,19076.6,19080.93,19080.38,19076.91,19074.61,19070.8,19068.9,19073.57,19068.75,19063.45,19060.02,19054.04,19052.09,19045.25,19045.1,19034.59,19034.85,19034.89,19038.9,19036.97,19053.49,19047.35,19052.3,19055.81,19052.56,19042.23,19044.83,19043.92,19043.32,19047.97,19047.59,19055.23,19055.54,19052.06,19048.37,19058.3,19059.75,19058.19,19062.86,19062.94,19061.99,19061.87,19059.46,19037.63,19033.75,19021.4,19027.35,19018.76,19032.21,19101.65,19040.86,19040.9,19074.9,19054.0,19052.39,19052.09,19052.47,19054.86,19069.32,19074.47,19071.88,19072.89,19073.86,19079.08,19077.98,19081.48,19085.96,19087.3,19087.53,19087.78,19085.6,19091.36,19094.23,19100.34,19086.58,19080.94,19080.65,19082.95,19082.92,19081.45,19082.21,19080.99,19080.58,19078.81,19075.06,19073.96,19072.48,19083.02,19083.48,19081.33,19079.18,19078.14,19077.58,19081.82,19087.38,19088.32,19078.17,19089.74,19088.85,19091.5,19096.39,19097.21,19106.47,19106.78,19105.88,19107.99,19107.91,19100.56,19102.99,19091.82,19092.68,19092.2,19091.58,19093.07,19095.08,19095.63,19107.56,19101.15,19093.87,19085.25,19081.26,19081.86,19097.82,19092.35,19091.71,19088.25,19086.68,19082.77,19093.1,19094.08,19090.3,19088.33,19093.89,19093.68,19118.6,19124.24,19138.62,19133.64,19136.99,19130.83,19127.42,19125.51,19124.9,19112.57,19102.75,19111.11,19117.83,19118.41,19116.6,19111.48,19117.42,19126.27,19138.63,19137.37,19125.97,19135.51,19135.91,19138.37,19136.21,19132.78,19132.17,19122.05,19126.54,19121.64,19114.11,19114.97,19107.32,19092.25,19101.85,19073.01,19074.75,19064.59,19074.11,19071.55,19078.18,19066.7,19071.44,19073.65,19094.42,19100.26,19113.1,19113.62,19113.7,19100.48,19101.06,19100.99,19105.39,19103.5,19096.68,19094.27,19099.11,19099.0,19093.99,19093.75,19094.3,19068.72,19088.42,19088.39,19078.9,19071.94,19076.24,19073.82,19072.98,19068.52,19065.38,19060.58,19063.2,19061.15,19060.2,19057.46,19061.68,19061.35,19072.63,19072.83,19073.39,19081.76,19078.74,19072.68,19071.88,19063.23,19059.63,19047.87,19045.59,19005.41,18981.61,18981.3,18975.65,18968.92,18967.87,18967.49,18956.92,18956.21,18978.95,18972.44,18971.76,18966.66,18904.11,18920.93,18906.84,18923.78,18920.49,18917.87,18895.08,18898.53,18892.94,18906.13,18915.07,18928.61,18928.83,18939.38,18930.48,18938.76,18927.11,18928.34,18928.08,18934.7,18934.72,18931.25,18930.93,18929.55,18930.93,18938.22,18934.13,18928.55,18926.93,18931.28,18901.35,18882.31,18884.05,18905.58,18906.31,18897.07,18864.4,18879.42,18876.55,18895.35,18894.98,18889.81,18900.45,18910.75,18914.53,18918.4,18891.33,18884.23,18884.25,18885.26,18896.65,18897.87,18905.93,18908.72,18917.48,18918.06,18910.46,18906.17,18911.75,18907.85,18912.55,18909.85,18923.81,18920.79,18928.2,18927.08,18929.13,18929.55,18949.94,18957.36,18953.1,18943.33,18920.3,18920.94,18925.02,18917.22,18922.55,18926.95,18924.37,18923.03,18921.1,18920.59,18923.42,18923.42,18957.26,18943.49,18935.68,18928.33,18927.72,18928.03,18930.49,18925.72,18935.33,18944.83,18947.94,18947.99,18957.26,18957.98,18960.3,18960.11,18959.63,18969.23,18991.83,18997.11,19009.67,19006.42,19002.52,18999.7,19004.21,19004.59,19002.68,18989.97,18988.8,18984.81,18990.19,19000.49,19002.38,18999.49,18997.59,18988.78,18987.7,18994.0,18993.6,18993.29,18992.41,18989.14,18987.2,19003.35,19004.12,19001.63,19000.48,18999.01,19000.94,19006.02,19005.37,19008.86,19003.85,18998.01,18987.88,18999.09,18988.87,19010.21,19010.03,19008.29,19008.97,19023.88,19031.39,19043.78,19038.38,19042.84,19039.21,19046.64,19047.11,19070.46,19069.05,19076.18,19096.01,19118.16,19114.01,19089.58,19088.29,19086.86,19068.16,19055.78,19052.05,19038.95,19037.7,19053.17,19042.4,19043.26,19046.71,19046.21,19050.25,19050.93,19048.25,19052.25,19049.12,19049.29,19063.76,19057.16,19053.64,19061.19,19058.83,19051.33,19058.85,19056.42,19053.45,19042.51,19041.03,19032.5,19012.74,19042.56,19034.81,19038.54,19027.67,19029.22,19029.26,19011.16,18987.37,18973.95,18950.59,18930.85,18911.46,18913.15,18907.49,18900.75,18897.49,18922.12,18922.37,18947.71,18942.0,18969.53,18958.44,18940.75,18940.92,18942.1,18944.18,18944.46,18957.89,18969.03,18971.23,18971.99,18963.09,18948.58,18937.87,18933.29,18929.85,18926.06,18929.37,18941.7,18941.09,18941.48,18943.88,18943.41,18925.67,18923.16,18918.35,18919.57,18926.79,18936.96,18937.63,18910.54,18923.79,18930.19,18930.88,18966.95,18973.99,18977.06,18990.19,18992.25,18995.24,18988.35,18992.57,19032.2,19025.89,19015.61,19006.17,19003.86,19003.19,19007.56,19007.56,19012.86,19011.47,18988.93,18998.42,18990.62,18991.41,18992.28,18974.32,18981.56,18982.27,18983.84,18983.12,18973.24,18971.04,18970.39,18970.62,18965.94,18962.72,18950.83,18964.65,18963.82,18970.92,18964.17,18968.67,18967.31,18981.31,18981.15,18977.85,18974.58,18979.73,18980.65,18980.49,18979.97,18954.1,18956.81,18956.98,18955.86,18912.37,18907.07,18911.78,18902.9,18912.61,18922.33,18914.52,18890.96,18890.21,18902.85,18914.78,18930.21,18946.63,18962.03,18968.4,18951.28,18947.85,18940.7,18937.47,18934.87,18935.38,18928.92,18928.54,18930.71,18927.5,18945.58,18946.51,18945.97,18943.18,18945.57,18947.55,18961.01,18961.17,18961.32,18954.48,18957.46,18961.36,18953.6,18958.17,18962.07,18972.11,18982.64,18993.08,18985.98,18977.99,18977.99,18980.27,18978.24,18973.85,18973.2,18972.51,18972.1,18971.85,18988.13,18935.64,18935.38,18940.76,18928.46,18928.33,18930.06,18929.58,18905.64,18905.79,18898.78,18889.91,18893.73,18892.91,18891.32,18884.29,18900.99,18895.8,18915.63,18914.98,18915.39,18911.26,18918.84,18918.17,18919.31,18916.3,18925.64,18919.42,18921.44,18924.31,18920.25,18917.82,18915.38,18919.09,18925.2,18925.13,18923.57,18921.96,18924.4,19033.28,18924.82,18925.01,18894.41,18902.66,18904.4,18911.6,18911.98,18912.18,18911.79,18918.84,18932.85,18929.87,18929.1,18928.36,18929.75,18932.85,18945.51,18943.86,18944.47,18946.7,18946.45,18947.67,18942.76,18943.77,18943.1],\"low\":[18914.35,18937.59,18933.07,18916.22,18920.7,18920.94,18926.0,18929.34,18930.77,18956.3,18943.95,18957.56,18973.08,18968.36,18974.71,18957.13,18962.34,18960.38,18962.91,17564.41,18941.74,18920.83,18932.41,18919.89,18922.55,18927.39,18930.46,18936.4,18941.97,18952.22,18951.49,18951.23,18962.94,18952.71,18958.07,18952.91,18960.94,18955.39,18955.64,18957.97,18956.95,18946.39,18952.54,18958.37,18950.97,18951.34,18956.55,18958.57,18945.89,18950.17,18958.69,18951.15,18953.79,18953.95,18959.4,18961.57,18959.16,18960.61,18957.57,18953.03,18947.66,18947.22,18948.24,18938.35,18937.98,18935.65,18937.83,18941.19,18941.28,18941.66,18944.86,18947.91,18943.67,18935.12,18936.76,18933.0,18935.02,18922.33,18923.46,18928.38,18931.58,18949.42,18949.84,18949.68,18950.0,18949.52,18953.46,18963.79,18969.23,18973.77,18983.71,18985.15,18965.87,18967.67,18968.15,18974.67,18968.08,18971.24,18968.23,18970.68,18977.83,18980.36,18981.43,18982.65,18972.39,18976.98,18984.97,18980.83,18973.27,18971.12,18965.65,18965.07,18966.22,18965.79,18967.42,18968.58,18975.82,18976.08,18964.85,18959.68,18961.1,18961.61,18946.05,18947.46,18946.58,18952.32,18945.11,18938.78,18942.89,18948.34,18941.57,18946.62,18938.87,18919.79,18936.45,18948.29,18936.46,18934.83,18938.0,18947.95,18947.42,18932.58,18935.91,18944.77,18956.87,18955.14,18947.27,18944.44,18943.99,18949.51,18948.97,18956.0,18960.83,18957.53,18965.34,18963.45,18965.08,18964.45,18963.36,18960.21,18949.98,18937.1,18936.7,18958.67,18955.7,18950.03,18952.16,18954.57,18952.78,18946.0,18948.88,18947.93,18948.11,18946.96,18939.99,18948.82,18947.06,18942.75,18939.16,18931.33,18968.92,18967.73,18964.21,18975.78,18982.24,18982.1,18980.06,18979.12,18981.94,18982.04,18973.47,18982.02,18988.81,18992.56,19007.03,18999.06,19008.2,19018.02,19025.85,19031.13,19025.27,19021.73,19011.16,19020.31,19019.91,19020.75,19027.61,19021.56,19026.57,19022.88,19020.19,19020.13,19021.98,19025.94,19027.0,19020.84,19021.45,19023.47,19033.78,19037.81,19045.17,19044.09,19044.79,19043.27,19043.11,19042.11,19041.54,19043.13,19038.17,19039.25,19034.69,19034.68,19046.66,19049.32,19050.82,19047.42,19053.68,19054.4,19046.19,19045.53,19045.49,19031.21,19033.99,19036.91,19033.42,19037.43,19031.12,19024.34,19027.41,19034.06,19035.01,19032.53,19033.79,19032.38,19035.94,19028.61,19021.28,19018.07,19023.62,19024.15,19031.87,19029.11,19026.04,19016.17,19017.42,19026.99,19021.43,19019.16,19019.03,19020.01,19018.45,19018.6,19017.55,19017.75,19008.16,19010.88,19014.19,19013.82,19015.52,19010.91,19013.05,19012.55,19012.97,19008.35,19007.96,19006.6,19004.58,19005.25,19004.8,19004.34,19007.62,19007.26,19006.65,19005.42,19005.41,19006.36,19002.3,18999.29,18999.37,19004.86,19002.61,19002.48,19002.79,19002.95,19010.94,19011.65,19020.76,19029.66,19029.65,19026.89,19027.77,19026.32,19027.2,19018.92,19018.43,19020.78,18892.8,18715.27,18966.88,18960.8,18951.49,18941.89,18950.23,18949.24,18952.71,18953.06,18960.64,18970.63,18959.22,18955.23,18971.48,18975.81,18969.25,18970.06,18971.95,18981.77,18984.77,18987.28,18976.71,18976.2,18976.79,18997.52,18998.31,18993.02,18992.45,18991.35,18991.71,19000.19,18997.04,18998.37,18998.41,19000.71,18999.46,18989.71,18990.98,18990.27,18985.48,18984.77,18986.22,18986.47,18995.51,18988.18,18988.24,18995.98,18999.7,19002.78,18999.89,19002.68,19007.32,19012.88,19024.24,19024.54,19024.71,19026.27,19021.41,19023.6,19052.56,19057.33,19047.05,19048.5,19043.59,19047.85,19037.0,19039.71,19025.29,19033.1,19029.24,19031.46,19015.46,19025.79,19022.66,19020.23,19025.86,19028.61,19019.26,19020.05,19020.56,19023.07,19030.01,19029.96,19024.7,19024.72,19020.9,19026.58,19021.99,19025.41,19028.44,19032.97,19032.44,19031.72,19024.43,19028.1,19019.0,19021.75,19021.52,19021.6,19016.52,19015.83,19016.37,19016.26,19019.17,19008.15,19010.45,19014.21,19039.5,19040.23,19039.74,19041.63,19043.33,19043.66,19054.0,19078.82,19080.34,19108.85,19114.05,19078.74,19110.33,19106.13,19115.31,19090.11,19093.19,19094.46,19094.39,19096.86,19093.06,19078.26,19076.95,19079.32,19081.81,19083.86,19087.06,19077.26,19079.54,19081.26,19084.51,19083.39,19080.25,19054.78,19050.41,19053.67,19055.31,19056.54,19069.27,19069.56,19079.56,19079.12,19082.55,19098.62,19098.48,19099.59,19097.88,19097.92,19098.57,19098.05,19101.95,19104.31,19104.35,19103.34,19113.49,19104.88,19108.51,19105.48,19102.93,19091.75,19093.29,19095.24,19099.94,19093.07,19092.2,19091.66,19090.33,19078.01,19078.47,19081.11,19086.44,19077.12,19079.52,19084.81,19088.06,19087.79,19088.41,19086.88,19090.38,19088.65,19090.27,19091.02,19090.34,19091.88,19090.97,19090.81,19089.87,19082.83,19085.77,19087.69,19092.3,19082.99,19080.24,19079.27,19079.66,19087.99,19095.89,19094.05,19095.05,19083.27,19083.86,19080.25,19084.27,19079.47,19080.15,19081.65,19084.52,19081.52,19080.89,19082.6,19084.89,19082.27,19084.02,19082.68,19082.7,19075.21,19085.01,19079.9,19079.86,19082.77,19081.56,19077.24,19076.01,19077.92,19076.56,19078.77,19066.64,19067.81,19069.34,19068.98,19065.25,19067.12,19072.26,19073.85,19070.96,19072.19,19067.28,19066.13,19067.45,19072.26,19078.07,19078.3,19074.79,19067.06,19067.09,19067.11,19067.14,19066.89,19057.63,19058.06,19048.08,19038.47,19042.64,19033.73,19028.63,19030.29,19031.22,19035.71,19033.21,19041.33,19044.22,19043.28,19049.6,19049.21,19038.89,19041.84,19040.85,19037.72,19044.53,19044.9,19045.7,19052.7,19046.11,19044.9,19046.57,19055.95,19055.87,19057.33,19057.93,19059.06,19044.9,19017.14,19019.23,19013.77,19021.22,19019.29,19018.38,18994.4,19026.26,19031.74,19034.41,19051.66,19050.39,19041.93,19049.84,19048.32,19051.24,19057.1,19068.6,19068.23,19070.0,19063.84,19073.3,19067.06,19076.48,19079.09,19085.42,19077.73,19078.05,19080.4,19084.75,19089.74,19092.22,19079.14,19077.4,19077.64,19078.48,19082.06,19079.36,19079.76,19078.06,19078.3,19072.27,19071.38,19068.73,19069.87,19069.92,19076.24,19077.38,19074.81,19073.52,19072.31,19073.24,19078.9,19075.71,19076.42,19076.12,19077.8,19085.72,19092.55,19094.4,19094.74,19103.07,19103.59,19103.55,19099.27,19100.56,19091.59,19091.79,19088.46,19090.21,19089.16,19090.02,19089.48,19093.63,19100.68,19100.34,19084.46,19084.23,19069.94,19080.31,19089.56,19090.8,19087.82,19088.06,19078.73,19081.41,19081.28,19091.02,19086.99,19084.82,19082.57,19091.82,19092.93,19116.57,19134.61,19127.0,19132.33,19122.7,19122.3,19086.43,19111.06,19108.68,19093.56,19096.15,19106.04,19113.15,19105.9,19106.41,19097.17,19115.11,19130.85,19120.81,19121.58,19125.96,19123.98,19132.37,19127.66,19127.85,19123.08,19111.57,19120.94,19111.83,19108.07,19107.58,19087.2,19092.25,19073.01,19073.0,19056.4,19062.61,19061.82,19070.06,19063.94,19065.98,19069.19,19070.64,19089.14,19093.66,19102.57,19111.64,19101.31,19095.9,19098.61,19098.65,19101.51,19102.03,19091.78,19090.79,19094.54,19096.06,19092.53,19092.72,19066.37,19063.34,19074.67,19079.04,19068.42,19068.97,19069.66,19071.1,19066.51,19064.95,19058.41,19049.61,19055.3,19054.88,19055.84,19050.58,19039.85,19041.16,19058.97,19067.7,19071.42,19071.63,19071.06,19066.52,19052.74,19056.93,19046.99,19039.29,19037.88,18958.13,18959.31,18965.3,18954.9,18941.79,18961.66,18947.94,18931.11,18956.03,18967.77,18965.96,18958.17,18965.46,18883.13,18904.28,18905.05,18917.08,18913.27,18895.08,18889.72,18885.1,18886.59,18884.92,18904.41,18916.8,18926.59,18927.65,18924.46,18924.78,18923.01,18917.87,18923.33,18927.96,18925.61,18924.82,18930.5,18917.12,18928.77,18928.73,18926.63,18923.72,18924.57,18897.57,18880.7,18853.91,18868.5,18881.19,18893.43,18861.83,18860.4,18866.44,18872.4,18883.71,18883.7,18884.76,18886.84,18902.4,18906.92,18890.77,18884.55,18861.76,18868.56,18878.52,18878.22,18891.93,18894.68,18901.98,18904.45,18907.67,18893.72,18894.35,18900.91,18907.84,18908.04,18909.38,18915.03,18919.87,18918.21,18925.18,18915.58,18927.28,18929.26,18947.51,18939.88,18929.19,18914.06,18916.53,18912.8,18912.22,18907.66,18912.81,18920.39,18915.54,18912.9,18918.25,18919.73,18922.4,18922.55,18937.5,18918.79,18925.09,18920.67,18925.12,18923.4,18924.58,18927.07,18932.5,18941.52,18942.43,18948.67,18951.92,18950.09,18956.89,18950.64,18955.4,18966.83,18981.23,18989.12,18989.94,18995.75,18994.81,18995.38,19002.28,18979.51,18983.67,18973.27,18979.29,18984.65,18988.87,18998.07,18992.11,18988.59,18977.15,18977.85,18986.89,18983.94,18986.1,18991.95,18986.7,18986.94,18991.58,19003.36,18995.71,18999.97,18995.93,18998.26,19002.4,19004.55,19000.56,19001.35,18986.04,18986.93,18986.67,18978.84,18994.48,18993.6,18994.93,19006.9,19004.94,19023.38,19029.86,19031.31,19037.81,19033.04,19037.65,19042.64,19051.16,19061.6,19062.78,19073.34,19082.63,19090.81,19073.29,19073.34,19063.36,19039.5,19046.16,19036.97,19012.06,19002.89,19035.62,19040.23,19034.32,19031.62,19034.75,19039.96,19047.27,19042.82,19044.72,19045.54,19044.97,19055.86,19045.15,19048.27,19049.59,19044.42,19047.36,19050.17,19048.39,19043.46,19034.57,19033.07,19004.32,19012.68,19033.98,19033.59,19024.2,19025.38,19025.27,19026.72,18986.1,18984.37,18947.91,18928.91,18876.67,18892.07,18885.72,18894.1,18883.76,18895.08,18911.44,18911.11,18924.64,18934.38,18957.4,18945.77,18932.5,18933.04,18928.05,18929.13,18938.75,18943.34,18957.7,18965.83,18961.72,18954.98,18056.78,18933.4,18903.52,18917.02,18912.28,18918.2,18926.32,18932.85,18925.57,18934.66,18909.79,18915.91,18912.98,18913.52,18914.25,18913.7,18914.05,18907.09,18901.79,18913.33,18916.31,18921.44,18928.13,18960.58,18969.82,18970.75,18982.9,18984.17,18975.04,18971.39,18978.48,19009.32,19000.66,19001.69,18995.43,18995.43,18998.22,19003.9,19004.23,19002.73,18975.22,18983.03,18979.66,18977.18,18975.19,18969.92,18975.08,18977.09,18978.23,18968.6,18966.16,18966.26,18966.86,18962.46,18965.52,18950.13,18950.28,18962.71,18963.56,18959.85,18963.06,18965.52,18966.07,18972.84,18978.38,18974.4,18973.17,18976.22,18977.17,18973.48,18977.04,18951.05,18946.65,18954.18,18915.64,18895.64,18893.09,18905.06,18883.71,18901.28,18910.88,18873.15,18878.37,18885.7,18888.71,18901.12,18917.84,18925.0,18941.53,18948.3,18943.07,18941.16,18933.71,18930.98,18925.64,18928.89,18923.24,18925.51,18922.27,18911.85,18933.59,18941.04,18941.09,18938.06,18938.45,18943.64,18944.13,18956.23,18952.12,18952.85,18949.77,18949.76,18949.32,18952.95,18954.67,18958.48,18970.54,18976.6,18978.83,18968.31,18968.77,18970.58,18972.73,18973.59,18967.93,18971.74,18969.44,18970.07,18936.94,18924.6,18928.49,18935.38,18922.9,18926.93,18926.91,18926.07,18893.93,18900.96,18885.94,18885.42,18880.89,18890.7,18880.56,18882.27,18894.27,18895.02,18902.15,18912.17,18907.82,18907.06,18906.94,18915.51,18915.28,18911.58,18918.79,18914.12,18910.14,18915.42,18916.51,18909.93,18909.1,18913.51,18918.2,18918.59,18917.23,18918.87,18919.2,18915.61,18922.07,18922.81,18888.81,18889.79,18899.37,18906.03,18907.15,18908.45,18892.32,18897.41,18916.37,18921.02,18922.52,18922.68,18923.65,18926.8,18933.1,18936.55,18941.67,18941.31,18945.82,18942.57,18942.76,18941.31,18943.03],\"open\":[18921.95,18938.62,18943.7,18939.18,18921.78,18947.4,18926.0,18937.25,18930.77,18956.3,18974.92,18962.61,18973.68,18980.1,18974.71,18973.65,18963.04,18962.19,18964.3,18954.51,18941.74,18942.98,18933.66,18920.53,18926.87,18933.97,18932.28,18936.51,18942.65,18956.32,18951.76,18958.35,18962.94,18959.22,18958.25,18952.91,18964.4,18962.58,18959.97,18959.22,18962.96,18946.78,18953.37,18958.64,18966.25,18952.63,18956.55,18960.7,18961.5,18950.17,18962.95,18951.15,18955.71,18955.43,18960.36,18963.13,18966.75,18965.02,18963.53,18957.76,18955.19,18947.59,18954.45,18949.16,18941.82,18941.6,18939.06,18951.58,18942.48,18942.18,18952.1,18949.95,18950.69,18945.89,18936.9,18933.0,18935.89,18929.3,18923.46,18929.16,18931.58,18953.09,18950.36,18954.03,18950.0,18950.91,18954.66,18966.26,18970.52,18973.85,18983.71,18988.95,18978.23,18975.21,18968.7,18975.1,18974.29,18971.24,18971.18,18971.1,18977.83,18983.77,18981.54,18983.55,18987.27,18976.98,18985.05,18985.57,18974.34,18976.35,18965.87,18977.02,18966.22,18968.67,18969.84,18968.58,18976.6,18977.07,18976.68,18964.85,18962.68,18962.71,18960.98,18947.46,18950.56,18955.19,18951.22,18945.11,18946.25,18949.1,18947.65,18946.77,18949.81,18936.92,18936.45,18948.29,18950.58,18939.74,18938.0,18948.85,18947.95,18935.34,18935.91,18944.77,18957.33,18959.03,18959.08,18951.63,18944.64,18955.22,18948.97,18956.02,18960.83,18963.97,18965.82,18964.97,18966.24,18967.96,18966.44,18962.23,18960.17,18941.55,18936.76,18958.87,18955.7,18955.98,18955.88,18954.57,18953.01,18952.43,18951.81,18949.35,18949.63,18947.62,18948.41,18948.82,18952.72,18946.59,18946.01,18938.37,18977.3,18969.6,18971.91,18976.57,18985.31,18983.65,18983.47,18980.06,18984.78,18984.42,18981.71,18982.02,18988.81,18992.56,19031.78,19036.86,19008.2,19018.2,19026.02,19034.36,19033.38,19024.64,19021.87,19026.01,19020.88,19021.09,19028.01,19021.85,19026.57,19022.88,19033.86,19023.47,19021.98,19027.57,19031.17,19028.71,19024.47,19027.36,19033.78,19042.36,19047.94,19046.22,19046.46,19044.29,19043.28,19047.12,19042.03,19044.28,19045.66,19039.25,19040.95,19037.5,19046.79,19053.5,19056.08,19053.09,19053.68,19055.63,19058.46,19046.91,19047.06,19045.49,19034.26,19037.61,19038.54,19038.7,19039.08,19032.41,19029.12,19039.11,19035.27,19037.41,19035.95,19034.08,19036.75,19036.34,19027.98,19026.64,19023.62,19024.23,19032.65,19031.33,19029.11,19027.5,19017.42,19031.14,19028.06,19023.2,19019.37,19024.23,19022.68,19018.6,19020.27,19018.15,19018.66,19010.88,19014.52,19014.13,19016.45,19015.41,19014.61,19013.1,19014.2,19017.66,19012.64,19007.25,19007.06,19006.88,19005.49,19006.86,19007.62,19011.33,19006.91,19009.6,19005.83,19008.51,19010.09,19003.27,18999.42,19005.25,19005.87,19002.61,19004.65,19004.17,19013.48,19011.95,19020.76,19029.88,19030.42,19031.42,19028.75,19027.77,19028.05,19028.01,19018.43,19020.78,19004.22,18994.0,18966.88,18973.74,18960.8,18951.3,18950.23,18958.67,18953.87,18953.06,18962.1,18973.73,18970.46,18961.79,18971.6,18991.88,18977.13,18970.76,18972.41,18984.94,18993.21,18987.28,18988.1,18979.88,18976.92,19002.22,18998.36,19000.43,18995.66,18992.26,18992.29,19010.51,18999.84,18999.21,19001.88,19001.96,19000.83,19000.06,18991.97,18996.38,18990.45,18985.48,18991.33,18988.13,18998.53,18997.81,18988.31,18996.26,19003.54,19003.04,19004.31,19002.69,19008.01,19013.25,19024.25,19028.37,19028.27,19026.27,19028.25,19023.6,19053.78,19057.33,19049.9,19048.5,19051.07,19047.85,19042.72,19040.06,19025.97,19033.84,19029.47,19031.95,19016.23,19029.46,19028.51,19020.6,19027.82,19028.69,19023.54,19020.05,19023.83,19023.13,19030.78,19034.03,19028.53,19025.28,19025.36,19026.76,19024.28,19026.14,19028.51,19036.28,19035.22,19032.07,19024.99,19033.41,19020.95,19021.89,19024.8,19021.6,19016.52,19016.59,19017.14,19016.26,19019.47,19022.19,19011.19,19014.21,19048.52,19041.12,19043.19,19041.63,19043.33,19047.54,19054.0,19089.8,19080.34,19109.76,19115.55,19120.32,19110.98,19113.15,19116.19,19103.93,19096.13,19099.29,19094.39,19096.86,19097.87,19091.34,19081.17,19081.03,19081.88,19083.86,19087.17,19082.4,19081.03,19088.06,19084.51,19089.85,19084.16,19070.58,19057.72,19058.85,19057.44,19070.92,19069.27,19072.54,19080.98,19080.35,19082.82,19100.45,19099.11,19102.32,19099.59,19098.69,19098.57,19098.59,19102.15,19105.02,19116.9,19119.16,19114.94,19111.67,19110.08,19109.44,19106.93,19103.24,19094.23,19104.91,19100.32,19100.66,19095.41,19095.18,19093.79,19091.35,19078.47,19084.8,19086.97,19077.23,19079.54,19086.25,19088.08,19091.65,19088.41,19090.12,19090.9,19088.65,19092.3,19091.39,19090.97,19094.5,19092.49,19090.81,19091.77,19084.05,19086.04,19087.95,19092.49,19083.67,19082.99,19080.45,19079.68,19089.56,19097.19,19094.56,19099.49,19092.5,19085.63,19082.73,19085.04,19084.77,19080.86,19085.13,19084.84,19084.92,19082.27,19083.21,19088.13,19085.54,19084.65,19085.32,19083.77,19081.09,19085.13,19085.96,19079.86,19082.87,19084.27,19077.58,19079.35,19079.23,19076.69,19079.15,19076.6,19068.35,19069.34,19069.34,19069.01,19067.12,19072.47,19073.92,19074.2,19072.91,19072.12,19066.67,19073.24,19072.26,19078.07,19079.67,19076.91,19074.28,19067.62,19068.9,19072.15,19067.11,19062.61,19058.06,19049.85,19052.09,19043.87,19045.1,19034.56,19032.3,19034.89,19036.3,19036.16,19049.14,19046.62,19043.87,19049.97,19049.92,19041.94,19042.32,19041.96,19041.95,19044.75,19044.9,19045.7,19054.47,19052.06,19046.11,19046.63,19058.2,19057.2,19057.4,19062.15,19059.7,19061.87,19044.9,19019.42,19033.75,19021.22,19026.32,19018.76,18997.03,19029.79,19031.76,19040.28,19055.09,19051.66,19041.93,19050.36,19051.41,19051.25,19057.49,19068.86,19068.23,19070.83,19063.84,19073.34,19070.74,19077.17,19079.32,19085.64,19077.9,19087.24,19085.6,19084.75,19090.03,19094.2,19086.5,19078.23,19078.31,19082.14,19082.28,19079.8,19079.95,19080.6,19078.6,19078.67,19073.42,19072.32,19072.24,19069.92,19081.82,19079.72,19077.79,19074.54,19076.1,19073.71,19079.1,19086.85,19077.85,19076.38,19087.52,19088.11,19092.67,19096.06,19094.74,19103.65,19105.18,19104.58,19107.91,19100.56,19102.99,19091.79,19091.59,19091.02,19089.34,19091.07,19089.78,19093.89,19107.26,19101.08,19092.8,19084.33,19069.94,19080.57,19095.23,19090.8,19089.91,19088.06,19086.4,19082.21,19081.28,19091.03,19089.83,19087.82,19082.58,19091.83,19094.03,19116.58,19136.06,19128.62,19136.52,19130.83,19122.53,19123.0,19122.32,19109.57,19101.68,19096.15,19106.99,19115.01,19114.03,19106.41,19102.2,19116.32,19131.2,19137.1,19122.03,19126.64,19135.22,19133.08,19132.96,19130.27,19131.43,19120.8,19121.02,19120.86,19114.11,19111.61,19107.32,19092.25,19090.59,19073.01,19072.45,19062.61,19061.95,19071.36,19078.18,19066.11,19070.15,19070.64,19090.39,19093.9,19107.74,19112.07,19108.38,19100.48,19100.81,19099.78,19102.05,19102.77,19095.98,19091.75,19094.58,19098.5,19092.53,19093.04,19093.17,19067.7,19074.68,19087.9,19078.9,19068.97,19071.04,19071.15,19072.33,19066.2,19065.22,19060.05,19063.2,19059.66,19060.0,19057.3,19049.77,19060.36,19059.12,19072.0,19071.8,19071.63,19074.1,19072.4,19068.72,19056.93,19059.63,19047.87,19044.24,19005.41,18960.76,18980.2,18967.14,18958.88,18964.74,18966.37,18953.11,18956.21,18968.48,18972.44,18959.28,18965.92,18903.76,18917.74,18905.05,18920.68,18920.41,18908.59,18895.08,18891.46,18891.09,18884.92,18905.2,18918.37,18927.88,18927.65,18930.48,18936.46,18927.11,18920.22,18927.67,18929.12,18934.7,18931.25,18930.93,18928.22,18928.77,18931.83,18934.13,18926.44,18925.78,18927.28,18896.87,18860.36,18879.84,18881.19,18900.05,18893.54,18862.26,18868.09,18875.72,18884.94,18894.31,18884.84,18887.77,18904.25,18910.24,18917.04,18890.78,18884.02,18874.62,18884.29,18885.68,18892.54,18895.34,18905.73,18906.07,18916.86,18910.46,18895.38,18903.75,18907.85,18911.97,18909.38,18915.15,18920.01,18923.31,18926.72,18915.58,18928.82,18929.91,18949.94,18940.8,18941.97,18919.73,18917.29,18925.02,18912.65,18908.24,18912.81,18920.5,18921.63,18915.89,18920.42,18920.2,18923.02,18927.27,18938.25,18935.68,18925.09,18920.67,18925.72,18929.87,18924.58,18927.66,18932.51,18944.17,18944.85,18950.09,18955.1,18951.39,18956.9,18959.63,18956.09,18967.76,18991.24,18993.55,19005.52,18997.64,18995.09,18998.32,19003.67,19002.18,18984.45,18982.64,18984.59,18985.59,18988.9,18998.36,18997.87,18994.9,18988.78,18979.18,18987.79,18993.6,18987.47,18992.41,18987.35,18987.2,18991.64,19003.51,19000.75,19000.21,18997.09,18998.28,19004.96,19005.0,19007.35,19002.95,18997.69,18987.88,18986.97,18987.81,18995.03,19009.16,18997.33,19007.62,19007.36,19023.41,19042.67,19031.31,19039.24,19038.28,19039.19,19046.35,19051.75,19065.53,19066.16,19073.77,19084.62,19109.4,19088.79,19073.34,19082.82,19065.32,19055.04,19047.57,19037.14,19012.06,19035.63,19040.66,19036.53,19040.48,19034.75,19043.34,19048.6,19047.47,19048.14,19045.54,19046.2,19062.47,19056.33,19048.27,19050.04,19058.57,19047.51,19050.44,19055.44,19052.99,19042.51,19038.11,19031.42,19012.68,19034.2,19034.81,19033.43,19027.67,19025.27,19026.72,19004.29,18986.1,18973.06,18947.92,18878.89,18892.24,18913.15,18899.7,18883.76,18895.68,18916.75,18916.61,18942.98,18934.38,18962.34,18957.46,18939.9,18938.95,18935.32,18937.73,18940.38,18943.73,18967.92,18966.38,18969.55,18960.41,18056.78,18935.16,18933.29,18918.62,18926.06,18919.04,18928.47,18941.09,18939.38,18934.66,18940.59,18919.78,18921.37,18914.18,18914.26,18919.5,18914.09,18933.17,18908.99,18913.63,18918.03,18921.6,18929.19,18966.42,18971.75,18971.18,18987.74,18991.31,18987.67,18978.32,18978.51,19024.45,19015.61,19002.23,19003.17,19000.16,18998.22,19006.66,19005.89,19011.47,18988.08,18984.14,18987.34,18979.08,18991.81,18973.44,18975.37,18979.07,18978.31,18982.32,18972.85,18971.04,18969.73,18969.47,18965.52,18957.9,18950.28,18964.37,18963.82,18963.72,18963.91,18967.13,18966.82,18975.49,18980.37,18976.69,18973.67,18979.32,18979.54,18973.9,18979.65,18951.05,18947.97,18955.05,18955.45,18912.37,18893.09,18905.54,18902.9,18901.28,18919.93,18910.88,18882.22,18887.14,18888.75,18902.57,18925.83,18926.14,18946.48,18960.75,18945.48,18944.78,18940.53,18933.84,18929.3,18929.11,18927.91,18928.14,18926.56,18922.27,18933.65,18942.95,18942.26,18941.83,18944.39,18944.05,18944.13,18960.13,18954.04,18953.75,18950.17,18953.87,18949.32,18953.55,18954.98,18959.95,18970.54,18981.82,18985.18,18977.0,18969.74,18977.0,18977.02,18973.85,18973.04,18971.96,18971.03,18970.07,18983.18,18935.64,18931.5,18935.38,18926.51,18927.64,18926.91,18929.58,18897.99,18903.45,18898.41,18889.91,18881.41,18892.73,18890.94,18884.01,18900.11,18895.74,18903.48,18914.56,18908.45,18911.0,18907.43,18916.16,18919.31,18916.3,18919.0,18919.42,18915.34,18922.39,18919.59,18917.3,18915.38,18914.64,18919.09,18925.13,18917.98,18921.53,18922.3,18922.58,18923.29,18923.58,18888.97,18894.41,18899.37,18907.9,18909.27,18909.13,18909.95,18897.84,18916.37,18929.86,18926.43,18928.36,18928.8,18928.28,18933.1,18942.95,18942.41,18943.12,18945.82,18947.53,18942.76,18941.31,18943.03],\"x\":[\"2022-09-25 00:00:59.999\",\"2022-09-25 00:01:59.999\",\"2022-09-25 00:02:59.999\",\"2022-09-25 00:03:59.999\",\"2022-09-25 00:04:59.999\",\"2022-09-25 00:05:59.999\",\"2022-09-25 00:06:59.999\",\"2022-09-25 00:07:59.999\",\"2022-09-25 00:08:59.999\",\"2022-09-25 00:09:59.999\",\"2022-09-25 00:10:59.999\",\"2022-09-25 00:11:59.999\",\"2022-09-25 00:12:59.999\",\"2022-09-25 00:13:59.999\",\"2022-09-25 00:14:59.999\",\"2022-09-25 00:15:59.999\",\"2022-09-25 00:16:59.999\",\"2022-09-25 00:17:59.999\",\"2022-09-25 00:18:59.999\",\"2022-09-25 00:19:59.999\",\"2022-09-25 00:20:59.999\",\"2022-09-25 00:21:59.999\",\"2022-09-25 00:22:59.999\",\"2022-09-25 00:23:59.999\",\"2022-09-25 00:24:59.999\",\"2022-09-25 00:25:59.999\",\"2022-09-25 00:26:59.999\",\"2022-09-25 00:27:59.999\",\"2022-09-25 00:28:59.999\",\"2022-09-25 00:29:59.999\",\"2022-09-25 00:30:59.999\",\"2022-09-25 00:31:59.999\",\"2022-09-25 00:32:59.999\",\"2022-09-25 00:33:59.999\",\"2022-09-25 00:34:59.999\",\"2022-09-25 00:35:59.999\",\"2022-09-25 00:36:59.999\",\"2022-09-25 00:37:59.999\",\"2022-09-25 00:38:59.999\",\"2022-09-25 00:39:59.999\",\"2022-09-25 00:40:59.999\",\"2022-09-25 00:42:59.999\",\"2022-09-25 00:43:59.999\",\"2022-09-25 00:44:59.999\",\"2022-09-25 00:45:59.999\",\"2022-09-25 00:46:59.999\",\"2022-09-25 00:47:59.999\",\"2022-09-25 00:48:59.999\",\"2022-09-25 00:49:59.999\",\"2022-09-25 00:51:59.999\",\"2022-09-25 00:52:59.999\",\"2022-09-25 00:53:59.999\",\"2022-09-25 00:54:59.999\",\"2022-09-25 00:55:59.999\",\"2022-09-25 00:56:59.999\",\"2022-09-25 00:57:59.999\",\"2022-09-25 00:58:59.999\",\"2022-09-25 00:59:59.999\",\"2022-09-25 01:00:59.999\",\"2022-09-25 01:01:59.999\",\"2022-09-25 01:02:59.999\",\"2022-09-25 01:04:59.999\",\"2022-09-25 01:05:59.999\",\"2022-09-25 01:06:59.999\",\"2022-09-25 01:07:59.999\",\"2022-09-25 01:08:59.999\",\"2022-09-25 01:09:59.999\",\"2022-09-25 01:10:59.999\",\"2022-09-25 01:11:59.999\",\"2022-09-25 01:12:59.999\",\"2022-09-25 01:13:59.999\",\"2022-09-25 01:14:59.999\",\"2022-09-25 01:15:59.999\",\"2022-09-25 01:16:59.999\",\"2022-09-25 01:17:59.999\",\"2022-09-25 01:18:59.999\",\"2022-09-25 01:19:59.999\",\"2022-09-25 01:20:59.999\",\"2022-09-25 01:21:59.999\",\"2022-09-25 01:22:59.999\",\"2022-09-25 01:23:59.999\",\"2022-09-25 01:24:59.999\",\"2022-09-25 01:25:59.999\",\"2022-09-25 01:26:59.999\",\"2022-09-25 01:27:59.999\",\"2022-09-25 01:28:59.999\",\"2022-09-25 01:29:59.999\",\"2022-09-25 01:31:59.999\",\"2022-09-25 01:32:59.999\",\"2022-09-25 01:33:59.999\",\"2022-09-25 01:34:59.999\",\"2022-09-25 01:35:59.999\",\"2022-09-25 01:36:59.999\",\"2022-09-25 01:37:59.999\",\"2022-09-25 01:38:59.999\",\"2022-09-25 01:39:59.999\",\"2022-09-25 01:40:59.999\",\"2022-09-25 01:41:59.999\",\"2022-09-25 01:42:59.999\",\"2022-09-25 01:43:59.999\",\"2022-09-25 01:44:59.999\",\"2022-09-25 01:45:59.999\",\"2022-09-25 01:46:59.999\",\"2022-09-25 01:47:59.999\",\"2022-09-25 01:48:59.999\",\"2022-09-25 01:49:59.999\",\"2022-09-25 01:50:59.999\",\"2022-09-25 01:51:59.999\",\"2022-09-25 01:52:59.999\",\"2022-09-25 01:53:59.999\",\"2022-09-25 01:54:59.999\",\"2022-09-25 01:55:59.999\",\"2022-09-25 01:56:59.999\",\"2022-09-25 01:57:59.999\",\"2022-09-25 01:58:59.999\",\"2022-09-25 01:59:59.999\",\"2022-09-25 02:00:59.999\",\"2022-09-25 02:01:59.999\",\"2022-09-25 02:02:59.999\",\"2022-09-25 02:03:59.999\",\"2022-09-25 02:04:59.999\",\"2022-09-25 02:05:59.999\",\"2022-09-25 02:06:59.999\",\"2022-09-25 02:07:59.999\",\"2022-09-25 02:08:59.999\",\"2022-09-25 02:09:59.999\",\"2022-09-25 02:10:59.999\",\"2022-09-25 02:11:59.999\",\"2022-09-25 02:12:59.999\",\"2022-09-25 02:13:59.999\",\"2022-09-25 02:14:59.999\",\"2022-09-25 02:15:59.999\",\"2022-09-25 02:16:59.999\",\"2022-09-25 02:17:59.999\",\"2022-09-25 02:18:59.999\",\"2022-09-25 02:19:59.999\",\"2022-09-25 02:20:59.999\",\"2022-09-25 02:21:59.999\",\"2022-09-25 02:22:59.999\",\"2022-09-25 02:23:59.999\",\"2022-09-25 02:24:59.999\",\"2022-09-25 02:25:59.999\",\"2022-09-25 02:26:59.999\",\"2022-09-25 02:27:59.999\",\"2022-09-25 02:28:59.999\",\"2022-09-25 02:29:59.999\",\"2022-09-25 02:30:59.999\",\"2022-09-25 02:31:59.999\",\"2022-09-25 02:32:59.999\",\"2022-09-25 02:33:59.999\",\"2022-09-25 02:34:59.999\",\"2022-09-25 02:35:59.999\",\"2022-09-25 02:36:59.999\",\"2022-09-25 02:37:59.999\",\"2022-09-25 02:38:59.999\",\"2022-09-25 02:39:59.999\",\"2022-09-25 02:40:59.999\",\"2022-09-25 02:41:59.999\",\"2022-09-25 02:42:59.999\",\"2022-09-25 02:43:59.999\",\"2022-09-25 02:44:59.999\",\"2022-09-25 02:46:59.999\",\"2022-09-25 02:47:59.999\",\"2022-09-25 02:48:59.999\",\"2022-09-25 02:49:59.999\",\"2022-09-25 02:50:59.999\",\"2022-09-25 02:51:59.999\",\"2022-09-25 02:52:59.999\",\"2022-09-25 02:53:59.999\",\"2022-09-25 02:54:59.999\",\"2022-09-25 02:55:59.999\",\"2022-09-25 02:56:59.999\",\"2022-09-25 02:57:59.999\",\"2022-09-25 02:58:59.999\",\"2022-09-25 02:59:59.999\",\"2022-09-25 03:00:59.999\",\"2022-09-25 03:01:59.999\",\"2022-09-25 03:02:59.999\",\"2022-09-25 03:03:59.999\",\"2022-09-25 03:04:59.999\",\"2022-09-25 03:05:59.999\",\"2022-09-25 03:06:59.999\",\"2022-09-25 03:07:59.999\",\"2022-09-25 03:08:59.999\",\"2022-09-25 03:09:59.999\",\"2022-09-25 03:10:59.999\",\"2022-09-25 03:11:59.999\",\"2022-09-25 03:12:59.999\",\"2022-09-25 03:13:59.999\",\"2022-09-25 03:14:59.999\",\"2022-09-25 03:15:59.999\",\"2022-09-25 03:16:59.999\",\"2022-09-25 03:17:59.999\",\"2022-09-25 03:18:59.999\",\"2022-09-25 03:19:59.999\",\"2022-09-25 03:20:59.999\",\"2022-09-25 03:21:59.999\",\"2022-09-25 03:22:59.999\",\"2022-09-25 03:23:59.999\",\"2022-09-25 03:24:59.999\",\"2022-09-25 03:25:59.999\",\"2022-09-25 03:26:59.999\",\"2022-09-25 03:27:59.999\",\"2022-09-25 03:28:59.999\",\"2022-09-25 03:29:59.999\",\"2022-09-25 03:30:59.999\",\"2022-09-25 03:31:59.999\",\"2022-09-25 03:32:59.999\",\"2022-09-25 03:33:59.999\",\"2022-09-25 03:34:59.999\",\"2022-09-25 03:35:59.999\",\"2022-09-25 03:36:59.999\",\"2022-09-25 03:37:59.999\",\"2022-09-25 03:38:59.999\",\"2022-09-25 03:39:59.999\",\"2022-09-25 03:40:59.999\",\"2022-09-25 03:41:59.999\",\"2022-09-25 03:42:59.999\",\"2022-09-25 03:43:59.999\",\"2022-09-25 03:44:59.999\",\"2022-09-25 03:45:59.999\",\"2022-09-25 03:46:59.999\",\"2022-09-25 03:47:59.999\",\"2022-09-25 03:48:59.999\",\"2022-09-25 03:49:59.999\",\"2022-09-25 03:50:59.999\",\"2022-09-25 03:51:59.999\",\"2022-09-25 03:52:59.999\",\"2022-09-25 03:53:59.999\",\"2022-09-25 03:54:59.999\",\"2022-09-25 03:55:59.999\",\"2022-09-25 03:56:59.999\",\"2022-09-25 03:57:59.999\",\"2022-09-25 03:58:59.999\",\"2022-09-25 03:59:59.999\",\"2022-09-25 04:00:59.999\",\"2022-09-25 04:01:59.999\",\"2022-09-25 04:02:59.999\",\"2022-09-25 04:03:59.999\",\"2022-09-25 04:04:59.999\",\"2022-09-25 04:05:59.999\",\"2022-09-25 04:06:59.999\",\"2022-09-25 04:07:59.999\",\"2022-09-25 04:08:59.999\",\"2022-09-25 04:09:59.999\",\"2022-09-25 04:10:59.999\",\"2022-09-25 04:11:59.999\",\"2022-09-25 04:12:59.999\",\"2022-09-25 04:13:59.999\",\"2022-09-25 04:14:59.999\",\"2022-09-25 04:15:59.999\",\"2022-09-25 04:16:59.999\",\"2022-09-25 04:17:59.999\",\"2022-09-25 04:18:59.999\",\"2022-09-25 04:19:59.999\",\"2022-09-25 04:20:59.999\",\"2022-09-25 04:21:59.999\",\"2022-09-25 04:22:59.999\",\"2022-09-25 04:23:59.999\",\"2022-09-25 04:24:59.999\",\"2022-09-25 04:25:59.999\",\"2022-09-25 04:26:59.999\",\"2022-09-25 04:27:59.999\",\"2022-09-25 04:28:59.999\",\"2022-09-25 04:29:59.999\",\"2022-09-25 04:30:59.999\",\"2022-09-25 04:31:59.999\",\"2022-09-25 04:32:59.999\",\"2022-09-25 04:33:59.999\",\"2022-09-25 04:34:59.999\",\"2022-09-25 04:35:59.999\",\"2022-09-25 04:36:59.999\",\"2022-09-25 04:37:59.999\",\"2022-09-25 04:38:59.999\",\"2022-09-25 04:39:59.999\",\"2022-09-25 04:40:59.999\",\"2022-09-25 04:41:59.999\",\"2022-09-25 04:42:59.999\",\"2022-09-25 04:43:59.999\",\"2022-09-25 04:44:59.999\",\"2022-09-25 04:45:59.999\",\"2022-09-25 04:46:59.999\",\"2022-09-25 04:47:59.999\",\"2022-09-25 04:48:59.999\",\"2022-09-25 04:49:59.999\",\"2022-09-25 04:50:59.999\",\"2022-09-25 04:51:59.999\",\"2022-09-25 04:52:59.999\",\"2022-09-25 04:53:59.999\",\"2022-09-25 04:54:59.999\",\"2022-09-25 04:55:59.999\",\"2022-09-25 04:56:59.999\",\"2022-09-25 04:57:59.999\",\"2022-09-25 04:58:59.999\",\"2022-09-25 04:59:59.999\",\"2022-09-25 05:00:59.999\",\"2022-09-25 05:01:59.999\",\"2022-09-25 05:02:59.999\",\"2022-09-25 05:03:59.999\",\"2022-09-25 05:04:59.999\",\"2022-09-25 05:05:59.999\",\"2022-09-25 05:06:59.999\",\"2022-09-25 05:07:59.999\",\"2022-09-25 05:08:59.999\",\"2022-09-25 05:09:59.999\",\"2022-09-25 05:10:59.999\",\"2022-09-25 05:11:59.999\",\"2022-09-25 05:12:59.999\",\"2022-09-25 05:13:59.999\",\"2022-09-25 05:14:59.999\",\"2022-09-25 05:15:59.999\",\"2022-09-25 05:16:59.999\",\"2022-09-25 05:17:59.999\",\"2022-09-25 05:18:59.999\",\"2022-09-25 05:19:59.999\",\"2022-09-25 05:20:59.999\",\"2022-09-25 05:22:59.999\",\"2022-09-25 05:23:59.999\",\"2022-09-25 05:24:59.999\",\"2022-09-25 05:25:59.999\",\"2022-09-25 05:26:59.999\",\"2022-09-25 05:27:59.999\",\"2022-09-25 05:28:59.999\",\"2022-09-25 05:29:59.999\",\"2022-09-25 05:30:59.999\",\"2022-09-25 05:31:59.999\",\"2022-09-25 05:32:59.999\",\"2022-09-25 05:33:59.999\",\"2022-09-25 05:34:59.999\",\"2022-09-25 05:35:59.999\",\"2022-09-25 05:36:59.999\",\"2022-09-25 05:37:59.999\",\"2022-09-25 05:38:59.999\",\"2022-09-25 05:39:59.999\",\"2022-09-25 05:40:59.999\",\"2022-09-25 05:41:59.999\",\"2022-09-25 05:42:59.999\",\"2022-09-25 05:43:59.999\",\"2022-09-25 05:44:59.999\",\"2022-09-25 05:45:59.999\",\"2022-09-25 05:46:59.999\",\"2022-09-25 05:47:59.999\",\"2022-09-25 05:48:59.999\",\"2022-09-25 05:49:59.999\",\"2022-09-25 05:50:59.999\",\"2022-09-25 05:51:59.999\",\"2022-09-25 05:52:59.999\",\"2022-09-25 05:53:59.999\",\"2022-09-25 05:54:59.999\",\"2022-09-25 05:55:59.999\",\"2022-09-25 05:56:59.999\",\"2022-09-25 05:57:59.999\",\"2022-09-25 05:58:59.999\",\"2022-09-25 05:59:59.999\",\"2022-09-25 06:00:59.999\",\"2022-09-25 06:01:59.999\",\"2022-09-25 06:02:59.999\",\"2022-09-25 06:03:59.999\",\"2022-09-25 06:04:59.999\",\"2022-09-25 06:05:59.999\",\"2022-09-25 06:06:59.999\",\"2022-09-25 06:07:59.999\",\"2022-09-25 06:08:59.999\",\"2022-09-25 06:09:59.999\",\"2022-09-25 06:10:59.999\",\"2022-09-25 06:11:59.999\",\"2022-09-25 06:12:59.999\",\"2022-09-25 06:13:59.999\",\"2022-09-25 06:14:59.999\",\"2022-09-25 06:15:59.999\",\"2022-09-25 06:16:59.999\",\"2022-09-25 06:17:59.999\",\"2022-09-25 06:18:59.999\",\"2022-09-25 06:19:59.999\",\"2022-09-25 06:20:59.999\",\"2022-09-25 06:21:59.999\",\"2022-09-25 06:22:59.999\",\"2022-09-25 06:23:59.999\",\"2022-09-25 06:24:59.999\",\"2022-09-25 06:25:59.999\",\"2022-09-25 06:26:59.999\",\"2022-09-25 06:27:59.999\",\"2022-09-25 06:28:59.999\",\"2022-09-25 06:29:59.999\",\"2022-09-25 06:30:59.999\",\"2022-09-25 06:31:59.999\",\"2022-09-25 06:32:59.999\",\"2022-09-25 06:33:59.999\",\"2022-09-25 06:34:59.999\",\"2022-09-25 06:35:59.999\",\"2022-09-25 06:36:59.999\",\"2022-09-25 06:37:59.999\",\"2022-09-25 06:38:59.999\",\"2022-09-25 06:39:59.999\",\"2022-09-25 06:40:59.999\",\"2022-09-25 06:41:59.999\",\"2022-09-25 06:42:59.999\",\"2022-09-25 06:43:59.999\",\"2022-09-25 06:44:59.999\",\"2022-09-25 06:45:59.999\",\"2022-09-25 06:46:59.999\",\"2022-09-25 06:47:59.999\",\"2022-09-25 06:48:59.999\",\"2022-09-25 06:49:59.999\",\"2022-09-25 06:50:59.999\",\"2022-09-25 06:51:59.999\",\"2022-09-25 06:52:59.999\",\"2022-09-25 06:53:59.999\",\"2022-09-25 06:54:59.999\",\"2022-09-25 06:55:59.999\",\"2022-09-25 06:56:59.999\",\"2022-09-25 06:57:59.999\",\"2022-09-25 06:58:59.999\",\"2022-09-25 06:59:59.999\",\"2022-09-25 07:00:59.999\",\"2022-09-25 07:01:59.999\",\"2022-09-25 07:02:59.999\",\"2022-09-25 07:03:59.999\",\"2022-09-25 07:04:59.999\",\"2022-09-25 07:05:59.999\",\"2022-09-25 07:06:59.999\",\"2022-09-25 07:07:59.999\",\"2022-09-25 07:08:59.999\",\"2022-09-25 07:09:59.999\",\"2022-09-25 07:11:59.999\",\"2022-09-25 07:12:59.999\",\"2022-09-25 07:13:59.999\",\"2022-09-25 07:14:59.999\",\"2022-09-25 07:15:59.999\",\"2022-09-25 07:16:59.999\",\"2022-09-25 07:17:59.999\",\"2022-09-25 07:18:59.999\",\"2022-09-25 07:19:59.999\",\"2022-09-25 07:20:59.999\",\"2022-09-25 07:21:59.999\",\"2022-09-25 07:22:59.999\",\"2022-09-25 07:23:59.999\",\"2022-09-25 07:24:59.999\",\"2022-09-25 07:25:59.999\",\"2022-09-25 07:26:59.999\",\"2022-09-25 07:27:59.999\",\"2022-09-25 07:28:59.999\",\"2022-09-25 07:29:59.999\",\"2022-09-25 07:30:59.999\",\"2022-09-25 07:31:59.999\",\"2022-09-25 07:32:59.999\",\"2022-09-25 07:33:59.999\",\"2022-09-25 07:34:59.999\",\"2022-09-25 07:35:59.999\",\"2022-09-25 07:36:59.999\",\"2022-09-25 07:37:59.999\",\"2022-09-25 07:38:59.999\",\"2022-09-25 07:39:59.999\",\"2022-09-25 07:40:59.999\",\"2022-09-25 07:41:59.999\",\"2022-09-25 07:42:59.999\",\"2022-09-25 07:43:59.999\",\"2022-09-25 07:44:59.999\",\"2022-09-25 07:45:59.999\",\"2022-09-25 07:46:59.999\",\"2022-09-25 07:47:59.999\",\"2022-09-25 07:48:59.999\",\"2022-09-25 07:49:59.999\",\"2022-09-25 07:50:59.999\",\"2022-09-25 07:51:59.999\",\"2022-09-25 07:52:59.999\",\"2022-09-25 07:53:59.999\",\"2022-09-25 07:54:59.999\",\"2022-09-25 07:55:59.999\",\"2022-09-25 07:56:59.999\",\"2022-09-25 07:57:59.999\",\"2022-09-25 07:58:59.999\",\"2022-09-25 07:59:59.999\",\"2022-09-25 08:00:59.999\",\"2022-09-25 08:01:59.999\",\"2022-09-25 08:02:59.999\",\"2022-09-25 08:03:59.999\",\"2022-09-25 08:04:59.999\",\"2022-09-25 08:05:59.999\",\"2022-09-25 08:06:59.999\",\"2022-09-25 08:07:59.999\",\"2022-09-25 08:08:59.999\",\"2022-09-25 08:09:59.999\",\"2022-09-25 08:10:59.999\",\"2022-09-25 08:11:59.999\",\"2022-09-25 08:12:59.999\",\"2022-09-25 08:13:59.999\",\"2022-09-25 08:14:59.999\",\"2022-09-25 08:15:59.999\",\"2022-09-25 08:16:59.999\",\"2022-09-25 08:17:59.999\",\"2022-09-25 08:18:59.999\",\"2022-09-25 08:19:59.999\",\"2022-09-25 08:20:59.999\",\"2022-09-25 08:21:59.999\",\"2022-09-25 08:22:59.999\",\"2022-09-25 08:23:59.999\",\"2022-09-25 08:24:59.999\",\"2022-09-25 08:25:59.999\",\"2022-09-25 08:26:59.999\",\"2022-09-25 08:27:59.999\",\"2022-09-25 08:28:59.999\",\"2022-09-25 08:29:59.999\",\"2022-09-25 08:30:59.999\",\"2022-09-25 08:31:59.999\",\"2022-09-25 08:32:59.999\",\"2022-09-25 08:33:59.999\",\"2022-09-25 08:34:59.999\",\"2022-09-25 08:35:59.999\",\"2022-09-25 08:36:59.999\",\"2022-09-25 08:37:59.999\",\"2022-09-25 08:38:59.999\",\"2022-09-25 08:39:59.999\",\"2022-09-25 08:40:59.999\",\"2022-09-25 08:41:59.999\",\"2022-09-25 08:42:59.999\",\"2022-09-25 08:43:59.999\",\"2022-09-25 08:44:59.999\",\"2022-09-25 08:45:59.999\",\"2022-09-25 08:46:59.999\",\"2022-09-25 08:47:59.999\",\"2022-09-25 08:48:59.999\",\"2022-09-25 08:49:59.999\",\"2022-09-25 08:50:59.999\",\"2022-09-25 08:51:59.999\",\"2022-09-25 08:52:59.999\",\"2022-09-25 08:53:59.999\",\"2022-09-25 08:54:59.999\",\"2022-09-25 08:55:59.999\",\"2022-09-25 08:56:59.999\",\"2022-09-25 08:57:59.999\",\"2022-09-25 08:58:59.999\",\"2022-09-25 08:59:59.999\",\"2022-09-25 09:00:59.999\",\"2022-09-25 09:01:59.999\",\"2022-09-25 09:02:59.999\",\"2022-09-25 09:03:59.999\",\"2022-09-25 09:04:59.999\",\"2022-09-25 09:05:59.999\",\"2022-09-25 09:06:59.999\",\"2022-09-25 09:07:59.999\",\"2022-09-25 09:08:59.999\",\"2022-09-25 09:09:59.999\",\"2022-09-25 09:10:59.999\",\"2022-09-25 09:11:59.999\",\"2022-09-25 09:12:59.999\",\"2022-09-25 09:13:59.999\",\"2022-09-25 09:14:59.999\",\"2022-09-25 09:15:59.999\",\"2022-09-25 09:16:59.999\",\"2022-09-25 09:17:59.999\",\"2022-09-25 09:18:59.999\",\"2022-09-25 09:19:59.999\",\"2022-09-25 09:20:59.999\",\"2022-09-25 09:21:59.999\",\"2022-09-25 09:22:59.999\",\"2022-09-25 09:23:59.999\",\"2022-09-25 09:24:59.999\",\"2022-09-25 09:25:59.999\",\"2022-09-25 09:26:59.999\",\"2022-09-25 09:27:59.999\",\"2022-09-25 09:28:59.999\",\"2022-09-25 09:29:59.999\",\"2022-09-25 09:30:59.999\",\"2022-09-25 09:31:59.999\",\"2022-09-25 09:32:59.999\",\"2022-09-25 09:33:59.999\",\"2022-09-25 09:34:59.999\",\"2022-09-25 09:35:59.999\",\"2022-09-25 09:36:59.999\",\"2022-09-25 09:37:59.999\",\"2022-09-25 09:38:59.999\",\"2022-09-25 09:39:59.999\",\"2022-09-25 09:40:59.999\",\"2022-09-25 09:42:59.999\",\"2022-09-25 09:43:59.999\",\"2022-09-25 09:44:59.999\",\"2022-09-25 09:45:59.999\",\"2022-09-25 09:46:59.999\",\"2022-09-25 09:47:59.999\",\"2022-09-25 09:48:59.999\",\"2022-09-25 09:49:59.999\",\"2022-09-25 09:50:59.999\",\"2022-09-25 09:51:59.999\",\"2022-09-25 09:52:59.999\",\"2022-09-25 09:53:59.999\",\"2022-09-25 09:55:59.999\",\"2022-09-25 09:56:59.999\",\"2022-09-25 09:57:59.999\",\"2022-09-25 09:58:59.999\",\"2022-09-25 09:59:59.999\",\"2022-09-25 10:00:59.999\",\"2022-09-25 10:01:59.999\",\"2022-09-25 10:02:59.999\",\"2022-09-25 10:03:59.999\",\"2022-09-25 10:04:59.999\",\"2022-09-25 10:05:59.999\",\"2022-09-25 10:06:59.999\",\"2022-09-25 10:07:59.999\",\"2022-09-25 10:08:59.999\",\"2022-09-25 10:09:59.999\",\"2022-09-25 10:10:59.999\",\"2022-09-25 10:11:59.999\",\"2022-09-25 10:12:59.999\",\"2022-09-25 10:13:59.999\",\"2022-09-25 10:14:59.999\",\"2022-09-25 10:15:59.999\",\"2022-09-25 10:16:59.999\",\"2022-09-25 10:17:59.999\",\"2022-09-25 10:18:59.999\",\"2022-09-25 10:19:59.999\",\"2022-09-25 10:20:59.999\",\"2022-09-25 10:21:59.999\",\"2022-09-25 10:22:59.999\",\"2022-09-25 10:23:59.999\",\"2022-09-25 10:24:59.999\",\"2022-09-25 10:25:59.999\",\"2022-09-25 10:26:59.999\",\"2022-09-25 10:27:59.999\",\"2022-09-25 10:28:59.999\",\"2022-09-25 10:29:59.999\",\"2022-09-25 10:30:59.999\",\"2022-09-25 10:31:59.999\",\"2022-09-25 10:32:59.999\",\"2022-09-25 10:33:59.999\",\"2022-09-25 10:34:59.999\",\"2022-09-25 10:35:59.999\",\"2022-09-25 10:36:59.999\",\"2022-09-25 10:37:59.999\",\"2022-09-25 10:38:59.999\",\"2022-09-25 10:39:59.999\",\"2022-09-25 10:40:59.999\",\"2022-09-25 10:41:59.999\",\"2022-09-25 10:42:59.999\",\"2022-09-25 10:43:59.999\",\"2022-09-25 10:44:59.999\",\"2022-09-25 10:45:59.999\",\"2022-09-25 10:47:59.999\",\"2022-09-25 10:48:59.999\",\"2022-09-25 10:49:59.999\",\"2022-09-25 10:50:59.999\",\"2022-09-25 10:51:59.999\",\"2022-09-25 10:52:59.999\",\"2022-09-25 10:53:59.999\",\"2022-09-25 10:54:59.999\",\"2022-09-25 10:55:59.999\",\"2022-09-25 10:56:59.999\",\"2022-09-25 10:57:59.999\",\"2022-09-25 10:58:59.999\",\"2022-09-25 10:59:59.999\",\"2022-09-25 11:00:59.999\",\"2022-09-25 11:01:59.999\",\"2022-09-25 11:02:59.999\",\"2022-09-25 11:03:59.999\",\"2022-09-25 11:04:59.999\",\"2022-09-25 11:05:59.999\",\"2022-09-25 11:06:59.999\",\"2022-09-25 11:07:59.999\",\"2022-09-25 11:08:59.999\",\"2022-09-25 11:09:59.999\",\"2022-09-25 11:10:59.999\",\"2022-09-25 11:11:59.999\",\"2022-09-25 11:12:59.999\",\"2022-09-25 11:13:59.999\",\"2022-09-25 11:14:59.999\",\"2022-09-25 11:15:59.999\",\"2022-09-25 11:16:59.999\",\"2022-09-25 11:17:59.999\",\"2022-09-25 11:18:59.999\",\"2022-09-25 11:19:59.999\",\"2022-09-25 11:20:59.999\",\"2022-09-25 11:21:59.999\",\"2022-09-25 11:22:59.999\",\"2022-09-25 11:23:59.999\",\"2022-09-25 11:24:59.999\",\"2022-09-25 11:25:59.999\",\"2022-09-25 11:26:59.999\",\"2022-09-25 11:27:59.999\",\"2022-09-25 11:28:59.999\",\"2022-09-25 11:29:59.999\",\"2022-09-25 11:30:59.999\",\"2022-09-25 11:31:59.999\",\"2022-09-25 11:32:59.999\",\"2022-09-25 11:33:59.999\",\"2022-09-25 11:34:59.999\",\"2022-09-25 11:35:59.999\",\"2022-09-25 11:36:59.999\",\"2022-09-25 11:37:59.999\",\"2022-09-25 11:38:59.999\",\"2022-09-25 11:39:59.999\",\"2022-09-25 11:40:59.999\",\"2022-09-25 11:41:59.999\",\"2022-09-25 11:42:59.999\",\"2022-09-25 11:43:59.999\",\"2022-09-25 11:44:59.999\",\"2022-09-25 11:45:59.999\",\"2022-09-25 11:46:59.999\",\"2022-09-25 11:47:59.999\",\"2022-09-25 11:48:59.999\",\"2022-09-25 11:52:59.999\",\"2022-09-25 11:54:59.999\",\"2022-09-25 11:56:59.999\",\"2022-09-25 11:57:59.999\",\"2022-09-25 11:58:59.999\",\"2022-09-25 11:59:59.999\",\"2022-09-25 12:01:59.999\",\"2022-09-25 12:02:59.999\",\"2022-09-25 12:03:59.999\",\"2022-09-25 12:04:59.999\",\"2022-09-25 12:05:59.999\",\"2022-09-25 12:06:59.999\",\"2022-09-25 12:07:59.999\",\"2022-09-25 12:08:59.999\",\"2022-09-25 12:09:59.999\",\"2022-09-25 12:10:59.999\",\"2022-09-25 12:11:59.999\",\"2022-09-25 12:13:59.999\",\"2022-09-25 12:14:59.999\",\"2022-09-25 12:15:59.999\",\"2022-09-25 12:17:59.999\",\"2022-09-25 12:18:59.999\",\"2022-09-25 12:21:59.999\",\"2022-09-25 12:22:59.999\",\"2022-09-25 12:23:59.999\",\"2022-09-25 12:24:59.999\",\"2022-09-25 12:25:59.999\",\"2022-09-25 12:26:59.999\",\"2022-09-25 12:27:59.999\",\"2022-09-25 12:28:59.999\",\"2022-09-25 12:29:59.999\",\"2022-09-25 12:30:59.999\",\"2022-09-25 12:31:59.999\",\"2022-09-25 12:32:59.999\",\"2022-09-25 12:33:59.999\",\"2022-09-25 12:34:59.999\",\"2022-09-25 12:35:59.999\",\"2022-09-25 12:36:59.999\",\"2022-09-25 12:37:59.999\",\"2022-09-25 12:38:59.999\",\"2022-09-25 12:39:59.999\",\"2022-09-25 12:40:59.999\",\"2022-09-25 12:41:59.999\",\"2022-09-25 12:42:59.999\",\"2022-09-25 12:43:59.999\",\"2022-09-25 12:44:59.999\",\"2022-09-25 12:45:59.999\",\"2022-09-25 12:46:59.999\",\"2022-09-25 12:47:59.999\",\"2022-09-25 12:48:59.999\",\"2022-09-25 12:49:59.999\",\"2022-09-25 12:50:59.999\",\"2022-09-25 12:51:59.999\",\"2022-09-25 12:52:59.999\",\"2022-09-25 12:53:59.999\",\"2022-09-25 12:54:59.999\",\"2022-09-25 12:55:59.999\",\"2022-09-25 12:56:59.999\",\"2022-09-25 12:57:59.999\",\"2022-09-25 12:58:59.999\",\"2022-09-25 12:59:59.999\",\"2022-09-25 13:00:59.999\",\"2022-09-25 13:01:59.999\",\"2022-09-25 13:02:59.999\",\"2022-09-25 13:03:59.999\",\"2022-09-25 13:04:59.999\",\"2022-09-25 13:05:59.999\",\"2022-09-25 13:06:59.999\",\"2022-09-25 13:07:59.999\",\"2022-09-25 13:08:59.999\",\"2022-09-25 13:09:59.999\",\"2022-09-25 13:10:59.999\",\"2022-09-25 13:11:59.999\",\"2022-09-25 13:12:59.999\",\"2022-09-25 13:13:59.999\",\"2022-09-25 13:14:59.999\",\"2022-09-25 13:15:59.999\",\"2022-09-25 13:16:59.999\",\"2022-09-25 13:17:59.999\",\"2022-09-25 13:18:59.999\",\"2022-09-25 13:19:59.999\",\"2022-09-25 13:20:59.999\",\"2022-09-25 13:21:59.999\",\"2022-09-25 13:22:59.999\",\"2022-09-25 13:23:59.999\",\"2022-09-25 13:24:59.999\",\"2022-09-25 13:25:59.999\",\"2022-09-25 13:26:59.999\",\"2022-09-25 13:27:59.999\",\"2022-09-25 13:28:59.999\",\"2022-09-25 13:29:59.999\",\"2022-09-25 13:30:59.999\",\"2022-09-25 13:31:59.999\",\"2022-09-25 13:32:59.999\",\"2022-09-25 13:33:59.999\",\"2022-09-25 13:34:59.999\",\"2022-09-25 13:35:59.999\",\"2022-09-25 13:36:59.999\",\"2022-09-25 13:37:59.999\",\"2022-09-25 13:38:59.999\",\"2022-09-25 13:40:59.999\",\"2022-09-25 13:41:59.999\",\"2022-09-25 13:42:59.999\",\"2022-09-25 13:43:59.999\",\"2022-09-25 13:44:59.999\",\"2022-09-25 13:45:59.999\",\"2022-09-25 13:46:59.999\",\"2022-09-25 13:47:59.999\",\"2022-09-25 13:48:59.999\",\"2022-09-25 13:49:59.999\",\"2022-09-25 13:50:59.999\",\"2022-09-25 13:51:59.999\",\"2022-09-25 13:52:59.999\",\"2022-09-25 13:53:59.999\",\"2022-09-25 13:54:59.999\",\"2022-09-25 13:55:59.999\",\"2022-09-25 13:56:59.999\",\"2022-09-25 13:57:59.999\",\"2022-09-25 13:58:59.999\",\"2022-09-25 13:59:59.999\",\"2022-09-25 14:00:59.999\",\"2022-09-25 14:01:59.999\",\"2022-09-25 14:02:59.999\",\"2022-09-25 14:03:59.999\",\"2022-09-25 14:04:59.999\",\"2022-09-25 14:05:59.999\",\"2022-09-25 14:06:59.999\",\"2022-09-25 14:07:59.999\",\"2022-09-25 14:08:59.999\",\"2022-09-25 14:09:59.999\",\"2022-09-25 14:10:59.999\",\"2022-09-25 14:11:59.999\",\"2022-09-25 14:12:59.999\",\"2022-09-25 14:13:59.999\",\"2022-09-25 14:14:59.999\",\"2022-09-25 14:15:59.999\",\"2022-09-25 14:16:59.999\",\"2022-09-25 14:17:59.999\",\"2022-09-25 14:18:59.999\",\"2022-09-25 14:19:59.999\",\"2022-09-25 14:20:59.999\",\"2022-09-25 14:21:59.999\",\"2022-09-25 14:22:59.999\",\"2022-09-25 14:23:59.999\",\"2022-09-25 14:24:59.999\",\"2022-09-25 14:25:59.999\",\"2022-09-25 14:26:59.999\",\"2022-09-25 14:27:59.999\",\"2022-09-25 14:28:59.999\",\"2022-09-25 14:29:59.999\",\"2022-09-25 14:30:59.999\",\"2022-09-25 14:31:59.999\",\"2022-09-25 14:32:59.999\",\"2022-09-25 14:33:59.999\",\"2022-09-25 14:34:59.999\",\"2022-09-25 14:35:59.999\",\"2022-09-25 14:36:59.999\",\"2022-09-25 14:37:59.999\",\"2022-09-25 14:38:59.999\",\"2022-09-25 14:39:59.999\",\"2022-09-25 14:40:59.999\",\"2022-09-25 14:41:59.999\",\"2022-09-25 14:42:59.999\",\"2022-09-25 14:43:59.999\",\"2022-09-25 14:44:59.999\",\"2022-09-25 14:45:59.999\",\"2022-09-25 14:46:59.999\",\"2022-09-25 14:47:59.999\",\"2022-09-25 14:48:59.999\",\"2022-09-25 14:49:59.999\",\"2022-09-25 14:50:59.999\",\"2022-09-25 14:51:59.999\",\"2022-09-25 14:52:59.999\",\"2022-09-25 14:53:59.999\",\"2022-09-25 14:54:59.999\",\"2022-09-25 14:55:59.999\",\"2022-09-25 14:56:59.999\",\"2022-09-25 14:57:59.999\",\"2022-09-25 14:58:59.999\",\"2022-09-25 14:59:59.999\",\"2022-09-25 15:00:59.999\",\"2022-09-25 15:01:59.999\",\"2022-09-25 15:02:59.999\",\"2022-09-25 15:03:59.999\",\"2022-09-25 15:04:59.999\",\"2022-09-25 15:05:59.999\",\"2022-09-25 15:06:59.999\",\"2022-09-25 15:07:59.999\",\"2022-09-25 15:08:59.999\",\"2022-09-25 15:09:59.999\",\"2022-09-25 15:10:59.999\",\"2022-09-25 15:11:59.999\",\"2022-09-25 15:12:59.999\",\"2022-09-25 15:13:59.999\",\"2022-09-25 15:14:59.999\",\"2022-09-25 15:15:59.999\",\"2022-09-25 15:16:59.999\",\"2022-09-25 15:17:59.999\",\"2022-09-25 15:18:59.999\",\"2022-09-25 15:19:59.999\",\"2022-09-25 15:20:59.999\",\"2022-09-25 15:21:59.999\",\"2022-09-25 15:22:59.999\",\"2022-09-25 15:23:59.999\",\"2022-09-25 15:24:59.999\",\"2022-09-25 15:25:59.999\",\"2022-09-25 15:26:59.999\",\"2022-09-25 15:27:59.999\",\"2022-09-25 15:28:59.999\",\"2022-09-25 15:29:59.999\",\"2022-09-25 15:30:59.999\",\"2022-09-25 15:31:59.999\",\"2022-09-25 15:32:59.999\",\"2022-09-25 15:33:59.999\",\"2022-09-25 15:34:59.999\",\"2022-09-25 15:35:59.999\",\"2022-09-25 15:36:59.999\",\"2022-09-25 15:37:59.999\",\"2022-09-25 15:38:59.999\",\"2022-09-25 15:39:59.999\",\"2022-09-25 15:40:59.999\",\"2022-09-25 15:41:59.999\",\"2022-09-25 15:42:59.999\",\"2022-09-25 15:43:59.999\",\"2022-09-25 15:44:59.999\",\"2022-09-25 15:45:59.999\",\"2022-09-25 15:46:59.999\",\"2022-09-25 15:47:59.999\",\"2022-09-25 15:48:59.999\",\"2022-09-25 15:49:59.999\",\"2022-09-25 15:50:59.999\",\"2022-09-25 15:51:59.999\",\"2022-09-25 15:52:59.999\",\"2022-09-25 15:53:59.999\",\"2022-09-25 15:54:59.999\",\"2022-09-25 15:55:59.999\",\"2022-09-25 15:56:59.999\",\"2022-09-25 15:57:59.999\",\"2022-09-25 15:58:59.999\",\"2022-09-25 15:59:59.999\",\"2022-09-25 16:00:59.999\",\"2022-09-25 16:01:59.999\",\"2022-09-25 16:02:59.999\",\"2022-09-25 16:03:59.999\",\"2022-09-25 16:04:59.999\",\"2022-09-25 16:05:59.999\",\"2022-09-25 16:06:59.999\",\"2022-09-25 16:07:59.999\",\"2022-09-25 16:08:59.999\",\"2022-09-25 16:09:59.999\",\"2022-09-25 16:10:59.999\",\"2022-09-25 16:11:59.999\",\"2022-09-25 16:12:59.999\",\"2022-09-25 16:13:59.999\",\"2022-09-25 16:14:59.999\",\"2022-09-25 16:15:59.999\",\"2022-09-25 16:16:59.999\",\"2022-09-25 16:17:59.999\",\"2022-09-25 16:18:59.999\",\"2022-09-25 16:19:59.999\",\"2022-09-25 16:20:59.999\",\"2022-09-25 16:21:59.999\",\"2022-09-25 16:22:59.999\",\"2022-09-25 16:23:59.999\",\"2022-09-25 16:24:59.999\",\"2022-09-25 16:25:59.999\",\"2022-09-25 16:26:59.999\",\"2022-09-25 16:27:59.999\",\"2022-09-25 16:28:59.999\",\"2022-09-25 16:29:59.999\",\"2022-09-25 16:30:59.999\",\"2022-09-25 16:31:59.999\",\"2022-09-25 16:32:59.999\",\"2022-09-25 16:33:59.999\",\"2022-09-25 16:34:59.999\",\"2022-09-25 16:35:59.999\",\"2022-09-25 16:36:59.999\",\"2022-09-25 16:37:59.999\",\"2022-09-25 16:39:59.999\",\"2022-09-25 16:40:59.999\",\"2022-09-25 16:41:59.999\",\"2022-09-25 16:42:59.999\",\"2022-09-25 16:43:59.999\",\"2022-09-25 16:44:59.999\",\"2022-09-25 16:45:59.999\",\"2022-09-25 16:46:59.999\",\"2022-09-25 16:47:59.999\",\"2022-09-25 16:48:59.999\",\"2022-09-25 16:49:59.999\",\"2022-09-25 16:50:59.999\",\"2022-09-25 16:51:59.999\",\"2022-09-25 16:52:59.999\",\"2022-09-25 16:53:59.999\",\"2022-09-25 16:54:59.999\",\"2022-09-25 16:55:59.999\",\"2022-09-25 16:56:59.999\",\"2022-09-25 16:57:59.999\",\"2022-09-25 16:58:59.999\",\"2022-09-25 16:59:59.999\",\"2022-09-25 17:00:59.999\",\"2022-09-25 17:01:59.999\",\"2022-09-25 17:02:59.999\",\"2022-09-25 17:03:59.999\",\"2022-09-25 17:04:59.999\",\"2022-09-25 17:05:59.999\",\"2022-09-25 17:06:59.999\",\"2022-09-25 17:07:59.999\",\"2022-09-25 17:08:59.999\",\"2022-09-25 17:09:59.999\",\"2022-09-25 17:10:59.999\",\"2022-09-25 17:11:59.999\",\"2022-09-25 17:12:59.999\",\"2022-09-25 17:13:59.999\",\"2022-09-25 17:14:59.999\",\"2022-09-25 17:15:59.999\",\"2022-09-25 17:16:59.999\",\"2022-09-25 17:17:59.999\",\"2022-09-25 17:18:59.999\",\"2022-09-25 17:19:59.999\",\"2022-09-25 17:20:59.999\",\"2022-09-25 17:21:59.999\",\"2022-09-25 17:22:59.999\",\"2022-09-25 17:23:59.999\",\"2022-09-25 17:25:59.999\",\"2022-09-25 17:26:59.999\",\"2022-09-25 17:27:59.999\",\"2022-09-25 17:28:59.999\",\"2022-09-25 17:29:59.999\",\"2022-09-25 17:30:59.999\",\"2022-09-25 17:31:59.999\",\"2022-09-25 17:32:59.999\",\"2022-09-25 17:33:59.999\",\"2022-09-25 17:34:59.999\",\"2022-09-25 17:35:59.999\",\"2022-09-25 17:36:59.999\",\"2022-09-25 17:37:59.999\",\"2022-09-25 17:38:59.999\",\"2022-09-25 17:39:59.999\",\"2022-09-25 17:40:59.999\",\"2022-09-25 17:41:59.999\",\"2022-09-25 17:42:59.999\",\"2022-09-25 17:43:59.999\",\"2022-09-25 17:45:59.999\",\"2022-09-25 17:46:59.999\",\"2022-09-25 17:47:59.999\",\"2022-09-25 17:48:59.999\",\"2022-09-25 17:49:59.999\",\"2022-09-25 17:50:59.999\",\"2022-09-25 17:51:59.999\",\"2022-09-25 17:52:59.999\",\"2022-09-25 17:53:59.999\",\"2022-09-25 17:54:59.999\",\"2022-09-25 17:55:59.999\",\"2022-09-25 17:56:59.999\",\"2022-09-25 17:57:59.999\",\"2022-09-25 17:58:59.999\",\"2022-09-25 17:59:59.999\",\"2022-09-25 18:00:59.999\",\"2022-09-25 18:01:59.999\",\"2022-09-25 18:02:59.999\",\"2022-09-25 18:03:59.999\",\"2022-09-25 18:04:59.999\",\"2022-09-25 18:05:59.999\",\"2022-09-25 18:06:59.999\",\"2022-09-25 18:07:59.999\",\"2022-09-25 18:08:59.999\",\"2022-09-25 18:09:59.999\",\"2022-09-25 18:10:59.999\",\"2022-09-25 18:11:59.999\",\"2022-09-25 18:12:59.999\",\"2022-09-25 18:13:59.999\",\"2022-09-25 18:14:59.999\",\"2022-09-25 18:15:59.999\",\"2022-09-25 18:16:59.999\",\"2022-09-25 18:17:59.999\",\"2022-09-25 18:18:59.999\",\"2022-09-25 18:19:59.999\",\"2022-09-25 18:20:59.999\",\"2022-09-25 18:21:59.999\",\"2022-09-25 18:22:59.999\",\"2022-09-25 18:23:59.999\",\"2022-09-25 18:24:59.999\",\"2022-09-25 18:25:59.999\",\"2022-09-25 18:26:59.999\",\"2022-09-25 18:27:59.999\",\"2022-09-25 18:28:59.999\",\"2022-09-25 18:29:59.999\",\"2022-09-25 18:30:59.999\",\"2022-09-25 18:31:59.999\",\"2022-09-25 18:32:59.999\",\"2022-09-25 18:33:59.999\",\"2022-09-25 18:34:59.999\",\"2022-09-25 18:35:59.999\",\"2022-09-25 18:36:59.999\",\"2022-09-25 18:38:59.999\",\"2022-09-25 18:39:59.999\",\"2022-09-25 18:40:59.999\",\"2022-09-25 18:41:59.999\",\"2022-09-25 18:42:59.999\",\"2022-09-25 18:43:59.999\",\"2022-09-25 18:44:59.999\",\"2022-09-25 18:45:59.999\",\"2022-09-25 18:46:59.999\",\"2022-09-25 18:47:59.999\",\"2022-09-25 18:48:59.999\",\"2022-09-25 18:49:59.999\",\"2022-09-25 18:50:59.999\",\"2022-09-25 18:51:59.999\",\"2022-09-25 18:52:59.999\",\"2022-09-25 18:53:59.999\",\"2022-09-25 18:54:59.999\",\"2022-09-25 18:55:59.999\",\"2022-09-25 18:56:59.999\",\"2022-09-25 18:57:59.999\",\"2022-09-25 18:58:59.999\",\"2022-09-25 18:59:59.999\",\"2022-09-25 19:00:59.999\",\"2022-09-25 19:01:59.999\",\"2022-09-25 19:02:59.999\",\"2022-09-25 19:03:59.999\",\"2022-09-25 19:04:59.999\",\"2022-09-25 19:05:59.999\",\"2022-09-25 19:06:59.999\",\"2022-09-25 19:07:59.999\",\"2022-09-25 19:08:59.999\",\"2022-09-25 19:09:59.999\",\"2022-09-25 19:10:59.999\",\"2022-09-25 19:11:59.999\",\"2022-09-25 19:12:59.999\",\"2022-09-25 19:13:59.999\",\"2022-09-25 19:14:59.999\",\"2022-09-25 19:15:59.999\",\"2022-09-25 19:16:59.999\",\"2022-09-25 19:17:59.999\",\"2022-09-25 19:18:59.999\",\"2022-09-25 19:19:59.999\",\"2022-09-25 19:20:59.999\",\"2022-09-25 19:21:59.999\",\"2022-09-25 19:22:59.999\",\"2022-09-25 19:23:59.999\",\"2022-09-25 19:24:59.999\",\"2022-09-25 19:25:59.999\",\"2022-09-25 19:26:59.999\",\"2022-09-25 19:27:59.999\",\"2022-09-25 19:28:59.999\",\"2022-09-25 19:29:59.999\",\"2022-09-25 19:30:59.999\",\"2022-09-25 19:31:59.999\",\"2022-09-25 19:32:59.999\",\"2022-09-25 19:33:59.999\",\"2022-09-25 19:34:59.999\",\"2022-09-25 19:35:59.999\",\"2022-09-25 19:36:59.999\",\"2022-09-25 19:37:59.999\",\"2022-09-25 19:38:59.999\",\"2022-09-25 19:39:59.999\",\"2022-09-25 19:40:59.999\",\"2022-09-25 19:41:59.999\",\"2022-09-25 19:42:59.999\",\"2022-09-25 19:43:59.999\",\"2022-09-25 19:44:59.999\",\"2022-09-25 19:45:59.999\",\"2022-09-25 19:46:59.999\",\"2022-09-25 19:47:59.999\",\"2022-09-25 19:48:59.999\",\"2022-09-25 19:49:59.999\",\"2022-09-25 19:50:59.999\",\"2022-09-25 19:51:59.999\",\"2022-09-25 19:52:59.999\",\"2022-09-25 19:53:59.999\",\"2022-09-25 19:54:59.999\",\"2022-09-25 19:55:59.999\",\"2022-09-25 19:56:59.999\",\"2022-09-25 19:57:59.999\",\"2022-09-25 19:58:59.999\",\"2022-09-25 19:59:59.999\",\"2022-09-25 20:00:59.999\",\"2022-09-25 20:01:59.999\",\"2022-09-25 20:02:59.999\",\"2022-09-25 20:03:59.999\",\"2022-09-25 20:04:59.999\",\"2022-09-25 20:05:59.999\",\"2022-09-25 20:06:59.999\",\"2022-09-25 20:07:59.999\",\"2022-09-25 20:08:59.999\",\"2022-09-25 20:09:59.999\",\"2022-09-25 20:10:59.999\",\"2022-09-25 20:11:59.999\",\"2022-09-25 20:12:59.999\",\"2022-09-25 20:13:59.999\",\"2022-09-25 20:14:59.999\",\"2022-09-25 20:15:59.999\",\"2022-09-25 20:16:59.999\",\"2022-09-25 20:18:59.999\",\"2022-09-25 20:19:59.999\",\"2022-09-25 20:20:59.999\",\"2022-09-25 20:21:59.999\",\"2022-09-25 20:22:59.999\",\"2022-09-25 20:23:59.999\",\"2022-09-25 20:24:59.999\",\"2022-09-25 20:25:59.999\",\"2022-09-25 20:26:59.999\",\"2022-09-25 20:27:59.999\",\"2022-09-25 20:28:59.999\",\"2022-09-25 20:29:59.999\",\"2022-09-25 20:30:59.999\",\"2022-09-25 20:31:59.999\",\"2022-09-25 20:32:59.999\",\"2022-09-25 20:33:59.999\",\"2022-09-25 20:34:59.999\",\"2022-09-25 20:35:59.999\",\"2022-09-25 20:36:59.999\",\"2022-09-25 20:37:59.999\",\"2022-09-25 20:38:59.999\",\"2022-09-25 20:39:59.999\",\"2022-09-25 20:40:59.999\"],\"type\":\"candlestick\"}],                        {\"template\":{\"data\":{\"histogram2dcontour\":[{\"type\":\"histogram2dcontour\",\"colorbar\":{\"outlinewidth\":0,\"ticks\":\"\"},\"colorscale\":[[0.0,\"#0d0887\"],[0.1111111111111111,\"#46039f\"],[0.2222222222222222,\"#7201a8\"],[0.3333333333333333,\"#9c179e\"],[0.4444444444444444,\"#bd3786\"],[0.5555555555555556,\"#d8576b\"],[0.6666666666666666,\"#ed7953\"],[0.7777777777777778,\"#fb9f3a\"],[0.8888888888888888,\"#fdca26\"],[1.0,\"#f0f921\"]]}],\"choropleth\":[{\"type\":\"choropleth\",\"colorbar\":{\"outlinewidth\":0,\"ticks\":\"\"}}],\"histogram2d\":[{\"type\":\"histogram2d\",\"colorbar\":{\"outlinewidth\":0,\"ticks\":\"\"},\"colorscale\":[[0.0,\"#0d0887\"],[0.1111111111111111,\"#46039f\"],[0.2222222222222222,\"#7201a8\"],[0.3333333333333333,\"#9c179e\"],[0.4444444444444444,\"#bd3786\"],[0.5555555555555556,\"#d8576b\"],[0.6666666666666666,\"#ed7953\"],[0.7777777777777778,\"#fb9f3a\"],[0.8888888888888888,\"#fdca26\"],[1.0,\"#f0f921\"]]}],\"heatmap\":[{\"type\":\"heatmap\",\"colorbar\":{\"outlinewidth\":0,\"ticks\":\"\"},\"colorscale\":[[0.0,\"#0d0887\"],[0.1111111111111111,\"#46039f\"],[0.2222222222222222,\"#7201a8\"],[0.3333333333333333,\"#9c179e\"],[0.4444444444444444,\"#bd3786\"],[0.5555555555555556,\"#d8576b\"],[0.6666666666666666,\"#ed7953\"],[0.7777777777777778,\"#fb9f3a\"],[0.8888888888888888,\"#fdca26\"],[1.0,\"#f0f921\"]]}],\"heatmapgl\":[{\"type\":\"heatmapgl\",\"colorbar\":{\"outlinewidth\":0,\"ticks\":\"\"},\"colorscale\":[[0.0,\"#0d0887\"],[0.1111111111111111,\"#46039f\"],[0.2222222222222222,\"#7201a8\"],[0.3333333333333333,\"#9c179e\"],[0.4444444444444444,\"#bd3786\"],[0.5555555555555556,\"#d8576b\"],[0.6666666666666666,\"#ed7953\"],[0.7777777777777778,\"#fb9f3a\"],[0.8888888888888888,\"#fdca26\"],[1.0,\"#f0f921\"]]}],\"contourcarpet\":[{\"type\":\"contourcarpet\",\"colorbar\":{\"outlinewidth\":0,\"ticks\":\"\"}}],\"contour\":[{\"type\":\"contour\",\"colorbar\":{\"outlinewidth\":0,\"ticks\":\"\"},\"colorscale\":[[0.0,\"#0d0887\"],[0.1111111111111111,\"#46039f\"],[0.2222222222222222,\"#7201a8\"],[0.3333333333333333,\"#9c179e\"],[0.4444444444444444,\"#bd3786\"],[0.5555555555555556,\"#d8576b\"],[0.6666666666666666,\"#ed7953\"],[0.7777777777777778,\"#fb9f3a\"],[0.8888888888888888,\"#fdca26\"],[1.0,\"#f0f921\"]]}],\"surface\":[{\"type\":\"surface\",\"colorbar\":{\"outlinewidth\":0,\"ticks\":\"\"},\"colorscale\":[[0.0,\"#0d0887\"],[0.1111111111111111,\"#46039f\"],[0.2222222222222222,\"#7201a8\"],[0.3333333333333333,\"#9c179e\"],[0.4444444444444444,\"#bd3786\"],[0.5555555555555556,\"#d8576b\"],[0.6666666666666666,\"#ed7953\"],[0.7777777777777778,\"#fb9f3a\"],[0.8888888888888888,\"#fdca26\"],[1.0,\"#f0f921\"]]}],\"mesh3d\":[{\"type\":\"mesh3d\",\"colorbar\":{\"outlinewidth\":0,\"ticks\":\"\"}}],\"scatter\":[{\"fillpattern\":{\"fillmode\":\"overlay\",\"size\":10,\"solidity\":0.2},\"type\":\"scatter\"}],\"parcoords\":[{\"type\":\"parcoords\",\"line\":{\"colorbar\":{\"outlinewidth\":0,\"ticks\":\"\"}}}],\"scatterpolargl\":[{\"type\":\"scatterpolargl\",\"marker\":{\"colorbar\":{\"outlinewidth\":0,\"ticks\":\"\"}}}],\"bar\":[{\"error_x\":{\"color\":\"#2a3f5f\"},\"error_y\":{\"color\":\"#2a3f5f\"},\"marker\":{\"line\":{\"color\":\"#E5ECF6\",\"width\":0.5},\"pattern\":{\"fillmode\":\"overlay\",\"size\":10,\"solidity\":0.2}},\"type\":\"bar\"}],\"scattergeo\":[{\"type\":\"scattergeo\",\"marker\":{\"colorbar\":{\"outlinewidth\":0,\"ticks\":\"\"}}}],\"scatterpolar\":[{\"type\":\"scatterpolar\",\"marker\":{\"colorbar\":{\"outlinewidth\":0,\"ticks\":\"\"}}}],\"histogram\":[{\"marker\":{\"pattern\":{\"fillmode\":\"overlay\",\"size\":10,\"solidity\":0.2}},\"type\":\"histogram\"}],\"scattergl\":[{\"type\":\"scattergl\",\"marker\":{\"colorbar\":{\"outlinewidth\":0,\"ticks\":\"\"}}}],\"scatter3d\":[{\"type\":\"scatter3d\",\"line\":{\"colorbar\":{\"outlinewidth\":0,\"ticks\":\"\"}},\"marker\":{\"colorbar\":{\"outlinewidth\":0,\"ticks\":\"\"}}}],\"scattermapbox\":[{\"type\":\"scattermapbox\",\"marker\":{\"colorbar\":{\"outlinewidth\":0,\"ticks\":\"\"}}}],\"scatterternary\":[{\"type\":\"scatterternary\",\"marker\":{\"colorbar\":{\"outlinewidth\":0,\"ticks\":\"\"}}}],\"scattercarpet\":[{\"type\":\"scattercarpet\",\"marker\":{\"colorbar\":{\"outlinewidth\":0,\"ticks\":\"\"}}}],\"carpet\":[{\"aaxis\":{\"endlinecolor\":\"#2a3f5f\",\"gridcolor\":\"white\",\"linecolor\":\"white\",\"minorgridcolor\":\"white\",\"startlinecolor\":\"#2a3f5f\"},\"baxis\":{\"endlinecolor\":\"#2a3f5f\",\"gridcolor\":\"white\",\"linecolor\":\"white\",\"minorgridcolor\":\"white\",\"startlinecolor\":\"#2a3f5f\"},\"type\":\"carpet\"}],\"table\":[{\"cells\":{\"fill\":{\"color\":\"#EBF0F8\"},\"line\":{\"color\":\"white\"}},\"header\":{\"fill\":{\"color\":\"#C8D4E3\"},\"line\":{\"color\":\"white\"}},\"type\":\"table\"}],\"barpolar\":[{\"marker\":{\"line\":{\"color\":\"#E5ECF6\",\"width\":0.5},\"pattern\":{\"fillmode\":\"overlay\",\"size\":10,\"solidity\":0.2}},\"type\":\"barpolar\"}],\"pie\":[{\"automargin\":true,\"type\":\"pie\"}]},\"layout\":{\"autotypenumbers\":\"strict\",\"colorway\":[\"#636efa\",\"#EF553B\",\"#00cc96\",\"#ab63fa\",\"#FFA15A\",\"#19d3f3\",\"#FF6692\",\"#B6E880\",\"#FF97FF\",\"#FECB52\"],\"font\":{\"color\":\"#2a3f5f\"},\"hovermode\":\"closest\",\"hoverlabel\":{\"align\":\"left\"},\"paper_bgcolor\":\"white\",\"plot_bgcolor\":\"#E5ECF6\",\"polar\":{\"bgcolor\":\"#E5ECF6\",\"angularaxis\":{\"gridcolor\":\"white\",\"linecolor\":\"white\",\"ticks\":\"\"},\"radialaxis\":{\"gridcolor\":\"white\",\"linecolor\":\"white\",\"ticks\":\"\"}},\"ternary\":{\"bgcolor\":\"#E5ECF6\",\"aaxis\":{\"gridcolor\":\"white\",\"linecolor\":\"white\",\"ticks\":\"\"},\"baxis\":{\"gridcolor\":\"white\",\"linecolor\":\"white\",\"ticks\":\"\"},\"caxis\":{\"gridcolor\":\"white\",\"linecolor\":\"white\",\"ticks\":\"\"}},\"coloraxis\":{\"colorbar\":{\"outlinewidth\":0,\"ticks\":\"\"}},\"colorscale\":{\"sequential\":[[0.0,\"#0d0887\"],[0.1111111111111111,\"#46039f\"],[0.2222222222222222,\"#7201a8\"],[0.3333333333333333,\"#9c179e\"],[0.4444444444444444,\"#bd3786\"],[0.5555555555555556,\"#d8576b\"],[0.6666666666666666,\"#ed7953\"],[0.7777777777777778,\"#fb9f3a\"],[0.8888888888888888,\"#fdca26\"],[1.0,\"#f0f921\"]],\"sequentialminus\":[[0.0,\"#0d0887\"],[0.1111111111111111,\"#46039f\"],[0.2222222222222222,\"#7201a8\"],[0.3333333333333333,\"#9c179e\"],[0.4444444444444444,\"#bd3786\"],[0.5555555555555556,\"#d8576b\"],[0.6666666666666666,\"#ed7953\"],[0.7777777777777778,\"#fb9f3a\"],[0.8888888888888888,\"#fdca26\"],[1.0,\"#f0f921\"]],\"diverging\":[[0,\"#8e0152\"],[0.1,\"#c51b7d\"],[0.2,\"#de77ae\"],[0.3,\"#f1b6da\"],[0.4,\"#fde0ef\"],[0.5,\"#f7f7f7\"],[0.6,\"#e6f5d0\"],[0.7,\"#b8e186\"],[0.8,\"#7fbc41\"],[0.9,\"#4d9221\"],[1,\"#276419\"]]},\"xaxis\":{\"gridcolor\":\"white\",\"linecolor\":\"white\",\"ticks\":\"\",\"title\":{\"standoff\":15},\"zerolinecolor\":\"white\",\"automargin\":true,\"zerolinewidth\":2},\"yaxis\":{\"gridcolor\":\"white\",\"linecolor\":\"white\",\"ticks\":\"\",\"title\":{\"standoff\":15},\"zerolinecolor\":\"white\",\"automargin\":true,\"zerolinewidth\":2},\"scene\":{\"xaxis\":{\"backgroundcolor\":\"#E5ECF6\",\"gridcolor\":\"white\",\"linecolor\":\"white\",\"showbackground\":true,\"ticks\":\"\",\"zerolinecolor\":\"white\",\"gridwidth\":2},\"yaxis\":{\"backgroundcolor\":\"#E5ECF6\",\"gridcolor\":\"white\",\"linecolor\":\"white\",\"showbackground\":true,\"ticks\":\"\",\"zerolinecolor\":\"white\",\"gridwidth\":2},\"zaxis\":{\"backgroundcolor\":\"#E5ECF6\",\"gridcolor\":\"white\",\"linecolor\":\"white\",\"showbackground\":true,\"ticks\":\"\",\"zerolinecolor\":\"white\",\"gridwidth\":2}},\"shapedefaults\":{\"line\":{\"color\":\"#2a3f5f\"}},\"annotationdefaults\":{\"arrowcolor\":\"#2a3f5f\",\"arrowhead\":0,\"arrowwidth\":1},\"geo\":{\"bgcolor\":\"white\",\"landcolor\":\"#E5ECF6\",\"subunitcolor\":\"white\",\"showland\":true,\"showlakes\":true,\"lakecolor\":\"white\"},\"title\":{\"x\":0.05},\"mapbox\":{\"style\":\"light\"}}},\"annotations\":[{\"arrowcolor\":\"green\",\"arrowhead\":5,\"arrowwidth\":2,\"ay\":-10,\"font\":{\"color\":\"green\"},\"hovertext\":\"2022-09-25 06:59:47.118000 buy at 19025.1 \",\"showarrow\":true,\"text\":\"buy\",\"x\":\"2022-09-25T06:59:47.118000\",\"y\":19025.1},{\"arrowcolor\":\"red\",\"arrowhead\":5,\"arrowwidth\":2,\"ay\":-20,\"font\":{\"color\":\"red\"},\"hovertext\":\"2022-09-25 09:41:30.259000 sell at 19006.17 , profit: -0.01893\",\"showarrow\":true,\"text\":\"sell\",\"x\":\"2022-09-25T09:41:30.259000\",\"y\":19006.17},{\"arrowcolor\":\"green\",\"arrowhead\":5,\"arrowwidth\":2,\"ay\":-30,\"font\":{\"color\":\"green\"},\"hovertext\":\"2022-09-25 09:50:04.559000 buy at 19035.8 \",\"showarrow\":true,\"text\":\"buy\",\"x\":\"2022-09-25T09:50:04.559000\",\"y\":19035.8},{\"arrowcolor\":\"red\",\"arrowhead\":5,\"arrowwidth\":2,\"ay\":-40,\"font\":{\"color\":\"red\"},\"hovertext\":\"2022-09-25 10:14:15.073000 sell at 19017.87 , profit: -0.01793\",\"showarrow\":true,\"text\":\"sell\",\"x\":\"2022-09-25T10:14:15.073000\",\"y\":19017.87},{\"arrowcolor\":\"green\",\"arrowhead\":5,\"arrowwidth\":2,\"ay\":0,\"font\":{\"color\":\"green\"},\"hovertext\":\"2022-09-25 10:17:30.947000 buy at 19018.4 \",\"showarrow\":true,\"text\":\"buy\",\"x\":\"2022-09-25T10:17:30.947000\",\"y\":19018.4},{\"arrowcolor\":\"red\",\"arrowhead\":5,\"arrowwidth\":2,\"ay\":-10,\"font\":{\"color\":\"red\"},\"hovertext\":\"2022-09-25 10:20:12.349000 sell at 18999.72 , profit: -0.01868\",\"showarrow\":true,\"text\":\"sell\",\"x\":\"2022-09-25T10:20:12.349000\",\"y\":18999.72},{\"arrowcolor\":\"green\",\"arrowhead\":5,\"arrowwidth\":2,\"ay\":-20,\"font\":{\"color\":\"green\"},\"hovertext\":\"2022-09-25 10:21:43.044000 buy at 19042.34 \",\"showarrow\":true,\"text\":\"buy\",\"x\":\"2022-09-25T10:21:43.044000\",\"y\":19042.34},{\"arrowcolor\":\"red\",\"arrowhead\":5,\"arrowwidth\":2,\"ay\":-30,\"font\":{\"color\":\"red\"},\"hovertext\":\"2022-09-25 10:46:52.193000 sell at 19022.96 , profit: -0.01938\",\"showarrow\":true,\"text\":\"sell\",\"x\":\"2022-09-25T10:46:52.193000\",\"y\":19022.96},{\"arrowcolor\":\"green\",\"arrowhead\":5,\"arrowwidth\":2,\"ay\":-40,\"font\":{\"color\":\"green\"},\"hovertext\":\"2022-09-25 10:57:31.486000 buy at 19073.79 \",\"showarrow\":true,\"text\":\"buy\",\"x\":\"2022-09-25T10:57:31.486000\",\"y\":19073.79},{\"arrowcolor\":\"red\",\"arrowhead\":5,\"arrowwidth\":2,\"ay\":0,\"font\":{\"color\":\"red\"},\"hovertext\":\"2022-09-25 12:00:01.933000 sell at 19055.39 , profit: -0.0184\",\"showarrow\":true,\"text\":\"sell\",\"x\":\"2022-09-25T12:00:01.933000\",\"y\":19055.39},{\"arrowcolor\":\"green\",\"arrowhead\":5,\"arrowwidth\":2,\"ay\":-10,\"font\":{\"color\":\"green\"},\"hovertext\":\"2022-09-25 12:00:56.292000 buy at 19123.12 \",\"showarrow\":true,\"text\":\"buy\",\"x\":\"2022-09-25T12:00:56.292000\",\"y\":19123.12},{\"arrowcolor\":\"red\",\"arrowhead\":5,\"arrowwidth\":2,\"ay\":-20,\"font\":{\"color\":\"red\"},\"hovertext\":\"2022-09-25 12:03:02.954000 sell at 19102.69 , profit: -0.02043\",\"showarrow\":true,\"text\":\"sell\",\"x\":\"2022-09-25T12:03:02.954000\",\"y\":19102.69},{\"arrowcolor\":\"green\",\"arrowhead\":5,\"arrowwidth\":2,\"ay\":-30,\"font\":{\"color\":\"green\"},\"hovertext\":\"2022-09-25 12:11:31.126000 buy at 19137.22 \",\"showarrow\":true,\"text\":\"buy\",\"x\":\"2022-09-25T12:11:31.126000\",\"y\":19137.22},{\"arrowcolor\":\"red\",\"arrowhead\":5,\"arrowwidth\":2,\"ay\":-40,\"font\":{\"color\":\"red\"},\"hovertext\":\"2022-09-25 12:24:19.763000 sell at 19114.39 , profit: -0.02283\",\"showarrow\":true,\"text\":\"sell\",\"x\":\"2022-09-25T12:24:19.763000\",\"y\":19114.39},{\"arrowcolor\":\"green\",\"arrowhead\":5,\"arrowwidth\":2,\"ay\":0,\"font\":{\"color\":\"green\"},\"hovertext\":\"2022-09-25 17:20:14.538000 buy at 18961.7 \",\"showarrow\":true,\"text\":\"buy\",\"x\":\"2022-09-25T17:20:14.538000\",\"y\":18961.7},{\"arrowcolor\":\"red\",\"arrowhead\":5,\"arrowwidth\":2,\"ay\":-10,\"font\":{\"color\":\"red\"},\"hovertext\":\"2022-09-25 17:21:33.619000 sell at 18968.16 \",\"showarrow\":true,\"text\":\"sell\",\"x\":\"2022-09-25T17:21:33.619000\",\"y\":18968.16},{\"arrowcolor\":\"green\",\"arrowhead\":5,\"arrowwidth\":2,\"ay\":-20,\"font\":{\"color\":\"green\"},\"hovertext\":\"2022-09-25 18:00:57.761000 buy at 19003.65 \",\"showarrow\":true,\"text\":\"buy\",\"x\":\"2022-09-25T18:00:57.761000\",\"y\":19003.65},{\"arrowcolor\":\"red\",\"arrowhead\":5,\"arrowwidth\":2,\"ay\":-30,\"font\":{\"color\":\"red\"},\"hovertext\":\"2022-09-25 18:06:39.726000 sell at 18982.7 , profit: -0.02095\",\"showarrow\":true,\"text\":\"sell\",\"x\":\"2022-09-25T18:06:39.726000\",\"y\":18982.7},{\"arrowcolor\":\"green\",\"arrowhead\":5,\"arrowwidth\":2,\"ay\":-40,\"font\":{\"color\":\"green\"},\"hovertext\":\"2022-09-25 18:35:44.477000 buy at 18980.24 \",\"showarrow\":true,\"text\":\"buy\",\"x\":\"2022-09-25T18:35:44.477000\",\"y\":18980.24},{\"arrowcolor\":\"red\",\"arrowhead\":5,\"arrowwidth\":2,\"ay\":0,\"font\":{\"color\":\"red\"},\"hovertext\":\"2022-09-25 18:37:19.580000 sell at 18961.25 , profit: -0.01899\",\"showarrow\":true,\"text\":\"sell\",\"x\":\"2022-09-25T18:37:19.580000\",\"y\":18961.25},{\"arrowcolor\":\"green\",\"arrowhead\":5,\"arrowwidth\":2,\"ay\":-10,\"font\":{\"color\":\"green\"},\"hovertext\":\"2022-09-25 18:37:52.312000 buy at 18952.16 \",\"showarrow\":true,\"text\":\"buy\",\"x\":\"2022-09-25T18:37:52.312000\",\"y\":18952.16},{\"arrowcolor\":\"red\",\"arrowhead\":5,\"arrowwidth\":2,\"ay\":-20,\"font\":{\"color\":\"red\"},\"hovertext\":\"2022-09-25 18:44:16.802000 sell at 18911.19 , profit: -0.04097\",\"showarrow\":true,\"text\":\"sell\",\"x\":\"2022-09-25T18:44:16.802000\",\"y\":18911.19},{\"arrowcolor\":\"green\",\"arrowhead\":5,\"arrowwidth\":2,\"ay\":-30,\"font\":{\"color\":\"green\"},\"hovertext\":\"2022-09-25 18:47:25.424000 buy at 18916.15 \",\"showarrow\":true,\"text\":\"buy\",\"x\":\"2022-09-25T18:47:25.424000\",\"y\":18916.15},{\"arrowcolor\":\"red\",\"arrowhead\":5,\"arrowwidth\":2,\"ay\":-40,\"font\":{\"color\":\"red\"},\"hovertext\":\"2022-09-25 18:48:06.019000 sell at 18900.83 , profit: -0.01532\",\"showarrow\":true,\"text\":\"sell\",\"x\":\"2022-09-25T18:48:06.019000\",\"y\":18900.83},{\"arrowcolor\":\"green\",\"arrowhead\":5,\"arrowwidth\":2,\"ay\":0,\"font\":{\"color\":\"green\"},\"hovertext\":\"2022-09-25 19:44:26.321000 buy at 18896.78 \",\"showarrow\":true,\"text\":\"buy\",\"x\":\"2022-09-25T19:44:26.321000\",\"y\":18896.78},{\"arrowcolor\":\"red\",\"arrowhead\":5,\"arrowwidth\":2,\"ay\":-10,\"font\":{\"color\":\"red\"},\"hovertext\":\"2022-09-25 19:46:40.144000 sell at 18876.9 , profit: -0.01988\",\"showarrow\":true,\"text\":\"sell\",\"x\":\"2022-09-25T19:46:40.144000\",\"y\":18876.9},{\"arrowcolor\":\"green\",\"arrowhead\":5,\"arrowwidth\":2,\"ay\":-20,\"font\":{\"color\":\"green\"},\"hovertext\":\"2022-09-25 19:50:47.153000 buy at 18892.08 \",\"showarrow\":true,\"text\":\"buy\",\"x\":\"2022-09-25T19:50:47.153000\",\"y\":18892.08},{\"arrowcolor\":\"red\",\"arrowhead\":5,\"arrowwidth\":2,\"ay\":-30,\"font\":{\"color\":\"red\"},\"hovertext\":\"2022-09-25 20:17:18.824000 sell at 18867.27 , profit: -0.02481\",\"showarrow\":true,\"text\":\"sell\",\"x\":\"2022-09-25T20:17:18.824000\",\"y\":18867.27},{\"arrowcolor\":\"green\",\"arrowhead\":5,\"arrowwidth\":2,\"ay\":-40,\"font\":{\"color\":\"green\"},\"hovertext\":\"2022-09-25 20:24:39.191000 buy at 18895.27 \",\"showarrow\":true,\"text\":\"buy\",\"x\":\"2022-09-25T20:24:39.191000\",\"y\":18895.27}]},                        {\"responsive\": true}                    ).then(function(){\n",
       "                            \n",
       "var gd = document.getElementById('34fdf3ec-fec3-4466-8187-dd78f5371c88');\n",
       "var x = new MutationObserver(function (mutations, observer) {{\n",
       "        var display = window.getComputedStyle(gd).display;\n",
       "        if (!display || display === 'none') {{\n",
       "            console.log([gd, 'removed!']);\n",
       "            Plotly.purge(gd);\n",
       "            observer.disconnect();\n",
       "        }}\n",
       "}});\n",
       "\n",
       "// Listen for the removal of the full notebook cells\n",
       "var notebookContainer = gd.closest('#notebook-container');\n",
       "if (notebookContainer) {{\n",
       "    x.observe(notebookContainer, {childList: true});\n",
       "}}\n",
       "\n",
       "// Listen for the clearing of the current output cell\n",
       "var outputEl = gd.closest('.output');\n",
       "if (outputEl) {{\n",
       "    x.observe(outputEl, {childList: true});\n",
       "}}\n",
       "\n",
       "                        })                };                });            </script>        </div>"
      ]
     },
     "metadata": {},
     "output_type": "display_data"
    }
   ],
   "source": [
    "# Install a conda package in the current Jupyter kernel\n",
    "#%conda install -c plotly plotly=5.9.0\n",
    "# Draw candlechart\n",
    "import plotly as py\n",
    "from plotly import graph_objects as go\n",
    "import pandas as pd\n",
    "\n",
    "df=candles.copy()\n",
    "#df=clean_candles(df)\n",
    "fig = go.Figure(data=[ \\\n",
    "                    go.Candlestick(\\\n",
    "                        x=df.index,\\\n",
    "                        open=df['open'],\\\n",
    "                        high=df['high'],\\\n",
    "                        low=df['low'],\\\n",
    "                        close=df['close'])\n",
    "                     ])\n",
    "\n",
    "# Customize ay to distribute captions by y so they do not overlap by x\n",
    "ay,aymax,aystep=0,50,10\n",
    "# Annotate buy, sell on the chart\n",
    "for traderec in orders[(orders[\"status\"] == \"FILLED\") & (orders.index > df.index.min())].iterrows():\n",
    "    ay=(ay+aystep)%aymax\n",
    "    trade=traderec[1]\n",
    "    color='green' if trade['side']==\"BUY\" else 'red'\n",
    "    text_short='buy' if trade['side']==\"BUY\"  else 'sell'\n",
    "    status= f\", profit: {round(trade['profit'], 10)}\" if ~np.isnan(trade['profit']) else \"\"\n",
    "    #text=f\"{trade['time']} {text_short} at {str(trade['price'])}, profit: {str(trade['profit'])}\"\n",
    "    text=f\"{trade['time']} {text_short} at {str(trade['price'])} {status}\"\n",
    "    fig.add_annotation(x=trade['time'], \\\n",
    "                       y=trade['price'],\\\n",
    "                       text=text_short,\\\n",
    "                       hovertext=text,\\\n",
    "                       showarrow=True,arrowhead=5,arrowcolor=color,ay=-ay,arrowwidth=2,\n",
    "                       font={'color':color}\n",
    "                      )\n",
    "fig.show()\n"
   ]
  },
  {
   "cell_type": "markdown",
   "metadata": {},
   "source": [
    "## Profit"
   ]
  },
  {
   "cell_type": "code",
   "execution_count": 8,
   "metadata": {},
   "outputs": [
    {
     "data": {
      "application/vnd.plotly.v1+json": {
       "config": {
        "plotlyServerURL": "https://plot.ly"
       },
       "data": [
        {
         "hovertemplate": "time=%{x}<br>profit=%{y}<extra></extra>",
         "legendgroup": "",
         "line": {
          "color": "#636efa",
          "dash": "solid"
         },
         "marker": {
          "symbol": "circle"
         },
         "mode": "lines",
         "name": "",
         "orientation": "v",
         "showlegend": false,
         "type": "scatter",
         "x": [
          "2022-09-24T17:18:53.163000",
          "2022-09-24T17:26:59.174000",
          "2022-09-24T17:28:05.923000",
          "2022-09-25T06:59:47.918000",
          "2022-09-25T09:50:05.366000",
          "2022-09-25T10:17:31.757000",
          "2022-09-25T10:21:43.846000",
          "2022-09-25T10:57:32.287000",
          "2022-09-25T12:00:56.608000",
          "2022-09-25T12:11:31.929000",
          "2022-09-25T18:00:58.082000",
          "2022-09-25T18:35:45.273000",
          "2022-09-25T18:37:53.118000",
          "2022-09-25T18:47:26.223000",
          "2022-09-25T19:44:27.123000",
          "2022-09-25T19:50:47.956000"
         ],
         "xaxis": "x",
         "y": [
          0.0014000000000014552,
          0.0019700000000011644,
          0.0008299999999981083,
          -0.01893000000000029,
          -0.017930000000000293,
          -0.01868000000000029,
          -0.019380000000001018,
          -0.018400000000001457,
          -0.02043000000000029,
          -0.022830000000001748,
          -0.02095000000000073,
          -0.018990000000001603,
          -0.040970000000001165,
          -0.015319999999999709,
          -0.019879999999997382,
          -0.02481000000000131
         ],
         "yaxis": "y"
        }
       ],
       "layout": {
        "legend": {
         "tracegroupgap": 0
        },
        "margin": {
         "t": 60
        },
        "template": {
         "data": {
          "bar": [
           {
            "error_x": {
             "color": "#2a3f5f"
            },
            "error_y": {
             "color": "#2a3f5f"
            },
            "marker": {
             "line": {
              "color": "#E5ECF6",
              "width": 0.5
             },
             "pattern": {
              "fillmode": "overlay",
              "size": 10,
              "solidity": 0.2
             }
            },
            "type": "bar"
           }
          ],
          "barpolar": [
           {
            "marker": {
             "line": {
              "color": "#E5ECF6",
              "width": 0.5
             },
             "pattern": {
              "fillmode": "overlay",
              "size": 10,
              "solidity": 0.2
             }
            },
            "type": "barpolar"
           }
          ],
          "carpet": [
           {
            "aaxis": {
             "endlinecolor": "#2a3f5f",
             "gridcolor": "white",
             "linecolor": "white",
             "minorgridcolor": "white",
             "startlinecolor": "#2a3f5f"
            },
            "baxis": {
             "endlinecolor": "#2a3f5f",
             "gridcolor": "white",
             "linecolor": "white",
             "minorgridcolor": "white",
             "startlinecolor": "#2a3f5f"
            },
            "type": "carpet"
           }
          ],
          "choropleth": [
           {
            "colorbar": {
             "outlinewidth": 0,
             "ticks": ""
            },
            "type": "choropleth"
           }
          ],
          "contour": [
           {
            "colorbar": {
             "outlinewidth": 0,
             "ticks": ""
            },
            "colorscale": [
             [
              0,
              "#0d0887"
             ],
             [
              0.1111111111111111,
              "#46039f"
             ],
             [
              0.2222222222222222,
              "#7201a8"
             ],
             [
              0.3333333333333333,
              "#9c179e"
             ],
             [
              0.4444444444444444,
              "#bd3786"
             ],
             [
              0.5555555555555556,
              "#d8576b"
             ],
             [
              0.6666666666666666,
              "#ed7953"
             ],
             [
              0.7777777777777778,
              "#fb9f3a"
             ],
             [
              0.8888888888888888,
              "#fdca26"
             ],
             [
              1,
              "#f0f921"
             ]
            ],
            "type": "contour"
           }
          ],
          "contourcarpet": [
           {
            "colorbar": {
             "outlinewidth": 0,
             "ticks": ""
            },
            "type": "contourcarpet"
           }
          ],
          "heatmap": [
           {
            "colorbar": {
             "outlinewidth": 0,
             "ticks": ""
            },
            "colorscale": [
             [
              0,
              "#0d0887"
             ],
             [
              0.1111111111111111,
              "#46039f"
             ],
             [
              0.2222222222222222,
              "#7201a8"
             ],
             [
              0.3333333333333333,
              "#9c179e"
             ],
             [
              0.4444444444444444,
              "#bd3786"
             ],
             [
              0.5555555555555556,
              "#d8576b"
             ],
             [
              0.6666666666666666,
              "#ed7953"
             ],
             [
              0.7777777777777778,
              "#fb9f3a"
             ],
             [
              0.8888888888888888,
              "#fdca26"
             ],
             [
              1,
              "#f0f921"
             ]
            ],
            "type": "heatmap"
           }
          ],
          "heatmapgl": [
           {
            "colorbar": {
             "outlinewidth": 0,
             "ticks": ""
            },
            "colorscale": [
             [
              0,
              "#0d0887"
             ],
             [
              0.1111111111111111,
              "#46039f"
             ],
             [
              0.2222222222222222,
              "#7201a8"
             ],
             [
              0.3333333333333333,
              "#9c179e"
             ],
             [
              0.4444444444444444,
              "#bd3786"
             ],
             [
              0.5555555555555556,
              "#d8576b"
             ],
             [
              0.6666666666666666,
              "#ed7953"
             ],
             [
              0.7777777777777778,
              "#fb9f3a"
             ],
             [
              0.8888888888888888,
              "#fdca26"
             ],
             [
              1,
              "#f0f921"
             ]
            ],
            "type": "heatmapgl"
           }
          ],
          "histogram": [
           {
            "marker": {
             "pattern": {
              "fillmode": "overlay",
              "size": 10,
              "solidity": 0.2
             }
            },
            "type": "histogram"
           }
          ],
          "histogram2d": [
           {
            "colorbar": {
             "outlinewidth": 0,
             "ticks": ""
            },
            "colorscale": [
             [
              0,
              "#0d0887"
             ],
             [
              0.1111111111111111,
              "#46039f"
             ],
             [
              0.2222222222222222,
              "#7201a8"
             ],
             [
              0.3333333333333333,
              "#9c179e"
             ],
             [
              0.4444444444444444,
              "#bd3786"
             ],
             [
              0.5555555555555556,
              "#d8576b"
             ],
             [
              0.6666666666666666,
              "#ed7953"
             ],
             [
              0.7777777777777778,
              "#fb9f3a"
             ],
             [
              0.8888888888888888,
              "#fdca26"
             ],
             [
              1,
              "#f0f921"
             ]
            ],
            "type": "histogram2d"
           }
          ],
          "histogram2dcontour": [
           {
            "colorbar": {
             "outlinewidth": 0,
             "ticks": ""
            },
            "colorscale": [
             [
              0,
              "#0d0887"
             ],
             [
              0.1111111111111111,
              "#46039f"
             ],
             [
              0.2222222222222222,
              "#7201a8"
             ],
             [
              0.3333333333333333,
              "#9c179e"
             ],
             [
              0.4444444444444444,
              "#bd3786"
             ],
             [
              0.5555555555555556,
              "#d8576b"
             ],
             [
              0.6666666666666666,
              "#ed7953"
             ],
             [
              0.7777777777777778,
              "#fb9f3a"
             ],
             [
              0.8888888888888888,
              "#fdca26"
             ],
             [
              1,
              "#f0f921"
             ]
            ],
            "type": "histogram2dcontour"
           }
          ],
          "mesh3d": [
           {
            "colorbar": {
             "outlinewidth": 0,
             "ticks": ""
            },
            "type": "mesh3d"
           }
          ],
          "parcoords": [
           {
            "line": {
             "colorbar": {
              "outlinewidth": 0,
              "ticks": ""
             }
            },
            "type": "parcoords"
           }
          ],
          "pie": [
           {
            "automargin": true,
            "type": "pie"
           }
          ],
          "scatter": [
           {
            "fillpattern": {
             "fillmode": "overlay",
             "size": 10,
             "solidity": 0.2
            },
            "type": "scatter"
           }
          ],
          "scatter3d": [
           {
            "line": {
             "colorbar": {
              "outlinewidth": 0,
              "ticks": ""
             }
            },
            "marker": {
             "colorbar": {
              "outlinewidth": 0,
              "ticks": ""
             }
            },
            "type": "scatter3d"
           }
          ],
          "scattercarpet": [
           {
            "marker": {
             "colorbar": {
              "outlinewidth": 0,
              "ticks": ""
             }
            },
            "type": "scattercarpet"
           }
          ],
          "scattergeo": [
           {
            "marker": {
             "colorbar": {
              "outlinewidth": 0,
              "ticks": ""
             }
            },
            "type": "scattergeo"
           }
          ],
          "scattergl": [
           {
            "marker": {
             "colorbar": {
              "outlinewidth": 0,
              "ticks": ""
             }
            },
            "type": "scattergl"
           }
          ],
          "scattermapbox": [
           {
            "marker": {
             "colorbar": {
              "outlinewidth": 0,
              "ticks": ""
             }
            },
            "type": "scattermapbox"
           }
          ],
          "scatterpolar": [
           {
            "marker": {
             "colorbar": {
              "outlinewidth": 0,
              "ticks": ""
             }
            },
            "type": "scatterpolar"
           }
          ],
          "scatterpolargl": [
           {
            "marker": {
             "colorbar": {
              "outlinewidth": 0,
              "ticks": ""
             }
            },
            "type": "scatterpolargl"
           }
          ],
          "scatterternary": [
           {
            "marker": {
             "colorbar": {
              "outlinewidth": 0,
              "ticks": ""
             }
            },
            "type": "scatterternary"
           }
          ],
          "surface": [
           {
            "colorbar": {
             "outlinewidth": 0,
             "ticks": ""
            },
            "colorscale": [
             [
              0,
              "#0d0887"
             ],
             [
              0.1111111111111111,
              "#46039f"
             ],
             [
              0.2222222222222222,
              "#7201a8"
             ],
             [
              0.3333333333333333,
              "#9c179e"
             ],
             [
              0.4444444444444444,
              "#bd3786"
             ],
             [
              0.5555555555555556,
              "#d8576b"
             ],
             [
              0.6666666666666666,
              "#ed7953"
             ],
             [
              0.7777777777777778,
              "#fb9f3a"
             ],
             [
              0.8888888888888888,
              "#fdca26"
             ],
             [
              1,
              "#f0f921"
             ]
            ],
            "type": "surface"
           }
          ],
          "table": [
           {
            "cells": {
             "fill": {
              "color": "#EBF0F8"
             },
             "line": {
              "color": "white"
             }
            },
            "header": {
             "fill": {
              "color": "#C8D4E3"
             },
             "line": {
              "color": "white"
             }
            },
            "type": "table"
           }
          ]
         },
         "layout": {
          "annotationdefaults": {
           "arrowcolor": "#2a3f5f",
           "arrowhead": 0,
           "arrowwidth": 1
          },
          "autotypenumbers": "strict",
          "coloraxis": {
           "colorbar": {
            "outlinewidth": 0,
            "ticks": ""
           }
          },
          "colorscale": {
           "diverging": [
            [
             0,
             "#8e0152"
            ],
            [
             0.1,
             "#c51b7d"
            ],
            [
             0.2,
             "#de77ae"
            ],
            [
             0.3,
             "#f1b6da"
            ],
            [
             0.4,
             "#fde0ef"
            ],
            [
             0.5,
             "#f7f7f7"
            ],
            [
             0.6,
             "#e6f5d0"
            ],
            [
             0.7,
             "#b8e186"
            ],
            [
             0.8,
             "#7fbc41"
            ],
            [
             0.9,
             "#4d9221"
            ],
            [
             1,
             "#276419"
            ]
           ],
           "sequential": [
            [
             0,
             "#0d0887"
            ],
            [
             0.1111111111111111,
             "#46039f"
            ],
            [
             0.2222222222222222,
             "#7201a8"
            ],
            [
             0.3333333333333333,
             "#9c179e"
            ],
            [
             0.4444444444444444,
             "#bd3786"
            ],
            [
             0.5555555555555556,
             "#d8576b"
            ],
            [
             0.6666666666666666,
             "#ed7953"
            ],
            [
             0.7777777777777778,
             "#fb9f3a"
            ],
            [
             0.8888888888888888,
             "#fdca26"
            ],
            [
             1,
             "#f0f921"
            ]
           ],
           "sequentialminus": [
            [
             0,
             "#0d0887"
            ],
            [
             0.1111111111111111,
             "#46039f"
            ],
            [
             0.2222222222222222,
             "#7201a8"
            ],
            [
             0.3333333333333333,
             "#9c179e"
            ],
            [
             0.4444444444444444,
             "#bd3786"
            ],
            [
             0.5555555555555556,
             "#d8576b"
            ],
            [
             0.6666666666666666,
             "#ed7953"
            ],
            [
             0.7777777777777778,
             "#fb9f3a"
            ],
            [
             0.8888888888888888,
             "#fdca26"
            ],
            [
             1,
             "#f0f921"
            ]
           ]
          },
          "colorway": [
           "#636efa",
           "#EF553B",
           "#00cc96",
           "#ab63fa",
           "#FFA15A",
           "#19d3f3",
           "#FF6692",
           "#B6E880",
           "#FF97FF",
           "#FECB52"
          ],
          "font": {
           "color": "#2a3f5f"
          },
          "geo": {
           "bgcolor": "white",
           "lakecolor": "white",
           "landcolor": "#E5ECF6",
           "showlakes": true,
           "showland": true,
           "subunitcolor": "white"
          },
          "hoverlabel": {
           "align": "left"
          },
          "hovermode": "closest",
          "mapbox": {
           "style": "light"
          },
          "paper_bgcolor": "white",
          "plot_bgcolor": "#E5ECF6",
          "polar": {
           "angularaxis": {
            "gridcolor": "white",
            "linecolor": "white",
            "ticks": ""
           },
           "bgcolor": "#E5ECF6",
           "radialaxis": {
            "gridcolor": "white",
            "linecolor": "white",
            "ticks": ""
           }
          },
          "scene": {
           "xaxis": {
            "backgroundcolor": "#E5ECF6",
            "gridcolor": "white",
            "gridwidth": 2,
            "linecolor": "white",
            "showbackground": true,
            "ticks": "",
            "zerolinecolor": "white"
           },
           "yaxis": {
            "backgroundcolor": "#E5ECF6",
            "gridcolor": "white",
            "gridwidth": 2,
            "linecolor": "white",
            "showbackground": true,
            "ticks": "",
            "zerolinecolor": "white"
           },
           "zaxis": {
            "backgroundcolor": "#E5ECF6",
            "gridcolor": "white",
            "gridwidth": 2,
            "linecolor": "white",
            "showbackground": true,
            "ticks": "",
            "zerolinecolor": "white"
           }
          },
          "shapedefaults": {
           "line": {
            "color": "#2a3f5f"
           }
          },
          "ternary": {
           "aaxis": {
            "gridcolor": "white",
            "linecolor": "white",
            "ticks": ""
           },
           "baxis": {
            "gridcolor": "white",
            "linecolor": "white",
            "ticks": ""
           },
           "bgcolor": "#E5ECF6",
           "caxis": {
            "gridcolor": "white",
            "linecolor": "white",
            "ticks": ""
           }
          },
          "title": {
           "x": 0.05
          },
          "xaxis": {
           "automargin": true,
           "gridcolor": "white",
           "linecolor": "white",
           "ticks": "",
           "title": {
            "standoff": 15
           },
           "zerolinecolor": "white",
           "zerolinewidth": 2
          },
          "yaxis": {
           "automargin": true,
           "gridcolor": "white",
           "linecolor": "white",
           "ticks": "",
           "title": {
            "standoff": 15
           },
           "zerolinecolor": "white",
           "zerolinewidth": 2
          }
         }
        },
        "xaxis": {
         "anchor": "y",
         "domain": [
          0,
          1
         ],
         "title": {
          "text": "time"
         }
        },
        "yaxis": {
         "anchor": "x",
         "domain": [
          0,
          1
         ],
         "title": {
          "text": "profit"
         }
        }
       }
      },
      "text/html": [
       "<div>                            <div id=\"ead2ff29-8cd1-488e-8d04-745465085d53\" class=\"plotly-graph-div\" style=\"height:525px; width:100%;\"></div>            <script type=\"text/javascript\">                require([\"plotly\"], function(Plotly) {                    window.PLOTLYENV=window.PLOTLYENV || {};                                    if (document.getElementById(\"ead2ff29-8cd1-488e-8d04-745465085d53\")) {                    Plotly.newPlot(                        \"ead2ff29-8cd1-488e-8d04-745465085d53\",                        [{\"hovertemplate\":\"time=%{x}<br>profit=%{y}<extra></extra>\",\"legendgroup\":\"\",\"line\":{\"color\":\"#636efa\",\"dash\":\"solid\"},\"marker\":{\"symbol\":\"circle\"},\"mode\":\"lines\",\"name\":\"\",\"orientation\":\"v\",\"showlegend\":false,\"x\":[\"2022-09-24T17:18:53.163000\",\"2022-09-24T17:26:59.174000\",\"2022-09-24T17:28:05.923000\",\"2022-09-25T06:59:47.918000\",\"2022-09-25T09:50:05.366000\",\"2022-09-25T10:17:31.757000\",\"2022-09-25T10:21:43.846000\",\"2022-09-25T10:57:32.287000\",\"2022-09-25T12:00:56.608000\",\"2022-09-25T12:11:31.929000\",\"2022-09-25T18:00:58.082000\",\"2022-09-25T18:35:45.273000\",\"2022-09-25T18:37:53.118000\",\"2022-09-25T18:47:26.223000\",\"2022-09-25T19:44:27.123000\",\"2022-09-25T19:50:47.956000\"],\"xaxis\":\"x\",\"y\":[0.0014000000000014552,0.0019700000000011644,0.0008299999999981083,-0.01893000000000029,-0.017930000000000293,-0.01868000000000029,-0.019380000000001018,-0.018400000000001457,-0.02043000000000029,-0.022830000000001748,-0.02095000000000073,-0.018990000000001603,-0.040970000000001165,-0.015319999999999709,-0.019879999999997382,-0.02481000000000131],\"yaxis\":\"y\",\"type\":\"scatter\"}],                        {\"template\":{\"data\":{\"histogram2dcontour\":[{\"type\":\"histogram2dcontour\",\"colorbar\":{\"outlinewidth\":0,\"ticks\":\"\"},\"colorscale\":[[0.0,\"#0d0887\"],[0.1111111111111111,\"#46039f\"],[0.2222222222222222,\"#7201a8\"],[0.3333333333333333,\"#9c179e\"],[0.4444444444444444,\"#bd3786\"],[0.5555555555555556,\"#d8576b\"],[0.6666666666666666,\"#ed7953\"],[0.7777777777777778,\"#fb9f3a\"],[0.8888888888888888,\"#fdca26\"],[1.0,\"#f0f921\"]]}],\"choropleth\":[{\"type\":\"choropleth\",\"colorbar\":{\"outlinewidth\":0,\"ticks\":\"\"}}],\"histogram2d\":[{\"type\":\"histogram2d\",\"colorbar\":{\"outlinewidth\":0,\"ticks\":\"\"},\"colorscale\":[[0.0,\"#0d0887\"],[0.1111111111111111,\"#46039f\"],[0.2222222222222222,\"#7201a8\"],[0.3333333333333333,\"#9c179e\"],[0.4444444444444444,\"#bd3786\"],[0.5555555555555556,\"#d8576b\"],[0.6666666666666666,\"#ed7953\"],[0.7777777777777778,\"#fb9f3a\"],[0.8888888888888888,\"#fdca26\"],[1.0,\"#f0f921\"]]}],\"heatmap\":[{\"type\":\"heatmap\",\"colorbar\":{\"outlinewidth\":0,\"ticks\":\"\"},\"colorscale\":[[0.0,\"#0d0887\"],[0.1111111111111111,\"#46039f\"],[0.2222222222222222,\"#7201a8\"],[0.3333333333333333,\"#9c179e\"],[0.4444444444444444,\"#bd3786\"],[0.5555555555555556,\"#d8576b\"],[0.6666666666666666,\"#ed7953\"],[0.7777777777777778,\"#fb9f3a\"],[0.8888888888888888,\"#fdca26\"],[1.0,\"#f0f921\"]]}],\"heatmapgl\":[{\"type\":\"heatmapgl\",\"colorbar\":{\"outlinewidth\":0,\"ticks\":\"\"},\"colorscale\":[[0.0,\"#0d0887\"],[0.1111111111111111,\"#46039f\"],[0.2222222222222222,\"#7201a8\"],[0.3333333333333333,\"#9c179e\"],[0.4444444444444444,\"#bd3786\"],[0.5555555555555556,\"#d8576b\"],[0.6666666666666666,\"#ed7953\"],[0.7777777777777778,\"#fb9f3a\"],[0.8888888888888888,\"#fdca26\"],[1.0,\"#f0f921\"]]}],\"contourcarpet\":[{\"type\":\"contourcarpet\",\"colorbar\":{\"outlinewidth\":0,\"ticks\":\"\"}}],\"contour\":[{\"type\":\"contour\",\"colorbar\":{\"outlinewidth\":0,\"ticks\":\"\"},\"colorscale\":[[0.0,\"#0d0887\"],[0.1111111111111111,\"#46039f\"],[0.2222222222222222,\"#7201a8\"],[0.3333333333333333,\"#9c179e\"],[0.4444444444444444,\"#bd3786\"],[0.5555555555555556,\"#d8576b\"],[0.6666666666666666,\"#ed7953\"],[0.7777777777777778,\"#fb9f3a\"],[0.8888888888888888,\"#fdca26\"],[1.0,\"#f0f921\"]]}],\"surface\":[{\"type\":\"surface\",\"colorbar\":{\"outlinewidth\":0,\"ticks\":\"\"},\"colorscale\":[[0.0,\"#0d0887\"],[0.1111111111111111,\"#46039f\"],[0.2222222222222222,\"#7201a8\"],[0.3333333333333333,\"#9c179e\"],[0.4444444444444444,\"#bd3786\"],[0.5555555555555556,\"#d8576b\"],[0.6666666666666666,\"#ed7953\"],[0.7777777777777778,\"#fb9f3a\"],[0.8888888888888888,\"#fdca26\"],[1.0,\"#f0f921\"]]}],\"mesh3d\":[{\"type\":\"mesh3d\",\"colorbar\":{\"outlinewidth\":0,\"ticks\":\"\"}}],\"scatter\":[{\"fillpattern\":{\"fillmode\":\"overlay\",\"size\":10,\"solidity\":0.2},\"type\":\"scatter\"}],\"parcoords\":[{\"type\":\"parcoords\",\"line\":{\"colorbar\":{\"outlinewidth\":0,\"ticks\":\"\"}}}],\"scatterpolargl\":[{\"type\":\"scatterpolargl\",\"marker\":{\"colorbar\":{\"outlinewidth\":0,\"ticks\":\"\"}}}],\"bar\":[{\"error_x\":{\"color\":\"#2a3f5f\"},\"error_y\":{\"color\":\"#2a3f5f\"},\"marker\":{\"line\":{\"color\":\"#E5ECF6\",\"width\":0.5},\"pattern\":{\"fillmode\":\"overlay\",\"size\":10,\"solidity\":0.2}},\"type\":\"bar\"}],\"scattergeo\":[{\"type\":\"scattergeo\",\"marker\":{\"colorbar\":{\"outlinewidth\":0,\"ticks\":\"\"}}}],\"scatterpolar\":[{\"type\":\"scatterpolar\",\"marker\":{\"colorbar\":{\"outlinewidth\":0,\"ticks\":\"\"}}}],\"histogram\":[{\"marker\":{\"pattern\":{\"fillmode\":\"overlay\",\"size\":10,\"solidity\":0.2}},\"type\":\"histogram\"}],\"scattergl\":[{\"type\":\"scattergl\",\"marker\":{\"colorbar\":{\"outlinewidth\":0,\"ticks\":\"\"}}}],\"scatter3d\":[{\"type\":\"scatter3d\",\"line\":{\"colorbar\":{\"outlinewidth\":0,\"ticks\":\"\"}},\"marker\":{\"colorbar\":{\"outlinewidth\":0,\"ticks\":\"\"}}}],\"scattermapbox\":[{\"type\":\"scattermapbox\",\"marker\":{\"colorbar\":{\"outlinewidth\":0,\"ticks\":\"\"}}}],\"scatterternary\":[{\"type\":\"scatterternary\",\"marker\":{\"colorbar\":{\"outlinewidth\":0,\"ticks\":\"\"}}}],\"scattercarpet\":[{\"type\":\"scattercarpet\",\"marker\":{\"colorbar\":{\"outlinewidth\":0,\"ticks\":\"\"}}}],\"carpet\":[{\"aaxis\":{\"endlinecolor\":\"#2a3f5f\",\"gridcolor\":\"white\",\"linecolor\":\"white\",\"minorgridcolor\":\"white\",\"startlinecolor\":\"#2a3f5f\"},\"baxis\":{\"endlinecolor\":\"#2a3f5f\",\"gridcolor\":\"white\",\"linecolor\":\"white\",\"minorgridcolor\":\"white\",\"startlinecolor\":\"#2a3f5f\"},\"type\":\"carpet\"}],\"table\":[{\"cells\":{\"fill\":{\"color\":\"#EBF0F8\"},\"line\":{\"color\":\"white\"}},\"header\":{\"fill\":{\"color\":\"#C8D4E3\"},\"line\":{\"color\":\"white\"}},\"type\":\"table\"}],\"barpolar\":[{\"marker\":{\"line\":{\"color\":\"#E5ECF6\",\"width\":0.5},\"pattern\":{\"fillmode\":\"overlay\",\"size\":10,\"solidity\":0.2}},\"type\":\"barpolar\"}],\"pie\":[{\"automargin\":true,\"type\":\"pie\"}]},\"layout\":{\"autotypenumbers\":\"strict\",\"colorway\":[\"#636efa\",\"#EF553B\",\"#00cc96\",\"#ab63fa\",\"#FFA15A\",\"#19d3f3\",\"#FF6692\",\"#B6E880\",\"#FF97FF\",\"#FECB52\"],\"font\":{\"color\":\"#2a3f5f\"},\"hovermode\":\"closest\",\"hoverlabel\":{\"align\":\"left\"},\"paper_bgcolor\":\"white\",\"plot_bgcolor\":\"#E5ECF6\",\"polar\":{\"bgcolor\":\"#E5ECF6\",\"angularaxis\":{\"gridcolor\":\"white\",\"linecolor\":\"white\",\"ticks\":\"\"},\"radialaxis\":{\"gridcolor\":\"white\",\"linecolor\":\"white\",\"ticks\":\"\"}},\"ternary\":{\"bgcolor\":\"#E5ECF6\",\"aaxis\":{\"gridcolor\":\"white\",\"linecolor\":\"white\",\"ticks\":\"\"},\"baxis\":{\"gridcolor\":\"white\",\"linecolor\":\"white\",\"ticks\":\"\"},\"caxis\":{\"gridcolor\":\"white\",\"linecolor\":\"white\",\"ticks\":\"\"}},\"coloraxis\":{\"colorbar\":{\"outlinewidth\":0,\"ticks\":\"\"}},\"colorscale\":{\"sequential\":[[0.0,\"#0d0887\"],[0.1111111111111111,\"#46039f\"],[0.2222222222222222,\"#7201a8\"],[0.3333333333333333,\"#9c179e\"],[0.4444444444444444,\"#bd3786\"],[0.5555555555555556,\"#d8576b\"],[0.6666666666666666,\"#ed7953\"],[0.7777777777777778,\"#fb9f3a\"],[0.8888888888888888,\"#fdca26\"],[1.0,\"#f0f921\"]],\"sequentialminus\":[[0.0,\"#0d0887\"],[0.1111111111111111,\"#46039f\"],[0.2222222222222222,\"#7201a8\"],[0.3333333333333333,\"#9c179e\"],[0.4444444444444444,\"#bd3786\"],[0.5555555555555556,\"#d8576b\"],[0.6666666666666666,\"#ed7953\"],[0.7777777777777778,\"#fb9f3a\"],[0.8888888888888888,\"#fdca26\"],[1.0,\"#f0f921\"]],\"diverging\":[[0,\"#8e0152\"],[0.1,\"#c51b7d\"],[0.2,\"#de77ae\"],[0.3,\"#f1b6da\"],[0.4,\"#fde0ef\"],[0.5,\"#f7f7f7\"],[0.6,\"#e6f5d0\"],[0.7,\"#b8e186\"],[0.8,\"#7fbc41\"],[0.9,\"#4d9221\"],[1,\"#276419\"]]},\"xaxis\":{\"gridcolor\":\"white\",\"linecolor\":\"white\",\"ticks\":\"\",\"title\":{\"standoff\":15},\"zerolinecolor\":\"white\",\"automargin\":true,\"zerolinewidth\":2},\"yaxis\":{\"gridcolor\":\"white\",\"linecolor\":\"white\",\"ticks\":\"\",\"title\":{\"standoff\":15},\"zerolinecolor\":\"white\",\"automargin\":true,\"zerolinewidth\":2},\"scene\":{\"xaxis\":{\"backgroundcolor\":\"#E5ECF6\",\"gridcolor\":\"white\",\"linecolor\":\"white\",\"showbackground\":true,\"ticks\":\"\",\"zerolinecolor\":\"white\",\"gridwidth\":2},\"yaxis\":{\"backgroundcolor\":\"#E5ECF6\",\"gridcolor\":\"white\",\"linecolor\":\"white\",\"showbackground\":true,\"ticks\":\"\",\"zerolinecolor\":\"white\",\"gridwidth\":2},\"zaxis\":{\"backgroundcolor\":\"#E5ECF6\",\"gridcolor\":\"white\",\"linecolor\":\"white\",\"showbackground\":true,\"ticks\":\"\",\"zerolinecolor\":\"white\",\"gridwidth\":2}},\"shapedefaults\":{\"line\":{\"color\":\"#2a3f5f\"}},\"annotationdefaults\":{\"arrowcolor\":\"#2a3f5f\",\"arrowhead\":0,\"arrowwidth\":1},\"geo\":{\"bgcolor\":\"white\",\"landcolor\":\"#E5ECF6\",\"subunitcolor\":\"white\",\"showland\":true,\"showlakes\":true,\"lakecolor\":\"white\"},\"title\":{\"x\":0.05},\"mapbox\":{\"style\":\"light\"}}},\"xaxis\":{\"anchor\":\"y\",\"domain\":[0.0,1.0],\"title\":{\"text\":\"time\"}},\"yaxis\":{\"anchor\":\"x\",\"domain\":[0.0,1.0],\"title\":{\"text\":\"profit\"}},\"legend\":{\"tracegroupgap\":0},\"margin\":{\"t\":60}},                        {\"responsive\": true}                    ).then(function(){\n",
       "                            \n",
       "var gd = document.getElementById('ead2ff29-8cd1-488e-8d04-745465085d53');\n",
       "var x = new MutationObserver(function (mutations, observer) {{\n",
       "        var display = window.getComputedStyle(gd).display;\n",
       "        if (!display || display === 'none') {{\n",
       "            console.log([gd, 'removed!']);\n",
       "            Plotly.purge(gd);\n",
       "            observer.disconnect();\n",
       "        }}\n",
       "}});\n",
       "\n",
       "// Listen for the removal of the full notebook cells\n",
       "var notebookContainer = gd.closest('#notebook-container');\n",
       "if (notebookContainer) {{\n",
       "    x.observe(notebookContainer, {childList: true});\n",
       "}}\n",
       "\n",
       "// Listen for the clearing of the current output cell\n",
       "var outputEl = gd.closest('.output');\n",
       "if (outputEl) {{\n",
       "    x.observe(outputEl, {childList: true});\n",
       "}}\n",
       "\n",
       "                        })                };                });            </script>        </div>"
      ]
     },
     "metadata": {},
     "output_type": "display_data"
    }
   ],
   "source": [
    "#import matplotlib.pyplot as plt\n",
    "import plotly.express as px\n",
    "# Calc profit, considering only closing trades\n",
    "profit=orders[(orders.status==\"FILLED\")&(orders[\"profit\"])].copy()\n",
    "profit[\"cum_profit\"] = profit[\"profit\"].cumsum()\n",
    "\n",
    "#Plot\n",
    "fig = px.line(profit, x=\"time\", y=\"profit\")\n",
    "fig.show()"
   ]
  },
  {
   "cell_type": "code",
   "execution_count": 9,
   "metadata": {},
   "outputs": [
    {
     "data": {
      "application/vnd.plotly.v1+json": {
       "config": {
        "plotlyServerURL": "https://plot.ly"
       },
       "data": [
        {
         "hovertemplate": "index=%{x}<br>cum_profit=%{y}<extra></extra>",
         "legendgroup": "",
         "line": {
          "color": "#636efa",
          "dash": "solid"
         },
         "marker": {
          "symbol": "circle"
         },
         "mode": "lines",
         "name": "",
         "orientation": "v",
         "showlegend": false,
         "type": "scatter",
         "x": [
          "2022-09-24T17:18:53.163000",
          "2022-09-24T17:26:59.174000",
          "2022-09-24T17:28:05.923000",
          "2022-09-25T06:59:47.918000",
          "2022-09-25T09:50:05.366000",
          "2022-09-25T10:17:31.757000",
          "2022-09-25T10:21:43.846000",
          "2022-09-25T10:57:32.287000",
          "2022-09-25T12:00:56.608000",
          "2022-09-25T12:11:31.929000",
          "2022-09-25T18:00:58.082000",
          "2022-09-25T18:35:45.273000",
          "2022-09-25T18:37:53.118000",
          "2022-09-25T18:47:26.223000",
          "2022-09-25T19:44:27.123000",
          "2022-09-25T19:50:47.956000"
         ],
         "xaxis": "x",
         "y": [
          0.0014000000000014552,
          0.0033700000000026196,
          0.0042000000000007275,
          -0.014729999999999563,
          -0.032659999999999856,
          -0.05134000000000015,
          -0.07072000000000117,
          -0.08912000000000263,
          -0.10955000000000292,
          -0.13238000000000466,
          -0.15333000000000538,
          -0.17232000000000697,
          -0.21329000000000814,
          -0.22861000000000786,
          -0.24849000000000523,
          -0.27330000000000654
         ],
         "yaxis": "y"
        }
       ],
       "layout": {
        "legend": {
         "tracegroupgap": 0
        },
        "margin": {
         "t": 60
        },
        "template": {
         "data": {
          "bar": [
           {
            "error_x": {
             "color": "#2a3f5f"
            },
            "error_y": {
             "color": "#2a3f5f"
            },
            "marker": {
             "line": {
              "color": "#E5ECF6",
              "width": 0.5
             },
             "pattern": {
              "fillmode": "overlay",
              "size": 10,
              "solidity": 0.2
             }
            },
            "type": "bar"
           }
          ],
          "barpolar": [
           {
            "marker": {
             "line": {
              "color": "#E5ECF6",
              "width": 0.5
             },
             "pattern": {
              "fillmode": "overlay",
              "size": 10,
              "solidity": 0.2
             }
            },
            "type": "barpolar"
           }
          ],
          "carpet": [
           {
            "aaxis": {
             "endlinecolor": "#2a3f5f",
             "gridcolor": "white",
             "linecolor": "white",
             "minorgridcolor": "white",
             "startlinecolor": "#2a3f5f"
            },
            "baxis": {
             "endlinecolor": "#2a3f5f",
             "gridcolor": "white",
             "linecolor": "white",
             "minorgridcolor": "white",
             "startlinecolor": "#2a3f5f"
            },
            "type": "carpet"
           }
          ],
          "choropleth": [
           {
            "colorbar": {
             "outlinewidth": 0,
             "ticks": ""
            },
            "type": "choropleth"
           }
          ],
          "contour": [
           {
            "colorbar": {
             "outlinewidth": 0,
             "ticks": ""
            },
            "colorscale": [
             [
              0,
              "#0d0887"
             ],
             [
              0.1111111111111111,
              "#46039f"
             ],
             [
              0.2222222222222222,
              "#7201a8"
             ],
             [
              0.3333333333333333,
              "#9c179e"
             ],
             [
              0.4444444444444444,
              "#bd3786"
             ],
             [
              0.5555555555555556,
              "#d8576b"
             ],
             [
              0.6666666666666666,
              "#ed7953"
             ],
             [
              0.7777777777777778,
              "#fb9f3a"
             ],
             [
              0.8888888888888888,
              "#fdca26"
             ],
             [
              1,
              "#f0f921"
             ]
            ],
            "type": "contour"
           }
          ],
          "contourcarpet": [
           {
            "colorbar": {
             "outlinewidth": 0,
             "ticks": ""
            },
            "type": "contourcarpet"
           }
          ],
          "heatmap": [
           {
            "colorbar": {
             "outlinewidth": 0,
             "ticks": ""
            },
            "colorscale": [
             [
              0,
              "#0d0887"
             ],
             [
              0.1111111111111111,
              "#46039f"
             ],
             [
              0.2222222222222222,
              "#7201a8"
             ],
             [
              0.3333333333333333,
              "#9c179e"
             ],
             [
              0.4444444444444444,
              "#bd3786"
             ],
             [
              0.5555555555555556,
              "#d8576b"
             ],
             [
              0.6666666666666666,
              "#ed7953"
             ],
             [
              0.7777777777777778,
              "#fb9f3a"
             ],
             [
              0.8888888888888888,
              "#fdca26"
             ],
             [
              1,
              "#f0f921"
             ]
            ],
            "type": "heatmap"
           }
          ],
          "heatmapgl": [
           {
            "colorbar": {
             "outlinewidth": 0,
             "ticks": ""
            },
            "colorscale": [
             [
              0,
              "#0d0887"
             ],
             [
              0.1111111111111111,
              "#46039f"
             ],
             [
              0.2222222222222222,
              "#7201a8"
             ],
             [
              0.3333333333333333,
              "#9c179e"
             ],
             [
              0.4444444444444444,
              "#bd3786"
             ],
             [
              0.5555555555555556,
              "#d8576b"
             ],
             [
              0.6666666666666666,
              "#ed7953"
             ],
             [
              0.7777777777777778,
              "#fb9f3a"
             ],
             [
              0.8888888888888888,
              "#fdca26"
             ],
             [
              1,
              "#f0f921"
             ]
            ],
            "type": "heatmapgl"
           }
          ],
          "histogram": [
           {
            "marker": {
             "pattern": {
              "fillmode": "overlay",
              "size": 10,
              "solidity": 0.2
             }
            },
            "type": "histogram"
           }
          ],
          "histogram2d": [
           {
            "colorbar": {
             "outlinewidth": 0,
             "ticks": ""
            },
            "colorscale": [
             [
              0,
              "#0d0887"
             ],
             [
              0.1111111111111111,
              "#46039f"
             ],
             [
              0.2222222222222222,
              "#7201a8"
             ],
             [
              0.3333333333333333,
              "#9c179e"
             ],
             [
              0.4444444444444444,
              "#bd3786"
             ],
             [
              0.5555555555555556,
              "#d8576b"
             ],
             [
              0.6666666666666666,
              "#ed7953"
             ],
             [
              0.7777777777777778,
              "#fb9f3a"
             ],
             [
              0.8888888888888888,
              "#fdca26"
             ],
             [
              1,
              "#f0f921"
             ]
            ],
            "type": "histogram2d"
           }
          ],
          "histogram2dcontour": [
           {
            "colorbar": {
             "outlinewidth": 0,
             "ticks": ""
            },
            "colorscale": [
             [
              0,
              "#0d0887"
             ],
             [
              0.1111111111111111,
              "#46039f"
             ],
             [
              0.2222222222222222,
              "#7201a8"
             ],
             [
              0.3333333333333333,
              "#9c179e"
             ],
             [
              0.4444444444444444,
              "#bd3786"
             ],
             [
              0.5555555555555556,
              "#d8576b"
             ],
             [
              0.6666666666666666,
              "#ed7953"
             ],
             [
              0.7777777777777778,
              "#fb9f3a"
             ],
             [
              0.8888888888888888,
              "#fdca26"
             ],
             [
              1,
              "#f0f921"
             ]
            ],
            "type": "histogram2dcontour"
           }
          ],
          "mesh3d": [
           {
            "colorbar": {
             "outlinewidth": 0,
             "ticks": ""
            },
            "type": "mesh3d"
           }
          ],
          "parcoords": [
           {
            "line": {
             "colorbar": {
              "outlinewidth": 0,
              "ticks": ""
             }
            },
            "type": "parcoords"
           }
          ],
          "pie": [
           {
            "automargin": true,
            "type": "pie"
           }
          ],
          "scatter": [
           {
            "fillpattern": {
             "fillmode": "overlay",
             "size": 10,
             "solidity": 0.2
            },
            "type": "scatter"
           }
          ],
          "scatter3d": [
           {
            "line": {
             "colorbar": {
              "outlinewidth": 0,
              "ticks": ""
             }
            },
            "marker": {
             "colorbar": {
              "outlinewidth": 0,
              "ticks": ""
             }
            },
            "type": "scatter3d"
           }
          ],
          "scattercarpet": [
           {
            "marker": {
             "colorbar": {
              "outlinewidth": 0,
              "ticks": ""
             }
            },
            "type": "scattercarpet"
           }
          ],
          "scattergeo": [
           {
            "marker": {
             "colorbar": {
              "outlinewidth": 0,
              "ticks": ""
             }
            },
            "type": "scattergeo"
           }
          ],
          "scattergl": [
           {
            "marker": {
             "colorbar": {
              "outlinewidth": 0,
              "ticks": ""
             }
            },
            "type": "scattergl"
           }
          ],
          "scattermapbox": [
           {
            "marker": {
             "colorbar": {
              "outlinewidth": 0,
              "ticks": ""
             }
            },
            "type": "scattermapbox"
           }
          ],
          "scatterpolar": [
           {
            "marker": {
             "colorbar": {
              "outlinewidth": 0,
              "ticks": ""
             }
            },
            "type": "scatterpolar"
           }
          ],
          "scatterpolargl": [
           {
            "marker": {
             "colorbar": {
              "outlinewidth": 0,
              "ticks": ""
             }
            },
            "type": "scatterpolargl"
           }
          ],
          "scatterternary": [
           {
            "marker": {
             "colorbar": {
              "outlinewidth": 0,
              "ticks": ""
             }
            },
            "type": "scatterternary"
           }
          ],
          "surface": [
           {
            "colorbar": {
             "outlinewidth": 0,
             "ticks": ""
            },
            "colorscale": [
             [
              0,
              "#0d0887"
             ],
             [
              0.1111111111111111,
              "#46039f"
             ],
             [
              0.2222222222222222,
              "#7201a8"
             ],
             [
              0.3333333333333333,
              "#9c179e"
             ],
             [
              0.4444444444444444,
              "#bd3786"
             ],
             [
              0.5555555555555556,
              "#d8576b"
             ],
             [
              0.6666666666666666,
              "#ed7953"
             ],
             [
              0.7777777777777778,
              "#fb9f3a"
             ],
             [
              0.8888888888888888,
              "#fdca26"
             ],
             [
              1,
              "#f0f921"
             ]
            ],
            "type": "surface"
           }
          ],
          "table": [
           {
            "cells": {
             "fill": {
              "color": "#EBF0F8"
             },
             "line": {
              "color": "white"
             }
            },
            "header": {
             "fill": {
              "color": "#C8D4E3"
             },
             "line": {
              "color": "white"
             }
            },
            "type": "table"
           }
          ]
         },
         "layout": {
          "annotationdefaults": {
           "arrowcolor": "#2a3f5f",
           "arrowhead": 0,
           "arrowwidth": 1
          },
          "autotypenumbers": "strict",
          "coloraxis": {
           "colorbar": {
            "outlinewidth": 0,
            "ticks": ""
           }
          },
          "colorscale": {
           "diverging": [
            [
             0,
             "#8e0152"
            ],
            [
             0.1,
             "#c51b7d"
            ],
            [
             0.2,
             "#de77ae"
            ],
            [
             0.3,
             "#f1b6da"
            ],
            [
             0.4,
             "#fde0ef"
            ],
            [
             0.5,
             "#f7f7f7"
            ],
            [
             0.6,
             "#e6f5d0"
            ],
            [
             0.7,
             "#b8e186"
            ],
            [
             0.8,
             "#7fbc41"
            ],
            [
             0.9,
             "#4d9221"
            ],
            [
             1,
             "#276419"
            ]
           ],
           "sequential": [
            [
             0,
             "#0d0887"
            ],
            [
             0.1111111111111111,
             "#46039f"
            ],
            [
             0.2222222222222222,
             "#7201a8"
            ],
            [
             0.3333333333333333,
             "#9c179e"
            ],
            [
             0.4444444444444444,
             "#bd3786"
            ],
            [
             0.5555555555555556,
             "#d8576b"
            ],
            [
             0.6666666666666666,
             "#ed7953"
            ],
            [
             0.7777777777777778,
             "#fb9f3a"
            ],
            [
             0.8888888888888888,
             "#fdca26"
            ],
            [
             1,
             "#f0f921"
            ]
           ],
           "sequentialminus": [
            [
             0,
             "#0d0887"
            ],
            [
             0.1111111111111111,
             "#46039f"
            ],
            [
             0.2222222222222222,
             "#7201a8"
            ],
            [
             0.3333333333333333,
             "#9c179e"
            ],
            [
             0.4444444444444444,
             "#bd3786"
            ],
            [
             0.5555555555555556,
             "#d8576b"
            ],
            [
             0.6666666666666666,
             "#ed7953"
            ],
            [
             0.7777777777777778,
             "#fb9f3a"
            ],
            [
             0.8888888888888888,
             "#fdca26"
            ],
            [
             1,
             "#f0f921"
            ]
           ]
          },
          "colorway": [
           "#636efa",
           "#EF553B",
           "#00cc96",
           "#ab63fa",
           "#FFA15A",
           "#19d3f3",
           "#FF6692",
           "#B6E880",
           "#FF97FF",
           "#FECB52"
          ],
          "font": {
           "color": "#2a3f5f"
          },
          "geo": {
           "bgcolor": "white",
           "lakecolor": "white",
           "landcolor": "#E5ECF6",
           "showlakes": true,
           "showland": true,
           "subunitcolor": "white"
          },
          "hoverlabel": {
           "align": "left"
          },
          "hovermode": "closest",
          "mapbox": {
           "style": "light"
          },
          "paper_bgcolor": "white",
          "plot_bgcolor": "#E5ECF6",
          "polar": {
           "angularaxis": {
            "gridcolor": "white",
            "linecolor": "white",
            "ticks": ""
           },
           "bgcolor": "#E5ECF6",
           "radialaxis": {
            "gridcolor": "white",
            "linecolor": "white",
            "ticks": ""
           }
          },
          "scene": {
           "xaxis": {
            "backgroundcolor": "#E5ECF6",
            "gridcolor": "white",
            "gridwidth": 2,
            "linecolor": "white",
            "showbackground": true,
            "ticks": "",
            "zerolinecolor": "white"
           },
           "yaxis": {
            "backgroundcolor": "#E5ECF6",
            "gridcolor": "white",
            "gridwidth": 2,
            "linecolor": "white",
            "showbackground": true,
            "ticks": "",
            "zerolinecolor": "white"
           },
           "zaxis": {
            "backgroundcolor": "#E5ECF6",
            "gridcolor": "white",
            "gridwidth": 2,
            "linecolor": "white",
            "showbackground": true,
            "ticks": "",
            "zerolinecolor": "white"
           }
          },
          "shapedefaults": {
           "line": {
            "color": "#2a3f5f"
           }
          },
          "ternary": {
           "aaxis": {
            "gridcolor": "white",
            "linecolor": "white",
            "ticks": ""
           },
           "baxis": {
            "gridcolor": "white",
            "linecolor": "white",
            "ticks": ""
           },
           "bgcolor": "#E5ECF6",
           "caxis": {
            "gridcolor": "white",
            "linecolor": "white",
            "ticks": ""
           }
          },
          "title": {
           "x": 0.05
          },
          "xaxis": {
           "automargin": true,
           "gridcolor": "white",
           "linecolor": "white",
           "ticks": "",
           "title": {
            "standoff": 15
           },
           "zerolinecolor": "white",
           "zerolinewidth": 2
          },
          "yaxis": {
           "automargin": true,
           "gridcolor": "white",
           "linecolor": "white",
           "ticks": "",
           "title": {
            "standoff": 15
           },
           "zerolinecolor": "white",
           "zerolinewidth": 2
          }
         }
        },
        "xaxis": {
         "anchor": "y",
         "domain": [
          0,
          1
         ],
         "title": {
          "text": "index"
         }
        },
        "yaxis": {
         "anchor": "x",
         "domain": [
          0,
          1
         ],
         "title": {
          "text": "cum_profit"
         }
        }
       }
      },
      "text/html": [
       "<div>                            <div id=\"ccd000e8-8ec1-4507-a248-cf1a95371d38\" class=\"plotly-graph-div\" style=\"height:525px; width:100%;\"></div>            <script type=\"text/javascript\">                require([\"plotly\"], function(Plotly) {                    window.PLOTLYENV=window.PLOTLYENV || {};                                    if (document.getElementById(\"ccd000e8-8ec1-4507-a248-cf1a95371d38\")) {                    Plotly.newPlot(                        \"ccd000e8-8ec1-4507-a248-cf1a95371d38\",                        [{\"hovertemplate\":\"index=%{x}<br>cum_profit=%{y}<extra></extra>\",\"legendgroup\":\"\",\"line\":{\"color\":\"#636efa\",\"dash\":\"solid\"},\"marker\":{\"symbol\":\"circle\"},\"mode\":\"lines\",\"name\":\"\",\"orientation\":\"v\",\"showlegend\":false,\"x\":[\"2022-09-24T17:18:53.163000\",\"2022-09-24T17:26:59.174000\",\"2022-09-24T17:28:05.923000\",\"2022-09-25T06:59:47.918000\",\"2022-09-25T09:50:05.366000\",\"2022-09-25T10:17:31.757000\",\"2022-09-25T10:21:43.846000\",\"2022-09-25T10:57:32.287000\",\"2022-09-25T12:00:56.608000\",\"2022-09-25T12:11:31.929000\",\"2022-09-25T18:00:58.082000\",\"2022-09-25T18:35:45.273000\",\"2022-09-25T18:37:53.118000\",\"2022-09-25T18:47:26.223000\",\"2022-09-25T19:44:27.123000\",\"2022-09-25T19:50:47.956000\"],\"xaxis\":\"x\",\"y\":[0.0014000000000014552,0.0033700000000026196,0.0042000000000007275,-0.014729999999999563,-0.032659999999999856,-0.05134000000000015,-0.07072000000000117,-0.08912000000000263,-0.10955000000000292,-0.13238000000000466,-0.15333000000000538,-0.17232000000000697,-0.21329000000000814,-0.22861000000000786,-0.24849000000000523,-0.27330000000000654],\"yaxis\":\"y\",\"type\":\"scatter\"}],                        {\"template\":{\"data\":{\"histogram2dcontour\":[{\"type\":\"histogram2dcontour\",\"colorbar\":{\"outlinewidth\":0,\"ticks\":\"\"},\"colorscale\":[[0.0,\"#0d0887\"],[0.1111111111111111,\"#46039f\"],[0.2222222222222222,\"#7201a8\"],[0.3333333333333333,\"#9c179e\"],[0.4444444444444444,\"#bd3786\"],[0.5555555555555556,\"#d8576b\"],[0.6666666666666666,\"#ed7953\"],[0.7777777777777778,\"#fb9f3a\"],[0.8888888888888888,\"#fdca26\"],[1.0,\"#f0f921\"]]}],\"choropleth\":[{\"type\":\"choropleth\",\"colorbar\":{\"outlinewidth\":0,\"ticks\":\"\"}}],\"histogram2d\":[{\"type\":\"histogram2d\",\"colorbar\":{\"outlinewidth\":0,\"ticks\":\"\"},\"colorscale\":[[0.0,\"#0d0887\"],[0.1111111111111111,\"#46039f\"],[0.2222222222222222,\"#7201a8\"],[0.3333333333333333,\"#9c179e\"],[0.4444444444444444,\"#bd3786\"],[0.5555555555555556,\"#d8576b\"],[0.6666666666666666,\"#ed7953\"],[0.7777777777777778,\"#fb9f3a\"],[0.8888888888888888,\"#fdca26\"],[1.0,\"#f0f921\"]]}],\"heatmap\":[{\"type\":\"heatmap\",\"colorbar\":{\"outlinewidth\":0,\"ticks\":\"\"},\"colorscale\":[[0.0,\"#0d0887\"],[0.1111111111111111,\"#46039f\"],[0.2222222222222222,\"#7201a8\"],[0.3333333333333333,\"#9c179e\"],[0.4444444444444444,\"#bd3786\"],[0.5555555555555556,\"#d8576b\"],[0.6666666666666666,\"#ed7953\"],[0.7777777777777778,\"#fb9f3a\"],[0.8888888888888888,\"#fdca26\"],[1.0,\"#f0f921\"]]}],\"heatmapgl\":[{\"type\":\"heatmapgl\",\"colorbar\":{\"outlinewidth\":0,\"ticks\":\"\"},\"colorscale\":[[0.0,\"#0d0887\"],[0.1111111111111111,\"#46039f\"],[0.2222222222222222,\"#7201a8\"],[0.3333333333333333,\"#9c179e\"],[0.4444444444444444,\"#bd3786\"],[0.5555555555555556,\"#d8576b\"],[0.6666666666666666,\"#ed7953\"],[0.7777777777777778,\"#fb9f3a\"],[0.8888888888888888,\"#fdca26\"],[1.0,\"#f0f921\"]]}],\"contourcarpet\":[{\"type\":\"contourcarpet\",\"colorbar\":{\"outlinewidth\":0,\"ticks\":\"\"}}],\"contour\":[{\"type\":\"contour\",\"colorbar\":{\"outlinewidth\":0,\"ticks\":\"\"},\"colorscale\":[[0.0,\"#0d0887\"],[0.1111111111111111,\"#46039f\"],[0.2222222222222222,\"#7201a8\"],[0.3333333333333333,\"#9c179e\"],[0.4444444444444444,\"#bd3786\"],[0.5555555555555556,\"#d8576b\"],[0.6666666666666666,\"#ed7953\"],[0.7777777777777778,\"#fb9f3a\"],[0.8888888888888888,\"#fdca26\"],[1.0,\"#f0f921\"]]}],\"surface\":[{\"type\":\"surface\",\"colorbar\":{\"outlinewidth\":0,\"ticks\":\"\"},\"colorscale\":[[0.0,\"#0d0887\"],[0.1111111111111111,\"#46039f\"],[0.2222222222222222,\"#7201a8\"],[0.3333333333333333,\"#9c179e\"],[0.4444444444444444,\"#bd3786\"],[0.5555555555555556,\"#d8576b\"],[0.6666666666666666,\"#ed7953\"],[0.7777777777777778,\"#fb9f3a\"],[0.8888888888888888,\"#fdca26\"],[1.0,\"#f0f921\"]]}],\"mesh3d\":[{\"type\":\"mesh3d\",\"colorbar\":{\"outlinewidth\":0,\"ticks\":\"\"}}],\"scatter\":[{\"fillpattern\":{\"fillmode\":\"overlay\",\"size\":10,\"solidity\":0.2},\"type\":\"scatter\"}],\"parcoords\":[{\"type\":\"parcoords\",\"line\":{\"colorbar\":{\"outlinewidth\":0,\"ticks\":\"\"}}}],\"scatterpolargl\":[{\"type\":\"scatterpolargl\",\"marker\":{\"colorbar\":{\"outlinewidth\":0,\"ticks\":\"\"}}}],\"bar\":[{\"error_x\":{\"color\":\"#2a3f5f\"},\"error_y\":{\"color\":\"#2a3f5f\"},\"marker\":{\"line\":{\"color\":\"#E5ECF6\",\"width\":0.5},\"pattern\":{\"fillmode\":\"overlay\",\"size\":10,\"solidity\":0.2}},\"type\":\"bar\"}],\"scattergeo\":[{\"type\":\"scattergeo\",\"marker\":{\"colorbar\":{\"outlinewidth\":0,\"ticks\":\"\"}}}],\"scatterpolar\":[{\"type\":\"scatterpolar\",\"marker\":{\"colorbar\":{\"outlinewidth\":0,\"ticks\":\"\"}}}],\"histogram\":[{\"marker\":{\"pattern\":{\"fillmode\":\"overlay\",\"size\":10,\"solidity\":0.2}},\"type\":\"histogram\"}],\"scattergl\":[{\"type\":\"scattergl\",\"marker\":{\"colorbar\":{\"outlinewidth\":0,\"ticks\":\"\"}}}],\"scatter3d\":[{\"type\":\"scatter3d\",\"line\":{\"colorbar\":{\"outlinewidth\":0,\"ticks\":\"\"}},\"marker\":{\"colorbar\":{\"outlinewidth\":0,\"ticks\":\"\"}}}],\"scattermapbox\":[{\"type\":\"scattermapbox\",\"marker\":{\"colorbar\":{\"outlinewidth\":0,\"ticks\":\"\"}}}],\"scatterternary\":[{\"type\":\"scatterternary\",\"marker\":{\"colorbar\":{\"outlinewidth\":0,\"ticks\":\"\"}}}],\"scattercarpet\":[{\"type\":\"scattercarpet\",\"marker\":{\"colorbar\":{\"outlinewidth\":0,\"ticks\":\"\"}}}],\"carpet\":[{\"aaxis\":{\"endlinecolor\":\"#2a3f5f\",\"gridcolor\":\"white\",\"linecolor\":\"white\",\"minorgridcolor\":\"white\",\"startlinecolor\":\"#2a3f5f\"},\"baxis\":{\"endlinecolor\":\"#2a3f5f\",\"gridcolor\":\"white\",\"linecolor\":\"white\",\"minorgridcolor\":\"white\",\"startlinecolor\":\"#2a3f5f\"},\"type\":\"carpet\"}],\"table\":[{\"cells\":{\"fill\":{\"color\":\"#EBF0F8\"},\"line\":{\"color\":\"white\"}},\"header\":{\"fill\":{\"color\":\"#C8D4E3\"},\"line\":{\"color\":\"white\"}},\"type\":\"table\"}],\"barpolar\":[{\"marker\":{\"line\":{\"color\":\"#E5ECF6\",\"width\":0.5},\"pattern\":{\"fillmode\":\"overlay\",\"size\":10,\"solidity\":0.2}},\"type\":\"barpolar\"}],\"pie\":[{\"automargin\":true,\"type\":\"pie\"}]},\"layout\":{\"autotypenumbers\":\"strict\",\"colorway\":[\"#636efa\",\"#EF553B\",\"#00cc96\",\"#ab63fa\",\"#FFA15A\",\"#19d3f3\",\"#FF6692\",\"#B6E880\",\"#FF97FF\",\"#FECB52\"],\"font\":{\"color\":\"#2a3f5f\"},\"hovermode\":\"closest\",\"hoverlabel\":{\"align\":\"left\"},\"paper_bgcolor\":\"white\",\"plot_bgcolor\":\"#E5ECF6\",\"polar\":{\"bgcolor\":\"#E5ECF6\",\"angularaxis\":{\"gridcolor\":\"white\",\"linecolor\":\"white\",\"ticks\":\"\"},\"radialaxis\":{\"gridcolor\":\"white\",\"linecolor\":\"white\",\"ticks\":\"\"}},\"ternary\":{\"bgcolor\":\"#E5ECF6\",\"aaxis\":{\"gridcolor\":\"white\",\"linecolor\":\"white\",\"ticks\":\"\"},\"baxis\":{\"gridcolor\":\"white\",\"linecolor\":\"white\",\"ticks\":\"\"},\"caxis\":{\"gridcolor\":\"white\",\"linecolor\":\"white\",\"ticks\":\"\"}},\"coloraxis\":{\"colorbar\":{\"outlinewidth\":0,\"ticks\":\"\"}},\"colorscale\":{\"sequential\":[[0.0,\"#0d0887\"],[0.1111111111111111,\"#46039f\"],[0.2222222222222222,\"#7201a8\"],[0.3333333333333333,\"#9c179e\"],[0.4444444444444444,\"#bd3786\"],[0.5555555555555556,\"#d8576b\"],[0.6666666666666666,\"#ed7953\"],[0.7777777777777778,\"#fb9f3a\"],[0.8888888888888888,\"#fdca26\"],[1.0,\"#f0f921\"]],\"sequentialminus\":[[0.0,\"#0d0887\"],[0.1111111111111111,\"#46039f\"],[0.2222222222222222,\"#7201a8\"],[0.3333333333333333,\"#9c179e\"],[0.4444444444444444,\"#bd3786\"],[0.5555555555555556,\"#d8576b\"],[0.6666666666666666,\"#ed7953\"],[0.7777777777777778,\"#fb9f3a\"],[0.8888888888888888,\"#fdca26\"],[1.0,\"#f0f921\"]],\"diverging\":[[0,\"#8e0152\"],[0.1,\"#c51b7d\"],[0.2,\"#de77ae\"],[0.3,\"#f1b6da\"],[0.4,\"#fde0ef\"],[0.5,\"#f7f7f7\"],[0.6,\"#e6f5d0\"],[0.7,\"#b8e186\"],[0.8,\"#7fbc41\"],[0.9,\"#4d9221\"],[1,\"#276419\"]]},\"xaxis\":{\"gridcolor\":\"white\",\"linecolor\":\"white\",\"ticks\":\"\",\"title\":{\"standoff\":15},\"zerolinecolor\":\"white\",\"automargin\":true,\"zerolinewidth\":2},\"yaxis\":{\"gridcolor\":\"white\",\"linecolor\":\"white\",\"ticks\":\"\",\"title\":{\"standoff\":15},\"zerolinecolor\":\"white\",\"automargin\":true,\"zerolinewidth\":2},\"scene\":{\"xaxis\":{\"backgroundcolor\":\"#E5ECF6\",\"gridcolor\":\"white\",\"linecolor\":\"white\",\"showbackground\":true,\"ticks\":\"\",\"zerolinecolor\":\"white\",\"gridwidth\":2},\"yaxis\":{\"backgroundcolor\":\"#E5ECF6\",\"gridcolor\":\"white\",\"linecolor\":\"white\",\"showbackground\":true,\"ticks\":\"\",\"zerolinecolor\":\"white\",\"gridwidth\":2},\"zaxis\":{\"backgroundcolor\":\"#E5ECF6\",\"gridcolor\":\"white\",\"linecolor\":\"white\",\"showbackground\":true,\"ticks\":\"\",\"zerolinecolor\":\"white\",\"gridwidth\":2}},\"shapedefaults\":{\"line\":{\"color\":\"#2a3f5f\"}},\"annotationdefaults\":{\"arrowcolor\":\"#2a3f5f\",\"arrowhead\":0,\"arrowwidth\":1},\"geo\":{\"bgcolor\":\"white\",\"landcolor\":\"#E5ECF6\",\"subunitcolor\":\"white\",\"showland\":true,\"showlakes\":true,\"lakecolor\":\"white\"},\"title\":{\"x\":0.05},\"mapbox\":{\"style\":\"light\"}}},\"xaxis\":{\"anchor\":\"y\",\"domain\":[0.0,1.0],\"title\":{\"text\":\"index\"}},\"yaxis\":{\"anchor\":\"x\",\"domain\":[0.0,1.0],\"title\":{\"text\":\"cum_profit\"}},\"legend\":{\"tracegroupgap\":0},\"margin\":{\"t\":60}},                        {\"responsive\": true}                    ).then(function(){\n",
       "                            \n",
       "var gd = document.getElementById('ccd000e8-8ec1-4507-a248-cf1a95371d38');\n",
       "var x = new MutationObserver(function (mutations, observer) {{\n",
       "        var display = window.getComputedStyle(gd).display;\n",
       "        if (!display || display === 'none') {{\n",
       "            console.log([gd, 'removed!']);\n",
       "            Plotly.purge(gd);\n",
       "            observer.disconnect();\n",
       "        }}\n",
       "}});\n",
       "\n",
       "// Listen for the removal of the full notebook cells\n",
       "var notebookContainer = gd.closest('#notebook-container');\n",
       "if (notebookContainer) {{\n",
       "    x.observe(notebookContainer, {childList: true});\n",
       "}}\n",
       "\n",
       "// Listen for the clearing of the current output cell\n",
       "var outputEl = gd.closest('.output');\n",
       "if (outputEl) {{\n",
       "    x.observe(outputEl, {childList: true});\n",
       "}}\n",
       "\n",
       "                        })                };                });            </script>        </div>"
      ]
     },
     "metadata": {},
     "output_type": "display_data"
    }
   ],
   "source": [
    "import matplotlib.pyplot as plt\n",
    "import plotly.express as px\n",
    "# Calc profit, considering only closing trades\n",
    "profit=orders[(orders.status==\"FILLED\")&(orders[\"profit\"])].copy()\n",
    "#profit[\"profit\"]=profit[\"price\"].diff()*(profit[\"qty\"]/profit[\"qty\"])\n",
    "profit[\"cum_profit\"] = profit[\"profit\"].cumsum()\n",
    "\n",
    "#Plot\n",
    "fig = px.line(profit, y=\"cum_profit\")\n",
    "fig.show()"
   ]
  },
  {
   "cell_type": "markdown",
   "metadata": {},
   "source": [
    "## Predicted and actual low/high"
   ]
  },
  {
   "cell_type": "code",
   "execution_count": 10,
   "metadata": {},
   "outputs": [
    {
     "name": "stdout",
     "output_type": "stream",
     "text": [
      "start date:2022-09-25, end date:2022-09-25, all inclusive\n"
     ]
    },
    {
     "data": {
      "application/vnd.plotly.v1+json": {
       "config": {
        "plotlyServerURL": "https://plot.ly"
       },
       "data": [
        {
         "hovertemplate": "variable=low<br>close_time=%{x}<br>value=%{y}<extra></extra>",
         "legendgroup": "low",
         "line": {
          "color": "#636efa",
          "dash": "solid"
         },
         "marker": {
          "symbol": "circle"
         },
         "mode": "lines+markers",
         "name": "low",
         "orientation": "v",
         "showlegend": true,
         "type": "scatter",
         "x": [
          "2022-09-25 17:21:59.999",
          "2022-09-25 17:23:59.999",
          "2022-09-25 17:25:59.999",
          "2022-09-25 17:26:59.999",
          "2022-09-25 17:27:59.999",
          "2022-09-25 17:28:59.999",
          "2022-09-25 17:30:59.999"
         ],
         "xaxis": "x",
         "y": [
          18965.83,
          18954.77,
          18056.78,
          18934.25,
          18903.52,
          18917.02,
          18918.2
         ],
         "yaxis": "y"
        },
        {
         "hovertemplate": "variable=high<br>close_time=%{x}<br>value=%{y}<extra></extra>",
         "legendgroup": "high",
         "line": {
          "color": "#EF553B",
          "dash": "solid"
         },
         "marker": {
          "symbol": "circle"
         },
         "mode": "lines+markers",
         "name": "high",
         "orientation": "v",
         "showlegend": true,
         "type": "scatter",
         "x": [
          "2022-09-25 17:21:59.999",
          "2022-09-25 17:23:59.999",
          "2022-09-25 17:25:59.999",
          "2022-09-25 17:26:59.999",
          "2022-09-25 17:27:59.999",
          "2022-09-25 17:28:59.999",
          "2022-09-25 17:30:59.999"
         ],
         "xaxis": "x",
         "y": [
          18971.23,
          18963.09,
          18948.58,
          18937.87,
          18933.29,
          18929.85,
          18919.78
         ],
         "yaxis": "y"
        },
        {
         "hovertemplate": "variable=fut_low<br>close_time=%{x}<br>value=%{y}<extra></extra>",
         "legendgroup": "fut_low",
         "line": {
          "color": "#00cc96",
          "dash": "solid"
         },
         "marker": {
          "symbol": "circle"
         },
         "mode": "lines+markers",
         "name": "fut_low",
         "orientation": "v",
         "showlegend": true,
         "type": "scatter",
         "x": [
          "2022-09-25 17:21:59.999",
          "2022-09-25 17:23:59.999",
          "2022-09-25 17:25:59.999",
          "2022-09-25 17:26:59.999",
          "2022-09-25 17:27:59.999",
          "2022-09-25 17:28:59.999",
          "2022-09-25 17:30:59.999"
         ],
         "xaxis": "x",
         "y": [
          19040.765702819823,
          19074.257330322267,
          19072.85423339844,
          19067.061459960936,
          19053.037680664063,
          19058.96838195801,
          19047.373963623046
         ],
         "yaxis": "y"
        },
        {
         "hovertemplate": "variable=fut_high<br>close_time=%{x}<br>value=%{y}<extra></extra>",
         "legendgroup": "fut_high",
         "line": {
          "color": "#ab63fa",
          "dash": "solid"
         },
         "marker": {
          "symbol": "circle"
         },
         "mode": "lines+markers",
         "name": "fut_high",
         "orientation": "v",
         "showlegend": true,
         "type": "scatter",
         "x": [
          "2022-09-25 17:21:59.999",
          "2022-09-25 17:23:59.999",
          "2022-09-25 17:25:59.999",
          "2022-09-25 17:26:59.999",
          "2022-09-25 17:27:59.999",
          "2022-09-25 17:28:59.999",
          "2022-09-25 17:30:59.999"
         ],
         "xaxis": "x",
         "y": [
          19118.134477233885,
          19102.274217987062,
          19102.283827438358,
          19096.447328033446,
          19082.42471221924,
          19088.326923446657,
          19081.714169769286
         ],
         "yaxis": "y"
        }
       ],
       "layout": {
        "legend": {
         "title": {
          "text": "variable"
         },
         "tracegroupgap": 0
        },
        "margin": {
         "t": 60
        },
        "template": {
         "data": {
          "bar": [
           {
            "error_x": {
             "color": "#2a3f5f"
            },
            "error_y": {
             "color": "#2a3f5f"
            },
            "marker": {
             "line": {
              "color": "#E5ECF6",
              "width": 0.5
             },
             "pattern": {
              "fillmode": "overlay",
              "size": 10,
              "solidity": 0.2
             }
            },
            "type": "bar"
           }
          ],
          "barpolar": [
           {
            "marker": {
             "line": {
              "color": "#E5ECF6",
              "width": 0.5
             },
             "pattern": {
              "fillmode": "overlay",
              "size": 10,
              "solidity": 0.2
             }
            },
            "type": "barpolar"
           }
          ],
          "carpet": [
           {
            "aaxis": {
             "endlinecolor": "#2a3f5f",
             "gridcolor": "white",
             "linecolor": "white",
             "minorgridcolor": "white",
             "startlinecolor": "#2a3f5f"
            },
            "baxis": {
             "endlinecolor": "#2a3f5f",
             "gridcolor": "white",
             "linecolor": "white",
             "minorgridcolor": "white",
             "startlinecolor": "#2a3f5f"
            },
            "type": "carpet"
           }
          ],
          "choropleth": [
           {
            "colorbar": {
             "outlinewidth": 0,
             "ticks": ""
            },
            "type": "choropleth"
           }
          ],
          "contour": [
           {
            "colorbar": {
             "outlinewidth": 0,
             "ticks": ""
            },
            "colorscale": [
             [
              0,
              "#0d0887"
             ],
             [
              0.1111111111111111,
              "#46039f"
             ],
             [
              0.2222222222222222,
              "#7201a8"
             ],
             [
              0.3333333333333333,
              "#9c179e"
             ],
             [
              0.4444444444444444,
              "#bd3786"
             ],
             [
              0.5555555555555556,
              "#d8576b"
             ],
             [
              0.6666666666666666,
              "#ed7953"
             ],
             [
              0.7777777777777778,
              "#fb9f3a"
             ],
             [
              0.8888888888888888,
              "#fdca26"
             ],
             [
              1,
              "#f0f921"
             ]
            ],
            "type": "contour"
           }
          ],
          "contourcarpet": [
           {
            "colorbar": {
             "outlinewidth": 0,
             "ticks": ""
            },
            "type": "contourcarpet"
           }
          ],
          "heatmap": [
           {
            "colorbar": {
             "outlinewidth": 0,
             "ticks": ""
            },
            "colorscale": [
             [
              0,
              "#0d0887"
             ],
             [
              0.1111111111111111,
              "#46039f"
             ],
             [
              0.2222222222222222,
              "#7201a8"
             ],
             [
              0.3333333333333333,
              "#9c179e"
             ],
             [
              0.4444444444444444,
              "#bd3786"
             ],
             [
              0.5555555555555556,
              "#d8576b"
             ],
             [
              0.6666666666666666,
              "#ed7953"
             ],
             [
              0.7777777777777778,
              "#fb9f3a"
             ],
             [
              0.8888888888888888,
              "#fdca26"
             ],
             [
              1,
              "#f0f921"
             ]
            ],
            "type": "heatmap"
           }
          ],
          "heatmapgl": [
           {
            "colorbar": {
             "outlinewidth": 0,
             "ticks": ""
            },
            "colorscale": [
             [
              0,
              "#0d0887"
             ],
             [
              0.1111111111111111,
              "#46039f"
             ],
             [
              0.2222222222222222,
              "#7201a8"
             ],
             [
              0.3333333333333333,
              "#9c179e"
             ],
             [
              0.4444444444444444,
              "#bd3786"
             ],
             [
              0.5555555555555556,
              "#d8576b"
             ],
             [
              0.6666666666666666,
              "#ed7953"
             ],
             [
              0.7777777777777778,
              "#fb9f3a"
             ],
             [
              0.8888888888888888,
              "#fdca26"
             ],
             [
              1,
              "#f0f921"
             ]
            ],
            "type": "heatmapgl"
           }
          ],
          "histogram": [
           {
            "marker": {
             "pattern": {
              "fillmode": "overlay",
              "size": 10,
              "solidity": 0.2
             }
            },
            "type": "histogram"
           }
          ],
          "histogram2d": [
           {
            "colorbar": {
             "outlinewidth": 0,
             "ticks": ""
            },
            "colorscale": [
             [
              0,
              "#0d0887"
             ],
             [
              0.1111111111111111,
              "#46039f"
             ],
             [
              0.2222222222222222,
              "#7201a8"
             ],
             [
              0.3333333333333333,
              "#9c179e"
             ],
             [
              0.4444444444444444,
              "#bd3786"
             ],
             [
              0.5555555555555556,
              "#d8576b"
             ],
             [
              0.6666666666666666,
              "#ed7953"
             ],
             [
              0.7777777777777778,
              "#fb9f3a"
             ],
             [
              0.8888888888888888,
              "#fdca26"
             ],
             [
              1,
              "#f0f921"
             ]
            ],
            "type": "histogram2d"
           }
          ],
          "histogram2dcontour": [
           {
            "colorbar": {
             "outlinewidth": 0,
             "ticks": ""
            },
            "colorscale": [
             [
              0,
              "#0d0887"
             ],
             [
              0.1111111111111111,
              "#46039f"
             ],
             [
              0.2222222222222222,
              "#7201a8"
             ],
             [
              0.3333333333333333,
              "#9c179e"
             ],
             [
              0.4444444444444444,
              "#bd3786"
             ],
             [
              0.5555555555555556,
              "#d8576b"
             ],
             [
              0.6666666666666666,
              "#ed7953"
             ],
             [
              0.7777777777777778,
              "#fb9f3a"
             ],
             [
              0.8888888888888888,
              "#fdca26"
             ],
             [
              1,
              "#f0f921"
             ]
            ],
            "type": "histogram2dcontour"
           }
          ],
          "mesh3d": [
           {
            "colorbar": {
             "outlinewidth": 0,
             "ticks": ""
            },
            "type": "mesh3d"
           }
          ],
          "parcoords": [
           {
            "line": {
             "colorbar": {
              "outlinewidth": 0,
              "ticks": ""
             }
            },
            "type": "parcoords"
           }
          ],
          "pie": [
           {
            "automargin": true,
            "type": "pie"
           }
          ],
          "scatter": [
           {
            "fillpattern": {
             "fillmode": "overlay",
             "size": 10,
             "solidity": 0.2
            },
            "type": "scatter"
           }
          ],
          "scatter3d": [
           {
            "line": {
             "colorbar": {
              "outlinewidth": 0,
              "ticks": ""
             }
            },
            "marker": {
             "colorbar": {
              "outlinewidth": 0,
              "ticks": ""
             }
            },
            "type": "scatter3d"
           }
          ],
          "scattercarpet": [
           {
            "marker": {
             "colorbar": {
              "outlinewidth": 0,
              "ticks": ""
             }
            },
            "type": "scattercarpet"
           }
          ],
          "scattergeo": [
           {
            "marker": {
             "colorbar": {
              "outlinewidth": 0,
              "ticks": ""
             }
            },
            "type": "scattergeo"
           }
          ],
          "scattergl": [
           {
            "marker": {
             "colorbar": {
              "outlinewidth": 0,
              "ticks": ""
             }
            },
            "type": "scattergl"
           }
          ],
          "scattermapbox": [
           {
            "marker": {
             "colorbar": {
              "outlinewidth": 0,
              "ticks": ""
             }
            },
            "type": "scattermapbox"
           }
          ],
          "scatterpolar": [
           {
            "marker": {
             "colorbar": {
              "outlinewidth": 0,
              "ticks": ""
             }
            },
            "type": "scatterpolar"
           }
          ],
          "scatterpolargl": [
           {
            "marker": {
             "colorbar": {
              "outlinewidth": 0,
              "ticks": ""
             }
            },
            "type": "scatterpolargl"
           }
          ],
          "scatterternary": [
           {
            "marker": {
             "colorbar": {
              "outlinewidth": 0,
              "ticks": ""
             }
            },
            "type": "scatterternary"
           }
          ],
          "surface": [
           {
            "colorbar": {
             "outlinewidth": 0,
             "ticks": ""
            },
            "colorscale": [
             [
              0,
              "#0d0887"
             ],
             [
              0.1111111111111111,
              "#46039f"
             ],
             [
              0.2222222222222222,
              "#7201a8"
             ],
             [
              0.3333333333333333,
              "#9c179e"
             ],
             [
              0.4444444444444444,
              "#bd3786"
             ],
             [
              0.5555555555555556,
              "#d8576b"
             ],
             [
              0.6666666666666666,
              "#ed7953"
             ],
             [
              0.7777777777777778,
              "#fb9f3a"
             ],
             [
              0.8888888888888888,
              "#fdca26"
             ],
             [
              1,
              "#f0f921"
             ]
            ],
            "type": "surface"
           }
          ],
          "table": [
           {
            "cells": {
             "fill": {
              "color": "#EBF0F8"
             },
             "line": {
              "color": "white"
             }
            },
            "header": {
             "fill": {
              "color": "#C8D4E3"
             },
             "line": {
              "color": "white"
             }
            },
            "type": "table"
           }
          ]
         },
         "layout": {
          "annotationdefaults": {
           "arrowcolor": "#2a3f5f",
           "arrowhead": 0,
           "arrowwidth": 1
          },
          "autotypenumbers": "strict",
          "coloraxis": {
           "colorbar": {
            "outlinewidth": 0,
            "ticks": ""
           }
          },
          "colorscale": {
           "diverging": [
            [
             0,
             "#8e0152"
            ],
            [
             0.1,
             "#c51b7d"
            ],
            [
             0.2,
             "#de77ae"
            ],
            [
             0.3,
             "#f1b6da"
            ],
            [
             0.4,
             "#fde0ef"
            ],
            [
             0.5,
             "#f7f7f7"
            ],
            [
             0.6,
             "#e6f5d0"
            ],
            [
             0.7,
             "#b8e186"
            ],
            [
             0.8,
             "#7fbc41"
            ],
            [
             0.9,
             "#4d9221"
            ],
            [
             1,
             "#276419"
            ]
           ],
           "sequential": [
            [
             0,
             "#0d0887"
            ],
            [
             0.1111111111111111,
             "#46039f"
            ],
            [
             0.2222222222222222,
             "#7201a8"
            ],
            [
             0.3333333333333333,
             "#9c179e"
            ],
            [
             0.4444444444444444,
             "#bd3786"
            ],
            [
             0.5555555555555556,
             "#d8576b"
            ],
            [
             0.6666666666666666,
             "#ed7953"
            ],
            [
             0.7777777777777778,
             "#fb9f3a"
            ],
            [
             0.8888888888888888,
             "#fdca26"
            ],
            [
             1,
             "#f0f921"
            ]
           ],
           "sequentialminus": [
            [
             0,
             "#0d0887"
            ],
            [
             0.1111111111111111,
             "#46039f"
            ],
            [
             0.2222222222222222,
             "#7201a8"
            ],
            [
             0.3333333333333333,
             "#9c179e"
            ],
            [
             0.4444444444444444,
             "#bd3786"
            ],
            [
             0.5555555555555556,
             "#d8576b"
            ],
            [
             0.6666666666666666,
             "#ed7953"
            ],
            [
             0.7777777777777778,
             "#fb9f3a"
            ],
            [
             0.8888888888888888,
             "#fdca26"
            ],
            [
             1,
             "#f0f921"
            ]
           ]
          },
          "colorway": [
           "#636efa",
           "#EF553B",
           "#00cc96",
           "#ab63fa",
           "#FFA15A",
           "#19d3f3",
           "#FF6692",
           "#B6E880",
           "#FF97FF",
           "#FECB52"
          ],
          "font": {
           "color": "#2a3f5f"
          },
          "geo": {
           "bgcolor": "white",
           "lakecolor": "white",
           "landcolor": "#E5ECF6",
           "showlakes": true,
           "showland": true,
           "subunitcolor": "white"
          },
          "hoverlabel": {
           "align": "left"
          },
          "hovermode": "closest",
          "mapbox": {
           "style": "light"
          },
          "paper_bgcolor": "white",
          "plot_bgcolor": "#E5ECF6",
          "polar": {
           "angularaxis": {
            "gridcolor": "white",
            "linecolor": "white",
            "ticks": ""
           },
           "bgcolor": "#E5ECF6",
           "radialaxis": {
            "gridcolor": "white",
            "linecolor": "white",
            "ticks": ""
           }
          },
          "scene": {
           "xaxis": {
            "backgroundcolor": "#E5ECF6",
            "gridcolor": "white",
            "gridwidth": 2,
            "linecolor": "white",
            "showbackground": true,
            "ticks": "",
            "zerolinecolor": "white"
           },
           "yaxis": {
            "backgroundcolor": "#E5ECF6",
            "gridcolor": "white",
            "gridwidth": 2,
            "linecolor": "white",
            "showbackground": true,
            "ticks": "",
            "zerolinecolor": "white"
           },
           "zaxis": {
            "backgroundcolor": "#E5ECF6",
            "gridcolor": "white",
            "gridwidth": 2,
            "linecolor": "white",
            "showbackground": true,
            "ticks": "",
            "zerolinecolor": "white"
           }
          },
          "shapedefaults": {
           "line": {
            "color": "#2a3f5f"
           }
          },
          "ternary": {
           "aaxis": {
            "gridcolor": "white",
            "linecolor": "white",
            "ticks": ""
           },
           "baxis": {
            "gridcolor": "white",
            "linecolor": "white",
            "ticks": ""
           },
           "bgcolor": "#E5ECF6",
           "caxis": {
            "gridcolor": "white",
            "linecolor": "white",
            "ticks": ""
           }
          },
          "title": {
           "x": 0.05
          },
          "xaxis": {
           "automargin": true,
           "gridcolor": "white",
           "linecolor": "white",
           "ticks": "",
           "title": {
            "standoff": 15
           },
           "zerolinecolor": "white",
           "zerolinewidth": 2
          },
          "yaxis": {
           "automargin": true,
           "gridcolor": "white",
           "linecolor": "white",
           "ticks": "",
           "title": {
            "standoff": 15
           },
           "zerolinecolor": "white",
           "zerolinewidth": 2
          }
         }
        },
        "xaxis": {
         "anchor": "y",
         "domain": [
          0,
          1
         ],
         "title": {
          "text": "close_time"
         }
        },
        "yaxis": {
         "anchor": "x",
         "domain": [
          0,
          1
         ],
         "title": {
          "text": "value"
         }
        }
       }
      },
      "text/html": [
       "<div>                            <div id=\"a7681bae-1e17-48e2-828f-6869079c6741\" class=\"plotly-graph-div\" style=\"height:525px; width:100%;\"></div>            <script type=\"text/javascript\">                require([\"plotly\"], function(Plotly) {                    window.PLOTLYENV=window.PLOTLYENV || {};                                    if (document.getElementById(\"a7681bae-1e17-48e2-828f-6869079c6741\")) {                    Plotly.newPlot(                        \"a7681bae-1e17-48e2-828f-6869079c6741\",                        [{\"hovertemplate\":\"variable=low<br>close_time=%{x}<br>value=%{y}<extra></extra>\",\"legendgroup\":\"low\",\"line\":{\"color\":\"#636efa\",\"dash\":\"solid\"},\"marker\":{\"symbol\":\"circle\"},\"mode\":\"lines+markers\",\"name\":\"low\",\"orientation\":\"v\",\"showlegend\":true,\"x\":[\"2022-09-25 17:21:59.999\",\"2022-09-25 17:23:59.999\",\"2022-09-25 17:25:59.999\",\"2022-09-25 17:26:59.999\",\"2022-09-25 17:27:59.999\",\"2022-09-25 17:28:59.999\",\"2022-09-25 17:30:59.999\"],\"xaxis\":\"x\",\"y\":[18965.83,18954.77,18056.78,18934.25,18903.52,18917.02,18918.2],\"yaxis\":\"y\",\"type\":\"scatter\"},{\"hovertemplate\":\"variable=high<br>close_time=%{x}<br>value=%{y}<extra></extra>\",\"legendgroup\":\"high\",\"line\":{\"color\":\"#EF553B\",\"dash\":\"solid\"},\"marker\":{\"symbol\":\"circle\"},\"mode\":\"lines+markers\",\"name\":\"high\",\"orientation\":\"v\",\"showlegend\":true,\"x\":[\"2022-09-25 17:21:59.999\",\"2022-09-25 17:23:59.999\",\"2022-09-25 17:25:59.999\",\"2022-09-25 17:26:59.999\",\"2022-09-25 17:27:59.999\",\"2022-09-25 17:28:59.999\",\"2022-09-25 17:30:59.999\"],\"xaxis\":\"x\",\"y\":[18971.23,18963.09,18948.58,18937.87,18933.29,18929.85,18919.78],\"yaxis\":\"y\",\"type\":\"scatter\"},{\"hovertemplate\":\"variable=fut_low<br>close_time=%{x}<br>value=%{y}<extra></extra>\",\"legendgroup\":\"fut_low\",\"line\":{\"color\":\"#00cc96\",\"dash\":\"solid\"},\"marker\":{\"symbol\":\"circle\"},\"mode\":\"lines+markers\",\"name\":\"fut_low\",\"orientation\":\"v\",\"showlegend\":true,\"x\":[\"2022-09-25 17:21:59.999\",\"2022-09-25 17:23:59.999\",\"2022-09-25 17:25:59.999\",\"2022-09-25 17:26:59.999\",\"2022-09-25 17:27:59.999\",\"2022-09-25 17:28:59.999\",\"2022-09-25 17:30:59.999\"],\"xaxis\":\"x\",\"y\":[19040.765702819823,19074.257330322267,19072.85423339844,19067.061459960936,19053.037680664063,19058.96838195801,19047.373963623046],\"yaxis\":\"y\",\"type\":\"scatter\"},{\"hovertemplate\":\"variable=fut_high<br>close_time=%{x}<br>value=%{y}<extra></extra>\",\"legendgroup\":\"fut_high\",\"line\":{\"color\":\"#ab63fa\",\"dash\":\"solid\"},\"marker\":{\"symbol\":\"circle\"},\"mode\":\"lines+markers\",\"name\":\"fut_high\",\"orientation\":\"v\",\"showlegend\":true,\"x\":[\"2022-09-25 17:21:59.999\",\"2022-09-25 17:23:59.999\",\"2022-09-25 17:25:59.999\",\"2022-09-25 17:26:59.999\",\"2022-09-25 17:27:59.999\",\"2022-09-25 17:28:59.999\",\"2022-09-25 17:30:59.999\"],\"xaxis\":\"x\",\"y\":[19118.134477233885,19102.274217987062,19102.283827438358,19096.447328033446,19082.42471221924,19088.326923446657,19081.714169769286],\"yaxis\":\"y\",\"type\":\"scatter\"}],                        {\"template\":{\"data\":{\"histogram2dcontour\":[{\"type\":\"histogram2dcontour\",\"colorbar\":{\"outlinewidth\":0,\"ticks\":\"\"},\"colorscale\":[[0.0,\"#0d0887\"],[0.1111111111111111,\"#46039f\"],[0.2222222222222222,\"#7201a8\"],[0.3333333333333333,\"#9c179e\"],[0.4444444444444444,\"#bd3786\"],[0.5555555555555556,\"#d8576b\"],[0.6666666666666666,\"#ed7953\"],[0.7777777777777778,\"#fb9f3a\"],[0.8888888888888888,\"#fdca26\"],[1.0,\"#f0f921\"]]}],\"choropleth\":[{\"type\":\"choropleth\",\"colorbar\":{\"outlinewidth\":0,\"ticks\":\"\"}}],\"histogram2d\":[{\"type\":\"histogram2d\",\"colorbar\":{\"outlinewidth\":0,\"ticks\":\"\"},\"colorscale\":[[0.0,\"#0d0887\"],[0.1111111111111111,\"#46039f\"],[0.2222222222222222,\"#7201a8\"],[0.3333333333333333,\"#9c179e\"],[0.4444444444444444,\"#bd3786\"],[0.5555555555555556,\"#d8576b\"],[0.6666666666666666,\"#ed7953\"],[0.7777777777777778,\"#fb9f3a\"],[0.8888888888888888,\"#fdca26\"],[1.0,\"#f0f921\"]]}],\"heatmap\":[{\"type\":\"heatmap\",\"colorbar\":{\"outlinewidth\":0,\"ticks\":\"\"},\"colorscale\":[[0.0,\"#0d0887\"],[0.1111111111111111,\"#46039f\"],[0.2222222222222222,\"#7201a8\"],[0.3333333333333333,\"#9c179e\"],[0.4444444444444444,\"#bd3786\"],[0.5555555555555556,\"#d8576b\"],[0.6666666666666666,\"#ed7953\"],[0.7777777777777778,\"#fb9f3a\"],[0.8888888888888888,\"#fdca26\"],[1.0,\"#f0f921\"]]}],\"heatmapgl\":[{\"type\":\"heatmapgl\",\"colorbar\":{\"outlinewidth\":0,\"ticks\":\"\"},\"colorscale\":[[0.0,\"#0d0887\"],[0.1111111111111111,\"#46039f\"],[0.2222222222222222,\"#7201a8\"],[0.3333333333333333,\"#9c179e\"],[0.4444444444444444,\"#bd3786\"],[0.5555555555555556,\"#d8576b\"],[0.6666666666666666,\"#ed7953\"],[0.7777777777777778,\"#fb9f3a\"],[0.8888888888888888,\"#fdca26\"],[1.0,\"#f0f921\"]]}],\"contourcarpet\":[{\"type\":\"contourcarpet\",\"colorbar\":{\"outlinewidth\":0,\"ticks\":\"\"}}],\"contour\":[{\"type\":\"contour\",\"colorbar\":{\"outlinewidth\":0,\"ticks\":\"\"},\"colorscale\":[[0.0,\"#0d0887\"],[0.1111111111111111,\"#46039f\"],[0.2222222222222222,\"#7201a8\"],[0.3333333333333333,\"#9c179e\"],[0.4444444444444444,\"#bd3786\"],[0.5555555555555556,\"#d8576b\"],[0.6666666666666666,\"#ed7953\"],[0.7777777777777778,\"#fb9f3a\"],[0.8888888888888888,\"#fdca26\"],[1.0,\"#f0f921\"]]}],\"surface\":[{\"type\":\"surface\",\"colorbar\":{\"outlinewidth\":0,\"ticks\":\"\"},\"colorscale\":[[0.0,\"#0d0887\"],[0.1111111111111111,\"#46039f\"],[0.2222222222222222,\"#7201a8\"],[0.3333333333333333,\"#9c179e\"],[0.4444444444444444,\"#bd3786\"],[0.5555555555555556,\"#d8576b\"],[0.6666666666666666,\"#ed7953\"],[0.7777777777777778,\"#fb9f3a\"],[0.8888888888888888,\"#fdca26\"],[1.0,\"#f0f921\"]]}],\"mesh3d\":[{\"type\":\"mesh3d\",\"colorbar\":{\"outlinewidth\":0,\"ticks\":\"\"}}],\"scatter\":[{\"fillpattern\":{\"fillmode\":\"overlay\",\"size\":10,\"solidity\":0.2},\"type\":\"scatter\"}],\"parcoords\":[{\"type\":\"parcoords\",\"line\":{\"colorbar\":{\"outlinewidth\":0,\"ticks\":\"\"}}}],\"scatterpolargl\":[{\"type\":\"scatterpolargl\",\"marker\":{\"colorbar\":{\"outlinewidth\":0,\"ticks\":\"\"}}}],\"bar\":[{\"error_x\":{\"color\":\"#2a3f5f\"},\"error_y\":{\"color\":\"#2a3f5f\"},\"marker\":{\"line\":{\"color\":\"#E5ECF6\",\"width\":0.5},\"pattern\":{\"fillmode\":\"overlay\",\"size\":10,\"solidity\":0.2}},\"type\":\"bar\"}],\"scattergeo\":[{\"type\":\"scattergeo\",\"marker\":{\"colorbar\":{\"outlinewidth\":0,\"ticks\":\"\"}}}],\"scatterpolar\":[{\"type\":\"scatterpolar\",\"marker\":{\"colorbar\":{\"outlinewidth\":0,\"ticks\":\"\"}}}],\"histogram\":[{\"marker\":{\"pattern\":{\"fillmode\":\"overlay\",\"size\":10,\"solidity\":0.2}},\"type\":\"histogram\"}],\"scattergl\":[{\"type\":\"scattergl\",\"marker\":{\"colorbar\":{\"outlinewidth\":0,\"ticks\":\"\"}}}],\"scatter3d\":[{\"type\":\"scatter3d\",\"line\":{\"colorbar\":{\"outlinewidth\":0,\"ticks\":\"\"}},\"marker\":{\"colorbar\":{\"outlinewidth\":0,\"ticks\":\"\"}}}],\"scattermapbox\":[{\"type\":\"scattermapbox\",\"marker\":{\"colorbar\":{\"outlinewidth\":0,\"ticks\":\"\"}}}],\"scatterternary\":[{\"type\":\"scatterternary\",\"marker\":{\"colorbar\":{\"outlinewidth\":0,\"ticks\":\"\"}}}],\"scattercarpet\":[{\"type\":\"scattercarpet\",\"marker\":{\"colorbar\":{\"outlinewidth\":0,\"ticks\":\"\"}}}],\"carpet\":[{\"aaxis\":{\"endlinecolor\":\"#2a3f5f\",\"gridcolor\":\"white\",\"linecolor\":\"white\",\"minorgridcolor\":\"white\",\"startlinecolor\":\"#2a3f5f\"},\"baxis\":{\"endlinecolor\":\"#2a3f5f\",\"gridcolor\":\"white\",\"linecolor\":\"white\",\"minorgridcolor\":\"white\",\"startlinecolor\":\"#2a3f5f\"},\"type\":\"carpet\"}],\"table\":[{\"cells\":{\"fill\":{\"color\":\"#EBF0F8\"},\"line\":{\"color\":\"white\"}},\"header\":{\"fill\":{\"color\":\"#C8D4E3\"},\"line\":{\"color\":\"white\"}},\"type\":\"table\"}],\"barpolar\":[{\"marker\":{\"line\":{\"color\":\"#E5ECF6\",\"width\":0.5},\"pattern\":{\"fillmode\":\"overlay\",\"size\":10,\"solidity\":0.2}},\"type\":\"barpolar\"}],\"pie\":[{\"automargin\":true,\"type\":\"pie\"}]},\"layout\":{\"autotypenumbers\":\"strict\",\"colorway\":[\"#636efa\",\"#EF553B\",\"#00cc96\",\"#ab63fa\",\"#FFA15A\",\"#19d3f3\",\"#FF6692\",\"#B6E880\",\"#FF97FF\",\"#FECB52\"],\"font\":{\"color\":\"#2a3f5f\"},\"hovermode\":\"closest\",\"hoverlabel\":{\"align\":\"left\"},\"paper_bgcolor\":\"white\",\"plot_bgcolor\":\"#E5ECF6\",\"polar\":{\"bgcolor\":\"#E5ECF6\",\"angularaxis\":{\"gridcolor\":\"white\",\"linecolor\":\"white\",\"ticks\":\"\"},\"radialaxis\":{\"gridcolor\":\"white\",\"linecolor\":\"white\",\"ticks\":\"\"}},\"ternary\":{\"bgcolor\":\"#E5ECF6\",\"aaxis\":{\"gridcolor\":\"white\",\"linecolor\":\"white\",\"ticks\":\"\"},\"baxis\":{\"gridcolor\":\"white\",\"linecolor\":\"white\",\"ticks\":\"\"},\"caxis\":{\"gridcolor\":\"white\",\"linecolor\":\"white\",\"ticks\":\"\"}},\"coloraxis\":{\"colorbar\":{\"outlinewidth\":0,\"ticks\":\"\"}},\"colorscale\":{\"sequential\":[[0.0,\"#0d0887\"],[0.1111111111111111,\"#46039f\"],[0.2222222222222222,\"#7201a8\"],[0.3333333333333333,\"#9c179e\"],[0.4444444444444444,\"#bd3786\"],[0.5555555555555556,\"#d8576b\"],[0.6666666666666666,\"#ed7953\"],[0.7777777777777778,\"#fb9f3a\"],[0.8888888888888888,\"#fdca26\"],[1.0,\"#f0f921\"]],\"sequentialminus\":[[0.0,\"#0d0887\"],[0.1111111111111111,\"#46039f\"],[0.2222222222222222,\"#7201a8\"],[0.3333333333333333,\"#9c179e\"],[0.4444444444444444,\"#bd3786\"],[0.5555555555555556,\"#d8576b\"],[0.6666666666666666,\"#ed7953\"],[0.7777777777777778,\"#fb9f3a\"],[0.8888888888888888,\"#fdca26\"],[1.0,\"#f0f921\"]],\"diverging\":[[0,\"#8e0152\"],[0.1,\"#c51b7d\"],[0.2,\"#de77ae\"],[0.3,\"#f1b6da\"],[0.4,\"#fde0ef\"],[0.5,\"#f7f7f7\"],[0.6,\"#e6f5d0\"],[0.7,\"#b8e186\"],[0.8,\"#7fbc41\"],[0.9,\"#4d9221\"],[1,\"#276419\"]]},\"xaxis\":{\"gridcolor\":\"white\",\"linecolor\":\"white\",\"ticks\":\"\",\"title\":{\"standoff\":15},\"zerolinecolor\":\"white\",\"automargin\":true,\"zerolinewidth\":2},\"yaxis\":{\"gridcolor\":\"white\",\"linecolor\":\"white\",\"ticks\":\"\",\"title\":{\"standoff\":15},\"zerolinecolor\":\"white\",\"automargin\":true,\"zerolinewidth\":2},\"scene\":{\"xaxis\":{\"backgroundcolor\":\"#E5ECF6\",\"gridcolor\":\"white\",\"linecolor\":\"white\",\"showbackground\":true,\"ticks\":\"\",\"zerolinecolor\":\"white\",\"gridwidth\":2},\"yaxis\":{\"backgroundcolor\":\"#E5ECF6\",\"gridcolor\":\"white\",\"linecolor\":\"white\",\"showbackground\":true,\"ticks\":\"\",\"zerolinecolor\":\"white\",\"gridwidth\":2},\"zaxis\":{\"backgroundcolor\":\"#E5ECF6\",\"gridcolor\":\"white\",\"linecolor\":\"white\",\"showbackground\":true,\"ticks\":\"\",\"zerolinecolor\":\"white\",\"gridwidth\":2}},\"shapedefaults\":{\"line\":{\"color\":\"#2a3f5f\"}},\"annotationdefaults\":{\"arrowcolor\":\"#2a3f5f\",\"arrowhead\":0,\"arrowwidth\":1},\"geo\":{\"bgcolor\":\"white\",\"landcolor\":\"#E5ECF6\",\"subunitcolor\":\"white\",\"showland\":true,\"showlakes\":true,\"lakecolor\":\"white\"},\"title\":{\"x\":0.05},\"mapbox\":{\"style\":\"light\"}}},\"xaxis\":{\"anchor\":\"y\",\"domain\":[0.0,1.0],\"title\":{\"text\":\"close_time\"}},\"yaxis\":{\"anchor\":\"x\",\"domain\":[0.0,1.0],\"title\":{\"text\":\"value\"}},\"legend\":{\"title\":{\"text\":\"variable\"},\"tracegroupgap\":0},\"margin\":{\"t\":60}},                        {\"responsive\": true}                    ).then(function(){\n",
       "                            \n",
       "var gd = document.getElementById('a7681bae-1e17-48e2-828f-6869079c6741');\n",
       "var x = new MutationObserver(function (mutations, observer) {{\n",
       "        var display = window.getComputedStyle(gd).display;\n",
       "        if (!display || display === 'none') {{\n",
       "            console.log([gd, 'removed!']);\n",
       "            Plotly.purge(gd);\n",
       "            observer.disconnect();\n",
       "        }}\n",
       "}});\n",
       "\n",
       "// Listen for the removal of the full notebook cells\n",
       "var notebookContainer = gd.closest('#notebook-container');\n",
       "if (notebookContainer) {{\n",
       "    x.observe(notebookContainer, {childList: true});\n",
       "}}\n",
       "\n",
       "// Listen for the clearing of the current output cell\n",
       "var outputEl = gd.closest('.output');\n",
       "if (outputEl) {{\n",
       "    x.observe(outputEl, {childList: true});\n",
       "}}\n",
       "\n",
       "                        })                };                });            </script>        </div>"
      ]
     },
     "metadata": {},
     "output_type": "display_data"
    }
   ],
   "source": [
    "import os\n",
    "import glob\n",
    "import pandas as pd\n",
    "from datetime import timedelta,date\n",
    "import matplotlib.pyplot as plt\n",
    "import plotly.express as px\n",
    "\n",
    "def read_predictions(start_date_inc, end_date_inc):\n",
    "    \"\"\" Read days from start to end from local predictions history\"\"\"\n",
    "    symbol=\"BTCUSDT\"    \n",
    "    data_dir=f\"./../model-dev/PredictLowHighStrategy/Xy\"\n",
    "    print(f\"start date:{start_date_inc}, end date:{end_date_inc}, all inclusive\")\n",
    "    df = pd.DataFrame()\n",
    "    candles_list=[]\n",
    "    for n in range(int ((end_date_inc - start_date_inc).days)+1):\n",
    "        cur_date = start_date_inc + timedelta(n)    \n",
    "        candles_path=f\"{data_dir}/{cur_date}_{symbol}_candles.csv\"     \n",
    "        if not os.path.exists(candles_path): continue\n",
    "        #print(f\"Read {cur_date} candles from {csv_path}\")\n",
    "        cur_candles=pd.read_csv(candles_path,index_col=\"close_time\")\n",
    "        candles_list.append(cur_candles)\n",
    "    df = pd.concat(candles_list)\n",
    "    return df\n",
    "\n",
    "\n",
    "# Read candles for last 3 days\n",
    "last_date=orders.index.max().date()\n",
    "first_date=last_date - timedelta(days=0)\n",
    "\n",
    "df = read_predictions(first_date, last_date)\n",
    "px.line(df[[\"low\",\"high\",\"fut_low\",\"fut_high\"]], markers=True)\n"
   ]
  },
  {
   "cell_type": "markdown",
   "metadata": {},
   "source": [
    "## Look at the account"
   ]
  },
  {
   "cell_type": "code",
   "execution_count": 11,
   "metadata": {},
   "outputs": [
    {
     "name": "stdout",
     "output_type": "stream",
     "text": [
      "{'makerCommission': 0, 'takerCommission': 0, 'buyerCommission': 0, 'sellerCommission': 0, 'canTrade': True, 'canWithdraw': False, 'canDeposit': False, 'brokered': False, 'updateTime': 1664137479985, 'accountType': 'SPOT', 'balances': [{'asset': 'BNB', 'free': '1000.00000000', 'locked': '0.00000000'}, {'asset': 'BTC', 'free': '1.00500000', 'locked': '0.00100000'}, {'asset': 'BUSD', 'free': '10000.00000000', 'locked': '0.00000000'}, {'asset': 'ETH', 'free': '100.00000000', 'locked': '0.00000000'}, {'asset': 'LTC', 'free': '500.00000000', 'locked': '0.00000000'}, {'asset': 'TRX', 'free': '500000.00000000', 'locked': '0.00000000'}, {'asset': 'USDT', 'free': '9885.14828000', 'locked': '0.00000000'}, {'asset': 'XRP', 'free': '50000.00000000', 'locked': '0.00000000'}], 'permissions': ['SPOT']}\n"
     ]
    }
   ],
   "source": [
    "print(account)"
   ]
  }
 ],
 "metadata": {
  "kernelspec": {
   "display_name": "Python 3",
   "language": "python",
   "name": "python3"
  },
  "language_info": {
   "codemirror_mode": {
    "name": "ipython",
    "version": 3
   },
   "file_extension": ".py",
   "mimetype": "text/x-python",
   "name": "python",
   "nbconvert_exporter": "python",
   "pygments_lexer": "ipython3",
   "version": "3.7.6"
  }
 },
 "nbformat": 4,
 "nbformat_minor": 4
}
