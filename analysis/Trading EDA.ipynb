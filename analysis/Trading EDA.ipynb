{
 "cells": [
  {
   "cell_type": "markdown",
   "metadata": {},
   "source": [
    "# Trading EDA"
   ]
  },
  {
   "cell_type": "markdown",
   "metadata": {},
   "source": [
    "To install conda and binance packages to this notebook uncomment the code below"
   ]
  },
  {
   "cell_type": "code",
   "execution_count": 1,
   "metadata": {},
   "outputs": [
    {
     "name": "stdout",
     "output_type": "stream",
     "text": [
      "Requirement already satisfied: plotly==5.9.0 in /home/dima/anaconda3/lib/python3.7/site-packages (5.9.0)\n",
      "Requirement already satisfied: tenacity>=6.2.0 in /home/dima/anaconda3/lib/python3.7/site-packages (from plotly==5.9.0) (8.0.1)\n",
      "/home/dima/anaconda3/lib/python3.7/site-packages/cryptography/hazmat/backends/openssl/x509.py:17: CryptographyDeprecationWarning: This version of cryptography contains a temporary pyOpenSSL fallback path. Upgrade pyOpenSSL now.\n",
      "  utils.DeprecatedIn35,\n",
      "Note: you may need to restart the kernel to use updated packages.\n",
      "Requirement already satisfied: twisted in /home/dima/anaconda3/lib/python3.7/site-packages (22.2.0)\n",
      "Requirement already satisfied: incremental>=21.3.0 in /home/dima/anaconda3/lib/python3.7/site-packages (from twisted) (21.3.0)\n",
      "Requirement already satisfied: attrs>=19.2.0 in /home/dima/anaconda3/lib/python3.7/site-packages (from twisted) (20.3.0)\n",
      "Requirement already satisfied: Automat>=0.8.0 in /home/dima/anaconda3/lib/python3.7/site-packages (from twisted) (20.2.0)\n",
      "Requirement already satisfied: hyperlink>=17.1.1 in /home/dima/anaconda3/lib/python3.7/site-packages (from twisted) (21.0.0)\n",
      "Requirement already satisfied: zope.interface>=4.4.2 in /home/dima/anaconda3/lib/python3.7/site-packages (from twisted) (5.4.0)\n",
      "Requirement already satisfied: typing-extensions>=3.6.5 in /home/dima/anaconda3/lib/python3.7/site-packages (from twisted) (4.1.1)\n",
      "Requirement already satisfied: constantly>=15.1 in /home/dima/anaconda3/lib/python3.7/site-packages (from twisted) (15.1.0)\n",
      "Requirement already satisfied: six in /home/dima/anaconda3/lib/python3.7/site-packages (from Automat>=0.8.0->twisted) (1.14.0)\n",
      "Requirement already satisfied: idna>=2.5 in /home/dima/anaconda3/lib/python3.7/site-packages (from hyperlink>=17.1.1->twisted) (2.8)\n",
      "Requirement already satisfied: setuptools in /home/dima/anaconda3/lib/python3.7/site-packages (from zope.interface>=4.4.2->twisted) (45.2.0.post20200210)\n",
      "Note: you may need to restart the kernel to use updated packages.\n",
      "Requirement already satisfied: binance-connector==1.13.0 in /home/dima/anaconda3/lib/python3.7/site-packages (1.13.0)\n",
      "Requirement already satisfied: Twisted>=21.2.0 in /home/dima/anaconda3/lib/python3.7/site-packages (from binance-connector==1.13.0) (22.2.0)\n",
      "Requirement already satisfied: pyOpenSSL>=19.0.0 in /home/dima/anaconda3/lib/python3.7/site-packages (from binance-connector==1.13.0) (19.1.0)\n",
      "Requirement already satisfied: requests>=2.25.1 in /home/dima/anaconda3/lib/python3.7/site-packages (from binance-connector==1.13.0) (2.28.1)\n",
      "Requirement already satisfied: service-identity>=21.1.0 in /home/dima/anaconda3/lib/python3.7/site-packages (from binance-connector==1.13.0) (21.1.0)\n",
      "Requirement already satisfied: autobahn>=21.2.1 in /home/dima/anaconda3/lib/python3.7/site-packages (from binance-connector==1.13.0) (22.5.1)\n",
      "Requirement already satisfied: zope.interface>=4.4.2 in /home/dima/anaconda3/lib/python3.7/site-packages (from Twisted>=21.2.0->binance-connector==1.13.0) (5.4.0)\n",
      "Requirement already satisfied: hyperlink>=17.1.1 in /home/dima/anaconda3/lib/python3.7/site-packages (from Twisted>=21.2.0->binance-connector==1.13.0) (21.0.0)\n",
      "Requirement already satisfied: Automat>=0.8.0 in /home/dima/anaconda3/lib/python3.7/site-packages (from Twisted>=21.2.0->binance-connector==1.13.0) (20.2.0)\n",
      "Requirement already satisfied: incremental>=21.3.0 in /home/dima/anaconda3/lib/python3.7/site-packages (from Twisted>=21.2.0->binance-connector==1.13.0) (21.3.0)\n",
      "Requirement already satisfied: typing-extensions>=3.6.5 in /home/dima/anaconda3/lib/python3.7/site-packages (from Twisted>=21.2.0->binance-connector==1.13.0) (4.1.1)\n",
      "Requirement already satisfied: constantly>=15.1 in /home/dima/anaconda3/lib/python3.7/site-packages (from Twisted>=21.2.0->binance-connector==1.13.0) (15.1.0)\n",
      "Requirement already satisfied: attrs>=19.2.0 in /home/dima/anaconda3/lib/python3.7/site-packages (from Twisted>=21.2.0->binance-connector==1.13.0) (20.3.0)\n",
      "Requirement already satisfied: six>=1.5.2 in /home/dima/anaconda3/lib/python3.7/site-packages (from pyOpenSSL>=19.0.0->binance-connector==1.13.0) (1.14.0)\n",
      "Requirement already satisfied: cryptography>=2.8 in /home/dima/anaconda3/lib/python3.7/site-packages (from pyOpenSSL>=19.0.0->binance-connector==1.13.0) (37.0.2)\n",
      "Requirement already satisfied: urllib3<1.27,>=1.21.1 in /home/dima/anaconda3/lib/python3.7/site-packages (from requests>=2.25.1->binance-connector==1.13.0) (1.25.8)\n",
      "Requirement already satisfied: certifi>=2017.4.17 in /home/dima/anaconda3/lib/python3.7/site-packages (from requests>=2.25.1->binance-connector==1.13.0) (2019.11.28)\n",
      "Requirement already satisfied: idna<4,>=2.5 in /home/dima/anaconda3/lib/python3.7/site-packages (from requests>=2.25.1->binance-connector==1.13.0) (2.8)\n",
      "Requirement already satisfied: charset-normalizer<3,>=2 in /home/dima/anaconda3/lib/python3.7/site-packages (from requests>=2.25.1->binance-connector==1.13.0) (2.1.0)\n",
      "Requirement already satisfied: pyasn1-modules in /home/dima/anaconda3/lib/python3.7/site-packages (from service-identity>=21.1.0->binance-connector==1.13.0) (0.2.8)\n",
      "Requirement already satisfied: pyasn1 in /home/dima/anaconda3/lib/python3.7/site-packages (from service-identity>=21.1.0->binance-connector==1.13.0) (0.4.8)\n",
      "Requirement already satisfied: txaio>=21.2.1 in /home/dima/anaconda3/lib/python3.7/site-packages (from autobahn>=21.2.1->binance-connector==1.13.0) (22.2.1)\n",
      "Requirement already satisfied: setuptools in /home/dima/anaconda3/lib/python3.7/site-packages (from autobahn>=21.2.1->binance-connector==1.13.0) (45.2.0.post20200210)\n",
      "Requirement already satisfied: cffi>=1.12 in /home/dima/anaconda3/lib/python3.7/site-packages (from cryptography>=2.8->pyOpenSSL>=19.0.0->binance-connector==1.13.0) (1.14.0)\n",
      "Requirement already satisfied: pycparser in /home/dima/anaconda3/lib/python3.7/site-packages (from cffi>=1.12->cryptography>=2.8->pyOpenSSL>=19.0.0->binance-connector==1.13.0) (2.19)\n",
      "Note: you may need to restart the kernel to use updated packages.\n",
      "Requirement already satisfied: pandas in /home/dima/anaconda3/lib/python3.7/site-packages (1.0.1)\n",
      "Requirement already satisfied: pytz>=2017.2 in /home/dima/anaconda3/lib/python3.7/site-packages (from pandas) (2019.3)\n",
      "Requirement already satisfied: python-dateutil>=2.6.1 in /home/dima/anaconda3/lib/python3.7/site-packages (from pandas) (2.8.1)\n",
      "Requirement already satisfied: numpy>=1.13.3 in /home/dima/anaconda3/lib/python3.7/site-packages (from pandas) (1.18.1)\n",
      "Requirement already satisfied: six>=1.5 in /home/dima/anaconda3/lib/python3.7/site-packages (from python-dateutil>=2.6.1->pandas) (1.14.0)\n",
      "Note: you may need to restart the kernel to use updated packages.\n"
     ]
    }
   ],
   "source": [
    "#%conda install -c plotly plotly=5.9.0\n",
    "#%conda install pip\n",
    "#%conda install twisted\n",
    "%pip install plotly==5.9.0\n",
    "%pip install twisted\n",
    "%pip install binance-connector==1.13.0\n",
    "%pip install pandas\n",
    "import pandas as pd\n",
    "pd.set_option('display.max_columns', None)\n",
    "pd.set_option('display.expand_frame_repr', False)\n",
    "pd.set_option('max_colwidth', None)"
   ]
  },
  {
   "cell_type": "markdown",
   "metadata": {},
   "source": [
    "Init binance client"
   ]
  },
  {
   "cell_type": "code",
   "execution_count": 2,
   "metadata": {},
   "outputs": [],
   "source": [
    "from binance.spot import Spot as Client\n",
    "import os\n",
    "import sys\n",
    "import yaml\n",
    "\n",
    "# Load \n",
    "def load_config():\n",
    "    \"\"\"\n",
    "    Load config from cfg folder respecting the order: defaults, app.yaml, environment vars\n",
    "    \"\"\"\n",
    "    # Defaults\n",
    "    cfg_dir=\"./../biml/cfg\"\n",
    "    default_cfg_path = f\"{cfg_dir}/app-defaults.yaml\"\n",
    "    with open(default_cfg_path, \"r\") as appdefaults:\n",
    "        config = yaml.safe_load(appdefaults)\n",
    "\n",
    "    # Custom config, should contain custom information,\n",
    "    cfg_path = f\"{cfg_dir}/app.yaml\"\n",
    "    if os.path.exists(cfg_path):\n",
    "        with open(cfg_path) as app:\n",
    "            config.update(yaml.safe_load(app))\n",
    "    else:\n",
    "        sys.exit(\n",
    "            f\"Config {cfg_path} not found. Please copy cfg/app-defaults.yaml to {cfg_path} \"\n",
    "            f\"and update connection info there.\")\n",
    "\n",
    "    # Enviroment variabless\n",
    "    config.update(os.environ)\n",
    "    return config\n",
    "\n",
    "\n",
    "# Create binance client\n",
    "config=load_config()\n",
    "key,secret,url=config[\"biml.connector.key\"],config[\"biml.connector.secret\"],config[\"biml.connector.url\"]\n",
    "client = Client(key=key, secret=secret, base_url=url, timeout=10)\n"
   ]
  },
  {
   "cell_type": "markdown",
   "metadata": {},
   "source": [
    "Get account info"
   ]
  },
  {
   "cell_type": "code",
   "execution_count": 3,
   "metadata": {},
   "outputs": [
    {
     "name": "stdout",
     "output_type": "stream",
     "text": [
      "{'makerCommission': 0, 'takerCommission': 0, 'buyerCommission': 0, 'sellerCommission': 0, 'commissionRates': {'maker': '0.00000000', 'taker': '0.00000000', 'buyer': '0.00000000', 'seller': '0.00000000'}, 'canTrade': True, 'canWithdraw': False, 'canDeposit': False, 'brokered': False, 'requireSelfTradePrevention': False, 'updateTime': 1678006474349, 'accountType': 'SPOT', 'balances': [{'asset': 'BNB', 'free': '1000.00000000', 'locked': '0.00000000'}, {'asset': 'BTC', 'free': '0.99900000', 'locked': '0.00100000'}, {'asset': 'BUSD', 'free': '10000.00000000', 'locked': '0.00000000'}, {'asset': 'ETH', 'free': '100.00000000', 'locked': '0.00000000'}, {'asset': 'LTC', 'free': '500.00000000', 'locked': '0.00000000'}, {'asset': 'TRX', 'free': '500000.00000000', 'locked': '0.00000000'}, {'asset': 'USDT', 'free': '10000.00653000', 'locked': '0.00000000'}, {'asset': 'XRP', 'free': '50000.00000000', 'locked': '0.00000000'}], 'permissions': ['SPOT']}\n"
     ]
    }
   ],
   "source": [
    "account=client.account()\n",
    "print(account)\n"
   ]
  },
  {
   "cell_type": "markdown",
   "metadata": {},
   "source": [
    "Get trade bot orders from sqlite db"
   ]
  },
  {
   "cell_type": "code",
   "execution_count": 4,
   "metadata": {},
   "outputs": [
    {
     "data": {
      "text/html": [
       "<div>\n",
       "<style scoped>\n",
       "    .dataframe tbody tr th:only-of-type {\n",
       "        vertical-align: middle;\n",
       "    }\n",
       "\n",
       "    .dataframe tbody tr th {\n",
       "        vertical-align: top;\n",
       "    }\n",
       "\n",
       "    .dataframe thead th {\n",
       "        text-align: right;\n",
       "    }\n",
       "</style>\n",
       "<table border=\"1\" class=\"dataframe\">\n",
       "  <thead>\n",
       "    <tr style=\"text-align: right;\">\n",
       "      <th></th>\n",
       "      <th>id</th>\n",
       "      <th>ticker</th>\n",
       "      <th>side</th>\n",
       "      <th>open_time</th>\n",
       "      <th>open_price</th>\n",
       "      <th>open_order_id</th>\n",
       "      <th>stop_loss_price</th>\n",
       "      <th>stop_loss_order_id</th>\n",
       "      <th>trailing_delta</th>\n",
       "      <th>quantity</th>\n",
       "      <th>close_time</th>\n",
       "      <th>close_price</th>\n",
       "      <th>close_order_id</th>\n",
       "      <th>profit</th>\n",
       "    </tr>\n",
       "  </thead>\n",
       "  <tbody>\n",
       "    <tr>\n",
       "      <th>7</th>\n",
       "      <td>8</td>\n",
       "      <td>BTCUSDT</td>\n",
       "      <td>BUY</td>\n",
       "      <td>2023-03-05 08:38:25.894413</td>\n",
       "      <td>22365.79</td>\n",
       "      <td>2859145</td>\n",
       "      <td>22343.73</td>\n",
       "      <td>2859151</td>\n",
       "      <td>None</td>\n",
       "      <td>0.001</td>\n",
       "      <td>2023-03-05 11:39:05.250116</td>\n",
       "      <td>22348.43</td>\n",
       "      <td>2859550</td>\n",
       "      <td>-17.36</td>\n",
       "    </tr>\n",
       "    <tr>\n",
       "      <th>8</th>\n",
       "      <td>9</td>\n",
       "      <td>BTCUSDT</td>\n",
       "      <td>BUY</td>\n",
       "      <td>2023-03-05 08:39:15.329011</td>\n",
       "      <td>22345.24</td>\n",
       "      <td>2859639</td>\n",
       "      <td>22319.51</td>\n",
       "      <td>2859651</td>\n",
       "      <td>None</td>\n",
       "      <td>0.001</td>\n",
       "      <td>2023-03-05 11:40:05.903918</td>\n",
       "      <td>22350.34</td>\n",
       "      <td>2860107</td>\n",
       "      <td>5.10</td>\n",
       "    </tr>\n",
       "    <tr>\n",
       "      <th>9</th>\n",
       "      <td>10</td>\n",
       "      <td>BTCUSDT</td>\n",
       "      <td>BUY</td>\n",
       "      <td>2023-03-05 08:40:16.595495</td>\n",
       "      <td>22348.79</td>\n",
       "      <td>2860178</td>\n",
       "      <td>22327.78</td>\n",
       "      <td>2860179</td>\n",
       "      <td>None</td>\n",
       "      <td>0.001</td>\n",
       "      <td>2023-03-05 11:43:14.337015</td>\n",
       "      <td>22349.32</td>\n",
       "      <td>2861545</td>\n",
       "      <td>0.53</td>\n",
       "    </tr>\n",
       "    <tr>\n",
       "      <th>10</th>\n",
       "      <td>11</td>\n",
       "      <td>BTCUSDT</td>\n",
       "      <td>BUY</td>\n",
       "      <td>2023-03-05 08:43:24.687356</td>\n",
       "      <td>22351.04</td>\n",
       "      <td>2861606</td>\n",
       "      <td>22328.18</td>\n",
       "      <td>2861608</td>\n",
       "      <td>None</td>\n",
       "      <td>0.001</td>\n",
       "      <td>2023-03-05 11:54:24.411336</td>\n",
       "      <td>22340.66</td>\n",
       "      <td>2866218</td>\n",
       "      <td>-10.38</td>\n",
       "    </tr>\n",
       "    <tr>\n",
       "      <th>11</th>\n",
       "      <td>12</td>\n",
       "      <td>BTCUSDT</td>\n",
       "      <td>BUY</td>\n",
       "      <td>2023-03-05 08:54:34.493511</td>\n",
       "      <td>22337.28</td>\n",
       "      <td>2866274</td>\n",
       "      <td>22318.32</td>\n",
       "      <td>2866281</td>\n",
       "      <td>None</td>\n",
       "      <td>0.001</td>\n",
       "      <td>NaT</td>\n",
       "      <td>NaN</td>\n",
       "      <td>None</td>\n",
       "      <td>NaN</td>\n",
       "    </tr>\n",
       "  </tbody>\n",
       "</table>\n",
       "</div>"
      ],
      "text/plain": [
       "    id   ticker side                  open_time  open_price open_order_id  stop_loss_price stop_loss_order_id trailing_delta  quantity                 close_time  close_price close_order_id  profit\n",
       "7    8  BTCUSDT  BUY 2023-03-05 08:38:25.894413    22365.79       2859145         22343.73            2859151           None     0.001 2023-03-05 11:39:05.250116     22348.43        2859550  -17.36\n",
       "8    9  BTCUSDT  BUY 2023-03-05 08:39:15.329011    22345.24       2859639         22319.51            2859651           None     0.001 2023-03-05 11:40:05.903918     22350.34        2860107    5.10\n",
       "9   10  BTCUSDT  BUY 2023-03-05 08:40:16.595495    22348.79       2860178         22327.78            2860179           None     0.001 2023-03-05 11:43:14.337015     22349.32        2861545    0.53\n",
       "10  11  BTCUSDT  BUY 2023-03-05 08:43:24.687356    22351.04       2861606         22328.18            2861608           None     0.001 2023-03-05 11:54:24.411336     22340.66        2866218  -10.38\n",
       "11  12  BTCUSDT  BUY 2023-03-05 08:54:34.493511    22337.28       2866274         22318.32            2866281           None     0.001                        NaT          NaN           None     NaN"
      ]
     },
     "execution_count": 4,
     "metadata": {},
     "output_type": "execute_result"
    }
   ],
   "source": [
    "def get_trades():\n",
    "    import sqlite3\n",
    "    db_path=\"../data/biml.db\"\n",
    "\n",
    "    with sqlite3.connect(db_path) as conn:\n",
    "        trades=pd.read_sql_query(\"SELECT * FROM trade ORDER BY open_time\",conn,\n",
    "                                 parse_dates=[\"open_time\", \"close_time\"])#.set_index(\"open_time\", drop=False)\n",
    "    trades[\"profit\"] = trades[\"close_price\"]-trades[\"open_price\"]\n",
    "    return trades\n",
    "\n",
    "trades=get_trades()\n",
    "trades.tail()"
   ]
  },
  {
   "cell_type": "markdown",
   "metadata": {},
   "source": [
    "Get opened trades"
   ]
  },
  {
   "cell_type": "code",
   "execution_count": 5,
   "metadata": {},
   "outputs": [
    {
     "data": {
      "text/html": [
       "<div>\n",
       "<style scoped>\n",
       "    .dataframe tbody tr th:only-of-type {\n",
       "        vertical-align: middle;\n",
       "    }\n",
       "\n",
       "    .dataframe tbody tr th {\n",
       "        vertical-align: top;\n",
       "    }\n",
       "\n",
       "    .dataframe thead th {\n",
       "        text-align: right;\n",
       "    }\n",
       "</style>\n",
       "<table border=\"1\" class=\"dataframe\">\n",
       "  <thead>\n",
       "    <tr style=\"text-align: right;\">\n",
       "      <th></th>\n",
       "      <th>id</th>\n",
       "      <th>ticker</th>\n",
       "      <th>side</th>\n",
       "      <th>open_time</th>\n",
       "      <th>open_price</th>\n",
       "      <th>open_order_id</th>\n",
       "      <th>stop_loss_price</th>\n",
       "      <th>stop_loss_order_id</th>\n",
       "      <th>trailing_delta</th>\n",
       "      <th>quantity</th>\n",
       "      <th>close_time</th>\n",
       "      <th>close_price</th>\n",
       "      <th>close_order_id</th>\n",
       "      <th>profit</th>\n",
       "    </tr>\n",
       "  </thead>\n",
       "  <tbody>\n",
       "    <tr>\n",
       "      <th>11</th>\n",
       "      <td>12</td>\n",
       "      <td>BTCUSDT</td>\n",
       "      <td>BUY</td>\n",
       "      <td>2023-03-05 08:54:34.493511</td>\n",
       "      <td>22337.28</td>\n",
       "      <td>2866274</td>\n",
       "      <td>22318.32</td>\n",
       "      <td>2866281</td>\n",
       "      <td>None</td>\n",
       "      <td>0.001</td>\n",
       "      <td>NaT</td>\n",
       "      <td>NaN</td>\n",
       "      <td>None</td>\n",
       "      <td>NaN</td>\n",
       "    </tr>\n",
       "  </tbody>\n",
       "</table>\n",
       "</div>"
      ],
      "text/plain": [
       "    id   ticker side                  open_time  open_price open_order_id  stop_loss_price stop_loss_order_id trailing_delta  quantity close_time  close_price close_order_id  profit\n",
       "11  12  BTCUSDT  BUY 2023-03-05 08:54:34.493511    22337.28       2866274         22318.32            2866281           None     0.001        NaT          NaN           None     NaN"
      ]
     },
     "execution_count": 5,
     "metadata": {},
     "output_type": "execute_result"
    }
   ],
   "source": [
    "trades[trades.close_time.isna()].tail()"
   ]
  },
  {
   "cell_type": "code",
   "execution_count": 6,
   "metadata": {},
   "outputs": [],
   "source": [
    "# # Get orders\n",
    "# import pandas as pd\n",
    "# import numpy as np\n",
    "# symbol=\"BTCUSDT\"\n",
    "\n",
    "# # Get orders, but market orders have price=0\n",
    "# orders=pd.DataFrame(client.get_orders(symbol))\n",
    "# if not orders.empty: orders=orders.astype({'time': 'datetime64[ms]','updateTime':'datetime64[ms]','price':'float64','origQty':'float64'}).set_index('time',drop=False)\n",
    "\n",
    "# # Get trades and pull orders' prices from there\n",
    "# trades=pd.DataFrame( client.my_trades(symbol))\n",
    "# if not trades.empty: trades=trades.astype({'time': 'datetime64[ms]', 'price':'float64'}).set_index('time',drop=False)    \n",
    "# orders=orders.drop(\"price\",axis=1).merge(trades[[\"orderId\",\"price\"]],on=\"orderId\")\n",
    "\n",
    "# # Calculate profit of closing orders\n",
    "# orders[\"delta_price\"]=orders[\"price\"].diff()\n",
    "# orders[\"profit\"] = orders[\"delta_price\"]*orders[\"origQty\"]\n",
    "# orders.loc[~orders[\"type\"].isin([\"LIMIT_MAKER\", \"STOP_LOSS_LIMIT\"]),[\"profit\"]]=np.nan\n",
    "\n",
    "# orders[\"time\"] = orders[\"updateTime\"]\n",
    "# orders.set_index(\"time\", drop=False, inplace=True)\n",
    "# orders.tail()\n"
   ]
  },
  {
   "cell_type": "markdown",
   "metadata": {},
   "source": [
    "Look at opened stop loss and take profit orders"
   ]
  },
  {
   "cell_type": "code",
   "execution_count": 7,
   "metadata": {},
   "outputs": [
    {
     "data": {
      "text/html": [
       "<div>\n",
       "<style scoped>\n",
       "    .dataframe tbody tr th:only-of-type {\n",
       "        vertical-align: middle;\n",
       "    }\n",
       "\n",
       "    .dataframe tbody tr th {\n",
       "        vertical-align: top;\n",
       "    }\n",
       "\n",
       "    .dataframe thead th {\n",
       "        text-align: right;\n",
       "    }\n",
       "</style>\n",
       "<table border=\"1\" class=\"dataframe\">\n",
       "  <thead>\n",
       "    <tr style=\"text-align: right;\">\n",
       "      <th></th>\n",
       "      <th>symbol</th>\n",
       "      <th>orderId</th>\n",
       "      <th>orderListId</th>\n",
       "      <th>clientOrderId</th>\n",
       "      <th>price</th>\n",
       "      <th>origQty</th>\n",
       "      <th>executedQty</th>\n",
       "      <th>cummulativeQuoteQty</th>\n",
       "      <th>status</th>\n",
       "      <th>timeInForce</th>\n",
       "      <th>type</th>\n",
       "      <th>side</th>\n",
       "      <th>stopPrice</th>\n",
       "      <th>trailingDelta</th>\n",
       "      <th>trailingTime</th>\n",
       "      <th>icebergQty</th>\n",
       "      <th>time</th>\n",
       "      <th>updateTime</th>\n",
       "      <th>isWorking</th>\n",
       "      <th>workingTime</th>\n",
       "      <th>origQuoteOrderQty</th>\n",
       "      <th>selfTradePreventionMode</th>\n",
       "    </tr>\n",
       "  </thead>\n",
       "  <tbody>\n",
       "    <tr>\n",
       "      <th>0</th>\n",
       "      <td>BTCUSDT</td>\n",
       "      <td>2866281</td>\n",
       "      <td>-1</td>\n",
       "      <td>SXhFge7z9wJ6mbrMKtoD46</td>\n",
       "      <td>22295.98000000</td>\n",
       "      <td>0.00100000</td>\n",
       "      <td>0.00000000</td>\n",
       "      <td>0.00000000</td>\n",
       "      <td>NEW</td>\n",
       "      <td>GTC</td>\n",
       "      <td>STOP_LOSS_LIMIT</td>\n",
       "      <td>SELL</td>\n",
       "      <td>22318.32000000</td>\n",
       "      <td>200</td>\n",
       "      <td>1678007078872</td>\n",
       "      <td>0.00000000</td>\n",
       "      <td>1678006474349</td>\n",
       "      <td>1678007078872</td>\n",
       "      <td>False</td>\n",
       "      <td>-1</td>\n",
       "      <td>0.00000000</td>\n",
       "      <td>NONE</td>\n",
       "    </tr>\n",
       "  </tbody>\n",
       "</table>\n",
       "</div>"
      ],
      "text/plain": [
       "    symbol  orderId  orderListId           clientOrderId           price     origQty executedQty cummulativeQuoteQty status timeInForce             type  side       stopPrice  trailingDelta   trailingTime  icebergQty           time     updateTime  isWorking  workingTime origQuoteOrderQty selfTradePreventionMode\n",
       "0  BTCUSDT  2866281           -1  SXhFge7z9wJ6mbrMKtoD46  22295.98000000  0.00100000  0.00000000          0.00000000    NEW         GTC  STOP_LOSS_LIMIT  SELL  22318.32000000            200  1678007078872  0.00000000  1678006474349  1678007078872      False           -1        0.00000000                    NONE"
      ]
     },
     "execution_count": 7,
     "metadata": {},
     "output_type": "execute_result"
    }
   ],
   "source": [
    "symbol=\"BTCUSDT\"\n",
    "orders_opened=pd.DataFrame(client.get_open_orders(symbol))\n",
    "orders_opened.tail()"
   ]
  },
  {
   "cell_type": "markdown",
   "metadata": {},
   "source": [
    "Get candles from binance"
   ]
  },
  {
   "cell_type": "code",
   "execution_count": 15,
   "metadata": {},
   "outputs": [
    {
     "data": {
      "text/html": [
       "<div>\n",
       "<style scoped>\n",
       "    .dataframe tbody tr th:only-of-type {\n",
       "        vertical-align: middle;\n",
       "    }\n",
       "\n",
       "    .dataframe tbody tr th {\n",
       "        vertical-align: top;\n",
       "    }\n",
       "\n",
       "    .dataframe thead th {\n",
       "        text-align: right;\n",
       "    }\n",
       "</style>\n",
       "<table border=\"1\" class=\"dataframe\">\n",
       "  <thead>\n",
       "    <tr style=\"text-align: right;\">\n",
       "      <th></th>\n",
       "      <th>open_time</th>\n",
       "      <th>open</th>\n",
       "      <th>high</th>\n",
       "      <th>low</th>\n",
       "      <th>close</th>\n",
       "      <th>vol</th>\n",
       "      <th>close_time</th>\n",
       "      <th>quote_asset_volume</th>\n",
       "      <th>number_of_trades</th>\n",
       "      <th>taker_buy_base_asset_volume</th>\n",
       "      <th>taker_buy_quote_asset_volume</th>\n",
       "      <th>ignore</th>\n",
       "    </tr>\n",
       "    <tr>\n",
       "      <th>open_time</th>\n",
       "      <th></th>\n",
       "      <th></th>\n",
       "      <th></th>\n",
       "      <th></th>\n",
       "      <th></th>\n",
       "      <th></th>\n",
       "      <th></th>\n",
       "      <th></th>\n",
       "      <th></th>\n",
       "      <th></th>\n",
       "      <th></th>\n",
       "      <th></th>\n",
       "    </tr>\n",
       "  </thead>\n",
       "  <tbody>\n",
       "    <tr>\n",
       "      <th>2023-03-05 10:25:00</th>\n",
       "      <td>2023-03-05 10:25:00</td>\n",
       "      <td>22417.52</td>\n",
       "      <td>22448.15</td>\n",
       "      <td>22409.76</td>\n",
       "      <td>22438.79</td>\n",
       "      <td>7.31718800</td>\n",
       "      <td>2023-03-05 10:25:59.999</td>\n",
       "      <td>164094.79437150</td>\n",
       "      <td>164</td>\n",
       "      <td>6.09572000</td>\n",
       "      <td>136700.12438972</td>\n",
       "      <td>0</td>\n",
       "    </tr>\n",
       "    <tr>\n",
       "      <th>2023-03-05 10:26:00</th>\n",
       "      <td>2023-03-05 10:26:00</td>\n",
       "      <td>22440.27</td>\n",
       "      <td>22440.27</td>\n",
       "      <td>22368.35</td>\n",
       "      <td>22419.00</td>\n",
       "      <td>6.11468100</td>\n",
       "      <td>2023-03-05 10:26:59.999</td>\n",
       "      <td>137078.14415730</td>\n",
       "      <td>128</td>\n",
       "      <td>3.26128000</td>\n",
       "      <td>73131.06512364</td>\n",
       "      <td>0</td>\n",
       "    </tr>\n",
       "    <tr>\n",
       "      <th>2023-03-05 10:27:00</th>\n",
       "      <td>2023-03-05 10:27:00</td>\n",
       "      <td>22419.30</td>\n",
       "      <td>22423.81</td>\n",
       "      <td>22367.47</td>\n",
       "      <td>22409.70</td>\n",
       "      <td>6.78792600</td>\n",
       "      <td>2023-03-05 10:27:59.999</td>\n",
       "      <td>152112.13709538</td>\n",
       "      <td>110</td>\n",
       "      <td>4.38671000</td>\n",
       "      <td>98335.79578023</td>\n",
       "      <td>0</td>\n",
       "    </tr>\n",
       "    <tr>\n",
       "      <th>2023-03-05 10:28:00</th>\n",
       "      <td>2023-03-05 10:28:00</td>\n",
       "      <td>22409.90</td>\n",
       "      <td>22421.84</td>\n",
       "      <td>22408.77</td>\n",
       "      <td>22409.04</td>\n",
       "      <td>5.41781100</td>\n",
       "      <td>2023-03-05 10:28:59.999</td>\n",
       "      <td>121435.32482857</td>\n",
       "      <td>101</td>\n",
       "      <td>3.54687300</td>\n",
       "      <td>79502.09438635</td>\n",
       "      <td>0</td>\n",
       "    </tr>\n",
       "    <tr>\n",
       "      <th>2023-03-05 10:29:00</th>\n",
       "      <td>2023-03-05 10:29:00</td>\n",
       "      <td>22409.30</td>\n",
       "      <td>22409.55</td>\n",
       "      <td>22395.42</td>\n",
       "      <td>22396.13</td>\n",
       "      <td>3.53709600</td>\n",
       "      <td>2023-03-05 10:29:59.999</td>\n",
       "      <td>79242.84984334</td>\n",
       "      <td>68</td>\n",
       "      <td>1.11569600</td>\n",
       "      <td>24994.69816879</td>\n",
       "      <td>0</td>\n",
       "    </tr>\n",
       "  </tbody>\n",
       "</table>\n",
       "</div>"
      ],
      "text/plain": [
       "                              open_time      open      high       low     close         vol              close_time quote_asset_volume  number_of_trades  taker_buy_base_asset_volume taker_buy_quote_asset_volume ignore\n",
       "open_time                                                                                                                                                                                                                \n",
       "2023-03-05 10:25:00 2023-03-05 10:25:00  22417.52  22448.15  22409.76  22438.79  7.31718800 2023-03-05 10:25:59.999    164094.79437150               164                   6.09572000              136700.12438972      0\n",
       "2023-03-05 10:26:00 2023-03-05 10:26:00  22440.27  22440.27  22368.35  22419.00  6.11468100 2023-03-05 10:26:59.999    137078.14415730               128                   3.26128000               73131.06512364      0\n",
       "2023-03-05 10:27:00 2023-03-05 10:27:00  22419.30  22423.81  22367.47  22409.70  6.78792600 2023-03-05 10:27:59.999    152112.13709538               110                   4.38671000               98335.79578023      0\n",
       "2023-03-05 10:28:00 2023-03-05 10:28:00  22409.90  22421.84  22408.77  22409.04  5.41781100 2023-03-05 10:28:59.999    121435.32482857               101                   3.54687300               79502.09438635      0\n",
       "2023-03-05 10:29:00 2023-03-05 10:29:00  22409.30  22409.55  22395.42  22396.13  3.53709600 2023-03-05 10:29:59.999     79242.84984334                68                   1.11569600               24994.69816879      0"
      ]
     },
     "execution_count": 15,
     "metadata": {},
     "output_type": "execute_result"
    }
   ],
   "source": [
    "def get_last_candles():\n",
    "    candle_columns = [\"open_time\", \"open\", \"high\", \"low\", \"close\", \"vol\", \"close_time\", \"quote_asset_volume\",\n",
    "                      \"number_of_trades\", \" taker_buy_base_asset_volume\", \"taker_buy_quote_asset_volume\",\n",
    "                      \"ignore\"]    \n",
    "    end_date=trades.open_time.max() if not trades.empty else datetime.utcnow()\n",
    "    end_time_millis=end_date.value//1000000\n",
    "    raw_candles = client.klines(symbol=symbol,\n",
    "                                    interval=\"1m\",\n",
    "                                    #limit=10,\n",
    "                                    limit=24*60*60#,\n",
    "                                    #endTime=end_time_millis\n",
    "                               )\n",
    "    df = pd.DataFrame(raw_candles, columns=candle_columns)\n",
    "    df[\"open_time\"] = pd.to_datetime(df[\"open_time\"], unit='ms')\n",
    "    df[\"close_time\"] = pd.to_datetime(df[\"close_time\"], unit='ms')\n",
    "    df.set_index(\"open_time\", drop=False, inplace=True)\n",
    "        # Convert strings to float prices\n",
    "    df[[\"open\", \"high\", \"low\", \"close\"]] = df[[\"open\", \"high\", \"low\", \"close\"]].astype(float)\n",
    "    return df\n",
    "\n",
    "def clean_candles(df):\n",
    "    \"\"\" Remove outliers \"\"\"\n",
    "    q_low = df[\"low\"].quantile(0.01)\n",
    "    q_high  = df[\"high\"].quantile(0.99)\n",
    "    df=df[df[\"high\"]< q_high]\n",
    "    df=df[df[\"low\"] > q_low ]\n",
    "    return df\n",
    "\n",
    "candles = get_last_candles()\n",
    "candles = clean_candles(candles)\n",
    "candles.tail()"
   ]
  },
  {
   "cell_type": "code",
   "execution_count": 9,
   "metadata": {},
   "outputs": [
    {
     "data": {
      "text/html": [
       "<div>\n",
       "<style scoped>\n",
       "    .dataframe tbody tr th:only-of-type {\n",
       "        vertical-align: middle;\n",
       "    }\n",
       "\n",
       "    .dataframe tbody tr th {\n",
       "        vertical-align: top;\n",
       "    }\n",
       "\n",
       "    .dataframe thead th {\n",
       "        text-align: right;\n",
       "    }\n",
       "</style>\n",
       "<table border=\"1\" class=\"dataframe\">\n",
       "  <thead>\n",
       "    <tr style=\"text-align: right;\">\n",
       "      <th></th>\n",
       "      <th>open_time</th>\n",
       "      <th>open</th>\n",
       "      <th>high</th>\n",
       "      <th>low</th>\n",
       "      <th>close</th>\n",
       "      <th>vol</th>\n",
       "      <th>close_time</th>\n",
       "      <th>quote_asset_volume</th>\n",
       "      <th>number_of_trades</th>\n",
       "      <th>taker_buy_base_asset_volume</th>\n",
       "      <th>taker_buy_quote_asset_volume</th>\n",
       "      <th>ignore</th>\n",
       "    </tr>\n",
       "    <tr>\n",
       "      <th>open_time</th>\n",
       "      <th></th>\n",
       "      <th></th>\n",
       "      <th></th>\n",
       "      <th></th>\n",
       "      <th></th>\n",
       "      <th></th>\n",
       "      <th></th>\n",
       "      <th></th>\n",
       "      <th></th>\n",
       "      <th></th>\n",
       "      <th></th>\n",
       "      <th></th>\n",
       "    </tr>\n",
       "  </thead>\n",
       "  <tbody>\n",
       "    <tr>\n",
       "      <th>2023-03-05 08:50:00</th>\n",
       "      <td>2023-03-05 08:50:00</td>\n",
       "      <td>22343.35</td>\n",
       "      <td>22343.58</td>\n",
       "      <td>22336.78</td>\n",
       "      <td>22338.37</td>\n",
       "      <td>6.23906900</td>\n",
       "      <td>2023-03-05 08:50:59.999</td>\n",
       "      <td>139388.25756800</td>\n",
       "      <td>108</td>\n",
       "      <td>1.51273100</td>\n",
       "      <td>33795.14698246</td>\n",
       "      <td>0</td>\n",
       "    </tr>\n",
       "    <tr>\n",
       "      <th>2023-03-05 08:51:00</th>\n",
       "      <td>2023-03-05 08:51:00</td>\n",
       "      <td>22338.37</td>\n",
       "      <td>22346.89</td>\n",
       "      <td>22338.37</td>\n",
       "      <td>22341.57</td>\n",
       "      <td>5.16288400</td>\n",
       "      <td>2023-03-05 08:51:59.999</td>\n",
       "      <td>115354.99095671</td>\n",
       "      <td>96</td>\n",
       "      <td>3.53609200</td>\n",
       "      <td>79005.04126032</td>\n",
       "      <td>0</td>\n",
       "    </tr>\n",
       "    <tr>\n",
       "      <th>2023-03-05 08:52:00</th>\n",
       "      <td>2023-03-05 08:52:00</td>\n",
       "      <td>22341.16</td>\n",
       "      <td>22344.55</td>\n",
       "      <td>22337.67</td>\n",
       "      <td>22343.76</td>\n",
       "      <td>4.43400100</td>\n",
       "      <td>2023-03-05 08:52:59.999</td>\n",
       "      <td>99056.87323235</td>\n",
       "      <td>87</td>\n",
       "      <td>2.83331000</td>\n",
       "      <td>63296.64666989</td>\n",
       "      <td>0</td>\n",
       "    </tr>\n",
       "    <tr>\n",
       "      <th>2023-03-05 08:53:00</th>\n",
       "      <td>2023-03-05 08:53:00</td>\n",
       "      <td>22344.05</td>\n",
       "      <td>22344.35</td>\n",
       "      <td>22343.01</td>\n",
       "      <td>22343.31</td>\n",
       "      <td>3.32756300</td>\n",
       "      <td>2023-03-05 08:53:59.999</td>\n",
       "      <td>74350.34668015</td>\n",
       "      <td>58</td>\n",
       "      <td>2.16166100</td>\n",
       "      <td>48299.81880547</td>\n",
       "      <td>0</td>\n",
       "    </tr>\n",
       "    <tr>\n",
       "      <th>2023-03-05 08:54:00</th>\n",
       "      <td>2023-03-05 08:54:00</td>\n",
       "      <td>22343.31</td>\n",
       "      <td>22343.31</td>\n",
       "      <td>22337.28</td>\n",
       "      <td>22337.70</td>\n",
       "      <td>4.55574000</td>\n",
       "      <td>2023-03-05 08:54:59.999</td>\n",
       "      <td>101771.24453380</td>\n",
       "      <td>86</td>\n",
       "      <td>2.43720500</td>\n",
       "      <td>54443.77607057</td>\n",
       "      <td>0</td>\n",
       "    </tr>\n",
       "  </tbody>\n",
       "</table>\n",
       "</div>"
      ],
      "text/plain": [
       "                              open_time      open      high       low     close         vol              close_time quote_asset_volume  number_of_trades  taker_buy_base_asset_volume taker_buy_quote_asset_volume ignore\n",
       "open_time                                                                                                                                                                                                                \n",
       "2023-03-05 08:50:00 2023-03-05 08:50:00  22343.35  22343.58  22336.78  22338.37  6.23906900 2023-03-05 08:50:59.999    139388.25756800               108                   1.51273100               33795.14698246      0\n",
       "2023-03-05 08:51:00 2023-03-05 08:51:00  22338.37  22346.89  22338.37  22341.57  5.16288400 2023-03-05 08:51:59.999    115354.99095671                96                   3.53609200               79005.04126032      0\n",
       "2023-03-05 08:52:00 2023-03-05 08:52:00  22341.16  22344.55  22337.67  22343.76  4.43400100 2023-03-05 08:52:59.999     99056.87323235                87                   2.83331000               63296.64666989      0\n",
       "2023-03-05 08:53:00 2023-03-05 08:53:00  22344.05  22344.35  22343.01  22343.31  3.32756300 2023-03-05 08:53:59.999     74350.34668015                58                   2.16166100               48299.81880547      0\n",
       "2023-03-05 08:54:00 2023-03-05 08:54:00  22343.31  22343.31  22337.28  22337.70  4.55574000 2023-03-05 08:54:59.999    101771.24453380                86                   2.43720500               54443.77607057      0"
      ]
     },
     "execution_count": 9,
     "metadata": {},
     "output_type": "execute_result"
    }
   ],
   "source": [
    "candles.tail()"
   ]
  },
  {
   "cell_type": "markdown",
   "metadata": {},
   "source": [
    "## EDA\n",
    "\n",
    "### Look at trades quantity cumulative sum"
   ]
  },
  {
   "cell_type": "markdown",
   "metadata": {},
   "source": [
    "## Look at trades on candlestick chart"
   ]
  },
  {
   "cell_type": "code",
   "execution_count": 16,
   "metadata": {},
   "outputs": [
    {
     "name": "stdout",
     "output_type": "stream",
     "text": [
      "close_time:1678015736222758000\n",
      "close_time:1678015864110326000\n",
      "close_time:1678016009058266000\n",
      "close_time:1678016219500202000\n",
      "close_time:1678016260410161000\n",
      "close_time:1678016295368447000\n",
      "close_time:1678016345250116000\n",
      "close_time:1678016405903918000\n",
      "close_time:1678016594337015000\n",
      "close_time:1678017264411336000\n"
     ]
    },
    {
     "data": {
      "application/vnd.plotly.v1+json": {
       "config": {
        "plotlyServerURL": "https://plot.ly"
       },
       "data": [
        {
         "close": [
          22309.08,
          22310.12,
          22308.56,
          22310.14,
          22307.42,
          22305.56,
          22305.57,
          22305.14,
          22305.23,
          22306.91,
          22308.7,
          22310.18,
          22310.56,
          22307.6,
          22304.09,
          22295.27,
          22290.1,
          22265.75,
          22276.62,
          22280.41,
          22285.4,
          22285.8,
          22295.56,
          22311.85,
          22317,
          22311.27,
          22307.41,
          22303.31,
          22321.35,
          22328.21,
          22323.47,
          22322.93,
          22325.4,
          22325.75,
          22323.21,
          22322.33,
          22316.07,
          22321.86,
          22320.64,
          22328.1,
          22325.63,
          22319.34,
          22318.24,
          22320.12,
          22316.59,
          22322.2,
          22319.53,
          22315.79,
          22315.69,
          22314.45,
          22322.1,
          22321.2,
          22320.8,
          22317.82,
          22319.06,
          22316.3,
          22313.75,
          22317.81,
          22320.17,
          22321.77,
          22320.33,
          22321.91,
          22322.11,
          22317.85,
          22317.23,
          22321.05,
          22321.61,
          22320.96,
          22320.66,
          22322.21,
          22323.34,
          22324.41,
          22324.73,
          22322.49,
          22320.12,
          22323.12,
          22322.55,
          22323.39,
          22323.92,
          22321.34,
          22318.89,
          22317.86,
          22317.11,
          22304.6,
          22293.75,
          22295.84,
          22297.79,
          22300.02,
          22291.21,
          22289.81,
          22287.22,
          22290.39,
          22290.84,
          22290.69,
          22288.14,
          22283.88,
          22284.51,
          22282.48,
          22287.24,
          22287.26,
          22289.41,
          22291.81,
          22275.69,
          22265.66,
          22260.99,
          22265.85,
          22267.62,
          22269.93,
          22282.89,
          22280.63,
          22281.92,
          22284.91,
          22282.83,
          22282.88,
          22283.65,
          22263.05,
          22265.48,
          22260.1,
          22250.13,
          22258.27,
          22254.74,
          22264.67,
          22262.62,
          22254.08,
          22242.55,
          22253.07,
          22248.57,
          22248.01,
          22248.98,
          22254.03,
          22250.1,
          22246.4,
          22253.94,
          22262.26,
          22260.33,
          22260.73,
          22245.86,
          22215.25,
          22217.63,
          22221.29,
          22226.89,
          22218.15,
          22206.33,
          22203.29,
          22204.94,
          22223.94,
          22221.21,
          22212.77,
          22218.12,
          22222.4,
          22232.57,
          22251.05,
          22248.8,
          22258.95,
          22249.44,
          22249.36,
          22242.53,
          22234.7,
          22234.25,
          22249.85,
          22249.38,
          22250.68,
          22250.05,
          22235.46,
          22231.65,
          22224.64,
          22225.8,
          22233.01,
          22218.71,
          22215.47,
          22216.1,
          22217.46,
          22195.13,
          22194.28,
          22201.83,
          22194,
          22185.48,
          22191.46,
          22196,
          22211.46,
          22208.39,
          22244.22,
          22239.61,
          22238.97,
          22246.67,
          22238.04,
          22242.54,
          22242.18,
          22248.85,
          22241.09,
          22241.25,
          22237.03,
          22240.66,
          22225.39,
          22227.66,
          22219.41,
          22212.94,
          22203.65,
          22206.23,
          22199.22,
          22201.19,
          22217.2,
          22210.54,
          22206.5,
          22204.77,
          22225.86,
          22222.97,
          22217.31,
          22213.86,
          22209.61,
          22213.95,
          22216.49,
          22232.2,
          22225.43,
          22231.73,
          22229.03,
          22229.48,
          22223.52,
          22219.05,
          22216.22,
          22229.37,
          22221.08,
          22211.55,
          22206.8,
          22216.86,
          22210.8,
          22204.65,
          22199.19,
          22199.76,
          22194.66,
          22189.19,
          22184.6,
          22216.08,
          22207.43,
          22198.48,
          22214.63,
          22212.43,
          22213.31,
          22203.24,
          22209.35,
          22211.24,
          22212.52,
          22211.24,
          22214.07,
          22221.95,
          22225.78,
          22211.72,
          22210.19,
          22211.44,
          22211.76,
          22204.69,
          22208.61,
          22211.53,
          22218.46,
          22222.33,
          22226.9,
          22223.89,
          22222.86,
          22223.37,
          22228.47,
          22235.65,
          22238.89,
          22245.52,
          22245.57,
          22252.07,
          22295.26,
          22334.09,
          22332.02,
          22335.06,
          22329.18,
          22320.43,
          22299.18,
          22312.84,
          22306.31,
          22327.22,
          22329.85,
          22334.89,
          22327.63,
          22327.99,
          22339.31,
          22337.74,
          22352.69,
          22348.42,
          22336.95,
          22332.23,
          22332.55,
          22342.15,
          22335.31,
          22341.08,
          22332.14,
          22313,
          22307.44,
          22309.15,
          22312.71,
          22312.25,
          22305.4,
          22312.17,
          22303.04,
          22296.97,
          22296.72,
          22299.51,
          22304.94,
          22306.79,
          22301.75,
          22318.76,
          22326.97,
          22324.19,
          22328.37,
          22323.26,
          22328.26,
          22316.3,
          22323.61,
          22333.49,
          22326.94,
          22327.78,
          22324.9,
          22319.57,
          22316,
          22316.04,
          22330.59,
          22328.55,
          22326.29,
          22328.69,
          22326.59,
          22327.5,
          22320.36,
          22320,
          22311.5,
          22310.93,
          22311.6,
          22306.82,
          22314.49,
          22315.6,
          22324.24,
          22326.31,
          22331.69,
          22329.04,
          22335.6,
          22339.36,
          22339.68,
          22337.83,
          22330.86,
          22336.34,
          22330.69,
          22332.99,
          22328.85,
          22337.29,
          22338.25,
          22334.09,
          22330.53,
          22332.82,
          22327.29,
          22334.49,
          22338.3,
          22338.89,
          22338.36,
          22336.52,
          22342.45,
          22343.4,
          22343.45,
          22348.61,
          22346.92,
          22341.81,
          22351.21,
          22342.99,
          22343.04,
          22343.41,
          22343.26,
          22344.66,
          22342.63,
          22338.9,
          22342.12,
          22339.84,
          22345.55,
          22340.98,
          22338.65,
          22339.18,
          22341.93,
          22338.63,
          22337.2,
          22336.21,
          22338.4,
          22341.11,
          22340.45,
          22336.43,
          22322.78,
          22316.11,
          22319.6,
          22318.74,
          22322.35,
          22319.23,
          22325.29,
          22324.4,
          22321.02,
          22328.83,
          22330.56,
          22350.57,
          22350.02,
          22343.43,
          22344.63,
          22343.58,
          22340.99,
          22336.16,
          22328.6,
          22328.78,
          22327.45,
          22330.26,
          22323.81,
          22322.07,
          22328.83,
          22331.7,
          22336.72,
          22331.15,
          22333.13,
          22328.07,
          22331.78,
          22327.87,
          22348.35,
          22359.05,
          22386.23,
          22378.62,
          22378.79,
          22381.56,
          22367.65,
          22372.63,
          22366.13,
          22363.39,
          22361.8,
          22358.84,
          22351.01,
          22375.62,
          22382.88,
          22388.91,
          22392.85,
          22391.66,
          22390.05,
          22394.9,
          22407.95,
          22472.09,
          22464.14,
          22553.87,
          22614.2,
          22592.8,
          22539.32,
          22532.35,
          22545.28,
          22560.89,
          22556.06,
          22574.3,
          22608,
          22566.81,
          22600.22,
          22598.37,
          22609.46,
          22584.58,
          22610.74,
          22618.33,
          22609.7,
          22601.42,
          22607.22,
          22609.5,
          22595.14,
          22593.58,
          22577.34,
          22572.96,
          22566.99,
          22557.09,
          22556.11,
          22577.28,
          22566.54,
          22591.06,
          22579.25,
          22590.95,
          22586.82,
          22577.81,
          22586.2,
          22583.3,
          22582.33,
          22582.05,
          22574.77,
          22585.17,
          22600.22,
          22598.42,
          22603.29,
          22592.4,
          22585.75,
          22599.72,
          22590.36,
          22587.59,
          22585.81,
          22589.52,
          22584.98,
          22583.47,
          22572.53,
          22570.4,
          22561.82,
          22559.86,
          22562.52,
          22554.75,
          22556.2,
          22539.03,
          22541.05,
          22545.55,
          22544.8,
          22476.85,
          22433.66,
          22405.94,
          22292.6,
          22268.75,
          22289.68,
          22264.47,
          22260.9,
          22303.79,
          22325.58,
          22345.16,
          22334.64,
          22334.04,
          22308.89,
          22319.21,
          22369.02,
          22360.95,
          22359.67,
          22364.49,
          22349.65,
          22349.18,
          22372.74,
          22357.27,
          22349.36,
          22363.27,
          22356.18,
          22358.8,
          22362.43,
          22369.16,
          22362,
          22359.34,
          22368.53,
          22368.52,
          22366.44,
          22379.5,
          22385.17,
          22394.63,
          22422.43,
          22417.58,
          22397.75,
          22413.76,
          22409.22,
          22409.01,
          22411.14,
          22411.94,
          22406.62,
          22406.48,
          22410.67,
          22409.01,
          22408.09,
          22418.58,
          22413.77,
          22407.97,
          22413.06,
          22406.49,
          22408.77,
          22418.95,
          22414.05,
          22422.39,
          22396.39,
          22402.67,
          22410,
          22418,
          22421.3,
          22421.22,
          22416.37,
          22411.46,
          22415.44,
          22419.76,
          22415.93,
          22409.84,
          22409.08,
          22418.27,
          22416.62,
          22414.25,
          22403.82,
          22410.29,
          22410.65,
          22413.49,
          22409.28,
          22402.32,
          22389.16,
          22397.43,
          22399.26,
          22387.02,
          22378.88,
          22386.02,
          22382.61,
          22401.58,
          22412.28,
          22410.86,
          22413.43,
          22426.08,
          22440,
          22430.3,
          22424.63,
          22433.55,
          22438.74,
          22432.2,
          22435.34,
          22443.84,
          22452,
          22456.79,
          22456.29,
          22448.78,
          22457.32,
          22455.6,
          22446.37,
          22444.27,
          22440.34,
          22446.78,
          22437.43,
          22443.7,
          22444.12,
          22432.04,
          22433.95,
          22436.34,
          22432.59,
          22439.03,
          22446.53,
          22445.93,
          22435.34,
          22416.29,
          22423.54,
          22430.53,
          22430.23,
          22428.73,
          22422.4,
          22428.91,
          22435.72,
          22436.43,
          22441.4,
          22440.01,
          22434.04,
          22439.97,
          22434.82,
          22425.51,
          22428.65,
          22430.74,
          22433.99,
          22444,
          22463.04,
          22458.97,
          22457.06,
          22449.61,
          22445.77,
          22441.24,
          22440.64,
          22438.5,
          22432.84,
          22428.47,
          22427.3,
          22432.46,
          22432.6,
          22424.59,
          22418.87,
          22429.64,
          22422.53,
          22422.72,
          22422.1,
          22423.77,
          22431.5,
          22432.53,
          22431.5,
          22430.75,
          22427.01,
          22427.65,
          22424.57,
          22429.04,
          22430.94,
          22430.37,
          22426.31,
          22430.54,
          22431.28,
          22428.56,
          22430.53,
          22427.5,
          22425.38,
          22419.02,
          22421.42,
          22419.77,
          22424.42,
          22418.74,
          22400.86,
          22409.33,
          22399.31,
          22401.82,
          22414.03,
          22407.98,
          22408.01,
          22402.7,
          22400.03,
          22402.06,
          22409.64,
          22404.11,
          22409.39,
          22412.36,
          22416.33,
          22416.96,
          22412.41,
          22419.5,
          22426.06,
          22422.53,
          22426.58,
          22424.16,
          22415.51,
          22418.99,
          22416.15,
          22417.48,
          22419.35,
          22416.55,
          22413.24,
          22415.54,
          22410.39,
          22416.5,
          22417.83,
          22410.63,
          22411.86,
          22413.81,
          22409.68,
          22411.96,
          22413.29,
          22412.36,
          22403.24,
          22408.74,
          22412.76,
          22417.67,
          22420.78,
          22416.87,
          22412.19,
          22412.76,
          22414.43,
          22417.2,
          22417.27,
          22407.94,
          22406.7,
          22406.9,
          22405.02,
          22405.67,
          22405.71,
          22411.61,
          22417.72,
          22416.16,
          22418.22,
          22415.42,
          22414.66,
          22414.68,
          22417.47,
          22419.46,
          22420.59,
          22421.14,
          22420.55,
          22416.99,
          22411.34,
          22414.07,
          22414.14,
          22415.07,
          22412.87,
          22411.21,
          22409.73,
          22409.1,
          22423.42,
          22424.17,
          22421.03,
          22418.95,
          22418.33,
          22415.5,
          22416.46,
          22409.23,
          22402.51,
          22400.25,
          22384.92,
          22381.96,
          22386.94,
          22392.87,
          22391.49,
          22377.47,
          22383.89,
          22390.4,
          22386.67,
          22391.56,
          22390.59,
          22377.9,
          22383.42,
          22390.68,
          22389.48,
          22399.13,
          22391.74,
          22390.32,
          22383.39,
          22385.78,
          22380.24,
          22384.4,
          22388.41,
          22386.88,
          22389.87,
          22388.18,
          22390.66,
          22389.1,
          22380.22,
          22382,
          22388.88,
          22391.25,
          22388.43,
          22388.96,
          22386.71,
          22385.76,
          22385.39,
          22377.42,
          22383.41,
          22384.88,
          22383.04,
          22378.71,
          22378.01,
          22368.69,
          22371.33,
          22369.45,
          22371.62,
          22372.83,
          22373.12,
          22369.6,
          22374.42,
          22372.06,
          22371.16,
          22371.28,
          22371.02,
          22377.21,
          22378.42,
          22383.13,
          22376.83,
          22369.64,
          22368.5,
          22373.85,
          22380.85,
          22377.07,
          22377.54,
          22379.1,
          22379.47,
          22382.38,
          22387.52,
          22391.9,
          22393.59,
          22387.36,
          22381.44,
          22379.92,
          22380.22,
          22379.2,
          22385.3,
          22375.13,
          22373.91,
          22370.38,
          22370.38,
          22373.41,
          22373.66,
          22371.44,
          22373.78,
          22372.19,
          22367.46,
          22368.53,
          22369.92,
          22369.47,
          22368.65,
          22367.15,
          22368.15,
          22367.74,
          22350.57,
          22350.58,
          22339.55,
          22338.54,
          22343.17,
          22350.09,
          22356.51,
          22349.79,
          22350.9,
          22345.02,
          22349.63,
          22343.35,
          22338.37,
          22341.57,
          22343.76,
          22343.31,
          22337.7,
          22332.92,
          22329.3,
          22335.1,
          22333.52,
          22341.67,
          22337.53,
          22334.74,
          22334.04,
          22328.5,
          22328.15,
          22338.34,
          22351.25,
          22345.35,
          22348.41,
          22348.31,
          22350.31,
          22354.38,
          22367.23,
          22371.27,
          22367.91,
          22371.45,
          22371.59,
          22373.07,
          22373.55,
          22369.9,
          22371.15,
          22383.2,
          22390.31,
          22383.35,
          22377.37,
          22366.35,
          22367.29,
          22365.51,
          22371.36,
          22370.51,
          22369.55,
          22382.7,
          22385.3,
          22394.08,
          22391.52,
          22380.98,
          22382.59,
          22372.97,
          22378.71,
          22375.17,
          22375.6,
          22382,
          22383.85,
          22381.55,
          22378.2,
          22381.56,
          22389.48,
          22379.98,
          22377.17,
          22372.51,
          22373.48,
          22371.9,
          22372.98,
          22373.44,
          22369.18,
          22370.61,
          22374.88,
          22374.63,
          22373.3,
          22369.13,
          22375.58,
          22375.6,
          22375.14,
          22376.31,
          22374.37,
          22367.45,
          22369.28,
          22371.21,
          22370.8,
          22373.18,
          22374.51,
          22374.4,
          22370.52,
          22368.71,
          22365.39,
          22364.34,
          22364.76,
          22365.13,
          22368.4,
          22370.01,
          22370.44,
          22369.3,
          22388.19,
          22413.91,
          22438.79,
          22419,
          22409.7,
          22409.04,
          22396.13
         ],
         "high": [
          22311.65,
          22312.24,
          22311.17,
          22313.66,
          22310.17,
          22307.99,
          22306.53,
          22305.84,
          22306,
          22308.39,
          22308.88,
          22310.81,
          22310.83,
          22310.22,
          22307.32,
          22304.73,
          22296.03,
          22296.71,
          22278.72,
          22280.41,
          22286.03,
          22288.41,
          22302.67,
          22311.85,
          22317.57,
          22317.62,
          22312.77,
          22307.76,
          22323.34,
          22328.21,
          22330.26,
          22327.84,
          22325.4,
          22327.34,
          22326.88,
          22324.3,
          22322.28,
          22322.18,
          22324.3,
          22370,
          22329.72,
          22325.53,
          22319.51,
          22320.15,
          22321.45,
          22323.31,
          22323.61,
          22320.01,
          22316.71,
          22316.42,
          22322.11,
          22322.1,
          22321.43,
          22320.63,
          22321.78,
          22319.19,
          22316.46,
          22317.98,
          22320.65,
          22325.76,
          22322.1,
          22323.6,
          22323.3,
          22321.38,
          22318.23,
          22321.05,
          22322.59,
          22321.8,
          22321.29,
          22322.64,
          22324.31,
          22325.39,
          22325.01,
          22325.21,
          22322.74,
          22324.09,
          22323.84,
          22325.15,
          22324.67,
          22324.3,
          22321.26,
          22318.94,
          22318.27,
          22317.11,
          22304.71,
          22298.22,
          22298.82,
          22300.86,
          22301.5,
          22291.22,
          22290.24,
          22290.39,
          22291.32,
          22291.21,
          22291.46,
          22288.56,
          22289.69,
          22286.41,
          22287.49,
          22287.74,
          22291.04,
          22292.54,
          22293.93,
          22271.15,
          22274.39,
          22273.25,
          22268.78,
          22269.93,
          22283.32,
          22282.68,
          22283.93,
          22289.56,
          22284.91,
          22284.42,
          22283.68,
          22284.61,
          22277.71,
          22277.71,
          22260.14,
          22263.48,
          22259.67,
          22265.16,
          22265.2,
          22262.07,
          22254.67,
          22254.11,
          22256.85,
          22250.86,
          22248.98,
          22254.03,
          22254.21,
          22251.33,
          22254.25,
          22263.86,
          22263.48,
          22261.21,
          22261.47,
          22244.75,
          22225.89,
          22223.61,
          22226.89,
          22226.89,
          22216.91,
          22215.17,
          22210.16,
          22225.2,
          22228.1,
          22225.89,
          22221.07,
          22224.56,
          22234.31,
          22285.61,
          22260.17,
          22258.95,
          22341.15,
          22253.32,
          22255.5,
          22245.03,
          22238.06,
          22249.85,
          22254.21,
          22251.82,
          22250.7,
          22249.96,
          22240,
          22232.23,
          22229.98,
          22234.93,
          22233.01,
          22225.63,
          22219.61,
          22220.08,
          22217.46,
          22203.3,
          22203.26,
          22202.68,
          22194.5,
          22201.78,
          22196.62,
          22214.05,
          22212.7,
          22244.98,
          22308.05,
          22239.61,
          22256.55,
          22253.88,
          22245.28,
          22246.36,
          22249.23,
          22251.23,
          22245.09,
          22243.79,
          22245.69,
          22242.4,
          22228.81,
          22231.35,
          22221.09,
          22216.43,
          22217.08,
          22211.86,
          22205.93,
          22217.2,
          22218.28,
          22215.18,
          22210.18,
          22231.94,
          22237.31,
          22224.01,
          22219.96,
          22223.06,
          22213.95,
          22216.49,
          22235.31,
          22232.2,
          22232.44,
          22236.89,
          22229.84,
          22231.52,
          22223.82,
          22219.99,
          22234.57,
          22233.65,
          22228.29,
          22212.7,
          22218.15,
          22218.08,
          22211.58,
          22206.35,
          22199.76,
          22199.99,
          22195.28,
          22193.49,
          22236.89,
          22223.72,
          22209.84,
          22220.19,
          22219.81,
          22213.31,
          22216.48,
          22209.35,
          22218.28,
          22214.15,
          22218.71,
          22214.78,
          22221.95,
          22238.83,
          22227.62,
          22215.59,
          22214.03,
          22211.76,
          22212.19,
          22213.88,
          22213.05,
          22220.28,
          22222.33,
          22227.44,
          22227.3,
          22226.2,
          22223.59,
          22228.47,
          22341.15,
          22241.94,
          22245.7,
          22246.43,
          22352.94,
          22295.26,
          22405.9,
          22352.94,
          22341.94,
          22334.28,
          22334.21,
          22320.84,
          22312.85,
          22416.05,
          22442.71,
          22334.16,
          22337.29,
          22335.08,
          22328.12,
          22349,
          22345.32,
          22352.69,
          22355.57,
          22348.42,
          22344.85,
          22336.77,
          22344.32,
          22342.31,
          22343.47,
          22344.03,
          22333.68,
          22314.72,
          22317.65,
          22314.35,
          22314.61,
          22313.2,
          22312.17,
          22314.67,
          22306.85,
          22307.37,
          22307.25,
          22304.94,
          22306.79,
          22313.36,
          22318.76,
          22444.68,
          22329.61,
          22329.3,
          22328.11,
          22328.26,
          22330.77,
          22331.55,
          22333.88,
          22333.03,
          22329.06,
          22328.59,
          22324.78,
          22320.11,
          22316.61,
          22331,
          22330.59,
          22330.14,
          22330.23,
          22329.86,
          22327.68,
          22327.38,
          22320.63,
          22320.46,
          22312.16,
          22316.59,
          22312,
          22314.49,
          22316.37,
          22324.24,
          22329.64,
          22342.06,
          22337.93,
          22337.68,
          22339.36,
          22344.13,
          22341.73,
          22338.39,
          22341.06,
          22337.23,
          22333.52,
          22333.19,
          22340.42,
          22338.25,
          22337.73,
          22334.8,
          22333.32,
          22333.23,
          22334.49,
          22454.08,
          22339.35,
          22339.21,
          22337.96,
          22342.45,
          22343.4,
          22343.5,
          22350,
          22348.84,
          22346.78,
          22351.21,
          22351.83,
          22348.99,
          22343.41,
          22348.26,
          22346.14,
          22347.73,
          22343.3,
          22345.17,
          22343.03,
          22347.04,
          22345.43,
          22341.07,
          22340.91,
          22343.09,
          22342.07,
          22341.14,
          22338.08,
          22338.4,
          22343.05,
          22342.22,
          22340.15,
          22336.5,
          22325.04,
          22319.88,
          22320,
          22322.36,
          22322.01,
          22326.26,
          22328.63,
          22324.9,
          22328.92,
          22330.74,
          22355.63,
          22356.78,
          22353.84,
          22344.63,
          22344.38,
          22344.35,
          22346.01,
          22338.34,
          22331.41,
          22328.97,
          22332.13,
          22332.48,
          22324.63,
          22328.83,
          22332.97,
          22336.72,
          22337.31,
          22333.22,
          22333.7,
          22335.12,
          22332.2,
          22349.05,
          22362.08,
          22386.23,
          22387.03,
          22382.16,
          22386.66,
          22382.34,
          22376.33,
          22376,
          22366.77,
          22363.86,
          22363.3,
          22359.51,
          22375.62,
          22391.28,
          22397.09,
          22396.37,
          22391.66,
          22394.95,
          22394.9,
          22407.95,
          22487.13,
          22496.39,
          22573.82,
          22614.2,
          22609.95,
          22543.53,
          22547.01,
          22565.24,
          22560.89,
          22566.18,
          22575.61,
          22616.83,
          22620.38,
          22605.39,
          22602.71,
          22618.46,
          22608.28,
          22610.76,
          22620.86,
          22618.38,
          22609.37,
          22608.78,
          22619.95,
          22607.52,
          22598.96,
          22596.26,
          22577,
          22572.7,
          22569.26,
          22565.52,
          22580.53,
          22588.16,
          22591.06,
          22589.93,
          22590.95,
          22600.67,
          22588.47,
          22597.18,
          22591.98,
          22590.21,
          22585.9,
          22582.55,
          22586.94,
          22607.41,
          22602.12,
          22608.74,
          22601.05,
          22592.81,
          22599.72,
          22606.68,
          22592.7,
          22587.24,
          22592.32,
          22595.73,
          22586.34,
          22583.47,
          22572.69,
          22570.37,
          22567.04,
          22566.83,
          22564.22,
          22559.05,
          22556.23,
          22545.97,
          22545.99,
          22545.84,
          22545.23,
          22482.35,
          22433.66,
          22405.82,
          22293.2,
          22294.55,
          22279.67,
          22268.88,
          22311.25,
          22325.58,
          22349.67,
          22341.21,
          22342.78,
          22336.5,
          22319.21,
          22377.88,
          22371.25,
          22360.38,
          22374.68,
          22363.91,
          22353.18,
          22372.74,
          22370.5,
          22358.34,
          22363.3,
          22368.53,
          22367.41,
          22366.43,
          22374.43,
          22375.42,
          22363.17,
          22513.66,
          22368.67,
          22371.27,
          22403.31,
          22568,
          22396.4,
          22422.43,
          22423.05,
          22417.1,
          22413.76,
          22413.72,
          22420.3,
          22411.14,
          22413.88,
          22415.16,
          22411.68,
          22418.82,
          22413.2,
          22410.92,
          22568.1,
          22529.36,
          22415.38,
          22413.06,
          22413.97,
          22408.77,
          22423.02,
          22423.02,
          22439.2,
          22424.13,
          22406.61,
          22410,
          22423.38,
          22423.36,
          22421.3,
          22421.44,
          22416.61,
          22415.44,
          22421.11,
          22419.82,
          22415.82,
          22409.84,
          22419.83,
          22418.92,
          22416.62,
          22414.56,
          22410.75,
          22418.38,
          22413.49,
          22413.81,
          22411.3,
          22402.32,
          22397.98,
          22400.63,
          22399.85,
          22393.73,
          22386.65,
          22388.19,
          22407.71,
          22412.28,
          22414.13,
          22413.43,
          22426.08,
          22440,
          22460.25,
          22439.41,
          22435.12,
          22443.99,
          22438.82,
          22438.41,
          22446.89,
          22460.58,
          22457.23,
          22456.29,
          22461.55,
          22457.32,
          22459.22,
          22457.09,
          22449.69,
          22445.72,
          22446.78,
          22445.4,
          22444.62,
          22448.95,
          22444.08,
          22438.49,
          22441.52,
          22437.23,
          22441.86,
          22447.52,
          22447.7,
          22445.93,
          22435.92,
          22432.75,
          22430.53,
          22435.09,
          22431.89,
          22429.2,
          22429.66,
          22435.72,
          22438.67,
          22442.4,
          22443.42,
          22440.4,
          22440.14,
          22439.68,
          22436.08,
          22428.65,
          22432.16,
          22438.23,
          22444,
          22467.15,
          22464.7,
          22458.91,
          22458.55,
          22449.61,
          22448.75,
          22444.83,
          22442.88,
          22438.59,
          22433.27,
          22432.44,
          22434.16,
          22433.24,
          22432.6,
          22429.63,
          22429.64,
          22431.29,
          22424.97,
          22423.29,
          22423.77,
          22431.91,
          22434.25,
          22433.18,
          22432.04,
          22432.05,
          22428.57,
          22427.77,
          22429.04,
          22432.98,
          22432.67,
          22434.57,
          22430.87,
          22434.37,
          22432.27,
          22430.9,
          22430.34,
          22428.4,
          22426.92,
          22421.7,
          22422.17,
          22425.38,
          22424.35,
          22418.85,
          22409.83,
          22413.68,
          22402.96,
          22414.03,
          22414.63,
          22409.41,
          22408.59,
          22402.27,
          22402.71,
          22409.64,
          22409.58,
          22409.39,
          22509.4,
          22418.91,
          22418.32,
          22422.39,
          22419.62,
          22426.27,
          22428.46,
          22426.78,
          22426.42,
          22423.75,
          22419,
          22419.91,
          22419.66,
          22419.35,
          22419.12,
          22417.49,
          22416.61,
          22415.54,
          22416.5,
          22420.49,
          22417.83,
          22415.71,
          22416.62,
          22416.69,
          22413.18,
          22413.29,
          22413.4,
          22414.03,
          22409.92,
          22413.9,
          22417.7,
          22423.31,
          22421.26,
          22417.01,
          22413.83,
          22414.83,
          22417.2,
          22417.84,
          22417.87,
          22409.43,
          22409.12,
          22408.11,
          22405.81,
          22407.66,
          22412.96,
          22417.79,
          22420.62,
          22418.26,
          22420.12,
          22415.78,
          22416.02,
          22418.76,
          22423.16,
          22420.72,
          22422.24,
          22421.32,
          22420.86,
          22417.75,
          22416.2,
          22414.14,
          22415.45,
          22415.33,
          22414.06,
          22411.48,
          22410.2,
          22423.49,
          22424.73,
          22424.46,
          22421.66,
          22419.67,
          22418.67,
          22418.69,
          22416.58,
          22409.04,
          22405.11,
          22400.25,
          22387.03,
          22390.2,
          22392.99,
          22395.86,
          22390.84,
          22383.89,
          22393.91,
          22391.26,
          22391.56,
          22395.41,
          22390.26,
          22384.05,
          22393.43,
          22393.15,
          22400.47,
          22400.63,
          22392.37,
          22390.86,
          22388.55,
          22388.29,
          22384.4,
          22390.72,
          22390.78,
          22389.87,
          22392.57,
          22390.66,
          22390.18,
          22389.06,
          22382,
          22388.88,
          22393.01,
          22391.26,
          22388.96,
          22389.11,
          22386.8,
          22387.02,
          22385.94,
          22385.73,
          22384.88,
          22384.81,
          22383.13,
          22378.22,
          22377.5,
          22371.65,
          22375.84,
          22371.93,
          22372.83,
          22375.27,
          22372.88,
          22374.42,
          22373.88,
          22372.06,
          22372.5,
          22372.52,
          22377.44,
          22378.42,
          22383.13,
          22382.92,
          22377.73,
          22375.23,
          22373.85,
          22381.54,
          22381.92,
          22378.75,
          22379.34,
          22379.92,
          22383.03,
          22387.52,
          22391.9,
          22393.59,
          22396.97,
          22388.73,
          22382.5,
          22380.32,
          22380.44,
          22385.94,
          22385.62,
          22375.46,
          22374.11,
          22374.09,
          22373.91,
          22374.36,
          22375.05,
          22373.78,
          22373.75,
          22373.93,
          22368.54,
          22371.06,
          22371.65,
          22369.52,
          22370.29,
          22368.27,
          22369.09,
          22367.17,
          22351.28,
          22352.16,
          22345.23,
          22351.42,
          22351.11,
          22361.28,
          22357.2,
          22355.94,
          22351.16,
          22351.61,
          22352.3,
          22343.58,
          22346.89,
          22344.55,
          22344.35,
          22343.31,
          22339.14,
          22334.38,
          22335.1,
          22339.22,
          22341.67,
          22341.65,
          22340.26,
          22335.31,
          22334.53,
          22329.1,
          22340.33,
          22352.12,
          22351.03,
          22348.78,
          22350.66,
          22354.55,
          22354.38,
          22370.48,
          22371.27,
          22375.05,
          22371.52,
          22375.35,
          22373.07,
          22373.55,
          22374.03,
          22373.85,
          22383.2,
          22392.42,
          22390.16,
          22384.92,
          22378.79,
          22367.29,
          22369.04,
          22372.45,
          22371.51,
          22371.95,
          22387.86,
          22389.68,
          22395.01,
          22394.47,
          22388.94,
          22385.4,
          22385.02,
          22378.71,
          22377.47,
          22377.45,
          22383.76,
          22385.94,
          22384.45,
          22381.08,
          22383.3,
          22391.8,
          22389.26,
          22380.15,
          22377.57,
          22374.31,
          22373.02,
          22374.57,
          22373.44,
          22374.07,
          22372.98,
          22375.32,
          22375.33,
          22374.86,
          22373.64,
          22375.58,
          22405.33,
          22376.4,
          22376.31,
          22376.52,
          22370.29,
          22369.64,
          22371.21,
          22373.8,
          22373.43,
          22375.67,
          22374.51,
          22375.8,
          22371.46,
          22369.16,
          22367.5,
          22366.69,
          22365.86,
          22368.72,
          22370.87,
          22371.83,
          22371.31,
          22388.84,
          22424.48,
          22448.15,
          22440.27,
          22423.81,
          22421.84,
          22409.55
         ],
         "low": [
          22306.39,
          22309.08,
          22307.65,
          22308.36,
          22306.8,
          22302.59,
          22304.35,
          22304.29,
          22304.21,
          22304.39,
          22305.68,
          22308.39,
          22308.55,
          22306.55,
          22303.98,
          22295.27,
          22280.31,
          22250,
          22264.48,
          22274.56,
          22278.68,
          22284.34,
          22285.8,
          22286.14,
          22309.77,
          22311.27,
          22299.23,
          22300.25,
          22302.82,
          22321.85,
          22321.05,
          22322.93,
          22321.02,
          22324,
          22322.84,
          22319.47,
          22314.94,
          22316.05,
          22320.22,
          22322.49,
          22324.88,
          22319.28,
          22317.91,
          22318.08,
          22316.53,
          22316.6,
          22319.53,
          22315.48,
          22315.29,
          22314.44,
          22314.44,
          22320.4,
          22317.51,
          22317.76,
          22317.84,
          22315.79,
          22312.6,
          22314.24,
          22314.69,
          22314.69,
          22320.12,
          22320.66,
          22321.07,
          22316.79,
          22316.38,
          22316.8,
          22321.22,
          22320.96,
          22320.34,
          22320.6,
          22321.64,
          22322.68,
          22324.09,
          22321.6,
          22317.82,
          22319.1,
          22320.8,
          22322.65,
          22323.32,
          22320.4,
          22318.46,
          22317.59,
          22316.25,
          22304.21,
          22293.75,
          22293.6,
          22295.86,
          22296.64,
          22291.05,
          22283.97,
          22287.15,
          22286.99,
          22288.11,
          22289.97,
          22288.11,
          22281.32,
          22283.82,
          22282.47,
          22280.99,
          22286.31,
          22287.26,
          22289.2,
          22240.72,
          22253.37,
          22260.97,
          22255.72,
          22264.49,
          22263.91,
          22269.93,
          22277.51,
          22279.85,
          22278.24,
          22282.66,
          22282.16,
          22281.86,
          22259.54,
          22263.05,
          22248.18,
          22248.82,
          22250.04,
          22254.74,
          22253.97,
          22260.6,
          22252.97,
          22238.07,
          22242.03,
          22248.57,
          22243.25,
          22244.89,
          22247.81,
          22250.1,
          22246.4,
          22246.07,
          22253.94,
          22258.33,
          22259.65,
          22245.86,
          22213.01,
          22210.1,
          22218.06,
          22218.93,
          22215.25,
          22201.13,
          22198.6,
          22195.84,
          22202.55,
          22192.29,
          22211.43,
          22211.22,
          22214.32,
          22216.09,
          22229.18,
          22242.05,
          22247.93,
          22241.9,
          22234.3,
          22190.2,
          22177.74,
          22174.61,
          22232.26,
          22247.24,
          22246.97,
          22242.54,
          22235.46,
          22221.12,
          22224.64,
          22224.46,
          22225.8,
          22214.97,
          22189.08,
          22214.36,
          22215.6,
          22194.56,
          22186.51,
          22196.09,
          22193.46,
          22185.48,
          22187.3,
          22190.16,
          22193.55,
          22207.48,
          22208.58,
          22216.15,
          22208.37,
          22239.61,
          22235.55,
          22236.94,
          22241.77,
          22241.61,
          22241.09,
          22238.78,
          22237.03,
          22240.42,
          22224.72,
          22218.6,
          22219.27,
          22206.9,
          22199.16,
          22201.87,
          22199.15,
          22197.26,
          22196.82,
          22194.03,
          22205.19,
          22203.28,
          22204.77,
          22202.88,
          22215.88,
          22210.42,
          22208.23,
          22208,
          22209.37,
          22215.1,
          22222.93,
          22222.56,
          22226.48,
          22220.44,
          22220.7,
          22212.46,
          22213.72,
          22215.77,
          22221.08,
          22210.71,
          22198.56,
          22203.84,
          22207.8,
          22203.02,
          22199.12,
          22197.58,
          22194.66,
          22186.46,
          22183.01,
          22177.28,
          22203.21,
          22195.08,
          22198.48,
          22208.29,
          22198.29,
          22201.49,
          22200,
          22206.17,
          22206.84,
          22208.15,
          22208.15,
          22210.46,
          22217.38,
          22209.85,
          22209.67,
          22209.36,
          22208.91,
          22204.67,
          22204.34,
          22206.16,
          22210.66,
          22215.06,
          22220.8,
          22220.46,
          22222.64,
          22221.74,
          22223.39,
          22229.49,
          22234.5,
          22238.55,
          22241.85,
          22244.81,
          22251.3,
          22256.19,
          22318.43,
          22330.12,
          22329.17,
          22313.55,
          22263.16,
          22263.16,
          22300.55,
          22301.02,
          22316.09,
          22315.74,
          22325.29,
          22324.8,
          22326.55,
          22337.74,
          22335.36,
          22342.5,
          22334.99,
          22331.5,
          22328.65,
          22332.03,
          22332,
          22334.46,
          22332.14,
          22313,
          22304.83,
          22302.71,
          22304.98,
          22310.81,
          22305.09,
          22295.88,
          22302.83,
          22296.52,
          22295.44,
          22295.61,
          22299.21,
          22302.5,
          22291.84,
          22301.46,
          22308.74,
          22305.98,
          22322.34,
          22322.97,
          22322.55,
          22315.79,
          22312.84,
          22321.74,
          22326.59,
          22325.67,
          22324.75,
          22318.93,
          22312.68,
          22309.36,
          22313.91,
          22324.07,
          22322.85,
          22326.22,
          22326.15,
          22326.1,
          22319.23,
          22317.86,
          22311.16,
          22307.64,
          22310.36,
          22305.01,
          22306.31,
          22313.66,
          22313.6,
          22315.51,
          22326.33,
          22326.29,
          22329.15,
          22335.14,
          22339.14,
          22337.59,
          22329.24,
          22331.28,
          22330.35,
          22331.18,
          22327.81,
          22328.85,
          22333.3,
          22334.08,
          22330.29,
          22328.11,
          22325.94,
          22326.98,
          22333.35,
          22332.6,
          22338.2,
          22335.47,
          22336.02,
          22341.84,
          22342.18,
          22343.33,
          22346.04,
          22341.18,
          22342.04,
          22342.5,
          22343.04,
          22341.7,
          22343.19,
          22343.06,
          22342.63,
          22338.23,
          22338.9,
          22339.26,
          22339.39,
          22339.32,
          22338.41,
          22337.46,
          22339.39,
          22337.81,
          22337.2,
          22335.29,
          22335.73,
          22338.4,
          22339.72,
          22334.94,
          22315.89,
          22315.86,
          22315.88,
          22316.19,
          22317.55,
          22315.39,
          22319.23,
          22323.8,
          22319.69,
          22320.96,
          22327.27,
          22330.56,
          22349.49,
          22341.4,
          22335.51,
          22336.55,
          22339.32,
          22336.16,
          22323.41,
          22328.78,
          22322.25,
          22324.41,
          22323.81,
          22320.66,
          22322.12,
          22330.65,
          22330.3,
          22331.05,
          22330.81,
          22327.63,
          22327.66,
          22327.32,
          22325.89,
          22348.34,
          22361.23,
          22376.02,
          22376.44,
          22376.61,
          22367.43,
          22366.88,
          22366.13,
          22360.51,
          22357.05,
          22358.84,
          22349.55,
          22351.01,
          22352.86,
          22377.62,
          22386.6,
          22384.71,
          22387.44,
          22389.12,
          22389.55,
          22391.31,
          22454.01,
          22390.66,
          22546.21,
          22585.85,
          22519.28,
          22531.35,
          22542.05,
          22542.9,
          22553.34,
          22553.19,
          22573.96,
          22560.72,
          22579.69,
          22591.54,
          22602.93,
          22584.1,
          22584.44,
          22603.74,
          22607.71,
          22601.14,
          22597.43,
          22609.5,
          22595.14,
          22593.58,
          22572.14,
          22567.06,
          22557.41,
          22506.72,
          22555.35,
          22553.52,
          22506.72,
          22567.53,
          22578.35,
          22573.19,
          22586.12,
          22576.92,
          22577.17,
          22582.91,
          22582.33,
          22578.71,
          22574.77,
          22574.18,
          22529.36,
          22594.33,
          22597.32,
          22590.82,
          22578.75,
          22586.74,
          22589.39,
          22585.4,
          22585.27,
          22585.85,
          22584.98,
          22505.51,
          22572.53,
          22569,
          22561.12,
          22559.05,
          22559.56,
          22552.66,
          22553.92,
          22536.38,
          22538.1,
          22540.36,
          22542.05,
          22474.2,
          22422.18,
          22393.67,
          22202.46,
          22233.02,
          22257.59,
          22257.6,
          22236.24,
          22202.46,
          22295.2,
          22296.62,
          22320.59,
          22321.52,
          22303.15,
          22307.23,
          22319.21,
          22357.35,
          22342.29,
          22358.99,
          22344.02,
          22343.33,
          22345.24,
          22354.88,
          22346.63,
          22349.92,
          22351.04,
          22353.51,
          22359.01,
          22362,
          22362,
          22359.06,
          22359.48,
          22366.28,
          22366.03,
          22364.88,
          22378.32,
          22378.6,
          22394.63,
          22417.58,
          22397.75,
          22393.51,
          22391.95,
          22407.96,
          22405.06,
          22407.13,
          22404.29,
          22184.68,
          22402.3,
          22407.7,
          22406.9,
          22408.09,
          22413.57,
          22403.97,
          22404.22,
          22406.49,
          22406.13,
          22407.52,
          22407.87,
          22395.68,
          22373.29,
          22396.73,
          22400.14,
          22405.29,
          22415.42,
          22417.55,
          22416.37,
          22411.46,
          22410.84,
          22412.99,
          22415.58,
          22409.83,
          22403.8,
          22408.64,
          22416.62,
          22412.07,
          22402.99,
          22403.43,
          22407.89,
          22407.59,
          22407.17,
          22401.48,
          22388.68,
          22385.88,
          22396.68,
          22385.9,
          22378.22,
          22373.58,
          22379.09,
          22378.04,
          22397.73,
          22409.4,
          22408.85,
          22409.1,
          22418.46,
          22416.83,
          22414.82,
          22422.32,
          22426.97,
          22431.83,
          22431.11,
          22435.76,
          22443.73,
          22449.59,
          22449.57,
          22443.97,
          22443.43,
          22453.33,
          22443.04,
          22444.27,
          22435.65,
          22440.09,
          22434.53,
          22435.93,
          22443.7,
          22432.04,
          22429.71,
          22431.68,
          22431.78,
          22432.15,
          22438.57,
          22445.87,
          22434.79,
          22410.98,
          22414.69,
          22412.11,
          22428.56,
          22427.62,
          22422.4,
          22422.4,
          22429.42,
          22434.31,
          22436.62,
          22438.53,
          22429.16,
          22430.6,
          22433.66,
          22425.51,
          22423.03,
          22426.78,
          22430.95,
          22435.32,
          22443.93,
          22452.66,
          22450.43,
          22448.37,
          22443.57,
          22440.56,
          22440.64,
          22436.41,
          22431.79,
          22426.76,
          22427.14,
          22426.66,
          22427.73,
          22422.93,
          22418.54,
          22416.84,
          22422.53,
          22421.86,
          22421.49,
          22421.39,
          22423.77,
          22429.88,
          22431.02,
          22430.75,
          22425.59,
          22422.72,
          22424.36,
          22422.6,
          22427.57,
          22429.66,
          22426.31,
          22425.6,
          22427.81,
          22427.36,
          22427.22,
          22427.47,
          22425.38,
          22419.02,
          22415.31,
          22418.46,
          22419.15,
          22418.38,
          22392.46,
          22400.32,
          22398.08,
          22370.87,
          22402.17,
          22407.7,
          22407.32,
          22402.09,
          22399.4,
          22399.04,
          22398.62,
          22403.59,
          22404.11,
          22408.64,
          22410.44,
          22416.23,
          22411.56,
          22412.38,
          22419.75,
          22421.82,
          22422.31,
          22421.99,
          22414.71,
          22415.44,
          22416.15,
          22415.49,
          22416.06,
          22414.81,
          22410.96,
          22413.16,
          22410.39,
          22409.68,
          22409.56,
          22410.63,
          22409.44,
          22411.43,
          22409.28,
          22410.18,
          22409.92,
          22409.42,
          22402.94,
          22403.41,
          22407.51,
          22410.66,
          22416.78,
          22416.87,
          22411.42,
          22410.71,
          22412.06,
          22412.64,
          22415.35,
          22405.76,
          22405.23,
          22406.72,
          22404.69,
          22403.81,
          22404.27,
          22405.89,
          22411.41,
          22416.16,
          22415.67,
          22415.26,
          22413.77,
          22413.84,
          22415.01,
          22417.61,
          22417.96,
          22420.67,
          22419.36,
          22416.99,
          22407.75,
          22409.31,
          22409.88,
          22411.06,
          22410.58,
          22411.21,
          22409.67,
          22408.58,
          22409.29,
          22422.78,
          22420.7,
          22415.81,
          22417.3,
          22415.5,
          22415.08,
          22409.23,
          22400.27,
          22399.46,
          22290.7,
          22381.96,
          22381.96,
          22382.05,
          22391.49,
          22377.47,
          22368.15,
          22384.07,
          22385.66,
          22386.12,
          22389.64,
          22375.49,
          22371.27,
          22381.71,
          22388.55,
          22389.4,
          22390.1,
          22389.3,
          22382.87,
          22382.22,
          22376.01,
          22377.51,
          22382.87,
          22385.47,
          22385.56,
          22388.08,
          22388.09,
          22388.95,
          22377.82,
          22379.33,
          22381.61,
          22387.44,
          22386.17,
          22386,
          22384.92,
          22385.67,
          22385.01,
          22376.35,
          22377.42,
          22382.28,
          22382.18,
          22376.72,
          22376.08,
          22368.59,
          22362.74,
          22369.45,
          22367.96,
          22370.98,
          22372.11,
          22368.24,
          22369.28,
          22370.23,
          22369.88,
          22370.57,
          22370.76,
          22370.55,
          22375.33,
          22378.01,
          22376.46,
          22369.31,
          22367.37,
          22367.94,
          22374.1,
          22376.84,
          22376.73,
          22377.35,
          22378.27,
          22379.11,
          22382.82,
          22387.38,
          22391,
          22387.36,
          22379.73,
          22379.61,
          22371.81,
          22376.89,
          22379.22,
          22374.73,
          22372.07,
          22368.88,
          22370.38,
          22370.09,
          22372.65,
          22370.81,
          22370.05,
          22371.56,
          22367.46,
          22365.68,
          22368.68,
          22369.47,
          22366.07,
          22367.14,
          22364.3,
          22366.04,
          22340.99,
          22341.67,
          22339.4,
          22338.54,
          22337.43,
          22344.01,
          22346.26,
          22347.09,
          22348.75,
          22345.02,
          22340.18,
          22341.37,
          22336.78,
          22338.37,
          22337.67,
          22343.01,
          22337.28,
          22329.8,
          22328.61,
          22328.2,
          22329.96,
          22328.32,
          22331.63,
          22333.98,
          22333.34,
          22327.7,
          22317.8,
          22328.23,
          22335.79,
          22343.35,
          22343.26,
          22348.04,
          22346.37,
          22349.66,
          22351.36,
          22366.4,
          22367.19,
          22366.77,
          22370.84,
          22370.02,
          22368.65,
          22369.9,
          22369.95,
          22371.73,
          22383.18,
          22383.35,
          22377.11,
          22235.91,
          22362.63,
          22365.51,
          22364.58,
          22365.32,
          22367.45,
          22369.33,
          22378.39,
          22383.55,
          22387.47,
          22380.3,
          22380.8,
          22372.67,
          22372.62,
          22374.21,
          22375.34,
          22374.28,
          22379.46,
          22381.35,
          22376.05,
          22378.22,
          22382.13,
          22378.46,
          22376.08,
          22371.58,
          22372.46,
          22369.73,
          22372.01,
          22372.41,
          22369.18,
          22368.74,
          22370.53,
          22371.7,
          22373.3,
          22365.96,
          22367.79,
          22373.97,
          22374.85,
          22374.71,
          22374.37,
          22367.26,
          22367.31,
          22369.17,
          22370.8,
          22370.48,
          22372.52,
          22371.34,
          22370.52,
          22368.43,
          22365.39,
          22364.3,
          22364.51,
          22363.77,
          22365.47,
          22367.6,
          22369.95,
          22369.3,
          22369.07,
          22368.73,
          22409.76,
          22368.35,
          22367.47,
          22408.77,
          22395.42
         ],
         "open": [
          22310.87,
          22309.08,
          22310.12,
          22308.62,
          22310.12,
          22307.48,
          22305.56,
          22305.57,
          22304.69,
          22305.23,
          22306.91,
          22308.57,
          22310.19,
          22310.22,
          22307.03,
          22304.09,
          22294.88,
          22290.1,
          22265.77,
          22276.62,
          22280.3,
          22284.49,
          22285.94,
          22295.56,
          22311.48,
          22317.62,
          22310.7,
          22307.34,
          22303.18,
          22321.85,
          22327.51,
          22323.61,
          22324.02,
          22325.17,
          22326.24,
          22323.1,
          22321.81,
          22316.52,
          22321.86,
          22370,
          22328.99,
          22325.51,
          22319.34,
          22318.08,
          22319.79,
          22316.6,
          22322.2,
          22319.7,
          22315.79,
          22315.69,
          22314.45,
          22321.82,
          22321.14,
          22320.63,
          22317.84,
          22319.04,
          22316.3,
          22314.33,
          22317.67,
          22320.17,
          22322.1,
          22320.66,
          22321.49,
          22321.29,
          22317.85,
          22317.21,
          22321.23,
          22321.61,
          22320.88,
          22320.67,
          22321.95,
          22322.69,
          22324.44,
          22324.97,
          22322.59,
          22320.25,
          22323.16,
          22322.65,
          22323.45,
          22323.92,
          22321.26,
          22318.89,
          22317.86,
          22316.97,
          22303.99,
          22293.6,
          22296.28,
          22297.74,
          22299.99,
          22290.54,
          22289.85,
          22287.22,
          22290.66,
          22290.84,
          22290.69,
          22288.41,
          22283.82,
          22284.56,
          22282.19,
          22286.84,
          22287.36,
          22289.41,
          22291.65,
          22270.76,
          22265.5,
          22260.99,
          22265.85,
          22266.45,
          22269.93,
          22282.68,
          22280.73,
          22281.29,
          22284.91,
          22282.8,
          22283.13,
          22283.65,
          22263.07,
          22265.68,
          22260.1,
          22250.13,
          22257.88,
          22254.74,
          22264.38,
          22262.07,
          22254.08,
          22242.97,
          22253.07,
          22247.63,
          22248.01,
          22249.68,
          22253.5,
          22250.12,
          22246.3,
          22253.94,
          22262.24,
          22260.33,
          22260.47,
          22241.15,
          22215.25,
          22221.47,
          22221.24,
          22226.89,
          22216.91,
          22206.33,
          22203.63,
          22204.94,
          22223.94,
          22213.73,
          22212.77,
          22218.18,
          22220.83,
          22232.57,
          22251.44,
          22248.85,
          22258.23,
          22249.68,
          22247.91,
          22242.4,
          22234.71,
          22234.25,
          22250.59,
          22248.7,
          22250.52,
          22249.96,
          22235.7,
          22231.65,
          22224.64,
          22225.8,
          22233.01,
          22218.71,
          22215.04,
          22215.64,
          22217.46,
          22195.13,
          22196.34,
          22202.59,
          22194.41,
          22187.3,
          22193.11,
          22195.5,
          22210.92,
          22208.75,
          22244.85,
          22239.61,
          22239.61,
          22242.02,
          22237.79,
          22242.52,
          22241.83,
          22248.85,
          22241.09,
          22241.2,
          22243.14,
          22240.66,
          22219.14,
          22227.43,
          22219.1,
          22212.53,
          22202.68,
          22206.84,
          22199.22,
          22201.63,
          22196.82,
          22210.54,
          22206.5,
          22204.77,
          22224.78,
          22222.97,
          22217.31,
          22214.62,
          22210.66,
          22213.99,
          22217.34,
          22232.2,
          22225.43,
          22231.81,
          22229.18,
          22229.77,
          22223.73,
          22219.05,
          22216.22,
          22230.59,
          22228.29,
          22211.88,
          22206.8,
          22217.29,
          22210.35,
          22204.65,
          22199.69,
          22199.76,
          22195.28,
          22189.19,
          22230.72,
          22219.51,
          22207.68,
          22198.48,
          22214.62,
          22212.67,
          22208.58,
          22201.84,
          22209.35,
          22211.24,
          22212.52,
          22212.76,
          22213.65,
          22217.38,
          22225.78,
          22212.51,
          22210.26,
          22211.15,
          22212.13,
          22212.16,
          22209.01,
          22211.48,
          22218.35,
          22221.8,
          22226.96,
          22224.04,
          22222.89,
          22223.39,
          22229.57,
          22235.69,
          22238.55,
          22244.72,
          22245.57,
          22251.3,
          22297.27,
          22334.56,
          22330.75,
          22334.28,
          22330.11,
          22319.8,
          22299.88,
          22312.84,
          22306.31,
          22316.21,
          22329.86,
          22335.08,
          22327.66,
          22327.41,
          22338.52,
          22337.76,
          22352.69,
          22348.42,
          22337.1,
          22332.23,
          22332.55,
          22342.31,
          22335.32,
          22340.97,
          22331.97,
          22312.36,
          22307.44,
          22309.28,
          22312.82,
          22312.43,
          22305.78,
          22312.17,
          22303.24,
          22296.97,
          22296.52,
          22299.51,
          22304.94,
          22307.29,
          22301.76,
          22319.32,
          22327.9,
          22324.02,
          22328.11,
          22323.12,
          22328.94,
          22316.3,
          22322.2,
          22333.03,
          22326.9,
          22327.82,
          22324.75,
          22319.6,
          22316.06,
          22316.84,
          22330.59,
          22328.55,
          22326.63,
          22328.79,
          22326.33,
          22327.37,
          22320.47,
          22320,
          22311.47,
          22310.88,
          22311.61,
          22306.31,
          22314.71,
          22315.63,
          22324.38,
          22326.63,
          22332.03,
          22329.48,
          22336.04,
          22339.4,
          22339.68,
          22337.67,
          22331.77,
          22336.34,
          22331.18,
          22332.69,
          22328.85,
          22336.08,
          22337.73,
          22334.35,
          22330.63,
          22332.82,
          22327.52,
          22334.49,
          22338.3,
          22338.3,
          22337.96,
          22336.8,
          22342.45,
          22343.2,
          22343.33,
          22348.84,
          22346.78,
          22342.04,
          22351.32,
          22343.56,
          22342.97,
          22343.41,
          22343.34,
          22344.66,
          22342.63,
          22338.9,
          22342.58,
          22340.09,
          22345.38,
          22340.98,
          22338.75,
          22339.39,
          22341.86,
          22338.76,
          22337.2,
          22335.96,
          22338.4,
          22340.95,
          22339.79,
          22335.72,
          22323.13,
          22315.88,
          22319.6,
          22318.38,
          22321.9,
          22319.23,
          22325.29,
          22324.25,
          22320.96,
          22328.45,
          22330.56,
          22350.8,
          22350.06,
          22343.43,
          22344.38,
          22343.37,
          22340.65,
          22337.91,
          22329.1,
          22328.78,
          22326.9,
          22329.59,
          22323.81,
          22322.2,
          22330.65,
          22331.77,
          22337.08,
          22331.69,
          22333.44,
          22328.05,
          22331.9,
          22327.87,
          22348.4,
          22361.48,
          22387.03,
          22380.66,
          22376.61,
          22381.5,
          22367.9,
          22372.52,
          22366.04,
          22363.39,
          22361.91,
          22358.84,
          22351.01,
          22373.26,
          22379.04,
          22388.91,
          22390.86,
          22391.66,
          22391.16,
          22393.85,
          22408.36,
          22454.94,
          22463.8,
          22551.45,
          22595.17,
          22520.29,
          22539.4,
          22556.59,
          22546.02,
          22561.66,
          22555.53,
          22573.96,
          22611.31,
          22580.22,
          22598.07,
          22605.17,
          22608.13,
          22585.19,
          22606.8,
          22618.38,
          22609.18,
          22601.42,
          22616,
          22607.3,
          22595.14,
          22594.47,
          22577,
          22572.41,
          22567.69,
          22557.09,
          22556.11,
          22577.3,
          22567.53,
          22589.93,
          22579.62,
          22600.67,
          22587.84,
          22577.88,
          22586.3,
          22583.32,
          22582.28,
          22582.4,
          22574.77,
          22584.46,
          22600.22,
          22598.42,
          22601.05,
          22592.81,
          22586.74,
          22599.72,
          22590.26,
          22587.24,
          22586.13,
          22589.82,
          22584.98,
          22583.47,
          22572.41,
          22570.17,
          22561.82,
          22559.98,
          22561.5,
          22555.6,
          22556.22,
          22539.03,
          22541.05,
          22545.42,
          22544.8,
          22476.85,
          22427.63,
          22405.82,
          22293.2,
          22269.98,
          22279.53,
          22266.51,
          22261.98,
          22300.71,
          22317.73,
          22341.17,
          22334.92,
          22334.45,
          22309.45,
          22319.21,
          22368.77,
          22360.38,
          22360.38,
          22363.91,
          22348.45,
          22350.19,
          22368.51,
          22357,
          22349.92,
          22363.3,
          22356.04,
          22359.01,
          22362.1,
          22369.74,
          22362,
          22360.91,
          22368.51,
          22368.67,
          22365.72,
          22404.05,
          22385.17,
          22394.63,
          22422.43,
          22416.84,
          22397.06,
          22413.32,
          22409.22,
          22408.88,
          22411.64,
          22411.94,
          22406.62,
          22406.34,
          22410.67,
          22409.16,
          22408.09,
          22419.05,
          22413.75,
          22407.97,
          22412.88,
          22406.49,
          22408.77,
          22421.96,
          22415.76,
          22422.39,
          22396.73,
          22403.4,
          22406.8,
          22416.31,
          22421.3,
          22421.22,
          22416.61,
          22412.51,
          22413.18,
          22419.17,
          22415.82,
          22409.84,
          22408.96,
          22418.52,
          22416.62,
          22414.4,
          22403.82,
          22410.29,
          22409.37,
          22413.74,
          22411.3,
          22402.32,
          22389.16,
          22397.36,
          22399.53,
          22387.38,
          22378.88,
          22386.34,
          22383.45,
          22401.39,
          22412.28,
          22411.37,
          22413.43,
          22426.16,
          22440,
          22428.18,
          22425.39,
          22426.98,
          22438.49,
          22432.82,
          22435.76,
          22445.06,
          22451.18,
          22455.75,
          22456.46,
          22445.66,
          22457.34,
          22455.6,
          22446.37,
          22444.27,
          22440.34,
          22445.14,
          22438.11,
          22443.7,
          22443.9,
          22432.04,
          22434.04,
          22436.58,
          22432.52,
          22440.77,
          22445.88,
          22445.93,
          22435.13,
          22416.62,
          22423.54,
          22431.6,
          22430.41,
          22428.75,
          22422.4,
          22429.42,
          22438.41,
          22436.86,
          22441.2,
          22439.68,
          22434.04,
          22438.68,
          22435.73,
          22425.16,
          22428.73,
          22430.95,
          22435.58,
          22444.8,
          22463.49,
          22458.44,
          22456.8,
          22449.61,
          22445.77,
          22441.2,
          22440.58,
          22436.41,
          22432.84,
          22428.47,
          22427.42,
          22429.04,
          22432.6,
          22426.25,
          22419.08,
          22430.5,
          22423.01,
          22422.58,
          22422.1,
          22423.77,
          22431.5,
          22432.53,
          22431.42,
          22430.01,
          22427.01,
          22427.42,
          22424.57,
          22432.98,
          22430.36,
          22430.4,
          22426.96,
          22431.03,
          22431.62,
          22428.4,
          22430.34,
          22427.68,
          22426.7,
          22419.33,
          22421.42,
          22419.77,
          22423.99,
          22418.74,
          22400.86,
          22409.95,
          22398.68,
          22402.56,
          22414.03,
          22407.59,
          22407.42,
          22402.11,
          22400.24,
          22402.06,
          22409.57,
          22404.11,
          22409.39,
          22411.55,
          22416.35,
          22416.89,
          22412.53,
          22419.75,
          22426.4,
          22422.97,
          22426.42,
          22423.75,
          22415.51,
          22419,
          22415.49,
          22416.98,
          22419.1,
          22417.04,
          22413.16,
          22415.54,
          22410.47,
          22409.7,
          22417.83,
          22410.95,
          22411.59,
          22413.81,
          22410.18,
          22412.05,
          22413.3,
          22413,
          22403.55,
          22407.61,
          22412.15,
          22417.33,
          22420.77,
          22417.01,
          22413.73,
          22413.07,
          22414.02,
          22416.86,
          22417.27,
          22407.94,
          22406.76,
          22406.9,
          22405.02,
          22405.75,
          22405.89,
          22411.55,
          22419.22,
          22415.86,
          22418.22,
          22415.59,
          22414.74,
          22415.01,
          22417.61,
          22419.46,
          22420.67,
          22420.97,
          22420.23,
          22416.27,
          22411.34,
          22414.07,
          22414.06,
          22415.07,
          22412.08,
          22411.15,
          22409.73,
          22409.29,
          22422.86,
          22424.46,
          22419.88,
          22418.84,
          22417.93,
          22415.78,
          22416.46,
          22408.8,
          22402.76,
          22400.25,
          22384.58,
          22381.96,
          22386.51,
          22392.93,
          22390.84,
          22377.17,
          22384.07,
          22390.23,
          22386.67,
          22391.27,
          22390.25,
          22377.9,
          22382.72,
          22390.79,
          22389.44,
          22398.78,
          22391.74,
          22390.17,
          22383.39,
          22385.82,
          22380.24,
          22384.4,
          22388.33,
          22387.06,
          22388.69,
          22388.18,
          22390.14,
          22389.06,
          22380.22,
          22382,
          22388.88,
          22391.26,
          22388.24,
          22388.96,
          22386.71,
          22385.83,
          22385.77,
          22377.42,
          22383.25,
          22384.77,
          22383.04,
          22378.22,
          22377.5,
          22368.69,
          22371.33,
          22369.45,
          22371.62,
          22373.55,
          22372.88,
          22369.88,
          22373.88,
          22372.06,
          22371.42,
          22371.22,
          22371.23,
          22377.69,
          22379.02,
          22382.92,
          22376.89,
          22369.74,
          22368.54,
          22374.41,
          22380.97,
          22377.07,
          22377.88,
          22378.96,
          22379.43,
          22382.82,
          22387.71,
          22391.74,
          22393.86,
          22387.96,
          22381.56,
          22379.54,
          22380.43,
          22379.22,
          22385.62,
          22374.96,
          22374.11,
          22370.38,
          22370.38,
          22373.64,
          22373.8,
          22370.68,
          22373.67,
          22372.22,
          22366.99,
          22368.68,
          22369.82,
          22369.46,
          22368.94,
          22367.12,
          22368.15,
          22367.17,
          22350.82,
          22350.67,
          22339.64,
          22340.37,
          22344.01,
          22350.09,
          22356.56,
          22349.79,
          22349.84,
          22350.21,
          22349.74,
          22343.35,
          22338.37,
          22341.16,
          22344.05,
          22343.31,
          22337.7,
          22333.26,
          22328.69,
          22334.96,
          22333.52,
          22333.18,
          22338.44,
          22334.8,
          22334.06,
          22328.5,
          22328.75,
          22338.34,
          22351.03,
          22345.39,
          22348.44,
          22348.16,
          22349.66,
          22353.84,
          22367.18,
          22371.27,
          22367.43,
          22371.27,
          22371.63,
          22372.28,
          22373.46,
          22369.95,
          22372.35,
          22383.18,
          22390.16,
          22383.35,
          22377.62,
          22366.6,
          22366.9,
          22367.26,
          22370.94,
          22370.49,
          22369.41,
          22383.68,
          22385.3,
          22394.07,
          22388.28,
          22381.01,
          22385.02,
          22373.16,
          22376.95,
          22375.34,
          22375.6,
          22381.76,
          22383.81,
          22381.08,
          22378.5,
          22382.13,
          22389.26,
          22379.64,
          22377.25,
          22372.46,
          22372.95,
          22372.01,
          22372.84,
          22373.33,
          22369.24,
          22370.61,
          22374.9,
          22374.63,
          22373.5,
          22369.13,
          22374.2,
          22375.69,
          22375.55,
          22376.52,
          22369.37,
          22367.41,
          22369.28,
          22371.17,
          22371.03,
          22373.32,
          22374.51,
          22374.4,
          22370.49,
          22368.26,
          22364.94,
          22364.57,
          22364.76,
          22365.6,
          22368.31,
          22369.95,
          22370.14,
          22369.57,
          22387.56,
          22417.52,
          22440.27,
          22419.3,
          22409.9,
          22409.3
         ],
         "type": "candlestick",
         "x": [
          "2023-03-04T17:50:00",
          "2023-03-04T17:51:00",
          "2023-03-04T17:52:00",
          "2023-03-04T17:53:00",
          "2023-03-04T17:54:00",
          "2023-03-04T17:55:00",
          "2023-03-04T17:56:00",
          "2023-03-04T17:57:00",
          "2023-03-04T17:58:00",
          "2023-03-04T17:59:00",
          "2023-03-04T18:00:00",
          "2023-03-04T18:01:00",
          "2023-03-04T18:02:00",
          "2023-03-04T18:03:00",
          "2023-03-04T18:04:00",
          "2023-03-04T18:05:00",
          "2023-03-04T18:06:00",
          "2023-03-04T18:07:00",
          "2023-03-04T18:08:00",
          "2023-03-04T18:09:00",
          "2023-03-04T18:10:00",
          "2023-03-04T18:11:00",
          "2023-03-04T18:12:00",
          "2023-03-04T18:13:00",
          "2023-03-04T18:14:00",
          "2023-03-04T18:15:00",
          "2023-03-04T18:16:00",
          "2023-03-04T18:17:00",
          "2023-03-04T18:18:00",
          "2023-03-04T18:19:00",
          "2023-03-04T18:20:00",
          "2023-03-04T18:21:00",
          "2023-03-04T18:22:00",
          "2023-03-04T18:23:00",
          "2023-03-04T18:24:00",
          "2023-03-04T18:25:00",
          "2023-03-04T18:26:00",
          "2023-03-04T18:27:00",
          "2023-03-04T18:28:00",
          "2023-03-04T18:30:00",
          "2023-03-04T18:31:00",
          "2023-03-04T18:32:00",
          "2023-03-04T18:33:00",
          "2023-03-04T18:34:00",
          "2023-03-04T18:35:00",
          "2023-03-04T18:36:00",
          "2023-03-04T18:37:00",
          "2023-03-04T18:38:00",
          "2023-03-04T18:39:00",
          "2023-03-04T18:40:00",
          "2023-03-04T18:41:00",
          "2023-03-04T18:42:00",
          "2023-03-04T18:43:00",
          "2023-03-04T18:44:00",
          "2023-03-04T18:45:00",
          "2023-03-04T18:46:00",
          "2023-03-04T18:47:00",
          "2023-03-04T18:48:00",
          "2023-03-04T18:49:00",
          "2023-03-04T18:50:00",
          "2023-03-04T18:51:00",
          "2023-03-04T18:52:00",
          "2023-03-04T18:53:00",
          "2023-03-04T18:54:00",
          "2023-03-04T18:55:00",
          "2023-03-04T18:56:00",
          "2023-03-04T18:57:00",
          "2023-03-04T18:58:00",
          "2023-03-04T18:59:00",
          "2023-03-04T19:00:00",
          "2023-03-04T19:01:00",
          "2023-03-04T19:02:00",
          "2023-03-04T19:03:00",
          "2023-03-04T19:04:00",
          "2023-03-04T19:05:00",
          "2023-03-04T19:06:00",
          "2023-03-04T19:07:00",
          "2023-03-04T19:08:00",
          "2023-03-04T19:09:00",
          "2023-03-04T19:10:00",
          "2023-03-04T19:11:00",
          "2023-03-04T19:12:00",
          "2023-03-04T19:13:00",
          "2023-03-04T19:14:00",
          "2023-03-04T19:15:00",
          "2023-03-04T19:16:00",
          "2023-03-04T19:17:00",
          "2023-03-04T19:18:00",
          "2023-03-04T19:19:00",
          "2023-03-04T19:20:00",
          "2023-03-04T19:21:00",
          "2023-03-04T19:22:00",
          "2023-03-04T19:23:00",
          "2023-03-04T19:24:00",
          "2023-03-04T19:25:00",
          "2023-03-04T19:26:00",
          "2023-03-04T19:27:00",
          "2023-03-04T19:28:00",
          "2023-03-04T19:29:00",
          "2023-03-04T19:30:00",
          "2023-03-04T19:31:00",
          "2023-03-04T19:32:00",
          "2023-03-04T19:33:00",
          "2023-03-04T19:34:00",
          "2023-03-04T19:35:00",
          "2023-03-04T19:36:00",
          "2023-03-04T19:37:00",
          "2023-03-04T19:38:00",
          "2023-03-04T19:39:00",
          "2023-03-04T19:40:00",
          "2023-03-04T19:41:00",
          "2023-03-04T19:42:00",
          "2023-03-04T19:43:00",
          "2023-03-04T19:44:00",
          "2023-03-04T19:45:00",
          "2023-03-04T19:46:00",
          "2023-03-04T19:47:00",
          "2023-03-04T19:48:00",
          "2023-03-04T19:49:00",
          "2023-03-04T19:50:00",
          "2023-03-04T19:51:00",
          "2023-03-04T19:52:00",
          "2023-03-04T19:53:00",
          "2023-03-04T19:54:00",
          "2023-03-04T19:55:00",
          "2023-03-04T19:56:00",
          "2023-03-04T19:57:00",
          "2023-03-04T19:58:00",
          "2023-03-04T19:59:00",
          "2023-03-04T20:00:00",
          "2023-03-04T20:01:00",
          "2023-03-04T20:02:00",
          "2023-03-04T20:03:00",
          "2023-03-04T20:04:00",
          "2023-03-04T20:05:00",
          "2023-03-04T20:06:00",
          "2023-03-04T20:07:00",
          "2023-03-04T20:08:00",
          "2023-03-04T20:09:00",
          "2023-03-04T20:10:00",
          "2023-03-04T20:11:00",
          "2023-03-04T20:12:00",
          "2023-03-04T20:13:00",
          "2023-03-04T20:14:00",
          "2023-03-04T20:15:00",
          "2023-03-04T20:16:00",
          "2023-03-04T20:17:00",
          "2023-03-04T20:18:00",
          "2023-03-04T20:19:00",
          "2023-03-04T20:20:00",
          "2023-03-04T20:21:00",
          "2023-03-04T20:22:00",
          "2023-03-04T20:23:00",
          "2023-03-04T20:24:00",
          "2023-03-04T20:25:00",
          "2023-03-04T20:26:00",
          "2023-03-04T20:27:00",
          "2023-03-04T20:28:00",
          "2023-03-04T20:29:00",
          "2023-03-04T20:30:00",
          "2023-03-04T20:31:00",
          "2023-03-04T20:32:00",
          "2023-03-04T20:33:00",
          "2023-03-04T20:34:00",
          "2023-03-04T20:35:00",
          "2023-03-04T20:36:00",
          "2023-03-04T20:37:00",
          "2023-03-04T20:38:00",
          "2023-03-04T20:39:00",
          "2023-03-04T20:40:00",
          "2023-03-04T20:41:00",
          "2023-03-04T20:42:00",
          "2023-03-04T20:43:00",
          "2023-03-04T20:44:00",
          "2023-03-04T20:45:00",
          "2023-03-04T20:46:00",
          "2023-03-04T20:47:00",
          "2023-03-04T20:48:00",
          "2023-03-04T20:49:00",
          "2023-03-04T20:50:00",
          "2023-03-04T20:51:00",
          "2023-03-04T20:52:00",
          "2023-03-04T20:53:00",
          "2023-03-04T20:54:00",
          "2023-03-04T20:55:00",
          "2023-03-04T20:56:00",
          "2023-03-04T20:57:00",
          "2023-03-04T20:58:00",
          "2023-03-04T20:59:00",
          "2023-03-04T21:00:00",
          "2023-03-04T21:01:00",
          "2023-03-04T21:02:00",
          "2023-03-04T21:04:00",
          "2023-03-04T21:05:00",
          "2023-03-04T21:07:00",
          "2023-03-04T21:08:00",
          "2023-03-04T21:09:00",
          "2023-03-04T21:10:00",
          "2023-03-04T21:11:00",
          "2023-03-04T21:12:00",
          "2023-03-04T21:13:00",
          "2023-03-04T21:14:00",
          "2023-03-04T21:15:00",
          "2023-03-04T21:16:00",
          "2023-03-04T21:17:00",
          "2023-03-04T21:18:00",
          "2023-03-04T21:19:00",
          "2023-03-04T21:20:00",
          "2023-03-04T21:21:00",
          "2023-03-04T21:22:00",
          "2023-03-04T21:23:00",
          "2023-03-04T21:24:00",
          "2023-03-04T21:25:00",
          "2023-03-04T21:26:00",
          "2023-03-04T21:27:00",
          "2023-03-04T21:28:00",
          "2023-03-04T21:29:00",
          "2023-03-04T21:30:00",
          "2023-03-04T21:31:00",
          "2023-03-04T21:32:00",
          "2023-03-04T21:33:00",
          "2023-03-04T21:34:00",
          "2023-03-04T21:35:00",
          "2023-03-04T21:36:00",
          "2023-03-04T21:37:00",
          "2023-03-04T21:38:00",
          "2023-03-04T21:39:00",
          "2023-03-04T21:40:00",
          "2023-03-04T21:41:00",
          "2023-03-04T21:42:00",
          "2023-03-04T21:43:00",
          "2023-03-04T21:44:00",
          "2023-03-04T21:47:00",
          "2023-03-04T21:49:00",
          "2023-03-04T21:50:00",
          "2023-03-04T21:51:00",
          "2023-03-04T21:52:00",
          "2023-03-04T21:53:00",
          "2023-03-04T21:54:00",
          "2023-03-04T21:55:00",
          "2023-03-04T21:56:00",
          "2023-03-04T21:57:00",
          "2023-03-04T21:58:00",
          "2023-03-04T21:59:00",
          "2023-03-04T22:00:00",
          "2023-03-04T22:01:00",
          "2023-03-04T22:02:00",
          "2023-03-04T22:03:00",
          "2023-03-04T22:04:00",
          "2023-03-04T22:05:00",
          "2023-03-04T22:06:00",
          "2023-03-04T22:08:00",
          "2023-03-04T22:09:00",
          "2023-03-04T22:10:00",
          "2023-03-04T22:11:00",
          "2023-03-04T22:12:00",
          "2023-03-04T22:13:00",
          "2023-03-04T22:14:00",
          "2023-03-04T22:15:00",
          "2023-03-04T22:16:00",
          "2023-03-04T22:17:00",
          "2023-03-04T22:18:00",
          "2023-03-04T22:19:00",
          "2023-03-04T22:20:00",
          "2023-03-04T22:21:00",
          "2023-03-04T22:22:00",
          "2023-03-04T22:23:00",
          "2023-03-04T22:24:00",
          "2023-03-04T22:25:00",
          "2023-03-04T22:26:00",
          "2023-03-04T22:27:00",
          "2023-03-04T22:28:00",
          "2023-03-04T22:29:00",
          "2023-03-04T22:30:00",
          "2023-03-04T22:31:00",
          "2023-03-04T22:33:00",
          "2023-03-04T22:34:00",
          "2023-03-04T22:35:00",
          "2023-03-04T22:36:00",
          "2023-03-04T22:37:00",
          "2023-03-04T22:38:00",
          "2023-03-04T22:39:00",
          "2023-03-04T22:40:00",
          "2023-03-04T22:41:00",
          "2023-03-04T22:42:00",
          "2023-03-04T22:43:00",
          "2023-03-04T22:44:00",
          "2023-03-04T22:45:00",
          "2023-03-04T22:46:00",
          "2023-03-04T22:47:00",
          "2023-03-04T22:48:00",
          "2023-03-04T22:49:00",
          "2023-03-04T22:50:00",
          "2023-03-04T22:51:00",
          "2023-03-04T22:52:00",
          "2023-03-04T22:53:00",
          "2023-03-04T22:54:00",
          "2023-03-04T22:55:00",
          "2023-03-04T22:56:00",
          "2023-03-04T22:57:00",
          "2023-03-04T22:58:00",
          "2023-03-04T22:59:00",
          "2023-03-04T23:00:00",
          "2023-03-04T23:01:00",
          "2023-03-04T23:02:00",
          "2023-03-04T23:03:00",
          "2023-03-04T23:04:00",
          "2023-03-04T23:05:00",
          "2023-03-04T23:06:00",
          "2023-03-04T23:07:00",
          "2023-03-04T23:08:00",
          "2023-03-04T23:09:00",
          "2023-03-04T23:10:00",
          "2023-03-04T23:11:00",
          "2023-03-04T23:12:00",
          "2023-03-04T23:13:00",
          "2023-03-04T23:14:00",
          "2023-03-04T23:15:00",
          "2023-03-04T23:16:00",
          "2023-03-04T23:17:00",
          "2023-03-04T23:18:00",
          "2023-03-04T23:19:00",
          "2023-03-04T23:20:00",
          "2023-03-04T23:21:00",
          "2023-03-04T23:22:00",
          "2023-03-04T23:23:00",
          "2023-03-04T23:24:00",
          "2023-03-04T23:25:00",
          "2023-03-04T23:26:00",
          "2023-03-04T23:27:00",
          "2023-03-04T23:28:00",
          "2023-03-04T23:29:00",
          "2023-03-04T23:30:00",
          "2023-03-04T23:31:00",
          "2023-03-04T23:32:00",
          "2023-03-04T23:33:00",
          "2023-03-04T23:34:00",
          "2023-03-04T23:35:00",
          "2023-03-04T23:36:00",
          "2023-03-04T23:37:00",
          "2023-03-04T23:38:00",
          "2023-03-04T23:39:00",
          "2023-03-04T23:40:00",
          "2023-03-04T23:41:00",
          "2023-03-04T23:42:00",
          "2023-03-04T23:43:00",
          "2023-03-04T23:44:00",
          "2023-03-04T23:45:00",
          "2023-03-04T23:46:00",
          "2023-03-04T23:47:00",
          "2023-03-04T23:48:00",
          "2023-03-04T23:49:00",
          "2023-03-04T23:50:00",
          "2023-03-04T23:51:00",
          "2023-03-04T23:52:00",
          "2023-03-04T23:53:00",
          "2023-03-04T23:54:00",
          "2023-03-04T23:55:00",
          "2023-03-04T23:56:00",
          "2023-03-04T23:57:00",
          "2023-03-04T23:58:00",
          "2023-03-04T23:59:00",
          "2023-03-05T00:00:00",
          "2023-03-05T00:01:00",
          "2023-03-05T00:02:00",
          "2023-03-05T00:03:00",
          "2023-03-05T00:04:00",
          "2023-03-05T00:05:00",
          "2023-03-05T00:06:00",
          "2023-03-05T00:07:00",
          "2023-03-05T00:08:00",
          "2023-03-05T00:09:00",
          "2023-03-05T00:10:00",
          "2023-03-05T00:11:00",
          "2023-03-05T00:12:00",
          "2023-03-05T00:13:00",
          "2023-03-05T00:14:00",
          "2023-03-05T00:15:00",
          "2023-03-05T00:16:00",
          "2023-03-05T00:17:00",
          "2023-03-05T00:18:00",
          "2023-03-05T00:19:00",
          "2023-03-05T00:20:00",
          "2023-03-05T00:21:00",
          "2023-03-05T00:22:00",
          "2023-03-05T00:23:00",
          "2023-03-05T00:24:00",
          "2023-03-05T00:25:00",
          "2023-03-05T00:26:00",
          "2023-03-05T00:27:00",
          "2023-03-05T00:28:00",
          "2023-03-05T00:29:00",
          "2023-03-05T00:30:00",
          "2023-03-05T00:31:00",
          "2023-03-05T00:32:00",
          "2023-03-05T00:33:00",
          "2023-03-05T00:34:00",
          "2023-03-05T00:35:00",
          "2023-03-05T00:36:00",
          "2023-03-05T00:37:00",
          "2023-03-05T00:38:00",
          "2023-03-05T00:39:00",
          "2023-03-05T00:40:00",
          "2023-03-05T00:41:00",
          "2023-03-05T00:42:00",
          "2023-03-05T00:43:00",
          "2023-03-05T00:44:00",
          "2023-03-05T00:45:00",
          "2023-03-05T00:46:00",
          "2023-03-05T00:47:00",
          "2023-03-05T00:48:00",
          "2023-03-05T00:49:00",
          "2023-03-05T00:50:00",
          "2023-03-05T00:51:00",
          "2023-03-05T00:52:00",
          "2023-03-05T00:53:00",
          "2023-03-05T00:54:00",
          "2023-03-05T00:55:00",
          "2023-03-05T00:56:00",
          "2023-03-05T00:57:00",
          "2023-03-05T00:58:00",
          "2023-03-05T00:59:00",
          "2023-03-05T01:00:00",
          "2023-03-05T01:01:00",
          "2023-03-05T01:02:00",
          "2023-03-05T01:03:00",
          "2023-03-05T01:04:00",
          "2023-03-05T01:05:00",
          "2023-03-05T01:06:00",
          "2023-03-05T01:07:00",
          "2023-03-05T01:08:00",
          "2023-03-05T01:09:00",
          "2023-03-05T01:10:00",
          "2023-03-05T01:11:00",
          "2023-03-05T01:12:00",
          "2023-03-05T01:13:00",
          "2023-03-05T01:14:00",
          "2023-03-05T01:15:00",
          "2023-03-05T01:16:00",
          "2023-03-05T01:17:00",
          "2023-03-05T01:18:00",
          "2023-03-05T01:19:00",
          "2023-03-05T01:21:00",
          "2023-03-05T01:24:00",
          "2023-03-05T01:25:00",
          "2023-03-05T01:27:00",
          "2023-03-05T01:28:00",
          "2023-03-05T01:29:00",
          "2023-03-05T01:30:00",
          "2023-03-05T01:31:00",
          "2023-03-05T01:33:00",
          "2023-03-05T01:35:00",
          "2023-03-05T01:36:00",
          "2023-03-05T01:39:00",
          "2023-03-05T01:40:00",
          "2023-03-05T01:41:00",
          "2023-03-05T01:42:00",
          "2023-03-05T01:43:00",
          "2023-03-05T01:44:00",
          "2023-03-05T01:45:00",
          "2023-03-05T01:47:00",
          "2023-03-05T01:48:00",
          "2023-03-05T01:49:00",
          "2023-03-05T01:50:00",
          "2023-03-05T01:51:00",
          "2023-03-05T01:52:00",
          "2023-03-05T01:53:00",
          "2023-03-05T01:54:00",
          "2023-03-05T01:55:00",
          "2023-03-05T01:56:00",
          "2023-03-05T01:57:00",
          "2023-03-05T01:58:00",
          "2023-03-05T01:59:00",
          "2023-03-05T02:01:00",
          "2023-03-05T02:02:00",
          "2023-03-05T02:03:00",
          "2023-03-05T02:04:00",
          "2023-03-05T02:05:00",
          "2023-03-05T02:06:00",
          "2023-03-05T02:07:00",
          "2023-03-05T02:08:00",
          "2023-03-05T02:09:00",
          "2023-03-05T02:10:00",
          "2023-03-05T02:11:00",
          "2023-03-05T02:12:00",
          "2023-03-05T02:13:00",
          "2023-03-05T02:14:00",
          "2023-03-05T02:15:00",
          "2023-03-05T02:16:00",
          "2023-03-05T02:17:00",
          "2023-03-05T02:18:00",
          "2023-03-05T02:19:00",
          "2023-03-05T02:20:00",
          "2023-03-05T02:21:00",
          "2023-03-05T02:22:00",
          "2023-03-05T02:23:00",
          "2023-03-05T02:24:00",
          "2023-03-05T02:25:00",
          "2023-03-05T02:26:00",
          "2023-03-05T02:27:00",
          "2023-03-05T02:28:00",
          "2023-03-05T02:29:00",
          "2023-03-05T02:30:00",
          "2023-03-05T02:31:00",
          "2023-03-05T02:32:00",
          "2023-03-05T02:33:00",
          "2023-03-05T02:34:00",
          "2023-03-05T02:35:00",
          "2023-03-05T02:36:00",
          "2023-03-05T02:37:00",
          "2023-03-05T02:38:00",
          "2023-03-05T02:39:00",
          "2023-03-05T02:40:00",
          "2023-03-05T02:41:00",
          "2023-03-05T02:42:00",
          "2023-03-05T02:43:00",
          "2023-03-05T02:44:00",
          "2023-03-05T02:45:00",
          "2023-03-05T02:46:00",
          "2023-03-05T02:47:00",
          "2023-03-05T02:48:00",
          "2023-03-05T02:49:00",
          "2023-03-05T02:50:00",
          "2023-03-05T02:51:00",
          "2023-03-05T02:52:00",
          "2023-03-05T02:53:00",
          "2023-03-05T02:54:00",
          "2023-03-05T02:55:00",
          "2023-03-05T02:56:00",
          "2023-03-05T02:57:00",
          "2023-03-05T02:58:00",
          "2023-03-05T02:59:00",
          "2023-03-05T03:00:00",
          "2023-03-05T03:01:00",
          "2023-03-05T03:02:00",
          "2023-03-05T03:04:00",
          "2023-03-05T03:05:00",
          "2023-03-05T03:06:00",
          "2023-03-05T03:07:00",
          "2023-03-05T03:08:00",
          "2023-03-05T03:09:00",
          "2023-03-05T03:10:00",
          "2023-03-05T03:11:00",
          "2023-03-05T03:12:00",
          "2023-03-05T03:13:00",
          "2023-03-05T03:14:00",
          "2023-03-05T03:15:00",
          "2023-03-05T03:16:00",
          "2023-03-05T03:17:00",
          "2023-03-05T03:18:00",
          "2023-03-05T03:19:00",
          "2023-03-05T03:20:00",
          "2023-03-05T03:21:00",
          "2023-03-05T03:22:00",
          "2023-03-05T03:23:00",
          "2023-03-05T03:24:00",
          "2023-03-05T03:25:00",
          "2023-03-05T03:26:00",
          "2023-03-05T03:27:00",
          "2023-03-05T03:28:00",
          "2023-03-05T03:29:00",
          "2023-03-05T03:30:00",
          "2023-03-05T03:31:00",
          "2023-03-05T03:32:00",
          "2023-03-05T03:33:00",
          "2023-03-05T03:34:00",
          "2023-03-05T03:35:00",
          "2023-03-05T03:36:00",
          "2023-03-05T03:37:00",
          "2023-03-05T03:38:00",
          "2023-03-05T03:39:00",
          "2023-03-05T03:40:00",
          "2023-03-05T03:41:00",
          "2023-03-05T03:42:00",
          "2023-03-05T03:43:00",
          "2023-03-05T03:44:00",
          "2023-03-05T03:45:00",
          "2023-03-05T03:46:00",
          "2023-03-05T03:47:00",
          "2023-03-05T03:48:00",
          "2023-03-05T03:49:00",
          "2023-03-05T03:50:00",
          "2023-03-05T03:51:00",
          "2023-03-05T03:52:00",
          "2023-03-05T03:53:00",
          "2023-03-05T03:54:00",
          "2023-03-05T03:55:00",
          "2023-03-05T03:56:00",
          "2023-03-05T03:57:00",
          "2023-03-05T03:58:00",
          "2023-03-05T03:59:00",
          "2023-03-05T04:00:00",
          "2023-03-05T04:01:00",
          "2023-03-05T04:02:00",
          "2023-03-05T04:03:00",
          "2023-03-05T04:04:00",
          "2023-03-05T04:05:00",
          "2023-03-05T04:06:00",
          "2023-03-05T04:07:00",
          "2023-03-05T04:08:00",
          "2023-03-05T04:09:00",
          "2023-03-05T04:10:00",
          "2023-03-05T04:11:00",
          "2023-03-05T04:12:00",
          "2023-03-05T04:13:00",
          "2023-03-05T04:14:00",
          "2023-03-05T04:15:00",
          "2023-03-05T04:16:00",
          "2023-03-05T04:17:00",
          "2023-03-05T04:18:00",
          "2023-03-05T04:19:00",
          "2023-03-05T04:20:00",
          "2023-03-05T04:21:00",
          "2023-03-05T04:22:00",
          "2023-03-05T04:23:00",
          "2023-03-05T04:24:00",
          "2023-03-05T04:25:00",
          "2023-03-05T04:26:00",
          "2023-03-05T04:27:00",
          "2023-03-05T04:28:00",
          "2023-03-05T04:29:00",
          "2023-03-05T04:30:00",
          "2023-03-05T04:31:00",
          "2023-03-05T04:32:00",
          "2023-03-05T04:33:00",
          "2023-03-05T04:34:00",
          "2023-03-05T04:35:00",
          "2023-03-05T04:36:00",
          "2023-03-05T04:37:00",
          "2023-03-05T04:38:00",
          "2023-03-05T04:39:00",
          "2023-03-05T04:40:00",
          "2023-03-05T04:41:00",
          "2023-03-05T04:42:00",
          "2023-03-05T04:43:00",
          "2023-03-05T04:44:00",
          "2023-03-05T04:45:00",
          "2023-03-05T04:46:00",
          "2023-03-05T04:47:00",
          "2023-03-05T04:48:00",
          "2023-03-05T04:49:00",
          "2023-03-05T04:50:00",
          "2023-03-05T04:51:00",
          "2023-03-05T04:52:00",
          "2023-03-05T04:53:00",
          "2023-03-05T04:54:00",
          "2023-03-05T04:55:00",
          "2023-03-05T04:56:00",
          "2023-03-05T04:57:00",
          "2023-03-05T04:58:00",
          "2023-03-05T04:59:00",
          "2023-03-05T05:00:00",
          "2023-03-05T05:01:00",
          "2023-03-05T05:02:00",
          "2023-03-05T05:03:00",
          "2023-03-05T05:04:00",
          "2023-03-05T05:05:00",
          "2023-03-05T05:06:00",
          "2023-03-05T05:07:00",
          "2023-03-05T05:08:00",
          "2023-03-05T05:09:00",
          "2023-03-05T05:10:00",
          "2023-03-05T05:11:00",
          "2023-03-05T05:12:00",
          "2023-03-05T05:13:00",
          "2023-03-05T05:14:00",
          "2023-03-05T05:15:00",
          "2023-03-05T05:16:00",
          "2023-03-05T05:17:00",
          "2023-03-05T05:18:00",
          "2023-03-05T05:19:00",
          "2023-03-05T05:20:00",
          "2023-03-05T05:21:00",
          "2023-03-05T05:22:00",
          "2023-03-05T05:23:00",
          "2023-03-05T05:24:00",
          "2023-03-05T05:25:00",
          "2023-03-05T05:26:00",
          "2023-03-05T05:27:00",
          "2023-03-05T05:28:00",
          "2023-03-05T05:29:00",
          "2023-03-05T05:30:00",
          "2023-03-05T05:31:00",
          "2023-03-05T05:32:00",
          "2023-03-05T05:33:00",
          "2023-03-05T05:34:00",
          "2023-03-05T05:35:00",
          "2023-03-05T05:36:00",
          "2023-03-05T05:37:00",
          "2023-03-05T05:38:00",
          "2023-03-05T05:39:00",
          "2023-03-05T05:40:00",
          "2023-03-05T05:41:00",
          "2023-03-05T05:42:00",
          "2023-03-05T05:43:00",
          "2023-03-05T05:44:00",
          "2023-03-05T05:45:00",
          "2023-03-05T05:46:00",
          "2023-03-05T05:47:00",
          "2023-03-05T05:48:00",
          "2023-03-05T05:49:00",
          "2023-03-05T05:50:00",
          "2023-03-05T05:51:00",
          "2023-03-05T05:52:00",
          "2023-03-05T05:53:00",
          "2023-03-05T05:54:00",
          "2023-03-05T05:55:00",
          "2023-03-05T05:56:00",
          "2023-03-05T05:57:00",
          "2023-03-05T05:58:00",
          "2023-03-05T05:59:00",
          "2023-03-05T06:00:00",
          "2023-03-05T06:01:00",
          "2023-03-05T06:02:00",
          "2023-03-05T06:03:00",
          "2023-03-05T06:04:00",
          "2023-03-05T06:05:00",
          "2023-03-05T06:06:00",
          "2023-03-05T06:07:00",
          "2023-03-05T06:08:00",
          "2023-03-05T06:09:00",
          "2023-03-05T06:10:00",
          "2023-03-05T06:11:00",
          "2023-03-05T06:12:00",
          "2023-03-05T06:13:00",
          "2023-03-05T06:14:00",
          "2023-03-05T06:15:00",
          "2023-03-05T06:16:00",
          "2023-03-05T06:17:00",
          "2023-03-05T06:18:00",
          "2023-03-05T06:19:00",
          "2023-03-05T06:20:00",
          "2023-03-05T06:21:00",
          "2023-03-05T06:22:00",
          "2023-03-05T06:23:00",
          "2023-03-05T06:24:00",
          "2023-03-05T06:25:00",
          "2023-03-05T06:26:00",
          "2023-03-05T06:27:00",
          "2023-03-05T06:28:00",
          "2023-03-05T06:29:00",
          "2023-03-05T06:30:00",
          "2023-03-05T06:31:00",
          "2023-03-05T06:32:00",
          "2023-03-05T06:33:00",
          "2023-03-05T06:34:00",
          "2023-03-05T06:35:00",
          "2023-03-05T06:36:00",
          "2023-03-05T06:37:00",
          "2023-03-05T06:38:00",
          "2023-03-05T06:39:00",
          "2023-03-05T06:40:00",
          "2023-03-05T06:41:00",
          "2023-03-05T06:42:00",
          "2023-03-05T06:43:00",
          "2023-03-05T06:44:00",
          "2023-03-05T06:45:00",
          "2023-03-05T06:46:00",
          "2023-03-05T06:47:00",
          "2023-03-05T06:48:00",
          "2023-03-05T06:49:00",
          "2023-03-05T06:50:00",
          "2023-03-05T06:51:00",
          "2023-03-05T06:52:00",
          "2023-03-05T06:53:00",
          "2023-03-05T06:54:00",
          "2023-03-05T06:55:00",
          "2023-03-05T06:56:00",
          "2023-03-05T06:57:00",
          "2023-03-05T06:58:00",
          "2023-03-05T06:59:00",
          "2023-03-05T07:00:00",
          "2023-03-05T07:01:00",
          "2023-03-05T07:02:00",
          "2023-03-05T07:03:00",
          "2023-03-05T07:04:00",
          "2023-03-05T07:05:00",
          "2023-03-05T07:06:00",
          "2023-03-05T07:07:00",
          "2023-03-05T07:08:00",
          "2023-03-05T07:09:00",
          "2023-03-05T07:10:00",
          "2023-03-05T07:11:00",
          "2023-03-05T07:12:00",
          "2023-03-05T07:13:00",
          "2023-03-05T07:14:00",
          "2023-03-05T07:15:00",
          "2023-03-05T07:16:00",
          "2023-03-05T07:17:00",
          "2023-03-05T07:18:00",
          "2023-03-05T07:19:00",
          "2023-03-05T07:20:00",
          "2023-03-05T07:21:00",
          "2023-03-05T07:22:00",
          "2023-03-05T07:23:00",
          "2023-03-05T07:24:00",
          "2023-03-05T07:25:00",
          "2023-03-05T07:26:00",
          "2023-03-05T07:27:00",
          "2023-03-05T07:28:00",
          "2023-03-05T07:29:00",
          "2023-03-05T07:30:00",
          "2023-03-05T07:31:00",
          "2023-03-05T07:32:00",
          "2023-03-05T07:33:00",
          "2023-03-05T07:34:00",
          "2023-03-05T07:35:00",
          "2023-03-05T07:36:00",
          "2023-03-05T07:37:00",
          "2023-03-05T07:38:00",
          "2023-03-05T07:39:00",
          "2023-03-05T07:40:00",
          "2023-03-05T07:41:00",
          "2023-03-05T07:42:00",
          "2023-03-05T07:43:00",
          "2023-03-05T07:44:00",
          "2023-03-05T07:45:00",
          "2023-03-05T07:46:00",
          "2023-03-05T07:47:00",
          "2023-03-05T07:48:00",
          "2023-03-05T07:49:00",
          "2023-03-05T07:50:00",
          "2023-03-05T07:51:00",
          "2023-03-05T07:52:00",
          "2023-03-05T07:53:00",
          "2023-03-05T07:54:00",
          "2023-03-05T07:55:00",
          "2023-03-05T07:56:00",
          "2023-03-05T07:57:00",
          "2023-03-05T07:58:00",
          "2023-03-05T07:59:00",
          "2023-03-05T08:00:00",
          "2023-03-05T08:01:00",
          "2023-03-05T08:02:00",
          "2023-03-05T08:03:00",
          "2023-03-05T08:04:00",
          "2023-03-05T08:05:00",
          "2023-03-05T08:06:00",
          "2023-03-05T08:07:00",
          "2023-03-05T08:08:00",
          "2023-03-05T08:09:00",
          "2023-03-05T08:10:00",
          "2023-03-05T08:11:00",
          "2023-03-05T08:12:00",
          "2023-03-05T08:13:00",
          "2023-03-05T08:14:00",
          "2023-03-05T08:15:00",
          "2023-03-05T08:16:00",
          "2023-03-05T08:17:00",
          "2023-03-05T08:18:00",
          "2023-03-05T08:19:00",
          "2023-03-05T08:20:00",
          "2023-03-05T08:21:00",
          "2023-03-05T08:22:00",
          "2023-03-05T08:23:00",
          "2023-03-05T08:24:00",
          "2023-03-05T08:25:00",
          "2023-03-05T08:26:00",
          "2023-03-05T08:27:00",
          "2023-03-05T08:28:00",
          "2023-03-05T08:29:00",
          "2023-03-05T08:30:00",
          "2023-03-05T08:31:00",
          "2023-03-05T08:32:00",
          "2023-03-05T08:33:00",
          "2023-03-05T08:34:00",
          "2023-03-05T08:35:00",
          "2023-03-05T08:36:00",
          "2023-03-05T08:37:00",
          "2023-03-05T08:38:00",
          "2023-03-05T08:39:00",
          "2023-03-05T08:40:00",
          "2023-03-05T08:41:00",
          "2023-03-05T08:42:00",
          "2023-03-05T08:43:00",
          "2023-03-05T08:44:00",
          "2023-03-05T08:45:00",
          "2023-03-05T08:46:00",
          "2023-03-05T08:47:00",
          "2023-03-05T08:48:00",
          "2023-03-05T08:49:00",
          "2023-03-05T08:50:00",
          "2023-03-05T08:51:00",
          "2023-03-05T08:52:00",
          "2023-03-05T08:53:00",
          "2023-03-05T08:54:00",
          "2023-03-05T08:55:00",
          "2023-03-05T08:56:00",
          "2023-03-05T08:57:00",
          "2023-03-05T08:58:00",
          "2023-03-05T08:59:00",
          "2023-03-05T09:00:00",
          "2023-03-05T09:01:00",
          "2023-03-05T09:02:00",
          "2023-03-05T09:03:00",
          "2023-03-05T09:04:00",
          "2023-03-05T09:05:00",
          "2023-03-05T09:06:00",
          "2023-03-05T09:07:00",
          "2023-03-05T09:08:00",
          "2023-03-05T09:09:00",
          "2023-03-05T09:10:00",
          "2023-03-05T09:11:00",
          "2023-03-05T09:12:00",
          "2023-03-05T09:13:00",
          "2023-03-05T09:14:00",
          "2023-03-05T09:15:00",
          "2023-03-05T09:16:00",
          "2023-03-05T09:17:00",
          "2023-03-05T09:18:00",
          "2023-03-05T09:19:00",
          "2023-03-05T09:20:00",
          "2023-03-05T09:21:00",
          "2023-03-05T09:22:00",
          "2023-03-05T09:23:00",
          "2023-03-05T09:24:00",
          "2023-03-05T09:25:00",
          "2023-03-05T09:26:00",
          "2023-03-05T09:27:00",
          "2023-03-05T09:28:00",
          "2023-03-05T09:29:00",
          "2023-03-05T09:30:00",
          "2023-03-05T09:31:00",
          "2023-03-05T09:32:00",
          "2023-03-05T09:33:00",
          "2023-03-05T09:34:00",
          "2023-03-05T09:35:00",
          "2023-03-05T09:36:00",
          "2023-03-05T09:37:00",
          "2023-03-05T09:38:00",
          "2023-03-05T09:39:00",
          "2023-03-05T09:40:00",
          "2023-03-05T09:41:00",
          "2023-03-05T09:42:00",
          "2023-03-05T09:43:00",
          "2023-03-05T09:44:00",
          "2023-03-05T09:45:00",
          "2023-03-05T09:46:00",
          "2023-03-05T09:47:00",
          "2023-03-05T09:48:00",
          "2023-03-05T09:49:00",
          "2023-03-05T09:50:00",
          "2023-03-05T09:51:00",
          "2023-03-05T09:52:00",
          "2023-03-05T09:53:00",
          "2023-03-05T09:54:00",
          "2023-03-05T09:55:00",
          "2023-03-05T09:56:00",
          "2023-03-05T09:57:00",
          "2023-03-05T09:58:00",
          "2023-03-05T09:59:00",
          "2023-03-05T10:00:00",
          "2023-03-05T10:01:00",
          "2023-03-05T10:02:00",
          "2023-03-05T10:03:00",
          "2023-03-05T10:04:00",
          "2023-03-05T10:06:00",
          "2023-03-05T10:07:00",
          "2023-03-05T10:08:00",
          "2023-03-05T10:09:00",
          "2023-03-05T10:10:00",
          "2023-03-05T10:11:00",
          "2023-03-05T10:12:00",
          "2023-03-05T10:13:00",
          "2023-03-05T10:14:00",
          "2023-03-05T10:15:00",
          "2023-03-05T10:16:00",
          "2023-03-05T10:17:00",
          "2023-03-05T10:18:00",
          "2023-03-05T10:19:00",
          "2023-03-05T10:20:00",
          "2023-03-05T10:21:00",
          "2023-03-05T10:22:00",
          "2023-03-05T10:23:00",
          "2023-03-05T10:24:00",
          "2023-03-05T10:25:00",
          "2023-03-05T10:26:00",
          "2023-03-05T10:27:00",
          "2023-03-05T10:28:00",
          "2023-03-05T10:29:00"
         ]
        }
       ],
       "layout": {
        "annotations": [
         {
          "arrowcolor": "green",
          "arrowhead": 5,
          "arrowwidth": 2,
          "ay": -10,
          "font": {
           "color": "green"
          },
          "hovertext": "2023-03-05 08:29:46.921700 buy at 22372.58",
          "showarrow": true,
          "text": "buy",
          "x": "2023-03-05T08:29:46.921700",
          "y": 22372.58
         },
         {
          "arrowcolor": "green",
          "arrowhead": 5,
          "arrowwidth": 2,
          "ay": -20,
          "font": {
           "color": "green"
          },
          "hovertext": "2023-03-05 08:31:14.769513 buy at 22366.03",
          "showarrow": true,
          "text": "buy",
          "x": "2023-03-05T08:31:14.769513",
          "y": 22366.03
         },
         {
          "arrowcolor": "green",
          "arrowhead": 5,
          "arrowwidth": 2,
          "ay": -30,
          "font": {
           "color": "green"
          },
          "hovertext": "2023-03-05 08:33:38.652402 buy at 22370.84",
          "showarrow": true,
          "text": "buy",
          "x": "2023-03-05T08:33:38.652402",
          "y": 22370.84
         },
         {
          "arrowcolor": "green",
          "arrowhead": 5,
          "arrowwidth": 2,
          "ay": -40,
          "font": {
           "color": "green"
          },
          "hovertext": "2023-03-05 08:37:09.594844 buy at 22368.14",
          "showarrow": true,
          "text": "buy",
          "x": "2023-03-05T08:37:09.594844",
          "y": 22368.14
         },
         {
          "arrowcolor": "green",
          "arrowhead": 5,
          "arrowwidth": 2,
          "ay": 0,
          "font": {
           "color": "green"
          },
          "hovertext": "2023-03-05 08:37:50.515445 buy at 22367.5",
          "showarrow": true,
          "text": "buy",
          "x": "2023-03-05T08:37:50.515445",
          "y": 22367.5
         },
         {
          "arrowcolor": "green",
          "arrowhead": 5,
          "arrowwidth": 2,
          "ay": -10,
          "font": {
           "color": "green"
          },
          "hovertext": "2023-03-05 08:38:25.894413 buy at 22365.79",
          "showarrow": true,
          "text": "buy",
          "x": "2023-03-05T08:38:25.894413",
          "y": 22365.79
         },
         {
          "arrowcolor": "green",
          "arrowhead": 5,
          "arrowwidth": 2,
          "ay": -20,
          "font": {
           "color": "green"
          },
          "hovertext": "2023-03-05 08:39:15.329011 buy at 22345.24",
          "showarrow": true,
          "text": "buy",
          "x": "2023-03-05T08:39:15.329011",
          "y": 22345.24
         },
         {
          "arrowcolor": "green",
          "arrowhead": 5,
          "arrowwidth": 2,
          "ay": -30,
          "font": {
           "color": "green"
          },
          "hovertext": "2023-03-05 08:40:16.595495 buy at 22348.79",
          "showarrow": true,
          "text": "buy",
          "x": "2023-03-05T08:40:16.595495",
          "y": 22348.79
         },
         {
          "arrowcolor": "green",
          "arrowhead": 5,
          "arrowwidth": 2,
          "ay": -40,
          "font": {
           "color": "green"
          },
          "hovertext": "2023-03-05 08:43:24.687356 buy at 22351.04",
          "showarrow": true,
          "text": "buy",
          "x": "2023-03-05T08:43:24.687356",
          "y": 22351.04
         },
         {
          "arrowcolor": "green",
          "arrowhead": 5,
          "arrowwidth": 2,
          "ay": 0,
          "font": {
           "color": "green"
          },
          "hovertext": "2023-03-05 08:54:34.493511 buy at 22337.28",
          "showarrow": true,
          "text": "buy",
          "x": "2023-03-05T08:54:34.493511",
          "y": 22337.28
         },
         {
          "arrowcolor": "green",
          "arrowhead": 5,
          "arrowwidth": 2,
          "ay": 0,
          "font": {
           "color": "green"
          },
          "hovertext": "2023-03-05 11:28:56.222758 close buy at 22372.43, profit: -869.96",
          "showarrow": true,
          "text": "close buy",
          "x": "2023-03-05T11:28:56.222758",
          "y": 22372.43
         },
         {
          "arrowcolor": "green",
          "arrowhead": 5,
          "arrowwidth": 2,
          "ay": 0,
          "font": {
           "color": "green"
          },
          "hovertext": "2023-03-05 11:31:04.110326 close buy at 22367.25, profit: -5.33",
          "showarrow": true,
          "text": "close buy",
          "x": "2023-03-05T11:31:04.110326",
          "y": 22367.25
         },
         {
          "arrowcolor": "green",
          "arrowhead": 5,
          "arrowwidth": 2,
          "ay": 0,
          "font": {
           "color": "green"
          },
          "hovertext": "2023-03-05 11:33:29.058266 close buy at 22369.68, profit: 3.65",
          "showarrow": true,
          "text": "close buy",
          "x": "2023-03-05T11:33:29.058266",
          "y": 22369.68
         },
         {
          "arrowcolor": "green",
          "arrowhead": 5,
          "arrowwidth": 2,
          "ay": 0,
          "font": {
           "color": "green"
          },
          "hovertext": "2023-03-05 11:36:59.500202 close buy at 22368.25, profit: -2.59",
          "showarrow": true,
          "text": "close buy",
          "x": "2023-03-05T11:36:59.500202",
          "y": 22368.25
         },
         {
          "arrowcolor": "green",
          "arrowhead": 5,
          "arrowwidth": 2,
          "ay": 0,
          "font": {
           "color": "green"
          },
          "hovertext": "2023-03-05 11:37:40.410161 close buy at 22367.36, profit: -0.78",
          "showarrow": true,
          "text": "close buy",
          "x": "2023-03-05T11:37:40.410161",
          "y": 22367.36
         },
         {
          "arrowcolor": "green",
          "arrowhead": 5,
          "arrowwidth": 2,
          "ay": 0,
          "font": {
           "color": "green"
          },
          "hovertext": "2023-03-05 11:38:15.368447 close buy at 22366.04, profit: -1.46",
          "showarrow": true,
          "text": "close buy",
          "x": "2023-03-05T11:38:15.368447",
          "y": 22366.04
         },
         {
          "arrowcolor": "green",
          "arrowhead": 5,
          "arrowwidth": 2,
          "ay": 0,
          "font": {
           "color": "green"
          },
          "hovertext": "2023-03-05 11:39:05.250116 close buy at 22348.43, profit: -17.36",
          "showarrow": true,
          "text": "close buy",
          "x": "2023-03-05T11:39:05.250116",
          "y": 22348.43
         },
         {
          "arrowcolor": "green",
          "arrowhead": 5,
          "arrowwidth": 2,
          "ay": 0,
          "font": {
           "color": "green"
          },
          "hovertext": "2023-03-05 11:40:05.903918 close buy at 22350.34, profit: 5.1",
          "showarrow": true,
          "text": "close buy",
          "x": "2023-03-05T11:40:05.903918",
          "y": 22350.34
         },
         {
          "arrowcolor": "green",
          "arrowhead": 5,
          "arrowwidth": 2,
          "ay": 0,
          "font": {
           "color": "green"
          },
          "hovertext": "2023-03-05 11:43:14.337015 close buy at 22349.32, profit: 0.53",
          "showarrow": true,
          "text": "close buy",
          "x": "2023-03-05T11:43:14.337015",
          "y": 22349.32
         },
         {
          "arrowcolor": "green",
          "arrowhead": 5,
          "arrowwidth": 2,
          "ay": 0,
          "font": {
           "color": "green"
          },
          "hovertext": "2023-03-05 11:54:24.411336 close buy at 22340.66, profit: -10.38",
          "showarrow": true,
          "text": "close buy",
          "x": "2023-03-05T11:54:24.411336",
          "y": 22340.66
         }
        ],
        "template": {
         "data": {
          "bar": [
           {
            "error_x": {
             "color": "#2a3f5f"
            },
            "error_y": {
             "color": "#2a3f5f"
            },
            "marker": {
             "line": {
              "color": "#E5ECF6",
              "width": 0.5
             },
             "pattern": {
              "fillmode": "overlay",
              "size": 10,
              "solidity": 0.2
             }
            },
            "type": "bar"
           }
          ],
          "barpolar": [
           {
            "marker": {
             "line": {
              "color": "#E5ECF6",
              "width": 0.5
             },
             "pattern": {
              "fillmode": "overlay",
              "size": 10,
              "solidity": 0.2
             }
            },
            "type": "barpolar"
           }
          ],
          "carpet": [
           {
            "aaxis": {
             "endlinecolor": "#2a3f5f",
             "gridcolor": "white",
             "linecolor": "white",
             "minorgridcolor": "white",
             "startlinecolor": "#2a3f5f"
            },
            "baxis": {
             "endlinecolor": "#2a3f5f",
             "gridcolor": "white",
             "linecolor": "white",
             "minorgridcolor": "white",
             "startlinecolor": "#2a3f5f"
            },
            "type": "carpet"
           }
          ],
          "choropleth": [
           {
            "colorbar": {
             "outlinewidth": 0,
             "ticks": ""
            },
            "type": "choropleth"
           }
          ],
          "contour": [
           {
            "colorbar": {
             "outlinewidth": 0,
             "ticks": ""
            },
            "colorscale": [
             [
              0,
              "#0d0887"
             ],
             [
              0.1111111111111111,
              "#46039f"
             ],
             [
              0.2222222222222222,
              "#7201a8"
             ],
             [
              0.3333333333333333,
              "#9c179e"
             ],
             [
              0.4444444444444444,
              "#bd3786"
             ],
             [
              0.5555555555555556,
              "#d8576b"
             ],
             [
              0.6666666666666666,
              "#ed7953"
             ],
             [
              0.7777777777777778,
              "#fb9f3a"
             ],
             [
              0.8888888888888888,
              "#fdca26"
             ],
             [
              1,
              "#f0f921"
             ]
            ],
            "type": "contour"
           }
          ],
          "contourcarpet": [
           {
            "colorbar": {
             "outlinewidth": 0,
             "ticks": ""
            },
            "type": "contourcarpet"
           }
          ],
          "heatmap": [
           {
            "colorbar": {
             "outlinewidth": 0,
             "ticks": ""
            },
            "colorscale": [
             [
              0,
              "#0d0887"
             ],
             [
              0.1111111111111111,
              "#46039f"
             ],
             [
              0.2222222222222222,
              "#7201a8"
             ],
             [
              0.3333333333333333,
              "#9c179e"
             ],
             [
              0.4444444444444444,
              "#bd3786"
             ],
             [
              0.5555555555555556,
              "#d8576b"
             ],
             [
              0.6666666666666666,
              "#ed7953"
             ],
             [
              0.7777777777777778,
              "#fb9f3a"
             ],
             [
              0.8888888888888888,
              "#fdca26"
             ],
             [
              1,
              "#f0f921"
             ]
            ],
            "type": "heatmap"
           }
          ],
          "heatmapgl": [
           {
            "colorbar": {
             "outlinewidth": 0,
             "ticks": ""
            },
            "colorscale": [
             [
              0,
              "#0d0887"
             ],
             [
              0.1111111111111111,
              "#46039f"
             ],
             [
              0.2222222222222222,
              "#7201a8"
             ],
             [
              0.3333333333333333,
              "#9c179e"
             ],
             [
              0.4444444444444444,
              "#bd3786"
             ],
             [
              0.5555555555555556,
              "#d8576b"
             ],
             [
              0.6666666666666666,
              "#ed7953"
             ],
             [
              0.7777777777777778,
              "#fb9f3a"
             ],
             [
              0.8888888888888888,
              "#fdca26"
             ],
             [
              1,
              "#f0f921"
             ]
            ],
            "type": "heatmapgl"
           }
          ],
          "histogram": [
           {
            "marker": {
             "pattern": {
              "fillmode": "overlay",
              "size": 10,
              "solidity": 0.2
             }
            },
            "type": "histogram"
           }
          ],
          "histogram2d": [
           {
            "colorbar": {
             "outlinewidth": 0,
             "ticks": ""
            },
            "colorscale": [
             [
              0,
              "#0d0887"
             ],
             [
              0.1111111111111111,
              "#46039f"
             ],
             [
              0.2222222222222222,
              "#7201a8"
             ],
             [
              0.3333333333333333,
              "#9c179e"
             ],
             [
              0.4444444444444444,
              "#bd3786"
             ],
             [
              0.5555555555555556,
              "#d8576b"
             ],
             [
              0.6666666666666666,
              "#ed7953"
             ],
             [
              0.7777777777777778,
              "#fb9f3a"
             ],
             [
              0.8888888888888888,
              "#fdca26"
             ],
             [
              1,
              "#f0f921"
             ]
            ],
            "type": "histogram2d"
           }
          ],
          "histogram2dcontour": [
           {
            "colorbar": {
             "outlinewidth": 0,
             "ticks": ""
            },
            "colorscale": [
             [
              0,
              "#0d0887"
             ],
             [
              0.1111111111111111,
              "#46039f"
             ],
             [
              0.2222222222222222,
              "#7201a8"
             ],
             [
              0.3333333333333333,
              "#9c179e"
             ],
             [
              0.4444444444444444,
              "#bd3786"
             ],
             [
              0.5555555555555556,
              "#d8576b"
             ],
             [
              0.6666666666666666,
              "#ed7953"
             ],
             [
              0.7777777777777778,
              "#fb9f3a"
             ],
             [
              0.8888888888888888,
              "#fdca26"
             ],
             [
              1,
              "#f0f921"
             ]
            ],
            "type": "histogram2dcontour"
           }
          ],
          "mesh3d": [
           {
            "colorbar": {
             "outlinewidth": 0,
             "ticks": ""
            },
            "type": "mesh3d"
           }
          ],
          "parcoords": [
           {
            "line": {
             "colorbar": {
              "outlinewidth": 0,
              "ticks": ""
             }
            },
            "type": "parcoords"
           }
          ],
          "pie": [
           {
            "automargin": true,
            "type": "pie"
           }
          ],
          "scatter": [
           {
            "fillpattern": {
             "fillmode": "overlay",
             "size": 10,
             "solidity": 0.2
            },
            "type": "scatter"
           }
          ],
          "scatter3d": [
           {
            "line": {
             "colorbar": {
              "outlinewidth": 0,
              "ticks": ""
             }
            },
            "marker": {
             "colorbar": {
              "outlinewidth": 0,
              "ticks": ""
             }
            },
            "type": "scatter3d"
           }
          ],
          "scattercarpet": [
           {
            "marker": {
             "colorbar": {
              "outlinewidth": 0,
              "ticks": ""
             }
            },
            "type": "scattercarpet"
           }
          ],
          "scattergeo": [
           {
            "marker": {
             "colorbar": {
              "outlinewidth": 0,
              "ticks": ""
             }
            },
            "type": "scattergeo"
           }
          ],
          "scattergl": [
           {
            "marker": {
             "colorbar": {
              "outlinewidth": 0,
              "ticks": ""
             }
            },
            "type": "scattergl"
           }
          ],
          "scattermapbox": [
           {
            "marker": {
             "colorbar": {
              "outlinewidth": 0,
              "ticks": ""
             }
            },
            "type": "scattermapbox"
           }
          ],
          "scatterpolar": [
           {
            "marker": {
             "colorbar": {
              "outlinewidth": 0,
              "ticks": ""
             }
            },
            "type": "scatterpolar"
           }
          ],
          "scatterpolargl": [
           {
            "marker": {
             "colorbar": {
              "outlinewidth": 0,
              "ticks": ""
             }
            },
            "type": "scatterpolargl"
           }
          ],
          "scatterternary": [
           {
            "marker": {
             "colorbar": {
              "outlinewidth": 0,
              "ticks": ""
             }
            },
            "type": "scatterternary"
           }
          ],
          "surface": [
           {
            "colorbar": {
             "outlinewidth": 0,
             "ticks": ""
            },
            "colorscale": [
             [
              0,
              "#0d0887"
             ],
             [
              0.1111111111111111,
              "#46039f"
             ],
             [
              0.2222222222222222,
              "#7201a8"
             ],
             [
              0.3333333333333333,
              "#9c179e"
             ],
             [
              0.4444444444444444,
              "#bd3786"
             ],
             [
              0.5555555555555556,
              "#d8576b"
             ],
             [
              0.6666666666666666,
              "#ed7953"
             ],
             [
              0.7777777777777778,
              "#fb9f3a"
             ],
             [
              0.8888888888888888,
              "#fdca26"
             ],
             [
              1,
              "#f0f921"
             ]
            ],
            "type": "surface"
           }
          ],
          "table": [
           {
            "cells": {
             "fill": {
              "color": "#EBF0F8"
             },
             "line": {
              "color": "white"
             }
            },
            "header": {
             "fill": {
              "color": "#C8D4E3"
             },
             "line": {
              "color": "white"
             }
            },
            "type": "table"
           }
          ]
         },
         "layout": {
          "annotationdefaults": {
           "arrowcolor": "#2a3f5f",
           "arrowhead": 0,
           "arrowwidth": 1
          },
          "autotypenumbers": "strict",
          "coloraxis": {
           "colorbar": {
            "outlinewidth": 0,
            "ticks": ""
           }
          },
          "colorscale": {
           "diverging": [
            [
             0,
             "#8e0152"
            ],
            [
             0.1,
             "#c51b7d"
            ],
            [
             0.2,
             "#de77ae"
            ],
            [
             0.3,
             "#f1b6da"
            ],
            [
             0.4,
             "#fde0ef"
            ],
            [
             0.5,
             "#f7f7f7"
            ],
            [
             0.6,
             "#e6f5d0"
            ],
            [
             0.7,
             "#b8e186"
            ],
            [
             0.8,
             "#7fbc41"
            ],
            [
             0.9,
             "#4d9221"
            ],
            [
             1,
             "#276419"
            ]
           ],
           "sequential": [
            [
             0,
             "#0d0887"
            ],
            [
             0.1111111111111111,
             "#46039f"
            ],
            [
             0.2222222222222222,
             "#7201a8"
            ],
            [
             0.3333333333333333,
             "#9c179e"
            ],
            [
             0.4444444444444444,
             "#bd3786"
            ],
            [
             0.5555555555555556,
             "#d8576b"
            ],
            [
             0.6666666666666666,
             "#ed7953"
            ],
            [
             0.7777777777777778,
             "#fb9f3a"
            ],
            [
             0.8888888888888888,
             "#fdca26"
            ],
            [
             1,
             "#f0f921"
            ]
           ],
           "sequentialminus": [
            [
             0,
             "#0d0887"
            ],
            [
             0.1111111111111111,
             "#46039f"
            ],
            [
             0.2222222222222222,
             "#7201a8"
            ],
            [
             0.3333333333333333,
             "#9c179e"
            ],
            [
             0.4444444444444444,
             "#bd3786"
            ],
            [
             0.5555555555555556,
             "#d8576b"
            ],
            [
             0.6666666666666666,
             "#ed7953"
            ],
            [
             0.7777777777777778,
             "#fb9f3a"
            ],
            [
             0.8888888888888888,
             "#fdca26"
            ],
            [
             1,
             "#f0f921"
            ]
           ]
          },
          "colorway": [
           "#636efa",
           "#EF553B",
           "#00cc96",
           "#ab63fa",
           "#FFA15A",
           "#19d3f3",
           "#FF6692",
           "#B6E880",
           "#FF97FF",
           "#FECB52"
          ],
          "font": {
           "color": "#2a3f5f"
          },
          "geo": {
           "bgcolor": "white",
           "lakecolor": "white",
           "landcolor": "#E5ECF6",
           "showlakes": true,
           "showland": true,
           "subunitcolor": "white"
          },
          "hoverlabel": {
           "align": "left"
          },
          "hovermode": "closest",
          "mapbox": {
           "style": "light"
          },
          "paper_bgcolor": "white",
          "plot_bgcolor": "#E5ECF6",
          "polar": {
           "angularaxis": {
            "gridcolor": "white",
            "linecolor": "white",
            "ticks": ""
           },
           "bgcolor": "#E5ECF6",
           "radialaxis": {
            "gridcolor": "white",
            "linecolor": "white",
            "ticks": ""
           }
          },
          "scene": {
           "xaxis": {
            "backgroundcolor": "#E5ECF6",
            "gridcolor": "white",
            "gridwidth": 2,
            "linecolor": "white",
            "showbackground": true,
            "ticks": "",
            "zerolinecolor": "white"
           },
           "yaxis": {
            "backgroundcolor": "#E5ECF6",
            "gridcolor": "white",
            "gridwidth": 2,
            "linecolor": "white",
            "showbackground": true,
            "ticks": "",
            "zerolinecolor": "white"
           },
           "zaxis": {
            "backgroundcolor": "#E5ECF6",
            "gridcolor": "white",
            "gridwidth": 2,
            "linecolor": "white",
            "showbackground": true,
            "ticks": "",
            "zerolinecolor": "white"
           }
          },
          "shapedefaults": {
           "line": {
            "color": "#2a3f5f"
           }
          },
          "ternary": {
           "aaxis": {
            "gridcolor": "white",
            "linecolor": "white",
            "ticks": ""
           },
           "baxis": {
            "gridcolor": "white",
            "linecolor": "white",
            "ticks": ""
           },
           "bgcolor": "#E5ECF6",
           "caxis": {
            "gridcolor": "white",
            "linecolor": "white",
            "ticks": ""
           }
          },
          "title": {
           "x": 0.05
          },
          "xaxis": {
           "automargin": true,
           "gridcolor": "white",
           "linecolor": "white",
           "ticks": "",
           "title": {
            "standoff": 15
           },
           "zerolinecolor": "white",
           "zerolinewidth": 2
          },
          "yaxis": {
           "automargin": true,
           "gridcolor": "white",
           "linecolor": "white",
           "ticks": "",
           "title": {
            "standoff": 15
           },
           "zerolinecolor": "white",
           "zerolinewidth": 2
          }
         }
        }
       }
      },
      "text/html": [
       "<div>                            <div id=\"66ba8b8e-62c4-496f-8c68-ad55d74c2c84\" class=\"plotly-graph-div\" style=\"height:525px; width:100%;\"></div>            <script type=\"text/javascript\">                require([\"plotly\"], function(Plotly) {                    window.PLOTLYENV=window.PLOTLYENV || {};                                    if (document.getElementById(\"66ba8b8e-62c4-496f-8c68-ad55d74c2c84\")) {                    Plotly.newPlot(                        \"66ba8b8e-62c4-496f-8c68-ad55d74c2c84\",                        [{\"close\":[22309.08,22310.12,22308.56,22310.14,22307.42,22305.56,22305.57,22305.14,22305.23,22306.91,22308.7,22310.18,22310.56,22307.6,22304.09,22295.27,22290.1,22265.75,22276.62,22280.41,22285.4,22285.8,22295.56,22311.85,22317.0,22311.27,22307.41,22303.31,22321.35,22328.21,22323.47,22322.93,22325.4,22325.75,22323.21,22322.33,22316.07,22321.86,22320.64,22328.1,22325.63,22319.34,22318.24,22320.12,22316.59,22322.2,22319.53,22315.79,22315.69,22314.45,22322.1,22321.2,22320.8,22317.82,22319.06,22316.3,22313.75,22317.81,22320.17,22321.77,22320.33,22321.91,22322.11,22317.85,22317.23,22321.05,22321.61,22320.96,22320.66,22322.21,22323.34,22324.41,22324.73,22322.49,22320.12,22323.12,22322.55,22323.39,22323.92,22321.34,22318.89,22317.86,22317.11,22304.6,22293.75,22295.84,22297.79,22300.02,22291.21,22289.81,22287.22,22290.39,22290.84,22290.69,22288.14,22283.88,22284.51,22282.48,22287.24,22287.26,22289.41,22291.81,22275.69,22265.66,22260.99,22265.85,22267.62,22269.93,22282.89,22280.63,22281.92,22284.91,22282.83,22282.88,22283.65,22263.05,22265.48,22260.1,22250.13,22258.27,22254.74,22264.67,22262.62,22254.08,22242.55,22253.07,22248.57,22248.01,22248.98,22254.03,22250.1,22246.4,22253.94,22262.26,22260.33,22260.73,22245.86,22215.25,22217.63,22221.29,22226.89,22218.15,22206.33,22203.29,22204.94,22223.94,22221.21,22212.77,22218.12,22222.4,22232.57,22251.05,22248.8,22258.95,22249.44,22249.36,22242.53,22234.7,22234.25,22249.85,22249.38,22250.68,22250.05,22235.46,22231.65,22224.64,22225.8,22233.01,22218.71,22215.47,22216.1,22217.46,22195.13,22194.28,22201.83,22194.0,22185.48,22191.46,22196.0,22211.46,22208.39,22244.22,22239.61,22238.97,22246.67,22238.04,22242.54,22242.18,22248.85,22241.09,22241.25,22237.03,22240.66,22225.39,22227.66,22219.41,22212.94,22203.65,22206.23,22199.22,22201.19,22217.2,22210.54,22206.5,22204.77,22225.86,22222.97,22217.31,22213.86,22209.61,22213.95,22216.49,22232.2,22225.43,22231.73,22229.03,22229.48,22223.52,22219.05,22216.22,22229.37,22221.08,22211.55,22206.8,22216.86,22210.8,22204.65,22199.19,22199.76,22194.66,22189.19,22184.6,22216.08,22207.43,22198.48,22214.63,22212.43,22213.31,22203.24,22209.35,22211.24,22212.52,22211.24,22214.07,22221.95,22225.78,22211.72,22210.19,22211.44,22211.76,22204.69,22208.61,22211.53,22218.46,22222.33,22226.9,22223.89,22222.86,22223.37,22228.47,22235.65,22238.89,22245.52,22245.57,22252.07,22295.26,22334.09,22332.02,22335.06,22329.18,22320.43,22299.18,22312.84,22306.31,22327.22,22329.85,22334.89,22327.63,22327.99,22339.31,22337.74,22352.69,22348.42,22336.95,22332.23,22332.55,22342.15,22335.31,22341.08,22332.14,22313.0,22307.44,22309.15,22312.71,22312.25,22305.4,22312.17,22303.04,22296.97,22296.72,22299.51,22304.94,22306.79,22301.75,22318.76,22326.97,22324.19,22328.37,22323.26,22328.26,22316.3,22323.61,22333.49,22326.94,22327.78,22324.9,22319.57,22316.0,22316.04,22330.59,22328.55,22326.29,22328.69,22326.59,22327.5,22320.36,22320.0,22311.5,22310.93,22311.6,22306.82,22314.49,22315.6,22324.24,22326.31,22331.69,22329.04,22335.6,22339.36,22339.68,22337.83,22330.86,22336.34,22330.69,22332.99,22328.85,22337.29,22338.25,22334.09,22330.53,22332.82,22327.29,22334.49,22338.3,22338.89,22338.36,22336.52,22342.45,22343.4,22343.45,22348.61,22346.92,22341.81,22351.21,22342.99,22343.04,22343.41,22343.26,22344.66,22342.63,22338.9,22342.12,22339.84,22345.55,22340.98,22338.65,22339.18,22341.93,22338.63,22337.2,22336.21,22338.4,22341.11,22340.45,22336.43,22322.78,22316.11,22319.6,22318.74,22322.35,22319.23,22325.29,22324.4,22321.02,22328.83,22330.56,22350.57,22350.02,22343.43,22344.63,22343.58,22340.99,22336.16,22328.6,22328.78,22327.45,22330.26,22323.81,22322.07,22328.83,22331.7,22336.72,22331.15,22333.13,22328.07,22331.78,22327.87,22348.35,22359.05,22386.23,22378.62,22378.79,22381.56,22367.65,22372.63,22366.13,22363.39,22361.8,22358.84,22351.01,22375.62,22382.88,22388.91,22392.85,22391.66,22390.05,22394.9,22407.95,22472.09,22464.14,22553.87,22614.2,22592.8,22539.32,22532.35,22545.28,22560.89,22556.06,22574.3,22608.0,22566.81,22600.22,22598.37,22609.46,22584.58,22610.74,22618.33,22609.7,22601.42,22607.22,22609.5,22595.14,22593.58,22577.34,22572.96,22566.99,22557.09,22556.11,22577.28,22566.54,22591.06,22579.25,22590.95,22586.82,22577.81,22586.2,22583.3,22582.33,22582.05,22574.77,22585.17,22600.22,22598.42,22603.29,22592.4,22585.75,22599.72,22590.36,22587.59,22585.81,22589.52,22584.98,22583.47,22572.53,22570.4,22561.82,22559.86,22562.52,22554.75,22556.2,22539.03,22541.05,22545.55,22544.8,22476.85,22433.66,22405.94,22292.6,22268.75,22289.68,22264.47,22260.9,22303.79,22325.58,22345.16,22334.64,22334.04,22308.89,22319.21,22369.02,22360.95,22359.67,22364.49,22349.65,22349.18,22372.74,22357.27,22349.36,22363.27,22356.18,22358.8,22362.43,22369.16,22362.0,22359.34,22368.53,22368.52,22366.44,22379.5,22385.17,22394.63,22422.43,22417.58,22397.75,22413.76,22409.22,22409.01,22411.14,22411.94,22406.62,22406.48,22410.67,22409.01,22408.09,22418.58,22413.77,22407.97,22413.06,22406.49,22408.77,22418.95,22414.05,22422.39,22396.39,22402.67,22410.0,22418.0,22421.3,22421.22,22416.37,22411.46,22415.44,22419.76,22415.93,22409.84,22409.08,22418.27,22416.62,22414.25,22403.82,22410.29,22410.65,22413.49,22409.28,22402.32,22389.16,22397.43,22399.26,22387.02,22378.88,22386.02,22382.61,22401.58,22412.28,22410.86,22413.43,22426.08,22440.0,22430.3,22424.63,22433.55,22438.74,22432.2,22435.34,22443.84,22452.0,22456.79,22456.29,22448.78,22457.32,22455.6,22446.37,22444.27,22440.34,22446.78,22437.43,22443.7,22444.12,22432.04,22433.95,22436.34,22432.59,22439.03,22446.53,22445.93,22435.34,22416.29,22423.54,22430.53,22430.23,22428.73,22422.4,22428.91,22435.72,22436.43,22441.4,22440.01,22434.04,22439.97,22434.82,22425.51,22428.65,22430.74,22433.99,22444.0,22463.04,22458.97,22457.06,22449.61,22445.77,22441.24,22440.64,22438.5,22432.84,22428.47,22427.3,22432.46,22432.6,22424.59,22418.87,22429.64,22422.53,22422.72,22422.1,22423.77,22431.5,22432.53,22431.5,22430.75,22427.01,22427.65,22424.57,22429.04,22430.94,22430.37,22426.31,22430.54,22431.28,22428.56,22430.53,22427.5,22425.38,22419.02,22421.42,22419.77,22424.42,22418.74,22400.86,22409.33,22399.31,22401.82,22414.03,22407.98,22408.01,22402.7,22400.03,22402.06,22409.64,22404.11,22409.39,22412.36,22416.33,22416.96,22412.41,22419.5,22426.06,22422.53,22426.58,22424.16,22415.51,22418.99,22416.15,22417.48,22419.35,22416.55,22413.24,22415.54,22410.39,22416.5,22417.83,22410.63,22411.86,22413.81,22409.68,22411.96,22413.29,22412.36,22403.24,22408.74,22412.76,22417.67,22420.78,22416.87,22412.19,22412.76,22414.43,22417.2,22417.27,22407.94,22406.7,22406.9,22405.02,22405.67,22405.71,22411.61,22417.72,22416.16,22418.22,22415.42,22414.66,22414.68,22417.47,22419.46,22420.59,22421.14,22420.55,22416.99,22411.34,22414.07,22414.14,22415.07,22412.87,22411.21,22409.73,22409.1,22423.42,22424.17,22421.03,22418.95,22418.33,22415.5,22416.46,22409.23,22402.51,22400.25,22384.92,22381.96,22386.94,22392.87,22391.49,22377.47,22383.89,22390.4,22386.67,22391.56,22390.59,22377.9,22383.42,22390.68,22389.48,22399.13,22391.74,22390.32,22383.39,22385.78,22380.24,22384.4,22388.41,22386.88,22389.87,22388.18,22390.66,22389.1,22380.22,22382.0,22388.88,22391.25,22388.43,22388.96,22386.71,22385.76,22385.39,22377.42,22383.41,22384.88,22383.04,22378.71,22378.01,22368.69,22371.33,22369.45,22371.62,22372.83,22373.12,22369.6,22374.42,22372.06,22371.16,22371.28,22371.02,22377.21,22378.42,22383.13,22376.83,22369.64,22368.5,22373.85,22380.85,22377.07,22377.54,22379.1,22379.47,22382.38,22387.52,22391.9,22393.59,22387.36,22381.44,22379.92,22380.22,22379.2,22385.3,22375.13,22373.91,22370.38,22370.38,22373.41,22373.66,22371.44,22373.78,22372.19,22367.46,22368.53,22369.92,22369.47,22368.65,22367.15,22368.15,22367.74,22350.57,22350.58,22339.55,22338.54,22343.17,22350.09,22356.51,22349.79,22350.9,22345.02,22349.63,22343.35,22338.37,22341.57,22343.76,22343.31,22337.7,22332.92,22329.3,22335.1,22333.52,22341.67,22337.53,22334.74,22334.04,22328.5,22328.15,22338.34,22351.25,22345.35,22348.41,22348.31,22350.31,22354.38,22367.23,22371.27,22367.91,22371.45,22371.59,22373.07,22373.55,22369.9,22371.15,22383.2,22390.31,22383.35,22377.37,22366.35,22367.29,22365.51,22371.36,22370.51,22369.55,22382.7,22385.3,22394.08,22391.52,22380.98,22382.59,22372.97,22378.71,22375.17,22375.6,22382.0,22383.85,22381.55,22378.2,22381.56,22389.48,22379.98,22377.17,22372.51,22373.48,22371.9,22372.98,22373.44,22369.18,22370.61,22374.88,22374.63,22373.3,22369.13,22375.58,22375.6,22375.14,22376.31,22374.37,22367.45,22369.28,22371.21,22370.8,22373.18,22374.51,22374.4,22370.52,22368.71,22365.39,22364.34,22364.76,22365.13,22368.4,22370.01,22370.44,22369.3,22388.19,22413.91,22438.79,22419.0,22409.7,22409.04,22396.13],\"high\":[22311.65,22312.24,22311.17,22313.66,22310.17,22307.99,22306.53,22305.84,22306.0,22308.39,22308.88,22310.81,22310.83,22310.22,22307.32,22304.73,22296.03,22296.71,22278.72,22280.41,22286.03,22288.41,22302.67,22311.85,22317.57,22317.62,22312.77,22307.76,22323.34,22328.21,22330.26,22327.84,22325.4,22327.34,22326.88,22324.3,22322.28,22322.18,22324.3,22370.0,22329.72,22325.53,22319.51,22320.15,22321.45,22323.31,22323.61,22320.01,22316.71,22316.42,22322.11,22322.1,22321.43,22320.63,22321.78,22319.19,22316.46,22317.98,22320.65,22325.76,22322.1,22323.6,22323.3,22321.38,22318.23,22321.05,22322.59,22321.8,22321.29,22322.64,22324.31,22325.39,22325.01,22325.21,22322.74,22324.09,22323.84,22325.15,22324.67,22324.3,22321.26,22318.94,22318.27,22317.11,22304.71,22298.22,22298.82,22300.86,22301.5,22291.22,22290.24,22290.39,22291.32,22291.21,22291.46,22288.56,22289.69,22286.41,22287.49,22287.74,22291.04,22292.54,22293.93,22271.15,22274.39,22273.25,22268.78,22269.93,22283.32,22282.68,22283.93,22289.56,22284.91,22284.42,22283.68,22284.61,22277.71,22277.71,22260.14,22263.48,22259.67,22265.16,22265.2,22262.07,22254.67,22254.11,22256.85,22250.86,22248.98,22254.03,22254.21,22251.33,22254.25,22263.86,22263.48,22261.21,22261.47,22244.75,22225.89,22223.61,22226.89,22226.89,22216.91,22215.17,22210.16,22225.2,22228.1,22225.89,22221.07,22224.56,22234.31,22285.61,22260.17,22258.95,22341.15,22253.32,22255.5,22245.03,22238.06,22249.85,22254.21,22251.82,22250.7,22249.96,22240.0,22232.23,22229.98,22234.93,22233.01,22225.63,22219.61,22220.08,22217.46,22203.3,22203.26,22202.68,22194.5,22201.78,22196.62,22214.05,22212.7,22244.98,22308.05,22239.61,22256.55,22253.88,22245.28,22246.36,22249.23,22251.23,22245.09,22243.79,22245.69,22242.4,22228.81,22231.35,22221.09,22216.43,22217.08,22211.86,22205.93,22217.2,22218.28,22215.18,22210.18,22231.94,22237.31,22224.01,22219.96,22223.06,22213.95,22216.49,22235.31,22232.2,22232.44,22236.89,22229.84,22231.52,22223.82,22219.99,22234.57,22233.65,22228.29,22212.7,22218.15,22218.08,22211.58,22206.35,22199.76,22199.99,22195.28,22193.49,22236.89,22223.72,22209.84,22220.19,22219.81,22213.31,22216.48,22209.35,22218.28,22214.15,22218.71,22214.78,22221.95,22238.83,22227.62,22215.59,22214.03,22211.76,22212.19,22213.88,22213.05,22220.28,22222.33,22227.44,22227.3,22226.2,22223.59,22228.47,22341.15,22241.94,22245.7,22246.43,22352.94,22295.26,22405.9,22352.94,22341.94,22334.28,22334.21,22320.84,22312.85,22416.05,22442.71,22334.16,22337.29,22335.08,22328.12,22349.0,22345.32,22352.69,22355.57,22348.42,22344.85,22336.77,22344.32,22342.31,22343.47,22344.03,22333.68,22314.72,22317.65,22314.35,22314.61,22313.2,22312.17,22314.67,22306.85,22307.37,22307.25,22304.94,22306.79,22313.36,22318.76,22444.68,22329.61,22329.3,22328.11,22328.26,22330.77,22331.55,22333.88,22333.03,22329.06,22328.59,22324.78,22320.11,22316.61,22331.0,22330.59,22330.14,22330.23,22329.86,22327.68,22327.38,22320.63,22320.46,22312.16,22316.59,22312.0,22314.49,22316.37,22324.24,22329.64,22342.06,22337.93,22337.68,22339.36,22344.13,22341.73,22338.39,22341.06,22337.23,22333.52,22333.19,22340.42,22338.25,22337.73,22334.8,22333.32,22333.23,22334.49,22454.08,22339.35,22339.21,22337.96,22342.45,22343.4,22343.5,22350.0,22348.84,22346.78,22351.21,22351.83,22348.99,22343.41,22348.26,22346.14,22347.73,22343.3,22345.17,22343.03,22347.04,22345.43,22341.07,22340.91,22343.09,22342.07,22341.14,22338.08,22338.4,22343.05,22342.22,22340.15,22336.5,22325.04,22319.88,22320.0,22322.36,22322.01,22326.26,22328.63,22324.9,22328.92,22330.74,22355.63,22356.78,22353.84,22344.63,22344.38,22344.35,22346.01,22338.34,22331.41,22328.97,22332.13,22332.48,22324.63,22328.83,22332.97,22336.72,22337.31,22333.22,22333.7,22335.12,22332.2,22349.05,22362.08,22386.23,22387.03,22382.16,22386.66,22382.34,22376.33,22376.0,22366.77,22363.86,22363.3,22359.51,22375.62,22391.28,22397.09,22396.37,22391.66,22394.95,22394.9,22407.95,22487.13,22496.39,22573.82,22614.2,22609.95,22543.53,22547.01,22565.24,22560.89,22566.18,22575.61,22616.83,22620.38,22605.39,22602.71,22618.46,22608.28,22610.76,22620.86,22618.38,22609.37,22608.78,22619.95,22607.52,22598.96,22596.26,22577.0,22572.7,22569.26,22565.52,22580.53,22588.16,22591.06,22589.93,22590.95,22600.67,22588.47,22597.18,22591.98,22590.21,22585.9,22582.55,22586.94,22607.41,22602.12,22608.74,22601.05,22592.81,22599.72,22606.68,22592.7,22587.24,22592.32,22595.73,22586.34,22583.47,22572.69,22570.37,22567.04,22566.83,22564.22,22559.05,22556.23,22545.97,22545.99,22545.84,22545.23,22482.35,22433.66,22405.82,22293.2,22294.55,22279.67,22268.88,22311.25,22325.58,22349.67,22341.21,22342.78,22336.5,22319.21,22377.88,22371.25,22360.38,22374.68,22363.91,22353.18,22372.74,22370.5,22358.34,22363.3,22368.53,22367.41,22366.43,22374.43,22375.42,22363.17,22513.66,22368.67,22371.27,22403.31,22568.0,22396.4,22422.43,22423.05,22417.1,22413.76,22413.72,22420.3,22411.14,22413.88,22415.16,22411.68,22418.82,22413.2,22410.92,22568.1,22529.36,22415.38,22413.06,22413.97,22408.77,22423.02,22423.02,22439.2,22424.13,22406.61,22410.0,22423.38,22423.36,22421.3,22421.44,22416.61,22415.44,22421.11,22419.82,22415.82,22409.84,22419.83,22418.92,22416.62,22414.56,22410.75,22418.38,22413.49,22413.81,22411.3,22402.32,22397.98,22400.63,22399.85,22393.73,22386.65,22388.19,22407.71,22412.28,22414.13,22413.43,22426.08,22440.0,22460.25,22439.41,22435.12,22443.99,22438.82,22438.41,22446.89,22460.58,22457.23,22456.29,22461.55,22457.32,22459.22,22457.09,22449.69,22445.72,22446.78,22445.4,22444.62,22448.95,22444.08,22438.49,22441.52,22437.23,22441.86,22447.52,22447.7,22445.93,22435.92,22432.75,22430.53,22435.09,22431.89,22429.2,22429.66,22435.72,22438.67,22442.4,22443.42,22440.4,22440.14,22439.68,22436.08,22428.65,22432.16,22438.23,22444.0,22467.15,22464.7,22458.91,22458.55,22449.61,22448.75,22444.83,22442.88,22438.59,22433.27,22432.44,22434.16,22433.24,22432.6,22429.63,22429.64,22431.29,22424.97,22423.29,22423.77,22431.91,22434.25,22433.18,22432.04,22432.05,22428.57,22427.77,22429.04,22432.98,22432.67,22434.57,22430.87,22434.37,22432.27,22430.9,22430.34,22428.4,22426.92,22421.7,22422.17,22425.38,22424.35,22418.85,22409.83,22413.68,22402.96,22414.03,22414.63,22409.41,22408.59,22402.27,22402.71,22409.64,22409.58,22409.39,22509.4,22418.91,22418.32,22422.39,22419.62,22426.27,22428.46,22426.78,22426.42,22423.75,22419.0,22419.91,22419.66,22419.35,22419.12,22417.49,22416.61,22415.54,22416.5,22420.49,22417.83,22415.71,22416.62,22416.69,22413.18,22413.29,22413.4,22414.03,22409.92,22413.9,22417.7,22423.31,22421.26,22417.01,22413.83,22414.83,22417.2,22417.84,22417.87,22409.43,22409.12,22408.11,22405.81,22407.66,22412.96,22417.79,22420.62,22418.26,22420.12,22415.78,22416.02,22418.76,22423.16,22420.72,22422.24,22421.32,22420.86,22417.75,22416.2,22414.14,22415.45,22415.33,22414.06,22411.48,22410.2,22423.49,22424.73,22424.46,22421.66,22419.67,22418.67,22418.69,22416.58,22409.04,22405.11,22400.25,22387.03,22390.2,22392.99,22395.86,22390.84,22383.89,22393.91,22391.26,22391.56,22395.41,22390.26,22384.05,22393.43,22393.15,22400.47,22400.63,22392.37,22390.86,22388.55,22388.29,22384.4,22390.72,22390.78,22389.87,22392.57,22390.66,22390.18,22389.06,22382.0,22388.88,22393.01,22391.26,22388.96,22389.11,22386.8,22387.02,22385.94,22385.73,22384.88,22384.81,22383.13,22378.22,22377.5,22371.65,22375.84,22371.93,22372.83,22375.27,22372.88,22374.42,22373.88,22372.06,22372.5,22372.52,22377.44,22378.42,22383.13,22382.92,22377.73,22375.23,22373.85,22381.54,22381.92,22378.75,22379.34,22379.92,22383.03,22387.52,22391.9,22393.59,22396.97,22388.73,22382.5,22380.32,22380.44,22385.94,22385.62,22375.46,22374.11,22374.09,22373.91,22374.36,22375.05,22373.78,22373.75,22373.93,22368.54,22371.06,22371.65,22369.52,22370.29,22368.27,22369.09,22367.17,22351.28,22352.16,22345.23,22351.42,22351.11,22361.28,22357.2,22355.94,22351.16,22351.61,22352.3,22343.58,22346.89,22344.55,22344.35,22343.31,22339.14,22334.38,22335.1,22339.22,22341.67,22341.65,22340.26,22335.31,22334.53,22329.1,22340.33,22352.12,22351.03,22348.78,22350.66,22354.55,22354.38,22370.48,22371.27,22375.05,22371.52,22375.35,22373.07,22373.55,22374.03,22373.85,22383.2,22392.42,22390.16,22384.92,22378.79,22367.29,22369.04,22372.45,22371.51,22371.95,22387.86,22389.68,22395.01,22394.47,22388.94,22385.4,22385.02,22378.71,22377.47,22377.45,22383.76,22385.94,22384.45,22381.08,22383.3,22391.8,22389.26,22380.15,22377.57,22374.31,22373.02,22374.57,22373.44,22374.07,22372.98,22375.32,22375.33,22374.86,22373.64,22375.58,22405.33,22376.4,22376.31,22376.52,22370.29,22369.64,22371.21,22373.8,22373.43,22375.67,22374.51,22375.8,22371.46,22369.16,22367.5,22366.69,22365.86,22368.72,22370.87,22371.83,22371.31,22388.84,22424.48,22448.15,22440.27,22423.81,22421.84,22409.55],\"low\":[22306.39,22309.08,22307.65,22308.36,22306.8,22302.59,22304.35,22304.29,22304.21,22304.39,22305.68,22308.39,22308.55,22306.55,22303.98,22295.27,22280.31,22250.0,22264.48,22274.56,22278.68,22284.34,22285.8,22286.14,22309.77,22311.27,22299.23,22300.25,22302.82,22321.85,22321.05,22322.93,22321.02,22324.0,22322.84,22319.47,22314.94,22316.05,22320.22,22322.49,22324.88,22319.28,22317.91,22318.08,22316.53,22316.6,22319.53,22315.48,22315.29,22314.44,22314.44,22320.4,22317.51,22317.76,22317.84,22315.79,22312.6,22314.24,22314.69,22314.69,22320.12,22320.66,22321.07,22316.79,22316.38,22316.8,22321.22,22320.96,22320.34,22320.6,22321.64,22322.68,22324.09,22321.6,22317.82,22319.1,22320.8,22322.65,22323.32,22320.4,22318.46,22317.59,22316.25,22304.21,22293.75,22293.6,22295.86,22296.64,22291.05,22283.97,22287.15,22286.99,22288.11,22289.97,22288.11,22281.32,22283.82,22282.47,22280.99,22286.31,22287.26,22289.2,22240.72,22253.37,22260.97,22255.72,22264.49,22263.91,22269.93,22277.51,22279.85,22278.24,22282.66,22282.16,22281.86,22259.54,22263.05,22248.18,22248.82,22250.04,22254.74,22253.97,22260.6,22252.97,22238.07,22242.03,22248.57,22243.25,22244.89,22247.81,22250.1,22246.4,22246.07,22253.94,22258.33,22259.65,22245.86,22213.01,22210.1,22218.06,22218.93,22215.25,22201.13,22198.6,22195.84,22202.55,22192.29,22211.43,22211.22,22214.32,22216.09,22229.18,22242.05,22247.93,22241.9,22234.3,22190.2,22177.74,22174.61,22232.26,22247.24,22246.97,22242.54,22235.46,22221.12,22224.64,22224.46,22225.8,22214.97,22189.08,22214.36,22215.6,22194.56,22186.51,22196.09,22193.46,22185.48,22187.3,22190.16,22193.55,22207.48,22208.58,22216.15,22208.37,22239.61,22235.55,22236.94,22241.77,22241.61,22241.09,22238.78,22237.03,22240.42,22224.72,22218.6,22219.27,22206.9,22199.16,22201.87,22199.15,22197.26,22196.82,22194.03,22205.19,22203.28,22204.77,22202.88,22215.88,22210.42,22208.23,22208.0,22209.37,22215.1,22222.93,22222.56,22226.48,22220.44,22220.7,22212.46,22213.72,22215.77,22221.08,22210.71,22198.56,22203.84,22207.8,22203.02,22199.12,22197.58,22194.66,22186.46,22183.01,22177.28,22203.21,22195.08,22198.48,22208.29,22198.29,22201.49,22200.0,22206.17,22206.84,22208.15,22208.15,22210.46,22217.38,22209.85,22209.67,22209.36,22208.91,22204.67,22204.34,22206.16,22210.66,22215.06,22220.8,22220.46,22222.64,22221.74,22223.39,22229.49,22234.5,22238.55,22241.85,22244.81,22251.3,22256.19,22318.43,22330.12,22329.17,22313.55,22263.16,22263.16,22300.55,22301.02,22316.09,22315.74,22325.29,22324.8,22326.55,22337.74,22335.36,22342.5,22334.99,22331.5,22328.65,22332.03,22332.0,22334.46,22332.14,22313.0,22304.83,22302.71,22304.98,22310.81,22305.09,22295.88,22302.83,22296.52,22295.44,22295.61,22299.21,22302.5,22291.84,22301.46,22308.74,22305.98,22322.34,22322.97,22322.55,22315.79,22312.84,22321.74,22326.59,22325.67,22324.75,22318.93,22312.68,22309.36,22313.91,22324.07,22322.85,22326.22,22326.15,22326.1,22319.23,22317.86,22311.16,22307.64,22310.36,22305.01,22306.31,22313.66,22313.6,22315.51,22326.33,22326.29,22329.15,22335.14,22339.14,22337.59,22329.24,22331.28,22330.35,22331.18,22327.81,22328.85,22333.3,22334.08,22330.29,22328.11,22325.94,22326.98,22333.35,22332.6,22338.2,22335.47,22336.02,22341.84,22342.18,22343.33,22346.04,22341.18,22342.04,22342.5,22343.04,22341.7,22343.19,22343.06,22342.63,22338.23,22338.9,22339.26,22339.39,22339.32,22338.41,22337.46,22339.39,22337.81,22337.2,22335.29,22335.73,22338.4,22339.72,22334.94,22315.89,22315.86,22315.88,22316.19,22317.55,22315.39,22319.23,22323.8,22319.69,22320.96,22327.27,22330.56,22349.49,22341.4,22335.51,22336.55,22339.32,22336.16,22323.41,22328.78,22322.25,22324.41,22323.81,22320.66,22322.12,22330.65,22330.3,22331.05,22330.81,22327.63,22327.66,22327.32,22325.89,22348.34,22361.23,22376.02,22376.44,22376.61,22367.43,22366.88,22366.13,22360.51,22357.05,22358.84,22349.55,22351.01,22352.86,22377.62,22386.6,22384.71,22387.44,22389.12,22389.55,22391.31,22454.01,22390.66,22546.21,22585.85,22519.28,22531.35,22542.05,22542.9,22553.34,22553.19,22573.96,22560.72,22579.69,22591.54,22602.93,22584.1,22584.44,22603.74,22607.71,22601.14,22597.43,22609.5,22595.14,22593.58,22572.14,22567.06,22557.41,22506.72,22555.35,22553.52,22506.72,22567.53,22578.35,22573.19,22586.12,22576.92,22577.17,22582.91,22582.33,22578.71,22574.77,22574.18,22529.36,22594.33,22597.32,22590.82,22578.75,22586.74,22589.39,22585.4,22585.27,22585.85,22584.98,22505.51,22572.53,22569.0,22561.12,22559.05,22559.56,22552.66,22553.92,22536.38,22538.1,22540.36,22542.05,22474.2,22422.18,22393.67,22202.46,22233.02,22257.59,22257.6,22236.24,22202.46,22295.2,22296.62,22320.59,22321.52,22303.15,22307.23,22319.21,22357.35,22342.29,22358.99,22344.02,22343.33,22345.24,22354.88,22346.63,22349.92,22351.04,22353.51,22359.01,22362.0,22362.0,22359.06,22359.48,22366.28,22366.03,22364.88,22378.32,22378.6,22394.63,22417.58,22397.75,22393.51,22391.95,22407.96,22405.06,22407.13,22404.29,22184.68,22402.3,22407.7,22406.9,22408.09,22413.57,22403.97,22404.22,22406.49,22406.13,22407.52,22407.87,22395.68,22373.29,22396.73,22400.14,22405.29,22415.42,22417.55,22416.37,22411.46,22410.84,22412.99,22415.58,22409.83,22403.8,22408.64,22416.62,22412.07,22402.99,22403.43,22407.89,22407.59,22407.17,22401.48,22388.68,22385.88,22396.68,22385.9,22378.22,22373.58,22379.09,22378.04,22397.73,22409.4,22408.85,22409.1,22418.46,22416.83,22414.82,22422.32,22426.97,22431.83,22431.11,22435.76,22443.73,22449.59,22449.57,22443.97,22443.43,22453.33,22443.04,22444.27,22435.65,22440.09,22434.53,22435.93,22443.7,22432.04,22429.71,22431.68,22431.78,22432.15,22438.57,22445.87,22434.79,22410.98,22414.69,22412.11,22428.56,22427.62,22422.4,22422.4,22429.42,22434.31,22436.62,22438.53,22429.16,22430.6,22433.66,22425.51,22423.03,22426.78,22430.95,22435.32,22443.93,22452.66,22450.43,22448.37,22443.57,22440.56,22440.64,22436.41,22431.79,22426.76,22427.14,22426.66,22427.73,22422.93,22418.54,22416.84,22422.53,22421.86,22421.49,22421.39,22423.77,22429.88,22431.02,22430.75,22425.59,22422.72,22424.36,22422.6,22427.57,22429.66,22426.31,22425.6,22427.81,22427.36,22427.22,22427.47,22425.38,22419.02,22415.31,22418.46,22419.15,22418.38,22392.46,22400.32,22398.08,22370.87,22402.17,22407.7,22407.32,22402.09,22399.4,22399.04,22398.62,22403.59,22404.11,22408.64,22410.44,22416.23,22411.56,22412.38,22419.75,22421.82,22422.31,22421.99,22414.71,22415.44,22416.15,22415.49,22416.06,22414.81,22410.96,22413.16,22410.39,22409.68,22409.56,22410.63,22409.44,22411.43,22409.28,22410.18,22409.92,22409.42,22402.94,22403.41,22407.51,22410.66,22416.78,22416.87,22411.42,22410.71,22412.06,22412.64,22415.35,22405.76,22405.23,22406.72,22404.69,22403.81,22404.27,22405.89,22411.41,22416.16,22415.67,22415.26,22413.77,22413.84,22415.01,22417.61,22417.96,22420.67,22419.36,22416.99,22407.75,22409.31,22409.88,22411.06,22410.58,22411.21,22409.67,22408.58,22409.29,22422.78,22420.7,22415.81,22417.3,22415.5,22415.08,22409.23,22400.27,22399.46,22290.7,22381.96,22381.96,22382.05,22391.49,22377.47,22368.15,22384.07,22385.66,22386.12,22389.64,22375.49,22371.27,22381.71,22388.55,22389.4,22390.1,22389.3,22382.87,22382.22,22376.01,22377.51,22382.87,22385.47,22385.56,22388.08,22388.09,22388.95,22377.82,22379.33,22381.61,22387.44,22386.17,22386.0,22384.92,22385.67,22385.01,22376.35,22377.42,22382.28,22382.18,22376.72,22376.08,22368.59,22362.74,22369.45,22367.96,22370.98,22372.11,22368.24,22369.28,22370.23,22369.88,22370.57,22370.76,22370.55,22375.33,22378.01,22376.46,22369.31,22367.37,22367.94,22374.1,22376.84,22376.73,22377.35,22378.27,22379.11,22382.82,22387.38,22391.0,22387.36,22379.73,22379.61,22371.81,22376.89,22379.22,22374.73,22372.07,22368.88,22370.38,22370.09,22372.65,22370.81,22370.05,22371.56,22367.46,22365.68,22368.68,22369.47,22366.07,22367.14,22364.3,22366.04,22340.99,22341.67,22339.4,22338.54,22337.43,22344.01,22346.26,22347.09,22348.75,22345.02,22340.18,22341.37,22336.78,22338.37,22337.67,22343.01,22337.28,22329.8,22328.61,22328.2,22329.96,22328.32,22331.63,22333.98,22333.34,22327.7,22317.8,22328.23,22335.79,22343.35,22343.26,22348.04,22346.37,22349.66,22351.36,22366.4,22367.19,22366.77,22370.84,22370.02,22368.65,22369.9,22369.95,22371.73,22383.18,22383.35,22377.11,22235.91,22362.63,22365.51,22364.58,22365.32,22367.45,22369.33,22378.39,22383.55,22387.47,22380.3,22380.8,22372.67,22372.62,22374.21,22375.34,22374.28,22379.46,22381.35,22376.05,22378.22,22382.13,22378.46,22376.08,22371.58,22372.46,22369.73,22372.01,22372.41,22369.18,22368.74,22370.53,22371.7,22373.3,22365.96,22367.79,22373.97,22374.85,22374.71,22374.37,22367.26,22367.31,22369.17,22370.8,22370.48,22372.52,22371.34,22370.52,22368.43,22365.39,22364.3,22364.51,22363.77,22365.47,22367.6,22369.95,22369.3,22369.07,22368.73,22409.76,22368.35,22367.47,22408.77,22395.42],\"open\":[22310.87,22309.08,22310.12,22308.62,22310.12,22307.48,22305.56,22305.57,22304.69,22305.23,22306.91,22308.57,22310.19,22310.22,22307.03,22304.09,22294.88,22290.1,22265.77,22276.62,22280.3,22284.49,22285.94,22295.56,22311.48,22317.62,22310.7,22307.34,22303.18,22321.85,22327.51,22323.61,22324.02,22325.17,22326.24,22323.1,22321.81,22316.52,22321.86,22370.0,22328.99,22325.51,22319.34,22318.08,22319.79,22316.6,22322.2,22319.7,22315.79,22315.69,22314.45,22321.82,22321.14,22320.63,22317.84,22319.04,22316.3,22314.33,22317.67,22320.17,22322.1,22320.66,22321.49,22321.29,22317.85,22317.21,22321.23,22321.61,22320.88,22320.67,22321.95,22322.69,22324.44,22324.97,22322.59,22320.25,22323.16,22322.65,22323.45,22323.92,22321.26,22318.89,22317.86,22316.97,22303.99,22293.6,22296.28,22297.74,22299.99,22290.54,22289.85,22287.22,22290.66,22290.84,22290.69,22288.41,22283.82,22284.56,22282.19,22286.84,22287.36,22289.41,22291.65,22270.76,22265.5,22260.99,22265.85,22266.45,22269.93,22282.68,22280.73,22281.29,22284.91,22282.8,22283.13,22283.65,22263.07,22265.68,22260.1,22250.13,22257.88,22254.74,22264.38,22262.07,22254.08,22242.97,22253.07,22247.63,22248.01,22249.68,22253.5,22250.12,22246.3,22253.94,22262.24,22260.33,22260.47,22241.15,22215.25,22221.47,22221.24,22226.89,22216.91,22206.33,22203.63,22204.94,22223.94,22213.73,22212.77,22218.18,22220.83,22232.57,22251.44,22248.85,22258.23,22249.68,22247.91,22242.4,22234.71,22234.25,22250.59,22248.7,22250.52,22249.96,22235.7,22231.65,22224.64,22225.8,22233.01,22218.71,22215.04,22215.64,22217.46,22195.13,22196.34,22202.59,22194.41,22187.3,22193.11,22195.5,22210.92,22208.75,22244.85,22239.61,22239.61,22242.02,22237.79,22242.52,22241.83,22248.85,22241.09,22241.2,22243.14,22240.66,22219.14,22227.43,22219.1,22212.53,22202.68,22206.84,22199.22,22201.63,22196.82,22210.54,22206.5,22204.77,22224.78,22222.97,22217.31,22214.62,22210.66,22213.99,22217.34,22232.2,22225.43,22231.81,22229.18,22229.77,22223.73,22219.05,22216.22,22230.59,22228.29,22211.88,22206.8,22217.29,22210.35,22204.65,22199.69,22199.76,22195.28,22189.19,22230.72,22219.51,22207.68,22198.48,22214.62,22212.67,22208.58,22201.84,22209.35,22211.24,22212.52,22212.76,22213.65,22217.38,22225.78,22212.51,22210.26,22211.15,22212.13,22212.16,22209.01,22211.48,22218.35,22221.8,22226.96,22224.04,22222.89,22223.39,22229.57,22235.69,22238.55,22244.72,22245.57,22251.3,22297.27,22334.56,22330.75,22334.28,22330.11,22319.8,22299.88,22312.84,22306.31,22316.21,22329.86,22335.08,22327.66,22327.41,22338.52,22337.76,22352.69,22348.42,22337.1,22332.23,22332.55,22342.31,22335.32,22340.97,22331.97,22312.36,22307.44,22309.28,22312.82,22312.43,22305.78,22312.17,22303.24,22296.97,22296.52,22299.51,22304.94,22307.29,22301.76,22319.32,22327.9,22324.02,22328.11,22323.12,22328.94,22316.3,22322.2,22333.03,22326.9,22327.82,22324.75,22319.6,22316.06,22316.84,22330.59,22328.55,22326.63,22328.79,22326.33,22327.37,22320.47,22320.0,22311.47,22310.88,22311.61,22306.31,22314.71,22315.63,22324.38,22326.63,22332.03,22329.48,22336.04,22339.4,22339.68,22337.67,22331.77,22336.34,22331.18,22332.69,22328.85,22336.08,22337.73,22334.35,22330.63,22332.82,22327.52,22334.49,22338.3,22338.3,22337.96,22336.8,22342.45,22343.2,22343.33,22348.84,22346.78,22342.04,22351.32,22343.56,22342.97,22343.41,22343.34,22344.66,22342.63,22338.9,22342.58,22340.09,22345.38,22340.98,22338.75,22339.39,22341.86,22338.76,22337.2,22335.96,22338.4,22340.95,22339.79,22335.72,22323.13,22315.88,22319.6,22318.38,22321.9,22319.23,22325.29,22324.25,22320.96,22328.45,22330.56,22350.8,22350.06,22343.43,22344.38,22343.37,22340.65,22337.91,22329.1,22328.78,22326.9,22329.59,22323.81,22322.2,22330.65,22331.77,22337.08,22331.69,22333.44,22328.05,22331.9,22327.87,22348.4,22361.48,22387.03,22380.66,22376.61,22381.5,22367.9,22372.52,22366.04,22363.39,22361.91,22358.84,22351.01,22373.26,22379.04,22388.91,22390.86,22391.66,22391.16,22393.85,22408.36,22454.94,22463.8,22551.45,22595.17,22520.29,22539.4,22556.59,22546.02,22561.66,22555.53,22573.96,22611.31,22580.22,22598.07,22605.17,22608.13,22585.19,22606.8,22618.38,22609.18,22601.42,22616.0,22607.3,22595.14,22594.47,22577.0,22572.41,22567.69,22557.09,22556.11,22577.3,22567.53,22589.93,22579.62,22600.67,22587.84,22577.88,22586.3,22583.32,22582.28,22582.4,22574.77,22584.46,22600.22,22598.42,22601.05,22592.81,22586.74,22599.72,22590.26,22587.24,22586.13,22589.82,22584.98,22583.47,22572.41,22570.17,22561.82,22559.98,22561.5,22555.6,22556.22,22539.03,22541.05,22545.42,22544.8,22476.85,22427.63,22405.82,22293.2,22269.98,22279.53,22266.51,22261.98,22300.71,22317.73,22341.17,22334.92,22334.45,22309.45,22319.21,22368.77,22360.38,22360.38,22363.91,22348.45,22350.19,22368.51,22357.0,22349.92,22363.3,22356.04,22359.01,22362.1,22369.74,22362.0,22360.91,22368.51,22368.67,22365.72,22404.05,22385.17,22394.63,22422.43,22416.84,22397.06,22413.32,22409.22,22408.88,22411.64,22411.94,22406.62,22406.34,22410.67,22409.16,22408.09,22419.05,22413.75,22407.97,22412.88,22406.49,22408.77,22421.96,22415.76,22422.39,22396.73,22403.4,22406.8,22416.31,22421.3,22421.22,22416.61,22412.51,22413.18,22419.17,22415.82,22409.84,22408.96,22418.52,22416.62,22414.4,22403.82,22410.29,22409.37,22413.74,22411.3,22402.32,22389.16,22397.36,22399.53,22387.38,22378.88,22386.34,22383.45,22401.39,22412.28,22411.37,22413.43,22426.16,22440.0,22428.18,22425.39,22426.98,22438.49,22432.82,22435.76,22445.06,22451.18,22455.75,22456.46,22445.66,22457.34,22455.6,22446.37,22444.27,22440.34,22445.14,22438.11,22443.7,22443.9,22432.04,22434.04,22436.58,22432.52,22440.77,22445.88,22445.93,22435.13,22416.62,22423.54,22431.6,22430.41,22428.75,22422.4,22429.42,22438.41,22436.86,22441.2,22439.68,22434.04,22438.68,22435.73,22425.16,22428.73,22430.95,22435.58,22444.8,22463.49,22458.44,22456.8,22449.61,22445.77,22441.2,22440.58,22436.41,22432.84,22428.47,22427.42,22429.04,22432.6,22426.25,22419.08,22430.5,22423.01,22422.58,22422.1,22423.77,22431.5,22432.53,22431.42,22430.01,22427.01,22427.42,22424.57,22432.98,22430.36,22430.4,22426.96,22431.03,22431.62,22428.4,22430.34,22427.68,22426.7,22419.33,22421.42,22419.77,22423.99,22418.74,22400.86,22409.95,22398.68,22402.56,22414.03,22407.59,22407.42,22402.11,22400.24,22402.06,22409.57,22404.11,22409.39,22411.55,22416.35,22416.89,22412.53,22419.75,22426.4,22422.97,22426.42,22423.75,22415.51,22419.0,22415.49,22416.98,22419.1,22417.04,22413.16,22415.54,22410.47,22409.7,22417.83,22410.95,22411.59,22413.81,22410.18,22412.05,22413.3,22413.0,22403.55,22407.61,22412.15,22417.33,22420.77,22417.01,22413.73,22413.07,22414.02,22416.86,22417.27,22407.94,22406.76,22406.9,22405.02,22405.75,22405.89,22411.55,22419.22,22415.86,22418.22,22415.59,22414.74,22415.01,22417.61,22419.46,22420.67,22420.97,22420.23,22416.27,22411.34,22414.07,22414.06,22415.07,22412.08,22411.15,22409.73,22409.29,22422.86,22424.46,22419.88,22418.84,22417.93,22415.78,22416.46,22408.8,22402.76,22400.25,22384.58,22381.96,22386.51,22392.93,22390.84,22377.17,22384.07,22390.23,22386.67,22391.27,22390.25,22377.9,22382.72,22390.79,22389.44,22398.78,22391.74,22390.17,22383.39,22385.82,22380.24,22384.4,22388.33,22387.06,22388.69,22388.18,22390.14,22389.06,22380.22,22382.0,22388.88,22391.26,22388.24,22388.96,22386.71,22385.83,22385.77,22377.42,22383.25,22384.77,22383.04,22378.22,22377.5,22368.69,22371.33,22369.45,22371.62,22373.55,22372.88,22369.88,22373.88,22372.06,22371.42,22371.22,22371.23,22377.69,22379.02,22382.92,22376.89,22369.74,22368.54,22374.41,22380.97,22377.07,22377.88,22378.96,22379.43,22382.82,22387.71,22391.74,22393.86,22387.96,22381.56,22379.54,22380.43,22379.22,22385.62,22374.96,22374.11,22370.38,22370.38,22373.64,22373.8,22370.68,22373.67,22372.22,22366.99,22368.68,22369.82,22369.46,22368.94,22367.12,22368.15,22367.17,22350.82,22350.67,22339.64,22340.37,22344.01,22350.09,22356.56,22349.79,22349.84,22350.21,22349.74,22343.35,22338.37,22341.16,22344.05,22343.31,22337.7,22333.26,22328.69,22334.96,22333.52,22333.18,22338.44,22334.8,22334.06,22328.5,22328.75,22338.34,22351.03,22345.39,22348.44,22348.16,22349.66,22353.84,22367.18,22371.27,22367.43,22371.27,22371.63,22372.28,22373.46,22369.95,22372.35,22383.18,22390.16,22383.35,22377.62,22366.6,22366.9,22367.26,22370.94,22370.49,22369.41,22383.68,22385.3,22394.07,22388.28,22381.01,22385.02,22373.16,22376.95,22375.34,22375.6,22381.76,22383.81,22381.08,22378.5,22382.13,22389.26,22379.64,22377.25,22372.46,22372.95,22372.01,22372.84,22373.33,22369.24,22370.61,22374.9,22374.63,22373.5,22369.13,22374.2,22375.69,22375.55,22376.52,22369.37,22367.41,22369.28,22371.17,22371.03,22373.32,22374.51,22374.4,22370.49,22368.26,22364.94,22364.57,22364.76,22365.6,22368.31,22369.95,22370.14,22369.57,22387.56,22417.52,22440.27,22419.3,22409.9,22409.3],\"x\":[\"2023-03-04T17:50:00\",\"2023-03-04T17:51:00\",\"2023-03-04T17:52:00\",\"2023-03-04T17:53:00\",\"2023-03-04T17:54:00\",\"2023-03-04T17:55:00\",\"2023-03-04T17:56:00\",\"2023-03-04T17:57:00\",\"2023-03-04T17:58:00\",\"2023-03-04T17:59:00\",\"2023-03-04T18:00:00\",\"2023-03-04T18:01:00\",\"2023-03-04T18:02:00\",\"2023-03-04T18:03:00\",\"2023-03-04T18:04:00\",\"2023-03-04T18:05:00\",\"2023-03-04T18:06:00\",\"2023-03-04T18:07:00\",\"2023-03-04T18:08:00\",\"2023-03-04T18:09:00\",\"2023-03-04T18:10:00\",\"2023-03-04T18:11:00\",\"2023-03-04T18:12:00\",\"2023-03-04T18:13:00\",\"2023-03-04T18:14:00\",\"2023-03-04T18:15:00\",\"2023-03-04T18:16:00\",\"2023-03-04T18:17:00\",\"2023-03-04T18:18:00\",\"2023-03-04T18:19:00\",\"2023-03-04T18:20:00\",\"2023-03-04T18:21:00\",\"2023-03-04T18:22:00\",\"2023-03-04T18:23:00\",\"2023-03-04T18:24:00\",\"2023-03-04T18:25:00\",\"2023-03-04T18:26:00\",\"2023-03-04T18:27:00\",\"2023-03-04T18:28:00\",\"2023-03-04T18:30:00\",\"2023-03-04T18:31:00\",\"2023-03-04T18:32:00\",\"2023-03-04T18:33:00\",\"2023-03-04T18:34:00\",\"2023-03-04T18:35:00\",\"2023-03-04T18:36:00\",\"2023-03-04T18:37:00\",\"2023-03-04T18:38:00\",\"2023-03-04T18:39:00\",\"2023-03-04T18:40:00\",\"2023-03-04T18:41:00\",\"2023-03-04T18:42:00\",\"2023-03-04T18:43:00\",\"2023-03-04T18:44:00\",\"2023-03-04T18:45:00\",\"2023-03-04T18:46:00\",\"2023-03-04T18:47:00\",\"2023-03-04T18:48:00\",\"2023-03-04T18:49:00\",\"2023-03-04T18:50:00\",\"2023-03-04T18:51:00\",\"2023-03-04T18:52:00\",\"2023-03-04T18:53:00\",\"2023-03-04T18:54:00\",\"2023-03-04T18:55:00\",\"2023-03-04T18:56:00\",\"2023-03-04T18:57:00\",\"2023-03-04T18:58:00\",\"2023-03-04T18:59:00\",\"2023-03-04T19:00:00\",\"2023-03-04T19:01:00\",\"2023-03-04T19:02:00\",\"2023-03-04T19:03:00\",\"2023-03-04T19:04:00\",\"2023-03-04T19:05:00\",\"2023-03-04T19:06:00\",\"2023-03-04T19:07:00\",\"2023-03-04T19:08:00\",\"2023-03-04T19:09:00\",\"2023-03-04T19:10:00\",\"2023-03-04T19:11:00\",\"2023-03-04T19:12:00\",\"2023-03-04T19:13:00\",\"2023-03-04T19:14:00\",\"2023-03-04T19:15:00\",\"2023-03-04T19:16:00\",\"2023-03-04T19:17:00\",\"2023-03-04T19:18:00\",\"2023-03-04T19:19:00\",\"2023-03-04T19:20:00\",\"2023-03-04T19:21:00\",\"2023-03-04T19:22:00\",\"2023-03-04T19:23:00\",\"2023-03-04T19:24:00\",\"2023-03-04T19:25:00\",\"2023-03-04T19:26:00\",\"2023-03-04T19:27:00\",\"2023-03-04T19:28:00\",\"2023-03-04T19:29:00\",\"2023-03-04T19:30:00\",\"2023-03-04T19:31:00\",\"2023-03-04T19:32:00\",\"2023-03-04T19:33:00\",\"2023-03-04T19:34:00\",\"2023-03-04T19:35:00\",\"2023-03-04T19:36:00\",\"2023-03-04T19:37:00\",\"2023-03-04T19:38:00\",\"2023-03-04T19:39:00\",\"2023-03-04T19:40:00\",\"2023-03-04T19:41:00\",\"2023-03-04T19:42:00\",\"2023-03-04T19:43:00\",\"2023-03-04T19:44:00\",\"2023-03-04T19:45:00\",\"2023-03-04T19:46:00\",\"2023-03-04T19:47:00\",\"2023-03-04T19:48:00\",\"2023-03-04T19:49:00\",\"2023-03-04T19:50:00\",\"2023-03-04T19:51:00\",\"2023-03-04T19:52:00\",\"2023-03-04T19:53:00\",\"2023-03-04T19:54:00\",\"2023-03-04T19:55:00\",\"2023-03-04T19:56:00\",\"2023-03-04T19:57:00\",\"2023-03-04T19:58:00\",\"2023-03-04T19:59:00\",\"2023-03-04T20:00:00\",\"2023-03-04T20:01:00\",\"2023-03-04T20:02:00\",\"2023-03-04T20:03:00\",\"2023-03-04T20:04:00\",\"2023-03-04T20:05:00\",\"2023-03-04T20:06:00\",\"2023-03-04T20:07:00\",\"2023-03-04T20:08:00\",\"2023-03-04T20:09:00\",\"2023-03-04T20:10:00\",\"2023-03-04T20:11:00\",\"2023-03-04T20:12:00\",\"2023-03-04T20:13:00\",\"2023-03-04T20:14:00\",\"2023-03-04T20:15:00\",\"2023-03-04T20:16:00\",\"2023-03-04T20:17:00\",\"2023-03-04T20:18:00\",\"2023-03-04T20:19:00\",\"2023-03-04T20:20:00\",\"2023-03-04T20:21:00\",\"2023-03-04T20:22:00\",\"2023-03-04T20:23:00\",\"2023-03-04T20:24:00\",\"2023-03-04T20:25:00\",\"2023-03-04T20:26:00\",\"2023-03-04T20:27:00\",\"2023-03-04T20:28:00\",\"2023-03-04T20:29:00\",\"2023-03-04T20:30:00\",\"2023-03-04T20:31:00\",\"2023-03-04T20:32:00\",\"2023-03-04T20:33:00\",\"2023-03-04T20:34:00\",\"2023-03-04T20:35:00\",\"2023-03-04T20:36:00\",\"2023-03-04T20:37:00\",\"2023-03-04T20:38:00\",\"2023-03-04T20:39:00\",\"2023-03-04T20:40:00\",\"2023-03-04T20:41:00\",\"2023-03-04T20:42:00\",\"2023-03-04T20:43:00\",\"2023-03-04T20:44:00\",\"2023-03-04T20:45:00\",\"2023-03-04T20:46:00\",\"2023-03-04T20:47:00\",\"2023-03-04T20:48:00\",\"2023-03-04T20:49:00\",\"2023-03-04T20:50:00\",\"2023-03-04T20:51:00\",\"2023-03-04T20:52:00\",\"2023-03-04T20:53:00\",\"2023-03-04T20:54:00\",\"2023-03-04T20:55:00\",\"2023-03-04T20:56:00\",\"2023-03-04T20:57:00\",\"2023-03-04T20:58:00\",\"2023-03-04T20:59:00\",\"2023-03-04T21:00:00\",\"2023-03-04T21:01:00\",\"2023-03-04T21:02:00\",\"2023-03-04T21:04:00\",\"2023-03-04T21:05:00\",\"2023-03-04T21:07:00\",\"2023-03-04T21:08:00\",\"2023-03-04T21:09:00\",\"2023-03-04T21:10:00\",\"2023-03-04T21:11:00\",\"2023-03-04T21:12:00\",\"2023-03-04T21:13:00\",\"2023-03-04T21:14:00\",\"2023-03-04T21:15:00\",\"2023-03-04T21:16:00\",\"2023-03-04T21:17:00\",\"2023-03-04T21:18:00\",\"2023-03-04T21:19:00\",\"2023-03-04T21:20:00\",\"2023-03-04T21:21:00\",\"2023-03-04T21:22:00\",\"2023-03-04T21:23:00\",\"2023-03-04T21:24:00\",\"2023-03-04T21:25:00\",\"2023-03-04T21:26:00\",\"2023-03-04T21:27:00\",\"2023-03-04T21:28:00\",\"2023-03-04T21:29:00\",\"2023-03-04T21:30:00\",\"2023-03-04T21:31:00\",\"2023-03-04T21:32:00\",\"2023-03-04T21:33:00\",\"2023-03-04T21:34:00\",\"2023-03-04T21:35:00\",\"2023-03-04T21:36:00\",\"2023-03-04T21:37:00\",\"2023-03-04T21:38:00\",\"2023-03-04T21:39:00\",\"2023-03-04T21:40:00\",\"2023-03-04T21:41:00\",\"2023-03-04T21:42:00\",\"2023-03-04T21:43:00\",\"2023-03-04T21:44:00\",\"2023-03-04T21:47:00\",\"2023-03-04T21:49:00\",\"2023-03-04T21:50:00\",\"2023-03-04T21:51:00\",\"2023-03-04T21:52:00\",\"2023-03-04T21:53:00\",\"2023-03-04T21:54:00\",\"2023-03-04T21:55:00\",\"2023-03-04T21:56:00\",\"2023-03-04T21:57:00\",\"2023-03-04T21:58:00\",\"2023-03-04T21:59:00\",\"2023-03-04T22:00:00\",\"2023-03-04T22:01:00\",\"2023-03-04T22:02:00\",\"2023-03-04T22:03:00\",\"2023-03-04T22:04:00\",\"2023-03-04T22:05:00\",\"2023-03-04T22:06:00\",\"2023-03-04T22:08:00\",\"2023-03-04T22:09:00\",\"2023-03-04T22:10:00\",\"2023-03-04T22:11:00\",\"2023-03-04T22:12:00\",\"2023-03-04T22:13:00\",\"2023-03-04T22:14:00\",\"2023-03-04T22:15:00\",\"2023-03-04T22:16:00\",\"2023-03-04T22:17:00\",\"2023-03-04T22:18:00\",\"2023-03-04T22:19:00\",\"2023-03-04T22:20:00\",\"2023-03-04T22:21:00\",\"2023-03-04T22:22:00\",\"2023-03-04T22:23:00\",\"2023-03-04T22:24:00\",\"2023-03-04T22:25:00\",\"2023-03-04T22:26:00\",\"2023-03-04T22:27:00\",\"2023-03-04T22:28:00\",\"2023-03-04T22:29:00\",\"2023-03-04T22:30:00\",\"2023-03-04T22:31:00\",\"2023-03-04T22:33:00\",\"2023-03-04T22:34:00\",\"2023-03-04T22:35:00\",\"2023-03-04T22:36:00\",\"2023-03-04T22:37:00\",\"2023-03-04T22:38:00\",\"2023-03-04T22:39:00\",\"2023-03-04T22:40:00\",\"2023-03-04T22:41:00\",\"2023-03-04T22:42:00\",\"2023-03-04T22:43:00\",\"2023-03-04T22:44:00\",\"2023-03-04T22:45:00\",\"2023-03-04T22:46:00\",\"2023-03-04T22:47:00\",\"2023-03-04T22:48:00\",\"2023-03-04T22:49:00\",\"2023-03-04T22:50:00\",\"2023-03-04T22:51:00\",\"2023-03-04T22:52:00\",\"2023-03-04T22:53:00\",\"2023-03-04T22:54:00\",\"2023-03-04T22:55:00\",\"2023-03-04T22:56:00\",\"2023-03-04T22:57:00\",\"2023-03-04T22:58:00\",\"2023-03-04T22:59:00\",\"2023-03-04T23:00:00\",\"2023-03-04T23:01:00\",\"2023-03-04T23:02:00\",\"2023-03-04T23:03:00\",\"2023-03-04T23:04:00\",\"2023-03-04T23:05:00\",\"2023-03-04T23:06:00\",\"2023-03-04T23:07:00\",\"2023-03-04T23:08:00\",\"2023-03-04T23:09:00\",\"2023-03-04T23:10:00\",\"2023-03-04T23:11:00\",\"2023-03-04T23:12:00\",\"2023-03-04T23:13:00\",\"2023-03-04T23:14:00\",\"2023-03-04T23:15:00\",\"2023-03-04T23:16:00\",\"2023-03-04T23:17:00\",\"2023-03-04T23:18:00\",\"2023-03-04T23:19:00\",\"2023-03-04T23:20:00\",\"2023-03-04T23:21:00\",\"2023-03-04T23:22:00\",\"2023-03-04T23:23:00\",\"2023-03-04T23:24:00\",\"2023-03-04T23:25:00\",\"2023-03-04T23:26:00\",\"2023-03-04T23:27:00\",\"2023-03-04T23:28:00\",\"2023-03-04T23:29:00\",\"2023-03-04T23:30:00\",\"2023-03-04T23:31:00\",\"2023-03-04T23:32:00\",\"2023-03-04T23:33:00\",\"2023-03-04T23:34:00\",\"2023-03-04T23:35:00\",\"2023-03-04T23:36:00\",\"2023-03-04T23:37:00\",\"2023-03-04T23:38:00\",\"2023-03-04T23:39:00\",\"2023-03-04T23:40:00\",\"2023-03-04T23:41:00\",\"2023-03-04T23:42:00\",\"2023-03-04T23:43:00\",\"2023-03-04T23:44:00\",\"2023-03-04T23:45:00\",\"2023-03-04T23:46:00\",\"2023-03-04T23:47:00\",\"2023-03-04T23:48:00\",\"2023-03-04T23:49:00\",\"2023-03-04T23:50:00\",\"2023-03-04T23:51:00\",\"2023-03-04T23:52:00\",\"2023-03-04T23:53:00\",\"2023-03-04T23:54:00\",\"2023-03-04T23:55:00\",\"2023-03-04T23:56:00\",\"2023-03-04T23:57:00\",\"2023-03-04T23:58:00\",\"2023-03-04T23:59:00\",\"2023-03-05T00:00:00\",\"2023-03-05T00:01:00\",\"2023-03-05T00:02:00\",\"2023-03-05T00:03:00\",\"2023-03-05T00:04:00\",\"2023-03-05T00:05:00\",\"2023-03-05T00:06:00\",\"2023-03-05T00:07:00\",\"2023-03-05T00:08:00\",\"2023-03-05T00:09:00\",\"2023-03-05T00:10:00\",\"2023-03-05T00:11:00\",\"2023-03-05T00:12:00\",\"2023-03-05T00:13:00\",\"2023-03-05T00:14:00\",\"2023-03-05T00:15:00\",\"2023-03-05T00:16:00\",\"2023-03-05T00:17:00\",\"2023-03-05T00:18:00\",\"2023-03-05T00:19:00\",\"2023-03-05T00:20:00\",\"2023-03-05T00:21:00\",\"2023-03-05T00:22:00\",\"2023-03-05T00:23:00\",\"2023-03-05T00:24:00\",\"2023-03-05T00:25:00\",\"2023-03-05T00:26:00\",\"2023-03-05T00:27:00\",\"2023-03-05T00:28:00\",\"2023-03-05T00:29:00\",\"2023-03-05T00:30:00\",\"2023-03-05T00:31:00\",\"2023-03-05T00:32:00\",\"2023-03-05T00:33:00\",\"2023-03-05T00:34:00\",\"2023-03-05T00:35:00\",\"2023-03-05T00:36:00\",\"2023-03-05T00:37:00\",\"2023-03-05T00:38:00\",\"2023-03-05T00:39:00\",\"2023-03-05T00:40:00\",\"2023-03-05T00:41:00\",\"2023-03-05T00:42:00\",\"2023-03-05T00:43:00\",\"2023-03-05T00:44:00\",\"2023-03-05T00:45:00\",\"2023-03-05T00:46:00\",\"2023-03-05T00:47:00\",\"2023-03-05T00:48:00\",\"2023-03-05T00:49:00\",\"2023-03-05T00:50:00\",\"2023-03-05T00:51:00\",\"2023-03-05T00:52:00\",\"2023-03-05T00:53:00\",\"2023-03-05T00:54:00\",\"2023-03-05T00:55:00\",\"2023-03-05T00:56:00\",\"2023-03-05T00:57:00\",\"2023-03-05T00:58:00\",\"2023-03-05T00:59:00\",\"2023-03-05T01:00:00\",\"2023-03-05T01:01:00\",\"2023-03-05T01:02:00\",\"2023-03-05T01:03:00\",\"2023-03-05T01:04:00\",\"2023-03-05T01:05:00\",\"2023-03-05T01:06:00\",\"2023-03-05T01:07:00\",\"2023-03-05T01:08:00\",\"2023-03-05T01:09:00\",\"2023-03-05T01:10:00\",\"2023-03-05T01:11:00\",\"2023-03-05T01:12:00\",\"2023-03-05T01:13:00\",\"2023-03-05T01:14:00\",\"2023-03-05T01:15:00\",\"2023-03-05T01:16:00\",\"2023-03-05T01:17:00\",\"2023-03-05T01:18:00\",\"2023-03-05T01:19:00\",\"2023-03-05T01:21:00\",\"2023-03-05T01:24:00\",\"2023-03-05T01:25:00\",\"2023-03-05T01:27:00\",\"2023-03-05T01:28:00\",\"2023-03-05T01:29:00\",\"2023-03-05T01:30:00\",\"2023-03-05T01:31:00\",\"2023-03-05T01:33:00\",\"2023-03-05T01:35:00\",\"2023-03-05T01:36:00\",\"2023-03-05T01:39:00\",\"2023-03-05T01:40:00\",\"2023-03-05T01:41:00\",\"2023-03-05T01:42:00\",\"2023-03-05T01:43:00\",\"2023-03-05T01:44:00\",\"2023-03-05T01:45:00\",\"2023-03-05T01:47:00\",\"2023-03-05T01:48:00\",\"2023-03-05T01:49:00\",\"2023-03-05T01:50:00\",\"2023-03-05T01:51:00\",\"2023-03-05T01:52:00\",\"2023-03-05T01:53:00\",\"2023-03-05T01:54:00\",\"2023-03-05T01:55:00\",\"2023-03-05T01:56:00\",\"2023-03-05T01:57:00\",\"2023-03-05T01:58:00\",\"2023-03-05T01:59:00\",\"2023-03-05T02:01:00\",\"2023-03-05T02:02:00\",\"2023-03-05T02:03:00\",\"2023-03-05T02:04:00\",\"2023-03-05T02:05:00\",\"2023-03-05T02:06:00\",\"2023-03-05T02:07:00\",\"2023-03-05T02:08:00\",\"2023-03-05T02:09:00\",\"2023-03-05T02:10:00\",\"2023-03-05T02:11:00\",\"2023-03-05T02:12:00\",\"2023-03-05T02:13:00\",\"2023-03-05T02:14:00\",\"2023-03-05T02:15:00\",\"2023-03-05T02:16:00\",\"2023-03-05T02:17:00\",\"2023-03-05T02:18:00\",\"2023-03-05T02:19:00\",\"2023-03-05T02:20:00\",\"2023-03-05T02:21:00\",\"2023-03-05T02:22:00\",\"2023-03-05T02:23:00\",\"2023-03-05T02:24:00\",\"2023-03-05T02:25:00\",\"2023-03-05T02:26:00\",\"2023-03-05T02:27:00\",\"2023-03-05T02:28:00\",\"2023-03-05T02:29:00\",\"2023-03-05T02:30:00\",\"2023-03-05T02:31:00\",\"2023-03-05T02:32:00\",\"2023-03-05T02:33:00\",\"2023-03-05T02:34:00\",\"2023-03-05T02:35:00\",\"2023-03-05T02:36:00\",\"2023-03-05T02:37:00\",\"2023-03-05T02:38:00\",\"2023-03-05T02:39:00\",\"2023-03-05T02:40:00\",\"2023-03-05T02:41:00\",\"2023-03-05T02:42:00\",\"2023-03-05T02:43:00\",\"2023-03-05T02:44:00\",\"2023-03-05T02:45:00\",\"2023-03-05T02:46:00\",\"2023-03-05T02:47:00\",\"2023-03-05T02:48:00\",\"2023-03-05T02:49:00\",\"2023-03-05T02:50:00\",\"2023-03-05T02:51:00\",\"2023-03-05T02:52:00\",\"2023-03-05T02:53:00\",\"2023-03-05T02:54:00\",\"2023-03-05T02:55:00\",\"2023-03-05T02:56:00\",\"2023-03-05T02:57:00\",\"2023-03-05T02:58:00\",\"2023-03-05T02:59:00\",\"2023-03-05T03:00:00\",\"2023-03-05T03:01:00\",\"2023-03-05T03:02:00\",\"2023-03-05T03:04:00\",\"2023-03-05T03:05:00\",\"2023-03-05T03:06:00\",\"2023-03-05T03:07:00\",\"2023-03-05T03:08:00\",\"2023-03-05T03:09:00\",\"2023-03-05T03:10:00\",\"2023-03-05T03:11:00\",\"2023-03-05T03:12:00\",\"2023-03-05T03:13:00\",\"2023-03-05T03:14:00\",\"2023-03-05T03:15:00\",\"2023-03-05T03:16:00\",\"2023-03-05T03:17:00\",\"2023-03-05T03:18:00\",\"2023-03-05T03:19:00\",\"2023-03-05T03:20:00\",\"2023-03-05T03:21:00\",\"2023-03-05T03:22:00\",\"2023-03-05T03:23:00\",\"2023-03-05T03:24:00\",\"2023-03-05T03:25:00\",\"2023-03-05T03:26:00\",\"2023-03-05T03:27:00\",\"2023-03-05T03:28:00\",\"2023-03-05T03:29:00\",\"2023-03-05T03:30:00\",\"2023-03-05T03:31:00\",\"2023-03-05T03:32:00\",\"2023-03-05T03:33:00\",\"2023-03-05T03:34:00\",\"2023-03-05T03:35:00\",\"2023-03-05T03:36:00\",\"2023-03-05T03:37:00\",\"2023-03-05T03:38:00\",\"2023-03-05T03:39:00\",\"2023-03-05T03:40:00\",\"2023-03-05T03:41:00\",\"2023-03-05T03:42:00\",\"2023-03-05T03:43:00\",\"2023-03-05T03:44:00\",\"2023-03-05T03:45:00\",\"2023-03-05T03:46:00\",\"2023-03-05T03:47:00\",\"2023-03-05T03:48:00\",\"2023-03-05T03:49:00\",\"2023-03-05T03:50:00\",\"2023-03-05T03:51:00\",\"2023-03-05T03:52:00\",\"2023-03-05T03:53:00\",\"2023-03-05T03:54:00\",\"2023-03-05T03:55:00\",\"2023-03-05T03:56:00\",\"2023-03-05T03:57:00\",\"2023-03-05T03:58:00\",\"2023-03-05T03:59:00\",\"2023-03-05T04:00:00\",\"2023-03-05T04:01:00\",\"2023-03-05T04:02:00\",\"2023-03-05T04:03:00\",\"2023-03-05T04:04:00\",\"2023-03-05T04:05:00\",\"2023-03-05T04:06:00\",\"2023-03-05T04:07:00\",\"2023-03-05T04:08:00\",\"2023-03-05T04:09:00\",\"2023-03-05T04:10:00\",\"2023-03-05T04:11:00\",\"2023-03-05T04:12:00\",\"2023-03-05T04:13:00\",\"2023-03-05T04:14:00\",\"2023-03-05T04:15:00\",\"2023-03-05T04:16:00\",\"2023-03-05T04:17:00\",\"2023-03-05T04:18:00\",\"2023-03-05T04:19:00\",\"2023-03-05T04:20:00\",\"2023-03-05T04:21:00\",\"2023-03-05T04:22:00\",\"2023-03-05T04:23:00\",\"2023-03-05T04:24:00\",\"2023-03-05T04:25:00\",\"2023-03-05T04:26:00\",\"2023-03-05T04:27:00\",\"2023-03-05T04:28:00\",\"2023-03-05T04:29:00\",\"2023-03-05T04:30:00\",\"2023-03-05T04:31:00\",\"2023-03-05T04:32:00\",\"2023-03-05T04:33:00\",\"2023-03-05T04:34:00\",\"2023-03-05T04:35:00\",\"2023-03-05T04:36:00\",\"2023-03-05T04:37:00\",\"2023-03-05T04:38:00\",\"2023-03-05T04:39:00\",\"2023-03-05T04:40:00\",\"2023-03-05T04:41:00\",\"2023-03-05T04:42:00\",\"2023-03-05T04:43:00\",\"2023-03-05T04:44:00\",\"2023-03-05T04:45:00\",\"2023-03-05T04:46:00\",\"2023-03-05T04:47:00\",\"2023-03-05T04:48:00\",\"2023-03-05T04:49:00\",\"2023-03-05T04:50:00\",\"2023-03-05T04:51:00\",\"2023-03-05T04:52:00\",\"2023-03-05T04:53:00\",\"2023-03-05T04:54:00\",\"2023-03-05T04:55:00\",\"2023-03-05T04:56:00\",\"2023-03-05T04:57:00\",\"2023-03-05T04:58:00\",\"2023-03-05T04:59:00\",\"2023-03-05T05:00:00\",\"2023-03-05T05:01:00\",\"2023-03-05T05:02:00\",\"2023-03-05T05:03:00\",\"2023-03-05T05:04:00\",\"2023-03-05T05:05:00\",\"2023-03-05T05:06:00\",\"2023-03-05T05:07:00\",\"2023-03-05T05:08:00\",\"2023-03-05T05:09:00\",\"2023-03-05T05:10:00\",\"2023-03-05T05:11:00\",\"2023-03-05T05:12:00\",\"2023-03-05T05:13:00\",\"2023-03-05T05:14:00\",\"2023-03-05T05:15:00\",\"2023-03-05T05:16:00\",\"2023-03-05T05:17:00\",\"2023-03-05T05:18:00\",\"2023-03-05T05:19:00\",\"2023-03-05T05:20:00\",\"2023-03-05T05:21:00\",\"2023-03-05T05:22:00\",\"2023-03-05T05:23:00\",\"2023-03-05T05:24:00\",\"2023-03-05T05:25:00\",\"2023-03-05T05:26:00\",\"2023-03-05T05:27:00\",\"2023-03-05T05:28:00\",\"2023-03-05T05:29:00\",\"2023-03-05T05:30:00\",\"2023-03-05T05:31:00\",\"2023-03-05T05:32:00\",\"2023-03-05T05:33:00\",\"2023-03-05T05:34:00\",\"2023-03-05T05:35:00\",\"2023-03-05T05:36:00\",\"2023-03-05T05:37:00\",\"2023-03-05T05:38:00\",\"2023-03-05T05:39:00\",\"2023-03-05T05:40:00\",\"2023-03-05T05:41:00\",\"2023-03-05T05:42:00\",\"2023-03-05T05:43:00\",\"2023-03-05T05:44:00\",\"2023-03-05T05:45:00\",\"2023-03-05T05:46:00\",\"2023-03-05T05:47:00\",\"2023-03-05T05:48:00\",\"2023-03-05T05:49:00\",\"2023-03-05T05:50:00\",\"2023-03-05T05:51:00\",\"2023-03-05T05:52:00\",\"2023-03-05T05:53:00\",\"2023-03-05T05:54:00\",\"2023-03-05T05:55:00\",\"2023-03-05T05:56:00\",\"2023-03-05T05:57:00\",\"2023-03-05T05:58:00\",\"2023-03-05T05:59:00\",\"2023-03-05T06:00:00\",\"2023-03-05T06:01:00\",\"2023-03-05T06:02:00\",\"2023-03-05T06:03:00\",\"2023-03-05T06:04:00\",\"2023-03-05T06:05:00\",\"2023-03-05T06:06:00\",\"2023-03-05T06:07:00\",\"2023-03-05T06:08:00\",\"2023-03-05T06:09:00\",\"2023-03-05T06:10:00\",\"2023-03-05T06:11:00\",\"2023-03-05T06:12:00\",\"2023-03-05T06:13:00\",\"2023-03-05T06:14:00\",\"2023-03-05T06:15:00\",\"2023-03-05T06:16:00\",\"2023-03-05T06:17:00\",\"2023-03-05T06:18:00\",\"2023-03-05T06:19:00\",\"2023-03-05T06:20:00\",\"2023-03-05T06:21:00\",\"2023-03-05T06:22:00\",\"2023-03-05T06:23:00\",\"2023-03-05T06:24:00\",\"2023-03-05T06:25:00\",\"2023-03-05T06:26:00\",\"2023-03-05T06:27:00\",\"2023-03-05T06:28:00\",\"2023-03-05T06:29:00\",\"2023-03-05T06:30:00\",\"2023-03-05T06:31:00\",\"2023-03-05T06:32:00\",\"2023-03-05T06:33:00\",\"2023-03-05T06:34:00\",\"2023-03-05T06:35:00\",\"2023-03-05T06:36:00\",\"2023-03-05T06:37:00\",\"2023-03-05T06:38:00\",\"2023-03-05T06:39:00\",\"2023-03-05T06:40:00\",\"2023-03-05T06:41:00\",\"2023-03-05T06:42:00\",\"2023-03-05T06:43:00\",\"2023-03-05T06:44:00\",\"2023-03-05T06:45:00\",\"2023-03-05T06:46:00\",\"2023-03-05T06:47:00\",\"2023-03-05T06:48:00\",\"2023-03-05T06:49:00\",\"2023-03-05T06:50:00\",\"2023-03-05T06:51:00\",\"2023-03-05T06:52:00\",\"2023-03-05T06:53:00\",\"2023-03-05T06:54:00\",\"2023-03-05T06:55:00\",\"2023-03-05T06:56:00\",\"2023-03-05T06:57:00\",\"2023-03-05T06:58:00\",\"2023-03-05T06:59:00\",\"2023-03-05T07:00:00\",\"2023-03-05T07:01:00\",\"2023-03-05T07:02:00\",\"2023-03-05T07:03:00\",\"2023-03-05T07:04:00\",\"2023-03-05T07:05:00\",\"2023-03-05T07:06:00\",\"2023-03-05T07:07:00\",\"2023-03-05T07:08:00\",\"2023-03-05T07:09:00\",\"2023-03-05T07:10:00\",\"2023-03-05T07:11:00\",\"2023-03-05T07:12:00\",\"2023-03-05T07:13:00\",\"2023-03-05T07:14:00\",\"2023-03-05T07:15:00\",\"2023-03-05T07:16:00\",\"2023-03-05T07:17:00\",\"2023-03-05T07:18:00\",\"2023-03-05T07:19:00\",\"2023-03-05T07:20:00\",\"2023-03-05T07:21:00\",\"2023-03-05T07:22:00\",\"2023-03-05T07:23:00\",\"2023-03-05T07:24:00\",\"2023-03-05T07:25:00\",\"2023-03-05T07:26:00\",\"2023-03-05T07:27:00\",\"2023-03-05T07:28:00\",\"2023-03-05T07:29:00\",\"2023-03-05T07:30:00\",\"2023-03-05T07:31:00\",\"2023-03-05T07:32:00\",\"2023-03-05T07:33:00\",\"2023-03-05T07:34:00\",\"2023-03-05T07:35:00\",\"2023-03-05T07:36:00\",\"2023-03-05T07:37:00\",\"2023-03-05T07:38:00\",\"2023-03-05T07:39:00\",\"2023-03-05T07:40:00\",\"2023-03-05T07:41:00\",\"2023-03-05T07:42:00\",\"2023-03-05T07:43:00\",\"2023-03-05T07:44:00\",\"2023-03-05T07:45:00\",\"2023-03-05T07:46:00\",\"2023-03-05T07:47:00\",\"2023-03-05T07:48:00\",\"2023-03-05T07:49:00\",\"2023-03-05T07:50:00\",\"2023-03-05T07:51:00\",\"2023-03-05T07:52:00\",\"2023-03-05T07:53:00\",\"2023-03-05T07:54:00\",\"2023-03-05T07:55:00\",\"2023-03-05T07:56:00\",\"2023-03-05T07:57:00\",\"2023-03-05T07:58:00\",\"2023-03-05T07:59:00\",\"2023-03-05T08:00:00\",\"2023-03-05T08:01:00\",\"2023-03-05T08:02:00\",\"2023-03-05T08:03:00\",\"2023-03-05T08:04:00\",\"2023-03-05T08:05:00\",\"2023-03-05T08:06:00\",\"2023-03-05T08:07:00\",\"2023-03-05T08:08:00\",\"2023-03-05T08:09:00\",\"2023-03-05T08:10:00\",\"2023-03-05T08:11:00\",\"2023-03-05T08:12:00\",\"2023-03-05T08:13:00\",\"2023-03-05T08:14:00\",\"2023-03-05T08:15:00\",\"2023-03-05T08:16:00\",\"2023-03-05T08:17:00\",\"2023-03-05T08:18:00\",\"2023-03-05T08:19:00\",\"2023-03-05T08:20:00\",\"2023-03-05T08:21:00\",\"2023-03-05T08:22:00\",\"2023-03-05T08:23:00\",\"2023-03-05T08:24:00\",\"2023-03-05T08:25:00\",\"2023-03-05T08:26:00\",\"2023-03-05T08:27:00\",\"2023-03-05T08:28:00\",\"2023-03-05T08:29:00\",\"2023-03-05T08:30:00\",\"2023-03-05T08:31:00\",\"2023-03-05T08:32:00\",\"2023-03-05T08:33:00\",\"2023-03-05T08:34:00\",\"2023-03-05T08:35:00\",\"2023-03-05T08:36:00\",\"2023-03-05T08:37:00\",\"2023-03-05T08:38:00\",\"2023-03-05T08:39:00\",\"2023-03-05T08:40:00\",\"2023-03-05T08:41:00\",\"2023-03-05T08:42:00\",\"2023-03-05T08:43:00\",\"2023-03-05T08:44:00\",\"2023-03-05T08:45:00\",\"2023-03-05T08:46:00\",\"2023-03-05T08:47:00\",\"2023-03-05T08:48:00\",\"2023-03-05T08:49:00\",\"2023-03-05T08:50:00\",\"2023-03-05T08:51:00\",\"2023-03-05T08:52:00\",\"2023-03-05T08:53:00\",\"2023-03-05T08:54:00\",\"2023-03-05T08:55:00\",\"2023-03-05T08:56:00\",\"2023-03-05T08:57:00\",\"2023-03-05T08:58:00\",\"2023-03-05T08:59:00\",\"2023-03-05T09:00:00\",\"2023-03-05T09:01:00\",\"2023-03-05T09:02:00\",\"2023-03-05T09:03:00\",\"2023-03-05T09:04:00\",\"2023-03-05T09:05:00\",\"2023-03-05T09:06:00\",\"2023-03-05T09:07:00\",\"2023-03-05T09:08:00\",\"2023-03-05T09:09:00\",\"2023-03-05T09:10:00\",\"2023-03-05T09:11:00\",\"2023-03-05T09:12:00\",\"2023-03-05T09:13:00\",\"2023-03-05T09:14:00\",\"2023-03-05T09:15:00\",\"2023-03-05T09:16:00\",\"2023-03-05T09:17:00\",\"2023-03-05T09:18:00\",\"2023-03-05T09:19:00\",\"2023-03-05T09:20:00\",\"2023-03-05T09:21:00\",\"2023-03-05T09:22:00\",\"2023-03-05T09:23:00\",\"2023-03-05T09:24:00\",\"2023-03-05T09:25:00\",\"2023-03-05T09:26:00\",\"2023-03-05T09:27:00\",\"2023-03-05T09:28:00\",\"2023-03-05T09:29:00\",\"2023-03-05T09:30:00\",\"2023-03-05T09:31:00\",\"2023-03-05T09:32:00\",\"2023-03-05T09:33:00\",\"2023-03-05T09:34:00\",\"2023-03-05T09:35:00\",\"2023-03-05T09:36:00\",\"2023-03-05T09:37:00\",\"2023-03-05T09:38:00\",\"2023-03-05T09:39:00\",\"2023-03-05T09:40:00\",\"2023-03-05T09:41:00\",\"2023-03-05T09:42:00\",\"2023-03-05T09:43:00\",\"2023-03-05T09:44:00\",\"2023-03-05T09:45:00\",\"2023-03-05T09:46:00\",\"2023-03-05T09:47:00\",\"2023-03-05T09:48:00\",\"2023-03-05T09:49:00\",\"2023-03-05T09:50:00\",\"2023-03-05T09:51:00\",\"2023-03-05T09:52:00\",\"2023-03-05T09:53:00\",\"2023-03-05T09:54:00\",\"2023-03-05T09:55:00\",\"2023-03-05T09:56:00\",\"2023-03-05T09:57:00\",\"2023-03-05T09:58:00\",\"2023-03-05T09:59:00\",\"2023-03-05T10:00:00\",\"2023-03-05T10:01:00\",\"2023-03-05T10:02:00\",\"2023-03-05T10:03:00\",\"2023-03-05T10:04:00\",\"2023-03-05T10:06:00\",\"2023-03-05T10:07:00\",\"2023-03-05T10:08:00\",\"2023-03-05T10:09:00\",\"2023-03-05T10:10:00\",\"2023-03-05T10:11:00\",\"2023-03-05T10:12:00\",\"2023-03-05T10:13:00\",\"2023-03-05T10:14:00\",\"2023-03-05T10:15:00\",\"2023-03-05T10:16:00\",\"2023-03-05T10:17:00\",\"2023-03-05T10:18:00\",\"2023-03-05T10:19:00\",\"2023-03-05T10:20:00\",\"2023-03-05T10:21:00\",\"2023-03-05T10:22:00\",\"2023-03-05T10:23:00\",\"2023-03-05T10:24:00\",\"2023-03-05T10:25:00\",\"2023-03-05T10:26:00\",\"2023-03-05T10:27:00\",\"2023-03-05T10:28:00\",\"2023-03-05T10:29:00\"],\"type\":\"candlestick\"}],                        {\"template\":{\"data\":{\"histogram2dcontour\":[{\"type\":\"histogram2dcontour\",\"colorbar\":{\"outlinewidth\":0,\"ticks\":\"\"},\"colorscale\":[[0.0,\"#0d0887\"],[0.1111111111111111,\"#46039f\"],[0.2222222222222222,\"#7201a8\"],[0.3333333333333333,\"#9c179e\"],[0.4444444444444444,\"#bd3786\"],[0.5555555555555556,\"#d8576b\"],[0.6666666666666666,\"#ed7953\"],[0.7777777777777778,\"#fb9f3a\"],[0.8888888888888888,\"#fdca26\"],[1.0,\"#f0f921\"]]}],\"choropleth\":[{\"type\":\"choropleth\",\"colorbar\":{\"outlinewidth\":0,\"ticks\":\"\"}}],\"histogram2d\":[{\"type\":\"histogram2d\",\"colorbar\":{\"outlinewidth\":0,\"ticks\":\"\"},\"colorscale\":[[0.0,\"#0d0887\"],[0.1111111111111111,\"#46039f\"],[0.2222222222222222,\"#7201a8\"],[0.3333333333333333,\"#9c179e\"],[0.4444444444444444,\"#bd3786\"],[0.5555555555555556,\"#d8576b\"],[0.6666666666666666,\"#ed7953\"],[0.7777777777777778,\"#fb9f3a\"],[0.8888888888888888,\"#fdca26\"],[1.0,\"#f0f921\"]]}],\"heatmap\":[{\"type\":\"heatmap\",\"colorbar\":{\"outlinewidth\":0,\"ticks\":\"\"},\"colorscale\":[[0.0,\"#0d0887\"],[0.1111111111111111,\"#46039f\"],[0.2222222222222222,\"#7201a8\"],[0.3333333333333333,\"#9c179e\"],[0.4444444444444444,\"#bd3786\"],[0.5555555555555556,\"#d8576b\"],[0.6666666666666666,\"#ed7953\"],[0.7777777777777778,\"#fb9f3a\"],[0.8888888888888888,\"#fdca26\"],[1.0,\"#f0f921\"]]}],\"heatmapgl\":[{\"type\":\"heatmapgl\",\"colorbar\":{\"outlinewidth\":0,\"ticks\":\"\"},\"colorscale\":[[0.0,\"#0d0887\"],[0.1111111111111111,\"#46039f\"],[0.2222222222222222,\"#7201a8\"],[0.3333333333333333,\"#9c179e\"],[0.4444444444444444,\"#bd3786\"],[0.5555555555555556,\"#d8576b\"],[0.6666666666666666,\"#ed7953\"],[0.7777777777777778,\"#fb9f3a\"],[0.8888888888888888,\"#fdca26\"],[1.0,\"#f0f921\"]]}],\"contourcarpet\":[{\"type\":\"contourcarpet\",\"colorbar\":{\"outlinewidth\":0,\"ticks\":\"\"}}],\"contour\":[{\"type\":\"contour\",\"colorbar\":{\"outlinewidth\":0,\"ticks\":\"\"},\"colorscale\":[[0.0,\"#0d0887\"],[0.1111111111111111,\"#46039f\"],[0.2222222222222222,\"#7201a8\"],[0.3333333333333333,\"#9c179e\"],[0.4444444444444444,\"#bd3786\"],[0.5555555555555556,\"#d8576b\"],[0.6666666666666666,\"#ed7953\"],[0.7777777777777778,\"#fb9f3a\"],[0.8888888888888888,\"#fdca26\"],[1.0,\"#f0f921\"]]}],\"surface\":[{\"type\":\"surface\",\"colorbar\":{\"outlinewidth\":0,\"ticks\":\"\"},\"colorscale\":[[0.0,\"#0d0887\"],[0.1111111111111111,\"#46039f\"],[0.2222222222222222,\"#7201a8\"],[0.3333333333333333,\"#9c179e\"],[0.4444444444444444,\"#bd3786\"],[0.5555555555555556,\"#d8576b\"],[0.6666666666666666,\"#ed7953\"],[0.7777777777777778,\"#fb9f3a\"],[0.8888888888888888,\"#fdca26\"],[1.0,\"#f0f921\"]]}],\"mesh3d\":[{\"type\":\"mesh3d\",\"colorbar\":{\"outlinewidth\":0,\"ticks\":\"\"}}],\"scatter\":[{\"fillpattern\":{\"fillmode\":\"overlay\",\"size\":10,\"solidity\":0.2},\"type\":\"scatter\"}],\"parcoords\":[{\"type\":\"parcoords\",\"line\":{\"colorbar\":{\"outlinewidth\":0,\"ticks\":\"\"}}}],\"scatterpolargl\":[{\"type\":\"scatterpolargl\",\"marker\":{\"colorbar\":{\"outlinewidth\":0,\"ticks\":\"\"}}}],\"bar\":[{\"error_x\":{\"color\":\"#2a3f5f\"},\"error_y\":{\"color\":\"#2a3f5f\"},\"marker\":{\"line\":{\"color\":\"#E5ECF6\",\"width\":0.5},\"pattern\":{\"fillmode\":\"overlay\",\"size\":10,\"solidity\":0.2}},\"type\":\"bar\"}],\"scattergeo\":[{\"type\":\"scattergeo\",\"marker\":{\"colorbar\":{\"outlinewidth\":0,\"ticks\":\"\"}}}],\"scatterpolar\":[{\"type\":\"scatterpolar\",\"marker\":{\"colorbar\":{\"outlinewidth\":0,\"ticks\":\"\"}}}],\"histogram\":[{\"marker\":{\"pattern\":{\"fillmode\":\"overlay\",\"size\":10,\"solidity\":0.2}},\"type\":\"histogram\"}],\"scattergl\":[{\"type\":\"scattergl\",\"marker\":{\"colorbar\":{\"outlinewidth\":0,\"ticks\":\"\"}}}],\"scatter3d\":[{\"type\":\"scatter3d\",\"line\":{\"colorbar\":{\"outlinewidth\":0,\"ticks\":\"\"}},\"marker\":{\"colorbar\":{\"outlinewidth\":0,\"ticks\":\"\"}}}],\"scattermapbox\":[{\"type\":\"scattermapbox\",\"marker\":{\"colorbar\":{\"outlinewidth\":0,\"ticks\":\"\"}}}],\"scatterternary\":[{\"type\":\"scatterternary\",\"marker\":{\"colorbar\":{\"outlinewidth\":0,\"ticks\":\"\"}}}],\"scattercarpet\":[{\"type\":\"scattercarpet\",\"marker\":{\"colorbar\":{\"outlinewidth\":0,\"ticks\":\"\"}}}],\"carpet\":[{\"aaxis\":{\"endlinecolor\":\"#2a3f5f\",\"gridcolor\":\"white\",\"linecolor\":\"white\",\"minorgridcolor\":\"white\",\"startlinecolor\":\"#2a3f5f\"},\"baxis\":{\"endlinecolor\":\"#2a3f5f\",\"gridcolor\":\"white\",\"linecolor\":\"white\",\"minorgridcolor\":\"white\",\"startlinecolor\":\"#2a3f5f\"},\"type\":\"carpet\"}],\"table\":[{\"cells\":{\"fill\":{\"color\":\"#EBF0F8\"},\"line\":{\"color\":\"white\"}},\"header\":{\"fill\":{\"color\":\"#C8D4E3\"},\"line\":{\"color\":\"white\"}},\"type\":\"table\"}],\"barpolar\":[{\"marker\":{\"line\":{\"color\":\"#E5ECF6\",\"width\":0.5},\"pattern\":{\"fillmode\":\"overlay\",\"size\":10,\"solidity\":0.2}},\"type\":\"barpolar\"}],\"pie\":[{\"automargin\":true,\"type\":\"pie\"}]},\"layout\":{\"autotypenumbers\":\"strict\",\"colorway\":[\"#636efa\",\"#EF553B\",\"#00cc96\",\"#ab63fa\",\"#FFA15A\",\"#19d3f3\",\"#FF6692\",\"#B6E880\",\"#FF97FF\",\"#FECB52\"],\"font\":{\"color\":\"#2a3f5f\"},\"hovermode\":\"closest\",\"hoverlabel\":{\"align\":\"left\"},\"paper_bgcolor\":\"white\",\"plot_bgcolor\":\"#E5ECF6\",\"polar\":{\"bgcolor\":\"#E5ECF6\",\"angularaxis\":{\"gridcolor\":\"white\",\"linecolor\":\"white\",\"ticks\":\"\"},\"radialaxis\":{\"gridcolor\":\"white\",\"linecolor\":\"white\",\"ticks\":\"\"}},\"ternary\":{\"bgcolor\":\"#E5ECF6\",\"aaxis\":{\"gridcolor\":\"white\",\"linecolor\":\"white\",\"ticks\":\"\"},\"baxis\":{\"gridcolor\":\"white\",\"linecolor\":\"white\",\"ticks\":\"\"},\"caxis\":{\"gridcolor\":\"white\",\"linecolor\":\"white\",\"ticks\":\"\"}},\"coloraxis\":{\"colorbar\":{\"outlinewidth\":0,\"ticks\":\"\"}},\"colorscale\":{\"sequential\":[[0.0,\"#0d0887\"],[0.1111111111111111,\"#46039f\"],[0.2222222222222222,\"#7201a8\"],[0.3333333333333333,\"#9c179e\"],[0.4444444444444444,\"#bd3786\"],[0.5555555555555556,\"#d8576b\"],[0.6666666666666666,\"#ed7953\"],[0.7777777777777778,\"#fb9f3a\"],[0.8888888888888888,\"#fdca26\"],[1.0,\"#f0f921\"]],\"sequentialminus\":[[0.0,\"#0d0887\"],[0.1111111111111111,\"#46039f\"],[0.2222222222222222,\"#7201a8\"],[0.3333333333333333,\"#9c179e\"],[0.4444444444444444,\"#bd3786\"],[0.5555555555555556,\"#d8576b\"],[0.6666666666666666,\"#ed7953\"],[0.7777777777777778,\"#fb9f3a\"],[0.8888888888888888,\"#fdca26\"],[1.0,\"#f0f921\"]],\"diverging\":[[0,\"#8e0152\"],[0.1,\"#c51b7d\"],[0.2,\"#de77ae\"],[0.3,\"#f1b6da\"],[0.4,\"#fde0ef\"],[0.5,\"#f7f7f7\"],[0.6,\"#e6f5d0\"],[0.7,\"#b8e186\"],[0.8,\"#7fbc41\"],[0.9,\"#4d9221\"],[1,\"#276419\"]]},\"xaxis\":{\"gridcolor\":\"white\",\"linecolor\":\"white\",\"ticks\":\"\",\"title\":{\"standoff\":15},\"zerolinecolor\":\"white\",\"automargin\":true,\"zerolinewidth\":2},\"yaxis\":{\"gridcolor\":\"white\",\"linecolor\":\"white\",\"ticks\":\"\",\"title\":{\"standoff\":15},\"zerolinecolor\":\"white\",\"automargin\":true,\"zerolinewidth\":2},\"scene\":{\"xaxis\":{\"backgroundcolor\":\"#E5ECF6\",\"gridcolor\":\"white\",\"linecolor\":\"white\",\"showbackground\":true,\"ticks\":\"\",\"zerolinecolor\":\"white\",\"gridwidth\":2},\"yaxis\":{\"backgroundcolor\":\"#E5ECF6\",\"gridcolor\":\"white\",\"linecolor\":\"white\",\"showbackground\":true,\"ticks\":\"\",\"zerolinecolor\":\"white\",\"gridwidth\":2},\"zaxis\":{\"backgroundcolor\":\"#E5ECF6\",\"gridcolor\":\"white\",\"linecolor\":\"white\",\"showbackground\":true,\"ticks\":\"\",\"zerolinecolor\":\"white\",\"gridwidth\":2}},\"shapedefaults\":{\"line\":{\"color\":\"#2a3f5f\"}},\"annotationdefaults\":{\"arrowcolor\":\"#2a3f5f\",\"arrowhead\":0,\"arrowwidth\":1},\"geo\":{\"bgcolor\":\"white\",\"landcolor\":\"#E5ECF6\",\"subunitcolor\":\"white\",\"showland\":true,\"showlakes\":true,\"lakecolor\":\"white\"},\"title\":{\"x\":0.05},\"mapbox\":{\"style\":\"light\"}}},\"annotations\":[{\"arrowcolor\":\"green\",\"arrowhead\":5,\"arrowwidth\":2,\"ay\":-10,\"font\":{\"color\":\"green\"},\"hovertext\":\"2023-03-05 08:29:46.921700 buy at 22372.58\",\"showarrow\":true,\"text\":\"buy\",\"x\":\"2023-03-05T08:29:46.921700\",\"y\":22372.58},{\"arrowcolor\":\"green\",\"arrowhead\":5,\"arrowwidth\":2,\"ay\":-20,\"font\":{\"color\":\"green\"},\"hovertext\":\"2023-03-05 08:31:14.769513 buy at 22366.03\",\"showarrow\":true,\"text\":\"buy\",\"x\":\"2023-03-05T08:31:14.769513\",\"y\":22366.03},{\"arrowcolor\":\"green\",\"arrowhead\":5,\"arrowwidth\":2,\"ay\":-30,\"font\":{\"color\":\"green\"},\"hovertext\":\"2023-03-05 08:33:38.652402 buy at 22370.84\",\"showarrow\":true,\"text\":\"buy\",\"x\":\"2023-03-05T08:33:38.652402\",\"y\":22370.84},{\"arrowcolor\":\"green\",\"arrowhead\":5,\"arrowwidth\":2,\"ay\":-40,\"font\":{\"color\":\"green\"},\"hovertext\":\"2023-03-05 08:37:09.594844 buy at 22368.14\",\"showarrow\":true,\"text\":\"buy\",\"x\":\"2023-03-05T08:37:09.594844\",\"y\":22368.14},{\"arrowcolor\":\"green\",\"arrowhead\":5,\"arrowwidth\":2,\"ay\":0,\"font\":{\"color\":\"green\"},\"hovertext\":\"2023-03-05 08:37:50.515445 buy at 22367.5\",\"showarrow\":true,\"text\":\"buy\",\"x\":\"2023-03-05T08:37:50.515445\",\"y\":22367.5},{\"arrowcolor\":\"green\",\"arrowhead\":5,\"arrowwidth\":2,\"ay\":-10,\"font\":{\"color\":\"green\"},\"hovertext\":\"2023-03-05 08:38:25.894413 buy at 22365.79\",\"showarrow\":true,\"text\":\"buy\",\"x\":\"2023-03-05T08:38:25.894413\",\"y\":22365.79},{\"arrowcolor\":\"green\",\"arrowhead\":5,\"arrowwidth\":2,\"ay\":-20,\"font\":{\"color\":\"green\"},\"hovertext\":\"2023-03-05 08:39:15.329011 buy at 22345.24\",\"showarrow\":true,\"text\":\"buy\",\"x\":\"2023-03-05T08:39:15.329011\",\"y\":22345.24},{\"arrowcolor\":\"green\",\"arrowhead\":5,\"arrowwidth\":2,\"ay\":-30,\"font\":{\"color\":\"green\"},\"hovertext\":\"2023-03-05 08:40:16.595495 buy at 22348.79\",\"showarrow\":true,\"text\":\"buy\",\"x\":\"2023-03-05T08:40:16.595495\",\"y\":22348.79},{\"arrowcolor\":\"green\",\"arrowhead\":5,\"arrowwidth\":2,\"ay\":-40,\"font\":{\"color\":\"green\"},\"hovertext\":\"2023-03-05 08:43:24.687356 buy at 22351.04\",\"showarrow\":true,\"text\":\"buy\",\"x\":\"2023-03-05T08:43:24.687356\",\"y\":22351.04},{\"arrowcolor\":\"green\",\"arrowhead\":5,\"arrowwidth\":2,\"ay\":0,\"font\":{\"color\":\"green\"},\"hovertext\":\"2023-03-05 08:54:34.493511 buy at 22337.28\",\"showarrow\":true,\"text\":\"buy\",\"x\":\"2023-03-05T08:54:34.493511\",\"y\":22337.28},{\"arrowcolor\":\"green\",\"arrowhead\":5,\"arrowwidth\":2,\"ay\":0,\"font\":{\"color\":\"green\"},\"hovertext\":\"2023-03-05 11:28:56.222758 close buy at 22372.43, profit: -869.96\",\"showarrow\":true,\"text\":\"close buy\",\"x\":\"2023-03-05T11:28:56.222758\",\"y\":22372.43},{\"arrowcolor\":\"green\",\"arrowhead\":5,\"arrowwidth\":2,\"ay\":0,\"font\":{\"color\":\"green\"},\"hovertext\":\"2023-03-05 11:31:04.110326 close buy at 22367.25, profit: -5.33\",\"showarrow\":true,\"text\":\"close buy\",\"x\":\"2023-03-05T11:31:04.110326\",\"y\":22367.25},{\"arrowcolor\":\"green\",\"arrowhead\":5,\"arrowwidth\":2,\"ay\":0,\"font\":{\"color\":\"green\"},\"hovertext\":\"2023-03-05 11:33:29.058266 close buy at 22369.68, profit: 3.65\",\"showarrow\":true,\"text\":\"close buy\",\"x\":\"2023-03-05T11:33:29.058266\",\"y\":22369.68},{\"arrowcolor\":\"green\",\"arrowhead\":5,\"arrowwidth\":2,\"ay\":0,\"font\":{\"color\":\"green\"},\"hovertext\":\"2023-03-05 11:36:59.500202 close buy at 22368.25, profit: -2.59\",\"showarrow\":true,\"text\":\"close buy\",\"x\":\"2023-03-05T11:36:59.500202\",\"y\":22368.25},{\"arrowcolor\":\"green\",\"arrowhead\":5,\"arrowwidth\":2,\"ay\":0,\"font\":{\"color\":\"green\"},\"hovertext\":\"2023-03-05 11:37:40.410161 close buy at 22367.36, profit: -0.78\",\"showarrow\":true,\"text\":\"close buy\",\"x\":\"2023-03-05T11:37:40.410161\",\"y\":22367.36},{\"arrowcolor\":\"green\",\"arrowhead\":5,\"arrowwidth\":2,\"ay\":0,\"font\":{\"color\":\"green\"},\"hovertext\":\"2023-03-05 11:38:15.368447 close buy at 22366.04, profit: -1.46\",\"showarrow\":true,\"text\":\"close buy\",\"x\":\"2023-03-05T11:38:15.368447\",\"y\":22366.04},{\"arrowcolor\":\"green\",\"arrowhead\":5,\"arrowwidth\":2,\"ay\":0,\"font\":{\"color\":\"green\"},\"hovertext\":\"2023-03-05 11:39:05.250116 close buy at 22348.43, profit: -17.36\",\"showarrow\":true,\"text\":\"close buy\",\"x\":\"2023-03-05T11:39:05.250116\",\"y\":22348.43},{\"arrowcolor\":\"green\",\"arrowhead\":5,\"arrowwidth\":2,\"ay\":0,\"font\":{\"color\":\"green\"},\"hovertext\":\"2023-03-05 11:40:05.903918 close buy at 22350.34, profit: 5.1\",\"showarrow\":true,\"text\":\"close buy\",\"x\":\"2023-03-05T11:40:05.903918\",\"y\":22350.34},{\"arrowcolor\":\"green\",\"arrowhead\":5,\"arrowwidth\":2,\"ay\":0,\"font\":{\"color\":\"green\"},\"hovertext\":\"2023-03-05 11:43:14.337015 close buy at 22349.32, profit: 0.53\",\"showarrow\":true,\"text\":\"close buy\",\"x\":\"2023-03-05T11:43:14.337015\",\"y\":22349.32},{\"arrowcolor\":\"green\",\"arrowhead\":5,\"arrowwidth\":2,\"ay\":0,\"font\":{\"color\":\"green\"},\"hovertext\":\"2023-03-05 11:54:24.411336 close buy at 22340.66, profit: -10.38\",\"showarrow\":true,\"text\":\"close buy\",\"x\":\"2023-03-05T11:54:24.411336\",\"y\":22340.66}]},                        {\"responsive\": true}                    ).then(function(){\n",
       "                            \n",
       "var gd = document.getElementById('66ba8b8e-62c4-496f-8c68-ad55d74c2c84');\n",
       "var x = new MutationObserver(function (mutations, observer) {{\n",
       "        var display = window.getComputedStyle(gd).display;\n",
       "        if (!display || display === 'none') {{\n",
       "            console.log([gd, 'removed!']);\n",
       "            Plotly.purge(gd);\n",
       "            observer.disconnect();\n",
       "        }}\n",
       "}});\n",
       "\n",
       "// Listen for the removal of the full notebook cells\n",
       "var notebookContainer = gd.closest('#notebook-container');\n",
       "if (notebookContainer) {{\n",
       "    x.observe(notebookContainer, {childList: true});\n",
       "}}\n",
       "\n",
       "// Listen for the clearing of the current output cell\n",
       "var outputEl = gd.closest('.output');\n",
       "if (outputEl) {{\n",
       "    x.observe(outputEl, {childList: true});\n",
       "}}\n",
       "\n",
       "                        })                };                });            </script>        </div>"
      ]
     },
     "metadata": {},
     "output_type": "display_data"
    }
   ],
   "source": [
    "# Install a conda package in the current Jupyter kernel\n",
    "#%conda install -c plotly plotly=5.9.0\n",
    "# Draw candlechart\n",
    "import plotly as py\n",
    "from plotly import graph_objects as go\n",
    "import pandas as pd\n",
    "import numpy as np\n",
    "import datetime\n",
    "\n",
    "df=candles.copy()\n",
    "#df=clean_candles(df)\n",
    "fig = go.Figure(data=[ \\\n",
    "                    go.Candlestick(\\\n",
    "                        x=df.index,\\\n",
    "                        open=df['open'],\\\n",
    "                        high=df['high'],\\\n",
    "                        low=df['low'],\\\n",
    "                        close=df['close'])\n",
    "                     ])\n",
    "\n",
    "# Customize ay to distribute captions by y so they do not overlap by x\n",
    "ay,aymax,aystep=0,50,10\n",
    "#start_time=df.open_time.min()\n",
    "# Annotate buy, sell on the chart\n",
    "for i,trade in trades[(~trades.open_time.isna()) & (trades.open_time > df.open_time.min())].iterrows():\n",
    "    ay=(ay+aystep)%aymax\n",
    "    color='green' if trade['side']==\"BUY\" else 'red'\n",
    "\n",
    "    # Draw open order\n",
    "    open_text='buy' if trade['side']==\"BUY\"  else 'sell'\n",
    "    open_hover=f\"{trade['open_time']} {open_text} at {str(trade['open_price'])}\"\n",
    "    fig.add_annotation(x=trade['open_time'], \\\n",
    "                       y=trade['open_price'],\\\n",
    "                       text=open_text,\\\n",
    "                       hovertext=open_hover,\\\n",
    "                       showarrow=True,arrowhead=5,arrowcolor=color,ay=-ay,arrowwidth=2,\n",
    "                       font={'color':color}\n",
    "                      )\n",
    "for i,trade in trades[(~trades.close_time.isna()) & (trades.close_time > df.close_time.min())].iterrows():\n",
    "\n",
    "    print(\"close_time:\"+str(trade.close_time.value))\n",
    "    # Draw close order\n",
    "    #profit = trade[\"close_price\"]-trade[\"open_price\"] if trade[\"close_price\"] else None\n",
    "    status= f\", profit: {round(trade.profit, 10)}\" if trade.profit else \"\"\n",
    "    close_text='close buy' if trade['side']==\"BUY\"  else 'close sell'\n",
    "    close_hover=f\"{trade['close_time']} {close_text} at {str(trade['close_price'])}{status}\"\n",
    "    fig.add_annotation(x=trade['close_time'], \\\n",
    "                       y=trade['close_price'],\\\n",
    "                       text=close_text,\\\n",
    "                       hovertext=close_hover,\\\n",
    "                       showarrow=True,arrowhead=5,arrowcolor=color,ay=-ay,arrowwidth=2,\n",
    "                       font={'color':color}\n",
    "                      )\n",
    "\n",
    "fig.show()\n"
   ]
  },
  {
   "cell_type": "markdown",
   "metadata": {},
   "source": [
    "## Profit"
   ]
  },
  {
   "cell_type": "code",
   "execution_count": 11,
   "metadata": {},
   "outputs": [
    {
     "data": {
      "application/vnd.plotly.v1+json": {
       "config": {
        "plotlyServerURL": "https://plot.ly"
       },
       "data": [
        {
         "hovertemplate": "open_time=%{x}<br>profit=%{y}<extra></extra>",
         "legendgroup": "",
         "line": {
          "color": "#636efa",
          "dash": "solid"
         },
         "marker": {
          "symbol": "circle"
         },
         "mode": "lines",
         "name": "",
         "orientation": "v",
         "showlegend": false,
         "type": "scatter",
         "x": [
          "2023-02-26T12:11:55.589721",
          "2023-02-26T13:07:32.195792",
          "2023-03-05T08:29:46.921700",
          "2023-03-05T08:31:14.769513",
          "2023-03-05T08:33:38.652402",
          "2023-03-05T08:37:09.594844",
          "2023-03-05T08:37:50.515445",
          "2023-03-05T08:38:25.894413",
          "2023-03-05T08:39:15.329011",
          "2023-03-05T08:40:16.595495",
          "2023-03-05T08:43:24.687356",
          "2023-03-05T08:54:34.493511"
         ],
         "xaxis": "x",
         "y": [
          -45.95000000000073,
          -869.9599999999991,
          -5.330000000001746,
          3.650000000001455,
          -2.5900000000001455,
          -0.7799999999988358,
          -1.4599999999991269,
          -17.360000000000582,
          5.099999999998545,
          0.5299999999988358,
          -10.380000000001019,
          null
         ],
         "yaxis": "y"
        }
       ],
       "layout": {
        "legend": {
         "tracegroupgap": 0
        },
        "margin": {
         "t": 60
        },
        "template": {
         "data": {
          "bar": [
           {
            "error_x": {
             "color": "#2a3f5f"
            },
            "error_y": {
             "color": "#2a3f5f"
            },
            "marker": {
             "line": {
              "color": "#E5ECF6",
              "width": 0.5
             },
             "pattern": {
              "fillmode": "overlay",
              "size": 10,
              "solidity": 0.2
             }
            },
            "type": "bar"
           }
          ],
          "barpolar": [
           {
            "marker": {
             "line": {
              "color": "#E5ECF6",
              "width": 0.5
             },
             "pattern": {
              "fillmode": "overlay",
              "size": 10,
              "solidity": 0.2
             }
            },
            "type": "barpolar"
           }
          ],
          "carpet": [
           {
            "aaxis": {
             "endlinecolor": "#2a3f5f",
             "gridcolor": "white",
             "linecolor": "white",
             "minorgridcolor": "white",
             "startlinecolor": "#2a3f5f"
            },
            "baxis": {
             "endlinecolor": "#2a3f5f",
             "gridcolor": "white",
             "linecolor": "white",
             "minorgridcolor": "white",
             "startlinecolor": "#2a3f5f"
            },
            "type": "carpet"
           }
          ],
          "choropleth": [
           {
            "colorbar": {
             "outlinewidth": 0,
             "ticks": ""
            },
            "type": "choropleth"
           }
          ],
          "contour": [
           {
            "colorbar": {
             "outlinewidth": 0,
             "ticks": ""
            },
            "colorscale": [
             [
              0,
              "#0d0887"
             ],
             [
              0.1111111111111111,
              "#46039f"
             ],
             [
              0.2222222222222222,
              "#7201a8"
             ],
             [
              0.3333333333333333,
              "#9c179e"
             ],
             [
              0.4444444444444444,
              "#bd3786"
             ],
             [
              0.5555555555555556,
              "#d8576b"
             ],
             [
              0.6666666666666666,
              "#ed7953"
             ],
             [
              0.7777777777777778,
              "#fb9f3a"
             ],
             [
              0.8888888888888888,
              "#fdca26"
             ],
             [
              1,
              "#f0f921"
             ]
            ],
            "type": "contour"
           }
          ],
          "contourcarpet": [
           {
            "colorbar": {
             "outlinewidth": 0,
             "ticks": ""
            },
            "type": "contourcarpet"
           }
          ],
          "heatmap": [
           {
            "colorbar": {
             "outlinewidth": 0,
             "ticks": ""
            },
            "colorscale": [
             [
              0,
              "#0d0887"
             ],
             [
              0.1111111111111111,
              "#46039f"
             ],
             [
              0.2222222222222222,
              "#7201a8"
             ],
             [
              0.3333333333333333,
              "#9c179e"
             ],
             [
              0.4444444444444444,
              "#bd3786"
             ],
             [
              0.5555555555555556,
              "#d8576b"
             ],
             [
              0.6666666666666666,
              "#ed7953"
             ],
             [
              0.7777777777777778,
              "#fb9f3a"
             ],
             [
              0.8888888888888888,
              "#fdca26"
             ],
             [
              1,
              "#f0f921"
             ]
            ],
            "type": "heatmap"
           }
          ],
          "heatmapgl": [
           {
            "colorbar": {
             "outlinewidth": 0,
             "ticks": ""
            },
            "colorscale": [
             [
              0,
              "#0d0887"
             ],
             [
              0.1111111111111111,
              "#46039f"
             ],
             [
              0.2222222222222222,
              "#7201a8"
             ],
             [
              0.3333333333333333,
              "#9c179e"
             ],
             [
              0.4444444444444444,
              "#bd3786"
             ],
             [
              0.5555555555555556,
              "#d8576b"
             ],
             [
              0.6666666666666666,
              "#ed7953"
             ],
             [
              0.7777777777777778,
              "#fb9f3a"
             ],
             [
              0.8888888888888888,
              "#fdca26"
             ],
             [
              1,
              "#f0f921"
             ]
            ],
            "type": "heatmapgl"
           }
          ],
          "histogram": [
           {
            "marker": {
             "pattern": {
              "fillmode": "overlay",
              "size": 10,
              "solidity": 0.2
             }
            },
            "type": "histogram"
           }
          ],
          "histogram2d": [
           {
            "colorbar": {
             "outlinewidth": 0,
             "ticks": ""
            },
            "colorscale": [
             [
              0,
              "#0d0887"
             ],
             [
              0.1111111111111111,
              "#46039f"
             ],
             [
              0.2222222222222222,
              "#7201a8"
             ],
             [
              0.3333333333333333,
              "#9c179e"
             ],
             [
              0.4444444444444444,
              "#bd3786"
             ],
             [
              0.5555555555555556,
              "#d8576b"
             ],
             [
              0.6666666666666666,
              "#ed7953"
             ],
             [
              0.7777777777777778,
              "#fb9f3a"
             ],
             [
              0.8888888888888888,
              "#fdca26"
             ],
             [
              1,
              "#f0f921"
             ]
            ],
            "type": "histogram2d"
           }
          ],
          "histogram2dcontour": [
           {
            "colorbar": {
             "outlinewidth": 0,
             "ticks": ""
            },
            "colorscale": [
             [
              0,
              "#0d0887"
             ],
             [
              0.1111111111111111,
              "#46039f"
             ],
             [
              0.2222222222222222,
              "#7201a8"
             ],
             [
              0.3333333333333333,
              "#9c179e"
             ],
             [
              0.4444444444444444,
              "#bd3786"
             ],
             [
              0.5555555555555556,
              "#d8576b"
             ],
             [
              0.6666666666666666,
              "#ed7953"
             ],
             [
              0.7777777777777778,
              "#fb9f3a"
             ],
             [
              0.8888888888888888,
              "#fdca26"
             ],
             [
              1,
              "#f0f921"
             ]
            ],
            "type": "histogram2dcontour"
           }
          ],
          "mesh3d": [
           {
            "colorbar": {
             "outlinewidth": 0,
             "ticks": ""
            },
            "type": "mesh3d"
           }
          ],
          "parcoords": [
           {
            "line": {
             "colorbar": {
              "outlinewidth": 0,
              "ticks": ""
             }
            },
            "type": "parcoords"
           }
          ],
          "pie": [
           {
            "automargin": true,
            "type": "pie"
           }
          ],
          "scatter": [
           {
            "fillpattern": {
             "fillmode": "overlay",
             "size": 10,
             "solidity": 0.2
            },
            "type": "scatter"
           }
          ],
          "scatter3d": [
           {
            "line": {
             "colorbar": {
              "outlinewidth": 0,
              "ticks": ""
             }
            },
            "marker": {
             "colorbar": {
              "outlinewidth": 0,
              "ticks": ""
             }
            },
            "type": "scatter3d"
           }
          ],
          "scattercarpet": [
           {
            "marker": {
             "colorbar": {
              "outlinewidth": 0,
              "ticks": ""
             }
            },
            "type": "scattercarpet"
           }
          ],
          "scattergeo": [
           {
            "marker": {
             "colorbar": {
              "outlinewidth": 0,
              "ticks": ""
             }
            },
            "type": "scattergeo"
           }
          ],
          "scattergl": [
           {
            "marker": {
             "colorbar": {
              "outlinewidth": 0,
              "ticks": ""
             }
            },
            "type": "scattergl"
           }
          ],
          "scattermapbox": [
           {
            "marker": {
             "colorbar": {
              "outlinewidth": 0,
              "ticks": ""
             }
            },
            "type": "scattermapbox"
           }
          ],
          "scatterpolar": [
           {
            "marker": {
             "colorbar": {
              "outlinewidth": 0,
              "ticks": ""
             }
            },
            "type": "scatterpolar"
           }
          ],
          "scatterpolargl": [
           {
            "marker": {
             "colorbar": {
              "outlinewidth": 0,
              "ticks": ""
             }
            },
            "type": "scatterpolargl"
           }
          ],
          "scatterternary": [
           {
            "marker": {
             "colorbar": {
              "outlinewidth": 0,
              "ticks": ""
             }
            },
            "type": "scatterternary"
           }
          ],
          "surface": [
           {
            "colorbar": {
             "outlinewidth": 0,
             "ticks": ""
            },
            "colorscale": [
             [
              0,
              "#0d0887"
             ],
             [
              0.1111111111111111,
              "#46039f"
             ],
             [
              0.2222222222222222,
              "#7201a8"
             ],
             [
              0.3333333333333333,
              "#9c179e"
             ],
             [
              0.4444444444444444,
              "#bd3786"
             ],
             [
              0.5555555555555556,
              "#d8576b"
             ],
             [
              0.6666666666666666,
              "#ed7953"
             ],
             [
              0.7777777777777778,
              "#fb9f3a"
             ],
             [
              0.8888888888888888,
              "#fdca26"
             ],
             [
              1,
              "#f0f921"
             ]
            ],
            "type": "surface"
           }
          ],
          "table": [
           {
            "cells": {
             "fill": {
              "color": "#EBF0F8"
             },
             "line": {
              "color": "white"
             }
            },
            "header": {
             "fill": {
              "color": "#C8D4E3"
             },
             "line": {
              "color": "white"
             }
            },
            "type": "table"
           }
          ]
         },
         "layout": {
          "annotationdefaults": {
           "arrowcolor": "#2a3f5f",
           "arrowhead": 0,
           "arrowwidth": 1
          },
          "autotypenumbers": "strict",
          "coloraxis": {
           "colorbar": {
            "outlinewidth": 0,
            "ticks": ""
           }
          },
          "colorscale": {
           "diverging": [
            [
             0,
             "#8e0152"
            ],
            [
             0.1,
             "#c51b7d"
            ],
            [
             0.2,
             "#de77ae"
            ],
            [
             0.3,
             "#f1b6da"
            ],
            [
             0.4,
             "#fde0ef"
            ],
            [
             0.5,
             "#f7f7f7"
            ],
            [
             0.6,
             "#e6f5d0"
            ],
            [
             0.7,
             "#b8e186"
            ],
            [
             0.8,
             "#7fbc41"
            ],
            [
             0.9,
             "#4d9221"
            ],
            [
             1,
             "#276419"
            ]
           ],
           "sequential": [
            [
             0,
             "#0d0887"
            ],
            [
             0.1111111111111111,
             "#46039f"
            ],
            [
             0.2222222222222222,
             "#7201a8"
            ],
            [
             0.3333333333333333,
             "#9c179e"
            ],
            [
             0.4444444444444444,
             "#bd3786"
            ],
            [
             0.5555555555555556,
             "#d8576b"
            ],
            [
             0.6666666666666666,
             "#ed7953"
            ],
            [
             0.7777777777777778,
             "#fb9f3a"
            ],
            [
             0.8888888888888888,
             "#fdca26"
            ],
            [
             1,
             "#f0f921"
            ]
           ],
           "sequentialminus": [
            [
             0,
             "#0d0887"
            ],
            [
             0.1111111111111111,
             "#46039f"
            ],
            [
             0.2222222222222222,
             "#7201a8"
            ],
            [
             0.3333333333333333,
             "#9c179e"
            ],
            [
             0.4444444444444444,
             "#bd3786"
            ],
            [
             0.5555555555555556,
             "#d8576b"
            ],
            [
             0.6666666666666666,
             "#ed7953"
            ],
            [
             0.7777777777777778,
             "#fb9f3a"
            ],
            [
             0.8888888888888888,
             "#fdca26"
            ],
            [
             1,
             "#f0f921"
            ]
           ]
          },
          "colorway": [
           "#636efa",
           "#EF553B",
           "#00cc96",
           "#ab63fa",
           "#FFA15A",
           "#19d3f3",
           "#FF6692",
           "#B6E880",
           "#FF97FF",
           "#FECB52"
          ],
          "font": {
           "color": "#2a3f5f"
          },
          "geo": {
           "bgcolor": "white",
           "lakecolor": "white",
           "landcolor": "#E5ECF6",
           "showlakes": true,
           "showland": true,
           "subunitcolor": "white"
          },
          "hoverlabel": {
           "align": "left"
          },
          "hovermode": "closest",
          "mapbox": {
           "style": "light"
          },
          "paper_bgcolor": "white",
          "plot_bgcolor": "#E5ECF6",
          "polar": {
           "angularaxis": {
            "gridcolor": "white",
            "linecolor": "white",
            "ticks": ""
           },
           "bgcolor": "#E5ECF6",
           "radialaxis": {
            "gridcolor": "white",
            "linecolor": "white",
            "ticks": ""
           }
          },
          "scene": {
           "xaxis": {
            "backgroundcolor": "#E5ECF6",
            "gridcolor": "white",
            "gridwidth": 2,
            "linecolor": "white",
            "showbackground": true,
            "ticks": "",
            "zerolinecolor": "white"
           },
           "yaxis": {
            "backgroundcolor": "#E5ECF6",
            "gridcolor": "white",
            "gridwidth": 2,
            "linecolor": "white",
            "showbackground": true,
            "ticks": "",
            "zerolinecolor": "white"
           },
           "zaxis": {
            "backgroundcolor": "#E5ECF6",
            "gridcolor": "white",
            "gridwidth": 2,
            "linecolor": "white",
            "showbackground": true,
            "ticks": "",
            "zerolinecolor": "white"
           }
          },
          "shapedefaults": {
           "line": {
            "color": "#2a3f5f"
           }
          },
          "ternary": {
           "aaxis": {
            "gridcolor": "white",
            "linecolor": "white",
            "ticks": ""
           },
           "baxis": {
            "gridcolor": "white",
            "linecolor": "white",
            "ticks": ""
           },
           "bgcolor": "#E5ECF6",
           "caxis": {
            "gridcolor": "white",
            "linecolor": "white",
            "ticks": ""
           }
          },
          "title": {
           "x": 0.05
          },
          "xaxis": {
           "automargin": true,
           "gridcolor": "white",
           "linecolor": "white",
           "ticks": "",
           "title": {
            "standoff": 15
           },
           "zerolinecolor": "white",
           "zerolinewidth": 2
          },
          "yaxis": {
           "automargin": true,
           "gridcolor": "white",
           "linecolor": "white",
           "ticks": "",
           "title": {
            "standoff": 15
           },
           "zerolinecolor": "white",
           "zerolinewidth": 2
          }
         }
        },
        "xaxis": {
         "anchor": "y",
         "domain": [
          0,
          1
         ],
         "title": {
          "text": "open_time"
         }
        },
        "yaxis": {
         "anchor": "x",
         "domain": [
          0,
          1
         ],
         "title": {
          "text": "profit"
         }
        }
       }
      },
      "text/html": [
       "<div>                            <div id=\"183f1bf6-d1c2-4c95-a97b-8c58560a13d9\" class=\"plotly-graph-div\" style=\"height:525px; width:100%;\"></div>            <script type=\"text/javascript\">                require([\"plotly\"], function(Plotly) {                    window.PLOTLYENV=window.PLOTLYENV || {};                                    if (document.getElementById(\"183f1bf6-d1c2-4c95-a97b-8c58560a13d9\")) {                    Plotly.newPlot(                        \"183f1bf6-d1c2-4c95-a97b-8c58560a13d9\",                        [{\"hovertemplate\":\"open_time=%{x}<br>profit=%{y}<extra></extra>\",\"legendgroup\":\"\",\"line\":{\"color\":\"#636efa\",\"dash\":\"solid\"},\"marker\":{\"symbol\":\"circle\"},\"mode\":\"lines\",\"name\":\"\",\"orientation\":\"v\",\"showlegend\":false,\"x\":[\"2023-02-26T12:11:55.589721\",\"2023-02-26T13:07:32.195792\",\"2023-03-05T08:29:46.921700\",\"2023-03-05T08:31:14.769513\",\"2023-03-05T08:33:38.652402\",\"2023-03-05T08:37:09.594844\",\"2023-03-05T08:37:50.515445\",\"2023-03-05T08:38:25.894413\",\"2023-03-05T08:39:15.329011\",\"2023-03-05T08:40:16.595495\",\"2023-03-05T08:43:24.687356\",\"2023-03-05T08:54:34.493511\"],\"xaxis\":\"x\",\"y\":[-45.95000000000073,-869.9599999999991,-5.330000000001746,3.650000000001455,-2.5900000000001455,-0.7799999999988358,-1.4599999999991269,-17.360000000000582,5.099999999998545,0.5299999999988358,-10.380000000001019,null],\"yaxis\":\"y\",\"type\":\"scatter\"}],                        {\"template\":{\"data\":{\"histogram2dcontour\":[{\"type\":\"histogram2dcontour\",\"colorbar\":{\"outlinewidth\":0,\"ticks\":\"\"},\"colorscale\":[[0.0,\"#0d0887\"],[0.1111111111111111,\"#46039f\"],[0.2222222222222222,\"#7201a8\"],[0.3333333333333333,\"#9c179e\"],[0.4444444444444444,\"#bd3786\"],[0.5555555555555556,\"#d8576b\"],[0.6666666666666666,\"#ed7953\"],[0.7777777777777778,\"#fb9f3a\"],[0.8888888888888888,\"#fdca26\"],[1.0,\"#f0f921\"]]}],\"choropleth\":[{\"type\":\"choropleth\",\"colorbar\":{\"outlinewidth\":0,\"ticks\":\"\"}}],\"histogram2d\":[{\"type\":\"histogram2d\",\"colorbar\":{\"outlinewidth\":0,\"ticks\":\"\"},\"colorscale\":[[0.0,\"#0d0887\"],[0.1111111111111111,\"#46039f\"],[0.2222222222222222,\"#7201a8\"],[0.3333333333333333,\"#9c179e\"],[0.4444444444444444,\"#bd3786\"],[0.5555555555555556,\"#d8576b\"],[0.6666666666666666,\"#ed7953\"],[0.7777777777777778,\"#fb9f3a\"],[0.8888888888888888,\"#fdca26\"],[1.0,\"#f0f921\"]]}],\"heatmap\":[{\"type\":\"heatmap\",\"colorbar\":{\"outlinewidth\":0,\"ticks\":\"\"},\"colorscale\":[[0.0,\"#0d0887\"],[0.1111111111111111,\"#46039f\"],[0.2222222222222222,\"#7201a8\"],[0.3333333333333333,\"#9c179e\"],[0.4444444444444444,\"#bd3786\"],[0.5555555555555556,\"#d8576b\"],[0.6666666666666666,\"#ed7953\"],[0.7777777777777778,\"#fb9f3a\"],[0.8888888888888888,\"#fdca26\"],[1.0,\"#f0f921\"]]}],\"heatmapgl\":[{\"type\":\"heatmapgl\",\"colorbar\":{\"outlinewidth\":0,\"ticks\":\"\"},\"colorscale\":[[0.0,\"#0d0887\"],[0.1111111111111111,\"#46039f\"],[0.2222222222222222,\"#7201a8\"],[0.3333333333333333,\"#9c179e\"],[0.4444444444444444,\"#bd3786\"],[0.5555555555555556,\"#d8576b\"],[0.6666666666666666,\"#ed7953\"],[0.7777777777777778,\"#fb9f3a\"],[0.8888888888888888,\"#fdca26\"],[1.0,\"#f0f921\"]]}],\"contourcarpet\":[{\"type\":\"contourcarpet\",\"colorbar\":{\"outlinewidth\":0,\"ticks\":\"\"}}],\"contour\":[{\"type\":\"contour\",\"colorbar\":{\"outlinewidth\":0,\"ticks\":\"\"},\"colorscale\":[[0.0,\"#0d0887\"],[0.1111111111111111,\"#46039f\"],[0.2222222222222222,\"#7201a8\"],[0.3333333333333333,\"#9c179e\"],[0.4444444444444444,\"#bd3786\"],[0.5555555555555556,\"#d8576b\"],[0.6666666666666666,\"#ed7953\"],[0.7777777777777778,\"#fb9f3a\"],[0.8888888888888888,\"#fdca26\"],[1.0,\"#f0f921\"]]}],\"surface\":[{\"type\":\"surface\",\"colorbar\":{\"outlinewidth\":0,\"ticks\":\"\"},\"colorscale\":[[0.0,\"#0d0887\"],[0.1111111111111111,\"#46039f\"],[0.2222222222222222,\"#7201a8\"],[0.3333333333333333,\"#9c179e\"],[0.4444444444444444,\"#bd3786\"],[0.5555555555555556,\"#d8576b\"],[0.6666666666666666,\"#ed7953\"],[0.7777777777777778,\"#fb9f3a\"],[0.8888888888888888,\"#fdca26\"],[1.0,\"#f0f921\"]]}],\"mesh3d\":[{\"type\":\"mesh3d\",\"colorbar\":{\"outlinewidth\":0,\"ticks\":\"\"}}],\"scatter\":[{\"fillpattern\":{\"fillmode\":\"overlay\",\"size\":10,\"solidity\":0.2},\"type\":\"scatter\"}],\"parcoords\":[{\"type\":\"parcoords\",\"line\":{\"colorbar\":{\"outlinewidth\":0,\"ticks\":\"\"}}}],\"scatterpolargl\":[{\"type\":\"scatterpolargl\",\"marker\":{\"colorbar\":{\"outlinewidth\":0,\"ticks\":\"\"}}}],\"bar\":[{\"error_x\":{\"color\":\"#2a3f5f\"},\"error_y\":{\"color\":\"#2a3f5f\"},\"marker\":{\"line\":{\"color\":\"#E5ECF6\",\"width\":0.5},\"pattern\":{\"fillmode\":\"overlay\",\"size\":10,\"solidity\":0.2}},\"type\":\"bar\"}],\"scattergeo\":[{\"type\":\"scattergeo\",\"marker\":{\"colorbar\":{\"outlinewidth\":0,\"ticks\":\"\"}}}],\"scatterpolar\":[{\"type\":\"scatterpolar\",\"marker\":{\"colorbar\":{\"outlinewidth\":0,\"ticks\":\"\"}}}],\"histogram\":[{\"marker\":{\"pattern\":{\"fillmode\":\"overlay\",\"size\":10,\"solidity\":0.2}},\"type\":\"histogram\"}],\"scattergl\":[{\"type\":\"scattergl\",\"marker\":{\"colorbar\":{\"outlinewidth\":0,\"ticks\":\"\"}}}],\"scatter3d\":[{\"type\":\"scatter3d\",\"line\":{\"colorbar\":{\"outlinewidth\":0,\"ticks\":\"\"}},\"marker\":{\"colorbar\":{\"outlinewidth\":0,\"ticks\":\"\"}}}],\"scattermapbox\":[{\"type\":\"scattermapbox\",\"marker\":{\"colorbar\":{\"outlinewidth\":0,\"ticks\":\"\"}}}],\"scatterternary\":[{\"type\":\"scatterternary\",\"marker\":{\"colorbar\":{\"outlinewidth\":0,\"ticks\":\"\"}}}],\"scattercarpet\":[{\"type\":\"scattercarpet\",\"marker\":{\"colorbar\":{\"outlinewidth\":0,\"ticks\":\"\"}}}],\"carpet\":[{\"aaxis\":{\"endlinecolor\":\"#2a3f5f\",\"gridcolor\":\"white\",\"linecolor\":\"white\",\"minorgridcolor\":\"white\",\"startlinecolor\":\"#2a3f5f\"},\"baxis\":{\"endlinecolor\":\"#2a3f5f\",\"gridcolor\":\"white\",\"linecolor\":\"white\",\"minorgridcolor\":\"white\",\"startlinecolor\":\"#2a3f5f\"},\"type\":\"carpet\"}],\"table\":[{\"cells\":{\"fill\":{\"color\":\"#EBF0F8\"},\"line\":{\"color\":\"white\"}},\"header\":{\"fill\":{\"color\":\"#C8D4E3\"},\"line\":{\"color\":\"white\"}},\"type\":\"table\"}],\"barpolar\":[{\"marker\":{\"line\":{\"color\":\"#E5ECF6\",\"width\":0.5},\"pattern\":{\"fillmode\":\"overlay\",\"size\":10,\"solidity\":0.2}},\"type\":\"barpolar\"}],\"pie\":[{\"automargin\":true,\"type\":\"pie\"}]},\"layout\":{\"autotypenumbers\":\"strict\",\"colorway\":[\"#636efa\",\"#EF553B\",\"#00cc96\",\"#ab63fa\",\"#FFA15A\",\"#19d3f3\",\"#FF6692\",\"#B6E880\",\"#FF97FF\",\"#FECB52\"],\"font\":{\"color\":\"#2a3f5f\"},\"hovermode\":\"closest\",\"hoverlabel\":{\"align\":\"left\"},\"paper_bgcolor\":\"white\",\"plot_bgcolor\":\"#E5ECF6\",\"polar\":{\"bgcolor\":\"#E5ECF6\",\"angularaxis\":{\"gridcolor\":\"white\",\"linecolor\":\"white\",\"ticks\":\"\"},\"radialaxis\":{\"gridcolor\":\"white\",\"linecolor\":\"white\",\"ticks\":\"\"}},\"ternary\":{\"bgcolor\":\"#E5ECF6\",\"aaxis\":{\"gridcolor\":\"white\",\"linecolor\":\"white\",\"ticks\":\"\"},\"baxis\":{\"gridcolor\":\"white\",\"linecolor\":\"white\",\"ticks\":\"\"},\"caxis\":{\"gridcolor\":\"white\",\"linecolor\":\"white\",\"ticks\":\"\"}},\"coloraxis\":{\"colorbar\":{\"outlinewidth\":0,\"ticks\":\"\"}},\"colorscale\":{\"sequential\":[[0.0,\"#0d0887\"],[0.1111111111111111,\"#46039f\"],[0.2222222222222222,\"#7201a8\"],[0.3333333333333333,\"#9c179e\"],[0.4444444444444444,\"#bd3786\"],[0.5555555555555556,\"#d8576b\"],[0.6666666666666666,\"#ed7953\"],[0.7777777777777778,\"#fb9f3a\"],[0.8888888888888888,\"#fdca26\"],[1.0,\"#f0f921\"]],\"sequentialminus\":[[0.0,\"#0d0887\"],[0.1111111111111111,\"#46039f\"],[0.2222222222222222,\"#7201a8\"],[0.3333333333333333,\"#9c179e\"],[0.4444444444444444,\"#bd3786\"],[0.5555555555555556,\"#d8576b\"],[0.6666666666666666,\"#ed7953\"],[0.7777777777777778,\"#fb9f3a\"],[0.8888888888888888,\"#fdca26\"],[1.0,\"#f0f921\"]],\"diverging\":[[0,\"#8e0152\"],[0.1,\"#c51b7d\"],[0.2,\"#de77ae\"],[0.3,\"#f1b6da\"],[0.4,\"#fde0ef\"],[0.5,\"#f7f7f7\"],[0.6,\"#e6f5d0\"],[0.7,\"#b8e186\"],[0.8,\"#7fbc41\"],[0.9,\"#4d9221\"],[1,\"#276419\"]]},\"xaxis\":{\"gridcolor\":\"white\",\"linecolor\":\"white\",\"ticks\":\"\",\"title\":{\"standoff\":15},\"zerolinecolor\":\"white\",\"automargin\":true,\"zerolinewidth\":2},\"yaxis\":{\"gridcolor\":\"white\",\"linecolor\":\"white\",\"ticks\":\"\",\"title\":{\"standoff\":15},\"zerolinecolor\":\"white\",\"automargin\":true,\"zerolinewidth\":2},\"scene\":{\"xaxis\":{\"backgroundcolor\":\"#E5ECF6\",\"gridcolor\":\"white\",\"linecolor\":\"white\",\"showbackground\":true,\"ticks\":\"\",\"zerolinecolor\":\"white\",\"gridwidth\":2},\"yaxis\":{\"backgroundcolor\":\"#E5ECF6\",\"gridcolor\":\"white\",\"linecolor\":\"white\",\"showbackground\":true,\"ticks\":\"\",\"zerolinecolor\":\"white\",\"gridwidth\":2},\"zaxis\":{\"backgroundcolor\":\"#E5ECF6\",\"gridcolor\":\"white\",\"linecolor\":\"white\",\"showbackground\":true,\"ticks\":\"\",\"zerolinecolor\":\"white\",\"gridwidth\":2}},\"shapedefaults\":{\"line\":{\"color\":\"#2a3f5f\"}},\"annotationdefaults\":{\"arrowcolor\":\"#2a3f5f\",\"arrowhead\":0,\"arrowwidth\":1},\"geo\":{\"bgcolor\":\"white\",\"landcolor\":\"#E5ECF6\",\"subunitcolor\":\"white\",\"showland\":true,\"showlakes\":true,\"lakecolor\":\"white\"},\"title\":{\"x\":0.05},\"mapbox\":{\"style\":\"light\"}}},\"xaxis\":{\"anchor\":\"y\",\"domain\":[0.0,1.0],\"title\":{\"text\":\"open_time\"}},\"yaxis\":{\"anchor\":\"x\",\"domain\":[0.0,1.0],\"title\":{\"text\":\"profit\"}},\"legend\":{\"tracegroupgap\":0},\"margin\":{\"t\":60}},                        {\"responsive\": true}                    ).then(function(){\n",
       "                            \n",
       "var gd = document.getElementById('183f1bf6-d1c2-4c95-a97b-8c58560a13d9');\n",
       "var x = new MutationObserver(function (mutations, observer) {{\n",
       "        var display = window.getComputedStyle(gd).display;\n",
       "        if (!display || display === 'none') {{\n",
       "            console.log([gd, 'removed!']);\n",
       "            Plotly.purge(gd);\n",
       "            observer.disconnect();\n",
       "        }}\n",
       "}});\n",
       "\n",
       "// Listen for the removal of the full notebook cells\n",
       "var notebookContainer = gd.closest('#notebook-container');\n",
       "if (notebookContainer) {{\n",
       "    x.observe(notebookContainer, {childList: true});\n",
       "}}\n",
       "\n",
       "// Listen for the clearing of the current output cell\n",
       "var outputEl = gd.closest('.output');\n",
       "if (outputEl) {{\n",
       "    x.observe(outputEl, {childList: true});\n",
       "}}\n",
       "\n",
       "                        })                };                });            </script>        </div>"
      ]
     },
     "metadata": {},
     "output_type": "display_data"
    }
   ],
   "source": [
    "#import matplotlib.pyplot as plt\n",
    "import plotly.express as px\n",
    "# Calc profit, considering only closing trades\n",
    "profit=trades.copy()\n",
    "profit[\"cum_profit\"] = profit[\"profit\"].cumsum()\n",
    "profit[\"color\"]=np.where(profit.profit >=0, \"green\",\"red\")\n",
    "profit.tail()\n",
    "\n",
    "#Plot\n",
    "fig = px.line(profit, x=\"open_time\", y=\"profit\")\n",
    "fig.show()"
   ]
  },
  {
   "cell_type": "code",
   "execution_count": 12,
   "metadata": {},
   "outputs": [
    {
     "data": {
      "application/vnd.plotly.v1+json": {
       "config": {
        "plotlyServerURL": "https://plot.ly"
       },
       "data": [
        {
         "hovertemplate": "index=%{x}<br>cum_profit=%{y}<extra></extra>",
         "legendgroup": "",
         "line": {
          "color": "#636efa",
          "dash": "solid"
         },
         "marker": {
          "symbol": "circle"
         },
         "mode": "lines",
         "name": "",
         "orientation": "v",
         "showlegend": false,
         "type": "scatter",
         "x": [
          0,
          1,
          2,
          3,
          4,
          5,
          6,
          7,
          8,
          9,
          10
         ],
         "xaxis": "x",
         "y": [
          -45.95000000000073,
          -915.9099999999999,
          -921.2400000000016,
          -917.5900000000001,
          -920.1800000000003,
          -920.9599999999991,
          -922.4199999999983,
          -939.7799999999988,
          -934.6800000000003,
          -934.1500000000015,
          -944.5300000000025
         ],
         "yaxis": "y"
        }
       ],
       "layout": {
        "legend": {
         "tracegroupgap": 0
        },
        "margin": {
         "t": 60
        },
        "template": {
         "data": {
          "bar": [
           {
            "error_x": {
             "color": "#2a3f5f"
            },
            "error_y": {
             "color": "#2a3f5f"
            },
            "marker": {
             "line": {
              "color": "#E5ECF6",
              "width": 0.5
             },
             "pattern": {
              "fillmode": "overlay",
              "size": 10,
              "solidity": 0.2
             }
            },
            "type": "bar"
           }
          ],
          "barpolar": [
           {
            "marker": {
             "line": {
              "color": "#E5ECF6",
              "width": 0.5
             },
             "pattern": {
              "fillmode": "overlay",
              "size": 10,
              "solidity": 0.2
             }
            },
            "type": "barpolar"
           }
          ],
          "carpet": [
           {
            "aaxis": {
             "endlinecolor": "#2a3f5f",
             "gridcolor": "white",
             "linecolor": "white",
             "minorgridcolor": "white",
             "startlinecolor": "#2a3f5f"
            },
            "baxis": {
             "endlinecolor": "#2a3f5f",
             "gridcolor": "white",
             "linecolor": "white",
             "minorgridcolor": "white",
             "startlinecolor": "#2a3f5f"
            },
            "type": "carpet"
           }
          ],
          "choropleth": [
           {
            "colorbar": {
             "outlinewidth": 0,
             "ticks": ""
            },
            "type": "choropleth"
           }
          ],
          "contour": [
           {
            "colorbar": {
             "outlinewidth": 0,
             "ticks": ""
            },
            "colorscale": [
             [
              0,
              "#0d0887"
             ],
             [
              0.1111111111111111,
              "#46039f"
             ],
             [
              0.2222222222222222,
              "#7201a8"
             ],
             [
              0.3333333333333333,
              "#9c179e"
             ],
             [
              0.4444444444444444,
              "#bd3786"
             ],
             [
              0.5555555555555556,
              "#d8576b"
             ],
             [
              0.6666666666666666,
              "#ed7953"
             ],
             [
              0.7777777777777778,
              "#fb9f3a"
             ],
             [
              0.8888888888888888,
              "#fdca26"
             ],
             [
              1,
              "#f0f921"
             ]
            ],
            "type": "contour"
           }
          ],
          "contourcarpet": [
           {
            "colorbar": {
             "outlinewidth": 0,
             "ticks": ""
            },
            "type": "contourcarpet"
           }
          ],
          "heatmap": [
           {
            "colorbar": {
             "outlinewidth": 0,
             "ticks": ""
            },
            "colorscale": [
             [
              0,
              "#0d0887"
             ],
             [
              0.1111111111111111,
              "#46039f"
             ],
             [
              0.2222222222222222,
              "#7201a8"
             ],
             [
              0.3333333333333333,
              "#9c179e"
             ],
             [
              0.4444444444444444,
              "#bd3786"
             ],
             [
              0.5555555555555556,
              "#d8576b"
             ],
             [
              0.6666666666666666,
              "#ed7953"
             ],
             [
              0.7777777777777778,
              "#fb9f3a"
             ],
             [
              0.8888888888888888,
              "#fdca26"
             ],
             [
              1,
              "#f0f921"
             ]
            ],
            "type": "heatmap"
           }
          ],
          "heatmapgl": [
           {
            "colorbar": {
             "outlinewidth": 0,
             "ticks": ""
            },
            "colorscale": [
             [
              0,
              "#0d0887"
             ],
             [
              0.1111111111111111,
              "#46039f"
             ],
             [
              0.2222222222222222,
              "#7201a8"
             ],
             [
              0.3333333333333333,
              "#9c179e"
             ],
             [
              0.4444444444444444,
              "#bd3786"
             ],
             [
              0.5555555555555556,
              "#d8576b"
             ],
             [
              0.6666666666666666,
              "#ed7953"
             ],
             [
              0.7777777777777778,
              "#fb9f3a"
             ],
             [
              0.8888888888888888,
              "#fdca26"
             ],
             [
              1,
              "#f0f921"
             ]
            ],
            "type": "heatmapgl"
           }
          ],
          "histogram": [
           {
            "marker": {
             "pattern": {
              "fillmode": "overlay",
              "size": 10,
              "solidity": 0.2
             }
            },
            "type": "histogram"
           }
          ],
          "histogram2d": [
           {
            "colorbar": {
             "outlinewidth": 0,
             "ticks": ""
            },
            "colorscale": [
             [
              0,
              "#0d0887"
             ],
             [
              0.1111111111111111,
              "#46039f"
             ],
             [
              0.2222222222222222,
              "#7201a8"
             ],
             [
              0.3333333333333333,
              "#9c179e"
             ],
             [
              0.4444444444444444,
              "#bd3786"
             ],
             [
              0.5555555555555556,
              "#d8576b"
             ],
             [
              0.6666666666666666,
              "#ed7953"
             ],
             [
              0.7777777777777778,
              "#fb9f3a"
             ],
             [
              0.8888888888888888,
              "#fdca26"
             ],
             [
              1,
              "#f0f921"
             ]
            ],
            "type": "histogram2d"
           }
          ],
          "histogram2dcontour": [
           {
            "colorbar": {
             "outlinewidth": 0,
             "ticks": ""
            },
            "colorscale": [
             [
              0,
              "#0d0887"
             ],
             [
              0.1111111111111111,
              "#46039f"
             ],
             [
              0.2222222222222222,
              "#7201a8"
             ],
             [
              0.3333333333333333,
              "#9c179e"
             ],
             [
              0.4444444444444444,
              "#bd3786"
             ],
             [
              0.5555555555555556,
              "#d8576b"
             ],
             [
              0.6666666666666666,
              "#ed7953"
             ],
             [
              0.7777777777777778,
              "#fb9f3a"
             ],
             [
              0.8888888888888888,
              "#fdca26"
             ],
             [
              1,
              "#f0f921"
             ]
            ],
            "type": "histogram2dcontour"
           }
          ],
          "mesh3d": [
           {
            "colorbar": {
             "outlinewidth": 0,
             "ticks": ""
            },
            "type": "mesh3d"
           }
          ],
          "parcoords": [
           {
            "line": {
             "colorbar": {
              "outlinewidth": 0,
              "ticks": ""
             }
            },
            "type": "parcoords"
           }
          ],
          "pie": [
           {
            "automargin": true,
            "type": "pie"
           }
          ],
          "scatter": [
           {
            "fillpattern": {
             "fillmode": "overlay",
             "size": 10,
             "solidity": 0.2
            },
            "type": "scatter"
           }
          ],
          "scatter3d": [
           {
            "line": {
             "colorbar": {
              "outlinewidth": 0,
              "ticks": ""
             }
            },
            "marker": {
             "colorbar": {
              "outlinewidth": 0,
              "ticks": ""
             }
            },
            "type": "scatter3d"
           }
          ],
          "scattercarpet": [
           {
            "marker": {
             "colorbar": {
              "outlinewidth": 0,
              "ticks": ""
             }
            },
            "type": "scattercarpet"
           }
          ],
          "scattergeo": [
           {
            "marker": {
             "colorbar": {
              "outlinewidth": 0,
              "ticks": ""
             }
            },
            "type": "scattergeo"
           }
          ],
          "scattergl": [
           {
            "marker": {
             "colorbar": {
              "outlinewidth": 0,
              "ticks": ""
             }
            },
            "type": "scattergl"
           }
          ],
          "scattermapbox": [
           {
            "marker": {
             "colorbar": {
              "outlinewidth": 0,
              "ticks": ""
             }
            },
            "type": "scattermapbox"
           }
          ],
          "scatterpolar": [
           {
            "marker": {
             "colorbar": {
              "outlinewidth": 0,
              "ticks": ""
             }
            },
            "type": "scatterpolar"
           }
          ],
          "scatterpolargl": [
           {
            "marker": {
             "colorbar": {
              "outlinewidth": 0,
              "ticks": ""
             }
            },
            "type": "scatterpolargl"
           }
          ],
          "scatterternary": [
           {
            "marker": {
             "colorbar": {
              "outlinewidth": 0,
              "ticks": ""
             }
            },
            "type": "scatterternary"
           }
          ],
          "surface": [
           {
            "colorbar": {
             "outlinewidth": 0,
             "ticks": ""
            },
            "colorscale": [
             [
              0,
              "#0d0887"
             ],
             [
              0.1111111111111111,
              "#46039f"
             ],
             [
              0.2222222222222222,
              "#7201a8"
             ],
             [
              0.3333333333333333,
              "#9c179e"
             ],
             [
              0.4444444444444444,
              "#bd3786"
             ],
             [
              0.5555555555555556,
              "#d8576b"
             ],
             [
              0.6666666666666666,
              "#ed7953"
             ],
             [
              0.7777777777777778,
              "#fb9f3a"
             ],
             [
              0.8888888888888888,
              "#fdca26"
             ],
             [
              1,
              "#f0f921"
             ]
            ],
            "type": "surface"
           }
          ],
          "table": [
           {
            "cells": {
             "fill": {
              "color": "#EBF0F8"
             },
             "line": {
              "color": "white"
             }
            },
            "header": {
             "fill": {
              "color": "#C8D4E3"
             },
             "line": {
              "color": "white"
             }
            },
            "type": "table"
           }
          ]
         },
         "layout": {
          "annotationdefaults": {
           "arrowcolor": "#2a3f5f",
           "arrowhead": 0,
           "arrowwidth": 1
          },
          "autotypenumbers": "strict",
          "coloraxis": {
           "colorbar": {
            "outlinewidth": 0,
            "ticks": ""
           }
          },
          "colorscale": {
           "diverging": [
            [
             0,
             "#8e0152"
            ],
            [
             0.1,
             "#c51b7d"
            ],
            [
             0.2,
             "#de77ae"
            ],
            [
             0.3,
             "#f1b6da"
            ],
            [
             0.4,
             "#fde0ef"
            ],
            [
             0.5,
             "#f7f7f7"
            ],
            [
             0.6,
             "#e6f5d0"
            ],
            [
             0.7,
             "#b8e186"
            ],
            [
             0.8,
             "#7fbc41"
            ],
            [
             0.9,
             "#4d9221"
            ],
            [
             1,
             "#276419"
            ]
           ],
           "sequential": [
            [
             0,
             "#0d0887"
            ],
            [
             0.1111111111111111,
             "#46039f"
            ],
            [
             0.2222222222222222,
             "#7201a8"
            ],
            [
             0.3333333333333333,
             "#9c179e"
            ],
            [
             0.4444444444444444,
             "#bd3786"
            ],
            [
             0.5555555555555556,
             "#d8576b"
            ],
            [
             0.6666666666666666,
             "#ed7953"
            ],
            [
             0.7777777777777778,
             "#fb9f3a"
            ],
            [
             0.8888888888888888,
             "#fdca26"
            ],
            [
             1,
             "#f0f921"
            ]
           ],
           "sequentialminus": [
            [
             0,
             "#0d0887"
            ],
            [
             0.1111111111111111,
             "#46039f"
            ],
            [
             0.2222222222222222,
             "#7201a8"
            ],
            [
             0.3333333333333333,
             "#9c179e"
            ],
            [
             0.4444444444444444,
             "#bd3786"
            ],
            [
             0.5555555555555556,
             "#d8576b"
            ],
            [
             0.6666666666666666,
             "#ed7953"
            ],
            [
             0.7777777777777778,
             "#fb9f3a"
            ],
            [
             0.8888888888888888,
             "#fdca26"
            ],
            [
             1,
             "#f0f921"
            ]
           ]
          },
          "colorway": [
           "#636efa",
           "#EF553B",
           "#00cc96",
           "#ab63fa",
           "#FFA15A",
           "#19d3f3",
           "#FF6692",
           "#B6E880",
           "#FF97FF",
           "#FECB52"
          ],
          "font": {
           "color": "#2a3f5f"
          },
          "geo": {
           "bgcolor": "white",
           "lakecolor": "white",
           "landcolor": "#E5ECF6",
           "showlakes": true,
           "showland": true,
           "subunitcolor": "white"
          },
          "hoverlabel": {
           "align": "left"
          },
          "hovermode": "closest",
          "mapbox": {
           "style": "light"
          },
          "paper_bgcolor": "white",
          "plot_bgcolor": "#E5ECF6",
          "polar": {
           "angularaxis": {
            "gridcolor": "white",
            "linecolor": "white",
            "ticks": ""
           },
           "bgcolor": "#E5ECF6",
           "radialaxis": {
            "gridcolor": "white",
            "linecolor": "white",
            "ticks": ""
           }
          },
          "scene": {
           "xaxis": {
            "backgroundcolor": "#E5ECF6",
            "gridcolor": "white",
            "gridwidth": 2,
            "linecolor": "white",
            "showbackground": true,
            "ticks": "",
            "zerolinecolor": "white"
           },
           "yaxis": {
            "backgroundcolor": "#E5ECF6",
            "gridcolor": "white",
            "gridwidth": 2,
            "linecolor": "white",
            "showbackground": true,
            "ticks": "",
            "zerolinecolor": "white"
           },
           "zaxis": {
            "backgroundcolor": "#E5ECF6",
            "gridcolor": "white",
            "gridwidth": 2,
            "linecolor": "white",
            "showbackground": true,
            "ticks": "",
            "zerolinecolor": "white"
           }
          },
          "shapedefaults": {
           "line": {
            "color": "#2a3f5f"
           }
          },
          "ternary": {
           "aaxis": {
            "gridcolor": "white",
            "linecolor": "white",
            "ticks": ""
           },
           "baxis": {
            "gridcolor": "white",
            "linecolor": "white",
            "ticks": ""
           },
           "bgcolor": "#E5ECF6",
           "caxis": {
            "gridcolor": "white",
            "linecolor": "white",
            "ticks": ""
           }
          },
          "title": {
           "x": 0.05
          },
          "xaxis": {
           "automargin": true,
           "gridcolor": "white",
           "linecolor": "white",
           "ticks": "",
           "title": {
            "standoff": 15
           },
           "zerolinecolor": "white",
           "zerolinewidth": 2
          },
          "yaxis": {
           "automargin": true,
           "gridcolor": "white",
           "linecolor": "white",
           "ticks": "",
           "title": {
            "standoff": 15
           },
           "zerolinecolor": "white",
           "zerolinewidth": 2
          }
         }
        },
        "xaxis": {
         "anchor": "y",
         "domain": [
          0,
          1
         ],
         "title": {
          "text": "index"
         }
        },
        "yaxis": {
         "anchor": "x",
         "domain": [
          0,
          1
         ],
         "title": {
          "text": "cum_profit"
         }
        }
       }
      },
      "text/html": [
       "<div>                            <div id=\"cf4ea52d-791c-4ae2-896a-b13efa8e43a8\" class=\"plotly-graph-div\" style=\"height:525px; width:100%;\"></div>            <script type=\"text/javascript\">                require([\"plotly\"], function(Plotly) {                    window.PLOTLYENV=window.PLOTLYENV || {};                                    if (document.getElementById(\"cf4ea52d-791c-4ae2-896a-b13efa8e43a8\")) {                    Plotly.newPlot(                        \"cf4ea52d-791c-4ae2-896a-b13efa8e43a8\",                        [{\"hovertemplate\":\"index=%{x}<br>cum_profit=%{y}<extra></extra>\",\"legendgroup\":\"\",\"line\":{\"color\":\"#636efa\",\"dash\":\"solid\"},\"marker\":{\"symbol\":\"circle\"},\"mode\":\"lines\",\"name\":\"\",\"orientation\":\"v\",\"showlegend\":false,\"x\":[0,1,2,3,4,5,6,7,8,9,10],\"xaxis\":\"x\",\"y\":[-45.95000000000073,-915.9099999999999,-921.2400000000016,-917.5900000000001,-920.1800000000003,-920.9599999999991,-922.4199999999983,-939.7799999999988,-934.6800000000003,-934.1500000000015,-944.5300000000025],\"yaxis\":\"y\",\"type\":\"scatter\"}],                        {\"template\":{\"data\":{\"histogram2dcontour\":[{\"type\":\"histogram2dcontour\",\"colorbar\":{\"outlinewidth\":0,\"ticks\":\"\"},\"colorscale\":[[0.0,\"#0d0887\"],[0.1111111111111111,\"#46039f\"],[0.2222222222222222,\"#7201a8\"],[0.3333333333333333,\"#9c179e\"],[0.4444444444444444,\"#bd3786\"],[0.5555555555555556,\"#d8576b\"],[0.6666666666666666,\"#ed7953\"],[0.7777777777777778,\"#fb9f3a\"],[0.8888888888888888,\"#fdca26\"],[1.0,\"#f0f921\"]]}],\"choropleth\":[{\"type\":\"choropleth\",\"colorbar\":{\"outlinewidth\":0,\"ticks\":\"\"}}],\"histogram2d\":[{\"type\":\"histogram2d\",\"colorbar\":{\"outlinewidth\":0,\"ticks\":\"\"},\"colorscale\":[[0.0,\"#0d0887\"],[0.1111111111111111,\"#46039f\"],[0.2222222222222222,\"#7201a8\"],[0.3333333333333333,\"#9c179e\"],[0.4444444444444444,\"#bd3786\"],[0.5555555555555556,\"#d8576b\"],[0.6666666666666666,\"#ed7953\"],[0.7777777777777778,\"#fb9f3a\"],[0.8888888888888888,\"#fdca26\"],[1.0,\"#f0f921\"]]}],\"heatmap\":[{\"type\":\"heatmap\",\"colorbar\":{\"outlinewidth\":0,\"ticks\":\"\"},\"colorscale\":[[0.0,\"#0d0887\"],[0.1111111111111111,\"#46039f\"],[0.2222222222222222,\"#7201a8\"],[0.3333333333333333,\"#9c179e\"],[0.4444444444444444,\"#bd3786\"],[0.5555555555555556,\"#d8576b\"],[0.6666666666666666,\"#ed7953\"],[0.7777777777777778,\"#fb9f3a\"],[0.8888888888888888,\"#fdca26\"],[1.0,\"#f0f921\"]]}],\"heatmapgl\":[{\"type\":\"heatmapgl\",\"colorbar\":{\"outlinewidth\":0,\"ticks\":\"\"},\"colorscale\":[[0.0,\"#0d0887\"],[0.1111111111111111,\"#46039f\"],[0.2222222222222222,\"#7201a8\"],[0.3333333333333333,\"#9c179e\"],[0.4444444444444444,\"#bd3786\"],[0.5555555555555556,\"#d8576b\"],[0.6666666666666666,\"#ed7953\"],[0.7777777777777778,\"#fb9f3a\"],[0.8888888888888888,\"#fdca26\"],[1.0,\"#f0f921\"]]}],\"contourcarpet\":[{\"type\":\"contourcarpet\",\"colorbar\":{\"outlinewidth\":0,\"ticks\":\"\"}}],\"contour\":[{\"type\":\"contour\",\"colorbar\":{\"outlinewidth\":0,\"ticks\":\"\"},\"colorscale\":[[0.0,\"#0d0887\"],[0.1111111111111111,\"#46039f\"],[0.2222222222222222,\"#7201a8\"],[0.3333333333333333,\"#9c179e\"],[0.4444444444444444,\"#bd3786\"],[0.5555555555555556,\"#d8576b\"],[0.6666666666666666,\"#ed7953\"],[0.7777777777777778,\"#fb9f3a\"],[0.8888888888888888,\"#fdca26\"],[1.0,\"#f0f921\"]]}],\"surface\":[{\"type\":\"surface\",\"colorbar\":{\"outlinewidth\":0,\"ticks\":\"\"},\"colorscale\":[[0.0,\"#0d0887\"],[0.1111111111111111,\"#46039f\"],[0.2222222222222222,\"#7201a8\"],[0.3333333333333333,\"#9c179e\"],[0.4444444444444444,\"#bd3786\"],[0.5555555555555556,\"#d8576b\"],[0.6666666666666666,\"#ed7953\"],[0.7777777777777778,\"#fb9f3a\"],[0.8888888888888888,\"#fdca26\"],[1.0,\"#f0f921\"]]}],\"mesh3d\":[{\"type\":\"mesh3d\",\"colorbar\":{\"outlinewidth\":0,\"ticks\":\"\"}}],\"scatter\":[{\"fillpattern\":{\"fillmode\":\"overlay\",\"size\":10,\"solidity\":0.2},\"type\":\"scatter\"}],\"parcoords\":[{\"type\":\"parcoords\",\"line\":{\"colorbar\":{\"outlinewidth\":0,\"ticks\":\"\"}}}],\"scatterpolargl\":[{\"type\":\"scatterpolargl\",\"marker\":{\"colorbar\":{\"outlinewidth\":0,\"ticks\":\"\"}}}],\"bar\":[{\"error_x\":{\"color\":\"#2a3f5f\"},\"error_y\":{\"color\":\"#2a3f5f\"},\"marker\":{\"line\":{\"color\":\"#E5ECF6\",\"width\":0.5},\"pattern\":{\"fillmode\":\"overlay\",\"size\":10,\"solidity\":0.2}},\"type\":\"bar\"}],\"scattergeo\":[{\"type\":\"scattergeo\",\"marker\":{\"colorbar\":{\"outlinewidth\":0,\"ticks\":\"\"}}}],\"scatterpolar\":[{\"type\":\"scatterpolar\",\"marker\":{\"colorbar\":{\"outlinewidth\":0,\"ticks\":\"\"}}}],\"histogram\":[{\"marker\":{\"pattern\":{\"fillmode\":\"overlay\",\"size\":10,\"solidity\":0.2}},\"type\":\"histogram\"}],\"scattergl\":[{\"type\":\"scattergl\",\"marker\":{\"colorbar\":{\"outlinewidth\":0,\"ticks\":\"\"}}}],\"scatter3d\":[{\"type\":\"scatter3d\",\"line\":{\"colorbar\":{\"outlinewidth\":0,\"ticks\":\"\"}},\"marker\":{\"colorbar\":{\"outlinewidth\":0,\"ticks\":\"\"}}}],\"scattermapbox\":[{\"type\":\"scattermapbox\",\"marker\":{\"colorbar\":{\"outlinewidth\":0,\"ticks\":\"\"}}}],\"scatterternary\":[{\"type\":\"scatterternary\",\"marker\":{\"colorbar\":{\"outlinewidth\":0,\"ticks\":\"\"}}}],\"scattercarpet\":[{\"type\":\"scattercarpet\",\"marker\":{\"colorbar\":{\"outlinewidth\":0,\"ticks\":\"\"}}}],\"carpet\":[{\"aaxis\":{\"endlinecolor\":\"#2a3f5f\",\"gridcolor\":\"white\",\"linecolor\":\"white\",\"minorgridcolor\":\"white\",\"startlinecolor\":\"#2a3f5f\"},\"baxis\":{\"endlinecolor\":\"#2a3f5f\",\"gridcolor\":\"white\",\"linecolor\":\"white\",\"minorgridcolor\":\"white\",\"startlinecolor\":\"#2a3f5f\"},\"type\":\"carpet\"}],\"table\":[{\"cells\":{\"fill\":{\"color\":\"#EBF0F8\"},\"line\":{\"color\":\"white\"}},\"header\":{\"fill\":{\"color\":\"#C8D4E3\"},\"line\":{\"color\":\"white\"}},\"type\":\"table\"}],\"barpolar\":[{\"marker\":{\"line\":{\"color\":\"#E5ECF6\",\"width\":0.5},\"pattern\":{\"fillmode\":\"overlay\",\"size\":10,\"solidity\":0.2}},\"type\":\"barpolar\"}],\"pie\":[{\"automargin\":true,\"type\":\"pie\"}]},\"layout\":{\"autotypenumbers\":\"strict\",\"colorway\":[\"#636efa\",\"#EF553B\",\"#00cc96\",\"#ab63fa\",\"#FFA15A\",\"#19d3f3\",\"#FF6692\",\"#B6E880\",\"#FF97FF\",\"#FECB52\"],\"font\":{\"color\":\"#2a3f5f\"},\"hovermode\":\"closest\",\"hoverlabel\":{\"align\":\"left\"},\"paper_bgcolor\":\"white\",\"plot_bgcolor\":\"#E5ECF6\",\"polar\":{\"bgcolor\":\"#E5ECF6\",\"angularaxis\":{\"gridcolor\":\"white\",\"linecolor\":\"white\",\"ticks\":\"\"},\"radialaxis\":{\"gridcolor\":\"white\",\"linecolor\":\"white\",\"ticks\":\"\"}},\"ternary\":{\"bgcolor\":\"#E5ECF6\",\"aaxis\":{\"gridcolor\":\"white\",\"linecolor\":\"white\",\"ticks\":\"\"},\"baxis\":{\"gridcolor\":\"white\",\"linecolor\":\"white\",\"ticks\":\"\"},\"caxis\":{\"gridcolor\":\"white\",\"linecolor\":\"white\",\"ticks\":\"\"}},\"coloraxis\":{\"colorbar\":{\"outlinewidth\":0,\"ticks\":\"\"}},\"colorscale\":{\"sequential\":[[0.0,\"#0d0887\"],[0.1111111111111111,\"#46039f\"],[0.2222222222222222,\"#7201a8\"],[0.3333333333333333,\"#9c179e\"],[0.4444444444444444,\"#bd3786\"],[0.5555555555555556,\"#d8576b\"],[0.6666666666666666,\"#ed7953\"],[0.7777777777777778,\"#fb9f3a\"],[0.8888888888888888,\"#fdca26\"],[1.0,\"#f0f921\"]],\"sequentialminus\":[[0.0,\"#0d0887\"],[0.1111111111111111,\"#46039f\"],[0.2222222222222222,\"#7201a8\"],[0.3333333333333333,\"#9c179e\"],[0.4444444444444444,\"#bd3786\"],[0.5555555555555556,\"#d8576b\"],[0.6666666666666666,\"#ed7953\"],[0.7777777777777778,\"#fb9f3a\"],[0.8888888888888888,\"#fdca26\"],[1.0,\"#f0f921\"]],\"diverging\":[[0,\"#8e0152\"],[0.1,\"#c51b7d\"],[0.2,\"#de77ae\"],[0.3,\"#f1b6da\"],[0.4,\"#fde0ef\"],[0.5,\"#f7f7f7\"],[0.6,\"#e6f5d0\"],[0.7,\"#b8e186\"],[0.8,\"#7fbc41\"],[0.9,\"#4d9221\"],[1,\"#276419\"]]},\"xaxis\":{\"gridcolor\":\"white\",\"linecolor\":\"white\",\"ticks\":\"\",\"title\":{\"standoff\":15},\"zerolinecolor\":\"white\",\"automargin\":true,\"zerolinewidth\":2},\"yaxis\":{\"gridcolor\":\"white\",\"linecolor\":\"white\",\"ticks\":\"\",\"title\":{\"standoff\":15},\"zerolinecolor\":\"white\",\"automargin\":true,\"zerolinewidth\":2},\"scene\":{\"xaxis\":{\"backgroundcolor\":\"#E5ECF6\",\"gridcolor\":\"white\",\"linecolor\":\"white\",\"showbackground\":true,\"ticks\":\"\",\"zerolinecolor\":\"white\",\"gridwidth\":2},\"yaxis\":{\"backgroundcolor\":\"#E5ECF6\",\"gridcolor\":\"white\",\"linecolor\":\"white\",\"showbackground\":true,\"ticks\":\"\",\"zerolinecolor\":\"white\",\"gridwidth\":2},\"zaxis\":{\"backgroundcolor\":\"#E5ECF6\",\"gridcolor\":\"white\",\"linecolor\":\"white\",\"showbackground\":true,\"ticks\":\"\",\"zerolinecolor\":\"white\",\"gridwidth\":2}},\"shapedefaults\":{\"line\":{\"color\":\"#2a3f5f\"}},\"annotationdefaults\":{\"arrowcolor\":\"#2a3f5f\",\"arrowhead\":0,\"arrowwidth\":1},\"geo\":{\"bgcolor\":\"white\",\"landcolor\":\"#E5ECF6\",\"subunitcolor\":\"white\",\"showland\":true,\"showlakes\":true,\"lakecolor\":\"white\"},\"title\":{\"x\":0.05},\"mapbox\":{\"style\":\"light\"}}},\"xaxis\":{\"anchor\":\"y\",\"domain\":[0.0,1.0],\"title\":{\"text\":\"index\"}},\"yaxis\":{\"anchor\":\"x\",\"domain\":[0.0,1.0],\"title\":{\"text\":\"cum_profit\"}},\"legend\":{\"tracegroupgap\":0},\"margin\":{\"t\":60}},                        {\"responsive\": true}                    ).then(function(){\n",
       "                            \n",
       "var gd = document.getElementById('cf4ea52d-791c-4ae2-896a-b13efa8e43a8');\n",
       "var x = new MutationObserver(function (mutations, observer) {{\n",
       "        var display = window.getComputedStyle(gd).display;\n",
       "        if (!display || display === 'none') {{\n",
       "            console.log([gd, 'removed!']);\n",
       "            Plotly.purge(gd);\n",
       "            observer.disconnect();\n",
       "        }}\n",
       "}});\n",
       "\n",
       "// Listen for the removal of the full notebook cells\n",
       "var notebookContainer = gd.closest('#notebook-container');\n",
       "if (notebookContainer) {{\n",
       "    x.observe(notebookContainer, {childList: true});\n",
       "}}\n",
       "\n",
       "// Listen for the clearing of the current output cell\n",
       "var outputEl = gd.closest('.output');\n",
       "if (outputEl) {{\n",
       "    x.observe(outputEl, {childList: true});\n",
       "}}\n",
       "\n",
       "                        })                };                });            </script>        </div>"
      ]
     },
     "metadata": {},
     "output_type": "display_data"
    }
   ],
   "source": [
    "import matplotlib.pyplot as plt\n",
    "import plotly.express as px\n",
    "# Calc profit, considering only closing trades\n",
    "profit=trades[~trades[\"profit\"].isna()].copy()\n",
    "#profit[\"profit\"]=profit[\"price\"].diff()*(profit[\"qty\"]/profit[\"qty\"])\n",
    "profit[\"cum_profit\"] = profit[\"profit\"].cumsum()\n",
    "\n",
    "#Plot\n",
    "fig = px.line(profit, y=\"cum_profit\")\n",
    "fig.show()"
   ]
  },
  {
   "cell_type": "markdown",
   "metadata": {},
   "source": [
    "## Predicted and actual low/high"
   ]
  },
  {
   "cell_type": "code",
   "execution_count": 13,
   "metadata": {},
   "outputs": [
    {
     "name": "stdout",
     "output_type": "stream",
     "text": [
      "start date:2023-03-05, end date:2023-03-05, all inclusive\n"
     ]
    },
    {
     "data": {
      "application/vnd.plotly.v1+json": {
       "config": {
        "plotlyServerURL": "https://plot.ly"
       },
       "data": [
        {
         "hovertemplate": "variable=low<br>close_time=%{x}<br>value=%{y}<extra></extra>",
         "legendgroup": "low",
         "line": {
          "color": "#636efa",
          "dash": "solid"
         },
         "marker": {
          "symbol": "circle"
         },
         "mode": "lines+markers",
         "name": "low",
         "orientation": "v",
         "showlegend": true,
         "type": "scatter",
         "x": [
          "2023-03-05 07:21:59.999",
          "2023-03-05 07:22:59.999",
          "2023-03-05 07:24:59.999",
          "2023-03-05 07:39:59.999",
          "2023-03-05 07:41:59.999",
          "2023-03-05 07:46:59.999",
          "2023-03-05 07:47:59.999",
          "2023-03-05 07:49:59.999",
          "2023-03-05 07:59:59.999",
          "2023-03-05 08:00:59.999",
          "2023-03-05 08:28:59.999",
          "2023-03-05 08:29:59.999",
          "2023-03-05 08:31:59.999",
          "2023-03-05 08:33:59.999",
          "2023-03-05 08:37:59.999",
          "2023-03-05 08:37:59.999",
          "2023-03-05 08:38:59.999",
          "2023-03-05 08:39:59.999",
          "2023-03-05 08:40:59.999",
          "2023-03-05 08:42:59.999",
          "2023-03-05 08:43:59.999",
          "2023-03-05 08:45:59.999",
          "2023-03-05 08:47:59.999",
          "2023-03-05 08:49:59.999",
          "2023-03-05 08:51:59.999",
          "2023-03-05 08:52:59.999",
          "2023-03-05 08:53:59.999",
          "2023-03-05 08:54:59.999",
          "2023-03-05 08:56:59.999",
          "2023-03-05 08:58:59.999",
          "2023-03-05 09:00:59.999",
          "2023-03-05 09:01:59.999",
          "2023-03-05 09:03:59.999",
          "2023-03-05 09:05:59.999",
          "2023-03-05 09:07:59.999",
          "2023-03-05 09:09:59.999",
          "2023-03-05 09:11:59.999",
          "2023-03-05 09:13:59.999",
          "2023-03-05 09:15:59.999",
          "2023-03-05 09:16:59.999",
          "2023-03-05 09:17:59.999",
          "2023-03-05 09:19:59.999",
          "2023-03-05 09:21:59.999",
          "2023-03-05 09:23:59.999",
          "2023-03-05 09:25:59.999",
          "2023-03-05 09:27:59.999",
          "2023-03-05 09:29:59.999",
          "2023-03-05 09:31:59.999",
          "2023-03-05 09:32:59.999",
          "2023-03-05 09:34:59.999",
          "2023-03-05 09:36:59.999",
          "2023-03-05 09:38:59.999",
          "2023-03-05 09:40:59.999",
          "2023-03-05 09:42:59.999",
          "2023-03-05 09:44:59.999",
          "2023-03-05 09:46:59.999",
          "2023-03-05 09:48:59.999",
          "2023-03-05 09:49:59.999",
          "2023-03-05 09:51:59.999",
          "2023-03-05 09:53:59.999",
          "2023-03-05 09:55:59.999",
          "2023-03-05 09:57:59.999",
          "2023-03-05 09:59:59.999",
          "2023-03-05 10:01:59.999",
          "2023-03-05 10:03:59.999",
          "2023-03-05 10:04:59.999",
          "2023-03-05 10:05:59.999",
          "2023-03-05 10:07:59.999",
          "2023-03-05 10:09:59.999",
          "2023-03-05 10:11:59.999",
          "2023-03-05 10:13:59.999",
          "2023-03-05 10:15:59.999",
          "2023-03-05 10:17:59.999",
          "2023-03-05 10:19:59.999",
          "2023-03-05 10:20:59.999",
          "2023-03-05 10:22:59.999",
          "2023-03-05 10:24:59.999",
          "2023-03-05 10:26:59.999"
         ],
         "xaxis": "x",
         "y": [
          22390.34,
          22382.87,
          22385.82,
          22386.05,
          22381.52,
          22376.08,
          22368.59,
          22371.33,
          22370.55,
          22375.33,
          22370.05,
          22371.56,
          22366.99,
          22369.47,
          22368.15,
          22366.04,
          22366.04,
          22341.67,
          22347.76,
          22337.43,
          22344.01,
          22353.06,
          22349.49,
          22341.57,
          22338.37,
          22337.67,
          22343.01,
          22339.76,
          22330.25,
          22329.96,
          22331.63,
          22333.98,
          22334.06,
          22328.23,
          22344.75,
          22348.44,
          22349.66,
          22366.44,
          22367.03,
          22370.84,
          22370.02,
          22372.4,
          22371.73,
          22384.49,
          22370.86,
          22366.51,
          22365.53,
          22369.33,
          22378.39,
          22394.08,
          22380.8,
          22372.62,
          22375.34,
          22379.46,
          22379.95,
          22382.13,
          22376.08,
          22371.58,
          22372.95,
          22372.84,
          22368.74,
          22371.7,
          22365.96,
          22373.97,
          22374.71,
          22374.37,
          22121.21,
          22367.4,
          22371.16,
          22372.52,
          22372.6,
          22365.41,
          22364.57,
          22365.47,
          22367.6,
          22370.44,
          22387.56,
          22368.35
         ],
         "yaxis": "y"
        },
        {
         "hovertemplate": "variable=high<br>close_time=%{x}<br>value=%{y}<extra></extra>",
         "legendgroup": "high",
         "line": {
          "color": "#EF553B",
          "dash": "solid"
         },
         "marker": {
          "symbol": "circle"
         },
         "mode": "lines+markers",
         "name": "high",
         "orientation": "v",
         "showlegend": true,
         "type": "scatter",
         "x": [
          "2023-03-05 07:21:59.999",
          "2023-03-05 07:22:59.999",
          "2023-03-05 07:24:59.999",
          "2023-03-05 07:39:59.999",
          "2023-03-05 07:41:59.999",
          "2023-03-05 07:46:59.999",
          "2023-03-05 07:47:59.999",
          "2023-03-05 07:49:59.999",
          "2023-03-05 07:59:59.999",
          "2023-03-05 08:00:59.999",
          "2023-03-05 08:28:59.999",
          "2023-03-05 08:29:59.999",
          "2023-03-05 08:31:59.999",
          "2023-03-05 08:33:59.999",
          "2023-03-05 08:37:59.999",
          "2023-03-05 08:37:59.999",
          "2023-03-05 08:38:59.999",
          "2023-03-05 08:39:59.999",
          "2023-03-05 08:40:59.999",
          "2023-03-05 08:42:59.999",
          "2023-03-05 08:43:59.999",
          "2023-03-05 08:45:59.999",
          "2023-03-05 08:47:59.999",
          "2023-03-05 08:49:59.999",
          "2023-03-05 08:51:59.999",
          "2023-03-05 08:52:59.999",
          "2023-03-05 08:53:59.999",
          "2023-03-05 08:54:59.999",
          "2023-03-05 08:56:59.999",
          "2023-03-05 08:58:59.999",
          "2023-03-05 09:00:59.999",
          "2023-03-05 09:01:59.999",
          "2023-03-05 09:03:59.999",
          "2023-03-05 09:05:59.999",
          "2023-03-05 09:07:59.999",
          "2023-03-05 09:09:59.999",
          "2023-03-05 09:11:59.999",
          "2023-03-05 09:13:59.999",
          "2023-03-05 09:15:59.999",
          "2023-03-05 09:16:59.999",
          "2023-03-05 09:17:59.999",
          "2023-03-05 09:19:59.999",
          "2023-03-05 09:21:59.999",
          "2023-03-05 09:23:59.999",
          "2023-03-05 09:25:59.999",
          "2023-03-05 09:27:59.999",
          "2023-03-05 09:29:59.999",
          "2023-03-05 09:31:59.999",
          "2023-03-05 09:32:59.999",
          "2023-03-05 09:34:59.999",
          "2023-03-05 09:36:59.999",
          "2023-03-05 09:38:59.999",
          "2023-03-05 09:40:59.999",
          "2023-03-05 09:42:59.999",
          "2023-03-05 09:44:59.999",
          "2023-03-05 09:46:59.999",
          "2023-03-05 09:48:59.999",
          "2023-03-05 09:49:59.999",
          "2023-03-05 09:51:59.999",
          "2023-03-05 09:53:59.999",
          "2023-03-05 09:55:59.999",
          "2023-03-05 09:57:59.999",
          "2023-03-05 09:59:59.999",
          "2023-03-05 10:01:59.999",
          "2023-03-05 10:03:59.999",
          "2023-03-05 10:04:59.999",
          "2023-03-05 10:05:59.999",
          "2023-03-05 10:07:59.999",
          "2023-03-05 10:09:59.999",
          "2023-03-05 10:11:59.999",
          "2023-03-05 10:13:59.999",
          "2023-03-05 10:15:59.999",
          "2023-03-05 10:17:59.999",
          "2023-03-05 10:19:59.999",
          "2023-03-05 10:20:59.999",
          "2023-03-05 10:22:59.999",
          "2023-03-05 10:24:59.999",
          "2023-03-05 10:26:59.999"
         ],
         "xaxis": "x",
         "y": [
          22392.37,
          22390.86,
          22388.29,
          22386.8,
          22385.94,
          22378.22,
          22377.5,
          22372.81,
          22373.23,
          22377.69,
          22373.78,
          22373.75,
          22368.46,
          22371.65,
          22368.51,
          22369.09,
          22367.17,
          22351.28,
          22352.16,
          22340.45,
          22350.53,
          22357.2,
          22350.78,
          22352.3,
          22346.8,
          22344.55,
          22344.35,
          22343.31,
          22334.38,
          22339.22,
          22341.65,
          22340.26,
          22334.07,
          22332.23,
          22351.03,
          22350.66,
          22352.22,
          22370.55,
          22368.85,
          22375.35,
          22373.07,
          22373.46,
          22373.58,
          22390.16,
          22377.94,
          22369.04,
          22371.51,
          22380.27,
          22389.68,
          22394.08,
          22383.01,
          22376.84,
          22377.1,
          22384.29,
          22381.08,
          22391.8,
          22380.15,
          22377.57,
          22372.96,
          22372.86,
          22369.57,
          22375.33,
          22373.64,
          22405.33,
          22376.17,
          22376.52,
          22374.24,
          22367.65,
          22373.12,
          22373.4,
          22375.8,
          22369.16,
          22366.69,
          22368.72,
          22370.87,
          22370.44,
          22389.93,
          22440.27
         ],
         "yaxis": "y"
        },
        {
         "hovertemplate": "variable=fut_low<br>close_time=%{x}<br>value=%{y}<extra></extra>",
         "legendgroup": "fut_low",
         "line": {
          "color": "#00cc96",
          "dash": "solid"
         },
         "marker": {
          "symbol": "circle"
         },
         "mode": "lines+markers",
         "name": "fut_low",
         "orientation": "v",
         "showlegend": true,
         "type": "scatter",
         "x": [
          "2023-03-05 07:21:59.999",
          "2023-03-05 07:22:59.999",
          "2023-03-05 07:24:59.999",
          "2023-03-05 07:39:59.999",
          "2023-03-05 07:41:59.999",
          "2023-03-05 07:46:59.999",
          "2023-03-05 07:47:59.999",
          "2023-03-05 07:49:59.999",
          "2023-03-05 07:59:59.999",
          "2023-03-05 08:00:59.999",
          "2023-03-05 08:28:59.999",
          "2023-03-05 08:29:59.999",
          "2023-03-05 08:31:59.999",
          "2023-03-05 08:33:59.999",
          "2023-03-05 08:37:59.999",
          "2023-03-05 08:37:59.999",
          "2023-03-05 08:38:59.999",
          "2023-03-05 08:39:59.999",
          "2023-03-05 08:40:59.999",
          "2023-03-05 08:42:59.999",
          "2023-03-05 08:43:59.999",
          "2023-03-05 08:45:59.999",
          "2023-03-05 08:47:59.999",
          "2023-03-05 08:49:59.999",
          "2023-03-05 08:51:59.999",
          "2023-03-05 08:52:59.999",
          "2023-03-05 08:53:59.999",
          "2023-03-05 08:54:59.999",
          "2023-03-05 08:56:59.999",
          "2023-03-05 08:58:59.999",
          "2023-03-05 09:00:59.999",
          "2023-03-05 09:01:59.999",
          "2023-03-05 09:03:59.999",
          "2023-03-05 09:05:59.999",
          "2023-03-05 09:07:59.999",
          "2023-03-05 09:09:59.999",
          "2023-03-05 09:11:59.999",
          "2023-03-05 09:13:59.999",
          "2023-03-05 09:15:59.999",
          "2023-03-05 09:16:59.999",
          "2023-03-05 09:17:59.999",
          "2023-03-05 09:19:59.999",
          "2023-03-05 09:21:59.999",
          "2023-03-05 09:23:59.999",
          "2023-03-05 09:25:59.999",
          "2023-03-05 09:27:59.999",
          "2023-03-05 09:29:59.999",
          "2023-03-05 09:31:59.999",
          "2023-03-05 09:32:59.999",
          "2023-03-05 09:34:59.999",
          "2023-03-05 09:36:59.999",
          "2023-03-05 09:38:59.999",
          "2023-03-05 09:40:59.999",
          "2023-03-05 09:42:59.999",
          "2023-03-05 09:44:59.999",
          "2023-03-05 09:46:59.999",
          "2023-03-05 09:48:59.999",
          "2023-03-05 09:49:59.999",
          "2023-03-05 09:51:59.999",
          "2023-03-05 09:53:59.999",
          "2023-03-05 09:55:59.999",
          "2023-03-05 09:57:59.999",
          "2023-03-05 09:59:59.999",
          "2023-03-05 10:01:59.999",
          "2023-03-05 10:03:59.999",
          "2023-03-05 10:04:59.999",
          "2023-03-05 10:05:59.999",
          "2023-03-05 10:07:59.999",
          "2023-03-05 10:09:59.999",
          "2023-03-05 10:11:59.999",
          "2023-03-05 10:13:59.999",
          "2023-03-05 10:15:59.999",
          "2023-03-05 10:17:59.999",
          "2023-03-05 10:19:59.999",
          "2023-03-05 10:20:59.999",
          "2023-03-05 10:22:59.999",
          "2023-03-05 10:24:59.999",
          "2023-03-05 10:26:59.999"
         ],
         "xaxis": "x",
         "y": [
          22821.611055908204,
          22769.201506347657,
          22792.758436279302,
          22723.63331298828,
          22720.21546508789,
          22803.32955078125,
          22618.555876464845,
          22776.38342529297,
          22771.684986572265,
          22613.966885986327,
          22403.173127441405,
          22398.421239395142,
          22392.663340530395,
          22385.893665008545,
          22386.886033782957,
          22386.629134521485,
          22370.33069667816,
          22369.252387619013,
          22382.36876953125,
          22360.300847244263,
          22382.656041412352,
          22382.90756278992,
          22381.714094238287,
          22373.622223205566,
          22378.52805335999,
          22366.939081802368,
          22375.77488975525,
          22364.455791625976,
          22341.255211830143,
          22364.96543891907,
          22366.088984527592,
          22330.22824996948,
          22363.515613861084,
          22364.263695220947,
          22345.658318400387,
          22380.660394897466,
          22375.087424087524,
          22397.07522529602,
          22398.997936706543,
          22403.3874710083,
          22391.690784759518,
          22404.31410812378,
          22400.5481855011,
          22416.01243614197,
          22402.426152572632,
          22399.879569396973,
          22398.439928741456,
          22401.591508407597,
          22410.381655654903,
          22385.82546337128,
          22399.409732589716,
          22404.94811767578,
          22405.357400894165,
          22413.36658958435,
          22408.442237091065,
          22418.76081809997,
          22407.83608894348,
          22402.404484939576,
          22403.937100372314,
          22403.8169606781,
          22387.238186187744,
          22398.810238265996,
          22395.121377334595,
          22393.852618865967,
          22405.880438919063,
          22386.861359786988,
          22400.835627670287,
          22398.71871032715,
          22404.51337158203,
          22404.51514579773,
          22401.16125640869,
          22398.402022476195,
          22397.56008895874,
          22397.11354164124,
          22401.159234771727,
          22399.13314193725,
          22416.90240509033,
          22460.099406585694
         ],
         "yaxis": "y"
        },
        {
         "hovertemplate": "variable=fut_high<br>close_time=%{x}<br>value=%{y}<extra></extra>",
         "legendgroup": "fut_high",
         "line": {
          "color": "#ab63fa",
          "dash": "solid"
         },
         "marker": {
          "symbol": "circle"
         },
         "mode": "lines+markers",
         "name": "fut_high",
         "orientation": "v",
         "showlegend": true,
         "type": "scatter",
         "x": [
          "2023-03-05 07:21:59.999",
          "2023-03-05 07:22:59.999",
          "2023-03-05 07:24:59.999",
          "2023-03-05 07:39:59.999",
          "2023-03-05 07:41:59.999",
          "2023-03-05 07:46:59.999",
          "2023-03-05 07:47:59.999",
          "2023-03-05 07:49:59.999",
          "2023-03-05 07:59:59.999",
          "2023-03-05 08:00:59.999",
          "2023-03-05 08:28:59.999",
          "2023-03-05 08:29:59.999",
          "2023-03-05 08:31:59.999",
          "2023-03-05 08:33:59.999",
          "2023-03-05 08:37:59.999",
          "2023-03-05 08:37:59.999",
          "2023-03-05 08:38:59.999",
          "2023-03-05 08:39:59.999",
          "2023-03-05 08:40:59.999",
          "2023-03-05 08:42:59.999",
          "2023-03-05 08:43:59.999",
          "2023-03-05 08:45:59.999",
          "2023-03-05 08:47:59.999",
          "2023-03-05 08:49:59.999",
          "2023-03-05 08:51:59.999",
          "2023-03-05 08:52:59.999",
          "2023-03-05 08:53:59.999",
          "2023-03-05 08:54:59.999",
          "2023-03-05 08:56:59.999",
          "2023-03-05 08:58:59.999",
          "2023-03-05 09:00:59.999",
          "2023-03-05 09:01:59.999",
          "2023-03-05 09:03:59.999",
          "2023-03-05 09:05:59.999",
          "2023-03-05 09:07:59.999",
          "2023-03-05 09:09:59.999",
          "2023-03-05 09:11:59.999",
          "2023-03-05 09:13:59.999",
          "2023-03-05 09:15:59.999",
          "2023-03-05 09:16:59.999",
          "2023-03-05 09:17:59.999",
          "2023-03-05 09:19:59.999",
          "2023-03-05 09:21:59.999",
          "2023-03-05 09:23:59.999",
          "2023-03-05 09:25:59.999",
          "2023-03-05 09:27:59.999",
          "2023-03-05 09:29:59.999",
          "2023-03-05 09:31:59.999",
          "2023-03-05 09:32:59.999",
          "2023-03-05 09:34:59.999",
          "2023-03-05 09:36:59.999",
          "2023-03-05 09:38:59.999",
          "2023-03-05 09:40:59.999",
          "2023-03-05 09:42:59.999",
          "2023-03-05 09:44:59.999",
          "2023-03-05 09:46:59.999",
          "2023-03-05 09:48:59.999",
          "2023-03-05 09:49:59.999",
          "2023-03-05 09:51:59.999",
          "2023-03-05 09:53:59.999",
          "2023-03-05 09:55:59.999",
          "2023-03-05 09:57:59.999",
          "2023-03-05 09:59:59.999",
          "2023-03-05 10:01:59.999",
          "2023-03-05 10:03:59.999",
          "2023-03-05 10:04:59.999",
          "2023-03-05 10:05:59.999",
          "2023-03-05 10:07:59.999",
          "2023-03-05 10:09:59.999",
          "2023-03-05 10:11:59.999",
          "2023-03-05 10:13:59.999",
          "2023-03-05 10:15:59.999",
          "2023-03-05 10:17:59.999",
          "2023-03-05 10:19:59.999",
          "2023-03-05 10:20:59.999",
          "2023-03-05 10:22:59.999",
          "2023-03-05 10:24:59.999",
          "2023-03-05 10:26:59.999"
         ],
         "xaxis": "x",
         "y": [
          23018.01625305176,
          23278.72308227539,
          23158.790266113287,
          23576.740368652343,
          23560.096751708985,
          23031.68860534668,
          24085.961760253907,
          23159.183931884767,
          23199.26741455078,
          24177.96676391601,
          22784.36023071289,
          23034.468114395142,
          23182.29023262024,
          23799.837390594483,
          23633.36491561889,
          23563.13035522461,
          24722.754768943785,
          22910.55915031433,
          22543.83620727539,
          23486.596257400517,
          22552.312962799067,
          22725.85482841492,
          22542.096479492193,
          22535.669754333496,
          22543.90795143128,
          23225.54564918518,
          22534.650759506225,
          23193.116314086914,
          24166.188439369198,
          22649.663894729616,
          22885.874690093995,
          25351.35715621948,
          22729.6478465271,
          22522.584984283447,
          24932.197869181637,
          22538.299997558595,
          23203.43630104065,
          22645.59194892883,
          22555.542522888183,
          22611.266148376464,
          23571.994617767334,
          22568.02902816773,
          22809.792753372192,
          22576.04544090271,
          22555.805318222046,
          22552.74584136963,
          22550.836947174077,
          23342.14497520447,
          22813.47662635803,
          25630.93142040253,
          23714.278751144408,
          22555.44242614746,
          22779.00986671448,
          22726.006848373414,
          22763.62430496216,
          22619.65884361267,
          22556.52606086731,
          22614.458317947392,
          22552.4496736145,
          22550.739766464238,
          23569.017971343994,
          22855.064388656618,
          22937.643166885377,
          23485.889606170655,
          22550.777793045043,
          24002.22891349793,
          22545.55384361267,
          22551.66693725586,
          22548.365544433593,
          22556.277963180542,
          22753.35070953369,
          22540.983718032843,
          22541.761062469483,
          22700.852860488885,
          22545.655496368407,
          22727.116052093505,
          22729.385132141117,
          22600.58341537476
         ],
         "yaxis": "y"
        }
       ],
       "layout": {
        "legend": {
         "title": {
          "text": "variable"
         },
         "tracegroupgap": 0
        },
        "margin": {
         "t": 60
        },
        "template": {
         "data": {
          "bar": [
           {
            "error_x": {
             "color": "#2a3f5f"
            },
            "error_y": {
             "color": "#2a3f5f"
            },
            "marker": {
             "line": {
              "color": "#E5ECF6",
              "width": 0.5
             },
             "pattern": {
              "fillmode": "overlay",
              "size": 10,
              "solidity": 0.2
             }
            },
            "type": "bar"
           }
          ],
          "barpolar": [
           {
            "marker": {
             "line": {
              "color": "#E5ECF6",
              "width": 0.5
             },
             "pattern": {
              "fillmode": "overlay",
              "size": 10,
              "solidity": 0.2
             }
            },
            "type": "barpolar"
           }
          ],
          "carpet": [
           {
            "aaxis": {
             "endlinecolor": "#2a3f5f",
             "gridcolor": "white",
             "linecolor": "white",
             "minorgridcolor": "white",
             "startlinecolor": "#2a3f5f"
            },
            "baxis": {
             "endlinecolor": "#2a3f5f",
             "gridcolor": "white",
             "linecolor": "white",
             "minorgridcolor": "white",
             "startlinecolor": "#2a3f5f"
            },
            "type": "carpet"
           }
          ],
          "choropleth": [
           {
            "colorbar": {
             "outlinewidth": 0,
             "ticks": ""
            },
            "type": "choropleth"
           }
          ],
          "contour": [
           {
            "colorbar": {
             "outlinewidth": 0,
             "ticks": ""
            },
            "colorscale": [
             [
              0,
              "#0d0887"
             ],
             [
              0.1111111111111111,
              "#46039f"
             ],
             [
              0.2222222222222222,
              "#7201a8"
             ],
             [
              0.3333333333333333,
              "#9c179e"
             ],
             [
              0.4444444444444444,
              "#bd3786"
             ],
             [
              0.5555555555555556,
              "#d8576b"
             ],
             [
              0.6666666666666666,
              "#ed7953"
             ],
             [
              0.7777777777777778,
              "#fb9f3a"
             ],
             [
              0.8888888888888888,
              "#fdca26"
             ],
             [
              1,
              "#f0f921"
             ]
            ],
            "type": "contour"
           }
          ],
          "contourcarpet": [
           {
            "colorbar": {
             "outlinewidth": 0,
             "ticks": ""
            },
            "type": "contourcarpet"
           }
          ],
          "heatmap": [
           {
            "colorbar": {
             "outlinewidth": 0,
             "ticks": ""
            },
            "colorscale": [
             [
              0,
              "#0d0887"
             ],
             [
              0.1111111111111111,
              "#46039f"
             ],
             [
              0.2222222222222222,
              "#7201a8"
             ],
             [
              0.3333333333333333,
              "#9c179e"
             ],
             [
              0.4444444444444444,
              "#bd3786"
             ],
             [
              0.5555555555555556,
              "#d8576b"
             ],
             [
              0.6666666666666666,
              "#ed7953"
             ],
             [
              0.7777777777777778,
              "#fb9f3a"
             ],
             [
              0.8888888888888888,
              "#fdca26"
             ],
             [
              1,
              "#f0f921"
             ]
            ],
            "type": "heatmap"
           }
          ],
          "heatmapgl": [
           {
            "colorbar": {
             "outlinewidth": 0,
             "ticks": ""
            },
            "colorscale": [
             [
              0,
              "#0d0887"
             ],
             [
              0.1111111111111111,
              "#46039f"
             ],
             [
              0.2222222222222222,
              "#7201a8"
             ],
             [
              0.3333333333333333,
              "#9c179e"
             ],
             [
              0.4444444444444444,
              "#bd3786"
             ],
             [
              0.5555555555555556,
              "#d8576b"
             ],
             [
              0.6666666666666666,
              "#ed7953"
             ],
             [
              0.7777777777777778,
              "#fb9f3a"
             ],
             [
              0.8888888888888888,
              "#fdca26"
             ],
             [
              1,
              "#f0f921"
             ]
            ],
            "type": "heatmapgl"
           }
          ],
          "histogram": [
           {
            "marker": {
             "pattern": {
              "fillmode": "overlay",
              "size": 10,
              "solidity": 0.2
             }
            },
            "type": "histogram"
           }
          ],
          "histogram2d": [
           {
            "colorbar": {
             "outlinewidth": 0,
             "ticks": ""
            },
            "colorscale": [
             [
              0,
              "#0d0887"
             ],
             [
              0.1111111111111111,
              "#46039f"
             ],
             [
              0.2222222222222222,
              "#7201a8"
             ],
             [
              0.3333333333333333,
              "#9c179e"
             ],
             [
              0.4444444444444444,
              "#bd3786"
             ],
             [
              0.5555555555555556,
              "#d8576b"
             ],
             [
              0.6666666666666666,
              "#ed7953"
             ],
             [
              0.7777777777777778,
              "#fb9f3a"
             ],
             [
              0.8888888888888888,
              "#fdca26"
             ],
             [
              1,
              "#f0f921"
             ]
            ],
            "type": "histogram2d"
           }
          ],
          "histogram2dcontour": [
           {
            "colorbar": {
             "outlinewidth": 0,
             "ticks": ""
            },
            "colorscale": [
             [
              0,
              "#0d0887"
             ],
             [
              0.1111111111111111,
              "#46039f"
             ],
             [
              0.2222222222222222,
              "#7201a8"
             ],
             [
              0.3333333333333333,
              "#9c179e"
             ],
             [
              0.4444444444444444,
              "#bd3786"
             ],
             [
              0.5555555555555556,
              "#d8576b"
             ],
             [
              0.6666666666666666,
              "#ed7953"
             ],
             [
              0.7777777777777778,
              "#fb9f3a"
             ],
             [
              0.8888888888888888,
              "#fdca26"
             ],
             [
              1,
              "#f0f921"
             ]
            ],
            "type": "histogram2dcontour"
           }
          ],
          "mesh3d": [
           {
            "colorbar": {
             "outlinewidth": 0,
             "ticks": ""
            },
            "type": "mesh3d"
           }
          ],
          "parcoords": [
           {
            "line": {
             "colorbar": {
              "outlinewidth": 0,
              "ticks": ""
             }
            },
            "type": "parcoords"
           }
          ],
          "pie": [
           {
            "automargin": true,
            "type": "pie"
           }
          ],
          "scatter": [
           {
            "fillpattern": {
             "fillmode": "overlay",
             "size": 10,
             "solidity": 0.2
            },
            "type": "scatter"
           }
          ],
          "scatter3d": [
           {
            "line": {
             "colorbar": {
              "outlinewidth": 0,
              "ticks": ""
             }
            },
            "marker": {
             "colorbar": {
              "outlinewidth": 0,
              "ticks": ""
             }
            },
            "type": "scatter3d"
           }
          ],
          "scattercarpet": [
           {
            "marker": {
             "colorbar": {
              "outlinewidth": 0,
              "ticks": ""
             }
            },
            "type": "scattercarpet"
           }
          ],
          "scattergeo": [
           {
            "marker": {
             "colorbar": {
              "outlinewidth": 0,
              "ticks": ""
             }
            },
            "type": "scattergeo"
           }
          ],
          "scattergl": [
           {
            "marker": {
             "colorbar": {
              "outlinewidth": 0,
              "ticks": ""
             }
            },
            "type": "scattergl"
           }
          ],
          "scattermapbox": [
           {
            "marker": {
             "colorbar": {
              "outlinewidth": 0,
              "ticks": ""
             }
            },
            "type": "scattermapbox"
           }
          ],
          "scatterpolar": [
           {
            "marker": {
             "colorbar": {
              "outlinewidth": 0,
              "ticks": ""
             }
            },
            "type": "scatterpolar"
           }
          ],
          "scatterpolargl": [
           {
            "marker": {
             "colorbar": {
              "outlinewidth": 0,
              "ticks": ""
             }
            },
            "type": "scatterpolargl"
           }
          ],
          "scatterternary": [
           {
            "marker": {
             "colorbar": {
              "outlinewidth": 0,
              "ticks": ""
             }
            },
            "type": "scatterternary"
           }
          ],
          "surface": [
           {
            "colorbar": {
             "outlinewidth": 0,
             "ticks": ""
            },
            "colorscale": [
             [
              0,
              "#0d0887"
             ],
             [
              0.1111111111111111,
              "#46039f"
             ],
             [
              0.2222222222222222,
              "#7201a8"
             ],
             [
              0.3333333333333333,
              "#9c179e"
             ],
             [
              0.4444444444444444,
              "#bd3786"
             ],
             [
              0.5555555555555556,
              "#d8576b"
             ],
             [
              0.6666666666666666,
              "#ed7953"
             ],
             [
              0.7777777777777778,
              "#fb9f3a"
             ],
             [
              0.8888888888888888,
              "#fdca26"
             ],
             [
              1,
              "#f0f921"
             ]
            ],
            "type": "surface"
           }
          ],
          "table": [
           {
            "cells": {
             "fill": {
              "color": "#EBF0F8"
             },
             "line": {
              "color": "white"
             }
            },
            "header": {
             "fill": {
              "color": "#C8D4E3"
             },
             "line": {
              "color": "white"
             }
            },
            "type": "table"
           }
          ]
         },
         "layout": {
          "annotationdefaults": {
           "arrowcolor": "#2a3f5f",
           "arrowhead": 0,
           "arrowwidth": 1
          },
          "autotypenumbers": "strict",
          "coloraxis": {
           "colorbar": {
            "outlinewidth": 0,
            "ticks": ""
           }
          },
          "colorscale": {
           "diverging": [
            [
             0,
             "#8e0152"
            ],
            [
             0.1,
             "#c51b7d"
            ],
            [
             0.2,
             "#de77ae"
            ],
            [
             0.3,
             "#f1b6da"
            ],
            [
             0.4,
             "#fde0ef"
            ],
            [
             0.5,
             "#f7f7f7"
            ],
            [
             0.6,
             "#e6f5d0"
            ],
            [
             0.7,
             "#b8e186"
            ],
            [
             0.8,
             "#7fbc41"
            ],
            [
             0.9,
             "#4d9221"
            ],
            [
             1,
             "#276419"
            ]
           ],
           "sequential": [
            [
             0,
             "#0d0887"
            ],
            [
             0.1111111111111111,
             "#46039f"
            ],
            [
             0.2222222222222222,
             "#7201a8"
            ],
            [
             0.3333333333333333,
             "#9c179e"
            ],
            [
             0.4444444444444444,
             "#bd3786"
            ],
            [
             0.5555555555555556,
             "#d8576b"
            ],
            [
             0.6666666666666666,
             "#ed7953"
            ],
            [
             0.7777777777777778,
             "#fb9f3a"
            ],
            [
             0.8888888888888888,
             "#fdca26"
            ],
            [
             1,
             "#f0f921"
            ]
           ],
           "sequentialminus": [
            [
             0,
             "#0d0887"
            ],
            [
             0.1111111111111111,
             "#46039f"
            ],
            [
             0.2222222222222222,
             "#7201a8"
            ],
            [
             0.3333333333333333,
             "#9c179e"
            ],
            [
             0.4444444444444444,
             "#bd3786"
            ],
            [
             0.5555555555555556,
             "#d8576b"
            ],
            [
             0.6666666666666666,
             "#ed7953"
            ],
            [
             0.7777777777777778,
             "#fb9f3a"
            ],
            [
             0.8888888888888888,
             "#fdca26"
            ],
            [
             1,
             "#f0f921"
            ]
           ]
          },
          "colorway": [
           "#636efa",
           "#EF553B",
           "#00cc96",
           "#ab63fa",
           "#FFA15A",
           "#19d3f3",
           "#FF6692",
           "#B6E880",
           "#FF97FF",
           "#FECB52"
          ],
          "font": {
           "color": "#2a3f5f"
          },
          "geo": {
           "bgcolor": "white",
           "lakecolor": "white",
           "landcolor": "#E5ECF6",
           "showlakes": true,
           "showland": true,
           "subunitcolor": "white"
          },
          "hoverlabel": {
           "align": "left"
          },
          "hovermode": "closest",
          "mapbox": {
           "style": "light"
          },
          "paper_bgcolor": "white",
          "plot_bgcolor": "#E5ECF6",
          "polar": {
           "angularaxis": {
            "gridcolor": "white",
            "linecolor": "white",
            "ticks": ""
           },
           "bgcolor": "#E5ECF6",
           "radialaxis": {
            "gridcolor": "white",
            "linecolor": "white",
            "ticks": ""
           }
          },
          "scene": {
           "xaxis": {
            "backgroundcolor": "#E5ECF6",
            "gridcolor": "white",
            "gridwidth": 2,
            "linecolor": "white",
            "showbackground": true,
            "ticks": "",
            "zerolinecolor": "white"
           },
           "yaxis": {
            "backgroundcolor": "#E5ECF6",
            "gridcolor": "white",
            "gridwidth": 2,
            "linecolor": "white",
            "showbackground": true,
            "ticks": "",
            "zerolinecolor": "white"
           },
           "zaxis": {
            "backgroundcolor": "#E5ECF6",
            "gridcolor": "white",
            "gridwidth": 2,
            "linecolor": "white",
            "showbackground": true,
            "ticks": "",
            "zerolinecolor": "white"
           }
          },
          "shapedefaults": {
           "line": {
            "color": "#2a3f5f"
           }
          },
          "ternary": {
           "aaxis": {
            "gridcolor": "white",
            "linecolor": "white",
            "ticks": ""
           },
           "baxis": {
            "gridcolor": "white",
            "linecolor": "white",
            "ticks": ""
           },
           "bgcolor": "#E5ECF6",
           "caxis": {
            "gridcolor": "white",
            "linecolor": "white",
            "ticks": ""
           }
          },
          "title": {
           "x": 0.05
          },
          "xaxis": {
           "automargin": true,
           "gridcolor": "white",
           "linecolor": "white",
           "ticks": "",
           "title": {
            "standoff": 15
           },
           "zerolinecolor": "white",
           "zerolinewidth": 2
          },
          "yaxis": {
           "automargin": true,
           "gridcolor": "white",
           "linecolor": "white",
           "ticks": "",
           "title": {
            "standoff": 15
           },
           "zerolinecolor": "white",
           "zerolinewidth": 2
          }
         }
        },
        "xaxis": {
         "anchor": "y",
         "domain": [
          0,
          1
         ],
         "title": {
          "text": "close_time"
         }
        },
        "yaxis": {
         "anchor": "x",
         "domain": [
          0,
          1
         ],
         "title": {
          "text": "value"
         }
        }
       }
      },
      "text/html": [
       "<div>                            <div id=\"b39ff170-0a0d-40e3-a284-c818fd56bba8\" class=\"plotly-graph-div\" style=\"height:525px; width:100%;\"></div>            <script type=\"text/javascript\">                require([\"plotly\"], function(Plotly) {                    window.PLOTLYENV=window.PLOTLYENV || {};                                    if (document.getElementById(\"b39ff170-0a0d-40e3-a284-c818fd56bba8\")) {                    Plotly.newPlot(                        \"b39ff170-0a0d-40e3-a284-c818fd56bba8\",                        [{\"hovertemplate\":\"variable=low<br>close_time=%{x}<br>value=%{y}<extra></extra>\",\"legendgroup\":\"low\",\"line\":{\"color\":\"#636efa\",\"dash\":\"solid\"},\"marker\":{\"symbol\":\"circle\"},\"mode\":\"lines+markers\",\"name\":\"low\",\"orientation\":\"v\",\"showlegend\":true,\"x\":[\"2023-03-05 07:21:59.999\",\"2023-03-05 07:22:59.999\",\"2023-03-05 07:24:59.999\",\"2023-03-05 07:39:59.999\",\"2023-03-05 07:41:59.999\",\"2023-03-05 07:46:59.999\",\"2023-03-05 07:47:59.999\",\"2023-03-05 07:49:59.999\",\"2023-03-05 07:59:59.999\",\"2023-03-05 08:00:59.999\",\"2023-03-05 08:28:59.999\",\"2023-03-05 08:29:59.999\",\"2023-03-05 08:31:59.999\",\"2023-03-05 08:33:59.999\",\"2023-03-05 08:37:59.999\",\"2023-03-05 08:37:59.999\",\"2023-03-05 08:38:59.999\",\"2023-03-05 08:39:59.999\",\"2023-03-05 08:40:59.999\",\"2023-03-05 08:42:59.999\",\"2023-03-05 08:43:59.999\",\"2023-03-05 08:45:59.999\",\"2023-03-05 08:47:59.999\",\"2023-03-05 08:49:59.999\",\"2023-03-05 08:51:59.999\",\"2023-03-05 08:52:59.999\",\"2023-03-05 08:53:59.999\",\"2023-03-05 08:54:59.999\",\"2023-03-05 08:56:59.999\",\"2023-03-05 08:58:59.999\",\"2023-03-05 09:00:59.999\",\"2023-03-05 09:01:59.999\",\"2023-03-05 09:03:59.999\",\"2023-03-05 09:05:59.999\",\"2023-03-05 09:07:59.999\",\"2023-03-05 09:09:59.999\",\"2023-03-05 09:11:59.999\",\"2023-03-05 09:13:59.999\",\"2023-03-05 09:15:59.999\",\"2023-03-05 09:16:59.999\",\"2023-03-05 09:17:59.999\",\"2023-03-05 09:19:59.999\",\"2023-03-05 09:21:59.999\",\"2023-03-05 09:23:59.999\",\"2023-03-05 09:25:59.999\",\"2023-03-05 09:27:59.999\",\"2023-03-05 09:29:59.999\",\"2023-03-05 09:31:59.999\",\"2023-03-05 09:32:59.999\",\"2023-03-05 09:34:59.999\",\"2023-03-05 09:36:59.999\",\"2023-03-05 09:38:59.999\",\"2023-03-05 09:40:59.999\",\"2023-03-05 09:42:59.999\",\"2023-03-05 09:44:59.999\",\"2023-03-05 09:46:59.999\",\"2023-03-05 09:48:59.999\",\"2023-03-05 09:49:59.999\",\"2023-03-05 09:51:59.999\",\"2023-03-05 09:53:59.999\",\"2023-03-05 09:55:59.999\",\"2023-03-05 09:57:59.999\",\"2023-03-05 09:59:59.999\",\"2023-03-05 10:01:59.999\",\"2023-03-05 10:03:59.999\",\"2023-03-05 10:04:59.999\",\"2023-03-05 10:05:59.999\",\"2023-03-05 10:07:59.999\",\"2023-03-05 10:09:59.999\",\"2023-03-05 10:11:59.999\",\"2023-03-05 10:13:59.999\",\"2023-03-05 10:15:59.999\",\"2023-03-05 10:17:59.999\",\"2023-03-05 10:19:59.999\",\"2023-03-05 10:20:59.999\",\"2023-03-05 10:22:59.999\",\"2023-03-05 10:24:59.999\",\"2023-03-05 10:26:59.999\"],\"xaxis\":\"x\",\"y\":[22390.34,22382.87,22385.82,22386.05,22381.52,22376.08,22368.59,22371.33,22370.55,22375.33,22370.05,22371.56,22366.99,22369.47,22368.15,22366.04,22366.04,22341.67,22347.76,22337.43,22344.01,22353.06,22349.49,22341.57,22338.37,22337.67,22343.01,22339.76,22330.25,22329.96,22331.63,22333.98,22334.06,22328.23,22344.75,22348.44,22349.66,22366.44,22367.03,22370.84,22370.02,22372.4,22371.73,22384.49,22370.86,22366.51,22365.53,22369.33,22378.39,22394.08,22380.8,22372.62,22375.34,22379.46,22379.95,22382.13,22376.08,22371.58,22372.95,22372.84,22368.74,22371.7,22365.96,22373.97,22374.71,22374.37,22121.21,22367.4,22371.16,22372.52,22372.6,22365.41,22364.57,22365.47,22367.6,22370.44,22387.56,22368.35],\"yaxis\":\"y\",\"type\":\"scatter\"},{\"hovertemplate\":\"variable=high<br>close_time=%{x}<br>value=%{y}<extra></extra>\",\"legendgroup\":\"high\",\"line\":{\"color\":\"#EF553B\",\"dash\":\"solid\"},\"marker\":{\"symbol\":\"circle\"},\"mode\":\"lines+markers\",\"name\":\"high\",\"orientation\":\"v\",\"showlegend\":true,\"x\":[\"2023-03-05 07:21:59.999\",\"2023-03-05 07:22:59.999\",\"2023-03-05 07:24:59.999\",\"2023-03-05 07:39:59.999\",\"2023-03-05 07:41:59.999\",\"2023-03-05 07:46:59.999\",\"2023-03-05 07:47:59.999\",\"2023-03-05 07:49:59.999\",\"2023-03-05 07:59:59.999\",\"2023-03-05 08:00:59.999\",\"2023-03-05 08:28:59.999\",\"2023-03-05 08:29:59.999\",\"2023-03-05 08:31:59.999\",\"2023-03-05 08:33:59.999\",\"2023-03-05 08:37:59.999\",\"2023-03-05 08:37:59.999\",\"2023-03-05 08:38:59.999\",\"2023-03-05 08:39:59.999\",\"2023-03-05 08:40:59.999\",\"2023-03-05 08:42:59.999\",\"2023-03-05 08:43:59.999\",\"2023-03-05 08:45:59.999\",\"2023-03-05 08:47:59.999\",\"2023-03-05 08:49:59.999\",\"2023-03-05 08:51:59.999\",\"2023-03-05 08:52:59.999\",\"2023-03-05 08:53:59.999\",\"2023-03-05 08:54:59.999\",\"2023-03-05 08:56:59.999\",\"2023-03-05 08:58:59.999\",\"2023-03-05 09:00:59.999\",\"2023-03-05 09:01:59.999\",\"2023-03-05 09:03:59.999\",\"2023-03-05 09:05:59.999\",\"2023-03-05 09:07:59.999\",\"2023-03-05 09:09:59.999\",\"2023-03-05 09:11:59.999\",\"2023-03-05 09:13:59.999\",\"2023-03-05 09:15:59.999\",\"2023-03-05 09:16:59.999\",\"2023-03-05 09:17:59.999\",\"2023-03-05 09:19:59.999\",\"2023-03-05 09:21:59.999\",\"2023-03-05 09:23:59.999\",\"2023-03-05 09:25:59.999\",\"2023-03-05 09:27:59.999\",\"2023-03-05 09:29:59.999\",\"2023-03-05 09:31:59.999\",\"2023-03-05 09:32:59.999\",\"2023-03-05 09:34:59.999\",\"2023-03-05 09:36:59.999\",\"2023-03-05 09:38:59.999\",\"2023-03-05 09:40:59.999\",\"2023-03-05 09:42:59.999\",\"2023-03-05 09:44:59.999\",\"2023-03-05 09:46:59.999\",\"2023-03-05 09:48:59.999\",\"2023-03-05 09:49:59.999\",\"2023-03-05 09:51:59.999\",\"2023-03-05 09:53:59.999\",\"2023-03-05 09:55:59.999\",\"2023-03-05 09:57:59.999\",\"2023-03-05 09:59:59.999\",\"2023-03-05 10:01:59.999\",\"2023-03-05 10:03:59.999\",\"2023-03-05 10:04:59.999\",\"2023-03-05 10:05:59.999\",\"2023-03-05 10:07:59.999\",\"2023-03-05 10:09:59.999\",\"2023-03-05 10:11:59.999\",\"2023-03-05 10:13:59.999\",\"2023-03-05 10:15:59.999\",\"2023-03-05 10:17:59.999\",\"2023-03-05 10:19:59.999\",\"2023-03-05 10:20:59.999\",\"2023-03-05 10:22:59.999\",\"2023-03-05 10:24:59.999\",\"2023-03-05 10:26:59.999\"],\"xaxis\":\"x\",\"y\":[22392.37,22390.86,22388.29,22386.8,22385.94,22378.22,22377.5,22372.81,22373.23,22377.69,22373.78,22373.75,22368.46,22371.65,22368.51,22369.09,22367.17,22351.28,22352.16,22340.45,22350.53,22357.2,22350.78,22352.3,22346.8,22344.55,22344.35,22343.31,22334.38,22339.22,22341.65,22340.26,22334.07,22332.23,22351.03,22350.66,22352.22,22370.55,22368.85,22375.35,22373.07,22373.46,22373.58,22390.16,22377.94,22369.04,22371.51,22380.27,22389.68,22394.08,22383.01,22376.84,22377.1,22384.29,22381.08,22391.8,22380.15,22377.57,22372.96,22372.86,22369.57,22375.33,22373.64,22405.33,22376.17,22376.52,22374.24,22367.65,22373.12,22373.4,22375.8,22369.16,22366.69,22368.72,22370.87,22370.44,22389.93,22440.27],\"yaxis\":\"y\",\"type\":\"scatter\"},{\"hovertemplate\":\"variable=fut_low<br>close_time=%{x}<br>value=%{y}<extra></extra>\",\"legendgroup\":\"fut_low\",\"line\":{\"color\":\"#00cc96\",\"dash\":\"solid\"},\"marker\":{\"symbol\":\"circle\"},\"mode\":\"lines+markers\",\"name\":\"fut_low\",\"orientation\":\"v\",\"showlegend\":true,\"x\":[\"2023-03-05 07:21:59.999\",\"2023-03-05 07:22:59.999\",\"2023-03-05 07:24:59.999\",\"2023-03-05 07:39:59.999\",\"2023-03-05 07:41:59.999\",\"2023-03-05 07:46:59.999\",\"2023-03-05 07:47:59.999\",\"2023-03-05 07:49:59.999\",\"2023-03-05 07:59:59.999\",\"2023-03-05 08:00:59.999\",\"2023-03-05 08:28:59.999\",\"2023-03-05 08:29:59.999\",\"2023-03-05 08:31:59.999\",\"2023-03-05 08:33:59.999\",\"2023-03-05 08:37:59.999\",\"2023-03-05 08:37:59.999\",\"2023-03-05 08:38:59.999\",\"2023-03-05 08:39:59.999\",\"2023-03-05 08:40:59.999\",\"2023-03-05 08:42:59.999\",\"2023-03-05 08:43:59.999\",\"2023-03-05 08:45:59.999\",\"2023-03-05 08:47:59.999\",\"2023-03-05 08:49:59.999\",\"2023-03-05 08:51:59.999\",\"2023-03-05 08:52:59.999\",\"2023-03-05 08:53:59.999\",\"2023-03-05 08:54:59.999\",\"2023-03-05 08:56:59.999\",\"2023-03-05 08:58:59.999\",\"2023-03-05 09:00:59.999\",\"2023-03-05 09:01:59.999\",\"2023-03-05 09:03:59.999\",\"2023-03-05 09:05:59.999\",\"2023-03-05 09:07:59.999\",\"2023-03-05 09:09:59.999\",\"2023-03-05 09:11:59.999\",\"2023-03-05 09:13:59.999\",\"2023-03-05 09:15:59.999\",\"2023-03-05 09:16:59.999\",\"2023-03-05 09:17:59.999\",\"2023-03-05 09:19:59.999\",\"2023-03-05 09:21:59.999\",\"2023-03-05 09:23:59.999\",\"2023-03-05 09:25:59.999\",\"2023-03-05 09:27:59.999\",\"2023-03-05 09:29:59.999\",\"2023-03-05 09:31:59.999\",\"2023-03-05 09:32:59.999\",\"2023-03-05 09:34:59.999\",\"2023-03-05 09:36:59.999\",\"2023-03-05 09:38:59.999\",\"2023-03-05 09:40:59.999\",\"2023-03-05 09:42:59.999\",\"2023-03-05 09:44:59.999\",\"2023-03-05 09:46:59.999\",\"2023-03-05 09:48:59.999\",\"2023-03-05 09:49:59.999\",\"2023-03-05 09:51:59.999\",\"2023-03-05 09:53:59.999\",\"2023-03-05 09:55:59.999\",\"2023-03-05 09:57:59.999\",\"2023-03-05 09:59:59.999\",\"2023-03-05 10:01:59.999\",\"2023-03-05 10:03:59.999\",\"2023-03-05 10:04:59.999\",\"2023-03-05 10:05:59.999\",\"2023-03-05 10:07:59.999\",\"2023-03-05 10:09:59.999\",\"2023-03-05 10:11:59.999\",\"2023-03-05 10:13:59.999\",\"2023-03-05 10:15:59.999\",\"2023-03-05 10:17:59.999\",\"2023-03-05 10:19:59.999\",\"2023-03-05 10:20:59.999\",\"2023-03-05 10:22:59.999\",\"2023-03-05 10:24:59.999\",\"2023-03-05 10:26:59.999\"],\"xaxis\":\"x\",\"y\":[22821.611055908204,22769.201506347657,22792.758436279302,22723.63331298828,22720.21546508789,22803.32955078125,22618.555876464845,22776.38342529297,22771.684986572265,22613.966885986327,22403.173127441405,22398.421239395142,22392.663340530395,22385.893665008545,22386.886033782957,22386.629134521485,22370.33069667816,22369.252387619013,22382.36876953125,22360.300847244263,22382.656041412352,22382.90756278992,22381.714094238287,22373.622223205566,22378.52805335999,22366.939081802368,22375.77488975525,22364.455791625976,22341.255211830143,22364.96543891907,22366.088984527592,22330.22824996948,22363.515613861084,22364.263695220947,22345.658318400387,22380.660394897466,22375.087424087524,22397.07522529602,22398.997936706543,22403.3874710083,22391.690784759518,22404.31410812378,22400.5481855011,22416.01243614197,22402.426152572632,22399.879569396973,22398.439928741456,22401.591508407597,22410.381655654903,22385.82546337128,22399.409732589716,22404.94811767578,22405.357400894165,22413.36658958435,22408.442237091065,22418.76081809997,22407.83608894348,22402.404484939576,22403.937100372314,22403.8169606781,22387.238186187744,22398.810238265996,22395.121377334595,22393.852618865967,22405.880438919063,22386.861359786988,22400.835627670287,22398.71871032715,22404.51337158203,22404.51514579773,22401.16125640869,22398.402022476195,22397.56008895874,22397.11354164124,22401.159234771727,22399.13314193725,22416.90240509033,22460.099406585694],\"yaxis\":\"y\",\"type\":\"scatter\"},{\"hovertemplate\":\"variable=fut_high<br>close_time=%{x}<br>value=%{y}<extra></extra>\",\"legendgroup\":\"fut_high\",\"line\":{\"color\":\"#ab63fa\",\"dash\":\"solid\"},\"marker\":{\"symbol\":\"circle\"},\"mode\":\"lines+markers\",\"name\":\"fut_high\",\"orientation\":\"v\",\"showlegend\":true,\"x\":[\"2023-03-05 07:21:59.999\",\"2023-03-05 07:22:59.999\",\"2023-03-05 07:24:59.999\",\"2023-03-05 07:39:59.999\",\"2023-03-05 07:41:59.999\",\"2023-03-05 07:46:59.999\",\"2023-03-05 07:47:59.999\",\"2023-03-05 07:49:59.999\",\"2023-03-05 07:59:59.999\",\"2023-03-05 08:00:59.999\",\"2023-03-05 08:28:59.999\",\"2023-03-05 08:29:59.999\",\"2023-03-05 08:31:59.999\",\"2023-03-05 08:33:59.999\",\"2023-03-05 08:37:59.999\",\"2023-03-05 08:37:59.999\",\"2023-03-05 08:38:59.999\",\"2023-03-05 08:39:59.999\",\"2023-03-05 08:40:59.999\",\"2023-03-05 08:42:59.999\",\"2023-03-05 08:43:59.999\",\"2023-03-05 08:45:59.999\",\"2023-03-05 08:47:59.999\",\"2023-03-05 08:49:59.999\",\"2023-03-05 08:51:59.999\",\"2023-03-05 08:52:59.999\",\"2023-03-05 08:53:59.999\",\"2023-03-05 08:54:59.999\",\"2023-03-05 08:56:59.999\",\"2023-03-05 08:58:59.999\",\"2023-03-05 09:00:59.999\",\"2023-03-05 09:01:59.999\",\"2023-03-05 09:03:59.999\",\"2023-03-05 09:05:59.999\",\"2023-03-05 09:07:59.999\",\"2023-03-05 09:09:59.999\",\"2023-03-05 09:11:59.999\",\"2023-03-05 09:13:59.999\",\"2023-03-05 09:15:59.999\",\"2023-03-05 09:16:59.999\",\"2023-03-05 09:17:59.999\",\"2023-03-05 09:19:59.999\",\"2023-03-05 09:21:59.999\",\"2023-03-05 09:23:59.999\",\"2023-03-05 09:25:59.999\",\"2023-03-05 09:27:59.999\",\"2023-03-05 09:29:59.999\",\"2023-03-05 09:31:59.999\",\"2023-03-05 09:32:59.999\",\"2023-03-05 09:34:59.999\",\"2023-03-05 09:36:59.999\",\"2023-03-05 09:38:59.999\",\"2023-03-05 09:40:59.999\",\"2023-03-05 09:42:59.999\",\"2023-03-05 09:44:59.999\",\"2023-03-05 09:46:59.999\",\"2023-03-05 09:48:59.999\",\"2023-03-05 09:49:59.999\",\"2023-03-05 09:51:59.999\",\"2023-03-05 09:53:59.999\",\"2023-03-05 09:55:59.999\",\"2023-03-05 09:57:59.999\",\"2023-03-05 09:59:59.999\",\"2023-03-05 10:01:59.999\",\"2023-03-05 10:03:59.999\",\"2023-03-05 10:04:59.999\",\"2023-03-05 10:05:59.999\",\"2023-03-05 10:07:59.999\",\"2023-03-05 10:09:59.999\",\"2023-03-05 10:11:59.999\",\"2023-03-05 10:13:59.999\",\"2023-03-05 10:15:59.999\",\"2023-03-05 10:17:59.999\",\"2023-03-05 10:19:59.999\",\"2023-03-05 10:20:59.999\",\"2023-03-05 10:22:59.999\",\"2023-03-05 10:24:59.999\",\"2023-03-05 10:26:59.999\"],\"xaxis\":\"x\",\"y\":[23018.01625305176,23278.72308227539,23158.790266113287,23576.740368652343,23560.096751708985,23031.68860534668,24085.961760253907,23159.183931884767,23199.26741455078,24177.96676391601,22784.36023071289,23034.468114395142,23182.29023262024,23799.837390594483,23633.36491561889,23563.13035522461,24722.754768943785,22910.55915031433,22543.83620727539,23486.596257400517,22552.312962799067,22725.85482841492,22542.096479492193,22535.669754333496,22543.90795143128,23225.54564918518,22534.650759506225,23193.116314086914,24166.188439369198,22649.663894729616,22885.874690093995,25351.35715621948,22729.6478465271,22522.584984283447,24932.197869181637,22538.299997558595,23203.43630104065,22645.59194892883,22555.542522888183,22611.266148376464,23571.994617767334,22568.02902816773,22809.792753372192,22576.04544090271,22555.805318222046,22552.74584136963,22550.836947174077,23342.14497520447,22813.47662635803,25630.93142040253,23714.278751144408,22555.44242614746,22779.00986671448,22726.006848373414,22763.62430496216,22619.65884361267,22556.52606086731,22614.458317947392,22552.4496736145,22550.739766464238,23569.017971343994,22855.064388656618,22937.643166885377,23485.889606170655,22550.777793045043,24002.22891349793,22545.55384361267,22551.66693725586,22548.365544433593,22556.277963180542,22753.35070953369,22540.983718032843,22541.761062469483,22700.852860488885,22545.655496368407,22727.116052093505,22729.385132141117,22600.58341537476],\"yaxis\":\"y\",\"type\":\"scatter\"}],                        {\"template\":{\"data\":{\"histogram2dcontour\":[{\"type\":\"histogram2dcontour\",\"colorbar\":{\"outlinewidth\":0,\"ticks\":\"\"},\"colorscale\":[[0.0,\"#0d0887\"],[0.1111111111111111,\"#46039f\"],[0.2222222222222222,\"#7201a8\"],[0.3333333333333333,\"#9c179e\"],[0.4444444444444444,\"#bd3786\"],[0.5555555555555556,\"#d8576b\"],[0.6666666666666666,\"#ed7953\"],[0.7777777777777778,\"#fb9f3a\"],[0.8888888888888888,\"#fdca26\"],[1.0,\"#f0f921\"]]}],\"choropleth\":[{\"type\":\"choropleth\",\"colorbar\":{\"outlinewidth\":0,\"ticks\":\"\"}}],\"histogram2d\":[{\"type\":\"histogram2d\",\"colorbar\":{\"outlinewidth\":0,\"ticks\":\"\"},\"colorscale\":[[0.0,\"#0d0887\"],[0.1111111111111111,\"#46039f\"],[0.2222222222222222,\"#7201a8\"],[0.3333333333333333,\"#9c179e\"],[0.4444444444444444,\"#bd3786\"],[0.5555555555555556,\"#d8576b\"],[0.6666666666666666,\"#ed7953\"],[0.7777777777777778,\"#fb9f3a\"],[0.8888888888888888,\"#fdca26\"],[1.0,\"#f0f921\"]]}],\"heatmap\":[{\"type\":\"heatmap\",\"colorbar\":{\"outlinewidth\":0,\"ticks\":\"\"},\"colorscale\":[[0.0,\"#0d0887\"],[0.1111111111111111,\"#46039f\"],[0.2222222222222222,\"#7201a8\"],[0.3333333333333333,\"#9c179e\"],[0.4444444444444444,\"#bd3786\"],[0.5555555555555556,\"#d8576b\"],[0.6666666666666666,\"#ed7953\"],[0.7777777777777778,\"#fb9f3a\"],[0.8888888888888888,\"#fdca26\"],[1.0,\"#f0f921\"]]}],\"heatmapgl\":[{\"type\":\"heatmapgl\",\"colorbar\":{\"outlinewidth\":0,\"ticks\":\"\"},\"colorscale\":[[0.0,\"#0d0887\"],[0.1111111111111111,\"#46039f\"],[0.2222222222222222,\"#7201a8\"],[0.3333333333333333,\"#9c179e\"],[0.4444444444444444,\"#bd3786\"],[0.5555555555555556,\"#d8576b\"],[0.6666666666666666,\"#ed7953\"],[0.7777777777777778,\"#fb9f3a\"],[0.8888888888888888,\"#fdca26\"],[1.0,\"#f0f921\"]]}],\"contourcarpet\":[{\"type\":\"contourcarpet\",\"colorbar\":{\"outlinewidth\":0,\"ticks\":\"\"}}],\"contour\":[{\"type\":\"contour\",\"colorbar\":{\"outlinewidth\":0,\"ticks\":\"\"},\"colorscale\":[[0.0,\"#0d0887\"],[0.1111111111111111,\"#46039f\"],[0.2222222222222222,\"#7201a8\"],[0.3333333333333333,\"#9c179e\"],[0.4444444444444444,\"#bd3786\"],[0.5555555555555556,\"#d8576b\"],[0.6666666666666666,\"#ed7953\"],[0.7777777777777778,\"#fb9f3a\"],[0.8888888888888888,\"#fdca26\"],[1.0,\"#f0f921\"]]}],\"surface\":[{\"type\":\"surface\",\"colorbar\":{\"outlinewidth\":0,\"ticks\":\"\"},\"colorscale\":[[0.0,\"#0d0887\"],[0.1111111111111111,\"#46039f\"],[0.2222222222222222,\"#7201a8\"],[0.3333333333333333,\"#9c179e\"],[0.4444444444444444,\"#bd3786\"],[0.5555555555555556,\"#d8576b\"],[0.6666666666666666,\"#ed7953\"],[0.7777777777777778,\"#fb9f3a\"],[0.8888888888888888,\"#fdca26\"],[1.0,\"#f0f921\"]]}],\"mesh3d\":[{\"type\":\"mesh3d\",\"colorbar\":{\"outlinewidth\":0,\"ticks\":\"\"}}],\"scatter\":[{\"fillpattern\":{\"fillmode\":\"overlay\",\"size\":10,\"solidity\":0.2},\"type\":\"scatter\"}],\"parcoords\":[{\"type\":\"parcoords\",\"line\":{\"colorbar\":{\"outlinewidth\":0,\"ticks\":\"\"}}}],\"scatterpolargl\":[{\"type\":\"scatterpolargl\",\"marker\":{\"colorbar\":{\"outlinewidth\":0,\"ticks\":\"\"}}}],\"bar\":[{\"error_x\":{\"color\":\"#2a3f5f\"},\"error_y\":{\"color\":\"#2a3f5f\"},\"marker\":{\"line\":{\"color\":\"#E5ECF6\",\"width\":0.5},\"pattern\":{\"fillmode\":\"overlay\",\"size\":10,\"solidity\":0.2}},\"type\":\"bar\"}],\"scattergeo\":[{\"type\":\"scattergeo\",\"marker\":{\"colorbar\":{\"outlinewidth\":0,\"ticks\":\"\"}}}],\"scatterpolar\":[{\"type\":\"scatterpolar\",\"marker\":{\"colorbar\":{\"outlinewidth\":0,\"ticks\":\"\"}}}],\"histogram\":[{\"marker\":{\"pattern\":{\"fillmode\":\"overlay\",\"size\":10,\"solidity\":0.2}},\"type\":\"histogram\"}],\"scattergl\":[{\"type\":\"scattergl\",\"marker\":{\"colorbar\":{\"outlinewidth\":0,\"ticks\":\"\"}}}],\"scatter3d\":[{\"type\":\"scatter3d\",\"line\":{\"colorbar\":{\"outlinewidth\":0,\"ticks\":\"\"}},\"marker\":{\"colorbar\":{\"outlinewidth\":0,\"ticks\":\"\"}}}],\"scattermapbox\":[{\"type\":\"scattermapbox\",\"marker\":{\"colorbar\":{\"outlinewidth\":0,\"ticks\":\"\"}}}],\"scatterternary\":[{\"type\":\"scatterternary\",\"marker\":{\"colorbar\":{\"outlinewidth\":0,\"ticks\":\"\"}}}],\"scattercarpet\":[{\"type\":\"scattercarpet\",\"marker\":{\"colorbar\":{\"outlinewidth\":0,\"ticks\":\"\"}}}],\"carpet\":[{\"aaxis\":{\"endlinecolor\":\"#2a3f5f\",\"gridcolor\":\"white\",\"linecolor\":\"white\",\"minorgridcolor\":\"white\",\"startlinecolor\":\"#2a3f5f\"},\"baxis\":{\"endlinecolor\":\"#2a3f5f\",\"gridcolor\":\"white\",\"linecolor\":\"white\",\"minorgridcolor\":\"white\",\"startlinecolor\":\"#2a3f5f\"},\"type\":\"carpet\"}],\"table\":[{\"cells\":{\"fill\":{\"color\":\"#EBF0F8\"},\"line\":{\"color\":\"white\"}},\"header\":{\"fill\":{\"color\":\"#C8D4E3\"},\"line\":{\"color\":\"white\"}},\"type\":\"table\"}],\"barpolar\":[{\"marker\":{\"line\":{\"color\":\"#E5ECF6\",\"width\":0.5},\"pattern\":{\"fillmode\":\"overlay\",\"size\":10,\"solidity\":0.2}},\"type\":\"barpolar\"}],\"pie\":[{\"automargin\":true,\"type\":\"pie\"}]},\"layout\":{\"autotypenumbers\":\"strict\",\"colorway\":[\"#636efa\",\"#EF553B\",\"#00cc96\",\"#ab63fa\",\"#FFA15A\",\"#19d3f3\",\"#FF6692\",\"#B6E880\",\"#FF97FF\",\"#FECB52\"],\"font\":{\"color\":\"#2a3f5f\"},\"hovermode\":\"closest\",\"hoverlabel\":{\"align\":\"left\"},\"paper_bgcolor\":\"white\",\"plot_bgcolor\":\"#E5ECF6\",\"polar\":{\"bgcolor\":\"#E5ECF6\",\"angularaxis\":{\"gridcolor\":\"white\",\"linecolor\":\"white\",\"ticks\":\"\"},\"radialaxis\":{\"gridcolor\":\"white\",\"linecolor\":\"white\",\"ticks\":\"\"}},\"ternary\":{\"bgcolor\":\"#E5ECF6\",\"aaxis\":{\"gridcolor\":\"white\",\"linecolor\":\"white\",\"ticks\":\"\"},\"baxis\":{\"gridcolor\":\"white\",\"linecolor\":\"white\",\"ticks\":\"\"},\"caxis\":{\"gridcolor\":\"white\",\"linecolor\":\"white\",\"ticks\":\"\"}},\"coloraxis\":{\"colorbar\":{\"outlinewidth\":0,\"ticks\":\"\"}},\"colorscale\":{\"sequential\":[[0.0,\"#0d0887\"],[0.1111111111111111,\"#46039f\"],[0.2222222222222222,\"#7201a8\"],[0.3333333333333333,\"#9c179e\"],[0.4444444444444444,\"#bd3786\"],[0.5555555555555556,\"#d8576b\"],[0.6666666666666666,\"#ed7953\"],[0.7777777777777778,\"#fb9f3a\"],[0.8888888888888888,\"#fdca26\"],[1.0,\"#f0f921\"]],\"sequentialminus\":[[0.0,\"#0d0887\"],[0.1111111111111111,\"#46039f\"],[0.2222222222222222,\"#7201a8\"],[0.3333333333333333,\"#9c179e\"],[0.4444444444444444,\"#bd3786\"],[0.5555555555555556,\"#d8576b\"],[0.6666666666666666,\"#ed7953\"],[0.7777777777777778,\"#fb9f3a\"],[0.8888888888888888,\"#fdca26\"],[1.0,\"#f0f921\"]],\"diverging\":[[0,\"#8e0152\"],[0.1,\"#c51b7d\"],[0.2,\"#de77ae\"],[0.3,\"#f1b6da\"],[0.4,\"#fde0ef\"],[0.5,\"#f7f7f7\"],[0.6,\"#e6f5d0\"],[0.7,\"#b8e186\"],[0.8,\"#7fbc41\"],[0.9,\"#4d9221\"],[1,\"#276419\"]]},\"xaxis\":{\"gridcolor\":\"white\",\"linecolor\":\"white\",\"ticks\":\"\",\"title\":{\"standoff\":15},\"zerolinecolor\":\"white\",\"automargin\":true,\"zerolinewidth\":2},\"yaxis\":{\"gridcolor\":\"white\",\"linecolor\":\"white\",\"ticks\":\"\",\"title\":{\"standoff\":15},\"zerolinecolor\":\"white\",\"automargin\":true,\"zerolinewidth\":2},\"scene\":{\"xaxis\":{\"backgroundcolor\":\"#E5ECF6\",\"gridcolor\":\"white\",\"linecolor\":\"white\",\"showbackground\":true,\"ticks\":\"\",\"zerolinecolor\":\"white\",\"gridwidth\":2},\"yaxis\":{\"backgroundcolor\":\"#E5ECF6\",\"gridcolor\":\"white\",\"linecolor\":\"white\",\"showbackground\":true,\"ticks\":\"\",\"zerolinecolor\":\"white\",\"gridwidth\":2},\"zaxis\":{\"backgroundcolor\":\"#E5ECF6\",\"gridcolor\":\"white\",\"linecolor\":\"white\",\"showbackground\":true,\"ticks\":\"\",\"zerolinecolor\":\"white\",\"gridwidth\":2}},\"shapedefaults\":{\"line\":{\"color\":\"#2a3f5f\"}},\"annotationdefaults\":{\"arrowcolor\":\"#2a3f5f\",\"arrowhead\":0,\"arrowwidth\":1},\"geo\":{\"bgcolor\":\"white\",\"landcolor\":\"#E5ECF6\",\"subunitcolor\":\"white\",\"showland\":true,\"showlakes\":true,\"lakecolor\":\"white\"},\"title\":{\"x\":0.05},\"mapbox\":{\"style\":\"light\"}}},\"xaxis\":{\"anchor\":\"y\",\"domain\":[0.0,1.0],\"title\":{\"text\":\"close_time\"}},\"yaxis\":{\"anchor\":\"x\",\"domain\":[0.0,1.0],\"title\":{\"text\":\"value\"}},\"legend\":{\"title\":{\"text\":\"variable\"},\"tracegroupgap\":0},\"margin\":{\"t\":60}},                        {\"responsive\": true}                    ).then(function(){\n",
       "                            \n",
       "var gd = document.getElementById('b39ff170-0a0d-40e3-a284-c818fd56bba8');\n",
       "var x = new MutationObserver(function (mutations, observer) {{\n",
       "        var display = window.getComputedStyle(gd).display;\n",
       "        if (!display || display === 'none') {{\n",
       "            console.log([gd, 'removed!']);\n",
       "            Plotly.purge(gd);\n",
       "            observer.disconnect();\n",
       "        }}\n",
       "}});\n",
       "\n",
       "// Listen for the removal of the full notebook cells\n",
       "var notebookContainer = gd.closest('#notebook-container');\n",
       "if (notebookContainer) {{\n",
       "    x.observe(notebookContainer, {childList: true});\n",
       "}}\n",
       "\n",
       "// Listen for the clearing of the current output cell\n",
       "var outputEl = gd.closest('.output');\n",
       "if (outputEl) {{\n",
       "    x.observe(outputEl, {childList: true});\n",
       "}}\n",
       "\n",
       "                        })                };                });            </script>        </div>"
      ]
     },
     "metadata": {},
     "output_type": "display_data"
    }
   ],
   "source": [
    "import os\n",
    "import glob\n",
    "import pandas as pd\n",
    "from datetime import timedelta,date\n",
    "import matplotlib.pyplot as plt\n",
    "import plotly.express as px\n",
    "\n",
    "def read_predictions(start_date_inc, end_date_inc):\n",
    "    \"\"\" Read days from start to end from local predictions history\"\"\"\n",
    "    symbol=\"BTCUSDT\"    \n",
    "    data_dir=f\"./../model-dev/PredictLowHighCandlesStrategy/Xy\"\n",
    "    print(f\"start date:{start_date_inc}, end date:{end_date_inc}, all inclusive\")\n",
    "    df = pd.DataFrame()\n",
    "    candles_list=[]\n",
    "    for n in range(int ((end_date_inc - start_date_inc).days)+1):\n",
    "        cur_date = start_date_inc + timedelta(n)    \n",
    "        candles_path=f\"{data_dir}/{cur_date}_{symbol}_candles.csv\"     \n",
    "        if not os.path.exists(candles_path): continue\n",
    "        #print(f\"Read {cur_date} candles from {csv_path}\")\n",
    "        cur_candles=pd.read_csv(candles_path,index_col=\"close_time\")\n",
    "        candles_list.append(cur_candles)\n",
    "    df = pd.concat(candles_list)\n",
    "    return df\n",
    "\n",
    "\n",
    "# Read candles for last 3 days\n",
    "last_date=trades.open_time.max().date()\n",
    "first_date=last_date - timedelta(days=0)\n",
    "\n",
    "df = read_predictions(first_date, last_date)\n",
    "px.line(df[[\"low\",\"high\",\"fut_low\",\"fut_high\"]], markers=True)\n"
   ]
  },
  {
   "cell_type": "markdown",
   "metadata": {},
   "source": [
    "## Look at the account"
   ]
  },
  {
   "cell_type": "code",
   "execution_count": 14,
   "metadata": {},
   "outputs": [
    {
     "name": "stdout",
     "output_type": "stream",
     "text": [
      "{'makerCommission': 0, 'takerCommission': 0, 'buyerCommission': 0, 'sellerCommission': 0, 'commissionRates': {'maker': '0.00000000', 'taker': '0.00000000', 'buyer': '0.00000000', 'seller': '0.00000000'}, 'canTrade': True, 'canWithdraw': False, 'canDeposit': False, 'brokered': False, 'requireSelfTradePrevention': False, 'updateTime': 1678006474349, 'accountType': 'SPOT', 'balances': [{'asset': 'BNB', 'free': '1000.00000000', 'locked': '0.00000000'}, {'asset': 'BTC', 'free': '0.99900000', 'locked': '0.00100000'}, {'asset': 'BUSD', 'free': '10000.00000000', 'locked': '0.00000000'}, {'asset': 'ETH', 'free': '100.00000000', 'locked': '0.00000000'}, {'asset': 'LTC', 'free': '500.00000000', 'locked': '0.00000000'}, {'asset': 'TRX', 'free': '500000.00000000', 'locked': '0.00000000'}, {'asset': 'USDT', 'free': '10000.00653000', 'locked': '0.00000000'}, {'asset': 'XRP', 'free': '50000.00000000', 'locked': '0.00000000'}], 'permissions': ['SPOT']}\n"
     ]
    }
   ],
   "source": [
    "print(account)"
   ]
  }
 ],
 "metadata": {
  "kernelspec": {
   "display_name": "Python 3",
   "language": "python",
   "name": "python3"
  },
  "language_info": {
   "codemirror_mode": {
    "name": "ipython",
    "version": 3
   },
   "file_extension": ".py",
   "mimetype": "text/x-python",
   "name": "python",
   "nbconvert_exporter": "python",
   "pygments_lexer": "ipython3",
   "version": "3.7.6"
  }
 },
 "nbformat": 4,
 "nbformat_minor": 4
}
