{
 "cells": [
  {
   "cell_type": "markdown",
   "metadata": {},
   "source": [
    "# Trading EDA"
   ]
  },
  {
   "cell_type": "markdown",
   "metadata": {},
   "source": [
    "To install conda and binance packages to this notebook uncomment the code below"
   ]
  },
  {
   "cell_type": "code",
   "execution_count": null,
   "metadata": {},
   "outputs": [
    {
     "name": "stdout",
     "output_type": "stream",
     "text": [
      "Requirement already satisfied: plotly==5.9.0 in /home/dmitry/snap/jupyter/common/lib/python3.7/site-packages (5.9.0)\n",
      "Requirement already satisfied: tenacity>=6.2.0 in /home/dmitry/snap/jupyter/common/lib/python3.7/site-packages (from plotly==5.9.0) (8.0.1)\n",
      "Note: you may need to restart the kernel to use updated packages.\n",
      "Requirement already satisfied: twisted in /home/dmitry/snap/jupyter/common/lib/python3.7/site-packages (22.8.0)\n",
      "Requirement already satisfied: zope.interface>=4.4.2 in /home/dmitry/snap/jupyter/common/lib/python3.7/site-packages (from twisted) (5.4.0)\n",
      "Requirement already satisfied: attrs>=19.2.0 in /home/dmitry/snap/jupyter/common/lib/python3.7/site-packages (from twisted) (22.1.0)\n",
      "Requirement already satisfied: Automat>=0.8.0 in /home/dmitry/snap/jupyter/common/lib/python3.7/site-packages (from twisted) (20.2.0)\n",
      "Requirement already satisfied: hyperlink>=17.1.1 in /home/dmitry/snap/jupyter/common/lib/python3.7/site-packages (from twisted) (21.0.0)\n",
      "Requirement already satisfied: constantly>=15.1 in /home/dmitry/snap/jupyter/common/lib/python3.7/site-packages (from twisted) (15.1.0)\n",
      "Requirement already satisfied: incremental>=21.3.0 in /home/dmitry/snap/jupyter/common/lib/python3.7/site-packages (from twisted) (21.3.0)\n",
      "Requirement already satisfied: typing-extensions>=3.6.5 in /home/dmitry/snap/jupyter/common/lib/python3.7/site-packages (from twisted) (4.3.0)\n",
      "Requirement already satisfied: setuptools in /snap/jupyter/6/lib/python3.7/site-packages (from zope.interface>=4.4.2->twisted) (41.0.1)\n",
      "Requirement already satisfied: six in /snap/jupyter/6/lib/python3.7/site-packages (from Automat>=0.8.0->twisted) (1.12.0)\n",
      "Requirement already satisfied: idna>=2.5 in /home/dmitry/snap/jupyter/common/lib/python3.7/site-packages (from hyperlink>=17.1.1->twisted) (3.3)\n",
      "Note: you may need to restart the kernel to use updated packages.\n",
      "Collecting binance-connector==1.13.0\n",
      "  Using cached https://files.pythonhosted.org/packages/82/c3/f4be51831b0b40b44eca335cc0d8ddf0cec421d10a24f91116e03eb49b30/binance_connector-1.13.0-py3-none-any.whl\n",
      "Collecting pyOpenSSL>=19.0.0 (from binance-connector==1.13.0)\n",
      "  Using cached https://files.pythonhosted.org/packages/d5/9f/9c0e3288b85f907a008f9d31318b0e4de31b2f67724a8745e633741f609c/pyOpenSSL-22.0.0-py2.py3-none-any.whl\n",
      "Collecting service-identity>=21.1.0 (from binance-connector==1.13.0)\n",
      "  Using cached https://files.pythonhosted.org/packages/93/5a/5e93f280ec7be676b5a57f305350f439d31ced168bca04e6ffa64b575664/service_identity-21.1.0-py2.py3-none-any.whl\n",
      "Collecting requests>=2.25.1 (from binance-connector==1.13.0)\n",
      "  Using cached https://files.pythonhosted.org/packages/ca/91/6d9b8ccacd0412c08820f72cebaa4f0c0441b5cda699c90f618b6f8a1b42/requests-2.28.1-py3-none-any.whl\n",
      "Requirement already satisfied: Twisted>=21.2.0 in /home/dmitry/snap/jupyter/common/lib/python3.7/site-packages (from binance-connector==1.13.0) (22.8.0)\n",
      "Collecting autobahn>=21.2.1 (from binance-connector==1.13.0)\n",
      "  Using cached https://files.pythonhosted.org/packages/c5/b5/c92d6640fd55cbbdd97c05800ab534d84197f7b485d89a9df981ab67cce3/autobahn-22.7.1.tar.gz\n",
      "Collecting cryptography>=35.0 (from pyOpenSSL>=19.0.0->binance-connector==1.13.0)\n",
      "  Using cached https://files.pythonhosted.org/packages/6d/0c/5e67831007ba6cd7e52c4095f053cf45c357739b0a7c46a45ddd50049019/cryptography-38.0.1.tar.gz\n",
      "  Installing build dependencies ... \u001b[?25lerror\n",
      "\u001b[31m  ERROR: Complete output from command /snap/jupyter/6/bin/python /snap/jupyter/6/lib/python3.7/site-packages/pip install --ignore-installed --no-user --prefix /tmp/pip-build-env-a04ftvty/overlay --no-warn-script-location --no-binary :none: --only-binary :none: -i https://pypi.org/simple -- 'setuptools>=40.6.0,!=60.9.0' wheel 'cffi>=1.12; platform_python_implementation != '\"'\"'PyPy'\"'\"'' 'setuptools-rust>=0.11.4':\u001b[0m\n",
      "\u001b[31m  ERROR: Collecting setuptools!=60.9.0,>=40.6.0\n",
      "    Using cached https://files.pythonhosted.org/packages/d9/5f/2daccd14278b6b780ae6799f85998377c06019354982391245f4b58a927d/setuptools-65.3.0-py3-none-any.whl\n",
      "  Collecting wheel\n",
      "    Using cached https://files.pythonhosted.org/packages/27/d6/003e593296a85fd6ed616ed962795b2f87709c3eee2bca4f6d0fe55c6d00/wheel-0.37.1-py2.py3-none-any.whl\n",
      "  Collecting cffi>=1.12\n",
      "    Using cached https://files.pythonhosted.org/packages/2b/a8/050ab4f0c3d4c1b8aaa805f70e26e84d0e27004907c5b8ecc1d31815f92a/cffi-1.15.1.tar.gz\n",
      "  Collecting setuptools-rust>=0.11.4\n",
      "    Using cached https://files.pythonhosted.org/packages/5b/76/6ebf4728d287527514b29bc92c14ec59f666f43b0af650df6c100614c3dc/setuptools_rust-1.5.1-py3-none-any.whl\n",
      "  Collecting pycparser (from cffi>=1.12)\n",
      "    Using cached https://files.pythonhosted.org/packages/62/d5/5f610ebe421e85889f2e55e33b7f9a6795bd982198517d912eb1c76e1a53/pycparser-2.21-py2.py3-none-any.whl\n",
      "  Collecting typing-extensions>=3.7.4.3 (from setuptools-rust>=0.11.4)\n",
      "    Using cached https://files.pythonhosted.org/packages/ed/d6/2afc375a8d55b8be879d6b4986d4f69f01115e795e36827fd3a40166028b/typing_extensions-4.3.0-py3-none-any.whl\n",
      "  Collecting semantic-version<3,>=2.8.2 (from setuptools-rust>=0.11.4)\n",
      "    Using cached https://files.pythonhosted.org/packages/6a/23/8146aad7d88f4fcb3a6218f41a60f6c2d4e3a72de72da1825dc7c8f7877c/semantic_version-2.10.0-py2.py3-none-any.whl\n",
      "  Building wheels for collected packages: cffi\n",
      "    Building wheel for cffi (setup.py): started\n",
      "    Building wheel for cffi (setup.py): finished with status 'error'\n",
      "    ERROR: Complete output from command /snap/jupyter/6/bin/python -u -c 'import setuptools, tokenize;__file__='\"'\"'/tmp/pip-install-njkkjgwl/cffi/setup.py'\"'\"';f=getattr(tokenize, '\"'\"'open'\"'\"', open)(__file__);code=f.read().replace('\"'\"'\\r\\n'\"'\"', '\"'\"'\\n'\"'\"');f.close();exec(compile(code, __file__, '\"'\"'exec'\"'\"'))' bdist_wheel -d /tmp/pip-wheel-h0j9erw1 --python-tag cp37:\n",
      "    ERROR: unable to execute 'gcc': No such file or directory\n",
      "    unable to execute 'gcc': No such file or directory\n",
      "  \n",
      "        No working compiler found, or bogus compiler options passed to\n",
      "        the compiler from Python's standard \"distutils\" module.  See\n",
      "        the error messages above.  Likely, the problem is not related\n",
      "        to CFFI but generic to the setup.py of any Python package that\n",
      "        tries to compile C code.  (Hints: on OS/X 10.8, for errors about\n",
      "        -mno-fused-madd see http://stackoverflow.com/questions/22313407/\n",
      "        Otherwise, see https://wiki.python.org/moin/CompLangPython or\n",
      "        the IRC channel #python on irc.libera.chat.)\n",
      "  \n",
      "        Trying to continue anyway.  If you are trying to install CFFI from\n",
      "        a build done in a different context, you can ignore this warning.\n",
      "  \n",
      "    running bdist_wheel\n",
      "    running build\n",
      "    running build_py\n",
      "    creating build\n",
      "    creating build/lib.linux-x86_64-3.7\n",
      "    creating build/lib.linux-x86_64-3.7/cffi\n",
      "    copying cffi/__init__.py -> build/lib.linux-x86_64-3.7/cffi\n",
      "    copying cffi/recompiler.py -> build/lib.linux-x86_64-3.7/cffi\n",
      "    copying cffi/lock.py -> build/lib.linux-x86_64-3.7/cffi\n",
      "    copying cffi/cparser.py -> build/lib.linux-x86_64-3.7/cffi\n",
      "    copying cffi/verifier.py -> build/lib.linux-x86_64-3.7/cffi\n",
      "    copying cffi/cffi_opcode.py -> build/lib.linux-x86_64-3.7/cffi\n",
      "    copying cffi/ffiplatform.py -> build/lib.linux-x86_64-3.7/cffi\n",
      "    copying cffi/setuptools_ext.py -> build/lib.linux-x86_64-3.7/cffi\n",
      "    copying cffi/pkgconfig.py -> build/lib.linux-x86_64-3.7/cffi\n",
      "    copying cffi/vengine_cpy.py -> build/lib.linux-x86_64-3.7/cffi\n",
      "    copying cffi/commontypes.py -> build/lib.linux-x86_64-3.7/cffi\n",
      "    copying cffi/api.py -> build/lib.linux-x86_64-3.7/cffi\n",
      "    copying cffi/error.py -> build/lib.linux-x86_64-3.7/cffi\n",
      "    copying cffi/backend_ctypes.py -> build/lib.linux-x86_64-3.7/cffi\n",
      "    copying cffi/vengine_gen.py -> build/lib.linux-x86_64-3.7/cffi\n",
      "    copying cffi/model.py -> build/lib.linux-x86_64-3.7/cffi\n",
      "    copying cffi/_cffi_include.h -> build/lib.linux-x86_64-3.7/cffi\n",
      "    copying cffi/parse_c_type.h -> build/lib.linux-x86_64-3.7/cffi\n",
      "    copying cffi/_embedding.h -> build/lib.linux-x86_64-3.7/cffi\n",
      "    copying cffi/_cffi_errors.h -> build/lib.linux-x86_64-3.7/cffi\n",
      "    running build_ext\n",
      "    building '_cffi_backend' extension\n",
      "    creating build/temp.linux-x86_64-3.7\n",
      "    creating build/temp.linux-x86_64-3.7/c\n",
      "    gcc -pthread -B /home/filipe/miniconda3/envs/JUPYTER/compiler_compat -Wl,--sysroot=/ -Wsign-compare -DNDEBUG -g -fwrapv -O3 -Wall -Wstrict-prototypes -fPIC -DFFI_BUILDING=1 -I/usr/include/ffi -I/usr/include/libffi -I/snap/jupyter/6/include/python3.7m -c c/_cffi_backend.c -o build/temp.linux-x86_64-3.7/c/_cffi_backend.o\n",
      "    unable to execute 'gcc': No such file or directory\n",
      "    error: command 'gcc' failed with exit status 1\n",
      "    ----------------------------------------\n",
      "    ERROR: Failed building wheel for cffi\n",
      "    Running setup.py clean for cffi\n",
      "  Failed to build cffi\n",
      "  ERROR: twisted 22.8.0 has requirement attrs>=19.2.0, but you'll have attrs 19.1.0 which is incompatible.\n",
      "  Installing collected packages: setuptools, wheel, pycparser, cffi, typing-extensions, semantic-version, setuptools-rust\n",
      "    Running setup.py install for cffi: started\n",
      "      Running setup.py install for cffi: finished with status 'error'\n",
      "      ERROR: Complete output from command /snap/jupyter/6/bin/python -u -c 'import setuptools, tokenize;__file__='\"'\"'/tmp/pip-install-njkkjgwl/cffi/setup.py'\"'\"';f=getattr(tokenize, '\"'\"'open'\"'\"', open)(__file__);code=f.read().replace('\"'\"'\\r\\n'\"'\"', '\"'\"'\\n'\"'\"');f.close();exec(compile(code, __file__, '\"'\"'exec'\"'\"'))' install --record /tmp/pip-record-q531owox/install-record.txt --single-version-externally-managed --prefix /tmp/pip-build-env-a04ftvty/overlay --compile:\n",
      "      ERROR: unable to execute 'gcc': No such file or directory\n",
      "      unable to execute 'gcc': No such file or directory\n",
      "  \n",
      "          No working compiler found, or bogus compiler options passed to\n",
      "          the compiler from Python's standard \"distutils\" module.  See\n",
      "          the error messages above.  Likely, the problem is not related\n",
      "          to CFFI but generic to the setup.py of any Python package that\n",
      "          tries to compile C code.  (Hints: on OS/X 10.8, for errors about\n",
      "          -mno-fused-madd see http://stackoverflow.com/questions/22313407/\n",
      "          Otherwise, see https://wiki.python.org/moin/CompLangPython or\n",
      "          the IRC channel #python on irc.libera.chat.)\n",
      "  \n",
      "          Trying to continue anyway.  If you are trying to install CFFI from\n",
      "          a build done in a different context, you can ignore this warning.\n",
      "  \n",
      "      running install\n",
      "      running build\n",
      "      running build_py\n",
      "      creating build\n",
      "      creating build/lib.linux-x86_64-3.7\n",
      "      creating build/lib.linux-x86_64-3.7/cffi\n",
      "      copying cffi/__init__.py -> build/lib.linux-x86_64-3.7/cffi\n",
      "      copying cffi/recompiler.py -> build/lib.linux-x86_64-3.7/cffi\n",
      "      copying cffi/lock.py -> build/lib.linux-x86_64-3.7/cffi\n",
      "      copying cffi/cparser.py -> build/lib.linux-x86_64-3.7/cffi\n",
      "      copying cffi/verifier.py -> build/lib.linux-x86_64-3.7/cffi\n",
      "      copying cffi/cffi_opcode.py -> build/lib.linux-x86_64-3.7/cffi\n",
      "      copying cffi/ffiplatform.py -> build/lib.linux-x86_64-3.7/cffi\n",
      "      copying cffi/setuptools_ext.py -> build/lib.linux-x86_64-3.7/cffi\n",
      "      copying cffi/pkgconfig.py -> build/lib.linux-x86_64-3.7/cffi\n",
      "      copying cffi/vengine_cpy.py -> build/lib.linux-x86_64-3.7/cffi\n",
      "      copying cffi/commontypes.py -> build/lib.linux-x86_64-3.7/cffi\n",
      "      copying cffi/api.py -> build/lib.linux-x86_64-3.7/cffi\n",
      "      copying cffi/error.py -> build/lib.linux-x86_64-3.7/cffi\n",
      "      copying cffi/backend_ctypes.py -> build/lib.linux-x86_64-3.7/cffi\n",
      "      copying cffi/vengine_gen.py -> build/lib.linux-x86_64-3.7/cffi\n",
      "      copying cffi/model.py -> build/lib.linux-x86_64-3.7/cffi\n",
      "      copying cffi/_cffi_include.h -> build/lib.linux-x86_64-3.7/cffi\n",
      "      copying cffi/parse_c_type.h -> build/lib.linux-x86_64-3.7/cffi\n",
      "      copying cffi/_embedding.h -> build/lib.linux-x86_64-3.7/cffi\n",
      "      copying cffi/_cffi_errors.h -> build/lib.linux-x86_64-3.7/cffi\n",
      "      running build_ext\n",
      "      building '_cffi_backend' extension\n",
      "      creating build/temp.linux-x86_64-3.7\n",
      "      creating build/temp.linux-x86_64-3.7/c\n",
      "      gcc -pthread -B /home/filipe/miniconda3/envs/JUPYTER/compiler_compat -Wl,--sysroot=/ -Wsign-compare -DNDEBUG -g -fwrapv -O3 -Wall -Wstrict-prototypes -fPIC -DFFI_BUILDING=1 -I/usr/include/ffi -I/usr/include/libffi -I/snap/jupyter/6/include/python3.7m -c c/_cffi_backend.c -o build/temp.linux-x86_64-3.7/c/_cffi_backend.o\n",
      "      unable to execute 'gcc': No such file or directory\n",
      "      error: command 'gcc' failed with exit status 1\n",
      "      ----------------------------------------\n",
      "  ERROR: Command \"/snap/jupyter/6/bin/python -u -c 'import setuptools, tokenize;__file__='\"'\"'/tmp/pip-install-njkkjgwl/cffi/setup.py'\"'\"';f=getattr(tokenize, '\"'\"'open'\"'\"', open)(__file__);code=f.read().replace('\"'\"'\\r\\n'\"'\"', '\"'\"'\\n'\"'\"');f.close();exec(compile(code, __file__, '\"'\"'exec'\"'\"'))' install --record /tmp/pip-record-q531owox/install-record.txt --single-version-externally-managed --prefix /tmp/pip-build-env-a04ftvty/overlay --compile\" failed with error code 1 in /tmp/pip-install-njkkjgwl/cffi/\n",
      "  ----------------------------------------\u001b[0m\n"
     ]
    },
    {
     "name": "stdout",
     "output_type": "stream",
     "text": [
      "\u001b[31mERROR: Command \"/snap/jupyter/6/bin/python /snap/jupyter/6/lib/python3.7/site-packages/pip install --ignore-installed --no-user --prefix /tmp/pip-build-env-a04ftvty/overlay --no-warn-script-location --no-binary :none: --only-binary :none: -i https://pypi.org/simple -- 'setuptools>=40.6.0,!=60.9.0' wheel 'cffi>=1.12; platform_python_implementation != '\"'\"'PyPy'\"'\"'' 'setuptools-rust>=0.11.4'\" failed with error code 1 in None\u001b[0m\n",
      "\u001b[?25hNote: you may need to restart the kernel to use updated packages.\n",
      "Collecting pandas\n",
      "  Using cached https://files.pythonhosted.org/packages/99/f0/f99700ef327e51d291efdf4a6de29e685c4d198cbf8531541fc84d169e0e/pandas-1.3.5.tar.gz\n",
      "  Installing build dependencies ... \u001b[?25ldone\n"
     ]
    }
   ],
   "source": [
    "#%conda install -c plotly plotly=5.9.0\n",
    "#%conda install pip\n",
    "#%conda install twisted\n",
    "%pip install plotly==5.9.0\n",
    "%pip install twisted\n",
    "%pip install binance-connector==1.13.0\n",
    "%pip install pandas\n",
    "import pandas as pd\n",
    "pd.set_option('display.max_columns', None)\n",
    "pd.set_option('display.expand_frame_repr', False)\n",
    "pd.set_option('max_colwidth', None)"
   ]
  },
  {
   "cell_type": "markdown",
   "metadata": {},
   "source": [
    "Init binance client"
   ]
  },
  {
   "cell_type": "code",
   "execution_count": null,
   "metadata": {},
   "outputs": [],
   "source": [
    "from binance.spot import Spot as Client\n",
    "import os\n",
    "import sys\n",
    "import yaml\n",
    "\n",
    "# Load \n",
    "def load_config():\n",
    "    \"\"\"\n",
    "    Load config from cfg folder respecting the order: defaults, app.yaml, environment vars\n",
    "    \"\"\"\n",
    "    # Defaults\n",
    "    cfg_dir=\"./../biml/cfg\"\n",
    "    default_cfg_path = f\"{cfg_dir}/app-defaults.yaml\"\n",
    "    with open(default_cfg_path, \"r\") as appdefaults:\n",
    "        config = yaml.safe_load(appdefaults)\n",
    "\n",
    "    # Custom config, should contain custom information,\n",
    "    cfg_path = f\"{cfg_dir}/app.yaml\"\n",
    "    if os.path.exists(cfg_path):\n",
    "        with open(cfg_path) as app:\n",
    "            config.update(yaml.safe_load(app))\n",
    "    else:\n",
    "        sys.exit(\n",
    "            f\"Config {cfg_path} not found. Please copy cfg/app-defaults.yaml to {cfg_path} \"\n",
    "            f\"and update connection info there.\")\n",
    "\n",
    "    # Enviroment variabless\n",
    "    config.update(os.environ)\n",
    "    return config\n",
    "\n",
    "\n",
    "# Create binance client\n",
    "config=load_config()\n",
    "key,secret,url=config[\"biml.connector.key\"],config[\"biml.connector.secret\"],config[\"biml.connector.url\"]\n",
    "client = Client(key=key, secret=secret, base_url=url, timeout=10)\n"
   ]
  },
  {
   "cell_type": "markdown",
   "metadata": {},
   "source": [
    "Get account info"
   ]
  },
  {
   "cell_type": "code",
   "execution_count": null,
   "metadata": {},
   "outputs": [],
   "source": [
    "account=client.account()\n",
    "print(account)\n"
   ]
  },
  {
   "cell_type": "markdown",
   "metadata": {},
   "source": [
    "Get orders from binance"
   ]
  },
  {
   "cell_type": "code",
   "execution_count": null,
   "metadata": {},
   "outputs": [],
   "source": [
    "# Get orders\n",
    "import pandas as pd\n",
    "symbol=\"BTCUSDT\"\n",
    "orders_raw = client.get_orders(symbol)\n",
    "orders=pd.DataFrame(orders_raw)\n",
    "if not orders.empty: orders=orders.astype({'time': 'datetime64[ms]','updateTime':'datetime64[ms]'}).set_index('time',drop=False)\n",
    "orders.tail()"
   ]
  },
  {
   "cell_type": "code",
   "execution_count": null,
   "metadata": {},
   "outputs": [],
   "source": [
    "import numpy as np\n",
    "botorders = orders.copy().astype({\"time\": \"datetime64[ms]\", \"price\": \"float64\", \"origQty\": \"float64\"})[[\"time\",\"symbol\",\"type\",\"side\",\"price\",\"status\",\"origQty\"]].set_index(\"time\", drop=False)\n",
    "botorders[\"open_price\"]=botorders[\"price\"].shift(1)\n",
    "botorders[\"qty\"]=np.where(botorders[\"side\"]==\"SELL\",botorders[\"origQty\"]*-1,botorders[\"origQty\"])\n",
    "# botorders[(botorders[\"status\"]==\"FILLED\")].tail()\n",
    "botorders.loc[botorders[\"type\"]==\"STOP_LOSS_LIMIT\",\"profit\"]=(botorders[\"price\"]-botorders[\"open_price\"])*-1*botorders[\"qty\"]\n",
    "\n",
    "# Exclude initial closing orders\n",
    "botorders = botorders[(botorders[\"status\"]!=\"CANCELED\") & (botorders[\"status\"].shift(1)!=\"CANCELED\")]\n",
    "botorders = botorders[(botorders[\"type\"]==\"STOP_LOSS_LIMIT\")|(botorders[\"type\"].shift(-1)==\"STOP_LOSS_LIMIT\")]\n",
    "botorders.tail()"
   ]
  },
  {
   "cell_type": "markdown",
   "metadata": {},
   "source": [
    "Look at opened orders"
   ]
  },
  {
   "cell_type": "code",
   "execution_count": null,
   "metadata": {},
   "outputs": [],
   "source": [
    "orders_opened=client.get_open_orders(symbol)\n",
    "print(orders_opened)"
   ]
  },
  {
   "cell_type": "markdown",
   "metadata": {},
   "source": [
    "Get candles from local history starting from earliest trade date ending by latest trade date."
   ]
  },
  {
   "cell_type": "code",
   "execution_count": null,
   "metadata": {},
   "outputs": [],
   "source": [
    "import os\n",
    "import glob\n",
    "import pandas as pd\n",
    "from datetime import timedelta,date\n",
    "\n",
    "\n",
    "def read_candles(start_date_inc, end_date_inc):\n",
    "    \"\"\" Read days from start to end from local history\"\"\"\n",
    "    symbol=\"BTCUSDT\"    \n",
    "    data_dir=f\"./../data/{symbol}\"\n",
    "    print(f\"start date:{start_date_inc}, end date:{end_date_inc}, all inclusive\")\n",
    "    candles = pd.DataFrame()\n",
    "    cur_candles_list=[]\n",
    "    for n in range(int ((end_date_inc - start_date_inc).days)+1):\n",
    "        cur_date = start_date_inc + timedelta(n)    \n",
    "        csv_path=f\"{data_dir}/{cur_date}_{symbol}_1m.csv\"     \n",
    "        if not os.path.exists(csv_path): continue\n",
    "        #print(f\"Read {cur_date} candles from {csv_path}\")\n",
    "        cur_candles=pd.read_csv(csv_path,index_col=\"close_time\")[[\"open\",\"high\",\"low\",\"close\",\"vol\"]]\n",
    "        cur_candles_list.append(cur_candles)\n",
    "    candles = pd.concat(cur_candles_list)\n",
    "    return candles\n",
    "\n",
    "def clean_candles(df):\n",
    "    \"\"\" Remove outliers \"\"\"\n",
    "    q_low = df[\"low\"].quantile(0.01)\n",
    "    q_high  = df[\"high\"].quantile(0.99)\n",
    "    df=df[df[\"high\"]< q_high]\n",
    "    df=df[df[\"low\"] > q_low ]\n",
    "    return df\n",
    "\n",
    "# Read candles for last 3 days\n",
    "last_date=orders.index.max().date()\n",
    "first_date=last_date - timedelta(days=0)\n",
    "\n",
    "candles = read_candles(first_date, last_date)\n",
    "candles = clean_candles(candles)\n",
    "candles.tail()\n"
   ]
  },
  {
   "cell_type": "markdown",
   "metadata": {},
   "source": [
    "## EDA\n",
    "\n",
    "### Look at trades quantity cumulative sum"
   ]
  },
  {
   "cell_type": "markdown",
   "metadata": {},
   "source": [
    "## Look at trades on candlestick chart"
   ]
  },
  {
   "cell_type": "code",
   "execution_count": null,
   "metadata": {},
   "outputs": [],
   "source": [
    "# Install a conda package in the current Jupyter kernel\n",
    "#%conda install -c plotly plotly=5.9.0\n",
    "# Draw candlechart\n",
    "import plotly as py\n",
    "from plotly import graph_objects as go\n",
    "import pandas as pd\n",
    "\n",
    "df=candles.copy()\n",
    "#df=clean_candles(df)\n",
    "fig = go.Figure(data=[ \\\n",
    "                    go.Candlestick(\\\n",
    "                        x=df.index,\\\n",
    "                        open=df['open'],\\\n",
    "                        high=df['high'],\\\n",
    "                        low=df['low'],\\\n",
    "                        close=df['close'])\n",
    "                     ])\n",
    "\n",
    "# Customize ay to distribute captions by y so they do not overlap by x\n",
    "ay,aymax,aystep=0,50,10\n",
    "# Annotate buy, sell on the chart\n",
    "\n",
    "for traderec in botorders[(botorders[\"status\"] == \"FILLED\") & (botorders.index>df.index.min())].iterrows():\n",
    "    ay=(ay+aystep)%aymax\n",
    "    trade=traderec[1]\n",
    "    color='green' if trade['side']==\"BUY\" else 'red'\n",
    "    text_short='buy' if trade['side']==\"BUY\"  else 'sell'\n",
    "    status= f\", profit: {str(trade['profit'])}\" if ~np.isnan(trade['profit']) else \"\"\n",
    "    #text=f\"{trade['time']} {text_short} at {str(trade['price'])}, profit: {str(trade['profit'])}\"\n",
    "    text=f\"{trade['time']} {text_short} at {str(trade['price'])} {status}\"\n",
    "    fig.add_annotation(x=trade['time'], \\\n",
    "                       y=trade['price'],\\\n",
    "                       text=text_short,\\\n",
    "                       hovertext=text,\\\n",
    "                       showarrow=True,arrowhead=5,arrowcolor=color,ay=-ay,arrowwidth=2,\n",
    "                       font={'color':color}\n",
    "                      )\n",
    "fig.show()\n"
   ]
  },
  {
   "cell_type": "markdown",
   "metadata": {},
   "source": [
    "## Profit"
   ]
  },
  {
   "cell_type": "code",
   "execution_count": null,
   "metadata": {},
   "outputs": [],
   "source": [
    "#import matplotlib.pyplot as plt\n",
    "import plotly.express as px\n",
    "# Calc profit, considering only closing trades\n",
    "profit=botorders[(botorders.status==\"FILLED\")&(botorders[\"profit\"])].copy()\n",
    "profit[\"cum_profit\"] = profit[\"profit\"].cumsum()\n",
    "\n",
    "#Plot\n",
    "fig = px.line(profit, x=\"time\", y=\"profit\")\n",
    "fig.show()"
   ]
  },
  {
   "cell_type": "code",
   "execution_count": null,
   "metadata": {},
   "outputs": [],
   "source": [
    "import matplotlib.pyplot as plt\n",
    "import plotly.express as px\n",
    "# Calc profit, considering only closing trades\n",
    "profit=botorders[(botorders.status==\"FILLED\")&(botorders[\"profit\"])].copy()\n",
    "#profit[\"profit\"]=profit[\"price\"].diff()*(profit[\"qty\"]/profit[\"qty\"])\n",
    "profit[\"cum_profit\"] = profit[\"profit\"].cumsum()\n",
    "\n",
    "#Plot\n",
    "fig = px.line(profit, y=\"cum_profit\")\n",
    "fig.show()"
   ]
  },
  {
   "cell_type": "markdown",
   "metadata": {},
   "source": [
    "## Look at the account"
   ]
  },
  {
   "cell_type": "code",
   "execution_count": null,
   "metadata": {},
   "outputs": [],
   "source": [
    "print(account)"
   ]
  }
 ],
 "metadata": {
  "kernelspec": {
   "display_name": "Python 3",
   "language": "python",
   "name": "python3"
  },
  "language_info": {
   "codemirror_mode": {
    "name": "ipython",
    "version": 3
   },
   "file_extension": ".py",
   "mimetype": "text/x-python",
   "name": "python",
   "nbconvert_exporter": "python",
   "pygments_lexer": "ipython3",
   "version": "3.7.3"
  }
 },
 "nbformat": 4,
 "nbformat_minor": 4
}
