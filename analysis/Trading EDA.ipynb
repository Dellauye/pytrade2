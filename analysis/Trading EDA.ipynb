{
 "cells": [
  {
   "cell_type": "markdown",
   "metadata": {},
   "source": [
    "# Trading EDA"
   ]
  },
  {
   "cell_type": "markdown",
   "metadata": {},
   "source": [
    "To install conda and binance packages to this notebook uncomment the code below"
   ]
  },
  {
   "cell_type": "code",
   "execution_count": null,
   "metadata": {},
   "outputs": [
    {
     "name": "stdout",
     "output_type": "stream",
     "text": [
      "Requirement already satisfied: plotly==5.9.0 in /home/dima/anaconda3/lib/python3.7/site-packages (5.9.0)\n",
      "Requirement already satisfied: tenacity>=6.2.0 in /home/dima/anaconda3/lib/python3.7/site-packages (from plotly==5.9.0) (8.0.1)\n",
      "Note: you may need to restart the kernel to use updated packages.\n",
      "Requirement already satisfied: twisted in /home/dima/anaconda3/lib/python3.7/site-packages (22.2.0)\n",
      "Requirement already satisfied: typing-extensions>=3.6.5 in /home/dima/anaconda3/lib/python3.7/site-packages (from twisted) (4.1.1)\n",
      "Requirement already satisfied: Automat>=0.8.0 in /home/dima/anaconda3/lib/python3.7/site-packages (from twisted) (20.2.0)\n",
      "Requirement already satisfied: incremental>=21.3.0 in /home/dima/anaconda3/lib/python3.7/site-packages (from twisted) (21.3.0)\n",
      "Requirement already satisfied: attrs>=19.2.0 in /home/dima/anaconda3/lib/python3.7/site-packages (from twisted) (20.3.0)\n",
      "Requirement already satisfied: hyperlink>=17.1.1 in /home/dima/anaconda3/lib/python3.7/site-packages (from twisted) (21.0.0)\n",
      "Requirement already satisfied: zope.interface>=4.4.2 in /home/dima/anaconda3/lib/python3.7/site-packages (from twisted) (5.4.0)\n",
      "Requirement already satisfied: constantly>=15.1 in /home/dima/anaconda3/lib/python3.7/site-packages (from twisted) (15.1.0)\n",
      "Requirement already satisfied: six in /home/dima/anaconda3/lib/python3.7/site-packages (from Automat>=0.8.0->twisted) (1.14.0)\n",
      "Requirement already satisfied: idna>=2.5 in /home/dima/anaconda3/lib/python3.7/site-packages (from hyperlink>=17.1.1->twisted) (2.8)\n",
      "Requirement already satisfied: setuptools in /home/dima/anaconda3/lib/python3.7/site-packages (from zope.interface>=4.4.2->twisted) (45.2.0.post20200210)\n",
      "Note: you may need to restart the kernel to use updated packages.\n",
      "Requirement already satisfied: binance-connector==1.13.0 in /home/dima/anaconda3/lib/python3.7/site-packages (1.13.0)\n",
      "Requirement already satisfied: requests>=2.25.1 in /home/dima/anaconda3/lib/python3.7/site-packages (from binance-connector==1.13.0) (2.28.1)\n",
      "Requirement already satisfied: pyOpenSSL>=19.0.0 in /home/dima/anaconda3/lib/python3.7/site-packages (from binance-connector==1.13.0) (19.1.0)\n",
      "Requirement already satisfied: autobahn>=21.2.1 in /home/dima/anaconda3/lib/python3.7/site-packages (from binance-connector==1.13.0) (22.5.1)\n",
      "Requirement already satisfied: service-identity>=21.1.0 in /home/dima/anaconda3/lib/python3.7/site-packages (from binance-connector==1.13.0) (21.1.0)\n",
      "Requirement already satisfied: Twisted>=21.2.0 in /home/dima/anaconda3/lib/python3.7/site-packages (from binance-connector==1.13.0) (22.2.0)\n",
      "Requirement already satisfied: charset-normalizer<3,>=2 in /home/dima/anaconda3/lib/python3.7/site-packages (from requests>=2.25.1->binance-connector==1.13.0) (2.1.0)\n",
      "Requirement already satisfied: urllib3<1.27,>=1.21.1 in /home/dima/anaconda3/lib/python3.7/site-packages (from requests>=2.25.1->binance-connector==1.13.0) (1.25.8)\n",
      "Requirement already satisfied: idna<4,>=2.5 in /home/dima/anaconda3/lib/python3.7/site-packages (from requests>=2.25.1->binance-connector==1.13.0) (2.8)\n",
      "Requirement already satisfied: certifi>=2017.4.17 in /home/dima/anaconda3/lib/python3.7/site-packages (from requests>=2.25.1->binance-connector==1.13.0) (2019.11.28)\n",
      "Requirement already satisfied: cryptography>=2.8 in /home/dima/anaconda3/lib/python3.7/site-packages (from pyOpenSSL>=19.0.0->binance-connector==1.13.0) (37.0.2)\n",
      "Requirement already satisfied: six>=1.5.2 in /home/dima/anaconda3/lib/python3.7/site-packages (from pyOpenSSL>=19.0.0->binance-connector==1.13.0) (1.14.0)\n",
      "Requirement already satisfied: setuptools in /home/dima/anaconda3/lib/python3.7/site-packages (from autobahn>=21.2.1->binance-connector==1.13.0) (45.2.0.post20200210)\n",
      "Requirement already satisfied: hyperlink>=21.0.0 in /home/dima/anaconda3/lib/python3.7/site-packages (from autobahn>=21.2.1->binance-connector==1.13.0) (21.0.0)\n",
      "Requirement already satisfied: txaio>=21.2.1 in /home/dima/anaconda3/lib/python3.7/site-packages (from autobahn>=21.2.1->binance-connector==1.13.0) (22.2.1)\n",
      "Requirement already satisfied: attrs>=19.1.0 in /home/dima/anaconda3/lib/python3.7/site-packages (from service-identity>=21.1.0->binance-connector==1.13.0) (20.3.0)\n",
      "Requirement already satisfied: pyasn1-modules in /home/dima/anaconda3/lib/python3.7/site-packages (from service-identity>=21.1.0->binance-connector==1.13.0) (0.2.8)\n",
      "Requirement already satisfied: pyasn1 in /home/dima/anaconda3/lib/python3.7/site-packages (from service-identity>=21.1.0->binance-connector==1.13.0) (0.4.8)\n",
      "Requirement already satisfied: Automat>=0.8.0 in /home/dima/anaconda3/lib/python3.7/site-packages (from Twisted>=21.2.0->binance-connector==1.13.0) (20.2.0)\n",
      "Requirement already satisfied: constantly>=15.1 in /home/dima/anaconda3/lib/python3.7/site-packages (from Twisted>=21.2.0->binance-connector==1.13.0) (15.1.0)\n",
      "Requirement already satisfied: typing-extensions>=3.6.5 in /home/dima/anaconda3/lib/python3.7/site-packages (from Twisted>=21.2.0->binance-connector==1.13.0) (4.1.1)\n",
      "Requirement already satisfied: zope.interface>=4.4.2 in /home/dima/anaconda3/lib/python3.7/site-packages (from Twisted>=21.2.0->binance-connector==1.13.0) (5.4.0)\n",
      "Requirement already satisfied: incremental>=21.3.0 in /home/dima/anaconda3/lib/python3.7/site-packages (from Twisted>=21.2.0->binance-connector==1.13.0) (21.3.0)\n",
      "Requirement already satisfied: cffi>=1.12 in /home/dima/anaconda3/lib/python3.7/site-packages (from cryptography>=2.8->pyOpenSSL>=19.0.0->binance-connector==1.13.0) (1.14.0)\n",
      "Requirement already satisfied: pycparser in /home/dima/anaconda3/lib/python3.7/site-packages (from cffi>=1.12->cryptography>=2.8->pyOpenSSL>=19.0.0->binance-connector==1.13.0) (2.19)\n"
     ]
    }
   ],
   "source": [
    "#%conda install -c plotly plotly=5.9.0\n",
    "#%conda install pip\n",
    "#%conda install twisted\n",
    "%pip install plotly==5.9.0\n",
    "%pip install twisted\n",
    "%pip install binance-connector==1.13.0\n",
    "%pip install pandas\n",
    "import pandas as pd\n",
    "pd.set_option('display.max_columns', None)\n",
    "pd.set_option('display.expand_frame_repr', False)\n",
    "pd.set_option('max_colwidth', None)"
   ]
  },
  {
   "cell_type": "markdown",
   "metadata": {},
   "source": [
    "Init binance client"
   ]
  },
  {
   "cell_type": "code",
   "execution_count": null,
   "metadata": {},
   "outputs": [],
   "source": [
    "from binance.spot import Spot as Client\n",
    "import os\n",
    "import sys\n",
    "import yaml\n",
    "\n",
    "# Load \n",
    "def load_config():\n",
    "    \"\"\"\n",
    "    Load config from cfg folder respecting the order: defaults, app.yaml, environment vars\n",
    "    \"\"\"\n",
    "    # Defaults\n",
    "    cfg_dir=\"./../biml/cfg\"\n",
    "    default_cfg_path = f\"{cfg_dir}/app-defaults.yaml\"\n",
    "    with open(default_cfg_path, \"r\") as appdefaults:\n",
    "        config = yaml.safe_load(appdefaults)\n",
    "\n",
    "    # Custom config, should contain custom information,\n",
    "    cfg_path = f\"{cfg_dir}/app.yaml\"\n",
    "    if os.path.exists(cfg_path):\n",
    "        with open(cfg_path) as app:\n",
    "            config.update(yaml.safe_load(app))\n",
    "    else:\n",
    "        sys.exit(\n",
    "            f\"Config {cfg_path} not found. Please copy cfg/app-defaults.yaml to {cfg_path} \"\n",
    "            f\"and update connection info there.\")\n",
    "\n",
    "    # Enviroment variabless\n",
    "    config.update(os.environ)\n",
    "    return config\n",
    "\n",
    "\n",
    "# Create binance client\n",
    "config=load_config()\n",
    "key,secret,url=config[\"biml.connector.key\"],config[\"biml.connector.secret\"],config[\"biml.connector.url\"]\n",
    "client = Client(key=key, secret=secret, base_url=url, timeout=10)\n"
   ]
  },
  {
   "cell_type": "markdown",
   "metadata": {},
   "source": [
    "Get account info"
   ]
  },
  {
   "cell_type": "code",
   "execution_count": null,
   "metadata": {},
   "outputs": [],
   "source": [
    "account=client.account()\n",
    "print(account)\n"
   ]
  },
  {
   "cell_type": "markdown",
   "metadata": {},
   "source": [
    "Get trade bot orders from sqlite db"
   ]
  },
  {
   "cell_type": "code",
   "execution_count": null,
   "metadata": {},
   "outputs": [],
   "source": [
    "def get_trades():\n",
    "    import sqlite3\n",
    "    db_path=\"../data/biml.db\"\n",
    "\n",
    "    with sqlite3.connect(db_path) as conn:\n",
    "        trades=pd.read_sql_query(\"SELECT * FROM trade ORDER BY open_time\",conn,\n",
    "                                 parse_dates=[\"open_time\", \"close_time\"])#.set_index(\"open_time\", drop=False)\n",
    "    trades[\"profit\"] = trades[\"close_price\"]-trades[\"open_price\"]\n",
    "    return trades\n",
    "\n",
    "trades=get_trades()\n",
    "trades.tail()"
   ]
  },
  {
   "cell_type": "markdown",
   "metadata": {},
   "source": [
    "Get opened trades"
   ]
  },
  {
   "cell_type": "code",
   "execution_count": null,
   "metadata": {},
   "outputs": [],
   "source": [
    "trades[trades.close_time.isna()].tail()"
   ]
  },
  {
   "cell_type": "code",
   "execution_count": null,
   "metadata": {},
   "outputs": [],
   "source": [
    "# # Get orders\n",
    "# import pandas as pd\n",
    "# import numpy as np\n",
    "# symbol=\"BTCUSDT\"\n",
    "\n",
    "# # Get orders, but market orders have price=0\n",
    "# orders=pd.DataFrame(client.get_orders(symbol))\n",
    "# if not orders.empty: orders=orders.astype({'time': 'datetime64[ms]','updateTime':'datetime64[ms]','price':'float64','origQty':'float64'}).set_index('time',drop=False)\n",
    "\n",
    "# # Get trades and pull orders' prices from there\n",
    "# trades=pd.DataFrame( client.my_trades(symbol))\n",
    "# if not trades.empty: trades=trades.astype({'time': 'datetime64[ms]', 'price':'float64'}).set_index('time',drop=False)    \n",
    "# orders=orders.drop(\"price\",axis=1).merge(trades[[\"orderId\",\"price\"]],on=\"orderId\")\n",
    "\n",
    "# # Calculate profit of closing orders\n",
    "# orders[\"delta_price\"]=orders[\"price\"].diff()\n",
    "# orders[\"profit\"] = orders[\"delta_price\"]*orders[\"origQty\"]\n",
    "# orders.loc[~orders[\"type\"].isin([\"LIMIT_MAKER\", \"STOP_LOSS_LIMIT\"]),[\"profit\"]]=np.nan\n",
    "\n",
    "# orders[\"time\"] = orders[\"updateTime\"]\n",
    "# orders.set_index(\"time\", drop=False, inplace=True)\n",
    "# orders.tail()\n"
   ]
  },
  {
   "cell_type": "markdown",
   "metadata": {},
   "source": [
    "Look at opened stop loss and take profit orders"
   ]
  },
  {
   "cell_type": "code",
   "execution_count": null,
   "metadata": {},
   "outputs": [],
   "source": [
    "symbol=\"BTCUSDT\"\n",
    "orders_opened=pd.DataFrame(client.get_open_orders(symbol))\n",
    "orders_opened.tail()"
   ]
  },
  {
   "cell_type": "markdown",
   "metadata": {},
   "source": [
    "Get candles from binance"
   ]
  },
  {
   "cell_type": "code",
   "execution_count": null,
   "metadata": {},
   "outputs": [],
   "source": [
    "def get_last_candles():\n",
    "    candle_columns = [\"open_time\", \"open\", \"high\", \"low\", \"close\", \"vol\", \"close_time\", \"quote_asset_volume\",\n",
    "                      \"number_of_trades\", \" taker_buy_base_asset_volume\", \"taker_buy_quote_asset_volume\",\n",
    "                      \"ignore\"]    \n",
    "    end_date=trades.open_time.max() if not trades.empty else datetime.now()\n",
    "    end_time_millis=end_date.value//1000000\n",
    "    raw_candles = client.klines(symbol=symbol,\n",
    "                                    interval=\"1m\",\n",
    "                                    #limit=10,\n",
    "                                    limit=24*60*60,\n",
    "                                    endTime=end_time_millis\n",
    "                               )\n",
    "    df = pd.DataFrame(raw_candles, columns=candle_columns)\n",
    "    df[\"open_time\"] = pd.to_datetime(df[\"open_time\"], unit='ms')\n",
    "    df[\"close_time\"] = pd.to_datetime(df[\"close_time\"], unit='ms')\n",
    "    df.set_index(\"open_time\", drop=False, inplace=True)\n",
    "        # Convert strings to float prices\n",
    "    df[[\"open\", \"high\", \"low\", \"close\"]] = df[[\"open\", \"high\", \"low\", \"close\"]].astype(float)\n",
    "    return df\n",
    "\n",
    "def clean_candles(df):\n",
    "    \"\"\" Remove outliers \"\"\"\n",
    "    q_low = df[\"low\"].quantile(0.01)\n",
    "    q_high  = df[\"high\"].quantile(0.99)\n",
    "    df=df[df[\"high\"]< q_high]\n",
    "    df=df[df[\"low\"] > q_low ]\n",
    "    return df\n",
    "\n",
    "candles = get_last_candles()\n",
    "candles = clean_candles(candles)\n",
    "candles.tail()"
   ]
  },
  {
   "cell_type": "code",
   "execution_count": null,
   "metadata": {},
   "outputs": [],
   "source": [
    "candles.tail()"
   ]
  },
  {
   "cell_type": "markdown",
   "metadata": {},
   "source": [
    "## EDA\n",
    "\n",
    "### Look at trades quantity cumulative sum"
   ]
  },
  {
   "cell_type": "markdown",
   "metadata": {},
   "source": [
    "## Look at trades on candlestick chart"
   ]
  },
  {
   "cell_type": "code",
   "execution_count": null,
   "metadata": {},
   "outputs": [],
   "source": [
    "# Install a conda package in the current Jupyter kernel\n",
    "#%conda install -c plotly plotly=5.9.0\n",
    "# Draw candlechart\n",
    "import plotly as py\n",
    "from plotly import graph_objects as go\n",
    "import pandas as pd\n",
    "import numpy as np\n",
    "import datetime\n",
    "\n",
    "df=candles.copy()\n",
    "#df=clean_candles(df)\n",
    "fig = go.Figure(data=[ \\\n",
    "                    go.Candlestick(\\\n",
    "                        x=df.index,\\\n",
    "                        open=df['open'],\\\n",
    "                        high=df['high'],\\\n",
    "                        low=df['low'],\\\n",
    "                        close=df['close'])\n",
    "                     ])\n",
    "\n",
    "# Customize ay to distribute captions by y so they do not overlap by x\n",
    "ay,aymax,aystep=0,50,10\n",
    "#start_time=df.open_time.min()\n",
    "# Annotate buy, sell on the chart\n",
    "for i,trade in trades[(~trades.open_time.isna()) & (trades.open_time > df.open_time.min())].iterrows():\n",
    "    ay=(ay+aystep)%aymax\n",
    "    color='green' if trade['side']==\"BUY\" else 'red'\n",
    "\n",
    "    # Draw open order\n",
    "    open_text='buy' if trade['side']==\"BUY\"  else 'sell'\n",
    "    open_hover=f\"{trade['open_time']} {open_text} at {str(trade['open_price'])}\"\n",
    "    fig.add_annotation(x=trade['open_time'], \\\n",
    "                       y=trade['open_price'],\\\n",
    "                       text=open_text,\\\n",
    "                       hovertext=open_hover,\\\n",
    "                       showarrow=True,arrowhead=5,arrowcolor=color,ay=-ay,arrowwidth=2,\n",
    "                       font={'color':color}\n",
    "                      )\n",
    "for i,trade in trades[(~trades.close_time.isna()) & (trades.close_time > df.close_time.min())].iterrows():\n",
    "\n",
    "    print(\"close_time:\"+str(trade.close_time.value))\n",
    "    # Draw close order\n",
    "    #profit = trade[\"close_price\"]-trade[\"open_price\"] if trade[\"close_price\"] else None\n",
    "    status= f\", profit: {round(trade.profit, 10)}\" if trade.profit else \"\"\n",
    "    close_text='close buy' if trade['side']==\"BUY\"  else 'close sell'\n",
    "    close_hover=f\"{trade['close_time']} {close_text} at {str(trade['close_price'])}{status}\"\n",
    "    fig.add_annotation(x=trade['close_time'], \\\n",
    "                       y=trade['close_price'],\\\n",
    "                       text=close_text,\\\n",
    "                       hovertext=close_hover,\\\n",
    "                       showarrow=True,arrowhead=5,arrowcolor=color,ay=-ay,arrowwidth=2,\n",
    "                       font={'color':color}\n",
    "                      )\n",
    "\n",
    "fig.show()\n"
   ]
  },
  {
   "cell_type": "markdown",
   "metadata": {},
   "source": [
    "## Profit"
   ]
  },
  {
   "cell_type": "code",
   "execution_count": null,
   "metadata": {},
   "outputs": [],
   "source": [
    "#import matplotlib.pyplot as plt\n",
    "import plotly.express as px\n",
    "# Calc profit, considering only closing trades\n",
    "profit=trades.copy()\n",
    "profit[\"cum_profit\"] = profit[\"profit\"].cumsum()\n",
    "profit[\"color\"]=np.where(profit.profit >=0, \"green\",\"red\")\n",
    "profit.tail()\n",
    "\n",
    "#Plot\n",
    "fig = px.line(profit, x=\"open_time\", y=\"profit\")\n",
    "fig.show()"
   ]
  },
  {
   "cell_type": "code",
   "execution_count": null,
   "metadata": {},
   "outputs": [],
   "source": [
    "import matplotlib.pyplot as plt\n",
    "import plotly.express as px\n",
    "# Calc profit, considering only closing trades\n",
    "profit=trades[~trades[\"profit\"].isna()].copy()\n",
    "#profit[\"profit\"]=profit[\"price\"].diff()*(profit[\"qty\"]/profit[\"qty\"])\n",
    "profit[\"cum_profit\"] = profit[\"profit\"].cumsum()\n",
    "\n",
    "#Plot\n",
    "fig = px.line(profit, y=\"cum_profit\")\n",
    "fig.show()"
   ]
  },
  {
   "cell_type": "markdown",
   "metadata": {},
   "source": [
    "## Predicted and actual low/high"
   ]
  },
  {
   "cell_type": "code",
   "execution_count": null,
   "metadata": {},
   "outputs": [],
   "source": [
    "import os\n",
    "import glob\n",
    "import pandas as pd\n",
    "from datetime import timedelta,date\n",
    "import matplotlib.pyplot as plt\n",
    "import plotly.express as px\n",
    "\n",
    "def read_predictions(start_date_inc, end_date_inc):\n",
    "    \"\"\" Read days from start to end from local predictions history\"\"\"\n",
    "    symbol=\"BTCUSDT\"    \n",
    "    data_dir=f\"./../model-dev/PredictLowHighCandlesStrategy/Xy\"\n",
    "    print(f\"start date:{start_date_inc}, end date:{end_date_inc}, all inclusive\")\n",
    "    df = pd.DataFrame()\n",
    "    candles_list=[]\n",
    "    for n in range(int ((end_date_inc - start_date_inc).days)+1):\n",
    "        cur_date = start_date_inc + timedelta(n)    \n",
    "        candles_path=f\"{data_dir}/{cur_date}_{symbol}_candles.csv\"     \n",
    "        if not os.path.exists(candles_path): continue\n",
    "        #print(f\"Read {cur_date} candles from {csv_path}\")\n",
    "        cur_candles=pd.read_csv(candles_path,index_col=\"close_time\")\n",
    "        candles_list.append(cur_candles)\n",
    "    df = pd.concat(candles_list)\n",
    "    return df\n",
    "\n",
    "\n",
    "# Read candles for last 3 days\n",
    "last_date=trades.open_time.max().date()\n",
    "first_date=last_date - timedelta(days=0)\n",
    "\n",
    "df = read_predictions(first_date, last_date)\n",
    "px.line(df[[\"low\",\"high\",\"fut_low\",\"fut_high\"]], markers=True)\n"
   ]
  },
  {
   "cell_type": "markdown",
   "metadata": {},
   "source": [
    "## Look at the account"
   ]
  },
  {
   "cell_type": "code",
   "execution_count": null,
   "metadata": {},
   "outputs": [],
   "source": [
    "print(account)"
   ]
  }
 ],
 "metadata": {
  "kernelspec": {
   "display_name": "Python 3",
   "language": "python",
   "name": "python3"
  },
  "language_info": {
   "codemirror_mode": {
    "name": "ipython",
    "version": 3
   },
   "file_extension": ".py",
   "mimetype": "text/x-python",
   "name": "python",
   "nbconvert_exporter": "python",
   "pygments_lexer": "ipython3",
   "version": "3.7.6"
  }
 },
 "nbformat": 4,
 "nbformat_minor": 4
}
