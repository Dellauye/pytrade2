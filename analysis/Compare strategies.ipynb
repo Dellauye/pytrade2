{
 "cells": [
  {
   "cell_type": "markdown",
   "id": "a56f693e",
   "metadata": {},
   "source": [
    "# Strategies trading results comparison"
   ]
  },
  {
   "cell_type": "code",
   "execution_count": 1,
   "id": "e1391961",
   "metadata": {},
   "outputs": [],
   "source": [
    "%%capture\n",
    "%pip install plotly==5.9.0\n",
    "%pip install twisted\n",
    "%pip install binance-connector==1.13.0\n",
    "%pip install pandas \n",
    "import pandas as pd\n",
    "pd.set_option('display.max_columns', None)\n",
    "pd.set_option('display.expand_frame_repr', False)\n",
    "pd.set_option('max_colwidth', None)"
   ]
  },
  {
   "cell_type": "markdown",
   "id": "670427bb",
   "metadata": {},
   "source": [
    "## Download trading data\n",
    "Download the data from cloud, read strategies databases for analysis"
   ]
  },
  {
   "cell_type": "code",
   "execution_count": null,
   "id": "0e04c061",
   "metadata": {},
   "outputs": [
    {
     "name": "stdout",
     "output_type": "stream",
     "text": [
      "Downloading pytrade2 data from 51.250.95.80 to /home/dmitry/projects/pytrade2/deploy/yandex_cloud/../../data/yandex-cloud\n",
      "receiving incremental file list\n",
      "LSTMStrategy/LSTMStrategy.db\n",
      "LSTMStrategy/Xy/2023-06-03_BTCUSDT_X.csv\n",
      "LSTMStrategy/Xy/2023-06-03_BTCUSDT_data.csv\n",
      "LSTMStrategy/Xy/2023-06-03_BTCUSDT_y.csv\n",
      "LSTMStrategy/Xy/2023-06-04_BTCUSDT_X.csv\n",
      "LSTMStrategy/Xy/2023-06-04_BTCUSDT_data.csv\n",
      "LSTMStrategy/Xy/2023-06-04_BTCUSDT_y.csv\n",
      "LSTMStrategy/Xy/2023-06-05_BTCUSDT_X.csv\n",
      "LSTMStrategy/Xy/2023-06-05_BTCUSDT_data.csv\n",
      "LSTMStrategy/Xy/2023-06-05_BTCUSDT_y.csv\n"
     ]
    },
    {
     "name": "stderr",
     "output_type": "stream",
     "text": [
      "file has vanished: \"/home/yc-user/pytrade2/data/LSTMStrategy/weights/2023-06-05T09:39:51.990511.data-00000-of-00001\"\n",
      "file has vanished: \"/home/yc-user/pytrade2/data/LSTMStrategy/weights/2023-06-05T09:39:51.990511.index\"\n"
     ]
    },
    {
     "name": "stdout",
     "output_type": "stream",
     "text": [
      "LSTMStrategy/weights/checkpoint\n",
      "LSTMStrategy2/LSTMStrategy2.db\n",
      "LSTMStrategy2/Xy/2023-06-03_BTCUSDT_X.csv\n",
      "LSTMStrategy2/Xy/2023-06-03_BTCUSDT_data.csv\n",
      "LSTMStrategy2/Xy/2023-06-03_BTCUSDT_y.csv\n",
      "LSTMStrategy2/Xy/2023-06-04_BTCUSDT_X.csv\n",
      "LSTMStrategy2/Xy/2023-06-04_BTCUSDT_data.csv\n",
      "LSTMStrategy2/Xy/2023-06-04_BTCUSDT_y.csv\n",
      "LSTMStrategy2/Xy/2023-06-05_BTCUSDT_X.csv\n",
      "LSTMStrategy2/Xy/2023-06-05_BTCUSDT_data.csv\n",
      "LSTMStrategy2/Xy/2023-06-05_BTCUSDT_y.csv\n"
     ]
    },
    {
     "name": "stderr",
     "output_type": "stream",
     "text": [
      "file has vanished: \"/home/yc-user/pytrade2/data/LSTMStrategy2/weights/2023-06-05T09:39:49.488747.data-00000-of-00001\"\n",
      "file has vanished: \"/home/yc-user/pytrade2/data/LSTMStrategy2/weights/2023-06-05T09:39:49.488747.index\"\n"
     ]
    },
    {
     "name": "stdout",
     "output_type": "stream",
     "text": [
      "LSTMStrategy2/weights/checkpoint\n",
      "SimpleKerasStrategy/SimpleKerasStrategy.db\n",
      "SimpleKerasStrategy/Xy/2023-06-03_BTCUSDT_X.csv\n",
      "SimpleKerasStrategy/Xy/2023-06-03_BTCUSDT_data.csv\n"
     ]
    }
   ],
   "source": [
    "import os\n",
    "from datetime import datetime\n",
    "strategies=[\"SimpleKerasStrategy\", \"LSTMStrategy\", \"LSTMStrategy2\"]\n",
    "os.system(\"cd ./../deploy/yandex_cloud; ./download_data.sh\")\n",
    "print(f\"Download completed at {datetime.utcnow()} UTC.\")"
   ]
  },
  {
   "cell_type": "code",
   "execution_count": null,
   "id": "78e2112b",
   "metadata": {},
   "outputs": [],
   "source": [
    "import pandas as pd\n",
    "import numpy as np\n",
    "import sqlite3\n",
    "\n",
    "def get_trades(strategy: str):\n",
    "    \"\"\" Read strategy trades from related sqlite3 database\"\"\"\n",
    "    data_dir=f\"../data/yandex-cloud\"\n",
    "\n",
    "    db_path=f\"{data_dir}/{strategy}/{strategy}.db\"\n",
    "    print(f\"Get {strategy} trades from {db_path}\")\n",
    "\n",
    "    with sqlite3.connect(db_path) as conn:\n",
    "        trades=pd.read_sql_query(\"SELECT * FROM trade ORDER BY open_time\",conn,\n",
    "                                 parse_dates=[\"open_time\", \"close_time\"])#.set_index(\"open_time\", drop=False)\n",
    "    trades[\"profit\"] = np.where(trades[\"side\"] == \"BUY\", \n",
    "                                (trades[\"close_price\"]-trades[\"open_price\"])*trades[\"quantity\"],\n",
    "                                (trades[\"open_price\"]-trades[\"close_price\"])*trades[\"quantity\"],\n",
    "                               )\n",
    "    trades[\"cum_profit\"] = trades[\"profit\"].cumsum()\n",
    "    open_time=trades[\"open_time\"].iloc[-1]    \n",
    "    close_time=trades[\"close_time\"].iloc[-1]    \n",
    "    print(f\"{strategy} last trade open: {open_time}, close: {close_time}\\n\")  \n",
    "    \n",
    "    return trades\n",
    "\n",
    "# Main data structure: strategy -> trades dictionary\n",
    "strategies_trades = dict([(strategy, get_trades(strategy)) for strategy in strategies])\n"
   ]
  },
  {
   "cell_type": "markdown",
   "id": "7ff3aba0",
   "metadata": {},
   "source": [
    "## Cumulative profit"
   ]
  },
  {
   "cell_type": "code",
   "execution_count": null,
   "id": "5b70c325",
   "metadata": {
    "scrolled": false
   },
   "outputs": [],
   "source": [
    "import matplotlib.pyplot as plt\n",
    "import plotly.express as px\n",
    "import seaborn as sns\n",
    "sns.set_theme()\n",
    "#paper, notebook, talk, poster\n",
    "\n",
    "import plotly.graph_objs as go\n",
    "import plotly.io as pio\n",
    "from plotly.subplots import make_subplots\n",
    "pio.renderers.default = \"plotly_mimetype+notebook\"\n",
    "import plotly.graph_objects as go\n",
    "\n",
    "# Align the plot width    \n",
    "plot_figsize=(10,5)\n",
    "sns.set_style(\"darkgrid\")\n",
    "\n",
    "\n",
    "def plot_profit_plotly(strategy, trades, col):\n",
    "    \"\"\" Plot strategy profit using plotly\"\"\"\n",
    "    px.line(trades, x=\"close_time\", y=col, title=f\"{strategy} {col}\").update_traces(mode='lines+markers').show()\n",
    "    \n",
    "def plot_profit_sns(strategy, trades, col):\n",
    "    \"\"\" Plot strategy profit using sns\"\"\"\n",
    "    plt.figure(figsize=plot_figsize)\n",
    "    sns.lineplot(data=trades, x=\"close_time\", y=col).set_title(f\"{strategy} {col}\")\n",
    "    plt.show()\n",
    "\n",
    "def plot_profit_plt(strategy, trades, col):\n",
    "    \"\"\" Plot profits using matplotlib \"\"\"\n",
    "    plt.figure(figsize=(10,5))\n",
    "    plt.plot(\"close_time\", col, data=trades)\n",
    "    plt.title(f\"{strategy} {col}\")\n",
    "    plt.show()\n",
    "    \n",
    "def plot_strategies_profits(plot_func, strategies_trades, col):\n",
    "    \"\"\" Plot all strategies profit using given func\"\"\"\n",
    "    \n",
    "    for strategy in strategies:\n",
    "        trades=strategies_trades[strategy]\n",
    "        plot_func(strategy, trades, col)\n",
    "\n",
    "def plot_strategies_daily_profits(plot_func, strategies_trades, col):\n",
    "    \"\"\" Plot daily values\"\"\"\n",
    "    interval=\"1d\"\n",
    "    for strategy in strategies:\n",
    "        trades = strategies_trades[strategy]\n",
    "        resampled=trades.set_index(\"close_time\")[[\"profit\", \"cum_profit\"]] \\\n",
    "            .resample(interval) \\\n",
    "            .agg({\"profit\": \"sum\", \"cum_profit\": \"last\"})\\\n",
    "            .reset_index()\n",
    "        resampled[\"close_time\"] = resampled[\"close_time\"].astype(str)\n",
    "        plt.figure(figsize=plot_figsize)\n",
    "        plt.bar(\"close_time\", col, data=resampled)\n",
    "        plt.title(f\"{strategy} {interval} {col}\")\n",
    "        plt.show()\n",
    "        \n",
    "# Plot profit and cumulative profit for each strategy\n",
    "plot_strategies_profits(plot_profit_plt, strategies_trades, \"cum_profit\")\n",
    "plot_strategies_profits(plot_profit_plt, strategies_trades, \"profit\")\n",
    "plot_strategies_daily_profits(plot_profit_plt, strategies_trades, \"profit\")\n",
    "\n"
   ]
  },
  {
   "cell_type": "code",
   "execution_count": null,
   "id": "fae8cc95",
   "metadata": {},
   "outputs": [],
   "source": []
  },
  {
   "cell_type": "markdown",
   "id": "0ab38c83",
   "metadata": {},
   "source": [
    "## Buy, sell trade counts"
   ]
  },
  {
   "cell_type": "code",
   "execution_count": null,
   "id": "96edc292",
   "metadata": {},
   "outputs": [],
   "source": []
  },
  {
   "cell_type": "code",
   "execution_count": null,
   "id": "76076599",
   "metadata": {
    "scrolled": false
   },
   "outputs": [],
   "source": [
    "def plot_trade_counts(strategy, trades):\n",
    "    buy_sell_counts = trades[\"side\"].value_counts()\n",
    "    total=len(trades)\n",
    "    colors = sns.color_palette('pastel')[0:5]\n",
    "    fig, (ax1, ax2, ax3) = plt.subplots(1, 3)\n",
    "    fig.set_size_inches(plot_figsize)\n",
    "    fig.suptitle(f'{strategy} profit/loss trade counts')\n",
    "    # Buy/sell counts\n",
    "    ax1.pie([len(trades[trades[\"side\"]==\"BUY\"]),len(trades[trades[\"side\"]==\"SELL\"])], \n",
    "            labels=[\"Buy\",\"Sell\"], \\\n",
    "            autopct=lambda p: '{:.0f}'.format(p * total / 100))\n",
    "    # Buy profit/loss counts\n",
    "    ax2.pie([len(trades[(trades[\"side\"]==\"BUY\") &  (trades[\"profit\"]>0)].index),\\\n",
    "            len(trades[(trades[\"side\"]==\"BUY\") &  (trades[\"profit\"]<0)].index) \\\n",
    "            ],\n",
    "            labels=[\"buy profit\", \" buy loss\"], autopct=\"%.0f%%\", colors=colors)\n",
    "    # Sell profit/loss counts\n",
    "    ax3.pie([len(trades[(trades[\"side\"]==\"SELL\") &  (trades[\"profit\"]>0)].index),\\\n",
    "            len(trades[(trades[\"side\"]==\"SELL\") &  (trades[\"profit\"]<0)].index) \\\n",
    "            ],\n",
    "            labels=[\"sell profit\", \" sell loss\"], autopct=\"%.0f%%\", colors=colors)\n",
    "    fig.subplots_adjust(top=1)\n",
    "\n",
    "    plt.show()\n",
    "\n",
    "\n",
    "\n",
    "for strategy in strategies_trades:\n",
    "    plot_trade_counts(strategy, strategies_trades[strategy])"
   ]
  },
  {
   "cell_type": "markdown",
   "id": "17f2da89",
   "metadata": {},
   "source": [
    "## Compare strategies profits"
   ]
  },
  {
   "cell_type": "code",
   "execution_count": null,
   "id": "0fdf259e",
   "metadata": {
    "scrolled": false
   },
   "outputs": [],
   "source": [
    "def plot_comparison(title, strategies_trades, y_func, quantiles=[0,1]):\n",
    "    \"\"\" Comparison bar plot: x=strategy, y=summary function for the strategy\"\"\"\n",
    "    data={\"strategy\":[], \"profit\":[]}\n",
    "    #strategies_data = dict([(strategy,get_trades(strategy)) for strategy in strategies])\n",
    "    for strategy in strategies:\n",
    "        #val = get_trades(strategy)[\"profit\"].sum()\n",
    "        trades = strategies_trades[strategy]\n",
    "        q_low = trades[\"profit\"].quantile(quantiles[0])\n",
    "        q_hi  = trades[\"profit\"].quantile(quantiles[1])\n",
    "        trades_filtered = trades[(trades[\"profit\"] < q_hi) & (trades[\"profit\"] > q_low)]      \n",
    "        #trades_filtered=trades\n",
    "        val = y_func(trades_filtered)\n",
    "        data[\"strategy\"].append(strategy)\n",
    "        data[\"profit\"].append(val)\n",
    "    plt.figure(figsize=plot_figsize)\n",
    "    sns.barplot(data=data, x=\"strategy\", y=\"profit\").set_title(title)\n",
    "    plt.show()\n",
    "    \n",
    "q_outliers = [0.1, 0.9]\n",
    "plot_comparison(\"Profit\", strategies_trades, lambda trades: trades[\"profit\"].sum())\n",
    "plot_comparison(\"Profit w/o outliers\", strategies_trades, lambda trades: trades[\"profit\"].sum(), quantiles=q_outliers)\n",
    "plot_comparison(\"Profit mean\", strategies_trades, lambda trades: trades[\"profit\"].mean())\n",
    "plot_comparison(\"Profit mean w/o outliers\", strategies_trades, lambda trades: trades[\"profit\"].mean(), quantiles=q_outliers)\n",
    "plot_comparison(\"Profit median\", strategies_trades, lambda trades: trades[\"profit\"].median())\n"
   ]
  },
  {
   "cell_type": "markdown",
   "id": "de89ded4",
   "metadata": {},
   "source": [
    "### Buy, sell profit"
   ]
  },
  {
   "cell_type": "code",
   "execution_count": null,
   "id": "f2b53cc6",
   "metadata": {},
   "outputs": [],
   "source": [
    "plot_comparison(\"Buy profit\", strategies_trades, lambda trades: trades.loc[trades[\"side\"]==\"BUY\",\"profit\"].sum())\n",
    "plot_comparison(\"Sell profit\", strategies_trades, lambda trades: trades.loc[trades[\"side\"]==\"SELL\",\"profit\"].sum())\n"
   ]
  },
  {
   "cell_type": "markdown",
   "id": "de4b1dca",
   "metadata": {},
   "source": [
    "### Buy, sell mean profit"
   ]
  },
  {
   "cell_type": "code",
   "execution_count": null,
   "id": "0437b670",
   "metadata": {},
   "outputs": [],
   "source": [
    "plot_comparison(\"Buy profit mean\", strategies_trades, lambda trades: trades.loc[trades[\"side\"]==\"BUY\",\"profit\"].mean())\n",
    "plot_comparison(\"Sell profit mean\", strategies_trades, lambda trades: trades.loc[trades[\"side\"]==\"SELL\",\"profit\"].mean())\n"
   ]
  },
  {
   "cell_type": "markdown",
   "id": "07607919",
   "metadata": {},
   "source": [
    "### Buy, sell median profit"
   ]
  },
  {
   "cell_type": "code",
   "execution_count": null,
   "id": "50b3755b",
   "metadata": {},
   "outputs": [],
   "source": [
    "plot_comparison(\"Buy profit median\", strategies_trades, lambda trades: trades.loc[trades[\"side\"]==\"BUY\",\"profit\"].median())\n",
    "plot_comparison(\"Sell profit median\", strategies_trades, lambda trades: trades.loc[trades[\"side\"]==\"SELL\",\"profit\"].median())\n"
   ]
  },
  {
   "cell_type": "markdown",
   "id": "6a58c776",
   "metadata": {},
   "source": [
    "## Profit summary"
   ]
  },
  {
   "cell_type": "code",
   "execution_count": null,
   "id": "218d6ca7",
   "metadata": {
    "scrolled": false
   },
   "outputs": [],
   "source": [
    "def plot_strategy_profit_sum(strategy, trades):\n",
    "    \"\"\" Profit statistics: summary, average \"\"\"\n",
    "    \n",
    "    fig, (ax1, ax2, ax3) = plt.subplots(1, 3)\n",
    "    fig.set_size_inches(plot_figsize)\n",
    "    fig.suptitle(f'{strategy} profit summary')\n",
    "    \n",
    "    buy_profit = trades.loc[trades[\"side\"]==\"BUY\",\"profit\"]\n",
    "    sell_profit = trades.loc[trades[\"side\"]==\"SELL\",\"profit\"]\n",
    "\n",
    "    # Plots\n",
    "    sns.barplot(x=[\"buy\", \"sell\"], y = [buy_profit.sum(), sell_profit.sum()], ax=ax1).set_title(\"sum\")\n",
    "    sns.barplot(x=[\"buy\", \"sell\"], y = [buy_profit.mean(), sell_profit.mean()], ax=ax2).set_title(\"mean\")\n",
    "    sns.barplot(x=[\"buy\", \"sell\"], y = [buy_profit.median(), sell_profit.median()], ax=ax3).set_title(\"median\")\n",
    "    fig.tight_layout()\n",
    "    plt.show()\n",
    "\n",
    "def plot_profit_sum(strategies_trades):\n",
    "    \"\"\" Plot profit statistics for all strategies\"\"\"\n",
    "    for strategy in strategies_trades:\n",
    "        plot_strategy_profit_sum(strategy, strategies_trades[strategy])\n",
    "\n",
    "\n",
    "        \n",
    "plot_profit_sum(strategies_trades)        \n"
   ]
  }
 ],
 "metadata": {
  "kernelspec": {
   "display_name": "Python 3 (ipykernel)",
   "language": "python",
   "name": "python3"
  },
  "language_info": {
   "codemirror_mode": {
    "name": "ipython",
    "version": 3
   },
   "file_extension": ".py",
   "mimetype": "text/x-python",
   "name": "python",
   "nbconvert_exporter": "python",
   "pygments_lexer": "ipython3",
   "version": "3.9.13"
  }
 },
 "nbformat": 4,
 "nbformat_minor": 5
}
