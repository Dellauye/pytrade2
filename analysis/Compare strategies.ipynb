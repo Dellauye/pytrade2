{
 "cells": [
  {
   "cell_type": "markdown",
   "id": "a56f693e",
   "metadata": {},
   "source": [
    "# Strategies trading results comparison"
   ]
  },
  {
   "cell_type": "code",
   "execution_count": 1,
   "id": "e1391961",
   "metadata": {},
   "outputs": [],
   "source": [
    "%%capture\n",
    "%pip install plotly==5.9.0\n",
    "%pip install twisted\n",
    "%pip install binance-connector==1.13.0\n",
    "%pip install pandas \n",
    "import pandas as pd\n",
    "pd.set_option('display.max_columns', None)\n",
    "pd.set_option('display.expand_frame_repr', False)\n",
    "pd.set_option('max_colwidth', None)"
   ]
  },
  {
   "cell_type": "markdown",
   "id": "670427bb",
   "metadata": {},
   "source": [
    "## Download trading data\n",
    "Download the data from cloud, read strategies databases for analysis"
   ]
  },
  {
   "cell_type": "code",
   "execution_count": 12,
   "id": "201a9ce0",
   "metadata": {},
   "outputs": [],
   "source": [
    "strategies=[\"SimpleKerasStrategy\", \"LSTMStrategy\", \"LSTMStrategy2\"]\n",
    "strategies=[\"SimpleKerasStrategy\"]"
   ]
  },
  {
   "cell_type": "code",
   "execution_count": 2,
   "id": "0e04c061",
   "metadata": {},
   "outputs": [
    {
     "name": "stdout",
     "output_type": "stream",
     "text": [
      "Downloading pytrade2 data from 158.160.41.104 to /home/dima/projects/pytrade2/deploy/yandex_cloud/../../data/yandex-cloud\n",
      "receiving incremental file list\n",
      "LSTMStrategy/LSTMStrategy.db\n",
      "LSTMStrategy/Xy/2023-06-09_BTCUSDT_X.csv\n",
      "LSTMStrategy/Xy/2023-06-09_BTCUSDT_data.csv\n",
      "LSTMStrategy/Xy/2023-06-09_BTCUSDT_y.csv\n",
      "LSTMStrategy/Xy/2023-06-10_BTCUSDT_X.csv\n",
      "LSTMStrategy/Xy/2023-06-10_BTCUSDT_data.csv\n",
      "LSTMStrategy/Xy/2023-06-10_BTCUSDT_y.csv\n",
      "LSTMStrategy/account/2023-06-09_balance.csv\n",
      "LSTMStrategy/account/2023-06-10_balance.csv\n",
      "LSTMStrategy/weights/2023-06-10T09:17:41.357278.data-00000-of-00001\n",
      "LSTMStrategy/weights/2023-06-10T09:17:41.357278.index\n",
      "LSTMStrategy/weights/checkpoint\n",
      "LSTMStrategy2/LSTMStrategy2.db\n",
      "LSTMStrategy2/Xy/2023-06-09_BTCUSDT_X.csv\n",
      "LSTMStrategy2/Xy/2023-06-09_BTCUSDT_data.csv\n",
      "LSTMStrategy2/Xy/2023-06-09_BTCUSDT_y.csv\n",
      "LSTMStrategy2/Xy/2023-06-10_BTCUSDT_X.csv\n",
      "LSTMStrategy2/Xy/2023-06-10_BTCUSDT_data.csv\n",
      "LSTMStrategy2/Xy/2023-06-10_BTCUSDT_y.csv\n",
      "LSTMStrategy2/account/2023-06-09_balance.csv\n",
      "LSTMStrategy2/account/2023-06-10_balance.csv\n",
      "LSTMStrategy2/weights/2023-06-10T09:17:41.458408.data-00000-of-00001\n"
     ]
    },
    {
     "name": "stderr",
     "output_type": "stream",
     "text": [
      "file has vanished: \"/home/yc-user/pytrade2/data/LSTMStrategy2/weights/2023-06-10T09:17:41.458408.index\"\n"
     ]
    },
    {
     "name": "stdout",
     "output_type": "stream",
     "text": [
      "LSTMStrategy2/weights/checkpoint\n",
      "SimpleKerasStrategy/SimpleKerasStrategy.db\n",
      "SimpleKerasStrategy/Xy/2023-06-09_BTCUSDT_X.csv\n"
     ]
    },
    {
     "name": "stderr",
     "output_type": "stream",
     "text": [
      "file has vanished: \"/home/yc-user/pytrade2/data/SimpleKerasStrategy/weights/2023-06-10T09:17:34.934409.data-00000-of-00001\"\n",
      "file has vanished: \"/home/yc-user/pytrade2/data/SimpleKerasStrategy/weights/2023-06-10T09:17:34.934409.index\"\n"
     ]
    },
    {
     "name": "stdout",
     "output_type": "stream",
     "text": [
      "SimpleKerasStrategy/Xy/2023-06-09_BTCUSDT_data.csv\n",
      "SimpleKerasStrategy/Xy/2023-06-09_BTCUSDT_y.csv\n",
      "SimpleKerasStrategy/Xy/2023-06-10_BTCUSDT_X.csv\n",
      "SimpleKerasStrategy/Xy/2023-06-10_BTCUSDT_data.csv\n",
      "SimpleKerasStrategy/Xy/2023-06-10_BTCUSDT_y.csv\n",
      "SimpleKerasStrategy/account/2023-06-09_balance.csv\n",
      "SimpleKerasStrategy/account/2023-06-10_balance.csv\n",
      "SimpleKerasStrategy/weights/checkpoint\n",
      "\n",
      "sent 941,394 bytes  received 16,838,898 bytes  867,331.32 bytes/sec\n",
      "total size is 1,685,693,030  speedup is 94.81\n",
      "LSTMStrategy last opened: , closed: \n",
      "LSTMStrategy2 last opened: , closed: \n",
      "SimpleKerasStrategy last opened: 2023-06-10 09:16:34.300000, closed: 2023-06-10 09:16:35.404000\n",
      "Current time Сб 10 июн 2023 09:18:09 UTC\n",
      "Download completed at 2023-06-10 09:18:09.900641 UTC.\n"
     ]
    },
    {
     "name": "stderr",
     "output_type": "stream",
     "text": [
      "rsync warning: some files vanished before they could be transferred (code 24) at main.c(1684) [generator=3.1.3]\n"
     ]
    }
   ],
   "source": [
    "import os\n",
    "from datetime import datetime\n",
    "\n",
    "os.system(\"cd ./../deploy/yandex_cloud; ./download_data.sh\")\n",
    "print(f\"Download completed at {datetime.utcnow()} UTC.\")"
   ]
  },
  {
   "cell_type": "code",
   "execution_count": 25,
   "id": "78e2112b",
   "metadata": {},
   "outputs": [
    {
     "name": "stdout",
     "output_type": "stream",
     "text": [
      "Get SimpleKerasStrategy trades from ../data/yandex-cloud/SimpleKerasStrategy/SimpleKerasStrategy.db\n",
      "SimpleKerasStrategy last trade open: 2023-06-10 09:16:34.300000, close: 2023-06-10 09:16:35.404000\n",
      "\n",
      "Trades\n",
      "{'SimpleKerasStrategy':       id   ticker  side               open_time  open_price    open_order_id  stop_loss_price  take_profit_price stop_loss_order_id trailing_delta  quantity              close_time  close_price   close_order_id  status    profit  cum_profit\n",
      "0      1  btcusdt   BUY 2023-06-09 14:12:38.302    26642.00  808191392253191              NaN                NaN               None           None    0.0005 2023-06-09 14:12:40.088     26635.99  808191349788681  closed -0.003005   -0.003005\n",
      "1      2  btcusdt   BUY 2023-06-09 14:13:39.110    26641.76  808191392055986         26637.47           26663.73    808191425970769           None    0.0005 2023-06-09 14:14:08.103     26651.99  808191383540796  closed  0.005115    0.002110\n",
      "2      3  btcusdt   BUY 2023-06-09 14:22:41.676    26698.00  808191459169100         26694.18           26710.38    808191425288135           None    0.0005 2023-06-09 14:22:46.963     26691.79  808191450618471  closed -0.003105   -0.000995\n",
      "3      4  btcusdt  SELL 2023-06-09 15:06:13.896    26597.99  808191845075801         26640.94           26255.43    808191794286605           None    0.0005 2023-06-09 15:06:32.987     26600.00  808191819617241  closed -0.001005   -0.002000\n",
      "4      5  btcusdt  SELL 2023-06-09 15:21:04.513    26616.10  808191979619357         26619.90           25604.30    808191911790643           None    0.0005 2023-06-09 15:21:42.501     26604.01  808191945773294  closed  0.006045    0.004045\n",
      "..   ...      ...   ...                     ...         ...              ...              ...                ...                ...            ...       ...                     ...          ...              ...     ...       ...         ...\n",
      "129  130  btcusdt  SELL 2023-06-10 04:02:07.479    26306.71  808198413521509         26310.72           26299.32    808198455790894           None    0.0005 2023-06-10 04:02:11.103     26309.42  808198438851661  closed -0.001355   -0.904070\n",
      "130  131  btcusdt   BUY 2023-06-10 04:03:53.750    26333.33  808198379374018         26328.36           26343.62    808198387861157           None    0.0005 2023-06-10 04:04:22.584     26333.99  808198430298842  closed  0.000330   -0.903740\n",
      "131  132  btcusdt   BUY 2023-06-10 04:05:05.600    26342.00  808198430098211         26337.42           26349.33    808198438716486           None    0.0005 2023-06-10 04:05:15.708     26341.99  808198438619470  closed -0.000005   -0.903745\n",
      "132  133  btcusdt   BUY 2023-06-10 09:12:52.419    25659.99  808201022472646         25566.48           26024.58    808200954644432           None    0.0005 2023-06-10 09:13:17.434     25660.03  808201022508808  closed  0.000020   -0.903725\n",
      "133  134  btcusdt   BUY 2023-06-10 09:16:34.300    25678.00  808201039153119              NaN                NaN               None           None    0.0005 2023-06-10 09:16:35.404     25660.99  808201064548079  closed -0.008505   -0.912230\n",
      "\n",
      "[134 rows x 17 columns]}\n",
      "Balances\n",
      "{'SimpleKerasStrategy':                             account_id asset account_type    balance  available\n",
      "time                                                                           \n",
      "2023-06-09 20:50:28.469291    57017616  usdt        trade  39.326391  39.326391\n",
      "2023-06-09 20:50:28.469572    57017616   btc        trade   0.001632   0.001632\n",
      "2023-06-09 21:37:34.240565    57017616  usdt        trade  39.326391  39.326391\n",
      "2023-06-09 21:37:34.240923    57017616   btc        trade   0.001632   0.001632\n",
      "2023-06-09 22:02:58.720361    57017616  usdt        trade        NaN  26.080146\n",
      "...                                ...   ...          ...        ...        ...\n",
      "2023-06-10 09:16:34.447004    57017616  usdt        trade        NaN  38.187136\n",
      "2023-06-10 09:16:35.534183    57017616   btc        trade        NaN   0.001073\n",
      "2023-06-10 09:16:35.540354    57017616   btc        trade   0.001073        NaN\n",
      "2023-06-10 09:16:35.540642    57017616  usdt        trade  50.997102        NaN\n",
      "2023-06-10 09:16:35.540915    57017616  usdt        trade        NaN  50.997102\n",
      "\n",
      "[850 rows x 5 columns]}\n"
     ]
    }
   ],
   "source": [
    "import pandas as pd\n",
    "import numpy as np\n",
    "import sqlite3\n",
    "\n",
    "def get_balance(strategy: str):\n",
    "    \"\"\" Read balance history from data\"\"\"\n",
    "    \n",
    "    data_dir=f\"../data/yandex-cloud\"\n",
    "    account_dir=f\"{data_dir}/{strategy}/account\"\n",
    "    #file_path = sorted([f for f in os.listdir(account_dir) if f.endswith(f\"{symbol}_{name}.csv\")])[-1]\n",
    "    files = sorted([f for f in os.listdir(account_dir) if f.endswith(f\".csv\")])\n",
    "    return pd.concat([pd.read_csv(f\"{account_dir}/{f}\", parse_dates=True, index_col=\"time\") for f in files]).sort_index()\n",
    "    \n",
    "\n",
    "def get_trades(strategy: str):\n",
    "    \"\"\" Read strategy trades from related sqlite3 database\"\"\"\n",
    "    data_dir=f\"../data/yandex-cloud\"\n",
    "\n",
    "    db_path=f\"{data_dir}/{strategy}/{strategy}.db\"\n",
    "    print(f\"Get {strategy} trades from {db_path}\")\n",
    "\n",
    "    with sqlite3.connect(db_path) as conn:\n",
    "        trades=pd.read_sql_query(\"SELECT * FROM trade ORDER BY open_time\",conn,\n",
    "                                 parse_dates=[\"open_time\", \"close_time\"])#.set_index(\"open_time\", drop=False)\n",
    "    trades[\"profit\"] = np.where(trades[\"side\"] == \"BUY\", \n",
    "                                (trades[\"close_price\"]-trades[\"open_price\"])*trades[\"quantity\"],\n",
    "                                (trades[\"open_price\"]-trades[\"close_price\"])*trades[\"quantity\"],\n",
    "                               )\n",
    "    trades[\"cum_profit\"] = trades[\"profit\"].cumsum()\n",
    "    open_time=trades[\"open_time\"].iloc[-1]    \n",
    "    close_time=trades[\"close_time\"].iloc[-1]    \n",
    "    print(f\"{strategy} last trade open: {open_time}, close: {close_time}\\n\")  \n",
    "    \n",
    "    return trades\n",
    "\n",
    "# Main data structure: strategy -> trades dictionary\n",
    "strategies_trades = dict([(strategy, get_trades(strategy)) for strategy in strategies])\n",
    "strategies_balances = dict([(strategy, get_balance(strategy)) for strategy in strategies])\n",
    "\n"
   ]
  },
  {
   "cell_type": "markdown",
   "id": "76a52776",
   "metadata": {},
   "source": [
    "## Balance history"
   ]
  },
  {
   "cell_type": "code",
   "execution_count": 77,
   "id": "17da47a2",
   "metadata": {},
   "outputs": [
    {
     "data": {
      "application/vnd.plotly.v1+json": {
       "config": {
        "plotlyServerURL": "https://plot.ly"
       },
       "data": [
        {
         "hovertemplate": "datetime=%{x}<br>balance=%{y}<extra></extra>",
         "legendgroup": "",
         "line": {
          "color": "#636efa",
          "dash": "solid"
         },
         "marker": {
          "symbol": "circle"
         },
         "mode": "lines+markers",
         "name": "",
         "orientation": "v",
         "showlegend": false,
         "type": "scatter",
         "x": [
          "2023-06-09T20:50:28.469291",
          "2023-06-09T21:37:34.240565",
          "2023-06-09T22:02:58.734038",
          "2023-06-09T22:02:59.842512",
          "2023-06-09T22:20:37.090345",
          "2023-06-09T22:20:39.299435",
          "2023-06-09T22:40:01.999022",
          "2023-06-09T22:40:11.995412",
          "2023-06-09T22:40:14.724377",
          "2023-06-09T22:40:27.445147",
          "2023-06-09T22:40:28.302848",
          "2023-06-09T22:40:42.372155",
          "2023-06-09T22:44:04.640877",
          "2023-06-09T22:44:21.870568",
          "2023-06-09T23:16:58.733280",
          "2023-06-09T23:21:19.603250",
          "2023-06-09T23:21:31.026261",
          "2023-06-09T23:21:31.859495",
          "2023-06-09T23:21:34.962275",
          "2023-06-09T23:21:41.934186",
          "2023-06-09T23:21:57.691196",
          "2023-06-09T23:23:40.372872",
          "2023-06-09T23:34:08.604187",
          "2023-06-09T23:34:09.736557",
          "2023-06-09T23:35:13.119032",
          "2023-06-09T23:35:14.251167",
          "2023-06-09T23:35:23.193785",
          "2023-06-09T23:35:24.319296",
          "2023-06-09T23:35:33.225835",
          "2023-06-09T23:35:34.405222",
          "2023-06-09T23:52:58.504704",
          "2023-06-09T23:52:59.469134",
          "2023-06-10T00:20:14.073245",
          "2023-06-10T00:20:18.274636",
          "2023-06-10T00:34:47.209750",
          "2023-06-10T00:35:01.077487",
          "2023-06-10T01:07:50.421010",
          "2023-06-10T01:07:51.544622",
          "2023-06-10T01:08:00.444212",
          "2023-06-10T01:08:05.626307",
          "2023-06-10T01:08:16.533207",
          "2023-06-10T01:08:28.987392",
          "2023-06-10T01:08:30.605467",
          "2023-06-10T01:08:35.365639",
          "2023-06-10T01:12:01.615897",
          "2023-06-10T01:12:03.757356",
          "2023-06-10T01:12:04.460643",
          "2023-06-10T01:12:23.243365",
          "2023-06-10T01:12:29.319079",
          "2023-06-10T01:12:33.557991",
          "2023-06-10T01:12:45.273098",
          "2023-06-10T01:19:36.731872",
          "2023-06-10T01:19:37.858130",
          "2023-06-10T01:36:22.227983",
          "2023-06-10T01:36:23.216653",
          "2023-06-10T01:38:13.522846",
          "2023-06-10T01:47:07.485123",
          "2023-06-10T01:47:12.658405",
          "2023-06-10T01:47:17.791285",
          "2023-06-10T01:47:20.927482",
          "2023-06-10T01:50:51.727667",
          "2023-06-10T01:50:52.842476",
          "2023-06-10T01:51:07.102471",
          "2023-06-10T01:51:08.956121",
          "2023-06-10T01:51:20.071801",
          "2023-06-10T01:51:21.204209",
          "2023-06-10T01:54:01.181813",
          "2023-06-10T01:54:07.418270",
          "2023-06-10T01:55:01.482319",
          "2023-06-10T01:55:08.290673",
          "2023-06-10T02:00:03.566548",
          "2023-06-10T02:00:07.126951",
          "2023-06-10T02:01:52.927707",
          "2023-06-10T02:01:54.054589",
          "2023-06-10T02:02:03.063474",
          "2023-06-10T02:02:04.182960",
          "2023-06-10T02:02:13.123082",
          "2023-06-10T02:02:14.276392",
          "2023-06-10T02:10:38.777080",
          "2023-06-10T02:10:58.996892",
          "2023-06-10T02:15:29.700976",
          "2023-06-10T02:15:40.940744",
          "2023-06-10T02:15:41.609248",
          "2023-06-10T02:16:00.460752",
          "2023-06-10T02:22:17.201907",
          "2023-06-10T02:22:21.394219",
          "2023-06-10T02:22:27.305878",
          "2023-06-10T02:22:32.886982",
          "2023-06-10T02:24:37.541984",
          "2023-06-10T02:24:45.645097",
          "2023-06-10T02:27:21.238207",
          "2023-06-10T02:27:59.087980",
          "2023-06-10T02:29:27.404502",
          "2023-06-10T02:29:31.422948",
          "2023-06-10T02:32:31.149674",
          "2023-06-10T02:32:38.170447",
          "2023-06-10T02:32:40.468360",
          "2023-06-10T02:32:42.525675",
          "2023-06-10T02:44:39.351439",
          "2023-06-10T02:44:42.661708",
          "2023-06-10T02:50:22.632679",
          "2023-06-10T02:50:29.998284",
          "2023-06-10T02:50:32.756008",
          "2023-06-10T02:50:36.552110",
          "2023-06-10T03:21:47.600201",
          "2023-06-10T03:21:51.274398",
          "2023-06-10T03:21:57.742024",
          "2023-06-10T03:22:00.824914",
          "2023-06-10T03:23:11.956631",
          "2023-06-10T03:23:26.541780",
          "2023-06-10T03:27:23.051329",
          "2023-06-10T03:27:26.679804",
          "2023-06-10T03:28:25.380467",
          "2023-06-10T03:28:26.974311",
          "2023-06-10T03:28:47.173381",
          "2023-06-10T03:28:52.079490",
          "2023-06-10T03:29:33.092400",
          "2023-06-10T03:29:42.155550",
          "2023-06-10T03:36:43.889301",
          "2023-06-10T03:36:44.983346",
          "2023-06-10T03:37:18.910645",
          "2023-06-10T03:37:20.015171",
          "2023-06-10T03:37:29.663371",
          "2023-06-10T03:37:30.773196",
          "2023-06-10T03:42:22.770607",
          "2023-06-10T03:42:23.881561",
          "2023-06-10T03:43:30.296521",
          "2023-06-10T03:43:31.396063",
          "2023-06-10T03:43:55.453804",
          "2023-06-10T03:43:56.554993",
          "2023-06-10T03:45:40.618585",
          "2023-06-10T03:45:41.723263",
          "2023-06-10T03:45:52.074579",
          "2023-06-10T03:45:53.178159",
          "2023-06-10T03:46:35.868481",
          "2023-06-10T03:46:37.003604",
          "2023-06-10T03:46:55.979310",
          "2023-06-10T03:46:57.076337",
          "2023-06-10T03:48:26.321877",
          "2023-06-10T03:48:29.226535",
          "2023-06-10T03:48:36.328164",
          "2023-06-10T03:48:43.716146",
          "2023-06-10T03:58:41.185150",
          "2023-06-10T03:58:47.394659",
          "2023-06-10T04:00:00.544433",
          "2023-06-10T04:00:02.934075",
          "2023-06-10T04:00:10.665023",
          "2023-06-10T04:00:11.817967",
          "2023-06-10T04:02:07.622805",
          "2023-06-10T04:02:11.243838",
          "2023-06-10T04:03:53.896037",
          "2023-06-10T04:04:22.727419",
          "2023-06-10T04:05:05.741755",
          "2023-06-10T04:05:15.849384",
          "2023-06-10T09:10:01.484413",
          "2023-06-10T09:11:05.583977",
          "2023-06-10T09:12:52.565902",
          "2023-06-10T09:13:17.573731",
          "2023-06-10T09:16:34.446078",
          "2023-06-10T09:16:35.540642"
         ],
         "xaxis": "x",
         "y": [
          39.32639142950465,
          39.32639142950465,
          26.083056429504666,
          39.30519710150465,
          52.51703927750466,
          39.284019277504655,
          26.050339277504666,
          39.262840397504654,
          26.029160397504665,
          39.24164654150466,
          26.007981541504662,
          39.22046768550466,
          52.43006346150466,
          39.19929346150466,
          39.19929346150466,
          52.40812046950466,
          39.178120469504655,
          52.386947477504656,
          39.15694747750466,
          25.926947477504665,
          39.135774485504655,
          39.135774485504655,
          52.34706754150466,
          39.115012541504655,
          25.884857541504665,
          39.09383930150466,
          25.864589301504665,
          39.072667509504655,
          25.843417509504665,
          39.05149571750466,
          39.05149571750466,
          39.05149571750466,
          52.26665258150466,
          39.03031258150465,
          25.787677581504663,
          39.006683277504656,
          25.779188277504662,
          38.98551429350466,
          25.756804293504665,
          38.964343365504654,
          25.735343365504665,
          38.943171973504654,
          25.714171973504666,
          38.922000581504655,
          25.658840581504663,
          38.89889754150465,
          52.140052741504654,
          38.88223274150466,
          52.11655389350466,
          38.86101889350466,
          52.09680270150466,
          38.86079770150466,
          52.075620101504654,
          52.075620101504654,
          52.075620101504654,
          52.075620101504654,
          65.27247130150465,
          52.054466301504654,
          65.25131750150466,
          52.03331250150465,
          65.20787442150466,
          52.007974421504656,
          65.18996942950466,
          51.985939429504654,
          65.16264291750466,
          51.96311291750466,
          38.74310291750466,
          51.938875845504654,
          38.718270845504655,
          51.91443314950465,
          65.09031794950465,
          51.89431294950466,
          38.694307949504655,
          51.873187949504654,
          38.67400924950466,
          51.855989281504655,
          38.651204281504654,
          51.83485663350466,
          38.637856633504654,
          51.81673164150465,
          38.60254164150466,
          51.79319776950466,
          38.581397769504655,
          51.77046644150466,
          38.567391441504654,
          51.74933652950465,
          38.54691652950466,
          51.730707758944654,
          38.51918275894466,
          51.70825143094466,
          38.501826430944654,
          51.688688638944654,
          38.474688638944656,
          51.66754124694466,
          38.46853624694466,
          51.64541944694466,
          38.447414446944656,
          51.624297646944655,
          38.460747646944654,
          51.601718398944655,
          38.41264339894465,
          51.58305696694465,
          38.39105696694465,
          51.561944774944656,
          38.38593977494465,
          51.54085817494465,
          38.364853174944656,
          51.519771574944656,
          64.67060152694465,
          51.498066526944655,
          38.32156652694466,
          51.476979134944656,
          38.306334134944656,
          51.455267126944655,
          38.29125712694466,
          51.43467395894466,
          64.57766147894466,
          51.41365647894466,
          38.25064147894466,
          51.391370618144656,
          38.230370618144654,
          51.370308026144656,
          38.20741802614466,
          51.347904554144655,
          64.49882436214466,
          51.326824362144656,
          64.47575236214466,
          51.30574736214466,
          64.45966237014466,
          51.28466237014466,
          64.42859837014466,
          51.263593370144655,
          64.40752937014466,
          51.24234797014466,
          64.39026758614466,
          51.22127258614466,
          64.36919220214466,
          51.20019720214466,
          64.34911022614466,
          51.177110226144656,
          38.004610226144656,
          51.160022834144655,
          37.999922834144655,
          51.14285544214466,
          37.98242044214466,
          51.12036604214465,
          37.96436104214465,
          51.09879726614466,
          64.23245473814465,
          51.07774473814466,
          37.91329473814466,
          51.05922254614465,
          37.888222546144654,
          51.03814395414466,
          51.03814395414466,
          51.03814395414466,
          38.208148954144654,
          51.01763593014466,
          38.187135930144656,
          50.997102138144655
         ],
         "yaxis": "y"
        }
       ],
       "layout": {
        "legend": {
         "tracegroupgap": 0
        },
        "template": {
         "data": {
          "bar": [
           {
            "error_x": {
             "color": "#2a3f5f"
            },
            "error_y": {
             "color": "#2a3f5f"
            },
            "marker": {
             "line": {
              "color": "#E5ECF6",
              "width": 0.5
             },
             "pattern": {
              "fillmode": "overlay",
              "size": 10,
              "solidity": 0.2
             }
            },
            "type": "bar"
           }
          ],
          "barpolar": [
           {
            "marker": {
             "line": {
              "color": "#E5ECF6",
              "width": 0.5
             },
             "pattern": {
              "fillmode": "overlay",
              "size": 10,
              "solidity": 0.2
             }
            },
            "type": "barpolar"
           }
          ],
          "carpet": [
           {
            "aaxis": {
             "endlinecolor": "#2a3f5f",
             "gridcolor": "white",
             "linecolor": "white",
             "minorgridcolor": "white",
             "startlinecolor": "#2a3f5f"
            },
            "baxis": {
             "endlinecolor": "#2a3f5f",
             "gridcolor": "white",
             "linecolor": "white",
             "minorgridcolor": "white",
             "startlinecolor": "#2a3f5f"
            },
            "type": "carpet"
           }
          ],
          "choropleth": [
           {
            "colorbar": {
             "outlinewidth": 0,
             "ticks": ""
            },
            "type": "choropleth"
           }
          ],
          "contour": [
           {
            "colorbar": {
             "outlinewidth": 0,
             "ticks": ""
            },
            "colorscale": [
             [
              0,
              "#0d0887"
             ],
             [
              0.1111111111111111,
              "#46039f"
             ],
             [
              0.2222222222222222,
              "#7201a8"
             ],
             [
              0.3333333333333333,
              "#9c179e"
             ],
             [
              0.4444444444444444,
              "#bd3786"
             ],
             [
              0.5555555555555556,
              "#d8576b"
             ],
             [
              0.6666666666666666,
              "#ed7953"
             ],
             [
              0.7777777777777778,
              "#fb9f3a"
             ],
             [
              0.8888888888888888,
              "#fdca26"
             ],
             [
              1,
              "#f0f921"
             ]
            ],
            "type": "contour"
           }
          ],
          "contourcarpet": [
           {
            "colorbar": {
             "outlinewidth": 0,
             "ticks": ""
            },
            "type": "contourcarpet"
           }
          ],
          "heatmap": [
           {
            "colorbar": {
             "outlinewidth": 0,
             "ticks": ""
            },
            "colorscale": [
             [
              0,
              "#0d0887"
             ],
             [
              0.1111111111111111,
              "#46039f"
             ],
             [
              0.2222222222222222,
              "#7201a8"
             ],
             [
              0.3333333333333333,
              "#9c179e"
             ],
             [
              0.4444444444444444,
              "#bd3786"
             ],
             [
              0.5555555555555556,
              "#d8576b"
             ],
             [
              0.6666666666666666,
              "#ed7953"
             ],
             [
              0.7777777777777778,
              "#fb9f3a"
             ],
             [
              0.8888888888888888,
              "#fdca26"
             ],
             [
              1,
              "#f0f921"
             ]
            ],
            "type": "heatmap"
           }
          ],
          "heatmapgl": [
           {
            "colorbar": {
             "outlinewidth": 0,
             "ticks": ""
            },
            "colorscale": [
             [
              0,
              "#0d0887"
             ],
             [
              0.1111111111111111,
              "#46039f"
             ],
             [
              0.2222222222222222,
              "#7201a8"
             ],
             [
              0.3333333333333333,
              "#9c179e"
             ],
             [
              0.4444444444444444,
              "#bd3786"
             ],
             [
              0.5555555555555556,
              "#d8576b"
             ],
             [
              0.6666666666666666,
              "#ed7953"
             ],
             [
              0.7777777777777778,
              "#fb9f3a"
             ],
             [
              0.8888888888888888,
              "#fdca26"
             ],
             [
              1,
              "#f0f921"
             ]
            ],
            "type": "heatmapgl"
           }
          ],
          "histogram": [
           {
            "marker": {
             "pattern": {
              "fillmode": "overlay",
              "size": 10,
              "solidity": 0.2
             }
            },
            "type": "histogram"
           }
          ],
          "histogram2d": [
           {
            "colorbar": {
             "outlinewidth": 0,
             "ticks": ""
            },
            "colorscale": [
             [
              0,
              "#0d0887"
             ],
             [
              0.1111111111111111,
              "#46039f"
             ],
             [
              0.2222222222222222,
              "#7201a8"
             ],
             [
              0.3333333333333333,
              "#9c179e"
             ],
             [
              0.4444444444444444,
              "#bd3786"
             ],
             [
              0.5555555555555556,
              "#d8576b"
             ],
             [
              0.6666666666666666,
              "#ed7953"
             ],
             [
              0.7777777777777778,
              "#fb9f3a"
             ],
             [
              0.8888888888888888,
              "#fdca26"
             ],
             [
              1,
              "#f0f921"
             ]
            ],
            "type": "histogram2d"
           }
          ],
          "histogram2dcontour": [
           {
            "colorbar": {
             "outlinewidth": 0,
             "ticks": ""
            },
            "colorscale": [
             [
              0,
              "#0d0887"
             ],
             [
              0.1111111111111111,
              "#46039f"
             ],
             [
              0.2222222222222222,
              "#7201a8"
             ],
             [
              0.3333333333333333,
              "#9c179e"
             ],
             [
              0.4444444444444444,
              "#bd3786"
             ],
             [
              0.5555555555555556,
              "#d8576b"
             ],
             [
              0.6666666666666666,
              "#ed7953"
             ],
             [
              0.7777777777777778,
              "#fb9f3a"
             ],
             [
              0.8888888888888888,
              "#fdca26"
             ],
             [
              1,
              "#f0f921"
             ]
            ],
            "type": "histogram2dcontour"
           }
          ],
          "mesh3d": [
           {
            "colorbar": {
             "outlinewidth": 0,
             "ticks": ""
            },
            "type": "mesh3d"
           }
          ],
          "parcoords": [
           {
            "line": {
             "colorbar": {
              "outlinewidth": 0,
              "ticks": ""
             }
            },
            "type": "parcoords"
           }
          ],
          "pie": [
           {
            "automargin": true,
            "type": "pie"
           }
          ],
          "scatter": [
           {
            "fillpattern": {
             "fillmode": "overlay",
             "size": 10,
             "solidity": 0.2
            },
            "type": "scatter"
           }
          ],
          "scatter3d": [
           {
            "line": {
             "colorbar": {
              "outlinewidth": 0,
              "ticks": ""
             }
            },
            "marker": {
             "colorbar": {
              "outlinewidth": 0,
              "ticks": ""
             }
            },
            "type": "scatter3d"
           }
          ],
          "scattercarpet": [
           {
            "marker": {
             "colorbar": {
              "outlinewidth": 0,
              "ticks": ""
             }
            },
            "type": "scattercarpet"
           }
          ],
          "scattergeo": [
           {
            "marker": {
             "colorbar": {
              "outlinewidth": 0,
              "ticks": ""
             }
            },
            "type": "scattergeo"
           }
          ],
          "scattergl": [
           {
            "marker": {
             "colorbar": {
              "outlinewidth": 0,
              "ticks": ""
             }
            },
            "type": "scattergl"
           }
          ],
          "scattermapbox": [
           {
            "marker": {
             "colorbar": {
              "outlinewidth": 0,
              "ticks": ""
             }
            },
            "type": "scattermapbox"
           }
          ],
          "scatterpolar": [
           {
            "marker": {
             "colorbar": {
              "outlinewidth": 0,
              "ticks": ""
             }
            },
            "type": "scatterpolar"
           }
          ],
          "scatterpolargl": [
           {
            "marker": {
             "colorbar": {
              "outlinewidth": 0,
              "ticks": ""
             }
            },
            "type": "scatterpolargl"
           }
          ],
          "scatterternary": [
           {
            "marker": {
             "colorbar": {
              "outlinewidth": 0,
              "ticks": ""
             }
            },
            "type": "scatterternary"
           }
          ],
          "surface": [
           {
            "colorbar": {
             "outlinewidth": 0,
             "ticks": ""
            },
            "colorscale": [
             [
              0,
              "#0d0887"
             ],
             [
              0.1111111111111111,
              "#46039f"
             ],
             [
              0.2222222222222222,
              "#7201a8"
             ],
             [
              0.3333333333333333,
              "#9c179e"
             ],
             [
              0.4444444444444444,
              "#bd3786"
             ],
             [
              0.5555555555555556,
              "#d8576b"
             ],
             [
              0.6666666666666666,
              "#ed7953"
             ],
             [
              0.7777777777777778,
              "#fb9f3a"
             ],
             [
              0.8888888888888888,
              "#fdca26"
             ],
             [
              1,
              "#f0f921"
             ]
            ],
            "type": "surface"
           }
          ],
          "table": [
           {
            "cells": {
             "fill": {
              "color": "#EBF0F8"
             },
             "line": {
              "color": "white"
             }
            },
            "header": {
             "fill": {
              "color": "#C8D4E3"
             },
             "line": {
              "color": "white"
             }
            },
            "type": "table"
           }
          ]
         },
         "layout": {
          "annotationdefaults": {
           "arrowcolor": "#2a3f5f",
           "arrowhead": 0,
           "arrowwidth": 1
          },
          "autotypenumbers": "strict",
          "coloraxis": {
           "colorbar": {
            "outlinewidth": 0,
            "ticks": ""
           }
          },
          "colorscale": {
           "diverging": [
            [
             0,
             "#8e0152"
            ],
            [
             0.1,
             "#c51b7d"
            ],
            [
             0.2,
             "#de77ae"
            ],
            [
             0.3,
             "#f1b6da"
            ],
            [
             0.4,
             "#fde0ef"
            ],
            [
             0.5,
             "#f7f7f7"
            ],
            [
             0.6,
             "#e6f5d0"
            ],
            [
             0.7,
             "#b8e186"
            ],
            [
             0.8,
             "#7fbc41"
            ],
            [
             0.9,
             "#4d9221"
            ],
            [
             1,
             "#276419"
            ]
           ],
           "sequential": [
            [
             0,
             "#0d0887"
            ],
            [
             0.1111111111111111,
             "#46039f"
            ],
            [
             0.2222222222222222,
             "#7201a8"
            ],
            [
             0.3333333333333333,
             "#9c179e"
            ],
            [
             0.4444444444444444,
             "#bd3786"
            ],
            [
             0.5555555555555556,
             "#d8576b"
            ],
            [
             0.6666666666666666,
             "#ed7953"
            ],
            [
             0.7777777777777778,
             "#fb9f3a"
            ],
            [
             0.8888888888888888,
             "#fdca26"
            ],
            [
             1,
             "#f0f921"
            ]
           ],
           "sequentialminus": [
            [
             0,
             "#0d0887"
            ],
            [
             0.1111111111111111,
             "#46039f"
            ],
            [
             0.2222222222222222,
             "#7201a8"
            ],
            [
             0.3333333333333333,
             "#9c179e"
            ],
            [
             0.4444444444444444,
             "#bd3786"
            ],
            [
             0.5555555555555556,
             "#d8576b"
            ],
            [
             0.6666666666666666,
             "#ed7953"
            ],
            [
             0.7777777777777778,
             "#fb9f3a"
            ],
            [
             0.8888888888888888,
             "#fdca26"
            ],
            [
             1,
             "#f0f921"
            ]
           ]
          },
          "colorway": [
           "#636efa",
           "#EF553B",
           "#00cc96",
           "#ab63fa",
           "#FFA15A",
           "#19d3f3",
           "#FF6692",
           "#B6E880",
           "#FF97FF",
           "#FECB52"
          ],
          "font": {
           "color": "#2a3f5f"
          },
          "geo": {
           "bgcolor": "white",
           "lakecolor": "white",
           "landcolor": "#E5ECF6",
           "showlakes": true,
           "showland": true,
           "subunitcolor": "white"
          },
          "hoverlabel": {
           "align": "left"
          },
          "hovermode": "closest",
          "mapbox": {
           "style": "light"
          },
          "paper_bgcolor": "white",
          "plot_bgcolor": "#E5ECF6",
          "polar": {
           "angularaxis": {
            "gridcolor": "white",
            "linecolor": "white",
            "ticks": ""
           },
           "bgcolor": "#E5ECF6",
           "radialaxis": {
            "gridcolor": "white",
            "linecolor": "white",
            "ticks": ""
           }
          },
          "scene": {
           "xaxis": {
            "backgroundcolor": "#E5ECF6",
            "gridcolor": "white",
            "gridwidth": 2,
            "linecolor": "white",
            "showbackground": true,
            "ticks": "",
            "zerolinecolor": "white"
           },
           "yaxis": {
            "backgroundcolor": "#E5ECF6",
            "gridcolor": "white",
            "gridwidth": 2,
            "linecolor": "white",
            "showbackground": true,
            "ticks": "",
            "zerolinecolor": "white"
           },
           "zaxis": {
            "backgroundcolor": "#E5ECF6",
            "gridcolor": "white",
            "gridwidth": 2,
            "linecolor": "white",
            "showbackground": true,
            "ticks": "",
            "zerolinecolor": "white"
           }
          },
          "shapedefaults": {
           "line": {
            "color": "#2a3f5f"
           }
          },
          "ternary": {
           "aaxis": {
            "gridcolor": "white",
            "linecolor": "white",
            "ticks": ""
           },
           "baxis": {
            "gridcolor": "white",
            "linecolor": "white",
            "ticks": ""
           },
           "bgcolor": "#E5ECF6",
           "caxis": {
            "gridcolor": "white",
            "linecolor": "white",
            "ticks": ""
           }
          },
          "title": {
           "x": 0.05
          },
          "xaxis": {
           "automargin": true,
           "gridcolor": "white",
           "linecolor": "white",
           "ticks": "",
           "title": {
            "standoff": 15
           },
           "zerolinecolor": "white",
           "zerolinewidth": 2
          },
          "yaxis": {
           "automargin": true,
           "gridcolor": "white",
           "linecolor": "white",
           "ticks": "",
           "title": {
            "standoff": 15
           },
           "zerolinecolor": "white",
           "zerolinewidth": 2
          }
         }
        },
        "title": {
         "text": "SimpleKerasStrategy USDT balance"
        },
        "xaxis": {
         "anchor": "y",
         "domain": [
          0,
          1
         ],
         "title": {
          "text": "datetime"
         }
        },
        "yaxis": {
         "anchor": "x",
         "domain": [
          0,
          1
         ],
         "title": {
          "text": "balance"
         }
        }
       }
      },
      "text/html": [
       "<div>                            <div id=\"05fcfb28-cbca-4ca9-9e99-bbe4a6a6b330\" class=\"plotly-graph-div\" style=\"height:525px; width:100%;\"></div>            <script type=\"text/javascript\">                require([\"plotly\"], function(Plotly) {                    window.PLOTLYENV=window.PLOTLYENV || {};                                    if (document.getElementById(\"05fcfb28-cbca-4ca9-9e99-bbe4a6a6b330\")) {                    Plotly.newPlot(                        \"05fcfb28-cbca-4ca9-9e99-bbe4a6a6b330\",                        [{\"hovertemplate\":\"datetime=%{x}<br>balance=%{y}<extra></extra>\",\"legendgroup\":\"\",\"line\":{\"color\":\"#636efa\",\"dash\":\"solid\"},\"marker\":{\"symbol\":\"circle\"},\"mode\":\"lines+markers\",\"name\":\"\",\"orientation\":\"v\",\"showlegend\":false,\"x\":[\"2023-06-09T20:50:28.469291\",\"2023-06-09T21:37:34.240565\",\"2023-06-09T22:02:58.734038\",\"2023-06-09T22:02:59.842512\",\"2023-06-09T22:20:37.090345\",\"2023-06-09T22:20:39.299435\",\"2023-06-09T22:40:01.999022\",\"2023-06-09T22:40:11.995412\",\"2023-06-09T22:40:14.724377\",\"2023-06-09T22:40:27.445147\",\"2023-06-09T22:40:28.302848\",\"2023-06-09T22:40:42.372155\",\"2023-06-09T22:44:04.640877\",\"2023-06-09T22:44:21.870568\",\"2023-06-09T23:16:58.733280\",\"2023-06-09T23:21:19.603250\",\"2023-06-09T23:21:31.026261\",\"2023-06-09T23:21:31.859495\",\"2023-06-09T23:21:34.962275\",\"2023-06-09T23:21:41.934186\",\"2023-06-09T23:21:57.691196\",\"2023-06-09T23:23:40.372872\",\"2023-06-09T23:34:08.604187\",\"2023-06-09T23:34:09.736557\",\"2023-06-09T23:35:13.119032\",\"2023-06-09T23:35:14.251167\",\"2023-06-09T23:35:23.193785\",\"2023-06-09T23:35:24.319296\",\"2023-06-09T23:35:33.225835\",\"2023-06-09T23:35:34.405222\",\"2023-06-09T23:52:58.504704\",\"2023-06-09T23:52:59.469134\",\"2023-06-10T00:20:14.073245\",\"2023-06-10T00:20:18.274636\",\"2023-06-10T00:34:47.209750\",\"2023-06-10T00:35:01.077487\",\"2023-06-10T01:07:50.421010\",\"2023-06-10T01:07:51.544622\",\"2023-06-10T01:08:00.444212\",\"2023-06-10T01:08:05.626307\",\"2023-06-10T01:08:16.533207\",\"2023-06-10T01:08:28.987392\",\"2023-06-10T01:08:30.605467\",\"2023-06-10T01:08:35.365639\",\"2023-06-10T01:12:01.615897\",\"2023-06-10T01:12:03.757356\",\"2023-06-10T01:12:04.460643\",\"2023-06-10T01:12:23.243365\",\"2023-06-10T01:12:29.319079\",\"2023-06-10T01:12:33.557991\",\"2023-06-10T01:12:45.273098\",\"2023-06-10T01:19:36.731872\",\"2023-06-10T01:19:37.858130\",\"2023-06-10T01:36:22.227983\",\"2023-06-10T01:36:23.216653\",\"2023-06-10T01:38:13.522846\",\"2023-06-10T01:47:07.485123\",\"2023-06-10T01:47:12.658405\",\"2023-06-10T01:47:17.791285\",\"2023-06-10T01:47:20.927482\",\"2023-06-10T01:50:51.727667\",\"2023-06-10T01:50:52.842476\",\"2023-06-10T01:51:07.102471\",\"2023-06-10T01:51:08.956121\",\"2023-06-10T01:51:20.071801\",\"2023-06-10T01:51:21.204209\",\"2023-06-10T01:54:01.181813\",\"2023-06-10T01:54:07.418270\",\"2023-06-10T01:55:01.482319\",\"2023-06-10T01:55:08.290673\",\"2023-06-10T02:00:03.566548\",\"2023-06-10T02:00:07.126951\",\"2023-06-10T02:01:52.927707\",\"2023-06-10T02:01:54.054589\",\"2023-06-10T02:02:03.063474\",\"2023-06-10T02:02:04.182960\",\"2023-06-10T02:02:13.123082\",\"2023-06-10T02:02:14.276392\",\"2023-06-10T02:10:38.777080\",\"2023-06-10T02:10:58.996892\",\"2023-06-10T02:15:29.700976\",\"2023-06-10T02:15:40.940744\",\"2023-06-10T02:15:41.609248\",\"2023-06-10T02:16:00.460752\",\"2023-06-10T02:22:17.201907\",\"2023-06-10T02:22:21.394219\",\"2023-06-10T02:22:27.305878\",\"2023-06-10T02:22:32.886982\",\"2023-06-10T02:24:37.541984\",\"2023-06-10T02:24:45.645097\",\"2023-06-10T02:27:21.238207\",\"2023-06-10T02:27:59.087980\",\"2023-06-10T02:29:27.404502\",\"2023-06-10T02:29:31.422948\",\"2023-06-10T02:32:31.149674\",\"2023-06-10T02:32:38.170447\",\"2023-06-10T02:32:40.468360\",\"2023-06-10T02:32:42.525675\",\"2023-06-10T02:44:39.351439\",\"2023-06-10T02:44:42.661708\",\"2023-06-10T02:50:22.632679\",\"2023-06-10T02:50:29.998284\",\"2023-06-10T02:50:32.756008\",\"2023-06-10T02:50:36.552110\",\"2023-06-10T03:21:47.600201\",\"2023-06-10T03:21:51.274398\",\"2023-06-10T03:21:57.742024\",\"2023-06-10T03:22:00.824914\",\"2023-06-10T03:23:11.956631\",\"2023-06-10T03:23:26.541780\",\"2023-06-10T03:27:23.051329\",\"2023-06-10T03:27:26.679804\",\"2023-06-10T03:28:25.380467\",\"2023-06-10T03:28:26.974311\",\"2023-06-10T03:28:47.173381\",\"2023-06-10T03:28:52.079490\",\"2023-06-10T03:29:33.092400\",\"2023-06-10T03:29:42.155550\",\"2023-06-10T03:36:43.889301\",\"2023-06-10T03:36:44.983346\",\"2023-06-10T03:37:18.910645\",\"2023-06-10T03:37:20.015171\",\"2023-06-10T03:37:29.663371\",\"2023-06-10T03:37:30.773196\",\"2023-06-10T03:42:22.770607\",\"2023-06-10T03:42:23.881561\",\"2023-06-10T03:43:30.296521\",\"2023-06-10T03:43:31.396063\",\"2023-06-10T03:43:55.453804\",\"2023-06-10T03:43:56.554993\",\"2023-06-10T03:45:40.618585\",\"2023-06-10T03:45:41.723263\",\"2023-06-10T03:45:52.074579\",\"2023-06-10T03:45:53.178159\",\"2023-06-10T03:46:35.868481\",\"2023-06-10T03:46:37.003604\",\"2023-06-10T03:46:55.979310\",\"2023-06-10T03:46:57.076337\",\"2023-06-10T03:48:26.321877\",\"2023-06-10T03:48:29.226535\",\"2023-06-10T03:48:36.328164\",\"2023-06-10T03:48:43.716146\",\"2023-06-10T03:58:41.185150\",\"2023-06-10T03:58:47.394659\",\"2023-06-10T04:00:00.544433\",\"2023-06-10T04:00:02.934075\",\"2023-06-10T04:00:10.665023\",\"2023-06-10T04:00:11.817967\",\"2023-06-10T04:02:07.622805\",\"2023-06-10T04:02:11.243838\",\"2023-06-10T04:03:53.896037\",\"2023-06-10T04:04:22.727419\",\"2023-06-10T04:05:05.741755\",\"2023-06-10T04:05:15.849384\",\"2023-06-10T09:10:01.484413\",\"2023-06-10T09:11:05.583977\",\"2023-06-10T09:12:52.565902\",\"2023-06-10T09:13:17.573731\",\"2023-06-10T09:16:34.446078\",\"2023-06-10T09:16:35.540642\"],\"xaxis\":\"x\",\"y\":[39.32639142950465,39.32639142950465,26.083056429504666,39.30519710150465,52.51703927750466,39.284019277504655,26.050339277504666,39.262840397504654,26.029160397504665,39.24164654150466,26.007981541504662,39.22046768550466,52.43006346150466,39.19929346150466,39.19929346150466,52.40812046950466,39.178120469504655,52.386947477504656,39.15694747750466,25.926947477504665,39.135774485504655,39.135774485504655,52.34706754150466,39.115012541504655,25.884857541504665,39.09383930150466,25.864589301504665,39.072667509504655,25.843417509504665,39.05149571750466,39.05149571750466,39.05149571750466,52.26665258150466,39.03031258150465,25.787677581504663,39.006683277504656,25.779188277504662,38.98551429350466,25.756804293504665,38.964343365504654,25.735343365504665,38.943171973504654,25.714171973504666,38.922000581504655,25.658840581504663,38.89889754150465,52.140052741504654,38.88223274150466,52.11655389350466,38.86101889350466,52.09680270150466,38.86079770150466,52.075620101504654,52.075620101504654,52.075620101504654,52.075620101504654,65.27247130150465,52.054466301504654,65.25131750150466,52.03331250150465,65.20787442150466,52.007974421504656,65.18996942950466,51.985939429504654,65.16264291750466,51.96311291750466,38.74310291750466,51.938875845504654,38.718270845504655,51.91443314950465,65.09031794950465,51.89431294950466,38.694307949504655,51.873187949504654,38.67400924950466,51.855989281504655,38.651204281504654,51.83485663350466,38.637856633504654,51.81673164150465,38.60254164150466,51.79319776950466,38.581397769504655,51.77046644150466,38.567391441504654,51.74933652950465,38.54691652950466,51.730707758944654,38.51918275894466,51.70825143094466,38.501826430944654,51.688688638944654,38.474688638944656,51.66754124694466,38.46853624694466,51.64541944694466,38.447414446944656,51.624297646944655,38.460747646944654,51.601718398944655,38.41264339894465,51.58305696694465,38.39105696694465,51.561944774944656,38.38593977494465,51.54085817494465,38.364853174944656,51.519771574944656,64.67060152694465,51.498066526944655,38.32156652694466,51.476979134944656,38.306334134944656,51.455267126944655,38.29125712694466,51.43467395894466,64.57766147894466,51.41365647894466,38.25064147894466,51.391370618144656,38.230370618144654,51.370308026144656,38.20741802614466,51.347904554144655,64.49882436214466,51.326824362144656,64.47575236214466,51.30574736214466,64.45966237014466,51.28466237014466,64.42859837014466,51.263593370144655,64.40752937014466,51.24234797014466,64.39026758614466,51.22127258614466,64.36919220214466,51.20019720214466,64.34911022614466,51.177110226144656,38.004610226144656,51.160022834144655,37.999922834144655,51.14285544214466,37.98242044214466,51.12036604214465,37.96436104214465,51.09879726614466,64.23245473814465,51.07774473814466,37.91329473814466,51.05922254614465,37.888222546144654,51.03814395414466,51.03814395414466,51.03814395414466,38.208148954144654,51.01763593014466,38.187135930144656,50.997102138144655],\"yaxis\":\"y\",\"type\":\"scatter\"}],                        {\"template\":{\"data\":{\"histogram2dcontour\":[{\"type\":\"histogram2dcontour\",\"colorbar\":{\"outlinewidth\":0,\"ticks\":\"\"},\"colorscale\":[[0.0,\"#0d0887\"],[0.1111111111111111,\"#46039f\"],[0.2222222222222222,\"#7201a8\"],[0.3333333333333333,\"#9c179e\"],[0.4444444444444444,\"#bd3786\"],[0.5555555555555556,\"#d8576b\"],[0.6666666666666666,\"#ed7953\"],[0.7777777777777778,\"#fb9f3a\"],[0.8888888888888888,\"#fdca26\"],[1.0,\"#f0f921\"]]}],\"choropleth\":[{\"type\":\"choropleth\",\"colorbar\":{\"outlinewidth\":0,\"ticks\":\"\"}}],\"histogram2d\":[{\"type\":\"histogram2d\",\"colorbar\":{\"outlinewidth\":0,\"ticks\":\"\"},\"colorscale\":[[0.0,\"#0d0887\"],[0.1111111111111111,\"#46039f\"],[0.2222222222222222,\"#7201a8\"],[0.3333333333333333,\"#9c179e\"],[0.4444444444444444,\"#bd3786\"],[0.5555555555555556,\"#d8576b\"],[0.6666666666666666,\"#ed7953\"],[0.7777777777777778,\"#fb9f3a\"],[0.8888888888888888,\"#fdca26\"],[1.0,\"#f0f921\"]]}],\"heatmap\":[{\"type\":\"heatmap\",\"colorbar\":{\"outlinewidth\":0,\"ticks\":\"\"},\"colorscale\":[[0.0,\"#0d0887\"],[0.1111111111111111,\"#46039f\"],[0.2222222222222222,\"#7201a8\"],[0.3333333333333333,\"#9c179e\"],[0.4444444444444444,\"#bd3786\"],[0.5555555555555556,\"#d8576b\"],[0.6666666666666666,\"#ed7953\"],[0.7777777777777778,\"#fb9f3a\"],[0.8888888888888888,\"#fdca26\"],[1.0,\"#f0f921\"]]}],\"heatmapgl\":[{\"type\":\"heatmapgl\",\"colorbar\":{\"outlinewidth\":0,\"ticks\":\"\"},\"colorscale\":[[0.0,\"#0d0887\"],[0.1111111111111111,\"#46039f\"],[0.2222222222222222,\"#7201a8\"],[0.3333333333333333,\"#9c179e\"],[0.4444444444444444,\"#bd3786\"],[0.5555555555555556,\"#d8576b\"],[0.6666666666666666,\"#ed7953\"],[0.7777777777777778,\"#fb9f3a\"],[0.8888888888888888,\"#fdca26\"],[1.0,\"#f0f921\"]]}],\"contourcarpet\":[{\"type\":\"contourcarpet\",\"colorbar\":{\"outlinewidth\":0,\"ticks\":\"\"}}],\"contour\":[{\"type\":\"contour\",\"colorbar\":{\"outlinewidth\":0,\"ticks\":\"\"},\"colorscale\":[[0.0,\"#0d0887\"],[0.1111111111111111,\"#46039f\"],[0.2222222222222222,\"#7201a8\"],[0.3333333333333333,\"#9c179e\"],[0.4444444444444444,\"#bd3786\"],[0.5555555555555556,\"#d8576b\"],[0.6666666666666666,\"#ed7953\"],[0.7777777777777778,\"#fb9f3a\"],[0.8888888888888888,\"#fdca26\"],[1.0,\"#f0f921\"]]}],\"surface\":[{\"type\":\"surface\",\"colorbar\":{\"outlinewidth\":0,\"ticks\":\"\"},\"colorscale\":[[0.0,\"#0d0887\"],[0.1111111111111111,\"#46039f\"],[0.2222222222222222,\"#7201a8\"],[0.3333333333333333,\"#9c179e\"],[0.4444444444444444,\"#bd3786\"],[0.5555555555555556,\"#d8576b\"],[0.6666666666666666,\"#ed7953\"],[0.7777777777777778,\"#fb9f3a\"],[0.8888888888888888,\"#fdca26\"],[1.0,\"#f0f921\"]]}],\"mesh3d\":[{\"type\":\"mesh3d\",\"colorbar\":{\"outlinewidth\":0,\"ticks\":\"\"}}],\"scatter\":[{\"fillpattern\":{\"fillmode\":\"overlay\",\"size\":10,\"solidity\":0.2},\"type\":\"scatter\"}],\"parcoords\":[{\"type\":\"parcoords\",\"line\":{\"colorbar\":{\"outlinewidth\":0,\"ticks\":\"\"}}}],\"scatterpolargl\":[{\"type\":\"scatterpolargl\",\"marker\":{\"colorbar\":{\"outlinewidth\":0,\"ticks\":\"\"}}}],\"bar\":[{\"error_x\":{\"color\":\"#2a3f5f\"},\"error_y\":{\"color\":\"#2a3f5f\"},\"marker\":{\"line\":{\"color\":\"#E5ECF6\",\"width\":0.5},\"pattern\":{\"fillmode\":\"overlay\",\"size\":10,\"solidity\":0.2}},\"type\":\"bar\"}],\"scattergeo\":[{\"type\":\"scattergeo\",\"marker\":{\"colorbar\":{\"outlinewidth\":0,\"ticks\":\"\"}}}],\"scatterpolar\":[{\"type\":\"scatterpolar\",\"marker\":{\"colorbar\":{\"outlinewidth\":0,\"ticks\":\"\"}}}],\"histogram\":[{\"marker\":{\"pattern\":{\"fillmode\":\"overlay\",\"size\":10,\"solidity\":0.2}},\"type\":\"histogram\"}],\"scattergl\":[{\"type\":\"scattergl\",\"marker\":{\"colorbar\":{\"outlinewidth\":0,\"ticks\":\"\"}}}],\"scatter3d\":[{\"type\":\"scatter3d\",\"line\":{\"colorbar\":{\"outlinewidth\":0,\"ticks\":\"\"}},\"marker\":{\"colorbar\":{\"outlinewidth\":0,\"ticks\":\"\"}}}],\"scattermapbox\":[{\"type\":\"scattermapbox\",\"marker\":{\"colorbar\":{\"outlinewidth\":0,\"ticks\":\"\"}}}],\"scatterternary\":[{\"type\":\"scatterternary\",\"marker\":{\"colorbar\":{\"outlinewidth\":0,\"ticks\":\"\"}}}],\"scattercarpet\":[{\"type\":\"scattercarpet\",\"marker\":{\"colorbar\":{\"outlinewidth\":0,\"ticks\":\"\"}}}],\"carpet\":[{\"aaxis\":{\"endlinecolor\":\"#2a3f5f\",\"gridcolor\":\"white\",\"linecolor\":\"white\",\"minorgridcolor\":\"white\",\"startlinecolor\":\"#2a3f5f\"},\"baxis\":{\"endlinecolor\":\"#2a3f5f\",\"gridcolor\":\"white\",\"linecolor\":\"white\",\"minorgridcolor\":\"white\",\"startlinecolor\":\"#2a3f5f\"},\"type\":\"carpet\"}],\"table\":[{\"cells\":{\"fill\":{\"color\":\"#EBF0F8\"},\"line\":{\"color\":\"white\"}},\"header\":{\"fill\":{\"color\":\"#C8D4E3\"},\"line\":{\"color\":\"white\"}},\"type\":\"table\"}],\"barpolar\":[{\"marker\":{\"line\":{\"color\":\"#E5ECF6\",\"width\":0.5},\"pattern\":{\"fillmode\":\"overlay\",\"size\":10,\"solidity\":0.2}},\"type\":\"barpolar\"}],\"pie\":[{\"automargin\":true,\"type\":\"pie\"}]},\"layout\":{\"autotypenumbers\":\"strict\",\"colorway\":[\"#636efa\",\"#EF553B\",\"#00cc96\",\"#ab63fa\",\"#FFA15A\",\"#19d3f3\",\"#FF6692\",\"#B6E880\",\"#FF97FF\",\"#FECB52\"],\"font\":{\"color\":\"#2a3f5f\"},\"hovermode\":\"closest\",\"hoverlabel\":{\"align\":\"left\"},\"paper_bgcolor\":\"white\",\"plot_bgcolor\":\"#E5ECF6\",\"polar\":{\"bgcolor\":\"#E5ECF6\",\"angularaxis\":{\"gridcolor\":\"white\",\"linecolor\":\"white\",\"ticks\":\"\"},\"radialaxis\":{\"gridcolor\":\"white\",\"linecolor\":\"white\",\"ticks\":\"\"}},\"ternary\":{\"bgcolor\":\"#E5ECF6\",\"aaxis\":{\"gridcolor\":\"white\",\"linecolor\":\"white\",\"ticks\":\"\"},\"baxis\":{\"gridcolor\":\"white\",\"linecolor\":\"white\",\"ticks\":\"\"},\"caxis\":{\"gridcolor\":\"white\",\"linecolor\":\"white\",\"ticks\":\"\"}},\"coloraxis\":{\"colorbar\":{\"outlinewidth\":0,\"ticks\":\"\"}},\"colorscale\":{\"sequential\":[[0.0,\"#0d0887\"],[0.1111111111111111,\"#46039f\"],[0.2222222222222222,\"#7201a8\"],[0.3333333333333333,\"#9c179e\"],[0.4444444444444444,\"#bd3786\"],[0.5555555555555556,\"#d8576b\"],[0.6666666666666666,\"#ed7953\"],[0.7777777777777778,\"#fb9f3a\"],[0.8888888888888888,\"#fdca26\"],[1.0,\"#f0f921\"]],\"sequentialminus\":[[0.0,\"#0d0887\"],[0.1111111111111111,\"#46039f\"],[0.2222222222222222,\"#7201a8\"],[0.3333333333333333,\"#9c179e\"],[0.4444444444444444,\"#bd3786\"],[0.5555555555555556,\"#d8576b\"],[0.6666666666666666,\"#ed7953\"],[0.7777777777777778,\"#fb9f3a\"],[0.8888888888888888,\"#fdca26\"],[1.0,\"#f0f921\"]],\"diverging\":[[0,\"#8e0152\"],[0.1,\"#c51b7d\"],[0.2,\"#de77ae\"],[0.3,\"#f1b6da\"],[0.4,\"#fde0ef\"],[0.5,\"#f7f7f7\"],[0.6,\"#e6f5d0\"],[0.7,\"#b8e186\"],[0.8,\"#7fbc41\"],[0.9,\"#4d9221\"],[1,\"#276419\"]]},\"xaxis\":{\"gridcolor\":\"white\",\"linecolor\":\"white\",\"ticks\":\"\",\"title\":{\"standoff\":15},\"zerolinecolor\":\"white\",\"automargin\":true,\"zerolinewidth\":2},\"yaxis\":{\"gridcolor\":\"white\",\"linecolor\":\"white\",\"ticks\":\"\",\"title\":{\"standoff\":15},\"zerolinecolor\":\"white\",\"automargin\":true,\"zerolinewidth\":2},\"scene\":{\"xaxis\":{\"backgroundcolor\":\"#E5ECF6\",\"gridcolor\":\"white\",\"linecolor\":\"white\",\"showbackground\":true,\"ticks\":\"\",\"zerolinecolor\":\"white\",\"gridwidth\":2},\"yaxis\":{\"backgroundcolor\":\"#E5ECF6\",\"gridcolor\":\"white\",\"linecolor\":\"white\",\"showbackground\":true,\"ticks\":\"\",\"zerolinecolor\":\"white\",\"gridwidth\":2},\"zaxis\":{\"backgroundcolor\":\"#E5ECF6\",\"gridcolor\":\"white\",\"linecolor\":\"white\",\"showbackground\":true,\"ticks\":\"\",\"zerolinecolor\":\"white\",\"gridwidth\":2}},\"shapedefaults\":{\"line\":{\"color\":\"#2a3f5f\"}},\"annotationdefaults\":{\"arrowcolor\":\"#2a3f5f\",\"arrowhead\":0,\"arrowwidth\":1},\"geo\":{\"bgcolor\":\"white\",\"landcolor\":\"#E5ECF6\",\"subunitcolor\":\"white\",\"showland\":true,\"showlakes\":true,\"lakecolor\":\"white\"},\"title\":{\"x\":0.05},\"mapbox\":{\"style\":\"light\"}}},\"xaxis\":{\"anchor\":\"y\",\"domain\":[0.0,1.0],\"title\":{\"text\":\"datetime\"}},\"yaxis\":{\"anchor\":\"x\",\"domain\":[0.0,1.0],\"title\":{\"text\":\"balance\"}},\"legend\":{\"tracegroupgap\":0},\"title\":{\"text\":\"SimpleKerasStrategy USDT balance\"}},                        {\"responsive\": true}                    ).then(function(){\n",
       "                            \n",
       "var gd = document.getElementById('05fcfb28-cbca-4ca9-9e99-bbe4a6a6b330');\n",
       "var x = new MutationObserver(function (mutations, observer) {{\n",
       "        var display = window.getComputedStyle(gd).display;\n",
       "        if (!display || display === 'none') {{\n",
       "            console.log([gd, 'removed!']);\n",
       "            Plotly.purge(gd);\n",
       "            observer.disconnect();\n",
       "        }}\n",
       "}});\n",
       "\n",
       "// Listen for the removal of the full notebook cells\n",
       "var notebookContainer = gd.closest('#notebook-container');\n",
       "if (notebookContainer) {{\n",
       "    x.observe(notebookContainer, {childList: true});\n",
       "}}\n",
       "\n",
       "// Listen for the clearing of the current output cell\n",
       "var outputEl = gd.closest('.output');\n",
       "if (outputEl) {{\n",
       "    x.observe(outputEl, {childList: true});\n",
       "}}\n",
       "\n",
       "                        })                };                });            </script>        </div>"
      ]
     },
     "metadata": {},
     "output_type": "display_data"
    },
    {
     "data": {
      "application/vnd.plotly.v1+json": {
       "config": {
        "plotlyServerURL": "https://plot.ly"
       },
       "data": [
        {
         "hovertemplate": "datetime=%{x}<br>balance=%{y}<extra></extra>",
         "legendgroup": "",
         "line": {
          "color": "#636efa",
          "dash": "solid"
         },
         "marker": {
          "symbol": "circle"
         },
         "mode": "lines+markers",
         "name": "",
         "orientation": "v",
         "showlegend": false,
         "type": "scatter",
         "x": [
          "2023-06-09T20:50:28.469572",
          "2023-06-09T21:37:34.240923",
          "2023-06-09T22:02:58.734472",
          "2023-06-09T22:02:59.842193",
          "2023-06-09T22:20:37.090030",
          "2023-06-09T22:20:39.300908",
          "2023-06-09T22:40:01.999352",
          "2023-06-09T22:40:11.994802",
          "2023-06-09T22:40:14.724694",
          "2023-06-09T22:40:27.444848",
          "2023-06-09T22:40:28.303149",
          "2023-06-09T22:40:42.371664",
          "2023-06-09T22:44:04.640544",
          "2023-06-09T22:44:21.870837",
          "2023-06-09T23:16:58.733629",
          "2023-06-09T23:21:19.602887",
          "2023-06-09T23:21:31.026687",
          "2023-06-09T23:21:31.859153",
          "2023-06-09T23:21:34.962512",
          "2023-06-09T23:21:41.934387",
          "2023-06-09T23:21:57.690821",
          "2023-06-09T23:23:40.373205",
          "2023-06-09T23:34:08.603884",
          "2023-06-09T23:34:09.736776",
          "2023-06-09T23:35:13.119316",
          "2023-06-09T23:35:14.250874",
          "2023-06-09T23:35:23.194113",
          "2023-06-09T23:35:24.318994",
          "2023-06-09T23:35:33.226140",
          "2023-06-09T23:35:34.404905",
          "2023-06-09T23:52:58.505073",
          "2023-06-09T23:52:59.469633",
          "2023-06-10T00:20:14.072973",
          "2023-06-10T00:20:18.275043",
          "2023-06-10T00:34:47.210038",
          "2023-06-10T00:35:01.077191",
          "2023-06-10T01:07:50.421284",
          "2023-06-10T01:07:51.544413",
          "2023-06-10T01:08:00.444544",
          "2023-06-10T01:08:05.626042",
          "2023-06-10T01:08:16.533643",
          "2023-06-10T01:08:28.987038",
          "2023-06-10T01:08:30.605765",
          "2023-06-10T01:08:35.365265",
          "2023-06-10T01:12:01.616203",
          "2023-06-10T01:12:03.757017",
          "2023-06-10T01:12:04.460307",
          "2023-06-10T01:12:23.243658",
          "2023-06-10T01:12:29.318765",
          "2023-06-10T01:12:33.558286",
          "2023-06-10T01:12:45.272099",
          "2023-06-10T01:19:36.732204",
          "2023-06-10T01:19:37.857766",
          "2023-06-10T01:36:22.228219",
          "2023-06-10T01:36:23.216878",
          "2023-06-10T01:38:13.523074",
          "2023-06-10T01:47:07.484814",
          "2023-06-10T01:47:12.658747",
          "2023-06-10T01:47:17.791074",
          "2023-06-10T01:47:20.927807",
          "2023-06-10T01:50:51.727370",
          "2023-06-10T01:50:52.842921",
          "2023-06-10T01:51:07.102139",
          "2023-06-10T01:51:08.956358",
          "2023-06-10T01:51:20.071575",
          "2023-06-10T01:51:21.204500",
          "2023-06-10T01:54:01.182151",
          "2023-06-10T01:54:07.418019",
          "2023-06-10T01:55:01.482639",
          "2023-06-10T01:55:08.290359",
          "2023-06-10T02:00:03.566141",
          "2023-06-10T02:00:07.127252",
          "2023-06-10T02:01:52.928052",
          "2023-06-10T02:01:54.054186",
          "2023-06-10T02:02:03.063815",
          "2023-06-10T02:02:04.182652",
          "2023-06-10T02:02:13.123443",
          "2023-06-10T02:02:14.275929",
          "2023-06-10T02:10:38.777587",
          "2023-06-10T02:10:58.996398",
          "2023-06-10T02:15:29.701405",
          "2023-06-10T02:15:40.940545",
          "2023-06-10T02:15:41.609521",
          "2023-06-10T02:16:00.460394",
          "2023-06-10T02:22:17.202206",
          "2023-06-10T02:22:21.393776",
          "2023-06-10T02:22:27.306228",
          "2023-06-10T02:22:32.886655",
          "2023-06-10T02:24:37.542310",
          "2023-06-10T02:24:45.644722",
          "2023-06-10T02:27:21.238537",
          "2023-06-10T02:27:59.087650",
          "2023-06-10T02:29:27.404760",
          "2023-06-10T02:29:31.422670",
          "2023-06-10T02:32:31.149904",
          "2023-06-10T02:32:38.168938",
          "2023-06-10T02:32:40.468561",
          "2023-06-10T02:32:42.524971",
          "2023-06-10T02:44:39.351660",
          "2023-06-10T02:44:42.661453",
          "2023-06-10T02:50:22.632890",
          "2023-06-10T02:50:29.998028",
          "2023-06-10T02:50:32.756212",
          "2023-06-10T02:50:36.551755",
          "2023-06-10T03:21:47.600429",
          "2023-06-10T03:21:51.274065",
          "2023-06-10T03:21:57.742264",
          "2023-06-10T03:22:00.824671",
          "2023-06-10T03:23:11.956323",
          "2023-06-10T03:23:26.542004",
          "2023-06-10T03:27:23.051605",
          "2023-06-10T03:27:26.677282",
          "2023-06-10T03:28:25.380749",
          "2023-06-10T03:28:26.974006",
          "2023-06-10T03:28:47.173680",
          "2023-06-10T03:28:52.079254",
          "2023-06-10T03:29:33.092151",
          "2023-06-10T03:29:42.155861",
          "2023-06-10T03:36:43.889593",
          "2023-06-10T03:36:44.983076",
          "2023-06-10T03:37:18.910919",
          "2023-06-10T03:37:20.014966",
          "2023-06-10T03:37:29.663598",
          "2023-06-10T03:37:30.772924",
          "2023-06-10T03:42:22.770289",
          "2023-06-10T03:42:23.881865",
          "2023-06-10T03:43:30.296192",
          "2023-06-10T03:43:31.396416",
          "2023-06-10T03:43:55.453499",
          "2023-06-10T03:43:56.555197",
          "2023-06-10T03:45:40.618381",
          "2023-06-10T03:45:41.723472",
          "2023-06-10T03:45:52.074304",
          "2023-06-10T03:45:53.178340",
          "2023-06-10T03:46:35.868097",
          "2023-06-10T03:46:37.003871",
          "2023-06-10T03:46:55.978971",
          "2023-06-10T03:46:57.076630",
          "2023-06-10T03:48:26.321479",
          "2023-06-10T03:48:29.226823",
          "2023-06-10T03:48:36.328534",
          "2023-06-10T03:48:43.715829",
          "2023-06-10T03:58:41.185353",
          "2023-06-10T03:58:47.394441",
          "2023-06-10T04:00:00.545226",
          "2023-06-10T04:00:02.933743",
          "2023-06-10T04:00:10.665283",
          "2023-06-10T04:00:11.817662",
          "2023-06-10T04:02:07.622602",
          "2023-06-10T04:02:11.244126",
          "2023-06-10T04:03:53.896249",
          "2023-06-10T04:04:22.727140",
          "2023-06-10T04:05:05.742068",
          "2023-06-10T04:05:15.849039",
          "2023-06-10T09:10:01.484641",
          "2023-06-10T09:11:05.584245",
          "2023-06-10T09:12:52.566098",
          "2023-06-10T09:13:17.573376",
          "2023-06-10T09:16:34.446375",
          "2023-06-10T09:16:35.540354"
         ],
         "xaxis": "x",
         "y": [
          0.0016318944871009,
          0.0016318944871009,
          0.0021310944871009,
          0.0016310944871009,
          0.0011310944871009,
          0.0016302944871009,
          0.0021294944871009,
          0.0016294944871009,
          0.0021286944871009,
          0.0016286944871009,
          0.0021278944871009,
          0.0016278944871009,
          0.0011278944871009,
          0.0016270944871009,
          0.0016270944871009,
          0.0011270944871009,
          0.0016262944871009,
          0.0011262944871009,
          0.0016254944871009,
          0.0021246944871009,
          0.0016246944871009,
          0.0016246944871009,
          0.0011246944871009,
          0.0016238944871009,
          0.0021230944871009,
          0.0016230944871009,
          0.0021222944871009,
          0.0016222944871009,
          0.0021214944871009,
          0.0016214944871009,
          0.0016214944871009,
          0.0016214944871009,
          0.0011214944871009,
          0.0016206944871009,
          0.0021198944871009,
          0.0016198944871009,
          0.0021190944871009,
          0.0016190944871009,
          0.0021182944871009,
          0.0016182944871009,
          0.0021174944871009,
          0.0016174944871009,
          0.0021166944871009,
          0.0016166944871009,
          0.0021158944871009,
          0.0016158944871009,
          0.0011158944871009,
          0.0016150944871009,
          0.0011150944871009,
          0.0016142944871009,
          0.0011142944871009,
          0.0016134944871009,
          0.0011134944871009,
          0.0011134944871009,
          0.0011134944871009,
          0.0011134944871009,
          0.0006134944871009,
          0.0011126944871009,
          0.0006126944871009,
          0.0011118944871009,
          0.0006118944871009,
          0.0011110944871009,
          0.0006110944871009,
          0.0011102944871009,
          0.0006102944871009,
          0.0011094944871009,
          0.0016086944871009,
          0.0011086944871009,
          0.0016078944871009,
          0.0011078944871009,
          0.0006078944871009,
          0.0011070944871009,
          0.0016062944871009,
          0.0011062944871009,
          0.0016054944871009,
          0.0011054944871009,
          0.0016046944871009,
          0.0011046944871009,
          0.0016038944871009,
          0.0011038944871009,
          0.0016030944871009,
          0.0011030944871009,
          0.0016022944871009,
          0.0011022944871009,
          0.0016014944871009,
          0.0011014944871009,
          0.0016006944871009,
          0.0011006944871009,
          0.0015998944871009,
          0.0010998944871009,
          0.0015990944871009,
          0.0010990944871009,
          0.0015982944871009,
          0.0010982944871009,
          0.0015974944871009,
          0.0010974944871009,
          0.0015966944871009,
          0.0010966944871009,
          0.0015958944871009,
          0.0010958944871009,
          0.0015950944871009,
          0.0010950944871009,
          0.0015942944871009,
          0.0010942944871009,
          0.0015934944871009,
          0.0010934944871009,
          0.0015926944871009,
          0.0010926944871009,
          0.0005926944871009,
          0.0010918944871009,
          0.0015910944871009,
          0.0010910944871009,
          0.0015902944871009,
          0.0010902944871009,
          0.0015894944871009,
          0.0010894944871009,
          0.0005894944871009,
          0.0010886944871009,
          0.0015878944871009,
          0.0010878944871009,
          0.0015870944871009,
          0.0010870944871009,
          0.0015862944871009,
          0.0010862944871009,
          0.0005862944871009,
          0.0010854944871009,
          0.0005854944871009,
          0.0010846944871009,
          0.0005846944871009,
          0.0010838944871009,
          0.0005838944871009,
          0.0010830944871009,
          0.0005830944871009,
          0.0010822944871009,
          0.0005822944871009,
          0.0010814944871009,
          0.0005814944871009,
          0.0010806944871009,
          0.0005806944871009,
          0.0010798944871009,
          0.0015790944871009,
          0.0010790944871009,
          0.0015782944871009,
          0.0010782944871009,
          0.0015774944871009,
          0.0010774944871009,
          0.0015766944871009,
          0.0010766944871009,
          0.0005766944871009,
          0.0010758944871009,
          0.0015750944871009,
          0.0010750944871009,
          0.0015742944871009,
          0.0010742944871009,
          0.0010742944871009,
          0.0010742944871009,
          0.0015734944871009,
          0.0010734944871009,
          0.0015726944871009,
          0.0010726944871009
         ],
         "yaxis": "y"
        }
       ],
       "layout": {
        "legend": {
         "tracegroupgap": 0
        },
        "template": {
         "data": {
          "bar": [
           {
            "error_x": {
             "color": "#2a3f5f"
            },
            "error_y": {
             "color": "#2a3f5f"
            },
            "marker": {
             "line": {
              "color": "#E5ECF6",
              "width": 0.5
             },
             "pattern": {
              "fillmode": "overlay",
              "size": 10,
              "solidity": 0.2
             }
            },
            "type": "bar"
           }
          ],
          "barpolar": [
           {
            "marker": {
             "line": {
              "color": "#E5ECF6",
              "width": 0.5
             },
             "pattern": {
              "fillmode": "overlay",
              "size": 10,
              "solidity": 0.2
             }
            },
            "type": "barpolar"
           }
          ],
          "carpet": [
           {
            "aaxis": {
             "endlinecolor": "#2a3f5f",
             "gridcolor": "white",
             "linecolor": "white",
             "minorgridcolor": "white",
             "startlinecolor": "#2a3f5f"
            },
            "baxis": {
             "endlinecolor": "#2a3f5f",
             "gridcolor": "white",
             "linecolor": "white",
             "minorgridcolor": "white",
             "startlinecolor": "#2a3f5f"
            },
            "type": "carpet"
           }
          ],
          "choropleth": [
           {
            "colorbar": {
             "outlinewidth": 0,
             "ticks": ""
            },
            "type": "choropleth"
           }
          ],
          "contour": [
           {
            "colorbar": {
             "outlinewidth": 0,
             "ticks": ""
            },
            "colorscale": [
             [
              0,
              "#0d0887"
             ],
             [
              0.1111111111111111,
              "#46039f"
             ],
             [
              0.2222222222222222,
              "#7201a8"
             ],
             [
              0.3333333333333333,
              "#9c179e"
             ],
             [
              0.4444444444444444,
              "#bd3786"
             ],
             [
              0.5555555555555556,
              "#d8576b"
             ],
             [
              0.6666666666666666,
              "#ed7953"
             ],
             [
              0.7777777777777778,
              "#fb9f3a"
             ],
             [
              0.8888888888888888,
              "#fdca26"
             ],
             [
              1,
              "#f0f921"
             ]
            ],
            "type": "contour"
           }
          ],
          "contourcarpet": [
           {
            "colorbar": {
             "outlinewidth": 0,
             "ticks": ""
            },
            "type": "contourcarpet"
           }
          ],
          "heatmap": [
           {
            "colorbar": {
             "outlinewidth": 0,
             "ticks": ""
            },
            "colorscale": [
             [
              0,
              "#0d0887"
             ],
             [
              0.1111111111111111,
              "#46039f"
             ],
             [
              0.2222222222222222,
              "#7201a8"
             ],
             [
              0.3333333333333333,
              "#9c179e"
             ],
             [
              0.4444444444444444,
              "#bd3786"
             ],
             [
              0.5555555555555556,
              "#d8576b"
             ],
             [
              0.6666666666666666,
              "#ed7953"
             ],
             [
              0.7777777777777778,
              "#fb9f3a"
             ],
             [
              0.8888888888888888,
              "#fdca26"
             ],
             [
              1,
              "#f0f921"
             ]
            ],
            "type": "heatmap"
           }
          ],
          "heatmapgl": [
           {
            "colorbar": {
             "outlinewidth": 0,
             "ticks": ""
            },
            "colorscale": [
             [
              0,
              "#0d0887"
             ],
             [
              0.1111111111111111,
              "#46039f"
             ],
             [
              0.2222222222222222,
              "#7201a8"
             ],
             [
              0.3333333333333333,
              "#9c179e"
             ],
             [
              0.4444444444444444,
              "#bd3786"
             ],
             [
              0.5555555555555556,
              "#d8576b"
             ],
             [
              0.6666666666666666,
              "#ed7953"
             ],
             [
              0.7777777777777778,
              "#fb9f3a"
             ],
             [
              0.8888888888888888,
              "#fdca26"
             ],
             [
              1,
              "#f0f921"
             ]
            ],
            "type": "heatmapgl"
           }
          ],
          "histogram": [
           {
            "marker": {
             "pattern": {
              "fillmode": "overlay",
              "size": 10,
              "solidity": 0.2
             }
            },
            "type": "histogram"
           }
          ],
          "histogram2d": [
           {
            "colorbar": {
             "outlinewidth": 0,
             "ticks": ""
            },
            "colorscale": [
             [
              0,
              "#0d0887"
             ],
             [
              0.1111111111111111,
              "#46039f"
             ],
             [
              0.2222222222222222,
              "#7201a8"
             ],
             [
              0.3333333333333333,
              "#9c179e"
             ],
             [
              0.4444444444444444,
              "#bd3786"
             ],
             [
              0.5555555555555556,
              "#d8576b"
             ],
             [
              0.6666666666666666,
              "#ed7953"
             ],
             [
              0.7777777777777778,
              "#fb9f3a"
             ],
             [
              0.8888888888888888,
              "#fdca26"
             ],
             [
              1,
              "#f0f921"
             ]
            ],
            "type": "histogram2d"
           }
          ],
          "histogram2dcontour": [
           {
            "colorbar": {
             "outlinewidth": 0,
             "ticks": ""
            },
            "colorscale": [
             [
              0,
              "#0d0887"
             ],
             [
              0.1111111111111111,
              "#46039f"
             ],
             [
              0.2222222222222222,
              "#7201a8"
             ],
             [
              0.3333333333333333,
              "#9c179e"
             ],
             [
              0.4444444444444444,
              "#bd3786"
             ],
             [
              0.5555555555555556,
              "#d8576b"
             ],
             [
              0.6666666666666666,
              "#ed7953"
             ],
             [
              0.7777777777777778,
              "#fb9f3a"
             ],
             [
              0.8888888888888888,
              "#fdca26"
             ],
             [
              1,
              "#f0f921"
             ]
            ],
            "type": "histogram2dcontour"
           }
          ],
          "mesh3d": [
           {
            "colorbar": {
             "outlinewidth": 0,
             "ticks": ""
            },
            "type": "mesh3d"
           }
          ],
          "parcoords": [
           {
            "line": {
             "colorbar": {
              "outlinewidth": 0,
              "ticks": ""
             }
            },
            "type": "parcoords"
           }
          ],
          "pie": [
           {
            "automargin": true,
            "type": "pie"
           }
          ],
          "scatter": [
           {
            "fillpattern": {
             "fillmode": "overlay",
             "size": 10,
             "solidity": 0.2
            },
            "type": "scatter"
           }
          ],
          "scatter3d": [
           {
            "line": {
             "colorbar": {
              "outlinewidth": 0,
              "ticks": ""
             }
            },
            "marker": {
             "colorbar": {
              "outlinewidth": 0,
              "ticks": ""
             }
            },
            "type": "scatter3d"
           }
          ],
          "scattercarpet": [
           {
            "marker": {
             "colorbar": {
              "outlinewidth": 0,
              "ticks": ""
             }
            },
            "type": "scattercarpet"
           }
          ],
          "scattergeo": [
           {
            "marker": {
             "colorbar": {
              "outlinewidth": 0,
              "ticks": ""
             }
            },
            "type": "scattergeo"
           }
          ],
          "scattergl": [
           {
            "marker": {
             "colorbar": {
              "outlinewidth": 0,
              "ticks": ""
             }
            },
            "type": "scattergl"
           }
          ],
          "scattermapbox": [
           {
            "marker": {
             "colorbar": {
              "outlinewidth": 0,
              "ticks": ""
             }
            },
            "type": "scattermapbox"
           }
          ],
          "scatterpolar": [
           {
            "marker": {
             "colorbar": {
              "outlinewidth": 0,
              "ticks": ""
             }
            },
            "type": "scatterpolar"
           }
          ],
          "scatterpolargl": [
           {
            "marker": {
             "colorbar": {
              "outlinewidth": 0,
              "ticks": ""
             }
            },
            "type": "scatterpolargl"
           }
          ],
          "scatterternary": [
           {
            "marker": {
             "colorbar": {
              "outlinewidth": 0,
              "ticks": ""
             }
            },
            "type": "scatterternary"
           }
          ],
          "surface": [
           {
            "colorbar": {
             "outlinewidth": 0,
             "ticks": ""
            },
            "colorscale": [
             [
              0,
              "#0d0887"
             ],
             [
              0.1111111111111111,
              "#46039f"
             ],
             [
              0.2222222222222222,
              "#7201a8"
             ],
             [
              0.3333333333333333,
              "#9c179e"
             ],
             [
              0.4444444444444444,
              "#bd3786"
             ],
             [
              0.5555555555555556,
              "#d8576b"
             ],
             [
              0.6666666666666666,
              "#ed7953"
             ],
             [
              0.7777777777777778,
              "#fb9f3a"
             ],
             [
              0.8888888888888888,
              "#fdca26"
             ],
             [
              1,
              "#f0f921"
             ]
            ],
            "type": "surface"
           }
          ],
          "table": [
           {
            "cells": {
             "fill": {
              "color": "#EBF0F8"
             },
             "line": {
              "color": "white"
             }
            },
            "header": {
             "fill": {
              "color": "#C8D4E3"
             },
             "line": {
              "color": "white"
             }
            },
            "type": "table"
           }
          ]
         },
         "layout": {
          "annotationdefaults": {
           "arrowcolor": "#2a3f5f",
           "arrowhead": 0,
           "arrowwidth": 1
          },
          "autotypenumbers": "strict",
          "coloraxis": {
           "colorbar": {
            "outlinewidth": 0,
            "ticks": ""
           }
          },
          "colorscale": {
           "diverging": [
            [
             0,
             "#8e0152"
            ],
            [
             0.1,
             "#c51b7d"
            ],
            [
             0.2,
             "#de77ae"
            ],
            [
             0.3,
             "#f1b6da"
            ],
            [
             0.4,
             "#fde0ef"
            ],
            [
             0.5,
             "#f7f7f7"
            ],
            [
             0.6,
             "#e6f5d0"
            ],
            [
             0.7,
             "#b8e186"
            ],
            [
             0.8,
             "#7fbc41"
            ],
            [
             0.9,
             "#4d9221"
            ],
            [
             1,
             "#276419"
            ]
           ],
           "sequential": [
            [
             0,
             "#0d0887"
            ],
            [
             0.1111111111111111,
             "#46039f"
            ],
            [
             0.2222222222222222,
             "#7201a8"
            ],
            [
             0.3333333333333333,
             "#9c179e"
            ],
            [
             0.4444444444444444,
             "#bd3786"
            ],
            [
             0.5555555555555556,
             "#d8576b"
            ],
            [
             0.6666666666666666,
             "#ed7953"
            ],
            [
             0.7777777777777778,
             "#fb9f3a"
            ],
            [
             0.8888888888888888,
             "#fdca26"
            ],
            [
             1,
             "#f0f921"
            ]
           ],
           "sequentialminus": [
            [
             0,
             "#0d0887"
            ],
            [
             0.1111111111111111,
             "#46039f"
            ],
            [
             0.2222222222222222,
             "#7201a8"
            ],
            [
             0.3333333333333333,
             "#9c179e"
            ],
            [
             0.4444444444444444,
             "#bd3786"
            ],
            [
             0.5555555555555556,
             "#d8576b"
            ],
            [
             0.6666666666666666,
             "#ed7953"
            ],
            [
             0.7777777777777778,
             "#fb9f3a"
            ],
            [
             0.8888888888888888,
             "#fdca26"
            ],
            [
             1,
             "#f0f921"
            ]
           ]
          },
          "colorway": [
           "#636efa",
           "#EF553B",
           "#00cc96",
           "#ab63fa",
           "#FFA15A",
           "#19d3f3",
           "#FF6692",
           "#B6E880",
           "#FF97FF",
           "#FECB52"
          ],
          "font": {
           "color": "#2a3f5f"
          },
          "geo": {
           "bgcolor": "white",
           "lakecolor": "white",
           "landcolor": "#E5ECF6",
           "showlakes": true,
           "showland": true,
           "subunitcolor": "white"
          },
          "hoverlabel": {
           "align": "left"
          },
          "hovermode": "closest",
          "mapbox": {
           "style": "light"
          },
          "paper_bgcolor": "white",
          "plot_bgcolor": "#E5ECF6",
          "polar": {
           "angularaxis": {
            "gridcolor": "white",
            "linecolor": "white",
            "ticks": ""
           },
           "bgcolor": "#E5ECF6",
           "radialaxis": {
            "gridcolor": "white",
            "linecolor": "white",
            "ticks": ""
           }
          },
          "scene": {
           "xaxis": {
            "backgroundcolor": "#E5ECF6",
            "gridcolor": "white",
            "gridwidth": 2,
            "linecolor": "white",
            "showbackground": true,
            "ticks": "",
            "zerolinecolor": "white"
           },
           "yaxis": {
            "backgroundcolor": "#E5ECF6",
            "gridcolor": "white",
            "gridwidth": 2,
            "linecolor": "white",
            "showbackground": true,
            "ticks": "",
            "zerolinecolor": "white"
           },
           "zaxis": {
            "backgroundcolor": "#E5ECF6",
            "gridcolor": "white",
            "gridwidth": 2,
            "linecolor": "white",
            "showbackground": true,
            "ticks": "",
            "zerolinecolor": "white"
           }
          },
          "shapedefaults": {
           "line": {
            "color": "#2a3f5f"
           }
          },
          "ternary": {
           "aaxis": {
            "gridcolor": "white",
            "linecolor": "white",
            "ticks": ""
           },
           "baxis": {
            "gridcolor": "white",
            "linecolor": "white",
            "ticks": ""
           },
           "bgcolor": "#E5ECF6",
           "caxis": {
            "gridcolor": "white",
            "linecolor": "white",
            "ticks": ""
           }
          },
          "title": {
           "x": 0.05
          },
          "xaxis": {
           "automargin": true,
           "gridcolor": "white",
           "linecolor": "white",
           "ticks": "",
           "title": {
            "standoff": 15
           },
           "zerolinecolor": "white",
           "zerolinewidth": 2
          },
          "yaxis": {
           "automargin": true,
           "gridcolor": "white",
           "linecolor": "white",
           "ticks": "",
           "title": {
            "standoff": 15
           },
           "zerolinecolor": "white",
           "zerolinewidth": 2
          }
         }
        },
        "title": {
         "text": "SimpleKerasStrategy BTC balance"
        },
        "xaxis": {
         "anchor": "y",
         "domain": [
          0,
          1
         ],
         "title": {
          "text": "datetime"
         }
        },
        "yaxis": {
         "anchor": "x",
         "domain": [
          0,
          1
         ],
         "title": {
          "text": "balance"
         }
        }
       }
      },
      "text/html": [
       "<div>                            <div id=\"bb42c240-bf6a-4ddf-bcea-e99aca94481e\" class=\"plotly-graph-div\" style=\"height:525px; width:100%;\"></div>            <script type=\"text/javascript\">                require([\"plotly\"], function(Plotly) {                    window.PLOTLYENV=window.PLOTLYENV || {};                                    if (document.getElementById(\"bb42c240-bf6a-4ddf-bcea-e99aca94481e\")) {                    Plotly.newPlot(                        \"bb42c240-bf6a-4ddf-bcea-e99aca94481e\",                        [{\"hovertemplate\":\"datetime=%{x}<br>balance=%{y}<extra></extra>\",\"legendgroup\":\"\",\"line\":{\"color\":\"#636efa\",\"dash\":\"solid\"},\"marker\":{\"symbol\":\"circle\"},\"mode\":\"lines+markers\",\"name\":\"\",\"orientation\":\"v\",\"showlegend\":false,\"x\":[\"2023-06-09T20:50:28.469572\",\"2023-06-09T21:37:34.240923\",\"2023-06-09T22:02:58.734472\",\"2023-06-09T22:02:59.842193\",\"2023-06-09T22:20:37.090030\",\"2023-06-09T22:20:39.300908\",\"2023-06-09T22:40:01.999352\",\"2023-06-09T22:40:11.994802\",\"2023-06-09T22:40:14.724694\",\"2023-06-09T22:40:27.444848\",\"2023-06-09T22:40:28.303149\",\"2023-06-09T22:40:42.371664\",\"2023-06-09T22:44:04.640544\",\"2023-06-09T22:44:21.870837\",\"2023-06-09T23:16:58.733629\",\"2023-06-09T23:21:19.602887\",\"2023-06-09T23:21:31.026687\",\"2023-06-09T23:21:31.859153\",\"2023-06-09T23:21:34.962512\",\"2023-06-09T23:21:41.934387\",\"2023-06-09T23:21:57.690821\",\"2023-06-09T23:23:40.373205\",\"2023-06-09T23:34:08.603884\",\"2023-06-09T23:34:09.736776\",\"2023-06-09T23:35:13.119316\",\"2023-06-09T23:35:14.250874\",\"2023-06-09T23:35:23.194113\",\"2023-06-09T23:35:24.318994\",\"2023-06-09T23:35:33.226140\",\"2023-06-09T23:35:34.404905\",\"2023-06-09T23:52:58.505073\",\"2023-06-09T23:52:59.469633\",\"2023-06-10T00:20:14.072973\",\"2023-06-10T00:20:18.275043\",\"2023-06-10T00:34:47.210038\",\"2023-06-10T00:35:01.077191\",\"2023-06-10T01:07:50.421284\",\"2023-06-10T01:07:51.544413\",\"2023-06-10T01:08:00.444544\",\"2023-06-10T01:08:05.626042\",\"2023-06-10T01:08:16.533643\",\"2023-06-10T01:08:28.987038\",\"2023-06-10T01:08:30.605765\",\"2023-06-10T01:08:35.365265\",\"2023-06-10T01:12:01.616203\",\"2023-06-10T01:12:03.757017\",\"2023-06-10T01:12:04.460307\",\"2023-06-10T01:12:23.243658\",\"2023-06-10T01:12:29.318765\",\"2023-06-10T01:12:33.558286\",\"2023-06-10T01:12:45.272099\",\"2023-06-10T01:19:36.732204\",\"2023-06-10T01:19:37.857766\",\"2023-06-10T01:36:22.228219\",\"2023-06-10T01:36:23.216878\",\"2023-06-10T01:38:13.523074\",\"2023-06-10T01:47:07.484814\",\"2023-06-10T01:47:12.658747\",\"2023-06-10T01:47:17.791074\",\"2023-06-10T01:47:20.927807\",\"2023-06-10T01:50:51.727370\",\"2023-06-10T01:50:52.842921\",\"2023-06-10T01:51:07.102139\",\"2023-06-10T01:51:08.956358\",\"2023-06-10T01:51:20.071575\",\"2023-06-10T01:51:21.204500\",\"2023-06-10T01:54:01.182151\",\"2023-06-10T01:54:07.418019\",\"2023-06-10T01:55:01.482639\",\"2023-06-10T01:55:08.290359\",\"2023-06-10T02:00:03.566141\",\"2023-06-10T02:00:07.127252\",\"2023-06-10T02:01:52.928052\",\"2023-06-10T02:01:54.054186\",\"2023-06-10T02:02:03.063815\",\"2023-06-10T02:02:04.182652\",\"2023-06-10T02:02:13.123443\",\"2023-06-10T02:02:14.275929\",\"2023-06-10T02:10:38.777587\",\"2023-06-10T02:10:58.996398\",\"2023-06-10T02:15:29.701405\",\"2023-06-10T02:15:40.940545\",\"2023-06-10T02:15:41.609521\",\"2023-06-10T02:16:00.460394\",\"2023-06-10T02:22:17.202206\",\"2023-06-10T02:22:21.393776\",\"2023-06-10T02:22:27.306228\",\"2023-06-10T02:22:32.886655\",\"2023-06-10T02:24:37.542310\",\"2023-06-10T02:24:45.644722\",\"2023-06-10T02:27:21.238537\",\"2023-06-10T02:27:59.087650\",\"2023-06-10T02:29:27.404760\",\"2023-06-10T02:29:31.422670\",\"2023-06-10T02:32:31.149904\",\"2023-06-10T02:32:38.168938\",\"2023-06-10T02:32:40.468561\",\"2023-06-10T02:32:42.524971\",\"2023-06-10T02:44:39.351660\",\"2023-06-10T02:44:42.661453\",\"2023-06-10T02:50:22.632890\",\"2023-06-10T02:50:29.998028\",\"2023-06-10T02:50:32.756212\",\"2023-06-10T02:50:36.551755\",\"2023-06-10T03:21:47.600429\",\"2023-06-10T03:21:51.274065\",\"2023-06-10T03:21:57.742264\",\"2023-06-10T03:22:00.824671\",\"2023-06-10T03:23:11.956323\",\"2023-06-10T03:23:26.542004\",\"2023-06-10T03:27:23.051605\",\"2023-06-10T03:27:26.677282\",\"2023-06-10T03:28:25.380749\",\"2023-06-10T03:28:26.974006\",\"2023-06-10T03:28:47.173680\",\"2023-06-10T03:28:52.079254\",\"2023-06-10T03:29:33.092151\",\"2023-06-10T03:29:42.155861\",\"2023-06-10T03:36:43.889593\",\"2023-06-10T03:36:44.983076\",\"2023-06-10T03:37:18.910919\",\"2023-06-10T03:37:20.014966\",\"2023-06-10T03:37:29.663598\",\"2023-06-10T03:37:30.772924\",\"2023-06-10T03:42:22.770289\",\"2023-06-10T03:42:23.881865\",\"2023-06-10T03:43:30.296192\",\"2023-06-10T03:43:31.396416\",\"2023-06-10T03:43:55.453499\",\"2023-06-10T03:43:56.555197\",\"2023-06-10T03:45:40.618381\",\"2023-06-10T03:45:41.723472\",\"2023-06-10T03:45:52.074304\",\"2023-06-10T03:45:53.178340\",\"2023-06-10T03:46:35.868097\",\"2023-06-10T03:46:37.003871\",\"2023-06-10T03:46:55.978971\",\"2023-06-10T03:46:57.076630\",\"2023-06-10T03:48:26.321479\",\"2023-06-10T03:48:29.226823\",\"2023-06-10T03:48:36.328534\",\"2023-06-10T03:48:43.715829\",\"2023-06-10T03:58:41.185353\",\"2023-06-10T03:58:47.394441\",\"2023-06-10T04:00:00.545226\",\"2023-06-10T04:00:02.933743\",\"2023-06-10T04:00:10.665283\",\"2023-06-10T04:00:11.817662\",\"2023-06-10T04:02:07.622602\",\"2023-06-10T04:02:11.244126\",\"2023-06-10T04:03:53.896249\",\"2023-06-10T04:04:22.727140\",\"2023-06-10T04:05:05.742068\",\"2023-06-10T04:05:15.849039\",\"2023-06-10T09:10:01.484641\",\"2023-06-10T09:11:05.584245\",\"2023-06-10T09:12:52.566098\",\"2023-06-10T09:13:17.573376\",\"2023-06-10T09:16:34.446375\",\"2023-06-10T09:16:35.540354\"],\"xaxis\":\"x\",\"y\":[0.0016318944871009,0.0016318944871009,0.0021310944871009,0.0016310944871009,0.0011310944871009,0.0016302944871009,0.0021294944871009,0.0016294944871009,0.0021286944871009,0.0016286944871009,0.0021278944871009,0.0016278944871009,0.0011278944871009,0.0016270944871009,0.0016270944871009,0.0011270944871009,0.0016262944871009,0.0011262944871009,0.0016254944871009,0.0021246944871009,0.0016246944871009,0.0016246944871009,0.0011246944871009,0.0016238944871009,0.0021230944871009,0.0016230944871009,0.0021222944871009,0.0016222944871009,0.0021214944871009,0.0016214944871009,0.0016214944871009,0.0016214944871009,0.0011214944871009,0.0016206944871009,0.0021198944871009,0.0016198944871009,0.0021190944871009,0.0016190944871009,0.0021182944871009,0.0016182944871009,0.0021174944871009,0.0016174944871009,0.0021166944871009,0.0016166944871009,0.0021158944871009,0.0016158944871009,0.0011158944871009,0.0016150944871009,0.0011150944871009,0.0016142944871009,0.0011142944871009,0.0016134944871009,0.0011134944871009,0.0011134944871009,0.0011134944871009,0.0011134944871009,0.0006134944871009,0.0011126944871009,0.0006126944871009,0.0011118944871009,0.0006118944871009,0.0011110944871009,0.0006110944871009,0.0011102944871009,0.0006102944871009,0.0011094944871009,0.0016086944871009,0.0011086944871009,0.0016078944871009,0.0011078944871009,0.0006078944871009,0.0011070944871009,0.0016062944871009,0.0011062944871009,0.0016054944871009,0.0011054944871009,0.0016046944871009,0.0011046944871009,0.0016038944871009,0.0011038944871009,0.0016030944871009,0.0011030944871009,0.0016022944871009,0.0011022944871009,0.0016014944871009,0.0011014944871009,0.0016006944871009,0.0011006944871009,0.0015998944871009,0.0010998944871009,0.0015990944871009,0.0010990944871009,0.0015982944871009,0.0010982944871009,0.0015974944871009,0.0010974944871009,0.0015966944871009,0.0010966944871009,0.0015958944871009,0.0010958944871009,0.0015950944871009,0.0010950944871009,0.0015942944871009,0.0010942944871009,0.0015934944871009,0.0010934944871009,0.0015926944871009,0.0010926944871009,0.0005926944871009,0.0010918944871009,0.0015910944871009,0.0010910944871009,0.0015902944871009,0.0010902944871009,0.0015894944871009,0.0010894944871009,0.0005894944871009,0.0010886944871009,0.0015878944871009,0.0010878944871009,0.0015870944871009,0.0010870944871009,0.0015862944871009,0.0010862944871009,0.0005862944871009,0.0010854944871009,0.0005854944871009,0.0010846944871009,0.0005846944871009,0.0010838944871009,0.0005838944871009,0.0010830944871009,0.0005830944871009,0.0010822944871009,0.0005822944871009,0.0010814944871009,0.0005814944871009,0.0010806944871009,0.0005806944871009,0.0010798944871009,0.0015790944871009,0.0010790944871009,0.0015782944871009,0.0010782944871009,0.0015774944871009,0.0010774944871009,0.0015766944871009,0.0010766944871009,0.0005766944871009,0.0010758944871009,0.0015750944871009,0.0010750944871009,0.0015742944871009,0.0010742944871009,0.0010742944871009,0.0010742944871009,0.0015734944871009,0.0010734944871009,0.0015726944871009,0.0010726944871009],\"yaxis\":\"y\",\"type\":\"scatter\"}],                        {\"template\":{\"data\":{\"histogram2dcontour\":[{\"type\":\"histogram2dcontour\",\"colorbar\":{\"outlinewidth\":0,\"ticks\":\"\"},\"colorscale\":[[0.0,\"#0d0887\"],[0.1111111111111111,\"#46039f\"],[0.2222222222222222,\"#7201a8\"],[0.3333333333333333,\"#9c179e\"],[0.4444444444444444,\"#bd3786\"],[0.5555555555555556,\"#d8576b\"],[0.6666666666666666,\"#ed7953\"],[0.7777777777777778,\"#fb9f3a\"],[0.8888888888888888,\"#fdca26\"],[1.0,\"#f0f921\"]]}],\"choropleth\":[{\"type\":\"choropleth\",\"colorbar\":{\"outlinewidth\":0,\"ticks\":\"\"}}],\"histogram2d\":[{\"type\":\"histogram2d\",\"colorbar\":{\"outlinewidth\":0,\"ticks\":\"\"},\"colorscale\":[[0.0,\"#0d0887\"],[0.1111111111111111,\"#46039f\"],[0.2222222222222222,\"#7201a8\"],[0.3333333333333333,\"#9c179e\"],[0.4444444444444444,\"#bd3786\"],[0.5555555555555556,\"#d8576b\"],[0.6666666666666666,\"#ed7953\"],[0.7777777777777778,\"#fb9f3a\"],[0.8888888888888888,\"#fdca26\"],[1.0,\"#f0f921\"]]}],\"heatmap\":[{\"type\":\"heatmap\",\"colorbar\":{\"outlinewidth\":0,\"ticks\":\"\"},\"colorscale\":[[0.0,\"#0d0887\"],[0.1111111111111111,\"#46039f\"],[0.2222222222222222,\"#7201a8\"],[0.3333333333333333,\"#9c179e\"],[0.4444444444444444,\"#bd3786\"],[0.5555555555555556,\"#d8576b\"],[0.6666666666666666,\"#ed7953\"],[0.7777777777777778,\"#fb9f3a\"],[0.8888888888888888,\"#fdca26\"],[1.0,\"#f0f921\"]]}],\"heatmapgl\":[{\"type\":\"heatmapgl\",\"colorbar\":{\"outlinewidth\":0,\"ticks\":\"\"},\"colorscale\":[[0.0,\"#0d0887\"],[0.1111111111111111,\"#46039f\"],[0.2222222222222222,\"#7201a8\"],[0.3333333333333333,\"#9c179e\"],[0.4444444444444444,\"#bd3786\"],[0.5555555555555556,\"#d8576b\"],[0.6666666666666666,\"#ed7953\"],[0.7777777777777778,\"#fb9f3a\"],[0.8888888888888888,\"#fdca26\"],[1.0,\"#f0f921\"]]}],\"contourcarpet\":[{\"type\":\"contourcarpet\",\"colorbar\":{\"outlinewidth\":0,\"ticks\":\"\"}}],\"contour\":[{\"type\":\"contour\",\"colorbar\":{\"outlinewidth\":0,\"ticks\":\"\"},\"colorscale\":[[0.0,\"#0d0887\"],[0.1111111111111111,\"#46039f\"],[0.2222222222222222,\"#7201a8\"],[0.3333333333333333,\"#9c179e\"],[0.4444444444444444,\"#bd3786\"],[0.5555555555555556,\"#d8576b\"],[0.6666666666666666,\"#ed7953\"],[0.7777777777777778,\"#fb9f3a\"],[0.8888888888888888,\"#fdca26\"],[1.0,\"#f0f921\"]]}],\"surface\":[{\"type\":\"surface\",\"colorbar\":{\"outlinewidth\":0,\"ticks\":\"\"},\"colorscale\":[[0.0,\"#0d0887\"],[0.1111111111111111,\"#46039f\"],[0.2222222222222222,\"#7201a8\"],[0.3333333333333333,\"#9c179e\"],[0.4444444444444444,\"#bd3786\"],[0.5555555555555556,\"#d8576b\"],[0.6666666666666666,\"#ed7953\"],[0.7777777777777778,\"#fb9f3a\"],[0.8888888888888888,\"#fdca26\"],[1.0,\"#f0f921\"]]}],\"mesh3d\":[{\"type\":\"mesh3d\",\"colorbar\":{\"outlinewidth\":0,\"ticks\":\"\"}}],\"scatter\":[{\"fillpattern\":{\"fillmode\":\"overlay\",\"size\":10,\"solidity\":0.2},\"type\":\"scatter\"}],\"parcoords\":[{\"type\":\"parcoords\",\"line\":{\"colorbar\":{\"outlinewidth\":0,\"ticks\":\"\"}}}],\"scatterpolargl\":[{\"type\":\"scatterpolargl\",\"marker\":{\"colorbar\":{\"outlinewidth\":0,\"ticks\":\"\"}}}],\"bar\":[{\"error_x\":{\"color\":\"#2a3f5f\"},\"error_y\":{\"color\":\"#2a3f5f\"},\"marker\":{\"line\":{\"color\":\"#E5ECF6\",\"width\":0.5},\"pattern\":{\"fillmode\":\"overlay\",\"size\":10,\"solidity\":0.2}},\"type\":\"bar\"}],\"scattergeo\":[{\"type\":\"scattergeo\",\"marker\":{\"colorbar\":{\"outlinewidth\":0,\"ticks\":\"\"}}}],\"scatterpolar\":[{\"type\":\"scatterpolar\",\"marker\":{\"colorbar\":{\"outlinewidth\":0,\"ticks\":\"\"}}}],\"histogram\":[{\"marker\":{\"pattern\":{\"fillmode\":\"overlay\",\"size\":10,\"solidity\":0.2}},\"type\":\"histogram\"}],\"scattergl\":[{\"type\":\"scattergl\",\"marker\":{\"colorbar\":{\"outlinewidth\":0,\"ticks\":\"\"}}}],\"scatter3d\":[{\"type\":\"scatter3d\",\"line\":{\"colorbar\":{\"outlinewidth\":0,\"ticks\":\"\"}},\"marker\":{\"colorbar\":{\"outlinewidth\":0,\"ticks\":\"\"}}}],\"scattermapbox\":[{\"type\":\"scattermapbox\",\"marker\":{\"colorbar\":{\"outlinewidth\":0,\"ticks\":\"\"}}}],\"scatterternary\":[{\"type\":\"scatterternary\",\"marker\":{\"colorbar\":{\"outlinewidth\":0,\"ticks\":\"\"}}}],\"scattercarpet\":[{\"type\":\"scattercarpet\",\"marker\":{\"colorbar\":{\"outlinewidth\":0,\"ticks\":\"\"}}}],\"carpet\":[{\"aaxis\":{\"endlinecolor\":\"#2a3f5f\",\"gridcolor\":\"white\",\"linecolor\":\"white\",\"minorgridcolor\":\"white\",\"startlinecolor\":\"#2a3f5f\"},\"baxis\":{\"endlinecolor\":\"#2a3f5f\",\"gridcolor\":\"white\",\"linecolor\":\"white\",\"minorgridcolor\":\"white\",\"startlinecolor\":\"#2a3f5f\"},\"type\":\"carpet\"}],\"table\":[{\"cells\":{\"fill\":{\"color\":\"#EBF0F8\"},\"line\":{\"color\":\"white\"}},\"header\":{\"fill\":{\"color\":\"#C8D4E3\"},\"line\":{\"color\":\"white\"}},\"type\":\"table\"}],\"barpolar\":[{\"marker\":{\"line\":{\"color\":\"#E5ECF6\",\"width\":0.5},\"pattern\":{\"fillmode\":\"overlay\",\"size\":10,\"solidity\":0.2}},\"type\":\"barpolar\"}],\"pie\":[{\"automargin\":true,\"type\":\"pie\"}]},\"layout\":{\"autotypenumbers\":\"strict\",\"colorway\":[\"#636efa\",\"#EF553B\",\"#00cc96\",\"#ab63fa\",\"#FFA15A\",\"#19d3f3\",\"#FF6692\",\"#B6E880\",\"#FF97FF\",\"#FECB52\"],\"font\":{\"color\":\"#2a3f5f\"},\"hovermode\":\"closest\",\"hoverlabel\":{\"align\":\"left\"},\"paper_bgcolor\":\"white\",\"plot_bgcolor\":\"#E5ECF6\",\"polar\":{\"bgcolor\":\"#E5ECF6\",\"angularaxis\":{\"gridcolor\":\"white\",\"linecolor\":\"white\",\"ticks\":\"\"},\"radialaxis\":{\"gridcolor\":\"white\",\"linecolor\":\"white\",\"ticks\":\"\"}},\"ternary\":{\"bgcolor\":\"#E5ECF6\",\"aaxis\":{\"gridcolor\":\"white\",\"linecolor\":\"white\",\"ticks\":\"\"},\"baxis\":{\"gridcolor\":\"white\",\"linecolor\":\"white\",\"ticks\":\"\"},\"caxis\":{\"gridcolor\":\"white\",\"linecolor\":\"white\",\"ticks\":\"\"}},\"coloraxis\":{\"colorbar\":{\"outlinewidth\":0,\"ticks\":\"\"}},\"colorscale\":{\"sequential\":[[0.0,\"#0d0887\"],[0.1111111111111111,\"#46039f\"],[0.2222222222222222,\"#7201a8\"],[0.3333333333333333,\"#9c179e\"],[0.4444444444444444,\"#bd3786\"],[0.5555555555555556,\"#d8576b\"],[0.6666666666666666,\"#ed7953\"],[0.7777777777777778,\"#fb9f3a\"],[0.8888888888888888,\"#fdca26\"],[1.0,\"#f0f921\"]],\"sequentialminus\":[[0.0,\"#0d0887\"],[0.1111111111111111,\"#46039f\"],[0.2222222222222222,\"#7201a8\"],[0.3333333333333333,\"#9c179e\"],[0.4444444444444444,\"#bd3786\"],[0.5555555555555556,\"#d8576b\"],[0.6666666666666666,\"#ed7953\"],[0.7777777777777778,\"#fb9f3a\"],[0.8888888888888888,\"#fdca26\"],[1.0,\"#f0f921\"]],\"diverging\":[[0,\"#8e0152\"],[0.1,\"#c51b7d\"],[0.2,\"#de77ae\"],[0.3,\"#f1b6da\"],[0.4,\"#fde0ef\"],[0.5,\"#f7f7f7\"],[0.6,\"#e6f5d0\"],[0.7,\"#b8e186\"],[0.8,\"#7fbc41\"],[0.9,\"#4d9221\"],[1,\"#276419\"]]},\"xaxis\":{\"gridcolor\":\"white\",\"linecolor\":\"white\",\"ticks\":\"\",\"title\":{\"standoff\":15},\"zerolinecolor\":\"white\",\"automargin\":true,\"zerolinewidth\":2},\"yaxis\":{\"gridcolor\":\"white\",\"linecolor\":\"white\",\"ticks\":\"\",\"title\":{\"standoff\":15},\"zerolinecolor\":\"white\",\"automargin\":true,\"zerolinewidth\":2},\"scene\":{\"xaxis\":{\"backgroundcolor\":\"#E5ECF6\",\"gridcolor\":\"white\",\"linecolor\":\"white\",\"showbackground\":true,\"ticks\":\"\",\"zerolinecolor\":\"white\",\"gridwidth\":2},\"yaxis\":{\"backgroundcolor\":\"#E5ECF6\",\"gridcolor\":\"white\",\"linecolor\":\"white\",\"showbackground\":true,\"ticks\":\"\",\"zerolinecolor\":\"white\",\"gridwidth\":2},\"zaxis\":{\"backgroundcolor\":\"#E5ECF6\",\"gridcolor\":\"white\",\"linecolor\":\"white\",\"showbackground\":true,\"ticks\":\"\",\"zerolinecolor\":\"white\",\"gridwidth\":2}},\"shapedefaults\":{\"line\":{\"color\":\"#2a3f5f\"}},\"annotationdefaults\":{\"arrowcolor\":\"#2a3f5f\",\"arrowhead\":0,\"arrowwidth\":1},\"geo\":{\"bgcolor\":\"white\",\"landcolor\":\"#E5ECF6\",\"subunitcolor\":\"white\",\"showland\":true,\"showlakes\":true,\"lakecolor\":\"white\"},\"title\":{\"x\":0.05},\"mapbox\":{\"style\":\"light\"}}},\"xaxis\":{\"anchor\":\"y\",\"domain\":[0.0,1.0],\"title\":{\"text\":\"datetime\"}},\"yaxis\":{\"anchor\":\"x\",\"domain\":[0.0,1.0],\"title\":{\"text\":\"balance\"}},\"legend\":{\"tracegroupgap\":0},\"title\":{\"text\":\"SimpleKerasStrategy BTC balance\"}},                        {\"responsive\": true}                    ).then(function(){\n",
       "                            \n",
       "var gd = document.getElementById('bb42c240-bf6a-4ddf-bcea-e99aca94481e');\n",
       "var x = new MutationObserver(function (mutations, observer) {{\n",
       "        var display = window.getComputedStyle(gd).display;\n",
       "        if (!display || display === 'none') {{\n",
       "            console.log([gd, 'removed!']);\n",
       "            Plotly.purge(gd);\n",
       "            observer.disconnect();\n",
       "        }}\n",
       "}});\n",
       "\n",
       "// Listen for the removal of the full notebook cells\n",
       "var notebookContainer = gd.closest('#notebook-container');\n",
       "if (notebookContainer) {{\n",
       "    x.observe(notebookContainer, {childList: true});\n",
       "}}\n",
       "\n",
       "// Listen for the clearing of the current output cell\n",
       "var outputEl = gd.closest('.output');\n",
       "if (outputEl) {{\n",
       "    x.observe(outputEl, {childList: true});\n",
       "}}\n",
       "\n",
       "                        })                };                });            </script>        </div>"
      ]
     },
     "metadata": {},
     "output_type": "display_data"
    },
    {
     "data": {
      "text/plain": [
       "<Figure size 1000x500 with 0 Axes>"
      ]
     },
     "metadata": {},
     "output_type": "display_data"
    },
    {
     "data": {
      "text/plain": [
       "<Figure size 1000x500 with 0 Axes>"
      ]
     },
     "metadata": {},
     "output_type": "display_data"
    }
   ],
   "source": [
    "import matplotlib.pyplot as plt\n",
    "import plotly.express as px\n",
    "\n",
    "import seaborn as sns\n",
    "sns.set_theme()\n",
    "\n",
    "def plot_strategies_balances(strategies, asset):\n",
    "    \"\"\" Plot all strategies balance history\"\"\"\n",
    "    \n",
    "    # Charts for each strategy\n",
    "    for strategy in strategies:\n",
    "        strategy_df=strategies_balances[strategy]\n",
    "\n",
    "        # Chart for each asset\n",
    "        for asset in strategy_df[\"asset\"].unique():\n",
    "            asset_df=strategy_df[strategy_df[\"asset\"]==asset].copy()\n",
    "            asset_df[\"datetime\"]=asset_df.index\n",
    "\n",
    "            plt.figure(figsize=plot_figsize)\n",
    "            asset_df=asset_df[[\"datetime\", \"balance\"]].dropna()\n",
    "            title=f\"{strategy} {asset.upper()} balance\"\n",
    "            px.line(asset_df, \"datetime\", \"balance\", title=title) .update_traces(mode='lines+markers').show()\n",
    "            #plt.plot(\"datetime\", \"balance\", data=asset_df[[\"datetime\", \"balance\"]].dropna())\n",
    "            #plt.title(f\"{strategy} {asset} balance\")\n",
    "            #plt.show()\n",
    "\n",
    "        \n",
    "plot_strategies_balances(strategies_balances, \"usdt\")"
   ]
  },
  {
   "cell_type": "markdown",
   "id": "7ff3aba0",
   "metadata": {},
   "source": [
    "## Cumulative profit"
   ]
  },
  {
   "cell_type": "code",
   "execution_count": 4,
   "id": "5b70c325",
   "metadata": {
    "scrolled": false
   },
   "outputs": [
    {
     "data": {
      "image/png": "[encoded data removed]",
      "text/plain": [
       "<Figure size 1000x500 with 1 Axes>"
      ]
     },
     "metadata": {},
     "output_type": "display_data"
    },
    {
     "data": {
      "image/png": "[encoded data removed]",
      "text/plain": [
       "<Figure size 1000x500 with 1 Axes>"
      ]
     },
     "metadata": {},
     "output_type": "display_data"
    },
    {
     "data": {
      "image/png": "[encoded data removed]",
      "text/plain": [
       "<Figure size 1000x500 with 1 Axes>"
      ]
     },
     "metadata": {},
     "output_type": "display_data"
    }
   ],
   "source": [
    "import matplotlib.pyplot as plt\n",
    "import plotly.express as px\n",
    "import seaborn as sns\n",
    "sns.set_theme()\n",
    "#paper, notebook, talk, poster\n",
    "\n",
    "import plotly.graph_objs as go\n",
    "import plotly.io as pio\n",
    "from plotly.subplots import make_subplots\n",
    "pio.renderers.default = \"plotly_mimetype+notebook\"\n",
    "import plotly.graph_objects as go\n",
    "\n",
    "# Align the plot width    \n",
    "plot_figsize=(10,5)\n",
    "sns.set_style(\"darkgrid\")\n",
    "\n",
    "\n",
    "def plot_profit_plotly(strategy, trades, col):\n",
    "    \"\"\" Plot strategy profit using plotly\"\"\"\n",
    "    px.line(trades, x=\"close_time\", y=col, title=f\"{strategy} {col}\").update_traces(mode='lines+markers').show()\n",
    "    \n",
    "def plot_profit_sns(strategy, trades, col):\n",
    "    \"\"\" Plot strategy profit using sns\"\"\"\n",
    "    plt.figure(figsize=plot_figsize)\n",
    "    sns.lineplot(data=trades, x=\"close_time\", y=col).set_title(f\"{strategy} {col}\")\n",
    "    plt.show()\n",
    "\n",
    "def plot_profit_plt(strategy, trades, col):\n",
    "    \"\"\" Plot profits using matplotlib \"\"\"\n",
    "    plt.figure(figsize=(10,5))\n",
    "    plt.plot(\"close_time\", col, data=trades)\n",
    "    plt.title(f\"{strategy} {col}\")\n",
    "    plt.show()\n",
    "    \n",
    "def plot_strategies_profits(plot_func, strategies_trades, col):\n",
    "    \"\"\" Plot all strategies profit using given func\"\"\"\n",
    "    \n",
    "    for strategy in strategies:\n",
    "        trades=strategies_trades[strategy]\n",
    "        plot_func(strategy, trades, col)\n",
    "\n",
    "def plot_strategies_daily_profits(plot_func, strategies_trades, col):\n",
    "    \"\"\" Plot daily values\"\"\"\n",
    "    interval=\"1d\"\n",
    "    for strategy in strategies:\n",
    "        trades = strategies_trades[strategy]\n",
    "        resampled=trades.set_index(\"close_time\")[[\"profit\", \"cum_profit\"]] \\\n",
    "            .resample(interval) \\\n",
    "            .agg({\"profit\": \"sum\", \"cum_profit\": \"last\"})\\\n",
    "            .reset_index()\n",
    "        resampled[\"close_time\"] = resampled[\"close_time\"].astype(str)\n",
    "        plt.figure(figsize=plot_figsize)\n",
    "        plt.bar(\"close_time\", col, data=resampled)\n",
    "        plt.title(f\"{strategy} {interval} {col}\")\n",
    "        plt.show()\n",
    "        \n",
    "# Plot profit and cumulative profit for each strategy\n",
    "plot_strategies_profits(plot_profit_plt, strategies_trades, \"cum_profit\")\n",
    "plot_strategies_profits(plot_profit_plt, strategies_trades, \"profit\")\n",
    "plot_strategies_daily_profits(plot_profit_plt, strategies_trades, \"profit\")\n",
    "\n"
   ]
  },
  {
   "cell_type": "code",
   "execution_count": null,
   "id": "fae8cc95",
   "metadata": {},
   "outputs": [],
   "source": []
  },
  {
   "cell_type": "markdown",
   "id": "0ab38c83",
   "metadata": {},
   "source": [
    "## Buy, sell trade counts"
   ]
  },
  {
   "cell_type": "code",
   "execution_count": null,
   "id": "96edc292",
   "metadata": {},
   "outputs": [],
   "source": []
  },
  {
   "cell_type": "code",
   "execution_count": 5,
   "id": "76076599",
   "metadata": {
    "scrolled": false
   },
   "outputs": [
    {
     "data": {
      "image/png": "[encoded data removed]",
      "text/plain": [
       "<Figure size 1000x500 with 3 Axes>"
      ]
     },
     "metadata": {},
     "output_type": "display_data"
    }
   ],
   "source": [
    "def plot_trade_counts(strategy, trades):\n",
    "    buy_sell_counts = trades[\"side\"].value_counts()\n",
    "    total=len(trades)\n",
    "    colors = sns.color_palette('pastel')[0:5]\n",
    "    fig, (ax1, ax2, ax3) = plt.subplots(1, 3)\n",
    "    fig.set_size_inches(plot_figsize)\n",
    "    fig.suptitle(f'{strategy} profit/loss trade counts')\n",
    "    # Buy/sell counts\n",
    "    ax1.pie([len(trades[trades[\"side\"]==\"BUY\"]),len(trades[trades[\"side\"]==\"SELL\"])], \n",
    "            labels=[\"Buy\",\"Sell\"], \\\n",
    "            autopct=lambda p: '{:.0f}'.format(p * total / 100))\n",
    "    # Buy profit/loss counts\n",
    "    ax2.pie([len(trades[(trades[\"side\"]==\"BUY\") &  (trades[\"profit\"]>0)].index),\\\n",
    "            len(trades[(trades[\"side\"]==\"BUY\") &  (trades[\"profit\"]<0)].index) \\\n",
    "            ],\n",
    "            labels=[\"buy profit\", \" buy loss\"], autopct=\"%.0f%%\", colors=colors)\n",
    "    # Sell profit/loss counts\n",
    "    ax3.pie([len(trades[(trades[\"side\"]==\"SELL\") &  (trades[\"profit\"]>0)].index),\\\n",
    "            len(trades[(trades[\"side\"]==\"SELL\") &  (trades[\"profit\"]<0)].index) \\\n",
    "            ],\n",
    "            labels=[\"sell profit\", \" sell loss\"], autopct=\"%.0f%%\", colors=colors)\n",
    "    fig.subplots_adjust(top=1)\n",
    "\n",
    "    plt.show()\n",
    "\n",
    "\n",
    "\n",
    "for strategy in strategies_trades:\n",
    "    plot_trade_counts(strategy, strategies_trades[strategy])"
   ]
  },
  {
   "cell_type": "markdown",
   "id": "17f2da89",
   "metadata": {},
   "source": [
    "## Compare strategies profits"
   ]
  },
  {
   "cell_type": "code",
   "execution_count": 6,
   "id": "0fdf259e",
   "metadata": {
    "scrolled": false
   },
   "outputs": [
    {
     "data": {
      "image/png": "[encoded data removed]",
      "text/plain": [
       "<Figure size 1000x500 with 1 Axes>"
      ]
     },
     "metadata": {},
     "output_type": "display_data"
    },
    {
     "data": {
      "image/png": "[encoded data removed]",
      "text/plain": [
       "<Figure size 1000x500 with 1 Axes>"
      ]
     },
     "metadata": {},
     "output_type": "display_data"
    },
    {
     "data": {
      "image/png": "[encoded data removed]",
      "text/plain": [
       "<Figure size 1000x500 with 1 Axes>"
      ]
     },
     "metadata": {},
     "output_type": "display_data"
    },
    {
     "data": {
      "image/png": "[encoded data removed]",
      "text/plain": [
       "<Figure size 1000x500 with 1 Axes>"
      ]
     },
     "metadata": {},
     "output_type": "display_data"
    },
    {
     "data": {
      "image/png": "[encoded data removed]",
      "text/plain": [
       "<Figure size 1000x500 with 1 Axes>"
      ]
     },
     "metadata": {},
     "output_type": "display_data"
    }
   ],
   "source": [
    "def plot_comparison(title, strategies_trades, y_func, quantiles=[0,1]):\n",
    "    \"\"\" Comparison bar plot: x=strategy, y=summary function for the strategy\"\"\"\n",
    "    data={\"strategy\":[], \"profit\":[]}\n",
    "    #strategies_data = dict([(strategy,get_trades(strategy)) for strategy in strategies])\n",
    "    for strategy in strategies:\n",
    "        #val = get_trades(strategy)[\"profit\"].sum()\n",
    "        trades = strategies_trades[strategy]\n",
    "        q_low = trades[\"profit\"].quantile(quantiles[0])\n",
    "        q_hi  = trades[\"profit\"].quantile(quantiles[1])\n",
    "        trades_filtered = trades[(trades[\"profit\"] < q_hi) & (trades[\"profit\"] > q_low)]      \n",
    "        #trades_filtered=trades\n",
    "        val = y_func(trades_filtered)\n",
    "        data[\"strategy\"].append(strategy)\n",
    "        data[\"profit\"].append(val)\n",
    "    plt.figure(figsize=plot_figsize)\n",
    "    sns.barplot(data=data, x=\"strategy\", y=\"profit\").set_title(title)\n",
    "    plt.show()\n",
    "    \n",
    "q_outliers = [0.1, 0.9]\n",
    "plot_comparison(\"Profit\", strategies_trades, lambda trades: trades[\"profit\"].sum())\n",
    "plot_comparison(\"Profit w/o outliers\", strategies_trades, lambda trades: trades[\"profit\"].sum(), quantiles=q_outliers)\n",
    "plot_comparison(\"Profit mean\", strategies_trades, lambda trades: trades[\"profit\"].mean())\n",
    "plot_comparison(\"Profit mean w/o outliers\", strategies_trades, lambda trades: trades[\"profit\"].mean(), quantiles=q_outliers)\n",
    "plot_comparison(\"Profit median\", strategies_trades, lambda trades: trades[\"profit\"].median())\n"
   ]
  },
  {
   "cell_type": "markdown",
   "id": "de89ded4",
   "metadata": {},
   "source": [
    "### Buy, sell profit"
   ]
  },
  {
   "cell_type": "code",
   "execution_count": 7,
   "id": "f2b53cc6",
   "metadata": {},
   "outputs": [
    {
     "data": {
      "image/png": "[encoded data removed]",
      "text/plain": [
       "<Figure size 1000x500 with 1 Axes>"
      ]
     },
     "metadata": {},
     "output_type": "display_data"
    },
    {
     "data": {
      "image/png": "[encoded data removed]",
      "text/plain": [
       "<Figure size 1000x500 with 1 Axes>"
      ]
     },
     "metadata": {},
     "output_type": "display_data"
    }
   ],
   "source": [
    "plot_comparison(\"Buy profit\", strategies_trades, lambda trades: trades.loc[trades[\"side\"]==\"BUY\",\"profit\"].sum())\n",
    "plot_comparison(\"Sell profit\", strategies_trades, lambda trades: trades.loc[trades[\"side\"]==\"SELL\",\"profit\"].sum())\n"
   ]
  },
  {
   "cell_type": "markdown",
   "id": "de4b1dca",
   "metadata": {},
   "source": [
    "### Buy, sell mean profit"
   ]
  },
  {
   "cell_type": "code",
   "execution_count": 8,
   "id": "0437b670",
   "metadata": {},
   "outputs": [
    {
     "data": {
      "image/png": "[encoded data removed]",
      "text/plain": [
       "<Figure size 1000x500 with 1 Axes>"
      ]
     },
     "metadata": {},
     "output_type": "display_data"
    },
    {
     "data": {
      "image/png": "[encoded data removed]",
      "text/plain": [
       "<Figure size 1000x500 with 1 Axes>"
      ]
     },
     "metadata": {},
     "output_type": "display_data"
    }
   ],
   "source": [
    "plot_comparison(\"Buy profit mean\", strategies_trades, lambda trades: trades.loc[trades[\"side\"]==\"BUY\",\"profit\"].mean())\n",
    "plot_comparison(\"Sell profit mean\", strategies_trades, lambda trades: trades.loc[trades[\"side\"]==\"SELL\",\"profit\"].mean())\n"
   ]
  },
  {
   "cell_type": "markdown",
   "id": "07607919",
   "metadata": {},
   "source": [
    "### Buy, sell median profit"
   ]
  },
  {
   "cell_type": "code",
   "execution_count": 9,
   "id": "50b3755b",
   "metadata": {},
   "outputs": [
    {
     "data": {
      "image/png": "[encoded data removed]",
      "text/plain": [
       "<Figure size 1000x500 with 1 Axes>"
      ]
     },
     "metadata": {},
     "output_type": "display_data"
    },
    {
     "data": {
      "image/png": "[encoded data removed]",
      "text/plain": [
       "<Figure size 1000x500 with 1 Axes>"
      ]
     },
     "metadata": {},
     "output_type": "display_data"
    }
   ],
   "source": [
    "plot_comparison(\"Buy profit median\", strategies_trades, lambda trades: trades.loc[trades[\"side\"]==\"BUY\",\"profit\"].median())\n",
    "plot_comparison(\"Sell profit median\", strategies_trades, lambda trades: trades.loc[trades[\"side\"]==\"SELL\",\"profit\"].median())\n"
   ]
  },
  {
   "cell_type": "markdown",
   "id": "6a58c776",
   "metadata": {},
   "source": [
    "## Profit summary"
   ]
  },
  {
   "cell_type": "code",
   "execution_count": 10,
   "id": "218d6ca7",
   "metadata": {
    "scrolled": false
   },
   "outputs": [
    {
     "data": {
      "image/png": "[encoded data removed]",
      "text/plain": [
       "<Figure size 1000x500 with 3 Axes>"
      ]
     },
     "metadata": {},
     "output_type": "display_data"
    }
   ],
   "source": [
    "def plot_strategy_profit_sum(strategy, trades):\n",
    "    \"\"\" Profit statistics: summary, average \"\"\"\n",
    "    \n",
    "    fig, (ax1, ax2, ax3) = plt.subplots(1, 3)\n",
    "    fig.set_size_inches(plot_figsize)\n",
    "    fig.suptitle(f'{strategy} profit summary')\n",
    "    \n",
    "    buy_profit = trades.loc[trades[\"side\"]==\"BUY\",\"profit\"]\n",
    "    sell_profit = trades.loc[trades[\"side\"]==\"SELL\",\"profit\"]\n",
    "\n",
    "    # Plots\n",
    "    sns.barplot(x=[\"buy\", \"sell\"], y = [buy_profit.sum(), sell_profit.sum()], ax=ax1).set_title(\"sum\")\n",
    "    sns.barplot(x=[\"buy\", \"sell\"], y = [buy_profit.mean(), sell_profit.mean()], ax=ax2).set_title(\"mean\")\n",
    "    sns.barplot(x=[\"buy\", \"sell\"], y = [buy_profit.median(), sell_profit.median()], ax=ax3).set_title(\"median\")\n",
    "    fig.tight_layout()\n",
    "    plt.show()\n",
    "\n",
    "def plot_profit_sum(strategies_trades):\n",
    "    \"\"\" Plot profit statistics for all strategies\"\"\"\n",
    "    for strategy in strategies_trades:\n",
    "        plot_strategy_profit_sum(strategy, strategies_trades[strategy])\n",
    "\n",
    "\n",
    "        \n",
    "plot_profit_sum(strategies_trades)        \n"
   ]
  }
 ],
 "metadata": {
  "kernelspec": {
   "display_name": "Python 3 (ipykernel)",
   "language": "python",
   "name": "python3"
  },
  "language_info": {
   "codemirror_mode": {
    "name": "ipython",
    "version": 3
   },
   "file_extension": ".py",
   "mimetype": "text/x-python",
   "name": "python",
   "nbconvert_exporter": "python",
   "pygments_lexer": "ipython3",
   "version": "3.8.10"
  }
 },
 "nbformat": 4,
 "nbformat_minor": 5
}
